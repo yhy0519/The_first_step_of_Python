{
  "nbformat": 4,
  "nbformat_minor": 0,
  "metadata": {
    "colab": {
      "name": "python11_12_09.ipynb",
      "provenance": [],
      "collapsed_sections": [],
      "mount_file_id": "1hy-J8hyWbivq7hfK_lCXDa1kihHFb0_j",
      "authorship_tag": "ABX9TyP0dwLkt1FFGdd/OsqZEqUU",
      "include_colab_link": true
    },
    "kernelspec": {
      "name": "python3",
      "display_name": "Python 3"
    }
  },
  "cells": [
    {
      "cell_type": "markdown",
      "metadata": {
        "id": "view-in-github",
        "colab_type": "text"
      },
      "source": [
        "<a href=\"https://colab.research.google.com/github/yhy0519/The_first_step_of_Python/blob/main/python11_12_09.ipynb\" target=\"_parent\"><img src=\"https://colab.research.google.com/assets/colab-badge.svg\" alt=\"Open In Colab\"/></a>"
      ]
    },
    {
      "cell_type": "markdown",
      "metadata": {
        "id": "WTTs3Yds8QXi"
      },
      "source": [
        "**■ 90. 문자열에서 특정 문자(열) 위치 찾기 (find)**\r\n",
        "\r\n",
        "문자열 객체의 find() 함수는 문자열에서 특정 문자나 문자열이 위치하는 인덱스를 리턴합니다.   \r\n",
        "find() 에서 찾고자 하는 문자를 입력하면 해당 문자나 문자열이 최초로 나타나는 위치에 대한 \r\n",
        "인덱스를 리턴합니다.\r\n",
        "\r\n",
        "예제:"
      ]
    },
    {
      "cell_type": "code",
      "metadata": {
        "colab": {
          "base_uri": "https://localhost:8080/"
        },
        "id": "zESP2y098URC",
        "outputId": "eb82bf12-cc43-446a-9492-915f4cfa4934"
      },
      "source": [
        "txt = 'A lot of things occur each day'\r\n",
        "\r\n",
        "word_count1 = txt.find('o')\r\n",
        "print( word_count1 )     # 3 이 출력되는데 3은 o 라는 철자가 위치하는 번호를 리턴합니다.\r\n",
        "\r\n",
        "word_count2 = txt.find('day')\r\n",
        "print(word_count2)       # 27 이 출력됨"
      ],
      "execution_count": null,
      "outputs": [
        {
          "output_type": "stream",
          "text": [
            "3\n",
            "27\n"
          ],
          "name": "stdout"
        }
      ]
    },
    {
      "cell_type": "markdown",
      "metadata": {
        "id": "zF2ic7zg8oq0"
      },
      "source": [
        "설명: find 는 오라클의 instr 함수처럼 해당 자리의 인덱스 번호를 출력하는 문자열 함수입니다."
      ]
    },
    {
      "cell_type": "markdown",
      "metadata": {
        "id": "KHoLBKN79H80"
      },
      "source": [
        ""
      ]
    },
    {
      "cell_type": "markdown",
      "metadata": {
        "id": "OKJFmhww9HnT"
      },
      "source": [
        ""
      ]
    },
    {
      "cell_type": "markdown",
      "metadata": {
        "id": "t7EpUp9p9LHt"
      },
      "source": [
        "문제284. 우리반 데이터(emp122.csv) 를 파이썬으로 로드해서 이메일만 출력하시오!"
      ]
    },
    {
      "cell_type": "code",
      "metadata": {
        "id": "jMfz2FS99Lh9"
      },
      "source": [
        "import csv\r\n",
        "\r\n",
        "file = open('/content/drive/MyDrive/data/emp122.csv')\r\n",
        "emp12_csv = csv.reader(file)\r\n",
        "\r\n",
        "for emp12_list in emp12_csv:\r\n",
        "    print(emp12_list[6])"
      ],
      "execution_count": null,
      "outputs": []
    },
    {
      "cell_type": "markdown",
      "metadata": {
        "id": "qulMAoMi_1XH"
      },
      "source": [
        ""
      ]
    },
    {
      "cell_type": "markdown",
      "metadata": {
        "id": "4_5UZIPi_1N3"
      },
      "source": [
        ""
      ]
    },
    {
      "cell_type": "markdown",
      "metadata": {
        "id": "T4TMsSzq_1tA"
      },
      "source": [
        "문제285. 위서 출력한 이메일에서 @ 의 위치 인덱스 번호를 출력하시오!"
      ]
    },
    {
      "cell_type": "code",
      "metadata": {
        "colab": {
          "base_uri": "https://localhost:8080/"
        },
        "id": "-awv37mx_3qq",
        "outputId": "21b30ab6-a1e2-4116-d71f-a82a810a811b"
      },
      "source": [
        "import csv\r\n",
        "\r\n",
        "file = open('/content/drive/MyDrive/data/emp122.csv')\r\n",
        "emp12_csv = csv.reader(file)\r\n",
        "\r\n",
        "for emp12_list in emp12_csv:\r\n",
        "    print(emp12_list[6].find('@'))"
      ],
      "execution_count": null,
      "outputs": [
        {
          "output_type": "stream",
          "text": [
            "-1\n",
            "7\n",
            "8\n",
            "8\n",
            "9\n",
            "8\n",
            "12\n",
            "10\n",
            "11\n",
            "14\n",
            "11\n",
            "9\n",
            "6\n",
            "11\n",
            "7\n",
            "10\n",
            "9\n",
            "9\n",
            "8\n",
            "8\n",
            "6\n",
            "9\n",
            "10\n",
            "9\n",
            "11\n",
            "8\n",
            "8\n",
            "6\n",
            "8\n",
            "10\n",
            "11\n"
          ],
          "name": "stdout"
        }
      ]
    },
    {
      "cell_type": "markdown",
      "metadata": {
        "id": "F96gUWho_-rI"
      },
      "source": [
        ""
      ]
    },
    {
      "cell_type": "markdown",
      "metadata": {
        "id": "wONWxea3_-hH"
      },
      "source": [
        ""
      ]
    },
    {
      "cell_type": "markdown",
      "metadata": {
        "id": "skL6fkqkAAk_"
      },
      "source": [
        "문제286. 이번에는 이메일에서 . 의 위치 인덱스를 출력하시오 !"
      ]
    },
    {
      "cell_type": "code",
      "metadata": {
        "colab": {
          "base_uri": "https://localhost:8080/"
        },
        "id": "xbA9PM5kAAJi",
        "outputId": "89977cf4-b68d-4736-bdfe-2ac6c5784e70"
      },
      "source": [
        "import csv\r\n",
        "\r\n",
        "file = open('/content/drive/MyDrive/data/emp122.csv')\r\n",
        "emp12_csv = csv.reader(file)\r\n",
        "\r\n",
        "for emp12_list in emp12_csv:\r\n",
        "    print(emp12_list[6].find('.'))"
      ],
      "execution_count": null,
      "outputs": [
        {
          "output_type": "stream",
          "text": [
            "-1\n",
            "13\n",
            "14\n",
            "14\n",
            "15\n",
            "14\n",
            "18\n",
            "16\n",
            "17\n",
            "7\n",
            "17\n",
            "15\n",
            "12\n",
            "17\n",
            "15\n",
            "16\n",
            "15\n",
            "15\n",
            "14\n",
            "14\n",
            "12\n",
            "15\n",
            "16\n",
            "15\n",
            "17\n",
            "14\n",
            "14\n",
            "12\n",
            "13\n",
            "16\n",
            "17\n"
          ],
          "name": "stdout"
        }
      ]
    },
    {
      "cell_type": "markdown",
      "metadata": {
        "id": "-1hFPLQkAHh3"
      },
      "source": [
        ""
      ]
    },
    {
      "cell_type": "markdown",
      "metadata": {
        "id": "ImxwxVcmAHZv"
      },
      "source": [
        ""
      ]
    },
    {
      "cell_type": "markdown",
      "metadata": {
        "id": "FFlCRKU1AHR4"
      },
      "source": [
        "문제287. 이번에는 이메일을 출력하는데 이메일의 첫번째 철자부터 세번째 철자까지만 출력하시오 !"
      ]
    },
    {
      "cell_type": "code",
      "metadata": {
        "id": "nwo1iF1zAIyP"
      },
      "source": [
        "import csv\r\n",
        "\r\n",
        "file = open('/content/drive/MyDrive/data/emp122.csv')\r\n",
        "emp12_csv = csv.reader(file)\r\n",
        "\r\n",
        "for emp12_list in emp12_csv:\r\n",
        "    print(emp12_list[6][:3])"
      ],
      "execution_count": null,
      "outputs": []
    },
    {
      "cell_type": "markdown",
      "metadata": {
        "id": "ZB1A9oYIARgM"
      },
      "source": [
        ""
      ]
    },
    {
      "cell_type": "markdown",
      "metadata": {
        "id": "j0uw5zw9ARZD"
      },
      "source": [
        ""
      ]
    },
    {
      "cell_type": "markdown",
      "metadata": {
        "id": "vs1_G2k9ARSH"
      },
      "source": [
        "문제288. 우리반 데이터 이메일을 출력하는데 이메일에서 도메인만 출력하시오 !\r\n",
        "\r\n",
        "    gmail\r\n",
        "    naver\r\n",
        "       :\r\n"
      ]
    },
    {
      "cell_type": "code",
      "metadata": {
        "colab": {
          "base_uri": "https://localhost:8080/"
        },
        "id": "WovbAjZfAVXe",
        "outputId": "8e2496c1-bd99-46eb-b8a8-67feeeed574c"
      },
      "source": [
        "import csv\r\n",
        "\r\n",
        "file = open('/content/drive/MyDrive/data/emp122.csv')\r\n",
        "emp12_csv = csv.reader(file)\r\n",
        "\r\n",
        "for emp12_list in emp12_csv:\r\n",
        "    a = emp12_list[6].find('@')\r\n",
        "    b = emp12_list[6].find('.')\r\n",
        "    print(emp12_list[6][a+1:b])"
      ],
      "execution_count": null,
      "outputs": [
        {
          "output_type": "stream",
          "text": [
            "EMAI\n",
            "naver\n",
            "naver\n",
            "naver\n",
            "gmail\n",
            "naver\n",
            "naver\n",
            "gmail\n",
            "gmail\n",
            "\n",
            "naver\n",
            "naver\n",
            "naver\n",
            "gmail\n",
            "hanmail\n",
            "naver\n",
            "naver\n",
            "naver\n",
            "naver\n",
            "naver\n",
            "naver\n",
            "naver\n",
            "naver\n",
            "gmail\n",
            "naver\n",
            "naver\n",
            "naver\n",
            "gmail\n",
            "nate\n",
            "naver\n",
            "naver\n"
          ],
          "name": "stdout"
        }
      ]
    },
    {
      "cell_type": "markdown",
      "metadata": {
        "id": "jaY0VEsLA5eD"
      },
      "source": [
        ""
      ]
    },
    {
      "cell_type": "markdown",
      "metadata": {
        "id": "eY2349p5A5QV"
      },
      "source": [
        ""
      ]
    },
    {
      "cell_type": "markdown",
      "metadata": {
        "id": "ffzzah5uA5JW"
      },
      "source": [
        "문제289. @ 전에 .이 위치하고 있다면 어떻게 해야하는가?"
      ]
    },
    {
      "cell_type": "code",
      "metadata": {
        "colab": {
          "base_uri": "https://localhost:8080/"
        },
        "id": "9Oe9CIvAA45p",
        "outputId": "89625286-edef-4de7-956a-63e0be08edd1"
      },
      "source": [
        "import csv\r\n",
        "\r\n",
        "file = open('/content/drive/MyDrive/data/emp122.csv')\r\n",
        "emp12_csv = csv.reader(file)\r\n",
        "\r\n",
        "for emp12_list in emp12_csv:\r\n",
        "    result = emp12_list[6][emp12_list[6].find('@')+1:]       # @ 이가 위치한 자리 이후를 result 변수에 할당\r\n",
        "    a = result.find('.')                                     # 처음 나오는 '.' 의 위치를 a 변수에 할당\r\n",
        "    print( result[:a] )                                      # @ 이가 위치한 자리 이후부터 '.' 위치 전까지를 출력"
      ],
      "execution_count": null,
      "outputs": [
        {
          "output_type": "stream",
          "text": [
            "EMAI\n",
            "naver\n",
            "naver\n",
            "naver\n",
            "gmail\n",
            "naver\n",
            "naver\n",
            "gmail\n",
            "gmail\n",
            "gmail\n",
            "naver\n",
            "naver\n",
            "naver\n",
            "gmail\n",
            "hanmail\n",
            "naver\n",
            "naver\n",
            "naver\n",
            "naver\n",
            "naver\n",
            "naver\n",
            "naver\n",
            "naver\n",
            "gmail\n",
            "naver\n",
            "naver\n",
            "naver\n",
            "gmail\n",
            "nate\n",
            "naver\n",
            "naver\n"
          ],
          "name": "stdout"
        }
      ]
    },
    {
      "cell_type": "markdown",
      "metadata": {
        "id": "jF7pO51EBybJ"
      },
      "source": [
        ""
      ]
    },
    {
      "cell_type": "markdown",
      "metadata": {
        "id": "4ahu-nByByUf"
      },
      "source": [
        ""
      ]
    },
    {
      "cell_type": "markdown",
      "metadata": {
        "id": "2aEyg94PByNJ"
      },
      "source": [
        "문제290. rfind도 domain.co.kr 같은곳은 domain.co까지 끊겨서 문제생기지 않을까요?"
      ]
    },
    {
      "cell_type": "code",
      "metadata": {
        "id": "KYYVCwnCC1Um"
      },
      "source": [
        "import csv\r\n",
        "\r\n",
        "file = open('/content/drive/MyDrive/data/emp122.csv')\r\n",
        "emp12_csv = csv.reader(file)\r\n",
        "\r\n",
        "for emp12_list in emp12_csv:\r\n",
        "    result = emp12_list[6][emp12_list[6].find('@')+1:]       # @ 이가 위치한 자리 이후를 result 변수에 할당\r\n",
        "    a = result.find('.')                                     # 처음 나오는 '.' 의 위치를 a 변수에 할당\r\n",
        "    print( result[:a] )                                      # @ 이가 위치한 자리 이후부터 '.' 위치 전까지를 출력"
      ],
      "execution_count": null,
      "outputs": []
    },
    {
      "cell_type": "markdown",
      "metadata": {
        "id": "vvAPmbcfC-eq"
      },
      "source": [
        ""
      ]
    },
    {
      "cell_type": "markdown",
      "metadata": {
        "id": "urPoQsJJC-X2"
      },
      "source": [
        ""
      ]
    },
    {
      "cell_type": "markdown",
      "metadata": {
        "id": "e-yr8nTtC-Hj"
      },
      "source": [
        "**■ 91. 문자열을 특정 문자(열)로 분리하기(split)** \r\n",
        "\r\n",
        "코드를 작성할 때 가장 많이 접하게 되는 경우가 구분자(separator)로 구분되어있는 문자열 파싱(parsing) 을 하는 일입니다.  \r\n",
        "이 때 문자열 객체의 split() 를 활용하면 구분자를 기준으로 문자열을 쉽게 분리하여 파싱할 수 있습니다."
      ]
    },
    {
      "cell_type": "markdown",
      "metadata": {
        "id": "yVrO3UPPDFNn"
      },
      "source": [
        ""
      ]
    },
    {
      "cell_type": "code",
      "metadata": {
        "colab": {
          "base_uri": "https://localhost:8080/"
        },
        "id": "m85ROxeKDDc_",
        "outputId": "899c008d-34b4-42bd-9730-4f63bbc8e12c"
      },
      "source": [
        "a = ''' 1,\"홍길동\",20,\"남\",\"경제학과\" '''\r\n",
        "print(a)       \r\n",
        "\r\n",
        "result = a.split(',')\r\n",
        "print(result)"
      ],
      "execution_count": null,
      "outputs": [
        {
          "output_type": "stream",
          "text": [
            " 1,\"홍길동\",20,\"남\",\"경제학과\" \n",
            "[' 1', '\"홍길동\"', '20', '\"남\"', '\"경제학과\" ']\n"
          ],
          "name": "stdout"
        }
      ]
    },
    {
      "cell_type": "markdown",
      "metadata": {
        "id": "AR5tf7k4DL-a"
      },
      "source": [
        "설명: 1,\"홍길동\",20,\"남\",\"경제학과\"  \r\n",
        "\t이 데이터를 문자열 변수에 할당하고 싶은데 문자열들 중에 더블 쿼테이션 마크가 있다면 양쪽에 싱글 쿼테이션(') 마크를 3개를 써서 둘러줘야 합니다."
      ]
    },
    {
      "cell_type": "markdown",
      "metadata": {
        "id": "kenKgwmNDQOg"
      },
      "source": [
        ""
      ]
    },
    {
      "cell_type": "markdown",
      "metadata": {
        "id": "bhwYMPQvDUuX"
      },
      "source": [
        "** 정리\r\n",
        " 1. 문자열 a = 문자열.split(',') \r\n",
        "\r\n",
        "        문자열을 콤마(,)로 구분해서 구분하는 문자들을 요소로 해서 a 리스트에 담는다.\r\n",
        " 2. 문자열 a = 문자열.split(' ')\r\n",
        "\r\n",
        "        문자열을 공백으로 구분해서 구분하는 문자들을 요소로 해서 a 리스트에 담는다. \r\n",
        " 3. 문자열 a = 문자열.split() \r\n",
        "\r\n",
        "        문자열을 어절별로 구분해서 구분하는 문자들을 요소로 해서 a 리스트에 담는다. \r\n"
      ]
    },
    {
      "cell_type": "markdown",
      "metadata": {
        "id": "EroLvHAHDQuh"
      },
      "source": [
        ""
      ]
    },
    {
      "cell_type": "markdown",
      "metadata": {
        "id": "WvYxiXR3DeNc"
      },
      "source": [
        ""
      ]
    },
    {
      "cell_type": "markdown",
      "metadata": {
        "id": "vnoV7_SKDf9m"
      },
      "source": [
        "문제291. 아래의 url 변수에 있는 문자열은 슬래시(/) 로 구분되어있는데 이 문자열의 요소를\r\n",
        "\t     아래의 리스트 처럼 구성하시오!\r\n",
        "\t\r\n",
        "    url = 'http://www.naver.com/news/today=20191204'\r\n",
        "\r\n",
        "    결과: ['http:', '', 'www.naver.com', 'news', 'today=20191204']\r\n"
      ]
    },
    {
      "cell_type": "code",
      "metadata": {
        "colab": {
          "base_uri": "https://localhost:8080/"
        },
        "id": "MjIzz6ogDkT3",
        "outputId": "17eadce2-0ddd-4f94-b4b7-914c91534257"
      },
      "source": [
        "url = 'http://www.naver.com/news/today=20191204'\r\n",
        "result = url.split('/')\r\n",
        "print(result)"
      ],
      "execution_count": null,
      "outputs": [
        {
          "output_type": "stream",
          "text": [
            "['http:', '', 'www.naver.com', 'news', 'today=20191204']\n"
          ],
          "name": "stdout"
        }
      ]
    },
    {
      "cell_type": "markdown",
      "metadata": {
        "id": "XLx5DrNCD9ys"
      },
      "source": [
        ""
      ]
    },
    {
      "cell_type": "markdown",
      "metadata": {
        "id": "K0hOdgkND9rv"
      },
      "source": [
        ""
      ]
    },
    {
      "cell_type": "markdown",
      "metadata": {
        "id": "1Z3XdVpHD9lM"
      },
      "source": [
        "**■ 92. 문자열을 특정 문자(열)로 결합하기(join)**\r\n",
        "\r\n",
        "문자열 객체의 join() 메소드는 split() 와는 반대로 문자열이 요소인 리스트를 인자로 받아  \r\n",
        "리스트 모든 요소를 특정 문자열로 연결하여 새로운 문자열로 만들어 리턴합니다.\r\n",
        "\r\n",
        "예제:"
      ]
    },
    {
      "cell_type": "code",
      "metadata": {
        "colab": {
          "base_uri": "https://localhost:8080/"
        },
        "id": "nJjo__m3EB4T",
        "outputId": "6c4fc790-32c7-4f8a-c57d-3814468a04d7"
      },
      "source": [
        "a = ['http:', '', 'www.naver.com', 'news', 'today=20191204']\r\n",
        "bond = '/'\r\n",
        "url = bond.join(a)\r\n",
        "print(url)"
      ],
      "execution_count": null,
      "outputs": [
        {
          "output_type": "stream",
          "text": [
            "http://www.naver.com/news/today=20191204\n"
          ],
          "name": "stdout"
        }
      ]
    },
    {
      "cell_type": "markdown",
      "metadata": {
        "id": "nyZ5MFa1EIGL"
      },
      "source": [
        "설명: 문자열 함수인 join 을 이용해서 리스트의 요소를 불러와서 다시 문자열로 만들 수 있습니다."
      ]
    },
    {
      "cell_type": "markdown",
      "metadata": {
        "id": "fCUC2CTyEIsK"
      },
      "source": [
        ""
      ]
    },
    {
      "cell_type": "markdown",
      "metadata": {
        "id": "xzMZAfDsEJBT"
      },
      "source": [
        ""
      ]
    },
    {
      "cell_type": "markdown",
      "metadata": {
        "id": "-ugDKqN2EJh7"
      },
      "source": [
        "문제292. 우리반 데이터에서 이름만 출력하시오 !"
      ]
    },
    {
      "cell_type": "code",
      "metadata": {
        "id": "t_9UWg4xEK8L"
      },
      "source": [
        "import csv\r\n",
        "\r\n",
        "file = open('/content/drive/MyDrive/data/emp122.csv')\r\n",
        "emp12_csv = csv.reader(file)\r\n",
        "\r\n",
        "for emp12_list in emp12_csv:\r\n",
        "    print(emp12_list[1])"
      ],
      "execution_count": null,
      "outputs": []
    },
    {
      "cell_type": "markdown",
      "metadata": {
        "id": "s3TzpxfeESov"
      },
      "source": [
        ""
      ]
    },
    {
      "cell_type": "markdown",
      "metadata": {
        "id": "xJOUv9UaESib"
      },
      "source": [
        ""
      ]
    },
    {
      "cell_type": "markdown",
      "metadata": {
        "id": "oV4NLnw8EScM"
      },
      "source": [
        "문제293. emp1222.csv 를 이용해서 이름을 a 라는 비어있는 리스트에 담고 a 리스트를 출력하시오 !"
      ]
    },
    {
      "cell_type": "code",
      "metadata": {
        "id": "CGT3qISEEWQP"
      },
      "source": [
        "import csv\r\n",
        "\r\n",
        "file = open('/content/drive/MyDrive/data/emp1222.csv', encoding='cp949')\r\n",
        "emp12_csv = csv.reader(file)\r\n",
        "\r\n",
        "a = []\r\n",
        "for emp12_list in emp12_csv:\r\n",
        "    a.append(emp12_list[1])\r\n",
        "\r\n",
        "print(a)"
      ],
      "execution_count": null,
      "outputs": []
    },
    {
      "cell_type": "markdown",
      "metadata": {
        "id": "Y-AEIaTqE1A8"
      },
      "source": [
        ""
      ]
    },
    {
      "cell_type": "markdown",
      "metadata": {
        "id": "P3H9mW9yE06Y"
      },
      "source": [
        ""
      ]
    },
    {
      "cell_type": "markdown",
      "metadata": {
        "id": "RJ1pvXWtE000"
      },
      "source": [
        "문제294. 위의 a 리스트에 담겨진 이름을 하나씩 뽑아서 콤마(,)로 연결해서 문자열로 출력되게하시오"
      ]
    },
    {
      "cell_type": "code",
      "metadata": {
        "id": "LWw9H7_nE4n8"
      },
      "source": [
        "import csv\r\n",
        "\r\n",
        "file = open('/content/drive/MyDrive/data/emp1222.csv', encoding='cp949')\r\n",
        "emp12_csv = csv.reader(file)\r\n",
        "\r\n",
        "a = []\r\n",
        "for emp12_list in emp12_csv:\r\n",
        "    a.append(emp12_list[1])\r\n",
        "\r\n",
        "bond=','\r\n",
        "result = bond.join(a)\r\n",
        "print(result)"
      ],
      "execution_count": null,
      "outputs": []
    },
    {
      "cell_type": "markdown",
      "metadata": {
        "id": "FYH2uKV8FJaz"
      },
      "source": [
        ""
      ]
    },
    {
      "cell_type": "markdown",
      "metadata": {
        "id": "BKqO_C8AFJSe"
      },
      "source": [
        ""
      ]
    },
    {
      "cell_type": "markdown",
      "metadata": {
        "id": "MDKjz-60FJLb"
      },
      "source": [
        "문제295. 위의 결과를 한글 정렬 해서 출력하시오~ ㄱ, ㄴ, ㄷ, …."
      ]
    },
    {
      "cell_type": "code",
      "metadata": {
        "id": "yQC1ElP9FKCT"
      },
      "source": [
        "import csv\r\n",
        "\r\n",
        "file = open('/content/drive/MyDrive/data/emp1222.csv', encoding='cp949')\r\n",
        "emp12_csv = csv.reader(file)\r\n",
        "\r\n",
        "a = []\r\n",
        "for emp12_list in emp12_csv:\r\n",
        "    a.append(emp12_list[1])\r\n",
        "\r\n",
        "a.sort()          # a 리스트 안에 요소를 정렬합니다.\r\n",
        "bond=','\r\n",
        "result = bond.join(a)\r\n",
        "print(result)"
      ],
      "execution_count": null,
      "outputs": []
    },
    {
      "cell_type": "markdown",
      "metadata": {
        "id": "d0yCqtIoFUxO"
      },
      "source": [
        ""
      ]
    },
    {
      "cell_type": "markdown",
      "metadata": {
        "id": "F58Pm1_aFUpJ"
      },
      "source": [
        ""
      ]
    },
    {
      "cell_type": "markdown",
      "metadata": {
        "id": "m2vXquHtFUfD"
      },
      "source": [
        "**■ 93. 문자열에서 특정 문자(열)를 다른 문자(열)로 바꾸기(replace)**\r\n",
        "\r\n",
        "문자열 객체의 replace() 메소드는 문자열에서 특정 문자나 문자열을 다른 문자나 문자열로 변경합니다.\r\n",
        "\r\n",
        "예제:"
      ]
    },
    {
      "cell_type": "code",
      "metadata": {
        "colab": {
          "base_uri": "https://localhost:8080/"
        },
        "id": "Vugyn6BwFaQr",
        "outputId": "f70f61f0-d0d0-46eb-c677-c1460102e511"
      },
      "source": [
        "txt = 'My password is 1234'\r\n",
        "result = txt.replace('1', '0')     # txt 문자열의 숫자 1을 숫자 0으로 변경해라\r\n",
        "print(result)"
      ],
      "execution_count": null,
      "outputs": [
        {
          "output_type": "stream",
          "text": [
            "My password is 0234\n"
          ],
          "name": "stdout"
        }
      ]
    },
    {
      "cell_type": "markdown",
      "metadata": {
        "id": "fQAdp9LJFeaq"
      },
      "source": [
        ""
      ]
    },
    {
      "cell_type": "markdown",
      "metadata": {
        "id": "rGTSAZoEFeTD"
      },
      "source": [
        ""
      ]
    },
    {
      "cell_type": "markdown",
      "metadata": {
        "id": "SPLkK6zAFeJ9"
      },
      "source": [
        "문제296. emp2.csv 에서 이름과 월급을 출력하는데 월급을 출력할 때 0 대신에 * 로 출력하시오!\r\n",
        "\r\n",
        "    SCOTT 3***\r\n",
        "    SMITH 125*\r\n",
        "       :    :\r\n"
      ]
    },
    {
      "cell_type": "code",
      "metadata": {
        "colab": {
          "base_uri": "https://localhost:8080/"
        },
        "id": "jxAehf1IFk8t",
        "outputId": "6cb87a6f-d8db-4dd3-eeb0-06eeef6614bd"
      },
      "source": [
        "import csv\r\n",
        "\r\n",
        "file = open(\"/content/drive/MyDrive/data/emp2.csv\")\r\n",
        "emp_csv = csv.reader(file)\r\n",
        "\r\n",
        "for emp_list in emp_csv:\r\n",
        "    result = emp_list[5].replace('0','*')\r\n",
        "    print(emp_list[1], result)"
      ],
      "execution_count": null,
      "outputs": [
        {
          "output_type": "stream",
          "text": [
            "KING 5***\n",
            "BLAKE 285*\n",
            "CLARK 245*\n",
            "JONES 2975\n",
            "MARTIN 125*\n",
            "ALLEN 16**\n",
            "TURNER 15**\n",
            "JAMES 95*\n",
            "WARD 125*\n",
            "FORD 3***\n",
            "SMITH 8**\n",
            "SCOTT 3***\n",
            "ADAMS 11**\n",
            "MILLER 13**\n"
          ],
          "name": "stdout"
        }
      ]
    },
    {
      "cell_type": "markdown",
      "metadata": {
        "id": "KxzFlBx6FkfD"
      },
      "source": [
        ""
      ]
    },
    {
      "cell_type": "markdown",
      "metadata": {
        "id": "INf994eyGVqz"
      },
      "source": [
        ""
      ]
    },
    {
      "cell_type": "markdown",
      "metadata": {
        "id": "afH5rjBBGVSh"
      },
      "source": [
        "문제297. 아래의 리스트를 가지고 아래와 같이 출력하시오 !\r\n",
        "\r\n",
        "    a = [ 'name:홍길동', 'age:17', 'major:경영학', 'nation:한국' ]\r\n",
        "\r\n",
        "결과:\r\n",
        "\r\n",
        "    name ---> 홍길동\r\n",
        "    age ---> 17\r\n",
        "    major ---> 경영학\r\n",
        "    nation ---> 한국"
      ]
    },
    {
      "cell_type": "code",
      "metadata": {
        "colab": {
          "base_uri": "https://localhost:8080/"
        },
        "id": "NYlbQ3vqGihp",
        "outputId": "aef30382-c844-40ee-85ed-107f54326966"
      },
      "source": [
        "a = [ 'name:홍길동', 'age:17', 'major:경영학', 'nation:한국' ]\r\n",
        "\r\n",
        "for i in a:\r\n",
        "    print(i.replace(':', ' ---> '))"
      ],
      "execution_count": null,
      "outputs": [
        {
          "output_type": "stream",
          "text": [
            "name ---> 홍길동\n",
            "age ---> 17\n",
            "major ---> 경영학\n",
            "nation ---> 한국\n"
          ],
          "name": "stdout"
        }
      ]
    },
    {
      "cell_type": "markdown",
      "metadata": {
        "id": "mMenk3XxG17h"
      },
      "source": [
        ""
      ]
    },
    {
      "cell_type": "markdown",
      "metadata": {
        "id": "N_5E_NvlG11f"
      },
      "source": [
        ""
      ]
    },
    {
      "cell_type": "markdown",
      "metadata": {
        "id": "W2rax8bdG1vx"
      },
      "source": [
        "**■ 94. 문자열을 바이트 객체로 바꾸기(encode)**\r\n",
        "\r\n",
        "인코딩이란?\r\n",
        "\r\n",
        "인코딩이란 사람이 인지할 수 있는 형태의 데이터를 약속된 규칙에 의해 컴퓨터가 사용하는 0과 1로 변환하는 과정을 말합니다.  \r\n",
        "컴퓨터의 발명, 발전이 미국의 학계와 기업을 중심으로 이루어지다 보니\r\n",
        "문자 집합도 미국을 기준으로 제정되었습니다.  \r\n",
        "미국에서 제정된 ASCII(미국 정보 교환 표준부호)는 1960년대에 제정된 문자집합으로 이후 개발된 문자 집합의 토대를 이루고 있습니다. ASCII 는 7 비트만을 이용해서 음이 아닌수 (0~127)의 문자집합내의 문자 할당 약속입니다."
      ]
    },
    {
      "cell_type": "markdown",
      "metadata": {
        "id": "lFvxhrosHDjS"
      },
      "source": [
        ""
      ]
    },
    {
      "cell_type": "markdown",
      "metadata": {
        "id": "GrdugtBiHD46"
      },
      "source": [
        "예제: A 는 숫자 65 입니다. a 는 숫자 97 입니다.\r\n",
        "\r\n",
        "구글에서 아스키 코드표를 검색해보세요"
      ]
    },
    {
      "cell_type": "markdown",
      "metadata": {
        "id": "Nr52TGO9HONk"
      },
      "source": [
        ""
      ]
    },
    {
      "cell_type": "markdown",
      "metadata": {
        "id": "z7TXMyT5HOE-"
      },
      "source": [
        "예제: chr 함수를 이용해서 숫자 65부터 127까지가 어떤 문자인지 출력하시오 !"
      ]
    },
    {
      "cell_type": "code",
      "metadata": {
        "colab": {
          "base_uri": "https://localhost:8080/"
        },
        "id": "DKS0F-0ZG9EZ",
        "outputId": "b94c7571-fde6-46b5-cc10-6a2ed8d0a57f"
      },
      "source": [
        "for i in range(65, 128):\r\n",
        "    print( i, ' ---> ', chr(i) )"
      ],
      "execution_count": null,
      "outputs": [
        {
          "output_type": "stream",
          "text": [
            "65  --->  A\n",
            "66  --->  B\n",
            "67  --->  C\n",
            "68  --->  D\n",
            "69  --->  E\n",
            "70  --->  F\n",
            "71  --->  G\n",
            "72  --->  H\n",
            "73  --->  I\n",
            "74  --->  J\n",
            "75  --->  K\n",
            "76  --->  L\n",
            "77  --->  M\n",
            "78  --->  N\n",
            "79  --->  O\n",
            "80  --->  P\n",
            "81  --->  Q\n",
            "82  --->  R\n",
            "83  --->  S\n",
            "84  --->  T\n",
            "85  --->  U\n",
            "86  --->  V\n",
            "87  --->  W\n",
            "88  --->  X\n",
            "89  --->  Y\n",
            "90  --->  Z\n",
            "91  --->  [\n",
            "92  --->  \\\n",
            "93  --->  ]\n",
            "94  --->  ^\n",
            "95  --->  _\n",
            "96  --->  `\n",
            "97  --->  a\n",
            "98  --->  b\n",
            "99  --->  c\n",
            "100  --->  d\n",
            "101  --->  e\n",
            "102  --->  f\n",
            "103  --->  g\n",
            "104  --->  h\n",
            "105  --->  i\n",
            "106  --->  j\n",
            "107  --->  k\n",
            "108  --->  l\n",
            "109  --->  m\n",
            "110  --->  n\n",
            "111  --->  o\n",
            "112  --->  p\n",
            "113  --->  q\n",
            "114  --->  r\n",
            "115  --->  s\n",
            "116  --->  t\n",
            "117  --->  u\n",
            "118  --->  v\n",
            "119  --->  w\n",
            "120  --->  x\n",
            "121  --->  y\n",
            "122  --->  z\n",
            "123  --->  {\n",
            "124  --->  |\n",
            "125  --->  }\n",
            "126  --->  ~\n",
            "127  --->  \n"
          ],
          "name": "stdout"
        }
      ]
    },
    {
      "cell_type": "markdown",
      "metadata": {
        "id": "QZ9MPKxDHbAR"
      },
      "source": [
        ""
      ]
    },
    {
      "cell_type": "markdown",
      "metadata": {
        "id": "gVvtUiojHa4c"
      },
      "source": [
        ""
      ]
    },
    {
      "cell_type": "markdown",
      "metadata": {
        "id": "p7COi-yeHavc"
      },
      "source": [
        "이 아스키 코드표로 미국 엔지니어들은 행복하게 살아가고 있었지만\r\n",
        "다른 나라 사람들은 그러지 못했습니다.\r\n",
        "\r\n",
        " 1. 서유럽 국가  \r\n",
        "\r\n",
        "        독일어의 움라우트, 스페인어의 물결표, 터키어의 시딜러, 프랑스어의 악센트 는 7 비트로 표현 못합니다.\r\n",
        "\r\n",
        " 2. 아시아  \r\n",
        "        아시아에서는 한자, 일본어, 한글이 7비트에 들어맞지가 않았습니다.\r\n",
        "        더 큰 문자셋이 필요했는데 16 비트로된 문자집합을 제공해서 해결했습니다.\r\n",
        "        그 문자 집합 셋이 바로 CP949, EUC-KR 입니다.\r\n",
        "\r\n",
        "   file = open(\"c:\\\\data\\\\emp1222.csv\", encoding=\"CP949\")\r\n",
        "\r\n",
        "        포스코 더 샾 아파트에서 사는 사람들의 주소를 컴퓨터 입력할 때\r\n",
        "        어떻게 보이냐면 포스코 더 ? 아파트로 보였다.   \r\n",
        "        그래서 해결한게 바로 유니코드 문자 집합셋입니다.   \r\n",
        "        바로 그게 UTF8 , UTF16 입니다.\r\n",
        "\r\n",
        "   file = open(\"c:\\\\data\\\\emp1222.csv\", encoding=\"UTF8\")\r\n",
        "\r\n",
        "        파이썬에서 한글이 ?? 로 출력이 되면 UTF8 로 인코딩하면 됩니다."
      ]
    },
    {
      "cell_type": "markdown",
      "metadata": {
        "id": "Az2YrmCJIdbK"
      },
      "source": [
        ""
      ]
    },
    {
      "cell_type": "markdown",
      "metadata": {
        "id": "18UJiIcAIdVH"
      },
      "source": [
        ""
      ]
    },
    {
      "cell_type": "markdown",
      "metadata": {
        "id": "308x0roCIXUP"
      },
      "source": [
        "문제298. 우리반 데이터에서 이름을 출력하는데 아래와 같이 나이도 출력되게하시오!\r\n",
        "\r\n",
        "    홍길동(25), 춘향이(36), …"
      ]
    },
    {
      "cell_type": "code",
      "metadata": {
        "id": "Wz5dF-_gIc1z"
      },
      "source": [
        "import csv\r\n",
        "\r\n",
        "file = open('/content/drive/MyDrive/data/emp1222.csv', encoding='cp949')\r\n",
        "emp12_csv = csv.reader(file)\r\n",
        "\r\n",
        "a = []\r\n",
        "for emp12_list in emp12_csv:\r\n",
        "    a.append(emp12_list[1]+'('+emp12_list[2]+')')\r\n",
        "\r\n",
        "a.sort()\r\n",
        "bond=','\r\n",
        "result = bond.join(a)\r\n",
        "print(result)"
      ],
      "execution_count": null,
      "outputs": []
    },
    {
      "cell_type": "markdown",
      "metadata": {
        "id": "wuXD7MUCI5m-"
      },
      "source": [
        ""
      ]
    },
    {
      "cell_type": "markdown",
      "metadata": {
        "id": "bBAkxN52I5ea"
      },
      "source": [
        ""
      ]
    },
    {
      "cell_type": "markdown",
      "metadata": {
        "id": "UmYCq_Q4I5Wa"
      },
      "source": [
        "**■ 95. 바이트 객체를 문자열로 바꾸기(decode)**\r\n",
        "\r\n",
        "file = open(\"c:\\\\data\\\\emp1222.csv\", encoding = \"UTF8\")\r\n",
        "\r\n",
        "인코딩(encoding) ?\r\n",
        "\r\n",
        "    사람이 알아볼 수 있는 언어  ----->  컴퓨터가 알아볼 수 있는 언어(숫자)\r\n",
        "\r\n",
        "디코딩(decoding) ?\r\n",
        "\r\n",
        "    컴퓨터 알아 볼 수 있는 언어 ----->  사람이 알아볼 수 있는 언어\r\n",
        "\r\n",
        "예제:"
      ]
    },
    {
      "cell_type": "code",
      "metadata": {
        "colab": {
          "base_uri": "https://localhost:8080/"
        },
        "id": "Eh6XU24DJbdZ",
        "outputId": "b64d22c9-ef12-4d57-987f-d6e53a606710"
      },
      "source": [
        "txt = 'A'\r\n",
        "b_txt = txt.encode()    # txt 변수에 들어있는 대문자 A 를 인코딩한다.\r\n",
        "print(b_txt)            #  b'A' ---> binary 'A' 라는 뜻   /  binary(이진) : 0과 1로 표현하는 데이터\r\n",
        "                        # 컴퓨터가 알아볼 수있는 바이너리 데이터\r\n",
        "\r\n",
        "print(txt)                 # 사람이 알아볼 수 있는 언어인 알파벳 A\r\n",
        "c_txt = b_txt.decode()     # 컴퓨터가 알아볼 수 있는 언어 ---> 사람이 알아볼 수 있는 언어로 변경\r\n",
        "\r\n",
        "print(c_txt)   # A\r\n",
        "\r\n",
        "file = open(\"/content/drive/MyDrive/data/emp1222.csv\", encoding = \"UTF8\")"
      ],
      "execution_count": null,
      "outputs": [
        {
          "output_type": "stream",
          "text": [
            "b'A'\n",
            "A\n",
            "A\n"
          ],
          "name": "stdout"
        }
      ]
    },
    {
      "cell_type": "markdown",
      "metadata": {
        "id": "BHx6qqAfJdGr"
      },
      "source": [
        "설명: emp1222.csv 를 파이썬으로 로드하는데 파이썬으로 load 하려면 컴퓨터가 알아볼 수 있는 언어로 변경해야 합니다.  \r\n",
        "이때 문자집합셋을 유니코드 문자집합셋인 UTF8 을 이용해서 인코딩 즉 컴퓨터가 알아볼 수 있는 언어로 변경하겠다는 것입니다.\r\n"
      ]
    },
    {
      "cell_type": "markdown",
      "metadata": {
        "id": "EvwK5w2fJa_S"
      },
      "source": [
        ""
      ]
    },
    {
      "cell_type": "markdown",
      "metadata": {
        "id": "gTQmrXflKHaV"
      },
      "source": [
        ""
      ]
    },
    {
      "cell_type": "markdown",
      "metadata": {
        "id": "ynF3WlUAKHVN"
      },
      "source": [
        "**■ 96. 순차적인 정수 리스트 만들기(range)**\r\n",
        "\r\n",
        "[ 0, 1, 2, 3 ] 이나 [ 100, 101, 102, 103 ] 과 같이 순차적인 정수 리스트를 만드는\r\n",
        "가장 간단한 방법은 파이썬 내장함수인  \r\n",
        "range() 를 이용하는 것입니다.\r\n",
        "\r\n",
        "예제:"
      ]
    },
    {
      "cell_type": "code",
      "metadata": {
        "colab": {
          "base_uri": "https://localhost:8080/"
        },
        "id": "C3uykZwdKJ9J",
        "outputId": "c21514f9-5150-41ae-e8ab-a48045855312"
      },
      "source": [
        "print( range(1, 11) )\r\n",
        "print( list(range(1, 11)) )  "
      ],
      "execution_count": null,
      "outputs": [
        {
          "output_type": "stream",
          "text": [
            "range(1, 11)\n",
            "[1, 2, 3, 4, 5, 6, 7, 8, 9, 10]\n"
          ],
          "name": "stdout"
        }
      ]
    },
    {
      "cell_type": "markdown",
      "metadata": {
        "id": "Wysbup2pKXR5"
      },
      "source": [
        ""
      ]
    },
    {
      "cell_type": "markdown",
      "metadata": {
        "id": "ToAJ1fgZKXKA"
      },
      "source": [
        ""
      ]
    },
    {
      "cell_type": "markdown",
      "metadata": {
        "id": "CjLa8gkHKXBE"
      },
      "source": [
        "문제299. 아래와 같이 주사위의 눈을 담은 리스트를 만드시오 !\r\n",
        "\r\n",
        "    print(dice)\r\n",
        "결과:  [1, 2, 3, 4, 5, 6]"
      ]
    },
    {
      "cell_type": "code",
      "metadata": {
        "colab": {
          "base_uri": "https://localhost:8080/"
        },
        "id": "WQbTnMTpKbQh",
        "outputId": "3f16ae70-d118-425a-dc1e-6ce03ad31239"
      },
      "source": [
        "dice = list(range(1,7))\r\n",
        "print(dice)"
      ],
      "execution_count": null,
      "outputs": [
        {
          "output_type": "stream",
          "text": [
            "[1, 2, 3, 4, 5, 6]\n"
          ],
          "name": "stdout"
        }
      ]
    },
    {
      "cell_type": "markdown",
      "metadata": {
        "id": "3MF6nbgxKjQo"
      },
      "source": [
        ""
      ]
    },
    {
      "cell_type": "markdown",
      "metadata": {
        "id": "OVbTdv4CKjJr"
      },
      "source": [
        ""
      ]
    },
    {
      "cell_type": "markdown",
      "metadata": {
        "id": "CUula6MdKjCJ"
      },
      "source": [
        "문제300. 주사위 2개를 만들고 주사위 2개를 동시에 던져서 두 주사위의 눈의 합이 \r\n",
        "\t     10이 나오는 확률을 구하시오!  \r\n",
        "       ( 주사위 2개를 동시에 10000번 던지세요~ )"
      ]
    },
    {
      "cell_type": "code",
      "metadata": {
        "colab": {
          "base_uri": "https://localhost:8080/"
        },
        "id": "kU9bqawNKlnA",
        "outputId": "c584a348-90f3-4341-e23d-2754ca8fa6e2"
      },
      "source": [
        "import random\r\n",
        "\r\n",
        "dice1 = list(range(1,7))\r\n",
        "dice2 = list(range(1,7))\r\n",
        "cnt = 0\r\n",
        "\r\n",
        "for i in range(1,10001):\r\n",
        "    result1 = random.choice(dice1)\r\n",
        "    result2 = random.choice(dice2)\r\n",
        "    if result1 + result2 == 10:\r\n",
        "        cnt += 1\r\n",
        "\r\n",
        "print(cnt/10000)"
      ],
      "execution_count": null,
      "outputs": [
        {
          "output_type": "stream",
          "text": [
            "0.0853\n"
          ],
          "name": "stdout"
        }
      ]
    },
    {
      "cell_type": "markdown",
      "metadata": {
        "id": "KLuZmQHoLIQs"
      },
      "source": [
        ""
      ]
    },
    {
      "cell_type": "markdown",
      "metadata": {
        "id": "xPwEhA1dLIKU"
      },
      "source": [
        ""
      ]
    },
    {
      "cell_type": "markdown",
      "metadata": {
        "id": "Ak3--Vu5LID3"
      },
      "source": [
        "문제301. 아래의 결과를 출력하시오 !\r\n",
        "\r\n",
        "    [2, 4, 6, 8, 10, 12, 14, 16, 18]"
      ]
    },
    {
      "cell_type": "code",
      "metadata": {
        "colab": {
          "base_uri": "https://localhost:8080/"
        },
        "id": "Y0L1r_HvLKPE",
        "outputId": "17b54d4d-7bee-4cc4-f29b-c1bc448206bd"
      },
      "source": [
        "result = list( range(2,20,2) )      # range(시작숫자, 끝숫자, 스텝)\r\n",
        "print(result)                       # 시작숫자부터 끝숫자 미만까지 스텝만큼 증가해서 출력한다."
      ],
      "execution_count": null,
      "outputs": [
        {
          "output_type": "stream",
          "text": [
            "[2, 4, 6, 8, 10, 12, 14, 16, 18]\n"
          ],
          "name": "stdout"
        }
      ]
    },
    {
      "cell_type": "markdown",
      "metadata": {
        "id": "YJUVqupoLW4c"
      },
      "source": [
        ""
      ]
    },
    {
      "cell_type": "markdown",
      "metadata": {
        "id": "AhsnmriQLWwc"
      },
      "source": [
        ""
      ]
    },
    {
      "cell_type": "markdown",
      "metadata": {
        "id": "zUlLIWN6LWop"
      },
      "source": [
        "**■ 97. 리스트에서 특정 위치의 요소 얻기**\r\n",
        "\r\n",
        "리스트의 특정 위치에 있는 요소값을 구하려면 인덱싱을 이용합니다.  \r\n",
        "인덱스는 0 부터 시작합니다."
      ]
    },
    {
      "cell_type": "markdown",
      "metadata": {
        "id": "FgZUmuwWLbHc"
      },
      "source": [
        ""
      ]
    },
    {
      "cell_type": "code",
      "metadata": {
        "colab": {
          "base_uri": "https://localhost:8080/"
        },
        "id": "WigjrykVLc_l",
        "outputId": "a5fe3f55-5d7b-4949-805a-7ec876050fc5"
      },
      "source": [
        "a = [ 1, 2, 'a', 'b', 'c', [ 4, 5, 6 ] ]\r\n",
        "print(a)"
      ],
      "execution_count": null,
      "outputs": [
        {
          "output_type": "stream",
          "text": [
            "[1, 2, 'a', 'b', 'c', [4, 5, 6]]\n"
          ],
          "name": "stdout"
        }
      ]
    },
    {
      "cell_type": "markdown",
      "metadata": {
        "id": "CzD64N_xLtth"
      },
      "source": [
        ""
      ]
    },
    {
      "cell_type": "markdown",
      "metadata": {
        "id": "zaZ77ebJL0pE"
      },
      "source": [
        ""
      ]
    },
    {
      "cell_type": "markdown",
      "metadata": {
        "id": "SS-8wFmoLte_"
      },
      "source": [
        "예제1. 위의 리스트 a 에서 숫자 2를 출력하시오!"
      ]
    },
    {
      "cell_type": "code",
      "metadata": {
        "colab": {
          "base_uri": "https://localhost:8080/"
        },
        "id": "gEObL8KLLuvh",
        "outputId": "4403696f-a0bb-4855-88e6-b4c1c3ecb24f"
      },
      "source": [
        "a = [ 1, 2, 'a', 'b', 'c', [ 4, 5, 6 ] ]\r\n",
        "print(a[1])"
      ],
      "execution_count": null,
      "outputs": [
        {
          "output_type": "stream",
          "text": [
            "2\n"
          ],
          "name": "stdout"
        }
      ]
    },
    {
      "cell_type": "markdown",
      "metadata": {
        "id": "MDqCw0UPL0Lq"
      },
      "source": [
        ""
      ]
    },
    {
      "cell_type": "markdown",
      "metadata": {
        "id": "rXVunP_wL0FP"
      },
      "source": [
        ""
      ]
    },
    {
      "cell_type": "markdown",
      "metadata": {
        "id": "jGmrOvozLz-d"
      },
      "source": [
        "예제2. 위의 리스트 a 에서 숫자 4 을 출력하시오 !"
      ]
    },
    {
      "cell_type": "code",
      "metadata": {
        "colab": {
          "base_uri": "https://localhost:8080/"
        },
        "id": "SjH-foZ5L10E",
        "outputId": "6fb936a7-3ef3-4666-be41-1e01a496c67e"
      },
      "source": [
        "a = [ 1, 2, 'a', 'b', 'c', [ 4, 5, 6 ] ]\r\n",
        "print(a[5])\r\n",
        "print(a[5][0])"
      ],
      "execution_count": null,
      "outputs": [
        {
          "output_type": "stream",
          "text": [
            "[4, 5, 6]\n",
            "4\n"
          ],
          "name": "stdout"
        }
      ]
    },
    {
      "cell_type": "markdown",
      "metadata": {
        "id": "-gpd3K3ZL-XX"
      },
      "source": [
        ""
      ]
    },
    {
      "cell_type": "markdown",
      "metadata": {
        "id": "KibJ2K6yL-Qm"
      },
      "source": [
        ""
      ]
    },
    {
      "cell_type": "markdown",
      "metadata": {
        "id": "bpyDbhBCL-Jg"
      },
      "source": [
        "문제302. 아래의 리스트에서 숫자 7을 출력하시오!\r\n",
        "\r\n",
        "    b = [ 2, 3, 4, [ 5, 6 ], [ 7, 8 ], 9 ]"
      ]
    },
    {
      "cell_type": "code",
      "metadata": {
        "colab": {
          "base_uri": "https://localhost:8080/"
        },
        "id": "IloUk4DeMArq",
        "outputId": "41cdd159-4660-4af8-a0a6-62c024e6fae6"
      },
      "source": [
        "b = [ 2, 3, 4, [ 5, 6 ], [ 7, 8 ], 9 ]\r\n",
        "print(b[4][0])"
      ],
      "execution_count": null,
      "outputs": [
        {
          "output_type": "stream",
          "text": [
            "7\n"
          ],
          "name": "stdout"
        }
      ]
    },
    {
      "cell_type": "markdown",
      "metadata": {
        "id": "7R08AzxQMH7P"
      },
      "source": [
        ""
      ]
    },
    {
      "cell_type": "markdown",
      "metadata": {
        "id": "ebw-CLvTMH1P"
      },
      "source": [
        ""
      ]
    },
    {
      "cell_type": "markdown",
      "metadata": {
        "id": "m82WE7lsMHu-"
      },
      "source": [
        "**■ 98. 리스트에서 특정 요소의 위치 구하기(index)**\r\n",
        "\r\n",
        "리스트 객체의 index() 메소드는 리스트에서 요소의 값을 알고 있을 때\r\n",
        "그 요소가 최초로 나타나는 위치의 인덱스를 리턴합니다.\r\n",
        "\r\n",
        "예제:"
      ]
    },
    {
      "cell_type": "code",
      "metadata": {
        "colab": {
          "base_uri": "https://localhost:8080/"
        },
        "id": "5Qi4esE3MJ7c",
        "outputId": "73f52765-a8de-4732-e060-9932a403ff61"
      },
      "source": [
        "a = [ 1, 2, 'a', 'b', 'c', [1, 2, 3] ]\r\n",
        "print( a.index(2) ) \r\n",
        "print( a.index('a') )"
      ],
      "execution_count": null,
      "outputs": [
        {
          "output_type": "stream",
          "text": [
            "1\n",
            "2\n"
          ],
          "name": "stdout"
        }
      ]
    },
    {
      "cell_type": "markdown",
      "metadata": {
        "id": "TzsmXCe_MTfi"
      },
      "source": [
        ""
      ]
    },
    {
      "cell_type": "markdown",
      "metadata": {
        "id": "fIA40sD3MTY_"
      },
      "source": [
        ""
      ]
    },
    {
      "cell_type": "markdown",
      "metadata": {
        "id": "i0qjr_ekMTS5"
      },
      "source": [
        "문제303. 아래의 리스트에서 숫자 4의 인덱스 번호를 출력하시오 !\r\n",
        "\r\n",
        "    a = [ 1, 2, 'a', 'b', 'c', [ 4, 5, 6 ] ]"
      ]
    },
    {
      "cell_type": "code",
      "metadata": {
        "colab": {
          "base_uri": "https://localhost:8080/",
          "height": 185
        },
        "id": "gg0ixURBMVMg",
        "outputId": "25b21d23-1f87-4460-ffd6-378b19aedfb6"
      },
      "source": [
        "a = [ 1, 2, 'a', 'b', 'c', [ 4, 5, 6 ] ]\r\n",
        "print( a.index(4) )"
      ],
      "execution_count": null,
      "outputs": [
        {
          "output_type": "error",
          "ename": "ValueError",
          "evalue": "ignored",
          "traceback": [
            "\u001b[0;31m---------------------------------------------------------------------------\u001b[0m",
            "\u001b[0;31mValueError\u001b[0m                                Traceback (most recent call last)",
            "\u001b[0;32m<ipython-input-15-ae9de7ba6311>\u001b[0m in \u001b[0;36m<module>\u001b[0;34m()\u001b[0m\n\u001b[1;32m      1\u001b[0m \u001b[0ma\u001b[0m \u001b[0;34m=\u001b[0m \u001b[0;34m[\u001b[0m \u001b[0;36m1\u001b[0m\u001b[0;34m,\u001b[0m \u001b[0;36m2\u001b[0m\u001b[0;34m,\u001b[0m \u001b[0;34m'a'\u001b[0m\u001b[0;34m,\u001b[0m \u001b[0;34m'b'\u001b[0m\u001b[0;34m,\u001b[0m \u001b[0;34m'c'\u001b[0m\u001b[0;34m,\u001b[0m \u001b[0;34m[\u001b[0m \u001b[0;36m4\u001b[0m\u001b[0;34m,\u001b[0m \u001b[0;36m5\u001b[0m\u001b[0;34m,\u001b[0m \u001b[0;36m6\u001b[0m \u001b[0;34m]\u001b[0m \u001b[0;34m]\u001b[0m\u001b[0;34m\u001b[0m\u001b[0;34m\u001b[0m\u001b[0m\n\u001b[0;32m----> 2\u001b[0;31m \u001b[0mprint\u001b[0m\u001b[0;34m(\u001b[0m \u001b[0ma\u001b[0m\u001b[0;34m.\u001b[0m\u001b[0mindex\u001b[0m\u001b[0;34m(\u001b[0m\u001b[0;36m4\u001b[0m\u001b[0;34m)\u001b[0m \u001b[0;34m)\u001b[0m\u001b[0;34m\u001b[0m\u001b[0;34m\u001b[0m\u001b[0m\n\u001b[0m",
            "\u001b[0;31mValueError\u001b[0m: 4 is not in list"
          ]
        }
      ]
    },
    {
      "cell_type": "markdown",
      "metadata": {
        "id": "ftuOxzKUMbl0"
      },
      "source": [
        "설명: 리스트 안에 있는 리스트의 인덱스 번호는 출력 못함"
      ]
    },
    {
      "cell_type": "markdown",
      "metadata": {
        "id": "XjYAmPcQMct9"
      },
      "source": [
        ""
      ]
    },
    {
      "cell_type": "markdown",
      "metadata": {
        "id": "0NlwGt98Mcm3"
      },
      "source": [
        ""
      ]
    },
    {
      "cell_type": "markdown",
      "metadata": {
        "id": "VovFDgpxMcfs"
      },
      "source": [
        "**■ 99. 리스트에서 특정 위치의 요소를 변경하기**"
      ]
    },
    {
      "cell_type": "code",
      "metadata": {
        "colab": {
          "base_uri": "https://localhost:8080/"
        },
        "id": "XOg2lnnuMcJ1",
        "outputId": "71aed4a2-debe-4f7c-d452-747644cca63d"
      },
      "source": [
        "list_a = [ 'a', 'b', 'c', 'd', 'e', 'f', 'g' ]\r\n",
        "print( list_a[0] )\r\n",
        "list_a[0] = 'z'\r\n",
        "print( list_a )"
      ],
      "execution_count": null,
      "outputs": [
        {
          "output_type": "stream",
          "text": [
            "a\n",
            "['z', 'b', 'c', 'd', 'e', 'f', 'g']\n"
          ],
          "name": "stdout"
        }
      ]
    },
    {
      "cell_type": "markdown",
      "metadata": {
        "id": "p47JwYmFMjZe"
      },
      "source": [
        ""
      ]
    },
    {
      "cell_type": "markdown",
      "metadata": {
        "id": "jvyeFUleMjTf"
      },
      "source": [
        ""
      ]
    },
    {
      "cell_type": "markdown",
      "metadata": {
        "id": "6hGSGy_ZMjNn"
      },
      "source": [
        "문제304. list_a 의 알파벳 d 를 k 로 변경하시오 !"
      ]
    },
    {
      "cell_type": "code",
      "metadata": {
        "colab": {
          "base_uri": "https://localhost:8080/"
        },
        "id": "iX3m4_8CMlLt",
        "outputId": "e3995485-54bd-4688-e003-f46479a16546"
      },
      "source": [
        "list_a = [ 'a', 'b', 'c', 'd', 'e', 'f', 'g' ]\r\n",
        "list_a[3] = 'k'\r\n",
        "print(list_a)"
      ],
      "execution_count": null,
      "outputs": [
        {
          "output_type": "stream",
          "text": [
            "['a', 'b', 'c', 'k', 'e', 'f', 'g']\n"
          ],
          "name": "stdout"
        }
      ]
    },
    {
      "cell_type": "markdown",
      "metadata": {
        "id": "am05LA_dMwWi"
      },
      "source": [
        ""
      ]
    },
    {
      "cell_type": "markdown",
      "metadata": {
        "id": "I7Eb_JmMMwN8"
      },
      "source": [
        ""
      ]
    },
    {
      "cell_type": "markdown",
      "metadata": {
        "id": "G3-82FbgMwId"
      },
      "source": [
        "**■ 100. 리스트에서 특정 구간에 있는 요소 추출하기**\r\n",
        "\r\n",
        "리스트에서 특정 구간에 있는 요소를 출출하여 새로운 리스트를 만들려면\r\n",
        "슬라이싱을 이용하면 됩니다.\r\n",
        "\r\n",
        "예제:"
      ]
    },
    {
      "cell_type": "code",
      "metadata": {
        "colab": {
          "base_uri": "https://localhost:8080/"
        },
        "id": "JYlgvi3bMyKV",
        "outputId": "953793cc-1ebd-485b-f077-5ec3a66b2d97"
      },
      "source": [
        "list_a = [ 'a', 'b', 'c', 'd', 'e', 'f', 'g' ]\r\n",
        "print( list_a[0:4] )   \r\n",
        "print( list_a[2: ] )      # 리스트 인덱스 2번째 요소부터 끝까지\r\n",
        "print( list_a[ :3] )      # 리스트 처음부터 인덱스 3 미만까지"
      ],
      "execution_count": null,
      "outputs": [
        {
          "output_type": "stream",
          "text": [
            "['a', 'b', 'c', 'd']\n",
            "['c', 'd', 'e', 'f', 'g']\n",
            "['a', 'b', 'c']\n"
          ],
          "name": "stdout"
        }
      ]
    },
    {
      "cell_type": "markdown",
      "metadata": {
        "id": "yrRkZ8AJM-fT"
      },
      "source": [
        ""
      ]
    },
    {
      "cell_type": "markdown",
      "metadata": {
        "id": "FBMUitk4M-XY"
      },
      "source": [
        ""
      ]
    },
    {
      "cell_type": "markdown",
      "metadata": {
        "id": "woNhJjyxM-RF"
      },
      "source": [
        "문제305. 위에는 알파벳 a 부터 g 까지 담은 리스트를 만들었는데\r\n",
        "\t     이번에는 알파벳 a 부터 z 까지 담는 리스트를 list_a 로 생성하시오 ~\r\n",
        "\r\n",
        "    ['a', 'b', 'c', 'd', ……………., 'z']"
      ]
    },
    {
      "cell_type": "code",
      "metadata": {
        "colab": {
          "base_uri": "https://localhost:8080/"
        },
        "id": "70zjmCsGNgAV",
        "outputId": "f473f29e-5257-4871-d6d4-783ce339043a"
      },
      "source": [
        "import string                          # string 모듈 안에 알파벳이 들어있습니다.\r\n",
        "\r\n",
        "print( string.ascii_lowercase ) \r\n",
        "list_a = []\r\n",
        "\r\n",
        "for i in string.ascii_lowercase:\r\n",
        "    list_a.append(i)\r\n",
        "\r\n",
        "print(list_a)"
      ],
      "execution_count": null,
      "outputs": [
        {
          "output_type": "stream",
          "text": [
            "abcdefghijklmnopqrstuvwxyz\n",
            "['a', 'b', 'c', 'd', 'e', 'f', 'g', 'h', 'i', 'j', 'k', 'l', 'm', 'n', 'o', 'p', 'q', 'r', 's', 't', 'u', 'v', 'w', 'x', 'y', 'z']\n"
          ],
          "name": "stdout"
        }
      ]
    },
    {
      "cell_type": "markdown",
      "metadata": {
        "id": "_prX7b8DNzUX"
      },
      "source": [
        ""
      ]
    },
    {
      "cell_type": "markdown",
      "metadata": {
        "id": "WzWYdCJ8NzJN"
      },
      "source": [
        ""
      ]
    },
    {
      "cell_type": "markdown",
      "metadata": {
        "id": "6EQu9V3eNzBm"
      },
      "source": [
        "문제306. 위에서 만든 list_a 에서 요소를 검색하는데 맨 끝에 알파벳 z 빼고\r\n",
        "\t     모든 요소를 다 출력하시오!\r\n",
        "\r\n",
        "    ['a', 'b', 'c', 'd', ……………., 'y']"
      ]
    },
    {
      "cell_type": "code",
      "metadata": {
        "colab": {
          "base_uri": "https://localhost:8080/"
        },
        "id": "ibmxrc1YN1Ec",
        "outputId": "851b5bea-aaa9-4aee-bc0e-e7fe9ca79190"
      },
      "source": [
        "import string\r\n",
        "\r\n",
        "print( string.ascii_lowercase ) \r\n",
        "list_a = []\r\n",
        "\r\n",
        "for i in string.ascii_lowercase:\r\n",
        "    list_a.append(i)\r\n",
        "\r\n",
        "print(list_a[:len(string.ascii_lowercase)-1])     # 또는 print(list_a[ : list_a.index('z')])"
      ],
      "execution_count": null,
      "outputs": [
        {
          "output_type": "stream",
          "text": [
            "abcdefghijklmnopqrstuvwxyz\n",
            "['a', 'b', 'c', 'd', 'e', 'f', 'g', 'h', 'i', 'j', 'k', 'l', 'm', 'n', 'o', 'p', 'q', 'r', 's', 't', 'u', 'v', 'w', 'x', 'y']\n"
          ],
          "name": "stdout"
        }
      ]
    },
    {
      "cell_type": "markdown",
      "metadata": {
        "id": "xaPqSxzaOqtn"
      },
      "source": [
        ""
      ]
    },
    {
      "cell_type": "markdown",
      "metadata": {
        "id": "xdqg0ezMOqnF"
      },
      "source": [
        ""
      ]
    },
    {
      "cell_type": "markdown",
      "metadata": {
        "id": "IpBJD0wcOqgM"
      },
      "source": [
        "**■ 101. 리스트에서 짝수 번째 요소만 추출하기**\r\n",
        "\r\n",
        "리스트에서 짝수번째 요소를 추출하는 방법은 두번째 요소부터 끝까지 스텝 2로\r\n",
        "슬라이싱 하면됩니다."
      ]
    },
    {
      "cell_type": "code",
      "metadata": {
        "colab": {
          "base_uri": "https://localhost:8080/"
        },
        "id": "0XhXSTKROux2",
        "outputId": "4e943691-db45-42e6-a72a-8a9ef9a850e4"
      },
      "source": [
        "list_a = [ 'a', 'b', 'c', 'd', 'e', 'f', 'g', 'h' ]\r\n",
        "print ( list_a[1: :2] )"
      ],
      "execution_count": null,
      "outputs": [
        {
          "output_type": "stream",
          "text": [
            "['b', 'd', 'f', 'h']\n"
          ],
          "name": "stdout"
        }
      ]
    },
    {
      "cell_type": "markdown",
      "metadata": {
        "id": "6u5lHANhO-zl"
      },
      "source": [
        ""
      ]
    },
    {
      "cell_type": "markdown",
      "metadata": {
        "id": "BhKSpAkoO-t-"
      },
      "source": [
        ""
      ]
    },
    {
      "cell_type": "markdown",
      "metadata": {
        "id": "v7lIa6vpO-m0"
      },
      "source": [
        "문제307. 1부터 100까지의 숫자중에 짝수만 list_a 담아서 출력하시오\r\n",
        "\r\n",
        "    [ 2, 4, 6, 8, 10, 12, ………., 100 ]"
      ]
    },
    {
      "cell_type": "code",
      "metadata": {
        "colab": {
          "base_uri": "https://localhost:8080/"
        },
        "id": "yMf0qOIMPAh6",
        "outputId": "7de62c2b-9680-46a8-bbf9-4be4937ad8bd"
      },
      "source": [
        "list_a = list( range(2,101,2) )\r\n",
        "print(list_a)"
      ],
      "execution_count": null,
      "outputs": [
        {
          "output_type": "stream",
          "text": [
            "[2, 4, 6, 8, 10, 12, 14, 16, 18, 20, 22, 24, 26, 28, 30, 32, 34, 36, 38, 40, 42, 44, 46, 48, 50, 52, 54, 56, 58, 60, 62, 64, 66, 68, 70, 72, 74, 76, 78, 80, 82, 84, 86, 88, 90, 92, 94, 96, 98, 100]\n"
          ],
          "name": "stdout"
        }
      ]
    },
    {
      "cell_type": "markdown",
      "metadata": {
        "id": "pd8TFxH4PNb1"
      },
      "source": [
        ""
      ]
    },
    {
      "cell_type": "markdown",
      "metadata": {
        "id": "Xxr_TvFsPNR7"
      },
      "source": [
        ""
      ]
    },
    {
      "cell_type": "markdown",
      "metadata": {
        "id": "ohrlV5YuPNEo"
      },
      "source": [
        "**■ 102. 리스트 요소 순서를 역순으로 만들기 ① (reverse)**\r\n",
        "\r\n",
        "리스트 객체의 reverse() 메소드는 리스트의 모든 요소 순서를 거꾸로 만듭니다.\r\n",
        "\r\n",
        "예제:"
      ]
    },
    {
      "cell_type": "code",
      "metadata": {
        "colab": {
          "base_uri": "https://localhost:8080/"
        },
        "id": "EHaYE5kVPPr2",
        "outputId": "c345ee4f-25f5-46d2-ef2f-34e836c71d44"
      },
      "source": [
        "list_a = ['a', 'b', 'c', 'd', 'e', 'f', 'g']\r\n",
        "list_a.reverse()\r\n",
        "print(list_a) "
      ],
      "execution_count": null,
      "outputs": [
        {
          "output_type": "stream",
          "text": [
            "['g', 'f', 'e', 'd', 'c', 'b', 'a']\n"
          ],
          "name": "stdout"
        }
      ]
    },
    {
      "cell_type": "markdown",
      "metadata": {
        "id": "d7OttiaMPSNP"
      },
      "source": [
        ""
      ]
    },
    {
      "cell_type": "markdown",
      "metadata": {
        "id": "-jVDSv7ePSIX"
      },
      "source": [
        ""
      ]
    },
    {
      "cell_type": "markdown",
      "metadata": {
        "id": "x0p4pJcuPSBx"
      },
      "source": [
        "문제308. 우리반 테이블에서 이름을 출력하는데 ㅎ 부터 ㄱ 까지 출력될 수 있도록 하시오!\r\n",
        "\r\n",
        "    홍길동,차예련,...,도경수,김민석"
      ]
    },
    {
      "cell_type": "code",
      "metadata": {
        "id": "0Nrh3G5hPUZU"
      },
      "source": [
        "import csv\r\n",
        "\r\n",
        "file = open(\"/content/drive/MyDrive/data/emp1222.csv\", encoding='cp949')\r\n",
        "emp_csv = csv.reader(file)\r\n",
        "a = []\r\n",
        "\r\n",
        "for i in emp_csv:\r\n",
        "    a.append(i[1])\r\n",
        "\r\n",
        "a.sort()\r\n",
        "a.reverse()\r\n",
        "bond = ','\r\n",
        "result = bond.join(a)\r\n",
        "print(result)"
      ],
      "execution_count": null,
      "outputs": []
    },
    {
      "cell_type": "markdown",
      "metadata": {
        "id": "K84-qsDuQQEh"
      },
      "source": [
        ""
      ]
    },
    {
      "cell_type": "markdown",
      "metadata": {
        "id": "MBh_gfVmQPn9"
      },
      "source": [
        ""
      ]
    },
    {
      "cell_type": "markdown",
      "metadata": {
        "id": "AY_QfMI5QPh7"
      },
      "source": [
        "문제309. emp2.csv 에서 이름과 월급을 출력하시오!"
      ]
    },
    {
      "cell_type": "code",
      "metadata": {
        "colab": {
          "base_uri": "https://localhost:8080/"
        },
        "id": "VsUui1kvQRlP",
        "outputId": "d23780fc-131c-49ad-d938-8c5626e16ac8"
      },
      "source": [
        "import csv\r\n",
        "\r\n",
        "file = open(\"/content/drive/MyDrive/data/emp2.csv\", encoding='cp949')\r\n",
        "emp_csv = csv.reader(file)\r\n",
        "\r\n",
        "for i in emp_csv:\r\n",
        "    print(i[1], i[5])"
      ],
      "execution_count": null,
      "outputs": [
        {
          "output_type": "stream",
          "text": [
            "KING 5000\n",
            "BLAKE 2850\n",
            "CLARK 2450\n",
            "JONES 2975\n",
            "MARTIN 1250\n",
            "ALLEN 1600\n",
            "TURNER 1500\n",
            "JAMES 950\n",
            "WARD 1250\n",
            "FORD 3000\n",
            "SMITH 800\n",
            "SCOTT 3000\n",
            "ADAMS 1100\n",
            "MILLER 1300\n"
          ],
          "name": "stdout"
        }
      ]
    },
    {
      "cell_type": "markdown",
      "metadata": {
        "id": "z2AvvoIVQpxU"
      },
      "source": [
        ""
      ]
    },
    {
      "cell_type": "markdown",
      "metadata": {
        "id": "t2nkEGcwQppd"
      },
      "source": [
        ""
      ]
    },
    {
      "cell_type": "markdown",
      "metadata": {
        "id": "obh4qc2KQpO5"
      },
      "source": [
        "문제310. 위의 데이터중 월급을 비어있는 리스트인 a 리스트에 담으시오!"
      ]
    },
    {
      "cell_type": "code",
      "metadata": {
        "colab": {
          "base_uri": "https://localhost:8080/"
        },
        "id": "QoCUJOOOQq2B",
        "outputId": "b88f11ea-e026-4cee-d455-a466d89e3336"
      },
      "source": [
        "import csv\r\n",
        "\r\n",
        "file = open(\"/content/drive/MyDrive/data/emp2.csv\", encoding='cp949')\r\n",
        "emp_csv = csv.reader(file)\r\n",
        "a = []\r\n",
        "\r\n",
        "for i in emp_csv:\r\n",
        "    a.append(i[5])\r\n",
        "\r\n",
        "print(a)"
      ],
      "execution_count": null,
      "outputs": [
        {
          "output_type": "stream",
          "text": [
            "['5000', '2850', '2450', '2975', '1250', '1600', '1500', '950', '1250', '3000', '800', '3000', '1100', '1300']\n"
          ],
          "name": "stdout"
        }
      ]
    },
    {
      "cell_type": "markdown",
      "metadata": {
        "id": "1aURZQ61QzG7"
      },
      "source": [
        ""
      ]
    },
    {
      "cell_type": "markdown",
      "metadata": {
        "id": "z0gTEqcoQzBg"
      },
      "source": [
        ""
      ]
    },
    {
      "cell_type": "markdown",
      "metadata": {
        "id": "OsnbZJ-DQy4v"
      },
      "source": [
        "문제311. 위의 a 리스트에 있는 월급을 월급이 높은 순서대로 정렬해서 a 리스트에 들어있게 하고 a 리스트를 출력하시오 !"
      ]
    },
    {
      "cell_type": "code",
      "metadata": {
        "colab": {
          "base_uri": "https://localhost:8080/"
        },
        "id": "Hu4M1TSCQ2B0",
        "outputId": "3a7c1d99-c9ac-4d56-c3f5-0b2c2576fcfc"
      },
      "source": [
        "import csv\r\n",
        "\r\n",
        "file = open(\"/content/drive/MyDrive/data/emp2.csv\", encoding='cp949')\r\n",
        "emp_csv = csv.reader(file)\r\n",
        "a = []\r\n",
        "\r\n",
        "for i in emp_csv:\r\n",
        "    a.append(int(i[5]))    # 정렬하기 위해서 int 값으로 리스트 a 에 추가\r\n",
        "\r\n",
        "a.sort()           # 먼저 낮은값에서 높은값 순으로 정렬하고\r\n",
        "a.reverse()        # 낮은값에서 높은값 순으로 정렬된 a 리스트를 역순으로 만듭니다.\r\n",
        "print(a)"
      ],
      "execution_count": null,
      "outputs": [
        {
          "output_type": "stream",
          "text": [
            "[5000, 3000, 3000, 2975, 2850, 2450, 1600, 1500, 1300, 1250, 1250, 1100, 950, 800]\n"
          ],
          "name": "stdout"
        }
      ]
    },
    {
      "cell_type": "markdown",
      "metadata": {
        "id": "8bfTfBRkRG18"
      },
      "source": [
        ""
      ]
    },
    {
      "cell_type": "markdown",
      "metadata": {
        "id": "bOwtjaDYRGvw"
      },
      "source": [
        ""
      ]
    },
    {
      "cell_type": "markdown",
      "metadata": {
        "id": "e7Xp0IO1RGop"
      },
      "source": [
        "**■ 103. 리스트 요소 순서를 역순으로 만들기 ② (reversed)**\r\n",
        "\r\n",
        "리스트 요소 순서를 역슨으로 만드는 또 다른 방법은 파이썬 내장 함수인\r\n",
        "reversed() 를 이용하는 방법입니다.  \r\n",
        "reverse() 는 인자로 입력된 시퀀스 자료형 요소 순서를 역순으로 새로운 시퀀스 자료형을\r\n",
        "만들어 리턴합니다.\r\n",
        "\r\n",
        "reverse()  함수\r\n",
        "\r\n",
        "    원본 데이터를 역순으로 만듭니다.\r\n",
        "\r\n",
        "reversed() 함수\r\n",
        "\r\n",
        "    역순으로 만들지만 원본 데이터를 역순으로 만들지 않습니다.\r\n",
        "\r\n",
        "예제:"
      ]
    },
    {
      "cell_type": "code",
      "metadata": {
        "colab": {
          "base_uri": "https://localhost:8080/"
        },
        "id": "AY1798PIRRtL",
        "outputId": "7c478a35-bcb8-4ba7-be54-cbec8f1c24e5"
      },
      "source": [
        "list_a = [ 'a', 'b', 'c', 'd', 'e' ]\r\n",
        "list_a.reverse()\r\n",
        "print(list_a)"
      ],
      "execution_count": null,
      "outputs": [
        {
          "output_type": "stream",
          "text": [
            "['e', 'd', 'c', 'b', 'a']\n"
          ],
          "name": "stdout"
        }
      ]
    },
    {
      "cell_type": "code",
      "metadata": {
        "colab": {
          "base_uri": "https://localhost:8080/"
        },
        "id": "QoIG8U_1RXbe",
        "outputId": "f768bae1-6e67-4c69-d36d-fb739a5ffc50"
      },
      "source": [
        "list_b = [ 'a', 'b', 'c', 'd', 'e' ]\r\n",
        "result = reversed( list_b )    # list_b 의 요소를 역순으로 만들어서 result 에 저장\r\n",
        "print( list(result) )\r\n",
        "print(list_b)     "
      ],
      "execution_count": null,
      "outputs": [
        {
          "output_type": "stream",
          "text": [
            "['e', 'd', 'c', 'b', 'a']\n",
            "['a', 'b', 'c', 'd', 'e']\n"
          ],
          "name": "stdout"
        }
      ]
    },
    {
      "cell_type": "markdown",
      "metadata": {
        "id": "49pVdzyVRgnv"
      },
      "source": [
        ""
      ]
    },
    {
      "cell_type": "markdown",
      "metadata": {
        "id": "hgt6yf8DRgg3"
      },
      "source": [
        ""
      ]
    },
    {
      "cell_type": "markdown",
      "metadata": {
        "id": "FbApvyXxRgZy"
      },
      "source": [
        "**■ 104. 리스트 합치기( )**\r\n",
        "\r\n",
        "두개의 리스트를 연결하여 새로운 리스트를 만드는 방법은 + 연산자를 이용해\r\n",
        "두개의 리스트를 더하면 됩니다.\r\n",
        "\r\n",
        "예제:"
      ]
    },
    {
      "cell_type": "code",
      "metadata": {
        "colab": {
          "base_uri": "https://localhost:8080/"
        },
        "id": "51ESSHM_RkSs",
        "outputId": "43799e6f-b2c0-483d-9e0f-bc45850fb038"
      },
      "source": [
        "listdata1 = [ 'a', 'b', 'c', 'd' ]\r\n",
        "listdata2 = [ 'f', 'g', 'h', 'i' ]\r\n",
        "listdata3 = listdata1 + listdata2\r\n",
        "print(listdata3)"
      ],
      "execution_count": null,
      "outputs": [
        {
          "output_type": "stream",
          "text": [
            "['a', 'b', 'c', 'd', 'f', 'g', 'h', 'i']\n"
          ],
          "name": "stdout"
        }
      ]
    },
    {
      "cell_type": "markdown",
      "metadata": {
        "id": "XxkFaMpoRvL0"
      },
      "source": [
        ""
      ]
    },
    {
      "cell_type": "markdown",
      "metadata": {
        "id": "6sQQjpLFRu_S"
      },
      "source": [
        ""
      ]
    },
    {
      "cell_type": "markdown",
      "metadata": {
        "id": "XSOwxzgdRu4s"
      },
      "source": [
        "문제312. 아래와 같이 엄마와 아기가 함께하는 수영교실 나이 리스트를 생성하시오 !\r\n",
        "\r\n",
        "    [34, 34, 34, 34, 34, 34, 34, 34, 34, 34, 2, 2, 2, 2, 2, 2, 2, 2, 2, 2]"
      ]
    },
    {
      "cell_type": "code",
      "metadata": {
        "colab": {
          "base_uri": "https://localhost:8080/"
        },
        "id": "XiRMrkEHRw4L",
        "outputId": "bee43749-b241-4ad6-adbf-da65880e658b"
      },
      "source": [
        "listdata1 = [34]\r\n",
        "listdata2 = [2]\r\n",
        "print(listdata1 * 10 + listdata2 * 10)"
      ],
      "execution_count": null,
      "outputs": [
        {
          "output_type": "stream",
          "text": [
            "[34, 34, 34, 34, 34, 34, 34, 34, 34, 34, 2, 2, 2, 2, 2, 2, 2, 2, 2, 2]\n"
          ],
          "name": "stdout"
        }
      ]
    },
    {
      "cell_type": "markdown",
      "metadata": {
        "id": "iRORwlurR-iY"
      },
      "source": [
        ""
      ]
    },
    {
      "cell_type": "markdown",
      "metadata": {
        "id": "8_2TjQBmR-dA"
      },
      "source": [
        ""
      ]
    },
    {
      "cell_type": "markdown",
      "metadata": {
        "id": "dmLrwxYZR-XK"
      },
      "source": [
        "**■ 105. 리스트 반복하기(*)**\r\n",
        "\r\n",
        "list * n 은 리스트를 n 번 반복해서 새로운 리스트를 만듭니다.  \r\n",
        "예들들어, list * 2 는 list + list 와 동일한 결과가 출력됩니다.\r\n",
        "\r\n",
        "예제:"
      ]
    },
    {
      "cell_type": "code",
      "metadata": {
        "colab": {
          "base_uri": "https://localhost:8080/"
        },
        "id": "noXvsOXSSJZe",
        "outputId": "f333e076-33b9-4710-9b65-ed873ef54eb2"
      },
      "source": [
        "listdata = list( range(3) )\r\n",
        "result = listdata * 3\r\n",
        "print(result)"
      ],
      "execution_count": null,
      "outputs": [
        {
          "output_type": "stream",
          "text": [
            "[0, 1, 2, 0, 1, 2, 0, 1, 2]\n"
          ],
          "name": "stdout"
        }
      ]
    },
    {
      "cell_type": "markdown",
      "metadata": {
        "id": "2bNBQ4SYSjOX"
      },
      "source": [
        ""
      ]
    },
    {
      "cell_type": "markdown",
      "metadata": {
        "id": "kfWMvIYbSjHT"
      },
      "source": [
        ""
      ]
    },
    {
      "cell_type": "markdown",
      "metadata": {
        "id": "4As_V_EiSivo"
      },
      "source": [
        "문제133. 아래의 엄마와 아기가 함께하는 수영교실의 나이의 평균값을 출력하시오!\r\n",
        "\r\n",
        "    [34, 34, 34, 34, 34, 34, 34, 34, 34, 34, 2, 2, 2, 2, 2, 2, 2, 2, 2, 2]"
      ]
    },
    {
      "cell_type": "code",
      "metadata": {
        "colab": {
          "base_uri": "https://localhost:8080/"
        },
        "id": "ypcxG3zqSmd5",
        "outputId": "1cad51b8-01a0-4625-b0ec-6f803462bd45"
      },
      "source": [
        "import numpy as np\r\n",
        "\r\n",
        "swim_age = [34] * 10 + [2] * 10\r\n",
        "a = np.array(swim_age)    # numpy array(배열) 로 만들어준다.\r\n",
        "b = np.mean(a)\r\n",
        "print(b)"
      ],
      "execution_count": null,
      "outputs": [
        {
          "output_type": "stream",
          "text": [
            "18.0\n"
          ],
          "name": "stdout"
        }
      ]
    },
    {
      "cell_type": "markdown",
      "metadata": {
        "id": "yVIlUsP8TDmw"
      },
      "source": [
        ""
      ]
    },
    {
      "cell_type": "markdown",
      "metadata": {
        "id": "NgnXTR15TDgU"
      },
      "source": [
        ""
      ]
    },
    {
      "cell_type": "markdown",
      "metadata": {
        "id": "3LST_xxJTDZ3"
      },
      "source": [
        "문제314. 아래의 엄마와 아기가 함께하는 수영교실의 나이의 중앙값을 출력하시오!\r\n",
        "\r\n",
        "    [34, 34, 34, 34, 34, 34, 34, 34, 34, 34, 2, 2, 2, 2, 2, 2, 2, 2, 2, 2]"
      ]
    },
    {
      "cell_type": "code",
      "metadata": {
        "colab": {
          "base_uri": "https://localhost:8080/"
        },
        "id": "91uEnI4JTGz5",
        "outputId": "ea31e942-de0d-4449-ee82-09ff83ad4228"
      },
      "source": [
        "import numpy as np\r\n",
        "\r\n",
        "swim_age = [34] * 10 + [2] * 10\r\n",
        "a = np.array(swim_age)    # numpy array(배열) 로 만들어준다.\r\n",
        "b = np.median(a)\r\n",
        "print(b)"
      ],
      "execution_count": null,
      "outputs": [
        {
          "output_type": "stream",
          "text": [
            "18.0\n"
          ],
          "name": "stdout"
        }
      ]
    },
    {
      "cell_type": "markdown",
      "metadata": {
        "id": "ffUGDdLmTM6-"
      },
      "source": [
        ""
      ]
    },
    {
      "cell_type": "markdown",
      "metadata": {
        "id": "udiU3S_WTM0b"
      },
      "source": [
        ""
      ]
    },
    {
      "cell_type": "markdown",
      "metadata": {
        "id": "Xo70fYUqTMtx"
      },
      "source": [
        "문제315. 엄마와 아기가 함꼐하는 수영교실 나이 데이터의 최빈값을 출력하시오 !"
      ]
    },
    {
      "cell_type": "code",
      "metadata": {
        "colab": {
          "base_uri": "https://localhost:8080/"
        },
        "id": "sYYUiXqrTOIS",
        "outputId": "3ef4d1d9-2878-4864-c735-94d425780973"
      },
      "source": [
        "from scipy import stats\r\n",
        "import numpy as np\r\n",
        "\r\n",
        "swim_age = [34] * 10 + [2] * 10\r\n",
        "a = np.array(swim_age)    # numpy array(배열) 로 만들어준다.\r\n",
        "result = stats.mode(a)\r\n",
        "print(result)"
      ],
      "execution_count": null,
      "outputs": [
        {
          "output_type": "stream",
          "text": [
            "ModeResult(mode=array([2]), count=array([10]))\n"
          ],
          "name": "stdout"
        }
      ]
    },
    {
      "cell_type": "markdown",
      "metadata": {
        "id": "hOiry-miUuhh"
      },
      "source": [
        ""
      ]
    },
    {
      "cell_type": "markdown",
      "metadata": {
        "id": "WHEk2SxuUucG"
      },
      "source": [
        ""
      ]
    },
    {
      "cell_type": "markdown",
      "metadata": {
        "id": "R8wmM_5qUuVP"
      },
      "source": [
        "문제316. 우리반 나이 데이터를 비어있는 리스트 a 에 담으시오 !\r\n",
        "\t     ( emp1222.csv 를 읽으세요 ~ )"
      ]
    },
    {
      "cell_type": "code",
      "metadata": {
        "colab": {
          "base_uri": "https://localhost:8080/"
        },
        "id": "sX20Eij5Uz-Y",
        "outputId": "9a5c12fb-5b4c-449b-942b-2a6adcdf2203"
      },
      "source": [
        "import csv\r\n",
        "\r\n",
        "file = open(\"/content/drive/MyDrive/data/emp1222.csv\", encoding='cp949')\r\n",
        "emp12_csv = csv.reader(file)\r\n",
        "a = []\r\n",
        "\r\n",
        "for i in emp12_csv:\r\n",
        "    a.append(int(i[2]))\r\n",
        "\r\n",
        "print(a)"
      ],
      "execution_count": null,
      "outputs": [
        {
          "output_type": "stream",
          "text": [
            "[29, 31, 35, 29, 28, 28, 25, 28, 27, 27, 27, 26, 33, 30, 27, 27, 25, 28, 29, 24, 24, 29, 36, 26, 26, 26, 44, 28, 29, 28]\n"
          ],
          "name": "stdout"
        }
      ]
    },
    {
      "cell_type": "markdown",
      "metadata": {
        "id": "mhS9QwYVVBXp"
      },
      "source": [
        ""
      ]
    },
    {
      "cell_type": "markdown",
      "metadata": {
        "id": "7zzWXJxOVBQJ"
      },
      "source": [
        ""
      ]
    },
    {
      "cell_type": "markdown",
      "metadata": {
        "id": "mbcebrIKVBJc"
      },
      "source": [
        "문제317. 우리반 나이 데이터의 평균값과 중앙값과 최빈값을 출력하시오 !"
      ]
    },
    {
      "cell_type": "code",
      "metadata": {
        "colab": {
          "base_uri": "https://localhost:8080/"
        },
        "id": "6bbgCkvfVCSl",
        "outputId": "77a37cac-0dce-46e8-a1c6-883a2d0a2d08"
      },
      "source": [
        "import csv\r\n",
        "import numpy as np\r\n",
        "from scipy import stats\r\n",
        "\r\n",
        "file = open(\"/content/drive/MyDrive/data/emp1222.csv\", encoding='cp949')\r\n",
        "emp12_csv = csv.reader(file)\r\n",
        "a = []\r\n",
        "\r\n",
        "for i in emp12_csv:\r\n",
        "    a.append(int(i[2]))\r\n",
        "\r\n",
        "b = np.array(a)\r\n",
        "print(np.mean(b))\r\n",
        "print(np.median(b))\r\n",
        "print(stats.mode(b))"
      ],
      "execution_count": null,
      "outputs": [
        {
          "output_type": "stream",
          "text": [
            "28.633333333333333\n",
            "28.0\n",
            "ModeResult(mode=array([28]), count=array([6]))\n"
          ],
          "name": "stdout"
        }
      ]
    },
    {
      "cell_type": "markdown",
      "metadata": {
        "id": "CwyERc_gVkaf"
      },
      "source": [
        ""
      ]
    },
    {
      "cell_type": "markdown",
      "metadata": {
        "id": "fpIdKohzVkTP"
      },
      "source": [
        ""
      ]
    },
    {
      "cell_type": "markdown",
      "metadata": {
        "id": "amyyRP_xVkNz"
      },
      "source": [
        "**■ 106. 리스트에 요소 추가하기(append)**\r\n",
        "\r\n",
        "리스트 객체의 append() 메소드는 인자로 입력된 값을 리스트의 맨 마지막 요소로 추가합니다.\r\n",
        "\r\n",
        "예제:"
      ]
    },
    {
      "cell_type": "code",
      "metadata": {
        "colab": {
          "base_uri": "https://localhost:8080/"
        },
        "id": "cpZeyy8jVoca",
        "outputId": "31fd9a8c-7fe2-445a-a25c-b0268dda8d17"
      },
      "source": [
        "listdata = []\r\n",
        "listdata.append('a')\r\n",
        "listdata.append('b')\r\n",
        "print(listdata)"
      ],
      "execution_count": null,
      "outputs": [
        {
          "output_type": "stream",
          "text": [
            "['a', 'b']\n"
          ],
          "name": "stdout"
        }
      ]
    },
    {
      "cell_type": "markdown",
      "metadata": {
        "id": "Rm4_pXibVsPb"
      },
      "source": [
        ""
      ]
    },
    {
      "cell_type": "markdown",
      "metadata": {
        "id": "WCldrdczVsJg"
      },
      "source": [
        ""
      ]
    },
    {
      "cell_type": "markdown",
      "metadata": {
        "id": "NE9fr0-pVsEP"
      },
      "source": [
        "**■ 파이썬으로 히스토그램 그래프 그리기**\r\n",
        "\r\n",
        "히스토그램 그래프는 계급을 가로축에 도수를 세로축에 나타낸 뒤  \r\n",
        "각 계급의 크기를 가로의 길이로 하고 도수를 세로의 길이로 하는 직사각형을\r\n",
        "차례대로 그려서 나타낸 그래프\r\n",
        "\r\n",
        "예제:\r\n",
        " 1. 평균이 150 이고 표준편차가 5인 초등학생 10만명의 키를 생성한다."
      ]
    },
    {
      "cell_type": "code",
      "metadata": {
        "id": "57MBzpAgVw8f"
      },
      "source": [
        "import numpy as np\r\n",
        "\r\n",
        "height = np.random.randn(100000) * 5 + 150"
      ],
      "execution_count": null,
      "outputs": []
    },
    {
      "cell_type": "markdown",
      "metadata": {
        "id": "ZaUDh6JOVzgY"
      },
      "source": [
        ""
      ]
    },
    {
      "cell_type": "markdown",
      "metadata": {
        "id": "vVviC7LIV0Uo"
      },
      "source": [
        ""
      ]
    },
    {
      "cell_type": "markdown",
      "metadata": {
        "id": "5UCy8dw2VzZp"
      },
      "source": [
        " 2. 계급의 크기를 나타내는 가로의 길이를 설정"
      ]
    },
    {
      "cell_type": "code",
      "metadata": {
        "id": "tjuQjYizV184"
      },
      "source": [
        "bins = list( range(142, 161, 2) )"
      ],
      "execution_count": null,
      "outputs": []
    },
    {
      "cell_type": "markdown",
      "metadata": {
        "id": "MEVU-Y8OV79p"
      },
      "source": [
        ""
      ]
    },
    {
      "cell_type": "markdown",
      "metadata": {
        "id": "UJQ4IY8kV73A"
      },
      "source": [
        ""
      ]
    },
    {
      "cell_type": "markdown",
      "metadata": {
        "id": "mqx3G9iuV7Ty"
      },
      "source": [
        " 3. 히스토그램 그래프의 세로축에 해당하는 도수(건수) 를 구하는 코드"
      ]
    },
    {
      "cell_type": "code",
      "metadata": {
        "colab": {
          "base_uri": "https://localhost:8080/"
        },
        "id": "ZmWsRHjbV8sn",
        "outputId": "a65d90dd-141f-4eeb-b981-45e19666ac01"
      },
      "source": [
        "hist, bins = np.histogram( height, bins )\r\n",
        "print(hist, bins)"
      ],
      "execution_count": null,
      "outputs": [
        {
          "output_type": "stream",
          "text": [
            "[ 6048  9529 13250 15677 15339 13337  9773  6056  3219] [142 144 146 148 150 152 154 156 158 160]\n"
          ],
          "name": "stdout"
        }
      ]
    },
    {
      "cell_type": "markdown",
      "metadata": {
        "id": "zElGCB9mWE0V"
      },
      "source": [
        "    142 ~ 144 미만 : 6048 명  \r\n",
        "    144 ~ 146 미만 : 9529 명  \r\n",
        "    146 ~ 148 미만 : 13250 명  \r\n",
        "          :            :  \r\n",
        "    158 ~ 160 미만 : 3219 명"
      ]
    },
    {
      "cell_type": "markdown",
      "metadata": {
        "id": "5Q4On2MLWL6Y"
      },
      "source": [
        ""
      ]
    },
    {
      "cell_type": "markdown",
      "metadata": {
        "id": "bSKRN30bWL0L"
      },
      "source": [
        ""
      ]
    },
    {
      "cell_type": "markdown",
      "metadata": {
        "id": "LcQ2uMc3WLuH"
      },
      "source": [
        " 4. 위의 데이터를 가지고 히스토그램 그래프를 그린다."
      ]
    },
    {
      "cell_type": "code",
      "metadata": {
        "colab": {
          "base_uri": "https://localhost:8080/",
          "height": 352
        },
        "id": "nPAzJhjRWKcc",
        "outputId": "c6d071ab-2671-4a9d-b9ab-923ae973dc1d"
      },
      "source": [
        "import numpy as np\r\n",
        "import matplotlib.pyplot as plt\r\n",
        "\r\n",
        "height = np.random.randn(100000) * 5 + 150\r\n",
        "bins = list( range(142, 161, 2) )\r\n",
        "hist, bins = np.histogram( height, bins )\r\n",
        "print(hist, bins)\r\n",
        "\r\n",
        "plt.hist( height, bins )  "
      ],
      "execution_count": null,
      "outputs": [
        {
          "output_type": "stream",
          "text": [
            "[ 6035  9511 13323 15389 15607 13280  9458  6168  3303] [142 144 146 148 150 152 154 156 158 160]\n"
          ],
          "name": "stdout"
        },
        {
          "output_type": "execute_result",
          "data": {
            "text/plain": [
              "(array([ 6035.,  9511., 13323., 15389., 15607., 13280.,  9458.,  6168.,\n",
              "         3303.]),\n",
              " array([142, 144, 146, 148, 150, 152, 154, 156, 158, 160]),\n",
              " <a list of 9 Patch objects>)"
            ]
          },
          "metadata": {
            "tags": []
          },
          "execution_count": 95
        },
        {
          "output_type": "display_data",
          "data": {
            "image/png": "[encoded data removed]",
            "text/plain": [
              "<Figure size 432x288 with 1 Axes>"
            ]
          },
          "metadata": {
            "tags": [],
            "needs_background": "light"
          }
        }
      ]
    },
    {
      "cell_type": "markdown",
      "metadata": {
        "id": "_zknu_FkWf_d"
      },
      "source": [
        "    rwidth : 히스토그램 그래프의 넓이\r\n",
        "    alpha : 색깔 투명도"
      ]
    },
    {
      "cell_type": "markdown",
      "metadata": {
        "id": "qdSkJwkCWkOM"
      },
      "source": [
        ""
      ]
    },
    {
      "cell_type": "markdown",
      "metadata": {
        "id": "0BLb_-nWWkIy"
      },
      "source": [
        ""
      ]
    },
    {
      "cell_type": "code",
      "metadata": {
        "colab": {
          "base_uri": "https://localhost:8080/",
          "height": 353
        },
        "id": "1Gyg-frfWhvT",
        "outputId": "ca228e8b-72cb-41cf-884d-f8fb84d06ff8"
      },
      "source": [
        "import numpy as np\r\n",
        "import matplotlib.pyplot as plt\r\n",
        "\r\n",
        "height = np.random.randn(100000) * 5 + 150\r\n",
        "bins = list( range(142, 161, 2) )\r\n",
        "hist, bins = np.histogram( height, bins )\r\n",
        "print(hist, bins)\r\n",
        "\r\n",
        "plt.grid()        # 격자 모양이 생김\r\n",
        "plt.hist( height, bins, rwidth = 0.9, alpha = 0.7, color = 'red' ) "
      ],
      "execution_count": null,
      "outputs": [
        {
          "output_type": "stream",
          "text": [
            "[ 6143  9545 13446 15445 15508 13311  9832  6048  3189] [142 144 146 148 150 152 154 156 158 160]\n"
          ],
          "name": "stdout"
        },
        {
          "output_type": "execute_result",
          "data": {
            "text/plain": [
              "(array([ 6143.,  9545., 13446., 15445., 15508., 13311.,  9832.,  6048.,\n",
              "         3189.]),\n",
              " array([142, 144, 146, 148, 150, 152, 154, 156, 158, 160]),\n",
              " <a list of 9 Patch objects>)"
            ]
          },
          "metadata": {
            "tags": []
          },
          "execution_count": 96
        },
        {
          "output_type": "display_data",
          "data": {
            "image/png": "[encoded data removed]",
            "text/plain": [
              "<Figure size 432x288 with 1 Axes>"
            ]
          },
          "metadata": {
            "tags": [],
            "needs_background": "light"
          }
        }
      ]
    },
    {
      "cell_type": "markdown",
      "metadata": {
        "id": "MhMEpkoPWqvH"
      },
      "source": [
        ""
      ]
    },
    {
      "cell_type": "markdown",
      "metadata": {
        "id": "uHJYnhkDWqsV"
      },
      "source": [
        ""
      ]
    },
    {
      "cell_type": "markdown",
      "metadata": {
        "id": "oiarXbw-Wqlg"
      },
      "source": [
        "문제318. 우리반 나이 데이터를 가지고 히스토그램 그래프를 그리시오 !\r\n",
        "\r\n",
        "    x 축의 계급(간격) 은 24~44 (2살 간격)\r\n",
        "    24 ~ 26\r\n",
        "    26 ~ 28\r\n",
        "         :\r\n",
        "    42 ~ 44\r\n"
      ]
    },
    {
      "cell_type": "code",
      "metadata": {
        "colab": {
          "base_uri": "https://localhost:8080/",
          "height": 334
        },
        "id": "QfZPmMuBWyFE",
        "outputId": "a088b0d4-acd9-49a4-de57-57099bb1b195"
      },
      "source": [
        "import csv\r\n",
        "import matplotlib.pyplot as plt\r\n",
        "\r\n",
        "file = open(\"/content/drive/MyDrive/data/emp1222.csv\", encoding='cp949')\r\n",
        "emp12_csv = csv.reader(file)\r\n",
        "age = []\r\n",
        "\r\n",
        "for i in emp12_csv:\r\n",
        "    age.append(int(i[2]))\r\n",
        "\r\n",
        "bins = list( range(24, 45, 2) )\r\n",
        "hist, bins = np.histogram( age, bins )\r\n",
        "print(hist, bins)\r\n",
        "\r\n",
        "plt.grid()                # 격자 모양이 생김\r\n",
        "plt.xticks(bins)          # x축 눈금 조절\r\n",
        "plt.yticks(range(0,12))   # y축 눈금 조절   hist = [ 4  9 11  2  1  1  1  0  0  1] 이므로 0 이상 12 미만으로 설정\r\n",
        "plt.hist( age, bins, rwidth = 0.9, alpha = 0.7, color = 'orange' ) "
      ],
      "execution_count": null,
      "outputs": [
        {
          "output_type": "stream",
          "text": [
            "[ 4  9 11  2  1  1  1  0  0  1] [24 26 28 30 32 34 36 38 40 42 44]\n"
          ],
          "name": "stdout"
        },
        {
          "output_type": "execute_result",
          "data": {
            "text/plain": [
              "(array([ 4.,  9., 11.,  2.,  1.,  1.,  1.,  0.,  0.,  1.]),\n",
              " array([24, 26, 28, 30, 32, 34, 36, 38, 40, 42, 44]),\n",
              " <a list of 10 Patch objects>)"
            ]
          },
          "metadata": {
            "tags": []
          },
          "execution_count": 99
        },
        {
          "output_type": "display_data",
          "data": {
            "image/png": "[encoded data removed]",
            "text/plain": [
              "<Figure size 432x288 with 1 Axes>"
            ]
          },
          "metadata": {
            "tags": [],
            "needs_background": "light"
          }
        }
      ]
    }
  ]
}