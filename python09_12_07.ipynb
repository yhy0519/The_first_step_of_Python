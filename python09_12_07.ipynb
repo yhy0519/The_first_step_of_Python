{
  "nbformat": 4,
  "nbformat_minor": 0,
  "metadata": {
    "colab": {
      "name": "python09_12_07.ipynb",
      "provenance": [],
      "collapsed_sections": [],
      "mount_file_id": "1vk0Rh20Slp7q3pbvZxkLoKejsgj2SlhB",
      "authorship_tag": "ABX9TyNMksL0DG1xva97IBZDwW8L",
      "include_colab_link": true
    },
    "kernelspec": {
      "name": "python3",
      "display_name": "Python 3"
    }
  },
  "cells": [
    {
      "cell_type": "markdown",
      "metadata": {
        "id": "view-in-github",
        "colab_type": "text"
      },
      "source": [
        "<a href=\"https://colab.research.google.com/github/yhy0519/The_first_step_of_Python/blob/main/python09_12_07.ipynb\" target=\"_parent\"><img src=\"https://colab.research.google.com/assets/colab-badge.svg\" alt=\"Open In Colab\"/></a>"
      ]
    },
    {
      "cell_type": "markdown",
      "metadata": {
        "id": "aBTqWks2xMFh"
      },
      "source": [
        "**■ 판다스로 조인하기**\r\n",
        "\r\n",
        "판다스로 조인(join) 하기 위해서는 merge 를 사용하면 됩니다.\r\n",
        "\r\n",
        "문법:\r\n",
        "\r\n",
        "    pandas.merge( emp, dept, how = 'inner', on = 'deptno' )\r\n",
        "\r\n",
        "옵션 :\r\n",
        "\r\n",
        "    how = 'inner' : emp 와 dept 데이터 프레임에 공통적으로 존재하는 교집합일 경우에만 추출\r\n",
        "    how = 'outer' : 열의 데이터가 양쪽 데이터 프레임에 공통적으로 존재하는 교집합이 아니어도 추출\r\n",
        "    how = 'left' : 왼쪽 데이터 프레임의 키열에 속하는 데이터 값을 기준으로 병합\r\n",
        "    how = 'right' 오른쪽 데이터 프레임의 키열에 속하는 데이터 값을 기준으로 병합\r\n",
        "\r\n",
        "\r\n"
      ]
    },
    {
      "cell_type": "markdown",
      "metadata": {
        "id": "tySJYizFxmOE"
      },
      "source": [
        "SQL>\r\n",
        "\r\n",
        "    select e.ename, d.loc\r\n",
        "       from emp e, dept d\r\n",
        "       where e.deptno = d.deptno (+);\r\n",
        "\r\n",
        "Pandas>"
      ]
    },
    {
      "cell_type": "code",
      "metadata": {
        "colab": {
          "base_uri": "https://localhost:8080/"
        },
        "id": "5iA5NDtkxVpG",
        "outputId": "15641149-7916-4b90-8c40-96eda9979d2f"
      },
      "source": [
        "import pandas as pd\r\n",
        "emp = pd.read_csv('/content/drive/MyDrive/data/emp3.csv')\r\n",
        "dept = pd.read_csv('/content/drive/MyDrive/data/dept3.csv')\r\n",
        "result = pd.merge( emp, dept, on = 'deptno', how = 'left' )\r\n",
        "print( result[['ename', 'loc']] )"
      ],
      "execution_count": null,
      "outputs": [
        {
          "output_type": "stream",
          "text": [
            "     ename       loc\n",
            "0     KING  NEW YORK\n",
            "1    BLAKE   CHICAGO\n",
            "2    CLARK  NEW YORK\n",
            "3    JONES    DALLAS\n",
            "4   MARTIN   CHICAGO\n",
            "5    ALLEN   CHICAGO\n",
            "6   TURNER   CHICAGO\n",
            "7    JAMES   CHICAGO\n",
            "8     WARD   CHICAGO\n",
            "9     FORD    DALLAS\n",
            "10   SMITH    DALLAS\n",
            "11   SCOTT    DALLAS\n",
            "12   ADAMS    DALLAS\n",
            "13  MILLER  NEW YORK\n"
          ],
          "name": "stdout"
        }
      ]
    },
    {
      "cell_type": "markdown",
      "metadata": {
        "id": "oGDCN97U0IF2"
      },
      "source": [
        ""
      ]
    },
    {
      "cell_type": "markdown",
      "metadata": {
        "id": "r8r1h9fS1JyG"
      },
      "source": [
        ""
      ]
    },
    {
      "cell_type": "markdown",
      "metadata": {
        "id": "-2o75pKSwIZb"
      },
      "source": [
        "문제221. 부서번호, 부서번호별 평균월급을 출력하시오!\r\n",
        "\r\n",
        "SQL>\r\n",
        "\r\n",
        "    select deptno, avg(sal)\r\n",
        "       from emp\r\n",
        "       group by deptno;\r\n",
        "\r\n",
        "Pandas>"
      ]
    },
    {
      "cell_type": "code",
      "metadata": {
        "colab": {
          "base_uri": "https://localhost:8080/"
        },
        "id": "RRpBEP60wF0z",
        "outputId": "56cc2cf2-bd8c-478f-e572-4d4bf2955e4a"
      },
      "source": [
        "import pandas as pd\r\n",
        "\r\n",
        "emp = pd.read_csv('/content/drive/MyDrive/data/emp3.csv')\r\n",
        "result = emp.groupby('deptno')['sal'].mean().reset_index()\r\n",
        "print(result)"
      ],
      "execution_count": null,
      "outputs": [
        {
          "output_type": "stream",
          "text": [
            "   deptno          sal\n",
            "0      10  2916.666667\n",
            "1      20  2175.000000\n",
            "2      30  1566.666667\n"
          ],
          "name": "stdout"
        }
      ]
    },
    {
      "cell_type": "markdown",
      "metadata": {
        "id": "TOEFqM0g1hx6"
      },
      "source": [
        "설명: groupby 부터 시작해서 reset_index() 까지가 한 세트 이므로 항상 같이 사용하면 됩니다."
      ]
    },
    {
      "cell_type": "markdown",
      "metadata": {
        "id": "He6XjBUq1mG9"
      },
      "source": [
        ""
      ]
    },
    {
      "cell_type": "markdown",
      "metadata": {
        "id": "X6B9MjEF1mXt"
      },
      "source": [
        ""
      ]
    },
    {
      "cell_type": "markdown",
      "metadata": {
        "id": "O5K7ol5H1mmT"
      },
      "source": [
        "문제222. 위의 결과에서 평균월급을 출력할 때 정수부분만 출력하고 싶다면? ( 소수점 이전만 출력 )"
      ]
    },
    {
      "cell_type": "code",
      "metadata": {
        "colab": {
          "base_uri": "https://localhost:8080/"
        },
        "id": "voJcMu8eu4r5",
        "outputId": "0520b09b-4f7f-4289-b458-9619b29144dd"
      },
      "source": [
        "import pandas as pd\r\n",
        "\r\n",
        "emp = pd.read_csv('/content/drive/MyDrive/data/emp3.csv')\r\n",
        "result = emp.groupby('deptno')['sal'].mean().reset_index().astype(int)\r\n",
        "print(result)"
      ],
      "execution_count": null,
      "outputs": [
        {
          "output_type": "stream",
          "text": [
            "   deptno   sal\n",
            "0      10  2916\n",
            "1      20  2175\n",
            "2      30  1566\n"
          ],
          "name": "stdout"
        }
      ]
    },
    {
      "cell_type": "markdown",
      "metadata": {
        "id": "K3kpssjOv7lC"
      },
      "source": [
        "설명: astype(int) 는 출력되는 데이터에서 정수부분만 취해라라는 뜻입니다.  \r\n",
        "정수형으로 변환해라 ~ 라는 뜻입니다.\r\n"
      ]
    },
    {
      "cell_type": "markdown",
      "metadata": {
        "id": "cuB9L55k2fS_"
      },
      "source": [
        ""
      ]
    },
    {
      "cell_type": "markdown",
      "metadata": {
        "id": "83fzk7mJ2foN"
      },
      "source": [
        ""
      ]
    },
    {
      "cell_type": "markdown",
      "metadata": {
        "id": "2WsEKkkt2gY2"
      },
      "source": [
        "문제223. 직업과 직업별 토탈월급을 출력하시오!\r\n",
        "\r\n",
        "SQL>\r\n",
        "\r\n",
        "    select job,sum(sal)\r\n",
        "       from emp\r\n",
        "       group by job;\r\n",
        "\r\n",
        "Pandas>"
      ]
    },
    {
      "cell_type": "code",
      "metadata": {
        "colab": {
          "base_uri": "https://localhost:8080/"
        },
        "id": "hjHoDjN02Xwq",
        "outputId": "9c7b3d0f-46ff-43eb-8191-8574ec58d30d"
      },
      "source": [
        "import pandas as pd\r\n",
        "\r\n",
        "emp = pd.read_csv('/content/drive/MyDrive/data/emp3.csv')\r\n",
        "result = emp.groupby('job')['sal'].sum().reset_index()\r\n",
        "print(result)"
      ],
      "execution_count": null,
      "outputs": [
        {
          "output_type": "stream",
          "text": [
            "         job   sal\n",
            "0    ANALYST  6000\n",
            "1      CLERK  4150\n",
            "2    MANAGER  8275\n",
            "3  PRESIDENT  5000\n",
            "4   SALESMAN  5600\n"
          ],
          "name": "stdout"
        }
      ]
    },
    {
      "cell_type": "markdown",
      "metadata": {
        "id": "gDlVMsKw2xQa"
      },
      "source": [
        ""
      ]
    },
    {
      "cell_type": "markdown",
      "metadata": {
        "id": "uF4SzMxZ2xH4"
      },
      "source": [
        ""
      ]
    },
    {
      "cell_type": "markdown",
      "metadata": {
        "id": "Af2fs7gU2w_d"
      },
      "source": [
        "문제224. 부서위치, 부서위치별 토탈월급을 출력하시오 !\r\n",
        "\r\n",
        "SQL>\r\n",
        "\r\n",
        "    select d.loc, sum(e.sal)\r\n",
        "       from emp e, dept d\r\n",
        "       where e.deptno = d.deptno\r\n",
        "       group by d.loc;\r\n",
        "\r\n",
        "Pandas>"
      ]
    },
    {
      "cell_type": "code",
      "metadata": {
        "colab": {
          "base_uri": "https://localhost:8080/"
        },
        "id": "T397JlYV22Ym",
        "outputId": "f78d000d-eb17-4c18-85de-e715baec72cb"
      },
      "source": [
        "import pandas as pd\r\n",
        "\r\n",
        "emp = pd.read_csv('/content/drive/MyDrive/data/emp3.csv')\r\n",
        "dept = pd.read_csv('/content/drive/MyDrive/data/dept3.csv')\r\n",
        "result = pd.merge(emp, dept, on = 'deptno')\r\n",
        "result2 = result.groupby('loc')['sal'].sum().reset_index()\r\n",
        "print(result2)"
      ],
      "execution_count": null,
      "outputs": [
        {
          "output_type": "stream",
          "text": [
            "        loc    sal\n",
            "0   CHICAGO   9400\n",
            "1    DALLAS  10875\n",
            "2  NEW YORK   8750\n"
          ],
          "name": "stdout"
        }
      ]
    },
    {
      "cell_type": "markdown",
      "metadata": {
        "id": "sDgiNyzI3Mi5"
      },
      "source": [
        ""
      ]
    },
    {
      "cell_type": "markdown",
      "metadata": {
        "id": "Cw7L_lX13MaJ"
      },
      "source": [
        ""
      ]
    },
    {
      "cell_type": "markdown",
      "metadata": {
        "id": "JxdlhlLW3MTJ"
      },
      "source": [
        "문제225. 아래의 SQL 을 pandas 로 구현하시오!\r\n",
        "\r\n",
        "SQL>\r\n",
        "\r\n",
        "    select d.loc, vnl(sum(e.sal), 0)\r\n",
        "       from empm e, dept d\r\n",
        "       where e.deptno (+) = d.deptno\r\n",
        "       group by d.loc;\r\n",
        "\r\n",
        "Pandas>"
      ]
    },
    {
      "cell_type": "code",
      "metadata": {
        "colab": {
          "base_uri": "https://localhost:8080/"
        },
        "id": "k-WN_FFw3Pp_",
        "outputId": "d14ed12c-5aba-422a-b588-670fd3e01fc3"
      },
      "source": [
        "import pandas as pd\r\n",
        "\r\n",
        "emp = pd.read_csv('/content/drive/MyDrive/data/emp3.csv')\r\n",
        "dept = pd.read_csv('/content/drive/MyDrive/data/dept3.csv')\r\n",
        "result = pd.merge(emp, dept, on = 'deptno', how = 'right')\r\n",
        "result2 = result.groupby('loc')['sal'].sum().reset_index()\r\n",
        "print(result2)"
      ],
      "execution_count": null,
      "outputs": [
        {
          "output_type": "stream",
          "text": [
            "        loc      sal\n",
            "0    BOSTON      0.0\n",
            "1   CHICAGO   9400.0\n",
            "2    DALLAS  10875.0\n",
            "3  NEW YORK   8750.0\n"
          ],
          "name": "stdout"
        }
      ]
    },
    {
      "cell_type": "markdown",
      "metadata": {
        "id": "-ZdqHb2c3cLR"
      },
      "source": [
        ""
      ]
    },
    {
      "cell_type": "markdown",
      "metadata": {
        "id": "BtMA4PGt3cEE"
      },
      "source": [
        ""
      ]
    },
    {
      "cell_type": "markdown",
      "metadata": {
        "id": "Llmc2JGQ3b9R"
      },
      "source": [
        "문제226. 아래의 SQL 을 pandas 로 구현하시오!\r\n",
        "\r\n",
        "SQL>\r\n",
        "\r\n",
        "    select deptno, count(*)\r\n",
        "       from emp\r\n",
        "       group by deptno;\r\n",
        "\r\n",
        "Pandas>"
      ]
    },
    {
      "cell_type": "code",
      "metadata": {
        "colab": {
          "base_uri": "https://localhost:8080/"
        },
        "id": "9d27XvW03eZP",
        "outputId": "e1cbd5fe-8c1a-43ac-9773-84778dc1dc0b"
      },
      "source": [
        "import pandas as pd\r\n",
        "\r\n",
        "emp = pd.read_csv('/content/drive/MyDrive/data/emp3.csv')\r\n",
        "result = emp.groupby('deptno')['empno'].count().reset_index()\r\n",
        "print(result)"
      ],
      "execution_count": null,
      "outputs": [
        {
          "output_type": "stream",
          "text": [
            "   deptno  empno\n",
            "0      10      3\n",
            "1      20      5\n",
            "2      30      6\n"
          ],
          "name": "stdout"
        }
      ]
    },
    {
      "cell_type": "markdown",
      "metadata": {
        "id": "KV_OEJu03yco"
      },
      "source": [
        ""
      ]
    },
    {
      "cell_type": "markdown",
      "metadata": {
        "id": "U1ixnPTl3ySZ"
      },
      "source": [
        ""
      ]
    },
    {
      "cell_type": "markdown",
      "metadata": {
        "id": "Y8mB_XJH3zCH"
      },
      "source": [
        "문제227. emp122.csv 를 내려받아 판다스 데이터 프레임으로 만들고 출력하시오!\r\n"
      ]
    },
    {
      "cell_type": "code",
      "metadata": {
        "id": "0_vBvJaS3zwa"
      },
      "source": [
        "import pandas as pd\r\n",
        "\r\n",
        "emp122 = pd.read_csv('/content/drive/MyDrive/data/emp122.csv')\r\n",
        "print(emp122)"
      ],
      "execution_count": null,
      "outputs": []
    },
    {
      "cell_type": "markdown",
      "metadata": {
        "id": "WN5DoyY94FcI"
      },
      "source": [
        ""
      ]
    },
    {
      "cell_type": "markdown",
      "metadata": {
        "id": "rguQySpi4FUA"
      },
      "source": [
        ""
      ]
    },
    {
      "cell_type": "markdown",
      "metadata": {
        "id": "Xp87y1qy4FMY"
      },
      "source": [
        "문제228. 통신사, 통신사별 인원수를 출력하시오!"
      ]
    },
    {
      "cell_type": "code",
      "metadata": {
        "colab": {
          "base_uri": "https://localhost:8080/"
        },
        "id": "TpONKxzm4GR_",
        "outputId": "1be8447f-4c45-4228-9835-0892459d83d6"
      },
      "source": [
        "import pandas as pd\r\n",
        "\r\n",
        "emp122 = pd.read_csv('/content/drive/MyDrive/data/emp122.csv')\r\n",
        "result = emp122.groupby('TELECOM')['INDEX'].count().reset_index()\r\n",
        "print(result)"
      ],
      "execution_count": null,
      "outputs": [
        {
          "output_type": "stream",
          "text": [
            "  TELECOM  INDEX\n",
            "0      kt     15\n",
            "1      lg      4\n",
            "2      sk     11\n"
          ],
          "name": "stdout"
        }
      ]
    },
    {
      "cell_type": "markdown",
      "metadata": {
        "id": "KwyJjI554auu"
      },
      "source": [
        ""
      ]
    },
    {
      "cell_type": "markdown",
      "metadata": {
        "id": "I4K1MZBh4ahg"
      },
      "source": [
        ""
      ]
    },
    {
      "cell_type": "markdown",
      "metadata": {
        "id": "DG_5B9VM4aXT"
      },
      "source": [
        "문제229. 우리반 테이블에서 통신사가 kt 이고 나이가 30살 이상인 학생들의 이름과 나이와 통신사를 출력하시오!"
      ]
    },
    {
      "cell_type": "code",
      "metadata": {
        "id": "N5gnMx0w4flO"
      },
      "source": [
        "import pandas as pd\r\n",
        "\r\n",
        "emp122 = pd.read_csv('/content/drive/MyDrive/data/emp122.csv')\r\n",
        "print(emp122[['ENAME', 'AGE', 'TELECOM']][(emp12['TELECOM'] == 'kt') & (emp12['AGE'] >= 30)])"
      ],
      "execution_count": null,
      "outputs": []
    },
    {
      "cell_type": "markdown",
      "metadata": {
        "id": "QnKQTbtm5CcA"
      },
      "source": [
        "설명: and 는 판다스에서 & 이고 or 는 판다스에서 | 입니다.  \r\n",
        "\t그리고 &, | 를 사용할 때는 양쪽 조건에 소괄호() 를 둘러줘야 합니다."
      ]
    },
    {
      "cell_type": "markdown",
      "metadata": {
        "id": "4MT1mQHW5GIP"
      },
      "source": [
        ""
      ]
    },
    {
      "cell_type": "markdown",
      "metadata": {
        "id": "xmxPylAB5FiP"
      },
      "source": [
        ""
      ]
    },
    {
      "cell_type": "markdown",
      "metadata": {
        "id": "LyXSMAOG5EpX"
      },
      "source": [
        "**■ 68. 반올림수 구하기(round)**\r\n",
        "\r\n",
        "파이썬 내장함수 round() 는 인자로 입력된 숫자형 자리수에서 반올림한 결과를 리턴합니다.\r\n",
        "\r\n",
        "예제:"
      ]
    },
    {
      "cell_type": "code",
      "metadata": {
        "colab": {
          "base_uri": "https://localhost:8080/"
        },
        "id": "DvtiTgZe5JVQ",
        "outputId": "c836b1ae-b1a8-42f3-ab80-b4d841b3931f"
      },
      "source": [
        "print( round(16.554) )      # 소수점 첫번째 자리에서 반올림  17\r\n",
        "print( round(16.554, 0) )   # 소수점 첫번째 자리에서 반올림  17\r\n",
        "print( round(16.554, 1) )   # 소수점 두번째 자리에서 반올림  16.6\r\n",
        "print( round(16.554, 2) )   # 소수점 세번째 자리에서 반올림  16.55"
      ],
      "execution_count": null,
      "outputs": [
        {
          "output_type": "stream",
          "text": [
            "17\n",
            "17.0\n",
            "16.6\n",
            "16.55\n"
          ],
          "name": "stdout"
        }
      ]
    },
    {
      "cell_type": "markdown",
      "metadata": {
        "id": "GfieQElw5JBX"
      },
      "source": [
        ""
      ]
    },
    {
      "cell_type": "markdown",
      "metadata": {
        "id": "J7YiUVuY5QR5"
      },
      "source": [
        ""
      ]
    },
    {
      "cell_type": "markdown",
      "metadata": {
        "id": "QVu9YCmC5Qjn"
      },
      "source": [
        "** 파이썬에서 반올림할때 중요하게 알아야할 내용\r\n",
        "\r\n",
        "    print( round(142.5)  )   # 143d으로 예상했는데 142가 나온다.\r\n",
        "\r\n",
        "\" R 과 파이썬은 짝수를 좋아합니다. \"\r\n",
        "\r\n",
        "    142.5 -------> 142         2        2.5        3\r\n",
        "    187.5 -------> 188         7        7.5        8\r\n",
        "\r\n",
        "파이썬은 기본적으로 이것을 해결하는 함수가 없습니다.  \r\n",
        "0.5 일때는 짝수를 좋아하도록 반올림되고 0.51 일때는 그냥 반올림됩니다."
      ]
    },
    {
      "cell_type": "markdown",
      "metadata": {
        "id": "peaYOiTr5ZQA"
      },
      "source": [
        ""
      ]
    },
    {
      "cell_type": "markdown",
      "metadata": {
        "id": "sUPDdDhD5ZsH"
      },
      "source": [
        ""
      ]
    },
    {
      "cell_type": "markdown",
      "metadata": {
        "id": "hl2yh0d35Z86"
      },
      "source": [
        "예제. Pandas 를 이용하지 않고 파이썬으로만 emp3.csv 에서 이름과 월급을 출력하시오 !"
      ]
    },
    {
      "cell_type": "code",
      "metadata": {
        "colab": {
          "base_uri": "https://localhost:8080/"
        },
        "id": "uNwBZ6pc5bF_",
        "outputId": "d14b2c0e-901d-44fa-f33d-60d893d7c34e"
      },
      "source": [
        "import csv\r\n",
        "\r\n",
        "file = open('/content/drive/MyDrive/data/emp2.csv')   # emp2.csv 를 읽어서 file 이라는 변수에 넣는다.\r\n",
        "emp_csv = csv.reader(file)                            # file 변수에 있는 csv 파일을 읽어서 emp_csv 변수에 넣는다.\r\n",
        "print(emp_csv)                                        # 이 상태에서 그냥 프린트하면 메모리 주소가 나옵니다."
      ],
      "execution_count": null,
      "outputs": [
        {
          "output_type": "stream",
          "text": [
            "<_csv.reader object at 0x7fde8b902ba8>\n"
          ],
          "name": "stdout"
        }
      ]
    },
    {
      "cell_type": "code",
      "metadata": {
        "colab": {
          "base_uri": "https://localhost:8080/"
        },
        "id": "PNjreg2Y51i_",
        "outputId": "914d62f5-8936-4304-8b1e-759be0db2117"
      },
      "source": [
        "import csv\r\n",
        "\r\n",
        "file = open('/content/drive/MyDrive/data/emp2.csv') \r\n",
        "emp_csv = csv.reader(file)  \r\n",
        "\r\n",
        "for emp_list in emp_csv:       # csv 파일의 내용을 한 행씩 리스트에 담아서 출력합니다.\r\n",
        "    print( emp_list )"
      ],
      "execution_count": null,
      "outputs": [
        {
          "output_type": "stream",
          "text": [
            "['7839', 'KING', 'PRESIDENT', '0', '1981-11-17', '5000', '0', '10']\n",
            "['7698', 'BLAKE', 'MANAGER', '7839', '1981-05-01', '2850', '0', '30']\n",
            "['7782', 'CLARK', 'MANAGER', '7839', '1981-05-09', '2450', '0', '10']\n",
            "['7566', 'JONES', 'MANAGER', '7839', '1981-04-01', '2975', '0', '20']\n",
            "['7654', 'MARTIN', 'SALESMAN', '7698', '1981-09-10', '1250', '1400', '30']\n",
            "['7499', 'ALLEN', 'SALESMAN', '7698', '1981-02-11', '1600', '300', '30']\n",
            "['7844', 'TURNER', 'SALESMAN', '7698', '1981-08-21', '1500', '0', '30']\n",
            "['7900', 'JAMES', 'CLERK', '7698', '1981-12-11', '950', '0', '30']\n",
            "['7521', 'WARD', 'SALESMAN', '7698', '1981-02-23', '1250', '500', '30']\n",
            "['7902', 'FORD', 'ANALYST', '7566', '1981-12-11', '3000', '0', '20']\n",
            "['7369', 'SMITH', 'CLERK', '7902', '1980-12-09', '800', '0', '20']\n",
            "['7788', 'SCOTT', 'ANALYST', '7566', '1982-12-22', '3000', '0', '20']\n",
            "['7876', 'ADAMS', 'CLERK', '7788', '1983-01-15', '1100', '0', '20']\n",
            "['7934', 'MILLER', 'CLERK', '7782', '1982-01-11', '1300', '0', '10']\n"
          ],
          "name": "stdout"
        }
      ]
    },
    {
      "cell_type": "code",
      "metadata": {
        "colab": {
          "base_uri": "https://localhost:8080/"
        },
        "id": "m4P4sg0K54xH",
        "outputId": "5d71e4cd-7808-4ac9-d6f8-3a717d6519a4"
      },
      "source": [
        "import csv\r\n",
        "\r\n",
        "file = open('/content/drive/MyDrive/data/emp2.csv') \r\n",
        "emp_csv = csv.reader(file)  \r\n",
        "\r\n",
        "for emp_list in emp_csv:\r\n",
        "    print( emp_list[1], emp_list[5] )"
      ],
      "execution_count": null,
      "outputs": [
        {
          "output_type": "stream",
          "text": [
            "KING 5000\n",
            "BLAKE 2850\n",
            "CLARK 2450\n",
            "JONES 2975\n",
            "MARTIN 1250\n",
            "ALLEN 1600\n",
            "TURNER 1500\n",
            "JAMES 950\n",
            "WARD 1250\n",
            "FORD 3000\n",
            "SMITH 800\n",
            "SCOTT 3000\n",
            "ADAMS 1100\n",
            "MILLER 1300\n"
          ],
          "name": "stdout"
        }
      ]
    },
    {
      "cell_type": "markdown",
      "metadata": {
        "id": "bDsLxaGQ6Fqo"
      },
      "source": [
        ""
      ]
    },
    {
      "cell_type": "markdown",
      "metadata": {
        "id": "alUzbk0E6Fi_"
      },
      "source": [
        ""
      ]
    },
    {
      "cell_type": "markdown",
      "metadata": {
        "id": "nO9puLTD6FZ1"
      },
      "source": [
        "문제230. Pandas 를 이용하지 말고 이름과 월급 * 12.3 을 출력하시오"
      ]
    },
    {
      "cell_type": "code",
      "metadata": {
        "colab": {
          "base_uri": "https://localhost:8080/"
        },
        "id": "AAQ0k3i56GtY",
        "outputId": "2b4c71b0-ccdd-4d75-cc4d-d3e6fd5ad3c3"
      },
      "source": [
        "import csv\r\n",
        "\r\n",
        "file = open('/content/drive/MyDrive/data/emp2.csv') \r\n",
        "emp_csv = csv.reader(file)  \r\n",
        "\r\n",
        "for emp_list in emp_csv:\r\n",
        "    print( emp_list[1], int(emp_list[5]) * 12.3 )"
      ],
      "execution_count": null,
      "outputs": [
        {
          "output_type": "stream",
          "text": [
            "KING 61500.0\n",
            "BLAKE 35055.0\n",
            "CLARK 30135.0\n",
            "JONES 36592.5\n",
            "MARTIN 15375.0\n",
            "ALLEN 19680.0\n",
            "TURNER 18450.0\n",
            "JAMES 11685.0\n",
            "WARD 15375.0\n",
            "FORD 36900.0\n",
            "SMITH 9840.0\n",
            "SCOTT 36900.0\n",
            "ADAMS 13530.0\n",
            "MILLER 15990.000000000002\n"
          ],
          "name": "stdout"
        }
      ]
    },
    {
      "cell_type": "markdown",
      "metadata": {
        "id": "AJYgzVsB6tvX"
      },
      "source": [
        "설명: csv 파일의 내용을 읽어서 출력할 때 기본적으로 월급도 문자형으로 출력되므로 산술연산을 하려면 int() 함수를 이용해서 숫자형으로 변환해주어야 합니다."
      ]
    },
    {
      "cell_type": "markdown",
      "metadata": {
        "id": "pyVpJc_k6wiW"
      },
      "source": [
        ""
      ]
    },
    {
      "cell_type": "markdown",
      "metadata": {
        "id": "K6mZhZd-6wa3"
      },
      "source": [
        ""
      ]
    },
    {
      "cell_type": "markdown",
      "metadata": {
        "id": "DN1WLuXZ6wUP"
      },
      "source": [
        "문제231. 위의 결과를 다시 출력하는데 소수점 첫번째 자리에서 반올림되게 하시오!"
      ]
    },
    {
      "cell_type": "code",
      "metadata": {
        "colab": {
          "base_uri": "https://localhost:8080/"
        },
        "id": "jcFuacDi6tbn",
        "outputId": "b414c838-6f9a-43dd-f9e3-50f9e6f5cfb9"
      },
      "source": [
        "import csv\r\n",
        "\r\n",
        "file = open('/content/drive/MyDrive/data/emp2.csv') \r\n",
        "emp_csv = csv.reader(file)  \r\n",
        "\r\n",
        "for emp_list in emp_csv:\r\n",
        "    print( emp_list[1], round(int(emp_list[5]) * 12.3) )"
      ],
      "execution_count": null,
      "outputs": [
        {
          "output_type": "stream",
          "text": [
            "KING 61500\n",
            "BLAKE 35055\n",
            "CLARK 30135\n",
            "JONES 36592\n",
            "MARTIN 15375\n",
            "ALLEN 19680\n",
            "TURNER 18450\n",
            "JAMES 11685\n",
            "WARD 15375\n",
            "FORD 36900\n",
            "SMITH 9840\n",
            "SCOTT 36900\n",
            "ADAMS 13530\n",
            "MILLER 15990\n"
          ],
          "name": "stdout"
        }
      ]
    },
    {
      "cell_type": "markdown",
      "metadata": {
        "id": "Pcuz5J7E7JaN"
      },
      "source": [
        ""
      ]
    },
    {
      "cell_type": "markdown",
      "metadata": {
        "id": "Kmwo9Lub7LNR"
      },
      "source": [
        ""
      ]
    },
    {
      "cell_type": "markdown",
      "metadata": {
        "id": "ReyabfyM7Lp5"
      },
      "source": [
        "문제232. 직업이 SALESMAN 인 사원들의 이름과 직업을 출력하는데 판다스 이용하지말고 emp2.csv 를 읽어서 출력하시오 !"
      ]
    },
    {
      "cell_type": "code",
      "metadata": {
        "colab": {
          "base_uri": "https://localhost:8080/"
        },
        "id": "uQWkB2QV7NDT",
        "outputId": "f01e0343-7aa7-4883-eaf1-dc0ab1589e08"
      },
      "source": [
        "import csv\r\n",
        "\r\n",
        "file = open('/content/drive/MyDrive/data/emp2.csv')\r\n",
        "emp_csv = csv.reader(file)\r\n",
        "\r\n",
        "for emp_list in emp_csv:\r\n",
        "    if emp_list[2] == 'SALESMAN':\r\n",
        "        print(emp_list[1], emp_list[2])"
      ],
      "execution_count": null,
      "outputs": [
        {
          "output_type": "stream",
          "text": [
            "MARTIN SALESMAN\n",
            "ALLEN SALESMAN\n",
            "TURNER SALESMAN\n",
            "WARD SALESMAN\n"
          ],
          "name": "stdout"
        }
      ]
    },
    {
      "cell_type": "markdown",
      "metadata": {
        "id": "Q31o1bDQ7nXV"
      },
      "source": [
        ""
      ]
    },
    {
      "cell_type": "markdown",
      "metadata": {
        "id": "ieXJV1A17nPA"
      },
      "source": [
        ""
      ]
    },
    {
      "cell_type": "markdown",
      "metadata": {
        "id": "EC5bJmBf7nHY"
      },
      "source": [
        "문제233. 부서번호가 20번인 사원들의 이름과 월급과 부서번호를 출력하시오 !\r\n"
      ]
    },
    {
      "cell_type": "markdown",
      "metadata": {
        "id": "BkCeTL3g7sg_"
      },
      "source": [
        "판다스를 이용한 방법:"
      ]
    },
    {
      "cell_type": "code",
      "metadata": {
        "colab": {
          "base_uri": "https://localhost:8080/"
        },
        "id": "1SfuKyyW7rKm",
        "outputId": "460395d4-6d81-4170-9901-689976ba0eef"
      },
      "source": [
        "import pandas as pd\r\n",
        "\r\n",
        "emp = pd.read_csv('/content/drive/MyDrive/data/emp3.csv')\r\n",
        "result = emp[['ename', 'sal', 'deptno']][emp['deptno'] == 20]\r\n",
        "print(result)"
      ],
      "execution_count": null,
      "outputs": [
        {
          "output_type": "stream",
          "text": [
            "    ename   sal  deptno\n",
            "3   JONES  2975      20\n",
            "9    FORD  3000      20\n",
            "10  SMITH   800      20\n",
            "11  SCOTT  3000      20\n",
            "12  ADAMS  1100      20\n"
          ],
          "name": "stdout"
        }
      ]
    },
    {
      "cell_type": "markdown",
      "metadata": {
        "id": "RH8rcb0m89Rr"
      },
      "source": [
        ""
      ]
    },
    {
      "cell_type": "markdown",
      "metadata": {
        "id": "UMMkminL7tbk"
      },
      "source": [
        "판다스를 이용하지 않은 방법:"
      ]
    },
    {
      "cell_type": "code",
      "metadata": {
        "colab": {
          "base_uri": "https://localhost:8080/"
        },
        "id": "Tbsok3RO8FPe",
        "outputId": "172a7d91-8c15-446c-c317-c94bc6cba0c9"
      },
      "source": [
        "import csv\r\n",
        "\r\n",
        "file = open('/content/drive/MyDrive/data/emp2.csv')\r\n",
        "emp_csv = csv.reader(file)\r\n",
        "\r\n",
        "for emp_list in emp_csv:\r\n",
        "    if emp_list[7] == '20':\r\n",
        "        print(emp_list[1], emp_list[5], emp_list[7])"
      ],
      "execution_count": null,
      "outputs": [
        {
          "output_type": "stream",
          "text": [
            "JONES 2975 20\n",
            "FORD 3000 20\n",
            "SMITH 800 20\n",
            "SCOTT 3000 20\n",
            "ADAMS 1100 20\n"
          ],
          "name": "stdout"
        }
      ]
    },
    {
      "cell_type": "markdown",
      "metadata": {
        "id": "euTxS69B9D1y"
      },
      "source": [
        ""
      ]
    },
    {
      "cell_type": "markdown",
      "metadata": {
        "id": "htDhm-k39Dq7"
      },
      "source": [
        ""
      ]
    },
    {
      "cell_type": "markdown",
      "metadata": {
        "id": "-qcabFnF9DOV"
      },
      "source": [
        "**■ 69. 실수형 자료를 정수형 자료로 변환하기(int)**\r\n",
        "\r\n",
        "** 파이썬의 변환함수 정리  \r\n",
        "**\t데이터 유형\t변환함수\r\n",
        "\r\n",
        "    정수형\t   int\t   int()\r\n",
        "    문자형\t   str\t   str()\r\n",
        "    실수형\t   float\t float()\r\n",
        "    리스트형\t list\t  list()\r\n",
        "    튜플형\t   tuple\t tuple()\r\n",
        "\r\n",
        "코드 작성시 수학연산을 하다보면 정수끼리만 계산해야하는 경우가 있습니다.  \r\n",
        "이때 우리가 가진 데이터가 실수형이라면 실수형 자료를 정수형으로 변환한 후에 계산을 해주어야 합니다.  \r\n",
        "파이썬 내장함수 int() 는 인자로 입력된 실수형 자료를 정수형 자료로 변환해줍니다.  \r\n",
        "int() 는 입력된 실수형 자료의 소수부분은 버리고 정수부분만 취하여 정수값으로 리턴합니다.\r\n",
        "\r\n",
        "예제:"
      ]
    },
    {
      "cell_type": "code",
      "metadata": {
        "colab": {
          "base_uri": "https://localhost:8080/"
        },
        "id": "UXEUf-wg-b-d",
        "outputId": "c808860d-49ae-4f65-ff72-279e699f9429"
      },
      "source": [
        "print( int(-5.4) )"
      ],
      "execution_count": null,
      "outputs": [
        {
          "output_type": "stream",
          "text": [
            "-5\n"
          ],
          "name": "stdout"
        }
      ]
    },
    {
      "cell_type": "markdown",
      "metadata": {
        "id": "pUJN8C9H-em5"
      },
      "source": [
        ""
      ]
    },
    {
      "cell_type": "markdown",
      "metadata": {
        "id": "SwU5YW1u-efM"
      },
      "source": [
        ""
      ]
    },
    {
      "cell_type": "markdown",
      "metadata": {
        "id": "mZ6A9EKV-eXa"
      },
      "source": [
        "문제234. Pandas를 이용해서 emp3.csv 를 읽어다가 이름과 월급을 출력하는데 월급을 출력할때 소수점 이하는 버리고 정수부분만 출력되게하시오 !"
      ]
    },
    {
      "cell_type": "code",
      "metadata": {
        "colab": {
          "base_uri": "https://localhost:8080/"
        },
        "id": "XER5M2uD-hji",
        "outputId": "cd3884e4-23db-4e74-9304-3e7e7a631c05"
      },
      "source": [
        "import pandas as pd\r\n",
        "\r\n",
        "emp = pd.read_csv('/content/drive/MyDrive/data/emp3.csv')\r\n",
        "print(emp[['ename', 'sal']])"
      ],
      "execution_count": null,
      "outputs": [
        {
          "output_type": "stream",
          "text": [
            "     ename   sal\n",
            "0     KING  5000\n",
            "1    BLAKE  2850\n",
            "2    CLARK  2450\n",
            "3    JONES  2975\n",
            "4   MARTIN  1250\n",
            "5    ALLEN  1600\n",
            "6   TURNER  1500\n",
            "7    JAMES   950\n",
            "8     WARD  1250\n",
            "9     FORD  3000\n",
            "10   SMITH   800\n",
            "11   SCOTT  3000\n",
            "12   ADAMS  1100\n",
            "13  MILLER  1300\n"
          ],
          "name": "stdout"
        }
      ]
    },
    {
      "cell_type": "markdown",
      "metadata": {
        "id": "7jT-J1UT_SaK"
      },
      "source": [
        "설명: int() 함수를 따로 쓰지 않아도 정수형으로 출력되고 있습니다.  \r\n",
        "Pandas 를 이용하지 않았을때와 다르게 숫자는 바로 숫자형으로 출력해주고 있습니다.\r\n"
      ]
    },
    {
      "cell_type": "markdown",
      "metadata": {
        "id": "Bu-VstmO_ema"
      },
      "source": [
        ""
      ]
    },
    {
      "cell_type": "markdown",
      "metadata": {
        "id": "USDu7-bJ_eda"
      },
      "source": [
        ""
      ]
    },
    {
      "cell_type": "markdown",
      "metadata": {
        "id": "8QA-7_Vf_eUC"
      },
      "source": [
        "**■ 70. 정수형 자료를 실수형 자료로 변환하기(float)**\r\n",
        "\r\n",
        "이미지 처리나 공학용 프로그램을 작성할 때 실수형 끼리만 계산해야하는 경우가 많습니다.  \r\n",
        "이 때 우리가 가진 데이터가 정수형이라고 하면 정수형 자료를 실수형 자료로 변환한 후에 계산해 주어야 합니다.  \r\n",
        "파이썬 내장함수 float() 은 인자로 입력되 정수형 자료를 실수형으로 변환해 줍니다.\r\n",
        "\r\n",
        "예:"
      ]
    },
    {
      "cell_type": "code",
      "metadata": {
        "colab": {
          "base_uri": "https://localhost:8080/"
        },
        "id": "BSnai-qV_i3B",
        "outputId": "4a9b6b2c-3926-4666-ea27-2352b35b5e3d"
      },
      "source": [
        "print( float(10) )"
      ],
      "execution_count": null,
      "outputs": [
        {
          "output_type": "stream",
          "text": [
            "10.0\n"
          ],
          "name": "stdout"
        }
      ]
    },
    {
      "cell_type": "markdown",
      "metadata": {
        "id": "59pg444l_mE-"
      },
      "source": [
        ""
      ]
    },
    {
      "cell_type": "markdown",
      "metadata": {
        "id": "DGOBdkZL_l8-"
      },
      "source": [
        ""
      ]
    },
    {
      "cell_type": "markdown",
      "metadata": {
        "id": "yP0EpEOf_ljC"
      },
      "source": [
        "문제235. Pandas 를 이용해서 이름과 월급을 출력하는데 월급을 출력할 때 실수형으로 출력하시오 !\r\n"
      ]
    },
    {
      "cell_type": "code",
      "metadata": {
        "colab": {
          "base_uri": "https://localhost:8080/"
        },
        "id": "32aTd89a_nk6",
        "outputId": "60a3bc3f-5e9c-49e4-a780-02d7ed77eebf"
      },
      "source": [
        "import pandas as pd\r\n",
        "\r\n",
        "emp = pd.read_csv('/content/drive/MyDrive/data/emp3.csv')\r\n",
        "emp['sal'] = emp['sal'].apply(float)         # emp 데이터프레임의 sal 컬럼 데이터를 float(실수형)로 변환해서\r\n",
        "                                             # emp 데이터 프레임의 sal 컬럼에 할당.\r\n",
        "print(emp[['ename', 'sal']])"
      ],
      "execution_count": null,
      "outputs": [
        {
          "output_type": "stream",
          "text": [
            "     ename     sal\n",
            "0     KING  5000.0\n",
            "1    BLAKE  2850.0\n",
            "2    CLARK  2450.0\n",
            "3    JONES  2975.0\n",
            "4   MARTIN  1250.0\n",
            "5    ALLEN  1600.0\n",
            "6   TURNER  1500.0\n",
            "7    JAMES   950.0\n",
            "8     WARD  1250.0\n",
            "9     FORD  3000.0\n",
            "10   SMITH   800.0\n",
            "11   SCOTT  3000.0\n",
            "12   ADAMS  1100.0\n",
            "13  MILLER  1300.0\n"
          ],
          "name": "stdout"
        }
      ]
    },
    {
      "cell_type": "markdown",
      "metadata": {
        "id": "LLYpONZ1AIL0"
      },
      "source": [
        "설명: emp['sal'].apply() 는 emp 데이터 프레임에 sal 시리즈에 apply 함수를 적용해서 데이터 유형을 변경할 수 있습니다.\r\n",
        "\r\n",
        "    emp['sal'].apply(float)  --> 이렇게 하면 데이터 유형을 실수형으로 변경하는 것"
      ]
    },
    {
      "cell_type": "markdown",
      "metadata": {
        "id": "19AuNf1vAOpy"
      },
      "source": [
        ""
      ]
    },
    {
      "cell_type": "markdown",
      "metadata": {
        "id": "zq_ucWwCAO8S"
      },
      "source": [
        ""
      ]
    },
    {
      "cell_type": "markdown",
      "metadata": {
        "id": "J29vR4d5AOxb"
      },
      "source": [
        "**■ 71. 정수 리스트에서 소수만 걸러내기(filter)**\r\n",
        "\r\n",
        "파이썬 내장함수인 filter() 는 리스트와 같은 자료형에서\r\n",
        "특정 조건을 만족하는 값만 편리하게 추출할 수 있는 방법을 제공합니다.  \r\n",
        "filter() 의 첫번째 인자는 특정 조건의 값을 추출하는 함수가 입력되며 두번째 인자(입력매개변수) 는 리스트와 같은 자료형이 입력됩니다.\r\n",
        "\r\n",
        "예제: 숫자가 나열되어있는 리스트에서 짝수만 추출해내는 코드를 작성\r\n",
        "\r\n",
        "    a = [ 1, 2, 3, 4, 5, 6, 7, 8, 9, 10 ]\r\n"
      ]
    },
    {
      "cell_type": "markdown",
      "metadata": {
        "id": "7XRe0322AeXG"
      },
      "source": [
        ""
      ]
    },
    {
      "cell_type": "markdown",
      "metadata": {
        "id": "3DaGvGVRAmv5"
      },
      "source": [
        " 1. 숫자를 입력하면 짝수이면 결과를 출력하고 홀수이면 출력하지 않는 함수 생성"
      ]
    },
    {
      "cell_type": "code",
      "metadata": {
        "colab": {
          "base_uri": "https://localhost:8080/"
        },
        "id": "eqbYn3p7Amd1",
        "outputId": "d49105d6-05a9-4765-9e2f-079a3960d878"
      },
      "source": [
        "def get_even(num):\r\n",
        "    if num % 2 == 0:\r\n",
        "        return num\r\n",
        "    else:\r\n",
        "        return        # return 다음에 아무것도 쓰지 않으면 아무것도 리턴되지 않습니다.\r\n",
        "\r\n",
        "print(get_even(2))   \r\n",
        "print(get_even(7)) "
      ],
      "execution_count": null,
      "outputs": [
        {
          "output_type": "stream",
          "text": [
            "2\n",
            "None\n"
          ],
          "name": "stdout"
        }
      ]
    },
    {
      "cell_type": "markdown",
      "metadata": {
        "id": "rGrYF-UEArvM"
      },
      "source": [
        ""
      ]
    },
    {
      "cell_type": "markdown",
      "metadata": {
        "id": "PkVBY_S2ArkB"
      },
      "source": [
        " 2. filter 함수와 get_even 함수를 이용해서 위의 a 리스트에서 짝수를 추출하기"
      ]
    },
    {
      "cell_type": "code",
      "metadata": {
        "colab": {
          "base_uri": "https://localhost:8080/"
        },
        "id": "ktPfPtHBAaP6",
        "outputId": "c931d975-449f-4757-9369-abc94f8a6a43"
      },
      "source": [
        "a = [ 1, 2, 3, 4, 5, 6, 7, 8, 9, 10 ]\r\n",
        "\r\n",
        "result = filter(get_even, a)   # filter( 함수이름,  리스트이름 )\r\n",
        "\r\n",
        "print(result)           # 메모리 주소값\r\n",
        "print( list(result) )   # list 함수로 리스트 자료형으로 변환해야 결과가 출력됩니다."
      ],
      "execution_count": null,
      "outputs": [
        {
          "output_type": "stream",
          "text": [
            "<filter object at 0x7fde8b90a8d0>\n",
            "[2, 4, 6, 8, 10]\n"
          ],
          "name": "stdout"
        }
      ]
    },
    {
      "cell_type": "markdown",
      "metadata": {
        "id": "OMfdmMouAuzR"
      },
      "source": [
        ""
      ]
    },
    {
      "cell_type": "markdown",
      "metadata": {
        "id": "m15vAIfnAvMT"
      },
      "source": [
        ""
      ]
    },
    {
      "cell_type": "markdown",
      "metadata": {
        "id": "EjpyB8KuAxlQ"
      },
      "source": [
        "문제236. 아래의 리스트에서 숫자가 300 이상이면 출력하고 300 미만이면 출력되지 않게 하시오 !\r\n",
        "\r\n",
        "    b = [ 100, 352, 254, 456, 123, 234, 567, 903 ]\r\n"
      ]
    },
    {
      "cell_type": "code",
      "metadata": {
        "colab": {
          "base_uri": "https://localhost:8080/"
        },
        "id": "3gFUKV-vBt0T",
        "outputId": "ab1f9e54-6500-4549-b274-ef34ee66e3bb"
      },
      "source": [
        "def get_over(num):\r\n",
        "    if num >= 300:\r\n",
        "        return num\r\n",
        "    else:\r\n",
        "        return\r\n",
        "\r\n",
        "b = [ 100, 352, 254, 456, 123, 234, 567, 903 ]\r\n",
        "result = filter(get_over, b)\r\n",
        "print( list(result) )"
      ],
      "execution_count": null,
      "outputs": [
        {
          "output_type": "stream",
          "text": [
            "[352, 456, 567, 903]\n"
          ],
          "name": "stdout"
        }
      ]
    },
    {
      "cell_type": "markdown",
      "metadata": {
        "id": "ppeQ8z6yCCAW"
      },
      "source": [
        ""
      ]
    },
    {
      "cell_type": "markdown",
      "metadata": {
        "id": "kwm44y9ECB4r"
      },
      "source": [
        ""
      ]
    },
    {
      "cell_type": "markdown",
      "metadata": {
        "id": "mwCHqOX5CBwk"
      },
      "source": [
        "문제237. 우리반 데이터에서 나이가 30살 이상인 나이만 따로 결과 리스트로 출력하시오"
      ]
    },
    {
      "cell_type": "code",
      "metadata": {
        "colab": {
          "base_uri": "https://localhost:8080/"
        },
        "id": "ey6EQJbOCDSN",
        "outputId": "133b444b-d6c9-4c2e-f02e-9f948eaaa210"
      },
      "source": [
        "import pandas as pd\r\n",
        "\r\n",
        "emp122 = pd.read_csv('/content/drive/MyDrive/data/emp122.csv')\r\n",
        "a = []\r\n",
        "\r\n",
        "for i in emp122['AGE']:\r\n",
        "    if i >= 30:\r\n",
        "        a.append(i)\r\n",
        "\r\n",
        "print(a)"
      ],
      "execution_count": null,
      "outputs": [
        {
          "output_type": "stream",
          "text": [
            "[31, 35, 33, 30, 36, 44]\n"
          ],
          "name": "stdout"
        }
      ]
    },
    {
      "cell_type": "markdown",
      "metadata": {
        "id": "eQHeR7w-Cf3-"
      },
      "source": [
        ""
      ]
    },
    {
      "cell_type": "markdown",
      "metadata": {
        "id": "HOVW-NvsCfvY"
      },
      "source": [
        ""
      ]
    },
    {
      "cell_type": "markdown",
      "metadata": {
        "id": "UFzBoZCGCfma"
      },
      "source": [
        "**■ 72. 최대값, 최소값 구하기(max, min)**\r\n",
        "\r\n",
        "max() 와 min() 은 인자로 입력된 자료에서 최대, 최소값을 구해주는 함수입니다.  \r\n",
        "max() 와 min() 의 인자로 리스트와 같은 시퀀스 자료가 입력되면\r\n",
        "스퀀스 자료의 요소 중 최대값 또는 최소값을 구하여 리턴합니다.\r\n",
        "\r\n",
        "    오라클\t vs \t파이썬\r\n",
        "      max\t      \t max\r\n",
        "      min\t      \t min\r\n",
        "     count\t    \t count\r\n",
        "      sum\t      \t sum\r\n",
        "      avg\t\t       mean\r\n",
        "\r\n",
        "예제:"
      ]
    },
    {
      "cell_type": "code",
      "metadata": {
        "colab": {
          "base_uri": "https://localhost:8080/"
        },
        "id": "AKZC782PCvvf",
        "outputId": "11cef62a-0855-44fb-be38-9a2a8bec0751"
      },
      "source": [
        "a = [ 8, 7, 12, 55, 21, 34, 15, 9, 22 ]\r\n",
        "print( max(a) )"
      ],
      "execution_count": null,
      "outputs": [
        {
          "output_type": "stream",
          "text": [
            "55\n"
          ],
          "name": "stdout"
        }
      ]
    },
    {
      "cell_type": "markdown",
      "metadata": {
        "id": "SiVdFPluCzH6"
      },
      "source": [
        ""
      ]
    },
    {
      "cell_type": "markdown",
      "metadata": {
        "id": "JVH3vKx1Cy_V"
      },
      "source": [
        ""
      ]
    },
    {
      "cell_type": "markdown",
      "metadata": {
        "id": "qfFTjfB8Cy4U"
      },
      "source": [
        "문제238. 사원 테이블에서 최대월급을 출력하시오 !"
      ]
    },
    {
      "cell_type": "markdown",
      "metadata": {
        "id": "iVsnQTyTC1NM"
      },
      "source": [
        " 1. 판다스를 이용했을 때"
      ]
    },
    {
      "cell_type": "code",
      "metadata": {
        "colab": {
          "base_uri": "https://localhost:8080/"
        },
        "id": "jaEc6ZZqC3IH",
        "outputId": "a7b7b845-e20d-4abd-c36d-ff055de4802c"
      },
      "source": [
        "import pandas as pd\r\n",
        "\r\n",
        "emp = pd.read_csv('/content/drive/MyDrive/data/emp3.csv')\r\n",
        "result = emp['sal'].max()\r\n",
        "print(result)"
      ],
      "execution_count": null,
      "outputs": [
        {
          "output_type": "stream",
          "text": [
            "5000\n"
          ],
          "name": "stdout"
        }
      ]
    },
    {
      "cell_type": "markdown",
      "metadata": {
        "id": "oQk1eLOIC6S9"
      },
      "source": [
        ""
      ]
    },
    {
      "cell_type": "markdown",
      "metadata": {
        "id": "LSngJ8KNC3wY"
      },
      "source": [
        " 2. 판다스를 이용하지 않았을 때\r\n"
      ]
    },
    {
      "cell_type": "code",
      "metadata": {
        "colab": {
          "base_uri": "https://localhost:8080/"
        },
        "id": "LAxG5yxrC60c",
        "outputId": "670f2895-79b7-45f5-d77c-2be19cccae86"
      },
      "source": [
        "import csv\r\n",
        "\r\n",
        "file = open('/content/drive/MyDrive/data/emp2.csv')\r\n",
        "emp_csv = csv.reader(file)\r\n",
        "sal = []\r\n",
        "\r\n",
        "for i in emp_csv:\r\n",
        "    sal.append( int(i[5]) )\r\n",
        "  \r\n",
        "print( max(sal) )"
      ],
      "execution_count": null,
      "outputs": [
        {
          "output_type": "stream",
          "text": [
            "5000\n"
          ],
          "name": "stdout"
        }
      ]
    },
    {
      "cell_type": "markdown",
      "metadata": {
        "id": "v3tFpLnpC3cL"
      },
      "source": [
        ""
      ]
    },
    {
      "cell_type": "markdown",
      "metadata": {
        "id": "AePMEUIkDjw7"
      },
      "source": [
        ""
      ]
    },
    {
      "cell_type": "markdown",
      "metadata": {
        "id": "f7zlXD2mDjoD"
      },
      "source": [
        "문제239. 우리반 데이터(emp122.csv) 에서 최소나이를 출력하시오 !"
      ]
    },
    {
      "cell_type": "markdown",
      "metadata": {
        "id": "Aa7Kb0YBDojU"
      },
      "source": [
        "\r\n",
        " 1. 판다스를 이용했을 때"
      ]
    },
    {
      "cell_type": "code",
      "metadata": {
        "colab": {
          "base_uri": "https://localhost:8080/"
        },
        "id": "7UuVzLbIDm-w",
        "outputId": "c5fbb314-0405-4877-8da7-f8bfc802a19a"
      },
      "source": [
        "import pandas as pd\r\n",
        "\r\n",
        "emp12 = pd.read_csv('/content/drive/MyDrive/data/emp122.csv')\r\n",
        "result = emp12['AGE'].min()\r\n",
        "print(result)"
      ],
      "execution_count": null,
      "outputs": [
        {
          "output_type": "stream",
          "text": [
            "24\n"
          ],
          "name": "stdout"
        }
      ]
    },
    {
      "cell_type": "markdown",
      "metadata": {
        "id": "IywsfLP7Dr_M"
      },
      "source": [
        ""
      ]
    },
    {
      "cell_type": "markdown",
      "metadata": {
        "id": "72oP7LGXDryr"
      },
      "source": [
        " 2. 판다스를 이용하지 않았을 때(emp1222.csv)\r\n",
        "\r\n"
      ]
    },
    {
      "cell_type": "code",
      "metadata": {
        "colab": {
          "base_uri": "https://localhost:8080/"
        },
        "id": "E18h5VtyDujL",
        "outputId": "4f693f4b-a8dc-417a-c6c1-4bedccdf1402"
      },
      "source": [
        "import csv\r\n",
        "\r\n",
        "file = open('/content/drive/MyDrive/data/emp1222.csv', encoding = 'cp949')\r\n",
        "emp1222 = csv.reader(file)\r\n",
        "age = []\r\n",
        "\r\n",
        "for i in emp1222:\r\n",
        "    age.append( i[2] )\r\n",
        "  \r\n",
        "print(min(age))"
      ],
      "execution_count": null,
      "outputs": [
        {
          "output_type": "stream",
          "text": [
            "24\n"
          ],
          "name": "stdout"
        }
      ]
    },
    {
      "cell_type": "markdown",
      "metadata": {
        "id": "k7dBFNRTFmq9"
      },
      "source": [
        ""
      ]
    },
    {
      "cell_type": "markdown",
      "metadata": {
        "id": "sCNH0C77Fmbd"
      },
      "source": [
        ""
      ]
    },
    {
      "cell_type": "markdown",
      "metadata": {
        "id": "h7sLIUHWFmUd"
      },
      "source": [
        "**■ 73. 판다스에서 결측치(NaN) 확인하기**\r\n",
        "\r\n",
        "emp3.csv 에 comm 처럼 결측치(NaN : Not a Number)를 처리하는 판다스 함수를 배웁니다.\r\n",
        "\r\n",
        "예: Pandas 를 이용해서 이름과 커미션을 출력하시오 !\r\n"
      ]
    },
    {
      "cell_type": "code",
      "metadata": {
        "colab": {
          "base_uri": "https://localhost:8080/"
        },
        "id": "nzTgdrKcFqCN",
        "outputId": "babfa3ab-bb01-4059-fe1b-421fe9775f2c"
      },
      "source": [
        "import pandas as pd\r\n",
        "\r\n",
        "emp = pd.read_csv('/content/drive/MyDrive/data/emp3.csv')\r\n",
        "print(emp[['ename', 'comm']])"
      ],
      "execution_count": null,
      "outputs": [
        {
          "output_type": "stream",
          "text": [
            "     ename    comm\n",
            "0     KING     NaN\n",
            "1    BLAKE     NaN\n",
            "2    CLARK     NaN\n",
            "3    JONES     NaN\n",
            "4   MARTIN  1400.0\n",
            "5    ALLEN   300.0\n",
            "6   TURNER     0.0\n",
            "7    JAMES     NaN\n",
            "8     WARD   500.0\n",
            "9     FORD     NaN\n",
            "10   SMITH     NaN\n",
            "11   SCOTT     NaN\n",
            "12   ADAMS     NaN\n",
            "13  MILLER     NaN\n"
          ],
          "name": "stdout"
        }
      ]
    },
    {
      "cell_type": "markdown",
      "metadata": {
        "id": "sPRjTLMxF4C6"
      },
      "source": [
        ""
      ]
    },
    {
      "cell_type": "markdown",
      "metadata": {
        "id": "e9a3zpXcF38g"
      },
      "source": [
        ""
      ]
    },
    {
      "cell_type": "markdown",
      "metadata": {
        "id": "L1ch_vezF3oE"
      },
      "source": [
        "문제240. 커미션이 결측치(NaN) 인 사원들의 이름과 커미션을 출력하시오"
      ]
    },
    {
      "cell_type": "code",
      "metadata": {
        "colab": {
          "base_uri": "https://localhost:8080/"
        },
        "id": "OceKQ6m3F41f",
        "outputId": "d0369e9d-7ce0-41ab-b1bf-74c2e8740449"
      },
      "source": [
        "import pandas as pd\r\n",
        "\r\n",
        "emp = pd.read_csv('/content/drive/MyDrive/data/emp3.csv')\r\n",
        "print(emp[['ename', 'comm']][emp['comm'].isnull()])"
      ],
      "execution_count": null,
      "outputs": [
        {
          "output_type": "stream",
          "text": [
            "     ename  comm\n",
            "0     KING   NaN\n",
            "1    BLAKE   NaN\n",
            "2    CLARK   NaN\n",
            "3    JONES   NaN\n",
            "7    JAMES   NaN\n",
            "9     FORD   NaN\n",
            "10   SMITH   NaN\n",
            "11   SCOTT   NaN\n",
            "12   ADAMS   NaN\n",
            "13  MILLER   NaN\n"
          ],
          "name": "stdout"
        }
      ]
    },
    {
      "cell_type": "markdown",
      "metadata": {
        "id": "Q19U7ausF-4-"
      },
      "source": [
        ""
      ]
    },
    {
      "cell_type": "markdown",
      "metadata": {
        "id": "6CQ2-LIsF-wZ"
      },
      "source": [
        ""
      ]
    },
    {
      "cell_type": "markdown",
      "metadata": {
        "id": "-N-mJISoF-ni"
      },
      "source": [
        "문제241. 커미션이 결측치(NaN) 가 아닌 사원들의 이름과 커미션을 출력하시오 !"
      ]
    },
    {
      "cell_type": "code",
      "metadata": {
        "colab": {
          "base_uri": "https://localhost:8080/"
        },
        "id": "vsVRo2BuGBA8",
        "outputId": "6a979d1f-733e-4431-9eb9-ae6a64ffd6b0"
      },
      "source": [
        "import pandas as pd\r\n",
        "\r\n",
        "emp = pd.read_csv('/content/drive/MyDrive/data/emp3.csv')\r\n",
        "print(emp[['ename', 'comm']][~emp['comm'].isnull()])"
      ],
      "execution_count": null,
      "outputs": [
        {
          "output_type": "stream",
          "text": [
            "    ename    comm\n",
            "4  MARTIN  1400.0\n",
            "5   ALLEN   300.0\n",
            "6  TURNER     0.0\n",
            "8    WARD   500.0\n"
          ],
          "name": "stdout"
        }
      ]
    },
    {
      "cell_type": "markdown",
      "metadata": {
        "id": "pdy7iRaYGJvO"
      },
      "source": [
        ""
      ]
    },
    {
      "cell_type": "markdown",
      "metadata": {
        "id": "SWYgtiXnGJlY"
      },
      "source": [
        ""
      ]
    },
    {
      "cell_type": "markdown",
      "metadata": {
        "id": "jOAhLfXfGJeV"
      },
      "source": [
        "문제242. emp3.csv 에 결측치가 있는지 확인하는 방법 ?"
      ]
    },
    {
      "cell_type": "code",
      "metadata": {
        "colab": {
          "base_uri": "https://localhost:8080/"
        },
        "id": "3RoayzgwGK6x",
        "outputId": "cf6987d7-1b48-4182-e433-361af5957a1f"
      },
      "source": [
        "import pandas as pd\r\n",
        "\r\n",
        "emp = pd.read_csv('/content/drive/MyDrive/data/emp3.csv')\r\n",
        "print( emp.isnull().sum() )"
      ],
      "execution_count": null,
      "outputs": [
        {
          "output_type": "stream",
          "text": [
            "index        0\n",
            "empno        0\n",
            "ename        0\n",
            "job          0\n",
            "mgr          1\n",
            "hiredate     0\n",
            "sal          0\n",
            "comm        10\n",
            "deptno       0\n",
            "dtype: int64\n"
          ],
          "name": "stdout"
        }
      ]
    },
    {
      "cell_type": "markdown",
      "metadata": {
        "id": "f61XDiCjGyQb"
      },
      "source": [
        "설명: 결측치가 있으면 데이터 분석하기가 어렵고 머신러닝을 이용한 데이터 분석인 경우\t좋은(정확도가 높은) 머신러닝 모델이 나오기 어렵습니다. 결측치를 처리 해줘야 합니다.\r\n"
      ]
    },
    {
      "cell_type": "markdown",
      "metadata": {
        "id": "gHnvZ7BWG3Fn"
      },
      "source": [
        ""
      ]
    },
    {
      "cell_type": "markdown",
      "metadata": {
        "id": "dvFzeOHkG29D"
      },
      "source": [
        ""
      ]
    },
    {
      "cell_type": "markdown",
      "metadata": {
        "id": "a9RYwjExG20P"
      },
      "source": [
        "문제244. 타이타닉 데이터에 결측치가 어느 컬럼에 많은지 확인하시오 !"
      ]
    },
    {
      "cell_type": "code",
      "metadata": {
        "colab": {
          "base_uri": "https://localhost:8080/"
        },
        "id": "MZwl6NCSG0gj",
        "outputId": "c028658a-fba6-456a-eaa2-c7124efb87bc"
      },
      "source": [
        "import pandas as pd\r\n",
        "\r\n",
        "tat = pd.read_csv('/content/drive/MyDrive/data/train.csv')\r\n",
        "print( tat.isnull().sum() )"
      ],
      "execution_count": null,
      "outputs": [
        {
          "output_type": "stream",
          "text": [
            "PassengerId      0\n",
            "Survived         0\n",
            "Pclass           0\n",
            "Name             0\n",
            "Sex              0\n",
            "Age            177\n",
            "SibSp            0\n",
            "Parch            0\n",
            "Ticket           0\n",
            "Fare             0\n",
            "Cabin          687\n",
            "Embarked         2\n",
            "dtype: int64\n"
          ],
          "name": "stdout"
        }
      ]
    },
    {
      "cell_type": "markdown",
      "metadata": {
        "id": "o-PgJQa9H89_"
      },
      "source": [
        ""
      ]
    },
    {
      "cell_type": "markdown",
      "metadata": {
        "id": "Z-qBG_9yH80A"
      },
      "source": [
        ""
      ]
    },
    {
      "cell_type": "markdown",
      "metadata": {
        "id": "X8gwiERmH8ow"
      },
      "source": [
        "**■ 74. 판다스에서 파생변수 추가하는 방법**\r\n",
        "\r\n",
        "파생변수란 기존의 데이터를 가지고 새롭게 가공해서 만든 새로운 컬럼입니다.\r\n",
        "\r\n",
        "예제: 판다스에서 컬럼 추가하는 방법\r\n",
        "\r\n",
        "emp 데이터 프레임에 sal 의 데이터와 똑같은 데이터로 sal2 라는 컬럼을 추가하려면 ?"
      ]
    },
    {
      "cell_type": "code",
      "metadata": {
        "colab": {
          "base_uri": "https://localhost:8080/"
        },
        "id": "nigFXAC8IH8Z",
        "outputId": "7baf1a6b-c829-45d3-9896-3cca95e09650"
      },
      "source": [
        "import pandas as pd\r\n",
        "\r\n",
        "emp = pd.read_csv('/content/drive/MyDrive/data/emp3.csv')\r\n",
        "emp['sal2'] = emp['sal']            # emp 데이터 프레임에 sal2 컬럼을 추가하는데\r\n",
        "                                    # 데이터는 emp 데이터 프레임에 sal 로 하시오\r\n",
        "print(emp)"
      ],
      "execution_count": null,
      "outputs": [
        {
          "output_type": "stream",
          "text": [
            "    index  empno   ename        job  ...   sal    comm  deptno  sal2\n",
            "0       1   7839    KING  PRESIDENT  ...  5000     NaN      10  5000\n",
            "1       2   7698   BLAKE    MANAGER  ...  2850     NaN      30  2850\n",
            "2       3   7782   CLARK    MANAGER  ...  2450     NaN      10  2450\n",
            "3       4   7566   JONES    MANAGER  ...  2975     NaN      20  2975\n",
            "4       5   7654  MARTIN   SALESMAN  ...  1250  1400.0      30  1250\n",
            "5       6   7499   ALLEN   SALESMAN  ...  1600   300.0      30  1600\n",
            "6       7   7844  TURNER   SALESMAN  ...  1500     0.0      30  1500\n",
            "7       8   7900   JAMES      CLERK  ...   950     NaN      30   950\n",
            "8       9   7521    WARD   SALESMAN  ...  1250   500.0      30  1250\n",
            "9      10   7902    FORD    ANALYST  ...  3000     NaN      20  3000\n",
            "10     11   7369   SMITH      CLERK  ...   800     NaN      20   800\n",
            "11     12   7788   SCOTT    ANALYST  ...  3000     NaN      20  3000\n",
            "12     13   7876   ADAMS      CLERK  ...  1100     NaN      20  1100\n",
            "13     14   7934  MILLER      CLERK  ...  1300     NaN      10  1300\n",
            "\n",
            "[14 rows x 10 columns]\n"
          ],
          "name": "stdout"
        }
      ]
    },
    {
      "cell_type": "markdown",
      "metadata": {
        "id": "xNN8BzVGIgwC"
      },
      "source": [
        ""
      ]
    },
    {
      "cell_type": "markdown",
      "metadata": {
        "id": "nlEkQCGhInjV"
      },
      "source": [
        ""
      ]
    },
    {
      "cell_type": "markdown",
      "metadata": {
        "id": "Zmp1GVFqIn5U"
      },
      "source": [
        "문제245. Pandas 를 이용해서 이름과 부서위치를 출력하시오 ! \r\n",
        "\t     (emp3.csv 와 dept3.csv 를 이용해서 조인하세요)"
      ]
    },
    {
      "cell_type": "code",
      "metadata": {
        "colab": {
          "base_uri": "https://localhost:8080/"
        },
        "id": "hmsTzUaKIrA9",
        "outputId": "a45aa631-9487-4541-9c0a-cf6d18d35665"
      },
      "source": [
        "import pandas as pd\r\n",
        "\r\n",
        "emp = pd.read_csv('/content/drive/MyDrive/data/emp3.csv')\r\n",
        "dept = pd.read_csv('/content/drive/MyDrive/data/dept3.csv')\r\n",
        "result = pd.merge(emp, dept, on = 'deptno')\r\n",
        "print(result[['ename', 'loc']])"
      ],
      "execution_count": null,
      "outputs": [
        {
          "output_type": "stream",
          "text": [
            "     ename       loc\n",
            "0     KING  NEW YORK\n",
            "1    CLARK  NEW YORK\n",
            "2   MILLER  NEW YORK\n",
            "3    BLAKE   CHICAGO\n",
            "4   MARTIN   CHICAGO\n",
            "5    ALLEN   CHICAGO\n",
            "6   TURNER   CHICAGO\n",
            "7    JAMES   CHICAGO\n",
            "8     WARD   CHICAGO\n",
            "9    JONES    DALLAS\n",
            "10    FORD    DALLAS\n",
            "11   SMITH    DALLAS\n",
            "12   SCOTT    DALLAS\n",
            "13   ADAMS    DALLAS\n"
          ],
          "name": "stdout"
        }
      ]
    },
    {
      "cell_type": "markdown",
      "metadata": {
        "id": "6O7rqa0gI9zx"
      },
      "source": [
        ""
      ]
    },
    {
      "cell_type": "markdown",
      "metadata": {
        "id": "J5bNNq2BI9nF"
      },
      "source": [
        ""
      ]
    },
    {
      "cell_type": "markdown",
      "metadata": {
        "id": "9IRpG7SEI9fx"
      },
      "source": [
        "문제246. emp 데이터 프레임에 loc 컬럼을 추가하고 해당 사원의 부서위치로 값을 갱신하시오 !\r\n"
      ]
    },
    {
      "cell_type": "code",
      "metadata": {
        "colab": {
          "base_uri": "https://localhost:8080/"
        },
        "id": "SMOR4aJDI_jo",
        "outputId": "51f31927-0280-483f-9edf-a29bd5dec1cd"
      },
      "source": [
        "import pandas as pd\r\n",
        "\r\n",
        "emp = pd.read_csv('/content/drive/MyDrive/data/emp3.csv')\r\n",
        "dept = pd.read_csv('/content/drive/MyDrive/data/dept3.csv')\r\n",
        "result = pd.merge(emp, dept, on = 'deptno')\r\n",
        "emp['loc']  = result['loc']\r\n",
        "print(emp)"
      ],
      "execution_count": null,
      "outputs": [
        {
          "output_type": "stream",
          "text": [
            "    index  empno   ename        job  ...   sal    comm  deptno       loc\n",
            "0       1   7839    KING  PRESIDENT  ...  5000     NaN      10  NEW YORK\n",
            "1       2   7698   BLAKE    MANAGER  ...  2850     NaN      30  NEW YORK\n",
            "2       3   7782   CLARK    MANAGER  ...  2450     NaN      10  NEW YORK\n",
            "3       4   7566   JONES    MANAGER  ...  2975     NaN      20   CHICAGO\n",
            "4       5   7654  MARTIN   SALESMAN  ...  1250  1400.0      30   CHICAGO\n",
            "5       6   7499   ALLEN   SALESMAN  ...  1600   300.0      30   CHICAGO\n",
            "6       7   7844  TURNER   SALESMAN  ...  1500     0.0      30   CHICAGO\n",
            "7       8   7900   JAMES      CLERK  ...   950     NaN      30   CHICAGO\n",
            "8       9   7521    WARD   SALESMAN  ...  1250   500.0      30   CHICAGO\n",
            "9      10   7902    FORD    ANALYST  ...  3000     NaN      20    DALLAS\n",
            "10     11   7369   SMITH      CLERK  ...   800     NaN      20    DALLAS\n",
            "11     12   7788   SCOTT    ANALYST  ...  3000     NaN      20    DALLAS\n",
            "12     13   7876   ADAMS      CLERK  ...  1100     NaN      20    DALLAS\n",
            "13     14   7934  MILLER      CLERK  ...  1300     NaN      10    DALLAS\n",
            "\n",
            "[14 rows x 10 columns]\n"
          ],
          "name": "stdout"
        }
      ]
    },
    {
      "cell_type": "markdown",
      "metadata": {
        "id": "6TN5rQCnJ6iq"
      },
      "source": [
        ""
      ]
    },
    {
      "cell_type": "markdown",
      "metadata": {
        "id": "S5iBgNYYJ6Ww"
      },
      "source": [
        ""
      ]
    },
    {
      "cell_type": "markdown",
      "metadata": {
        "id": "6_oJlqI5J6Jf"
      },
      "source": [
        "문제247. 직업, 직업별 평균월급을 Pandas 로 출력하시오!"
      ]
    },
    {
      "cell_type": "code",
      "metadata": {
        "colab": {
          "base_uri": "https://localhost:8080/"
        },
        "id": "_a6WfnhHJ8G6",
        "outputId": "c6c9571e-7dc1-423a-fff7-a918856932c3"
      },
      "source": [
        "import pandas as pd\r\n",
        "\r\n",
        "emp = pd.read_csv('/content/drive/MyDrive/data/emp3.csv')\r\n",
        "result = emp.groupby('job')['sal'].mean().reset_index()\r\n",
        "result['sal'] = result['sal'].astype(int)        # result 데이터 프레임에 sal 을 정수형으로 변환해서\r\n",
        "                                                 # result 데이터 프레임 sal 에 반영하겠다. (float 형태로 출력)\r\n",
        "print(result)"
      ],
      "execution_count": null,
      "outputs": [
        {
          "output_type": "stream",
          "text": [
            "         job   sal\n",
            "0    ANALYST  3000\n",
            "1      CLERK  1037\n",
            "2    MANAGER  2758\n",
            "3  PRESIDENT  5000\n",
            "4   SALESMAN  1400\n"
          ],
          "name": "stdout"
        }
      ]
    },
    {
      "cell_type": "markdown",
      "metadata": {
        "id": "pL976BgzL9zV"
      },
      "source": [
        ""
      ]
    },
    {
      "cell_type": "markdown",
      "metadata": {
        "id": "0m5xzPoML9px"
      },
      "source": [
        ""
      ]
    },
    {
      "cell_type": "markdown",
      "metadata": {
        "id": "kwI3GzOoL9hj"
      },
      "source": [
        "문제248. emp 와 result 를 서로 조인해서 조인된 전체 데이터 프레임을 출력하시오!"
      ]
    },
    {
      "cell_type": "code",
      "metadata": {
        "colab": {
          "base_uri": "https://localhost:8080/"
        },
        "id": "GCYOKjk0L_5d",
        "outputId": "69d9b106-76ac-426d-d14e-95b09571969f"
      },
      "source": [
        "import pandas as pd\r\n",
        "\r\n",
        "emp = pd.read_csv('/content/drive/MyDrive/data/emp3.csv')\r\n",
        "result = emp.groupby('job')['sal'].mean().reset_index()   # 여기서 sal 은 평균월급이므로 job 으로 조인\r\n",
        "result['sal'] = result['sal'].astype(int)       \r\n",
        "\r\n",
        "result2 = pd.merge(emp, result, how = 'inner', on = 'job')\r\n",
        "print(result2)"
      ],
      "execution_count": null,
      "outputs": [
        {
          "output_type": "stream",
          "text": [
            "    index  empno   ename        job  ...  sal_x    comm  deptno  sal_y\n",
            "0       1   7839    KING  PRESIDENT  ...   5000     NaN      10   5000\n",
            "1       2   7698   BLAKE    MANAGER  ...   2850     NaN      30   2758\n",
            "2       3   7782   CLARK    MANAGER  ...   2450     NaN      10   2758\n",
            "3       4   7566   JONES    MANAGER  ...   2975     NaN      20   2758\n",
            "4       5   7654  MARTIN   SALESMAN  ...   1250  1400.0      30   1400\n",
            "5       6   7499   ALLEN   SALESMAN  ...   1600   300.0      30   1400\n",
            "6       7   7844  TURNER   SALESMAN  ...   1500     0.0      30   1400\n",
            "7       9   7521    WARD   SALESMAN  ...   1250   500.0      30   1400\n",
            "8       8   7900   JAMES      CLERK  ...    950     NaN      30   1037\n",
            "9      11   7369   SMITH      CLERK  ...    800     NaN      20   1037\n",
            "10     13   7876   ADAMS      CLERK  ...   1100     NaN      20   1037\n",
            "11     14   7934  MILLER      CLERK  ...   1300     NaN      10   1037\n",
            "12     10   7902    FORD    ANALYST  ...   3000     NaN      20   3000\n",
            "13     12   7788   SCOTT    ANALYST  ...   3000     NaN      20   3000\n",
            "\n",
            "[14 rows x 10 columns]\n"
          ],
          "name": "stdout"
        }
      ]
    },
    {
      "cell_type": "markdown",
      "metadata": {
        "id": "X1pdkT3RMaGZ"
      },
      "source": [
        "설명: emp 에도 sal 이 있고 result 에도 sal 이 있어서 emp 의 sal 은 컬럼명이 sal_x 로 변경되었고 result 의 sal 은 sal_y로 변경되었습니다.\r\n"
      ]
    },
    {
      "cell_type": "markdown",
      "metadata": {
        "id": "znOFfrrpM4gc"
      },
      "source": [
        ""
      ]
    },
    {
      "cell_type": "markdown",
      "metadata": {
        "id": "sjKQ39KrM4XM"
      },
      "source": [
        ""
      ]
    },
    {
      "cell_type": "markdown",
      "metadata": {
        "id": "nSRNmDFWM4N-"
      },
      "source": [
        "문제249. emp 데이터 프레임에 컬럼을 하나 추가하는데 job_avgsal 로 추가하고 문제248번에서 구한 직업별 평균월급인 result2['sal_y'] 의 값으로 값을 갱신하시오!\r\n"
      ]
    },
    {
      "cell_type": "code",
      "metadata": {
        "colab": {
          "base_uri": "https://localhost:8080/"
        },
        "id": "DWW3r2mPM_J6",
        "outputId": "3f22d6a4-26d9-4683-f22a-59880b0b409b"
      },
      "source": [
        "import pandas as pd\r\n",
        "\r\n",
        "emp = pd.read_csv('/content/drive/MyDrive/data/emp3.csv')\r\n",
        "result = emp.groupby('job')['sal'].mean().reset_index()   # 여기서 sal 은 평균월급이므로 job 으로 조인\r\n",
        "result['sal'] = result['sal'].astype(int)       \r\n",
        "\r\n",
        "result2 = pd.merge(emp, result, how = 'inner', on = 'job')\r\n",
        "emp['job_avgsal'] = result2['sal_y']\r\n",
        "print(emp)"
      ],
      "execution_count": null,
      "outputs": [
        {
          "output_type": "stream",
          "text": [
            "    index  empno   ename        job  ...   sal    comm  deptno  job_avgsal\n",
            "0       1   7839    KING  PRESIDENT  ...  5000     NaN      10        5000\n",
            "1       2   7698   BLAKE    MANAGER  ...  2850     NaN      30        2758\n",
            "2       3   7782   CLARK    MANAGER  ...  2450     NaN      10        2758\n",
            "3       4   7566   JONES    MANAGER  ...  2975     NaN      20        2758\n",
            "4       5   7654  MARTIN   SALESMAN  ...  1250  1400.0      30        1400\n",
            "5       6   7499   ALLEN   SALESMAN  ...  1600   300.0      30        1400\n",
            "6       7   7844  TURNER   SALESMAN  ...  1500     0.0      30        1400\n",
            "7       8   7900   JAMES      CLERK  ...   950     NaN      30        1400\n",
            "8       9   7521    WARD   SALESMAN  ...  1250   500.0      30        1037\n",
            "9      10   7902    FORD    ANALYST  ...  3000     NaN      20        1037\n",
            "10     11   7369   SMITH      CLERK  ...   800     NaN      20        1037\n",
            "11     12   7788   SCOTT    ANALYST  ...  3000     NaN      20        1037\n",
            "12     13   7876   ADAMS      CLERK  ...  1100     NaN      20        3000\n",
            "13     14   7934  MILLER      CLERK  ...  1300     NaN      10        3000\n",
            "\n",
            "[14 rows x 10 columns]\n"
          ],
          "name": "stdout"
        }
      ]
    },
    {
      "cell_type": "markdown",
      "metadata": {
        "id": "zbNRP34MOMz8"
      },
      "source": [
        ""
      ]
    },
    {
      "cell_type": "markdown",
      "metadata": {
        "id": "AlpZ0GD9OMqb"
      },
      "source": [
        ""
      ]
    },
    {
      "cell_type": "markdown",
      "metadata": {
        "id": "UReZ2uSxOMgk"
      },
      "source": [
        "문제250. emp 데이터 프레임에 해당 사원이 근무하는 부서번호의 평균월급을 sal_avg 라는 이름으로 파생변수를 생성하시오 !\r\n"
      ]
    },
    {
      "cell_type": "code",
      "metadata": {
        "colab": {
          "base_uri": "https://localhost:8080/"
        },
        "id": "ZrisJy6OOTTE",
        "outputId": "9afcdf3a-94fa-4326-e4a7-72ce08ee6d3d"
      },
      "source": [
        "import pandas as pd\r\n",
        "\r\n",
        "emp = pd.read_csv('/content/drive/MyDrive/data/emp3.csv')\r\n",
        "result = emp.groupby('deptno')['sal'].mean().reset_index()\r\n",
        "result['sal'] = result['sal'].astype(int)       \r\n",
        "\r\n",
        "result2 = pd.merge(emp, result, how = 'inner', on = 'deptno')\r\n",
        "emp['sal_avg'] = result2['sal_y']\r\n",
        "print(emp)"
      ],
      "execution_count": null,
      "outputs": [
        {
          "output_type": "stream",
          "text": [
            "    index  empno   ename        job  ...   sal    comm  deptno  sal_avg\n",
            "0       1   7839    KING  PRESIDENT  ...  5000     NaN      10     2916\n",
            "1       2   7698   BLAKE    MANAGER  ...  2850     NaN      30     2916\n",
            "2       3   7782   CLARK    MANAGER  ...  2450     NaN      10     2916\n",
            "3       4   7566   JONES    MANAGER  ...  2975     NaN      20     1566\n",
            "4       5   7654  MARTIN   SALESMAN  ...  1250  1400.0      30     1566\n",
            "5       6   7499   ALLEN   SALESMAN  ...  1600   300.0      30     1566\n",
            "6       7   7844  TURNER   SALESMAN  ...  1500     0.0      30     1566\n",
            "7       8   7900   JAMES      CLERK  ...   950     NaN      30     1566\n",
            "8       9   7521    WARD   SALESMAN  ...  1250   500.0      30     1566\n",
            "9      10   7902    FORD    ANALYST  ...  3000     NaN      20     2175\n",
            "10     11   7369   SMITH      CLERK  ...   800     NaN      20     2175\n",
            "11     12   7788   SCOTT    ANALYST  ...  3000     NaN      20     2175\n",
            "12     13   7876   ADAMS      CLERK  ...  1100     NaN      20     2175\n",
            "13     14   7934  MILLER      CLERK  ...  1300     NaN      10     2175\n",
            "\n",
            "[14 rows x 10 columns]\n"
          ],
          "name": "stdout"
        }
      ]
    },
    {
      "cell_type": "markdown",
      "metadata": {
        "id": "3y2fEe80O8lq"
      },
      "source": [
        ""
      ]
    },
    {
      "cell_type": "markdown",
      "metadata": {
        "id": "c8q9DacmO8dZ"
      },
      "source": [
        ""
      ]
    },
    {
      "cell_type": "markdown",
      "metadata": {
        "id": "j_zc3F4ePAER"
      },
      "source": [
        "문제251. Pandas 로 emp 데이터 프레임을 출력하는데 월급이 높은 사원부터 출력하시오!"
      ]
    },
    {
      "cell_type": "code",
      "metadata": {
        "colab": {
          "base_uri": "https://localhost:8080/"
        },
        "id": "jLQizumJPDIX",
        "outputId": "4077d89c-0cd6-4917-da66-19164dc983cd"
      },
      "source": [
        "import pandas as pd\r\n",
        "\r\n",
        "emp = pd.read_csv('/content/drive/MyDrive/data/emp3.csv')\r\n",
        "result = emp.sort_values('sal', ascending = False)\r\n",
        "print(result)"
      ],
      "execution_count": null,
      "outputs": [
        {
          "output_type": "stream",
          "text": [
            "    index  empno   ename        job  ...         hiredate   sal    comm  deptno\n",
            "0       1   7839    KING  PRESIDENT  ...  1981-11-17 0:00  5000     NaN      10\n",
            "9      10   7902    FORD    ANALYST  ...  1981-12-11 0:00  3000     NaN      20\n",
            "11     12   7788   SCOTT    ANALYST  ...  1982-12-22 0:00  3000     NaN      20\n",
            "3       4   7566   JONES    MANAGER  ...  1981-04-01 0:00  2975     NaN      20\n",
            "1       2   7698   BLAKE    MANAGER  ...  1981-05-01 0:00  2850     NaN      30\n",
            "2       3   7782   CLARK    MANAGER  ...  1981-05-09 0:00  2450     NaN      10\n",
            "5       6   7499   ALLEN   SALESMAN  ...  1981-02-11 0:00  1600   300.0      30\n",
            "6       7   7844  TURNER   SALESMAN  ...  1981-08-21 0:00  1500     0.0      30\n",
            "13     14   7934  MILLER      CLERK  ...  1982-01-11 0:00  1300     NaN      10\n",
            "4       5   7654  MARTIN   SALESMAN  ...  1981-09-10 0:00  1250  1400.0      30\n",
            "8       9   7521    WARD   SALESMAN  ...  1981-02-23 0:00  1250   500.0      30\n",
            "12     13   7876   ADAMS      CLERK  ...  1983-01-15 0:00  1100     NaN      20\n",
            "7       8   7900   JAMES      CLERK  ...  1981-12-11 0:00   950     NaN      30\n",
            "10     11   7369   SMITH      CLERK  ...  1980-12-09 0:00   800     NaN      20\n",
            "\n",
            "[14 rows x 9 columns]\n"
          ],
          "name": "stdout"
        }
      ]
    },
    {
      "cell_type": "markdown",
      "metadata": {
        "id": "FEDjONbnP0oM"
      },
      "source": [
        "설명: Pandas 를 사용할 때 데이터를 정렬하려면 위와 같이 sort_values 함수를 이용하면 됩니다.\r\n",
        "\r\n",
        "    ascending = True   :  오름차순으로 정렬\r\n",
        "    ascending = False  :  내림차순으로 정렬\r\n",
        "\t"
      ]
    },
    {
      "cell_type": "markdown",
      "metadata": {
        "id": "XVjP7C52Py3z"
      },
      "source": [
        ""
      ]
    },
    {
      "cell_type": "markdown",
      "metadata": {
        "id": "vazHv8v5Pyn5"
      },
      "source": [
        ""
      ]
    },
    {
      "cell_type": "markdown",
      "metadata": {
        "id": "mPVLGKDWPyfF"
      },
      "source": [
        "문제252. 아래의 SQL 을 Pandas 로 구현하시오 !\r\n",
        "\r\n",
        "SQL>\r\n",
        "\r\n",
        "    select job, sum(sal)\r\n",
        "       from emp\r\n",
        "       group by job\r\n",
        "       having sum(sal) >= 6000\r\n",
        "       order by sum(sal) desc;\r\n",
        "\r\n",
        "Pandas>"
      ]
    },
    {
      "cell_type": "code",
      "metadata": {
        "colab": {
          "base_uri": "https://localhost:8080/"
        },
        "id": "waHGfPW4QEds",
        "outputId": "2c69fe4e-8c41-4a19-d2ea-b9fd6e5ab0c0"
      },
      "source": [
        "import pandas as pd\r\n",
        "\r\n",
        "emp = pd.read_csv('/content/drive/MyDrive/data/emp3.csv')\r\n",
        "result = emp.groupby('job')['sal'].sum().reset_index()\r\n",
        "result2 = result[result['sal'] >=6000]\r\n",
        "result3 = result2.sort_values('sal', ascending = False)\r\n",
        "\r\n",
        "print(result3)"
      ],
      "execution_count": null,
      "outputs": [
        {
          "output_type": "stream",
          "text": [
            "       job   sal\n",
            "2  MANAGER  8275\n",
            "0  ANALYST  6000\n"
          ],
          "name": "stdout"
        }
      ]
    }
  ]
}