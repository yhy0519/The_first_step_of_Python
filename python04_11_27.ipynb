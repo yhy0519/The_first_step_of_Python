{
  "nbformat": 4,
  "nbformat_minor": 0,
  "metadata": {
    "colab": {
      "name": "python4_11_27.ipynb",
      "provenance": [],
      "collapsed_sections": [],
      "authorship_tag": "ABX9TyMSX3+Rs3IgEV3UAwt8bDui",
      "include_colab_link": true
    },
    "kernelspec": {
      "name": "python3",
      "display_name": "Python 3"
    }
  },
  "cells": [
    {
      "cell_type": "markdown",
      "metadata": {
        "id": "view-in-github",
        "colab_type": "text"
      },
      "source": [
        "<a href=\"https://colab.research.google.com/github/yhy0519/The_first_step_of_Python/blob/main/python4_11_27.ipynb\" target=\"_parent\"><img src=\"https://colab.research.google.com/assets/colab-badge.svg\" alt=\"Open In Colab\"/></a>"
      ]
    },
    {
      "cell_type": "markdown",
      "metadata": {
        "id": "RjLCxJ8JIvpN"
      },
      "source": [
        "■ 복습\n",
        "\n",
        " \" 파이썬은 괄호 대신에 들여쓰기로 블럭을 구분한다 \"\n",
        "\n",
        "블럭: 실행영역\n",
        "\n",
        "예: "
      ]
    },
    {
      "cell_type": "code",
      "metadata": {
        "id": "sAOgJyOzD-5g"
      },
      "source": [
        "for i in range(1, 11):\n",
        "  print('a')      # <-- for loop 문의 관할하에 있는 실행영역입니다.\n",
        "print('b')        # <-- for loop 문의 관할하에 있는 실행영역이 아닙니다.\n",
        "                  # for loop 문이 다 끝나고 나면 작동되는 문장"
      ],
      "execution_count": null,
      "outputs": []
    },
    {
      "cell_type": "markdown",
      "metadata": {
        "id": "tXt5YvobJRuF"
      },
      "source": [
        "SQL 과 파이썬의 차이점?\n",
        "\n",
        " 1. SQL  비절차적 언어  \n",
        "        3  select ename, sal  \n",
        "        1     from emp  \n",
        "        2     where ename = 'SCOTT';\n",
        "\n",
        " 2. 파이썬은 절차적 언어 : 코드의 흐름대로 절차적으로 실행한다.\n",
        "        for i in range(1, 10):\n",
        "            print('a')\n",
        "        print('b')\n",
        "        for k in range(1, 100):\n",
        "            print('c')  "
      ]
    },
    {
      "cell_type": "markdown",
      "metadata": {
        "id": "7sBokgvvJjXJ"
      },
      "source": [
        "1. 파이썬 기본 자료형 5가지\n",
        "  \t 1. 문자형 : a = 'scott'\n",
        "  \t 2. 숫자형 : cnt = 0\n",
        "  \t 3. 리스트형 : a = [ 1, 2, 3 ]\n",
        "\t   4. 튜플 : b = ( 1, 2 ,3 )\n",
        "\t   5. 딕셔너리 : c = { 'apple' : '사과', 'eye' : '눈' }\n",
        "\n",
        "\t\n",
        " 2. 파이썬 연산자\n",
        "\t     >, <, >=, <=, ==, !=\n",
        "\t\n",
        " 3. if 문  \n",
        "    \tif 조건:  \n",
        "           실행문\n",
        "\t\n",
        " 4. loop 문 : 프로그램을 실행하다 보면 반복적으로 특정 실행문을 실행해야 할 때가 있습니다.\n",
        "\t\t  그때 loop 문을 사용해야합니다.\n",
        "\t\t  for loop 문\n",
        "\t\t\t예:\n",
        "\t\t\tfor i in range(1, 11):\n",
        "\t\t\t    print('a')\n",
        "\t\t\t\t\t\t\ti = 1 일때 print('a')\n",
        "\t\t\t\t\t\t\ti = 2 일때 print('a')\n",
        "\t\t\t\t\t\t\t  :\n",
        "\t\t\t\t\t\t\ti = 10 일때 print('a')\n",
        "\t\t  while loop 문\n",
        "\t\t\twhile 조건:\n",
        "\t\t\t    실행문\n",
        "\n",
        " 5. 판다스 사용법 : 판다스는 엑셀과 같은 데이터를 검색할때 주로 사용\n",
        "\n",
        "                                 연동\n",
        "\t\t\t    database  ----------------------  파이썬 판다스\n",
        "                    ↓                                          \n",
        "               emp 테이블                             검색\n",
        "                   ↓                              데이터 시각화\n",
        "                   SQL                            통계를 쉽게 구현\n",
        "                                                 머신러닝 쉽게 구현\n",
        "\n",
        "\t\t\t\" 현업에서는 주로 이렇게해서 분석을 많이 합니다. \"\n",
        "\n",
        "아직까지는 DATABASE 와 연동을 하지는 않았고 emp3.csv 를 판다스로 읽어들여서 검색을 했습니다.\n"
      ]
    },
    {
      "cell_type": "markdown",
      "metadata": {
        "id": "u605hNU0KLCH"
      },
      "source": [
        "문제86. 이름이 SCOTT 인 사원의 이름과 월급을 출력하시오 !\n",
        "\n",
        "    SQL>\n",
        "    select ename, sal\n",
        "       from emp\n",
        "       where ename = 'scott';"
      ]
    },
    {
      "cell_type": "code",
      "metadata": {
        "colab": {
          "base_uri": "https://localhost:8080/"
        },
        "id": "gAyZiWnlLH8J",
        "outputId": "8f62e8a1-864e-4e67-86e7-eb30cacef8b9"
      },
      "source": [
        "import pandas as pd\n",
        "from google.colab import drive\n",
        "drive.mount('/content/drive')\n",
        "emp = pd.read_csv('/content/drive/MyDrive/data/emp3.csv')\n",
        "print(emp[['ename', 'sal']] [emp['ename'] == 'SCOTT'])        # emp[컬럼 리스트] [조건]"
      ],
      "execution_count": 9,
      "outputs": [
        {
          "output_type": "stream",
          "text": [
            "Drive already mounted at /content/drive; to attempt to forcibly remount, call drive.mount(\"/content/drive\", force_remount=True).\n",
            "    ename   sal\n",
            "11  SCOTT  3000\n"
          ],
          "name": "stdout"
        }
      ]
    },
    {
      "cell_type": "markdown",
      "metadata": {
        "id": "ZJKfU0y9MW1u"
      },
      "source": [
        "■ 26. 시퀀스 자료형 이해하기\n",
        "\n",
        "시퀀스 자료형은 어떤 객체가 순서를 가지고 나열되어 있는 것을 말합니다.\n",
        "예를들어 문자열 'abcd' 는 문자 a, b, c, d 가 순서를 가지고 차례대로 나열되어 있는 것입니다.\n",
        "\n",
        "예:\n",
        "\n",
        "    a = 'scott'\n",
        "    print(a)    # scott\n",
        "\n",
        "s c o t t   \n",
        "0 1 2 3 4\n",
        "\n",
        "위의 scott 이라는 문자를 담은 a 변수에서 첫번째 요소만 출력하고 싶다면?\n",
        "\n",
        "    print( a[0] )  # s\n",
        "    print( a[1] )  # c\n"
      ]
    },
    {
      "cell_type": "markdown",
      "metadata": {
        "id": "ed5qzI12MkUH"
      },
      "source": [
        "문제87. 위의 scott 을 담은 문자형 변수 a 에서 알파벳 o 를 출력하시오 ~"
      ]
    },
    {
      "cell_type": "code",
      "metadata": {
        "colab": {
          "base_uri": "https://localhost:8080/"
        },
        "id": "Pno1imdGMC2S",
        "outputId": "d49adc81-8b7f-43f1-d531-cbe319f92c38"
      },
      "source": [
        "a = 'scott'\n",
        "print(a[2])"
      ],
      "execution_count": 10,
      "outputs": [
        {
          "output_type": "stream",
          "text": [
            "o\n"
          ],
          "name": "stdout"
        }
      ]
    },
    {
      "cell_type": "markdown",
      "metadata": {
        "id": "Fpgk8o6zMrDq"
      },
      "source": [
        "설명: 문자형 변수에서 특정 철자마나 가져오고 싶으면 문자형 변수 옆에 대괄호를 쓰고 순서에 해당하는 숫자를 적어주면 됩니다."
      ]
    },
    {
      "cell_type": "markdown",
      "metadata": {
        "id": "vzJkrN5gMtR1"
      },
      "source": [
        "문제88. 아래의 문자형 변수에서 맨 끝의 철자인 h 를 출력하시오 !"
      ]
    },
    {
      "cell_type": "code",
      "metadata": {
        "colab": {
          "base_uri": "https://localhost:8080/"
        },
        "id": "djSXi8fKMusP",
        "outputId": "ec311199-4ecd-4409-b638-fd858f59f104"
      },
      "source": [
        "b = 'smith'\n",
        "\n",
        "print(b[4])\n",
        "print(b[-1])"
      ],
      "execution_count": 11,
      "outputs": [
        {
          "output_type": "stream",
          "text": [
            "h\n",
            "h\n"
          ],
          "name": "stdout"
        }
      ]
    },
    {
      "cell_type": "markdown",
      "metadata": {
        "id": "5L9x2VmBMz6V"
      },
      "source": [
        "문제89. 판다스를 이용해서 emp3.csv 에서 이름을 출력하는데 이름의 첫번째 철자만 출력하시오!\n",
        "\n",
        "    SQL>\n",
        "    select substr(ename, 1, 1)\n",
        "       from emp;"
      ]
    },
    {
      "cell_type": "code",
      "metadata": {
        "colab": {
          "base_uri": "https://localhost:8080/"
        },
        "id": "1OGzIM0eM83y",
        "outputId": "fe122482-32c4-4e34-bff4-5546f9c25a52"
      },
      "source": [
        "import pandas as pd\n",
        "from google.colab import drive\n",
        "drive.mount('/content/drive')\n",
        "emp = pd.read_csv('/content/drive/MyDrive/data/emp3.csv')\n",
        "\n",
        "for i in emp['ename']:       # emp3.csv 에서 ename 만 가져와서\n",
        "  print(i[0])                # ename 의 갯수만큼 loop 문을 수행"
      ],
      "execution_count": 12,
      "outputs": [
        {
          "output_type": "stream",
          "text": [
            "Drive already mounted at /content/drive; to attempt to forcibly remount, call drive.mount(\"/content/drive\", force_remount=True).\n",
            "K\n",
            "B\n",
            "C\n",
            "J\n",
            "M\n",
            "A\n",
            "T\n",
            "J\n",
            "W\n",
            "F\n",
            "S\n",
            "S\n",
            "A\n",
            "M\n"
          ],
          "name": "stdout"
        }
      ]
    },
    {
      "cell_type": "markdown",
      "metadata": {
        "id": "M7VjpMWENURN"
      },
      "source": [
        "설명: <class 'str'> 문자형으로 변경해줘야 문자형에서 특정 요소를 가져오는 문법을 사용할 수 있습니다.  \n",
        "\n",
        "예:\n",
        "\n",
        "    a[0]\n",
        "판다스의 <class 'pandas.core.series.Series'> 를 문자형으로 변경하려면 for loop 문을 이용해서 하나씩 가져오면 됩니다.\n",
        "\n",
        "예:\n",
        "\n",
        "\tfor i in emp['ename']:\n",
        "\t    print(i)"
      ]
    },
    {
      "cell_type": "code",
      "metadata": {
        "colab": {
          "base_uri": "https://localhost:8080/"
        },
        "id": "0hW95S_gNfa5",
        "outputId": "73e4a419-0ead-412e-b74d-422ed84bb3d1"
      },
      "source": [
        "for i in emp['ename']:\n",
        "    print(type(i))           # <class 'str'>\n",
        "\n",
        "print(type(emp['ename']))    # <class 'pandas.core.series.Series'>  (series 는 SQL 에서 컬럼 같은 것)"
      ],
      "execution_count": 13,
      "outputs": [
        {
          "output_type": "stream",
          "text": [
            "<class 'str'>\n",
            "<class 'str'>\n",
            "<class 'str'>\n",
            "<class 'str'>\n",
            "<class 'str'>\n",
            "<class 'str'>\n",
            "<class 'str'>\n",
            "<class 'str'>\n",
            "<class 'str'>\n",
            "<class 'str'>\n",
            "<class 'str'>\n",
            "<class 'str'>\n",
            "<class 'str'>\n",
            "<class 'str'>\n",
            "<class 'pandas.core.series.Series'>\n"
          ],
          "name": "stdout"
        }
      ]
    },
    {
      "cell_type": "markdown",
      "metadata": {
        "id": "1lWjpvpdN6An"
      },
      "source": [
        "설명: type 명령어는 변수가 문자형, 숫자형, 리스트형, 딕셔너리형, 튜플형인지 확인하는 함수입니다."
      ]
    },
    {
      "cell_type": "markdown",
      "metadata": {
        "id": "lpEDKJTnN7j9"
      },
      "source": [
        "문제90. 판다스를 이용해서 emp3.csv 를 가져와서 이름의 끝글자를 출력하시오!\n"
      ]
    },
    {
      "cell_type": "code",
      "metadata": {
        "colab": {
          "base_uri": "https://localhost:8080/"
        },
        "id": "uuSe7Mw_N-cV",
        "outputId": "04fd2fd0-811c-4616-d147-f8e71dbca9de"
      },
      "source": [
        "import pandas as pd\n",
        "from google.colab import drive\n",
        "drive.mount('/content/drive')\n",
        "emp = pd.read_csv('/content/drive/MyDrive/data/emp3.csv')\n",
        "\n",
        "for i in emp['ename']:   \n",
        "  print(i[-1])            "
      ],
      "execution_count": 14,
      "outputs": [
        {
          "output_type": "stream",
          "text": [
            "Drive already mounted at /content/drive; to attempt to forcibly remount, call drive.mount(\"/content/drive\", force_remount=True).\n",
            "G\n",
            "E\n",
            "K\n",
            "S\n",
            "N\n",
            "N\n",
            "R\n",
            "S\n",
            "D\n",
            "D\n",
            "H\n",
            "T\n",
            "S\n",
            "R\n"
          ],
          "name": "stdout"
        }
      ]
    },
    {
      "cell_type": "markdown",
      "metadata": {
        "id": "O6M4MnPMOBrZ"
      },
      "source": [
        "문제91. 위의 결과에서 앞에 이름도 같이 출력하시오 !"
      ]
    },
    {
      "cell_type": "code",
      "metadata": {
        "colab": {
          "base_uri": "https://localhost:8080/"
        },
        "id": "6GLNxe62OD4N",
        "outputId": "9d9b590f-0c50-456f-f121-6bb511bd2487"
      },
      "source": [
        "import pandas as pd\n",
        "from google.colab import drive\n",
        "drive.mount('/content/drive')\n",
        "emp = pd.read_csv('/content/drive/MyDrive/data/emp3.csv')\n",
        "\n",
        "for i in emp['ename']:\n",
        "  print(i, i[-1])     "
      ],
      "execution_count": 15,
      "outputs": [
        {
          "output_type": "stream",
          "text": [
            "Drive already mounted at /content/drive; to attempt to forcibly remount, call drive.mount(\"/content/drive\", force_remount=True).\n",
            "KING G\n",
            "BLAKE E\n",
            "CLARK K\n",
            "JONES S\n",
            "MARTIN N\n",
            "ALLEN N\n",
            "TURNER R\n",
            "JAMES S\n",
            "WARD D\n",
            "FORD D\n",
            "SMITH H\n",
            "SCOTT T\n",
            "ADAMS S\n",
            "MILLER R\n"
          ],
          "name": "stdout"
        }
      ]
    },
    {
      "cell_type": "markdown",
      "metadata": {
        "id": "6fUrIa4vOIX1"
      },
      "source": [
        "문제92. 이름의 첫번째 철자가 S 로 시작하는 사원들의 이름을 출력하시오 !\n",
        "\n",
        "    SQL>\n",
        "    select ename\n",
        "       from emp\n",
        "       where ename like 'S%';"
      ]
    },
    {
      "cell_type": "code",
      "metadata": {
        "colab": {
          "base_uri": "https://localhost:8080/"
        },
        "id": "H9zrxOkvOTDl",
        "outputId": "7e6ef9b3-6149-405d-9528-66f35eaf1291"
      },
      "source": [
        "import pandas as pd\n",
        "from google.colab import drive\n",
        "drive.mount('/content/drive')\n",
        "emp = pd.read_csv('/content/drive/MyDrive/data/emp3.csv')\n",
        "\n",
        "for i in emp['ename']:\n",
        "  if i[0] == 'S':\n",
        "    print(i)"
      ],
      "execution_count": 17,
      "outputs": [
        {
          "output_type": "stream",
          "text": [
            "Drive already mounted at /content/drive; to attempt to forcibly remount, call drive.mount(\"/content/drive\", force_remount=True).\n",
            "SMITH\n",
            "SCOTT\n"
          ],
          "name": "stdout"
        }
      ]
    },
    {
      "cell_type": "markdown",
      "metadata": {
        "id": "ZqUXkfIoPbbh"
      },
      "source": [
        "문제93. 이름의 끝글자가 T 로 끝나는 사원들의 이름을 출력하시오 !\n",
        "\n",
        "    SQL>\n",
        "    select ename\n",
        "       from emp\n",
        "       where ename like '%T';"
      ]
    },
    {
      "cell_type": "code",
      "metadata": {
        "colab": {
          "base_uri": "https://localhost:8080/"
        },
        "id": "GSmnem2bPhOG",
        "outputId": "4e787dfd-ecb5-4ec0-98c6-076285d0a851"
      },
      "source": [
        "import pandas as pd\n",
        "from google.colab import drive\n",
        "drive.mount('/content/drive')\n",
        "emp = pd.read_csv('/content/drive/MyDrive/data/emp3.csv')\n",
        "\n",
        "for i in emp['ename']:\n",
        "  if i[-1] == 'T':\n",
        "    print(i)"
      ],
      "execution_count": 18,
      "outputs": [
        {
          "output_type": "stream",
          "text": [
            "Drive already mounted at /content/drive; to attempt to forcibly remount, call drive.mount(\"/content/drive\", force_remount=True).\n",
            "SCOTT\n"
          ],
          "name": "stdout"
        }
      ]
    },
    {
      "cell_type": "markdown",
      "metadata": {
        "id": "FhPWMunmPuRl"
      },
      "source": [
        "■ 27. 시퀀스 자료 인덱싱 이해하기\n",
        "\n",
        "인덱싱(indexing) 이란 시퀀스 자료형에서 인덱스를 통해 해당하는 값을 얻는 방법입니다.  \n",
        "파이썬에서는 인덱스를 0부터 시작하며 음수인 인덱스도 사용가능합니다. 음수 인덱스는 '끝에서 몇 번째' 라는 의미를 갖습니다."
      ]
    },
    {
      "cell_type": "markdown",
      "metadata": {
        "id": "Py_h2x6ZPxup"
      },
      "source": [
        "문제94. 이름의 두번째 철자가 M 인 사원의 이름을 출력하시오!\n",
        "\n",
        "    SQL>\n",
        "    select ename\n",
        "       from emp\n",
        "       where ename like '_M%';"
      ]
    },
    {
      "cell_type": "code",
      "metadata": {
        "colab": {
          "base_uri": "https://localhost:8080/"
        },
        "id": "6DHUYZS_P1xs",
        "outputId": "2d776fb4-d544-4372-8067-68af13b77a21"
      },
      "source": [
        "import pandas as pd\n",
        "from google.colab import drive\n",
        "drive.mount('/content/drive')\n",
        "emp = pd.read_csv('/content/drive/MyDrive/data/emp3.csv')\n",
        "\n",
        "for i in emp['ename']:\n",
        "  if i[1] == 'M':\n",
        "    print(i)"
      ],
      "execution_count": 19,
      "outputs": [
        {
          "output_type": "stream",
          "text": [
            "Drive already mounted at /content/drive; to attempt to forcibly remount, call drive.mount(\"/content/drive\", force_remount=True).\n",
            "SMITH\n"
          ],
          "name": "stdout"
        }
      ]
    },
    {
      "cell_type": "markdown",
      "metadata": {
        "id": "GeIa-FDyQDPp"
      },
      "source": [
        "■ 28. 시퀀스 자료 슬라이싱 이해하기\n",
        "\n",
        "인덱싱은 인덱스에 해당하는 요소 하나를 취하는 방법이지만 슬라이싱은 스퀀스 자료에서 일정 범위에 해당하는 부분을 취하는 방법입니다.\n",
        "\n",
        "예제:\n",
        "\n",
        "    a = 'scott'\n",
        "    print( a[1:3] )   # co\n",
        "\n",
        "설명: 1번째 자리부터 3미만의 자리까지 요소들을 출력"
      ]
    },
    {
      "cell_type": "markdown",
      "metadata": {
        "id": "THaH1gtpQJpp"
      },
      "source": [
        "문제95. 아래의 SQL 을 판다스로 구현하시오!\n",
        "\n",
        "    select substr(ename, 1, 3)\n",
        "       from emp;"
      ]
    },
    {
      "cell_type": "code",
      "metadata": {
        "colab": {
          "base_uri": "https://localhost:8080/"
        },
        "id": "9nJarro_QOjm",
        "outputId": "bff67147-0734-41be-b76c-4ea28510aed0"
      },
      "source": [
        "import pandas as pd\n",
        "from google.colab import drive\n",
        "drive.mount('/content/drive')\n",
        "emp = pd.read_csv('/content/drive/MyDrive/data/emp3.csv')\n",
        "\n",
        "for i in emp['ename']:\n",
        "  print( i[0:3] )"
      ],
      "execution_count": 21,
      "outputs": [
        {
          "output_type": "stream",
          "text": [
            "Drive already mounted at /content/drive; to attempt to forcibly remount, call drive.mount(\"/content/drive\", force_remount=True).\n",
            "KIN\n",
            "BLA\n",
            "CLA\n",
            "JON\n",
            "MAR\n",
            "ALL\n",
            "TUR\n",
            "JAM\n",
            "WAR\n",
            "FOR\n",
            "SMI\n",
            "SCO\n",
            "ADA\n",
            "MIL\n"
          ],
          "name": "stdout"
        }
      ]
    },
    {
      "cell_type": "markdown",
      "metadata": {
        "id": "5qyd79GCQYLZ"
      },
      "source": [
        "문제96. 아래의 SQL을 판다스로 구현하시오!\n",
        "\n",
        "    select substr(ename, -2, 2)\n",
        "       from emp;"
      ]
    },
    {
      "cell_type": "code",
      "metadata": {
        "colab": {
          "base_uri": "https://localhost:8080/"
        },
        "id": "a74prsM6Qa1h",
        "outputId": "9943b539-f71b-4de6-e5e8-9a5bb799a923"
      },
      "source": [
        "import pandas as pd\n",
        "from google.colab import drive\n",
        "drive.mount('/content/drive')\n",
        "emp = pd.read_csv('/content/drive/MyDrive/data/emp3.csv')\n",
        "\n",
        "for i in emp['ename']:\n",
        "  print( i[-2:] )"
      ],
      "execution_count": 22,
      "outputs": [
        {
          "output_type": "stream",
          "text": [
            "Drive already mounted at /content/drive; to attempt to forcibly remount, call drive.mount(\"/content/drive\", force_remount=True).\n",
            "NG\n",
            "KE\n",
            "RK\n",
            "ES\n",
            "IN\n",
            "EN\n",
            "ER\n",
            "ES\n",
            "RD\n",
            "RD\n",
            "TH\n",
            "TT\n",
            "MS\n",
            "ER\n"
          ],
          "name": "stdout"
        }
      ]
    },
    {
      "cell_type": "markdown",
      "metadata": {
        "id": "nf0X8eyuQhds"
      },
      "source": [
        "문제97. 아래의 SQL을 판다스로 구현하시오!\n",
        "\n",
        "    select substr(ename, 2, 3)\n",
        "       from emp; "
      ]
    },
    {
      "cell_type": "code",
      "metadata": {
        "colab": {
          "base_uri": "https://localhost:8080/"
        },
        "id": "5r6APxmGQmNp",
        "outputId": "0822918a-c81c-48ce-d721-4ad32b09dc00"
      },
      "source": [
        "import pandas as pd\n",
        "from google.colab import drive\n",
        "drive.mount('/content/drive')\n",
        "emp = pd.read_csv('/content/drive/MyDrive/data/emp3.csv')\n",
        "\n",
        "for i in emp['ename']:\n",
        "  print( i[1:4] )"
      ],
      "execution_count": 24,
      "outputs": [
        {
          "output_type": "stream",
          "text": [
            "Drive already mounted at /content/drive; to attempt to forcibly remount, call drive.mount(\"/content/drive\", force_remount=True).\n",
            "ING\n",
            "LAK\n",
            "LAR\n",
            "ONE\n",
            "ART\n",
            "LLE\n",
            "URN\n",
            "AME\n",
            "ARD\n",
            "ORD\n",
            "MIT\n",
            "COT\n",
            "DAM\n",
            "ILL\n"
          ],
          "name": "stdout"
        }
      ]
    },
    {
      "cell_type": "markdown",
      "metadata": {
        "id": "6TnLX0oIQ1Cs"
      },
      "source": [
        "■ 29. 시퀀스 자료 연결 이해하기(+)\n",
        "\n",
        "자료형이 동일한 두대의 시퀀스 자료는 + 연산자로 순서있게 연결하여 \n",
        "새로운 시퀀스 자료를 만들 수 있습니다.\n",
        "문자열 + 문자열, 리스트 + 리스트, 튜플 + 튜플 과 같이 두개의 동일한 시퀀스 자료형에 대해 '+' 연산자로 연결이 가능합니다.\n",
        "\n",
        "예제:\n",
        "\n",
        "    a = 'i love '\n",
        "    b = 'python'\n",
        "    print(a+b)\n"
      ]
    },
    {
      "cell_type": "markdown",
      "metadata": {
        "id": "T2fuOml8RqmB"
      },
      "source": [
        "문제98. 아래의 두개의 리스트를 연결하여 출력하세요.  \n",
        "a = [ 2, 3, 4, 5 ]  \n",
        "b = [ 9, 2, 4, 8 ]\n"
      ]
    },
    {
      "cell_type": "code",
      "metadata": {
        "colab": {
          "base_uri": "https://localhost:8080/"
        },
        "id": "HpqXtHH0T30p",
        "outputId": "c9b144b7-2a10-480f-9adf-b1bb80abaec3"
      },
      "source": [
        "a = [ 2, 3, 4, 5 ]\n",
        "b = [ 9, 2, 4, 8 ]\n",
        "\n",
        "print(a + b) "
      ],
      "execution_count": 25,
      "outputs": [
        {
          "output_type": "stream",
          "text": [
            "[2, 3, 4, 5, 9, 2, 4, 8]\n"
          ],
          "name": "stdout"
        }
      ]
    },
    {
      "cell_type": "markdown",
      "metadata": {
        "id": "UOCjG_ngT-8V"
      },
      "source": [
        "문제99. 아래의 SQL을 판다스로 구현하시오 !\n",
        "\n",
        "    select ename || sal\n",
        "       from emp;"
      ]
    },
    {
      "cell_type": "code",
      "metadata": {
        "colab": {
          "base_uri": "https://localhost:8080/"
        },
        "id": "j0dUtTlUUDUd",
        "outputId": "2a423cb8-9d00-418d-85df-70b93f4d3afe"
      },
      "source": [
        "import pandas as pd\n",
        "from google.colab import drive\n",
        "drive.mount('/content/drive')\n",
        "emp = pd.read_csv('/content/drive/MyDrive/data/emp3.csv')\n",
        "\n",
        "for i, j in zip(emp['ename'], emp['sal']):\n",
        "  print(i + str(j))"
      ],
      "execution_count": 29,
      "outputs": [
        {
          "output_type": "stream",
          "text": [
            "Drive already mounted at /content/drive; to attempt to forcibly remount, call drive.mount(\"/content/drive\", force_remount=True).\n",
            "KING5000\n",
            "BLAKE2850\n",
            "CLARK2450\n",
            "JONES2975\n",
            "MARTIN1250\n",
            "ALLEN1600\n",
            "TURNER1500\n",
            "JAMES950\n",
            "WARD1250\n",
            "FORD3000\n",
            "SMITH800\n",
            "SCOTT3000\n",
            "ADAMS1100\n",
            "MILLER1300\n"
          ],
          "name": "stdout"
        }
      ]
    },
    {
      "cell_type": "markdown",
      "metadata": {
        "id": "DoLrVjmlYX37"
      },
      "source": [
        "설명: zip 함수를 for loop 문에 사용하게 되면 두개의 범위 데이터를 한번에 받아서 loop 문을 수행할 수 있습니다.  \n",
        "str 함수를 사용한 이유는 문자형 + 문자형을 연결이 가능한데 문자형 + 숫자형은 연결이 안됩니다.  \n",
        "그래서 숫자형을 문자형으로 변환하기 위해서 str 함수를 사용했습니다.\n"
      ]
    },
    {
      "cell_type": "markdown",
      "metadata": {
        "id": "Yg2F9YqbYdV8"
      },
      "source": [
        "■ 30. 시퀀스 자료 반복 이해하기(*)\n",
        "\n",
        "동일한 시퀀스 자료를 반복하여 새로운 시퀀스 자료로 만들고자 하면\n",
        "별표(*) 를 연산자로 사용합니다.\n",
        "\n",
        "예:\n",
        "\n",
        "    print('a' * 7)  # 소문자 알파벳 a 를 7번 출력합니다. \n",
        "결과: aaaaaaa\n",
        "\n",
        "    print( [1, 2, 3] * 5 )   # 리스트 [1, 2, 3] 안의 요소를 5개로 늘려서 출력\n",
        "결과:[1, 2, 3, 1, 2, 3, 1, 2, 3, 1, 2, 3, 1, 2, 3]\n"
      ]
    },
    {
      "cell_type": "markdown",
      "metadata": {
        "id": "Z5vEYzK_YsbU"
      },
      "source": [
        "문제100. 주사위 눈 6개를 100 개 담은 리스트 dice100 을 만들고 dice100 리스트를 출력하시오 !\n"
      ]
    },
    {
      "cell_type": "code",
      "metadata": {
        "colab": {
          "base_uri": "https://localhost:8080/"
        },
        "id": "dyiFy_9iYudA",
        "outputId": "4c603563-a899-42b8-adab-ec841bd67223"
      },
      "source": [
        "dice100 = [ 1, 2, 3, 4, 5, 6 ] * 100\n",
        "\n",
        "print(dice100)"
      ],
      "execution_count": 30,
      "outputs": [
        {
          "output_type": "stream",
          "text": [
            "[1, 2, 3, 4, 5, 6, 1, 2, 3, 4, 5, 6, 1, 2, 3, 4, 5, 6, 1, 2, 3, 4, 5, 6, 1, 2, 3, 4, 5, 6, 1, 2, 3, 4, 5, 6, 1, 2, 3, 4, 5, 6, 1, 2, 3, 4, 5, 6, 1, 2, 3, 4, 5, 6, 1, 2, 3, 4, 5, 6, 1, 2, 3, 4, 5, 6, 1, 2, 3, 4, 5, 6, 1, 2, 3, 4, 5, 6, 1, 2, 3, 4, 5, 6, 1, 2, 3, 4, 5, 6, 1, 2, 3, 4, 5, 6, 1, 2, 3, 4, 5, 6, 1, 2, 3, 4, 5, 6, 1, 2, 3, 4, 5, 6, 1, 2, 3, 4, 5, 6, 1, 2, 3, 4, 5, 6, 1, 2, 3, 4, 5, 6, 1, 2, 3, 4, 5, 6, 1, 2, 3, 4, 5, 6, 1, 2, 3, 4, 5, 6, 1, 2, 3, 4, 5, 6, 1, 2, 3, 4, 5, 6, 1, 2, 3, 4, 5, 6, 1, 2, 3, 4, 5, 6, 1, 2, 3, 4, 5, 6, 1, 2, 3, 4, 5, 6, 1, 2, 3, 4, 5, 6, 1, 2, 3, 4, 5, 6, 1, 2, 3, 4, 5, 6, 1, 2, 3, 4, 5, 6, 1, 2, 3, 4, 5, 6, 1, 2, 3, 4, 5, 6, 1, 2, 3, 4, 5, 6, 1, 2, 3, 4, 5, 6, 1, 2, 3, 4, 5, 6, 1, 2, 3, 4, 5, 6, 1, 2, 3, 4, 5, 6, 1, 2, 3, 4, 5, 6, 1, 2, 3, 4, 5, 6, 1, 2, 3, 4, 5, 6, 1, 2, 3, 4, 5, 6, 1, 2, 3, 4, 5, 6, 1, 2, 3, 4, 5, 6, 1, 2, 3, 4, 5, 6, 1, 2, 3, 4, 5, 6, 1, 2, 3, 4, 5, 6, 1, 2, 3, 4, 5, 6, 1, 2, 3, 4, 5, 6, 1, 2, 3, 4, 5, 6, 1, 2, 3, 4, 5, 6, 1, 2, 3, 4, 5, 6, 1, 2, 3, 4, 5, 6, 1, 2, 3, 4, 5, 6, 1, 2, 3, 4, 5, 6, 1, 2, 3, 4, 5, 6, 1, 2, 3, 4, 5, 6, 1, 2, 3, 4, 5, 6, 1, 2, 3, 4, 5, 6, 1, 2, 3, 4, 5, 6, 1, 2, 3, 4, 5, 6, 1, 2, 3, 4, 5, 6, 1, 2, 3, 4, 5, 6, 1, 2, 3, 4, 5, 6, 1, 2, 3, 4, 5, 6, 1, 2, 3, 4, 5, 6, 1, 2, 3, 4, 5, 6, 1, 2, 3, 4, 5, 6, 1, 2, 3, 4, 5, 6, 1, 2, 3, 4, 5, 6, 1, 2, 3, 4, 5, 6, 1, 2, 3, 4, 5, 6, 1, 2, 3, 4, 5, 6, 1, 2, 3, 4, 5, 6, 1, 2, 3, 4, 5, 6, 1, 2, 3, 4, 5, 6, 1, 2, 3, 4, 5, 6, 1, 2, 3, 4, 5, 6, 1, 2, 3, 4, 5, 6, 1, 2, 3, 4, 5, 6, 1, 2, 3, 4, 5, 6, 1, 2, 3, 4, 5, 6, 1, 2, 3, 4, 5, 6, 1, 2, 3, 4, 5, 6, 1, 2, 3, 4, 5, 6, 1, 2, 3, 4, 5, 6, 1, 2, 3, 4, 5, 6, 1, 2, 3, 4, 5, 6, 1, 2, 3, 4, 5, 6, 1, 2, 3, 4, 5, 6, 1, 2, 3, 4, 5, 6, 1, 2, 3, 4, 5, 6, 1, 2, 3, 4, 5, 6, 1, 2, 3, 4, 5, 6, 1, 2, 3, 4, 5, 6, 1, 2, 3, 4, 5, 6]\n"
          ],
          "name": "stdout"
        }
      ]
    },
    {
      "cell_type": "markdown",
      "metadata": {
        "id": "yF6MppvjY4Rg"
      },
      "source": [
        "문제101. 초등학생 키가 10개가 들어있는 아래의 tall 리스트의 요소 10개를 10000 개로 증가시켜서 tall10000 리스트에 담고 출력하시오!  \n",
        "tall = [129.3, 130.2, 132.5, 134.7, 136.3, 137.8, 138.1, 140.2, 142.3, 145.2]"
      ]
    },
    {
      "cell_type": "code",
      "metadata": {
        "id": "hlYSNys1Y5yA"
      },
      "source": [
        "tall = [129.3, 130.2, 132.5, 134.7, 136.3, 137.8, 138.1, 140.2, 142.3, 145.2]\n",
        "tall10000 = tall * 10000\n",
        "\n",
        "print(tall10000)"
      ],
      "execution_count": null,
      "outputs": []
    },
    {
      "cell_type": "markdown",
      "metadata": {
        "id": "RVlyk8d-ZGJQ"
      },
      "source": [
        "문제102. 위의 모집단의 평균값, 분산, 표준편차를 출력하시오! (numpy 를 사용)\n"
      ]
    },
    {
      "cell_type": "code",
      "metadata": {
        "colab": {
          "base_uri": "https://localhost:8080/"
        },
        "id": "L7XE9SVJZHuq",
        "outputId": "2ec3e528-ccb5-4c6a-91e1-f35ae35a92ee"
      },
      "source": [
        "import numpy as np\n",
        "\n",
        "tall = [129.3, 130.2, 132.5, 134.7, 136.3, 137.8, 138.1, 140.2, 142.3, 145.2]\n",
        "tall10000 = tall * 10000\n",
        "\n",
        "print(type(tall10000))        # <class 'list'>\n",
        "print(np.mean(tall10000))\n",
        "print(np.var(tall10000))\n",
        "print(np.std(tall10000))"
      ],
      "execution_count": 33,
      "outputs": [
        {
          "output_type": "stream",
          "text": [
            "<class 'list'>\n",
            "136.66\n",
            "23.782399999999985\n",
            "4.876720209321013\n"
          ],
          "name": "stdout"
        }
      ]
    },
    {
      "cell_type": "markdown",
      "metadata": {
        "id": "5Evi2ouuZRo0"
      },
      "source": [
        "설명: np.mean(리스트) 를 사용하면 평균값이 출력됩니다."
      ]
    },
    {
      "cell_type": "markdown",
      "metadata": {
        "id": "iHCGdLyxZXNw"
      },
      "source": [
        "문제103. 위의 모집단 tall10000 에서 표본을 20개 랜덤으로 추출하시오 !"
      ]
    },
    {
      "cell_type": "code",
      "metadata": {
        "id": "2kiybU06ZXi4"
      },
      "source": [
        "import random\n",
        "\n",
        "tall = [129.3, 130.2, 132.5, 134.7, 136.3, 137.8, 138.1, 140.2, 142.3, 145.2]\n",
        "tall10000 = tall * 10000\n",
        "\n",
        "for i in range(1, 21):\n",
        "  print(random.choice(tall10000))"
      ],
      "execution_count": null,
      "outputs": []
    },
    {
      "cell_type": "markdown",
      "metadata": {
        "id": "flye3UEUZj-I"
      },
      "source": [
        "문제104. 위의 랜덤으로 추출한 표본 20개를 비어있는 a 리스트에 담으시오."
      ]
    },
    {
      "cell_type": "code",
      "metadata": {
        "id": "3Sfgq4NtZmvg"
      },
      "source": [
        "import random\n",
        "\n",
        "tall = [129.3, 130.2, 132.5, 134.7, 136.3, 137.8, 138.1, 140.2, 142.3, 145.2]\n",
        "tall10000 = tall * 10000\n",
        "a = []                      # 표본을 담기위해 a 라는 비어있는 리스트를 만듭니다.\n",
        "\n",
        "for i in range(1, 21):\n",
        "  a.append(random.choice(tall10000))   # 모집단에서 랜덤으로 키 하나를 추출해서 a 리스트에 담는다."
      ],
      "execution_count": null,
      "outputs": []
    },
    {
      "cell_type": "markdown",
      "metadata": {
        "id": "QoUQnDP2Z1By"
      },
      "source": [
        "문제105. 위의 표본의 평균값을 출력하시오 !"
      ]
    },
    {
      "cell_type": "code",
      "metadata": {
        "colab": {
          "base_uri": "https://localhost:8080/"
        },
        "id": "ujM5RgN4Z2MQ",
        "outputId": "d6c2436c-d4c2-4a04-e35f-4f275314670a"
      },
      "source": [
        "import random\n",
        "import numpy as np\n",
        "\n",
        "tall = [129.3, 130.2, 132.5, 134.7, 136.3, 137.8, 138.1, 140.2, 142.3, 145.2]\n",
        "tall10000 = tall * 10000\n",
        "a = [] \n",
        "\n",
        "for i in range(1, 21):\n",
        "  a.append(random.choice(tall10000))\n",
        "\n",
        "print(np.mean(a))   # 평균\n",
        "print(np.var(a))    # 분산\n",
        "print(np.std(a))    # 표준편차"
      ],
      "execution_count": 38,
      "outputs": [
        {
          "output_type": "stream",
          "text": [
            "137.23499999999999\n",
            "28.508275000000005\n",
            "5.339314094525626\n"
          ],
          "name": "stdout"
        }
      ]
    },
    {
      "cell_type": "markdown",
      "metadata": {
        "id": "HxHEAqh6aIFy"
      },
      "source": [
        "■ 31. 시퀀스 자료 크기 이해하기(len)\n",
        "\n",
        "모든 시퀀스 자료는 고정된 길이 또는 크기를 가지고 있습니다.\n",
        "시퀀스 자료의 크기는 시퀀스 자료를 구성하는 요소의 개수입니다.\n",
        "\n",
        "예제:\n",
        "\n",
        "    a = 'scott'\n",
        "    print( len(a) )   # 5\n"
      ]
    },
    {
      "cell_type": "markdown",
      "metadata": {
        "id": "UA9-WhDbaNC0"
      },
      "source": [
        "문제106. 아래의 SQL을 판다스로 구현하시오 !\n",
        "\n",
        "    select ename, length(ename)\n",
        "       from emp;\n"
      ]
    },
    {
      "cell_type": "code",
      "metadata": {
        "colab": {
          "base_uri": "https://localhost:8080/"
        },
        "id": "yW08p3ReaQ6R",
        "outputId": "8e8a038c-36a9-4d98-bf0e-6f67a039fc21"
      },
      "source": [
        "import pandas as pd\n",
        "from google.colab import drive\n",
        "drive.mount('/content/drive')\n",
        "emp = pd.read_csv('/content/drive/MyDrive/data/emp3.csv')\n",
        "\n",
        "for i in emp['ename']:\n",
        "  print(i, len(i))"
      ],
      "execution_count": 39,
      "outputs": [
        {
          "output_type": "stream",
          "text": [
            "Drive already mounted at /content/drive; to attempt to forcibly remount, call drive.mount(\"/content/drive\", force_remount=True).\n",
            "KING 4\n",
            "BLAKE 5\n",
            "CLARK 5\n",
            "JONES 5\n",
            "MARTIN 6\n",
            "ALLEN 5\n",
            "TURNER 6\n",
            "JAMES 5\n",
            "WARD 4\n",
            "FORD 4\n",
            "SMITH 5\n",
            "SCOTT 5\n",
            "ADAMS 5\n",
            "MILLER 6\n"
          ],
          "name": "stdout"
        }
      ]
    },
    {
      "cell_type": "markdown",
      "metadata": {
        "id": "JuANj4uPbtdp"
      },
      "source": [
        "■ 32. 멤버체크 이해하기(in)\n",
        "\n",
        "in 은 자료에 어떤 값이 있는지 없는지 확인할 때 사용하는 키워드입니다.\n",
        "활용하는 방법은 다음과 같습니다.\n",
        "\n",
        "예제:\n",
        "\n",
        "    값 in 자료\n",
        "설명: 값이 자료에 있으면 True 이고 없으면 False 가 됩니다.\n",
        "\n",
        "예제:\n",
        "\n",
        "    listdata = [1, 2, 3, 4]\n",
        "    a = 5 in listdata\n",
        "    b = 4 in listdata\n",
        "    print(a)     # False\n",
        "    print(b)     # True\n"
      ]
    },
    {
      "cell_type": "markdown",
      "metadata": {
        "id": "W9103wGxb8AQ"
      },
      "source": [
        "문제107. 모평균이 30이고 모표준편차가 7인 모집단을 구성하시오!"
      ]
    },
    {
      "cell_type": "code",
      "metadata": {
        "colab": {
          "base_uri": "https://localhost:8080/"
        },
        "id": "1_57QXbCl5_1",
        "outputId": "1f9cce55-e8db-45b2-ec88-26d3e6bf4b65"
      },
      "source": [
        "import numpy as np\n",
        "\n",
        "avg = 30\n",
        "std = 7\n",
        "N = 1000000\n",
        "\n",
        "mogip = np.random.randn(N) * std + avg\n",
        "print(len(mogip))"
      ],
      "execution_count": 40,
      "outputs": [
        {
          "output_type": "stream",
          "text": [
            "1000000\n"
          ],
          "name": "stdout"
        }
      ]
    },
    {
      "cell_type": "markdown",
      "metadata": {
        "id": "auCIEqDxmaOp"
      },
      "source": [
        "설명: np.random.randn(숫자) 를 쓰면 이 숫자만큼 가우시안 정규분포에 따르는 난수들이 숫자만큼 생성됩니다."
      ]
    },
    {
      "cell_type": "markdown",
      "metadata": {
        "id": "u5G7pNcUmc7u"
      },
      "source": [
        "문제108. 위의 모집단의 모평균을 출력하시오 !\n"
      ]
    },
    {
      "cell_type": "code",
      "metadata": {
        "colab": {
          "base_uri": "https://localhost:8080/"
        },
        "id": "fVbTrmwmmeTV",
        "outputId": "4d62e7ed-bef2-461a-fe5e-770027485f34"
      },
      "source": [
        "import numpy as np\n",
        "\n",
        "avg = 30\n",
        "std = 7\n",
        "N = 1000000\n",
        "\n",
        "mogip = np.random.randn(N) * std + avg\n",
        "print(np.mean(mogip))"
      ],
      "execution_count": 41,
      "outputs": [
        {
          "output_type": "stream",
          "text": [
            "29.985982343699188\n"
          ],
          "name": "stdout"
        }
      ]
    },
    {
      "cell_type": "markdown",
      "metadata": {
        "id": "znuHQDstmkEl"
      },
      "source": [
        "문제109. 아래의 SQL을 판다스로 구현하시오 !\n",
        "\n",
        "    select ename, job\n",
        "       from emp\n",
        "       where job in ('SALESMAN', 'ANALYST');\n"
      ]
    },
    {
      "cell_type": "code",
      "metadata": {
        "colab": {
          "base_uri": "https://localhost:8080/"
        },
        "id": "TvRRAIg8mmuJ",
        "outputId": "16f75752-b95d-443b-ac8d-210e4842d5d9"
      },
      "source": [
        "import pandas as pd\n",
        "from google.colab import drive\n",
        "drive.mount('/content/drive')\n",
        "emp = pd.read_csv('/content/drive/MyDrive/data/emp3.csv')\n",
        "\n",
        "print( emp[['ename', 'job']] [emp['job'].isin(['SALESMAN', 'ANALYST'])] )"
      ],
      "execution_count": 42,
      "outputs": [
        {
          "output_type": "stream",
          "text": [
            "Drive already mounted at /content/drive; to attempt to forcibly remount, call drive.mount(\"/content/drive\", force_remount=True).\n",
            "     ename       job\n",
            "4   MARTIN  SALESMAN\n",
            "5    ALLEN  SALESMAN\n",
            "6   TURNER  SALESMAN\n",
            "8     WARD  SALESMAN\n",
            "9     FORD   ANALYST\n",
            "11   SCOTT   ANALYST\n"
          ],
          "name": "stdout"
        }
      ]
    },
    {
      "cell_type": "markdown",
      "metadata": {
        "id": "yKSGUbIQnGMA"
      },
      "source": [
        "\n",
        "문제110. 아래의 SQL을 판다스로 구현하시오 !\n",
        "\n",
        "    select ename, job\n",
        "       from emp\n",
        "       where job not in ('SALESMAN', 'ANALYST');"
      ]
    },
    {
      "cell_type": "code",
      "metadata": {
        "colab": {
          "base_uri": "https://localhost:8080/"
        },
        "id": "rW6rl72VnIiy",
        "outputId": "1c71b866-5e6e-4176-d677-c2282e2e2483"
      },
      "source": [
        "import pandas as pd\n",
        "from google.colab import drive\n",
        "drive.mount('/content/drive')\n",
        "emp = pd.read_csv('/content/drive/MyDrive/data/emp3.csv')\n",
        "\n",
        "print( emp[['ename', 'job']] [~emp['job'].isin(['SALESMAN', 'ANALYST'])] )"
      ],
      "execution_count": 43,
      "outputs": [
        {
          "output_type": "stream",
          "text": [
            "Drive already mounted at /content/drive; to attempt to forcibly remount, call drive.mount(\"/content/drive\", force_remount=True).\n",
            "     ename        job\n",
            "0     KING  PRESIDENT\n",
            "1    BLAKE    MANAGER\n",
            "2    CLARK    MANAGER\n",
            "3    JONES    MANAGER\n",
            "7    JAMES      CLERK\n",
            "10   SMITH      CLERK\n",
            "12   ADAMS      CLERK\n",
            "13  MILLER      CLERK\n"
          ],
          "name": "stdout"
        }
      ]
    },
    {
      "cell_type": "markdown",
      "metadata": {
        "id": "mAO8DlkDnL__"
      },
      "source": [
        "■ 33. 문자열 이해하기\n",
        "\n",
        "문자열은 문자나 기호 순서로 나열되어 있는 시퀀스 자료입니다.\n",
        "\n",
        "※ 문자열을 선언하는 방법 3가지\n",
        "\n",
        "    1. '문자열'  <--- 싱글 쿼테이션 마크\n",
        "    2. \"문자열\" <--- 더블 쿼테이션 마크 한 개\t\n",
        "    3. \"\"\" 문자열 \"\"\" <--- 더블 쿼테이션 마크 3개\n",
        "\n",
        "문자에 아래와 같이 싱글 쿼테이션 마크(')가 포함되어져 있으면 위의 두번째인\n",
        "더블 쿼테이션 마크를 사용하면 됩니다.\n",
        "\n",
        "    a = \"My son's name is John\"\n",
        "    print(a)\n",
        "\n",
        "문자에 아래와 같이 더블 쿼테이션 마크(\")가 포함되어져 있으면 위의 세번째인\n",
        "\"\"\"   \"\"\" 더블 3개를 사용하면 됩니다.\n",
        "\n",
        "    b = \"\"\" My son's name is \"jone\" \"\"\"\n",
        "    print(b)"
      ]
    },
    {
      "cell_type": "markdown",
      "metadata": {
        "id": "Dhc9iDksnSx0"
      },
      "source": [
        "문제111. 아래와 같은 글씨가 출력되게하시오!\n",
        "\n",
        "\"모집단\"의 모평균은  \n",
        "\"모집단\"의 모분산은  \n",
        "\"모집단\"의 모표준편차는 "
      ]
    },
    {
      "cell_type": "code",
      "metadata": {
        "colab": {
          "base_uri": "https://localhost:8080/"
        },
        "id": "rChH0C2nnZg6",
        "outputId": "34c3c894-f9b0-48ad-f7a8-aed0c0936a0b"
      },
      "source": [
        "print(\"\"\" \"모집단\"의 모평균은 \"\"\")\n",
        "print(\"\"\" \"모집단\"의 모분산은 \"\"\")\n",
        "print(\"\"\" \"모집단\"의 모표준편차는 \"\"\")"
      ],
      "execution_count": 45,
      "outputs": [
        {
          "output_type": "stream",
          "text": [
            " \"모집단\"의 모평균은 \n",
            " \"모집단\"의 모분산은 \n",
            " \"모집단\"의 모표준편차는 \n"
          ],
          "name": "stdout"
        }
      ]
    },
    {
      "cell_type": "markdown",
      "metadata": {
        "id": "hnytecpknwET"
      },
      "source": [
        "문제112. 모평균이 30이고 모표준편차가 7인 모집단(1000000개)의 모평균과 모분산과 모표준편차를 아래와 같이 출력하시오!\n",
        "\n",
        "\"모집단\"의 모평균은 ?  \n",
        "\"모집단\"의 모분산은 ?  \n",
        "\"모집단\"의 모표준편차는 ? "
      ]
    },
    {
      "cell_type": "code",
      "metadata": {
        "colab": {
          "base_uri": "https://localhost:8080/"
        },
        "id": "xcfA9RqAn1Pj",
        "outputId": "6ef49d7a-2968-4a77-f24e-fed2809fe15d"
      },
      "source": [
        "import numpy as np\n",
        "\n",
        "avg = 30\n",
        "std = 7\n",
        "N = 1000000\n",
        "\n",
        "mogip = np.random.randn(N) * std + avg\n",
        "\n",
        "a = \"\"\" \"모집단\"의 모평균은 \"\"\"\n",
        "b = \"\"\" \"모집단\"의 모분산은 \"\"\"\n",
        "c = \"\"\" \"모집단\"의 모표준편차는 \"\"\"\n",
        "\n",
        "print(a, np.mean(mogip))\n",
        "print(b, np.var(mogip))\n",
        "print(c, np.std(mogip))"
      ],
      "execution_count": 47,
      "outputs": [
        {
          "output_type": "stream",
          "text": [
            " \"모집단\"의 모평균은  30.003713772276537\n",
            " \"모집단\"의 모분산은  49.01903764525547\n",
            " \"모집단\"의 모표준편차는  7.001359699748005\n"
          ],
          "name": "stdout"
        }
      ]
    },
    {
      "cell_type": "markdown",
      "metadata": {
        "id": "A1_yEyhNoJ8q"
      },
      "source": [
        "문제113. 모평균이 30이고 모표준편차가 7인 모집단(1000000개)에서 표본을 49개 뽑으시오~"
      ]
    },
    {
      "cell_type": "code",
      "metadata": {
        "colab": {
          "base_uri": "https://localhost:8080/"
        },
        "id": "hWlHIhwPoMBz",
        "outputId": "96d5686d-6bc2-4565-88f4-7d0a6c1ad2fb"
      },
      "source": [
        "import numpy as np\n",
        "\n",
        "avg = 30\n",
        "std = 7\n",
        "N = 1000000\n",
        "\n",
        "mogip = np.random.randn(N) * std + avg\n",
        "print(np.random.choice(mogip, 49)) "
      ],
      "execution_count": 48,
      "outputs": [
        {
          "output_type": "stream",
          "text": [
            "[13.78711007 28.36001861 23.7062094  34.85748358 28.14369121 37.11400772\n",
            " 27.51084131 20.76426438 19.31715668 40.78388299 24.42097377 24.26333844\n",
            " 39.05931102 42.90183965 33.51229517 23.61856209 44.46789325 26.6783173\n",
            " 23.20324699 34.60393847 26.99896974 25.02053601 29.74387296 38.93967623\n",
            " 29.95166888 22.46577131 34.03097024 24.28621695 27.12056012 16.73718139\n",
            " 26.29520062 43.7377698  27.24840193 28.9723195  39.6543692  36.40338539\n",
            " 20.21456258 24.02827875 30.99266809 40.06550031 31.5958633  17.94600882\n",
            " 29.83618332 41.72511113 17.19743951 37.07799145 24.79337897 32.92809869\n",
            " 30.35699845]\n"
          ],
          "name": "stdout"
        }
      ]
    },
    {
      "cell_type": "markdown",
      "metadata": {
        "id": "kR8_j6INoZ0s"
      },
      "source": [
        "문제114. 위에서 뽑은 49개의 평균값을 출력하시오 !"
      ]
    },
    {
      "cell_type": "code",
      "metadata": {
        "colab": {
          "base_uri": "https://localhost:8080/"
        },
        "id": "EzNHCtizoatS",
        "outputId": "13094335-a0d0-4ba8-857e-a6d343186ecb"
      },
      "source": [
        "import numpy as np\n",
        "\n",
        "avg = 30\n",
        "std = 7\n",
        "N = 1000000\n",
        "\n",
        "mogip = np.random.randn(N) * std + avg\n",
        "\n",
        "print( np.random.choice(mogip, 49).mean() )"
      ],
      "execution_count": 51,
      "outputs": [
        {
          "output_type": "stream",
          "text": [
            "29.013076616334352\n"
          ],
          "name": "stdout"
        }
      ]
    },
    {
      "cell_type": "markdown",
      "metadata": {
        "id": "GmGxoU03ophj"
      },
      "source": [
        "설명: numpy 의 random 안의 choice 함수를 이용해서 mogipdan 에서 49개의 표본샘플링하고 그 표본의 평균값을 출력한다.\n"
      ]
    },
    {
      "cell_type": "markdown",
      "metadata": {
        "id": "RY7Bx2E3ow1H"
      },
      "source": [
        "문제115. 위에서 출력한 표본의 평균값을 하나가 아니라 100개가 출력되게 하시오 !"
      ]
    },
    {
      "cell_type": "code",
      "metadata": {
        "id": "PB6JYD0doyp3"
      },
      "source": [
        "import numpy as np\n",
        "\n",
        "avg = 30\n",
        "std = 7\n",
        "N = 1000000\n",
        "\n",
        "mogip = np.random.randn(N) * std + avg\n",
        "\n",
        "for i in range(1, 101):\n",
        "  print( np.random.choice(mogip, 49).mean() )"
      ],
      "execution_count": null,
      "outputs": []
    },
    {
      "cell_type": "markdown",
      "metadata": {
        "id": "YMgEZNypo5Nr"
      },
      "source": [
        "문제116. 이번에는 100개를 출력하지 말고 비어있는 리스트 a 를 선언하고 a에 100개를 담으시오!"
      ]
    },
    {
      "cell_type": "code",
      "metadata": {
        "id": "QOZLnftRo7OK"
      },
      "source": [
        "import numpy as np\n",
        "\n",
        "avg = 30\n",
        "std = 7\n",
        "N = 1000000\n",
        "\n",
        "mogip = np.random.randn(N) * std + avg\n",
        "a = []\n",
        "\n",
        "for i in range(1, 101):\n",
        "  a.append( np.random.choice(mogip, 49).mean() )\n",
        "\n",
        "print(a)"
      ],
      "execution_count": null,
      "outputs": []
    },
    {
      "cell_type": "markdown",
      "metadata": {
        "id": "7zFOlJaWpD6T"
      },
      "source": [
        "문제117. 위에서 구한 표본평균의 평균값과 표준편차를 아래와 같이 출력하시오!\n",
        "\n",
        "\"표본평균\" 의 평균값은 ?  \n",
        "\"표본평균\" 의 표준편차는 ?"
      ]
    },
    {
      "cell_type": "code",
      "metadata": {
        "colab": {
          "base_uri": "https://localhost:8080/"
        },
        "id": "VuPde3F8pGFk",
        "outputId": "4ac2ebb3-d639-496d-ede5-69c7266c9ee0"
      },
      "source": [
        "import numpy as np\n",
        "\n",
        "avg = 30\n",
        "std = 7\n",
        "N = 1000000\n",
        "\n",
        "mogip = np.random.randn(N) * std + avg\n",
        "a = []\n",
        "\n",
        "for i in range(1, 101):\n",
        "  a.append( np.random.choice(mogip, 49).mean() )\n",
        "\n",
        "x = \"\"\" \"표본평균\"의 평균값은 \"\"\"\n",
        "y = \"\"\" \"표본평균\"의 표준편차는 \"\"\"\n",
        "\n",
        "print(x, np.mean(a))\n",
        "print(y, np.std(a))"
      ],
      "execution_count": 58,
      "outputs": [
        {
          "output_type": "stream",
          "text": [
            " \"표본평균\"의 평균값은  30.0687421990707\n",
            " \"표본평균\"의 표준편차는  1.0400466042621317\n"
          ],
          "name": "stdout"
        }
      ]
    },
    {
      "cell_type": "markdown",
      "metadata": {
        "id": "IP_xZjkd8pGD"
      },
      "source": [
        "■ 34. 문자열 포맷팅 이해하기\n",
        "\n",
        "문자열 포멧팅이란 변하는 값을 포함하는 문자열을 표현하기 위해 하나의 양식으로\n",
        "문자열을 만드는 것입니다.  \n",
        "문자열 포멧팅에서는 변하는 값을 나타내기 위해 사용하는 기호를 '포멧 문자열' 이라고 하며, 자주 사용하는 포멧 문자열은 다음과 같습니다.\n",
        "\n",
        "    포멧 문자열\t     설명\n",
        "       %s       \t문자열에 대응됨\n",
        "       %c       \t문자나 기호 한개에 대응됨\n",
        "       %f       \t실수에 대응됨\n",
        "       %d\t       정수에 대응됨\n",
        "       %%       \t% 라는 기호 자체를 표시함\n",
        "\n",
        "예제:\n",
        "\n",
        "    txt1 = '자바'\n",
        "    txt2 = '파이썬'\n",
        "    num1 = 5\n",
        "    num2 = 10\n",
        "    print( '나는 %s 보다 %s 에 더 익숙합니다' %(txt1, txt2) )\n",
        "    print( '나는 ', txt1, ' 보다', txt2, '에 더 익숙합니다')\n",
        "\n",
        "결과:\n",
        "\n",
        "    나는 자바 보다 파이썬 에 더 익숙합니다\n",
        "    나는  자바  보다 파이썬 에 더 익숙합니다"
      ]
    },
    {
      "cell_type": "markdown",
      "metadata": {
        "id": "kea7nxR89ETo"
      },
      "source": [
        "문제118. 아래의 변수를 이용해서 아래와 같이 결과가 출력되게하시오!  \n",
        "num1 = 5  \n",
        "num2 = 10\n",
        "\n",
        "결과: 5 는 10 보다 작습니다."
      ]
    },
    {
      "cell_type": "code",
      "metadata": {
        "colab": {
          "base_uri": "https://localhost:8080/"
        },
        "id": "Lx10EzVc9JBz",
        "outputId": "38f88091-bbeb-45d9-ffaa-ed36a7c34b97"
      },
      "source": [
        "num1 = 5\n",
        "num2 = 10\n",
        "\n",
        "print('%d 는 %d 보다 작습니다.' %(num1, num2))"
      ],
      "execution_count": 59,
      "outputs": [
        {
          "output_type": "stream",
          "text": [
            "5 는 10 보다 작습니다.\n"
          ],
          "name": "stdout"
        }
      ]
    },
    {
      "cell_type": "markdown",
      "metadata": {
        "id": "Ar_xwIL89QYi"
      },
      "source": [
        "문제119. 문제 117번의 결과가 아래와 같이 출력되게하시오 !\n",
        "\t     ( 문자열 포멧을 이용하세요 )\n",
        "\t\n",
        "표본평균의 평균값은 ? 이고 분산값은 ? 이고 표준편차는 ? 입니다."
      ]
    },
    {
      "cell_type": "code",
      "metadata": {
        "colab": {
          "base_uri": "https://localhost:8080/"
        },
        "id": "xdkn10kb9Sel",
        "outputId": "ce44c9ce-85e7-4e62-b9b5-0fe644fe2b8e"
      },
      "source": [
        "import numpy as np\n",
        "\n",
        "avg = 30\n",
        "std = 7\n",
        "N = 1000000\n",
        "\n",
        "mogip = np.random.randn(N) * std + avg\n",
        "a = []\n",
        "\n",
        "for i in range(1, 101):\n",
        "  a.append( np.random.choice(mogip, 49).mean() )\n",
        "\n",
        "print('표본평균의 평균값은 %f 이고 분산값은 %f 이고 표준편차는 %f 입니다.' %(np.mean(a), np.var(a), np.std(a)))"
      ],
      "execution_count": 60,
      "outputs": [
        {
          "output_type": "stream",
          "text": [
            "표본평균의 평균값은 30.079500 이고 분산값은 1.025650 이고 표준편차는 1.012744 입니다.\n"
          ],
          "name": "stdout"
        }
      ]
    },
    {
      "cell_type": "markdown",
      "metadata": {
        "id": "VvJLb7sv9mvG"
      },
      "source": [
        "문제120. 위의 결과가 아래와 같이 소수점 두번째 자리까지만 나오게 하시오! (반올림)\n",
        "\n",
        "표본평균의 평균값은 ??.?? 이고 분산값은 ??.?? 이고 표준편차는 ??.?? 입니다."
      ]
    },
    {
      "cell_type": "code",
      "metadata": {
        "colab": {
          "base_uri": "https://localhost:8080/"
        },
        "id": "bcJo0fR_9oGt",
        "outputId": "1636f1de-c490-4b80-8843-f8864f523954"
      },
      "source": [
        "import numpy as np\n",
        "\n",
        "avg = 30\n",
        "std = 7\n",
        "N = 1000000\n",
        "\n",
        "mogip = np.random.randn(N) * std + avg\n",
        "a = []\n",
        "\n",
        "for i in range(1, 101):\n",
        "  a.append( np.random.choice(mogip, 49).mean() )\n",
        "\n",
        "print('표본평균의 평균값은 %.2f 이고 분산값은 %.2f 이고 표준편차는 %.2f 입니다.' %(round(np.mean(a)), round(np.var(a)), round(np.std(a))))"
      ],
      "execution_count": 62,
      "outputs": [
        {
          "output_type": "stream",
          "text": [
            "표본평균의 평균값은 30.00 이고 분산값은 1.00 이고 표준편차는 1.00 입니다.\n"
          ],
          "name": "stdout"
        }
      ]
    },
    {
      "cell_type": "markdown",
      "metadata": {
        "id": "ib7UCRsU-oeV"
      },
      "source": [
        "문제121. 어느 비행기 탑승객의 짐의 무게는 평균이 18kg이고 표준편차가 3kg인 규분포를 따른다고 한다.  \n",
        "이 비행기 탑승객중에서 36명을 임의추출할 때, 짐의 평균 무게가 17kg 이상일 확률을 구하여라.  \n",
        "답: 0.9772\n"
      ]
    },
    {
      "cell_type": "code",
      "metadata": {
        "colab": {
          "base_uri": "https://localhost:8080/"
        },
        "id": "QSJoJKcW_TyN",
        "outputId": "207b820d-74d3-46f5-930f-52e67b798cd9"
      },
      "source": [
        "import numpy as np\n",
        "\n",
        "avg = 18\n",
        "std = 3\n",
        "N = 1000000\n",
        "\n",
        "mogip = np.random.randn(N) * std + avg               # 평균이 18이고 표준편차가 3이고 크기가 1000000인 모집단 생성\n",
        "a = []\n",
        "cnt = 0\n",
        "\n",
        "for i in range(1, 10001):\n",
        "  a.append( np.random.choice(mogip, 36).mean() )     # 위에서 만들어논 모집단에서 크기가 36인 표본을 추출하여 평균값을 계산하여 a 리스트에 추가\n",
        "  if a[i-1] >= 17:                                   # a 리스트에 있는 평균값이 17 이상일 때\n",
        "    cnt += 1                                         # 집계한다.\n",
        "\n",
        "print(cnt/len(a))                                    # 집계된 갯수에서 총 갯수를 나누면 확률!"
      ],
      "execution_count": 64,
      "outputs": [
        {
          "output_type": "stream",
          "text": [
            "0.978\n"
          ],
          "name": "stdout"
        }
      ]
    }
  ]
}
