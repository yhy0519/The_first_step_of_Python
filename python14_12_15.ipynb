{
  "nbformat": 4,
  "nbformat_minor": 0,
  "metadata": {
    "colab": {
      "name": "python14_12_15.ipynb",
      "provenance": [],
      "collapsed_sections": [],
      "mount_file_id": "1ZvAAWHOPg6-6TM1QZYfmEBBMCOhhCd9S",
      "authorship_tag": "ABX9TyNPkCsLFfQS5ECIqjSEbrY+",
      "include_colab_link": true
    },
    "kernelspec": {
      "name": "python3",
      "display_name": "Python 3"
    }
  },
  "cells": [
    {
      "cell_type": "markdown",
      "metadata": {
        "id": "view-in-github",
        "colab_type": "text"
      },
      "source": [
        "<a href=\"https://colab.research.google.com/github/yhy0519/The_first_step_of_Python/blob/main/python14_12_15.ipynb\" target=\"_parent\"><img src=\"https://colab.research.google.com/assets/colab-badge.svg\" alt=\"Open In Colab\"/></a>"
      ]
    },
    {
      "cell_type": "markdown",
      "metadata": {
        "id": "XXLI7mPLAl36"
      },
      "source": [
        "**■ 132. 인자를 바꾸어 함수를 반복 호출하여 결과값 얻기(map)**\r\n",
        "\r\n",
        "파이썬 내장함수 map() 은 리스트 A 와 함수 f 가 주어지면 리스트 A의 요소를 함수 f 에\r\n",
        "입력해서 출력하는 결과를 간단하게 출력해줍니다.\r\n",
        "\r\n",
        "    문법: map( 함수명, 함수에 제공할 매개변수 값들 )\r\n",
        "\r\n",
        "매개변수의 값들을 바꿔가면서 함수를 반복 실행할 때 유용하게 사용할 수 있습니다.\r\n",
        "\r\n",
        "예제:"
      ]
    },
    {
      "cell_type": "code",
      "metadata": {
        "colab": {
          "base_uri": "https://localhost:8080/"
        },
        "id": "Yb-3EZdsAsjl",
        "outputId": "07b05535-aea3-4bf3-d076-cd44026414d7"
      },
      "source": [
        "def gob(x):\r\n",
        "    return x * x\r\n",
        "\r\n",
        "a = [ 1, 2, 3, 4, 5 ]\r\n",
        "result = list( map(gob, a) )\r\n",
        "print( result )\r\n",
        "\r\n",
        "r = map(gob, a)\r\n",
        "print(r)"
      ],
      "execution_count": null,
      "outputs": [
        {
          "output_type": "stream",
          "text": [
            "[1, 4, 9, 16, 25]\n",
            "<map object at 0x7f471c0b9048>\n"
          ],
          "name": "stdout"
        }
      ]
    },
    {
      "cell_type": "markdown",
      "metadata": {
        "id": "cEbtmSYRBA1_"
      },
      "source": [
        "설명: 리스트의 요소 하나하나를 함수에 입력값으로 입력한다(mapping)\r\n",
        "\r\n",
        "map 함수가 리턴해주는 결과를 보려면 반드시 list 함수로 리턴된 값을 변환해서 리스트 형태로 봐야합니다.  \r\n",
        "(그냥 result = map(gob, a) 는 메모리 주소값 리턴)"
      ]
    },
    {
      "cell_type": "markdown",
      "metadata": {
        "id": "IPebtQYIBVHv"
      },
      "source": [
        ""
      ]
    },
    {
      "cell_type": "markdown",
      "metadata": {
        "id": "zkO31d9QBAou"
      },
      "source": [
        ""
      ]
    },
    {
      "cell_type": "markdown",
      "metadata": {
        "id": "DoBkDIXnBXG_"
      },
      "source": [
        "문제 391. 숫자를 입력해서 해당 숫자가 3000보다 크거나 같으면 숫자를 1을 리턴하게 하고 입력하는 숫자가 3000보다 작다면 0을 리턴하는 함수를 생성하시오\r\n",
        "\r\n",
        "    print( high_income(3500) )\r\n",
        "    결과 1\r\n",
        "    print( high_income(2000) )\r\n",
        "    결과 0"
      ]
    },
    {
      "cell_type": "code",
      "metadata": {
        "colab": {
          "base_uri": "https://localhost:8080/"
        },
        "id": "78wgCdMaBZsa",
        "outputId": "c9ef2476-a9b3-4122-d492-e15380c12c22"
      },
      "source": [
        "def high_income(num):\r\n",
        "    if num >= 3000:\r\n",
        "        return 1\r\n",
        "    else:\r\n",
        "        return 0\r\n",
        "\r\n",
        "print( high_income(3500) )\r\n",
        "print( high_income(2000) )"
      ],
      "execution_count": null,
      "outputs": [
        {
          "output_type": "stream",
          "text": [
            "1\n",
            "0\n"
          ],
          "name": "stdout"
        }
      ]
    },
    {
      "cell_type": "markdown",
      "metadata": {
        "id": "nR-v_CuoByrm"
      },
      "source": [
        ""
      ]
    },
    {
      "cell_type": "markdown",
      "metadata": {
        "id": "lIYvA1lHBylv"
      },
      "source": [
        ""
      ]
    },
    {
      "cell_type": "markdown",
      "metadata": {
        "id": "SMUm_KyjByfv"
      },
      "source": [
        "문제392. 위에서 만든 함수를 map 함수에 적용해서 아래의 리스트의 요소가 high_incom 함수의 입력 매개변수로 입력해서 아래의 결과가 출력되게하시오 !\r\n",
        "\r\n",
        "    a = [ 4000, 5000, 2000, 3500, 1000 ]\r\n",
        "    \r\n",
        "    결과: [ 1, 1, 0, 1, 0 ]\r\n"
      ]
    },
    {
      "cell_type": "code",
      "metadata": {
        "id": "Pc_3X0tQDEvm",
        "colab": {
          "base_uri": "https://localhost:8080/"
        },
        "outputId": "a1b68b1a-f4fe-45f0-da95-b470522d0a04"
      },
      "source": [
        "def high_income(num):\r\n",
        "    if num >= 3000:\r\n",
        "        return 1\r\n",
        "    else:\r\n",
        "        return 0\r\n",
        "\r\n",
        "a = [ 4000, 5000, 2000, 3500, 1000 ]\r\n",
        "\r\n",
        "result = list(map(high_income, a))\r\n",
        "print(result)"
      ],
      "execution_count": 6,
      "outputs": [
        {
          "output_type": "stream",
          "text": [
            "[1, 1, 0, 1, 0]\n"
          ],
          "name": "stdout"
        }
      ]
    },
    {
      "cell_type": "markdown",
      "metadata": {
        "id": "Ky2TQXyCCdJY"
      },
      "source": [
        ""
      ]
    },
    {
      "cell_type": "markdown",
      "metadata": {
        "id": "Bt64c9a6CdEP"
      },
      "source": [
        ""
      ]
    },
    {
      "cell_type": "markdown",
      "metadata": {
        "id": "LI-YkdF0Cc_Q"
      },
      "source": [
        "문제393. 동전을 지정된 숫자만큼 던져서 앞면이 나오는지 뒷면이 나오는지 출력하는 함수를 생성하시오 !\r\n",
        "\r\n",
        "    coin_cnt(5)\r\n",
        "    앞면\r\n",
        "    앞면\r\n",
        "    앞면\r\n",
        "    뒷면\r\n",
        "    앞면"
      ]
    },
    {
      "cell_type": "code",
      "metadata": {
        "id": "OLvZQqyqDC8c",
        "colab": {
          "base_uri": "https://localhost:8080/"
        },
        "outputId": "c90c7abc-0f5c-4a46-ae7b-c785694eebc1"
      },
      "source": [
        "def coin_cnt(num):\r\n",
        "    import random\r\n",
        "    coin = ['앞면', '뒷면']\r\n",
        "    for i in range(1,num+1):\r\n",
        "        result = random.choice(coin)\r\n",
        "        print(result)\r\n",
        "\r\n",
        "coin_cnt(5)"
      ],
      "execution_count": 9,
      "outputs": [
        {
          "output_type": "stream",
          "text": [
            "앞면\n",
            "뒷면\n",
            "앞면\n",
            "앞면\n",
            "앞면\n"
          ],
          "name": "stdout"
        }
      ]
    },
    {
      "cell_type": "markdown",
      "metadata": {
        "id": "tlbXgHI1Dh3g"
      },
      "source": [
        ""
      ]
    },
    {
      "cell_type": "markdown",
      "metadata": {
        "id": "GfPQZOIfDhw3"
      },
      "source": [
        ""
      ]
    },
    {
      "cell_type": "markdown",
      "metadata": {
        "id": "rQhDkACHDhpf"
      },
      "source": [
        "문제394. 위의 함수를 수정해서 숫자를 입력하면 해당 숫자만큼 동전을 던져서\r\n",
        "\t     동전이 앞면이 나오는 확률을 출력하시오 !\r\n",
        "\r\n",
        "    print( coin_cnt(100) )"
      ]
    },
    {
      "cell_type": "code",
      "metadata": {
        "colab": {
          "base_uri": "https://localhost:8080/"
        },
        "id": "r9q72yAMDnd5",
        "outputId": "ee40e14c-92e9-4f83-beec-e16f425d3f81"
      },
      "source": [
        "def coin_cnt(num):\r\n",
        "    import random\r\n",
        "    coin = ['앞면', '뒷면']\r\n",
        "    cnt = 0\r\n",
        "    for i in range(1,num+1):\r\n",
        "        result = random.choice(coin)\r\n",
        "        if result == '앞면':\r\n",
        "            cnt += 1\r\n",
        "    return cnt/num\r\n",
        "\r\n",
        "coin_cnt(100)"
      ],
      "execution_count": 13,
      "outputs": [
        {
          "output_type": "execute_result",
          "data": {
            "text/plain": [
              "0.51"
            ]
          },
          "metadata": {
            "tags": []
          },
          "execution_count": 13
        }
      ]
    },
    {
      "cell_type": "markdown",
      "metadata": {
        "id": "9a4-ba8-EFK6"
      },
      "source": [
        ""
      ]
    },
    {
      "cell_type": "markdown",
      "metadata": {
        "id": "QZOQoUJtEFGo"
      },
      "source": [
        ""
      ]
    },
    {
      "cell_type": "markdown",
      "metadata": {
        "id": "qisML9FxEFAN"
      },
      "source": [
        "문제395. 위에서 만든 coin_cnt 함수의 아래의 a 리스트의 요소들을 적용해서 결과로\r\n",
        "\t     확률이 출력되게하시오\r\n",
        "\r\n",
        "    a = [ 10, 100, 1000, 10000, 100000 ]\r\n",
        "\r\n",
        "    결과: [0.5, 0.46, 0.502, 0.5048, 0.50028]\r\n"
      ]
    },
    {
      "cell_type": "code",
      "metadata": {
        "colab": {
          "base_uri": "https://localhost:8080/"
        },
        "id": "9Vvy1mdVEH4u",
        "outputId": "b3b6a5bb-00d0-4b29-a039-21904c0a02b7"
      },
      "source": [
        "def coin_cnt(num):\r\n",
        "    import random\r\n",
        "    coin = ['앞면', '뒷면']\r\n",
        "    cnt = 0\r\n",
        "    for i in range(1,num+1):\r\n",
        "        result = random.choice(coin)\r\n",
        "        if result == '앞면':\r\n",
        "            cnt += 1\r\n",
        "    return cnt/num\r\n",
        "\r\n",
        "a = [ 10, 100, 1000, 10000, 100000 ]\r\n",
        "result = list( map(coin_cnt, a) )\r\n",
        "print(result)"
      ],
      "execution_count": 17,
      "outputs": [
        {
          "output_type": "stream",
          "text": [
            "[0.4, 0.51, 0.483, 0.5026, 0.5006]\n"
          ],
          "name": "stdout"
        }
      ]
    },
    {
      "cell_type": "markdown",
      "metadata": {
        "id": "iCiTmTMTEYGi"
      },
      "source": [
        "설명: 동전을 던지는 횟수가 많아질수록 0.5 에 근사한 값이 출력되고 있다."
      ]
    },
    {
      "cell_type": "markdown",
      "metadata": {
        "id": "5NWj43GcEX-2"
      },
      "source": [
        ""
      ]
    },
    {
      "cell_type": "markdown",
      "metadata": {
        "id": "BOgxTy-jEX4I"
      },
      "source": [
        ""
      ]
    },
    {
      "cell_type": "markdown",
      "metadata": {
        "id": "UXUnuQbyEXys"
      },
      "source": [
        "문제396. 주사위를 던져서 주사위의 눈이 5 가 나올 확률을 출력하는 함수를 만들고\r\n",
        "\t     아래의 a 리스트의 주사위를 던지는 횟수를 map 함수로 적용해서 확률이 점점\r\n",
        "\t     1/6(0.1667) 로 근사해지는지 실험하시오 !\r\n",
        "\r\n",
        "    a = [ 10, 100, 1000, 10000, 100000 ]"
      ]
    },
    {
      "cell_type": "code",
      "metadata": {
        "colab": {
          "base_uri": "https://localhost:8080/"
        },
        "id": "HYe-dUkbEXej",
        "outputId": "881c42d7-3e55-43a4-907a-f418c9f73f3f"
      },
      "source": [
        "def dice_cnt(num):\r\n",
        "    import random\r\n",
        "    dice = list( range(1,7) )\r\n",
        "    cnt = 0\r\n",
        "    for i in range(1,num+1):\r\n",
        "        result = random.choice(dice)\r\n",
        "        if result == 5:\r\n",
        "            cnt += 1\r\n",
        "    return cnt/num\r\n",
        "\r\n",
        "a = [ 10, 100, 1000, 10000, 100000 ]\r\n",
        "result = list( map(dice_cnt, a) )\r\n",
        "print(result)"
      ],
      "execution_count": 19,
      "outputs": [
        {
          "output_type": "stream",
          "text": [
            "[0.1, 0.19, 0.161, 0.1654, 0.16788]\n"
          ],
          "name": "stdout"
        }
      ]
    },
    {
      "cell_type": "markdown",
      "metadata": {
        "id": "IJUOv7cbEumI"
      },
      "source": [
        ""
      ]
    },
    {
      "cell_type": "markdown",
      "metadata": {
        "id": "JV7vXNOtEuiS"
      },
      "source": [
        ""
      ]
    },
    {
      "cell_type": "markdown",
      "metadata": {
        "id": "Alx-Nsh1EufI"
      },
      "source": [
        "문제397. 아래의 불량품이 들어있는 박스에서 제품을 3개 뽑았을 때 3개중에 2개가 불량품일 확률을 출력하는 함수를 만드시오 !   \r\n",
        "( 복원추출로 하세요 !)  \r\n",
        "함수를 실행할 때 3개를 뽑은 횟수를 입력 매개변수로 사용하세요\r\n",
        "\r\n",
        "    box = ['정상', '정상', '불량품', '정상', '불량품', '정상', '정상', '불량품']"
      ]
    },
    {
      "cell_type": "code",
      "metadata": {
        "colab": {
          "base_uri": "https://localhost:8080/"
        },
        "id": "Ju3KJ7RNEyrO",
        "outputId": "3d9757da-066a-4860-968b-730b6596e3f6"
      },
      "source": [
        "def box_cnt(num):\r\n",
        "    import numpy as np\r\n",
        "    cnt = 0\r\n",
        "    box = ['정상', '정상', '불량품', '정상', '불량품', '정상', '정상', '불량품']\r\n",
        "    for i in range(1, num+1):\r\n",
        "        result = list( np.random.choice(box, 3, replace = True) )\r\n",
        "        if result.count('불량품') == 2:\r\n",
        "            cnt = cnt + 1\r\n",
        "    return cnt / num\r\n",
        "\r\n",
        "print(box_cnt(100))"
      ],
      "execution_count": 20,
      "outputs": [
        {
          "output_type": "stream",
          "text": [
            "0.25\n"
          ],
          "name": "stdout"
        }
      ]
    },
    {
      "cell_type": "markdown",
      "metadata": {
        "id": "P1uDFAdAFSZs"
      },
      "source": [
        ""
      ]
    },
    {
      "cell_type": "markdown",
      "metadata": {
        "id": "Hk1yvfoKFSVX"
      },
      "source": [
        ""
      ]
    },
    {
      "cell_type": "markdown",
      "metadata": {
        "id": "RjMYYh27FSQN"
      },
      "source": [
        "문제398. 위에서 만든 box_cnt 함수에 아래의 a 리스트의 횟수를 map 함수로 적용해서 확률이 출력되게하시오 !\r\n",
        "\r\n",
        "    a = [ 10, 100, 1000, 10000, 100000 ]"
      ]
    },
    {
      "cell_type": "code",
      "metadata": {
        "colab": {
          "base_uri": "https://localhost:8080/"
        },
        "id": "gcGT3S8FFWct",
        "outputId": "e5b8cc84-b020-4549-f331-959665a7c9dd"
      },
      "source": [
        "def box_cnt(num):\r\n",
        "    import numpy as np\r\n",
        "    cnt = 0\r\n",
        "    box = ['정상', '정상', '불량품', '정상', '불량품', '정상', '정상', '불량품']\r\n",
        "    for i in range(1, num+1):\r\n",
        "        result = list( np.random.choice(box, 3, replace = True) )\r\n",
        "        if result.count('불량품') == 2:\r\n",
        "            cnt = cnt + 1\r\n",
        "    return cnt / num\r\n",
        "\r\n",
        "a = [ 10, 100, 1000, 10000, 100000 ]\r\n",
        "result = list( map(box_cnt, a) )\r\n",
        "print(result)"
      ],
      "execution_count": 21,
      "outputs": [
        {
          "output_type": "stream",
          "text": [
            "[0.4, 0.3, 0.256, 0.2651, 0.26415]\n"
          ],
          "name": "stdout"
        }
      ]
    },
    {
      "cell_type": "markdown",
      "metadata": {
        "id": "S-bBgohAFjBa"
      },
      "source": [
        ""
      ]
    },
    {
      "cell_type": "markdown",
      "metadata": {
        "id": "CtsEA33MFi8a"
      },
      "source": [
        ""
      ]
    },
    {
      "cell_type": "markdown",
      "metadata": {
        "id": "Ox6-yWvUFi4r"
      },
      "source": [
        "**■ 133. 텍스트 파일을 읽고 출력하기(read)**\r\n",
        "\r\n",
        "텍스트 파일을 읽고 그 내용을 화면에 출력하고자 하면 제일 먼저 텍스트 읽기 모드로 파일을 엽니다.  \r\n",
        "텍스트 파일을 오픈하면 텍스트 파일을 읽어 내용을 화면에 출력하면 됩니다.\r\n",
        "\r\n",
        "예:"
      ]
    },
    {
      "cell_type": "code",
      "metadata": {
        "colab": {
          "base_uri": "https://localhost:8080/"
        },
        "id": "cSLOy68OFm5O",
        "outputId": "dc1e07dc-906e-4d6d-9e0f-d6c0ed83f1db"
      },
      "source": [
        "f = open(\"/content/drive/MyDrive/data/jobs.txt\", encoding = 'UTF8')\r\n",
        "data = f.read()\r\n",
        "print( data )\r\n",
        "f.close()"
      ],
      "execution_count": 24,
      "outputs": [
        {
          "output_type": "stream",
          "text": [
            "steve jobs'2005 stanford commencement address\n",
            "I am honored to be with you today at your commencement from one of the finest universities in the world. \n",
            "I never graduated from college. \n",
            "Truth be told, this is the closest I've ever gotten to a college graduation. \n",
            "Today I want to tell you three stories from my life. \n",
            "That's it. \n",
            "No big deal. \n",
            "Just three stories. \n",
            "The first story is about connecting the dots. \n",
            "I dropped out of Reed College after the first 6 months, but then stayed around as a drop-in for another 18 months or so before I really quit. \n",
            "So why did I drop out? \n",
            "It started before I was born. \n",
            "My biological mother was a young, unwed college graduate student, and she decided to put me up for adoption. \n",
            "She felt very strongly that I should be adopted by college graduates, so everything was all set for me to be adopted at birth by a lawyer and his wife. \n",
            "Except that when I popped out they decided at the last minute that they really wanted a girl. \n",
            "So my parents, who were on a waiting list, got a call in the middle of the night asking: \n",
            "\"We have an unexpected baby boy; \n",
            "do you want him?\" \n",
            "They said: \n",
            "\"Of course.\" \n",
            "My biological mother later found out that my mother had never graduated from college and that my father had never graduated from high school. She refused to sign the final adoption papers. \n",
            "She only relented a few months later when my parents promised that I would someday go to college. \n",
            "And 17 years later I did go to college. \n",
            "But I naively chose a college that was almost as expensive as Stanford, and all of my working-class parents' savings were being spent on my college tuition. \n",
            "After six months, I couldn't see the value in it. \n",
            "I had no idea what I wanted to do with my life and no idea how college was going to help me figure it out. \n",
            "And here I was spending all of the money my parents had saved their entire life. \n",
            "So I decided to drop out and trust that it would all work out OK. \n",
            "It was pretty scary at the time, but looking back it was one of the best decisions I ever made. \n",
            "The minute I dropped out I could stop taking the required classes that didn't interest me, and begin dropping in on the ones that looked interesting.  \n",
            "It wasn't all romantic. \n",
            "I didn't have a dorm room, so I slept on the floor in friends' rooms, I returned coke bottles for the 5￠ deposits to buy food with, and I would walk the 7 miles across town every Sunday night to get one good meal a week at the Hare Krishna temple. \n",
            "I loved it. \n",
            "And much of what I stumbled into by following my curiosity and intuition turned out to be priceless later on. \n",
            "Let me give you one example: \n",
            "Reed College at that time offered perhaps the best calligraphy instruction in the country. \n",
            "Throughout the campus every poster, every label on every drawer, was beautifully hand calligraphed. \n",
            "Because I had dropped out and didn't have to take the normal classes, I decided to take a calligraphy class to learn how to do this. \n",
            "I learned about serif and san serif typefaces, about varying the amount of space between different letter combinations, about what makes great typography great. \n",
            "It was beautiful, historical, artistically subtle in a way that science can't capture, and I found it fascinating. \n",
            "None of this had even a hope of any practical application in my life. \n",
            "But ten years later, when we were designing the first Macintosh computer, it all came back to me. \n",
            "And we designed it all into the Mac. It was the first computer with beautiful typography. \n",
            "If I had never dropped in on that single course in college, the Mac would have never had multiple typefaces or proportionally spaced fonts. \n",
            "And since Windows just copied the Mac, its likely that no personal computer would have them. \n",
            "If I had never dropped out, I would have never dropped in on this calligraphy class, and personal computers might not have the wonderful typography that they do. \n",
            "Of course it was impossible to connect the dots looking forward when I was in college. \n",
            "But it was very, very clear looking backwards ten years later. \n",
            "Again, you can't connect the dots looking forward; you can only connect them looking backwards. \n",
            "So you have to trust that the dots will somehow connect in your future. \n",
            "You have to trust in something - your gut, destiny, life, karma, whatever. \n",
            "This approach has never let me down, and it has made all the difference in my life. \n",
            "My second story is about love and loss. \n",
            "I was lucky ? \n",
            "I found what I loved to do early in life. \n",
            "Woz and I started Apple in my parents garage when I was 20. \n",
            "We worked hard, and in 10 years Apple had grown from just the two of us in a garage into a $2 billion company with over 4000 employees. \n",
            "We had just released our finest creation - the Macintosh - a year earlier, and I had just turned 30. \n",
            "And then I got fired. How can you get fired from a company you started? \n",
            "Well, as Apple grew we hired someone who I thought was very talented to run the company with me, and for the first year or so things went well. \n",
            "But then our visions of the future began to diverge and eventually we had a falling out. \n",
            "When we did, our Board of Directors sided with him. \n",
            "So at 30 I was out. And very publicly out. \n",
            "What had been the focus of my entire adult life was gone, and it was devastating. \n",
            "I really didn't know what to do for a few months. \n",
            "I felt that I had let the previous generation of entrepreneurs down - that I had dropped the baton as it was being passed to me. \n",
            "I met with David Packard and Bob Noyce and tried to apologize for screwing up so badly. \n",
            "I was a very public failure, and I even thought about running away from the valley. \n",
            "But something slowly began to dawn on me ? \n",
            "I still loved what I did. \n",
            "The turn of events at Apple had not changed that one bit. \n",
            "I had been rejected, but I was still in love. \n",
            "And so I decided to start over. \n",
            "I didn't see it then, but it turned out that getting fired from Apple was the best thing that could have ever happened to me. \n",
            "The heaviness of being successful was replaced by the lightness of being a beginner again, less sure about everything. \n",
            "It freed me to enter one of the most creative periods of my life.  \n",
            "During the next five years, I started a company named NeXT, another company named Pixar, and fell in love with an amazing woman who would become my wife. \n",
            "Pixar went on to create the worlds first computer animated feature film, Toy Story, and is now the most successful animation studio in the world. \n",
            "In a remarkable turn of events, Apple bought NeXT, I retuned to Apple, and the technology we developed at NeXT is at the heart of Apple's current renaissance. \n",
            "And Laurene and I have a wonderful family together.  \n",
            "I'm pretty sure none of this would have happened if I hadn't been fired from Apple. \n",
            "It was awful tasting medicine, but I guess the patient needed it. \n",
            "Sometimes life hits you in the head with a brick. Don't lose faith. \n",
            "I'm convinced that the only thing that kept me going was that I loved what I did. \n",
            "You've got to find what you love. And that is as true for your work as it is for your lovers. \n",
            "Your work is going to fill a large part of your life, and the only way to be truly satisfied is to do what you believe is great work. \n",
            "And the only way to do great work is to love what you do. \n",
            "If you haven't found it yet, keep looking. \n",
            "Don't settle. \n",
            "As with all matters of the heart, you'll know when you find it. \n",
            "And, like any great relationship, it just gets better and better as the years roll on. \n",
            "So keep looking until you find it. Don't settle.   \n",
            "My third story is about death. \n",
            "When I was 17, I read a quote that went something like: \n",
            "\"If you live each day as if it was your last, someday you'll most certainly be right.\" \n",
            "It made an impression on me, and since then, for the past 33 years, I have looked in the mirror every morning and asked myself: \n",
            "\"If today were the last day of my life, would I want to do what I am about to do today?\" \n",
            "And whenever the answer has been \"No\" for too many days in a row, I know I need to change something. \n",
            "Remembering that I'll be dead soon is the most important tool I've ever encountered to help me make the big choices in life. \n",
            "Because almost everything ? \n",
            "all external expectations, all pride, all fear of embarrassment or failure - these things just fall away in the face of death, leaving only what is truly important. \n",
            "Remembering that you are going to die is the best way I know to avoid the trap of thinking you have something to lose. \n",
            "You are already naked. \n",
            "There is no reason not to follow your heart. \n",
            "About a year ago I was diagnosed with cancer. \n",
            "I had a scan at 7:30 in the morning, and it clearly showed a tumor on my pancreas. \n",
            "I didn't even know what a pancreas was. \n",
            "The doctors told me this was almost certainly a type of cancer that is incurable, and that I should expect to live no longer than three to six months. \n",
            "My doctor advised me to go home and get my affairs in order, which is doctor's code for prepare to die. \n",
            "It means to try to tell your kids everything you thought you'd have the next 10 years to tell them in just a few months. It means to make sure everything is buttoned up so that it will be as easy as possible for your family. \n",
            "It means to say your goodbyes. \n",
            "I lived with that diagnosis all day. \n",
            "Later that evening I had a biopsy, where they stuck an endoscope down my throat, through my stomach and into my intestines, put a needle into my pancreas and got a few cells from the tumor. \n",
            "I was sedated, but my wife, who was there, told me that when they viewed the cells under a microscope the doctors started crying because it turned out to be a very rare form of pancreatic cancer that is curable with surgery. \n",
            "I had the surgery and I'm fine now. \n",
            "This was the closest I've been to facing death, and I hope its the closest I get for a few more decades. \n",
            "Having lived through it, I can now say this to you with a bit more certainty than when death was a useful but purely intellectual concept: \n",
            "No one wants to die. Even people who want to go to heaven don't want to die to get there. \n",
            "And yet death is the destination we all share. \n",
            "No one has ever escaped it. \n",
            "And that is as it should be, because Death is very likely the single best invention of Life. \n",
            "It is Life's change agent. \n",
            "It clears out the old to make way for the new. \n",
            "Right now the new is you, but someday not too long from now, you will gradually become the old and be cleared away. \n",
            "Sorry to be so dramatic, but it is quite true.  \n",
            "Your time is limited, so don't waste it living someone else's life. \n",
            "Don't be trapped by dogma - which is living with the results of other people's thinking. \n",
            "Don't let the noise of other's opinions drown out your own inner voice. \n",
            "And most important, have the courage to follow your heart and intuition. \n",
            "They somehow already know what you truly want to become. Everything else is secondary. \n",
            "When I was young, there was an amazing publication called The Whole Earth Catalog, which was one of the bibles of my generation. \n",
            "It was created by a fellow named Stewart Brand not far from here in Menlo Park, and he brought it to life with his poetic touch. \n",
            "This was in the late 1960's, before personal computers and desktop publishing, so it was all made with typewriters, scissors, and polaroid cameras. \n",
            "It was sort of like Google in paperback form, 35 years before Google came along: it was idealistic, and overflowing with neat tools and great notions. \n",
            "Stewart and his team put out several issues of The Whole Earth Catalog, and then when it had run its course, they put out a final issue. It was the mid-1970s, and I was your age. \n",
            "On the back cover of their final issue was a photograph of an early morning country road, the kind you might find yourself hitchhiking on if you were so adventurous. \n",
            "Beneath it were the words: \n",
            "\"Stay Hungry. Stay Foolish.\" \n",
            "It was their farewell message as they signed off. \n",
            "Stay Hungry. Stay Foolish. \n",
            "And I have always wished that for myself. \n",
            "And now, as you graduate to begin anew, I wish that for you. \n",
            "Stay Hungry. Stay Foolish. \n",
            "Thank you all very much. \n"
          ],
          "name": "stdout"
        }
      ]
    },
    {
      "cell_type": "markdown",
      "metadata": {
        "id": "_LaB11JYF7-G"
      },
      "source": [
        "설명: 스티븐 잡스 연설문은 길지 않으니까 한번에 읽어와도 관계없는데 텍스트 파일의 용량이 매우 클 경우 read() 로 한꺼번에 파일의 내용을 읽어들이는것은 메모리 문제를 야기시킬 수 있습니다."
      ]
    },
    {
      "cell_type": "markdown",
      "metadata": {
        "id": "CDkaw5ekGA9r"
      },
      "source": [
        "웹에서 스크롤링한 데이터를 분석하고자 할 때 위와 같이 open 함수를 이용해서 파이썬으로 데이터를 불러옵니다."
      ]
    },
    {
      "cell_type": "markdown",
      "metadata": {
        "id": "oMlB8hEXF-KT"
      },
      "source": [
        ""
      ]
    },
    {
      "cell_type": "markdown",
      "metadata": {
        "id": "XckJzpW5F-p_"
      },
      "source": [
        ""
      ]
    },
    {
      "cell_type": "markdown",
      "metadata": {
        "id": "CNm0yzQLF_DA"
      },
      "source": [
        "문제399. 중앙일보에서 인공지능으로 검색한 기사인 mydata3.txt 를 파이썬으로 불러서 출력하시오!"
      ]
    },
    {
      "cell_type": "code",
      "metadata": {
        "colab": {
          "base_uri": "https://localhost:8080/"
        },
        "id": "z_9IZ8dSGGSU",
        "outputId": "d756030e-a259-4c76-ad0a-612bb982709d"
      },
      "source": [
        "f = open(\"/content/drive/MyDrive/data/mydata3.txt\", encoding = \"UTF8\")\r\n",
        "data = f.read()    # 파일을 한번에 전부 읽어오는 함수입니다.\r\n",
        "print(data)\r\n",
        "f.close()    # 파일을 닫는다. 닫는 코드를 안쓰면 파일이 계속 열려있습니다.\r\n",
        "             # 파일을 계속 열어두면 메모리를 계속 차지하고 사용하고 있게됩니다.\r\n",
        "             # 텍스트 파일의 크기가 크면 메모리를 많이 사용하고 있게됩니다.\r\n",
        "             # 그래서 사용이 끝났으면 반드시 close() 로 닫습니다."
      ],
      "execution_count": 25,
      "outputs": [
        {
          "output_type": "stream",
          "text": [
            "신한은행, 클라우드 기반 인공지능 코어 플랫폼 금융권 최초로 상용화신한은행이 클라우드 기반의 인공지능(AI) 코어 플랫폼을 금융권 최초로 상용화했다. 빅데이터센터 직원이 AI 코어 플랫폼을 이용한 분석 화면을 모니터링하고 있다.\n",
            "\n",
            "박지호기자 jihopress@etnews.comBIM?인공지능 건설자동화 기술 2025년까지 개발.. 건설 사망자 30%...정부가 인공지능(AI)과 빌딩정보시스템(BIM)을 활용한 건설 자동화 기술을 2025년까지 개발한다. BIM 활용을 유도하기 위해 2020년까지 500억원 이상 도로 사업에 BIM 설계를 의무화한다. 첨단 기술로 건설현장 노동생산성을 40% 향상시키고, 안전사고로 인한 사망자 수를 30% 줄인다.\n",
            "\n",
            "국토교통부는 향후 5년간(2018～2022년) 건설기술정책 로드맵인 '제6차 건설기술진흥 기본계획'을 수립했다고 2일 밝혔다.\n",
            "\n",
            "국내 건설산업은 전통산업 이미지를 벗어나지 못하고 있다. 생산성이 20년 간 정체돼 선진국의 3분의 1 수준에 불과하다. 최저가 경쟁이 만연한데다 국내총생산(GDP) 대비 건설 투자 비중이 지속 감소했다. 정부는 BIM·AI·드론·로봇 등 첨단기술을 건설에 접목해 생산성과 안전성을 높인다.\n",
            "\n",
            "4차 산업혁명에 대응하는 스마트 건설기술을 2025년까지 개발한다. 3차원 설계 기술인 BIM을 활용해 가상현실(VR)로 시공한 후 3D 프린터를 활용해 공장에서 건설 부재를 모듈화 제작한다. AI를 탑재한 건설 로봇이 조립·시공하는 방식이다.\n",
            "\n",
            "BIM은 시뮬레이션을 통해 설계 단계부터 잘못된 부분을 수정한다. 공기 단축과 비용 절감 효과가 크다. 건물 설비 교환 주기와 에너지 소비량 등도 효과적으로 관리한다.\n",
            "\n",
            "BIM을 확산시키기 위해 설계 기준과 매뉴얼을 마련한다. 500억원 이상 도로사업에 BIM 설계를 의무화한다. 드론·사물인터넷(IoT)센서·마이크로로봇 등을 활용해 시설물 이상 여부를 신속하게 감지·대응하는 시스템도 개발한다.올 해부터 건설 엔지니어링 발주 제도를 기술 변별력을 강화한 종합심사낙찰제로 전면 개편한다. 현행 정량·절대평가 위주에서 용역을 수행할 전문적인 역량 등 기술력 중심의 정성·상대평가로 전환한다. 가격보다는 기술 경쟁을 통해 낙찰자를 선정한다.\n",
            "\n",
            "노후 시설물을 선제적으로 유지관리하기 위해 '지속가능한 기반시설 관리기본법' 제정도 추진한다. 지난해 11월 조정식 더불어민주당 의원이 관련 법안을 발의했다.\n",
            "\n",
            "국토부 관계자는 “국내 건설산업이 고부가가치 미래산업으로 도약하기 위해서는 4차 산업혁명 기술을 활용한 첨단 기술과 융합이 필수”라고 강조했다.문보경 산업정책부(세종)기자 okmun@etnews.comCES 주역은 AI..삼성·LG·구글 '왕좌의 게임'9일(현지시간) 미국 라스베이거스에서 개막하는 세계 최대 전자·IT 전시회 'CES 2018'에서 인공지능(AI) 플랫폼 기술 경쟁이 펼쳐진다. AI 분야에서 세계 최고 수준 기술을 갖춘 기업 중 하나인 구글이 CES에 최초로 참가한다. 아마존, 인텔은 물론이고, 삼성전자와 LG전자도 AI 기술을 핵심으로 내세운다.\n",
            "\n",
            "2일 관련 업계에 따르면 CES 2018에 참가하는 주요 글로벌 기업이 AI를 핵심으로 전시하고, 기술 경쟁을 펼친다. 특히 올해는 기술 시연 수준의 제품을 넘어 일상에서 사용하는 제품에 AI를 접목한 제품이 대거 등장할 예정이다.\n",
            "\n",
            "삼성전자는 자체 인공지능 플랫폼 '빅스비'를 고도화하고, 스마트폰과 가전 등 다양한 기기로 적용 영역을 확대한다. 빅스비와 사물인터넷(IoT), 음성인식을 결합해 삼성전자 기기간 연결성 확대와 이를 통한 시너지를 보여줄 계획이다. CES 전시 주제도 '원삼성'으로 정하고, 각각의 제품을 강조하는 대신 삼성전자 제품이 구현하는 생태계를 강조한다. 인공지능 반도체 등 신기술을 선보일지도 관심사다.LG전자는 CES 전시관 메인으로 새 인공지능 브랜드 '씽큐'를 낙점했다. LG전자 부스 면적 중 3분의 1을 'LG 씽큐존'에 할애할 정도로 비중을 뒀다. AI와 IoT 시대가 되면서 개별 제품을 강조하기 보다는 각 제품을 연결해 제공하는 더 큰 가치를 보여주겠다는 전략이다.\n",
            "\n",
            "씽큐존에서는 독자 개발 인공지능 플랫폼 '딥씽큐(DeepThinQ)'는 물론이고, 오픈 플랫폼 전략에 따라 외부 AI 플랫폼을 적용한 다양한 제품도 함께 선보인다. 특히 집 내부를 연출한 'LG 씽큐 스위트(ThinQ Suite)'에서는 LG 인공지능 제품과 함께 하는 일상생활을 시연한다.\n",
            "\n",
            "CES에 처음 자체 전시부스를 마련해 참가하는 구글이 어떤 전시를 선보일지도 관심사다. 구글은 스마트폰 등 기기는 물론이고, AI 스피커 '구글홈'과 AI 비서 '구글 어시스턴트' 등을 선보일 것으로 예상된다. 자체 AI 기술을 적용한 새 하드웨어를 공개할지도 주목된다.\n",
            "\n",
            "구글 자체 부스외에도 구글 어시스턴트를 통한 협업 전시는 전시장 곳곳에서 확인할 수 있다. LG전자 씽큐존에도 구글 어시스턴트 접목 제품이 전시될 예정이다.\n",
            "\n",
            "지난해 CES 2017에서 큰 관심을 받았던 아마존 AI 비서 '알렉사' 진화형도 관심을 끈다. 올해 적용 영역을 어디까지 확대하고, 얼마나 진화한 제품과 서비스를 선보일지 주목된다.\n",
            "\n",
            "전자업계 관계자는 “AI 기술은 스마트폰과 가전, 스피커 등과 결합해 이미 일상에서 사용하는 기술로 들어왔다”면서 “올해 CES에서는 더 많은 기기와 서비스에 AI가 결합된 것을 보게 될 것”이라고 말했다.권건호 전자산업 전문기자 wingh1@etnews.com삼성전자, C랩 우수과제 CES에 선보인다삼성전자가 세계 최대 전자·IT전시회 'CES 2018'에서 C랩 우수 과제와 C랩을 통해 창업한 스타트업 기업 기술과 제품을 선보인다고 2일 밝혔다.\n",
            "\n",
            "삼성전자는 미국 라스베이거스 샌즈 엑스포에 C랩 전시관을 마련하고, 9일부터 12일까지 CES 기간 동안 이들 과제를 소개할 계획이다.\n",
            "\n",
            "CES 2018에서 첫 선을 보이는 C랩 우수 과제는 △휴대용 지향성 스피커 'S레이(S-RAY)' △폐 합병증을 예방하는 호흡재활 솔루션 'Go브레쓰(GoBreath)' △저시력 장애인을 위한 시각보조솔루션 '릴루미노(Relumino) 글래스' 등이다.\n",
            "\n",
            "'S레이'는 주변에는 소리가 들리지 않고 스피커 앞 사용자만 들을 수 있게 해주는 휴대용 지향성 스피커다. 장시간 이어폰 사용으로 귀에 피로감을 느끼거나 야외에서 스피커를 사용하고 싶지만 주변에 소음 피해를 줄까 우려했던 사람들을 위한 제품이다. 목에 착용 가능한 넥밴드 타입, 원하는 장소에 쉽게 탈착할 수 있는 초소형 핸디타입, 스마트폰에 장착 가능한 커버타입 등을 선보인다.\n",
            "\n",
            "'Go브레쓰'는 전신 마취 수술 후 발생할 수 있는 폐 합병증을 예방하기 위해 만든 호흡 재활솔루션이다. 전신 마취를 하면 폐가 자가호흡을 하지 못해 기능이 약화되기 때문에 수술 후 폐호흡 운동을 꼭 해야 한다. 'Go브레쓰'는 전용 기기와 앱을 통해 환자가 호흡운동을 할 수 있게 하며, 호흡 운동 상태와 회복 정도도 확인할 수 있다. 의사가 환자 운동 상태를 모니터링할 수 있는 서비스도 제공한다.\n",
            "\n",
            "'릴루미노'는 저시력 장애인이 사물을 더 또렷하게 볼 수 있도록 도와주는 시각보조 솔루션이다. CES에서는 기존 기어VR용 시각보조 앱 외에 선글라스 형태 '릴루미노 글래스' 시제품을 처음 선보인다. 릴루미노 글래스는 스마트폰과 연결해 사용한다. 안경에 장착된 카메라로 보이는 영상을 스마트폰으로 전송하고, 스마트폰에서 릴루미노만의 이미지 처리 알고리즘을 거쳐 다시 글래스 내부 디스플레이에 보여주는 방식이다. 스마트폰 프로세서와 배터리를 활용해 더 가볍고 편하게 릴루미노 글래스를 착용할 수 있도록 했다.\n",
            "\n",
            "이와 함께 C랩에서 스핀오프한 7개 스타트업 기업도 참가해 세계시장 진출 기회를 타진할 예정이다.\n",
            "\n",
            "CES 2018에는 △일인칭 시점 넥밴드 타입 웨어러블 360도 카메라 '링크플로우' △어린이를\n",
            "\n",
            "위한 증강현실(AR) 스마트 칫솔 '키튼플래닛' △얼굴 피부를 분석하고 관리해 주는 인공지능 솔루션 '룰루랩' △좋은 습관을 형성시켜 주는 어린이용 스마트워치 '키즈소프트' △점착 메모지에 출력하는 소형 스마트 프린터 '망고슬래브' △손가락을 귀 옆에 대고 통화하는 스마트 시계줄 '이놈들연구소' △헬멧 사용자를 위한 스마트 커뮤니케이션 기기 '아날로그플러스'가 참가한다.\n",
            "\n",
            "특히 링크플로우의 웨어러블 카메라 '핏360'은 CES 2018 디지털이미징 부문에서 혁신상을 수상했다.\n",
            "\n",
            "권건호 전자산업 전문기자 wingh1@etnews.com[2018 신년기획]금융업계도 인공지능으로 승부2018년 금융은 핀테크에 이어 기술혁명의 접목이 본격화될 것으로 보인다. 지난 2~3년 간편결제, P2P대출, 크라우드펀딩, 로보어드바이저 등 핀테크와 비트코인 같은 새로운 디지털상품이 약진했다. 앞으론 이뿐만 아니라 빅 데이터, 인공지능, 블록체인과 같은 인프라 기술혁명의 도입과 활용도 빨라질 전망이다.\n",
            "\n",
            "빅데이터는 4차 산업혁명시대의 원유라 불릴 정도로 핵심 분야지만, 금융분야는 그동안 개인정보보안 이슈에 묶여 기술개발과 활용이 제한적이었다. 그러나 이젠 금융에서도 빅데이터 활용경쟁이 본격화될 가능성이 높다. 단초는 올해부터 유럽에서 도입하기로 한 결제서비스지침(PSD2). 당사자 동의에 따라 소비자 금융정보이전을 허용함으로써, 소비자편익을 높일 수 있는 다양한 금융서비스경쟁을 유도한다는 게 골자다.\n",
            "\n",
            "미국에서도 이런 움직임이 구체화되고 있는 만큼, 글로벌 금융시장에선 2018년이 금융 빅 데이터 활용원년이 될 거란 얘기가 나온다. 우리나라도 빅데이터가 금융부문 혁신성장의 핵심이슈인 점을 감안하면 향후 이에 대한 정부의 적극적 규제완화와 업계에서의 빅 데이터 구축, 활용이 화두가 될 전망이다.\n",
            "\n",
            "인공지능에 대한 관심도 더욱 높아질 전망이다. 이미 기술적 완성도가 높은 미국에선 금융회사들의 영업부문에서 부정거래 잡아내기, 고객 신용도평가, 챗봇(Chatbot)을 통한 대고객서비스제공 등이 확대되고 있다. 일부 대형사에선 영업뿐 아니라, 백오피스업무에도 인공지능기술을 활용한다. 소위 RPA(로보틱스 프로세스 오토메이션). 한마디로 직원이 컴퓨터에서 행하는 작업절차를 소프트웨어로 개발, 자동화시키는 기술이다.\n",
            "\n",
            "예컨대 제이피모건체이스는 법인대출계약서 내용을 자동확인하는 COIN이란 소프트웨어로 연 36만시간 걸리던 작업시간을 단 몇 초에 끝내는 엄청난 효과를 올리고 있다고 한다. 새해 우리 금융업계도 인공지능을 통한 서비스경쟁이 거세질 것으로 보인다.\n",
            "\n",
            "우선 뱅킹부문은 챗봇 차별화가 예상된다. 일반상담뿐 아니라 가계장부, 자산관리 등 서비스다양화 경쟁이 빨라질 전망이다. 미국 등 글로벌 자산운용업계에선 로보어드바이저의 성장세가 대단하다. 자본시장의 글로벌 경쟁력제고를 위해선 대형증권사뿐 아니라 로보어드바이저 육성을 적극 고려할만하다. 경쟁력만 있으면 소규모업체로도 세계를 제패할 수 있기 때문이다. 보다 적극적인 정부의 비대면거래 규제완화가 필요한 이유다.\n",
            "\n",
            "마지막으로 '20세기가 인터넷이라면 21세기는 블록체인'이라고 한다. 그만큼 블록체인이 경제와 시장구조를 통째로 바꿀 수 있는 혁명적 파워가 있단 얘기다. 핵심은 블록체인의 위변조 보안능력. 블록자체가 거래의 위변조위험을 제거할 수 있기 때문에 헤드쿼터(CPU) 또는 제 3자 검증비용이 불필요하다. 특히 다가오는 사물인터넷(IoT)시대엔 사물간의 금융거래도 엄청 늘기 때문에 거래비용축소가 필수다. 정부는 블록체인 적극육성방침이다. 문제는 업계. R3 프로젝트, 비자마스터의 블록체인기반 기업결제서비스 출시 등 글로벌 경쟁이 거세질 것인 만큼, 내부 인센티브 제공 등 적극적 업계대응이 요망된다.\n",
            "\n",
            "정유신 서강대 기술경영대학원장 겸 핀테크지원센터장 ysjung1617@sogang.ac.krLG전자, CES서 인공지능 브랜드 '씽큐' 전면 배치LG전자는 9일부터 미국 라스베이거스에서 열리는 'CES 2018'에서 'LG 씽큐(ThinQ) 존'을 조성한다고 1일 밝혔다. LG전자만의 차별화된 통합 인공지능(AI) 경험을 선보인다.\n",
            "\n",
            "LG 씽큐 존은 면적 총 624제곱미터로 LG전자 부스에서 가장 면적이 넓은 전시 존이다. 부스 전체 면적(2044제곱미터)에서 3분의 1을 차지한다. LG전자 전시관 주인공으로 AI 브랜드 '씽큐'를 전면에 내세운다. 이를 위해 기존 TV, 냉장고, 세탁기 등 제품별로 조성했던 전시존 규모를 축소했다.\n",
            "\n",
            "LG전자는 'LG 씽큐 존'에서 독자 개발 AI 플랫폼 '딥씽큐'와 다양한 AI 플랫폼을 탑재한 제품을 선보인다. 무선인터넷(와이파이)로 서로 대화하고, 오픈 플랫폼으로 세상 모든 지식을 활용하고, 딥 러닝 기반으로 스스로 학습하면서 똑똑해지는 인공지능 가전을 구현한다.\n",
            "\n",
            "LG전자는 집 내부를 그대로 연출한 'LG 씽큐 스위트(ThinQ Suite)'에서 'LG AI 제품과 함께 하는 일상 생활'을 시연한다. 고객이 실제 생활에서 매일 경험할 수 있는 상황을 연출, AI로 더 윤택해지는 삶을 보여준다. 방문객이 LG 씽큐 가치를 효과적으로 체감하도록 한다.\n",
            "\n",
            "LG 씽큐 존에서는 소비자가 생활하는 '공간'마다 음성인식 AI 가전이 사물인터넷(IoT)로 연결된 스마트홈을 보여준다. 세탁실에선 음성인식 트윈워시를 비롯해 건조기, 스타일러 등 의류관리가전이 연동하면서 효과적으로 의류를 관리한다. 거실에서는 음성인식 에어컨과 공기청정기가 실내 공기질을 알아서 관리한다. 주방에서는 음성인식 냉장고와 오븐이 냉장고에 있는 재료에 맞춰 요리를 추천하고 해당 조리기능을 자동으로 선택한다.\n",
            "\n",
            "안내로봇, 청소로봇, 잔디깎이 로봇 등 다양한 상업용 로봇도 전시한다.\n",
            "\n",
            "한창희 LG전자 글로벌마케팅센터장은 “집안 모든 가전이 AI를 매일 경험할 수 있는 통로이자 접점”이라며 “LG 씽큐 존을 찾은 고객이 일상 생활 속에서 LG 인공가전을 통해 실질적인 가치를 느끼게 하면서 공감대를 이끌어 낼 것”이라고 강조했다.\n",
            "\n",
            "권동준기자 djkwon@etnews.com[신년설문]한국 산업 경쟁력 '보통'..미래 유망 산업은 'SW·콘텐츠'전자신문은 새해 국내외 경기를 전망하기 위해 산업계 종사자를 대상으로 신년 설문조사를 진행했다. 지난 수년간 경기가 침체되면서 응답자들의 경제 인식은 전반적으로 부정적이었다. 새해 희망적 분위기에도 불구하고 향후 전망 역시 그리 밝게 보지 않았다. 기존 주력산업은 경쟁력이 점점 약화되고 중국 등 경쟁국 부상도 한국 산업계를 흔드는 요인으로 지목됐다.하지만 희망이 없는 것은 아니다. 현재 주력산업인 반도체와 디스플레이는 물론이고 소프트웨어와 콘텐츠 등 새로운 산업이 부상해 향후 먹거리가 될 것으로 기대하는 응답이 많았다. 이를 위한 정부 역할로는 동반성장과 소프트웨어 육성을 위한 정책을 펼쳐야 한다는 의견이 제시됐다.\n",
            "\n",
            "◇물음표 붙은 한국 산업 경쟁력\n",
            "\n",
            "우리나라 산업 경쟁력에 대해 확신을 갖지 못하는 것으로 나타났다. 현재 산업 경쟁력을 묻는 질문에는 '보통'을 꼽은 사람이 절반이 넘는 52%나 됐다. '나쁘다'와 '매우 나쁘다'를 택한 응답자는 27.5%로, '좋다'를 택한 응답자 20.5%보다 많았다. 매우 좋다는 아무도 선택하지 않았다. 40대 응답자는 부정적 의견이 많았던 반면, 20대는 희망적으로 보는 것도 대조적이었다.\n",
            "\n",
            "5년 후 산업 경쟁력을 묻는 질문에도 대답은 현재와 큰 차이가 없는 것으로 집계됐다. 역시 '보통'을 답한 사람이 50%로 최다였다. '좋다'를 선택한 사람은 26%로, '나빠질 것이다'(20%)와 '매우 나빠질 것이다'(4%)를 택한 사람보다 많았다. 소폭이지만 현재보다 나아질 것으로 보는 것으로 풀이된다. 주목할 부분은 40대는 좋아질 것으로 보는 의견이 높았고 20대는 타 집단 대비 나빠질 것으로 보는 의견이 높았다.\n",
            "\n",
            "40대는 현재보다 미래가 좋아질 것으로 보는 반면, 20대는 현재보다 미래가 더 나빠질 것으로 봤다.\n",
            "\n",
            "5년 후 사업 경쟁력이 크게 좋아지지 않을 것으로 보는 이유로는 '주력 산업 경쟁력 상실'(68.8%), '중국 등 경쟁국 부상'(64.6%), '차세대 성장산업 발굴 미흡'(58.3%) 등이 꼽혔다.\n",
            "\n",
            "◇소프트웨어·콘텐츠 산업 유망\n",
            "\n",
            "산업 분야별 경쟁력을 묻는 질문에는 소프트웨어 미래를 밝게 보는 시각이 두드러졌다.\n",
            "\n",
            "현재 가장 경쟁력 있는 산업을 묻자 △소프트웨어, 지식서비스(28.5%) △반도체, 디스플레이 (28%) △인터넷, 콘텐츠(14.5%) 순으로 답했다.\n",
            "\n",
            "향후 한국 경제 성장을 이끌 대표 산업으로는 △소프트웨어, 지식서비스(27%) △인터넷, 콘텐츠(23%) △반도체, 디스플레이(15.5%) 순으로 나타났다.\n",
            "\n",
            "현재 한국 산업을 이끌고 있는 반도체와 디스플레이 산업보다도 소프트웨어나 콘텐츠 산업을 높게 보는 시각이 눈에 띄었다. 반도체와 디스플레이 산업에서 중국 등 경쟁국 추격으로 기술격차가 좁혀진다는 인식이 반영된 것으로 보인다.\n",
            "\n",
            "현재 한국 주력 산업 중 향후 경쟁력이 약화될 것으로 예상되는 산업으로는 '중공업(조선, 자동차, 철강)'(45.5%)이 압도적으로 높은 응답이 나왔다. 두 번째 많은 응답을 받은 '완제품(스마트폰, 가전 등)'(14.5%)보다도 3배 이상 많았다. 조선 산업 경쟁력 상실, 철강 산업에 대한 무역분쟁과 중국 견제, 지난해 자동차 수출 급감 등이 영향을 미친 것으로 분석된다.\n",
            "\n",
            "◇미래 유망기술은 '인공지능'\n",
            "\n",
            "올해를 포함한 가까운 미래에 가장 유망한 기술을 묻는 질문에는 '인공지능(AI)'(31.5%)이 단연 첫 손에 꼽혔다. 40대(42.9%)와 20대(36.4%)에서 특히 응답률이 높았다. 이처럼 높은 응답률이 나온 것은 현재 AI가 스마트폰과 가전, 스피커 등 각종 기기에서부터 자동차까지 다양한 분야에서 적용되기 때문으로 보인다. 또 구글, 애플, 인텔 등 글로벌 기업부터 국내 삼성전자, LG전자, 네이버, 이동통신사 등 다양한 기업이 AI 개발에 뛰어든 것도 영향을 끼쳤다는 평가다.\n",
            "\n",
            "AI에 이어 '사물인터넷'(15.5%), '빅데이터'(11.5%) 등이 유망기술로 꼽혔다.\n",
            "\n",
            "권건호 전자산업 전문기자 wingh1@etnews.com'세개의 눈' 화웨이 P20 렌더링 이미지 살펴보니..후면에 트리플 카메라를 탑재한 화웨이 차세대 전략 스마트폰 렌더링 이미지가 등장했다.\n",
            "\n",
            "중국 정보기술(IT) 전문매체 잔장즈자는 후면에 트리플 카메라를 품은 화웨이 P20 스마트폰 렌더링 이미지가 온라인 커뮤니티를 통해 유출됐다고 보도했다.\n",
            "\n",
            "잔장즈자가 공개한 P20 추정 스마트폰은 화이트, 민트, 핑크 세 가지 색상으로 구분된다. 전면에는 베젤이 거의 없는 디스플레이가 장착됐으며, 애플 아이폰X(텐) 상단의 노치(M자탈모) 디자인도 눈에 띈다.\n",
            "\n",
            "외신은 화웨이가 내달 스페인에서 열리는 모바일월드콩그레스(MWC)에서 P20을 처음 공개한다고 전했다. P20플러스·P20라이트 상표 등록도 완료, 세계 시장에 출시할 것으로 예상된다고 덧붙였다.\n",
            "\n",
            "P20은 6.01인치 디스플레이, 인공지능(AI) 칩셋 기린 970, 6·8기가바이트(GB) 램, 후면 트리플 카메라, 전면 2400만 화소 카메라, 4100mAh 대용량 배터리 등을 탑재한 것으로 알려졌다.\n",
            "\n",
            "외신은 “P20은 화웨이가 자체 개발한 얼굴인식 기능을 갖출 것으로 예상된다”면서 “가격은 4000위안 이상이 될 것”이라고 말했다.최재필기자 jpchoi@etnews.com2018년 블록체인 정책방향과 기술개발 및 비즈니스 모델/기대효과 ...최근, 인공지능과 함께 가장 화두가 되고 있고 제2의 인터넷이라고 불리는 블록체인은 금융뿐만 아니라 사물인터넷, 제조업, 유통, 공유경제, 공공서비스, 미래산업 등 모든 산업분야에서 활용될 수 있는 것으로서 국내에서도 공공기관, 대기업을 중심으로 블록체인 확산에 나서고 있는 가운데 산업교육연구소는 오는 1월 18일(목)부터 19일(금)까지 이틀에 걸쳐 서울 여의도 사학연금회관에서 “2018년 블록체인 정책방향과 기술개발 및 비즈니스 모델/기대효과 세미나”를 개최한다고 밝혔다.\n",
            "\n",
            "1월 18일(금) 세미나에서는 ▲블록체인 기술의 제반 이해 및 응용분야 신비즈니스 영역과 분야별 활용사례 ▲블록체인 국내,외 최근 실태와 기업/기관의 도입 및 비즈니스사례/기대효과 ▲블록체인 기술 확산 기반 마련을 위한 정책 추진 현황 및 향후 방향 ▲블록체인 관련 국내 법률, 제도 및 세부적 이슈와 사업유형별 규제실태 ▲블록체인/분산원장 기술 국제 표준화 최근 분석과 선점 전략을 위한 대응방안 ▲블록체인 기반의 해외송금 및 결제서비스 최근 분석 ▲블록체인의 정보보호 및 기술적 조명과 한국 자본시장의 패러다임 전환 ▲하이퍼렛저 패블릭 1.0기반의 IBM 블록체인 플랫폼 소개와 글로벌 금융사, IT기업 및 일반기업의 도입 현황 방안/사례 ▲블록체인 관련 보안위협 및 대책 등의 주제가 발표된다. \n",
            "\n",
            "1월 19일(금) 세미나에서는 ▲Authentication(인증) 기술기반의 블록체인 플랫폼 소개와 도입 활용방안 및 구축사례 ▲블록체인 기술과 비즈니스의 만남 ▲블록체인 기반 프로젝트 수행을 위한 고려사항 및 방법론 ▲해운, 항만분야 블록체인 도입 추진실태 및 기술 소개와 기대효과 ▲보험분야 블록체인 도입 추진실태 및 기술 소개와 기대효과 ▲의료, 헬스케어분야 블록체인 도입 추진실태 및 기술 소개와 기대효과 ▲자동차, 전력, 에너지분야 블록체인 도입 추진실태 및 기술 소개와 기대효과 ▲KEB하나은행의 블록체인 도입 추진실태 및 기술 소개와 기대효과 등의 주제가 발표된다. \n",
            "\n",
            "산업교육연구소 관계자는 “현 시점에서 우리가 간과해서는 안 될 것은 블록체인 관련 시장이 성장하려면 무엇보다도 소비자 신뢰 확보가 중요하기 때문에 관련 법제 정비는 물론이고 사업화 과정에서 발생할 수 있는 보안 강화가 선결 과제”라고 하면서 “금번 세미나를 통하여 우리 앞에 온 블록체인 활용 시대를 맞아 미래 발전전략과 신성장 신사업 기회를 모색하는 소중한 시간이 되기를 바란다”고 말했다 \n",
            "\n",
            "자세한 사항은 홈페이지 또는 전화로 문의하면 된다.\n",
            "\n",
            "전자신문인터넷 이정민 기자 (jmlee@etnews.com)IT몰라도 빅데이터 분석..신한銀, AI코어 플랫폼 도입삼성전자, 구글 등 글로벌 정보기술(IT) 기업이 도입한 '클라우드 기반 인공지능(AI) 코어 플랫폼'이 금융권 최초로 도입된다. 플랫폼이 가동되면 IT 전문가나 특정 소프트웨어(SW) 없이도 방대한 빅데이터를 직원이 자유자재로 이용, 서비스나 상품을 만들 수 있다. 기계(딥)학습 기술을 프라이빗 클라우드 환경으로 구현한 것이다.\n",
            "\n",
            "2일 금융권과 IT 업계에 따르면 신한은행이 은행 내·외부 정보를 자유롭게 분석하는 'AI 코어 플랫폼'을 최초로 상용화했다.\n",
            "\n",
            "지금까지 데이터 분석 업무는 담당 부서에서 주로 특정 솔루션을 구매해 기업 매출액, 환율 및 시황 정보 등 정형화된 정보 분석에 그쳤다. 범위가 상당히 제한됐다.\n",
            "\n",
            "반면에 AI 코어 플랫폼을 적용하면 현업에 있는 일반 사용자도 최신 분석 기술을 자유롭게 사용할 수 있다. IT 전문가가 아니어도 R, 파이선 등 데이터 분석에 필요한 SW 기술 적용이 가능하다.\n",
            "\n",
            "R는 통계 계산과 그래픽을 위한 프로그래밍 언어의 한 종류다. 뉴질랜드 오클랜드대에서 오픈소스 기반으로 개발했다. 기계학습과 관련된 알고리즘을 제공, 빅데이터 분석에 가장 많이 사용되는 오픈소스 언어다. 파이선도 오픈소스 프래그래밍 언어의 하나다. AI 코어 플랫폼은 이 같은 확장성을 구현하고 은행 내부의 정형 데이터뿐만 아니라 사회관계망서비스(SNS), 뉴스, 은행 내부 섭외 정보 등 정형화되지 않은 데이터(비정형 데이터)까지 손쉽게 분석할 수 있다.\n",
            "\n",
            "비정형 데이터를 별도의 솔루션 없이 분석할 수 있는 플랫폼 구현은 처음이다.\n",
            "\n",
            "정형 데이터는 각종 형식에 맞춰 데이터를 저장한 후 추출한 여러 형태의 정보를 뜻한다. 반면에 비정형 데이터는 SNS, 뉴스 등 웹상의 일반 텍스트 데이터, 음성, 영상 데이터, 센서 등 장비에서 발생하는 머신·센싱데이터 등 어떤 형식에도 얽매이지 않는 데이터다. 이런 데이터는 AI와 접목해 처리하기가 어렵다.\n",
            "\n",
            "많은 양의 데이터를 학습 데이터로 연산하려면 기존의 컴퓨팅 자원으로는 시간이 오래 걸린다. 이 때문에 그래픽처리장치(GPU)를 활용한다. 신한은행은 GPU를 활용해 빠르고 정확한 분석 환경을 갖췄다. 프라이빗 클라우드 환경도 구축했다. 쉬고 빠른 계산과 알고리즘 및 분석 결과 등도 공유한다.\n",
            "\n",
            "구글, 삼성전자 등에서 적용한 도커 컨테이너를 제공한다. 격리 공간에서 프로세스가 동작하는 기술이다. 사용자가 동일한 인터페이스에서 분석이 가능한 환경을 제공한다. 다양한 알고리즘에서 사용이 가능하다.\n",
            "\n",
            "신한은행은 AI 코어 플랫폼을 통해 금융 상품 개발은 물론 마케팅 비즈니스, 내부 빅데이터를 활용한 모든 서비스에 적용할 계획이다.\n",
            "\n",
            "신한은행 빅데이터센터 관계자는 “다른 은행은 빅데이터를 내부에서 분석·활용하려면 외부 기관에 맡겼지만 신한은 내부에서 모든 데이터를 관리, 적용하게 됐다”면서 “은행 자체로 IBM 왓슨을 금융에 구현했다고 보면 된다”고 설명했다.\n",
            "\n",
            "길재식 금융산업 전문기자 osolgil@etnews.com, 김지선기자 river@etnews.com\n"
          ],
          "name": "stdout"
        }
      ]
    },
    {
      "cell_type": "markdown",
      "metadata": {
        "id": "Pi3Yu5q5GpCf"
      },
      "source": [
        ""
      ]
    },
    {
      "cell_type": "markdown",
      "metadata": {
        "id": "J8GdxiK8GvWQ"
      },
      "source": [
        ""
      ]
    },
    {
      "cell_type": "markdown",
      "metadata": {
        "id": "-ZJOZKL1GvO7"
      },
      "source": [
        "문제400. 위의 중앙일보 기사에서 빅데이터 라는 단어가 몇번 나오는지 count 하시오!"
      ]
    },
    {
      "cell_type": "code",
      "metadata": {
        "colab": {
          "base_uri": "https://localhost:8080/"
        },
        "id": "Kfk2ow7EGwZM",
        "outputId": "c0de0dc5-50d6-4fb9-e66e-f041fdd78bf2"
      },
      "source": [
        "f = open(\"/content/drive/MyDrive/data/mydata3.txt\", encoding = \"UTF8\")\r\n",
        "data = f.read()\r\n",
        "print(data.count('빅데이터'))\r\n",
        "f.close() "
      ],
      "execution_count": 27,
      "outputs": [
        {
          "output_type": "stream",
          "text": [
            "11\n"
          ],
          "name": "stdout"
        }
      ]
    },
    {
      "cell_type": "markdown",
      "metadata": {
        "id": "m41A5FmMG65I"
      },
      "source": [
        ""
      ]
    },
    {
      "cell_type": "markdown",
      "metadata": {
        "id": "3imhV5BnG61U"
      },
      "source": [
        ""
      ]
    },
    {
      "cell_type": "markdown",
      "metadata": {
        "id": "aUDGxs-2G6xU"
      },
      "source": [
        "**■ 134. 텍스트 파일을 한줄씩 읽고 출력하기 ① (readline)**\r\n",
        "\r\n",
        "텍스트 파일의 용량이 매우 클 경우 read() 로 한꺼번에 파일의 내용을 읽어들이는 것은 메모리 문제를 야기할 수 있습니다.  \r\n",
        "이 경우 텍스트 파일 내용을 한 줄 단위로 읽고 작업을 수행하면 됩니다. readline() 은 텍스트 파일에서 한 줄을 읽습니다.  \r\n",
        "한 줄을 읽고 나면 파일을 읽기 시작하는 위치는 그 다음줄의 맨 처음이 됩니다.\r\n",
        "\r\n",
        "예제:"
      ]
    },
    {
      "cell_type": "code",
      "metadata": {
        "colab": {
          "base_uri": "https://localhost:8080/"
        },
        "id": "y0ndVzMkHBUd",
        "outputId": "dfb5c0ba-7fcd-479d-d32e-882c04bf5221"
      },
      "source": [
        "f = open(\"/content/drive/MyDrive/data/jobs.txt\", encoding = 'UTF8')\r\n",
        "data = f.readline()\r\n",
        "print( data )    # 맨 위의 딱 한줄만 출력\r\n",
        "f.close()"
      ],
      "execution_count": 28,
      "outputs": [
        {
          "output_type": "stream",
          "text": [
            "steve jobs'2005 stanford commencement address\n",
            "\n"
          ],
          "name": "stdout"
        }
      ]
    },
    {
      "cell_type": "markdown",
      "metadata": {
        "id": "RJx5Scw3HP1G"
      },
      "source": [
        "설명: read() 함수는 텍스트 파일 전체를 읽어오는 반면 readline() 은 텍스트 파일에서 한줄만 읽어옵니다."
      ]
    },
    {
      "cell_type": "markdown",
      "metadata": {
        "id": "v_1GvTQ7HRVd"
      },
      "source": [
        ""
      ]
    },
    {
      "cell_type": "markdown",
      "metadata": {
        "id": "8kZVSSx0HR0A"
      },
      "source": [
        ""
      ]
    },
    {
      "cell_type": "markdown",
      "metadata": {
        "id": "u_SYCTMEHRnD"
      },
      "source": [
        "문제401. 위의 스티븐 잡스 연설문 데이터를 모두 읽어오시오 !\r\n",
        "\t     ( readline() 함수를 이용하세요 ~ )"
      ]
    },
    {
      "cell_type": "code",
      "metadata": {
        "colab": {
          "base_uri": "https://localhost:8080/"
        },
        "id": "PIP8RhYTHUxb",
        "outputId": "292a562a-3756-4bb6-e2ac-1aed99946b6e"
      },
      "source": [
        "f = open(\"/content/drive/MyDrive/data/jobs.txt\", encoding = 'UTF8')\r\n",
        "data = f.readline()\r\n",
        "while data:               # data 변수안에 data 가 있으면 True 없으면 False 입니다.\r\n",
        "    print( data )\r\n",
        "    data = f.readline()   # 그 다음줄을 읽어서 data 변수에 입력합니다. 데이터가 없을때까지 한줄씩 출력\r\n",
        "f.close()"
      ],
      "execution_count": 30,
      "outputs": [
        {
          "output_type": "stream",
          "text": [
            "steve jobs'2005 stanford commencement address\n",
            "\n",
            "I am honored to be with you today at your commencement from one of the finest universities in the world. \n",
            "\n",
            "I never graduated from college. \n",
            "\n",
            "Truth be told, this is the closest I've ever gotten to a college graduation. \n",
            "\n",
            "Today I want to tell you three stories from my life. \n",
            "\n",
            "That's it. \n",
            "\n",
            "No big deal. \n",
            "\n",
            "Just three stories. \n",
            "\n",
            "The first story is about connecting the dots. \n",
            "\n",
            "I dropped out of Reed College after the first 6 months, but then stayed around as a drop-in for another 18 months or so before I really quit. \n",
            "\n",
            "So why did I drop out? \n",
            "\n",
            "It started before I was born. \n",
            "\n",
            "My biological mother was a young, unwed college graduate student, and she decided to put me up for adoption. \n",
            "\n",
            "She felt very strongly that I should be adopted by college graduates, so everything was all set for me to be adopted at birth by a lawyer and his wife. \n",
            "\n",
            "Except that when I popped out they decided at the last minute that they really wanted a girl. \n",
            "\n",
            "So my parents, who were on a waiting list, got a call in the middle of the night asking: \n",
            "\n",
            "\"We have an unexpected baby boy; \n",
            "\n",
            "do you want him?\" \n",
            "\n",
            "They said: \n",
            "\n",
            "\"Of course.\" \n",
            "\n",
            "My biological mother later found out that my mother had never graduated from college and that my father had never graduated from high school. She refused to sign the final adoption papers. \n",
            "\n",
            "She only relented a few months later when my parents promised that I would someday go to college. \n",
            "\n",
            "And 17 years later I did go to college. \n",
            "\n",
            "But I naively chose a college that was almost as expensive as Stanford, and all of my working-class parents' savings were being spent on my college tuition. \n",
            "\n",
            "After six months, I couldn't see the value in it. \n",
            "\n",
            "I had no idea what I wanted to do with my life and no idea how college was going to help me figure it out. \n",
            "\n",
            "And here I was spending all of the money my parents had saved their entire life. \n",
            "\n",
            "So I decided to drop out and trust that it would all work out OK. \n",
            "\n",
            "It was pretty scary at the time, but looking back it was one of the best decisions I ever made. \n",
            "\n",
            "The minute I dropped out I could stop taking the required classes that didn't interest me, and begin dropping in on the ones that looked interesting.  \n",
            "\n",
            "It wasn't all romantic. \n",
            "\n",
            "I didn't have a dorm room, so I slept on the floor in friends' rooms, I returned coke bottles for the 5￠ deposits to buy food with, and I would walk the 7 miles across town every Sunday night to get one good meal a week at the Hare Krishna temple. \n",
            "\n",
            "I loved it. \n",
            "\n",
            "And much of what I stumbled into by following my curiosity and intuition turned out to be priceless later on. \n",
            "\n",
            "Let me give you one example: \n",
            "\n",
            "Reed College at that time offered perhaps the best calligraphy instruction in the country. \n",
            "\n",
            "Throughout the campus every poster, every label on every drawer, was beautifully hand calligraphed. \n",
            "\n",
            "Because I had dropped out and didn't have to take the normal classes, I decided to take a calligraphy class to learn how to do this. \n",
            "\n",
            "I learned about serif and san serif typefaces, about varying the amount of space between different letter combinations, about what makes great typography great. \n",
            "\n",
            "It was beautiful, historical, artistically subtle in a way that science can't capture, and I found it fascinating. \n",
            "\n",
            "None of this had even a hope of any practical application in my life. \n",
            "\n",
            "But ten years later, when we were designing the first Macintosh computer, it all came back to me. \n",
            "\n",
            "And we designed it all into the Mac. It was the first computer with beautiful typography. \n",
            "\n",
            "If I had never dropped in on that single course in college, the Mac would have never had multiple typefaces or proportionally spaced fonts. \n",
            "\n",
            "And since Windows just copied the Mac, its likely that no personal computer would have them. \n",
            "\n",
            "If I had never dropped out, I would have never dropped in on this calligraphy class, and personal computers might not have the wonderful typography that they do. \n",
            "\n",
            "Of course it was impossible to connect the dots looking forward when I was in college. \n",
            "\n",
            "But it was very, very clear looking backwards ten years later. \n",
            "\n",
            "Again, you can't connect the dots looking forward; you can only connect them looking backwards. \n",
            "\n",
            "So you have to trust that the dots will somehow connect in your future. \n",
            "\n",
            "You have to trust in something - your gut, destiny, life, karma, whatever. \n",
            "\n",
            "This approach has never let me down, and it has made all the difference in my life. \n",
            "\n",
            "My second story is about love and loss. \n",
            "\n",
            "I was lucky ? \n",
            "\n",
            "I found what I loved to do early in life. \n",
            "\n",
            "Woz and I started Apple in my parents garage when I was 20. \n",
            "\n",
            "We worked hard, and in 10 years Apple had grown from just the two of us in a garage into a $2 billion company with over 4000 employees. \n",
            "\n",
            "We had just released our finest creation - the Macintosh - a year earlier, and I had just turned 30. \n",
            "\n",
            "And then I got fired. How can you get fired from a company you started? \n",
            "\n",
            "Well, as Apple grew we hired someone who I thought was very talented to run the company with me, and for the first year or so things went well. \n",
            "\n",
            "But then our visions of the future began to diverge and eventually we had a falling out. \n",
            "\n",
            "When we did, our Board of Directors sided with him. \n",
            "\n",
            "So at 30 I was out. And very publicly out. \n",
            "\n",
            "What had been the focus of my entire adult life was gone, and it was devastating. \n",
            "\n",
            "I really didn't know what to do for a few months. \n",
            "\n",
            "I felt that I had let the previous generation of entrepreneurs down - that I had dropped the baton as it was being passed to me. \n",
            "\n",
            "I met with David Packard and Bob Noyce and tried to apologize for screwing up so badly. \n",
            "\n",
            "I was a very public failure, and I even thought about running away from the valley. \n",
            "\n",
            "But something slowly began to dawn on me ? \n",
            "\n",
            "I still loved what I did. \n",
            "\n",
            "The turn of events at Apple had not changed that one bit. \n",
            "\n",
            "I had been rejected, but I was still in love. \n",
            "\n",
            "And so I decided to start over. \n",
            "\n",
            "I didn't see it then, but it turned out that getting fired from Apple was the best thing that could have ever happened to me. \n",
            "\n",
            "The heaviness of being successful was replaced by the lightness of being a beginner again, less sure about everything. \n",
            "\n",
            "It freed me to enter one of the most creative periods of my life.  \n",
            "\n",
            "During the next five years, I started a company named NeXT, another company named Pixar, and fell in love with an amazing woman who would become my wife. \n",
            "\n",
            "Pixar went on to create the worlds first computer animated feature film, Toy Story, and is now the most successful animation studio in the world. \n",
            "\n",
            "In a remarkable turn of events, Apple bought NeXT, I retuned to Apple, and the technology we developed at NeXT is at the heart of Apple's current renaissance. \n",
            "\n",
            "And Laurene and I have a wonderful family together.  \n",
            "\n",
            "I'm pretty sure none of this would have happened if I hadn't been fired from Apple. \n",
            "\n",
            "It was awful tasting medicine, but I guess the patient needed it. \n",
            "\n",
            "Sometimes life hits you in the head with a brick. Don't lose faith. \n",
            "\n",
            "I'm convinced that the only thing that kept me going was that I loved what I did. \n",
            "\n",
            "You've got to find what you love. And that is as true for your work as it is for your lovers. \n",
            "\n",
            "Your work is going to fill a large part of your life, and the only way to be truly satisfied is to do what you believe is great work. \n",
            "\n",
            "And the only way to do great work is to love what you do. \n",
            "\n",
            "If you haven't found it yet, keep looking. \n",
            "\n",
            "Don't settle. \n",
            "\n",
            "As with all matters of the heart, you'll know when you find it. \n",
            "\n",
            "And, like any great relationship, it just gets better and better as the years roll on. \n",
            "\n",
            "So keep looking until you find it. Don't settle.   \n",
            "\n",
            "My third story is about death. \n",
            "\n",
            "When I was 17, I read a quote that went something like: \n",
            "\n",
            "\"If you live each day as if it was your last, someday you'll most certainly be right.\" \n",
            "\n",
            "It made an impression on me, and since then, for the past 33 years, I have looked in the mirror every morning and asked myself: \n",
            "\n",
            "\"If today were the last day of my life, would I want to do what I am about to do today?\" \n",
            "\n",
            "And whenever the answer has been \"No\" for too many days in a row, I know I need to change something. \n",
            "\n",
            "Remembering that I'll be dead soon is the most important tool I've ever encountered to help me make the big choices in life. \n",
            "\n",
            "Because almost everything ? \n",
            "\n",
            "all external expectations, all pride, all fear of embarrassment or failure - these things just fall away in the face of death, leaving only what is truly important. \n",
            "\n",
            "Remembering that you are going to die is the best way I know to avoid the trap of thinking you have something to lose. \n",
            "\n",
            "You are already naked. \n",
            "\n",
            "There is no reason not to follow your heart. \n",
            "\n",
            "About a year ago I was diagnosed with cancer. \n",
            "\n",
            "I had a scan at 7:30 in the morning, and it clearly showed a tumor on my pancreas. \n",
            "\n",
            "I didn't even know what a pancreas was. \n",
            "\n",
            "The doctors told me this was almost certainly a type of cancer that is incurable, and that I should expect to live no longer than three to six months. \n",
            "\n",
            "My doctor advised me to go home and get my affairs in order, which is doctor's code for prepare to die. \n",
            "\n",
            "It means to try to tell your kids everything you thought you'd have the next 10 years to tell them in just a few months. It means to make sure everything is buttoned up so that it will be as easy as possible for your family. \n",
            "\n",
            "It means to say your goodbyes. \n",
            "\n",
            "I lived with that diagnosis all day. \n",
            "\n",
            "Later that evening I had a biopsy, where they stuck an endoscope down my throat, through my stomach and into my intestines, put a needle into my pancreas and got a few cells from the tumor. \n",
            "\n",
            "I was sedated, but my wife, who was there, told me that when they viewed the cells under a microscope the doctors started crying because it turned out to be a very rare form of pancreatic cancer that is curable with surgery. \n",
            "\n",
            "I had the surgery and I'm fine now. \n",
            "\n",
            "This was the closest I've been to facing death, and I hope its the closest I get for a few more decades. \n",
            "\n",
            "Having lived through it, I can now say this to you with a bit more certainty than when death was a useful but purely intellectual concept: \n",
            "\n",
            "No one wants to die. Even people who want to go to heaven don't want to die to get there. \n",
            "\n",
            "And yet death is the destination we all share. \n",
            "\n",
            "No one has ever escaped it. \n",
            "\n",
            "And that is as it should be, because Death is very likely the single best invention of Life. \n",
            "\n",
            "It is Life's change agent. \n",
            "\n",
            "It clears out the old to make way for the new. \n",
            "\n",
            "Right now the new is you, but someday not too long from now, you will gradually become the old and be cleared away. \n",
            "\n",
            "Sorry to be so dramatic, but it is quite true.  \n",
            "\n",
            "Your time is limited, so don't waste it living someone else's life. \n",
            "\n",
            "Don't be trapped by dogma - which is living with the results of other people's thinking. \n",
            "\n",
            "Don't let the noise of other's opinions drown out your own inner voice. \n",
            "\n",
            "And most important, have the courage to follow your heart and intuition. \n",
            "\n",
            "They somehow already know what you truly want to become. Everything else is secondary. \n",
            "\n",
            "When I was young, there was an amazing publication called The Whole Earth Catalog, which was one of the bibles of my generation. \n",
            "\n",
            "It was created by a fellow named Stewart Brand not far from here in Menlo Park, and he brought it to life with his poetic touch. \n",
            "\n",
            "This was in the late 1960's, before personal computers and desktop publishing, so it was all made with typewriters, scissors, and polaroid cameras. \n",
            "\n",
            "It was sort of like Google in paperback form, 35 years before Google came along: it was idealistic, and overflowing with neat tools and great notions. \n",
            "\n",
            "Stewart and his team put out several issues of The Whole Earth Catalog, and then when it had run its course, they put out a final issue. It was the mid-1970s, and I was your age. \n",
            "\n",
            "On the back cover of their final issue was a photograph of an early morning country road, the kind you might find yourself hitchhiking on if you were so adventurous. \n",
            "\n",
            "Beneath it were the words: \n",
            "\n",
            "\"Stay Hungry. Stay Foolish.\" \n",
            "\n",
            "It was their farewell message as they signed off. \n",
            "\n",
            "Stay Hungry. Stay Foolish. \n",
            "\n",
            "And I have always wished that for myself. \n",
            "\n",
            "And now, as you graduate to begin anew, I wish that for you. \n",
            "\n",
            "Stay Hungry. Stay Foolish. \n",
            "\n",
            "Thank you all very much. \n"
          ],
          "name": "stdout"
        }
      ]
    },
    {
      "cell_type": "markdown",
      "metadata": {
        "id": "ccZwMRxTHguK"
      },
      "source": [
        ""
      ]
    },
    {
      "cell_type": "markdown",
      "metadata": {
        "id": "7lBIP0_sHgql"
      },
      "source": [
        ""
      ]
    },
    {
      "cell_type": "markdown",
      "metadata": {
        "id": "xhj8rJhaHgma"
      },
      "source": [
        "설명: 맨 위에 data = f.readline() 코드는 처음에 딱 한번만 실행되고 그 다음에는 실행되지 않습니다.  \r\n",
        "그 다음부터는 while 문 안에 있는 data = f.readline() 가 작동되어서 반복적으로 스티븐 잡스의 연설문을 한줄씩 읽어서 data 변수에 넣습니다."
      ]
    },
    {
      "cell_type": "markdown",
      "metadata": {
        "id": "UGCYYVRVHncF"
      },
      "source": [
        ""
      ]
    },
    {
      "cell_type": "markdown",
      "metadata": {
        "id": "i54xFdURHnTL"
      },
      "source": [
        ""
      ]
    },
    {
      "cell_type": "markdown",
      "metadata": {
        "id": "nQJINQ_jHnKU"
      },
      "source": [
        "문제402. 중앙일보 기사를 한줄씩 읽은 데이터에서 인공지능이라는 단어가 나오면 count 하게 하시오!"
      ]
    },
    {
      "cell_type": "code",
      "metadata": {
        "colab": {
          "base_uri": "https://localhost:8080/"
        },
        "id": "J6ADTr9HHkaL",
        "outputId": "abaf4aba-3f61-43e3-b5f2-3fd3349680b0"
      },
      "source": [
        "f = open(\"/content/drive/MyDrive/data/mydata3.txt\", encoding = 'UTF8')\r\n",
        "data = f.readline()\r\n",
        "while data:      \r\n",
        "    print(data.count('인공지능'))\r\n",
        "    data = f.readline()  \r\n",
        "f.close()"
      ],
      "execution_count": 42,
      "outputs": [
        {
          "output_type": "stream",
          "text": [
            "2\n",
            "0\n",
            "2\n",
            "0\n",
            "0\n",
            "0\n",
            "0\n",
            "0\n",
            "0\n",
            "0\n",
            "0\n",
            "0\n",
            "0\n",
            "0\n",
            "0\n",
            "0\n",
            "1\n",
            "0\n",
            "0\n",
            "0\n",
            "3\n",
            "0\n",
            "2\n",
            "0\n",
            "0\n",
            "0\n",
            "0\n",
            "0\n",
            "0\n",
            "0\n",
            "0\n",
            "0\n",
            "0\n",
            "0\n",
            "0\n",
            "0\n",
            "0\n",
            "0\n",
            "0\n",
            "0\n",
            "0\n",
            "0\n",
            "0\n",
            "0\n",
            "0\n",
            "0\n",
            "1\n",
            "0\n",
            "0\n",
            "0\n",
            "2\n",
            "0\n",
            "0\n",
            "0\n",
            "0\n",
            "0\n",
            "2\n",
            "0\n",
            "1\n",
            "0\n",
            "0\n",
            "0\n",
            "0\n",
            "0\n",
            "2\n",
            "0\n",
            "0\n",
            "0\n",
            "1\n",
            "0\n",
            "0\n",
            "0\n",
            "0\n",
            "0\n",
            "0\n",
            "0\n",
            "0\n",
            "0\n",
            "0\n",
            "0\n",
            "0\n",
            "0\n",
            "0\n",
            "0\n",
            "0\n",
            "0\n",
            "0\n",
            "0\n",
            "0\n",
            "0\n",
            "0\n",
            "0\n",
            "0\n",
            "0\n",
            "0\n",
            "0\n",
            "0\n",
            "0\n",
            "0\n",
            "0\n",
            "0\n",
            "0\n",
            "1\n",
            "0\n",
            "1\n",
            "0\n",
            "0\n",
            "0\n",
            "0\n",
            "0\n",
            "0\n",
            "0\n",
            "0\n",
            "0\n",
            "0\n",
            "0\n",
            "1\n",
            "0\n",
            "1\n",
            "0\n",
            "0\n",
            "0\n",
            "0\n",
            "0\n",
            "0\n",
            "0\n",
            "0\n",
            "0\n",
            "1\n",
            "0\n",
            "0\n",
            "0\n",
            "0\n",
            "0\n",
            "0\n",
            "0\n",
            "0\n",
            "0\n",
            "0\n",
            "0\n",
            "0\n",
            "0\n",
            "0\n",
            "0\n",
            "0\n",
            "0\n",
            "0\n",
            "0\n",
            "0\n",
            "0\n",
            "0\n"
          ],
          "name": "stdout"
        }
      ]
    },
    {
      "cell_type": "markdown",
      "metadata": {
        "id": "oV3EBgtEH7YV"
      },
      "source": [
        ""
      ]
    },
    {
      "cell_type": "markdown",
      "metadata": {
        "id": "9bLzfGrUH7Rv"
      },
      "source": [
        ""
      ]
    },
    {
      "cell_type": "markdown",
      "metadata": {
        "id": "ZDuZOTG7H7Md"
      },
      "source": [
        "문제403. 위에서 count 한 건수를 다 누적시켜서 출력하시오 !\r\n"
      ]
    },
    {
      "cell_type": "code",
      "metadata": {
        "colab": {
          "base_uri": "https://localhost:8080/"
        },
        "id": "RNvNG0xpH8Wr",
        "outputId": "017c254d-6614-4cc5-cba2-c8de01f3ae52"
      },
      "source": [
        "f = open(\"/content/drive/MyDrive/data/mydata3.txt\", encoding = \"UTF8\")\r\n",
        "data = f.readline()\r\n",
        "cnt = 0\r\n",
        "while data:\r\n",
        "    cnt += data.count('인공지능')\r\n",
        "    data = f.readline()\r\n",
        "print(cnt) \r\n",
        "f.close() "
      ],
      "execution_count": 41,
      "outputs": [
        {
          "output_type": "stream",
          "text": [
            "24\n"
          ],
          "name": "stdout"
        }
      ]
    },
    {
      "cell_type": "markdown",
      "metadata": {
        "id": "3SuggjdQLcRM"
      },
      "source": [
        ""
      ]
    },
    {
      "cell_type": "markdown",
      "metadata": {
        "id": "esVz7uMOLcN7"
      },
      "source": [
        ""
      ]
    },
    {
      "cell_type": "markdown",
      "metadata": {
        "id": "Ca2MTW-2LcKf"
      },
      "source": [
        "문제404. 위의 코드를 수정해서 단어를 물어보게하고 단어를 입력하면 해당 단어가 몇건 나오는지 출력되게하시오  !\r\n",
        "\t\r\n",
        "    단어를 입력하세요 ~ 인공지능\r\n",
        "    이 기사에서 인공지능 단어는 24번 나왔습니다.\r\n"
      ]
    },
    {
      "cell_type": "code",
      "metadata": {
        "colab": {
          "base_uri": "https://localhost:8080/"
        },
        "id": "2IOcjgKILo1f",
        "outputId": "44434aa1-2a84-4bb1-f96c-df2fe026cb3c"
      },
      "source": [
        "word = input( '단어를 입력하세요 ~' )\r\n",
        "f = open(\"/content/drive/MyDrive/data/mydata3.txt\", encoding = \"UTF8\")\r\n",
        "data = f.readline()\r\n",
        "cnt = 0\r\n",
        "while data:\r\n",
        "    cnt += data.count(word)\r\n",
        "    data = f.readline()\r\n",
        "print('이 기사에서 ', a, '단어는', cnt, '번 나왔습니다.')\r\n",
        "f.close() "
      ],
      "execution_count": 44,
      "outputs": [
        {
          "output_type": "stream",
          "text": [
            "단어를 입력하세요 ~인공지능\n",
            "이 기사에서  인공지능 단어는 24 번 나왔습니다.\n"
          ],
          "name": "stdout"
        }
      ]
    },
    {
      "cell_type": "markdown",
      "metadata": {
        "id": "xywEgH4bMopF"
      },
      "source": [
        ""
      ]
    },
    {
      "cell_type": "markdown",
      "metadata": {
        "id": "kHZmBvLVMoj1"
      },
      "source": [
        ""
      ]
    },
    {
      "cell_type": "markdown",
      "metadata": {
        "id": "12varOISMofS"
      },
      "source": [
        "**■ 135. 화면에서 사용자 입력을 받고 파일로 쓰기(write)**\r\n",
        "\r\n",
        "사용자로부터 입력받은 텍스트를 파일로 저장하려면 파일을 텍스트 쓰기 모드로 오픈하고 파일 객체의 write() 를 이용해 데이터를 파일에 기록합니다.\r\n",
        "\r\n",
        "예제:"
      ]
    },
    {
      "cell_type": "code",
      "metadata": {
        "colab": {
          "base_uri": "https://localhost:8080/"
        },
        "id": "NXEcElsXMrbd",
        "outputId": "a246b0d5-b1fa-46a1-a658-75c84c32fb89"
      },
      "source": [
        "text = input('파일에 저장할 내용을 입력하세요 ~')\r\n",
        "f = open(\"/content/drive/MyDrive/data/mydata.txt\", 'w')\r\n",
        "f.write( text )\r\n",
        "f.close()"
      ],
      "execution_count": 45,
      "outputs": [
        {
          "output_type": "stream",
          "text": [
            "파일에 저장할 내용을 입력하세요 ~안녕하세요\n"
          ],
          "name": "stdout"
        }
      ]
    },
    {
      "cell_type": "markdown",
      "metadata": {
        "id": "nMT0D4J8NDGa"
      },
      "source": [
        "설명: 위의 w 는 write 의 약자입니다. c 드라이브 밑에 data 밑에 mydata.txt 파일로 쓰겠다는 뜻입니다.  \r\n",
        "위의 코드는 웹에서 스크롤링한 데이터를 파일로 저장할 때 응용되게합니다."
      ]
    },
    {
      "cell_type": "markdown",
      "metadata": {
        "id": "1TFKXJpHOCdp"
      },
      "source": [
        ""
      ]
    },
    {
      "cell_type": "code",
      "metadata": {
        "colab": {
          "base_uri": "https://localhost:8080/"
        },
        "id": "Xw9duqNjM0vD",
        "outputId": "fe965634-fe28-4620-f21e-f75215cdde81"
      },
      "source": [
        "# mydata.txt 데이터 확인\r\n",
        "f = open(\"/content/drive/MyDrive/data/mydata.txt\", encoding = \"UTF8\")\r\n",
        "data = f.read() \r\n",
        "print(data)\r\n",
        "f.close()"
      ],
      "execution_count": 47,
      "outputs": [
        {
          "output_type": "stream",
          "text": [
            "안녕하세요\n"
          ],
          "name": "stdout"
        }
      ]
    },
    {
      "cell_type": "markdown",
      "metadata": {
        "id": "RSXLkQNHNHW4"
      },
      "source": [
        ""
      ]
    },
    {
      "cell_type": "markdown",
      "metadata": {
        "id": "6eUbXU_rNN9-"
      },
      "source": [
        ""
      ]
    },
    {
      "cell_type": "markdown",
      "metadata": {
        "id": "fSjXrTgRNN5s"
      },
      "source": [
        "문제405. 아래의 파란공과 빨간색 공이 들어있는 박스에서 5개의 공을 뽑았을때 그 중 2개가 파란색 공일 확률을 출력하는 함수를 만들고 공을 뽑는 횟수를 10, 100, 1000, 10000, 100000 했을때의 확률을 map 함수를 이용해서 출력하시오 !\r\n",
        "\r\n",
        "    a = [ 10, 100, 1000, 10000, 100000 ]\r\n",
        "\r\n",
        "    파란색공 24개 + 빨간색공 26개 ---> 총 50개의 공을 박스에 넣으세요\r\n"
      ]
    },
    {
      "cell_type": "code",
      "metadata": {
        "colab": {
          "base_uri": "https://localhost:8080/"
        },
        "id": "_DdfujCFNSu2",
        "outputId": "86feb8e3-b2d8-4e9e-874a-8bb1f88f1959"
      },
      "source": [
        "def box_cnt(num):\r\n",
        "    import numpy as np\r\n",
        "    cnt = 0\r\n",
        "    box = ['파랑'] * 24 + ['빨강'] * 26\r\n",
        "    for i in range(1, num+1):\r\n",
        "        result = list( np.random.choice(box, 5, replace = True) )\r\n",
        "        if result.count('파랑') == 2:\r\n",
        "            cnt = cnt + 1\r\n",
        "    return cnt / num\r\n",
        "\r\n",
        "a = [ 10, 100, 1000, 10000, 100000 ]\r\n",
        "result = list(map( box_cnt, a ))\r\n",
        "print(result)"
      ],
      "execution_count": 48,
      "outputs": [
        {
          "output_type": "stream",
          "text": [
            "[0.5, 0.31, 0.311, 0.3205, 0.32311]\n"
          ],
          "name": "stdout"
        }
      ]
    },
    {
      "cell_type": "markdown",
      "metadata": {
        "id": "bAerzEIBNlsX"
      },
      "source": [
        ""
      ]
    },
    {
      "cell_type": "markdown",
      "metadata": {
        "id": "CY7bP0VQNlor"
      },
      "source": [
        ""
      ]
    },
    {
      "cell_type": "markdown",
      "metadata": {
        "id": "EDjj3XKqNlj4"
      },
      "source": [
        "**■ 136. 텍스트 파일에 한줄씩 쓰기(writelines)**\r\n",
        "\r\n",
        "파일 객체의 writelines() 는 문자열이나 텍스트 문자열이 요소로 되어있는 리스트를 인자로 받아 한 줄씩 기록합니다.  \r\n",
        "리스트가 인자인 경우 writelines() 는 리스트의 요소를 하나의 문자열로 결합하여 파일을 한꺼번에 기록합니다.\r\n",
        "\r\n",
        "※ writelines 는 리스트 자료형도 파일에 저장할 수 있습니다.\r\n",
        "\r\n",
        "\r\n",
        "예제:"
      ]
    },
    {
      "cell_type": "code",
      "metadata": {
        "colab": {
          "base_uri": "https://localhost:8080/"
        },
        "id": "grjYctmkNvLq",
        "outputId": "b1e003e0-c39b-42ae-95da-e94e4ff2e4e0"
      },
      "source": [
        "listdata = [ 2, 2, 1, 3, 8, 5, 7 ]\r\n",
        "result = sorted( listdata )       # 리스트의 요소를 정렬한다.\r\n",
        "print(result)\r\n",
        "f = open(\"/content/drive/MyDrive/data/mydata2.txt\", \"w\")  # mydata2.txt 를 생성하겠다.\r\n",
        "f.write( str(result) )\r\n",
        "f.close()"
      ],
      "execution_count": 52,
      "outputs": [
        {
          "output_type": "stream",
          "text": [
            "[1, 2, 2, 3, 5, 7, 8]\n"
          ],
          "name": "stdout"
        }
      ]
    },
    {
      "cell_type": "markdown",
      "metadata": {
        "id": "egHd2BrgOBax"
      },
      "source": [
        ""
      ]
    },
    {
      "cell_type": "code",
      "metadata": {
        "colab": {
          "base_uri": "https://localhost:8080/"
        },
        "id": "NQZegjzcNqJR",
        "outputId": "65a9fdc6-e383-48f6-882a-0a3f5686665b"
      },
      "source": [
        "# mydata2.txt 데이터 확인\r\n",
        "f = open(\"/content/drive/MyDrive/data/mydata2.txt\", encoding = \"UTF8\")\r\n",
        "data = f.read() \r\n",
        "print(data)\r\n",
        "f.close()"
      ],
      "execution_count": 53,
      "outputs": [
        {
          "output_type": "stream",
          "text": [
            "[1, 2, 2, 3, 5, 7, 8]\n"
          ],
          "name": "stdout"
        }
      ]
    },
    {
      "cell_type": "markdown",
      "metadata": {
        "id": "lonNZ_0POFgt"
      },
      "source": [
        ""
      ]
    },
    {
      "cell_type": "markdown",
      "metadata": {
        "id": "nfC1zGDLOFdV"
      },
      "source": [
        ""
      ]
    },
    {
      "cell_type": "markdown",
      "metadata": {
        "id": "wNCXq2StOFZ6"
      },
      "source": [
        "문제406. 아래의 리스트를 mydata9.txt 로 저장하시오 !"
      ]
    },
    {
      "cell_type": "code",
      "metadata": {
        "colab": {
          "base_uri": "https://localhost:8080/"
        },
        "id": "NVwtC7CmOGZZ",
        "outputId": "e7201e40-8208-4f73-d7f1-a060ade4d875"
      },
      "source": [
        "listdata2 = ['a', 'b', 'c', 'd', 'e', 'f', 'g']\r\n",
        "result = sorted(listdata2)\r\n",
        "print(result)\r\n",
        "f = open(\"/content/drive/MyDrive/data/mydata9.txt\", \"w\")\r\n",
        "f.write( str(result) )\r\n",
        "f.close()"
      ],
      "execution_count": 54,
      "outputs": [
        {
          "output_type": "stream",
          "text": [
            "['a', 'b', 'c', 'd', 'e', 'f', 'g']\n"
          ],
          "name": "stdout"
        }
      ]
    },
    {
      "cell_type": "markdown",
      "metadata": {
        "id": "m5foRwUCOVQP"
      },
      "source": [
        ""
      ]
    },
    {
      "cell_type": "code",
      "metadata": {
        "colab": {
          "base_uri": "https://localhost:8080/"
        },
        "id": "utGd0tPZOWyw",
        "outputId": "8ef36fcb-88d3-48b0-efee-d4c4d71e1f9c"
      },
      "source": [
        "# mydata9.txt 데이터 확인\r\n",
        "f = open(\"/content/drive/MyDrive/data/mydata9.txt\", encoding = \"UTF8\")\r\n",
        "data = f.read() \r\n",
        "print(data)\r\n",
        "f.close()"
      ],
      "execution_count": 55,
      "outputs": [
        {
          "output_type": "stream",
          "text": [
            "['a', 'b', 'c', 'd', 'e', 'f', 'g']\n"
          ],
          "name": "stdout"
        }
      ]
    },
    {
      "cell_type": "markdown",
      "metadata": {
        "id": "ZNqWcfq5OcGz"
      },
      "source": [
        ""
      ]
    },
    {
      "cell_type": "markdown",
      "metadata": {
        "id": "llkSPYZHOcCq"
      },
      "source": [
        ""
      ]
    },
    {
      "cell_type": "markdown",
      "metadata": {
        "id": "hIDEADM3Ob-o"
      },
      "source": [
        "writelines예제:\r\n"
      ]
    },
    {
      "cell_type": "code",
      "metadata": {
        "colab": {
          "base_uri": "https://localhost:8080/"
        },
        "id": "Ge1O997-Oflg",
        "outputId": "25cb4315-97bb-4b1e-a3c8-d426e2519af7"
      },
      "source": [
        "data = []             # data 라는 비어있는 리스트 생성 \r\n",
        "while True:           # 무한 루프를 수행합니다. \r\n",
        "    text = input( '저장할 내용을 입력하세요' )\r\n",
        "    if text =='':                 # text 에 아무것도 입력하지 않으면 \r\n",
        "        break                     # break 문을 실행해서 무한루프를 종료합니다. \r\n",
        "    data.append( text + '\\n' )    # text 가 엔터와 함께 data 리스트에 append 됩니다.\r\n",
        "\r\n",
        "f = open(\"/content/drive/MyDrive/data/mydata99.txt\", \"w\")     # mydata99.txt 를 생성하겠다.\r\n",
        "f.writelines(data)                   # data 리스트의 내용을 mydata99.txt 에 저장하겠다.\r\n",
        "f.close()"
      ],
      "execution_count": 58,
      "outputs": [
        {
          "output_type": "stream",
          "text": [
            "저장할 내용을 입력하세요안녕?\n",
            "저장할 내용을 입력하세요만나서 반가워\n",
            "저장할 내용을 입력하세요\n"
          ],
          "name": "stdout"
        }
      ]
    },
    {
      "cell_type": "markdown",
      "metadata": {
        "id": "6cREo65gPiUK"
      },
      "source": [
        "설명: open 의 옵션중 w 는 그냥 쓰기 이고, a 는 추가 입니다. "
      ]
    },
    {
      "cell_type": "markdown",
      "metadata": {
        "id": "Fbx7VrNAOfQa"
      },
      "source": [
        ""
      ]
    },
    {
      "cell_type": "code",
      "metadata": {
        "colab": {
          "base_uri": "https://localhost:8080/"
        },
        "id": "uG1PtoCKPQyc",
        "outputId": "c652a29d-7eef-42c6-c676-2539dcf4a977"
      },
      "source": [
        "# mydata99.txt 데이터 확인\r\n",
        "f = open(\"/content/drive/MyDrive/data/mydata99.txt\", encoding = \"UTF8\")\r\n",
        "data = f.read() \r\n",
        "print(data)\r\n",
        "f.close()"
      ],
      "execution_count": 59,
      "outputs": [
        {
          "output_type": "stream",
          "text": [
            "안녕?\n",
            "만나서 반가워\n",
            "\n"
          ],
          "name": "stdout"
        }
      ]
    },
    {
      "cell_type": "markdown",
      "metadata": {
        "id": "85lDo5-wPpPZ"
      },
      "source": [
        ""
      ]
    },
    {
      "cell_type": "markdown",
      "metadata": {
        "id": "ZKxQrMtKPpLW"
      },
      "source": [
        ""
      ]
    },
    {
      "cell_type": "markdown",
      "metadata": {
        "id": "CGW8cp8fPpHN"
      },
      "source": [
        "**■ 137. 텍스트 파일 복사하기(read, write)**\r\n",
        "\r\n",
        "텍스트 파일을 복사하는 방법을 파이썬으로 구현하려면 read 와 write 를 이용하면 됩니다.  \r\n",
        "read() 로 텍스트 파일을 읽고 write 로 읽을 내용을 다른 파일이름으로 저장하면 됩니다.\r\n",
        "\r\n",
        "예제:"
      ]
    },
    {
      "cell_type": "code",
      "metadata": {
        "id": "XckpugkbPr5i"
      },
      "source": [
        "f = open(\"/content/drive/MyDrive/data/mydata.txt\", \"r\")        # r 은 read 입니다.\r\n",
        "h = open(\"/content/drive/MyDrive/data/mydata_copy.txt\", \"w\")   # w 는 wirte 입니다.\r\n",
        "data = f.read()\r\n",
        "h.write( data )\r\n",
        "f.close()\r\n",
        "h.close()"
      ],
      "execution_count": 60,
      "outputs": []
    },
    {
      "cell_type": "markdown",
      "metadata": {
        "id": "GrUEwt2ZQGTY"
      },
      "source": [
        ""
      ]
    },
    {
      "cell_type": "markdown",
      "metadata": {
        "id": "AlywRNSQQGJ6"
      },
      "source": [
        ""
      ]
    },
    {
      "cell_type": "markdown",
      "metadata": {
        "id": "WlPewvuvQGCu"
      },
      "source": [
        "**■ 138. 바이너리 파일 복사하기(read, write)**\r\n",
        "\r\n",
        "이미지나 동영상도 파이썬으로 복사 붙여넣기 할 수 있습니다. 이미지나 동영상을 복사 붙여넣기 할 때는 파일의 크기가 크므로 한번에 읽어들일 수는 없고 일부분만 일정한 크기로 읽으면서 복사 붙여넣기를 합니다.\r\n",
        "\r\n",
        "예제:"
      ]
    },
    {
      "cell_type": "code",
      "metadata": {
        "id": "hRYXMVnIQJYs"
      },
      "source": [
        "bufsize = 1024                   # 1kb 크기의 버퍼 사이즈를 지정합니다.\r\n",
        "f = open(\"/content/drive/MyDrive/data/lena.png\", \"rb\")          # rb 는 read binary 의 약자입니다.\r\n",
        "h = open(\"/content/drive/MyDrive/data/lena_copy.png\", \"wb\")     # wb 는 write binary 의 약자입니다.\r\n",
        "data = f.read(bufsize)           # 이미지를 1kb 를 읽어서 data 에 저장합니다.\r\n",
        "while data:                      # data 에 data 가 발견되는 동안에 루프문을 수행합니다.\r\n",
        "    h.write(data)                # lena_copy.png 에 1kb 의 데이터씩 write 합니다.\r\n",
        "    data = f.read(bufsize)       #  lena.png 에서 1kb 의 데이터를 read 합니다.\r\n",
        "f.close()\r\n",
        "h.close()"
      ],
      "execution_count": 61,
      "outputs": []
    },
    {
      "cell_type": "markdown",
      "metadata": {
        "id": "2rAcLm3pQapf"
      },
      "source": [
        "설명: lena.png 의 총 크기가 334kb 이므로 1kb 씩 읽어들여서 쓰는 작업을 총 334 번 수행합니다."
      ]
    },
    {
      "cell_type": "markdown",
      "metadata": {
        "id": "_jbNefQlQerJ"
      },
      "source": [
        ""
      ]
    },
    {
      "cell_type": "markdown",
      "metadata": {
        "id": "CwhIcoQKQsOS"
      },
      "source": [
        ""
      ]
    },
    {
      "cell_type": "markdown",
      "metadata": {
        "id": "fkA03hTGQr_u"
      },
      "source": [
        "**■ 139. 파일을 열고 자동으로 닫기 (with ~ as )**\r\n",
        "\r\n",
        "with ~ as 절을 사용하게 되면 f.close() 를 명시하지 않아도 되므로 프로그래머가 실수로 f.clos() 를 작성하지 않아서 발생하는 메모리 부족오류를 예방할 수 있습니다."
      ]
    },
    {
      "cell_type": "markdown",
      "metadata": {
        "id": "zHaM1Pm5Q0Zy"
      },
      "source": [
        ""
      ]
    },
    {
      "cell_type": "markdown",
      "metadata": {
        "id": "K15GdTRiQ0yv"
      },
      "source": [
        " 1. with ~ as 절을 사용 안했을 때"
      ]
    },
    {
      "cell_type": "code",
      "metadata": {
        "colab": {
          "base_uri": "https://localhost:8080/"
        },
        "id": "u0qASRemQ2SO",
        "outputId": "1184ea71-cc5f-48d4-d65d-d6cdd515248f"
      },
      "source": [
        "f = open(\"/content/drive/MyDrive/data/mydata.txt\", \"r\")\r\n",
        "data = f.readlines()\r\n",
        "print(data)\r\n",
        "f.close()"
      ],
      "execution_count": 63,
      "outputs": [
        {
          "output_type": "stream",
          "text": [
            "['안녕하세요']\n"
          ],
          "name": "stdout"
        }
      ]
    },
    {
      "cell_type": "markdown",
      "metadata": {
        "id": "9a6Q5MfWQ8QB"
      },
      "source": [
        ""
      ]
    },
    {
      "cell_type": "markdown",
      "metadata": {
        "id": "J5WSWCSAQ-hr"
      },
      "source": [
        ""
      ]
    },
    {
      "cell_type": "markdown",
      "metadata": {
        "id": "2hjv2VIeQ8Ho"
      },
      "source": [
        " 2. with ~ as 절을 사용했을 때"
      ]
    },
    {
      "cell_type": "code",
      "metadata": {
        "colab": {
          "base_uri": "https://localhost:8080/"
        },
        "id": "BCXJI4MkQ_nr",
        "outputId": "7e4cfa39-9696-439c-f53f-15616a02f871"
      },
      "source": [
        "with open(\"/content/drive/MyDrive/data/mydata.txt\", \"r\") as f:\r\n",
        "    data = f.readlines()\r\n",
        "    print( data )"
      ],
      "execution_count": 65,
      "outputs": [
        {
          "output_type": "stream",
          "text": [
            "['안녕하세요']\n"
          ],
          "name": "stdout"
        }
      ]
    },
    {
      "cell_type": "markdown",
      "metadata": {
        "id": "nFs9xmWORItv"
      },
      "source": [
        "설명: with ~ as 절을 사용하면 자동으로 파일 close 를 해줍니다."
      ]
    },
    {
      "cell_type": "markdown",
      "metadata": {
        "id": "KovNveWrRKuI"
      },
      "source": [
        ""
      ]
    },
    {
      "cell_type": "markdown",
      "metadata": {
        "id": "dinudP_9RLHV"
      },
      "source": [
        ""
      ]
    },
    {
      "cell_type": "markdown",
      "metadata": {
        "id": "NPXHbPy-RLfN"
      },
      "source": [
        "**■ 140. HTML 기본문법 **\r\n",
        "\r\n",
        "** 데이터 분석 순서\r\n",
        "\r\n",
        "    데이터 수집 --> 데이터 유형 및 속성 파악 --> 데이터 변환 --> 데이터 저장 --> 데이터 정제 --> 데이터 분석\r\n",
        "\r\n",
        "** 데이터 수집 기술\r\n",
        "\r\n",
        "    웹스크롤링 기술\r\n",
        "\r\n",
        "** html 이란 ?\r\n",
        "\r\n",
        "    Hyper Text Markup Language 의 약자이고 여러개의 태그(tag) 를 연결해서 모아놓은 문서"
      ]
    },
    {
      "cell_type": "markdown",
      "metadata": {
        "id": "TdffQpyNRa8J"
      },
      "source": [
        ""
      ]
    },
    {
      "cell_type": "markdown",
      "metadata": {
        "id": "EwoEGzVWRn4A"
      },
      "source": [
        ""
      ]
    },
    {
      "cell_type": "markdown",
      "metadata": {
        "id": "N_hP2ctERad8"
      },
      "source": [
        "예제1. 아주 간단한 html 문서를 만들어 봅니다.\r\n",
        "\r\n",
        "메모장을 열고 아래와 같이 코딩을 하세요 ~\r\n",
        "\r\n",
        "    <html><head><title> 현아님의 오늘 일정 </title></head>\r\n",
        "    <body>\r\n",
        "    <p class=\"title\"> 현아님은 오늘 점심시간에 우육탕을 먹었습니다. </p>\r\n",
        "    </body>\r\n",
        "    </html>\r\n",
        "\r\n",
        "메모장의 파일이름을 a.html 로 바탕화면에 저장하세요 ~  \r\n",
        "저장할 때 파일형식을 모든파일로 합니다.\r\n"
      ]
    },
    {
      "cell_type": "markdown",
      "metadata": {
        "id": "pt_6FzEfRl7l"
      },
      "source": [
        ""
      ]
    },
    {
      "cell_type": "markdown",
      "metadata": {
        "id": "GowADpMCRmR_"
      },
      "source": [
        ""
      ]
    },
    {
      "cell_type": "markdown",
      "metadata": {
        "id": "oH2qfSO1RnHR"
      },
      "source": [
        "예제2. 위의 글씨를 진하게 하시오 !\r\n",
        "\r\n",
        "    <html><head><title> 현아님의 오늘 일정 </title></head>\r\n",
        "    <body>\r\n",
        "    <p class=\"title\"> <b> 현아님은 오늘 점심시간에 우육탕을 먹었습니다. </b> </p>\r\n",
        "    </body>\r\n",
        "    </html>\r\n",
        "\r\n",
        "설명: 글씨를 진하게 하려면 b 태그를 사용합니다."
      ]
    },
    {
      "cell_type": "markdown",
      "metadata": {
        "id": "_71LXY0ERwHn"
      },
      "source": [
        ""
      ]
    },
    {
      "cell_type": "markdown",
      "metadata": {
        "id": "72DrK3ACRwuw"
      },
      "source": [
        ""
      ]
    },
    {
      "cell_type": "markdown",
      "metadata": {
        "id": "aLo-5EU0RwnL"
      },
      "source": [
        "예제3. 위의 글씨에 밑줄을 그어 보시오 ~\r\n",
        "\r\n",
        "    <html><head><title> 현아님의 오늘 일정 </title></head>\r\n",
        "    <body>\r\n",
        "    <p class=\"title\"> <b> <u> 현아님은 오늘 점심시간에 우육탕을 먹었습니다. </u> </b> </p>\r\n",
        "    </body>\r\n",
        "    </html>\r\n",
        "\r\n",
        "설명: 밑줄을 사용하려면 태그 u 를 사용합니다."
      ]
    },
    {
      "cell_type": "markdown",
      "metadata": {
        "id": "qB3SEUCvR1LY"
      },
      "source": [
        ""
      ]
    },
    {
      "cell_type": "markdown",
      "metadata": {
        "id": "vboj_RBGR1Hu"
      },
      "source": [
        ""
      ]
    },
    {
      "cell_type": "markdown",
      "metadata": {
        "id": "4gzgAE7HR1D5"
      },
      "source": [
        "예제4. 위의 글씨를 이텔릭체로 변경하시오 !\r\n",
        "\r\n",
        "    <html><head><title> 현아님의 오늘 일정 </title></head>\r\n",
        "    <body>\r\n",
        "    <p class=\"title\"> <b> <u> <i> 현아님은 오늘 점심시간에 우육탕을 먹었습니다. </i> </u> </b> </p>\r\n",
        "    </body>\r\n",
        "    </html>\r\n",
        "\r\n",
        "설명: 글씨를 이텔릭체로 변경하려면 태그 i 를 이용합니다."
      ]
    },
    {
      "cell_type": "markdown",
      "metadata": {
        "id": "TEELEr36SG5F"
      },
      "source": [
        ""
      ]
    },
    {
      "cell_type": "markdown",
      "metadata": {
        "id": "R1wIVdTRSHVU"
      },
      "source": [
        ""
      ]
    },
    {
      "cell_type": "markdown",
      "metadata": {
        "id": "uL2icz6zSG_f"
      },
      "source": [
        "예제5. p 태그를 추가해서 제목과 내용을 나누시오 !\r\n",
        "\r\n",
        "    <html><head><title> 현아님의 오늘 일정 </title></head>\r\n",
        "    <body>\r\n",
        "    <p class=\"title\"> <b> <u> <i> 현아님은 오늘 점심시간에 우육탕을 먹었습니다. </i> </u> </b> </p>\r\n",
        "    <p class=\"content\"> 현아님은 오늘 점시에 지하식당에서 반 친구들과 우육탕을 먹었습니다.\r\n",
        "                            코로나에 대한 걱정도 있었지만 용기내서 먹었습니다. </p>\r\n",
        "    </body>\r\n",
        "    </html>\r\n",
        "\r\n",
        "설명: 제목은 class title 에 적고 내용은 class content 에 적습니다.\r\n"
      ]
    },
    {
      "cell_type": "markdown",
      "metadata": {
        "id": "8gfUA5wjSPwc"
      },
      "source": [
        ""
      ]
    },
    {
      "cell_type": "markdown",
      "metadata": {
        "id": "5fT6qhflSQTE"
      },
      "source": [
        ""
      ]
    },
    {
      "cell_type": "markdown",
      "metadata": {
        "id": "57ITssI2SQ6c"
      },
      "source": [
        "예제6. 위에서 만든 html 문서의 본문에 링크를 거시오 !\r\n",
        "\t  (링크는 다음주소로 하세요 ~)\r\n",
        "\r\n",
        "    <html><head><title> 현아님의 오늘 일정 </title></head>\r\n",
        "    <body>\r\n",
        "    <p class=\"title\"> <b> <u> <i> 현아님은 오늘 점심시간에 우육탕을 먹었습니다. </i> </u> </b> </p>\r\n",
        "    <p class=\"content\"> 현아님은 오늘 점시에 지하식당에서 반 친구들과 우육탕을 먹었습니다.\r\n",
        "                            코로나에 대한 걱정도 있었지만 용기내서 먹었습니다. </p>\r\n",
        "    <a href=\"https://www.daum.net/\" class=cafa1\" id=\"link1\"> 다음 <a/>\r\n",
        "    </body>\r\n",
        "    </html>"
      ]
    },
    {
      "cell_type": "markdown",
      "metadata": {
        "id": "nTK6sU0nSf1b"
      },
      "source": [
        ""
      ]
    },
    {
      "cell_type": "markdown",
      "metadata": {
        "id": "YIVgp3QnSgcW"
      },
      "source": [
        ""
      ]
    },
    {
      "cell_type": "markdown",
      "metadata": {
        "id": "tvEuWe8HSgzD"
      },
      "source": [
        "문제407. 다음과 같이 내용과 링크를 수정하시오 ~ (링크는 아무거나)\r\n",
        "\r\n",
        "    현아님은 오늘 점시에 지하식당에서 반 친구들과 우육탕을 먹었습니다.\r\n",
        "    코로나에 대한 걱정도 있었지만 용기내서 먹었습니다.\r\n",
        "    우육탕집 식당 홈페이지는 바로가기를 누르세요. 바로가기\r\n"
      ]
    },
    {
      "cell_type": "markdown",
      "metadata": {
        "id": "WrcsaOzeSmsa"
      },
      "source": [
        ""
      ]
    },
    {
      "cell_type": "markdown",
      "metadata": {
        "id": "XQ5v2jltSnMY"
      },
      "source": [
        "    <html><head><title> 현아님의 오늘 일정 </title></head>\r\n",
        "    <body>\r\n",
        "    <p class=\"title\"> <b> <u> <i> 현아님은 오늘 점심시간에 우육탕을 먹었습니다. </i> </u> </b> </p>\r\n",
        "    <p class=\"content\"> 현아님은 오늘 점시에 지하식당에서 반 친구들과 우육탕을 먹었습니다. \r\n",
        "    코로나에 대한 걱정도 있었지만 용기내서 먹었습니다.\r\n",
        "    우육탕집 식당 홈페이지는 바로가기를 누르세요.  </p>\r\n",
        "    <a href=\"https://www.google.com/search?q=%EC%9A%B0%EC%9C%A1%ED%83%95&oq=%EC%9A%B0%EC%9C%A1%ED%83%95&aqs=chrome..69i57j0i433j0i131i433j0j0i433l2j69i61j69i60.3833j0j4&sourceid=chrome&ie=UTF-8\" class=cafa1\" id=\"link1\"> 바로가기 <a/>\r\n",
        "    </body>\r\n",
        "    </html>"
      ]
    },
    {
      "cell_type": "markdown",
      "metadata": {
        "id": "PDHOf6KQSvlj"
      },
      "source": [
        "설명: 워드 문서를 만들 때도 그 문서 내에 단원도 있고 세부 목차도 있는 것처럼 calss 에 그 html 문서의 특정 단원이라고 보면 되고 id 는 링크를 줄때 부여하는 제목인데 id 는 값이 unique 합니다.\r\n"
      ]
    },
    {
      "cell_type": "markdown",
      "metadata": {
        "id": "gGQLPcUhS_GI"
      },
      "source": [
        ""
      ]
    },
    {
      "cell_type": "markdown",
      "metadata": {
        "id": "-Izu3WFoTEq_"
      },
      "source": [
        ""
      ]
    },
    {
      "cell_type": "markdown",
      "metadata": {
        "id": "D6CbQPD9TEkE"
      },
      "source": [
        "**■ 141. beautiful soup 모듈 배우기**\r\n",
        "\r\n",
        "** beautiful soup 모듈이란 ?\r\n",
        "\r\n",
        "    파이썬 코드를 복잡하게 작성하지 않아도 편하게 웹스크롤링을 할 수 있도록 여러 함수들을 제공하는 웹스크롤링 전문 모듈\r\n"
      ]
    },
    {
      "cell_type": "markdown",
      "metadata": {
        "id": "_MjAEeJsTOoi"
      },
      "source": [
        ""
      ]
    },
    {
      "cell_type": "markdown",
      "metadata": {
        "id": "_NkxYEwpTO6n"
      },
      "source": [
        ""
      ]
    },
    {
      "cell_type": "markdown",
      "metadata": {
        "id": "zUQR1DKHTPkG"
      },
      "source": [
        "예제1. ecologicalpyramid.html 코드를 beautiful soup 모듈에서 사용할 수 있도록 파싱을 하고 파싱된 내용을 출력하시오 !"
      ]
    },
    {
      "cell_type": "code",
      "metadata": {
        "colab": {
          "base_uri": "https://localhost:8080/"
        },
        "id": "onaVMxO2TUBH",
        "outputId": "c665af88-4a2f-4b3f-83e2-4a17e7dd1b84"
      },
      "source": [
        "from bs4 import BeautifulSoup\r\n",
        "\r\n",
        "f = open(\"/content/drive/MyDrive/data/ecologicalpyramid.html\")\r\n",
        "soup = BeautifulSoup( f, \"html.parser\" )\r\n",
        "print(soup)"
      ],
      "execution_count": 67,
      "outputs": [
        {
          "output_type": "stream",
          "text": [
            "<html>\n",
            "<body>\n",
            "<div class=\"ecopyramid\">\n",
            "<ul id=\"producers\">\n",
            "<li class=\"producerlist\">\n",
            "<div class=\"name\">plants</div>\n",
            "<div class=\"number\">100000</div>\n",
            "</li>\n",
            "<li class=\"producerlist\">\n",
            "<div class=\"name\">algae</div>\n",
            "<div class=\"number\">100000</div>\n",
            "</li>\n",
            "</ul>\n",
            "<ul id=\"primaryconsumers\">\n",
            "<li class=\"primaryconsumerlist\">\n",
            "<div class=\"name\">deer</div>\n",
            "<div class=\"number\">1000</div>\n",
            "</li>\n",
            "<li class=\"primaryconsumerlist\">\n",
            "<div class=\"name\">rabbit</div>\n",
            "<div class=\"number\">2000</div>\n",
            "</li>\n",
            "</ul>\n",
            "<ul id=\"secondaryconsumers\">\n",
            "<li class=\"secondaryconsumerlist\">\n",
            "<div class=\"name\">fox</div>\n",
            "<div class=\"number\">100</div>\n",
            "</li>\n",
            "<li class=\"secondaryconsumerlist\">\n",
            "<div class=\"name\">bear</div>\n",
            "<div class=\"number\">100</div>\n",
            "</li>\n",
            "</ul>\n",
            "<ul id=\"tertiaryconsumers\">\n",
            "<li class=\"tertiaryconsumerlist\">\n",
            "<div class=\"name\">lion</div>\n",
            "<div class=\"number\">80</div>\n",
            "</li>\n",
            "<li class=\"tertiaryconsumerlist\">\n",
            "<div class=\"name\">tiger</div>\n",
            "<div class=\"number\">50</div>\n",
            "</li>\n",
            "</ul>\n",
            "</div></body>\n",
            "</html>\n"
          ],
          "name": "stdout"
        }
      ]
    },
    {
      "cell_type": "markdown",
      "metadata": {
        "id": "I78N4-tvTj1V"
      },
      "source": [
        ""
      ]
    },
    {
      "cell_type": "markdown",
      "metadata": {
        "id": "ZtinTvc1Tjj3"
      },
      "source": [
        ""
      ]
    },
    {
      "cell_type": "markdown",
      "metadata": {
        "id": "Ii2i65-NTjgA"
      },
      "source": [
        "예제2. ecologicalpyramid.html 코드에서 class 이름 name 에 접근해서 데이터를 긁어오시오 !"
      ]
    },
    {
      "cell_type": "code",
      "metadata": {
        "colab": {
          "base_uri": "https://localhost:8080/"
        },
        "id": "zj840G0xTmqP",
        "outputId": "c9da7299-409c-4eae-f8dd-c63bf49addac"
      },
      "source": [
        "from bs4 import BeautifulSoup\r\n",
        "\r\n",
        "f = open(\"/content/drive/MyDrive/data/ecologicalpyramid.html\")\r\n",
        "soup = BeautifulSoup( f, \"html.parser\" )\r\n",
        "result =soup.find_all(class_=\"name\")\r\n",
        "print(result)"
      ],
      "execution_count": 68,
      "outputs": [
        {
          "output_type": "stream",
          "text": [
            "[<div class=\"name\">plants</div>, <div class=\"name\">algae</div>, <div class=\"name\">deer</div>, <div class=\"name\">rabbit</div>, <div class=\"name\">fox</div>, <div class=\"name\">bear</div>, <div class=\"name\">lion</div>, <div class=\"name\">tiger</div>]\n"
          ],
          "name": "stdout"
        }
      ]
    },
    {
      "cell_type": "markdown",
      "metadata": {
        "id": "kgUbBY8WT31h"
      },
      "source": [
        ""
      ]
    },
    {
      "cell_type": "markdown",
      "metadata": {
        "id": "3ohdElD0T3sF"
      },
      "source": [
        ""
      ]
    },
    {
      "cell_type": "markdown",
      "metadata": {
        "id": "MCTPKKv3T3kb"
      },
      "source": [
        "예제3. 위에서 긁어온 데이터에서 html 코드 말고 text 만 출력하시오 !"
      ]
    },
    {
      "cell_type": "markdown",
      "metadata": {
        "id": "_EW4PL1zUCJz"
      },
      "source": [
        "html 코드:"
      ]
    },
    {
      "cell_type": "code",
      "metadata": {
        "colab": {
          "base_uri": "https://localhost:8080/"
        },
        "id": "xS8BykXcT5DZ",
        "outputId": "96fed664-ff3f-49f0-9c5d-33c6c92374ad"
      },
      "source": [
        "from bs4 import BeautifulSoup\r\n",
        "\r\n",
        "f = open(\"/content/drive/MyDrive/data/ecologicalpyramid.html\")\r\n",
        "soup = BeautifulSoup( f, \"html.parser\" )\r\n",
        "result = soup.find_all(class_=\"name\")\r\n",
        "for i in result:   # result 리스트안의 요소를 하나씩 가져옵니다\r\n",
        "    print(i)"
      ],
      "execution_count": 69,
      "outputs": [
        {
          "output_type": "stream",
          "text": [
            "<div class=\"name\">plants</div>\n",
            "<div class=\"name\">algae</div>\n",
            "<div class=\"name\">deer</div>\n",
            "<div class=\"name\">rabbit</div>\n",
            "<div class=\"name\">fox</div>\n",
            "<div class=\"name\">bear</div>\n",
            "<div class=\"name\">lion</div>\n",
            "<div class=\"name\">tiger</div>\n"
          ],
          "name": "stdout"
        }
      ]
    },
    {
      "cell_type": "markdown",
      "metadata": {
        "id": "oo3McuIbUDKS"
      },
      "source": [
        ""
      ]
    },
    {
      "cell_type": "markdown",
      "metadata": {
        "id": "d3k-y-GbUDCp"
      },
      "source": [
        "text 출력:"
      ]
    },
    {
      "cell_type": "code",
      "metadata": {
        "colab": {
          "base_uri": "https://localhost:8080/"
        },
        "id": "qeQvlKNKUFKo",
        "outputId": "c37d0586-2a23-4cad-8cc2-fd58a92d7325"
      },
      "source": [
        "from bs4 import BeautifulSoup\r\n",
        "\r\n",
        "f = open(\"/content/drive/MyDrive/data/ecologicalpyramid.html\")\r\n",
        "soup = BeautifulSoup( f, \"html.parser\" )\r\n",
        "result = soup.find_all(class_=\"name\")\r\n",
        "for i in result:       # result 리스트안의 요소를 하나씩 가져옵니다\r\n",
        "    print(i.get_text())  "
      ],
      "execution_count": 70,
      "outputs": [
        {
          "output_type": "stream",
          "text": [
            "plants\n",
            "algae\n",
            "deer\n",
            "rabbit\n",
            "fox\n",
            "bear\n",
            "lion\n",
            "tiger\n"
          ],
          "name": "stdout"
        }
      ]
    },
    {
      "cell_type": "markdown",
      "metadata": {
        "id": "rjYN915KURcc"
      },
      "source": [
        "설명: get_text() 함수를 사용하면 html 코드 말고 텍스트만 가져옵니다."
      ]
    },
    {
      "cell_type": "markdown",
      "metadata": {
        "id": "4qXv0E2VUK1F"
      },
      "source": [
        ""
      ]
    },
    {
      "cell_type": "markdown",
      "metadata": {
        "id": "7eX0hGv0UKxT"
      },
      "source": [
        ""
      ]
    },
    {
      "cell_type": "markdown",
      "metadata": {
        "id": "Kizse0eiUKsE"
      },
      "source": [
        "문제408. ecologicalpyramid.html 문서에서 number 클래스에 있는 숫자들만 긁어와서 출력하시오 !"
      ]
    },
    {
      "cell_type": "code",
      "metadata": {
        "colab": {
          "base_uri": "https://localhost:8080/"
        },
        "id": "VS5N7bq_Ufpp",
        "outputId": "a2b69b60-ab84-4ad2-e15b-eb55b42d9536"
      },
      "source": [
        "from bs4 import BeautifulSoup\r\n",
        "\r\n",
        "f = open(\"/content/drive/MyDrive/data/ecologicalpyramid.html\")\r\n",
        "soup = BeautifulSoup( f, \"html.parser\" )\r\n",
        "result = soup.find_all(class_=\"number\")\r\n",
        "for i in result:\r\n",
        "    print(i.get_text())"
      ],
      "execution_count": 73,
      "outputs": [
        {
          "output_type": "stream",
          "text": [
            "100000\n",
            "100000\n",
            "1000\n",
            "2000\n",
            "100\n",
            "100\n",
            "80\n",
            "50\n"
          ],
          "name": "stdout"
        }
      ]
    },
    {
      "cell_type": "markdown",
      "metadata": {
        "id": "Tq64jTVnUvjq"
      },
      "source": [
        ""
      ]
    },
    {
      "cell_type": "markdown",
      "metadata": {
        "id": "yXBwfFRHUvef"
      },
      "source": [
        ""
      ]
    },
    {
      "cell_type": "markdown",
      "metadata": {
        "id": "tciPBeB5UvZl"
      },
      "source": [
        "문제409. 위에서 긁어온 숫자들을 a 라는 비어있는 리스트에 저장한 후 a 안의 요소들을 정렬하고 a 리스트를 출력하시오 !"
      ]
    },
    {
      "cell_type": "code",
      "metadata": {
        "colab": {
          "base_uri": "https://localhost:8080/"
        },
        "id": "hoWbYtYdUzIo",
        "outputId": "6655ecb6-02db-497b-ed7b-6df57e817f70"
      },
      "source": [
        "from bs4 import BeautifulSoup\r\n",
        "\r\n",
        "f = open(\"/content/drive/MyDrive/data/ecologicalpyramid.html\")\r\n",
        "soup = BeautifulSoup( f, \"html.parser\" )\r\n",
        "result =soup.find_all(class_=\"number\")\r\n",
        "\r\n",
        "a = []\r\n",
        "for i in result:\r\n",
        "    a.append( int(i.get_text()) )\r\n",
        "\r\n",
        "a.sort()\r\n",
        "print(a)"
      ],
      "execution_count": 76,
      "outputs": [
        {
          "output_type": "stream",
          "text": [
            "[50, 80, 100, 100, 1000, 2000, 100000, 100000]\n"
          ],
          "name": "stdout"
        }
      ]
    },
    {
      "cell_type": "markdown",
      "metadata": {
        "id": "LnRs-elDVB_s"
      },
      "source": [
        ""
      ]
    },
    {
      "cell_type": "markdown",
      "metadata": {
        "id": "GCVAOe-gVB5J"
      },
      "source": [
        ""
      ]
    },
    {
      "cell_type": "markdown",
      "metadata": {
        "id": "SVgzktkiVB0c"
      },
      "source": [
        "문제410. 중앙일보사 홈페이지로 가서 신문기사를 하나 보시오"
      ]
    },
    {
      "cell_type": "markdown",
      "metadata": {
        "id": "oJcgh7_3VE0d"
      },
      "source": [
        "    ctrl + s 로 기사의 html 문서를 aa77.html 로 저장합니다."
      ]
    },
    {
      "cell_type": "markdown",
      "metadata": {
        "id": "bwdlHcRlVPfU"
      },
      "source": [
        ""
      ]
    },
    {
      "cell_type": "markdown",
      "metadata": {
        "id": "LEulKhndVP7j"
      },
      "source": [
        ""
      ]
    },
    {
      "cell_type": "markdown",
      "metadata": {
        "id": "UwHsiMPWVQfg"
      },
      "source": [
        "문제411. aa77.html 을 beautifulsoup 모듈의 함수를 쓸 수 있도록 파싱하고 파싱된 결과를 출력하세요 ~"
      ]
    },
    {
      "cell_type": "code",
      "metadata": {
        "colab": {
          "base_uri": "https://localhost:8080/"
        },
        "id": "61HY7Bg_VSWq",
        "outputId": "11ce5775-91c8-4c40-e5e8-e6e2f3f6dcde"
      },
      "source": [
        "from bs4 import BeautifulSoup\r\n",
        "\r\n",
        "f = open(\"/content/drive/MyDrive/data/aa77.html\")\r\n",
        "soup = BeautifulSoup(f, \"html.parser\")\r\n",
        "print(soup)"
      ],
      "execution_count": 77,
      "outputs": [
        {
          "output_type": "stream",
          "text": [
            "<!DOCTYPE html>\n",
            "\n",
            "<!-- saved from url=(0039)https://news.joins.com/article/23927220 -->\n",
            "<html class=\"no-js\" lang=\"ko\" xml:lang=\"ko\" xmlns:fb=\"http://ogp.me/ns/fb#\"><!--<![endif]--><head><meta content=\"text/html; charset=utf-8\" http-equiv=\"Content-Type\"/>\n",
            "<title>[유혁의 데이터이야기] 데이터는 감정 빼고 봐야한다 - 중앙일보</title>\n",
            "<meta content=\"width=device-width\" name=\"viewport\"/>\n",
            "<meta content=\"IE=edge\" http-equiv=\"X-UA-Compatible\"/>\n",
            "<meta content=\"upgrade-insecure-requests\" http-equiv=\"Content-Security-Policy\"/>\n",
            "<meta content=\"[유혁의 데이터이야기] 데이터는 감정 빼고 봐야한다 - 중앙일보\" name=\"title\"/>\n",
            "<meta content='이번 미국 대선 결과와 상관없이 2016년에 이어 2020년에도 가장 명백한 패자는 결과를 제대로 예측하지 못한 각종 여론조사 기관이라고 할 수 있다. 많은 분석가들은 4년전 크게 벗어난 예측을 표본추출 오류의 결과로 결론을 내렸었다. 모델링을 놓고 흔히 \"반은 과학, 반은 예술\"이란 표현을 쓰지만, 이렇게 크게 벗어난 - 유혁의 데이터이야기,데이터,감정,데이터 사이언티스트,여론조사 방식,데이터 수집,미대선 예측오류' name=\"description\"/>\n",
            "<meta content=\"유혁의 데이터이야기,데이터,감정,데이터 사이언티스트,여론조사 방식,데이터 수집,미대선 예측오류\" name=\"news_keywords\"/>\n",
            "<meta content=\"1011513095546498\" property=\"fb:app_id\"/>\n",
            "<meta content=\"306376056509633\" property=\"fb:pages\"/>\n",
            "<meta content=\"article\" property=\"og:type\"/>\n",
            "<meta content=\"https://news.joins.com/article/23927220\" property=\"og:url\"/>\n",
            "<meta content=\"[유혁의 데이터이야기] 데이터는 감정 빼고 봐야한다\" property=\"og:title\"/>\n",
            "<meta content='이번 미국 대선 결과와 상관없이 2016년에 이어 2020년에도 가장 명백한 패자는 결과를 제대로 예측하지 못한 각종 여론조사 기관이라고 할 수 있다. 많은 분석가들은 4년전 크게 벗어난 예측을 표본추출 오류의 결과로 결론을 내렸었다. 모델링을 놓고 흔히 \"반은 과학, 반은 예술\"이란 표현을 쓰지만, 이렇게 크게 벗어난' property=\"og:description\"/>\n",
            "<meta content=\"https://pds.joins.com/news/component/htmlphoto_mmdata/202011/23/9a9a6f1a-a743-4d84-92dd-82f32dd7e0dd.jpg\" property=\"og:image\"/>\n",
            "<meta content=\"중앙일보\" property=\"og:site_name\"/>\n",
            "<meta content=\"ko_KR\" property=\"og:locale\"/>\n",
            "<meta content=\"https://www.facebook.com/joongang\" property=\"article:author\"/>\n",
            "<meta content=\"https://www.facebook.com/joongang\" property=\"article:publisher\"/>\n",
            "<meta content=\"summary_large_image\" name=\"twitter:card\"/>\n",
            "<meta content=\"[유혁의 데이터이야기] 데이터는 감정 빼고 봐야한다\" name=\"twitter:title\"/>\n",
            "<meta content='이번 미국 대선 결과와 상관없이 2016년에 이어 2020년에도 가장 명백한 패자는 결과를 제대로 예측하지 못한 각종 여론조사 기관이라고 할 수 있다. 많은 분석가들은 4년전 크게 벗어난 예측을 표본추출 오류의 결과로 결론을 내렸었다. 모델링을 놓고 흔히 \"반은 과학, 반은 예술\"이란 표현을 쓰지만, 이렇게 크게 벗어난' name=\"twitter:description\"/>\n",
            "<meta content=\"https://pds.joins.com/news/component/htmlphoto_mmdata/202011/23/9a9a6f1a-a743-4d84-92dd-82f32dd7e0dd.jpg\" name=\"twitter:image:src\"/>\n",
            "<meta content=\"사설·칼럼\" property=\"article:section\"/>\n",
            "<meta content=\"칼럼\" property=\"article:section2\"/>\n",
            "<meta content=\"칼럼\" property=\"article:section3\"/>\n",
            "<meta content=\"2020-11-23T00:23:45+09:00\" property=\"article:published_time\"/>\n",
            "<!-- Google Tag Manager -->\n",
            "<script charset=\"UTF-8\" src=\"./aa77_files/impl.20201214-6-RELEASE.js.다운로드\" type=\"text/javascript\"></script><script async=\"\" src=\"./aa77_files/analytics.js.다운로드\" type=\"text/javascript\"></script><script async=\"\" src=\"./aa77_files/js\" type=\"text/javascript\"></script><script async=\"\" crossorigin=\"anonymous\" src=\"./aa77_files/all.js.다운로드\"></script><script async=\"\" id=\"tb_loader_script\" src=\"./aa77_files/loader.js.다운로드\"></script><script async=\"\" src=\"./aa77_files/jatracker.min.js.다운로드\"></script><script async=\"\" src=\"./aa77_files/gtm.js.다운로드\"></script><script>\n",
            "\t(function (w, d, s, l, i) {\n",
            "\t\tw[l] = w[l] || []; w[l].push({\n",
            "\t\t\t'gtm.start':\n",
            "\t\t\tnew Date().getTime(), event: 'gtm.js'\n",
            "\t\t}); var f = d.getElementsByTagName(s)[0],\n",
            "\t\tj = d.createElement(s), dl = l != 'dataLayer' ? '&l=' + l : ''; j.async = true; j.src =\n",
            "\t\t'https://www.googletagmanager.com/gtm.js?id=' + i + dl; f.parentNode.insertBefore(j, f);\n",
            "    })(window, document, 'script', 'dataLayer', 'GTM-NGGTPFC');\n",
            "</script>\n",
            "<!-- End Google Tag Manager -->\n",
            "<!-- Begin JA Tracker Script -->\n",
            "<script type=\"text/javascript\">\n",
            "    (function (jaW, jaD, jaS, jaG, jaR, jaA, jaM) {\n",
            "        jaW['JaTrackerObject'] = jaR;\n",
            "        jaW[jaR] = jaW[jaR] || function () {\n",
            "            (jaW[jaR].q = jaW[jaR].q || []).push(arguments);\n",
            "        }, jaW[jaR].l = 1 * new Date();\n",
            "        jaA = jaD.createElement(jaS),\n",
            "            jaM = jaD.getElementsByTagName(jaS)[0];\n",
            "        jaA.async = 1;\n",
            "        jaA.src = jaG;\n",
            "        jaM.parentNode.insertBefore(jaA, jaM);\n",
            "    })(window, document, 'script', '//jtrackern.joins.com/jatracker.min.js?v4', 'jatracker');\n",
            "</script>\n",
            "<!-- End JA Tracker Script -->\n",
            "<script type=\"text/javascript\">\n",
            "    window._taboola = window._taboola || [];\n",
            "    _taboola.push({ article: 'auto' });\n",
            "    !function (e, f, u, i) {\n",
            "        if (!document.getElementById(i)) {\n",
            "            e.async = 1;\n",
            "            e.src = u;\n",
            "            e.id = i;\n",
            "            f.parentNode.insertBefore(e, f);\n",
            "        }\n",
            "    }(document.createElement('script'),\n",
            "        document.getElementsByTagName('script')[0],\n",
            "        '//cdn.taboola.com/libtrc/joongang-desktop/loader.js',\n",
            "        'tb_loader_script');\n",
            "    if (window.performance && typeof window.performance.mark == 'function') { window.performance.mark('tbl_ic'); }\n",
            "</script>\n",
            "<link href=\"https://images.joins.com/ui_mobile/joongang/icon/favicon.ico\" rel=\"shortcut icon\"/>\n",
            "<link href=\"https://news.joins.com/article/23927220\" rel=\"alternate\"/>\n",
            "<script type=\"application/ld+json\">\n",
            "        {\n",
            "        \"@context\": \"http://schema.org\",\n",
            "        \"@type\": \"WebSite\",\n",
            "        \"@id\": \"https://joongang.joins.com\",\n",
            "        \"url\": \"https://joongang.joins.com\",\n",
            "        \"potentialAction\": [{\n",
            "        \"@type\": \"SearchAction\",\n",
            "        \"target\": \"https://news.joins.com/search/JoongangNews?keyword={keyword}\",\n",
            "        \"query-input\": {\n",
            "        \"@type\": \"PropertyValueSpecification\",\n",
            "        \"valueRequired\": true,\n",
            "        \"valueMaxlength\": 50,\n",
            "        \"valueName\": \"keyword\"\n",
            "        }\n",
            "        }]\n",
            "        }\n",
            "    </script>\n",
            "<script type=\"application/ld+json\">\n",
            "                    {\n",
            "                    \"@context\": \"http://schema.org\",\n",
            "                    \"@type\": \"NewsArticle\",\n",
            "                    \"@id\": \"https://news.joins.com/article/23927220\",\n",
            "                    \"mainEntityOfPage\":{\n",
            "                    \"@type\":\"WebPage\",\n",
            "                    \"@id\":\"https://news.joins.com/article/23927220\"\n",
            "                    },\n",
            "                    \"headline\": \"[유혁의 데이터이야기] 데이터는 감정 빼고 봐야한다 - 중앙일보\",\n",
            "                    \"image\": {\n",
            "                    \"@type\": \"ImageObject\",\n",
            "                    \"@id\": \"https://pds.joins.com/news/component/htmlphoto_mmdata/202011/23/9a9a6f1a-a743-4d84-92dd-82f32dd7e0dd.jpg\",\n",
            "                    \"url\": \"https://pds.joins.com/news/component/htmlphoto_mmdata/202011/23/9a9a6f1a-a743-4d84-92dd-82f32dd7e0dd.jpg\",\n",
            "                    \"height\": 450,\n",
            "                    \"width\": 800\n",
            "                    },\n",
            "                    \"datePublished\": \"2020-11-23T00:23:45+09:00\",\n",
            "                    \"dateModified\": \"2020-11-23T00:23:45+09:00\",\n",
            "                    \"author\": {\n",
            "                    \"@type\": \"Organization\",\n",
            "                    \"name\": \"중앙일보\"\n",
            "                    },\n",
            "                    \"publisher\": {\n",
            "                    \"@type\": \"Organization\",\n",
            "                    \"@id\": \"https://joongang.joins.com\",\n",
            "                    \"name\": \"중앙일보\",\n",
            "                    \"logo\": {\n",
            "                    \"@type\": \"ImageObject\",\n",
            "                    \"url\": \"https://images.joins.com/logo/logo_joongangilbo.png\",\n",
            "                    \"width\": 160\n",
            "                    },\n",
            "                    \"sameAs\":[\"https://www.facebook.com/joongang\",\"https://twitter.com/joongangilbo\"]\n",
            "                    },\n",
            "                    \"description\": \"이번 미국 대선 결과와 상관없이 2016년에 이어 2020년에도 가장 명백한 패자는 결과를 제대로 예측하지 못한 각종 여론조사 기관이라고 할 수 있다. 많은 분석가들은 4년전 크게 벗어난 예측을 표본추출 오류의 결과로 결론을 내렸었다. 모델링을 놓고 흔히 &#34;반은 과학, 반은 예술&#34;이란 표현을 쓰지만, 이렇게 크게 벗어난 - 유혁의 데이터이야기,데이터,감정,데이터 사이언티스트,여론조사 방식,데이터 수집,미대선 예측오류\"\n",
            "                    }\n",
            "                </script>\n",
            "<link href=\"https://images.joins.com/ui_mobile/joongang/icon/ios_114.png\" rel=\"apple-touch-icon-precomposed\"/>\n",
            "<link href=\"./aa77_files/parent_v2.css\" rel=\"stylesheet\"/>\n",
            "<link href=\"./aa77_files/common.css\" rel=\"stylesheet\"/>\n",
            "<link href=\"./aa77_files/slick.css\" rel=\"stylesheet\"/>\n",
            "<link href=\"./aa77_files/jquery-ui.min.css\" rel=\"stylesheet\"/>\n",
            "<link href=\"https://news.joins.com/article/23927220\" rel=\"canonical\"/>\n",
            "<link href=\"./aa77_files/article.css\" rel=\"stylesheet\"/>\n",
            "<link href=\"./aa77_files/article_cmt.css\" rel=\"stylesheet\"/>\n",
            "<link href=\"https://mnews.joins.com/article/23927220\" media=\"only screen and (max-width: 640px)\" rel=\"alternate\"/>\n",
            "<link href=\"https://mnews.joins.com/article/23927220\" media=\"handheld\" rel=\"alternate\"/>\n",
            "<link href=\"https://mnews.joins.com/amparticle/23927220\" rel=\"amphtml\"/>\n",
            "<script async=\"\" src=\"./aa77_files/persona.js.다운로드\"></script>\n",
            "<script src=\"./aa77_files/script.min.js.다운로드\"></script>\n",
            "<script src=\"./aa77_files/getovenjson.php\"></script><script src=\"./aa77_files/4bt_4p_aYZLeHvg3WpShADF3fTGj0K7NQ8MZjbfpq1uEAM4qWzAZAbZDSXNVZUJ6V1RkR3ppcktOd2hId2JBAstB1_YYvmTN-gPLQdf2GL5kzfo.js.다운로드\"></script><script src=\"./aa77_files/targetpushad_w.js.다운로드\"></script><style>.targetpushAd_pc_wrap {margin:0;padding:0;-webkit-tap-highlight-color:rgba(0,0,0,0);z-index:999999998;}.targetpushAd_pc_wrap div, .targetpushAd_pc_wrap dl, .targetpushAd_pc_wrap dt, .targetpushAd_pc_wrap dd, .targetpushAd_pc_wrap ul, .targetpushAd_pc_wrap ol, .targetpushAd_pc_wrap li, .targetpushAd_pc_wrap h1, .targetpushAd_pc_wrap h2, .targetpushAd_pc_wrap h3, .targetpushAd_pc_wrap h4, .targetpushAd_pc_wrap h5, .targetpushAd_pc_wrap h6, .targetpushAd_pc_wrap pre, .targetpushAd_pc_wrap form, .targetpushAd_pc_wrap fieldset, .targetpushAd_pc_wrap input, .targetpushAd_pc_wrap p, .targetpushAd_pc_wrap blockquote, .targetpushAd_pc_wrap table, .targetpushAd_pc_wrap th, .targetpushAd_pc_wrap td, .targetpushAd_pc_wrap embed, .targetpushAd_pc_wrap object, .targetpushAd_pc_wrap textarea, .targetpushAd_pc_wrap a, .targetpushAd_pc_wrap img{padding:0;margin:0;}.targetpushAd_pc_wrap ol, .targetpushAd_pc_wrap ul, .targetpushAd_pc_wrap li{list-style:none;display:block;}.targetpushAd_pc_wrap div{display:block;}.targetpushAd_pc_wrap img{border:0;vertical-align:top;}.targetpushAd_pc_wrap{display:none;}.targetpushAd_pc_wrap.run{display:block;}.targetpushAd_pc_wrap.run ul{list-style-type:none;margin:0;padding:0;}.targetpushAd_pc_wrap.run .targetpushAd_banner_wrap{width:320px;position:fixed;z-index:999999998;height:auto;}.targetpushAd_pc_wrap.run .targetpushAd_banner_wrap img{width:100%;}.targetpushAd_pc_wrap.run .targetpushAd_banner_wrap .btn_close{display:block;position:absolute;top:23px;right:28px;width:30px;height:30px;text-indent:-9999em;background: url(//cdn.targetpush.co.kr/upload/images/x_bt3.png) center center no-repeat;}.targetpushAd_pc_wrap.run .targetpushAd_banner_wrap .btn_close_2{display:none;position:absolute;top:1px;right:1px;width:19px;height:19px;text-indent:-9999em;background:#FFF url(//cdn.targetpush.co.kr/upload/images/infor_ad_icon.png) center center no-repeat;}.targetpushAd_pc_wrap.run .targetpushAd_banner_wrap,.targetpushAd_pc_wrap.run .targetpushAd_banner_wrap a,.targetpushAd_pc_wrap.run .targetpushAd_banner_wrap a:after{box-sizing:initial;}.targetpushAd_pc_wrap .targetpushAd_banner_wrap{bottom:0;}.targetpushAd_pc_wrap_a{display:block;}.targetpushAd_pc_wrap .targetpushAd_banner_wrap:hover{cursor:pointer;}.targetpushAd_pc_wrap.type1.run .targetpushAd_banner_wrap{animation:type1 0.5s ease-in-out;}.targetpushAd_pc_wrap.type2.run .targetpushAd_banner_wrap{animation:type2 0.5s ease-in-out;}@keyframes type1 {0%{bottom:-120px;}100%{bottom:0;}}@keyframes type2 {0%{bottom:-132px;}100%{bottom:0;}}.targetpushAd-animate-up{animation:animateup 1s}@keyframes animateup{from{bottom:-350px;opacity:0} to{bottom:0;opacity:1;}}.targetpushAd-animate-down{animation:animatedown 1s;animation-fill-mode: both;-webkit-animation-fill-mode: both;}@keyframes animatedown{from{bottom:0;opacity:1} to{bottom:-350px;opacity:0}} .targetpushAd_pc_wrap.wrap_new .targetpushAd_pc_wrap.wrap_new .targetpushAd_banner_wrap, .targetpushAd_pc_wrap.wrap_new .targetpushAd_banner_wrap a, .targetpushAd_pc_wrap.wrap_new .targetpushAd_banner_wrap a:after, .targetpushAd_pc_wrap.wrap_new .banner_header, .targetpushAd_pc_wrap.wrap_new .banner_content, .targetpushAd_pc_wrap.wrap_new .ico_wrap_new {box-sizing:border-box;} .targetpushAd_pc_wrap.wrap_new .targetpushAd_banner_wrap {position:fixed;   z-index:999999998;  width:328px;; height:246px; right:50px; border-radius:17px; font-family: 'Noto Sans KR', sans-serif;}  .adtive_pushCam_fix, .adtive_pushCam_fix div, .adtive_pushCam_fix dl, .adtive_pushCam_fix dt, .adtive_pushCam_fix dd, .adtive_pushCam_fix ul, .adtive_pushCam_fix ol, .adtive_pushCam_fix li, .adtive_pushCam_fix h1, .adtive_pushCam_fix h2, .adtive_pushCam_fix h3, .adtive_pushCam_fix h4, .adtive_pushCam_fix h5, .adtive_pushCam_fix h6, .adtive_pushCam_fix pre, .adtive_pushCam_fix form, .adtive_pushCam_fix fieldset, .adtive_pushCam_fix input, .adtive_pushCam_fix p, .adtive_pushCam_fix blockquote, .adtive_pushCam_fix table, .adtive_pushCam_fix th, .adtive_pushCam_fix td, .adtive_pushCam_fix embed, .adtive_pushCam_fix object, .adtive_pushCam_fix textarea, .adtive_pushCam_fix a, .adtive_pushCam_fix span, .adtive_pushCam_fix em, .adtive_pushCam_fix i, .adtive_pushCam_fix b, .adtive_pushCam_fix strong, .adtive_pushCam_fix img {margin: 0; padding: 0;border: 0;font: inherit;vertical-align:baseline;-webkit-box-sizing: border-box;box-sizing:border-box !important;\t}  .adtive_pushCam_fix dt, .adtive_pushCam_fix dd {float:none;}  .adtive_pushCam_fix div {display:block;} .adtive_pushCam_fix img {border:0; vertical-align:middle;} .adtive_pushCam_fix li {list-style:none;} .adtive_pushCam_fix a {text-decoration:none} .adtive_pushCam_fix a:hover, .adtive_pushCam_fix a:visited, .adtive_pushCam_fix a:active, .adtive_pushCam_fix a:link, .adtive_pushCam_fix a:focus {color:inherit; text-decoration:none;} .adtive_pushCam_fix {position:fixed; right:30px; bottom:0px; z-index:99999; width:300px; height:217px; border-radius:17px; box-shadow:0px 5px 10px 4px rgba(0,0,0,.3); background:rgba(255,255,255,.99); -webkit-tap-highlight-color:rgba(0,0,0,0); color:#000; font-weight:normal; font-size:13px; line-height:1.2; letter-spacing:-0.3px; word-spacing:0px; font-family: AppleSDGothicNeo-Regular,'DroidSans Fallback','Malgun Gothic','맑은 고딕',Dotum,'돋움',sans-serif; text-align:left; -webkit-text-size-adjust:none; word-break:break-all;} .adtive_pushCam_fix .cam_inner {position:relative; padding: 16px 17px 16px 17px !important;} .adtive_pushCam_fix .cam_profile {margin:0 20px 9px 59px; color:#525252; font-size:13.5px; font-weight:bold; overflow:hidden; white-space:nowrap; text-overflow:ellipsis;} .adtive_pushCam_fix .cam_tit {width:100%;  padding-left:59px; margin-bottom:23px; word-spacing:-1px; letter-spacing:-0.8px; color:#333; font-size:17px; font-weight:bold; line-height:1.2;} .adtive_pushCam_fix .cam_txt {overflow:hidden; text-overflow:ellipsis; display:-webkit-box; display:-moz-box; display:-ms-box; -webkit-box-orient:vertical; -webkit-line-clamp:3; word-wrap:break-word; line-height:1.45em; max-height:4.35em; color:#333; font-size:14.5px; letter-spacing: -0.2px; word-spacing:-2px;} .adtive_pushCam_fix dt {display:block !important} .adtive_pushCam_fix .cam_link {margin-top:12px; text-align:center;} .adtive_pushCam_fix .cam_link:after {content:''; display:block; clear:both;} .adtive_pushCam_fix .linkBtn {display:inline-block; max-width:100%; height:37px; line-height:35px; padding:0 38px; border-radius:18px; border:1px solid #e9cf37; background:#f4d732; color:#303030; font-size:13.5px;  font-weight:bold; word-spacing:-1px; overflow:hidden; white-space:nowrap; text-overflow:ellipsis;} .adtive_pushCam_fix .cam_link.division .linkBtn {float:left; max-width:49%; width:49%; padding:0 3px;} .adtive_pushCam_fix .cam_link.division .linkBtn:nth-child(2n) {margin-left:2%;} .adtive_pushCam_fix .cam_link.division .linkBtn:nth-child(2n+1) {margin-top:5px;} .adtive_pushCam_fix .cam_link.division .linkBtn:nth-child(2n+2) {margin-top:5px;} .adtive_pushCam_fix .cam_link.imgType .linkBtn {height:auto; line-height:1.2; padding:0 0; border:none; border-radius:0; background:none;} .adtive_pushCam_fix .cam_link.imgType .linkBtn img {max-width:100%;} .adtive_pushCam_fix .cam_thumb {position:absolute; top:21px; left:13px; width:53px; height:53px; padding:3px; overflow:hidden; z-index:1; border-radius:50%; box-shadow:1px 2px 3px 1px rgba(0,0,0,.1); background:rgba(255,255,255,.99); text-align:center; font-size:0;} .adtive_pushCam_fix .cam_thumb img {width:47px; border-radius:50%; vertical-align:middle;} .adtive_pushCam_fix .closeBtn {position:absolute; top:2px; right:2px; z-index:1; padding:14px 7px 0px; border:0; text-align:center; font-size:0; display:block;} .adtive_pushCam_fix .closeBtn img {width:14px; vertical-align:middle;} .adtive_pushCam_fix .btn_close_2{display:none; position:absolute;top:-10px;right:-10px;width:19px;height:19px;text-indent:-9999em;background:#FFF url(//cdn.targetpush.co.kr/upload/images/infor_ad_icon.png) center center no-repeat;} .adtive_pushCam_fix .cam_content {overflow:hidden; height:160px;}  .adtive_pushCam_fix .cam_txt + .cam_img {margin-top:5px;} .adtive_pushCam_fix .cam_img {height:auto; max-height:116px;} .adtive_pushCam_fix .cam_img img {width:100%; height:auto;} .targetpushAd-up-exc {top:630px;-webkit-animation: ani-upexc 1s; animation: ani-upexc 1s;} @keyframes ani-upexc {from {transform:translateY(350px); opacity: 0;}to {transform:translateY(0px); opacity: 1; }} @-webkit-keyframes ani-upexc {from {-webkit-transform:translateY(350px); opacity: 0;}to {-webkit-transform:translateY(0px); opacity: 1; }} .targetpushAd-down-exc {top:100%;} .targetpushAd-fadeOut-exc {-webkit-animation: ani-fadeOut-exc 0.2s forwards; animation: ani-fadeOut-exc 0.2s forwards;} @keyframes ani-fadeOut-exc {from {opacity:1;}to {opacity:0;}} @-webkit-keyframes ani-fadeOut-exc {from {opacity:1;}to {opacity:0;}} .targetpushAd_pc_wrap.run .targetpushAd_banner_wrap .targetpushAd_bnr_qr {position:relative;}  .targetpushAd_pc_wrap.run .targetpushAd_banner_wrap .targetpushAd_bnr_qr .btn_close {  display: block;  position: absolute;  top: 18px; right: 22px;   width: 20px;  height: 20px; text-indent: -9999em; background: url(//cdn.targetpush.co.kr/images/btn_downsize.png) center center no-repeat;  z-index:11;\t}  .targetpushAd_pc_wrap.run .targetpushAd_bnr_qr .btn_qr_open {position:absolute; left:22px; top:17px; font-size:0;}  .targetpushAd_pc_wrap.run .targetpushAd_bnr_qr .targetpushAd_qrInfo {position:absolute; top:auto; bottom:1px; left:0; right:0; z-index:10;}   .targetpushAd_pc_wrap.run .targetpushAd_bnr_qr .targetpushAd_qrInfo .btn_qr_close {position:absolute; top:17px; right:22px; width:20px; height:20px; text-indent: -9999em; background: url(//cdn.targetpush.co.kr/images/btn_qr_close.png) center center no-repeat;}  .targetpushAd_pc_wrap.run .targetpushAd_bnr_qr {}  .targetpushAd_pc_wrap.run .targetpushAd_bnr_qr {}  #muteButton{position: absolute;cursor: pointer;right: 5px;bottom: 10px;} .cvideo{background:url(https://cdn.targetpush.co.kr/images/speaker_24_on.png) no-repeat center;background-size:24px;border:0;width:24px;height:24px;} .cvideomuted {background:url(https://cdn.targetpush.co.kr/images/speaker_24_off.png) no-repeat center;background-size:24px;border:0;width:24px;height:24px;}</style><style type=\"text/css\">.trc_rbox_container{direction:ltr;text-align:left}.trc_rbox_container [class*=span]{float:none;margin-left:0}.trc_multi_widget_container{display:-ms-flexbox;display:flex;-ms-flex-pack:justify;justify-content:space-between}.trc_multi_widget_container .trc_rbox_div{margin:0}.trc_rbox_header{border:0 solid;overflow:hidden;vertical-align:middle}.trc_rbox_container .trc_img{display:inline-block!important}.trc_rbox_header_icon_div{display:table-cell;vertical-align:baseline}.trc_rbox_header .trc_rbox_header_icon_div .trc_rbox_header_icon_img{vertical-align:middle;width:auto}.trc_rbox_header_icon_span{display:inline-table}.in_trc_header{position:relative!important;float:right;margin:0}#trc_rbox_css_loaded{overflow:hidden;width:0;height:0}.trc_rbox{margin-top:0}.trc_rbox_div{margin:0 0 3px;direction:ltr;padding:0;box-sizing:border-box;-moz-box-sizing:border-box;-ms-box-sizing:border-box;-webkit-box-sizing:border-box;overflow:auto;position:relative;width:auto;border:solid #ccc 1px}.loading-animation span{display:block}.videoCube{zoom:1;cursor:pointer;float:none;overflow:hidden;box-sizing:border-box;-moz-box-sizing:border-box;-ms-box-sizing:border-box;-webkit-box-sizing:border-box}.videoCube_hover,div.videoCube:hover{cursor:pointer}.videoCube span.video-title:hover,.videoCube_hover span.video-title{text-decoration:underline}.videoCube a{text-decoration:none;border:0;color:#000;cursor:pointer}.videoCube a,.videoCube a:hover,.videoCube a:link,.videoCube_hover a{text-decoration:none!important;outline:0}.videoCube a .thumbBlock{float:left;display:block;overflow:hidden!important}.videoCube a img,.videoCube img{border:0;display:block;margin:0;height:auto;width:auto}.videoCube .video-label{display:block;overflow:hidden}.videoCube .video-label{width:auto!important;white-space:pre-wrap;white-space:-moz-pre-wrap;white-space:-o-pre-wrap;word-wrap:break-word}.videoCube .video-label-box.label-box-with-title-icon{display:table}.video-icon-container{float:left;display:table-cell;vertical-align:baseline}.video-icon-img{vertical-align:middle}.videoCube .video-duration{height:0;float:left;position:relative;color:#fff;font-size:11px}.videoCube .video-duration dt{border-radius:4px;-moz-border-radius:4px;-webkit-border-radius:4px;background-color:#000;opacity:.6}.videoCube span.video-label.trc_ellipsis{position:relative;overflow:hidden;display:-webkit-box;-webkit-box-orient:vertical}.videoCube span.video-label.trc-smart-ellipsis{position:relative;overflow:hidden}.videoCube span.video-label.trc-smart-ellipsis ins{display:inline-block;text-decoration:inherit}.videoCube span.video-label.trc-smart-ellipsis.tbl-ltr-label{direction:ltr}.videoCube span.video-label.trc-smart-ellipsis.tbl-ltr-label ins{float:left;margin-right:5px;direction:ltr}.videoCube span.video-label.trc-smart-ellipsis.tbl-rtl-label{float:right;direction:rtl;width:100%!important}.videoCube span.video-label.trc-smart-ellipsis.tbl-rtl-label ins{float:right;margin-left:5px;direction:rtl}.videoCube span.video-label.trc-smart-ellipsis ins.lastLineEllipsis{display:block;overflow:hidden;text-overflow:ellipsis;white-space:nowrap;word-wrap:normal;width:100%}.video-duration.video-duration-detail div{color:#fff}.trc_rbox .sponsored{position:relative;display:block;overflow:visible;height:auto;width:auto;padding-right:0;text-align:right;font-size:9px}.trc_rbox_div{height:410px}.videoCube{direction:ltr;font-size:11px;margin:0;color:#000;border-width:0}.videoCube.vertical:first-child{border-top:0;margin-top:0}.videoCube.horizontal:first-child{border-left:0;margin-left:0}.videoCube_hover,div.videoCube:hover{background-color:#ebf0ff;color:#000}.videoCube .thumbBlock{margin-right:5px;margin-left:1px;border-style:solid}.videoCube a img,.videoCube img{border-color:#ececec}.videoCube .video-label-box{margin-left:81px}.videoCube .video-label dt{font-weight:700}.videoCube .video-title{height:auto;margin-bottom:3px;white-space:normal}.videoCube .trc_inline_detail_spacer{display:inline-block;white-space:pre}.loading-animation{font-family:sans;font-size:1.5em;text-align:center;color:gray;height:100%}.trc_rbox_header{font-family:Arial,Helvetica,sans-serif;font-size:12px;font-weight:700;text-decoration:none;color:#000}.trc_header_right_part{position:absolute;left:50%;top:0}.branding_div{overflow:visible;float:right}.branding_div img{height:20px}.videoCube .branding .logoDiv{font-size:inherit;line-height:inherit;background:0 0;margin:0;padding:0}.videoCube .branding .logoDiv a{vertical-align:inherit;color:inherit;line-height:inherit}.videoCube .branding .logoDiv a span{vertical-align:inherit}.trc_related_container .videoCube .branding .attribution-disclosure-link-sponsored{display:inline-block;float:none}.trc_related_container .videoCube .branding .attribution-disclosure-link-sponsored.align-disclosure-right{float:right;margin-left:auto;padding-left:2px}.videoCube .video-label-box .branding.composite-branding{display:-webkit-box;display:-ms-flexbox;display:flex}.branding.composite-branding>*{display:inline-block;vertical-align:bottom}.branding .branding-separator{margin:0 2px;font-weight:400}.branding .branding-inner{text-overflow:ellipsis;overflow:hidden;white-space:nowrap}.video-label-box span.branding.inline-branding{display:inline-block}.trc_related_container div.horizontal{float:left;box-sizing:border-box;-moz-box-sizing:border-box;-ms-box-sizing:border-box;-webkit-box-sizing:border-box}.trc_related_container DIV.videoCube.thumbnail_bottom .thumbBlock,.trc_related_container DIV.videoCube.thumbnail_top .thumbBlock{float:none}.vidiscovery-note{display:none}.videoCube .thumbBlock .trc_sponsored_overlay_base{display:block;width:auto;margin-left:0;position:absolute;color:#fff!important}.videoCube .thumbBlock .trc_sponsored_overlay{opacity:.6;display:block;position:absolute}.videoCube .thumbBlock .trc_sponsored_overlay_base .sponsored{position:relative;display:block;overflow:visible;width:auto;text-align:center;padding:0 5px;margin-top:0}.videoCube .thumbBlock .trc_sponsored_overlay_base.round .trc_sponsored_overlay{border-radius:4px;-moz-border-radius:4px;-webkit-border-radius:4px}.videoCube .thumbBlock .trc_sponsored_overlay_base.round{margin-left:4px}.thumbnail-emblem,.videoCube .thumbnail-overlay,.videoCube:hover .thumbnail-overlay,.videoCube_hover .thumbnail-overlay{position:absolute;background:transparent no-repeat;background-size:contain;z-index:50}.thumbnail_bottom{padding-bottom:8px}.trc_related_container .logoDiv{font-family:Arial,Helvetica,sans-serif;white-space:nowrap;font-size:9px}.trc_related_container .logoDiv a{font-size:9px;text-decoration:none!important;color:#000;margin-right:1px;vertical-align:text-bottom}.logoDiv a span:hover{text-decoration:underline}.trc_rbox_header .logoDiv{font-size:1em}.trc_rbox_container.trc_expandable{overflow:hidden;max-height:0;transition-property:max-height;-webkit-transition-property:max-height;-moz-transition-property:max-height;-o-transition-property:max-height;-webkit-transform:translateZ(0);-moz-transform:translateZ(0);-ms-transform:translateZ(0);-o-transform:translateZ(0);transform:translateZ(0)}.trc_related_container .videoCube .thumbBlock .branding{position:absolute;bottom:0;z-index:1;width:100%;margin:0;padding:5px 0;text-align:center}.syndicatedItem .branding{margin:0}.trc-inplayer-rbox{background:#333;background:rgba(30,30,30,.9);bottom:0;position:absolute;height:300px;text-align:center}.trc-inplayer-rbox .trc_rbox_container{margin:50px auto 0;width:640px}.trc_rbox.trc-auto-size{width:100%;height:100%}.videoCube.thumbnail_under .thumbBlock{margin-left:0;margin-right:0}.videoCube.thumbnail_under .label-box-overlay{width:100%;height:100%;position:absolute;background:#000;opacity:.75;top:0}.videoCube.thumbnail_under .video-labels-anchor{width:100%;height:auto;position:absolute;z-index:1;left:0;bottom:0;min-height:2.58em;max-height:2.58em;padding-top:2px;padding-bottom:2px;-webkit-transition:all .2s linear;-moz-transition:all .2s linear;-ms-transition:all .2s linear;-o-transition:all .2s linear;transition:all .2s linear;line-height:1.25em}.videoCube.thumbnail_under:hover .video-labels-anchor{opacity:1;max-height:6.45em}.videoCube.thumbnail_under .video-labels-anchor span.branding,.videoCube.thumbnail_under .video-labels-anchor span.video-title{position:relative;z-index:1;padding:0 3px;margin:0}.videoCube.thumbnail_under .video-title{min-height:2.58em}.videoCube.thumbnail_under .tbl-text-over-container{width:100%;position:absolute;z-index:1;left:0;bottom:0;min-height:66%;max-height:66%;padding-top:2px;padding-bottom:2px;line-height:1.25em}.videoCube.thumbnail_under .tbl-text-over-container .tbl-text-over{height:100%;width:100%;position:absolute;background:linear-gradient(to bottom,rgba(0,0,0,0) 0,rgba(0,0,0,.8) 100%)}.videoCube.thumbnail_under .tbl-text-over-container span.branding,.videoCube.thumbnail_under .tbl-text-over-container span.video-description,.videoCube.thumbnail_under .tbl-text-over-container span.video-title{position:relative;z-index:1;padding:0 8px;margin:0}.videoCube.thumbnail_under .tbl-text-over-container span.video-title{margin-bottom:6px;min-height:auto}.videoCube.thumbnail_under .tbl-text-over-container .video-label-box{position:absolute;bottom:0;left:0;width:100%;padding:0 8px 6px 8px;min-height:auto}.trc-auto-size .trc_rbox_outer .trc_rbox_div{height:auto;width:auto}.trc-auto-size .trc_rbox_div .videoCube{height:auto}.trc-auto-size .trc_rbox_div .videoCube.trc-first-recommendation{margin-top:0}.trc_rbox .trc_rbox_outer .trc_rbox_div .videoCube.trc-first-in-row{margin-left:0}.trc_elastic .trc_rbox{width:auto}.trc_elastic .videoCube{overflow:hidden}.trc_elastic .videoCube .thumbBlock{background:transparent no-repeat center center;background-size:cover;position:absolute;display:inline-block;top:0;right:0;bottom:0;left:0;margin-left:0;margin-right:0}.trc_elastic .thumbBlock_holder{position:relative;width:100%}.trc_elastic .thumbnail_start .thumbBlock_holder{float:left;margin-right:10px}.trc_elastic .thumbnail_start.item-has-pre-label .thumbBlock_holder{margin-right:0}.trc_elastic .videoCube_aspect{width:1px}.trc_elastic .trc_rbox .trc_rbox_div{height:auto}.trc_elastic .thumbnail_start .trc-pre-label{float:left;padding-right:10px}.trc_elastic .thumbnail_start.trc-split-label .trc-main-label{float:left;padding-left:10px}.trc_elastic .video-label-box{display:block}.trc_elastic .thumbnail_start .video-label-box{box-sizing:border-box}.trc_user_adChoice_btn{background:url(//cdn.taboola.com/static/c5/c5ef96bc-30ab-456a-b3d5-a84f367c6a46.svg) no-repeat scroll 0 0 rgba(255,255,255,1);border-radius:0 0 0 5px;width:16px;height:16px;position:absolute;right:0;top:0;z-index:9000;cursor:pointer;border-width:2px 0 2px 4px;border-style:solid;border-color:#fff;opacity:.7;background-size:contain;visibility:hidden}.videoCube:hover .trc_user_adChoice_btn,.videoCube_hover .trc_user_adChoice_btn{visibility:visible}.videoCube .trc_user_adChoice_btn_static{visibility:visible}.p-video-overlay-container{position:absolute;width:100%;height:100%;top:0;left:0;background-color:transparent}.p-video-overlay.p-video-overlay-show{display:flex}.p-video-overlay{display:none;background-color:#000;opacity:.7;width:100%;height:100%;flex-direction:column}.p-video-overlay-action{color:#fff;width:100%;direction:ltr;text-align:center;display:flex;justify-content:center;flex-direction:column}.p-video-overlay-action.p-video-back-action{height:34%}.p-video-back-action-label{font-family:Helvetica Neue,serif;font-size:14px;font-weight:200;letter-spacing:1px}.p-video-overlay-action.p-video-goto-action{height:66%}.p-video-goto-action-url{font-family:Helvetica Neue,serif;font-size:24px;font-weight:400;text-decoration:underline;margin-top:5px}.p-video-goto-action-label{font-family:Helvetica Neue,serif;font-size:14px;font-weight:100;letter-spacing:1px}.trc_related_container .trc_clearer{clear:both;height:0;overflow:hidden;font-size:0;line-height:0;visibility:hidden}.link-adc{float:right!important}.trc-widget-footer .logoDiv{line-height:normal;padding-bottom:5px}.trc-widget-footer .link-adc a .trc_adc_wrapper,.trc_header_ext .link-adc a .trc_adc_wrapper{height:12px;width:18px;display:inline-block;padding-left:1px;margin-bottom:2px}.trc-widget-footer .link-adc a .trc_adc_b_logo,.trc-widget-footer .link-adc a .trc_adc_s_logo,.trc_header_ext .link-adc a .trc_adc_b_logo,.trc_header_ext .link-adc a .trc_adc_s_logo{vertical-align:middle;height:15px;display:inline-block;margin-top:-1px}.trc-widget-footer .link-adc a .trc_adc_s_logo,.trc_header_ext .link-adc a .trc_adc_s_logo{width:12px;height:14px;background:url(//cdn.taboola.com/static/c5/c5ef96bc-30ab-456a-b3d5-a84f367c6a46.svg) no-repeat;background-size:contain;vertical-align:middle}.trc-widget-footer .link-adc a .trc_adc_b_logo,.trc_header_ext .link-adc a .trc_adc_b_logo{width:77px;background:#fff url(//cdn.taboola.com/libtrc/static/thumbnails/0781f9c5a8637d1e162874f157460048.png) no-repeat!important;right:-1px;display:none;position:absolute}.logoDiv .trc_mobile_adc_link,.logoDiv .trc_mobile_attribution_link,.logoDiv .trc_mobile_disclosure_link{display:none}.logoDiv .trc_desktop_adc_link,.logoDiv .trc_desktop_attribution_link,.logoDiv .trc_desktop_disclosure_link{display:inline}@media screen and (max-width:767px){.logoDiv .trc_mobile_disclosure_link{display:inline}.logoDiv .trc_mobile_attribution_link{display:inline}.logoDiv .trc_mobile_adc_link{display:inline}.logoDiv .trc_desktop_disclosure_link{display:none}.logoDiv .trc_desktop_attribution_link{display:none}.logoDiv .trc_desktop_adc_link{display:none}}.trc_in_iframe .logoDiv .trc_mobile_attribution_link,.trc_in_iframe .logoDiv .trc_mobile_disclosure_link{display:inline}.trc_in_iframe .logoDiv .trc_desktop_attribution_link,.trc_in_iframe .logoDiv .trc_desktop_disclosure_link{display:none}.trc_related_container .logoDiv,.trc_related_container .trc_header_ext .logoDiv{float:right}.trc_related_container .logoDiv+.logoDiv{margin-right:2px}.trc_related_container .attribution-disclosure-link-hybrid,.trc_related_container .attribution-disclosure-link-sponsored{display:none}.trc-w2f.trc-content-sponsored .attribution-disclosure-link-sponsored,.trc_related_container .trc-content-sponsored .attribution-disclosure-link-sponsored{display:block}.trc-w2f.trc-content-hybrid .attribution-disclosure-link-hybrid,.trc_related_container .trc-content-hybrid .attribution-disclosure-link-hybrid{display:block}.trc_related_container .trc-widget-footer:hover a span,.trc_related_container .trc_header_ext:hover a span{text-decoration:underline!important}.logoDiv a span.trc_logos_v_align{display:inline-block!important;font-size:15px!important;line-height:1em!important;width:0!important}.trc_related_container .trc-widget-footer:hover a span.trc_adc_wrapper,.trc_related_container .trc-widget-footer:hover a span.trc_logos_v_align,.trc_related_container .trc_header_ext:hover a span.trc_adc_wrapper,.trc_related_container .trc_header_ext:hover a span.trc_logos_v_align{text-decoration:none!important}.trc_related_container{clear:both}.tbl-loading-spinner{width:100%;height:40px;background:url(//cdn.taboola.com/static/91/91a25024-792d-4b52-84e6-ad1478c3f552.gif) center center no-repeat;background-size:40px}.tbl-hidden{display:none!important}.tbl-invisible{opacity:0;pointer-events:none}.tbl-batch-anchor{width:100%;height:1px}.iw_video_frame .trc_rbox_div{overflow:hidden}.trc-w2f .trc_rbox .trc-widget-footer,.trc-w2f .trc_rbox .trc_rbox_header{display:none!important}.alternating-thumbnails-a .video-title{font-family:Arial, Helvetica, sans-serif;font-size:15px;line-height:1.35em;font-weight:normal;max-height:2.7em;*height:2.7em;color:#241815;text-decoration:none;}.alternating-thumbnails-a .video-description{font-family:Arial, Helvetica, sans-serif;font-size:14px;line-height:19.0px;font-weight:normal;max-height:2.2em;*height:2.2em;color:black;text-decoration:none;}.alternating-thumbnails-a .trc_rbox_div{width:auto;_width:99%;height:410px;border-width:0;padding:0;}.alternating-thumbnails-a .videoCube .video-duration{left:36px;display:none;}.alternating-thumbnails-a .videoCube .video-label-box{margin-left:;margin-right:;}.alternating-thumbnails-a .video-label,.alternating-thumbnails-a .sponsored,.alternating-thumbnails-a .sponsored-url{font-family:'Apple SD Gothic Neo','Malgun Gothic','\\b9d1 \\c740  \\ace0 \\b515 ','Noto Sans',Dotum,\\b3cb \\c6c0 ,sans-serif;}.alternating-thumbnails-a .trc_rbox_header{font-family:'Apple SD Gothic Neo','Malgun Gothic','\\b9d1 \\c740  \\ace0 \\b515 ','Noto Sans',Dotum,\\b3cb \\c6c0 ,sans-serif;font-size:15.0px;font-weight:700;text-decoration:none;color:#3c3e40;border-width:0;background:transparent;border-style:none;border-color:#D6D5D3;padding:5px 0px 19px 0px;line-height:22px;display:block;margin:0px 0px 0px 0px;position:relative;background-color:transparent;box-sizing:initial;height:;width:auto;_width:auto;}.alternating-thumbnails-a .sponsored-url{font-size:9px;font-weight:bold;text-decoration:underline;color:green;}.alternating-thumbnails-a .sponsored{font-size:9px;font-weight:normal;text-decoration:none;color:#9C9A9C;}.alternating-thumbnails-a .video-category{font-size:10px;font-weight:normal;text-decoration:none;color:black;}.alternating-thumbnails-a .video-duration-detail{font-size:10px;font-weight:normal;text-decoration:none;color:black;}.alternating-thumbnails-a .video-rating{font-size:10px;font-weight:normal;text-decoration:none;color:black;}.alternating-thumbnails-a .video-uploader{font-size:10px;font-weight:normal;text-decoration:none;color:black;}.alternating-thumbnails-a .video-views{font-size:10px;font-weight:normal;text-decoration:none;color:black;}.alternating-thumbnails-a .video-published-date{font-size:10px;font-weight:normal;text-decoration:none;color:black;display:inherit;}.alternating-thumbnails-a .sponsored-default .video-title{max-height:2.58em;*height:2.58em;}.alternating-thumbnails-a .sponsored-default .video-description{max-height:2.2em;*height:2.2em;}.alternating-thumbnails-a .videoCube{width:auto;_width:auto;background-color:transparent;border-width:0px 0px 0px 0px;border-color:#E4E4E4;padding:0px 0px 0px 0px;height:auto;margin-left:0px;margin-top:0px;border-radius:0px;-moz-border-radius:0px;-webkit-border-radius:0px;border-style:SOLID;}.alternating-thumbnails-a div.videoCube:hover,.alternating-thumbnails-a  div.videoCube_hover{background-color:transparent;}.alternating-thumbnails-a .sponsored-default{background-color:#F7F6C6;}.alternating-thumbnails-a div.sponsored-default:hover,.alternating-thumbnails-a  div.sponsored-default.videoCube_hover{background-color:inherit;}.alternating-thumbnails-a .videoCube .thumbnail-overlay{background-image:null;background-position:5% 5%;}.alternating-thumbnails-a .videoCube:hover .thumbnail-overlay,.alternating-thumbnails-a  .videoCube_hover .thumbnail-overlay{background-image:null;}.alternating-thumbnails-a .trc_rbox_border_elm{border-color:darkgray;}.alternating-thumbnails-a .videoCube .thumbBlock{border-width:0px;border-color:darkgray;border-radius:;-moz-border-radius:;-webkit-border-radius:;}.alternating-thumbnails-a div.videoCube:hover .thumbBlock{border-color:inherit;}.alternating-thumbnails-a .pager_enabled{color:#0056b3;}.alternating-thumbnails-a .trc_pager_counter{color:#000000;}.alternating-thumbnails-a .pager_disabled{color:#7d898f;}.alternating-thumbnails-a .trc_pager_prev:hover,.alternating-thumbnails-a  .trc_pager_next:hover{color:#6497ED;}.alternating-thumbnails-a .trc_pager_selected{color:#0056b3;}.alternating-thumbnails-a .trc_pager_unselected{color:#7d898f;}.alternating-thumbnails-a div.trc_pager_pages div:hover{color:#6497ED;}.alternating-thumbnails-a .trc_lightbox_overlay{background-color:#000000;opacity:0.70;filter:alpha(opacity=70);}.alternating-thumbnails-a .video-label-box{text-align:left;height:58px;margin:10px 0px 0px 0px;padding:;}.alternating-thumbnails-a .trc_sponsored_overlay{background-color:black;}.alternating-thumbnails-a .thumbnail-emblem{background-position:5% 5%;width:35;_width:35;height:35;}.alternating-thumbnails-a .videoCube .sponsored{margin-top:-7px;}.alternating-thumbnails-a {width:300px;_width:300px;border-width:0px 0px 0px 0px;border-style:solid solid solid solid;border-color:#DFDFDF;padding:0px 0px 0px 0px;border-radius:0;-moz-border-radius:0;-webkit-border-radius:0;box-shadow:none;}.alternating-thumbnails-a .videoCube.vertical{border-style:solid none none none;}.alternating-thumbnails-a .videoCube.horizontal{border-style:none;}.alternating-thumbnails-a .trc_pager_prev,.alternating-thumbnails-a .trc_pager_next{font-size:12px;font-weight:normal;text-decoration:none;}.alternating-thumbnails-a .trc_pager_pages div{font-size:12px;font-weight:normal;text-decoration:none;}.alternating-thumbnails-a .video-external-data{font-size:10px;font-weight:normal;text-decoration:none;color:black;}.alternating-thumbnails-a .trc_pager div{font-family:serif;}.alternating-thumbnails-a .playerCube .thumbnail-overlay{background-image:null;background-position:5% 5%;}.alternating-thumbnails-a .playerCube:hover .thumbnail-overlay,.alternating-thumbnails-a  .playerCube_hover .thumbnail-overlay{background-image:null;}.alternating-thumbnails-a .playerCube .videoCube{background-color:transparent;border-color:#D6D5D3;border-width:1px;border-radius:0px;-moz-border-radius:0px;-webkit-border-radius:0px;margin-left:0px;margin-top:0px;padding:3px;}.alternating-thumbnails-a .playerCube .videoCube.horizontal{border-style:none none none none;}.alternating-thumbnails-a .playerCube .videoCube .video-label-box{margin-left:81px;margin-right:0px;}.alternating-thumbnails-a .playerCube .video-duration-detail{font-size:10px;font-weight:normal;text-decoration:none;color:black;}.alternating-thumbnails-a .playerCube .video-external-data{font-size:10px;font-weight:normal;text-decoration:none;color:black;}.alternating-thumbnails-a .playerCube .video-label-box{text-align:left;}.alternating-thumbnails-a .playerCube .video-published-date{font-size:10px;font-weight:normal;text-decoration:none;color:black;}.alternating-thumbnails-a .playerCube .video-category{font-size:10px;font-weight:normal;text-decoration:none;color:black;}.alternating-thumbnails-a .playerCube .video-description{font-family:Arial, Helvetica, sans-serif;font-size:10px;line-height:11px;font-weight:normal;text-decoration:none;max-height:2.2em;*height:2.2em;color:black;}.alternating-thumbnails-a .playerCube .videoCube .video-duration{display:block;left:36px;}.alternating-thumbnails-a .playerCube .videoCube .thumbBlock{border-width:0px;border-color:darkgray;}.alternating-thumbnails-a .playerCube .video-rating{font-size:10px;font-weight:normal;text-decoration:none;color:black;}.alternating-thumbnails-a .playerCube .video-uploader{font-size:10px;font-weight:normal;text-decoration:none;color:black;}.alternating-thumbnails-a .playerCube .video-views{font-size:10px;font-weight:normal;text-decoration:none;color:black;}.alternating-thumbnails-a .playerCube .video-title{font-family:Arial, Helvetica, sans-serif;text-decoration:none;font-size:14px;line-height:17.5px;font-weight:bold;max-height:2.58em;*height:2.58em;color:black;}.alternating-thumbnails-a .playerCube div.videoCube:hover,.alternating-thumbnails-a  div.videoCube_hover{background-color:transparent;}.alternating-thumbnails-a .whatsThisSyndicated{font-family:Arial, Verdana, sans-serif;font-size:9px;font-weight:normal;color:black;text-decoration:none;padding:0;}.alternating-thumbnails-a div.syndicatedItem:hover,.alternating-thumbnails-a  div.syndicatedItem.videoCube_hover{background-color:transparent;}.alternating-thumbnails-a div.syndicatedItem:hover .thumbBlock{border-color:inherit;}.alternating-thumbnails-a .videoCube.syndicatedItem{background-color:transparent;border-color:#E4E4E4;border-radius:0px;-moz-border-radius:0px;-webkit-border-radius:0px;border-width:0px 0px 0px 0px;border-style:SOLID;margin:;}.alternating-thumbnails-a .videoCube.syndicatedItem.horizontal{border-style:none;}.alternating-thumbnails-a .videoCube.syndicatedItem .thumbBlock{border-color:darkgray;border-width:0px;border-radius:;-moz-border-radius:;-webkit-border-radius:;}.alternating-thumbnails-a .videoCube.syndicatedItem .thumbnail-overlay{background-image:null;background-position:5% 5%;}.alternating-thumbnails-a .videoCube.syndicatedItem.vertical{border-style:solid none none none;}.alternating-thumbnails-a .videoCube.syndicatedItem .video-duration{display:none;left:36px;}.alternating-thumbnails-a .videoCube.syndicatedItem .video-label-box{margin-left:;}.alternating-thumbnails-a .syndicatedItem{background-color:transparent;}.alternating-thumbnails-a .syndicatedItem .video-description{max-height:2.2em;*height:2.2em;color:black;font-family:Arial, Helvetica, sans-serif;font-size:14px;font-weight:normal;line-height:19.0px;text-decoration:none;}.alternating-thumbnails-a .syndicatedItem .video-title{max-height:2.7em;*height:2.7em;color:#241815;font-family:'Apple SD Gothic Neo','Malgun Gothic','\\b9d1 \\c740  \\ace0 \\b515 ','Noto Sans',Dotum,\\b3cb \\c6c0 ,sans-serif!important;font-size:15.0px;line-height:1.35em;font-weight:normal;text-decoration:none;}.alternating-thumbnails-a .syndicatedItem .sponsored{color:#9C9A9C;font-size:9px;font-weight:normal;text-decoration:none;}.alternating-thumbnails-a .syndicatedItem .sponsored-url{color:green;font-size:9px;font-weight:bold;text-decoration:underline;}.alternating-thumbnails-a .syndicatedItem .video-category{color:black;font-size:10px;font-weight:normal;text-decoration:none;}.alternating-thumbnails-a .syndicatedItem .video-duration-detail{color:black;font-size:10px;font-weight:normal;text-decoration:none;}.alternating-thumbnails-a .syndicatedItem .video-external-data{color:black;font-size:10px;font-weight:normal;text-decoration:none;}.alternating-thumbnails-a .syndicatedItem .video-published-date{color:black;font-size:10px;font-weight:normal;text-decoration:none;display:inherit;}.alternating-thumbnails-a .syndicatedItem .video-rating{color:black;font-size:10px;font-weight:normal;text-decoration:none;}.alternating-thumbnails-a .syndicatedItem .video-uploader{color:black;font-size:10px;font-weight:normal;text-decoration:none;}.alternating-thumbnails-a .syndicatedItem .video-views{color:black;font-size:10px;font-weight:normal;text-decoration:none;}.alternating-thumbnails-a .syndicatedItem .branding{color:#999999;font-size:11.0px;font-weight:bold;text-decoration:none;font-family:'Apple SD Gothic Neo','Malgun Gothic','\\b9d1 \\c740  \\ace0 \\b515 ','Noto Sans',Dotum,\\b3cb \\c6c0 ,sans-serif!important;background-image:null;text-align:left;line-height:22.0px;display:;white-space:;text-overflow:;overflow:;text-transform:;padding:;}.alternating-thumbnails-a .videoCube.syndicatedItem .thumbBlock .branding{text-align:left;background-color:transparent;display:none;left:0px;color:black;font-size:10px;font-weight:normal;text-decoration:none;font-family:Arial, Helvetica, sans-serif;background-image:null;}.alternating-thumbnails-a .videoCube.syndicatedItem .thumbBlock .static-text{text-align:left;background-color:black;display:none;color:white;font-size:10px;font-weight:normal;text-decoration:none;font-family:Arial, Helvetica, sans-serif;}.alternating-thumbnails-a .videoCube.thumbnail_start .thumbBlock_holder{width:40%;_width:40%;margin:;}.alternating-thumbnails-a .trc_rbox_header_icon_img{margin:0px;height:18px;}.alternating-thumbnails-a .video-icon-img{margin:0px;height:18px;}.alternating-thumbnails-a .video-label-box.trc-pre-label{height:0px;}.alternating-thumbnails-a .syndicatedItem .video-label-box.trc-pre-label{height:0px;}.alternating-thumbnails-a .videoCube.thumbnail_start .trc-pre-label{width:60%;_width:60%;}.alternating-thumbnails-a .videoCube.thumbnail_start.trc-split-label .trc-main-label{width:30%;_width:30%;}.alternating-thumbnails-a .videoCube.thumbnail_start.trc-split-label .trc-pre-label{width:30%;_width:30%;}.alternating-thumbnails-a .videoCube .video-label-box.trc-pre-label{margin:0px 0px 5px 0px;}.alternating-thumbnails-a .branding{color:#999999;font-size:11.0px;font-weight:bold;text-decoration:none;font-family:'Apple SD Gothic Neo','Malgun Gothic','\\b9d1 \\c740  \\ace0 \\b515 ','Noto Sans',Dotum,\\b3cb \\c6c0 ,sans-serif!important;background-image:null;text-align:left;}.alternating-thumbnails-a .branding .logoDiv a span{color:inherit;font-size:inherit;font-weight:;}.alternating-thumbnails-a .branding div.logoDiv{font-family:inherit;}.alternating-thumbnails-a .videoCube .thumbBlock .static-text{font-weight:normal;font-family:Arial, Helvetica, sans-serif;text-decoration:none;font-size:11px;background-color:#a30202;display:block;color:#ffffff;text-align:left;}.alternating-thumbnails-a .videoCube.thumbnail_under .tbl-text-over{background:;}.alternating-thumbnails-a .syndicatedItem .video-label-box{height:58px;margin:10px 0px 0px 0px;padding:;}.alternating-thumbnails-a .video-label-box .branding{font-size:;line-height:22.0px;display:block;color:;font-weight:;font-family:;padding:;text-transform:;}.alternating-thumbnails-a .logoDiv a span{font-size:11.0px;color:#000000;display:inline;font-weight:normal;font-family:;}.alternating-thumbnails-a .tbl-cta-style .cta-button{font-family:Helvetica, Arial, sans-serif;background-color:transparent;border-color:#999990;color:#333333;}.alternating-thumbnails-a .tbl-cta-style .cta-button:hover{color:inherit;border-color:#999990;}.alternating-thumbnails-a .videoCube .video-label-box .video-title{font-size:;-webkit-line-clamp:;text-decoration:none;font-family:;padding:;margin:;font-weight:;line-height:;letter-spacing:;max-height:;*height:;color:;}.alternating-thumbnails-a .videoCube:hover .video-label-box .video-title{text-decoration:underline;color:;}.alternating-thumbnails-a .videoCube:hover .video-label-box .video-description{text-decoration:underline;color:;}.alternating-thumbnails-a .trc_header_left_column{width:48%;_width:48%;}.alternating-thumbnails-a .trc_rbox_header .trc_header_ext{position:relative;}.alternating-thumbnails-a .thumbBlock_holder{width:;_width:;}.alternating-thumbnails-a .logoDiv a{font-size:100%;}.alternating-thumbnails-a .videoCube .video-label-box .video-description{padding:;margin:;}.alternating-thumbnails-a .videoCube a{padding:0;}.rbox-blended .video-title{font-family:Arial, Helvetica, sans-serif;font-size:14px;line-height:17.5px;font-weight:bold;max-height:2.58em;*height:2.58em;color:black;text-decoration:none;}.rbox-blended .video-description{font-family:Arial, Helvetica, sans-serif;font-size:10px;line-height:11px;font-weight:normal;max-height:2.2em;*height:2.2em;color:black;text-decoration:none;}.rbox-blended .trc_rbox_div{width:auto;_width:99%;height:410px;border-width:1px;padding:0;}.rbox-blended .videoCube .video-duration{left:36px;display:block;}.rbox-blended .videoCube .video-label-box{margin-left:81px;margin-right:0px;}.rbox-blended .video-label,.rbox-blended .sponsored,.rbox-blended .sponsored-url{font-family:Arial, Helvetica, sans-serif;}.rbox-blended .trc_rbox_header{font-family:Arial, Helvetica, sans-serif;font-size:16px;font-weight:bold;text-decoration:none;color:black;border-width:0;background:transparent;border-style:none none solid none;border-color:#D6D5D3;padding:0;line-height:;display:;margin:;position:;background-color:;box-sizing:;height:;width:;_width:;}.rbox-blended .sponsored-url{font-size:9px;font-weight:bold;text-decoration:underline;color:green;}.rbox-blended .sponsored{font-size:9px;font-weight:normal;text-decoration:none;color:#9C9A9C;}.rbox-blended .video-category{font-size:10px;font-weight:normal;text-decoration:none;color:black;}.rbox-blended .video-duration-detail{font-size:10px;font-weight:normal;text-decoration:none;color:black;}.rbox-blended .video-rating{font-size:10px;font-weight:normal;text-decoration:none;color:black;}.rbox-blended .video-uploader{font-size:10px;font-weight:normal;text-decoration:none;color:black;}.rbox-blended .video-views{font-size:10px;font-weight:normal;text-decoration:none;color:black;}.rbox-blended .video-published-date{font-size:10px;font-weight:normal;text-decoration:none;color:black;display:inherit;}.rbox-blended .sponsored-default .video-title{max-height:2.58em;*height:2.58em;}.rbox-blended .sponsored-default .video-description{max-height:2.2em;*height:2.2em;}.rbox-blended .videoCube{width:auto;_width:auto;background-color:transparent;border-width:1px;border-color:#D6D5D3;padding:3px;height:auto;margin-left:0px;margin-top:0px;border-radius:0px;-moz-border-radius:0px;-webkit-border-radius:0px;border-style:none;}.rbox-blended div.videoCube:hover,.rbox-blended  div.videoCube_hover{background-color:transparent;}.rbox-blended .sponsored-default{background-color:#F7F6C6;}.rbox-blended div.sponsored-default:hover,.rbox-blended  div.sponsored-default.videoCube_hover{background-color:inherit;}.rbox-blended .videoCube .thumbnail-overlay{background-image:null;background-position:5% 5%;}.rbox-blended .videoCube:hover .thumbnail-overlay,.rbox-blended  .videoCube_hover .thumbnail-overlay{background-image:null;}.rbox-blended .trc_rbox_border_elm{border-color:darkgray;}.rbox-blended .videoCube .thumbBlock{border-width:0px;border-color:darkgray;border-radius:;-moz-border-radius:;-webkit-border-radius:;}.rbox-blended div.videoCube:hover .thumbBlock{border-color:inherit;}.rbox-blended .pager_enabled{color:#0056b3;}.rbox-blended .trc_pager_counter{color:#000000;}.rbox-blended .pager_disabled{color:#7d898f;}.rbox-blended .trc_pager_prev:hover,.rbox-blended  .trc_pager_next:hover{color:#6497ED;}.rbox-blended .trc_pager_selected{color:#0056b3;}.rbox-blended .trc_pager_unselected{color:#7d898f;}.rbox-blended div.trc_pager_pages div:hover{color:#6497ED;}.rbox-blended .trc_lightbox_overlay{background-color:#000000;opacity:0.70;filter:alpha(opacity=70);}.rbox-blended .video-label-box{text-align:left;height:;margin:;padding:;}.rbox-blended .trc_sponsored_overlay{background-color:black;}.rbox-blended .thumbnail-emblem{background-position:5% 5%;width:35;_width:35;height:35;}.rbox-blended .videoCube .sponsored{margin-top:-7px;}.rbox-blended {width:300px;_width:300px;border-width:0px;border-style:solid solid solid solid;border-color:#000000;padding:0;border-radius:0;-moz-border-radius:0;-webkit-border-radius:0;box-shadow:none;}.rbox-blended .videoCube.vertical{border-style:solid none none none;}.rbox-blended .videoCube.horizontal{border-style:none none none solid;}.rbox-blended .trc_pager_prev,.rbox-blended .trc_pager_next{font-size:12px;font-weight:normal;text-decoration:none;}.rbox-blended .trc_pager_pages div{font-size:12px;font-weight:normal;text-decoration:none;}.rbox-blended .video-external-data{font-size:10px;font-weight:normal;text-decoration:none;color:black;}.rbox-blended .trc_pager div{font-family:serif;}.rbox-blended .playerCube .thumbnail-overlay{background-image:null;background-position:5% 5%;}.rbox-blended .playerCube:hover .thumbnail-overlay,.rbox-blended  .playerCube_hover .thumbnail-overlay{background-image:null;}.rbox-blended .playerCube .videoCube{background-color:transparent;border-color:#D6D5D3;border-width:1px;border-radius:0px;-moz-border-radius:0px;-webkit-border-radius:0px;margin-left:0px;margin-top:0px;padding:3px;}.rbox-blended .playerCube .videoCube.horizontal{border-style:none none none none;}.rbox-blended .playerCube .videoCube .video-label-box{margin-left:81px;margin-right:0px;}.rbox-blended .playerCube .video-duration-detail{font-size:10px;font-weight:normal;text-decoration:none;color:black;}.rbox-blended .playerCube .video-external-data{font-size:10px;font-weight:normal;text-decoration:none;color:black;}.rbox-blended .playerCube .video-label-box{text-align:left;}.rbox-blended .playerCube .video-published-date{font-size:10px;font-weight:normal;text-decoration:none;color:black;}.rbox-blended .playerCube .video-category{font-size:10px;font-weight:normal;text-decoration:none;color:black;}.rbox-blended .playerCube .video-description{font-family:Arial, Helvetica, sans-serif;font-size:10px;line-height:11px;font-weight:normal;text-decoration:none;max-height:2.2em;*height:2.2em;color:black;}.rbox-blended .playerCube .videoCube .video-duration{display:block;left:36px;}.rbox-blended .playerCube .videoCube .thumbBlock{border-width:0px;border-color:darkgray;}.rbox-blended .playerCube .video-rating{font-size:10px;font-weight:normal;text-decoration:none;color:black;}.rbox-blended .playerCube .video-uploader{font-size:10px;font-weight:normal;text-decoration:none;color:black;}.rbox-blended .playerCube .video-views{font-size:10px;font-weight:normal;text-decoration:none;color:black;}.rbox-blended .playerCube .video-title{font-family:Arial, Helvetica, sans-serif;text-decoration:none;font-size:14px;line-height:17.5px;font-weight:bold;max-height:2.58em;*height:2.58em;color:black;}.rbox-blended .playerCube div.videoCube:hover,.rbox-blended  div.videoCube_hover{background-color:transparent;}.rbox-blended .whatsThisSyndicated{font-family:Arial, Verdana, sans-serif;font-size:9px;font-weight:normal;color:black;text-decoration:none;padding:0;}.rbox-blended div.syndicatedItem:hover,.rbox-blended  div.syndicatedItem.videoCube_hover{background-color:transparent;}.rbox-blended div.syndicatedItem:hover .thumbBlock{border-color:inherit;}.rbox-blended .videoCube.syndicatedItem{background-color:transparent;border-color:#D6D5D3;border-radius:0px;-moz-border-radius:0px;-webkit-border-radius:0px;border-width:1px;border-style:none;margin:;}.rbox-blended .videoCube.syndicatedItem.horizontal{border-style:none none none solid;}.rbox-blended .videoCube.syndicatedItem .thumbBlock{border-color:darkgray;border-width:0px;border-radius:;-moz-border-radius:;-webkit-border-radius:;}.rbox-blended .videoCube.syndicatedItem .thumbnail-overlay{background-image:null;background-position:5% 5%;}.rbox-blended .videoCube.syndicatedItem.vertical{border-style:solid none none none;}.rbox-blended .videoCube.syndicatedItem .video-duration{display:block;left:36px;}.rbox-blended .videoCube.syndicatedItem .video-label-box{margin-left:0px;}.rbox-blended .syndicatedItem{background-color:transparent;}.rbox-blended .syndicatedItem .video-description{max-height:2.2em;*height:2.2em;color:black;font-family:Arial, Helvetica, sans-serif;font-size:10px;font-weight:normal;line-height:11px;text-decoration:none;}.rbox-blended .syndicatedItem .video-title{max-height:2.58em;*height:2.58em;color:black;font-family:Arial, Helvetica, sans-serif;font-size:14px;line-height:17.5px;font-weight:bold;text-decoration:none;}.rbox-blended .syndicatedItem .sponsored{color:#9C9A9C;font-size:9px;font-weight:normal;text-decoration:none;}.rbox-blended .syndicatedItem .sponsored-url{color:green;font-size:9px;font-weight:bold;text-decoration:underline;}.rbox-blended .syndicatedItem .video-category{color:black;font-size:10px;font-weight:normal;text-decoration:none;}.rbox-blended .syndicatedItem .video-duration-detail{color:black;font-size:10px;font-weight:normal;text-decoration:none;}.rbox-blended .syndicatedItem .video-external-data{color:black;font-size:10px;font-weight:normal;text-decoration:none;}.rbox-blended .syndicatedItem .video-published-date{color:black;font-size:10px;font-weight:normal;text-decoration:none;display:inherit;}.rbox-blended .syndicatedItem .video-rating{color:black;font-size:10px;font-weight:normal;text-decoration:none;}.rbox-blended .syndicatedItem .video-uploader{color:black;font-size:10px;font-weight:normal;text-decoration:none;}.rbox-blended .syndicatedItem .video-views{color:black;font-size:10px;font-weight:normal;text-decoration:none;}.rbox-blended .syndicatedItem .branding{color:black;font-size:10px;font-weight:normal;text-decoration:none;font-family:Arial, Helvetica, sans-serif;background-image:null;text-align:left;line-height:;display:;white-space:;text-overflow:;overflow:;text-transform:;padding:;}.rbox-blended .videoCube.syndicatedItem .thumbBlock .branding{text-align:left;background-color:transparent;display:block;left:0px;color:black;font-size:10px;font-weight:normal;text-decoration:none;font-family:Arial, Helvetica, sans-serif;background-image:null;}.rbox-blended .videoCube.syndicatedItem .thumbBlock .static-text{text-align:left;background-color:black;display:block;color:white;font-size:10px;font-weight:normal;text-decoration:none;font-family:Arial, Helvetica, sans-serif;}.rbox-blended .videoCube.thumbnail_start .thumbBlock_holder{width:40%;_width:40%;margin:;}.rbox-blended .trc_rbox_header_icon_img{margin:0px;height:18px;}.rbox-blended .video-icon-img{margin:0px;height:18px;}.rbox-blended .video-label-box.trc-pre-label{height:auto;}.rbox-blended .syndicatedItem .video-label-box.trc-pre-label{height:auto;}.rbox-blended .videoCube.thumbnail_start .trc-pre-label{width:60%;_width:60%;}.rbox-blended .videoCube.thumbnail_start.trc-split-label .trc-main-label{width:30%;_width:30%;}.rbox-blended .videoCube.thumbnail_start.trc-split-label .trc-pre-label{width:30%;_width:30%;}.rbox-blended .videoCube .video-label-box.trc-pre-label{margin:0;}.rbox-blended .branding{color:black;font-size:10px;font-weight:normal;text-decoration:none;font-family:Arial, Helvetica, sans-serif;background-image:null;text-align:left;}.rbox-blended .branding .logoDiv a span{color:inherit;font-size:inherit;font-weight:;}.rbox-blended .branding div.logoDiv{font-family:inherit;}.rbox-blended .videoCube .thumbBlock .static-text{font-weight:normal;font-family:Arial, Helvetica, sans-serif;text-decoration:none;font-size:11px;background-color:#a30202;display:block;color:#ffffff;text-align:left;}.rbox-blended .videoCube.thumbnail_under .tbl-text-over{background:;}.rbox-blended .syndicatedItem .video-label-box{height:;margin:;padding:;}.rbox-blended .video-label-box .branding{font-size:;line-height:;display:;color:;font-weight:;font-family:;padding:;text-transform:;}.rbox-blended .logoDiv a span{font-size:;color:;display:;font-weight:;font-family:;}.rbox-blended .tbl-cta-style .cta-button{font-family:Helvetica, Arial, sans-serif;background-color:transparent;border-color:#999990;color:#333333;}.rbox-blended .tbl-cta-style .cta-button:hover{color:inherit;border-color:#999990;}.rbox-blended .videoCube .video-label-box .video-title{font-size:;-webkit-line-clamp:;text-decoration:;font-family:;padding:;margin:;font-weight:;line-height:;letter-spacing:;max-height:;*height:;color:;}.rbox-blended .videoCube:hover .video-label-box .video-title{text-decoration:;color:;}.rbox-blended .videoCube:hover .video-label-box .video-description{text-decoration:;color:;}.rbox-blended .trc_header_left_column{width:;_width:;}.rbox-blended .trc_rbox_header .trc_header_ext{position:;}.rbox-blended .thumbBlock_holder{width:;_width:;}.rbox-blended .logoDiv a{font-size:;}.rbox-blended .videoCube .video-label-box .video-description{padding:;margin:;}.rbox-blended .videoCube a{padding:;}/* s-split-alternating-thumbnails-a */.alternating-thumbnails-a img {\n",
            "    max-width: none;\n",
            "}\n",
            "/* override bootstrap default span definitions */\n",
            ".alternating-thumbnails-a [class*=span] {\n",
            "    float:none;\n",
            "    margin-left:0;\n",
            "}\n",
            ".alternating-thumbnails-a .trc_rbox_header_span .trc_header_right_column {\n",
            "    display: none;\n",
            "\tbackground: transparent;\n",
            "\theight: auto;\n",
            "}\n",
            ".alternating-thumbnails-a .trc_rbox_header .logoDiv {\n",
            "    font-size: inherit;\n",
            "    line-height: normal;\n",
            "\t\tpadding-top: 5px;\n",
            "}\n",
            ".alternating-thumbnails-a .thumbBlock {\n",
            "    margin: 0;\n",
            "}\n",
            ".alternating-thumbnails-a .videoCube .video-label-box .video-title {\n",
            "    margin: 0;\n",
            "}\n",
            ".alternating-thumbnails-a .trc_header_left_column {\n",
            "\tdisplay: inline-block;\n",
            "\tbackground: transparent;\n",
            "\theight: auto;\n",
            "}\n",
            "\n",
            ".alternating-thumbnails-a .trc_header_right_part {\n",
            "\tmargin-top: 0px;\n",
            "}\n",
            "\n",
            ".alternating-thumbnails-a .trc_rbox_header .trc_header_ext {\n",
            "\ttop: auto;\n",
            "\tright: auto;\n",
            "}\n",
            "\n",
            ".alternating-thumbnails-a .trc_rbox_header .logoDiv a span:before {\n",
            "    content: 'by ';\n",
            "    color: #BABABA;\n",
            "\t\tfont-weight: normal;\n",
            "}\n",
            "\n",
            ".alternating-thumbnails-a .trc_rbox_header .logoDiv a span {\n",
            "    font-family: 'Arial';\n",
            "\t\tfont-weight: bold;\t\n",
            "    font-size: 12px;\n",
            "    color: #9B9B9B;\n",
            "}\n",
            "\n",
            ".alternating-thumbnails-a .videoCube {\n",
            "\t\tmargin: 0 0 9px 0 !important;\n",
            "\t\tmargin-left: 11px !important;\n",
            "\t\twidth: 206px !important;\n",
            "}\n",
            "\n",
            ".alternating-thumbnails-a .thumbBlock_holder {\n",
            "\t\theight: 137px;\n",
            "}\n",
            "\n",
            ".alternating-thumbnails-a .videoCube.videoCube_1_child, .alternating-thumbnails-a .videoCube.videoCube_4_child {\n",
            "\t\tmargin-left: 12px !important;\n",
            "}\n",
            "/* e-split-alternating-thumbnails-a */</style><link href=\"./aa77_files/article_cmt(1).css\" rel=\"stylesheet\" type=\"text/css\"/><style data-fbcssmodules=\"css:fb.css.basecss:fb.css.dialog css:fb.css.iframewidget\" type=\"text/css\">.fb_hidden{position:absolute;top:-10000px;z-index:10001}.fb_reposition{overflow:hidden;position:relative}.fb_invisible{display:none}.fb_reset{background:none;border:0;border-spacing:0;color:#000;cursor:auto;direction:ltr;font-family:\"lucida grande\", tahoma, verdana, arial, sans-serif;font-size:11px;font-style:normal;font-variant:normal;font-weight:normal;letter-spacing:normal;line-height:1;margin:0;overflow:visible;padding:0;text-align:left;text-decoration:none;text-indent:0;text-shadow:none;text-transform:none;visibility:visible;white-space:normal;word-spacing:normal}.fb_reset>div{overflow:hidden}@keyframes fb_transform{from{opacity:0;transform:scale(.95)}to{opacity:1;transform:scale(1)}}.fb_animate{animation:fb_transform .3s forwards}\n",
            ".fb_dialog{background:rgba(82, 82, 82, .7);position:absolute;top:-10000px;z-index:10001}.fb_dialog_advanced{border-radius:8px;padding:10px}.fb_dialog_content{background:#fff;color:#373737}.fb_dialog_close_icon{background:url(https://z-p3-static.xx.fbcdn.net/rsrc.php/v3/yq/r/IE9JII6Z1Ys.png) no-repeat scroll 0 0 transparent;cursor:pointer;display:block;height:15px;position:absolute;right:18px;top:17px;width:15px}.fb_dialog_mobile .fb_dialog_close_icon{left:5px;right:auto;top:5px}.fb_dialog_padding{background-color:transparent;position:absolute;width:1px;z-index:-1}.fb_dialog_close_icon:hover{background:url(https://z-p3-static.xx.fbcdn.net/rsrc.php/v3/yq/r/IE9JII6Z1Ys.png) no-repeat scroll 0 -15px transparent}.fb_dialog_close_icon:active{background:url(https://z-p3-static.xx.fbcdn.net/rsrc.php/v3/yq/r/IE9JII6Z1Ys.png) no-repeat scroll 0 -30px transparent}.fb_dialog_iframe{line-height:0}.fb_dialog_content .dialog_title{background:#6d84b4;border:1px solid #365899;color:#fff;font-size:14px;font-weight:bold;margin:0}.fb_dialog_content .dialog_title>span{background:url(https://z-p3-static.xx.fbcdn.net/rsrc.php/v3/yd/r/Cou7n-nqK52.gif) no-repeat 5px 50%;float:left;padding:5px 0 7px 26px}body.fb_hidden{height:100%;left:0;margin:0;overflow:visible;position:absolute;top:-10000px;transform:none;width:100%}.fb_dialog.fb_dialog_mobile.loading{background:url(https://z-p3-static.xx.fbcdn.net/rsrc.php/v3/ya/r/3rhSv5V8j3o.gif) white no-repeat 50% 50%;min-height:100%;min-width:100%;overflow:hidden;position:absolute;top:0;z-index:10001}.fb_dialog.fb_dialog_mobile.loading.centered{background:none;height:auto;min-height:initial;min-width:initial;width:auto}.fb_dialog.fb_dialog_mobile.loading.centered #fb_dialog_loader_spinner{width:100%}.fb_dialog.fb_dialog_mobile.loading.centered .fb_dialog_content{background:none}.loading.centered #fb_dialog_loader_close{clear:both;color:#fff;display:block;font-size:18px;padding-top:20px}#fb-root #fb_dialog_ipad_overlay{background:rgba(0, 0, 0, .4);bottom:0;left:0;min-height:100%;position:absolute;right:0;top:0;width:100%;z-index:10000}#fb-root #fb_dialog_ipad_overlay.hidden{display:none}.fb_dialog.fb_dialog_mobile.loading iframe{visibility:hidden}.fb_dialog_mobile .fb_dialog_iframe{position:sticky;top:0}.fb_dialog_content .dialog_header{background:linear-gradient(from(#738aba), to(#2c4987));border-bottom:1px solid;border-color:#043b87;box-shadow:white 0 1px 1px -1px inset;color:#fff;font:bold 14px Helvetica, sans-serif;text-overflow:ellipsis;text-shadow:rgba(0, 30, 84, .296875) 0 -1px 0;vertical-align:middle;white-space:nowrap}.fb_dialog_content .dialog_header table{height:43px;width:100%}.fb_dialog_content .dialog_header td.header_left{font-size:12px;padding-left:5px;vertical-align:middle;width:60px}.fb_dialog_content .dialog_header td.header_right{font-size:12px;padding-right:5px;vertical-align:middle;width:60px}.fb_dialog_content .touchable_button{background:linear-gradient(from(#4267B2), to(#2a4887));background-clip:padding-box;border:1px solid #29487d;border-radius:3px;display:inline-block;line-height:18px;margin-top:3px;max-width:85px;padding:4px 12px;position:relative}.fb_dialog_content .dialog_header .touchable_button input{background:none;border:none;color:#fff;font:bold 12px Helvetica, sans-serif;margin:2px -12px;padding:2px 6px 3px 6px;text-shadow:rgba(0, 30, 84, .296875) 0 -1px 0}.fb_dialog_content .dialog_header .header_center{color:#fff;font-size:16px;font-weight:bold;line-height:18px;text-align:center;vertical-align:middle}.fb_dialog_content .dialog_content{background:url(https://z-p3-static.xx.fbcdn.net/rsrc.php/v3/y9/r/jKEcVPZFk-2.gif) no-repeat 50% 50%;border:1px solid #4a4a4a;border-bottom:0;border-top:0;height:150px}.fb_dialog_content .dialog_footer{background:#f5f6f7;border:1px solid #4a4a4a;border-top-color:#ccc;height:40px}#fb_dialog_loader_close{float:left}.fb_dialog.fb_dialog_mobile .fb_dialog_close_icon{visibility:hidden}#fb_dialog_loader_spinner{animation:rotateSpinner 1.2s linear infinite;background-color:transparent;background-image:url(https://z-p3-static.xx.fbcdn.net/rsrc.php/v3/yD/r/t-wz8gw1xG1.png);background-position:50% 50%;background-repeat:no-repeat;height:24px;width:24px}@keyframes rotateSpinner{0%{transform:rotate(0deg)}100%{transform:rotate(360deg)}}\n",
            ".fb_iframe_widget{display:inline-block;position:relative}.fb_iframe_widget span{display:inline-block;position:relative;text-align:justify}.fb_iframe_widget iframe{position:absolute}.fb_iframe_widget_fluid_desktop,.fb_iframe_widget_fluid_desktop span,.fb_iframe_widget_fluid_desktop iframe{max-width:100%}.fb_iframe_widget_fluid_desktop iframe{min-width:220px;position:relative}.fb_iframe_widget_lift{z-index:1}.fb_iframe_widget_fluid{display:inline}.fb_iframe_widget_fluid span{width:100%}</style></head>\n",
            "<body class=\"aside_on\">\n",
            "<input type=\"hidden\" value=\"\"/>\n",
            "<!-- preLoad Image -->\n",
            "<img alt=\"preLoad Image\" class=\"preload\" src=\"./aa77_files/k_nav_full_menu.png\"/>\n",
            "<img alt=\"preLoad Image\" class=\"preload\" src=\"./aa77_files/k_nav_cover.png\"/>\n",
            "<!-- skip navigation -->\n",
            "<div class=\"joongang_skip\">\n",
            "<dl>\n",
            "<dd><a href=\"https://news.joins.com/article/23927220#searchArea\"><span>검색 바로가기</span></a></dd>\n",
            "<dd><a href=\"https://news.joins.com/article/23927220#gnb_menu\"><span>주메뉴 바로가기</span></a></dd>\n",
            "<dd><a href=\"https://news.joins.com/article/23927220#content\"><span>주요 기사 바로가기</span></a></dd>\n",
            "<dd><a href=\"https://news.joins.com/article/23927220#sub\"><span>다른 기사, 광고영역 바로가기</span></a></dd>\n",
            "<dd><a href=\"https://news.joins.com/article/23927220#footAllService\"><span>중앙일보 사이트맵 바로가기</span></a></dd>\n",
            "</dl>\n",
            "</div>\n",
            "<!-- //skip navigation -->\n",
            "<!-- 광고 728x90 -->\n",
            "<div class=\"container_fluid premium_richmedia ad_top\">\n",
            "<div class=\"ad_728_90 ad\" id=\"articeltopbanner\"><div class=\"bd\"><div id=\"imp_ad_shoppingbox_496\"><script data-id=\"z0N7sbzPSqeI4B0jmOZeVA\" name=\"joongang_p/article/article@article_top_network_728x90?mlink=104\" src=\"./aa77_files/persona.js.다운로드\" type=\"text/javascript\"></script><script src=\"./aa77_files/4bt_4p_aYZLeHvg3WpShADF3fTGj0K7NQ8MZjbfpq1uEAM4qWzAZAbZDSXNVZUJ6V1RkR3ppcktOd2hId2JBAstB1_YYvmTN-gPLQdf2GL5kzfo.js(1).다운로드\"></script><div id=\"z0N7sbzPSqeI4B0jmOZeVA\"><iframe frameborder=\"0\" height=\"90px\" leftmargin=\"0\" marginheight=\"0\" marginwidth=\"0\" name=\"mliframe\" scrolling=\"no\" src=\"./aa77_files/article@article_top_network_728x90.html\" topmargin=\"0\" width=\"728px\"></iframe></div></div></div><div class=\"ft\"><button type=\"button\">닫기</button></div></div>\n",
            "</div>\n",
            "<!-- //광고 728x90 -->\n",
            "<div class=\"doc\">\n",
            "<header class=\"header header_sub\">\n",
            "<div class=\"uh\">\n",
            "<div class=\"joongang_logo\">\n",
            "<a href=\"https://joongang.joins.com/?cloc=joongang-article-bi\"><h2>중앙일보</h2></a><!-- 아티클에서는 h2 -->\n",
            "</div>\n",
            "<nav class=\"float_left\">\n",
            "<a class=\"btn_navbar\" href=\"https://news.joins.com/article/23927220#none\"><i class=\"icon_navbar\">서비스 바로가기</i></a>\n",
            "<!-- 통합검색-->\n",
            "<div class=\"search_area\">\n",
            "<!-- search_on -->\n",
            "<a class=\"btn_search_area\" href=\"https://news.joins.com/article/23927220#layer_search_area\"><i class=\"icon_search\">검색</i></a>\n",
            "<div class=\"layer_search_area\" id=\"layer_search_area\" style=\"display: none;\" tabindex=\"0\">\n",
            "<button class=\"btn_close\" type=\"button\"><i class=\"icon_close\">닫기</i></button>\n",
            "<div class=\"inner\" id=\"searchArea\">\n",
            "<button class=\"btn_close\" type=\"button\"><i class=\"icon_close\">닫기</i></button>\n",
            "<div class=\"form_group\">\n",
            "<label class=\"sr_only\" for=\"searchKeyword\">검색어</label>\n",
            "<input class=\"form_text\" id=\"searchKeyword\" placeholder=\"검색어를 입력하세요\" type=\"text\" value=\"\"/>\n",
            "<button class=\"btn_search\" id=\"btnSearch\" type=\"submit\">검색</button>\n",
            "</div>\n",
            "<div class=\"autocomplete\" style=\"display:none\"><span class=\"func\"><a class=\"removeHistory\" href=\"https://news.joins.com/article/23927220#none\">기록삭제</a><a class=\"saving\" data-issaving=\"false\" href=\"https://news.joins.com/article/23927220#none\">검색어 저장 끄기</a></span></div></div>\n",
            "</div>\n",
            "</div>\n",
            "<!--// 통합검색-->\n",
            "<!-- main_section -->\n",
            "<div class=\"main_section\">\n",
            "<ul>\n",
            "<li>\n",
            "<a href=\"https://news.joins.com/opinion?cloc=joongang-article-gnb1\">\n",
            "<h2 class=\"headline\">오피니언</h2>\n",
            "</a>\n",
            "</li>\n",
            "<li>\n",
            "<a href=\"https://news.joins.com/politics?cloc=joongang-article-gnb2\">\n",
            "<h2 class=\"headline\">정치</h2>\n",
            "</a>\n",
            "</li>\n",
            "<li>\n",
            "<a href=\"https://news.joins.com/money?cloc=joongang-article-gnb3\">\n",
            "<h2 class=\"headline\">경제</h2>\n",
            "</a>\n",
            "</li>\n",
            "<li>\n",
            "<a href=\"https://news.joins.com/society?cloc=joongang-article-gnb4\">\n",
            "<h2 class=\"headline\">사회</h2>\n",
            "</a>\n",
            "</li>\n",
            "<li>\n",
            "<a href=\"https://news.joins.com/world?cloc=joongang-article-gnb5\">\n",
            "<h2 class=\"headline\">국제</h2>\n",
            "</a>\n",
            "</li>\n",
            "<li>\n",
            "<a href=\"https://news.joins.com/culture?cloc=joongang-article-gnb6\">\n",
            "<h2 class=\"headline\">문화</h2>\n",
            "</a>\n",
            "</li>\n",
            "<li>\n",
            "<a href=\"https://news.joins.com/sports?cloc=joongang-article-gnb7\">\n",
            "<h2 class=\"headline\">스포츠</h2>\n",
            "</a>\n",
            "</li>\n",
            "</ul>\n",
            "</div>\n",
            "<!-- //main_section -->\n",
            "</nav>\n",
            "<div class=\"float_right\">\n",
            "<span></span>\n",
            "<div class=\"family_site\">\n",
            "<a href=\"https://news.joins.com/article/23927220#layer_jmnet\">중앙그룹 브랜드</a>\n",
            "</div>\n",
            "<div class=\"share_button\">\n",
            "<a data-bind=\"btn\" data-id=\"23927220\" data-service=\"kakaotalk\" data-target=\"news\" href=\"https://news.joins.com/article/23927220#none\" target=\"_blank\" title=\"(새창) 카카오톡 공유\"><i class=\"icon_kakaotalk\">kakaotalk</i></a>\n",
            "<a data-bind=\"btn\" data-id=\"23927220\" data-service=\"facebook\" data-target=\"news\" href=\"https://news.joins.com/article/23927220#none\" target=\"_blank\" title=\"(새창) 페이스북 공유\"><i class=\"icon_facebook\">facebook</i></a>\n",
            "<a data-bind=\"btn\" data-id=\"23927220\" data-service=\"twitter\" data-target=\"news\" href=\"https://news.joins.com/article/23927220#none\" target=\"_blank\" title=\"(새창) 트위터 공유\"><i class=\"icon_twitter\">twitter</i></a>\n",
            "<a data-bind=\"btn\" data-id=\"23927220\" data-service=\"email\" data-target=\"news\" href=\"https://news.joins.com/article/23927220#none\" target=\"_blank\" title=\"(새창) 메일 공유\"><i class=\"icon_mail\">mail</i></a>\n",
            "</div>\n",
            "<div class=\"member\">\n",
            "<div class=\"login\">\n",
            "<a class=\"btn_login\" href=\"https://my.joins.com/login\">로그인</a>\n",
            "</div>\n",
            "</div>\n",
            "</div>\n",
            "</div>\n",
            "<div class=\"mh\">\n",
            "<div class=\"logo_service\">\n",
            "<h2 class=\"service\">\n",
            "<a href=\"https://news.joins.com/opinion?cloc=joongang-article-sectiontitle\" target=\"_self\">오피니언</a>\n",
            "</h2>\n",
            "</div>\n",
            "<!-- 서비스 메인메뉴 -->\n",
            "<nav class=\"lnb\" id=\"joonganglnb\">\n",
            "<strong class=\"hide\">오피니언 메인메뉴</strong>\n",
            "<ul>\n",
            "<li class=\"on\">\n",
            "<a href=\"https://news.joins.com/opinion/editorialcolumn/list?cloc=joongang-article-subsection\" target=\"_self\">\n",
            "<h2 class=\"headline\">\n",
            "\t\t\t\t\t\t\t\t사설칼럼\n",
            "\t\t\t\t\t\t\t\t</h2>\n",
            "</a>\n",
            "</li>\n",
            "<li class=\"\">\n",
            "<a href=\"https://news.joins.com/find/list?key=SatiricalCartoon&amp;cloc=joongang-article-subsection\" target=\"_self\">\n",
            "<h2 class=\"headline\">\n",
            "\t\t\t\t\t\t\t\t만평\n",
            "\t\t\t\t\t\t\t\t</h2>\n",
            "</a>\n",
            "</li>\n",
            "<li class=\"\">\n",
            "<a href=\"https://news.joins.com/opinion/debate_polllist?cloc=joongang-article-subsection\" target=\"_self\">\n",
            "<h2 class=\"headline\">\n",
            "\t\t\t\t\t\t\t\tHot Poll\n",
            "\t\t\t\t\t\t\t\t</h2>\n",
            "</a>\n",
            "</li>\n",
            "<li class=\"\">\n",
            "<a href=\"https://news.joins.com/find/list?key=eTextCenter&amp;cloc=joongang-article-subsection\" target=\"_self\">\n",
            "<h2 class=\"headline\">\n",
            "\t\t\t\t\t\t\t\te글중심\n",
            "\t\t\t\t\t\t\t\t</h2>\n",
            "</a>\n",
            "</li>\n",
            "</ul>\n",
            "</nav>\n",
            "<!-- //서비스 메인메뉴 -->\n",
            "</div>\n",
            "</header>\n",
            "<div class=\"mega_menu\" id=\"mega_menu\">\n",
            "<div class=\"hd\">\n",
            "<strong class=\"joongang_logo\">\n",
            "<a href=\"https://joongang.joins.com/?cloc=joongang-article-megabi\">중앙일보</a></strong>\n",
            "<a class=\"btn_close\" href=\"https://news.joins.com/article/23927220#mega_menu\">\n",
            "<i class=\"icon_close\">닫기</i>\n",
            "</a>\n",
            "</div>\n",
            "<div class=\"bd\">\n",
            "<ul class=\"depth1\">\n",
            "<li>\n",
            "<a href=\"https://news.joins.com/opinion?cloc=joongang-article-megatop\" target=\"_self\">\n",
            "<strong class=\"headline\">오피니언</strong>\n",
            "</a>\n",
            "<ul class=\"depth2\">\n",
            "<li>\n",
            "<a href=\"https://news.joins.com/opinion/editorialcolumn/list?cloc=joongang-article-megatop2depth\" target=\"_self\">\n",
            "<strong class=\"headline\">사설칼럼</strong>\n",
            "</a>\n",
            "</li>\n",
            "<li>\n",
            "<a href=\"https://news.joins.com/find/list?key=SatiricalCartoon&amp;cloc=joongang-article-megatop2depth\" target=\"_self\">\n",
            "<strong class=\"headline\">만평</strong>\n",
            "</a>\n",
            "</li>\n",
            "<li>\n",
            "<a href=\"https://news.joins.com/opinion/debate_polllist?cloc=joongang-article-megatop2depth\" target=\"_self\">\n",
            "<strong class=\"headline\">Hot Poll</strong>\n",
            "</a>\n",
            "</li>\n",
            "<li>\n",
            "<a href=\"https://news.joins.com/find/list?key=eTextCenter&amp;cloc=joongang-article-megatop2depth\" target=\"_self\">\n",
            "<strong class=\"headline\">e글중심</strong>\n",
            "</a>\n",
            "</li>\n",
            "</ul>\n",
            "</li>\n",
            "<li>\n",
            "<a href=\"https://news.joins.com/politics?cloc=joongang-article-megatop\" target=\"_self\">\n",
            "<strong class=\"headline\">정치</strong>\n",
            "</a>\n",
            "<ul class=\"depth2\">\n",
            "<li>\n",
            "<a href=\"https://news.joins.com/politics/assemgov/list?cloc=joongang-article-megatop2depth\" target=\"_self\">\n",
            "<strong class=\"headline\">국회정당</strong>\n",
            "</a>\n",
            "</li>\n",
            "<li>\n",
            "<a href=\"https://news.joins.com/politics/bluehouse/list?cloc=joongang-article-megatop2depth\" target=\"_self\">\n",
            "<strong class=\"headline\">청와대</strong>\n",
            "</a>\n",
            "</li>\n",
            "<li>\n",
            "<a href=\"https://news.joins.com/politics/diplomacy/list?cloc=joongang-article-megatop2depth\" target=\"_self\">\n",
            "<strong class=\"headline\">외교</strong>\n",
            "</a>\n",
            "</li>\n",
            "<li>\n",
            "<a href=\"https://news.joins.com/politics/nk/list?cloc=joongang-article-megatop2depth\" target=\"_self\">\n",
            "<strong class=\"headline\">국방</strong>\n",
            "</a>\n",
            "</li>\n",
            "<li>\n",
            "<a href=\"https://news.joins.com/politics/northkorea/list?cloc=joongang-article-megatop2depth\" target=\"_self\">\n",
            "<strong class=\"headline\">북한</strong>\n",
            "</a>\n",
            "</li>\n",
            "</ul>\n",
            "</li>\n",
            "<li>\n",
            "<a href=\"https://news.joins.com/money?cloc=joongang-article-megatop\" target=\"_self\">\n",
            "<strong class=\"headline\">경제</strong>\n",
            "</a>\n",
            "<ul class=\"depth2\">\n",
            "<li>\n",
            "<a href=\"https://news.joins.com/find/list?key=EconomicPolicy&amp;cloc=joongang-article-megatop2depth\" target=\"_self\">\n",
            "<strong class=\"headline\">경제정책</strong>\n",
            "</a>\n",
            "</li>\n",
            "<li>\n",
            "<a href=\"https://news.joins.com/money/indusrty/list?cloc=joongang-article-megatop2depth\" target=\"_self\">\n",
            "<strong class=\"headline\">산업</strong>\n",
            "</a>\n",
            "</li>\n",
            "<li>\n",
            "<a href=\"https://news.joins.com/money/finance/list?cloc=joongang-article-megatop2depth\" target=\"_self\">\n",
            "<strong class=\"headline\">금융증권</strong>\n",
            "</a>\n",
            "</li>\n",
            "<li>\n",
            "<a href=\"http://realestate.joins.com/?cloc=joongang-article-megatop2depth\" target=\"_self\">\n",
            "<strong class=\"headline\">부동산</strong>\n",
            "</a>\n",
            "</li>\n",
            "<li>\n",
            "<a href=\"https://news.joins.com/money/science/list?cloc=joongang-article-megatop2depth\" target=\"_self\">\n",
            "<strong class=\"headline\">과학미래</strong>\n",
            "</a>\n",
            "</li>\n",
            "<li>\n",
            "<a href=\"https://news.joins.com/money/globaleconomy/list?cloc=joongang-article-megatop2depth\" target=\"_self\">\n",
            "<strong class=\"headline\">글로벌경제</strong>\n",
            "</a>\n",
            "</li>\n",
            "<li>\n",
            "<a href=\"https://news.joins.com/money/labor/list?cloc=joongang-article-megatop2depth\" target=\"_self\">\n",
            "<strong class=\"headline\">고용노동</strong>\n",
            "</a>\n",
            "</li>\n",
            "<li>\n",
            "<a href=\"https://news.joins.com/money/gmoney/list?cloc=joongang-article-megatop2depth\" target=\"_self\">\n",
            "<strong class=\"headline\">글로벌머니</strong>\n",
            "</a>\n",
            "</li>\n",
            "</ul>\n",
            "</li>\n",
            "<li>\n",
            "<a href=\"https://news.joins.com/society?cloc=joongang-article-megatop\" target=\"_self\">\n",
            "<strong class=\"headline\">사회</strong>\n",
            "</a>\n",
            "<ul class=\"depth2\">\n",
            "<li>\n",
            "<a href=\"https://news.joins.com/society/law/list?cloc=joongang-article-megatop2depth\" target=\"_self\">\n",
            "<strong class=\"headline\">검찰·법원</strong>\n",
            "</a>\n",
            "</li>\n",
            "<li>\n",
            "<a href=\"https://news.joins.com/society/education/list?cloc=joongang-article-megatop2depth\" target=\"_self\">\n",
            "<strong class=\"headline\">교육</strong>\n",
            "</a>\n",
            "</li>\n",
            "<li>\n",
            "<a href=\"https://news.joins.com/society/accident/list?cloc=joongang-article-megatop2depth\" target=\"_self\">\n",
            "<strong class=\"headline\">사건사고</strong>\n",
            "</a>\n",
            "</li>\n",
            "<li>\n",
            "<a href=\"https://news.joins.com/society/welfare/list?cloc=joongang-article-megatop2depth\" target=\"_self\">\n",
            "<strong class=\"headline\">복지</strong>\n",
            "</a>\n",
            "</li>\n",
            "<li>\n",
            "<a href=\"https://news.joins.com/society/traffic/list?cloc=joongang-article-megatop2depth\" target=\"_self\">\n",
            "<strong class=\"headline\">교통</strong>\n",
            "</a>\n",
            "</li>\n",
            "<li>\n",
            "<a href=\"https://news.joins.com/society/environment/list?cloc=joongang-article-megatop2depth\" target=\"_self\">\n",
            "<strong class=\"headline\">환경</strong>\n",
            "</a>\n",
            "</li>\n",
            "<li>\n",
            "<a href=\"https://news.joins.com/society/region/list?cloc=joongang-article-megatop2depth\" target=\"_self\">\n",
            "<strong class=\"headline\">지역</strong>\n",
            "</a>\n",
            "</li>\n",
            "<li>\n",
            "<a href=\"https://news.joins.com/society/health/list?cloc=joongang-article-megatop2depth\" target=\"_self\">\n",
            "<strong class=\"headline\">건강</strong>\n",
            "</a>\n",
            "</li>\n",
            "</ul>\n",
            "</li>\n",
            "<li>\n",
            "<a href=\"https://news.joins.com/world?cloc=joongang-article-megatop\" target=\"_self\">\n",
            "<strong class=\"headline\">국제</strong>\n",
            "</a>\n",
            "<ul class=\"depth2\">\n",
            "<li>\n",
            "<a href=\"https://news.joins.com/world/northame/list?cloc=joongang-article-megatop2depth\" target=\"_self\">\n",
            "<strong class=\"headline\">미국</strong>\n",
            "</a>\n",
            "</li>\n",
            "<li>\n",
            "<a href=\"https://news.joins.com/world/china/list?cloc=joongang-article-megatop2depth\" target=\"_self\">\n",
            "<strong class=\"headline\">중국</strong>\n",
            "</a>\n",
            "</li>\n",
            "<li>\n",
            "<a href=\"https://news.joins.com/world/japan/list?cloc=joongang-article-megatop2depth\" target=\"_self\">\n",
            "<strong class=\"headline\">일본</strong>\n",
            "</a>\n",
            "</li>\n",
            "<li>\n",
            "<a href=\"https://news.joins.com/world/eu/list?cloc=joongang-article-megatop2depth\" target=\"_self\">\n",
            "<strong class=\"headline\">유럽</strong>\n",
            "</a>\n",
            "</li>\n",
            "<li>\n",
            "<a href=\"https://news.joins.com/world/etc/list?cloc=joongang-article-megatop2depth\" target=\"_self\">\n",
            "<strong class=\"headline\">기타</strong>\n",
            "</a>\n",
            "</li>\n",
            "<li>\n",
            "<a href=\"https://news.joins.com/world/topic/list?cloc=joongang-article-megatop2depth\" target=\"_self\">\n",
            "<strong class=\"headline\">토픽월드</strong>\n",
            "</a>\n",
            "</li>\n",
            "</ul>\n",
            "</li>\n",
            "<li>\n",
            "<a href=\"https://news.joins.com/culture?cloc=joongang-article-megatop\" target=\"_self\">\n",
            "<strong class=\"headline\">문화</strong>\n",
            "</a>\n",
            "<ul class=\"depth2\">\n",
            "<li>\n",
            "<a href=\"https://news.joins.com/culture/book/list?cloc=joongang-article-megatop2depth\" target=\"_self\">\n",
            "<strong class=\"headline\">책</strong>\n",
            "</a>\n",
            "</li>\n",
            "<li>\n",
            "<a href=\"https://news.joins.com/culture/perfomance/list?cloc=joongang-article-megatop2depth\" target=\"_self\">\n",
            "<strong class=\"headline\">공연</strong>\n",
            "</a>\n",
            "</li>\n",
            "<li>\n",
            "<a href=\"https://news.joins.com/culture/art/list?cloc=joongang-article-megatop2depth\" target=\"_self\">\n",
            "<strong class=\"headline\">미술</strong>\n",
            "</a>\n",
            "</li>\n",
            "<li>\n",
            "<a href=\"https://news.joins.com/culture/classic/list?cloc=joongang-article-megatop2depth\" target=\"_self\">\n",
            "<strong class=\"headline\">클래식</strong>\n",
            "</a>\n",
            "</li>\n",
            "<li>\n",
            "<a href=\"https://news.joins.com/culture/song/list?cloc=joongang-article-megatop2depth\" target=\"_self\">\n",
            "<strong class=\"headline\">가요</strong>\n",
            "</a>\n",
            "</li>\n",
            "<li>\n",
            "<a href=\"https://news.joins.com/culture/broadcast/list?cloc=joongang-article-megatop2depth\" target=\"_self\">\n",
            "<strong class=\"headline\">방송</strong>\n",
            "</a>\n",
            "</li>\n",
            "<li>\n",
            "<a href=\"https://news.joins.com/culture/movie/list?cloc=joongang-article-megatop2depth\" target=\"_self\">\n",
            "<strong class=\"headline\">영화</strong>\n",
            "</a>\n",
            "</li>\n",
            "</ul>\n",
            "</li>\n",
            "<li>\n",
            "<a href=\"https://news.joins.com/sports?cloc=joongang-article-megatop\" target=\"_self\">\n",
            "<strong class=\"headline\">스포츠</strong>\n",
            "</a>\n",
            "<ul class=\"depth2\">\n",
            "<li>\n",
            "<a href=\"https://news.joins.com/sports/baseball/list?cloc=joongang-article-megatop2depth\" target=\"_self\">\n",
            "<strong class=\"headline\">야구</strong>\n",
            "</a>\n",
            "</li>\n",
            "<li>\n",
            "<a href=\"https://news.joins.com/sports/worldbaseball/list?cloc=joongang-article-megatop2depth\" target=\"_self\">\n",
            "<strong class=\"headline\">해외야구</strong>\n",
            "</a>\n",
            "</li>\n",
            "<li>\n",
            "<a href=\"https://news.joins.com/sports/soccer/list?cloc=joongang-article-megatop2depth\" target=\"_self\">\n",
            "<strong class=\"headline\">축구</strong>\n",
            "</a>\n",
            "</li>\n",
            "<li>\n",
            "<a href=\"https://news.joins.com/sports/worldsoccer/list?cloc=joongang-article-megatop2depth\" target=\"_self\">\n",
            "<strong class=\"headline\">해외축구</strong>\n",
            "</a>\n",
            "</li>\n",
            "<li>\n",
            "<a href=\"https://news.joins.com/sports/basketvolley/list?cloc=joongang-article-megatop2depth\" target=\"_self\">\n",
            "<strong class=\"headline\">농구/배구</strong>\n",
            "</a>\n",
            "</li>\n",
            "</ul>\n",
            "</li>\n",
            "<li>\n",
            "<a href=\"https://news.joins.com/people?cloc=joongang-article-megatop\" target=\"_self\">\n",
            "<strong class=\"headline\">피플</strong>\n",
            "</a>\n",
            "<ul class=\"depth2\">\n",
            "<li>\n",
            "<a href=\"https://news.joins.com/people/room/list?cloc=joongang-article-megatop2depth\" target=\"_self\">\n",
            "<strong class=\"headline\">사랑방</strong>\n",
            "</a>\n",
            "</li>\n",
            "<li>\n",
            "<a href=\"https://news.joins.com/people/personnel/list?cloc=joongang-article-megatop2depth\" target=\"_self\">\n",
            "<strong class=\"headline\">인사</strong>\n",
            "</a>\n",
            "</li>\n",
            "<li>\n",
            "<a href=\"https://news.joins.com/people/death/list?cloc=joongang-article-megatop2depth\" target=\"_self\">\n",
            "<strong class=\"headline\">부음</strong>\n",
            "</a>\n",
            "</li>\n",
            "</ul>\n",
            "</li>\n",
            "<li>\n",
            "<a href=\"https://news.joins.com/lifestyle?cloc=joongang-article-megatop\" target=\"_self\">\n",
            "<strong class=\"headline\">라이프 스타일</strong>\n",
            "</a>\n",
            "<ul class=\"depth2\">\n",
            "<li>\n",
            "<a href=\"https://news.joins.com/lifestyle/fashion/list?cloc=joongang-article-megatop2depth\" target=\"_self\">\n",
            "<strong class=\"headline\">패션</strong>\n",
            "</a>\n",
            "</li>\n",
            "<li>\n",
            "<a href=\"https://news.joins.com/lifestyle/taste/list?cloc=joongang-article-megatop2depth\" target=\"_self\">\n",
            "<strong class=\"headline\">맛</strong>\n",
            "</a>\n",
            "</li>\n",
            "<li>\n",
            "<a href=\"https://news.joins.com/lifestyle/luxury/list?cloc=joongang-article-megatop2depth\" target=\"_self\">\n",
            "<strong class=\"headline\">럭셔리</strong>\n",
            "</a>\n",
            "</li>\n",
            "<li>\n",
            "<a href=\"https://news.joins.com/lifestyle/beauty/list?cloc=joongang-article-megatop2depth\" target=\"_self\">\n",
            "<strong class=\"headline\">뷰티</strong>\n",
            "</a>\n",
            "</li>\n",
            "<li>\n",
            "<a href=\"https://news.joins.com/lifestyle/living/list?cloc=joongang-article-megatop2depth\" target=\"_self\">\n",
            "<strong class=\"headline\">리빙</strong>\n",
            "</a>\n",
            "</li>\n",
            "</ul>\n",
            "</li>\n",
            "<li>\n",
            "<a href=\"https://news.joins.com/travel?cloc=joongang-article-megatop\" target=\"_self\">\n",
            "<strong class=\"headline\">여행레저</strong>\n",
            "</a>\n",
            "<ul class=\"depth2\">\n",
            "<li>\n",
            "<a href=\"https://news.joins.com/travel/domestic/list?cloc=joongang-article-megatop2depth\" target=\"_self\">\n",
            "<strong class=\"headline\">국내여행</strong>\n",
            "</a>\n",
            "</li>\n",
            "<li>\n",
            "<a href=\"https://news.joins.com/travel/abroad/list?cloc=joongang-article-megatop2depth\" target=\"_self\">\n",
            "<strong class=\"headline\">해외여행</strong>\n",
            "</a>\n",
            "</li>\n",
            "<li>\n",
            "<a href=\"https://news.joins.com/travel/news/list?cloc=joongang-article-megatop2depth\" target=\"_self\">\n",
            "<strong class=\"headline\">여행뉴스</strong>\n",
            "</a>\n",
            "</li>\n",
            "<li>\n",
            "<a href=\"https://news.joins.com/travel/week/list?cloc=joongang-article-megatop2depth\" target=\"_self\">\n",
            "<strong class=\"headline\">week&amp;</strong>\n",
            "</a>\n",
            "</li>\n",
            "</ul>\n",
            "</li>\n",
            "<li>\n",
            "<a href=\"https://news.joins.com/pic?cloc=joongang-article-megatop\" target=\"_self\">\n",
            "<strong class=\"headline\">포토 · 영상</strong>\n",
            "</a>\n",
            "<ul class=\"depth2\">\n",
            "<li>\n",
            "<a href=\"https://news.joins.com/pic/photogallery/list?cloc=joongang-article-megatop2depth\" target=\"_self\">\n",
            "<strong class=\"headline\">포토</strong>\n",
            "</a>\n",
            "</li>\n",
            "<li>\n",
            "<a href=\"https://news.joins.com/pic/vod/list?cloc=joongang-article-megatop2depth\" target=\"_self\">\n",
            "<strong class=\"headline\">영상</strong>\n",
            "</a>\n",
            "</li>\n",
            "</ul>\n",
            "</li>\n",
            "</ul>\n",
            "<ul class=\"depth1\">\n",
            "<li>\n",
            "<a href=\"https://news.joins.com/digitalspecial/list?cloc=joongang-article-megamiddle\" target=\"_self\">\n",
            "<strong class=\"headline\">디지털 스페셜</strong>\n",
            "</a>\n",
            "</li>\n",
            "<li>\n",
            "<a href=\"https://news.joins.com/sunday?cloc=joongang-article-megamiddle\" target=\"_self\">\n",
            "<strong class=\"headline\">중앙SUNDAY</strong>\n",
            "</a>\n",
            "<ul class=\"depth2\">\n",
            "<li>\n",
            "<a href=\"https://news.joins.com/sunday/sundaynews/list?cloc=joongang-article-megamiddle2depth\" target=\"_self\">\n",
            "<strong class=\"headline\">뉴스</strong>\n",
            "</a>\n",
            "</li>\n",
            "<li>\n",
            "<a href=\"https://news.joins.com/sunday/sundaymoney/list?cloc=joongang-article-megamiddle2depth\" target=\"_self\">\n",
            "<strong class=\"headline\">머니</strong>\n",
            "</a>\n",
            "</li>\n",
            "<li>\n",
            "<a href=\"https://news.joins.com/sunday/sundayopinion/list?cloc=joongang-article-megamiddle2depth\" target=\"_self\">\n",
            "<strong class=\"headline\">오피니언</strong>\n",
            "</a>\n",
            "</li>\n",
            "<li>\n",
            "<a href=\"https://news.joins.com/sunday/sundaymagazine/list?cloc=joongang-article-megamiddle2depth\" target=\"_self\">\n",
            "<strong class=\"headline\">S MAGAZINE</strong>\n",
            "</a>\n",
            "</li>\n",
            "</ul>\n",
            "</li>\n",
            "<li>\n",
            "<a href=\"https://news.joins.com/resetkorea?cloc=joongang-article-megamiddle\" target=\"_self\">\n",
            "<strong class=\"headline\">리셋 코리아</strong>\n",
            "</a>\n",
            "<ul class=\"depth2\">\n",
            "<li>\n",
            "<a href=\"https://news.joins.com/article/21209278?cloc=joongang-article-megamiddle2depth\" target=\"_self\">\n",
            "<strong class=\"headline\">리셋코리아 소개 </strong>\n",
            "</a>\n",
            "</li>\n",
            "<li>\n",
            "<a href=\"https://news.joins.com/find/list?key=ResetKoreaNews&amp;cloc=joongang-article-megamiddle2depth\" target=\"_self\">\n",
            "<strong class=\"headline\">뉴스</strong>\n",
            "</a>\n",
            "</li>\n",
            "</ul>\n",
            "</li>\n",
            "<li>\n",
            "<a href=\"https://news.joins.com/nk?cloc=joongang-article-megamiddle\" target=\"_self\">\n",
            "<strong class=\"headline\">통일무지개</strong>\n",
            "</a>\n",
            "<ul class=\"depth2\">\n",
            "<li>\n",
            "<a href=\"https://news.joins.com/nk/odyssey/list?cloc=joongang-article-megamiddle2depth\" target=\"_self\">\n",
            "<strong class=\"headline\">평양오디세이</strong>\n",
            "</a>\n",
            "</li>\n",
            "<li>\n",
            "<a href=\"https://news.joins.com/nk/ing/list?cloc=joongang-article-megamiddle2depth\" target=\"_self\">\n",
            "<strong class=\"headline\">북한~ing</strong>\n",
            "</a>\n",
            "</li>\n",
            "<li>\n",
            "<a href=\"https://news.joins.com/nk/photolist?key=photo&amp;cloc=joongang-article-megamiddle2depth\" target=\"_self\">\n",
            "<strong class=\"headline\">사진 속 북한</strong>\n",
            "</a>\n",
            "</li>\n",
            "</ul>\n",
            "</li>\n",
            "<li>\n",
            "<a href=\"https://news.joins.com/retirement?cloc=joongang-article-megamiddle\" target=\"_self\">\n",
            "<strong class=\"headline\">더,오래</strong>\n",
            "</a>\n",
            "<ul class=\"depth2\">\n",
            "<li>\n",
            "<a href=\"https://news.joins.com/retirement/cate?cloc=joongang-article-megamiddle2depth\" target=\"_self\">\n",
            "<strong class=\"headline\">주제별</strong>\n",
            "</a>\n",
            "</li>\n",
            "<li>\n",
            "<a href=\"https://news.joins.com/retirement/reporterlist?cloc=joongang-article-megamiddle2depth\" target=\"_self\">\n",
            "<strong class=\"headline\">필진별</strong>\n",
            "</a>\n",
            "</li>\n",
            "<li>\n",
            "<a href=\"https://news.joins.com/retirement/subscribe?cloc=joongang-article-megamiddle2depth\" target=\"_self\">\n",
            "<strong class=\"headline\">필진 Pick</strong>\n",
            "</a>\n",
            "</li>\n",
            "<li>\n",
            "<a href=\"https://news.joins.com/retirement/intro?cloc=joongang-article-megamiddle2depth\" target=\"_self\">\n",
            "<strong class=\"headline\">더,오래란?</strong>\n",
            "</a>\n",
            "</li>\n",
            "</ul>\n",
            "</li>\n",
            "<li>\n",
            "<a href=\"https://mgrg.joins.com/?cloc=joongang-article-megamiddle\" target=\"_blank\">\n",
            "<strong class=\"headline\">먼지알지</strong>\n",
            "</a>\n",
            "</li>\n",
            "<li>\n",
            "<a href=\"https://welfaretotal.joins.com/?cloc=joongang-article-megamiddle\" target=\"_blank\">\n",
            "<strong class=\"headline\">복지토털</strong>\n",
            "</a>\n",
            "</li>\n",
            "<li>\n",
            "<a href=\"https://news.joins.com/mm?cloc=joongang-article-megamiddle\" target=\"_self\">\n",
            "<strong class=\"headline\">Mr.밀리터리</strong>\n",
            "</a>\n",
            "<ul class=\"depth2\">\n",
            "<li>\n",
            "<a href=\"https://news.joins.com/mm/focusinside/list?cloc=joongang-article-megamiddle2depth\" target=\"_self\">\n",
            "<strong class=\"headline\">Focus 인사이드</strong>\n",
            "</a>\n",
            "</li>\n",
            "<li>\n",
            "<a href=\"https://news.joins.com/mm/hotnews/list?cloc=joongang-article-megamiddle2depth\" target=\"_self\">\n",
            "<strong class=\"headline\">Hot 뉴스</strong>\n",
            "</a>\n",
            "</li>\n",
            "<li>\n",
            "<a href=\"https://news.joins.com/mm/watchcon/list?cloc=joongang-article-megamiddle2depth\" target=\"_self\">\n",
            "<strong class=\"headline\">김민석의 Watchcon</strong>\n",
            "</a>\n",
            "</li>\n",
            "<li>\n",
            "<a href=\"https://news.joins.com/mm/weaponstory/list?cloc=joongang-article-megamiddle2depth\" target=\"_self\">\n",
            "<strong class=\"headline\">무기이야기</strong>\n",
            "</a>\n",
            "</li>\n",
            "<li>\n",
            "<a href=\"https://news.joins.com/mm/interview/list?cloc=joongang-article-megamiddle2depth\" target=\"_self\">\n",
            "<strong class=\"headline\">김민석의 인터뷰</strong>\n",
            "</a>\n",
            "</li>\n",
            "<li>\n",
            "<a href=\"http://bbs.news.joins.com/mm/qna?cloc=joongang-article-megamiddle2depth\" target=\"_self\">\n",
            "<strong class=\"headline\">밀리터리 Request</strong>\n",
            "</a>\n",
            "</li>\n",
            "</ul>\n",
            "</li>\n",
            "<li>\n",
            "<a href=\"https://news.joins.com/jpod?cloc=joongang-article-megamiddle\" target=\"_self\">\n",
            "<strong class=\"headline\">J팟</strong>\n",
            "</a>\n",
            "</li>\n",
            "</ul>\n",
            "<ul class=\"depth1\">\n",
            "<li>\n",
            "<a href=\"https://news.joins.com/newsletter?cloc=joongang-article-megabottom\" target=\"_self\">\n",
            "<strong class=\"headline\">뉴스레터</strong>\n",
            "</a>\n",
            "</li>\n",
            "<li>\n",
            "<a href=\"https://news.joins.com/newsdigest?cloc=joongang-article-megabottom\" target=\"_self\">\n",
            "<strong class=\"headline\">뉴스 다이제스트<span class=\"badge_new badge_sm\">New</span></strong>\n",
            "</a>\n",
            "</li>\n",
            "<li>\n",
            "<a href=\"https://news.joins.com/issue?cloc=joongang-article-megabottom\" target=\"_self\">\n",
            "<strong class=\"headline\">이슈패키지</strong>\n",
            "</a>\n",
            "</li>\n",
            "<li>\n",
            "<a href=\"https://news.joins.com/trend?cloc=joongang-article-megabottom\" target=\"_self\">\n",
            "<strong class=\"headline\">트렌드 뉴스</strong>\n",
            "</a>\n",
            "<ul class=\"depth2\">\n",
            "<li>\n",
            "<a href=\"https://news.joins.com/trend/daily?cloc=joongang-article-megabottom2depth\" target=\"_self\">\n",
            "<strong class=\"headline\">실시간 트렌드</strong>\n",
            "</a>\n",
            "</li>\n",
            "<li>\n",
            "<a href=\"https://news.joins.com/trend/weekly?cloc=joongang-article-megabottom2depth\" target=\"_self\">\n",
            "<strong class=\"headline\">주간 트렌드 뉴스 </strong>\n",
            "</a>\n",
            "</li>\n",
            "<li>\n",
            "<a href=\"https://news.joins.com/trend/monthly?cloc=joongang-article-megabottom2depth\" target=\"_self\">\n",
            "<strong class=\"headline\">월간 트렌드 뉴스 </strong>\n",
            "</a>\n",
            "</li>\n",
            "<li>\n",
            "<a href=\"https://news.joins.com/trend/tophistory?cloc=joongang-article-megabottom2depth\" target=\"_self\">\n",
            "<strong class=\"headline\">지난 TOP 기사</strong>\n",
            "</a>\n",
            "</li>\n",
            "</ul>\n",
            "</li>\n",
            "<li>\n",
            "<a href=\"https://news.joins.com/reporter?cloc=joongang-article-megabottom\" target=\"_self\">\n",
            "<strong class=\"headline\">기자</strong>\n",
            "</a>\n",
            "</li>\n",
            "</ul>\n",
            "<ul class=\"depth1\">\n",
            "<li>\n",
            "<a href=\"https://news.joins.com/jebo?cloc=joongang-article-megaservice\" target=\"_self\">\n",
            "<strong class=\"headline\">제보</strong>\n",
            "</a>\n",
            "</li>\n",
            "<li>\n",
            "<a href=\"https://jmembership.joins.com/?cloc=joongang-article-megaservice\" target=\"_self\">\n",
            "<strong class=\"headline\">중앙멤버십</strong>\n",
            "</a>\n",
            "</li>\n",
            "<li>\n",
            "<a href=\"https://news.joins.com/mynews?cloc=joongang-article-megaservice\" target=\"_self\">\n",
            "<strong class=\"headline\">My뉴스</strong>\n",
            "</a>\n",
            "</li>\n",
            "<li>\n",
            "<a href=\"https://news.joins.com/brandnews?cloc=joongang-article-megaservice\" target=\"_self\">\n",
            "<strong class=\"headline\">보도 자료</strong>\n",
            "</a>\n",
            "</li>\n",
            "<li>\n",
            "<a href=\"https://people.joins.com/?cloc=joongang-article-megaservice\" target=\"_self\">\n",
            "<strong class=\"headline\">인물 정보</strong>\n",
            "</a>\n",
            "</li>\n",
            "<li>\n",
            "<a href=\"https://www.joins.com/Media/List.aspx?mseq=11&amp;cloc=joongang-article-megaservice\" target=\"_self\">\n",
            "<strong class=\"headline\">전자판</strong>\n",
            "</a>\n",
            "</li>\n",
            "<li>\n",
            "<a href=\"https://www.joins.com/Apply/Subscribe.aspx?cloc=joongang-article-megaservice\" target=\"_self\">\n",
            "<strong class=\"headline\">지면 구독</strong>\n",
            "</a>\n",
            "</li>\n",
            "<li>\n",
            "<a href=\"https://news.joins.com/customercenter?cloc=joongang-article-megaservice\" target=\"_self\">\n",
            "<strong class=\"headline\">고객 센터</strong>\n",
            "</a>\n",
            "</li>\n",
            "</ul>\n",
            "</div>\n",
            "<div class=\"ft\">\n",
            "<i class=\"icon_godown\"></i>\n",
            "</div>\n",
            "<a class=\"btn_close\" href=\"javascript:;\">닫기</a>\n",
            "</div>\n",
            "<!--중앙그룹 브랜드 메뉴-->\n",
            "<div class=\"layer_jmnet\" id=\"layer_jmnet\">\n",
            "<div class=\"inner\">\n",
            "<ul class=\"\">\n",
            "<li>\n",
            "<strong class=\"\">신문</strong>\n",
            "<ul>\n",
            "<li><a href=\"https://joongang.joins.com/\" target=\"_blank\">중앙일보</a></li>\n",
            "<li><a href=\"https://news.joins.com/sunday\" target=\"_blank\">중앙SUNDAY</a></li>\n",
            "<li><a href=\"http://isplus.joins.com/\" target=\"_blank\">일간스포츠</a></li>\n",
            "<li><a href=\"http://koreajoongangdaily.joins.com/\" target=\"_blank\">Korea Joongang Daily</a></li>\n",
            "<li><a href=\"https://joind.io/\" target=\"_blank\">조인디</a></li>\n",
            "</ul>\n",
            "</li>\n",
            "<li>\n",
            "<strong class=\"\">방송</strong>\n",
            "<ul>\n",
            "<li><a href=\"http://jtbc.joins.com/\" target=\"_blank\">JTBC</a></li>\n",
            "<li><a href=\"http://jtbc2.joins.com/\" target=\"_blank\">JTBC2</a></li>\n",
            "<li><a href=\"http://jtbcgolfnsports.joins.com/\" target=\"_blank\">JTBC GOLF&amp;SPORTS</a></li>\n",
            "<li><a href=\"http://jtbc4.joins.com/\" target=\"_blank\">JTBC4</a></li>\n",
            "<li><a href=\"http://www.jtbcgolf.com/\" target=\"_blank\">JTBC GOLF</a></li>\n",
            "<li><a href=\"http://www.jtbcworldwide.com/\" target=\"_blank\">JTBC worldwide</a></li>\n",
            "<li><a href=\"https://jtbcmediatech.com/\" target=\"_blank\">JTBC미디어텍</a></li>\n",
            "</ul>\n",
            "</li>\n",
            "<li>\n",
            "<strong class=\"\">멀티플렉스 &amp; 레저</strong>\n",
            "<ul>\n",
            "<li><a href=\"https://www.megabox.co.kr/\" target=\"_blank\">메가박스</a></li>\n",
            "<li><a href=\"https://www.megabox.co.kr/curation/filmsociety\" target=\"_blank\">필름 소사이어티</a></li>\n",
            "<li><a href=\"https://www.megabox.co.kr/curation/classicsociety\" target=\"_blank\">클래식 소사이어티</a></li>\n",
            "<li><a href=\"https://phoenixhnr.co.kr/page/main\" target=\"_blank\">휘닉스 호텔앤드리조트</a></li>\n",
            "<li><a href=\"https://phoenixhnr.co.kr/page/main/pyeongchang\" target=\"_blank\">휘닉스 평창</a></li>\n",
            "<li><a href=\"https://phoenixhnr.co.kr/page/main/jeju\" target=\"_blank\">휘닉스 섭지코지</a></li>\n",
            "</ul>\n",
            "</li>\n",
            "<li>\n",
            "<strong class=\"\">매거진 &amp; 출판</strong>\n",
            "<div class=\"column2\">\n",
            "<ul>\n",
            "<li><a href=\"https://jmagazine.joins.com/monthly\" target=\"_blank\">월간중앙</a></li>\n",
            "<li><a href=\"https://jmagazine.joins.com/economist\" target=\"_blank\">이코노미스트</a></li>\n",
            "<li><a href=\"https://jmagazine.joins.com/forbes\" target=\"_blank\">포브스코리아</a></li>\n",
            "<li><a href=\"https://jbooks.joins.com/\" target=\"_blank\">중앙북스</a></li>\n",
            "</ul>\n",
            "<ul>\n",
            "<li><a href=\"http://www.elle.co.kr/\" target=\"_blank\">엘르</a></li>\n",
            "<li><a href=\"http://harpersbazaar.co.kr/\" target=\"_blank\">바자</a></li>\n",
            "<li><a href=\"http://www.cosmopolitan.co.kr/\" target=\"_blank\">코스모폴리탄</a></li>\n",
            "<li><a href=\"http://esquirekorea.co.kr/\" target=\"_blank\">에스콰이어</a></li>\n",
            "</ul>\n",
            "</div>\n",
            "</li>\n",
            "<li>\n",
            "<strong class=\"\">전문 콘텐트</strong>\n",
            "<ul>\n",
            "<li><a href=\"http://www.joinsland.com/\" target=\"_blank\">조인스랜드</a></li>\n",
            "<li><a href=\"http://www.jhealthmedia.com/\" target=\"_blank\">헬스미디어</a></li>\n",
            "<li><a href=\"https://blog.naver.com/china_lab\" target=\"_blank\">차이나랩</a></li>\n",
            "<li><a href=\"http://www.jdphone.com/\" target=\"_blank\">영어의 신</a></li>\n",
            "<li><a href=\"https://www.esukorea.org/\" target=\"_blank\">ESU</a></li>\n",
            "</ul>\n",
            "</li>\n",
            "<li>\n",
            "<strong class=\"\">서비스</strong>\n",
            "<div class=\"column2\">\n",
            "<ul>\n",
            "<li><a href=\"https://www.joins.com/\" target=\"_blank\">JOINS PRIME</a></li>\n",
            "<li><a href=\"https://ssully.joins.com/\" target=\"_blank\">썰리</a></li>\n",
            "<li><a href=\"https://folin.co/\" target=\"_blank\">fol:in</a></li>\n",
            "<li><a href=\"http://www.jtbcnow.com/\" target=\"_blank\">JTBC NOW</a></li>\n",
            "<li><a href=\"https://play.google.com/store/apps/details?id=com.jtbc.news\" target=\"_blank\">JTBC NEWS</a></li>\n",
            "<li><a href=\"http://oohmedia.kr/\" target=\"_blank\">OOH MEDIA</a></li>\n",
            "</ul>\n",
            "<ul>\n",
            "<li><a href=\"https://jmembership.joins.com/\" target=\"_blank\">중앙멤버십</a></li>\n",
            "<li><a href=\"http://sigol.joinsland.com/\" target=\"_blank\">렛츠고시골</a></li>\n",
            "<li><a href=\"http://tj4.joinsland.com/\" target=\"_blank\">TJ4대전충청</a></li>\n",
            "</ul>\n",
            "</div>\n",
            "</li>\n",
            "</ul>\n",
            "</div>\n",
            "<a class=\"btn_close\" href=\"https://news.joins.com/article/23927220#\"><i class=\"icon_close\">닫기</i></a>\n",
            "</div>\n",
            "<!--// 중앙그룹 브랜드 메뉴-->\n",
            "<div class=\"\" id=\"doc\">\n",
            "<div id=\"wrap\">\n",
            "<!-- 광고 120x200 -->\n",
            "<div class=\"ad_120_200 ad\" id=\"leftbanner\" style=\"\"><div class=\"bd\"><div id=\"imp_ad_left_593\"><script data-id=\"FW0VC96mSiiwcqV016DNcQ\" name=\"joongang_p/article/article@article_top_left_120x200?mlink=4\" src=\"./aa77_files/persona.js.다운로드\" type=\"text/javascript\"></script><script src=\"./aa77_files/4bt_4p_aYZLeHvg3WpShADF3fTGj0K7NQ8MZjbfpq1uEAM4qWzAZAbZDSXNVZUJ6V1RkR3ppcktOd2hId2JBAstB1_YYvmTN-gPLQdf2GL5kzfo.js(2).다운로드\"></script><div id=\"FW0VC96mSiiwcqV016DNcQ\" style=\"display: block;\"><iframe allowtransparency=\"true\" frameborder=\"0\" height=\"200px\" leftmargin=\"0\" marginheight=\"0\" marginwidth=\"0\" name=\"mliframe\" scrolling=\"no\" src=\"./aa77_files/article@article_top_left_120x200.html\" topmargin=\"0\" width=\"120px\"></iframe></div></div></div><div class=\"ft\"><button type=\"button\">닫기</button></div></div>\n",
            "<!-- //광고 120x200 -->\n",
            "<div class=\"ad_120_600 ad_120_left\" id=\"left_retirement\" style=\"display:none;\"></div>\n",
            "<div class=\"ad_120_600 ad_120_right\" id=\"right_retirement\" style=\"display:none;\"></div>\n",
            "<!-- 광고 120x600 -->\n",
            "<div class=\"ad_120_600 ad\" id=\"leftbanner2\" style=\"\"><div class=\"bd\"><div id=\"imp_ad_left_915_no_money\"><script data-id=\"KyC3K5LcTMWHUJgVMzRScg\" name=\"joongang_p/article/article@article_top_left_network_120x600?mlink=462\" src=\"./aa77_files/persona.js.다운로드\" type=\"text/javascript\"></script><script src=\"./aa77_files/4bt_4p_aYZLeHvg3WpShADF3fTGj0K7NQ8MZjbfpq1uEAM4qWzAZAbZDSXNVZUJ6V1RkR3ppcktOd2hId2JBAstB1_YYvmTN-gPLQdf2GL5kzfo.js(3).다운로드\"></script><div id=\"KyC3K5LcTMWHUJgVMzRScg\"><iframe frameborder=\"0\" height=\"600px\" leftmargin=\"0\" marginheight=\"0\" marginwidth=\"0\" name=\"mliframe\" scrolling=\"no\" src=\"./aa77_files/article@article_top_left_network_120x600.html\" topmargin=\"0\" width=\"120px\"></iframe></div></div></div></div>\n",
            "<!-- //광고 120x600 -->\n",
            "<!-- 광고 300x250 -->\n",
            "<div class=\"ad_300_250 ad\" id=\"shapepopup\" style=\"display:none;\"><div class=\"bd\"><div id=\"imp_ad_shapepopup_590\"><script data-id=\"MTvQHUNFRKGZGNrGng-HCQ\" name=\"joongang_p/article/article@article_popup_300x250?mlink=7\" src=\"./aa77_files/persona.js.다운로드\" type=\"text/javascript\"></script><script src=\"./aa77_files/4bt_4p_aYZLeHvg3WpShADF3fTGj0K7NQ8MZjbfpq1uEAM4qWzAZAbZDSXNVZUJ6V1RkR3ppcktOd2hId2JBAstB1_YYvmTN-gPLQdf2GL5kzfo.js(4).다운로드\"></script><div id=\"MTvQHUNFRKGZGNrGng-HCQ\"><iframe frameborder=\"0\" height=\"250px\" leftmargin=\"0\" marginheight=\"0\" marginwidth=\"0\" name=\"MTvQHUNFRKGZGNrGng\" scrolling=\"no\" src=\"./aa77_files/article@article_popup_300x250.html\" topmargin=\"0\" width=\"300px\"></iframe></div></div></div><div class=\"ft\"><button type=\"button\">닫기</button></div></div>\n",
            "<!-- //광고 300x250 -->\n",
            "<!-- 광고 1060x400 -->\n",
            "<div class=\"ad_1060_400 ad\" style=\"display:none;\"></div>\n",
            "<!-- //광고 1060x400 -->\n",
            "<!-- 광고 1060x90 -->\n",
            "<div class=\"ad_1060_90 ad\" style=\"display:none;\"></div>\n",
            "<!-- //광고 1060x90 -->\n",
            "<div id=\"body\">\n",
            "<!-- 기사 header -->\n",
            "<div class=\"article_head\">\n",
            "<div class=\"subject\">\n",
            "<!-- 원복 -->\n",
            "<h1 class=\"headline mg\" id=\"article_title\"> [유혁의 데이터이야기] 데이터는 감정 빼고 봐야한다</h1>\n",
            "</div>\n",
            "<div class=\"clearfx\">\n",
            "<div class=\"byline\">\n",
            "<!-- 20150813 추가 -->\n",
            "<em>[중앙일보]</em>\n",
            "<em>입력 2020.11.23 00:23</em>\n",
            "            \t\t\t\t\t\t| <a href=\"https://www.joins.com/v2/?mseq=11&amp;tid=23927220&amp;cloc=joongang|article|paper\" target=\"_blank\" title=\"(새창) 전자판으로 이동\"><strong>종합 29면</strong> 지면보기<span class=\"icon\"></span></a>\n",
            "</div>\n",
            "<div class=\"tool_area\" id=\"changefont\" style=\"\">\n",
            "<!-- 20150813 추가 -->\n",
            "<a class=\"btn_paper\" href=\"https://www.joins.com/Media/List.aspx?mseq=11&amp;pubdt=2020-11-23\" target=\"_blank\">PDF</a>\n",
            "<a class=\"btn_print\" href=\"https://news.joins.com/article/23927220#none\" id=\"btnPrint\">인쇄</a>\n",
            "<a class=\"btn_scrap\" href=\"https://news.joins.com/article/23927220#none\" id=\"btnScrap\">기사 보관함(스크랩)</a>\n",
            "<button class=\"btn_minus\" data-type=\"minus\" type=\"button\">글자 작게</button>\n",
            "<button class=\"btn_plus\" data-type=\"plus\" type=\"button\">글자 크게</button>\n",
            "</div>\n",
            "</div>\n",
            "</div>\n",
            "<!-- //기사 header -->\n",
            "<input id=\"page_name\" type=\"hidden\" value=\"중앙일보\"/>\n",
            "<input id=\"article_id\" type=\"hidden\" value=\"23521802\"/>\n",
            "<input id=\"total_id\" type=\"hidden\" value=\"23927220\"/>\n",
            "<input id=\"original_total_id\" type=\"hidden\" value=\"23927220\"/>\n",
            "<input id=\"comment_total_id\" type=\"hidden\" value=\"23927220\"/>\n",
            "<input id=\"is_login_contents\" type=\"hidden\" value=\"False\"/>\n",
            "<input id=\"is_cartoon\" type=\"hidden\" value=\"False\"/>\n",
            "<input id=\"servcode\" type=\"hidden\" value=\"20\"/>\n",
            "<input id=\"sourceCode\" type=\"hidden\" value=\"1\"/>\n",
            "<input id=\"reporter_seq\" type=\"hidden\" value=\"\"/>\n",
            "<input id=\"master_code\" type=\"hidden\" value=\"2000002,2000005,1201001\"/>\n",
            "<div id=\"content\">\n",
            "<!-- 아티클 공통 : 기자 -->\n",
            "<!-- 아티클 공통 : SNS -->\n",
            "<!-- //아티클 공통 : SNS -->\n",
            "<div class=\"share_article\">\n",
            "<dl>\n",
            "<dt><strong class=\"hide\">SNS 공유 및 댓글</strong></dt>\n",
            "<dd><span class=\"text_total\"><span class=\"hide\">SNS 클릭 수</span> <em class=\"mg\" id=\"article_share_total_count\">4</em></span></dd>\n",
            "<dd><a class=\"icon_kakaotalk\" data-id=\"23927220\" data-service=\"kakaotalk\" data-target=\"news\" href=\"https://news.joins.com/article/23927220#none\" onclick=\"try { ga('send', 'event', 'Engaging', 'Kakaotalk', document.title, 1); } catch (e) { }\" title=\"(새창) 카카오톡 공유\">카카오톡</a></dd>\n",
            "<dd><a class=\"icon_facebook\" data-id=\"23927220\" data-service=\"facebook\" data-target=\"news\" href=\"https://news.joins.com/article/23927220#none\" onclick=\"try { ga('send', 'event', 'Engaging', 'Facebook', document.title, 1); } catch (e) { }\" title=\"(새창) 페이스북 공유\">페이스북</a></dd>\n",
            "<dd><a class=\"icon_twitter\" data-id=\"23927220\" data-service=\"twitter\" data-target=\"news\" href=\"https://news.joins.com/article/23927220#none\" onclick=\"try { ga('send', 'event', 'Engaging', 'Twitter', document.title, 1); } catch (e) { }\" title=\"(새창) 트위터 공유\">트위터</a></dd>\n",
            "<dd><a class=\"icon_kakaostory\" data-id=\"23927220\" data-service=\"kakaostory\" data-target=\"news\" href=\"https://news.joins.com/article/23927220#none\" onclick=\"try { ga('send', 'event', 'Engaging', 'Kakaostory', document.title, 1); } catch (e) { }\" title=\"(새창) 카카오스토리 공유\">카카오스토리</a></dd>\n",
            "<dd>\n",
            "<a class=\"icon_more\" href=\"javascript:;\" title=\"SNS 공유 더보기\">SNS 공유 더보기</a>\n",
            "<div class=\"social_share_add\">\n",
            "<a class=\"icon_pinterest\" data-id=\"23927220\" data-service=\"pinterest\" data-target=\"news\" href=\"javascript:;\" onclick=\"try { ga('send', 'event', 'Engaging', 'Pinterest', document.title, 1); } catch (e) { }\" title=\"(새창) 핀터레스트 공유\">핀터레스트</a>\n",
            "<a class=\"icon_url\" href=\"javascript:;\" title=\"URL 복사\">URL 복사</a>\n",
            "<a class=\"icon_close\" href=\"javascript:;\" title=\"SNS 공유 더보기 닫기\">SNS 공유 더보기 닫기</a>\n",
            "</div>\n",
            "</dd>\n",
            "</dl>\n",
            "</div>\n",
            "<div class=\"article_body mg fs4\" id=\"article_body\" itemprop=\"articleBody\">\n",
            "<div class=\"ab_photo photo_left \" style=\"width: 170px;\"> <div class=\"image\"> <img alt=\"유혁 윌로우 데이터 스트래티지 대표\" data-src=\"https://pds.joins.com/news/component/htmlphoto_mmdata/202011/23/9a9a6f1a-a743-4d84-92dd-82f32dd7e0dd.jpg\" data-type=\"article\" src=\"./aa77_files/9a9a6f1a-a743-4d84-92dd-82f32dd7e0dd.jpg\"/> <span class=\"mask\"></span> </div> <p class=\"caption\">유혁 윌로우 데이터 스트래티지 대표</p> </div>        치열한 선거전의 결과를 예측하는 것은 쉬운 일이 아니다. 하지만 접전이 될 것이란 것조차 예측하지 못했다는 건 큰 문제다. 이번 미국 대선 결과와 상관없이 2016년에 이어 2020년에도 가장 명백한 패자는 결과를 제대로 예측하지 못한 각종 여론조사 기관이라고 할 수 있다. 4년 전에는 아예 승자를 맞추지도 못했지만, 이번에도 대선과 의원 선거의 결과가 예상 밖의 접전양상으로 나타났으니 여론조사 방법에 심각한 의구심을 가질 만한 상황이다.  <br/>      <br/><div class=\"ab_subtitle\"><h2><p>미대선 예측오류로 드러난 문제<br/>표본추출과 데이터 에러가 원인<br/>기존 여론조사방식 한계에 도달<br/>창의적 데이터 수집·적용 필요</p></h2></div>   많은 분석가들은 4년전 크게 벗어난 예측을 표본추출 오류의 결과로 결론을 내렸었다. 인구밀도가 낮은 지역에서 주요 변수의 대표성에 문제가 생기면 예측결과가 아예 틀릴 수 있다. 특히 양당의 선호도가 도시와 교외지역에 따라 명확히 갈리는 미국의 경우 샘플링 오류의 영향은 더욱 증폭된다.  <br/>      <br/>   전과 같은 실수를 되풀이하지 않기 위해 이번에는 ‘대졸 이하의 백인 남성’등의 특정 그룹에 가중치를 부여한 조사기관도 있다고 들었는데, 결과적으로 그런 방식도 예측 정확도에 큰 기여를 하지 못했다. 샘플 크기를 임의로 조정했다면 어떤 방식으로 얼마만큼 했다는 것인가? 아마 구체적인 샘플링 방식을 놓고 전적으로 동의하는 단 두 명의 통계전문가도 찾기 어려울 것이다.  <br/>      <br/>   그래서 분석작업에서의 ‘인간적 요소’도 간과하면 안된다. 모델링을 놓고 흔히 “반은 과학, 반은 예술”이란 표현을 쓰지만, 이렇게 크게 벗어난 예측을 보자면 그 예술이란 부분이 문제가 될 수도 있다는 생각이다. 고전적 모델링 과정에서 예측변수나 알고리즘의 선택에 전문가의 성향이 전적으로 배제될 수는 없다.  <br/>      <br/>   게다가 구조적 오류나 아예 틀린 데이터는 그 어떤 통계적 방식으로도 극복하기 어렵다. 미국식 표현인 “쓰레기를 넣으면 쓰레기 같은 결과가 나온다”라는 표현이 적절할 것이다. 만약 여론조사 응답자가 거짓으로 답했다면? 그렇게 명백히 틀린 정보는 데이터 수집과 모델링만의 문제가 아니다.  <br/>      <br/> <div class=\"ab_photo photo_center \" style=\"width: 300px;\"> <div class=\"image\"> <img alt=\"데이터이야기 11/23\" data-src=\"https://pds.joins.com/news/component/htmlphoto_mmdata/202011/23/f4779b32-6608-4464-9a26-af2368cedf89.jpg\" data-type=\"article\" src=\"https://pds.joins.com/news/component/htmlphoto_mmdata/202011/23/f4779b32-6608-4464-9a26-af2368cedf89.jpg\"/> <span class=\"mask\"></span> </div> <p class=\"caption\">데이터이야기 11/23</p> </div>        그 ‘인간적 요소’는 단지 모델링 작업뿐 아니라 사용자들이 예측결과를 적용하는 과정에서도 문제가 될 수 있다. 단순한 일기예보에 대한 반응도 사람마다 다르며, 예측의 적절함에 상관없이 사용자에게 감정을 다 빼고 결과를 보라는 것은 애초부터 무리한 주문이다. 그래서 데이터 사이언티스트는 더욱 중립적인 태도를 유지하도록 노력해야 하는 것이다.  <br/>      <br/>   구조적 편향성으로 인해 이제 기존의 여론조사 방식은 종말을 맞고 있는 것인지도 모른다. 특히 전화를 통한 여론조사는 더 이상 적절하지 않다. ‘모르는 번호에서 걸려온 전화를 받고 모든 질문에 성실히 대답한 사람’이란 집단은 그저 희망사항일 뿐이며 샘플링 오류의 근원이다. 발신자 신원이 표시되는 모빌 전화기를 가지고 누가 미확인 번호에 응답할 것이며, 설문방식이 적절하더라도 선호하는 후보에 관한 대답을 회피하는 사람도 많다. 특정 웹사이트 방문자만을 대상으로 조사를 하는 것보다는 낫겠지만 이 다양하고 복잡한 세상에서 전화를 통한 여론조사는 그저 참고사항 정도로 여겨야 한다.  <br/>      <div class=\"\" id=\"criteo_network\" style=\"width: 250px; height: 250px; float: right; clear: both; margin-left: 20px;\"><div id=\"imp_ad_da_250_1\"><script data-id=\"7TzXV_PfR6u5epgxyPjtOA\" name=\"joongang_p/article/article@article_body_250x250?mlink=5\" src=\"./aa77_files/persona.js.다운로드\" type=\"text/javascript\"></script><script src=\"./aa77_files/4bt_4p_aYZLeHvg3WpShADF3fTGj0K7NQ8MZjbfpq1uEAM4qWzAZAbZDSXNVZUJ6V1RkR3ppcktOd2hId2JBAstB1_YYvmTN-gPLQdf2GL5kzfo.js(5).다운로드\"></script><div id=\"7TzXV_PfR6u5epgxyPjtOA\"><iframe frameborder=\"0\" height=\"250px\" leftmargin=\"0\" marginheight=\"0\" marginwidth=\"0\" name=\"mliframe\" scrolling=\"no\" src=\"./aa77_files/article@article_body_250x250.html\" topmargin=\"0\" width=\"250px\"></iframe></div></div></div><br/>   2016년 미 대선 당시 ‘앞마당에 설치한 지지후보 표식의 수’ 등의 실제적 변수를 바탕으로 결과를 정확히 예측한 머신 러닝 알고리즘이 화제가 되었다. 그런 변수는 분명 사람들의 성향을 나타내지만 질문에 대한 대답의 형태는 아니다. 사람들의 말과 행동이 다른 경우는 흔하다. 일례로 어떤 배달 피자가게의 1년 판매량을 조사할 때 주인이 대답한 판매량과 사용한 피자 박스의 수 중 어느 변수에 편향성이 더 있을 것인가?  <br/>      <br/>   찾아보자면 질문이 필요 없는 변수는 도처에 널려 있다. 데이터가 흔한 미국에서 대선결과 예측에 쓸 만한 변수들은 그 앞마당 표식숫자 말고도 정치 집회자들이 차지한 면적, 소셜미디어상 긍정적·부정적 언급 수, 지지자별 평균 기부금액, 최초·반복 기부자 수 등을 고려해 볼 수 있다. 그런 데이터에 접근이 용이하지 않다면? 급한대로 드론이라도 띄워서 집회사진을 찍을 일이다.  <br/>      <br/>   머신 러닝은 주로 자동화 도구로 인식되어 있지만 그것을 모델링 과정에서 인간적 요소를 최소화하는 방식으로 이용할 수도 있다. 감정이 없는 기계는 역설적으로 틀린 예측으로 인한 인간들의 감정적 손실을 최소화할 것이다. 넘쳐나는 데이터와 AI 시대에서 기존의 방식만을 고집할 일이 아니다. 장벽은 기술적 요소들이 아니라 상상력 부족에 있다.  <br/>      <br/>   유혁 윌로우 데이터 스트래티지 대표  <br/>\n",
            "<!-- 아티클 공통 : DA 250 -->\n",
            "<!-- 아티클 공통 : 관련기사 -->\n",
            "<!-- //아티클 공통 : 관련기사 -->\n",
            "</div>\n",
            "<!-- 미리듣는 오늘 음성 콤포넌트 -->\n",
            "<div class=\"banner_articlebtm soundcloud\" data-widget-type=\"ArticleBtmSoundCloud\" style=\"display:none;\"></div>\n",
            "<!-- //미리듣는 오늘 음성 콤포넌트 -->\n",
            "<div class=\"ab_adtxt_wrap clearfx\">\n",
            "<div class=\"ab_adtxt lt\" id=\"ab_adtxt_lt\">\n",
            "<div class=\"hd\"><img alt=\"AD\" src=\"./aa77_files/i_ad_news.png\"/></div>\n",
            "<iframe frameborder=\"0\" height=\"78\" id=\"ab_adtxt_lt_1\" marginheight=\"0\" marginwidth=\"0\" name=\"ab_adtxt_lt_1\" scrolling=\"no\" src=\"./aa77_files/pelicanc(5).html\" title=\"아티클 바이라인 하단 광고1\" width=\"300\"></iframe><iframe frameborder=\"0\" height=\"54\" id=\"ab_adtxt_lt_2\" marginheight=\"0\" marginwidth=\"0\" name=\"ab_adtxt_lt_2\" scrolling=\"no\" src=\"./aa77_files/1517_01.html\" title=\"아티클 바이라인 하단 광고2\" width=\"300\"></iframe><iframe frameborder=\"0\" height=\"28\" id=\"ab_adtxt_lt_4\" marginheight=\"0\" marginwidth=\"0\" name=\"ab_adtxt_lt_4\" scrolling=\"no\" src=\"./aa77_files/1754_01.html\" title=\"아티클 바이라인 하단 광고4\" width=\"300\"></iframe></div>\n",
            "<div class=\"rt\" id=\"ab_adtxt_rt\"><iframe frameborder=\"0\" height=\"205\" id=\"ab_adtxt_rt\" marginheight=\"0\" marginwidth=\"0\" name=\"ab_adtxt_rt\" scrolling=\"no\" src=\"./aa77_files/pelicanc(6).html\" title=\"아티클 바이라인 하단 광고5\" width=\"240\"></iframe></div>\n",
            "</div>\n",
            "<div class=\"mg jpod_temp2\" data-widget-type=\"JpodEpisode\" id=\"divJpodEpisode\" style=\"display:none;\">\n",
            "<div class=\"hd hide\">\n",
            "<h3>J팟</h3>\n",
            "</div>\n",
            "<div class=\"bd\" id=\"jpoditems\"></div>\n",
            "</div>\n",
            "<!-- 다이제스트 -->\n",
            "<div class=\"banner_articlebtm\">\n",
            "<a href=\"https://news.joins.com/newsdigest/?cloc=joongang-article-newsdigest\" target=\"_blank\"><img alt=\"중앙일보 뉴스레터를 신청하세요!\" src=\"./aa77_files/bn_pc_article_digest_580x80.png\" style=\"width:580px;height:80px;\"/></a>\n",
            "</div>\n",
            "<!-- 다이제스트 -->\n",
            "<div class=\"recommendation_sns\">\n",
            "<!-- 아티클 공통 : 추천 -->\n",
            "<div class=\"recommendation\">\n",
            "<button class=\"btn_like mg\" id=\"btnLike\" type=\"button\">\n",
            "<span class=\"icon\"><span class=\"hide\">좋아요</span></span>\n",
            "<span class=\"count\">21</span>\n",
            "</button>\n",
            "<button class=\"btn_dislike mg\" id=\"btnDislike\" type=\"button\">\n",
            "<span class=\"icon\"><span class=\"hide\">싫어요</span></span>\n",
            "<span class=\"count\">0</span>\n",
            "</button>\n",
            "</div>\n",
            "<div class=\"share_wrap\" data-id=\"23927220\" data-target=\"news\">\n",
            "<a class=\"share_button\" href=\"https://news.joins.com/article/23927220#none\" id=\"btnShare\"><span class=\"icon\">SNS 공유</span></a>\n",
            "</div>\n",
            "</div>\n",
            "<!-- 구독신청 -->\n",
            "<div class=\"mg article_subscription\">\n",
            "<a href=\"https://www.joins.com/Media/List.aspx?mseq=11\" target=\"_blank\" title=\"온라인 구독신청\">온라인 구독신청</a> <a href=\"https://www.joins.com/Special/Delivery.aspx\" target=\"_blank\" title=\"지면 구독신청\">지면 구독신청</a>\n",
            "</div>\n",
            "<!-- //구독신청 -->\n",
            "<!-- 아티클 공통 : 태그 -->\n",
            "<div class=\"tag_list\">\n",
            "<div class=\"hd\">\n",
            "<h3>태그</h3>\n",
            "</div>\n",
            "<div class=\"bd\">\n",
            "<ul class=\"clearfx mg\">\n",
            "<li>\n",
            "<a href=\"https://news.joins.com/search?keyword=%EC%9C%A0%ED%98%81%EC%9D%98%20%EB%8D%B0%EC%9D%B4%ED%84%B0%EC%9D%B4%EC%95%BC%EA%B8%B0&amp;cloc=joongang|article|tagkeyword\"><h2>#유혁의 데이터이야기</h2></a>\n",
            "</li>\n",
            "<li>\n",
            "<a href=\"https://news.joins.com/search?keyword=%EB%8D%B0%EC%9D%B4%ED%84%B0&amp;cloc=joongang|article|tagkeyword\"><h2>#데이터</h2></a>\n",
            "</li>\n",
            "<li>\n",
            "<a href=\"https://news.joins.com/search?keyword=%EA%B0%90%EC%A0%95&amp;cloc=joongang|article|tagkeyword\"><h2>#감정</h2></a>\n",
            "</li>\n",
            "<li>\n",
            "<a href=\"https://news.joins.com/search?keyword=%EB%8D%B0%EC%9D%B4%ED%84%B0%20%EC%82%AC%EC%9D%B4%EC%96%B8%ED%8B%B0%EC%8A%A4%ED%8A%B8&amp;cloc=joongang|article|tagkeyword\"><h2>#데이터 사이언티스트</h2></a>\n",
            "</li>\n",
            "<li>\n",
            "<a href=\"https://news.joins.com/search?keyword=%EC%97%AC%EB%A1%A0%EC%A1%B0%EC%82%AC%20%EB%B0%A9%EC%8B%9D&amp;cloc=joongang|article|tagkeyword\"><h2>#여론조사 방식</h2></a>\n",
            "</li>\n",
            "<li>\n",
            "<a href=\"https://news.joins.com/search?keyword=%EB%8D%B0%EC%9D%B4%ED%84%B0%20%EC%88%98%EC%A7%91&amp;cloc=joongang|article|tagkeyword\"><h2>#데이터 수집</h2></a>\n",
            "</li>\n",
            "<li>\n",
            "<a href=\"https://news.joins.com/search?keyword=%EB%AF%B8%EB%8C%80%EC%84%A0%20%EC%98%88%EC%B8%A1%EC%98%A4%EB%A5%98&amp;cloc=joongang|article|tagkeyword\"><h2>#미대선 예측오류</h2></a>\n",
            "</li>\n",
            "</ul>\n",
            "</div>\n",
            "</div>\n",
            "<!-- //아티클 공통 : 태그 -->\n",
            "<!-- //아티클 공통 :  이슈키워드 관련기사 -->\n",
            "<div id=\"divRelateTag\"><div class=\"ft_related_article_type2\"><div class=\"hd\"><h3 class=\"subtit_comm\"><span>관련</span> 태그 기사</h3></div><div class=\"bd\"><div class=\"slide_wrap slide_btn clearfx slick-initialized slick-slider\" id=\"related_slide_wrap\"><div aria-live=\"polite\" class=\"slick-list draggable\" tabindex=\"0\"><div class=\"slick-track\" style=\"opacity: 1; width: 640px; transform: translate3d(0px, 0px, 0px);\"><div aria-hidden=\"false\" class=\"slide slick-slide slick-active\" data-slick-index=\"0\" style=\"width: 640px;\"><ul class=\"clearfx\"><li><span class=\"thumb\"><a href=\"https://news.joins.com/article/23943615?cloc=joongang|article|tagnews\"><img alt=\"데이터메이커 ‘K-DA 데이터 컨퍼런스 2020 &amp; EXPO’ 참여\" src=\"./aa77_files/saved_resource\"/><span class=\"mask\"></span></a></span><h3 class=\"mg\"><a href=\"https://news.joins.com/article/23943615?cloc=joongang|article|tagnews\">데이터메이커 ‘K-DA 데이터 컨퍼런스 2020 &amp; EXPO’ 참여</a></h3></li><li><span class=\"thumb\"><a href=\"https://news.joins.com/article/23920738?cloc=joongang|article|tagnews\"><img alt=\"\" src=\"./aa77_files/saved_resource(1)\" 노선=\"\" 데이터=\"\" 버스=\"\" 빅데이터가=\"\" 서울시,=\"\" 조정\"=\"\" 한다\"=\"\" 활용해=\"\"/><span class=\"mask\"></span></a></span><h3 class=\"mg\"><a href=\"https://news.joins.com/article/23920738?cloc=joongang|article|tagnews\">\"빅데이터가 한다\" 서울시, 데이터 활용해 버스 노선 조정</a></h3></li><li><span class=\"thumb\"><a href=\"https://news.joins.com/article/23930310?cloc=joongang|article|tagnews\"><img alt=\"김택진의 데이터 야구, 판을 바꿨다\" src=\"./aa77_files/saved_resource(2)\"/><span class=\"mask\"></span></a></span><h3 class=\"mg\"><a href=\"https://news.joins.com/article/23930310?cloc=joongang|article|tagnews\">김택진의 데이터 야구, 판을 바꿨다</a></h3></li></ul></div></div></div></div></div></div></div><div id=\"admaru_incontentVideo\" style=\"position:relative;width:550px;height:310px;margin:0 auto;display:none;\"><script src=\"./aa77_files/ima3.js.다운로드\" type=\"text/javascript\"></script><script src=\"./aa77_files/joongang_admaru_icv.js.다운로드\"></script></div>\n",
            "<div class=\"ft_realtime_article\" id=\"divRealtime\" style=\"display:none;\"></div>\n",
            "<input id=\"articleRelation_Find\" type=\"hidden\" value=\"유혁의 데이터이야기\"/>\n",
            "<!-- //아티클 공통 :  이슈키워드 관련기사 -->\n",
            "<!-- 아티클 카툰 : 회차 이동 네비게이션 -->\n",
            "<!-- //아티클 카툰 : 회차 이동 네비게이션 -->\n",
            "<div class=\"hot_click_wrap\"><div class=\" trc_related_container trc_spotlight_widget\" id=\"taboola-below-article-thumbnails\"></div><script type=\"text/javascript\">  window._taboola = window._taboola || [];  _taboola.push({\tmode: \"alternating-thumbnails-a\",\tcontainer: \"taboola-below-article-thumbnails\",\tplacement: \"Below Article Thumbnails\",\ttarget_type: \"mix\"  });</script></div>\n",
            "<!-- 아티클 공통 : PHOTO & VIDEO -->\n",
            "<div class=\"photo_video\" style=\"display: none;\">\n",
            "<div class=\"hd\">\n",
            "<h3 class=\"subtit_comm\">PHOTO &amp; VIDEO</h3>\n",
            "</div>\n",
            "<div class=\"bd\"></div>\n",
            "<div class=\"ft\">\n",
            "<a class=\"add\" href=\"https://news.joins.com/Pic?cloc=joongang|article|photovod\"><span class=\"hide\">PHOTO &amp; VIDEO</span> 더보기<span class=\"icon\"></span></a>\n",
            "</div>\n",
            "</div>\n",
            "<!-- //아티클 공통 : PHOTO & VIDEO -->\n",
            "<!-- 아티클 공통 : 댓글: 작성/보기 -->\n",
            "<div class=\"comment_area\" id=\"comment\"><div class=\"hd\"><strong class=\"subtit_comm\">전체댓글<span>0</span></strong><p><a href=\"https://bbs.joins.com/app/myjoins_policy/163124\" target=\"_blank\">게시판 관리기준</a></p></div><div class=\"bd\"><div class=\"comment_form\"><div class=\"select_sns clearfx\"> <dt class=\"hide\">로그인 계정 선택</dt> <dl class=\"clearfx\" data-bind=\"list\"> <dd class=\"i_js\" data-bind=\"item\"><a class=\"snsLogin \" data-code=\"joins\" data-id=\"1\" href=\"https://my.joins.com/login/login.asp\" target=\"_self\">조인스</a></dd> <dd class=\"i_fb\" data-bind=\"item\"><a class=\"snsLogin \" data-code=\"facebook\" data-id=\"2\" href=\"https://news.joins.com/sns/login?snstype=facebook\" target=\"_blank\">페이스북</a></dd> <dd class=\"i_tw\" data-bind=\"item\"><a class=\"snsLogin \" data-code=\"twitter\" data-id=\"3\" href=\"https://news.joins.com/sns/login?snstype=twitter\" target=\"_blank\">트위터</a></dd> <dd class=\"i_kk\" data-bind=\"item\"><a class=\"snsLogin \" data-code=\"kakao\" data-id=\"4\" href=\"https://my.joins.com/login/login.asp\" target=\"_self\">카카오</a></dd> <dd class=\"i_ap\" data-bind=\"item\"><a class=\"snsLogin \" data-code=\"apple\" data-id=\"5\" href=\"https://my.joins.com/login/login.asp\" target=\"_self\">애플</a></dd> </dl> <span class=\"mg sns_cmt\" style=\"display: inline;\"><strong>[알림]</strong> 소셜 로그인으로 손쉽게 의견을 작성해보세요.</span> <div class=\"sns_cmt_fb\"></div></div><div class=\"form_rt\"> <span class=\"logout_area\" style=\"display: none;\"> <button class=\"btn_logout\" type=\"button\">로그아웃</button> </span> <div class=\"social_comment\"> <a class=\"mg\" href=\"https://news.joins.com/article/23927220#none\">소셜댓글이란?</a> <div class=\"layer_social_comment\" style=\"display: none;\"> <dl class=\"mg\"> <dt><strong>소셜댓글이란?</strong></dt> <dd class=\"content\"><span class=\"icon\"></span>회원님이 사용중인 <em>트위터, 페이스북, 카카오</em>로<br/> 댓글을 작성할 수 있는 새로운 오픈 댓글 서비스입니다.</dd> </dl> <a class=\"btn_close\" onclick=\"$('.layer_social_comment').hide();\" style=\"cursor:pointer;\"><i class=\"icon_close\">닫기</i></a> </div> </div></div><form data-seq=\"0\" id=\"commentForm\" method=\"post\"> <fieldset class=\"fieldset\"> <legend class=\"hide\">댓글쓰기</legend> <div class=\"cont\"> <div class=\"cont_textarea\"> <textarea class=\"content\" cols=\"80\" data-placeholder=\"로그인 후 이용 가능합니다. 의견 작성을 위해 원하시는 계정으로 로그인 해주십시오\" maxlength=\"500\" name=\"content\" rows=\"10\" title=\"댓글 내용\"></textarea> </div> <span class=\"count\">0/500</span> <button class=\"btn_submit mg\" type=\"submit\">등록</button> </div> </fieldset></form></div><div class=\"mg list_sort\" style=\"display: none;\"><ul class=\"clearfx\" data-bind=\"list\"><li class=\"on\" data-bind=\"item\" data-sorttype=\"new\"><a href=\"https://news.joins.com/article/23927220#\">최근순</a></li><li data-bind=\"item\" data-sorttype=\"like\"><a href=\"https://news.joins.com/article/23927220#\">추천순</a></li><li data-bind=\"item\" data-sorttype=\"bad\"><a href=\"https://news.joins.com/article/23927220#\">반대순</a></li></ul></div><div class=\"comment_list\"></div></div><div class=\"ft\" style=\"display: none;\"><a class=\"mg\" href=\"https://news.joins.com/article/23927220#\"></a></div></div>\n",
            "<!-- 아티클 로그아웃 : 하단_좌우측 (300 x 250 2슬롯) -->\n",
            "<div class=\"advertising\">\n",
            "<div id=\"articleBottomLeft\"></div>\n",
            "<div id=\"articleBottomRight\"></div>\n",
            "</div>\n",
            "<div class=\"shpping_life\">\n",
            "<div class=\"hd\"><img alt=\"shpping&amp;life\" src=\"./aa77_files/trand_logo.gif\"/></div>\n",
            "<div class=\"bd\">\n",
            "<ul class=\"clearfx\">\n",
            "<li id=\"shpping_life_1\"><div class=\"bd\"><iframe frameborder=\"0\" height=\"200\" marginheight=\"0\" marginwidth=\"0\" scrolling=\"no\" src=\"./aa77_files/tbspW8tb.html\" title=\"광고\" width=\"200\"></iframe></div></li>\n",
            "<li id=\"shpping_life_2\"><div class=\"bd\"><iframe frameborder=\"0\" height=\"200\" marginheight=\"0\" marginwidth=\"0\" scrolling=\"no\" src=\"./aa77_files/tgFPQ4CJ.html\" title=\"광고\" width=\"200\"></iframe></div></li>\n",
            "<li id=\"shpping_life_3\"><div class=\"bd\"><iframe frameborder=\"0\" height=\"200\" marginheight=\"0\" marginwidth=\"0\" scrolling=\"no\" src=\"./aa77_files/tgKddDqq.html\" title=\"광고\" width=\"200\"></iframe></div></li>\n",
            "</ul>\n",
            "</div>\n",
            "</div>\n",
            "</div>\n",
            "<div id=\"sub\">\n",
            "<!-- 아티클 공통 : DA 300 -->\n",
            "<div class=\"rts sub_da_300\" data-widget-service=\"da_300\" data-widget-type=\"Ad\"><div class=\"bd\"><div id=\"imp_ad_da_300\"><script data-id=\"_9eCcKooTN6Z6qdaL3rJxA\" name=\"joongang_p/article/article@article_top_right_300x250?mlink=3\" src=\"./aa77_files/persona.js.다운로드\" type=\"text/javascript\"></script><script src=\"./aa77_files/4bt_4p_aYZLeHvg3WpShADF3fTGj0K7NQ8MZjbfpq1uEAM4qWzAZAbZDSXNVZUJ6V1RkR3ppcktOd2hId2JBAstB1_YYvmTN-gPLQdf2GL5kzfo.js(6).다운로드\"></script><div id=\"_9eCcKooTN6Z6qdaL3rJxA\"><iframe frameborder=\"0\" height=\"250px\" leftmargin=\"0\" marginheight=\"0\" marginwidth=\"0\" name=\"mliframe\" scrolling=\"no\" src=\"./aa77_files/article@article_top_right_300x250.html\" topmargin=\"0\" width=\"300px\"></iframe></div></div></div></div>\n",
            "<!-- 아티클 공통 : 유입경로에 따른 추천 뉴스 -->\n",
            "<div class=\"rts sub_series\" id=\"sub_series_recommendedArticles\">\n",
            "<div class=\"hd\"><h3 class=\"subtit_comm\">추천기사</h3></div>\n",
            "<div class=\"bd\">\n",
            "<ul class=\"list_top\">\n",
            "<li>\n",
            "<span class=\"thumb\">\n",
            "<a href=\"https://news.joins.com/article/23946227?cloc=joongang-article-recommend\">\n",
            "<img alt='尹의견서 내고 증인 쏙 빠졌다\n",
            "\"심재철, 판사문건 위증죄 회피\"' src=\"./aa77_files/saved_resource(3)\"/>\n",
            "</a>\n",
            "</span>\n",
            "<span class=\"text_wrap\">\n",
            "<span class=\"text_center\">\n",
            "<strong class=\"mg\"><a href=\"https://news.joins.com/article/23946227?cloc=joongang-article-recommend\">尹의견서 내고 증인 쏙 빠졌다\n",
            "\"심재철, 판사문건 위증죄 회피\"</a></strong>\n",
            "</span><span class=\"valign_fix\"></span>\n",
            "</span>\n",
            "</li>\n",
            "</ul>\n",
            "<ul class=\"list\">\n",
            "<li>\n",
            "<span class=\"thumb\">\n",
            "<a href=\"https://news.joins.com/article/23946162?cloc=joongang-article-recommend\">\n",
            "<img alt=\"尹봉사 문제삼은 秋\n",
            "그 근거는 '4년전 반기문'\" src=\"./aa77_files/saved_resource(4)\"/>\n",
            "</a>\n",
            "</span>\n",
            "<span class=\"text_wrap\">\n",
            "<span class=\"text_center\">\n",
            "<strong class=\"mg\">\n",
            "<a href=\"https://news.joins.com/article/23946162?cloc=joongang-article-recommend\"> <span class=\"label_02\">단독</span>尹봉사 문제삼은 秋\n",
            "그 근거는 '4년전 반기문'</a>\n",
            "</strong>\n",
            "</span><span class=\"valign_fix\"></span>\n",
            "</span>\n",
            "</li>\n",
            "</ul>\n",
            "<ul class=\"list\">\n",
            "<li>\n",
            "<span class=\"text_wrap\">\n",
            "<span class=\"text_center\">\n",
            "<strong class=\"mg\">\n",
            "<a href=\"https://news.joins.com/article/23946139?cloc=joongang-article-recommend\">\"정직도 해임도 누명, 소송 불사\" \n",
            "尹총장 믿는 '조미연 결정문' </a>\n",
            "</strong>\n",
            "</span><span class=\"valign_fix\"></span>\n",
            "</span>\n",
            "</li>\n",
            "</ul>\n",
            "<ul class=\"list\">\n",
            "<li>\n",
            "<span class=\"text_wrap\">\n",
            "<span class=\"text_center\">\n",
            "<strong class=\"mg\">\n",
            "<a href=\"https://news.joins.com/article/23946255?cloc=joongang-article-recommend\">尹징계위 중 \"꺾일 수 없는···\"\n",
            "이육사 시 페북에 올린 추미애</a>\n",
            "</strong>\n",
            "</span><span class=\"valign_fix\"></span>\n",
            "</span>\n",
            "</li>\n",
            "</ul>\n",
            "<ul class=\"list\">\n",
            "<li>\n",
            "<span class=\"thumb\">\n",
            "<a href=\"https://news.joins.com/article/23945784?cloc=joongang-article-recommend\">\n",
            "<img alt=\"윤석열 징계 운명의 날\n",
            "秋·尹 두번째 기나긴 하루\" src=\"./aa77_files/saved_resource(5)\"/>\n",
            "</a>\n",
            "</span>\n",
            "<span class=\"text_wrap\">\n",
            "<span class=\"text_center\">\n",
            "<strong class=\"mg\">\n",
            "<a href=\"https://news.joins.com/article/23945784?cloc=joongang-article-recommend\">윤석열 징계 운명의 날\n",
            "秋·尹 두번째 기나긴 하루</a>\n",
            "</strong>\n",
            "</span><span class=\"valign_fix\"></span>\n",
            "</span>\n",
            "</li>\n",
            "</ul>\n",
            "<ul class=\"list\">\n",
            "<li>\n",
            "<span class=\"thumb\">\n",
            "<a href=\"https://news.joins.com/article/23946200?cloc=joongang-article-recommend\">\n",
            "<img alt='文 \"비상\" 외친날 양승조 행보\n",
            "30명 지지자 앞 노마스크 인사' src=\"./aa77_files/saved_resource(6)\"/>\n",
            "</a>\n",
            "</span>\n",
            "<span class=\"text_wrap\">\n",
            "<span class=\"text_center\">\n",
            "<strong class=\"mg\">\n",
            "<a href=\"https://news.joins.com/article/23946200?cloc=joongang-article-recommend\">文 \"비상\" 외친날 양승조 행보\n",
            "30명 지지자 앞 노마스크 인사</a>\n",
            "</strong>\n",
            "</span><span class=\"valign_fix\"></span>\n",
            "</span>\n",
            "</li>\n",
            "</ul>\n",
            "<ul class=\"list\">\n",
            "<li>\n",
            "<span class=\"thumb\">\n",
            "<a href=\"https://news.joins.com/article/23946207?cloc=joongang-article-recommend\">\n",
            "<img alt=\"셀트리온 코로나치료제 승인\n",
            "서울아산병원서 곧 투여 예정\" src=\"./aa77_files/saved_resource(7)\"/>\n",
            "</a>\n",
            "</span>\n",
            "<span class=\"text_wrap\">\n",
            "<span class=\"text_center\">\n",
            "<strong class=\"mg\">\n",
            "<a href=\"https://news.joins.com/article/23946207?cloc=joongang-article-recommend\">셀트리온 코로나치료제 승인\n",
            "서울아산병원서 곧 투여 예정</a>\n",
            "</strong>\n",
            "</span><span class=\"valign_fix\"></span>\n",
            "</span>\n",
            "</li>\n",
            "</ul>\n",
            "<ul class=\"list\">\n",
            "<li>\n",
            "<span class=\"thumb\">\n",
            "<a href=\"https://news.joins.com/article/23946233?cloc=joongang-article-recommend\">\n",
            "<img alt=\"한밤 '흉가 체험'하던 유튜버들\n",
            "심하게 부패된 남성 시신 발견 \" src=\"./aa77_files/saved_resource(8)\"/>\n",
            "</a>\n",
            "</span>\n",
            "<span class=\"text_wrap\">\n",
            "<span class=\"text_center\">\n",
            "<strong class=\"mg\">\n",
            "<a href=\"https://news.joins.com/article/23946233?cloc=joongang-article-recommend\">한밤 '흉가 체험'하던 유튜버들\n",
            "심하게 부패된 남성 시신 발견 </a>\n",
            "</strong>\n",
            "</span><span class=\"valign_fix\"></span>\n",
            "</span>\n",
            "</li>\n",
            "</ul>\n",
            "<ul class=\"list\">\n",
            "<li>\n",
            "<span class=\"thumb\">\n",
            "<a href=\"https://news.joins.com/article/23946179?cloc=joongang-article-recommend\">\n",
            "<img alt='\"그래서 北과 전쟁 나면 좋겠냐\"\n",
            "토론하던 초등생 가로막은 교사' src=\"./aa77_files/saved_resource(9)\"/>\n",
            "</a>\n",
            "</span>\n",
            "<span class=\"text_wrap\">\n",
            "<span class=\"text_center\">\n",
            "<strong class=\"mg\">\n",
            "<a href=\"https://news.joins.com/article/23946179?cloc=joongang-article-recommend\">\"그래서 北과 전쟁 나면 좋겠냐\"\n",
            "토론하던 초등생 가로막은 교사</a>\n",
            "</strong>\n",
            "</span><span class=\"valign_fix\"></span>\n",
            "</span>\n",
            "</li>\n",
            "</ul>\n",
            "<ul class=\"list\">\n",
            "<li>\n",
            "<span class=\"thumb\">\n",
            "<a href=\"https://news.joins.com/article/23946266?cloc=joongang-article-recommend\">\n",
            "<img alt=\"확진자 수, 한국의 0.03%\n",
            "베트남의 방역 성공 비결\" src=\"./aa77_files/saved_resource(10)\"/>\n",
            "</a>\n",
            "</span>\n",
            "<span class=\"text_wrap\">\n",
            "<span class=\"text_center\">\n",
            "<strong class=\"mg\">\n",
            "<a href=\"https://news.joins.com/article/23946266?cloc=joongang-article-recommend\">확진자 수, 한국의 0.03%\n",
            "베트남의 방역 성공 비결</a>\n",
            "</strong>\n",
            "</span><span class=\"valign_fix\"></span>\n",
            "</span>\n",
            "</li>\n",
            "</ul>\n",
            "<ul class=\"list\">\n",
            "<li>\n",
            "<span class=\"thumb\">\n",
            "<a href=\"https://news.joins.com/article/23946107?cloc=joongang-article-recommend\">\n",
            "<img alt='\"대통령 측근 비리 막자\"더니\n",
            "文 \"공수처로 檢 민주적 통제\" ' src=\"./aa77_files/saved_resource(11)\"/>\n",
            "</a>\n",
            "</span>\n",
            "<span class=\"text_wrap\">\n",
            "<span class=\"text_center\">\n",
            "<strong class=\"mg\">\n",
            "<a href=\"https://news.joins.com/article/23946107?cloc=joongang-article-recommend\">\"대통령 측근 비리 막자\"더니\n",
            "文 \"공수처로 檢 민주적 통제\" </a>\n",
            "</strong>\n",
            "</span><span class=\"valign_fix\"></span>\n",
            "</span>\n",
            "</li>\n",
            "</ul>\n",
            "<ul class=\"list\">\n",
            "<li>\n",
            "<span class=\"text_wrap\">\n",
            "<span class=\"text_center\">\n",
            "<strong class=\"mg\">\n",
            "<a href=\"https://news.joins.com/article/23946004?cloc=joongang-article-recommend\">후배 양심선언엔 질타, 상관은 패싱\n",
            "\"박은정은 秋 '별동대'처럼 일했다\"</a>\n",
            "</strong>\n",
            "</span><span class=\"valign_fix\"></span>\n",
            "</span>\n",
            "</li>\n",
            "</ul>\n",
            "<ul class=\"list\">\n",
            "<li>\n",
            "<span class=\"thumb\">\n",
            "<a href=\"https://news.joins.com/article/23946229?cloc=joongang-article-recommend\">\n",
            "<img alt='\"생머리·하얀얼굴은 내 페티쉬\" \n",
            "현직 판사가 쓴 논란의 칼럼' src=\"./aa77_files/saved_resource(12)\"/>\n",
            "</a>\n",
            "</span>\n",
            "<span class=\"text_wrap\">\n",
            "<span class=\"text_center\">\n",
            "<strong class=\"mg\">\n",
            "<a href=\"https://news.joins.com/article/23946229?cloc=joongang-article-recommend\">\"생머리·하얀얼굴은 내 페티쉬\" \n",
            "현직 판사가 쓴 논란의 칼럼</a>\n",
            "</strong>\n",
            "</span><span class=\"valign_fix\"></span>\n",
            "</span>\n",
            "</li>\n",
            "</ul>\n",
            "<ul class=\"list\">\n",
            "<li>\n",
            "<span class=\"text_wrap\">\n",
            "<span class=\"text_center\">\n",
            "<strong class=\"mg\">\n",
            "<a href=\"https://news.joins.com/article/23946155?cloc=joongang-article-recommend\">임종헌 재판 증언대 선 이수진 \n",
            "\"내가 야근 안 해? 김밥 먹으며 일\"</a>\n",
            "</strong>\n",
            "</span><span class=\"valign_fix\"></span>\n",
            "</span>\n",
            "</li>\n",
            "</ul>\n",
            "<ul class=\"list\">\n",
            "<li>\n",
            "<span class=\"thumb\">\n",
            "<a href=\"https://innovationlab.co.kr/project/kac/?cloc=joongang-article-recommend\">\n",
            "<img alt=\"기다림 덜고 설렘을 더하다\n",
            "미리 가본 2030년 스마트공항\" src=\"./aa77_files/saved_resource(13)\"/>\n",
            "</a>\n",
            "</span>\n",
            "<span class=\"text_wrap\">\n",
            "<span class=\"text_center\">\n",
            "<strong class=\"mg\">\n",
            "<a href=\"https://innovationlab.co.kr/project/kac/?cloc=joongang-article-recommend\">기다림 덜고 설렘을 더하다\n",
            "미리 가본 2030년 스마트공항</a>\n",
            "</strong>\n",
            "</span><span class=\"valign_fix\"></span>\n",
            "</span>\n",
            "</li>\n",
            "</ul>\n",
            "<ul class=\"list\">\n",
            "<li>\n",
            "<span class=\"text_wrap\">\n",
            "<span class=\"text_center\">\n",
            "<strong class=\"mg\">\n",
            "<a href=\"https://news.joins.com/article/23946118?cloc=joongang-article-recommend\">윤희숙 \"尹징계엔 특공대처럼 달리더니\n",
            "文정부, 백신은 느긋하게 떨이로 사려해\" </a>\n",
            "</strong>\n",
            "</span><span class=\"valign_fix\"></span>\n",
            "</span>\n",
            "</li>\n",
            "</ul>\n",
            "</div>\n",
            "</div>\n",
            "<!-- 아티클 공통 : 유입경로에 따른 추천 뉴스 -->\n",
            "<div class=\"rts sub_series\" id=\"externalInflow\" style=\"display:none;\"></div>\n",
            "<!-- 아티클 공통 : 많이 본 기사 -->\n",
            "<div class=\"rts sub_article\">\n",
            "<div class=\"hd\"><h3 class=\"subtit_comm\">많이 본 기사</h3></div>\n",
            "<div class=\"bd\">\n",
            "<ul>\n",
            "<li class=\"top\">\n",
            "<em class=\"mg\">1</em> <strong><a href=\"https://news.joins.com/article/23944668?cloc=joongang-article-clickraking\">[장세정의 시선] 권력에 겁없이 맞선 윤석열은 '수레바퀴 막아선 사마귀'인가</a></strong>\n",
            "</li>\n",
            "<li class=\"top\">\n",
            "<em class=\"mg\">2</em> <strong><a href=\"https://news.joins.com/article/23944670?cloc=joongang-article-clickraking\">[박성민 특별기고] 윤석열 해임이란 가속 페달, 레임덕 빠뜨릴 가능성 크다</a></strong>\n",
            "</li>\n",
            "<li class=\"top\">\n",
            "<em class=\"mg\">3</em> <strong><a href=\"https://news.joins.com/article/23944672?cloc=joongang-article-clickraking\">[이하경 칼럼] 문 대통령은 윤석열 죽이는 ‘원님 재판’ 중단시켜야</a></strong>\n",
            "</li>\n",
            "<li>\n",
            "<em class=\"mg\">4</em> <strong><a href=\"https://news.joins.com/article/23945518?cloc=joongang-article-clickraking\">[오병상의 코멘터리]  코로나 역풍 분다..백신 확보하라</a></strong>\n",
            "</li>\n",
            "<li>\n",
            "<em class=\"mg\">5</em> <strong><a href=\"https://news.joins.com/article/23944666?cloc=joongang-article-clickraking\">[단독]日 미쓰비시, 中 강제징용 피해자에 첫 보상금 지급…\"불법은 인정 안 했다\"</a></strong>\n",
            "</li>\n",
            "<li>\n",
            "<em class=\"mg\">6</em> <strong><a href=\"https://news.joins.com/article/23944671?cloc=joongang-article-clickraking\">[손해용의 시시각각] 3년 반 전 약속한 경제정책의 배신</a></strong>\n",
            "</li>\n",
            "<li>\n",
            "<em class=\"mg\">7</em> <strong><a href=\"https://news.joins.com/article/23945647?cloc=joongang-article-clickraking\">[김진국 칼럼] 민주주의는 역지사지다</a></strong>\n",
            "</li>\n",
            "<li>\n",
            "<em class=\"mg\">8</em> <strong><a href=\"https://news.joins.com/article/23944656?cloc=joongang-article-clickraking\">[사설] 공공임대로 집값 잡는다는 거짓</a></strong>\n",
            "</li>\n",
            "<li>\n",
            "<em class=\"mg\">9</em> <strong><a href=\"https://news.joins.com/article/23945646?cloc=joongang-article-clickraking\">[예영준의 시시각각] 대통령의 사다리, 국민의 사다리</a></strong>\n",
            "</li>\n",
            "<li>\n",
            "<em class=\"mg\">10</em> <strong><a href=\"https://news.joins.com/article/23945643?cloc=joongang-article-clickraking\">[서소문 포럼] ‘이낙연 정치’의 정체성은?</a></strong>\n",
            "</li>\n",
            "</ul>\n",
            "</div>\n",
            "</div>\n",
            "<div class=\"rts sub_datxt\" id=\"widget_favorite_articlesAD\"><div class=\"bd\"><iframe frameborder=\"0\" height=\"36\" id=\"favorite_ad\" marginheight=\"0\" marginwidth=\"0\" name=\"favorite_ad\" scrolling=\"no\" src=\"./aa77_files/pelicanc(7).html\" title=\"많이본 기사 하단 AD\" width=\"260\"></iframe></div></div>\n",
            "<div class=\"rts sub_innov_lab sub_innov_lab_temp\" data-widget-type=\"InnovationLabList\" id=\"widget_innovation_lab\" style=\"\">\n",
            "<div class=\"hd\">\n",
            "<strong class=\"subtit_comm\">Innovation Lab</strong>\n",
            "</div>\n",
            "<div class=\"bd\">\n",
            "<div class=\"slide_wrap clearfx slick-initialized slick-slider\" data-slideshowcnt=\"1\">\n",
            "<div aria-live=\"polite\" class=\"slick-list draggable\" tabindex=\"0\"><div class=\"slick-track\" style=\"opacity: 1; width: 260px; transform: translate3d(0px, 0px, 0px);\"><div aria-hidden=\"false\" class=\"slide clearfx slick-slide slick-active\" data-slick-index=\"0\" style=\"width: 260px;\">\n",
            "<span class=\"thumb\">\n",
            "<a href=\"https://innovationlab.co.kr/project/kac\" target=\"_self\"><img alt=\"\" src=\"./aa77_files/wimg_20201214114139704583.jpg\"/></a>\n",
            "</span>\n",
            "<span class=\"text_wrap\">\n",
            "<span class=\"text_center\">\n",
            "<strong class=\"headline mg\"><a href=\"https://innovationlab.co.kr/project/kac\" target=\"_self\">2030년의 스마트한 <br/>세계 여행</a></strong>\n",
            "<span class=\"byline\"><em>Posted by 한국공항공사</em></span>\n",
            "</span>\n",
            "</span>\n",
            "</div></div></div>\n",
            "</div>\n",
            "</div>\n",
            "</div>\n",
            "<div class=\"rts sub_branded_contents\" id=\"widget_sponsored_div\" style=\"\">\n",
            "<div class=\"hd\">\n",
            "<strong class=\"subtit_comm\">Branded Content</strong>\n",
            "</div>\n",
            "<div class=\"bd\">\n",
            "<div class=\"slide_wrap clearfx slick-initialized slick-slider\" data-widget-type=\"SponsoredContents\" id=\"widget_sponsored_contents\">\n",
            "<div aria-live=\"polite\" class=\"slick-list draggable\" tabindex=\"0\"><div class=\"slick-track\" style=\"opacity: 1; width: 1242px; transform: translate3d(-276px, 0px, 0px);\"><div aria-hidden=\"true\" class=\"slide slick-slide slick-cloned\" data-slick-index=\"-2\" style=\"width: 122px;\">\n",
            "<a href=\"https://news.joins.com/Digitalspecial/444\" target=\"_blank\">\n",
            "<img alt=\"\" src=\"./aa77_files/bn_326x150.jpg\"/>\n",
            "<strong>한국방송통신대 신입생 모집</strong>\n",
            "</a>\n",
            "</div><div aria-hidden=\"true\" class=\"slide slick-slide slick-cloned\" data-slick-index=\"-1\" style=\"width: 122px;\">\n",
            "<a href=\"https://blog.naver.com/sdco123/222153990302\" target=\"_blank\">\n",
            "<img alt=\"\" src=\"./aa77_files/bn_326x150(1).jpg\"/>\n",
            "<strong>새만금을 비추는 첫번째 태양</strong>\n",
            "</a>\n",
            "</div><div aria-hidden=\"false\" class=\"slide slick-slide slick-active\" data-slick-index=\"0\" style=\"width: 122px;\">\n",
            "<a href=\"https://ssully.joins.com/_/C5103EC506184EDA/\" target=\"_blank\">\n",
            "<img alt=\"\" src=\"./aa77_files/bn_326x150(2).jpg\"/>\n",
            "<strong>한 달 내내 쏟아지는 행사로 연말을 풍족하게!</strong>\n",
            "</a>\n",
            "</div><div aria-hidden=\"false\" class=\"slide slick-slide slick-active\" data-slick-index=\"1\" style=\"width: 122px;\">\n",
            "<a href=\"https://www.hellophoto.kr/\" target=\"_blank\">\n",
            "<img alt=\"\" src=\"./aa77_files/bn_326x150(3).jpg\"/>\n",
            "<strong>Hello Photo</strong>\n",
            "</a>\n",
            "</div><div aria-hidden=\"true\" class=\"slide slick-slide\" data-slick-index=\"2\" style=\"width: 122px;\">\n",
            "<a href=\"http://www.kofia.or.kr/popup/webtoon/webtoon_1.html\" target=\"_blank\">\n",
            "<img alt=\"\" src=\"./aa77_files/bn_326x150(4).jpg\"/>\n",
            "<strong>웹툰으로 보는 투자광고</strong>\n",
            "</a>\n",
            "</div><div aria-hidden=\"true\" class=\"slide slick-slide\" data-slick-index=\"3\" style=\"width: 122px;\">\n",
            "<a href=\"https://news.joins.com/Digitalspecial/444\" target=\"_blank\">\n",
            "<img alt=\"\" src=\"./aa77_files/bn_326x150.jpg\"/>\n",
            "<strong>한국방송통신대 신입생 모집</strong>\n",
            "</a>\n",
            "</div><div aria-hidden=\"true\" class=\"slide slick-slide\" data-slick-index=\"4\" style=\"width: 122px;\">\n",
            "<a href=\"https://blog.naver.com/sdco123/222153990302\" target=\"_blank\">\n",
            "<img alt=\"\" src=\"./aa77_files/bn_326x150(1).jpg\"/>\n",
            "<strong>새만금을 비추는 첫번째 태양</strong>\n",
            "</a>\n",
            "</div><div aria-hidden=\"true\" class=\"slide slick-slide slick-cloned\" data-slick-index=\"5\" style=\"width: 122px;\">\n",
            "<a href=\"https://ssully.joins.com/_/C5103EC506184EDA/\" target=\"_blank\">\n",
            "<img alt=\"\" src=\"./aa77_files/bn_326x150(2).jpg\"/>\n",
            "<strong>한 달 내내 쏟아지는 행사로 연말을 풍족하게!</strong>\n",
            "</a>\n",
            "</div><div aria-hidden=\"true\" class=\"slide slick-slide slick-cloned\" data-slick-index=\"6\" style=\"width: 122px;\">\n",
            "<a href=\"https://www.hellophoto.kr/\" target=\"_blank\">\n",
            "<img alt=\"\" src=\"./aa77_files/bn_326x150(3).jpg\"/>\n",
            "<strong>Hello Photo</strong>\n",
            "</a>\n",
            "</div></div></div>\n",
            "<button aria-label=\"previous\" class=\"slick-prev\" data-role=\"none\" style=\"display: block;\" type=\"button\">Previous</button><button aria-label=\"next\" class=\"slick-next\" data-role=\"none\" style=\"display: block;\" type=\"button\">Next</button></div>\n",
            "</div>\n",
            "</div>\n",
            "<!-- 아티클 공통 : 포토이슈 -->\n",
            "<div class=\"rts sub_photo sub_photo_v2\" data-count=\"1\" id=\"widget_photo_issue\">\n",
            "<div class=\"hd\"><h3 class=\"subtit_comm\">포토이슈</h3></div>\n",
            "<div class=\"bd slide_wrap\">\n",
            "<div class=\"slide_list_wrap\" style=\"height:213px;overflow:hidden;\">\n",
            "<div class=\"slide_list\" data-bind=\"list\">\n",
            "<div class=\"slide\" style=\"height:213px;\">\n",
            "<span class=\"thumb item\" style=\"position:relative;\">\n",
            "<a href=\"https://news.joins.com/article/23946189?cloc=joongang-article-photoissue\">\n",
            "<img onerror=\"utils.imageErrorHandler(this)\" src=\"./aa77_files/wimg_2020121515140533110.jpg\"/><span class=\"mask\"></span>\n",
            "</a>\n",
            "</span>\n",
            "<strong class=\"headline mg\">\n",
            "<a href=\"https://news.joins.com/article/23946189?cloc=joongang-article-photoissue\">하와이에서 뉴욕까지, 미국 대통령 선거인단 결정의 순간</a>\n",
            "</strong>\n",
            "</div>\n",
            "</div>\n",
            "</div>\n",
            "</div>\n",
            "<div class=\"ft\" id=\"widget_photo_foot\" style=\"display:none;\"><span class=\"current_page\"></span> /<span class=\"total_page\"></span></div>\n",
            "</div>\n",
            "<!-- 아티클 공통 : 댓글 많은 기사 -->\n",
            "<div class=\"rts sub_article\">\n",
            "<div class=\"hd\"><h3 class=\"subtit_comm\">댓글 많은 기사</h3></div>\n",
            "<div class=\"bd\">\n",
            "<ul>\n",
            "<li class=\"top\">\n",
            "<em class=\"mg\">1</em> <strong><a href=\"https://news.joins.com/article/23945960?cloc=joongang-article-comment\">김종인 \"두 대통령 구속 사죄…대통령 잘못은 집권당의 잘못\" [전문]</a></strong>\n",
            "</li>\n",
            "<li class=\"top\">\n",
            "<em class=\"mg\">2</em> <strong><a href=\"https://news.joins.com/article/23945676?cloc=joongang-article-comment\">[단독]퇴임후 국민봉사? 尹 \"개 3마리 본단 말 어떻게 하나\"</a></strong>\n",
            "</li>\n",
            "<li class=\"top\">\n",
            "<em class=\"mg\">3</em> <strong><a href=\"https://news.joins.com/article/23945659?cloc=joongang-article-comment\">이번엔 신천지·태극기 탓도 못한다, 사라진 K방역 마법</a></strong>\n",
            "</li>\n",
            "<li>\n",
            "<em class=\"mg\">4</em> <strong><a href=\"https://news.joins.com/article/23945668?cloc=joongang-article-comment\">원하는 법 다 이뤄도 與지지율 추락…이해찬 경고가 맞았다</a></strong>\n",
            "</li>\n",
            "<li>\n",
            "<em class=\"mg\">5</em> <strong><a href=\"https://news.joins.com/article/23945796?cloc=joongang-article-comment\">정청래, 野 개혁법 반대에 \"다수당 되든가···이게 민주주의\"</a></strong>\n",
            "</li>\n",
            "<li>\n",
            "<em class=\"mg\">6</em> <strong><a href=\"https://news.joins.com/article/23945777?cloc=joongang-article-comment\">[속보]김종인 오늘 11시 대국민사과 \"MB·朴 비극 국민께 송구\"</a></strong>\n",
            "</li>\n",
            "<li>\n",
            "<em class=\"mg\">7</em> <strong><a href=\"https://news.joins.com/article/23946107?cloc=joongang-article-comment\">\"대통령 측근비리 막자\"더니···文 \"공수처, 민주적 檢 통제장치\"</a></strong>\n",
            "</li>\n",
            "<li>\n",
            "<em class=\"mg\">8</em> <strong><a href=\"https://news.joins.com/article/23945959?cloc=joongang-article-comment\">박능후, 백신 접종도 하기 전에 폐기 걱정 \"젊은층 거부해서\"</a></strong>\n",
            "</li>\n",
            "<li>\n",
            "<em class=\"mg\">9</em> <strong><a href=\"https://news.joins.com/article/23945874?cloc=joongang-article-comment\">\"홍진영 논문 표절 맞다\" 잠정결론...석박사 취소될 듯</a></strong>\n",
            "</li>\n",
            "<li>\n",
            "<em class=\"mg\">10</em> <strong><a href=\"https://news.joins.com/article/23945947?cloc=joongang-article-comment\">[속보]尹 징계위날…文 \"공수처, 檢 무소불위 권한 통제할 것\"</a></strong>\n",
            "</li>\n",
            "</ul>\n",
            "</div>\n",
            "</div>\n",
            "<!-- 아티클 공통 : DA 250 -->\n",
            "<div class=\"rts sub_da_250\" data-widget-service=\"da_250\" data-widget-type=\"Ad\" style=\"\"><div class=\"bd\"><div id=\"imp_ad_da_250\"><script data-id=\"PbT97zl7S-Cua4-iFVxONQ\" name=\"joongang_p/article/article@article_middle_right_network_250x250?mlink=105\" src=\"./aa77_files/persona.js.다운로드\" type=\"text/javascript\"></script><script src=\"./aa77_files/4bt_4p_aYZLeHvg3WpShADF3fTGj0K7NQ8MZjbfpq1uEAM4qWzAZAbZDSXNVZUJ6V1RkR3ppcktOd2hId2JBAstB1_YYvmTN-gPLQdf2GL5kzfo.js(7).다운로드\"></script><div id=\"PbT97zl7S-Cua4-iFVxONQ\"><iframe frameborder=\"0\" height=\"250px\" leftmargin=\"0\" marginheight=\"0\" marginwidth=\"0\" name=\"mliframe\" scrolling=\"no\" src=\"./aa77_files/article@article_middle_right_network_250x250.html\" topmargin=\"0\" width=\"250px\"></iframe></div></div></div></div>\n",
            "<!-- 아티클 공통 : IMC -->\n",
            "<div class=\"rts sub_imc\" data-widget-service=\"da_imc_260\" data-widget-type=\"Ad\"><div class=\"bd\"><div id=\"imp_ad_da_imc_260\"><script data-id=\"fYSmViKuQ-yTvjCSHMTQPw\" name=\"joongang_p/article/article@article_bottom_right_house_260x52?mlink=159\" src=\"./aa77_files/persona.js.다운로드\" type=\"text/javascript\"></script><script src=\"./aa77_files/4bt_4p_aYZLeHvg3WpShADF3fTGj0K7NQ8MZjbfpq1uEAM4qWzAZAbZDSXNVZUJ6V1RkR3ppcktOd2hId2JBAstB1_YYvmTN-gPLQdf2GL5kzfo.js(8).다운로드\"></script><div id=\"fYSmViKuQ-yTvjCSHMTQPw\"><iframe frameborder=\"0\" height=\"52px\" leftmargin=\"0\" marginheight=\"0\" marginwidth=\"0\" name=\"mliframe\" scrolling=\"no\" src=\"./aa77_files/article@article_bottom_right_house_260x52.html\" topmargin=\"0\" width=\"260px\"></iframe></div></div></div></div>\n",
            "<!-- 아티클 공통 : 내부 콘텐트 프로모션 영역 -->\n",
            "<!-- 아티클 공통 : 스타기자 -->\n",
            "<div class=\"rts sub_jplus\">\n",
            "<div class=\"hd\">\n",
            "<h3 class=\"subtit_comm\">스타기자</h3>\n",
            "</div>\n",
            "<div class=\"bd\">\n",
            "<ul>\n",
            "<li>\n",
            "<span class=\"thumb\">\n",
            "<a href=\"https://news.joins.com/IssueSeries/1011?cloc=joongang-article-starreporter\"><img alt=\"채인택\" src=\"./aa77_files/saved_resource(14)\"/><span class=\"frame\"></span></a>\n",
            "</span>\n",
            "<span class=\"text_wrap\">\n",
            "<span class=\"text_center\">\n",
            "<strong><a href=\"https://news.joins.com/article/23945686?cloc=joongang-article-starreporter\">크리스마스에 1만명 구한 美선장...시진핑 '정의의 전쟁' 진실</a></strong>\n",
            "</span><span class=\"valign_fix\"></span>\n",
            "</span>\n",
            "</li>\n",
            "<li>\n",
            "<span class=\"thumb\">\n",
            "<a href=\"https://news.joins.com/IssueSeries/1005?cloc=joongang-article-starreporter\"><img alt=\"안장원\" src=\"./aa77_files/saved_resource(15)\"/><span class=\"frame\"></span></a>\n",
            "</span>\n",
            "<span class=\"text_wrap\">\n",
            "<span class=\"text_center\">\n",
            "<strong><a href=\"https://news.joins.com/article/23945681?cloc=joongang-article-starreporter\">세금 2억 줄이려 3억 쓴다? 묻지마 공동명의는 ‘배보다 배꼽’</a></strong>\n",
            "</span><span class=\"valign_fix\"></span>\n",
            "</span>\n",
            "</li>\n",
            "<li>\n",
            "<span class=\"thumb\">\n",
            "<a href=\"https://news.joins.com/IssueSeries/1003?cloc=joongang-article-starreporter\"><img alt=\"백성호.정희윤\" src=\"./aa77_files/saved_resource(16)\"/><span class=\"frame\"></span></a>\n",
            "</span>\n",
            "<span class=\"text_wrap\">\n",
            "<span class=\"text_center\">\n",
            "<strong><a href=\"https://news.joins.com/article/23945533?cloc=joongang-article-starreporter\">예수님은 왜 물을 포도주로 바꾸었나?</a></strong>\n",
            "</span><span class=\"valign_fix\"></span>\n",
            "</span>\n",
            "</li>\n",
            "</ul>\n",
            "</div>\n",
            "</div>\n",
            "<!-- 아티클 공통 : 핫이슈 -->\n",
            "<!-- 아티클 로그아웃 : 비즈링크 (썸네일 + 텍스트 2슬롯) -->\n",
            "<!-- 아티클 로그아웃 : 파워 링크 (썸네일+텍스트 1슬롯) -->\n",
            "<!-- 아티클 로그아웃 : 인기링크 (텍스트 8줄) -->\n",
            "<!-- 아티클 로그아웃 : 스폰서 링크 (썸네일+텍스트 2슬롯) -->\n",
            "<!-- 아티클 로그아웃 : 스페셜 링크 -->\n",
            "<!-- 아티클 로그아웃 : 핫이슈 링크 -->\n",
            "<!-- 아티클 로그아웃 : 프리미엄 링크 -->\n",
            "<div class=\"rts sub_da_250\" data-widget-service=\"bottom_745\" data-widget-type=\"Ad\" style=\"\"><div class=\"bd\"><div id=\"imp_ad_bottom_745\"><script data-id=\"57yewdxiQ0Wy4r2xtvJGWg\" name=\"joongang_p/article/article@article_bottom_right_network_300x250?mlink=106\" src=\"./aa77_files/persona.js.다운로드\" type=\"text/javascript\"></script><script src=\"./aa77_files/4bt_4p_aYZLeHvg3WpShADF3fTGj0K7NQ8MZjbfpq1uEAM4qWzAZAbZDSXNVZUJ6V1RkR3ppcktOd2hId2JBAstB1_YYvmTN-gPLQdf2GL5kzfo.js(9).다운로드\"></script><div id=\"57yewdxiQ0Wy4r2xtvJGWg\"><iframe frameborder=\"0\" height=\"250px\" leftmargin=\"0\" marginheight=\"0\" marginwidth=\"0\" name=\"mliframe\" scrolling=\"no\" src=\"./aa77_files/article@article_bottom_right_network_300x250.html\" topmargin=\"0\" width=\"300px\"></iframe></div></div></div></div>\n",
            "<!-- 아티클 우측 중단 광고 -->\n",
            "<div class=\"rts\" id=\"da_article_right_middle\"><div class=\"bd\"><div id=\"imp_ad_da_article_right_middle\"><script data-id=\"HI4-9wv6QG2jGIO4FhcdpQ\" name=\"joongang_p/article/article@article_right_middle_banner?mlink=405\" src=\"./aa77_files/persona.js.다운로드\" type=\"text/javascript\"></script><script src=\"./aa77_files/4bt_4p_aYZLeHvg3WpShADF3fTGj0K7NQ8MZjbfpq1uEAM4qWzAZAbZDSXNVZUJ6V1RkR3ppcktOd2hId2JBAstB1_YYvmTN-gPLQdf2GL5kzfo.js(10).다운로드\"></script><div id=\"HI4-9wv6QG2jGIO4FhcdpQ\"><iframe frameborder=\"0\" height=\"600px\" leftmargin=\"0\" marginheight=\"0\" marginwidth=\"0\" name=\"mliframe\" scrolling=\"no\" src=\"./aa77_files/article@article_right_middle_banner.html\" topmargin=\"0\" width=\"300px\"></iframe></div></div></div></div>\n",
            "<!-- TargetPushAD_중앙일보 -->\n",
            "<script charset=\"utf-8\" src=\"./aa77_files/targetpushad.js.다운로드\"></script>\n",
            "<script> (function(){ if(typeof adtive_targetpush_ad != 'undefined') adtive_targetpush_ad.start('S7444448','AZLLLLLF')}(document)) </script>\n",
            "<!--// TargetPushAD_중앙일보 -->\n",
            "</div>\n",
            "<input id=\"menu_key\" type=\"hidden\" value=\"Opinion,EditorialColumn\"/>\n",
            "</div>\n",
            "</div>\n",
            "<div id=\"aside\" style=\"min-height: 794px;\">\n",
            "<div class=\"rta sub_trend\" id=\"wide_trend\" style=\"display: block;\">\n",
            "<div class=\"hd\"><strong class=\"subtit_comm\">실시간 추천 뉴스</strong></div>\n",
            "<div class=\"bd\">\n",
            "<ul>\n",
            "<li>\n",
            "<span class=\"thumb\">\n",
            "<a href=\"https://news.joins.com/article/23945668?cloc=joongang-article-realtimerecommend\">\n",
            "<img onerror=\"utils.imageErrorHandler(this)\" src=\"./aa77_files/saved_resource(17)\"/>\n",
            "</a>\n",
            "</span>\n",
            "<em class=\"rank01\">1</em>\n",
            "<strong class=\"mg\"><a href=\"https://news.joins.com/article/23945668?cloc=joongang-article-realtimerecommend\">원하는 법 다 이뤄도 與지지율 추락…이해찬 경고가 맞았다</a></strong>\n",
            "</li>\n",
            "<li>\n",
            "<span class=\"thumb\">\n",
            "<a href=\"https://news.joins.com/article/23945258?cloc=joongang-article-realtimerecommend\">\n",
            "<img onerror=\"utils.imageErrorHandler(this)\" src=\"./aa77_files/saved_resource(18)\"/>\n",
            "</a>\n",
            "</span>\n",
            "<em class=\"rank02\">2</em>\n",
            "<strong class=\"mg\"><a href=\"https://news.joins.com/article/23945258?cloc=joongang-article-realtimerecommend\">집주인 \"조두순인줄 몰랐다, 나가달라\" 조두순 아내 \"못 간다\"</a></strong>\n",
            "</li>\n",
            "<li>\n",
            "<span class=\"thumb\">\n",
            "<a href=\"https://news.joins.com/article/23945676?cloc=joongang-article-realtimerecommend\">\n",
            "<img onerror=\"utils.imageErrorHandler(this)\" src=\"./aa77_files/saved_resource(19)\"/>\n",
            "</a>\n",
            "</span>\n",
            "<em class=\"rank03\">3</em>\n",
            "<strong class=\"mg\"><a href=\"https://news.joins.com/article/23945676?cloc=joongang-article-realtimerecommend\">[단독]퇴임후 국민봉사? 尹 \"개 3마리 본단 말 어떻게 하나\"</a></strong>\n",
            "</li>\n",
            "<li>\n",
            "<span class=\"thumb\">\n",
            "<a href=\"https://news.joins.com/article/23944942?cloc=joongang-article-realtimerecommend\">\n",
            "<img onerror=\"utils.imageErrorHandler(this)\" src=\"./aa77_files/saved_resource(20)\"/>\n",
            "</a>\n",
            "</span>\n",
            "<em class=\"rank04\">4</em>\n",
            "<strong class=\"mg\"><a href=\"https://news.joins.com/article/23944942?cloc=joongang-article-realtimerecommend\">진중권 \"정치? 이미 하고 있다…끝까지 버티는 것 보여줄 것\"</a></strong>\n",
            "</li>\n",
            "<li>\n",
            "<span class=\"thumb\">\n",
            "<a href=\"https://news.joins.com/article/23944465?cloc=joongang-article-realtimerecommend\">\n",
            "<img onerror=\"utils.imageErrorHandler(this)\" src=\"./aa77_files/saved_resource(21)\"/>\n",
            "</a>\n",
            "</span>\n",
            "<em class=\"rank05\">5</em>\n",
            "<strong class=\"mg\"><a href=\"https://news.joins.com/article/23944465?cloc=joongang-article-realtimerecommend\">[월간중앙] 세상에 알려지지 않은 이건희 삼성 회장 이야기</a></strong>\n",
            "</li>\n",
            "<li>\n",
            "<span class=\"thumb\">\n",
            "<a href=\"https://news.joins.com/article/23945659?cloc=joongang-article-realtimerecommend\">\n",
            "<img onerror=\"utils.imageErrorHandler(this)\" src=\"./aa77_files/saved_resource(22)\"/>\n",
            "</a>\n",
            "</span>\n",
            "<em class=\"rank06\">6</em>\n",
            "<strong class=\"mg\"><a href=\"https://news.joins.com/article/23945659?cloc=joongang-article-realtimerecommend\">이번엔 신천지·태극기 탓도 못한다, 사라진 K방역 마법</a></strong>\n",
            "</li>\n",
            "<li>\n",
            "<span class=\"thumb\">\n",
            "<a href=\"https://news.joins.com/article/23945533?cloc=joongang-article-realtimerecommend\">\n",
            "<img onerror=\"utils.imageErrorHandler(this)\" src=\"./aa77_files/saved_resource(23)\"/>\n",
            "</a>\n",
            "</span>\n",
            "<em class=\"rank07\">7</em>\n",
            "<strong class=\"mg\"><a href=\"https://news.joins.com/article/23945533?cloc=joongang-article-realtimerecommend\">[백성호의 현문우답]예수님은 왜 물을 포도주로 바꾸었나?</a></strong>\n",
            "</li>\n",
            "<li>\n",
            "<span class=\"thumb\">\n",
            "<a href=\"https://news.joins.com/article/23944813?cloc=joongang-article-realtimerecommend\">\n",
            "<img onerror=\"utils.imageErrorHandler(this)\" src=\"./aa77_files/saved_resource(24)\"/>\n",
            "</a>\n",
            "</span>\n",
            "<em class=\"rank08\">8</em>\n",
            "<strong class=\"mg\"><a href=\"https://news.joins.com/article/23944813?cloc=joongang-article-realtimerecommend\">백신맞고 알수없는 마비 증상...그뒤엔 中 100년 기술의 덫</a></strong>\n",
            "</li>\n",
            "<li>\n",
            "<span class=\"thumb\">\n",
            "<a href=\"https://news.joins.com/article/23946004?cloc=joongang-article-realtimerecommend\">\n",
            "<img onerror=\"utils.imageErrorHandler(this)\" src=\"./aa77_files/saved_resource(25)\"/>\n",
            "</a>\n",
            "</span>\n",
            "<em class=\"rank09\">9</em>\n",
            "<strong class=\"mg\"><a href=\"https://news.joins.com/article/23946004?cloc=joongang-article-realtimerecommend\">후배 양심선언엔 질타, 상관은 패싱···\"박은정은 秋 별동대\"  </a></strong>\n",
            "</li>\n",
            "<li>\n",
            "<span class=\"thumb\">\n",
            "<a href=\"https://news.joins.com/article/23945399?cloc=joongang-article-realtimerecommend\">\n",
            "<img onerror=\"utils.imageErrorHandler(this)\" src=\"./aa77_files/saved_resource(26)\"/>\n",
            "</a>\n",
            "</span>\n",
            "<em class=\"rank10\">10</em>\n",
            "<strong class=\"mg\"><a href=\"https://news.joins.com/article/23945399?cloc=joongang-article-realtimerecommend\">정권수사 막고 해임 역풍도 피한다…커지는 '윤석열 정직說'</a></strong>\n",
            "</li>\n",
            "</ul>\n",
            "</div>\n",
            "</div>\n",
            "<div class=\"aside_banner\" id=\"wide_ad_bottom\" style=\"display: block;\">\n",
            "<div class=\"bd\"><div id=\"imp_ad_wide_798\"><script data-id=\"eaB47LYoQ9iZJUKMbahl1g\" name=\"joongang_p/article/article@article_middle_right_house_260x80?mlink=158\" src=\"./aa77_files/persona.js.다운로드\" type=\"text/javascript\"></script><script src=\"./aa77_files/4bt_4p_aYZLeHvg3WpShADF3fTGj0K7NQ8MZjbfpq1uEAM4qWzAZAbZDSXNVZUJ6V1RkR3ppcktOd2hId2JBAstB1_YYvmTN-gPLQdf2GL5kzfo.js(11).다운로드\"></script><div id=\"eaB47LYoQ9iZJUKMbahl1g\"><iframe frameborder=\"0\" height=\"80px\" leftmargin=\"0\" marginheight=\"0\" marginwidth=\"0\" name=\"mliframe\" scrolling=\"no\" src=\"./aa77_files/article@article_middle_right_house_260x80.html\" topmargin=\"0\" width=\"260px\"></iframe></div></div></div></div>\n",
            "<div class=\"rta sub_digital\" id=\"wide_fast\" style=\"display: block;\">\n",
            "<div class=\"hd\"><strong class=\"subtit_comm\">지면보다 빠른 뉴스</strong><p>디지털에서만 만날 수 있는 중앙일보 뉴스</p></div>\n",
            "<div class=\"bd\">\n",
            "<div class=\"bd\" data-bind=\"group\">\n",
            "<div class=\"digital_news\">\n",
            "<em class=\"time\">16:00</em>\n",
            "<ul>\n",
            "<li>\n",
            "<span class=\"icon\"></span>\n",
            "<strong class=\"mg\"><a href=\"https://news.joins.com/article/23946270?cloc=joongang-article-moredigitalfirst\">\"아이 러브 유\"...김아림이 영상 통화에 화들짝 놀란 이유는?</a></strong>\n",
            "<span class=\"thumb\"><a href=\"https://news.joins.com/article/23946270?cloc=joongang-article-moredigitalfirst\"><img src=\"./aa77_files/saved_resource(27)\"/></a></span>\n",
            "</li>\n",
            "<li>\n",
            "<span class=\"icon\"></span>\n",
            "<strong class=\"mg\"><a href=\"https://news.joins.com/article/23946269?cloc=joongang-article-moredigitalfirst\">세이브더칠드런, 유니레버코리아와 취약아동에 위생관리용품 기부</a></strong>\n",
            "<span class=\"thumb\"><a href=\"https://news.joins.com/article/23946269?cloc=joongang-article-moredigitalfirst\"><img src=\"./aa77_files/saved_resource(28)\"/></a></span>\n",
            "</li>\n",
            "<li>\n",
            "<span class=\"icon\"></span>\n",
            "<strong class=\"mg\"><a href=\"https://news.joins.com/article/23946268?cloc=joongang-article-moredigitalfirst\">‘한국형 실리콘밸리’…인천의 꿈이 영근다</a></strong>\n",
            "<span class=\"thumb\"><a href=\"https://news.joins.com/article/23946268?cloc=joongang-article-moredigitalfirst\"><img src=\"./aa77_files/saved_resource(29)\"/></a></span>\n",
            "</li>\n",
            "<li>\n",
            "<span class=\"icon\"></span>\n",
            "<strong class=\"mg\"><a href=\"https://news.joins.com/article/23946267?cloc=joongang-article-moredigitalfirst\">인천 동구, 공공부문 ‘쓰레기 발생 감량’ 앞장</a></strong>\n",
            "<span class=\"thumb\"><a href=\"https://news.joins.com/article/23946267?cloc=joongang-article-moredigitalfirst\"><img src=\"./aa77_files/saved_resource(30)\"/></a></span>\n",
            "</li>\n",
            "<li>\n",
            "<span class=\"icon\"></span>\n",
            "<strong class=\"mg\"><a href=\"https://news.joins.com/article/23946266?cloc=joongang-article-moredigitalfirst\">코로나19 누적 확진자 1402명 베트남의 비결은?…서구 국가들은 왜 실패했을까</a></strong>\n",
            "<span class=\"thumb\"><a href=\"https://news.joins.com/article/23946266?cloc=joongang-article-moredigitalfirst\"><img src=\"./aa77_files/saved_resource(31)\"/></a></span>\n",
            "</li>\n",
            "<li>\n",
            "<span class=\"icon\"></span>\n",
            "<strong class=\"mg\"><a href=\"https://news.joins.com/article/23946265?cloc=joongang-article-moredigitalfirst\">“호흡성 먼지, 면역기능 저하와 태아 성장 손상 유도 가능성”</a></strong>\n",
            "<span class=\"thumb\"><a href=\"https://news.joins.com/article/23946265?cloc=joongang-article-moredigitalfirst\"><img src=\"./aa77_files/saved_resource(32)\"/></a></span>\n",
            "</li>\n",
            "<li>\n",
            "<span class=\"icon\"></span>\n",
            "<strong class=\"mg\"><a href=\"https://news.joins.com/article/23946264?cloc=joongang-article-moredigitalfirst\">가톨릭대, 부천시 평생교육 부문 우수상 수상</a></strong>\n",
            "<span class=\"thumb\"><a href=\"https://news.joins.com/article/23946264?cloc=joongang-article-moredigitalfirst\"><img src=\"./aa77_files/saved_resource(33)\"/></a></span>\n",
            "</li>\n",
            "<li>\n",
            "<span class=\"icon\"></span>\n",
            "<strong class=\"mg\"><a href=\"https://news.joins.com/article/23946259?cloc=joongang-article-moredigitalfirst\">케네디 전 대사 \"3각 공조 위해 한·일관계 회복 중요…바이든 적극 지지할 것\" </a></strong>\n",
            "<span class=\"thumb\"><a href=\"https://news.joins.com/article/23946259?cloc=joongang-article-moredigitalfirst\"><img src=\"./aa77_files/saved_resource(34)\"/></a></span>\n",
            "</li>\n",
            "<li>\n",
            "<span class=\"icon\"></span>\n",
            "<strong class=\"mg\"><a href=\"https://news.joins.com/article/23946258?cloc=joongang-article-moredigitalfirst\">中 산동성 쟈오동(胶東)경제권 5개도시 “공동 투자기금 16.7조 설립”</a></strong>\n",
            "<span class=\"thumb\"><a href=\"https://news.joins.com/article/23946258?cloc=joongang-article-moredigitalfirst\"><img src=\"./aa77_files/saved_resource(35)\"/></a></span>\n",
            "</li>\n",
            "<li>\n",
            "<span class=\"icon\"></span>\n",
            "<strong class=\"mg\"><a href=\"https://news.joins.com/article/23946255?cloc=joongang-article-moredigitalfirst\">\"꺾일 수 없는···\" 尹징계위 중 이육사 시 페북에 올린 추미애</a></strong>\n",
            "<span class=\"thumb\"><a href=\"https://news.joins.com/article/23946255?cloc=joongang-article-moredigitalfirst\"><img src=\"./aa77_files/saved_resource(36)\"/></a></span>\n",
            "</li>\n",
            "<li>\n",
            "<span class=\"icon\"></span>\n",
            "<strong class=\"mg\"><a href=\"https://news.joins.com/article/23946252?cloc=joongang-article-moredigitalfirst\">인천 중구 ‘2020년도 문화재 보존관리 유공단체’ 선정</a></strong>\n",
            "<span class=\"thumb\"><a href=\"https://news.joins.com/article/23946252?cloc=joongang-article-moredigitalfirst\"><img src=\"./aa77_files/saved_resource(37)\"/></a></span>\n",
            "</li>\n",
            "<li>\n",
            "<span class=\"icon\"></span>\n",
            "<strong class=\"mg\"><a href=\"https://news.joins.com/article/23946251?cloc=joongang-article-moredigitalfirst\">인천시 ”폐기물처리시설 설치시 주변 영향 줄고, 주민지원은 확대“</a></strong>\n",
            "</li>\n",
            "</ul>\n",
            "</div>\n",
            "</div>\n",
            "<div class=\"bd\" data-bind=\"group\">\n",
            "<div class=\"digital_news\">\n",
            "<em class=\"time\">15:00</em>\n",
            "<ul>\n",
            "<li>\n",
            "<span class=\"icon\"></span>\n",
            "<strong class=\"mg\"><a href=\"https://news.joins.com/article/23946249?cloc=joongang-article-moredigitalfirst\">구글, ‘넷플릭스법’ 첫 타자 되나…과기부 “유튜브 오류 원인 자료내라”</a></strong>\n",
            "<span class=\"thumb\"><a href=\"https://news.joins.com/article/23946249?cloc=joongang-article-moredigitalfirst\"><img src=\"./aa77_files/saved_resource(38)\"/></a></span>\n",
            "</li>\n",
            "<li>\n",
            "<span class=\"icon\"></span>\n",
            "<strong class=\"mg\"><a href=\"https://news.joins.com/article/23946248?cloc=joongang-article-moredigitalfirst\">중국산 내민 업체에 속았다, 정부 '태블릿 학교 보급사업' 취소</a></strong>\n",
            "<span class=\"thumb\"><a href=\"https://news.joins.com/article/23946248?cloc=joongang-article-moredigitalfirst\"><img src=\"./aa77_files/saved_resource(39)\"/></a></span>\n",
            "</li>\n",
            "<li>\n",
            "<span class=\"icon\"></span>\n",
            "<strong class=\"mg\"><a href=\"https://news.joins.com/article/23946247?cloc=joongang-article-moredigitalfirst\">광운대, 2020학년도 대학혁신사업단 성과발표 심포지엄 개최</a></strong>\n",
            "<span class=\"thumb\"><a href=\"https://news.joins.com/article/23946247?cloc=joongang-article-moredigitalfirst\"><img src=\"./aa77_files/saved_resource(40)\"/></a></span>\n",
            "</li>\n",
            "</ul>\n",
            "</div>\n",
            "</div>\n",
            "</div>\n",
            "</div>\n",
            "</div>\n",
            "<div class=\"back_top\"><a href=\"https://news.joins.com/article/23927220#\" id=\"btnTop\" style=\"display:none;\">Back To Top</a></div>\n",
            "</div>\n",
            "<footer class=\"footer\">\n",
            "<div class=\"foot_v2\" id=\"foot\">\n",
            "<div class=\"sitemap\">\n",
            "<div class=\"bd\" style=\"display:block;\">\n",
            "<div class=\"row clearfx\">\n",
            "<div class=\"col\">\n",
            "<strong class=\"mg\"><a href=\"https://news.joins.com/opinion?cloc=joongang-article-sitemap\">오피니언</a></strong>\n",
            "<ul>\n",
            "<li><a href=\"https://news.joins.com/opinion/editorialcolumn/list?cloc=joongang-article-sitemap\">사설칼럼</a></li>\n",
            "<li><a href=\"https://news.joins.com/find/list?key=satiricalcartoon&amp;keyword=%eb%b0%95%ec%9a%a9%ec%84%9d%20%eb%a7%8c%ed%8f%89%7c%ea%b9%80%ed%9a%8c%eb%a3%a1%20%eb%a7%8c%ed%8f%89&amp;listtype=cartoon&amp;isduplicate=false&amp;cloc=joongang-article-sitemap\">만평</a></li>\n",
            "<li><a href=\"https://news.joins.com/opinion/debate_polllist?cloc=joongang-article-sitemap\">Hot Poll</a></li>\n",
            "<li><a href=\"https://news.joins.com/find/list?key=etextcenter&amp;keyword=e%ea%b8%80%ec%a4%91%ec%8b%ac&amp;sourcecode=1%2c3%2c61&amp;listtype=general&amp;isduplicate=false&amp;scopetype=keyword&amp;cloc=joongang-article-sitemap\">e글 중심</a></li>\n",
            "</ul>\n",
            "</div>\n",
            "<div class=\"col\">\n",
            "<strong class=\"mg\"><a href=\"https://news.joins.com/politics?cloc=joongang-article-sitemap\">정치</a></strong>\n",
            "<ul>\n",
            "<li><a href=\"https://news.joins.com/politics/assemgov/list?cloc=joongang-article-sitemap\">국회정당</a></li>\n",
            "<li><a href=\"https://news.joins.com/politics/bluehouse/list?cloc=joongang-article-sitemap\">청와대</a></li>\n",
            "<li><a href=\"https://news.joins.com/politics/diplomacy/list?cloc=joongang-article-sitemap\">외교</a></li>\n",
            "<li><a href=\"https://news.joins.com/politics/nk/list?cloc=joongang-article-sitemap\">국방</a></li>\n",
            "<li><a href=\"https://news.joins.com/politics/northkorea/list?cloc=joongang-article-sitemap\">북한</a></li>\n",
            "</ul>\n",
            "</div>\n",
            "<div class=\"col\">\n",
            "<strong class=\"mg\"><a href=\"https://news.joins.com/money?cloc=joongang-article-sitemap\">경제</a></strong>\n",
            "<ul>\n",
            "<li><a href=\"https://news.joins.com/find/list?key=economicpolicy&amp;keyword=%ea%b2%bd%ec%a0%9c%ec%a0%95%ec%b1%85&amp;sourcecode=1%2c3%2c61&amp;listtype=general&amp;isduplicate=false&amp;scopetype=keyword&amp;cloc=joongang-article-sitemap\">경제정책</a></li>\n",
            "<li><a href=\"https://news.joins.com/money/indusrty/list?cloc=joongang-article-sitemap\">산업</a></li>\n",
            "<li><a href=\"https://news.joins.com/money/finance/list?cloc=joongang-article-sitemap\">금융증권</a></li>\n",
            "<li><a href=\"http://realestate.joins.com/?cloc=joongang-article-sitemap\">부동산</a></li>\n",
            "<li><a href=\"https://news.joins.com/money/science/list?cloc=joongang-article-sitemap\">과학미래</a></li>\n",
            "<li><a href=\"https://news.joins.com/money/globaleconomy/list?cloc=joongang-article-sitemap\">글로벌경제</a></li>\n",
            "<li><a href=\"https://news.joins.com/money/labor/list?cloc=joongang-article-sitemap\">고용노동</a></li>\n",
            "</ul>\n",
            "</div>\n",
            "<div class=\"col\">\n",
            "<strong class=\"mg\"><a href=\"https://news.joins.com/society?cloc=joongang-article-sitemap\">사회</a></strong>\n",
            "<ul>\n",
            "<li><a href=\"https://news.joins.com/society/law/list?cloc=joongang-article-sitemap\">검찰·법원</a></li>\n",
            "<li><a href=\"https://news.joins.com/society/education/list?cloc=joongang-article-sitemap\">교육</a></li>\n",
            "<li><a href=\"https://news.joins.com/society/accident/list?cloc=joongang-article-sitemap\">사건사고</a></li>\n",
            "<li><a href=\"https://news.joins.com/society/welfare/list?cloc=joongang-article-sitemap\">복지</a></li>\n",
            "<li><a href=\"https://news.joins.com/society/traffic/list?cloc=joongang-article-sitemap\">교통</a></li>\n",
            "<li><a href=\"https://news.joins.com/society/environment/list?cloc=joongang-article-sitemap\">환경</a></li>\n",
            "<li><a href=\"https://news.joins.com/society/region/list?cloc=joongang-article-sitemap\">지역</a></li>\n",
            "<li><a href=\"https://news.joins.com/society/health/list?cloc=joongang-article-sitemap\">건강</a></li>\n",
            "</ul>\n",
            "</div>\n",
            "<div class=\"col\">\n",
            "<strong class=\"mg\"><a href=\"https://news.joins.com/world?cloc=joongang-article-sitemap\">국제</a></strong>\n",
            "<ul>\n",
            "<li><a href=\"https://news.joins.com/world/northame/list?cloc=joongang-article-sitemap\">미국</a></li>\n",
            "<li><a href=\"https://news.joins.com/world/china/list?cloc=joongang-article-sitemap\">중국</a></li>\n",
            "<li><a href=\"https://news.joins.com/world/japan/list?cloc=joongang-article-sitemap\">일본</a></li>\n",
            "<li><a href=\"https://news.joins.com/world/eu/list?cloc=joongang-article-sitemap\">유럽</a></li>\n",
            "<li><a href=\"https://news.joins.com/world/etc/list?cloc=joongang-article-sitemap\">기타</a></li>\n",
            "<li><a href=\"https://news.joins.com/world/topic/list?cloc=joongang-article-sitemap\">토픽월드</a></li>\n",
            "</ul>\n",
            "</div>\n",
            "<div class=\"col\">\n",
            "<strong class=\"mg\"><a href=\"https://news.joins.com/culture?cloc=joongang-article-sitemap\">문화</a></strong>\n",
            "<ul>\n",
            "<li><a href=\"https://news.joins.com/culture/book/list?cloc=joongang-article-sitemap\">책</a></li>\n",
            "<li><a href=\"https://news.joins.com/culture/perfomance/list?cloc=joongang-article-sitemap\">공연</a></li>\n",
            "<li><a href=\"https://news.joins.com/culture/art/list?cloc=joongang-article-sitemap\">미술</a></li>\n",
            "<li><a href=\"https://news.joins.com/culture/classic/list?cloc=joongang-article-sitemap\">클래식</a></li>\n",
            "<li><a href=\"https://news.joins.com/culture/song/list?cloc=joongang-article-sitemap\">가요</a></li>\n",
            "<li><a href=\"https://news.joins.com/culture/broadcast/list?cloc=joongang-article-sitemap\">방송</a></li>\n",
            "<li><a href=\"https://news.joins.com/culture/movie/list?cloc=joongang-article-sitemap\">영화</a></li>\n",
            "</ul>\n",
            "</div>\n",
            "<div class=\"col\">\n",
            "<strong class=\"mg\"><a href=\"https://news.joins.com/sports?cloc=joongang-article-sitemap\">스포츠</a></strong>\n",
            "<ul>\n",
            "<li><a href=\"https://news.joins.com/sports/baseball/list?cloc=joongang-article-sitemap\">야구</a></li>\n",
            "<li><a href=\"https://news.joins.com/sports/worldbaseball/list?cloc=joongang-article-sitemap\">해외야구</a></li>\n",
            "<li><a href=\"https://news.joins.com/sports/soccer/list?cloc=joongang-article-sitemap\">축구</a></li>\n",
            "<li><a href=\"https://news.joins.com/sports/worldsoccer/list?cloc=joongang-article-sitemap\">해외축구</a></li>\n",
            "<li><a href=\"https://news.joins.com/sports/basketvolley/list?cloc=joongang-article-sitemap\">농구/배구</a></li>\n",
            "</ul>\n",
            "</div>\n",
            "</div>\n",
            "<div class=\"row clearfx\">\n",
            "<div class=\"col\">\n",
            "<strong class=\"mg\"><a href=\"https://news.joins.com/lifestyle?cloc=joongang-article-sitemap\">라이프 스타일</a></strong>\n",
            "<ul>\n",
            "<li><a href=\"https://news.joins.com/lifestyle/fashion/list?cloc=joongang-article-sitemap\">패션</a></li>\n",
            "<li><a href=\"https://news.joins.com/lifestyle/taste/list?cloc=joongang-article-sitemap\">맛</a></li>\n",
            "<li><a href=\"https://news.joins.com/lifestyle/luxury/list?cloc=joongang-article-sitemap\">럭셔리</a></li>\n",
            "<li><a href=\"https://news.joins.com/lifestyle/beauty/list?cloc=joongang-article-sitemap\">뷰티</a></li>\n",
            "<li><a href=\"https://news.joins.com/lifestyle/living/list?cloc=joongang-article-sitemap\">리빙</a></li>\n",
            "</ul>\n",
            "</div>\n",
            "<div class=\"col\">\n",
            "<strong class=\"mg\"><a href=\"https://news.joins.com/travel?cloc=joongang-article-sitemap\">여행레저</a></strong>\n",
            "<ul>\n",
            "<li><a href=\"https://news.joins.com/travel/domestic/list?cloc=joongang-article-sitemap\">국내여행</a></li>\n",
            "<li><a href=\"https://news.joins.com/travel/abroad/list?cloc=joongang-article-sitemap\">해외여행</a></li>\n",
            "<li><a href=\"https://news.joins.com/travel/news/list?cloc=joongang-article-sitemap\">여행뉴스</a></li>\n",
            "<li><a href=\"https://news.joins.com/travel/week/list?cloc=joongang-article-sitemap\">Week&amp;</a></li>\n",
            "</ul>\n",
            "</div>\n",
            "<div class=\"col\">\n",
            "<strong class=\"mg\"><a href=\"https://news.joins.com/pic?cloc=joongang-article-sitemap\">포토 · 영상</a></strong>\n",
            "<ul>\n",
            "<li><a href=\"https://news.joins.com/pic/photogallery/list?cloc=joongang-article-sitemap\">포토</a></li>\n",
            "<li><a href=\"https://news.joins.com/pic/vod/list?cloc=joongang-article-sitemap\">영상</a></li>\n",
            "</ul>\n",
            "</div>\n",
            "<div class=\"col\">\n",
            "<strong class=\"mg\"><a href=\"https://news.joins.com/people?cloc=joongang-article-sitemap\">피플</a></strong>\n",
            "<ul>\n",
            "<li><a href=\"https://news.joins.com/people/room/list?cloc=joongang-article-sitemap\">사랑방</a></li>\n",
            "<li><a href=\"https://news.joins.com/people/personnel/list?cloc=joongang-article-sitemap\">인사</a></li>\n",
            "<li><a href=\"https://news.joins.com/people/death/list?cloc=joongang-article-sitemap\">부음</a></li>\n",
            "</ul>\n",
            "</div>\n",
            "<div class=\"col\">\n",
            "<strong class=\"mg\">스페셜</strong>\n",
            "<ul>\n",
            "<li><a href=\"https://news.joins.com/sunday?cloc=joongang-article-sitemap\">중앙SUNDAY</a></li>\n",
            "<li><a href=\"https://news.joins.com/digitalspecial/list?cloc=joongang-article-sitemap\">디지털스페셜</a></li>\n",
            "<li><a href=\"https://news.joins.com/nk?cloc=joongang-article-sitemap\">통일무지개</a></li>\n",
            "<li><a href=\"https://news.joins.com/retirement?cloc=joongang-article-sitemap\">더,오래</a></li>\n",
            "<li><a href=\"https://mgrg.joins.com/?cloc=joongang-article-sitemap\" target=\"_blank\">먼지알지</a></li>\n",
            "<li><a href=\"https://welfaretotal.joins.com/?cloc=joongang-article-sitemap\" target=\"_blank\">복지토털</a></li>\n",
            "<li><a href=\"https://news.joins.com/mm?cloc=joongang-article-sitemap\">Mr.밀리터리</a></li>\n",
            "<li><a href=\"https://news.joins.com/jpod?cloc=joongang-article-sitemap\">J팟</a></li>\n",
            "</ul>\n",
            "</div>\n",
            "<div class=\"col\">\n",
            "<strong class=\"mg\">서비스</strong>\n",
            "<ul>\n",
            "<li><a href=\"https://news.joins.com/newsletter?cloc=joongang-article-sitemap\">뉴스레터</a></li>\n",
            "<li><a href=\"https://news.joins.com/issue?cloc=joongang-article-sitemap\">이슈패키지</a></li>\n",
            "<li><a href=\"https://news.joins.com/trend?cloc=joongang-article-sitemap\">트랜드 뉴스</a></li>\n",
            "<li><a href=\"https://news.joins.com/reporter?cloc=joongang-article-sitemap\">기자</a></li>\n",
            "<li><a href=\"https://people.joins.com/?cloc=joongang-article-sitemap\">인물정보</a></li>\n",
            "<li><a href=\"https://www.joins.com/Media/List.aspx?mseq=11&amp;cloc=joongang-article-sitemap\">전자판</a></li>\n",
            "</ul>\n",
            "</div>\n",
            "<div class=\"col\">\n",
            "<strong class=\"mg\">독자 서비스</strong>\n",
            "<ul>\n",
            "<li><a href=\"https://jmembership.joins.com/?cloc=joongang-article-sitemap\">중앙멤버십</a></li>\n",
            "<li><a href=\"https://www.joins.com/Apply/Subscribe.aspx?cloc=joongang-article-sitemap\">구독신청</a></li>\n",
            "<li><a href=\"https://news.joins.com/jtour?cloc=joongang-article-sitemap\">견학신청</a></li>\n",
            "<li><a href=\"https://news.joins.com/jebo?cloc=joongang-article-sitemap\">제보</a></li>\n",
            "<li><a href=\"https://news.joins.com/brandnews?cloc=joongang-article-sitemap\">보도자료</a></li>\n",
            "<li><a href=\"https://news.joins.com/customercenter?cloc=joongang-article-sitemap\">고객센터</a></li>\n",
            "</ul>\n",
            "</div>\n",
            "</div>\n",
            "</div>\n",
            "</div>\n",
            "<div class=\"promote\"><ul data-bind=\"promotion\"><li><a data-bind=\"link\" href=\"https://kr.koreanair.com/\" target=\"_blank\" title=\"대한항공\"><img alt=\"대한항공\" data-bind=\"image\" src=\"./aa77_files/b_kal_v2.gif\"/></a></li><li><a data-bind=\"link\" href=\"https://www.samsung.com/\" target=\"_blank\" title=\"삼성전자\"><img alt=\"삼성전자\" data-bind=\"image\" src=\"./aa77_files/b_samsung_v2.gif\"/></a></li><li><a data-bind=\"link\" href=\"http://www.hanatourist.co.kr/\" target=\"_blank\" title=\"하나투어리스트\"><img alt=\"하나투어리스트\" data-bind=\"image\" src=\"./aa77_files/r_hanatourist.gif\"/></a></li></ul></div><div class=\"foot_info\"><div class=\"policy\"><h3 class=\"hide\">정책 및 약관</h3><ul class=\"clearfx first\" data-bind=\"services\"><li data-bind=\"item\"><a data-bind=\"link\" href=\"https://joongang.joins.com/?cloc=joongang-home-footer\" title=\"중앙일보\">중앙일보</a></li><li data-bind=\"item\"><span class=\"icon\"></span><a data-bind=\"link\" href=\"https://news.joins.com/customercenter?cloc=joongang-home-footer\" title=\"고객센터\">고객센터</a></li><li data-bind=\"item\"><span class=\"icon\"></span><a data-bind=\"link\" href=\"https://jebo.joonganggroup.com/?cloc=joongang-home-footer\" title=\"윤리경영\">윤리경영</a></li><li data-bind=\"item\"><span class=\"icon\"></span><a data-bind=\"link\" href=\"https://jad.joongang.co.kr/?cloc=joongang-home-footer\" title=\"광고 안내\">광고 안내</a></li><li data-bind=\"item\"><span class=\"icon\"></span><a data-bind=\"link\" href=\"http://digitalad.joongang.co.kr/?cloc=joongang-home-footer\" target=\"_blank\" title=\"디지털 광고문의\">디지털 광고문의</a></li><li data-bind=\"item\"><span class=\"icon\"></span><a data-bind=\"link\" href=\"mailto:digitalbiz@joongang.co.kr\" title=\"제휴문의\">제휴문의</a></li><li data-bind=\"item\"><span class=\"icon\"></span><a data-bind=\"link\" href=\"http://bbs.joins.com/app/myjoins_policy/163114?cloc=joongang-home-footer\" title=\"회원약관\">회원약관</a></li><li data-bind=\"item\"><span class=\"icon\"></span><a data-bind=\"link\" href=\"http://bbs.joins.com/app/myjoins_policy/163117?cloc=joongang-home-footer\" title=\"개인정보 처리방침\"><strong>개인정보 처리방침</strong></a></li><li data-bind=\"item\"><span class=\"icon\"></span><a data-bind=\"link\" href=\"http://bbs.joins.com/app/myjoins_policy/2777964?cloc=joongang-home-footer\" title=\"청소년 보호정책\">청소년 보호정책</a></li><li data-bind=\"item\"><span class=\"icon\"></span><a data-bind=\"link\" href=\"http://bbs.joins.com/app/member_go/10576015?cloc=joongang-home-footer\" title=\"고충처리\">고충처리</a></li></ul><ul class=\"clearfx\" data-bind=\"services2\"></ul><p class=\"logo\" data-bind=\"logo\"><a data-bind=\"link\" href=\"http://jmedianet.com/?cloc=joongang-home-footer\" title=\"중앙그룹\">중앙그룹</a></p><address class=\"clearfx\"><span><strong>주소</strong> : 서울특별시 마포구 상암산로 48-6</span><span><span class=\"icon\"></span><strong>등록번호</strong> 서울 아 01013</span><span><span class=\"icon\"></span>등록일자 : 2009.11.2</span><span><span class=\"icon\"></span>발행인 : 홍정도</span><span><span class=\"icon\"></span>편집인 : 최훈</span><span><span class=\"icon\"></span><strong>전화</strong> : 02-751-5114</span><span><span class=\"icon\"></span><a href=\"https://news.joins.com/sitemap/index?cloc=joongang-home-footer\">사이트맵</a></span></address><p class=\"info\" data-bind=\"info\">JoongAng Ilbo의 모든 콘텐트(기사)는 저작권법의 보호를 받은바, 무단 전재, 복사, 배포 등을 금합니다.<a data-bind=\"link\" href=\"http://conbox.joins.com/?cloc=joongang-home-footer\" target=\"_blank\" title=\"[콘텐트 문의]\">[콘텐트 문의]</a></p><p class=\"copyright\">Copyright by JoongAng Ilbo Co., Ltd. All Rights Reserved</p></div></div></div>\n",
            "</footer>\n",
            "</div>\n",
            "<div id=\"loading\"><img alt=\"\" src=\"./aa77_files/loading_64.gif\"/></div>\n",
            "<style>\n",
            "        .article_body [class^=tag_] {\n",
            "            display: none;\n",
            "        }\n",
            "\n",
            "        .search_area .ui-datepicker-trigger {\n",
            "            margin-left: 13px;\n",
            "        }\n",
            "\n",
            "        a.disable {\n",
            "            pointer-events: none;\n",
            "            cursor: default;\n",
            "        }\n",
            "\n",
            "        .preload {\n",
            "            display: none;\n",
            "        }\n",
            "\n",
            "        .slick-track .image_area {\n",
            "            float: left;\n",
            "        }\n",
            "    </style>\n",
            "<script src=\"./aa77_files/menu.pc.js.다운로드\" type=\"text/javascript\"></script>\n",
            "<script id=\"_daytimer\" src=\"./aa77_files/daytimer.js.다운로드\" type=\"text/javascript\"></script>\n",
            "<script src=\"./aa77_files/jquery-1.11.3.min.js.다운로드\" type=\"text/javascript\"></script>\n",
            "<script src=\"./aa77_files/jquery-ui.min.js.다운로드\" type=\"text/javascript\"></script>\n",
            "<script src=\"./aa77_files/jquery-migrate-1.2.1.min.js.다운로드\" type=\"text/javascript\"></script>\n",
            "<script src=\"./aa77_files/jquery.dotdotdot.min.js.다운로드\" type=\"text/javascript\"></script>\n",
            "<script src=\"./aa77_files/jquery-deparam.js.다운로드\" type=\"text/javascript\"></script>\n",
            "<script src=\"./aa77_files/jquery.unobtrusive-ajax.min.js.다운로드\" type=\"text/javascript\"></script>\n",
            "<script src=\"./aa77_files/transparency.min.js.다운로드\" type=\"text/javascript\"></script>\n",
            "<script src=\"./aa77_files/kakao.min.js.다운로드\" type=\"text/javascript\"></script>\n",
            "<script src=\"./aa77_files/all.js(1).다운로드\" type=\"text/javascript\"></script>\n",
            "<script src=\"./aa77_files/widgets.js.다운로드\" type=\"text/javascript\"></script>\n",
            "<!--[if lte IE 9]>\n",
            "        <script src=\"https://static.joins.com/joongang_15re/scripts/lib/html5shiv.js\"></script>\n",
            "        <script src=\"https://static.joins.com/joongang_15re/scripts/lib/respond.min.js\"></script>\n",
            "        <script src=\"https://static.joins.com/joongang_15re/scripts/lib/json2.js\"></script>\n",
            "        <script src=\"https://static.joins.com/joongang_15re/scripts/lib/jquery/jquery.xdomainrequest.js\"></script>\n",
            "    <![endif]-->\n",
            "<script src=\"./aa77_files/jquery.utils.js.다운로드\" type=\"text/javascript\"></script>\n",
            "<script src=\"./aa77_files/utils.js.다운로드\" type=\"text/javascript\"></script>\n",
            "<script type=\"text/javascript\">\n",
            "        document.domain = \"joins.com\";\n",
            "        utils.config({\n",
            "            'homePath': 'https://joongang.joins.com',\n",
            "            'webPcPath': 'https://news.joins.com',\n",
            "            'webMobilePath': 'https://mnews.joins.com',\n",
            "            'staticPath': 'https://static.joins.com/joongang_15re',\n",
            "            'imagePath': 'https://images.joins.com/ui_joongang/news',\n",
            "            'apiPath': 'https://apis.joins.com',\n",
            "            'irPath': 'https://ir.joins.com',\n",
            "            'pdsPath': 'https://pds.joins.com',\n",
            "            'jtbcImagePath': 'http://photo.jtbc.joins.com',\n",
            "            'jplusPath': 'http://jplus.joins.com',\n",
            "            'searchWebPath': 'https://news.joins.com/search',\n",
            "            'pageType': 'Article' || PAGE_TYPE.index,\n",
            "            'articleType': 'General' || ARTICLE_TYPE.general\n",
            "        });\n",
            "\n",
            "        \n",
            "\n",
            "    </script>\n",
            "<script src=\"./aa77_files/layout.js.다운로드\" type=\"text/javascript\"></script>\n",
            "<script src=\"./aa77_files/layout.header.js.다운로드\" type=\"text/javascript\"></script>\n",
            "<script src=\"./aa77_files/widget.js.다운로드\" type=\"text/javascript\"></script>\n",
            "<script src=\"./aa77_files/slick.min.js.다운로드\" type=\"text/javascript\"></script>\n",
            "<script src=\"./aa77_files/init.js.다운로드\" type=\"text/javascript\"></script>\n",
            "<script src=\"./aa77_files/jaddon.js.다운로드\" type=\"text/javascript\"></script>\n",
            "<link href=\"./aa77_files/jaddon.css\" rel=\"stylesheet\"/>\n",
            "<script src=\"./aa77_files/article.components.js.다운로드\" type=\"text/javascript\"></script>\n",
            "<script src=\"./aa77_files/poll.js.다운로드\" type=\"text/javascript\"></script>\n",
            "<script src=\"./aa77_files/language.js.다운로드\" type=\"text/javascript\"></script>\n",
            "<script src=\"./aa77_files/html.js.다운로드\" type=\"text/javascript\"></script>\n",
            "<script src=\"./aa77_files/comment.js.다운로드\" type=\"text/javascript\"></script>\n",
            "<script src=\"./aa77_files/articleCounter.js.다운로드\" type=\"text/javascript\"></script>\n",
            "<script type=\"text/javascript\">\n",
            "        if(utils.isLiveServer()) {\n",
            "            fnArticleCounterCheck('23927220', '20', '2000002', 'J', 'r');\n",
            "        }\n",
            "    </script><iframe frameborder=\"0\" height=\"0\" marginheight=\"0\" scrolling=\"no\" src=\"./aa77_files/ArticleCounterLogger.html\" style=\"display:none\" topmargin=\"0\" width=\"0\"></iframe>\n",
            "<script type=\"text/javascript\">\n",
            "        $(function() {\n",
            "            var BTN_OPTIONS = {\n",
            "                open: {\n",
            "                    cls: 'btn_open',\n",
            "                    text: '열기'\n",
            "                },\n",
            "                close: {\n",
            "                    cls: 'btn_close',\n",
            "                    text: '닫기'\n",
            "                }\n",
            "            };\n",
            "\n",
            "            $('.journalist_area').on('click', '.btn_open', function() {\n",
            "\n",
            "                var $row = $(this).closest('.row');\n",
            "\n",
            "                $row\n",
            "                    .nextAll()\n",
            "                    .show();\n",
            "\n",
            "                $(this).removeClass(BTN_OPTIONS.open.cls).addClass(BTN_OPTIONS.close.cls).text(BTN_OPTIONS.close.text);\n",
            "\n",
            "                return false;\n",
            "            }).on('click', '.btn_close', function() {\n",
            "\n",
            "                var $row = $(this).closest('.row');\n",
            "\n",
            "                $row\n",
            "                    .nextAll()\n",
            "                    .hide();\n",
            "\n",
            "                $(this).removeClass(BTN_OPTIONS.close.cls).addClass(BTN_OPTIONS.open.cls).text(BTN_OPTIONS.open.text);\n",
            "                return false;\n",
            "            });\n",
            "        });\n",
            "    </script>\n",
            "<script type=\"text/javascript\">\n",
            "    (function (window, document, $) {\n",
            "        $(function ($) {\n",
            "            $(window).scroll(function () {\n",
            "                winH = $(\"#doc\").height();\n",
            "                journalistH = $(\".journalist_area\").height() + 8;\n",
            "                if ($(window).scrollTop() > $(\"#body\").offset().top) {\n",
            "                    winbtmH = $(\"#doc\").height() - $(\"#article_body\").height() - $(\".ad_728_90\").height();\n",
            "                    var y = $(\"#article_body\").height() - 146;\n",
            "                    if ((winH - $(window).scrollTop()) > winbtmH) {\n",
            "                        $(\".share_article\").css({ position: 'fixed', top: 120 + 'px' });\n",
            "                    } else { $(\".share_article\").css({ position: 'absolute', top: y + 'px' }); }\n",
            "                } else { $(\".share_article\").css({ position: 'absolute', top: journalistH + 'px' }); }\n",
            "            });\n",
            "            $(\".share_article .icon_more\").click(function () {\n",
            "                $(\".share_article\").toggleClass(\"open\");\n",
            "                $(\".social_share_add\").slideDown();\n",
            "            });\n",
            "            $(\".share_article .icon_close\").click(function () {\n",
            "                $(\".share_article\").removeClass(\"open\");\n",
            "                $(\".social_share_add\").slideUp(300);\n",
            "            });\n",
            "\n",
            "            $(\".share_article .icon_more\").one(\"click\", function () {\n",
            "                $.getScript(\"https://static.joins.com/joongang_15re/scripts/lib/clipboard.min.js\", function () {\n",
            "                    try {\n",
            "                        var clipboard = new Clipboard(\".share_article .icon_url\", {\n",
            "                            text: function () {\n",
            "                                return \"https://news.joins.com/article/23927220\";\n",
            "                            }\n",
            "                        });\n",
            "                        clipboard.on(\"success\", function (e) {\n",
            "                            alert(\"주소가 복사되었습니다.\\n원하는 곳에 붙여넣기(Ctrl+V) 해주세요.\");\n",
            "                        });\n",
            "                    } catch (e) {\n",
            "                        $(\".share_article .icon_url\").click(function () {\n",
            "                            alert(\"지원하지 않는 브라우저입니다.\\n직접 복사해 주세요.\");\n",
            "                        });\n",
            "                    }\n",
            "                });\n",
            "            });\n",
            "        });\n",
            "    })(window, document, jQuery);\n",
            "    </script>\n",
            "<script src=\"./aa77_files/firebase-app.js.다운로드\"></script>\n",
            "<script src=\"./aa77_files/firebase-messaging.js.다운로드\"></script>\n",
            "<script async=\"\" src=\"./aa77_files/app.js.다운로드\"></script>\n",
            "<script type=\"text/javascript\">\n",
            "        window._taboola = window._taboola || [];\n",
            "        _taboola.push({ flush: true });\n",
            "    </script>\n",
            "<script type=\"text/javascript\">\n",
            "        $(function () {\n",
            "            $('#sub_series_recommendedArticles').show();\n",
            "        });\n",
            "    </script>\n",
            "<iframe src=\"./aa77_files/ArticleCounterLogger(1).html\" style=\"width: 0px; height: 0px; display: none;\"></iframe><script data-id=\"Dz7056EzTsaTLfAhUdaZBA\" name=\"joongang_p/article/article@article_track?mlink=219\" src=\"./aa77_files/persona.js.다운로드\" type=\"text/javascript\"></script><script src=\"./aa77_files/4bt_4p_aYZLeHvg3WpShADF3fTGj0K7NQ8MZjbfpq1uEAM4qWzAZAbZDSXNVZUJ6V1RkR3ppcktOd2hId2JBAstB1_YYvmTN-gPLQdf2GL5kzfo.js(12).다운로드\"></script><div id=\"Dz7056EzTsaTLfAhUdaZBA\" style=\"display: none;\"><iframe frameborder=\"0\" height=\"0px\" leftmargin=\"0\" marginheight=\"0\" marginwidth=\"0\" name=\"mliframe\" scrolling=\"no\" src=\"./aa77_files/article@article_track.html\" topmargin=\"0\" width=\"0px\"></iframe></div><div class=\" fb_reset\" id=\"fb-root\"><div style=\"position: absolute; top: -10000px; width: 0px; height: 0px;\"><div></div></div></div><iframe allowtransparency=\"true\" frameborder=\"0\" scrolling=\"no\" src=\"./aa77_files/widget_iframe.96fd96193cc66c3e11d4c5e4c7c7ec97.html\" style=\"display: none;\" title=\"Twitter settings iframe\"></iframe><iframe allowfullscreen=\"true\" allowtransparency=\"true\" frameborder=\"0\" id=\"rufous-sandbox\" scrolling=\"no\" src=\"./aa77_files/saved_resource(54).html\" style=\"position: absolute; visibility: hidden; display: none; width: 0px; height: 0px; padding: 0px; border: none;\" title=\"Twitter analytics iframe\"></iframe></body></html>\n"
          ],
          "name": "stdout"
        }
      ]
    },
    {
      "cell_type": "markdown",
      "metadata": {
        "id": "DAdwaFCkVoCG"
      },
      "source": [
        ""
      ]
    },
    {
      "cell_type": "markdown",
      "metadata": {
        "id": "OWGymK0VVn4R"
      },
      "source": [
        ""
      ]
    },
    {
      "cell_type": "markdown",
      "metadata": {
        "id": "pD_3D5bFVnmt"
      },
      "source": [
        "문제412. 위의 기사의 본문을 가져오기 위해서 기사 본문의 class 이름이 무엇인지 확인하세요 ~\r\n"
      ]
    },
    {
      "cell_type": "markdown",
      "metadata": {
        "id": "MvDTpQHUVxLu"
      },
      "source": [
        "    F12 : 크롬 개발자모드\r\n",
        "\r\n",
        "크롬의 개발자 모드 단축키인 F12 를 누르면 옆에 html 코드 창이 나오면서 개발자 모드 화면이 열립니다.  \r\n",
        "그러면 위쪽에 화살표 모양을 클릭하고 기사본문을 클릭하면 html 문서에 class 이름을 확인할 수 있는 html 문서쪽으로 바로 이동합니다."
      ]
    },
    {
      "cell_type": "markdown",
      "metadata": {
        "id": "lN9Wn_2rV2Gw"
      },
      "source": [
        ""
      ]
    },
    {
      "cell_type": "markdown",
      "metadata": {
        "id": "027b5IueV2-H"
      },
      "source": [
        ""
      ]
    },
    {
      "cell_type": "markdown",
      "metadata": {
        "id": "nNrRMRD2V2Yz"
      },
      "source": [
        "문제413. 클래스 이름 article_body mg fs4 로 접근하여 text 를 긁어오시오"
      ]
    },
    {
      "cell_type": "code",
      "metadata": {
        "colab": {
          "base_uri": "https://localhost:8080/"
        },
        "id": "ocvQJncPV8Bc",
        "outputId": "a3e0bb8d-fd2a-4241-f7d8-39c0b1934af8"
      },
      "source": [
        "from bs4 import BeautifulSoup\r\n",
        "\r\n",
        "f = open(\"/content/drive/MyDrive/data/aa77.html\")\r\n",
        "soup = BeautifulSoup( f, \"html.parser\" )\r\n",
        "result =soup.find_all(class_=\"article_body mg fs4\")\r\n",
        "print(result)\r\n",
        "for i in result: \r\n",
        "    print(i.get_text())"
      ],
      "execution_count": 78,
      "outputs": [
        {
          "output_type": "stream",
          "text": [
            "[<div class=\"article_body mg fs4\" id=\"article_body\" itemprop=\"articleBody\">\n",
            "<div class=\"ab_photo photo_left \" style=\"width: 170px;\"> <div class=\"image\"> <img alt=\"유혁 윌로우 데이터 스트래티지 대표\" data-src=\"https://pds.joins.com/news/component/htmlphoto_mmdata/202011/23/9a9a6f1a-a743-4d84-92dd-82f32dd7e0dd.jpg\" data-type=\"article\" src=\"./aa77_files/9a9a6f1a-a743-4d84-92dd-82f32dd7e0dd.jpg\"/> <span class=\"mask\"></span> </div> <p class=\"caption\">유혁 윌로우 데이터 스트래티지 대표</p> </div>        치열한 선거전의 결과를 예측하는 것은 쉬운 일이 아니다. 하지만 접전이 될 것이란 것조차 예측하지 못했다는 건 큰 문제다. 이번 미국 대선 결과와 상관없이 2016년에 이어 2020년에도 가장 명백한 패자는 결과를 제대로 예측하지 못한 각종 여론조사 기관이라고 할 수 있다. 4년 전에는 아예 승자를 맞추지도 못했지만, 이번에도 대선과 의원 선거의 결과가 예상 밖의 접전양상으로 나타났으니 여론조사 방법에 심각한 의구심을 가질 만한 상황이다.  <br/>      <br/><div class=\"ab_subtitle\"><h2><p>미대선 예측오류로 드러난 문제<br/>표본추출과 데이터 에러가 원인<br/>기존 여론조사방식 한계에 도달<br/>창의적 데이터 수집·적용 필요</p></h2></div>   많은 분석가들은 4년전 크게 벗어난 예측을 표본추출 오류의 결과로 결론을 내렸었다. 인구밀도가 낮은 지역에서 주요 변수의 대표성에 문제가 생기면 예측결과가 아예 틀릴 수 있다. 특히 양당의 선호도가 도시와 교외지역에 따라 명확히 갈리는 미국의 경우 샘플링 오류의 영향은 더욱 증폭된다.  <br/>      <br/>   전과 같은 실수를 되풀이하지 않기 위해 이번에는 ‘대졸 이하의 백인 남성’등의 특정 그룹에 가중치를 부여한 조사기관도 있다고 들었는데, 결과적으로 그런 방식도 예측 정확도에 큰 기여를 하지 못했다. 샘플 크기를 임의로 조정했다면 어떤 방식으로 얼마만큼 했다는 것인가? 아마 구체적인 샘플링 방식을 놓고 전적으로 동의하는 단 두 명의 통계전문가도 찾기 어려울 것이다.  <br/>      <br/>   그래서 분석작업에서의 ‘인간적 요소’도 간과하면 안된다. 모델링을 놓고 흔히 “반은 과학, 반은 예술”이란 표현을 쓰지만, 이렇게 크게 벗어난 예측을 보자면 그 예술이란 부분이 문제가 될 수도 있다는 생각이다. 고전적 모델링 과정에서 예측변수나 알고리즘의 선택에 전문가의 성향이 전적으로 배제될 수는 없다.  <br/>      <br/>   게다가 구조적 오류나 아예 틀린 데이터는 그 어떤 통계적 방식으로도 극복하기 어렵다. 미국식 표현인 “쓰레기를 넣으면 쓰레기 같은 결과가 나온다”라는 표현이 적절할 것이다. 만약 여론조사 응답자가 거짓으로 답했다면? 그렇게 명백히 틀린 정보는 데이터 수집과 모델링만의 문제가 아니다.  <br/>      <br/> <div class=\"ab_photo photo_center \" style=\"width: 300px;\"> <div class=\"image\"> <img alt=\"데이터이야기 11/23\" data-src=\"https://pds.joins.com/news/component/htmlphoto_mmdata/202011/23/f4779b32-6608-4464-9a26-af2368cedf89.jpg\" data-type=\"article\" src=\"https://pds.joins.com/news/component/htmlphoto_mmdata/202011/23/f4779b32-6608-4464-9a26-af2368cedf89.jpg\"/> <span class=\"mask\"></span> </div> <p class=\"caption\">데이터이야기 11/23</p> </div>        그 ‘인간적 요소’는 단지 모델링 작업뿐 아니라 사용자들이 예측결과를 적용하는 과정에서도 문제가 될 수 있다. 단순한 일기예보에 대한 반응도 사람마다 다르며, 예측의 적절함에 상관없이 사용자에게 감정을 다 빼고 결과를 보라는 것은 애초부터 무리한 주문이다. 그래서 데이터 사이언티스트는 더욱 중립적인 태도를 유지하도록 노력해야 하는 것이다.  <br/>      <br/>   구조적 편향성으로 인해 이제 기존의 여론조사 방식은 종말을 맞고 있는 것인지도 모른다. 특히 전화를 통한 여론조사는 더 이상 적절하지 않다. ‘모르는 번호에서 걸려온 전화를 받고 모든 질문에 성실히 대답한 사람’이란 집단은 그저 희망사항일 뿐이며 샘플링 오류의 근원이다. 발신자 신원이 표시되는 모빌 전화기를 가지고 누가 미확인 번호에 응답할 것이며, 설문방식이 적절하더라도 선호하는 후보에 관한 대답을 회피하는 사람도 많다. 특정 웹사이트 방문자만을 대상으로 조사를 하는 것보다는 낫겠지만 이 다양하고 복잡한 세상에서 전화를 통한 여론조사는 그저 참고사항 정도로 여겨야 한다.  <br/>      <div class=\"\" id=\"criteo_network\" style=\"width: 250px; height: 250px; float: right; clear: both; margin-left: 20px;\"><div id=\"imp_ad_da_250_1\"><script data-id=\"7TzXV_PfR6u5epgxyPjtOA\" name=\"joongang_p/article/article@article_body_250x250?mlink=5\" src=\"./aa77_files/persona.js.다운로드\" type=\"text/javascript\"></script><script src=\"./aa77_files/4bt_4p_aYZLeHvg3WpShADF3fTGj0K7NQ8MZjbfpq1uEAM4qWzAZAbZDSXNVZUJ6V1RkR3ppcktOd2hId2JBAstB1_YYvmTN-gPLQdf2GL5kzfo.js(5).다운로드\"></script><div id=\"7TzXV_PfR6u5epgxyPjtOA\"><iframe frameborder=\"0\" height=\"250px\" leftmargin=\"0\" marginheight=\"0\" marginwidth=\"0\" name=\"mliframe\" scrolling=\"no\" src=\"./aa77_files/article@article_body_250x250.html\" topmargin=\"0\" width=\"250px\"></iframe></div></div></div><br/>   2016년 미 대선 당시 ‘앞마당에 설치한 지지후보 표식의 수’ 등의 실제적 변수를 바탕으로 결과를 정확히 예측한 머신 러닝 알고리즘이 화제가 되었다. 그런 변수는 분명 사람들의 성향을 나타내지만 질문에 대한 대답의 형태는 아니다. 사람들의 말과 행동이 다른 경우는 흔하다. 일례로 어떤 배달 피자가게의 1년 판매량을 조사할 때 주인이 대답한 판매량과 사용한 피자 박스의 수 중 어느 변수에 편향성이 더 있을 것인가?  <br/>      <br/>   찾아보자면 질문이 필요 없는 변수는 도처에 널려 있다. 데이터가 흔한 미국에서 대선결과 예측에 쓸 만한 변수들은 그 앞마당 표식숫자 말고도 정치 집회자들이 차지한 면적, 소셜미디어상 긍정적·부정적 언급 수, 지지자별 평균 기부금액, 최초·반복 기부자 수 등을 고려해 볼 수 있다. 그런 데이터에 접근이 용이하지 않다면? 급한대로 드론이라도 띄워서 집회사진을 찍을 일이다.  <br/>      <br/>   머신 러닝은 주로 자동화 도구로 인식되어 있지만 그것을 모델링 과정에서 인간적 요소를 최소화하는 방식으로 이용할 수도 있다. 감정이 없는 기계는 역설적으로 틀린 예측으로 인한 인간들의 감정적 손실을 최소화할 것이다. 넘쳐나는 데이터와 AI 시대에서 기존의 방식만을 고집할 일이 아니다. 장벽은 기술적 요소들이 아니라 상상력 부족에 있다.  <br/>      <br/>   유혁 윌로우 데이터 스트래티지 대표  <br/>\n",
            "<!-- 아티클 공통 : DA 250 -->\n",
            "<!-- 아티클 공통 : 관련기사 -->\n",
            "<!-- //아티클 공통 : 관련기사 -->\n",
            "</div>]\n",
            "\n",
            "     유혁 윌로우 데이터 스트래티지 대표         치열한 선거전의 결과를 예측하는 것은 쉬운 일이 아니다. 하지만 접전이 될 것이란 것조차 예측하지 못했다는 건 큰 문제다. 이번 미국 대선 결과와 상관없이 2016년에 이어 2020년에도 가장 명백한 패자는 결과를 제대로 예측하지 못한 각종 여론조사 기관이라고 할 수 있다. 4년 전에는 아예 승자를 맞추지도 못했지만, 이번에도 대선과 의원 선거의 결과가 예상 밖의 접전양상으로 나타났으니 여론조사 방법에 심각한 의구심을 가질 만한 상황이다.        미대선 예측오류로 드러난 문제표본추출과 데이터 에러가 원인기존 여론조사방식 한계에 도달창의적 데이터 수집·적용 필요   많은 분석가들은 4년전 크게 벗어난 예측을 표본추출 오류의 결과로 결론을 내렸었다. 인구밀도가 낮은 지역에서 주요 변수의 대표성에 문제가 생기면 예측결과가 아예 틀릴 수 있다. 특히 양당의 선호도가 도시와 교외지역에 따라 명확히 갈리는 미국의 경우 샘플링 오류의 영향은 더욱 증폭된다.           전과 같은 실수를 되풀이하지 않기 위해 이번에는 ‘대졸 이하의 백인 남성’등의 특정 그룹에 가중치를 부여한 조사기관도 있다고 들었는데, 결과적으로 그런 방식도 예측 정확도에 큰 기여를 하지 못했다. 샘플 크기를 임의로 조정했다면 어떤 방식으로 얼마만큼 했다는 것인가? 아마 구체적인 샘플링 방식을 놓고 전적으로 동의하는 단 두 명의 통계전문가도 찾기 어려울 것이다.           그래서 분석작업에서의 ‘인간적 요소’도 간과하면 안된다. 모델링을 놓고 흔히 “반은 과학, 반은 예술”이란 표현을 쓰지만, 이렇게 크게 벗어난 예측을 보자면 그 예술이란 부분이 문제가 될 수도 있다는 생각이다. 고전적 모델링 과정에서 예측변수나 알고리즘의 선택에 전문가의 성향이 전적으로 배제될 수는 없다.           게다가 구조적 오류나 아예 틀린 데이터는 그 어떤 통계적 방식으로도 극복하기 어렵다. 미국식 표현인 “쓰레기를 넣으면 쓰레기 같은 결과가 나온다”라는 표현이 적절할 것이다. 만약 여론조사 응답자가 거짓으로 답했다면? 그렇게 명백히 틀린 정보는 데이터 수집과 모델링만의 문제가 아니다.              데이터이야기 11/23         그 ‘인간적 요소’는 단지 모델링 작업뿐 아니라 사용자들이 예측결과를 적용하는 과정에서도 문제가 될 수 있다. 단순한 일기예보에 대한 반응도 사람마다 다르며, 예측의 적절함에 상관없이 사용자에게 감정을 다 빼고 결과를 보라는 것은 애초부터 무리한 주문이다. 그래서 데이터 사이언티스트는 더욱 중립적인 태도를 유지하도록 노력해야 하는 것이다.           구조적 편향성으로 인해 이제 기존의 여론조사 방식은 종말을 맞고 있는 것인지도 모른다. 특히 전화를 통한 여론조사는 더 이상 적절하지 않다. ‘모르는 번호에서 걸려온 전화를 받고 모든 질문에 성실히 대답한 사람’이란 집단은 그저 희망사항일 뿐이며 샘플링 오류의 근원이다. 발신자 신원이 표시되는 모빌 전화기를 가지고 누가 미확인 번호에 응답할 것이며, 설문방식이 적절하더라도 선호하는 후보에 관한 대답을 회피하는 사람도 많다. 특정 웹사이트 방문자만을 대상으로 조사를 하는 것보다는 낫겠지만 이 다양하고 복잡한 세상에서 전화를 통한 여론조사는 그저 참고사항 정도로 여겨야 한다.           2016년 미 대선 당시 ‘앞마당에 설치한 지지후보 표식의 수’ 등의 실제적 변수를 바탕으로 결과를 정확히 예측한 머신 러닝 알고리즘이 화제가 되었다. 그런 변수는 분명 사람들의 성향을 나타내지만 질문에 대한 대답의 형태는 아니다. 사람들의 말과 행동이 다른 경우는 흔하다. 일례로 어떤 배달 피자가게의 1년 판매량을 조사할 때 주인이 대답한 판매량과 사용한 피자 박스의 수 중 어느 변수에 편향성이 더 있을 것인가?           찾아보자면 질문이 필요 없는 변수는 도처에 널려 있다. 데이터가 흔한 미국에서 대선결과 예측에 쓸 만한 변수들은 그 앞마당 표식숫자 말고도 정치 집회자들이 차지한 면적, 소셜미디어상 긍정적·부정적 언급 수, 지지자별 평균 기부금액, 최초·반복 기부자 수 등을 고려해 볼 수 있다. 그런 데이터에 접근이 용이하지 않다면? 급한대로 드론이라도 띄워서 집회사진을 찍을 일이다.           머신 러닝은 주로 자동화 도구로 인식되어 있지만 그것을 모델링 과정에서 인간적 요소를 최소화하는 방식으로 이용할 수도 있다. 감정이 없는 기계는 역설적으로 틀린 예측으로 인한 인간들의 감정적 손실을 최소화할 것이다. 넘쳐나는 데이터와 AI 시대에서 기존의 방식만을 고집할 일이 아니다. 장벽은 기술적 요소들이 아니라 상상력 부족에 있다.           유혁 윌로우 데이터 스트래티지 대표  \n",
            "\n",
            "\n",
            "\n",
            "\n"
          ],
          "name": "stdout"
        }
      ]
    },
    {
      "cell_type": "markdown",
      "metadata": {
        "id": "udBOxmbDWCyn"
      },
      "source": [
        ""
      ]
    },
    {
      "cell_type": "markdown",
      "metadata": {
        "id": "oRaraft5WCsu"
      },
      "source": [
        ""
      ]
    },
    {
      "cell_type": "markdown",
      "metadata": {
        "id": "iqOy-PM1WCdl"
      },
      "source": [
        "문제414. 위에서 스크롤링한 중앙일보 기사를 c 드라이브 밑에 mytext23.txt 로 저장하시오 !  \r\n"
      ]
    },
    {
      "cell_type": "code",
      "metadata": {
        "id": "G8OxF8tqWH2G"
      },
      "source": [
        "from bs4 import BeautifulSoup\r\n",
        "\r\n",
        "f = open(\"/content/drive/MyDrive/data/aa77.html\")\r\n",
        "soup = BeautifulSoup( f, \"html.parser\" )\r\n",
        "result =soup.find_all(class_=\"article_body mg fs4\")\r\n",
        "a = []\r\n",
        "\r\n",
        "for i in result: \r\n",
        "    a.append(i.get_text())\r\n",
        "\r\n",
        "f = open(\"/content/drive/MyDrive/data/mytext23.txt\", 'w')\r\n",
        "f.write( str(a) )\r\n",
        "f.close()"
      ],
      "execution_count": 79,
      "outputs": []
    },
    {
      "cell_type": "markdown",
      "metadata": {
        "id": "-mveE7P3WRC8"
      },
      "source": [
        ""
      ]
    },
    {
      "cell_type": "code",
      "metadata": {
        "colab": {
          "base_uri": "https://localhost:8080/"
        },
        "id": "RrN-amrAWRY6",
        "outputId": "62d2c772-badf-4eec-f4f9-897622bc10f4"
      },
      "source": [
        "# mytext23.txt 데이터 확인\r\n",
        "f = open(\"/content/drive/MyDrive/data/mytext23.txt\", encoding = \"UTF8\")\r\n",
        "data = f.read() \r\n",
        "print(data)\r\n",
        "f.close()"
      ],
      "execution_count": 81,
      "outputs": [
        {
          "output_type": "stream",
          "text": [
            "['\\n     유혁 윌로우 데이터 스트래티지 대표         치열한 선거전의 결과를 예측하는 것은 쉬운 일이 아니다. 하지만 접전이 될 것이란 것조차 예측하지 못했다는 건 큰 문제다. 이번 미국 대선 결과와 상관없이 2016년에 이어 2020년에도 가장 명백한 패자는 결과를 제대로 예측하지 못한 각종 여론조사 기관이라고 할 수 있다. 4년 전에는 아예 승자를 맞추지도 못했지만, 이번에도 대선과 의원 선거의 결과가 예상 밖의 접전양상으로 나타났으니 여론조사 방법에 심각한 의구심을 가질 만한 상황이다.     \\xa0  미대선 예측오류로 드러난 문제표본추출과 데이터 에러가 원인기존 여론조사방식 한계에 도달창의적 데이터 수집·적용 필요   많은 분석가들은 4년전 크게 벗어난 예측을 표본추출 오류의 결과로 결론을 내렸었다. 인구밀도가 낮은 지역에서 주요 변수의 대표성에 문제가 생기면 예측결과가 아예 틀릴 수 있다. 특히 양당의 선호도가 도시와 교외지역에 따라 명확히 갈리는 미국의 경우 샘플링 오류의 영향은 더욱 증폭된다.     \\xa0     전과 같은 실수를 되풀이하지 않기 위해 이번에는 ‘대졸 이하의 백인 남성’등의 특정 그룹에 가중치를 부여한 조사기관도 있다고 들었는데, 결과적으로 그런 방식도 예측 정확도에 큰 기여를 하지 못했다. 샘플 크기를 임의로 조정했다면 어떤 방식으로 얼마만큼 했다는 것인가? 아마 구체적인 샘플링 방식을 놓고 전적으로 동의하는 단 두 명의 통계전문가도 찾기 어려울 것이다.     \\xa0     그래서 분석작업에서의 ‘인간적 요소’도 간과하면 안된다. 모델링을 놓고 흔히 “반은 과학, 반은 예술”이란 표현을 쓰지만, 이렇게 크게 벗어난 예측을 보자면 그 예술이란 부분이 문제가 될 수도 있다는 생각이다. 고전적 모델링 과정에서 예측변수나 알고리즘의 선택에 전문가의 성향이 전적으로 배제될 수는 없다.     \\xa0     게다가 구조적 오류나 아예 틀린 데이터는 그 어떤 통계적 방식으로도 극복하기 어렵다. 미국식 표현인 “쓰레기를 넣으면 쓰레기 같은 결과가 나온다”라는 표현이 적절할 것이다. 만약 여론조사 응답자가 거짓으로 답했다면? 그렇게 명백히 틀린 정보는 데이터 수집과 모델링만의 문제가 아니다.     \\xa0        데이터이야기 11/23         그 ‘인간적 요소’는 단지 모델링 작업뿐 아니라 사용자들이 예측결과를 적용하는 과정에서도 문제가 될 수 있다. 단순한 일기예보에 대한 반응도 사람마다 다르며, 예측의 적절함에 상관없이 사용자에게 감정을 다 빼고 결과를 보라는 것은 애초부터 무리한 주문이다. 그래서 데이터 사이언티스트는 더욱 중립적인 태도를 유지하도록 노력해야 하는 것이다.     \\xa0     구조적 편향성으로 인해 이제 기존의 여론조사 방식은 종말을 맞고 있는 것인지도 모른다. 특히 전화를 통한 여론조사는 더 이상 적절하지 않다. ‘모르는 번호에서 걸려온 전화를 받고 모든 질문에 성실히 대답한 사람’이란 집단은 그저 희망사항일 뿐이며 샘플링 오류의 근원이다. 발신자 신원이 표시되는 모빌 전화기를 가지고 누가 미확인 번호에 응답할 것이며, 설문방식이 적절하더라도 선호하는 후보에 관한 대답을 회피하는 사람도 많다. 특정 웹사이트 방문자만을 대상으로 조사를 하는 것보다는 낫겠지만 이 다양하고 복잡한 세상에서 전화를 통한 여론조사는 그저 참고사항 정도로 여겨야 한다.     \\xa0     2016년 미 대선 당시 ‘앞마당에 설치한 지지후보 표식의 수’ 등의 실제적 변수를 바탕으로 결과를 정확히 예측한 머신 러닝 알고리즘이 화제가 되었다. 그런 변수는 분명 사람들의 성향을 나타내지만 질문에 대한 대답의 형태는 아니다. 사람들의 말과 행동이 다른 경우는 흔하다. 일례로 어떤 배달 피자가게의 1년 판매량을 조사할 때 주인이 대답한 판매량과 사용한 피자 박스의 수 중 어느 변수에 편향성이 더 있을 것인가?     \\xa0     찾아보자면 질문이 필요 없는 변수는 도처에 널려 있다. 데이터가 흔한 미국에서 대선결과 예측에 쓸 만한 변수들은 그 앞마당 표식숫자 말고도 정치 집회자들이 차지한 면적, 소셜미디어상 긍정적·부정적 언급 수, 지지자별 평균 기부금액, 최초·반복 기부자 수 등을 고려해 볼 수 있다. 그런 데이터에 접근이 용이하지 않다면? 급한대로 드론이라도 띄워서 집회사진을 찍을 일이다.     \\xa0     머신 러닝은 주로 자동화 도구로 인식되어 있지만 그것을 모델링 과정에서 인간적 요소를 최소화하는 방식으로 이용할 수도 있다. 감정이 없는 기계는 역설적으로 틀린 예측으로 인한 인간들의 감정적 손실을 최소화할 것이다. 넘쳐나는 데이터와 AI 시대에서 기존의 방식만을 고집할 일이 아니다. 장벽은 기술적 요소들이 아니라 상상력 부족에 있다.     \\xa0     유혁\\xa0윌로우 데이터 스트래티지 대표  \\n\\n\\n\\n']\n"
          ],
          "name": "stdout"
        }
      ]
    }
  ]
}