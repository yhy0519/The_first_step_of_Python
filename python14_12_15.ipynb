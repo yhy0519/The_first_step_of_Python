{
  "nbformat": 4,
  "nbformat_minor": 0,
  "metadata": {
    "colab": {
      "name": "python14_12_15.ipynb",
      "provenance": [],
      "collapsed_sections": [],
      "mount_file_id": "1ZvAAWHOPg6-6TM1QZYfmEBBMCOhhCd9S",
      "authorship_tag": "ABX9TyNmZc26qVktDTnUrNfsZryG",
      "include_colab_link": true
    },
    "kernelspec": {
      "name": "python3",
      "display_name": "Python 3"
    }
  },
  "cells": [
    {
      "cell_type": "markdown",
      "metadata": {
        "id": "view-in-github",
        "colab_type": "text"
      },
      "source": [
        "<a href=\"https://colab.research.google.com/github/yhy0519/The_first_step_of_Python/blob/main/python14_12_15.ipynb\" target=\"_parent\"><img src=\"https://colab.research.google.com/assets/colab-badge.svg\" alt=\"Open In Colab\"/></a>"
      ]
    },
    {
      "cell_type": "markdown",
      "metadata": {
        "id": "XXLI7mPLAl36"
      },
      "source": [
        "**■ 132. 인자를 바꾸어 함수를 반복 호출하여 결과값 얻기(map)**\r\n",
        "\r\n",
        "파이썬 내장함수 map() 은 리스트 A 와 함수 f 가 주어지면 리스트 A의 요소를 함수 f 에\r\n",
        "입력해서 출력하는 결과를 간단하게 출력해줍니다.\r\n",
        "\r\n",
        "    문법: map( 함수명, 함수에 제공할 매개변수 값들 )\r\n",
        "\r\n",
        "매개변수의 값들을 바꿔가면서 함수를 반복 실행할 때 유용하게 사용할 수 있습니다.\r\n",
        "\r\n",
        "예제:"
      ]
    },
    {
      "cell_type": "code",
      "metadata": {
        "colab": {
          "base_uri": "https://localhost:8080/"
        },
        "id": "Yb-3EZdsAsjl",
        "outputId": "07b05535-aea3-4bf3-d076-cd44026414d7"
      },
      "source": [
        "def gob(x):\r\n",
        "    return x * x\r\n",
        "\r\n",
        "a = [ 1, 2, 3, 4, 5 ]\r\n",
        "result = list( map(gob, a) )\r\n",
        "print( result )\r\n",
        "\r\n",
        "r = map(gob, a)\r\n",
        "print(r)"
      ],
      "execution_count": null,
      "outputs": [
        {
          "output_type": "stream",
          "text": [
            "[1, 4, 9, 16, 25]\n",
            "<map object at 0x7f471c0b9048>\n"
          ],
          "name": "stdout"
        }
      ]
    },
    {
      "cell_type": "markdown",
      "metadata": {
        "id": "cEbtmSYRBA1_"
      },
      "source": [
        "설명: 리스트의 요소 하나하나를 함수에 입력값으로 입력한다(mapping)\r\n",
        "\r\n",
        "map 함수가 리턴해주는 결과를 보려면 반드시 list 함수로 리턴된 값을 변환해서 리스트 형태로 봐야합니다.  \r\n",
        "(그냥 result = map(gob, a) 는 메모리 주소값 리턴)"
      ]
    },
    {
      "cell_type": "markdown",
      "metadata": {
        "id": "IPebtQYIBVHv"
      },
      "source": [
        ""
      ]
    },
    {
      "cell_type": "markdown",
      "metadata": {
        "id": "zkO31d9QBAou"
      },
      "source": [
        ""
      ]
    },
    {
      "cell_type": "markdown",
      "metadata": {
        "id": "DoBkDIXnBXG_"
      },
      "source": [
        "문제 391. 숫자를 입력해서 해당 숫자가 3000보다 크거나 같으면 숫자를 1을 리턴하게 하고 입력하는 숫자가 3000보다 작다면 0을 리턴하는 함수를 생성하시오\r\n",
        "\r\n",
        "    print( high_income(3500) )\r\n",
        "    결과 1\r\n",
        "    print( high_income(2000) )\r\n",
        "    결과 0"
      ]
    },
    {
      "cell_type": "code",
      "metadata": {
        "colab": {
          "base_uri": "https://localhost:8080/"
        },
        "id": "78wgCdMaBZsa",
        "outputId": "c9ef2476-a9b3-4122-d492-e15380c12c22"
      },
      "source": [
        "def high_income(num):\r\n",
        "    if num >= 3000:\r\n",
        "        return 1\r\n",
        "    else:\r\n",
        "        return 0\r\n",
        "\r\n",
        "print( high_income(3500) )\r\n",
        "print( high_income(2000) )"
      ],
      "execution_count": null,
      "outputs": [
        {
          "output_type": "stream",
          "text": [
            "1\n",
            "0\n"
          ],
          "name": "stdout"
        }
      ]
    },
    {
      "cell_type": "markdown",
      "metadata": {
        "id": "nR-v_CuoByrm"
      },
      "source": [
        ""
      ]
    },
    {
      "cell_type": "markdown",
      "metadata": {
        "id": "lIYvA1lHBylv"
      },
      "source": [
        ""
      ]
    },
    {
      "cell_type": "markdown",
      "metadata": {
        "id": "SMUm_KyjByfv"
      },
      "source": [
        "문제392. 위에서 만든 함수를 map 함수에 적용해서 아래의 리스트의 요소가 high_incom 함수의 입력 매개변수로 입력해서 아래의 결과가 출력되게하시오 !\r\n",
        "\r\n",
        "    a = [ 4000, 5000, 2000, 3500, 1000 ]\r\n",
        "    \r\n",
        "    결과: [ 1, 1, 0, 1, 0 ]\r\n"
      ]
    },
    {
      "cell_type": "code",
      "metadata": {
        "id": "Pc_3X0tQDEvm",
        "colab": {
          "base_uri": "https://localhost:8080/"
        },
        "outputId": "a1b68b1a-f4fe-45f0-da95-b470522d0a04"
      },
      "source": [
        "def high_income(num):\r\n",
        "    if num >= 3000:\r\n",
        "        return 1\r\n",
        "    else:\r\n",
        "        return 0\r\n",
        "\r\n",
        "a = [ 4000, 5000, 2000, 3500, 1000 ]\r\n",
        "\r\n",
        "result = list(map(high_income, a))\r\n",
        "print(result)"
      ],
      "execution_count": 6,
      "outputs": [
        {
          "output_type": "stream",
          "text": [
            "[1, 1, 0, 1, 0]\n"
          ],
          "name": "stdout"
        }
      ]
    },
    {
      "cell_type": "markdown",
      "metadata": {
        "id": "Ky2TQXyCCdJY"
      },
      "source": [
        ""
      ]
    },
    {
      "cell_type": "markdown",
      "metadata": {
        "id": "Bt64c9a6CdEP"
      },
      "source": [
        ""
      ]
    },
    {
      "cell_type": "markdown",
      "metadata": {
        "id": "LI-YkdF0Cc_Q"
      },
      "source": [
        "문제393. 동전을 지정된 숫자만큼 던져서 앞면이 나오는지 뒷면이 나오는지 출력하는 함수를 생성하시오 !\r\n",
        "\r\n",
        "    coin_cnt(5)\r\n",
        "    앞면\r\n",
        "    앞면\r\n",
        "    앞면\r\n",
        "    뒷면\r\n",
        "    앞면"
      ]
    },
    {
      "cell_type": "code",
      "metadata": {
        "id": "OLvZQqyqDC8c",
        "colab": {
          "base_uri": "https://localhost:8080/"
        },
        "outputId": "c90c7abc-0f5c-4a46-ae7b-c785694eebc1"
      },
      "source": [
        "def coin_cnt(num):\r\n",
        "    import random\r\n",
        "    coin = ['앞면', '뒷면']\r\n",
        "    for i in range(1,num+1):\r\n",
        "        result = random.choice(coin)\r\n",
        "        print(result)\r\n",
        "\r\n",
        "coin_cnt(5)"
      ],
      "execution_count": 9,
      "outputs": [
        {
          "output_type": "stream",
          "text": [
            "앞면\n",
            "뒷면\n",
            "앞면\n",
            "앞면\n",
            "앞면\n"
          ],
          "name": "stdout"
        }
      ]
    },
    {
      "cell_type": "markdown",
      "metadata": {
        "id": "tlbXgHI1Dh3g"
      },
      "source": [
        ""
      ]
    },
    {
      "cell_type": "markdown",
      "metadata": {
        "id": "GfPQZOIfDhw3"
      },
      "source": [
        ""
      ]
    },
    {
      "cell_type": "markdown",
      "metadata": {
        "id": "rQhDkACHDhpf"
      },
      "source": [
        "문제394. 위의 함수를 수정해서 숫자를 입력하면 해당 숫자만큼 동전을 던져서\r\n",
        "\t     동전이 앞면이 나오는 확률을 출력하시오 !\r\n",
        "\r\n",
        "    print( coin_cnt(100) )"
      ]
    },
    {
      "cell_type": "code",
      "metadata": {
        "colab": {
          "base_uri": "https://localhost:8080/"
        },
        "id": "r9q72yAMDnd5",
        "outputId": "ee40e14c-92e9-4f83-beec-e16f425d3f81"
      },
      "source": [
        "def coin_cnt(num):\r\n",
        "    import random\r\n",
        "    coin = ['앞면', '뒷면']\r\n",
        "    cnt = 0\r\n",
        "    for i in range(1,num+1):\r\n",
        "        result = random.choice(coin)\r\n",
        "        if result == '앞면':\r\n",
        "            cnt += 1\r\n",
        "    return cnt/num\r\n",
        "\r\n",
        "coin_cnt(100)"
      ],
      "execution_count": 13,
      "outputs": [
        {
          "output_type": "execute_result",
          "data": {
            "text/plain": [
              "0.51"
            ]
          },
          "metadata": {
            "tags": []
          },
          "execution_count": 13
        }
      ]
    },
    {
      "cell_type": "markdown",
      "metadata": {
        "id": "9a4-ba8-EFK6"
      },
      "source": [
        ""
      ]
    },
    {
      "cell_type": "markdown",
      "metadata": {
        "id": "QZOQoUJtEFGo"
      },
      "source": [
        ""
      ]
    },
    {
      "cell_type": "markdown",
      "metadata": {
        "id": "qisML9FxEFAN"
      },
      "source": [
        "문제395. 위에서 만든 coin_cnt 함수의 아래의 a 리스트의 요소들을 적용해서 결과로\r\n",
        "\t     확률이 출력되게하시오\r\n",
        "\r\n",
        "    a = [ 10, 100, 1000, 10000, 100000 ]\r\n",
        "\r\n",
        "    결과: [0.5, 0.46, 0.502, 0.5048, 0.50028]\r\n"
      ]
    },
    {
      "cell_type": "code",
      "metadata": {
        "colab": {
          "base_uri": "https://localhost:8080/"
        },
        "id": "9Vvy1mdVEH4u",
        "outputId": "b3b6a5bb-00d0-4b29-a039-21904c0a02b7"
      },
      "source": [
        "def coin_cnt(num):\r\n",
        "    import random\r\n",
        "    coin = ['앞면', '뒷면']\r\n",
        "    cnt = 0\r\n",
        "    for i in range(1,num+1):\r\n",
        "        result = random.choice(coin)\r\n",
        "        if result == '앞면':\r\n",
        "            cnt += 1\r\n",
        "    return cnt/num\r\n",
        "\r\n",
        "a = [ 10, 100, 1000, 10000, 100000 ]\r\n",
        "result = list( map(coin_cnt, a) )\r\n",
        "print(result)"
      ],
      "execution_count": 17,
      "outputs": [
        {
          "output_type": "stream",
          "text": [
            "[0.4, 0.51, 0.483, 0.5026, 0.5006]\n"
          ],
          "name": "stdout"
        }
      ]
    },
    {
      "cell_type": "markdown",
      "metadata": {
        "id": "iCiTmTMTEYGi"
      },
      "source": [
        "설명: 동전을 던지는 횟수가 많아질수록 0.5 에 근사한 값이 출력되고 있다."
      ]
    },
    {
      "cell_type": "markdown",
      "metadata": {
        "id": "5NWj43GcEX-2"
      },
      "source": [
        ""
      ]
    },
    {
      "cell_type": "markdown",
      "metadata": {
        "id": "BOgxTy-jEX4I"
      },
      "source": [
        ""
      ]
    },
    {
      "cell_type": "markdown",
      "metadata": {
        "id": "UXUnuQbyEXys"
      },
      "source": [
        "문제396. 주사위를 던져서 주사위의 눈이 5 가 나올 확률을 출력하는 함수를 만들고\r\n",
        "\t     아래의 a 리스트의 주사위를 던지는 횟수를 map 함수로 적용해서 확률이 점점\r\n",
        "\t     1/6(0.1667) 로 근사해지는지 실험하시오 !\r\n",
        "\r\n",
        "    a = [ 10, 100, 1000, 10000, 100000 ]"
      ]
    },
    {
      "cell_type": "code",
      "metadata": {
        "colab": {
          "base_uri": "https://localhost:8080/"
        },
        "id": "HYe-dUkbEXej",
        "outputId": "881c42d7-3e55-43a4-907a-f418c9f73f3f"
      },
      "source": [
        "def dice_cnt(num):\r\n",
        "    import random\r\n",
        "    dice = list( range(1,7) )\r\n",
        "    cnt = 0\r\n",
        "    for i in range(1,num+1):\r\n",
        "        result = random.choice(dice)\r\n",
        "        if result == 5:\r\n",
        "            cnt += 1\r\n",
        "    return cnt/num\r\n",
        "\r\n",
        "a = [ 10, 100, 1000, 10000, 100000 ]\r\n",
        "result = list( map(dice_cnt, a) )\r\n",
        "print(result)"
      ],
      "execution_count": 19,
      "outputs": [
        {
          "output_type": "stream",
          "text": [
            "[0.1, 0.19, 0.161, 0.1654, 0.16788]\n"
          ],
          "name": "stdout"
        }
      ]
    },
    {
      "cell_type": "markdown",
      "metadata": {
        "id": "IJUOv7cbEumI"
      },
      "source": [
        ""
      ]
    },
    {
      "cell_type": "markdown",
      "metadata": {
        "id": "JV7vXNOtEuiS"
      },
      "source": [
        ""
      ]
    },
    {
      "cell_type": "markdown",
      "metadata": {
        "id": "Alx-Nsh1EufI"
      },
      "source": [
        "문제397. 아래의 불량품이 들어있는 박스에서 제품을 3개 뽑았을 때 3개중에 2개가 불량품일 확률을 출력하는 함수를 만드시오 !   \r\n",
        "( 복원추출로 하세요 !)  \r\n",
        "함수를 실행할 때 3개를 뽑은 횟수를 입력 매개변수로 사용하세요\r\n",
        "\r\n",
        "    box = ['정상', '정상', '불량품', '정상', '불량품', '정상', '정상', '불량품']"
      ]
    },
    {
      "cell_type": "code",
      "metadata": {
        "colab": {
          "base_uri": "https://localhost:8080/"
        },
        "id": "Ju3KJ7RNEyrO",
        "outputId": "3d9757da-066a-4860-968b-730b6596e3f6"
      },
      "source": [
        "def box_cnt(num):\r\n",
        "    import numpy as np\r\n",
        "    cnt = 0\r\n",
        "    box = ['정상', '정상', '불량품', '정상', '불량품', '정상', '정상', '불량품']\r\n",
        "    for i in range(1, num+1):\r\n",
        "        result = list( np.random.choice(box, 3, replace = True) )\r\n",
        "        if result.count('불량품') == 2:\r\n",
        "            cnt = cnt + 1\r\n",
        "    return cnt / num\r\n",
        "\r\n",
        "print(box_cnt(100))"
      ],
      "execution_count": 20,
      "outputs": [
        {
          "output_type": "stream",
          "text": [
            "0.25\n"
          ],
          "name": "stdout"
        }
      ]
    },
    {
      "cell_type": "markdown",
      "metadata": {
        "id": "P1uDFAdAFSZs"
      },
      "source": [
        ""
      ]
    },
    {
      "cell_type": "markdown",
      "metadata": {
        "id": "Hk1yvfoKFSVX"
      },
      "source": [
        ""
      ]
    },
    {
      "cell_type": "markdown",
      "metadata": {
        "id": "RjMYYh27FSQN"
      },
      "source": [
        "문제398. 위에서 만든 box_cnt 함수에 아래의 a 리스트의 횟수를 map 함수로 적용해서 확률이 출력되게하시오 !\r\n",
        "\r\n",
        "    a = [ 10, 100, 1000, 10000, 100000 ]"
      ]
    },
    {
      "cell_type": "code",
      "metadata": {
        "colab": {
          "base_uri": "https://localhost:8080/"
        },
        "id": "gcGT3S8FFWct",
        "outputId": "e5b8cc84-b020-4549-f331-959665a7c9dd"
      },
      "source": [
        "def box_cnt(num):\r\n",
        "    import numpy as np\r\n",
        "    cnt = 0\r\n",
        "    box = ['정상', '정상', '불량품', '정상', '불량품', '정상', '정상', '불량품']\r\n",
        "    for i in range(1, num+1):\r\n",
        "        result = list( np.random.choice(box, 3, replace = True) )\r\n",
        "        if result.count('불량품') == 2:\r\n",
        "            cnt = cnt + 1\r\n",
        "    return cnt / num\r\n",
        "\r\n",
        "a = [ 10, 100, 1000, 10000, 100000 ]\r\n",
        "result = list( map(box_cnt, a) )\r\n",
        "print(result)"
      ],
      "execution_count": 21,
      "outputs": [
        {
          "output_type": "stream",
          "text": [
            "[0.4, 0.3, 0.256, 0.2651, 0.26415]\n"
          ],
          "name": "stdout"
        }
      ]
    },
    {
      "cell_type": "markdown",
      "metadata": {
        "id": "S-bBgohAFjBa"
      },
      "source": [
        ""
      ]
    },
    {
      "cell_type": "markdown",
      "metadata": {
        "id": "CtsEA33MFi8a"
      },
      "source": [
        ""
      ]
    },
    {
      "cell_type": "markdown",
      "metadata": {
        "id": "Ox6-yWvUFi4r"
      },
      "source": [
        "**■ 133. 텍스트 파일을 읽고 출력하기(read)**\r\n",
        "\r\n",
        "텍스트 파일을 읽고 그 내용을 화면에 출력하고자 하면 제일 먼저 텍스트 읽기 모드로 파일을 엽니다.  \r\n",
        "텍스트 파일을 오픈하면 텍스트 파일을 읽어 내용을 화면에 출력하면 됩니다.\r\n",
        "\r\n",
        "예:"
      ]
    },
    {
      "cell_type": "code",
      "metadata": {
        "id": "cSLOy68OFm5O"
      },
      "source": [
        "f = open(\"/content/drive/MyDrive/data/jobs.txt\", encoding = 'UTF8')\r\n",
        "data = f.read()\r\n",
        "print( data )\r\n",
        "f.close()"
      ],
      "execution_count": null,
      "outputs": []
    },
    {
      "cell_type": "markdown",
      "metadata": {
        "id": "_LaB11JYF7-G"
      },
      "source": [
        "설명: 스티븐 잡스 연설문은 길지 않으니까 한번에 읽어와도 관계없는데 텍스트 파일의 용량이 매우 클 경우 read() 로 한꺼번에 파일의 내용을 읽어들이는것은 메모리 문제를 야기시킬 수 있습니다."
      ]
    },
    {
      "cell_type": "markdown",
      "metadata": {
        "id": "CDkaw5ekGA9r"
      },
      "source": [
        "웹에서 스크롤링한 데이터를 분석하고자 할 때 위와 같이 open 함수를 이용해서 파이썬으로 데이터를 불러옵니다."
      ]
    },
    {
      "cell_type": "markdown",
      "metadata": {
        "id": "oMlB8hEXF-KT"
      },
      "source": [
        ""
      ]
    },
    {
      "cell_type": "markdown",
      "metadata": {
        "id": "XckJzpW5F-p_"
      },
      "source": [
        ""
      ]
    },
    {
      "cell_type": "markdown",
      "metadata": {
        "id": "CNm0yzQLF_DA"
      },
      "source": [
        "문제399. 중앙일보에서 인공지능으로 검색한 기사인 mydata3.txt 를 파이썬으로 불러서 출력하시오!"
      ]
    },
    {
      "cell_type": "code",
      "metadata": {
        "id": "z_9IZ8dSGGSU"
      },
      "source": [
        "f = open(\"/content/drive/MyDrive/data/mydata3.txt\", encoding = \"UTF8\")\r\n",
        "data = f.read()    # 파일을 한번에 전부 읽어오는 함수입니다.\r\n",
        "print(data)\r\n",
        "f.close()    # 파일을 닫는다. 닫는 코드를 안쓰면 파일이 계속 열려있습니다.\r\n",
        "             # 파일을 계속 열어두면 메모리를 계속 차지하고 사용하고 있게됩니다.\r\n",
        "             # 텍스트 파일의 크기가 크면 메모리를 많이 사용하고 있게됩니다.\r\n",
        "             # 그래서 사용이 끝났으면 반드시 close() 로 닫습니다."
      ],
      "execution_count": null,
      "outputs": []
    },
    {
      "cell_type": "markdown",
      "metadata": {
        "id": "Pi3Yu5q5GpCf"
      },
      "source": [
        ""
      ]
    },
    {
      "cell_type": "markdown",
      "metadata": {
        "id": "J8GdxiK8GvWQ"
      },
      "source": [
        ""
      ]
    },
    {
      "cell_type": "markdown",
      "metadata": {
        "id": "-ZJOZKL1GvO7"
      },
      "source": [
        "문제400. 위의 중앙일보 기사에서 빅데이터 라는 단어가 몇번 나오는지 count 하시오!"
      ]
    },
    {
      "cell_type": "code",
      "metadata": {
        "colab": {
          "base_uri": "https://localhost:8080/"
        },
        "id": "Kfk2ow7EGwZM",
        "outputId": "c0de0dc5-50d6-4fb9-e66e-f041fdd78bf2"
      },
      "source": [
        "f = open(\"/content/drive/MyDrive/data/mydata3.txt\", encoding = \"UTF8\")\r\n",
        "data = f.read()\r\n",
        "print(data.count('빅데이터'))\r\n",
        "f.close() "
      ],
      "execution_count": 27,
      "outputs": [
        {
          "output_type": "stream",
          "text": [
            "11\n"
          ],
          "name": "stdout"
        }
      ]
    },
    {
      "cell_type": "markdown",
      "metadata": {
        "id": "m41A5FmMG65I"
      },
      "source": [
        ""
      ]
    },
    {
      "cell_type": "markdown",
      "metadata": {
        "id": "3imhV5BnG61U"
      },
      "source": [
        ""
      ]
    },
    {
      "cell_type": "markdown",
      "metadata": {
        "id": "aUDGxs-2G6xU"
      },
      "source": [
        "**■ 134. 텍스트 파일을 한줄씩 읽고 출력하기 ① (readline)**\r\n",
        "\r\n",
        "텍스트 파일의 용량이 매우 클 경우 read() 로 한꺼번에 파일의 내용을 읽어들이는 것은 메모리 문제를 야기할 수 있습니다.  \r\n",
        "이 경우 텍스트 파일 내용을 한 줄 단위로 읽고 작업을 수행하면 됩니다. readline() 은 텍스트 파일에서 한 줄을 읽습니다.  \r\n",
        "한 줄을 읽고 나면 파일을 읽기 시작하는 위치는 그 다음줄의 맨 처음이 됩니다.\r\n",
        "\r\n",
        "예제:"
      ]
    },
    {
      "cell_type": "code",
      "metadata": {
        "colab": {
          "base_uri": "https://localhost:8080/"
        },
        "id": "y0ndVzMkHBUd",
        "outputId": "dfb5c0ba-7fcd-479d-d32e-882c04bf5221"
      },
      "source": [
        "f = open(\"/content/drive/MyDrive/data/jobs.txt\", encoding = 'UTF8')\r\n",
        "data = f.readline()\r\n",
        "print( data )    # 맨 위의 딱 한줄만 출력\r\n",
        "f.close()"
      ],
      "execution_count": 28,
      "outputs": [
        {
          "output_type": "stream",
          "text": [
            "steve jobs'2005 stanford commencement address\n",
            "\n"
          ],
          "name": "stdout"
        }
      ]
    },
    {
      "cell_type": "markdown",
      "metadata": {
        "id": "RJx5Scw3HP1G"
      },
      "source": [
        "설명: read() 함수는 텍스트 파일 전체를 읽어오는 반면 readline() 은 텍스트 파일에서 한줄만 읽어옵니다."
      ]
    },
    {
      "cell_type": "markdown",
      "metadata": {
        "id": "v_1GvTQ7HRVd"
      },
      "source": [
        ""
      ]
    },
    {
      "cell_type": "markdown",
      "metadata": {
        "id": "8kZVSSx0HR0A"
      },
      "source": [
        ""
      ]
    },
    {
      "cell_type": "markdown",
      "metadata": {
        "id": "u_SYCTMEHRnD"
      },
      "source": [
        "문제401. 위의 스티븐 잡스 연설문 데이터를 모두 읽어오시오 !\r\n",
        "\t     ( readline() 함수를 이용하세요 ~ )"
      ]
    },
    {
      "cell_type": "code",
      "metadata": {
        "id": "PIP8RhYTHUxb"
      },
      "source": [
        "f = open(\"/content/drive/MyDrive/data/jobs.txt\", encoding = 'UTF8')\r\n",
        "data = f.readline()\r\n",
        "while data:               # data 변수안에 data 가 있으면 True 없으면 False 입니다.\r\n",
        "    print( data )\r\n",
        "    data = f.readline()   # 그 다음줄을 읽어서 data 변수에 입력합니다. 데이터가 없을때까지 한줄씩 출력\r\n",
        "f.close()"
      ],
      "execution_count": null,
      "outputs": []
    },
    {
      "cell_type": "markdown",
      "metadata": {
        "id": "ccZwMRxTHguK"
      },
      "source": [
        ""
      ]
    },
    {
      "cell_type": "markdown",
      "metadata": {
        "id": "7lBIP0_sHgql"
      },
      "source": [
        ""
      ]
    },
    {
      "cell_type": "markdown",
      "metadata": {
        "id": "xhj8rJhaHgma"
      },
      "source": [
        "설명: 맨 위에 data = f.readline() 코드는 처음에 딱 한번만 실행되고 그 다음에는 실행되지 않습니다.  \r\n",
        "그 다음부터는 while 문 안에 있는 data = f.readline() 가 작동되어서 반복적으로 스티븐 잡스의 연설문을 한줄씩 읽어서 data 변수에 넣습니다."
      ]
    },
    {
      "cell_type": "markdown",
      "metadata": {
        "id": "UGCYYVRVHncF"
      },
      "source": [
        ""
      ]
    },
    {
      "cell_type": "markdown",
      "metadata": {
        "id": "i54xFdURHnTL"
      },
      "source": [
        ""
      ]
    },
    {
      "cell_type": "markdown",
      "metadata": {
        "id": "nQJINQ_jHnKU"
      },
      "source": [
        "문제402. 중앙일보 기사를 한줄씩 읽은 데이터에서 인공지능이라는 단어가 나오면 count 하게 하시오!"
      ]
    },
    {
      "cell_type": "code",
      "metadata": {
        "id": "J6ADTr9HHkaL"
      },
      "source": [
        "f = open(\"/content/drive/MyDrive/data/mydata3.txt\", encoding = 'UTF8')\r\n",
        "data = f.readline()\r\n",
        "while data:      \r\n",
        "    print(data.count('인공지능'))\r\n",
        "    data = f.readline()  \r\n",
        "f.close()"
      ],
      "execution_count": null,
      "outputs": []
    },
    {
      "cell_type": "markdown",
      "metadata": {
        "id": "V9hccl7aX0BJ"
      },
      "source": [
        "결과:\r\n",
        "\r\n",
        "    0\r\n",
        "    0\r\n",
        "    0\r\n",
        "    0\r\n",
        "    0\r\n",
        "    0\r\n",
        "    0\r\n",
        "    0\r\n",
        "    0\r\n",
        "    0\r\n",
        "    0\r\n",
        "    1\r\n",
        "    0\r\n",
        "    1\r\n",
        "    0\r\n",
        "    :"
      ]
    },
    {
      "cell_type": "markdown",
      "metadata": {
        "id": "oV3EBgtEH7YV"
      },
      "source": [
        ""
      ]
    },
    {
      "cell_type": "markdown",
      "metadata": {
        "id": "9bLzfGrUH7Rv"
      },
      "source": [
        ""
      ]
    },
    {
      "cell_type": "markdown",
      "metadata": {
        "id": "ZDuZOTG7H7Md"
      },
      "source": [
        "문제403. 위에서 count 한 건수를 다 누적시켜서 출력하시오 !\r\n"
      ]
    },
    {
      "cell_type": "code",
      "metadata": {
        "colab": {
          "base_uri": "https://localhost:8080/"
        },
        "id": "RNvNG0xpH8Wr",
        "outputId": "017c254d-6614-4cc5-cba2-c8de01f3ae52"
      },
      "source": [
        "f = open(\"/content/drive/MyDrive/data/mydata3.txt\", encoding = \"UTF8\")\r\n",
        "data = f.readline()\r\n",
        "cnt = 0\r\n",
        "while data:\r\n",
        "    cnt += data.count('인공지능')\r\n",
        "    data = f.readline()\r\n",
        "print(cnt) \r\n",
        "f.close() "
      ],
      "execution_count": 41,
      "outputs": [
        {
          "output_type": "stream",
          "text": [
            "24\n"
          ],
          "name": "stdout"
        }
      ]
    },
    {
      "cell_type": "markdown",
      "metadata": {
        "id": "3SuggjdQLcRM"
      },
      "source": [
        ""
      ]
    },
    {
      "cell_type": "markdown",
      "metadata": {
        "id": "esVz7uMOLcN7"
      },
      "source": [
        ""
      ]
    },
    {
      "cell_type": "markdown",
      "metadata": {
        "id": "Ca2MTW-2LcKf"
      },
      "source": [
        "문제404. 위의 코드를 수정해서 단어를 물어보게하고 단어를 입력하면 해당 단어가 몇건 나오는지 출력되게하시오  !\r\n",
        "\t\r\n",
        "    단어를 입력하세요 ~ 인공지능\r\n",
        "    이 기사에서 인공지능 단어는 24번 나왔습니다.\r\n"
      ]
    },
    {
      "cell_type": "code",
      "metadata": {
        "colab": {
          "base_uri": "https://localhost:8080/"
        },
        "id": "2IOcjgKILo1f",
        "outputId": "44434aa1-2a84-4bb1-f96c-df2fe026cb3c"
      },
      "source": [
        "word = input( '단어를 입력하세요 ~' )\r\n",
        "f = open(\"/content/drive/MyDrive/data/mydata3.txt\", encoding = \"UTF8\")\r\n",
        "data = f.readline()\r\n",
        "cnt = 0\r\n",
        "while data:\r\n",
        "    cnt += data.count(word)\r\n",
        "    data = f.readline()\r\n",
        "print('이 기사에서 ', a, '단어는', cnt, '번 나왔습니다.')\r\n",
        "f.close() "
      ],
      "execution_count": 44,
      "outputs": [
        {
          "output_type": "stream",
          "text": [
            "단어를 입력하세요 ~인공지능\n",
            "이 기사에서  인공지능 단어는 24 번 나왔습니다.\n"
          ],
          "name": "stdout"
        }
      ]
    },
    {
      "cell_type": "markdown",
      "metadata": {
        "id": "xywEgH4bMopF"
      },
      "source": [
        ""
      ]
    },
    {
      "cell_type": "markdown",
      "metadata": {
        "id": "kHZmBvLVMoj1"
      },
      "source": [
        ""
      ]
    },
    {
      "cell_type": "markdown",
      "metadata": {
        "id": "12varOISMofS"
      },
      "source": [
        "**■ 135. 화면에서 사용자 입력을 받고 파일로 쓰기(write)**\r\n",
        "\r\n",
        "사용자로부터 입력받은 텍스트를 파일로 저장하려면 파일을 텍스트 쓰기 모드로 오픈하고 파일 객체의 write() 를 이용해 데이터를 파일에 기록합니다.\r\n",
        "\r\n",
        "예제:"
      ]
    },
    {
      "cell_type": "code",
      "metadata": {
        "colab": {
          "base_uri": "https://localhost:8080/"
        },
        "id": "NXEcElsXMrbd",
        "outputId": "a246b0d5-b1fa-46a1-a658-75c84c32fb89"
      },
      "source": [
        "text = input('파일에 저장할 내용을 입력하세요 ~')\r\n",
        "f = open(\"/content/drive/MyDrive/data/mydata.txt\", 'w')\r\n",
        "f.write( text )\r\n",
        "f.close()"
      ],
      "execution_count": 45,
      "outputs": [
        {
          "output_type": "stream",
          "text": [
            "파일에 저장할 내용을 입력하세요 ~안녕하세요\n"
          ],
          "name": "stdout"
        }
      ]
    },
    {
      "cell_type": "markdown",
      "metadata": {
        "id": "nMT0D4J8NDGa"
      },
      "source": [
        "설명: 위의 w 는 write 의 약자입니다. c 드라이브 밑에 data 밑에 mydata.txt 파일로 쓰겠다는 뜻입니다.  \r\n",
        "위의 코드는 웹에서 스크롤링한 데이터를 파일로 저장할 때 응용되게합니다."
      ]
    },
    {
      "cell_type": "markdown",
      "metadata": {
        "id": "1TFKXJpHOCdp"
      },
      "source": [
        ""
      ]
    },
    {
      "cell_type": "code",
      "metadata": {
        "colab": {
          "base_uri": "https://localhost:8080/"
        },
        "id": "Xw9duqNjM0vD",
        "outputId": "fe965634-fe28-4620-f21e-f75215cdde81"
      },
      "source": [
        "# mydata.txt 데이터 확인\r\n",
        "f = open(\"/content/drive/MyDrive/data/mydata.txt\", encoding = \"UTF8\")\r\n",
        "data = f.read() \r\n",
        "print(data)\r\n",
        "f.close()"
      ],
      "execution_count": 47,
      "outputs": [
        {
          "output_type": "stream",
          "text": [
            "안녕하세요\n"
          ],
          "name": "stdout"
        }
      ]
    },
    {
      "cell_type": "markdown",
      "metadata": {
        "id": "RSXLkQNHNHW4"
      },
      "source": [
        ""
      ]
    },
    {
      "cell_type": "markdown",
      "metadata": {
        "id": "6eUbXU_rNN9-"
      },
      "source": [
        ""
      ]
    },
    {
      "cell_type": "markdown",
      "metadata": {
        "id": "fSjXrTgRNN5s"
      },
      "source": [
        "문제405. 아래의 파란공과 빨간색 공이 들어있는 박스에서 5개의 공을 뽑았을때 그 중 2개가 파란색 공일 확률을 출력하는 함수를 만들고 공을 뽑는 횟수를 10, 100, 1000, 10000, 100000 했을때의 확률을 map 함수를 이용해서 출력하시오 !\r\n",
        "\r\n",
        "    a = [ 10, 100, 1000, 10000, 100000 ]\r\n",
        "\r\n",
        "    파란색공 24개 + 빨간색공 26개 ---> 총 50개의 공을 박스에 넣으세요\r\n"
      ]
    },
    {
      "cell_type": "code",
      "metadata": {
        "colab": {
          "base_uri": "https://localhost:8080/"
        },
        "id": "_DdfujCFNSu2",
        "outputId": "86feb8e3-b2d8-4e9e-874a-8bb1f88f1959"
      },
      "source": [
        "def box_cnt(num):\r\n",
        "    import numpy as np\r\n",
        "    cnt = 0\r\n",
        "    box = ['파랑'] * 24 + ['빨강'] * 26\r\n",
        "    for i in range(1, num+1):\r\n",
        "        result = list( np.random.choice(box, 5, replace = True) )\r\n",
        "        if result.count('파랑') == 2:\r\n",
        "            cnt = cnt + 1\r\n",
        "    return cnt / num\r\n",
        "\r\n",
        "a = [ 10, 100, 1000, 10000, 100000 ]\r\n",
        "result = list(map( box_cnt, a ))\r\n",
        "print(result)"
      ],
      "execution_count": 48,
      "outputs": [
        {
          "output_type": "stream",
          "text": [
            "[0.5, 0.31, 0.311, 0.3205, 0.32311]\n"
          ],
          "name": "stdout"
        }
      ]
    },
    {
      "cell_type": "markdown",
      "metadata": {
        "id": "bAerzEIBNlsX"
      },
      "source": [
        ""
      ]
    },
    {
      "cell_type": "markdown",
      "metadata": {
        "id": "CY7bP0VQNlor"
      },
      "source": [
        ""
      ]
    },
    {
      "cell_type": "markdown",
      "metadata": {
        "id": "EDjj3XKqNlj4"
      },
      "source": [
        "**■ 136. 텍스트 파일에 한줄씩 쓰기(writelines)**\r\n",
        "\r\n",
        "파일 객체의 writelines() 는 문자열이나 텍스트 문자열이 요소로 되어있는 리스트를 인자로 받아 한 줄씩 기록합니다.  \r\n",
        "리스트가 인자인 경우 writelines() 는 리스트의 요소를 하나의 문자열로 결합하여 파일을 한꺼번에 기록합니다.\r\n",
        "\r\n",
        "※ writelines 는 리스트 자료형도 파일에 저장할 수 있습니다.\r\n",
        "\r\n",
        "\r\n",
        "예제:"
      ]
    },
    {
      "cell_type": "code",
      "metadata": {
        "colab": {
          "base_uri": "https://localhost:8080/"
        },
        "id": "grjYctmkNvLq",
        "outputId": "b1e003e0-c39b-42ae-95da-e94e4ff2e4e0"
      },
      "source": [
        "listdata = [ 2, 2, 1, 3, 8, 5, 7 ]\r\n",
        "result = sorted( listdata )       # 리스트의 요소를 정렬한다.\r\n",
        "print(result)\r\n",
        "f = open(\"/content/drive/MyDrive/data/mydata2.txt\", \"w\")  # mydata2.txt 를 생성하겠다.\r\n",
        "f.write( str(result) )\r\n",
        "f.close()"
      ],
      "execution_count": 52,
      "outputs": [
        {
          "output_type": "stream",
          "text": [
            "[1, 2, 2, 3, 5, 7, 8]\n"
          ],
          "name": "stdout"
        }
      ]
    },
    {
      "cell_type": "markdown",
      "metadata": {
        "id": "egHd2BrgOBax"
      },
      "source": [
        ""
      ]
    },
    {
      "cell_type": "code",
      "metadata": {
        "colab": {
          "base_uri": "https://localhost:8080/"
        },
        "id": "NQZegjzcNqJR",
        "outputId": "65a9fdc6-e383-48f6-882a-0a3f5686665b"
      },
      "source": [
        "# mydata2.txt 데이터 확인\r\n",
        "f = open(\"/content/drive/MyDrive/data/mydata2.txt\", encoding = \"UTF8\")\r\n",
        "data = f.read() \r\n",
        "print(data)\r\n",
        "f.close()"
      ],
      "execution_count": 53,
      "outputs": [
        {
          "output_type": "stream",
          "text": [
            "[1, 2, 2, 3, 5, 7, 8]\n"
          ],
          "name": "stdout"
        }
      ]
    },
    {
      "cell_type": "markdown",
      "metadata": {
        "id": "lonNZ_0POFgt"
      },
      "source": [
        ""
      ]
    },
    {
      "cell_type": "markdown",
      "metadata": {
        "id": "nfC1zGDLOFdV"
      },
      "source": [
        ""
      ]
    },
    {
      "cell_type": "markdown",
      "metadata": {
        "id": "wNCXq2StOFZ6"
      },
      "source": [
        "문제406. 아래의 리스트를 mydata9.txt 로 저장하시오 !"
      ]
    },
    {
      "cell_type": "code",
      "metadata": {
        "colab": {
          "base_uri": "https://localhost:8080/"
        },
        "id": "NVwtC7CmOGZZ",
        "outputId": "e7201e40-8208-4f73-d7f1-a060ade4d875"
      },
      "source": [
        "listdata2 = ['a', 'b', 'c', 'd', 'e', 'f', 'g']\r\n",
        "result = sorted(listdata2)\r\n",
        "print(result)\r\n",
        "f = open(\"/content/drive/MyDrive/data/mydata9.txt\", \"w\")\r\n",
        "f.write( str(result) )\r\n",
        "f.close()"
      ],
      "execution_count": 54,
      "outputs": [
        {
          "output_type": "stream",
          "text": [
            "['a', 'b', 'c', 'd', 'e', 'f', 'g']\n"
          ],
          "name": "stdout"
        }
      ]
    },
    {
      "cell_type": "markdown",
      "metadata": {
        "id": "m5foRwUCOVQP"
      },
      "source": [
        ""
      ]
    },
    {
      "cell_type": "code",
      "metadata": {
        "colab": {
          "base_uri": "https://localhost:8080/"
        },
        "id": "utGd0tPZOWyw",
        "outputId": "8ef36fcb-88d3-48b0-efee-d4c4d71e1f9c"
      },
      "source": [
        "# mydata9.txt 데이터 확인\r\n",
        "f = open(\"/content/drive/MyDrive/data/mydata9.txt\", encoding = \"UTF8\")\r\n",
        "data = f.read() \r\n",
        "print(data)\r\n",
        "f.close()"
      ],
      "execution_count": 55,
      "outputs": [
        {
          "output_type": "stream",
          "text": [
            "['a', 'b', 'c', 'd', 'e', 'f', 'g']\n"
          ],
          "name": "stdout"
        }
      ]
    },
    {
      "cell_type": "markdown",
      "metadata": {
        "id": "ZNqWcfq5OcGz"
      },
      "source": [
        ""
      ]
    },
    {
      "cell_type": "markdown",
      "metadata": {
        "id": "llkSPYZHOcCq"
      },
      "source": [
        ""
      ]
    },
    {
      "cell_type": "markdown",
      "metadata": {
        "id": "hIDEADM3Ob-o"
      },
      "source": [
        "writelines예제:\r\n"
      ]
    },
    {
      "cell_type": "code",
      "metadata": {
        "colab": {
          "base_uri": "https://localhost:8080/"
        },
        "id": "Ge1O997-Oflg",
        "outputId": "25cb4315-97bb-4b1e-a3c8-d426e2519af7"
      },
      "source": [
        "data = []             # data 라는 비어있는 리스트 생성 \r\n",
        "while True:           # 무한 루프를 수행합니다. \r\n",
        "    text = input( '저장할 내용을 입력하세요' )\r\n",
        "    if text =='':                 # text 에 아무것도 입력하지 않으면 \r\n",
        "        break                     # break 문을 실행해서 무한루프를 종료합니다. \r\n",
        "    data.append( text + '\\n' )    # text 가 엔터와 함께 data 리스트에 append 됩니다.\r\n",
        "\r\n",
        "f = open(\"/content/drive/MyDrive/data/mydata99.txt\", \"w\")     # mydata99.txt 를 생성하겠다.\r\n",
        "f.writelines(data)                   # data 리스트의 내용을 mydata99.txt 에 저장하겠다.\r\n",
        "f.close()"
      ],
      "execution_count": 58,
      "outputs": [
        {
          "output_type": "stream",
          "text": [
            "저장할 내용을 입력하세요안녕?\n",
            "저장할 내용을 입력하세요만나서 반가워\n",
            "저장할 내용을 입력하세요\n"
          ],
          "name": "stdout"
        }
      ]
    },
    {
      "cell_type": "markdown",
      "metadata": {
        "id": "6cREo65gPiUK"
      },
      "source": [
        "설명: open 의 옵션중 w 는 그냥 쓰기 이고, a 는 추가 입니다. "
      ]
    },
    {
      "cell_type": "markdown",
      "metadata": {
        "id": "Fbx7VrNAOfQa"
      },
      "source": [
        ""
      ]
    },
    {
      "cell_type": "code",
      "metadata": {
        "colab": {
          "base_uri": "https://localhost:8080/"
        },
        "id": "uG1PtoCKPQyc",
        "outputId": "c652a29d-7eef-42c6-c676-2539dcf4a977"
      },
      "source": [
        "# mydata99.txt 데이터 확인\r\n",
        "f = open(\"/content/drive/MyDrive/data/mydata99.txt\", encoding = \"UTF8\")\r\n",
        "data = f.read() \r\n",
        "print(data)\r\n",
        "f.close()"
      ],
      "execution_count": 59,
      "outputs": [
        {
          "output_type": "stream",
          "text": [
            "안녕?\n",
            "만나서 반가워\n",
            "\n"
          ],
          "name": "stdout"
        }
      ]
    },
    {
      "cell_type": "markdown",
      "metadata": {
        "id": "85lDo5-wPpPZ"
      },
      "source": [
        ""
      ]
    },
    {
      "cell_type": "markdown",
      "metadata": {
        "id": "ZKxQrMtKPpLW"
      },
      "source": [
        ""
      ]
    },
    {
      "cell_type": "markdown",
      "metadata": {
        "id": "CGW8cp8fPpHN"
      },
      "source": [
        "**■ 137. 텍스트 파일 복사하기(read, write)**\r\n",
        "\r\n",
        "텍스트 파일을 복사하는 방법을 파이썬으로 구현하려면 read 와 write 를 이용하면 됩니다.  \r\n",
        "read() 로 텍스트 파일을 읽고 write 로 읽을 내용을 다른 파일이름으로 저장하면 됩니다.\r\n",
        "\r\n",
        "예제:"
      ]
    },
    {
      "cell_type": "code",
      "metadata": {
        "id": "XckpugkbPr5i"
      },
      "source": [
        "f = open(\"/content/drive/MyDrive/data/mydata.txt\", \"r\")        # r 은 read 입니다.\r\n",
        "h = open(\"/content/drive/MyDrive/data/mydata_copy.txt\", \"w\")   # w 는 wirte 입니다.\r\n",
        "data = f.read()\r\n",
        "h.write( data )\r\n",
        "f.close()\r\n",
        "h.close()"
      ],
      "execution_count": 60,
      "outputs": []
    },
    {
      "cell_type": "markdown",
      "metadata": {
        "id": "GrUEwt2ZQGTY"
      },
      "source": [
        ""
      ]
    },
    {
      "cell_type": "markdown",
      "metadata": {
        "id": "AlywRNSQQGJ6"
      },
      "source": [
        ""
      ]
    },
    {
      "cell_type": "markdown",
      "metadata": {
        "id": "WlPewvuvQGCu"
      },
      "source": [
        "**■ 138. 바이너리 파일 복사하기(read, write)**\r\n",
        "\r\n",
        "이미지나 동영상도 파이썬으로 복사 붙여넣기 할 수 있습니다. 이미지나 동영상을 복사 붙여넣기 할 때는 파일의 크기가 크므로 한번에 읽어들일 수는 없고 일부분만 일정한 크기로 읽으면서 복사 붙여넣기를 합니다.\r\n",
        "\r\n",
        "예제:"
      ]
    },
    {
      "cell_type": "code",
      "metadata": {
        "id": "hRYXMVnIQJYs"
      },
      "source": [
        "bufsize = 1024                   # 1kb 크기의 버퍼 사이즈를 지정합니다.\r\n",
        "f = open(\"/content/drive/MyDrive/data/lena.png\", \"rb\")          # rb 는 read binary 의 약자입니다.\r\n",
        "h = open(\"/content/drive/MyDrive/data/lena_copy.png\", \"wb\")     # wb 는 write binary 의 약자입니다.\r\n",
        "data = f.read(bufsize)           # 이미지를 1kb 를 읽어서 data 에 저장합니다.\r\n",
        "while data:                      # data 에 data 가 발견되는 동안에 루프문을 수행합니다.\r\n",
        "    h.write(data)                # lena_copy.png 에 1kb 의 데이터씩 write 합니다.\r\n",
        "    data = f.read(bufsize)       #  lena.png 에서 1kb 의 데이터를 read 합니다.\r\n",
        "f.close()\r\n",
        "h.close()"
      ],
      "execution_count": 61,
      "outputs": []
    },
    {
      "cell_type": "markdown",
      "metadata": {
        "id": "2rAcLm3pQapf"
      },
      "source": [
        "설명: lena.png 의 총 크기가 334kb 이므로 1kb 씩 읽어들여서 쓰는 작업을 총 334 번 수행합니다."
      ]
    },
    {
      "cell_type": "markdown",
      "metadata": {
        "id": "_jbNefQlQerJ"
      },
      "source": [
        ""
      ]
    },
    {
      "cell_type": "markdown",
      "metadata": {
        "id": "CwhIcoQKQsOS"
      },
      "source": [
        ""
      ]
    },
    {
      "cell_type": "markdown",
      "metadata": {
        "id": "fkA03hTGQr_u"
      },
      "source": [
        "**■ 139. 파일을 열고 자동으로 닫기 (with ~ as )**\r\n",
        "\r\n",
        "with ~ as 절을 사용하게 되면 f.close() 를 명시하지 않아도 되므로 프로그래머가 실수로 f.clos() 를 작성하지 않아서 발생하는 메모리 부족오류를 예방할 수 있습니다."
      ]
    },
    {
      "cell_type": "markdown",
      "metadata": {
        "id": "zHaM1Pm5Q0Zy"
      },
      "source": [
        ""
      ]
    },
    {
      "cell_type": "markdown",
      "metadata": {
        "id": "K15GdTRiQ0yv"
      },
      "source": [
        " 1. with ~ as 절을 사용 안했을 때"
      ]
    },
    {
      "cell_type": "code",
      "metadata": {
        "colab": {
          "base_uri": "https://localhost:8080/"
        },
        "id": "u0qASRemQ2SO",
        "outputId": "1184ea71-cc5f-48d4-d65d-d6cdd515248f"
      },
      "source": [
        "f = open(\"/content/drive/MyDrive/data/mydata.txt\", \"r\")\r\n",
        "data = f.readlines()\r\n",
        "print(data)\r\n",
        "f.close()"
      ],
      "execution_count": 63,
      "outputs": [
        {
          "output_type": "stream",
          "text": [
            "['안녕하세요']\n"
          ],
          "name": "stdout"
        }
      ]
    },
    {
      "cell_type": "markdown",
      "metadata": {
        "id": "9a6Q5MfWQ8QB"
      },
      "source": [
        ""
      ]
    },
    {
      "cell_type": "markdown",
      "metadata": {
        "id": "J5WSWCSAQ-hr"
      },
      "source": [
        ""
      ]
    },
    {
      "cell_type": "markdown",
      "metadata": {
        "id": "2hjv2VIeQ8Ho"
      },
      "source": [
        " 2. with ~ as 절을 사용했을 때"
      ]
    },
    {
      "cell_type": "code",
      "metadata": {
        "colab": {
          "base_uri": "https://localhost:8080/"
        },
        "id": "BCXJI4MkQ_nr",
        "outputId": "7e4cfa39-9696-439c-f53f-15616a02f871"
      },
      "source": [
        "with open(\"/content/drive/MyDrive/data/mydata.txt\", \"r\") as f:\r\n",
        "    data = f.readlines()\r\n",
        "    print( data )"
      ],
      "execution_count": 65,
      "outputs": [
        {
          "output_type": "stream",
          "text": [
            "['안녕하세요']\n"
          ],
          "name": "stdout"
        }
      ]
    },
    {
      "cell_type": "markdown",
      "metadata": {
        "id": "nFs9xmWORItv"
      },
      "source": [
        "설명: with ~ as 절을 사용하면 자동으로 파일 close 를 해줍니다."
      ]
    },
    {
      "cell_type": "markdown",
      "metadata": {
        "id": "KovNveWrRKuI"
      },
      "source": [
        ""
      ]
    },
    {
      "cell_type": "markdown",
      "metadata": {
        "id": "dinudP_9RLHV"
      },
      "source": [
        ""
      ]
    },
    {
      "cell_type": "markdown",
      "metadata": {
        "id": "NPXHbPy-RLfN"
      },
      "source": [
        "**■ 140. HTML 기본문법 **\r\n",
        "\r\n",
        "** 데이터 분석 순서\r\n",
        "\r\n",
        "    데이터 수집 --> 데이터 유형 및 속성 파악 --> 데이터 변환 --> 데이터 저장 --> 데이터 정제 --> 데이터 분석\r\n",
        "\r\n",
        "** 데이터 수집 기술\r\n",
        "\r\n",
        "    웹스크롤링 기술\r\n",
        "\r\n",
        "** html 이란 ?\r\n",
        "\r\n",
        "    Hyper Text Markup Language 의 약자이고 여러개의 태그(tag) 를 연결해서 모아놓은 문서"
      ]
    },
    {
      "cell_type": "markdown",
      "metadata": {
        "id": "TdffQpyNRa8J"
      },
      "source": [
        ""
      ]
    },
    {
      "cell_type": "markdown",
      "metadata": {
        "id": "EwoEGzVWRn4A"
      },
      "source": [
        ""
      ]
    },
    {
      "cell_type": "markdown",
      "metadata": {
        "id": "N_hP2ctERad8"
      },
      "source": [
        "예제1. 아주 간단한 html 문서를 만들어 봅니다.\r\n",
        "\r\n",
        "메모장을 열고 아래와 같이 코딩을 하세요 ~\r\n",
        "\r\n",
        "    <html><head><title> 현아님의 오늘 일정 </title></head>\r\n",
        "    <body>\r\n",
        "    <p class=\"title\"> 현아님은 오늘 점심시간에 우육탕을 먹었습니다. </p>\r\n",
        "    </body>\r\n",
        "    </html>\r\n",
        "\r\n",
        "메모장의 파일이름을 a.html 로 바탕화면에 저장하세요 ~  \r\n",
        "저장할 때 파일형식을 모든파일로 합니다.\r\n"
      ]
    },
    {
      "cell_type": "markdown",
      "metadata": {
        "id": "pt_6FzEfRl7l"
      },
      "source": [
        ""
      ]
    },
    {
      "cell_type": "markdown",
      "metadata": {
        "id": "GowADpMCRmR_"
      },
      "source": [
        ""
      ]
    },
    {
      "cell_type": "markdown",
      "metadata": {
        "id": "oH2qfSO1RnHR"
      },
      "source": [
        "예제2. 위의 글씨를 진하게 하시오 !\r\n",
        "\r\n",
        "    <html><head><title> 현아님의 오늘 일정 </title></head>\r\n",
        "    <body>\r\n",
        "    <p class=\"title\"> <b> 현아님은 오늘 점심시간에 우육탕을 먹었습니다. </b> </p>\r\n",
        "    </body>\r\n",
        "    </html>\r\n",
        "\r\n",
        "설명: 글씨를 진하게 하려면 b 태그를 사용합니다."
      ]
    },
    {
      "cell_type": "markdown",
      "metadata": {
        "id": "_71LXY0ERwHn"
      },
      "source": [
        ""
      ]
    },
    {
      "cell_type": "markdown",
      "metadata": {
        "id": "72DrK3ACRwuw"
      },
      "source": [
        ""
      ]
    },
    {
      "cell_type": "markdown",
      "metadata": {
        "id": "aLo-5EU0RwnL"
      },
      "source": [
        "예제3. 위의 글씨에 밑줄을 그어 보시오 ~\r\n",
        "\r\n",
        "    <html><head><title> 현아님의 오늘 일정 </title></head>\r\n",
        "    <body>\r\n",
        "    <p class=\"title\"> <b> <u> 현아님은 오늘 점심시간에 우육탕을 먹었습니다. </u> </b> </p>\r\n",
        "    </body>\r\n",
        "    </html>\r\n",
        "\r\n",
        "설명: 밑줄을 사용하려면 태그 u 를 사용합니다."
      ]
    },
    {
      "cell_type": "markdown",
      "metadata": {
        "id": "qB3SEUCvR1LY"
      },
      "source": [
        ""
      ]
    },
    {
      "cell_type": "markdown",
      "metadata": {
        "id": "vboj_RBGR1Hu"
      },
      "source": [
        ""
      ]
    },
    {
      "cell_type": "markdown",
      "metadata": {
        "id": "4gzgAE7HR1D5"
      },
      "source": [
        "예제4. 위의 글씨를 이텔릭체로 변경하시오 !\r\n",
        "\r\n",
        "    <html><head><title> 현아님의 오늘 일정 </title></head>\r\n",
        "    <body>\r\n",
        "    <p class=\"title\"> <b> <u> <i> 현아님은 오늘 점심시간에 우육탕을 먹었습니다. </i> </u> </b> </p>\r\n",
        "    </body>\r\n",
        "    </html>\r\n",
        "\r\n",
        "설명: 글씨를 이텔릭체로 변경하려면 태그 i 를 이용합니다."
      ]
    },
    {
      "cell_type": "markdown",
      "metadata": {
        "id": "TEELEr36SG5F"
      },
      "source": [
        ""
      ]
    },
    {
      "cell_type": "markdown",
      "metadata": {
        "id": "R1wIVdTRSHVU"
      },
      "source": [
        ""
      ]
    },
    {
      "cell_type": "markdown",
      "metadata": {
        "id": "uL2icz6zSG_f"
      },
      "source": [
        "예제5. p 태그를 추가해서 제목과 내용을 나누시오 !\r\n",
        "\r\n",
        "    <html><head><title> 현아님의 오늘 일정 </title></head>\r\n",
        "    <body>\r\n",
        "    <p class=\"title\"> <b> <u> <i> 현아님은 오늘 점심시간에 우육탕을 먹었습니다. </i> </u> </b> </p>\r\n",
        "    <p class=\"content\"> 현아님은 오늘 점시에 지하식당에서 반 친구들과 우육탕을 먹었습니다.\r\n",
        "                            코로나에 대한 걱정도 있었지만 용기내서 먹었습니다. </p>\r\n",
        "    </body>\r\n",
        "    </html>\r\n",
        "\r\n",
        "설명: 제목은 class title 에 적고 내용은 class content 에 적습니다.\r\n"
      ]
    },
    {
      "cell_type": "markdown",
      "metadata": {
        "id": "8gfUA5wjSPwc"
      },
      "source": [
        ""
      ]
    },
    {
      "cell_type": "markdown",
      "metadata": {
        "id": "5fT6qhflSQTE"
      },
      "source": [
        ""
      ]
    },
    {
      "cell_type": "markdown",
      "metadata": {
        "id": "57ITssI2SQ6c"
      },
      "source": [
        "예제6. 위에서 만든 html 문서의 본문에 링크를 거시오 !\r\n",
        "\t  (링크는 다음주소로 하세요 ~)\r\n",
        "\r\n",
        "    <html><head><title> 현아님의 오늘 일정 </title></head>\r\n",
        "    <body>\r\n",
        "    <p class=\"title\"> <b> <u> <i> 현아님은 오늘 점심시간에 우육탕을 먹었습니다. </i> </u> </b> </p>\r\n",
        "    <p class=\"content\"> 현아님은 오늘 점시에 지하식당에서 반 친구들과 우육탕을 먹었습니다.\r\n",
        "                            코로나에 대한 걱정도 있었지만 용기내서 먹었습니다. </p>\r\n",
        "    <a href=\"https://www.daum.net/\" class=cafa1\" id=\"link1\"> 다음 <a/>\r\n",
        "    </body>\r\n",
        "    </html>"
      ]
    },
    {
      "cell_type": "markdown",
      "metadata": {
        "id": "nTK6sU0nSf1b"
      },
      "source": [
        ""
      ]
    },
    {
      "cell_type": "markdown",
      "metadata": {
        "id": "YIVgp3QnSgcW"
      },
      "source": [
        ""
      ]
    },
    {
      "cell_type": "markdown",
      "metadata": {
        "id": "tvEuWe8HSgzD"
      },
      "source": [
        "문제407. 다음과 같이 내용과 링크를 수정하시오 ~ (링크는 아무거나)\r\n",
        "\r\n",
        "    현아님은 오늘 점시에 지하식당에서 반 친구들과 우육탕을 먹었습니다.\r\n",
        "    코로나에 대한 걱정도 있었지만 용기내서 먹었습니다.\r\n",
        "    우육탕집 식당 홈페이지는 바로가기를 누르세요. 바로가기\r\n"
      ]
    },
    {
      "cell_type": "markdown",
      "metadata": {
        "id": "WrcsaOzeSmsa"
      },
      "source": [
        ""
      ]
    },
    {
      "cell_type": "markdown",
      "metadata": {
        "id": "XQ5v2jltSnMY"
      },
      "source": [
        "    <html><head><title> 현아님의 오늘 일정 </title></head>\r\n",
        "    <body>\r\n",
        "    <p class=\"title\"> <b> <u> <i> 현아님은 오늘 점심시간에 우육탕을 먹었습니다. </i> </u> </b> </p>\r\n",
        "    <p class=\"content\"> 현아님은 오늘 점시에 지하식당에서 반 친구들과 우육탕을 먹었습니다. \r\n",
        "    코로나에 대한 걱정도 있었지만 용기내서 먹었습니다.\r\n",
        "    우육탕집 식당 홈페이지는 바로가기를 누르세요.  </p>\r\n",
        "    <a href=\"https://www.google.com/search?q=%EC%9A%B0%EC%9C%A1%ED%83%95&oq=%EC%9A%B0%EC%9C%A1%ED%83%95&aqs=chrome..69i57j0i433j0i131i433j0j0i433l2j69i61j69i60.3833j0j4&sourceid=chrome&ie=UTF-8\" class=cafa1\" id=\"link1\"> 바로가기 <a/>\r\n",
        "    </body>\r\n",
        "    </html>"
      ]
    },
    {
      "cell_type": "markdown",
      "metadata": {
        "id": "PDHOf6KQSvlj"
      },
      "source": [
        "설명: 워드 문서를 만들 때도 그 문서 내에 단원도 있고 세부 목차도 있는 것처럼 calss 에 그 html 문서의 특정 단원이라고 보면 되고 id 는 링크를 줄때 부여하는 제목인데 id 는 값이 unique 합니다.\r\n"
      ]
    },
    {
      "cell_type": "markdown",
      "metadata": {
        "id": "gGQLPcUhS_GI"
      },
      "source": [
        ""
      ]
    },
    {
      "cell_type": "markdown",
      "metadata": {
        "id": "-Izu3WFoTEq_"
      },
      "source": [
        ""
      ]
    },
    {
      "cell_type": "markdown",
      "metadata": {
        "id": "D6CbQPD9TEkE"
      },
      "source": [
        "**■ 141. beautiful soup 모듈 배우기**\r\n",
        "\r\n",
        "** beautiful soup 모듈이란 ?\r\n",
        "\r\n",
        "    파이썬 코드를 복잡하게 작성하지 않아도 편하게 웹스크롤링을 할 수 있도록 여러 함수들을 제공하는 웹스크롤링 전문 모듈\r\n"
      ]
    },
    {
      "cell_type": "markdown",
      "metadata": {
        "id": "_MjAEeJsTOoi"
      },
      "source": [
        ""
      ]
    },
    {
      "cell_type": "markdown",
      "metadata": {
        "id": "_NkxYEwpTO6n"
      },
      "source": [
        ""
      ]
    },
    {
      "cell_type": "markdown",
      "metadata": {
        "id": "zUQR1DKHTPkG"
      },
      "source": [
        "예제1. ecologicalpyramid.html 코드를 beautiful soup 모듈에서 사용할 수 있도록 파싱을 하고 파싱된 내용을 출력하시오 !"
      ]
    },
    {
      "cell_type": "code",
      "metadata": {
        "colab": {
          "base_uri": "https://localhost:8080/"
        },
        "id": "onaVMxO2TUBH",
        "outputId": "c665af88-4a2f-4b3f-83e2-4a17e7dd1b84"
      },
      "source": [
        "from bs4 import BeautifulSoup\r\n",
        "\r\n",
        "f = open(\"/content/drive/MyDrive/data/ecologicalpyramid.html\")\r\n",
        "soup = BeautifulSoup( f, \"html.parser\" )\r\n",
        "print(soup)"
      ],
      "execution_count": 67,
      "outputs": [
        {
          "output_type": "stream",
          "text": [
            "<html>\n",
            "<body>\n",
            "<div class=\"ecopyramid\">\n",
            "<ul id=\"producers\">\n",
            "<li class=\"producerlist\">\n",
            "<div class=\"name\">plants</div>\n",
            "<div class=\"number\">100000</div>\n",
            "</li>\n",
            "<li class=\"producerlist\">\n",
            "<div class=\"name\">algae</div>\n",
            "<div class=\"number\">100000</div>\n",
            "</li>\n",
            "</ul>\n",
            "<ul id=\"primaryconsumers\">\n",
            "<li class=\"primaryconsumerlist\">\n",
            "<div class=\"name\">deer</div>\n",
            "<div class=\"number\">1000</div>\n",
            "</li>\n",
            "<li class=\"primaryconsumerlist\">\n",
            "<div class=\"name\">rabbit</div>\n",
            "<div class=\"number\">2000</div>\n",
            "</li>\n",
            "</ul>\n",
            "<ul id=\"secondaryconsumers\">\n",
            "<li class=\"secondaryconsumerlist\">\n",
            "<div class=\"name\">fox</div>\n",
            "<div class=\"number\">100</div>\n",
            "</li>\n",
            "<li class=\"secondaryconsumerlist\">\n",
            "<div class=\"name\">bear</div>\n",
            "<div class=\"number\">100</div>\n",
            "</li>\n",
            "</ul>\n",
            "<ul id=\"tertiaryconsumers\">\n",
            "<li class=\"tertiaryconsumerlist\">\n",
            "<div class=\"name\">lion</div>\n",
            "<div class=\"number\">80</div>\n",
            "</li>\n",
            "<li class=\"tertiaryconsumerlist\">\n",
            "<div class=\"name\">tiger</div>\n",
            "<div class=\"number\">50</div>\n",
            "</li>\n",
            "</ul>\n",
            "</div></body>\n",
            "</html>\n"
          ],
          "name": "stdout"
        }
      ]
    },
    {
      "cell_type": "markdown",
      "metadata": {
        "id": "I78N4-tvTj1V"
      },
      "source": [
        ""
      ]
    },
    {
      "cell_type": "markdown",
      "metadata": {
        "id": "ZtinTvc1Tjj3"
      },
      "source": [
        ""
      ]
    },
    {
      "cell_type": "markdown",
      "metadata": {
        "id": "Ii2i65-NTjgA"
      },
      "source": [
        "예제2. ecologicalpyramid.html 코드에서 class 이름 name 에 접근해서 데이터를 긁어오시오 !"
      ]
    },
    {
      "cell_type": "code",
      "metadata": {
        "colab": {
          "base_uri": "https://localhost:8080/"
        },
        "id": "zj840G0xTmqP",
        "outputId": "c9da7299-409c-4eae-f8dd-c63bf49addac"
      },
      "source": [
        "from bs4 import BeautifulSoup\r\n",
        "\r\n",
        "f = open(\"/content/drive/MyDrive/data/ecologicalpyramid.html\")\r\n",
        "soup = BeautifulSoup( f, \"html.parser\" )\r\n",
        "result =soup.find_all(class_=\"name\")\r\n",
        "print(result)"
      ],
      "execution_count": 68,
      "outputs": [
        {
          "output_type": "stream",
          "text": [
            "[<div class=\"name\">plants</div>, <div class=\"name\">algae</div>, <div class=\"name\">deer</div>, <div class=\"name\">rabbit</div>, <div class=\"name\">fox</div>, <div class=\"name\">bear</div>, <div class=\"name\">lion</div>, <div class=\"name\">tiger</div>]\n"
          ],
          "name": "stdout"
        }
      ]
    },
    {
      "cell_type": "markdown",
      "metadata": {
        "id": "kgUbBY8WT31h"
      },
      "source": [
        ""
      ]
    },
    {
      "cell_type": "markdown",
      "metadata": {
        "id": "3ohdElD0T3sF"
      },
      "source": [
        ""
      ]
    },
    {
      "cell_type": "markdown",
      "metadata": {
        "id": "MCTPKKv3T3kb"
      },
      "source": [
        "예제3. 위에서 긁어온 데이터에서 html 코드 말고 text 만 출력하시오 !"
      ]
    },
    {
      "cell_type": "markdown",
      "metadata": {
        "id": "_EW4PL1zUCJz"
      },
      "source": [
        "html 코드:"
      ]
    },
    {
      "cell_type": "code",
      "metadata": {
        "colab": {
          "base_uri": "https://localhost:8080/"
        },
        "id": "xS8BykXcT5DZ",
        "outputId": "96fed664-ff3f-49f0-9c5d-33c6c92374ad"
      },
      "source": [
        "from bs4 import BeautifulSoup\r\n",
        "\r\n",
        "f = open(\"/content/drive/MyDrive/data/ecologicalpyramid.html\")\r\n",
        "soup = BeautifulSoup( f, \"html.parser\" )\r\n",
        "result = soup.find_all(class_=\"name\")\r\n",
        "for i in result:   # result 리스트안의 요소를 하나씩 가져옵니다\r\n",
        "    print(i)"
      ],
      "execution_count": 69,
      "outputs": [
        {
          "output_type": "stream",
          "text": [
            "<div class=\"name\">plants</div>\n",
            "<div class=\"name\">algae</div>\n",
            "<div class=\"name\">deer</div>\n",
            "<div class=\"name\">rabbit</div>\n",
            "<div class=\"name\">fox</div>\n",
            "<div class=\"name\">bear</div>\n",
            "<div class=\"name\">lion</div>\n",
            "<div class=\"name\">tiger</div>\n"
          ],
          "name": "stdout"
        }
      ]
    },
    {
      "cell_type": "markdown",
      "metadata": {
        "id": "oo3McuIbUDKS"
      },
      "source": [
        ""
      ]
    },
    {
      "cell_type": "markdown",
      "metadata": {
        "id": "d3k-y-GbUDCp"
      },
      "source": [
        "text 출력:"
      ]
    },
    {
      "cell_type": "code",
      "metadata": {
        "colab": {
          "base_uri": "https://localhost:8080/"
        },
        "id": "qeQvlKNKUFKo",
        "outputId": "c37d0586-2a23-4cad-8cc2-fd58a92d7325"
      },
      "source": [
        "from bs4 import BeautifulSoup\r\n",
        "\r\n",
        "f = open(\"/content/drive/MyDrive/data/ecologicalpyramid.html\")\r\n",
        "soup = BeautifulSoup( f, \"html.parser\" )\r\n",
        "result = soup.find_all(class_=\"name\")\r\n",
        "for i in result:       # result 리스트안의 요소를 하나씩 가져옵니다\r\n",
        "    print(i.get_text())  "
      ],
      "execution_count": 70,
      "outputs": [
        {
          "output_type": "stream",
          "text": [
            "plants\n",
            "algae\n",
            "deer\n",
            "rabbit\n",
            "fox\n",
            "bear\n",
            "lion\n",
            "tiger\n"
          ],
          "name": "stdout"
        }
      ]
    },
    {
      "cell_type": "markdown",
      "metadata": {
        "id": "rjYN915KURcc"
      },
      "source": [
        "설명: get_text() 함수를 사용하면 html 코드 말고 텍스트만 가져옵니다."
      ]
    },
    {
      "cell_type": "markdown",
      "metadata": {
        "id": "4qXv0E2VUK1F"
      },
      "source": [
        ""
      ]
    },
    {
      "cell_type": "markdown",
      "metadata": {
        "id": "7eX0hGv0UKxT"
      },
      "source": [
        ""
      ]
    },
    {
      "cell_type": "markdown",
      "metadata": {
        "id": "Kizse0eiUKsE"
      },
      "source": [
        "문제408. ecologicalpyramid.html 문서에서 number 클래스에 있는 숫자들만 긁어와서 출력하시오 !"
      ]
    },
    {
      "cell_type": "code",
      "metadata": {
        "colab": {
          "base_uri": "https://localhost:8080/"
        },
        "id": "VS5N7bq_Ufpp",
        "outputId": "a2b69b60-ab84-4ad2-e15b-eb55b42d9536"
      },
      "source": [
        "from bs4 import BeautifulSoup\r\n",
        "\r\n",
        "f = open(\"/content/drive/MyDrive/data/ecologicalpyramid.html\")\r\n",
        "soup = BeautifulSoup( f, \"html.parser\" )\r\n",
        "result = soup.find_all(class_=\"number\")\r\n",
        "for i in result:\r\n",
        "    print(i.get_text())"
      ],
      "execution_count": 73,
      "outputs": [
        {
          "output_type": "stream",
          "text": [
            "100000\n",
            "100000\n",
            "1000\n",
            "2000\n",
            "100\n",
            "100\n",
            "80\n",
            "50\n"
          ],
          "name": "stdout"
        }
      ]
    },
    {
      "cell_type": "markdown",
      "metadata": {
        "id": "Tq64jTVnUvjq"
      },
      "source": [
        ""
      ]
    },
    {
      "cell_type": "markdown",
      "metadata": {
        "id": "yXBwfFRHUvef"
      },
      "source": [
        ""
      ]
    },
    {
      "cell_type": "markdown",
      "metadata": {
        "id": "tciPBeB5UvZl"
      },
      "source": [
        "문제409. 위에서 긁어온 숫자들을 a 라는 비어있는 리스트에 저장한 후 a 안의 요소들을 정렬하고 a 리스트를 출력하시오 !"
      ]
    },
    {
      "cell_type": "code",
      "metadata": {
        "colab": {
          "base_uri": "https://localhost:8080/"
        },
        "id": "hoWbYtYdUzIo",
        "outputId": "6655ecb6-02db-497b-ed7b-6df57e817f70"
      },
      "source": [
        "from bs4 import BeautifulSoup\r\n",
        "\r\n",
        "f = open(\"/content/drive/MyDrive/data/ecologicalpyramid.html\")\r\n",
        "soup = BeautifulSoup( f, \"html.parser\" )\r\n",
        "result =soup.find_all(class_=\"number\")\r\n",
        "\r\n",
        "a = []\r\n",
        "for i in result:\r\n",
        "    a.append( int(i.get_text()) )\r\n",
        "\r\n",
        "a.sort()\r\n",
        "print(a)"
      ],
      "execution_count": 76,
      "outputs": [
        {
          "output_type": "stream",
          "text": [
            "[50, 80, 100, 100, 1000, 2000, 100000, 100000]\n"
          ],
          "name": "stdout"
        }
      ]
    },
    {
      "cell_type": "markdown",
      "metadata": {
        "id": "LnRs-elDVB_s"
      },
      "source": [
        ""
      ]
    },
    {
      "cell_type": "markdown",
      "metadata": {
        "id": "GCVAOe-gVB5J"
      },
      "source": [
        ""
      ]
    },
    {
      "cell_type": "markdown",
      "metadata": {
        "id": "SVgzktkiVB0c"
      },
      "source": [
        "문제410. 중앙일보사 홈페이지로 가서 신문기사를 하나 보시오"
      ]
    },
    {
      "cell_type": "markdown",
      "metadata": {
        "id": "oJcgh7_3VE0d"
      },
      "source": [
        "    ctrl + s 로 기사의 html 문서를 aa77.html 로 저장합니다."
      ]
    },
    {
      "cell_type": "markdown",
      "metadata": {
        "id": "bwdlHcRlVPfU"
      },
      "source": [
        ""
      ]
    },
    {
      "cell_type": "markdown",
      "metadata": {
        "id": "LEulKhndVP7j"
      },
      "source": [
        ""
      ]
    },
    {
      "cell_type": "markdown",
      "metadata": {
        "id": "UwHsiMPWVQfg"
      },
      "source": [
        "문제411. aa77.html 을 beautifulsoup 모듈의 함수를 쓸 수 있도록 파싱하고 파싱된 결과를 출력하세요 ~"
      ]
    },
    {
      "cell_type": "code",
      "metadata": {
        "id": "61HY7Bg_VSWq"
      },
      "source": [
        "from bs4 import BeautifulSoup\r\n",
        "\r\n",
        "f = open(\"/content/drive/MyDrive/data/aa77.html\")\r\n",
        "soup = BeautifulSoup(f, \"html.parser\")\r\n",
        "print(soup)"
      ],
      "execution_count": null,
      "outputs": []
    },
    {
      "cell_type": "markdown",
      "metadata": {
        "id": "DAdwaFCkVoCG"
      },
      "source": [
        ""
      ]
    },
    {
      "cell_type": "markdown",
      "metadata": {
        "id": "OWGymK0VVn4R"
      },
      "source": [
        ""
      ]
    },
    {
      "cell_type": "markdown",
      "metadata": {
        "id": "pD_3D5bFVnmt"
      },
      "source": [
        "문제412. 위의 기사의 본문을 가져오기 위해서 기사 본문의 class 이름이 무엇인지 확인하세요 ~\r\n"
      ]
    },
    {
      "cell_type": "markdown",
      "metadata": {
        "id": "MvDTpQHUVxLu"
      },
      "source": [
        "    F12 : 크롬 개발자모드\r\n",
        "\r\n",
        "크롬의 개발자 모드 단축키인 F12 를 누르면 옆에 html 코드 창이 나오면서 개발자 모드 화면이 열립니다.  \r\n",
        "그러면 위쪽에 화살표 모양을 클릭하고 기사본문을 클릭하면 html 문서에 class 이름을 확인할 수 있는 html 문서쪽으로 바로 이동합니다."
      ]
    },
    {
      "cell_type": "markdown",
      "metadata": {
        "id": "lN9Wn_2rV2Gw"
      },
      "source": [
        ""
      ]
    },
    {
      "cell_type": "markdown",
      "metadata": {
        "id": "027b5IueV2-H"
      },
      "source": [
        ""
      ]
    },
    {
      "cell_type": "markdown",
      "metadata": {
        "id": "nNrRMRD2V2Yz"
      },
      "source": [
        "문제413. 클래스 이름 article_body mg fs4 로 접근하여 text 를 긁어오시오"
      ]
    },
    {
      "cell_type": "code",
      "metadata": {
        "colab": {
          "base_uri": "https://localhost:8080/"
        },
        "id": "ocvQJncPV8Bc",
        "outputId": "a3e0bb8d-fd2a-4241-f7d8-39c0b1934af8"
      },
      "source": [
        "from bs4 import BeautifulSoup\r\n",
        "\r\n",
        "f = open(\"/content/drive/MyDrive/data/aa77.html\")\r\n",
        "soup = BeautifulSoup( f, \"html.parser\" )\r\n",
        "result =soup.find_all(class_=\"article_body mg fs4\")\r\n",
        "print(result)\r\n",
        "for i in result: \r\n",
        "    print(i.get_text())"
      ],
      "execution_count": 78,
      "outputs": [
        {
          "output_type": "stream",
          "text": [
            "[<div class=\"article_body mg fs4\" id=\"article_body\" itemprop=\"articleBody\">\n",
            "<div class=\"ab_photo photo_left \" style=\"width: 170px;\"> <div class=\"image\"> <img alt=\"유혁 윌로우 데이터 스트래티지 대표\" data-src=\"https://pds.joins.com/news/component/htmlphoto_mmdata/202011/23/9a9a6f1a-a743-4d84-92dd-82f32dd7e0dd.jpg\" data-type=\"article\" src=\"./aa77_files/9a9a6f1a-a743-4d84-92dd-82f32dd7e0dd.jpg\"/> <span class=\"mask\"></span> </div> <p class=\"caption\">유혁 윌로우 데이터 스트래티지 대표</p> </div>        치열한 선거전의 결과를 예측하는 것은 쉬운 일이 아니다. 하지만 접전이 될 것이란 것조차 예측하지 못했다는 건 큰 문제다. 이번 미국 대선 결과와 상관없이 2016년에 이어 2020년에도 가장 명백한 패자는 결과를 제대로 예측하지 못한 각종 여론조사 기관이라고 할 수 있다. 4년 전에는 아예 승자를 맞추지도 못했지만, 이번에도 대선과 의원 선거의 결과가 예상 밖의 접전양상으로 나타났으니 여론조사 방법에 심각한 의구심을 가질 만한 상황이다.  <br/>      <br/><div class=\"ab_subtitle\"><h2><p>미대선 예측오류로 드러난 문제<br/>표본추출과 데이터 에러가 원인<br/>기존 여론조사방식 한계에 도달<br/>창의적 데이터 수집·적용 필요</p></h2></div>   많은 분석가들은 4년전 크게 벗어난 예측을 표본추출 오류의 결과로 결론을 내렸었다. 인구밀도가 낮은 지역에서 주요 변수의 대표성에 문제가 생기면 예측결과가 아예 틀릴 수 있다. 특히 양당의 선호도가 도시와 교외지역에 따라 명확히 갈리는 미국의 경우 샘플링 오류의 영향은 더욱 증폭된다.  <br/>      <br/>   전과 같은 실수를 되풀이하지 않기 위해 이번에는 ‘대졸 이하의 백인 남성’등의 특정 그룹에 가중치를 부여한 조사기관도 있다고 들었는데, 결과적으로 그런 방식도 예측 정확도에 큰 기여를 하지 못했다. 샘플 크기를 임의로 조정했다면 어떤 방식으로 얼마만큼 했다는 것인가? 아마 구체적인 샘플링 방식을 놓고 전적으로 동의하는 단 두 명의 통계전문가도 찾기 어려울 것이다.  <br/>      <br/>   그래서 분석작업에서의 ‘인간적 요소’도 간과하면 안된다. 모델링을 놓고 흔히 “반은 과학, 반은 예술”이란 표현을 쓰지만, 이렇게 크게 벗어난 예측을 보자면 그 예술이란 부분이 문제가 될 수도 있다는 생각이다. 고전적 모델링 과정에서 예측변수나 알고리즘의 선택에 전문가의 성향이 전적으로 배제될 수는 없다.  <br/>      <br/>   게다가 구조적 오류나 아예 틀린 데이터는 그 어떤 통계적 방식으로도 극복하기 어렵다. 미국식 표현인 “쓰레기를 넣으면 쓰레기 같은 결과가 나온다”라는 표현이 적절할 것이다. 만약 여론조사 응답자가 거짓으로 답했다면? 그렇게 명백히 틀린 정보는 데이터 수집과 모델링만의 문제가 아니다.  <br/>      <br/> <div class=\"ab_photo photo_center \" style=\"width: 300px;\"> <div class=\"image\"> <img alt=\"데이터이야기 11/23\" data-src=\"https://pds.joins.com/news/component/htmlphoto_mmdata/202011/23/f4779b32-6608-4464-9a26-af2368cedf89.jpg\" data-type=\"article\" src=\"https://pds.joins.com/news/component/htmlphoto_mmdata/202011/23/f4779b32-6608-4464-9a26-af2368cedf89.jpg\"/> <span class=\"mask\"></span> </div> <p class=\"caption\">데이터이야기 11/23</p> </div>        그 ‘인간적 요소’는 단지 모델링 작업뿐 아니라 사용자들이 예측결과를 적용하는 과정에서도 문제가 될 수 있다. 단순한 일기예보에 대한 반응도 사람마다 다르며, 예측의 적절함에 상관없이 사용자에게 감정을 다 빼고 결과를 보라는 것은 애초부터 무리한 주문이다. 그래서 데이터 사이언티스트는 더욱 중립적인 태도를 유지하도록 노력해야 하는 것이다.  <br/>      <br/>   구조적 편향성으로 인해 이제 기존의 여론조사 방식은 종말을 맞고 있는 것인지도 모른다. 특히 전화를 통한 여론조사는 더 이상 적절하지 않다. ‘모르는 번호에서 걸려온 전화를 받고 모든 질문에 성실히 대답한 사람’이란 집단은 그저 희망사항일 뿐이며 샘플링 오류의 근원이다. 발신자 신원이 표시되는 모빌 전화기를 가지고 누가 미확인 번호에 응답할 것이며, 설문방식이 적절하더라도 선호하는 후보에 관한 대답을 회피하는 사람도 많다. 특정 웹사이트 방문자만을 대상으로 조사를 하는 것보다는 낫겠지만 이 다양하고 복잡한 세상에서 전화를 통한 여론조사는 그저 참고사항 정도로 여겨야 한다.  <br/>      <div class=\"\" id=\"criteo_network\" style=\"width: 250px; height: 250px; float: right; clear: both; margin-left: 20px;\"><div id=\"imp_ad_da_250_1\"><script data-id=\"7TzXV_PfR6u5epgxyPjtOA\" name=\"joongang_p/article/article@article_body_250x250?mlink=5\" src=\"./aa77_files/persona.js.다운로드\" type=\"text/javascript\"></script><script src=\"./aa77_files/4bt_4p_aYZLeHvg3WpShADF3fTGj0K7NQ8MZjbfpq1uEAM4qWzAZAbZDSXNVZUJ6V1RkR3ppcktOd2hId2JBAstB1_YYvmTN-gPLQdf2GL5kzfo.js(5).다운로드\"></script><div id=\"7TzXV_PfR6u5epgxyPjtOA\"><iframe frameborder=\"0\" height=\"250px\" leftmargin=\"0\" marginheight=\"0\" marginwidth=\"0\" name=\"mliframe\" scrolling=\"no\" src=\"./aa77_files/article@article_body_250x250.html\" topmargin=\"0\" width=\"250px\"></iframe></div></div></div><br/>   2016년 미 대선 당시 ‘앞마당에 설치한 지지후보 표식의 수’ 등의 실제적 변수를 바탕으로 결과를 정확히 예측한 머신 러닝 알고리즘이 화제가 되었다. 그런 변수는 분명 사람들의 성향을 나타내지만 질문에 대한 대답의 형태는 아니다. 사람들의 말과 행동이 다른 경우는 흔하다. 일례로 어떤 배달 피자가게의 1년 판매량을 조사할 때 주인이 대답한 판매량과 사용한 피자 박스의 수 중 어느 변수에 편향성이 더 있을 것인가?  <br/>      <br/>   찾아보자면 질문이 필요 없는 변수는 도처에 널려 있다. 데이터가 흔한 미국에서 대선결과 예측에 쓸 만한 변수들은 그 앞마당 표식숫자 말고도 정치 집회자들이 차지한 면적, 소셜미디어상 긍정적·부정적 언급 수, 지지자별 평균 기부금액, 최초·반복 기부자 수 등을 고려해 볼 수 있다. 그런 데이터에 접근이 용이하지 않다면? 급한대로 드론이라도 띄워서 집회사진을 찍을 일이다.  <br/>      <br/>   머신 러닝은 주로 자동화 도구로 인식되어 있지만 그것을 모델링 과정에서 인간적 요소를 최소화하는 방식으로 이용할 수도 있다. 감정이 없는 기계는 역설적으로 틀린 예측으로 인한 인간들의 감정적 손실을 최소화할 것이다. 넘쳐나는 데이터와 AI 시대에서 기존의 방식만을 고집할 일이 아니다. 장벽은 기술적 요소들이 아니라 상상력 부족에 있다.  <br/>      <br/>   유혁 윌로우 데이터 스트래티지 대표  <br/>\n",
            "<!-- 아티클 공통 : DA 250 -->\n",
            "<!-- 아티클 공통 : 관련기사 -->\n",
            "<!-- //아티클 공통 : 관련기사 -->\n",
            "</div>]\n",
            "\n",
            "     유혁 윌로우 데이터 스트래티지 대표         치열한 선거전의 결과를 예측하는 것은 쉬운 일이 아니다. 하지만 접전이 될 것이란 것조차 예측하지 못했다는 건 큰 문제다. 이번 미국 대선 결과와 상관없이 2016년에 이어 2020년에도 가장 명백한 패자는 결과를 제대로 예측하지 못한 각종 여론조사 기관이라고 할 수 있다. 4년 전에는 아예 승자를 맞추지도 못했지만, 이번에도 대선과 의원 선거의 결과가 예상 밖의 접전양상으로 나타났으니 여론조사 방법에 심각한 의구심을 가질 만한 상황이다.        미대선 예측오류로 드러난 문제표본추출과 데이터 에러가 원인기존 여론조사방식 한계에 도달창의적 데이터 수집·적용 필요   많은 분석가들은 4년전 크게 벗어난 예측을 표본추출 오류의 결과로 결론을 내렸었다. 인구밀도가 낮은 지역에서 주요 변수의 대표성에 문제가 생기면 예측결과가 아예 틀릴 수 있다. 특히 양당의 선호도가 도시와 교외지역에 따라 명확히 갈리는 미국의 경우 샘플링 오류의 영향은 더욱 증폭된다.           전과 같은 실수를 되풀이하지 않기 위해 이번에는 ‘대졸 이하의 백인 남성’등의 특정 그룹에 가중치를 부여한 조사기관도 있다고 들었는데, 결과적으로 그런 방식도 예측 정확도에 큰 기여를 하지 못했다. 샘플 크기를 임의로 조정했다면 어떤 방식으로 얼마만큼 했다는 것인가? 아마 구체적인 샘플링 방식을 놓고 전적으로 동의하는 단 두 명의 통계전문가도 찾기 어려울 것이다.           그래서 분석작업에서의 ‘인간적 요소’도 간과하면 안된다. 모델링을 놓고 흔히 “반은 과학, 반은 예술”이란 표현을 쓰지만, 이렇게 크게 벗어난 예측을 보자면 그 예술이란 부분이 문제가 될 수도 있다는 생각이다. 고전적 모델링 과정에서 예측변수나 알고리즘의 선택에 전문가의 성향이 전적으로 배제될 수는 없다.           게다가 구조적 오류나 아예 틀린 데이터는 그 어떤 통계적 방식으로도 극복하기 어렵다. 미국식 표현인 “쓰레기를 넣으면 쓰레기 같은 결과가 나온다”라는 표현이 적절할 것이다. 만약 여론조사 응답자가 거짓으로 답했다면? 그렇게 명백히 틀린 정보는 데이터 수집과 모델링만의 문제가 아니다.              데이터이야기 11/23         그 ‘인간적 요소’는 단지 모델링 작업뿐 아니라 사용자들이 예측결과를 적용하는 과정에서도 문제가 될 수 있다. 단순한 일기예보에 대한 반응도 사람마다 다르며, 예측의 적절함에 상관없이 사용자에게 감정을 다 빼고 결과를 보라는 것은 애초부터 무리한 주문이다. 그래서 데이터 사이언티스트는 더욱 중립적인 태도를 유지하도록 노력해야 하는 것이다.           구조적 편향성으로 인해 이제 기존의 여론조사 방식은 종말을 맞고 있는 것인지도 모른다. 특히 전화를 통한 여론조사는 더 이상 적절하지 않다. ‘모르는 번호에서 걸려온 전화를 받고 모든 질문에 성실히 대답한 사람’이란 집단은 그저 희망사항일 뿐이며 샘플링 오류의 근원이다. 발신자 신원이 표시되는 모빌 전화기를 가지고 누가 미확인 번호에 응답할 것이며, 설문방식이 적절하더라도 선호하는 후보에 관한 대답을 회피하는 사람도 많다. 특정 웹사이트 방문자만을 대상으로 조사를 하는 것보다는 낫겠지만 이 다양하고 복잡한 세상에서 전화를 통한 여론조사는 그저 참고사항 정도로 여겨야 한다.           2016년 미 대선 당시 ‘앞마당에 설치한 지지후보 표식의 수’ 등의 실제적 변수를 바탕으로 결과를 정확히 예측한 머신 러닝 알고리즘이 화제가 되었다. 그런 변수는 분명 사람들의 성향을 나타내지만 질문에 대한 대답의 형태는 아니다. 사람들의 말과 행동이 다른 경우는 흔하다. 일례로 어떤 배달 피자가게의 1년 판매량을 조사할 때 주인이 대답한 판매량과 사용한 피자 박스의 수 중 어느 변수에 편향성이 더 있을 것인가?           찾아보자면 질문이 필요 없는 변수는 도처에 널려 있다. 데이터가 흔한 미국에서 대선결과 예측에 쓸 만한 변수들은 그 앞마당 표식숫자 말고도 정치 집회자들이 차지한 면적, 소셜미디어상 긍정적·부정적 언급 수, 지지자별 평균 기부금액, 최초·반복 기부자 수 등을 고려해 볼 수 있다. 그런 데이터에 접근이 용이하지 않다면? 급한대로 드론이라도 띄워서 집회사진을 찍을 일이다.           머신 러닝은 주로 자동화 도구로 인식되어 있지만 그것을 모델링 과정에서 인간적 요소를 최소화하는 방식으로 이용할 수도 있다. 감정이 없는 기계는 역설적으로 틀린 예측으로 인한 인간들의 감정적 손실을 최소화할 것이다. 넘쳐나는 데이터와 AI 시대에서 기존의 방식만을 고집할 일이 아니다. 장벽은 기술적 요소들이 아니라 상상력 부족에 있다.           유혁 윌로우 데이터 스트래티지 대표  \n",
            "\n",
            "\n",
            "\n",
            "\n"
          ],
          "name": "stdout"
        }
      ]
    },
    {
      "cell_type": "markdown",
      "metadata": {
        "id": "udBOxmbDWCyn"
      },
      "source": [
        ""
      ]
    },
    {
      "cell_type": "markdown",
      "metadata": {
        "id": "oRaraft5WCsu"
      },
      "source": [
        ""
      ]
    },
    {
      "cell_type": "markdown",
      "metadata": {
        "id": "iqOy-PM1WCdl"
      },
      "source": [
        "문제414. 위에서 스크롤링한 중앙일보 기사를 c 드라이브 밑에 mytext23.txt 로 저장하시오 !  \r\n"
      ]
    },
    {
      "cell_type": "code",
      "metadata": {
        "id": "G8OxF8tqWH2G"
      },
      "source": [
        "from bs4 import BeautifulSoup\r\n",
        "\r\n",
        "f = open(\"/content/drive/MyDrive/data/aa77.html\")\r\n",
        "soup = BeautifulSoup( f, \"html.parser\" )\r\n",
        "result =soup.find_all(class_=\"article_body mg fs4\")\r\n",
        "a = []\r\n",
        "\r\n",
        "for i in result: \r\n",
        "    a.append(i.get_text())\r\n",
        "\r\n",
        "f = open(\"/content/drive/MyDrive/data/mytext23.txt\", 'w')\r\n",
        "f.write( str(a) )\r\n",
        "f.close()"
      ],
      "execution_count": 79,
      "outputs": []
    },
    {
      "cell_type": "markdown",
      "metadata": {
        "id": "-mveE7P3WRC8"
      },
      "source": [
        ""
      ]
    },
    {
      "cell_type": "code",
      "metadata": {
        "colab": {
          "base_uri": "https://localhost:8080/"
        },
        "id": "RrN-amrAWRY6",
        "outputId": "62d2c772-badf-4eec-f4f9-897622bc10f4"
      },
      "source": [
        "# mytext23.txt 데이터 확인\r\n",
        "f = open(\"/content/drive/MyDrive/data/mytext23.txt\", encoding = \"UTF8\")\r\n",
        "data = f.read() \r\n",
        "print(data)\r\n",
        "f.close()"
      ],
      "execution_count": 81,
      "outputs": [
        {
          "output_type": "stream",
          "text": [
            "['\\n     유혁 윌로우 데이터 스트래티지 대표         치열한 선거전의 결과를 예측하는 것은 쉬운 일이 아니다. 하지만 접전이 될 것이란 것조차 예측하지 못했다는 건 큰 문제다. 이번 미국 대선 결과와 상관없이 2016년에 이어 2020년에도 가장 명백한 패자는 결과를 제대로 예측하지 못한 각종 여론조사 기관이라고 할 수 있다. 4년 전에는 아예 승자를 맞추지도 못했지만, 이번에도 대선과 의원 선거의 결과가 예상 밖의 접전양상으로 나타났으니 여론조사 방법에 심각한 의구심을 가질 만한 상황이다.     \\xa0  미대선 예측오류로 드러난 문제표본추출과 데이터 에러가 원인기존 여론조사방식 한계에 도달창의적 데이터 수집·적용 필요   많은 분석가들은 4년전 크게 벗어난 예측을 표본추출 오류의 결과로 결론을 내렸었다. 인구밀도가 낮은 지역에서 주요 변수의 대표성에 문제가 생기면 예측결과가 아예 틀릴 수 있다. 특히 양당의 선호도가 도시와 교외지역에 따라 명확히 갈리는 미국의 경우 샘플링 오류의 영향은 더욱 증폭된다.     \\xa0     전과 같은 실수를 되풀이하지 않기 위해 이번에는 ‘대졸 이하의 백인 남성’등의 특정 그룹에 가중치를 부여한 조사기관도 있다고 들었는데, 결과적으로 그런 방식도 예측 정확도에 큰 기여를 하지 못했다. 샘플 크기를 임의로 조정했다면 어떤 방식으로 얼마만큼 했다는 것인가? 아마 구체적인 샘플링 방식을 놓고 전적으로 동의하는 단 두 명의 통계전문가도 찾기 어려울 것이다.     \\xa0     그래서 분석작업에서의 ‘인간적 요소’도 간과하면 안된다. 모델링을 놓고 흔히 “반은 과학, 반은 예술”이란 표현을 쓰지만, 이렇게 크게 벗어난 예측을 보자면 그 예술이란 부분이 문제가 될 수도 있다는 생각이다. 고전적 모델링 과정에서 예측변수나 알고리즘의 선택에 전문가의 성향이 전적으로 배제될 수는 없다.     \\xa0     게다가 구조적 오류나 아예 틀린 데이터는 그 어떤 통계적 방식으로도 극복하기 어렵다. 미국식 표현인 “쓰레기를 넣으면 쓰레기 같은 결과가 나온다”라는 표현이 적절할 것이다. 만약 여론조사 응답자가 거짓으로 답했다면? 그렇게 명백히 틀린 정보는 데이터 수집과 모델링만의 문제가 아니다.     \\xa0        데이터이야기 11/23         그 ‘인간적 요소’는 단지 모델링 작업뿐 아니라 사용자들이 예측결과를 적용하는 과정에서도 문제가 될 수 있다. 단순한 일기예보에 대한 반응도 사람마다 다르며, 예측의 적절함에 상관없이 사용자에게 감정을 다 빼고 결과를 보라는 것은 애초부터 무리한 주문이다. 그래서 데이터 사이언티스트는 더욱 중립적인 태도를 유지하도록 노력해야 하는 것이다.     \\xa0     구조적 편향성으로 인해 이제 기존의 여론조사 방식은 종말을 맞고 있는 것인지도 모른다. 특히 전화를 통한 여론조사는 더 이상 적절하지 않다. ‘모르는 번호에서 걸려온 전화를 받고 모든 질문에 성실히 대답한 사람’이란 집단은 그저 희망사항일 뿐이며 샘플링 오류의 근원이다. 발신자 신원이 표시되는 모빌 전화기를 가지고 누가 미확인 번호에 응답할 것이며, 설문방식이 적절하더라도 선호하는 후보에 관한 대답을 회피하는 사람도 많다. 특정 웹사이트 방문자만을 대상으로 조사를 하는 것보다는 낫겠지만 이 다양하고 복잡한 세상에서 전화를 통한 여론조사는 그저 참고사항 정도로 여겨야 한다.     \\xa0     2016년 미 대선 당시 ‘앞마당에 설치한 지지후보 표식의 수’ 등의 실제적 변수를 바탕으로 결과를 정확히 예측한 머신 러닝 알고리즘이 화제가 되었다. 그런 변수는 분명 사람들의 성향을 나타내지만 질문에 대한 대답의 형태는 아니다. 사람들의 말과 행동이 다른 경우는 흔하다. 일례로 어떤 배달 피자가게의 1년 판매량을 조사할 때 주인이 대답한 판매량과 사용한 피자 박스의 수 중 어느 변수에 편향성이 더 있을 것인가?     \\xa0     찾아보자면 질문이 필요 없는 변수는 도처에 널려 있다. 데이터가 흔한 미국에서 대선결과 예측에 쓸 만한 변수들은 그 앞마당 표식숫자 말고도 정치 집회자들이 차지한 면적, 소셜미디어상 긍정적·부정적 언급 수, 지지자별 평균 기부금액, 최초·반복 기부자 수 등을 고려해 볼 수 있다. 그런 데이터에 접근이 용이하지 않다면? 급한대로 드론이라도 띄워서 집회사진을 찍을 일이다.     \\xa0     머신 러닝은 주로 자동화 도구로 인식되어 있지만 그것을 모델링 과정에서 인간적 요소를 최소화하는 방식으로 이용할 수도 있다. 감정이 없는 기계는 역설적으로 틀린 예측으로 인한 인간들의 감정적 손실을 최소화할 것이다. 넘쳐나는 데이터와 AI 시대에서 기존의 방식만을 고집할 일이 아니다. 장벽은 기술적 요소들이 아니라 상상력 부족에 있다.     \\xa0     유혁\\xa0윌로우 데이터 스트래티지 대표  \\n\\n\\n\\n']\n"
          ],
          "name": "stdout"
        }
      ]
    }
  ]
}