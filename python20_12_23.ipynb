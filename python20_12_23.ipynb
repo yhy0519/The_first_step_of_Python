{
  "nbformat": 4,
  "nbformat_minor": 0,
  "metadata": {
    "colab": {
      "name": "python20_12_23.ipynb",
      "provenance": [],
      "collapsed_sections": [],
      "authorship_tag": "ABX9TyN/P/M0UJ2SIbbLg8lRzQl9",
      "include_colab_link": true
    },
    "kernelspec": {
      "name": "python3",
      "display_name": "Python 3"
    }
  },
  "cells": [
    {
      "cell_type": "markdown",
      "metadata": {
        "id": "view-in-github",
        "colab_type": "text"
      },
      "source": [
        "<a href=\"https://colab.research.google.com/github/yhy0519/The_first_step_of_Python/blob/main/python20_12_23.ipynb\" target=\"_parent\"><img src=\"https://colab.research.google.com/assets/colab-badge.svg\" alt=\"Open In Colab\"/></a>"
      ]
    },
    {
      "cell_type": "markdown",
      "metadata": {
        "id": "oBW9SExWwrLy"
      },
      "source": [
        "**■ 154. 필수 알고리즘3 (버블정렬)**\r\n",
        "\r\n",
        "\r\n",
        "버블정렬이란 ?  \r\n",
        "\r\n",
        "    서로 인접한 두 요소의 크기를 서로 비교하여 순서에 맞지 않는 요소를 인접한 요소와 서로 교환하여 정렬하는 정렬방법을 버블(bubble)정렬이라고 합니다.\r\n"
      ]
    },
    {
      "cell_type": "markdown",
      "metadata": {
        "id": "QpslCLH3wyD5"
      },
      "source": [
        "문제502. 아래의 리스트를 만들고 첫번째 요소와 두번째 요소의 순서를 변경하시오 !\r\n",
        "\r\n",
        "    a = [ 10, 5, 20, 9, 8 ]\r\n",
        "\r\n",
        "    결과: [ 5, 10, 20, 9, 8 ]"
      ]
    },
    {
      "cell_type": "code",
      "metadata": {
        "colab": {
          "base_uri": "https://localhost:8080/"
        },
        "id": "tMjesIJ8wm8-",
        "outputId": "b954a278-d694-4859-d4f7-9c4f0fbca7e4"
      },
      "source": [
        "a = [ 10, 5, 20, 9, 8 ]\r\n",
        "\r\n",
        "temp = a[1]     # 1번째 요소를 temp 변수에 임시저장하고\r\n",
        "a[1] = a[0]     # 1번째 요소를 0번째 요소로 변경한 후에\r\n",
        "a[0] = temp     # 0번째 요소를 1번째 요소로 변경합니다.\r\n",
        "\r\n",
        "print(a)"
      ],
      "execution_count": 1,
      "outputs": [
        {
          "output_type": "stream",
          "text": [
            "[5, 10, 20, 9, 8]\n"
          ],
          "name": "stdout"
        }
      ]
    },
    {
      "cell_type": "markdown",
      "metadata": {
        "id": "LTyaHIdWw5Si"
      },
      "source": [
        ""
      ]
    },
    {
      "cell_type": "markdown",
      "metadata": {
        "id": "jWb3V3Iaw5Pk"
      },
      "source": [
        ""
      ]
    },
    {
      "cell_type": "markdown",
      "metadata": {
        "id": "593-X3x0wquX"
      },
      "source": [
        "문제503. 아래의 a 리스트의 첫번째 요소와 두번째 요소의 크기를 비교해서 첫번째 요소의 숫자가 두번째 요소의 숫자보다 크다면 두개를 바꿔치기해라\r\n",
        "\r\n",
        "    a = [ 10, 5, 20, 9, 8 ]\r\n",
        "\r\n",
        "    결과: [ 5, 10, 20, 9, 8 ]\r\n"
      ]
    },
    {
      "cell_type": "code",
      "metadata": {
        "colab": {
          "base_uri": "https://localhost:8080/"
        },
        "id": "8cioEwGxw8sg",
        "outputId": "a00029ba-3a7f-4d65-bfa6-a94c62daac9f"
      },
      "source": [
        "a = [ 10, 5, 20, 9, 8 ]\r\n",
        "\r\n",
        "if a[0] > a[1]:\r\n",
        "    temp = a[1]\r\n",
        "    a[1] = a[0]\r\n",
        "    a[0] = temp\r\n",
        "    \r\n",
        "print(a)"
      ],
      "execution_count": 2,
      "outputs": [
        {
          "output_type": "stream",
          "text": [
            "[5, 10, 20, 9, 8]\n"
          ],
          "name": "stdout"
        }
      ]
    },
    {
      "cell_type": "markdown",
      "metadata": {
        "id": "A3FrwRIqxE_c"
      },
      "source": [
        ""
      ]
    },
    {
      "cell_type": "markdown",
      "metadata": {
        "id": "-gaRUFT3xE8J"
      },
      "source": [
        ""
      ]
    },
    {
      "cell_type": "markdown",
      "metadata": {
        "id": "7T_OU0pvxE5Z"
      },
      "source": [
        "문제504. 문제 503번 코드에 for loop 문을 넣어서 버블정렬하시오 !\r\n",
        "\r\n",
        "    a = [ 5, 4, 3, 2, 1, 8, 7, 10 ]\r\n",
        "\r\n",
        "    결과: [ 4, 3, 2, 1, 5, 7, 8, 10 ]\r\n",
        "\r\n",
        "    [ 5, 4, 3, 2, 1, 8, 7, 10 ]\r\n",
        "    \t      ↓\r\n",
        "    [ 4, 5, 3, 2, 1, 8, 7, 10 ]\r\n",
        "\t          ↓\r\n",
        "    [ 4, 3, 5, 2, 1, 8, 7, 10 ]\r\n",
        "\t          ↓\r\n",
        "    [ 4, 3, 2, 5, 1, 8, 7, 10 ]\r\n",
        "\t          ↓\r\n",
        "    [ 4, 3, 2, 1, 5, 8, 7, 10 ]\r\n",
        "\t          ↓\r\n",
        "    [ 4, 3, 2, 1, 5, 7, 8, 10 ]\r\n"
      ]
    },
    {
      "cell_type": "code",
      "metadata": {
        "colab": {
          "base_uri": "https://localhost:8080/"
        },
        "id": "uI85o5nHxMrZ",
        "outputId": "d58ed69d-6576-4531-e436-fcbd3e1c003f"
      },
      "source": [
        "a = [ 5, 4, 3, 2, 1, 8, 7, 10 ]\r\n",
        "\r\n",
        "for i in range(0, len(a)-1):\r\n",
        "    if a[i] > a[i+1]:\r\n",
        "        temp = a[i+1]\r\n",
        "        a[i+1] = a[i]\r\n",
        "        a[i] = temp\r\n",
        "    \r\n",
        "print(a)"
      ],
      "execution_count": 3,
      "outputs": [
        {
          "output_type": "stream",
          "text": [
            "[4, 3, 2, 1, 5, 7, 8, 10]\n"
          ],
          "name": "stdout"
        }
      ]
    },
    {
      "cell_type": "markdown",
      "metadata": {
        "id": "XW7-D5BcxRXb"
      },
      "source": [
        ""
      ]
    },
    {
      "cell_type": "markdown",
      "metadata": {
        "id": "Rz5p-Jo7xRRx"
      },
      "source": [
        ""
      ]
    },
    {
      "cell_type": "markdown",
      "metadata": {
        "id": "TX_jIpSaxRKl"
      },
      "source": [
        "문제505. 위의 코드를 이용해서 버블정렬을 하는 함수를\r\n",
        "\t     아래와 같이 생성하시오 !\r\n",
        "\r\n",
        "    a = [ 5, 4, 3, 2, 1, 8, 7, 10 ]\r\n",
        "\r\n",
        "    print( bubble_sort(a) )\r\n",
        "\r\n",
        "    결과: [ 1, 2, 3, 4, 5, 7, 8, 10 ]"
      ]
    },
    {
      "cell_type": "code",
      "metadata": {
        "colab": {
          "base_uri": "https://localhost:8080/"
        },
        "id": "ZoRkTMhJxRF5",
        "outputId": "851e39ca-7d7d-4164-e60b-f69ff0cfcb89"
      },
      "source": [
        "a = [ 5, 4, 3, 2, 1, 8, 7, 10 ]\r\n",
        "\r\n",
        "def bubble_sort(a):\r\n",
        "    for k in range(1, len(a)):\r\n",
        "        for i in range(0, len(a)-1):\r\n",
        "            if a[i] > a[i+1]:\r\n",
        "                temp = a[i+1]\r\n",
        "                a[i+1] = a[i]\r\n",
        "                a[i] = temp\r\n",
        "    return a\r\n",
        "      \r\n",
        "print( bubble_sort(a) )"
      ],
      "execution_count": 4,
      "outputs": [
        {
          "output_type": "stream",
          "text": [
            "[1, 2, 3, 4, 5, 7, 8, 10]\n"
          ],
          "name": "stdout"
        }
      ]
    },
    {
      "cell_type": "markdown",
      "metadata": {
        "id": "BaXK3PI5xagZ"
      },
      "source": [
        ""
      ]
    },
    {
      "cell_type": "code",
      "metadata": {
        "colab": {
          "base_uri": "https://localhost:8080/"
        },
        "id": "FlwPzf1Rxa0Z",
        "outputId": "dd74f8ab-04a0-4af4-89a8-ef9951f2ebdf"
      },
      "source": [
        "a = [ 5, 4, 3, 2, 1, 8, 7, 10 ]\r\n",
        "\r\n",
        "def bubble_sort(a):\r\n",
        "    n=1 \r\n",
        "    while n>0:     # n = 0 이 되면 정렬이 완료된것임\r\n",
        "        n=0\r\n",
        "        b=0\r\n",
        "        for i in range(len(a)-b-1): # 연산 횟수를 줄이기 위해서\r\n",
        "            b+=1\r\n",
        "            if a[i] >= a[i+1]:\r\n",
        "                a[i],a[i+1] = a[i+1],a[i]\r\n",
        "                n+=1    # 교환된 횟수만큼 n 값 증가\r\n",
        "        print(a,n,b)\r\n",
        "    return a\r\n",
        "\r\n",
        "print(bubble_sort(a))"
      ],
      "execution_count": 5,
      "outputs": [
        {
          "output_type": "stream",
          "text": [
            "[4, 3, 2, 1, 5, 7, 8, 10] 5 7\n",
            "[3, 2, 1, 4, 5, 7, 8, 10] 3 7\n",
            "[2, 1, 3, 4, 5, 7, 8, 10] 2 7\n",
            "[1, 2, 3, 4, 5, 7, 8, 10] 1 7\n",
            "[1, 2, 3, 4, 5, 7, 8, 10] 0 7\n",
            "[1, 2, 3, 4, 5, 7, 8, 10]\n"
          ],
          "name": "stdout"
        }
      ]
    },
    {
      "cell_type": "markdown",
      "metadata": {
        "id": "JzLsjhxLxpr5"
      },
      "source": [
        ""
      ]
    },
    {
      "cell_type": "code",
      "metadata": {
        "colab": {
          "base_uri": "https://localhost:8080/"
        },
        "id": "Us9QV6Qwxp6W",
        "outputId": "fe232e46-00cc-462e-86e8-0be8cff905bb"
      },
      "source": [
        "def bubble_sort(a):\r\n",
        "    n = 1\r\n",
        "    j = -1           # 정렬된 숫자는 다시 계산 안하게 해주는 역할\r\n",
        "    while n != 0:\r\n",
        "        n = 0\r\n",
        "        j += 1\r\n",
        "        for i in range(len(a)-j-1): # 과도한 계산을 막기 위해서 하나씩 빼줌 정렬된 수는 안봐도 되니까\r\n",
        "            if a[i] > a[i+1]:\r\n",
        "                a[i],a[i+1] = a[i+1],a[i]\r\n",
        "                n += 1\r\n",
        "    return a\r\n",
        "\r\n",
        "a = [ 5, 4, 3, 2, 1, 8, 7, 10 ]\r\n",
        "print(bubble_sort(a))"
      ],
      "execution_count": 6,
      "outputs": [
        {
          "output_type": "stream",
          "text": [
            "[1, 2, 3, 4, 5, 7, 8, 10]\n"
          ],
          "name": "stdout"
        }
      ]
    },
    {
      "cell_type": "markdown",
      "metadata": {
        "id": "1lFDmLAbxv1L"
      },
      "source": [
        ""
      ]
    },
    {
      "cell_type": "markdown",
      "metadata": {
        "id": "SvGXAr96xvw9"
      },
      "source": [
        ""
      ]
    },
    {
      "cell_type": "markdown",
      "metadata": {
        "id": "FK3A6VCJxvs4"
      },
      "source": [
        "**■ 155. 필수 알고리즘4 (탐욕알고리즘)**\r\n",
        "\r\n",
        "머신러닝 배울때 의사결정트리를 구현할 때 사용하는 알고리즘입니다.\r\n",
        "\r\n",
        "탐욕알고리즘 이란 ? \r\n",
        "\r\n",
        "    탐욕 알고리즘은 매 순간마다 최선의 선택을 하는것입니다.\r\n",
        "\t\t선택할 때 마다 가장 좋다고 생각되는 것을 선택해 나가며 최종적인 해답을 구하는 알고리즘입니다. \r\n",
        "    이 알고리즘을 설계할 때 주의할 점은 전체를 고려하는게 아니라 문제를 부분적으로 나누어, \r\n",
        "    나누어진 문제에 대한 최적을 해답을 구하도록 해야한다는 점입니다.\r\n",
        "\r\n",
        "예: 14원의 잔돈을 줘야하는데 잔돈의 종류가 10원, 7원, 1원이 있으면 \r\n",
        "\t잔돈을 가장 빨리 줄 수 있는 방법은?\r\n",
        "\t\r\n",
        "\t탐욕 알고리즘은 10원 1개, 7원 0개, 1원 4개로 주는게 탐욕 알고리즘입니다.\r\n",
        "\r\n"
      ]
    },
    {
      "cell_type": "markdown",
      "metadata": {
        "id": "rQs9Rn_mx7Uj"
      },
      "source": [
        ""
      ]
    },
    {
      "cell_type": "markdown",
      "metadata": {
        "id": "AYV4GSrsx8CN"
      },
      "source": [
        "문제506. 14를 10으로 나눈 몫을 출력하시오 !\r\n"
      ]
    },
    {
      "cell_type": "code",
      "metadata": {
        "colab": {
          "base_uri": "https://localhost:8080/"
        },
        "id": "xaB_S2hUx9eV",
        "outputId": "d9d1dd7f-60ea-48e4-e509-b1633dbe15a8"
      },
      "source": [
        "print( 14 / 10 )    \r\n",
        "print( int(14/10) )\r\n",
        "print( 14 // 10 )    "
      ],
      "execution_count": 7,
      "outputs": [
        {
          "output_type": "stream",
          "text": [
            "1.4\n",
            "1\n",
            "1\n"
          ],
          "name": "stdout"
        }
      ]
    },
    {
      "cell_type": "markdown",
      "metadata": {
        "id": "iKbh96VSyA35"
      },
      "source": [
        ""
      ]
    },
    {
      "cell_type": "markdown",
      "metadata": {
        "id": "j0kPbV1VyA0R"
      },
      "source": [
        ""
      ]
    },
    {
      "cell_type": "markdown",
      "metadata": {
        "id": "n9zI1l02yAvq"
      },
      "source": [
        "문제507. 14를 10으로 나눈 나머지를 출력하시오 !"
      ]
    },
    {
      "cell_type": "code",
      "metadata": {
        "colab": {
          "base_uri": "https://localhost:8080/"
        },
        "id": "S0Lw5D7VyBh9",
        "outputId": "9d88eca9-795d-4f18-dfd1-e04d2677c9dd"
      },
      "source": [
        "print( 14 % 10 )  "
      ],
      "execution_count": 8,
      "outputs": [
        {
          "output_type": "stream",
          "text": [
            "4\n"
          ],
          "name": "stdout"
        }
      ]
    },
    {
      "cell_type": "markdown",
      "metadata": {
        "id": "BLb4hudoyEwj"
      },
      "source": [
        ""
      ]
    },
    {
      "cell_type": "markdown",
      "metadata": {
        "id": "31hbsrxwyEt6"
      },
      "source": [
        ""
      ]
    },
    {
      "cell_type": "markdown",
      "metadata": {
        "id": "_I6qABoyyErZ"
      },
      "source": [
        "문제508. 숫자를 물어보게하고 숫자를 10으로 나눈 몫과 숫자를 10으로 나눈 나머지값을 출력하게하시오 !\r\n",
        "\r\n",
        "    숫자를 입력하세요 ~ 14\r\n",
        "\r\n",
        "    몫은: 1\r\n",
        "    나머지값은: 4"
      ]
    },
    {
      "cell_type": "code",
      "metadata": {
        "colab": {
          "base_uri": "https://localhost:8080/"
        },
        "id": "1LBMLFGIyI-1",
        "outputId": "f6188ffa-ef41-4bb3-ccfb-cef0acadb5d5"
      },
      "source": [
        "num = int(input('숫자를 입력하세요 ~ '))\r\n",
        "print('몫은 :', num // 10)\r\n",
        "print('나머지값은 :', num % 10)"
      ],
      "execution_count": 9,
      "outputs": [
        {
          "output_type": "stream",
          "text": [
            "숫자를 입력하세요 ~ 14\n",
            "몫은 : 1\n",
            "나머지값은 : 4\n"
          ],
          "name": "stdout"
        }
      ]
    },
    {
      "cell_type": "markdown",
      "metadata": {
        "id": "AdDqs4CqyLeQ"
      },
      "source": [
        ""
      ]
    },
    {
      "cell_type": "markdown",
      "metadata": {
        "id": "aMGx19RyyLbp"
      },
      "source": [
        ""
      ]
    },
    {
      "cell_type": "markdown",
      "metadata": {
        "id": "R7eE-0LGyLYf"
      },
      "source": [
        "문제509. 아래의 잔돈 리스트를 만들고 잔돈 리스트의 첫번째 요소로 나눈 몫과 나머지값이 출력되게하시오 !\r\n",
        "\r\n",
        "    coin = [ 10, 7, 1 ]\r\n",
        "\r\n",
        "    숫자를 입력하세요 ~ 14\r\n",
        "\r\n",
        "    몫은: 1\r\n",
        "    나머지값은: 4"
      ]
    },
    {
      "cell_type": "code",
      "metadata": {
        "colab": {
          "base_uri": "https://localhost:8080/"
        },
        "id": "tDGlFi7JyQ3G",
        "outputId": "908ccfec-ea2f-4da3-f738-37404f731ad4"
      },
      "source": [
        "num = int(input('숫자를 입력하세요 ~ '))\r\n",
        "coin = [ 10, 7, 1 ]\r\n",
        "print('몫은 :', num // coin[0])\r\n",
        "print('나머지값은 :', num % coin[0])"
      ],
      "execution_count": 10,
      "outputs": [
        {
          "output_type": "stream",
          "text": [
            "숫자를 입력하세요 ~ 14\n",
            "몫은 : 1\n",
            "나머지값은 : 4\n"
          ],
          "name": "stdout"
        }
      ]
    },
    {
      "cell_type": "markdown",
      "metadata": {
        "id": "mkzMM6UyyLV1"
      },
      "source": [
        ""
      ]
    },
    {
      "cell_type": "markdown",
      "metadata": {
        "id": "2BzLIMzqySr7"
      },
      "source": [
        ""
      ]
    },
    {
      "cell_type": "markdown",
      "metadata": {
        "id": "ClG79qBhySjV"
      },
      "source": [
        "문제510. 위의 코드를 함수로 만들어서 실행되게 하시오 !\r\n",
        "\r\n",
        "    greedy()\r\n",
        "\r\n",
        "    잔돈을 입력하세요 ~ 14\r\n",
        "\r\n",
        "    몫은: 1\r\n",
        "    나머지값은: 4"
      ]
    },
    {
      "cell_type": "code",
      "metadata": {
        "colab": {
          "base_uri": "https://localhost:8080/"
        },
        "id": "e6VaZxbkyVta",
        "outputId": "d81f9879-75be-4e41-ac1b-61fb1d6c61d9"
      },
      "source": [
        "def greedy():\r\n",
        "    num = int(input('숫자를 입력하세요 ~ '))\r\n",
        "    coin = [ 10, 7, 1 ]\r\n",
        "    print('몫은 :', num // coin[0])\r\n",
        "    print('나머지값은 :', num % coin[0])\r\n",
        "\r\n",
        "greedy()"
      ],
      "execution_count": 11,
      "outputs": [
        {
          "output_type": "stream",
          "text": [
            "숫자를 입력하세요 ~ 14\n",
            "몫은 : 1\n",
            "나머지값은 : 4\n"
          ],
          "name": "stdout"
        }
      ]
    },
    {
      "cell_type": "markdown",
      "metadata": {
        "id": "JMTfDyvcyYgE"
      },
      "source": [
        ""
      ]
    },
    {
      "cell_type": "markdown",
      "metadata": {
        "id": "BnekHtv0yYcx"
      },
      "source": [
        ""
      ]
    },
    {
      "cell_type": "markdown",
      "metadata": {
        "id": "gFecGEKcyYZV"
      },
      "source": [
        "문제511. 탐욕 알고리즘을 파이썬으로 구현하시오\r\n",
        "\r\n",
        "    greedy()\r\n",
        "\r\n",
        "    잔돈을 입력하세요 ~ 14\r\n",
        "    10원 동전 1개, 7원 동전 0개, 1원 동전 4개로 줍니다.\r\n",
        "\r\n",
        "    잔돈을 입력하세요 ~ 107\r\n",
        "    10원 동전 10개, 7원 동전 1개, 1원 동전 0개로 줍니다.\r\n"
      ]
    },
    {
      "cell_type": "code",
      "metadata": {
        "colab": {
          "base_uri": "https://localhost:8080/"
        },
        "id": "LuM4GA3xyd0W",
        "outputId": "0293e794-c9c5-4e7c-b4e0-d5959a1c785a"
      },
      "source": [
        "def greedy():\r\n",
        "    coin = [ 10, 7, 1 ]\r\n",
        "    num = int(input('잔돈 입력하세요 ~ '))\r\n",
        "    a = num // coin[0]      # 잔돈을 10으로 나눈 몫\r\n",
        "    b = num % coin[0]      # 잔돈을 10으로 나눈 나머지\r\n",
        "\r\n",
        "    if b >= 7:       # 잔돈을 10으로 나눈 나머지가 7보다 크면\r\n",
        "        print('10원 동전', a,'개, 7원 동전', b // coin[1], '개, 1원 동전 ', b % coin[1], '개로 줍니다.')   \r\n",
        "                                                          # 나머지를 7로 나눈 몫 : 7원 동전 개수, \r\n",
        "                                                          # 나머지를 7로 나눈 나머지 : 1원 동전 개수\r\n",
        "    else:             # 잔돈을 10으로 나눈 나머지가 7보다 작으면 \r\n",
        "        print('10원 동전', a,'개, 7원 동전', 0, '개, 1원 동전 ', b, '개로 줍니다.')          \r\n",
        "                                                          # 나머지를 1원 동전에 할당\r\n",
        "\r\n",
        "greedy()"
      ],
      "execution_count": 14,
      "outputs": [
        {
          "output_type": "stream",
          "text": [
            "잔돈 입력하세요 ~ 14\n",
            "10원 동전 1 개, 7원 동전 0 개, 1원 동전  4 개로 줍니다.\n"
          ],
          "name": "stdout"
        }
      ]
    },
    {
      "cell_type": "markdown",
      "metadata": {
        "id": "M6CteokPyqdj"
      },
      "source": [
        ""
      ]
    },
    {
      "cell_type": "code",
      "metadata": {
        "colab": {
          "base_uri": "https://localhost:8080/"
        },
        "id": "Qs6x2DLqyqvR",
        "outputId": "41c12df4-b7db-4515-97fc-e6bfb06015a1"
      },
      "source": [
        "def greedy() :\r\n",
        "    coin = [10,7,1]\r\n",
        "\r\n",
        "    num = int(input('잔돈 입력하시오 : '))\r\n",
        "    a = []\r\n",
        "    for i in range(3):\r\n",
        "        result = num//coin[i]\r\n",
        "        num = num%coin[i]\r\n",
        "        a.append(result)\r\n",
        "    print('10원 동전',a[0],'개, 7원 동전',a[1],'개, 1원 동전',a[2], '개로 줍니다.')\r\n",
        "\r\n",
        "greedy()"
      ],
      "execution_count": 15,
      "outputs": [
        {
          "output_type": "stream",
          "text": [
            "잔돈 입력하시오 : 107\n",
            "10원 동전 10 개, 7원 동전 1 개, 1원 동전 0 개로 줍니다.\n"
          ],
          "name": "stdout"
        }
      ]
    },
    {
      "cell_type": "markdown",
      "metadata": {
        "id": "XBe-dSaSy9uC"
      },
      "source": [
        ""
      ]
    },
    {
      "cell_type": "markdown",
      "metadata": {
        "id": "4ZElX4dXy9qz"
      },
      "source": [
        ""
      ]
    },
    {
      "cell_type": "markdown",
      "metadata": {
        "id": "eGOr24nny9no"
      },
      "source": [
        "**■ 156. 필수 알고리즘5 (재귀알고리즘)**\r\n",
        "\r\n",
        "재귀 알고리즘은 처음에는 이해하기가 어려운 알고리즘이지만 많이 연습해서 잘 알아두면 loop 문을 최소화 하면서 코드를 간단하게 작성할 수 있는 알고리즘입니다.\r\n",
        "\r\n",
        " 1. 재귀함수란 ? 반복문 + 스택구조가 결합된 함수 입니다.\r\n",
        "\r\n",
        "    스택구조 : 후입선출(나중에 들어간게 먼저 나오는 구조)\r\n",
        "\r\n",
        " 2. 재귀 함수의 특징?  \r\n",
        " \r\n",
        "   재귀함수는 함수 내에서 다시 자기 자신을 호출한 후 그 함수가 끝날때 까지\r\n",
        "   함수 호출 이후의 명령문을 수행하지 않습니다.\r\n",
        "\r\n",
        " 3. 함수내에서 다른 함수를 호출하는 예제"
      ]
    },
    {
      "cell_type": "code",
      "metadata": {
        "colab": {
          "base_uri": "https://localhost:8080/"
        },
        "id": "8uh55KvRzHGN",
        "outputId": "00a3ffc5-a778-484c-9983-453e6f0a4b37"
      },
      "source": [
        "def hap(a,b):\r\n",
        "    return (a+b)\r\n",
        "\r\n",
        "def gob(a,b):\r\n",
        "    return (a*b)\r\n",
        "\r\n",
        "def hap_gob(a,b):\r\n",
        "    k = hap(a,b)\r\n",
        "    m = gob(a,b)\r\n",
        "    return k + m\r\n",
        "\r\n",
        "print( hap_gob(2,3) )"
      ],
      "execution_count": 16,
      "outputs": [
        {
          "output_type": "stream",
          "text": [
            "11\n"
          ],
          "name": "stdout"
        }
      ]
    },
    {
      "cell_type": "markdown",
      "metadata": {
        "id": "X0ee9B98zgZR"
      },
      "source": [
        ""
      ]
    },
    {
      "cell_type": "markdown",
      "metadata": {
        "id": "W3MlnxyFzf5d"
      },
      "source": [
        " 4. 숫자를 입력하면 1부터 해당숫자까지의 합을 출력하는 함수를 생성하시오\r\n",
        "\r\n",
        "        print( add_func(5) )\r\n",
        "\r\n",
        "        결과:  15"
      ]
    },
    {
      "cell_type": "code",
      "metadata": {
        "colab": {
          "base_uri": "https://localhost:8080/"
        },
        "id": "821_qhfCzkmF",
        "outputId": "fc668d30-e966-4ee7-cdb4-399fe6e27358"
      },
      "source": [
        "def add_func(a):\r\n",
        "    cnt = 0\r\n",
        "    for i in range(1, a+1):\r\n",
        "        cnt += i\r\n",
        "    return cnt\r\n",
        "\r\n",
        "print( add_func(5) )"
      ],
      "execution_count": 17,
      "outputs": [
        {
          "output_type": "stream",
          "text": [
            "15\n"
          ],
          "name": "stdout"
        }
      ]
    },
    {
      "cell_type": "markdown",
      "metadata": {
        "id": "Y1jfXVskzm6d"
      },
      "source": [
        ""
      ]
    },
    {
      "cell_type": "markdown",
      "metadata": {
        "id": "3AKDt0qpzm2f"
      },
      "source": [
        " 5. 위의 add_func 함수를 재귀함수로 구현하시오 !\r\n",
        "    ( 재귀함수를 사용하면 loop 문을 사용하지 않아도 됩니다. )\r\n"
      ]
    },
    {
      "cell_type": "code",
      "metadata": {
        "colab": {
          "base_uri": "https://localhost:8080/"
        },
        "id": "2qeAJWUizosJ",
        "outputId": "a0a524f2-1e1f-4c89-8336-5cf59cb4c24e"
      },
      "source": [
        "def add_func(n):\r\n",
        "    if n == 0:\r\n",
        "        return 0\r\n",
        "    else:\r\n",
        "        return n + add_func(n-1)\r\n",
        "    \r\n",
        "print( add_func(5) )"
      ],
      "execution_count": 19,
      "outputs": [
        {
          "output_type": "stream",
          "text": [
            "15\n"
          ],
          "name": "stdout"
        }
      ]
    },
    {
      "cell_type": "markdown",
      "metadata": {
        "id": "9uv5drWYzt09"
      },
      "source": [
        "    print( add_func(5) )\r\n",
        "            ↓\r\n",
        "       5 + add_func(4)  ( = 5 + 10 )\r\n",
        "                 ↓\r\n",
        "            4 + add_func(3)  ( = 4 + 6 )\r\n",
        "                     ↓\r\n",
        "                3 + add_func(2)  ( = 3 + 3 )\r\n",
        "                          ↓\r\n",
        "                     2 + add_func(1)  ( = 2 + 1 )\r\n",
        "                               ↓\r\n",
        "                          1 + add_func(0)  ( = 1 + 0 )"
      ]
    },
    {
      "cell_type": "markdown",
      "metadata": {
        "id": "dcnaZiawzwfO"
      },
      "source": [
        ""
      ]
    },
    {
      "cell_type": "markdown",
      "metadata": {
        "id": "CDDaZiFnzwXu"
      },
      "source": [
        ""
      ]
    },
    {
      "cell_type": "markdown",
      "metadata": {
        "id": "Ha1MV92pzx84"
      },
      "source": [
        "문제512. factorial 함수를 만드시오\r\n",
        "\r\n",
        "    print( factorial(5) )\r\n",
        "\r\n",
        "    결과: 120"
      ]
    },
    {
      "cell_type": "code",
      "metadata": {
        "colab": {
          "base_uri": "https://localhost:8080/"
        },
        "id": "MkbkgvFHzwHP",
        "outputId": "b31ec989-2ccd-4bcf-bbe0-74c612912602"
      },
      "source": [
        "def factorial(n):\r\n",
        "    if n == 1:\r\n",
        "        return 1\r\n",
        "    else:\r\n",
        "        return n * factorial(n-1)\r\n",
        "    \r\n",
        "print( factorial(5) )"
      ],
      "execution_count": 20,
      "outputs": [
        {
          "output_type": "stream",
          "text": [
            "120\n"
          ],
          "name": "stdout"
        }
      ]
    },
    {
      "cell_type": "markdown",
      "metadata": {
        "id": "OyyyVZe-z2zr"
      },
      "source": [
        ""
      ]
    },
    {
      "cell_type": "markdown",
      "metadata": {
        "id": "Y6MEFs0az2v2"
      },
      "source": [
        ""
      ]
    },
    {
      "cell_type": "markdown",
      "metadata": {
        "id": "MAH7HrCcz2sm"
      },
      "source": [
        "문제513. 위의 factorial 함수를 재귀를 이용하지말고 for loop 문으로 구현하시오 !\r\n"
      ]
    },
    {
      "cell_type": "code",
      "metadata": {
        "colab": {
          "base_uri": "https://localhost:8080/"
        },
        "id": "MpEFSwM6z63V",
        "outputId": "009aeaf8-110d-42e5-ace2-5189a15f1227"
      },
      "source": [
        "def factorial(n):\r\n",
        "    cnt = 1\r\n",
        "    for i in range(1, n+1):\r\n",
        "        cnt *= i\r\n",
        "    return cnt\r\n",
        "    \r\n",
        "print( factorial(5) )"
      ],
      "execution_count": 21,
      "outputs": [
        {
          "output_type": "stream",
          "text": [
            "120\n"
          ],
          "name": "stdout"
        }
      ]
    },
    {
      "cell_type": "markdown",
      "metadata": {
        "id": "SR6MZIQ6z93d"
      },
      "source": [
        ""
      ]
    },
    {
      "cell_type": "markdown",
      "metadata": {
        "id": "sbRadAADz9tT"
      },
      "source": [
        "※ 재귀를 이용하는 2가지 장점\r\n",
        " 1. loop 문을 복잡하게 이용하지 않아도 됩니다.\r\n",
        " 2. 코드가 더 간결해 집니다."
      ]
    },
    {
      "cell_type": "markdown",
      "metadata": {
        "id": "bgOrFLU0z_Ze"
      },
      "source": [
        ""
      ]
    },
    {
      "cell_type": "markdown",
      "metadata": {
        "id": "9oS7sJ_0z_um"
      },
      "source": [
        "문제514. 오라클의 power 함수를 파이썬으로 구현하시오 ! \r\n",
        "\t     (재귀함수이용하지 말고 loop 문으로 구현)\r\n",
        "\r\n",
        "    print ( power(2,3) ) \r\n",
        "\r\n",
        "SQL> \r\n",
        "\r\n",
        "    select  power(2,3) from dual;   # 8 \r\n",
        "    \r\n",
        "\r\n"
      ]
    },
    {
      "cell_type": "code",
      "metadata": {
        "colab": {
          "base_uri": "https://localhost:8080/"
        },
        "id": "vk1AB7pd0FAc",
        "outputId": "dcf53079-2f0c-4fc4-e4fa-b25c32460225"
      },
      "source": [
        "def  power( n1, n2 ):\r\n",
        "    cnt = 1 \r\n",
        "    for  i  in  range(1, n2+1):\r\n",
        "        cnt = cnt * n1 \r\n",
        "    return  cnt \r\n",
        "\r\n",
        "print ( power(2,3) ) "
      ],
      "execution_count": 22,
      "outputs": [
        {
          "output_type": "stream",
          "text": [
            "8\n"
          ],
          "name": "stdout"
        }
      ]
    },
    {
      "cell_type": "markdown",
      "metadata": {
        "id": "A0c5GmuZ0Mja"
      },
      "source": [
        ""
      ]
    },
    {
      "cell_type": "markdown",
      "metadata": {
        "id": "xTUpnZ9G0Md4"
      },
      "source": [
        ""
      ]
    },
    {
      "cell_type": "markdown",
      "metadata": {
        "id": "SQmvBFJr0MYZ"
      },
      "source": [
        "문제515. 위의 power 함수를 loop 문을 쓰지 말고 재귀함수로 구현하시오 !\r\n"
      ]
    },
    {
      "cell_type": "code",
      "metadata": {
        "colab": {
          "base_uri": "https://localhost:8080/"
        },
        "id": "hUs6uKxh0Nfm",
        "outputId": "3ab17d56-06e6-453d-a431-343d34c63bf4"
      },
      "source": [
        "def  power( x , n):\r\n",
        "    if  n == 0:\r\n",
        "        return  1\r\n",
        "    else:\r\n",
        "        return  x * power( x, n-1) \r\n",
        "                               \r\n",
        "print ( power(2,3) )"
      ],
      "execution_count": 23,
      "outputs": [
        {
          "output_type": "stream",
          "text": [
            "8\n"
          ],
          "name": "stdout"
        }
      ]
    },
    {
      "cell_type": "markdown",
      "metadata": {
        "id": "xu5-bt0Q0P_Z"
      },
      "source": [
        "    print ( power(2,3) )\r\n",
        "                ↓\r\n",
        "               2 * power(2, 2 ) \r\n",
        "                       ↓\r\n",
        "                       2 * power(2, 1) \r\n",
        "                                ↓\r\n",
        "                                2 * power(2,0)   \r\n"
      ]
    },
    {
      "cell_type": "markdown",
      "metadata": {
        "id": "x5mBU0ka0Ros"
      },
      "source": [
        ""
      ]
    },
    {
      "cell_type": "markdown",
      "metadata": {
        "id": "1nAwjj-d0Rkh"
      },
      "source": [
        ""
      ]
    },
    {
      "cell_type": "markdown",
      "metadata": {
        "id": "0T7SmHjK0RhF"
      },
      "source": [
        "문제516.  구구단 2단을 아래와 같이 출력하는 함수를 생성하시오 !\r\n",
        "             ( for loop 문 사용해서 만드세요 !) (재귀 x)\r\n",
        "\r\n",
        "    multi_table_2dan(9)\r\n",
        "\r\n",
        "    2 x 1 = 2 \r\n",
        "    2 x 2 = 4\r\n",
        "       :\r\n",
        "    2 x 9 = 18\r\n"
      ]
    },
    {
      "cell_type": "code",
      "metadata": {
        "colab": {
          "base_uri": "https://localhost:8080/"
        },
        "id": "xbQki68n0PxF",
        "outputId": "72826ea5-61af-49b3-db38-472ece8030b7"
      },
      "source": [
        "def multi_table_2dan(n):\r\n",
        "    for i in range(1, n+1):\r\n",
        "        print('2 x ', i, '=', 2*i)\r\n",
        "\r\n",
        "multi_table_2dan(9)"
      ],
      "execution_count": 24,
      "outputs": [
        {
          "output_type": "stream",
          "text": [
            "2 x  1 = 2\n",
            "2 x  2 = 4\n",
            "2 x  3 = 6\n",
            "2 x  4 = 8\n",
            "2 x  5 = 10\n",
            "2 x  6 = 12\n",
            "2 x  7 = 14\n",
            "2 x  8 = 16\n",
            "2 x  9 = 18\n"
          ],
          "name": "stdout"
        }
      ]
    },
    {
      "cell_type": "markdown",
      "metadata": {
        "id": "0h_AoL8p0aM-"
      },
      "source": [
        ""
      ]
    },
    {
      "cell_type": "markdown",
      "metadata": {
        "id": "qhmC_m2D0aKj"
      },
      "source": [
        ""
      ]
    },
    {
      "cell_type": "markdown",
      "metadata": {
        "id": "rrwaasg10aHu"
      },
      "source": [
        "문제517. 두 숫자를 입력해서 함수를 실행하면 두 숫자의 최대공약수가 출력되는 함수를 생성하시오 ! (재귀함수 사용하지 않고 loop 문을 이용해서 하세요)\r\n",
        "\r\n",
        "    print( gcd( 16, 24 ) )\r\n",
        "\r\n",
        "    결과: 8"
      ]
    },
    {
      "cell_type": "code",
      "metadata": {
        "colab": {
          "base_uri": "https://localhost:8080/"
        },
        "id": "rE6hiMwB0dqN",
        "outputId": "74ba0f27-aeec-4294-e270-978c2d512e6d"
      },
      "source": [
        "def gcd(a, b):\r\n",
        "    for i in range(min(a,b), 1, -1):\r\n",
        "        if a % i == 0 and b % i == 0:\r\n",
        "            return i\r\n",
        "\r\n",
        "print(gcd(16, 24))"
      ],
      "execution_count": 25,
      "outputs": [
        {
          "output_type": "stream",
          "text": [
            "8\n"
          ],
          "name": "stdout"
        }
      ]
    },
    {
      "cell_type": "markdown",
      "metadata": {
        "id": "9Nq-M0WG0fc2"
      },
      "source": [
        ""
      ]
    },
    {
      "cell_type": "markdown",
      "metadata": {
        "id": "24SAZrdY0faQ"
      },
      "source": [
        ""
      ]
    },
    {
      "cell_type": "markdown",
      "metadata": {
        "id": "90R9iY650fXh"
      },
      "source": [
        "문제518. 최대공약수를 출력하는 함수를 재귀함수로 구현하세요 ~~\r\n",
        "\r\n",
        "    print( gcd( 16, 24 ) )\r\n",
        "\r\n",
        "    결과: 8"
      ]
    },
    {
      "cell_type": "code",
      "metadata": {
        "colab": {
          "base_uri": "https://localhost:8080/"
        },
        "id": "ZWcKvpWu0lag",
        "outputId": "ec9921cd-2f04-44d5-c5fb-35a971514eb4"
      },
      "source": [
        "def gcd(n1,n2): \r\n",
        "    if n2 == 0:\r\n",
        "        return n1  #\r\n",
        "    else:\r\n",
        "        return gcd(n2, n1%n2)\r\n",
        "    \r\n",
        "print(gcd(16,24))    "
      ],
      "execution_count": 26,
      "outputs": [
        {
          "output_type": "stream",
          "text": [
            "8\n"
          ],
          "name": "stdout"
        }
      ]
    },
    {
      "cell_type": "markdown",
      "metadata": {
        "id": "m5Ywxal00qdO"
      },
      "source": [
        "설명:\r\n",
        "'유클리드 호제법' 활용한 함수 (위키트리 정의)  \r\n",
        "\r\n",
        "    a, b에 대해서 a를 b로 나눈 나머지를 r이라 하면(단, a>b), a와 b의 최대공약수는 b와 r의 최대공약수와 같다.   \r\n",
        "    즉, n1 < n2 일때, n1, n2의 최대공약수 = n2, n2/n1의 나머지 사이의 최대공약수와 같음.\r\n",
        "\r\n",
        "예시)\r\n",
        "1071과 1029의 최대공약수를 구하면,\r\n",
        "\r\n",
        "    1071은 1029로 나누어떨어지지 않기 때문에, 1071을 1029로 나눈 나머지를 구한다. ≫ 42  \r\n",
        "    1029는 42로 나누어떨어지지 않기 때문에, 1029를 42로 나눈 나머지를 구한다. ≫ 21  \r\n",
        "    42는 21로 나누어떨어진다.\r\n",
        "\r\n",
        "\r\n",
        "n1 = 16, n2 = 24  \r\n",
        "n2 = 24 != 0 이므로 else 조건 적용\r\n",
        "\r\n",
        "    1) gcd(24, 16%24) -> n2 = 16%24 -> 16 \r\n",
        "       2)  gcd(24, 16) // n2 = 16 //  16은 !=0 이므로 else 조건 gcd(16,24%16) -> n2 = 24%16 -> 8 ->gcd(16,8) \r\n",
        "           3)  gcd(16,8) // n2 = 8 //  8은 != 0 이므로 else 조건 gcd(8, 16%8) -> n2 = 16%8 ->  0 ->gcd(8,0) \r\n",
        "               4)  gcd(8,0)  // n2 = 0 이므로 if 조건 만족 n1인 8 return\r\n",
        "\r\n",
        " \r\n"
      ]
    },
    {
      "cell_type": "markdown",
      "metadata": {
        "id": "rIfDGxPn0-xw"
      },
      "source": [
        ""
      ]
    },
    {
      "cell_type": "markdown",
      "metadata": {
        "id": "CKmHN01a0-ti"
      },
      "source": [
        ""
      ]
    },
    {
      "cell_type": "markdown",
      "metadata": {
        "id": "Ye840c7a2IJl"
      },
      "source": [
        "**■ 157. 필수 알고리즘6 (LRU 알고리즘)**\r\n",
        "\r\n",
        "   Least Recent Used\r\n",
        "\r\n",
        "    LRU 알고리즘이란 Oracle DATABASE 의 메모리 관리를 효율적으로 하기 위해 \r\n",
        "    고안된 대표적인 알고리즘으로 최신 데이터를 메모리에 유지시키고 \r\n",
        "    오래된 데이터는 메모리에서 내보내게 하는 알고리즘\r\n",
        "\r\n",
        "    메모리에서 조회 --> cache hit\r\n",
        "    메모리에 없어서 디스크에서 조회 --> cache miss\r\n",
        "\r\n",
        "    한번 디스크에서 읽은 데이터를 메모리에 올려놓고 메모리에서 빠르게 데이터를 조회할 수 있도록 LRU 알고리즘을 구현해서 만든 소프트웨어 입니다. \r\n",
        "    그런데 이 메모리 공간이 한정된 공간이다 보니 무한히 데이터를 올릴 수 없어서 오래된 데이터는 메모리에서 빠져나가게 되고 최신 데이터가 \r\n",
        "    그 빠져나간 자리에 올라가게 됩니다. 최근에 내가 검색한 데이터는 다시 검색할 확률이 높은 데이터 이므로 메모리에 오래 두도록 하고 \r\n",
        "    예전에 검색한 데이터는 메모리에서 빠져나가게 합니다.\r\n",
        "\r\n",
        "    스택 : 후입선출\r\n",
        "    큐 : 선입선출"
      ]
    },
    {
      "cell_type": "markdown",
      "metadata": {
        "id": "OqhGeHVG2H_i"
      },
      "source": [
        ""
      ]
    },
    {
      "cell_type": "markdown",
      "metadata": {
        "id": "SiaAd7Ry2H2p"
      },
      "source": [
        ""
      ]
    },
    {
      "cell_type": "markdown",
      "metadata": {
        "id": "R3swpncM1lXG"
      },
      "source": [
        "문제519. 구구단 2단을 재귀함수로 출력하시오 !\r\n",
        "\r\n",
        "    multi_table_2(9)\r\n",
        "\r\n",
        "    2 x  1 = 2\r\n",
        "    2 x  2 = 4\r\n",
        "    2 x  3 = 6\r\n",
        "    2 x  4 = 8\r\n",
        "    2 x  5 = 10\r\n",
        "    2 x  6 = 12\r\n",
        "    2 x  7 = 14\r\n",
        "    2 x  8 = 16\r\n",
        "    2 x  9 = 18"
      ]
    },
    {
      "cell_type": "code",
      "metadata": {
        "colab": {
          "base_uri": "https://localhost:8080/"
        },
        "id": "H3ZSKK5m0qRt",
        "outputId": "c76ee66d-d827-4c7f-e1e8-cec9294408fe"
      },
      "source": [
        "def multi_table_2(n):\r\n",
        "    if n == 0:\r\n",
        "        return            # 함수를 종료시키기 위해 사용\r\n",
        "    else:\r\n",
        "        multi_table_2(n-1)\r\n",
        "        print('2 x ', n, '=', 2 * n)\r\n",
        "        \r\n",
        "multi_table_2(9) "
      ],
      "execution_count": 27,
      "outputs": [
        {
          "output_type": "stream",
          "text": [
            "2 x  1 = 2\n",
            "2 x  2 = 4\n",
            "2 x  3 = 6\n",
            "2 x  4 = 8\n",
            "2 x  5 = 10\n",
            "2 x  6 = 12\n",
            "2 x  7 = 14\n",
            "2 x  8 = 16\n",
            "2 x  9 = 18\n"
          ],
          "name": "stdout"
        }
      ]
    },
    {
      "cell_type": "markdown",
      "metadata": {
        "id": "XHYVIopa15Qp"
      },
      "source": [
        "    n = 9\r\n",
        "    else:\r\n",
        "        multi_table_2(8)\r\n",
        "        2 x  9 = 18\r\n",
        "         ↓\r\n",
        "        n = 8\r\n",
        "        else:\r\n",
        "            multi_table_2(7)\r\n",
        "            2 x  8 = 16\r\n",
        "              :\r\n",
        "              :\r\n",
        "             ↓\r\n",
        "            n = 1\r\n",
        "            else:\r\n",
        "                multi_table_2(0)\r\n",
        "                2 x  1 = 2\r\n",
        "\r\n",
        "이런식으로 스택구조가 결합된 함수이기 때문에 먼저 들어간 데이터가 가장 마지막에 나오는 구조  \r\n",
        "multi_table_2(0) 은 함수가 끝나는 시점으로 아무것도 출력되지 않게 정의하였고\r\n",
        "2 x 1 = 2 부터 다시 출력하여 2 x  9 = 18 까지 출력"
      ]
    }
  ]
}