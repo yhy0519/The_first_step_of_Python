{
  "nbformat": 4,
  "nbformat_minor": 0,
  "metadata": {
    "colab": {
      "name": "python3_11_26.ipynb",
      "provenance": [],
      "collapsed_sections": [],
      "authorship_tag": "ABX9TyOCV54MoifSthu6CEo4bHBY",
      "include_colab_link": true
    },
    "kernelspec": {
      "name": "python3",
      "display_name": "Python 3"
    }
  },
  "cells": [
    {
      "cell_type": "markdown",
      "metadata": {
        "id": "view-in-github",
        "colab_type": "text"
      },
      "source": [
        "<a href=\"https://colab.research.google.com/github/yhy0519/The_first_step_of_Python/blob/main/python3_11_26.ipynb\" target=\"_parent\"><img src=\"https://colab.research.google.com/assets/colab-badge.svg\" alt=\"Open In Colab\"/></a>"
      ]
    },
    {
      "cell_type": "markdown",
      "metadata": {
        "id": "yx8soHsvFpPK"
      },
      "source": [
        "■ 19. 대입 연산자 이해하기 (=)\n",
        "\n",
        "변수에 값을 대입하는데 사용되는 기호는 = 입니다.  \n",
        "수학에서  = 은 = 왼쪽과 오른쪽의 값이 같다는 의미를 가지지만 파이썬을 포함한 \n",
        "컴퓨터 프로그래밍 언어에서  \n",
        " = 은 = 왼쪽변수에 = 오른쪽의 값을 대입하겠다는 의미입니다.\n",
        "\n",
        "예제:  \n",
        "a = 7\n",
        "\n",
        "** 대입 연산자와 일반 연산자를 비교\n",
        " 1.  = : 대입 연산사\n",
        " 2. == : 같다.\n",
        " 3. in : 여러개의 값을 비교"
      ]
    },
    {
      "cell_type": "markdown",
      "metadata": {
        "id": "CHAPerocFvoR"
      },
      "source": [
        "문제53. 주사위 1개를 10번 던지시오!"
      ]
    },
    {
      "cell_type": "code",
      "metadata": {
        "colab": {
          "base_uri": "https://localhost:8080/"
        },
        "id": "GQ5KRpvQI1oC",
        "outputId": "1aa8b65e-8af3-4e52-e52c-0fe2e65d1ac8"
      },
      "source": [
        "import random\n",
        "\n",
        "dice = [ 1, 2, 3, 4, 5, 6 ]\n",
        "\n",
        "for i in range(1, 11):\n",
        "  result = random.choice(dice)\n",
        "  print(result)"
      ],
      "execution_count": 4,
      "outputs": [
        {
          "output_type": "stream",
          "text": [
            "1\n",
            "1\n",
            "2\n",
            "5\n",
            "1\n",
            "1\n",
            "1\n",
            "4\n",
            "4\n",
            "5\n"
          ],
          "name": "stdout"
        }
      ]
    },
    {
      "cell_type": "markdown",
      "metadata": {
        "id": "xYC8bUrOGEli"
      },
      "source": [
        "문제54. 주사위를 10번 던져서 주사위의 눈이 3이 나오는 횟수를 출력하시오!\n"
      ]
    },
    {
      "cell_type": "code",
      "metadata": {
        "colab": {
          "base_uri": "https://localhost:8080/"
        },
        "id": "5p8NMc5ZGJaK",
        "outputId": "d80f0413-249c-41b6-b45b-55427760cf6b"
      },
      "source": [
        "import random\n",
        "\n",
        "dice = [ 1, 2, 3, 4, 5, 6 ]\n",
        "cnt = 0                        # 횟수를 담기 위한 변수를 cnt 라는 이름으로 만들고 숫자 0을 할당한다.\n",
        "\n",
        "for i in range(1, 11):         # 아래의 실행문을 10번 수행하겠다.\n",
        "  result = random.choice(dice)\n",
        "  if result == 3:\n",
        "    cnt = cnt + 1              # 4칸 떼고 들어가야 if 문의 실행문이 된다. if 문의 영향권 안에 들어가게 된다. \n",
        "  \n",
        "print(cnt)                     # print 는 변수안에 들어있는 값을 출력하는 함수"
      ],
      "execution_count": 11,
      "outputs": [
        {
          "output_type": "stream",
          "text": [
            "3\n"
          ],
          "name": "stdout"
        }
      ]
    },
    {
      "cell_type": "markdown",
      "metadata": {
        "id": "tonf8e58Gswx"
      },
      "source": [
        "문제55. 주사위를 10번 던져서 주사위의 눈이 짝수가 나오는 횟수를 출력하시오!\n"
      ]
    },
    {
      "cell_type": "code",
      "metadata": {
        "colab": {
          "base_uri": "https://localhost:8080/"
        },
        "id": "agOkzxj4GuNF",
        "outputId": "6969bd3d-2776-44ed-b979-d7c7b0f76bba"
      },
      "source": [
        "import random\n",
        "\n",
        "dice = [ 1, 2, 3, 4, 5, 6 ]\n",
        "cnt = 0\n",
        "\n",
        "for i in range(1, 11):\n",
        "  result = random.choice(dice)\n",
        "  if result in (2,4,6):   # 여러개의 값을 비교할 때 in 을 사용\n",
        "    cnt = cnt + 1\n",
        "\n",
        "print(cnt)"
      ],
      "execution_count": 14,
      "outputs": [
        {
          "output_type": "stream",
          "text": [
            "4\n"
          ],
          "name": "stdout"
        }
      ]
    },
    {
      "cell_type": "markdown",
      "metadata": {
        "id": "u5xqOE3YHB-r"
      },
      "source": [
        "문제56. 주사위 2개를 동시에 던져 두개의 눈의 합이 10이 되는 횟수를 출력하시오!\n",
        "\t   (주사위 2개를 20번 던지세요!)"
      ]
    },
    {
      "cell_type": "code",
      "metadata": {
        "colab": {
          "base_uri": "https://localhost:8080/"
        },
        "id": "eCaibyxrHDzV",
        "outputId": "dac28016-4b5f-4765-ba3c-f68310cd4e02"
      },
      "source": [
        "import random\n",
        "\n",
        "dice1 = [ 1, 2, 3, 4, 5, 6 ]\n",
        "dice2 = [ 1, 2, 3, 4, 5, 6 ]\n",
        "cnt = 0\n",
        "\n",
        "for i in range(1, 21):\n",
        "  result1 = random.choice(dice1)\n",
        "  result2 = random.choice(dice2)\n",
        "  if result1 + result2 == 10:\n",
        "    cnt = cnt + 1\n",
        "\n",
        "print(cnt)"
      ],
      "execution_count": 20,
      "outputs": [
        {
          "output_type": "stream",
          "text": [
            "5\n"
          ],
          "name": "stdout"
        }
      ]
    },
    {
      "cell_type": "markdown",
      "metadata": {
        "id": "475gUYf9Yre3"
      },
      "source": [
        "문제57. 주사위 2개를 동시에 던져서 두 눈의 합이 10이 되는 확률을 출력하시오!\n",
        "\t   (주사위 100번 던지세요 ~)"
      ]
    },
    {
      "cell_type": "code",
      "metadata": {
        "colab": {
          "base_uri": "https://localhost:8080/"
        },
        "id": "UGOG_ZCSYu3z",
        "outputId": "da9aeb59-6cb9-4465-9acc-48f6abe9db04"
      },
      "source": [
        "import random\n",
        "\n",
        "dice1 = [ 1, 2, 3, 4, 5, 6 ]\n",
        "dice2 = [ 1, 2, 3, 4, 5, 6 ]\n",
        "cnt = 0\n",
        "\n",
        "for i in range(1, 101):\n",
        "  result1 = random.choice(dice1)\n",
        "  result2 = random.choice(dice2)\n",
        "  if result1 + result2 == 10:\n",
        "    cnt = cnt + 1\n",
        "\n",
        "print(cnt/100)"
      ],
      "execution_count": 22,
      "outputs": [
        {
          "output_type": "stream",
          "text": [
            "0.13\n"
          ],
          "name": "stdout"
        }
      ]
    },
    {
      "cell_type": "markdown",
      "metadata": {
        "id": "230gNaD9Y0hc"
      },
      "source": [
        "■ 20. 사칙 연산자 이해하기( , -, *, /, **)\n",
        "\n",
        "** 사칙 연산자를 파이썬과 오라클과 비교\n",
        "\n",
        "오라클 | 파이썬  \n",
        "    + |  +  \n",
        "    -\t| -  \n",
        "    *\t| *  \n",
        " / |\t /  \n",
        " mod\t| %  \n",
        "power\t| power(2,3), 2**3  \n",
        "sqrt |\tsqrt  \n",
        "log2 |\tlog2 (밑수가 2인 로그함수)  \n",
        "log10 |\tlog10 (밑수가 10인 로그함수)"
      ]
    },
    {
      "cell_type": "markdown",
      "metadata": {
        "id": "isUKoOLUnh0D"
      },
      "source": [
        "예제1. 밑수가 10이고 진수가 10인 log 값을 출력하시오\n",
        "\t  (log 함수를 사용하려면 math 모듈을 import 해야합니다.)"
      ]
    },
    {
      "cell_type": "code",
      "metadata": {
        "colab": {
          "base_uri": "https://localhost:8080/"
        },
        "id": "j9YaXXDxnity",
        "outputId": "c05f96ba-1c5b-41a0-9f70-f93ba46ae4c8"
      },
      "source": [
        "import math                # 수학에 관련한 함수들이 다 코딩되어있는 모듈 math 를 이 코드에서 사용하겠다.\n",
        "\n",
        "print( math.log10(10) )    # 모듈이름.함수이름(매개변수값)"
      ],
      "execution_count": 23,
      "outputs": [
        {
          "output_type": "stream",
          "text": [
            "1.0\n"
          ],
          "name": "stdout"
        }
      ]
    },
    {
      "cell_type": "markdown",
      "metadata": {
        "id": "KUj_0axxnvyS"
      },
      "source": [
        "문제58. 아래의 수학식을 파이썬으로 구현하시오!  \n",
        "2 x log2(10) + 1/3 x log2(10)"
      ]
    },
    {
      "cell_type": "code",
      "metadata": {
        "colab": {
          "base_uri": "https://localhost:8080/"
        },
        "id": "5XNJzA3VnwVT",
        "outputId": "e9d91924-04a8-4849-b3dd-6b65423f9a04"
      },
      "source": [
        "import math\n",
        "\n",
        "print( 2 * math.log2(10) + 1/3 * math.log2(10) )"
      ],
      "execution_count": 26,
      "outputs": [
        {
          "output_type": "stream",
          "text": [
            "7.751165554737178\n"
          ],
          "name": "stdout"
        }
      ]
    },
    {
      "cell_type": "markdown",
      "metadata": {
        "id": "Cq3mN3WQoAaD"
      },
      "source": [
        "■ 21. 연산자 축약 이해하기( +=, -=, *=, /=)\n",
        "\n",
        "변수의 값을 사칙 연산하여 그 결과를 동일한 변수에 대입할 때 연산자를 축약해서 대입할 수 있습니다.\n",
        "\n",
        "예: cnt = cnt + 1 을 다음과 같이 쓸 수 있습니다.  \n",
        "cnt += 1\n",
        "\n",
        "예제:   \n",
        "cnt = cnt + 1 ----> cnt += 1 과 같다.  \n",
        "cnt = cnt - 1  ----> cnt -= 1 과 같다.  \n",
        "cnt = cnt * 2  ----> cnt *= 2 와 같다.  \n",
        "cnt = cnt / 4 ----> cnt /= 4 와 같다."
      ]
    },
    {
      "cell_type": "markdown",
      "metadata": {
        "id": "M3bnDgfVoGhs"
      },
      "source": [
        "문제59. 주사위를 10번 던져서 주사위의 눈이 3이 나오는 횟수를 출력하시오!\n",
        "\t   (축약 연산자를 이용해서 출력하시오 !)\n"
      ]
    },
    {
      "cell_type": "code",
      "metadata": {
        "colab": {
          "base_uri": "https://localhost:8080/"
        },
        "id": "AW4S3iR9oIDB",
        "outputId": "6a56a7aa-87ba-4b01-e215-b9f6c1c404ce"
      },
      "source": [
        "import random\n",
        "\n",
        "dice = [ 1, 2, 3, 4, 5, 6 ]\n",
        "cnt = 0\n",
        "\n",
        "for i in range(1, 11):\n",
        "  result = random.choice(dice)\n",
        "  if result == 3:\n",
        "    cnt += 1\n",
        "  \n",
        "print(cnt)"
      ],
      "execution_count": 27,
      "outputs": [
        {
          "output_type": "stream",
          "text": [
            "2\n"
          ],
          "name": "stdout"
        }
      ]
    },
    {
      "cell_type": "markdown",
      "metadata": {
        "id": "OVyeFmwIoXEa"
      },
      "source": [
        "■ 22. True와 False 이해하기\n",
        "\n",
        "참을 나타내는 것이 True 이고 거짓을 나타내는 것이 False 입니다.\n",
        "조건을 판단해서 그 조건이 참이면 True, 거짓이면 False 를 리턴합니다.\n",
        "True 는 1, False 는 0 값을 가집니다. 참과 거짓을 나타낼때는 True 와 False 로 표현하면\n",
        "더 직관적이고 프로그램 코드 가독성을 높일 수 있습니다.\n",
        "\n",
        "예제:"
      ]
    },
    {
      "cell_type": "code",
      "metadata": {
        "colab": {
          "base_uri": "https://localhost:8080/"
        },
        "id": "dK4Kl4eQob-M",
        "outputId": "0a419360-b44c-4212-d353-e61be9a590c5"
      },
      "source": [
        "a = True\n",
        "b = False\n",
        "print(a)\n",
        "print(1 == 1) # 결과가 True 로 출력됩니다.\n",
        "print(1 == 2) # 결과가 False 로 출력됩니다."
      ],
      "execution_count": 28,
      "outputs": [
        {
          "output_type": "stream",
          "text": [
            "True\n",
            "True\n",
            "False\n"
          ],
          "name": "stdout"
        }
      ]
    },
    {
      "cell_type": "markdown",
      "metadata": {
        "id": "KYQvTfARohs6"
      },
      "source": [
        "■ 23. 관계 연산자 이해하기(==, !=, ＜, ＜=, ＞, ＞=)\n",
        "\n",
        "오라클 |\t파이썬  \n",
        "     >\t| >  \n",
        "    >=\t| >=  \n",
        " <\t | <  \n",
        " <=\t| <=  \n",
        " =\t| ==  \n",
        " !=\t| !=  \n",
        " in\t| in  "
      ]
    },
    {
      "cell_type": "markdown",
      "metadata": {
        "id": "VhWOtow6owlp"
      },
      "source": [
        "문제60. 주사위를 20번 던져서 주사위의 눈이 4이상 나오는 횟수를 출력하시오!\n"
      ]
    },
    {
      "cell_type": "code",
      "metadata": {
        "colab": {
          "base_uri": "https://localhost:8080/"
        },
        "id": "a-q_A-EToxmZ",
        "outputId": "39e532fc-5e84-42d9-86c4-d34e3224a48c"
      },
      "source": [
        "import random\n",
        "\n",
        "dice = [ 1, 2, 3, 4, 5, 6 ]\n",
        "cnt = 0\n",
        "\n",
        "for i in range(1, 21):\n",
        "  result = random.choice(dice)\n",
        "  if result >= 4:\n",
        "    cnt += 1\n",
        "  \n",
        "print(cnt)"
      ],
      "execution_count": 31,
      "outputs": [
        {
          "output_type": "stream",
          "text": [
            "9\n"
          ],
          "name": "stdout"
        }
      ]
    },
    {
      "cell_type": "markdown",
      "metadata": {
        "id": "Wnw6YCrCo4_6"
      },
      "source": [
        "문제61. (통계 정규분포 문제) 주사위 한개를 288회 던져서 주사위의 눈이 5 이상 나오는\n",
        "\t    횟수를 출력하시오!"
      ]
    },
    {
      "cell_type": "code",
      "metadata": {
        "colab": {
          "base_uri": "https://localhost:8080/"
        },
        "id": "t2RtDakko_Uy",
        "outputId": "75323e0c-65bb-41c0-88c9-7e0b0240c45f"
      },
      "source": [
        "import random\n",
        "\n",
        "dice = [ 1, 2, 3, 4, 5, 6 ]\n",
        "cnt = 0\n",
        "\n",
        "for i in range(1, 289):\n",
        "  result = random.choice(dice)\n",
        "  if result >= 5:\n",
        "    cnt += 1\n",
        "  \n",
        "print(cnt)"
      ],
      "execution_count": 32,
      "outputs": [
        {
          "output_type": "stream",
          "text": [
            "98\n"
          ],
          "name": "stdout"
        }
      ]
    },
    {
      "cell_type": "markdown",
      "metadata": {
        "id": "zuTRd5ufpI8y"
      },
      "source": [
        "문제62. (통계 정규분포 문제) 주사위 한개를 288회 던져서 주사위의 눈이 5 이상 나오는\n",
        "\t    확률을 출력하시오!"
      ]
    },
    {
      "cell_type": "code",
      "metadata": {
        "colab": {
          "base_uri": "https://localhost:8080/"
        },
        "id": "p476X3ftpKWy",
        "outputId": "42f91792-ddee-4cc2-c936-ce180016c0e3"
      },
      "source": [
        "import random\n",
        "\n",
        "dice = [ 1, 2, 3, 4, 5, 6 ]\n",
        "cnt = 0\n",
        "\n",
        "for i in range(1, 289):\n",
        "  result = random.choice(dice)\n",
        "  if result >= 5:\n",
        "    cnt += 1\n",
        "  \n",
        "print(cnt/288)"
      ],
      "execution_count": 33,
      "outputs": [
        {
          "output_type": "stream",
          "text": [
            "0.3611111111111111\n"
          ],
          "name": "stdout"
        }
      ]
    },
    {
      "cell_type": "markdown",
      "metadata": {
        "id": "MaGyT1lApO6i"
      },
      "source": [
        "문제63. 주사위 한개를 288회 던질때 5 이상의 눈이 나올 횟수를 출력하는데\n",
        "\t   이 작업을 100번해서 횟수 100개가 출력되게하시오!  \n",
        "               힌트: 문제 61번 코드를 100번 수행하는 것입니다.   \n",
        " 주사위 한개를 288회 던져서 주사위의 눈이 5이상 나오는 횟수를 출력"
      ]
    },
    {
      "cell_type": "code",
      "metadata": {
        "id": "5kkuCdtVpuN6"
      },
      "source": [
        "import random\n",
        "\n",
        "dice = [ 1, 2, 3, 4, 5, 6 ]\n",
        "\n",
        "for j in range(1, 101):\n",
        "  cnt = 0\n",
        "  for i in range(1, 289):\n",
        "    result = random.choice(dice)\n",
        "    if result >= 5:\n",
        "      cnt += 1\n",
        "  print(cnt)"
      ],
      "execution_count": null,
      "outputs": []
    },
    {
      "cell_type": "markdown",
      "metadata": {
        "id": "7RYr7G-iqB4Q"
      },
      "source": [
        "문제64. 위에서 출력된 횟수 100개를 비어있는 리스트 a 리스트에 담고\n",
        "\t    a 리스트의 갯수를 출력하시오 ! (a.append, len(a) 사용)"
      ]
    },
    {
      "cell_type": "code",
      "metadata": {
        "colab": {
          "base_uri": "https://localhost:8080/"
        },
        "id": "ZnTazNQUqEYB",
        "outputId": "666600b3-346d-49ad-afcf-b191a6a71850"
      },
      "source": [
        "import random\n",
        "\n",
        "dice = [ 1, 2, 3, 4, 5, 6 ]\n",
        "a = []\n",
        "\n",
        "for j in range(1, 101):\n",
        "  cnt = 0\n",
        "  for i in range(1, 289):\n",
        "    result = random.choice(dice)\n",
        "    if result >= 5:\n",
        "      cnt += 1\n",
        "  a.append(cnt)\n",
        "\n",
        "print(len(a))"
      ],
      "execution_count": 35,
      "outputs": [
        {
          "output_type": "stream",
          "text": [
            "100\n"
          ],
          "name": "stdout"
        }
      ]
    },
    {
      "cell_type": "markdown",
      "metadata": {
        "id": "VIfk0hkXqciC"
      },
      "source": [
        "문제.65 동전을 100 번 던져서 앞면이 나오는 횟수를 출력하시오!"
      ]
    },
    {
      "cell_type": "code",
      "metadata": {
        "colab": {
          "base_uri": "https://localhost:8080/"
        },
        "id": "xKKyC7SEqdTq",
        "outputId": "1bf4e742-5c07-4382-a317-6f45c3c6c7c6"
      },
      "source": [
        "import random\n",
        "\n",
        "coin = ['앞면', '뒷면']\n",
        "cnt = 0\n",
        "\n",
        "for i in range(1, 101):\n",
        "  result = random.choice(coin)\n",
        "  if result == '앞면':\n",
        "    cnt += 1\n",
        "  \n",
        "print(cnt)"
      ],
      "execution_count": 37,
      "outputs": [
        {
          "output_type": "stream",
          "text": [
            "52\n"
          ],
          "name": "stdout"
        }
      ]
    },
    {
      "cell_type": "markdown",
      "metadata": {
        "id": "39hM9-C-qqWZ"
      },
      "source": [
        "문제66. 동전 한개와 주사위 한개를 동시에 100번 던져서 동전이 앞면이 나오고 주사위의 눈이\n",
        "\t   5 가 나오는 횟수를 출력하시오!"
      ]
    },
    {
      "cell_type": "code",
      "metadata": {
        "colab": {
          "base_uri": "https://localhost:8080/"
        },
        "id": "cXYtOu63qtFv",
        "outputId": "c805fb19-d557-46ef-ddef-725fb0910565"
      },
      "source": [
        "import random\n",
        "\n",
        "coin = ['앞면', '뒷면']\n",
        "dice = [ 1, 2, 3, 4, 5, 6 ]\n",
        "cnt = 0\n",
        "\n",
        "for i in range(1, 101):\n",
        "  result1 = random.choice(coin)\n",
        "  result2 = random.choice(dice)\n",
        "  if result1 == '앞면' and result2 == 5:\n",
        "    cnt += 1\n",
        "  \n",
        "print(cnt)"
      ],
      "execution_count": 38,
      "outputs": [
        {
          "output_type": "stream",
          "text": [
            "11\n"
          ],
          "name": "stdout"
        }
      ]
    },
    {
      "cell_type": "markdown",
      "metadata": {
        "id": "ZQz6x1JEq_Qi"
      },
      "source": [
        "문제67. 동전 한개와 주사위 한개를 동시에 100번 던져서 동전이 앞면이 나오고 주사위의 눈이\n",
        "\t   5 가 나오는 횟수를 출력하는 작업을 50번해서 횟수가 50개가 출력되게하시오!"
      ]
    },
    {
      "cell_type": "code",
      "metadata": {
        "id": "yOJ6eIDtrBQJ"
      },
      "source": [
        "import random\n",
        "\n",
        "coin = ['앞면', '뒷면']\n",
        "dice = [ 1, 2, 3, 4, 5, 6 ]\n",
        "\n",
        "for j in range(1, 51):\n",
        "  cnt = 0\n",
        "  for i in range(1, 101):\n",
        "    result1 = random.choice(coin)\n",
        "    result2 = random.choice(dice)\n",
        "    if result1 == '앞면' and result2 == 5:\n",
        "      cnt += 1\n",
        "  print(cnt)"
      ],
      "execution_count": null,
      "outputs": []
    },
    {
      "cell_type": "markdown",
      "metadata": {
        "id": "q98t98JOrMNq"
      },
      "source": [
        "문제68. 위의 횟수 50개를 비어 있는 리스트 a 리스트에 담으시오!"
      ]
    },
    {
      "cell_type": "code",
      "metadata": {
        "id": "IUugHHISrM0N"
      },
      "source": [
        "import random\n",
        "\n",
        "coin = ['앞면', '뒷면']\n",
        "dice = [ 1, 2, 3, 4, 5, 6 ]\n",
        "a = []\n",
        "\n",
        "for j in range(1, 51):\n",
        "  cnt = 0\n",
        "  for i in range(1, 101):\n",
        "    result1 = random.choice(coin)\n",
        "    result2 = random.choice(dice)\n",
        "    if result1 == '앞면' and result2 == 5:\n",
        "      cnt += 1\n",
        "  a.append(cnt)"
      ],
      "execution_count": 41,
      "outputs": []
    },
    {
      "cell_type": "markdown",
      "metadata": {
        "id": "q7TsjH2HrUq-"
      },
      "source": [
        "문제69. 담겨진 a 리스트의 요소들의 갯수를 확인하시오 !"
      ]
    },
    {
      "cell_type": "code",
      "metadata": {
        "colab": {
          "base_uri": "https://localhost:8080/"
        },
        "id": "yFdpBSq8rVow",
        "outputId": "35d971b5-7b92-4ccf-a58e-40a45df2e0e8"
      },
      "source": [
        "import random\n",
        "\n",
        "coin = ['앞면', '뒷면']\n",
        "dice = [ 1, 2, 3, 4, 5, 6 ]\n",
        "a = []\n",
        "\n",
        "for j in range(1, 51):\n",
        "  cnt = 0\n",
        "  for i in range(1, 101):\n",
        "    result1 = random.choice(coin)\n",
        "    result2 = random.choice(dice)\n",
        "    if result1 == '앞면' and result2 == 5:\n",
        "      cnt += 1\n",
        "  a.append(cnt)\n",
        "\n",
        "print(len(a))"
      ],
      "execution_count": 42,
      "outputs": [
        {
          "output_type": "stream",
          "text": [
            "50\n"
          ],
          "name": "stdout"
        }
      ]
    },
    {
      "cell_type": "markdown",
      "metadata": {
        "id": "qQBMWrkHrmdS"
      },
      "source": [
        "예제1. 아래의 리스트의 요소들의 평균값을 출력하시오  \n",
        "b = [ 7, 4, 5, 3, 2  ] "
      ]
    },
    {
      "cell_type": "code",
      "metadata": {
        "colab": {
          "base_uri": "https://localhost:8080/"
        },
        "id": "6BXTwdAfrnyy",
        "outputId": "1c373465-a185-4041-a4a9-c552f2adadd5"
      },
      "source": [
        "import numpy as np\n",
        "b = [ 7, 4, 5, 3, 2 ] \n",
        "\n",
        "print(np.mean(b))"
      ],
      "execution_count": 43,
      "outputs": [
        {
          "output_type": "stream",
          "text": [
            "4.2\n"
          ],
          "name": "stdout"
        }
      ]
    },
    {
      "cell_type": "markdown",
      "metadata": {
        "id": "KTm7Xhtcrygc"
      },
      "source": [
        "예제2. 아래의 리스트의 요소들의 평균값을 출력하시오 !\n",
        "\t  (numpy 사용하지 않고 수행하시오!)  \n",
        "b = [ 7, 4, 5, 3, 2  ] "
      ]
    },
    {
      "cell_type": "code",
      "metadata": {
        "colab": {
          "base_uri": "https://localhost:8080/"
        },
        "id": "BiCQneIgry1v",
        "outputId": "e7b7178c-eb9a-4437-a945-812f51a44779"
      },
      "source": [
        "b = [ 7, 4, 5, 3, 2 ]\n",
        "cnt = 0\n",
        "\n",
        "for i in b:\n",
        "  cnt += i\n",
        "\n",
        "print(cnt/len(b))"
      ],
      "execution_count": 45,
      "outputs": [
        {
          "output_type": "stream",
          "text": [
            "4.2\n"
          ],
          "name": "stdout"
        }
      ]
    },
    {
      "cell_type": "code",
      "metadata": {
        "colab": {
          "base_uri": "https://localhost:8080/"
        },
        "id": "-MN5uKm-sIVa",
        "outputId": "f925a082-56cf-44d3-d388-c4b40afe6718"
      },
      "source": [
        "b = [ 7, 4, 5, 3, 2 ] \n",
        "sum(b)/5"
      ],
      "execution_count": 46,
      "outputs": [
        {
          "output_type": "execute_result",
          "data": {
            "text/plain": [
              "4.2"
            ]
          },
          "metadata": {
            "tags": []
          },
          "execution_count": 46
        }
      ]
    },
    {
      "cell_type": "markdown",
      "metadata": {
        "id": "i8SYsu92rYsh"
      },
      "source": [
        "문제70. 문제69번 a 리스트의 요소들의 평균값을 출력하시오\n",
        "\t   (numpy 를 이용해서 구현하시오 !)  \n",
        "numpy:\t딥러닝에 필요한 수학 연산을 쉽게 구현하기 위해서 만들어 놓은 모듈(특정 목절을 위해 만든 코드의 집합)"
      ]
    },
    {
      "cell_type": "code",
      "metadata": {
        "colab": {
          "base_uri": "https://localhost:8080/"
        },
        "id": "LTDgBkQuretl",
        "outputId": "c9af892e-1090-4119-da02-f213283a47c2"
      },
      "source": [
        "import random\n",
        "import numpy as np\n",
        "\n",
        "coin = ['앞면', '뒷면']\n",
        "dice = [ 1, 2, 3, 4, 5, 6 ]\n",
        "a = []\n",
        "\n",
        "for j in range(1, 51):\n",
        "  cnt = 0\n",
        "  for i in range(1, 101):\n",
        "    result1 = random.choice(coin)\n",
        "    result2 = random.choice(dice)\n",
        "    if result1 == '앞면' and result2 == 5:\n",
        "      cnt += 1\n",
        "  a.append(cnt)\n",
        "\n",
        "print(np.mean(a))     # 평균\n",
        "print(np.var(a))      # 분산\n",
        "print(np.std(a))      # 표준편차"
      ],
      "execution_count": 48,
      "outputs": [
        {
          "output_type": "stream",
          "text": [
            "8.16\n",
            "5.774400000000001\n",
            "2.4029981273400947\n"
          ],
          "name": "stdout"
        }
      ]
    },
    {
      "cell_type": "markdown",
      "metadata": {
        "id": "EvwbObbYsaJw"
      },
      "source": [
        "(아래의 코드는 문제70 번을 numpy, sum 이용하지 않고 구현. 예제2 활용해서 혼자 해본것)"
      ]
    },
    {
      "cell_type": "code",
      "metadata": {
        "colab": {
          "base_uri": "https://localhost:8080/"
        },
        "id": "kGzkpIefsc2k",
        "outputId": "1a1a067a-72d5-4286-a73c-4a568a7c4017"
      },
      "source": [
        "import random\n",
        "\n",
        "coin = ['앞면', '뒷면']\n",
        "dice = [ 1, 2, 3, 4, 5, 6 ]\n",
        "a = []\n",
        "b = 0\n",
        "\n",
        "for j in range(1, 51):\n",
        "    cnt = 0   \n",
        "    for i in range(1, 101):\n",
        "        result1 = random.choice(coin)\n",
        "        result2 = random.choice(dice)\n",
        "        if result1 == '앞면' and result2 == 5:\n",
        "            cnt += 1\n",
        "    a.append(cnt)\n",
        "    b += a[j-1]\n",
        "\n",
        "print(b/len(a))"
      ],
      "execution_count": 49,
      "outputs": [
        {
          "output_type": "stream",
          "text": [
            "8.76\n"
          ],
          "name": "stdout"
        }
      ]
    },
    {
      "cell_type": "markdown",
      "metadata": {
        "id": "KafzjXDMsnQd"
      },
      "source": [
        "문제71. 문제64번 코드를 가져와서 a 리스트의 요소들의 평군과 분산과 표준편차를 출력하시오!\n"
      ]
    },
    {
      "cell_type": "code",
      "metadata": {
        "colab": {
          "base_uri": "https://localhost:8080/"
        },
        "id": "A24vf7OLsoXl",
        "outputId": "796ce95c-f713-43b4-8c1c-ba3f40ec675c"
      },
      "source": [
        "import random\n",
        "import numpy as np\n",
        "\n",
        "dice = [ 1, 2, 3, 4, 5, 6 ]\n",
        "a = []\n",
        "\n",
        "for j in range(1, 101):\n",
        "  cnt = 0\n",
        "  for i in range(1, 289):\n",
        "    result = random.choice(dice)\n",
        "    if result >= 5:\n",
        "      cnt += 1\n",
        "  a.append(cnt)\n",
        "\n",
        "print(np.mean(a))\n",
        "print(np.var(a))\n",
        "print(np.std(a))"
      ],
      "execution_count": 50,
      "outputs": [
        {
          "output_type": "stream",
          "text": [
            "95.73\n",
            "76.47710000000002\n",
            "8.745118638417663\n"
          ],
          "name": "stdout"
        }
      ]
    },
    {
      "cell_type": "markdown",
      "metadata": {
        "id": "GIODTz5zs2lJ"
      },
      "source": [
        "문제72. 위에 a 리스트에 담긴 요소 100개를 출력하시오!"
      ]
    },
    {
      "cell_type": "code",
      "metadata": {
        "colab": {
          "base_uri": "https://localhost:8080/"
        },
        "id": "mUCyoUk8s4m_",
        "outputId": "991b94d4-a6c4-4b34-d4c5-0df9180a7ef0"
      },
      "source": [
        "import random\n",
        "import numpy as np\n",
        "\n",
        "dice = [ 1, 2, 3, 4, 5, 6 ]\n",
        "a = []\n",
        "\n",
        "for j in range(1, 101):\n",
        "  cnt = 0\n",
        "  for i in range(1, 289):\n",
        "    result = random.choice(dice)\n",
        "    if result >= 5:\n",
        "      cnt += 1\n",
        "  a.append(cnt)\n",
        "\n",
        "print(a)    # 맨 마지막에 a 리스트를 print 하면 a 리스트의 모든 요소들을 한번에 볼 수 있다."
      ],
      "execution_count": 52,
      "outputs": [
        {
          "output_type": "stream",
          "text": [
            "[117, 100, 90, 97, 97, 104, 103, 88, 92, 89, 100, 98, 101, 105, 91, 89, 79, 92, 85, 111, 111, 107, 90, 100, 103, 92, 88, 95, 104, 87, 114, 95, 108, 101, 89, 82, 104, 100, 83, 95, 96, 93, 102, 98, 101, 86, 90, 81, 93, 95, 105, 92, 107, 88, 90, 105, 89, 92, 90, 84, 89, 101, 98, 102, 76, 94, 105, 102, 102, 92, 100, 101, 105, 101, 93, 92, 109, 96, 112, 91, 107, 90, 89, 95, 103, 95, 108, 85, 99, 96, 102, 84, 88, 100, 101, 93, 92, 90, 100, 101]\n"
          ],
          "name": "stdout"
        }
      ]
    },
    {
      "cell_type": "markdown",
      "metadata": {
        "id": "QQAdBHLytJ1Y"
      },
      "source": [
        "문제73. 위의 a 리스트의 요소들을 하나씩 빼내서 출력하시오 !"
      ]
    },
    {
      "cell_type": "code",
      "metadata": {
        "id": "gGfS3CZstMBm"
      },
      "source": [
        "import random\n",
        "import numpy as np\n",
        "\n",
        "dice = [ 1, 2, 3, 4, 5, 6 ]\n",
        "a = []\n",
        "\n",
        "for j in range(1, 101):\n",
        "  cnt = 0\n",
        "  for i in range(1, 289):\n",
        "    result = random.choice(dice)\n",
        "    if result >= 5:\n",
        "      cnt += 1\n",
        "  a.append(cnt)\n",
        "\n",
        "for k in a:\n",
        "  print(k)\n"
      ],
      "execution_count": null,
      "outputs": []
    },
    {
      "cell_type": "markdown",
      "metadata": {
        "id": "P8OLQqSqtTrF"
      },
      "source": [
        "문제74. 그러면 리스트의 요소들의 숫자가 90 이상이고 106 이하인 요소들의  갯수를 출력하시오!\n"
      ]
    },
    {
      "cell_type": "code",
      "metadata": {
        "colab": {
          "base_uri": "https://localhost:8080/"
        },
        "id": "JBK-hByqtUzW",
        "outputId": "ae37ee01-8ab9-4b87-81b0-f6891df0648c"
      },
      "source": [
        "import random\n",
        "import numpy as np\n",
        "\n",
        "dice = [ 1, 2, 3, 4, 5, 6 ]\n",
        "a = []\n",
        "\n",
        "for j in range(1, 101):\n",
        "  cnt = 0\n",
        "  for i in range(1, 289):\n",
        "    result = random.choice(dice)\n",
        "    if result >= 5:\n",
        "      cnt += 1\n",
        "  a.append(cnt)\n",
        "\n",
        "num = 0\n",
        "\n",
        "for k in a:\n",
        "  if k >= 90 and k <= 106:     # 90 <= k <= 106 도 가능\n",
        "    num += 1\n",
        "\n",
        "print(num)"
      ],
      "execution_count": 55,
      "outputs": [
        {
          "output_type": "stream",
          "text": [
            "68\n"
          ],
          "name": "stdout"
        }
      ]
    },
    {
      "cell_type": "markdown",
      "metadata": {
        "id": "0m90rkXUtirG"
      },
      "source": [
        "문제75. 그러면 a 리스트의 요소들의 숫자가 90 이상이고 106 이하인 요소들의 확률을 출력하시오!\n"
      ]
    },
    {
      "cell_type": "code",
      "metadata": {
        "colab": {
          "base_uri": "https://localhost:8080/"
        },
        "id": "1_JiQeiNtmR1",
        "outputId": "7114fc26-c32c-4aaa-cb10-be1898e0864b"
      },
      "source": [
        "import random\n",
        "import numpy as np\n",
        "\n",
        "dice = [ 1, 2, 3, 4, 5, 6 ]\n",
        "a = []\n",
        "\n",
        "for j in range(1, 101):\n",
        "  cnt = 0\n",
        "  for i in range(1, 289):\n",
        "    result = random.choice(dice)\n",
        "    if result >= 5:\n",
        "      cnt += 1\n",
        "  a.append(cnt)\n",
        "\n",
        "num = 0\n",
        "\n",
        "for k in a:\n",
        "  if k >= 90 and k <= 106:     # 90 <= k <= 106 도 가능\n",
        "    num += 1\n",
        "\n",
        "print(num/len(a))"
      ],
      "execution_count": 56,
      "outputs": [
        {
          "output_type": "stream",
          "text": [
            "0.67\n"
          ],
          "name": "stdout"
        }
      ]
    },
    {
      "cell_type": "markdown",
      "metadata": {
        "id": "Pb6EAczTtqmd"
      },
      "source": [
        "■ 25. 판다스(pandas) 사용법\n",
        "\n",
        "** Pandas 란?\n",
        " 1. 데이터 분석을 위한 파이썬 모듈\n",
        " 2. 엑셀의 스프레스 시트와 같은 관계형 데이터베이스의 데이처 처리 능력이 뛰어남.\n",
        " 3. 판다스는 Dataframe 이라는 기본 자료구조룰 사용합니다.\n",
        "    (오라클의 테이블과 판다스의 Dataframe 이 서로 유사합니다.)"
      ]
    },
    {
      "cell_type": "markdown",
      "metadata": {
        "id": "_ecsK-KRtv31"
      },
      "source": [
        "예제1. emp3.csv 를 파이썬을 이용해서 판다스의 데이터 프레임으로 만드시오!\n",
        "\n",
        "emp3.csv 와 dept3.csv 를 c드라이브 밑에 data 라는 폴더를 만들고 그 밑에 복사해 둡니다."
      ]
    },
    {
      "cell_type": "code",
      "metadata": {
        "colab": {
          "base_uri": "https://localhost:8080/"
        },
        "id": "N3uqbvtltzIz",
        "outputId": "6e836a53-88f6-4232-b702-ceafc8956276"
      },
      "source": [
        "import pandas as pd\n",
        "from google.colab import drive\n",
        "drive.mount('/content/drive')\n",
        "emp = pd.read_csv('/content/drive/MyDrive/data/emp3.csv')\n",
        "print(emp)"
      ],
      "execution_count": 67,
      "outputs": [
        {
          "output_type": "stream",
          "text": [
            "Drive already mounted at /content/drive; to attempt to forcibly remount, call drive.mount(\"/content/drive\", force_remount=True).\n",
            "    index  empno   ename        job  ...         hiredate   sal    comm  deptno\n",
            "0       1   7839    KING  PRESIDENT  ...  1981-11-17 0:00  5000     NaN      10\n",
            "1       2   7698   BLAKE    MANAGER  ...  1981-05-01 0:00  2850     NaN      30\n",
            "2       3   7782   CLARK    MANAGER  ...  1981-05-09 0:00  2450     NaN      10\n",
            "3       4   7566   JONES    MANAGER  ...  1981-04-01 0:00  2975     NaN      20\n",
            "4       5   7654  MARTIN   SALESMAN  ...  1981-09-10 0:00  1250  1400.0      30\n",
            "5       6   7499   ALLEN   SALESMAN  ...  1981-02-11 0:00  1600   300.0      30\n",
            "6       7   7844  TURNER   SALESMAN  ...  1981-08-21 0:00  1500     0.0      30\n",
            "7       8   7900   JAMES      CLERK  ...  1981-12-11 0:00   950     NaN      30\n",
            "8       9   7521    WARD   SALESMAN  ...  1981-02-23 0:00  1250   500.0      30\n",
            "9      10   7902    FORD    ANALYST  ...  1981-12-11 0:00  3000     NaN      20\n",
            "10     11   7369   SMITH      CLERK  ...  1980-12-09 0:00   800     NaN      20\n",
            "11     12   7788   SCOTT    ANALYST  ...  1982-12-22 0:00  3000     NaN      20\n",
            "12     13   7876   ADAMS      CLERK  ...  1983-01-15 0:00  1100     NaN      20\n",
            "13     14   7934  MILLER      CLERK  ...  1982-01-11 0:00  1300     NaN      10\n",
            "\n",
            "[14 rows x 9 columns]\n"
          ],
          "name": "stdout"
        }
      ]
    },
    {
      "cell_type": "markdown",
      "metadata": {
        "id": "qc9IwJFwxKWb"
      },
      "source": [
        "설명: 판다스의 read.csv함수는 os 의  csv 파일을 읽어서 판다스 데이터 프레임으로 만들겠다.  \n",
        "\n",
        "SQL ---> 데이터에서 정보를 얻어내기 위해서(데이터 검색)  \n",
        "파이썬의 판다스 --->  데이터를 검색하는 모듈"
      ]
    },
    {
      "cell_type": "markdown",
      "metadata": {
        "id": "sxCAFmT8xOLB"
      },
      "source": [
        "문제76. (SQL , 판다스) 사원 테이블에서 이름과 월급을 출력하시오\n",
        "\n",
        "SQL>  \n",
        "select ename, sal  \n",
        "   from emp;"
      ]
    },
    {
      "cell_type": "code",
      "metadata": {
        "colab": {
          "base_uri": "https://localhost:8080/"
        },
        "id": "xObTEKQ_xQTh",
        "outputId": "0636da32-8906-4e50-f1bc-e03728e8065a"
      },
      "source": [
        "import pandas as pd\n",
        "from google.colab import drive\n",
        "drive.mount('/content/drive')\n",
        "emp = pd.read_csv('/content/drive/MyDrive/data/emp3.csv')\n",
        "print( emp[['ename', 'sal']] )"
      ],
      "execution_count": 68,
      "outputs": [
        {
          "output_type": "stream",
          "text": [
            "Drive already mounted at /content/drive; to attempt to forcibly remount, call drive.mount(\"/content/drive\", force_remount=True).\n",
            "     ename   sal\n",
            "0     KING  5000\n",
            "1    BLAKE  2850\n",
            "2    CLARK  2450\n",
            "3    JONES  2975\n",
            "4   MARTIN  1250\n",
            "5    ALLEN  1600\n",
            "6   TURNER  1500\n",
            "7    JAMES   950\n",
            "8     WARD  1250\n",
            "9     FORD  3000\n",
            "10   SMITH   800\n",
            "11   SCOTT  3000\n",
            "12   ADAMS  1100\n",
            "13  MILLER  1300\n"
          ],
          "name": "stdout"
        }
      ]
    },
    {
      "cell_type": "markdown",
      "metadata": {
        "id": "jYchEOkZxlEi"
      },
      "source": [
        "설명: print(데이터프레임명[ ['컬럼명1', '컬렴명2'] ] )"
      ]
    },
    {
      "cell_type": "markdown",
      "metadata": {
        "id": "SOnce29cxtUR"
      },
      "source": [
        "문제77. 아래의 SQL을 판다스로 구현하시오 !  \n",
        "select ename, sal, job, hiredate  \n",
        "   from emp;"
      ]
    },
    {
      "cell_type": "code",
      "metadata": {
        "colab": {
          "base_uri": "https://localhost:8080/"
        },
        "id": "2fL8z6J1xwhi",
        "outputId": "39568000-5c86-4fdb-bbb6-d433b2018e39"
      },
      "source": [
        "import pandas as pd\n",
        "from google.colab import drive\n",
        "drive.mount('/content/drive')\n",
        "emp = pd.read_csv('/content/data/emp3.csv')\n",
        "print( emp[['ename', 'sal', 'job', 'hiredate']] )"
      ],
      "execution_count": 70,
      "outputs": [
        {
          "output_type": "stream",
          "text": [
            "Drive already mounted at /content/drive; to attempt to forcibly remount, call drive.mount(\"/content/drive\", force_remount=True).\n",
            "     ename   sal        job         hiredate\n",
            "0     KING  5000  PRESIDENT  1981-11-17 0:00\n",
            "1    BLAKE  2850    MANAGER  1981-05-01 0:00\n",
            "2    CLARK  2450    MANAGER  1981-05-09 0:00\n",
            "3    JONES  2975    MANAGER  1981-04-01 0:00\n",
            "4   MARTIN  1250   SALESMAN  1981-09-10 0:00\n",
            "5    ALLEN  1600   SALESMAN  1981-02-11 0:00\n",
            "6   TURNER  1500   SALESMAN  1981-08-21 0:00\n",
            "7    JAMES   950      CLERK  1981-12-11 0:00\n",
            "8     WARD  1250   SALESMAN  1981-02-23 0:00\n",
            "9     FORD  3000    ANALYST  1981-12-11 0:00\n",
            "10   SMITH   800      CLERK  1980-12-09 0:00\n",
            "11   SCOTT  3000    ANALYST  1982-12-22 0:00\n",
            "12   ADAMS  1100      CLERK  1983-01-15 0:00\n",
            "13  MILLER  1300      CLERK  1982-01-11 0:00\n"
          ],
          "name": "stdout"
        }
      ]
    },
    {
      "cell_type": "markdown",
      "metadata": {
        "id": "_S86uoxoyH59"
      },
      "source": [
        "문제78. 아래의 SQL 을 판다스로 구현하시오!\n",
        "\n",
        "select ename, sal, job  \n",
        "   from emp  \n",
        "   where job = 'SALESMAN';"
      ]
    },
    {
      "cell_type": "code",
      "metadata": {
        "colab": {
          "base_uri": "https://localhost:8080/"
        },
        "id": "EylMT5S4yK8W",
        "outputId": "a9c6e939-356d-4925-85ab-4f61afdd4243"
      },
      "source": [
        "import pandas as pd\n",
        "from google.colab import drive\n",
        "drive.mount('/content/drive')\n",
        "emp = pd.read_csv('/content/data/emp3.csv')\n",
        "print( emp[['ename', 'sal', 'job']] [emp['job'] == 'SALESMAN'] )"
      ],
      "execution_count": 72,
      "outputs": [
        {
          "output_type": "stream",
          "text": [
            "Drive already mounted at /content/drive; to attempt to forcibly remount, call drive.mount(\"/content/drive\", force_remount=True).\n",
            "    ename   sal       job\n",
            "4  MARTIN  1250  SALESMAN\n",
            "5   ALLEN  1600  SALESMAN\n",
            "6  TURNER  1500  SALESMAN\n",
            "8    WARD  1250  SALESMAN\n"
          ],
          "name": "stdout"
        }
      ]
    },
    {
      "cell_type": "markdown",
      "metadata": {
        "id": "QGTAq4WpyKdY"
      },
      "source": [
        "문제79. 월급이 3000 이상인 사원들의 이름과 월급을 출력하시오!  \n",
        "SQL>  \n",
        "select ename, sal  \n",
        "   from emp  \n",
        "   where sal >= 3000;"
      ]
    },
    {
      "cell_type": "code",
      "metadata": {
        "colab": {
          "base_uri": "https://localhost:8080/"
        },
        "id": "aTdRUoFzyf8Z",
        "outputId": "d8c41ae8-5d82-4317-a538-1d1782523858"
      },
      "source": [
        "import pandas as pd\n",
        "from google.colab import drive\n",
        "drive.mount('/content/drive')\n",
        "emp = pd.read_csv('/content/data/emp3.csv')\n",
        "print( emp[['ename', 'sal']] [emp['sal'] >= 3000] )"
      ],
      "execution_count": 73,
      "outputs": [
        {
          "output_type": "stream",
          "text": [
            "Drive already mounted at /content/drive; to attempt to forcibly remount, call drive.mount(\"/content/drive\", force_remount=True).\n",
            "    ename   sal\n",
            "0    KING  5000\n",
            "9    FORD  3000\n",
            "11  SCOTT  3000\n"
          ],
          "name": "stdout"
        }
      ]
    },
    {
      "cell_type": "markdown",
      "metadata": {
        "id": "HE7JuRqiyfmJ"
      },
      "source": [
        "문제80. 아래의 SQL을 판다스로 구현하시오!\n",
        "\n",
        "SQL>  \n",
        "select ename, sal  \n",
        "   from emp  \n",
        "   where sal between 1000 and 3000;"
      ]
    },
    {
      "cell_type": "code",
      "metadata": {
        "colab": {
          "base_uri": "https://localhost:8080/"
        },
        "id": "C6E0g3wjynrZ",
        "outputId": "f6925c2c-350a-47bc-ee5f-dc7d6cd0b047"
      },
      "source": [
        "import pandas as pd\n",
        "from google.colab import drive\n",
        "drive.mount('/content/drive')\n",
        "emp = pd.read_csv('/content/data/emp3.csv')\n",
        "print( emp[['ename', 'sal']] [emp['sal'].between(1000, 3000)] )"
      ],
      "execution_count": 74,
      "outputs": [
        {
          "output_type": "stream",
          "text": [
            "Drive already mounted at /content/drive; to attempt to forcibly remount, call drive.mount(\"/content/drive\", force_remount=True).\n",
            "     ename   sal\n",
            "1    BLAKE  2850\n",
            "2    CLARK  2450\n",
            "3    JONES  2975\n",
            "4   MARTIN  1250\n",
            "5    ALLEN  1600\n",
            "6   TURNER  1500\n",
            "8     WARD  1250\n",
            "9     FORD  3000\n",
            "11   SCOTT  3000\n",
            "12   ADAMS  1100\n",
            "13  MILLER  1300\n"
          ],
          "name": "stdout"
        }
      ]
    },
    {
      "cell_type": "markdown",
      "metadata": {
        "id": "BvnkBGhtynQI"
      },
      "source": [
        "문제81. 월급이 1000에서 3000 사이가 아닌 사원들의 이름과 월급을 출력하시오!  \n",
        "SQL>  \n",
        "select ename, sal  \n",
        "from emp  \n",
        "where sal not between 1000 and 3000;"
      ]
    },
    {
      "cell_type": "code",
      "metadata": {
        "colab": {
          "base_uri": "https://localhost:8080/"
        },
        "id": "nzrCJDXly2jl",
        "outputId": "c2386b20-9270-4772-e810-c4facdfdf361"
      },
      "source": [
        "import pandas as pd\n",
        "from google.colab import drive\n",
        "drive.mount('/content/drive')\n",
        "emp = pd.read_csv('/content/data/emp3.csv')\n",
        "print( emp[['ename', 'sal']] [~emp['sal'].between(1000, 3000)] )"
      ],
      "execution_count": 75,
      "outputs": [
        {
          "output_type": "stream",
          "text": [
            "Drive already mounted at /content/drive; to attempt to forcibly remount, call drive.mount(\"/content/drive\", force_remount=True).\n",
            "    ename   sal\n",
            "0    KING  5000\n",
            "7   JAMES   950\n",
            "10  SMITH   800\n"
          ],
          "name": "stdout"
        }
      ]
    },
    {
      "cell_type": "markdown",
      "metadata": {
        "id": "qBvFfsaRyw2V"
      },
      "source": [
        "■ 오라클의 기타 비교연선자와 파이썬 판다스와 비교\n",
        "\n",
        "오라클\t| 판다스  \n",
        "   1\tbetween .. and  |\temp['sal'].between(1000,3000)  \n",
        "   2\tin |\temp['sal'].isin(['SALESMAN', 'ANALYST'])  \n",
        "   3\tis null |\temp['comm'].isnull()  \n",
        "   4\tlike |\tapply 함수\n"
      ]
    },
    {
      "cell_type": "markdown",
      "metadata": {
        "id": "uCGGIAEJzEOp"
      },
      "source": [
        "문제82. 직업이 CLERK, SALESMAN 인 사원들의 이름과 직업을 출력하시오!  \n",
        "SQL>  \n",
        "select ename, job  \n",
        "from emp  \n",
        "where job in ('CLERK', 'SALESMAN');"
      ]
    },
    {
      "cell_type": "code",
      "metadata": {
        "colab": {
          "base_uri": "https://localhost:8080/"
        },
        "id": "NjNKEiNFzaFG",
        "outputId": "f8bca089-3ce3-426d-981b-d8eb3bb9caa0"
      },
      "source": [
        "import pandas as pd\n",
        "from google.colab import drive\n",
        "drive.mount('/content/drive')\n",
        "emp = pd.read_csv('/content/data/emp3.csv')\n",
        "print( emp[['ename', 'job']] [emp['job'].isin(['CLERK', 'SALESMAN'])] )"
      ],
      "execution_count": 77,
      "outputs": [
        {
          "output_type": "stream",
          "text": [
            "Drive already mounted at /content/drive; to attempt to forcibly remount, call drive.mount(\"/content/drive\", force_remount=True).\n",
            "     ename       job\n",
            "4   MARTIN  SALESMAN\n",
            "5    ALLEN  SALESMAN\n",
            "6   TURNER  SALESMAN\n",
            "7    JAMES     CLERK\n",
            "8     WARD  SALESMAN\n",
            "10   SMITH     CLERK\n",
            "12   ADAMS     CLERK\n",
            "13  MILLER     CLERK\n"
          ],
          "name": "stdout"
        }
      ]
    },
    {
      "cell_type": "markdown",
      "metadata": {
        "id": "X0FwuCtJzput"
      },
      "source": [
        "문제83. 이번에는 직업이 CLERK, SALESMAN 이 아닌 사원들의 이름과 직업을 출력하시오!\n",
        "\n",
        "SQL>  \n",
        "select ename, job  \n",
        "   from emp  \n",
        "   where job not in ('CLERK', 'SALESMAN');"
      ]
    },
    {
      "cell_type": "code",
      "metadata": {
        "colab": {
          "base_uri": "https://localhost:8080/"
        },
        "id": "Dq5ZoPj4zrK1",
        "outputId": "7f4d0d9a-d892-411b-f90b-91ed408845f3"
      },
      "source": [
        "import pandas as pd\n",
        "from google.colab import drive\n",
        "drive.mount('/content/drive')\n",
        "emp = pd.read_csv('/content/data/emp3.csv')\n",
        "print( emp[['ename', 'job']] [~emp['job'].isin(['CLERK', 'SALESMAN'])] )"
      ],
      "execution_count": 78,
      "outputs": [
        {
          "output_type": "stream",
          "text": [
            "Drive already mounted at /content/drive; to attempt to forcibly remount, call drive.mount(\"/content/drive\", force_remount=True).\n",
            "    ename        job\n",
            "0    KING  PRESIDENT\n",
            "1   BLAKE    MANAGER\n",
            "2   CLARK    MANAGER\n",
            "3   JONES    MANAGER\n",
            "9    FORD    ANALYST\n",
            "11  SCOTT    ANALYST\n"
          ],
          "name": "stdout"
        }
      ]
    },
    {
      "cell_type": "markdown",
      "metadata": {
        "id": "pdUaUd14zueo"
      },
      "source": [
        "문제84. 커미션이 null 인 사원들의 이름과 커미션을 출력하시오!\n",
        "\n",
        "SQL>  \n",
        "select ename, comm  \n",
        "from emp  \n",
        "where comm is null;\n"
      ]
    },
    {
      "cell_type": "code",
      "metadata": {
        "colab": {
          "base_uri": "https://localhost:8080/"
        },
        "id": "Mg4LGS_cz2SC",
        "outputId": "88ba4fa4-26da-4b83-a517-3e530dfdbdea"
      },
      "source": [
        "import pandas as pd\n",
        "from google.colab import drive\n",
        "drive.mount('/content/drive')\n",
        "emp = pd.read_csv('/content/data/emp3.csv')\n",
        "print( emp[['ename', 'comm']] [emp['comm'].isnull()] )"
      ],
      "execution_count": 79,
      "outputs": [
        {
          "output_type": "stream",
          "text": [
            "Drive already mounted at /content/drive; to attempt to forcibly remount, call drive.mount(\"/content/drive\", force_remount=True).\n",
            "     ename  comm\n",
            "0     KING   NaN\n",
            "1    BLAKE   NaN\n",
            "2    CLARK   NaN\n",
            "3    JONES   NaN\n",
            "7    JAMES   NaN\n",
            "9     FORD   NaN\n",
            "10   SMITH   NaN\n",
            "11   SCOTT   NaN\n",
            "12   ADAMS   NaN\n",
            "13  MILLER   NaN\n"
          ],
          "name": "stdout"
        }
      ]
    },
    {
      "cell_type": "markdown",
      "metadata": {
        "id": "kE9oGdbX0DyI"
      },
      "source": [
        "문제85. 커미션이 null 이 아닌 사원들의 이름과 커미션을 출력하시오 !\n",
        "\n",
        "SQL>  \n",
        "select ename, comm  \n",
        "from emp  \n",
        "where comm is not null;"
      ]
    },
    {
      "cell_type": "code",
      "metadata": {
        "colab": {
          "base_uri": "https://localhost:8080/"
        },
        "id": "BPbr0Jas0IOn",
        "outputId": "b3c9586f-2a96-46dd-f24e-ebd382dbb406"
      },
      "source": [
        "import pandas as pd\n",
        "from google.colab import drive\n",
        "drive.mount('/content/drive')\n",
        "emp = pd.read_csv('/content/data/emp3.csv')\n",
        "print( emp[['ename', 'comm']] [~emp['comm'].isnull()] )"
      ],
      "execution_count": 80,
      "outputs": [
        {
          "output_type": "stream",
          "text": [
            "Drive already mounted at /content/drive; to attempt to forcibly remount, call drive.mount(\"/content/drive\", force_remount=True).\n",
            "    ename    comm\n",
            "4  MARTIN  1400.0\n",
            "5   ALLEN   300.0\n",
            "6  TURNER     0.0\n",
            "8    WARD   500.0\n"
          ],
          "name": "stdout"
        }
      ]
    },
    {
      "cell_type": "markdown",
      "metadata": {
        "id": "rpTti0iz0V7G"
      },
      "source": [
        "(확률문제) (통계를 파이썬으로 구현)  \n",
        "6개의 제품이 들어가 있는 상자가 있는데, 그 중 2개가 불량품이라고 하자\n",
        "제품검사를 위해서 3개를 추출했을때 적어도 한개가 불량품일 확률은?\n",
        "\n",
        "수학식으로 하지말고 파이썬으로 아래와 같이 상자안에 제품 6개를 넣고\n",
        "랜덤으로 추출해서 수행하시오!  \n",
        "복원 추출로 하세요.\n",
        "\n",
        "box = [ '정상', '정상', '불량', '정상', '불량', '정상' ]\n",
        "\n",
        "힌트: 사건 A의 여사건 (나머지 사건)\n",
        "\n",
        "불량품이 하나도 없을 사건의 확률을 구한 다음에 1에서 빼면 됩니다."
      ]
    },
    {
      "cell_type": "code",
      "metadata": {
        "colab": {
          "base_uri": "https://localhost:8080/"
        },
        "id": "JpgTgDIZ0bbL",
        "outputId": "112c0b4c-0182-4fb0-a123-d59ae9752597"
      },
      "source": [
        "import random\n",
        "box = [ '정상', '정상', '불량', '정상', '불량', '정상' ]\n",
        "cnt = 0\n",
        "\n",
        "for i in range(1,10001):\n",
        "  result1 = random.choice(box)\n",
        "  result2 = random.choice(box)\n",
        "  result3 = random.choice(box)\n",
        "  if result1 == '정상' and result2 == '정상' and result3 == '정상':\n",
        "    cnt += 1\n",
        "\n",
        "print(1-cnt/10000)"
      ],
      "execution_count": 86,
      "outputs": [
        {
          "output_type": "stream",
          "text": [
            "0.7039\n"
          ],
          "name": "stdout"
        }
      ]
    },
    {
      "cell_type": "code",
      "metadata": {
        "colab": {
          "base_uri": "https://localhost:8080/"
        },
        "id": "ZMpUoLhJ3orr",
        "outputId": "edb07da1-2a01-42fe-8879-b4144f343ac8"
      },
      "source": [
        "import random \n",
        "\n",
        "box = [ '정상', '정상', '불량', '정상', '불량', '정상' ] \n",
        "cnt = 0\n",
        "\n",
        "for j in range(1, 100001):                   # 아래의 작업을 100000번 반복한다.\n",
        "    x = []                                   # for loop 문을 다시 돌릴때 x를 비워준다.\n",
        "    for i in range(1,4):                     # 아래의 내용을 3번 반복한다.\n",
        "        result = random.choice(box)          # result 값을 뽑아서\n",
        "        x.append(result)                     # x 리스트에 넣는다.\n",
        "        if x == ['정상','정상','정상']:      # x 리스트에 넣어진 3개의 값이 전부 정상이면\n",
        "            cnt += 1                         # cnt에 1 을 넣는다.\n",
        "\n",
        "print(1-cnt/100000)"
      ],
      "execution_count": 87,
      "outputs": [
        {
          "output_type": "stream",
          "text": [
            "0.70549\n"
          ],
          "name": "stdout"
        }
      ]
    }
  ]
}