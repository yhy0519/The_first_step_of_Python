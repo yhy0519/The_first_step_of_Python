{
  "nbformat": 4,
  "nbformat_minor": 0,
  "metadata": {
    "colab": {
      "name": "python18_12_21.ipynb",
      "provenance": [],
      "collapsed_sections": [],
      "authorship_tag": "ABX9TyMdSPiAOsp5zsoHvIhBePGJ",
      "include_colab_link": true
    },
    "kernelspec": {
      "name": "python3",
      "display_name": "Python 3"
    }
  },
  "cells": [
    {
      "cell_type": "markdown",
      "metadata": {
        "id": "view-in-github",
        "colab_type": "text"
      },
      "source": [
        "<a href=\"https://colab.research.google.com/github/yhy0519/The_first_step_of_Python/blob/main/python18_12_21.ipynb\" target=\"_parent\"><img src=\"https://colab.research.google.com/assets/colab-badge.svg\" alt=\"Open In Colab\"/></a>"
      ]
    },
    {
      "cell_type": "markdown",
      "metadata": {
        "id": "_4Pp8Gm2cigM"
      },
      "source": [
        "**■ 148. 파이썬과 Oracle 연동**\r\n",
        "\r\n",
        "                          연동\r\n",
        "    오라클 database ---------------- 파이썬  ( 통계구현, 시각화, 머신러닝, 업무자동화 )\r\n",
        "        ↓\r\n",
        "    비지니스 데이터       emp2.csv\r\n",
        "    (정형화된 데이터)     emp1222.csv\r\n",
        "\r\n",
        "\r\n",
        "** 오라클과 파이썬을 연동하는 이유 ?\r\n",
        " 1. 오라클 데이터 베이스에서 실시간으로 변하는 데이터를 csv 파일로 매번 내려받으려면\r\n",
        "    자주 내려받아야 하므로 그냥 바로 연동합니다.\r\n",
        "\r\n",
        " 2. 파이썬의 여러 장점들을 이용해서 데이터를 분석할 수 있기 때문입니다.\r\n",
        "    ( 통계구현, 시각화, 머신러닝 구현, 업무자동화 )\r\n",
        "\r\n",
        " 3. 폐사진을 숫자로 변환해서 오라클 database 에 저장합니다.\r\n",
        "    이미지를 숫자로 변환해서 오라클 database 에 저장합니다.\r\n",
        "    db 에 저장하고 관리를 합니다. os 에 파일로 남겨만 두지 않습니다.\r\n",
        "    db 에 저장하면 장점이 백업과 복구를 할 수 있다. \r\n",
        "    그리고 좀 더 효율적으로 data 를 관리 할 수 있습니다.\r\n",
        "    os 에 파일로 저장되어 있으면 바이러스에 노출될 수 도 있습니다.\r\n",
        "    \r\n",
        "\r\n",
        "** 빅데이터 기사 시험 : 데이터 구조에 따른 종류 3가지\r\n",
        "\r\n",
        " 1. 정형화 데이터 : rdbms 에 저장된 데이터  \r\n",
        "rdbms : relational database management system \r\n",
        "  (관계형 데이터 베이스 관리 시스템)\r\n",
        " 2. 반정형화 데이터 :html, 웹로그 데이터\r\n",
        " 3. 비정형화 데이터 : 텍스트(SNS), 이미지, 동영상 데이터\r\n",
        "\t\t\t\t \r\n",
        "\r\n",
        "** 오라클과 파이썬 연동\r\n",
        "\r\n",
        " 1. 도스창을 열고 리스너의 상태를 확인합니다.\r\n",
        "\r\n",
        "    리스너 상태 확인하는 명령어\r\n",
        "    \r\n",
        "        lsnrctl status\r\n",
        "     \r\n",
        "    외부에서 오라클에 접속하려면 리스너를 통해야지만 접속이 가능합니다.\r\n",
        "    리스너가 접속을 허용해주어야 접속이 가능한 것입니다.\r\n",
        "    리스너가 가지고 있는 정보 중 3가지를 확인해야합니다. \r\n",
        "\t 1. ip 주소    (건물주소) : localhost\r\n",
        "\t 2. 포트번호  (건물안의 복도) : 1522\r\n",
        "\t 3. 서비스 이름 (회사이름) : orcl2\r\n",
        "\r\n",
        " 2. 위의 정보들을 이용해서 오라클 database 에 접속을 해봅니다.\r\n",
        "\r\n",
        "        sqlplus sys/oracle as sysdba\r\n",
        "        exit\r\n",
        "        sqlplus sys/oracle_4U@localhost:1522/orcl2 as sysdba\r\n",
        "\r\n",
        " 3. 아나콘다 프롬프트창을 열고 cx_Oracle 모듈을 설치합니다.  \r\n",
        "\r\n",
        "        conda install cx_Oracle\r\n",
        "\r\n",
        " 4. 파이썬에서 오라클과 연동하는 코드를 작성한다.\r\n",
        "    ( python 에서 작성 )\r\n"
      ]
    },
    {
      "cell_type": "code",
      "metadata": {
        "id": "1lyO1_LQeMTN"
      },
      "source": [
        "import cx_Oracle\r\n",
        "import pandas as pd\r\n",
        "\r\n",
        "dsn = cx_Oracle.makedsn(\"localhost\", 포트번호, 'orcl2')       # 오라클 주소를 기입한다.\r\n",
        "db = cx_Oracle.connect('오라클 사용자 이름', '오라클 사용자 비밀번호', dsn, cx_Oracle.SYSDBA)    # 오라클 접속 유져 정보\r\n",
        "cursor = db.cursor()                        # 결과 데이터를 담을 메모리 이름을 cursor 로 선언\r\n",
        "cursor.execute(\"\"\"select * from emp\"\"\")     # 쿼리문 작성. \r\n",
        "                                           # 작성한 쿼리문의 결과가 cursor 메모리에 담긴다.\r\n",
        "row = cursor.fetchall()             # cursor 메모리에 담긴 결과를 한번에 row 변수에 담는다.\r\n",
        "emp = pd.DataFrame(row)\r\n",
        "print(emp)"
      ],
      "execution_count": null,
      "outputs": []
    },
    {
      "cell_type": "markdown",
      "metadata": {
        "id": "nj8AGQVIdW1L"
      },
      "source": [
        ""
      ]
    },
    {
      "cell_type": "markdown",
      "metadata": {
        "id": "U-37FxyadWxf"
      },
      "source": [
        ""
      ]
    },
    {
      "cell_type": "markdown",
      "metadata": {
        "id": "LqwKCw7rdWts"
      },
      "source": [
        "문제440. 위의 emp 테이블 전체를 select 했는데 전체를 다 select 하지 말고 아래의 쿼리의 결과만 select 하시오 ! \r\n",
        "\r\n",
        "    select empno, ename, sal, deptno\r\n",
        "       from emp;"
      ]
    },
    {
      "cell_type": "code",
      "metadata": {
        "id": "0HHMBX4zUV2T"
      },
      "source": [
        "import cx_Oracle\r\n",
        "import pandas as pd\r\n",
        "\r\n",
        "dsn = cx_Oracle.makedsn(\"localhost\", 1522, 'orcl2')\r\n",
        "db = cx_Oracle.connect('sys', 'oracle_4U', dsn, cx_Oracle.SYSDBA)\r\n",
        "cursor = db.cursor()\r\n",
        "cursor.execute(\"\"\"select empno, ename, sal, deptno from emp\"\"\")\r\n",
        "row = cursor.fetchall() \r\n",
        "emp = pd.DataFrame(row)\r\n",
        "print(emp)"
      ],
      "execution_count": null,
      "outputs": []
    },
    {
      "cell_type": "markdown",
      "metadata": {
        "id": "wRT6DMmxejoz"
      },
      "source": [
        ""
      ]
    },
    {
      "cell_type": "markdown",
      "metadata": {
        "id": "mzM6Lbvmejjc"
      },
      "source": [
        ""
      ]
    },
    {
      "cell_type": "markdown",
      "metadata": {
        "id": "U9unvWGQejes"
      },
      "source": [
        "문제441. dept 테이블의 모든 데이터를 조회하시오 !"
      ]
    },
    {
      "cell_type": "code",
      "metadata": {
        "id": "PVIFHCzMelPR"
      },
      "source": [
        "import cx_Oracle\r\n",
        "import pandas as pd\r\n",
        "\r\n",
        "dsn = cx_Oracle.makedsn(\"localhost\", 1522, 'orcl2')\r\n",
        "db = cx_Oracle.connect('sys', 'oracle_4u', dsn, cx_Oracle.SYSDBA)\r\n",
        "cursor = db.cursor()\r\n",
        "cursor.execute(\"\"\"select * from dept\"\"\")\r\n",
        "row = cursor.fetchall()\r\n",
        "dept = pd.DataFrame(row)\r\n",
        "print(dept)"
      ],
      "execution_count": null,
      "outputs": []
    },
    {
      "cell_type": "markdown",
      "metadata": {
        "id": "LeXI4mmSeowT"
      },
      "source": [
        ""
      ]
    },
    {
      "cell_type": "markdown",
      "metadata": {
        "id": "MKVA1xQ-eosz"
      },
      "source": [
        ""
      ]
    },
    {
      "cell_type": "markdown",
      "metadata": {
        "id": "empvgCGXeopV"
      },
      "source": [
        "문제442. 우리반 테이블(emp12) 를 조회하시오 !"
      ]
    },
    {
      "cell_type": "code",
      "metadata": {
        "id": "N7BIf-O_eve0"
      },
      "source": [
        "import cx_Oracle\r\n",
        "import pandas as pd\r\n",
        "\r\n",
        "dsn = cx_Oracle.makedsn(\"localhost\", 1522, 'orcl2')\r\n",
        "db = cx_Oracle.connect('sys', 'oracle_4u', dsn, cx_Oracle.SYSDBA)\r\n",
        "cursor = db.cursor()\r\n",
        "cursor.execute(\"\"\"select * from emp12\"\"\")\r\n",
        "row = cursor.fetchall()\r\n",
        "emp12 = pd.DataFrame(row)\r\n",
        "print(emp12)"
      ],
      "execution_count": null,
      "outputs": []
    },
    {
      "cell_type": "markdown",
      "metadata": {
        "id": "4ViP5g5ZexLQ"
      },
      "source": [
        ""
      ]
    },
    {
      "cell_type": "markdown",
      "metadata": {
        "id": "ieARr9g8exH2"
      },
      "source": [
        ""
      ]
    },
    {
      "cell_type": "markdown",
      "metadata": {
        "id": "p8dQ9SAqexET"
      },
      "source": [
        "문제443. 월급이 1200 이상인 사원들의 이름과 월급을 출력하시오 !"
      ]
    },
    {
      "cell_type": "code",
      "metadata": {
        "id": "oDtxW4tceyz7"
      },
      "source": [
        "import cx_Oracle\r\n",
        "import pandas as pd\r\n",
        "\r\n",
        "dsn = cx_Oracle.makedsn(\"localhost\", 1522, 'orcl2')\r\n",
        "db = cx_Oracle.connect('sys', 'oracle_4U', dsn, cx_Oracle.SYSDBA)\r\n",
        "cursor = db.cursor()\r\n",
        "cursor.execute(\"\"\"select ename, sal from emp where sal >= 1200\"\"\")\r\n",
        "row = cursor.fetchall() \r\n",
        "emp = pd.DataFrame(row)\r\n",
        "print(emp)"
      ],
      "execution_count": null,
      "outputs": []
    },
    {
      "cell_type": "markdown",
      "metadata": {
        "id": "4QzCkxxze2Dy"
      },
      "source": [
        ""
      ]
    },
    {
      "cell_type": "markdown",
      "metadata": {
        "id": "HNBTVXule2A1"
      },
      "source": [
        ""
      ]
    },
    {
      "cell_type": "markdown",
      "metadata": {
        "id": "2_p43a_he1-M"
      },
      "source": [
        "문제444. 사원 테이블의 월급을 막대 그래프로 그리시오 !"
      ]
    },
    {
      "cell_type": "code",
      "metadata": {
        "id": "wRCkQ2DJe3oz"
      },
      "source": [
        "import cx_Oracle\r\n",
        "import pandas as pd\r\n",
        "\r\n",
        "dsn = cx_Oracle.makedsn(\"localhost\", 1522, 'orcl2')\r\n",
        "db = cx_Oracle.connect('sys', 'oracle_4U', dsn, cx_Oracle.SYSDBA)\r\n",
        "cursor = db.cursor()\r\n",
        "cursor.execute(\"\"\"select ename, sal from emp\"\"\")\r\n",
        "row = cursor.fetchall() \r\n",
        "emp = pd.DataFrame(row)\r\n",
        "emp.index = list(emp[0])\r\n",
        "emp.plot(kind = 'bar')"
      ],
      "execution_count": null,
      "outputs": []
    },
    {
      "cell_type": "markdown",
      "metadata": {
        "id": "QwC1il0-e6q9"
      },
      "source": [
        ""
      ]
    },
    {
      "cell_type": "markdown",
      "metadata": {
        "id": "yledmSAhe6ns"
      },
      "source": [
        ""
      ]
    },
    {
      "cell_type": "markdown",
      "metadata": {
        "id": "W1ZBHufxe6kk"
      },
      "source": [
        "문제445. 위의 그래프의 색깔을 변경하고 그래프를 그리세요"
      ]
    },
    {
      "cell_type": "code",
      "metadata": {
        "id": "ZBI2dfuLe-fE"
      },
      "source": [
        "import cx_Oracle\r\n",
        "import pandas as pd\r\n",
        "\r\n",
        "dsn = cx_Oracle.makedsn(\"localhost\", 1522, 'orcl2')\r\n",
        "db = cx_Oracle.connect('sys', 'oracle_4U', dsn, cx_Oracle.SYSDBA)\r\n",
        "cursor = db.cursor()\r\n",
        "cursor.execute(\"\"\"select ename, sal from emp\"\"\")\r\n",
        "row = cursor.fetchall() \r\n",
        "emp = pd.DataFrame(row)\r\n",
        "emp.index = list(emp[0])\r\n",
        "emp.plot(kind = 'bar', color = 'yellow')"
      ],
      "execution_count": null,
      "outputs": []
    },
    {
      "cell_type": "markdown",
      "metadata": {
        "id": "La43idagfAAh"
      },
      "source": [
        ""
      ]
    },
    {
      "cell_type": "markdown",
      "metadata": {
        "id": "RHJbRuUpe_9m"
      },
      "source": [
        ""
      ]
    },
    {
      "cell_type": "markdown",
      "metadata": {
        "id": "i3HhCx2Be_6X"
      },
      "source": [
        "문제446. 직업, 직업별 최대월급을 출력하시오 ! \r\n"
      ]
    },
    {
      "cell_type": "code",
      "metadata": {
        "id": "MNY2aSgAfBPr"
      },
      "source": [
        "import cx_Oracle\r\n",
        "import pandas as pd\r\n",
        "\r\n",
        "dsn = cx_Oracle.makedsn(\"localhost\", 1522, 'orcl2')\r\n",
        "db = cx_Oracle.connect('sys', 'oracle_4U', dsn, cx_Oracle.SYSDBA)\r\n",
        "cursor = db.cursor()\r\n",
        "cursor.execute(\"\"\"select job, max(sal) from emp group by job\"\"\")\r\n",
        "row = cursor.fetchall() \r\n",
        "emp = pd.DataFrame(row)\r\n",
        "print(emp)"
      ],
      "execution_count": null,
      "outputs": []
    },
    {
      "cell_type": "markdown",
      "metadata": {
        "id": "MZkL5QlqfC5l"
      },
      "source": [
        ""
      ]
    },
    {
      "cell_type": "markdown",
      "metadata": {
        "id": "5FC0g2JYfC2j"
      },
      "source": [
        ""
      ]
    },
    {
      "cell_type": "markdown",
      "metadata": {
        "id": "i46IwvVDfCzr"
      },
      "source": [
        "문제447. 직업, 직업별 토탈월급을 출력하는데 직업별 토탈월급이 높은것부터 출력하시오 !\r\n"
      ]
    },
    {
      "cell_type": "code",
      "metadata": {
        "id": "ST8KFlNAfFN1"
      },
      "source": [
        "import cx_Oracle\r\n",
        "import pandas as pd\r\n",
        "\r\n",
        "dsn = cx_Oracle.makedsn(\"localhost\", 1522, 'orcl2')\r\n",
        "db = cx_Oracle.connect('sys', 'oracle_4U', dsn, cx_Oracle.SYSDBA)\r\n",
        "cursor = db.cursor()\r\n",
        "cursor.execute(\"\"\"select job, sum(sal) \r\n",
        "                    from emp \r\n",
        "                    group by job \r\n",
        "                    order by sum(sal) desc\"\"\")\r\n",
        "row = cursor.fetchall() \r\n",
        "emp = pd.DataFrame(row)\r\n",
        "print(emp)"
      ],
      "execution_count": null,
      "outputs": []
    },
    {
      "cell_type": "markdown",
      "metadata": {
        "id": "JVwBQgW_fGpY"
      },
      "source": [
        ""
      ]
    },
    {
      "cell_type": "markdown",
      "metadata": {
        "id": "BXO2fSm1fGmJ"
      },
      "source": [
        ""
      ]
    },
    {
      "cell_type": "markdown",
      "metadata": {
        "id": "Qje-Thn-fGjO"
      },
      "source": [
        "문제448. 이름, 월급, 순위를 출력하는데 순위가 월급이 높은 사원순으로 순위를 부여하시오 !\r\n"
      ]
    },
    {
      "cell_type": "code",
      "metadata": {
        "id": "rEbgvuWAfH-L"
      },
      "source": [
        "import cx_Oracle\r\n",
        "import pandas as pd\r\n",
        "\r\n",
        "dsn = cx_Oracle.makedsn(\"localhost\", 1522, 'orcl2')\r\n",
        "db = cx_Oracle.connect('sys', 'oracle_4U', dsn, cx_Oracle.SYSDBA)\r\n",
        "cursor = db.cursor()\r\n",
        "cursor.execute(\"\"\"select ename, sal, dense_rank() over (order by sal desc) rnk\r\n",
        "                    from emp\"\"\")\r\n",
        "row = cursor.fetchall() \r\n",
        "emp = pd.DataFrame(row)\r\n",
        "print(emp)"
      ],
      "execution_count": null,
      "outputs": []
    },
    {
      "cell_type": "markdown",
      "metadata": {
        "id": "4JT3hx5cfJpA"
      },
      "source": [
        ""
      ]
    },
    {
      "cell_type": "markdown",
      "metadata": {
        "id": "vTJR8sVAfJma"
      },
      "source": [
        ""
      ]
    },
    {
      "cell_type": "markdown",
      "metadata": {
        "id": "_MUT-GY7fJjs"
      },
      "source": [
        "문제449. 부서번호, 부서번호별 토탈월급을 출력하시오 !"
      ]
    },
    {
      "cell_type": "code",
      "metadata": {
        "id": "f2CfSM_7fLSe"
      },
      "source": [
        "import cx_Oracle\r\n",
        "import pandas as pd\r\n",
        "\r\n",
        "dsn = cx_Oracle.makedsn(\"localhost\", 1522, 'orcl2')\r\n",
        "db = cx_Oracle.connect('sys', 'oracle_4U', dsn, cx_Oracle.SYSDBA)\r\n",
        "cursor = db.cursor()\r\n",
        "cursor.execute(\"\"\"select deptno, sum(sal)\r\n",
        "                    from emp\r\n",
        "                    group by deptno\"\"\")\r\n",
        "row = cursor.fetchall() \r\n",
        "emp = pd.DataFrame(row)\r\n",
        "print(emp)"
      ],
      "execution_count": null,
      "outputs": []
    },
    {
      "cell_type": "markdown",
      "metadata": {
        "id": "n5-YOxf6fNF7"
      },
      "source": [
        ""
      ]
    },
    {
      "cell_type": "markdown",
      "metadata": {
        "id": "MsoYEDW3fNCc"
      },
      "source": [
        ""
      ]
    },
    {
      "cell_type": "markdown",
      "metadata": {
        "id": "MnfKSFz_fM_e"
      },
      "source": [
        "문제450. 위의 결과를 막대그래프로 시각화 하시오 !"
      ]
    },
    {
      "cell_type": "code",
      "metadata": {
        "id": "i169f9cpfQQa"
      },
      "source": [
        "import cx_Oracle\r\n",
        "import pandas as pd\r\n",
        "\r\n",
        "dsn = cx_Oracle.makedsn(\"localhost\", 1522, 'orcl2')\r\n",
        "db = cx_Oracle.connect('sys', 'oracle_4U', dsn, cx_Oracle.SYSDBA)\r\n",
        "cursor = db.cursor()\r\n",
        "cursor.execute(\"\"\"select deptno, sum(sal)\r\n",
        "                    from emp\r\n",
        "                    group by deptno\"\"\")\r\n",
        "\r\n",
        "row = cursor.fetchall()   \r\n",
        "emp = pd.DataFrame(row)\r\n",
        "emp.index=list(emp[0])\r\n",
        "emp.plot(kind='bar',color='blue')"
      ],
      "execution_count": null,
      "outputs": []
    },
    {
      "cell_type": "markdown",
      "metadata": {
        "id": "lncmboiVfQ2x"
      },
      "source": [
        ""
      ]
    },
    {
      "cell_type": "markdown",
      "metadata": {
        "id": "Uk-Gdt87fQzT"
      },
      "source": [
        ""
      ]
    },
    {
      "cell_type": "markdown",
      "metadata": {
        "id": "3PKK3Jp5fQwX"
      },
      "source": [
        "문제451. emp 테이블 컬럼명을 출력하시오 !"
      ]
    },
    {
      "cell_type": "code",
      "metadata": {
        "id": "aEEiMIWzfSSK"
      },
      "source": [
        "import cx_Oracle\r\n",
        "import pandas as pd\r\n",
        "\r\n",
        "dsn = cx_Oracle.makedsn(\"localhost\", 1522, 'orcl2')\r\n",
        "db = cx_Oracle.connect('sys', 'oracle_4U', dsn, cx_Oracle.SYSDBA)\r\n",
        "cursor = db.cursor()\r\n",
        "cursor.execute(\"\"\"select * from emp\"\"\")\r\n",
        "row = cursor.fetchall() \r\n",
        "emp = pd.DataFrame(row)\r\n",
        "colname = cursor.description\r\n",
        "col = []\r\n",
        "for i in colname:\r\n",
        "    col.append( i[0].lower() )\r\n",
        "print(col)"
      ],
      "execution_count": null,
      "outputs": []
    },
    {
      "cell_type": "markdown",
      "metadata": {
        "id": "9UjeicjwfT6X"
      },
      "source": [
        ""
      ]
    },
    {
      "cell_type": "markdown",
      "metadata": {
        "id": "beuEC43wfT3L"
      },
      "source": [
        ""
      ]
    },
    {
      "cell_type": "markdown",
      "metadata": {
        "id": "jGn_RHHLfT0O"
      },
      "source": [
        "문제452. 위의 col 리스트에 담긴 컬럼명을 위의 데이터에 매핑시키시오"
      ]
    },
    {
      "cell_type": "code",
      "metadata": {
        "id": "O7eLFSZyfVZD"
      },
      "source": [
        "import cx_Oracle\r\n",
        "import pandas as pd\r\n",
        "\r\n",
        "dsn = cx_Oracle.makedsn(\"localhost\", 1522, 'orcl2')\r\n",
        "db = cx_Oracle.connect('sys', 'oracle_4U', dsn, cx_Oracle.SYSDBA)\r\n",
        "cursor = db.cursor()\r\n",
        "cursor.execute(\"\"\"select * from emp\"\"\")\r\n",
        "row = cursor.fetchall() \r\n",
        "emp = pd.DataFrame(row)\r\n",
        "colname = cursor.description\r\n",
        "col = []\r\n",
        "for i in colname:\r\n",
        "    col.append( i[0].lower() )\r\n",
        "emp = pd.DataFrame(list(row), columns = col)\r\n",
        "print(emp)"
      ],
      "execution_count": null,
      "outputs": []
    },
    {
      "cell_type": "markdown",
      "metadata": {
        "id": "1DtKv8lhfWyW"
      },
      "source": [
        ""
      ]
    },
    {
      "cell_type": "markdown",
      "metadata": {
        "id": "o9pRGwBsfWte"
      },
      "source": [
        ""
      ]
    },
    {
      "cell_type": "markdown",
      "metadata": {
        "id": "Ya0As34GfWq0"
      },
      "source": [
        "문제453. 위의 컬럼명을 이용해서 판다스 문법으로 이름과 월급을 출력하시오"
      ]
    },
    {
      "cell_type": "code",
      "metadata": {
        "id": "p0SLszWGfYba"
      },
      "source": [
        "import cx_Oracle\r\n",
        "import pandas as pd\r\n",
        "\r\n",
        "dsn = cx_Oracle.makedsn(\"localhost\", 1522, 'orcl2')\r\n",
        "db = cx_Oracle.connect('sys', 'oracle_4U', dsn, cx_Oracle.SYSDBA)\r\n",
        "cursor = db.cursor()\r\n",
        "cursor.execute(\"\"\"select * from emp\"\"\")\r\n",
        "row = cursor.fetchall() \r\n",
        "emp = pd.DataFrame(row)\r\n",
        "colname = cursor.description\r\n",
        "col = []\r\n",
        "for i in colname:\r\n",
        "    col.append( i[0].lower() )\r\n",
        "emp = pd.DataFrame(list(row), columns = col)\r\n",
        "\r\n",
        "print(emp[['ename', 'sal']])"
      ],
      "execution_count": null,
      "outputs": []
    },
    {
      "cell_type": "markdown",
      "metadata": {
        "id": "f82c5LaqfaJu"
      },
      "source": [
        ""
      ]
    },
    {
      "cell_type": "markdown",
      "metadata": {
        "id": "bEd82KgAfaGE"
      },
      "source": [
        ""
      ]
    },
    {
      "cell_type": "markdown",
      "metadata": {
        "id": "f6iPwAYCfaDL"
      },
      "source": [
        "문제454. 월급이 3000 이상인 사원들의 이름과 월급을 출력하시오 !"
      ]
    },
    {
      "cell_type": "code",
      "metadata": {
        "id": "vLXWA6amfbmz"
      },
      "source": [
        "import cx_Oracle\r\n",
        "import pandas as pd\r\n",
        "\r\n",
        "dsn = cx_Oracle.makedsn(\"localhost\", 1522, 'orcl2')\r\n",
        "db = cx_Oracle.connect('sys', 'oracle_4U', dsn, cx_Oracle.SYSDBA)\r\n",
        "cursor = db.cursor()\r\n",
        "cursor.execute(\"\"\"select * from emp\"\"\")\r\n",
        "row = cursor.fetchall() \r\n",
        "emp = pd.DataFrame(row)\r\n",
        "colname = cursor.description\r\n",
        "col = []\r\n",
        "for i in colname:\r\n",
        "    col.append( i[0].lower() )\r\n",
        "emp = pd.DataFrame(list(row), columns = col)\r\n",
        "\r\n",
        "print(emp[['ename', 'sal']] [emp['sal'] >= 3000])"
      ],
      "execution_count": null,
      "outputs": []
    },
    {
      "cell_type": "markdown",
      "metadata": {
        "id": "GuhAH9k2fdSi"
      },
      "source": [
        ""
      ]
    },
    {
      "cell_type": "markdown",
      "metadata": {
        "id": "Hzp-qjrpfdOU"
      },
      "source": [
        ""
      ]
    },
    {
      "cell_type": "markdown",
      "metadata": {
        "id": "zIs1OHzjfdKL"
      },
      "source": [
        "문제455. 이름과 부서위치를 출력하시오 ! ( 그냥 SQL 로 작성해서 파이썬에서 출력되게하시오 )\r\n"
      ]
    },
    {
      "cell_type": "code",
      "metadata": {
        "id": "-0cj2cU5fez3"
      },
      "source": [
        "import cx_Oracle\r\n",
        "import pandas as pd\r\n",
        "\r\n",
        "dsn = cx_Oracle.makedsn(\"localhost\", 1522, 'orcl2')\r\n",
        "db = cx_Oracle.connect('sys', 'oracle_4U', dsn, cx_Oracle.SYSDBA)\r\n",
        "cursor = db.cursor()\r\n",
        "cursor.execute(\"\"\"select e.ename, d.loc \r\n",
        "                          from emp e, dept d \r\n",
        "                          where e.deptno = d.deptno\"\"\")\r\n",
        "row = cursor.fetchall() \r\n",
        "emp = pd.DataFrame(row)\r\n",
        "print(emp)"
      ],
      "execution_count": null,
      "outputs": []
    },
    {
      "cell_type": "markdown",
      "metadata": {
        "id": "NV9r7KdUfg_W"
      },
      "source": [
        ""
      ]
    },
    {
      "cell_type": "markdown",
      "metadata": {
        "id": "aqOkBHgQfg79"
      },
      "source": [
        ""
      ]
    },
    {
      "cell_type": "markdown",
      "metadata": {
        "id": "LHOvjc0Tfg12"
      },
      "source": [
        "문제456. 부서위치, 부서위치별 토탈월급을 출력하시오 !"
      ]
    },
    {
      "cell_type": "code",
      "metadata": {
        "id": "hzl8oNZ7fiMC"
      },
      "source": [
        "import cx_Oracle\r\n",
        "import pandas as pd\r\n",
        "\r\n",
        "dsn = cx_Oracle.makedsn(\"localhost\", 1522, 'orcl2')\r\n",
        "db = cx_Oracle.connect('sys', 'oracle_4U', dsn, cx_Oracle.SYSDBA)\r\n",
        "cursor = db.cursor()\r\n",
        "cursor.execute(\"\"\"select d.loc, sum(sal) \r\n",
        "                          from emp e, dept d \r\n",
        "                          where e.deptno = d.deptno \r\n",
        "                          group by d.loc\"\"\")\r\n",
        "row = cursor.fetchall() \r\n",
        "emp = pd.DataFrame(row)\r\n",
        "print(emp)"
      ],
      "execution_count": null,
      "outputs": []
    },
    {
      "cell_type": "markdown",
      "metadata": {
        "id": "igPr8iYWfjay"
      },
      "source": [
        ""
      ]
    },
    {
      "cell_type": "markdown",
      "metadata": {
        "id": "G_w1P41bfjXa"
      },
      "source": [
        ""
      ]
    },
    {
      "cell_type": "markdown",
      "metadata": {
        "id": "vCkQRw3vfjUb"
      },
      "source": [
        "문제457. 위의 결과를 막대그래프로 시각화 하시오 !\r\n"
      ]
    },
    {
      "cell_type": "code",
      "metadata": {
        "id": "zY8VpFI0fko1"
      },
      "source": [
        "import cx_Oracle\r\n",
        "import pandas as pd\r\n",
        "\r\n",
        "dsn = cx_Oracle.makedsn(\"localhost\", 1522, 'orcl2')\r\n",
        "db = cx_Oracle.connect('sys', 'oracle_4U', dsn, cx_Oracle.SYSDBA)\r\n",
        "cursor = db.cursor()\r\n",
        "cursor.execute(\"\"\"select d.loc, sum(sal) from emp e, dept d where e.deptno = d.deptno group by d.loc\"\"\")\r\n",
        "row = cursor.fetchall() \r\n",
        "emp = pd.DataFrame(row)\r\n",
        "emp.index = list(emp[0])\r\n",
        "emp.plot(kind = 'bar', color = 'violet')"
      ],
      "execution_count": null,
      "outputs": []
    },
    {
      "cell_type": "markdown",
      "metadata": {
        "id": "WY9WN6P_fmGc"
      },
      "source": [
        ""
      ]
    },
    {
      "cell_type": "markdown",
      "metadata": {
        "id": "gNT1aCIBfmDD"
      },
      "source": [
        ""
      ]
    },
    {
      "cell_type": "markdown",
      "metadata": {
        "id": "t4sPn2mIfl_A"
      },
      "source": [
        "**■ 149. 파이썬과 mySQL 연동**\r\n",
        "\r\n",
        "현업에서는 오라클도 많이 쓰지만 mySQL 도 많이 사용합니다.  \r\n",
        "오라클은 가격이 많이나가서 중요한 데이터(Business data)는 오라클에 저장하고\r\n",
        "상대적으로 덜 중요한 데이터는 mySQL 에 저장합니다.\r\n",
        "\r\n",
        "MySQL을 실행하고 database를 실행하고 생성하는 방법\r\n",
        "\r\n",
        "    mysql> create database orcl;\r\n",
        "    mysql> use orcl;\r\n",
        "\r\n",
        "emp, dept 테이블 생성.\r\n",
        "\r\n",
        "    mysql> select * from emp;\r\n",
        "\r\n"
      ]
    },
    {
      "cell_type": "markdown",
      "metadata": {
        "id": "DDkzUDUQgGvU"
      },
      "source": [
        ""
      ]
    },
    {
      "cell_type": "markdown",
      "metadata": {
        "id": "5tOtV_o_gIfq"
      },
      "source": [
        "문제458. 월급이 3000 이상인 사원들의 이름과 월급을 출력하시오 !\r\n",
        "\r\n",
        "    mysql> \r\n",
        "    select ename, sal\r\n",
        "       from emp\r\n",
        "       where sal >= 3000;\r\n"
      ]
    },
    {
      "cell_type": "markdown",
      "metadata": {
        "id": "z3fHF9ifgPXi"
      },
      "source": [
        ""
      ]
    },
    {
      "cell_type": "markdown",
      "metadata": {
        "id": "nBdyfk0igP5C"
      },
      "source": [
        ""
      ]
    },
    {
      "cell_type": "markdown",
      "metadata": {
        "id": "349BU9kAgQRF"
      },
      "source": [
        "문제459. 직업이 SALESMAN 인 사원들의 이름과 월급과 직업을 출력하는데\r\n",
        "\t     월급이 높은 사원부터 출력하시오 !\r\n",
        "\r\n",
        "    mysql> \r\n",
        "    select ename, sal, job\r\n",
        "       from emp\r\n",
        "       where job = 'SALESMAN'\r\n",
        "       order by sal desc;\r\n"
      ]
    },
    {
      "cell_type": "markdown",
      "metadata": {
        "id": "EtooxBqvgUNs"
      },
      "source": [
        ""
      ]
    },
    {
      "cell_type": "markdown",
      "metadata": {
        "id": "4jTP7Pw3gUnQ"
      },
      "source": [
        ""
      ]
    },
    {
      "cell_type": "markdown",
      "metadata": {
        "id": "fE9EmvcsgUiT"
      },
      "source": [
        "문제460. 이름과 부서위치를 출력하시오 !\r\n",
        "\r\n",
        "    mysql> \r\n",
        "    select e.ename, d.loc\r\n",
        "       from emp e, dept d\r\n",
        "       where e.deptno = d.deptno;"
      ]
    },
    {
      "cell_type": "markdown",
      "metadata": {
        "id": "kAVmVcHkgiTE"
      },
      "source": [
        ""
      ]
    },
    {
      "cell_type": "markdown",
      "metadata": {
        "id": "3EUPMw6ZgiOs"
      },
      "source": [
        ""
      ]
    },
    {
      "cell_type": "markdown",
      "metadata": {
        "id": "KfJJ8POBgiLj"
      },
      "source": [
        "문제461. JONES 보다 더 많은 월급을 받는 사원들의 이름과 월급을 출력하시오 ! (서브쿼리문)\r\n",
        "\r\n",
        "    mysql> \r\n",
        "    select ename, sal\r\n",
        "       from emp\r\n",
        "       where sal > (select sal\r\n",
        "                       from emp\r\n",
        "                       where ename = 'JONES');\r\n"
      ]
    },
    {
      "cell_type": "markdown",
      "metadata": {
        "id": "wmQNdOCRgoyI"
      },
      "source": [
        ""
      ]
    },
    {
      "cell_type": "markdown",
      "metadata": {
        "id": "PLoK5glQgpGT"
      },
      "source": [
        ""
      ]
    },
    {
      "cell_type": "markdown",
      "metadata": {
        "id": "pAv5RbM8gpBr"
      },
      "source": [
        "문제462. 이름, 월급, 순위를 출력하시오 ! (순위는 월급이 높은 순으로 순위를 부여)\r\n",
        "\r\n",
        "    mysql> \r\n",
        "    select ename, sal, rank() over (order by sal desc)\r\n",
        "       from emp;\r\n"
      ]
    },
    {
      "cell_type": "markdown",
      "metadata": {
        "id": "kyaHjBYvgtrU"
      },
      "source": [
        ""
      ]
    },
    {
      "cell_type": "markdown",
      "metadata": {
        "id": "21yq-I_PguQE"
      },
      "source": [
        ""
      ]
    },
    {
      "cell_type": "markdown",
      "metadata": {
        "id": "2ecCiRKQguAd"
      },
      "source": [
        "**■ Oracle 과 MySQL 함수 비교**\r\n",
        "\r\n",
        "\t  Oracle\t   vs\t  MySQL\r\n",
        "    1.  nvl\t\t       ifnull\r\n",
        "    2.  sysdate\t\t   sysdate()\r\n",
        "    3.  months_between\tperiod_add\r\n",
        "    4.  decode\t\t       if\r\n",
        "    5.  rollup\t\t    with rollup\r\n",
        "    6.  listagg\t\t   group_concat\r\n"
      ]
    },
    {
      "cell_type": "markdown",
      "metadata": {
        "id": "z-Rjaep8hBmc"
      },
      "source": [
        ""
      ]
    },
    {
      "cell_type": "markdown",
      "metadata": {
        "id": "lHQIZWbzhCK0"
      },
      "source": [
        ""
      ]
    },
    {
      "cell_type": "markdown",
      "metadata": {
        "id": "bDVhRs2ihB4a"
      },
      "source": [
        "문제463. 이름, 커미션을 출력하는데 커미션이 null 인 사람들은 0으로 출력하시오 !\r\n",
        "\r\n",
        "    mysql> \r\n",
        "    select ename, ifnull( comm, 0 )\r\n",
        "       from emp;"
      ]
    },
    {
      "cell_type": "markdown",
      "metadata": {
        "id": "qOBKoV1nhIYL"
      },
      "source": [
        ""
      ]
    },
    {
      "cell_type": "markdown",
      "metadata": {
        "id": "nrHBDqo0hIzp"
      },
      "source": [
        ""
      ]
    },
    {
      "cell_type": "markdown",
      "metadata": {
        "id": "75nWNTpnhIos"
      },
      "source": [
        "문제464. 오늘 날짜를 출력하시오 !\r\n",
        "\r\n",
        "오라클\r\n",
        "\r\n",
        "    select sysdate\r\n",
        "       from dual;\r\n",
        "\r\n",
        "MySQL\r\n",
        "\r\n",
        "    mysql> \r\n",
        "    select sysdate()\r\n",
        "       ;"
      ]
    },
    {
      "cell_type": "markdown",
      "metadata": {
        "id": "QuBUH3-ZhXj0"
      },
      "source": [
        "설명: mySQL 은 오라클과 같은 dual 이 없음"
      ]
    },
    {
      "cell_type": "markdown",
      "metadata": {
        "id": "8hVT8RkKheAj"
      },
      "source": [
        ""
      ]
    },
    {
      "cell_type": "markdown",
      "metadata": {
        "id": "dHIpwyd4hd7E"
      },
      "source": [
        ""
      ]
    },
    {
      "cell_type": "markdown",
      "metadata": {
        "id": "Ho0qob8bhd2I"
      },
      "source": [
        "문제465. 부서번호, 부서번호별 토탈월급을 출력하시오 !\r\n",
        "\r\n",
        "    mysql> \r\n",
        "    select deptno, sum(sal)\r\n",
        "       from emp\r\n",
        "       group by deptno;"
      ]
    },
    {
      "cell_type": "markdown",
      "metadata": {
        "id": "G0_fRcwyhiSv"
      },
      "source": [
        ""
      ]
    },
    {
      "cell_type": "markdown",
      "metadata": {
        "id": "zrwPXZ_YhiL5"
      },
      "source": [
        ""
      ]
    },
    {
      "cell_type": "markdown",
      "metadata": {
        "id": "5ikbGXU8hh6L"
      },
      "source": [
        "문제466. 위의 결과를 다시 출력하는데 맨 아래에 전체 토탈월급이 출력되게하시오 !\r\n",
        "\r\n",
        "    mysql> \r\n",
        "    select deptno, sum(sal)\r\n",
        "       from emp\r\n",
        "       group by deptno with rollup;\r\n"
      ]
    },
    {
      "cell_type": "markdown",
      "metadata": {
        "id": "COXHYKhShmpc"
      },
      "source": [
        ""
      ]
    },
    {
      "cell_type": "markdown",
      "metadata": {
        "id": "FvgT2-5WhnHT"
      },
      "source": [
        ""
      ]
    },
    {
      "cell_type": "markdown",
      "metadata": {
        "id": "C5VBNuZNhqC8"
      },
      "source": [
        "※ 이제부터 아주 중요"
      ]
    },
    {
      "cell_type": "markdown",
      "metadata": {
        "id": "qZBfggBohm6s"
      },
      "source": [
        "문제467. scott 의 월급을 0 으로 변경하세요 ~\r\n",
        "\r\n",
        "    mysql> \r\n",
        "    update emp\r\n",
        "       set sal = 0\r\n",
        "       where ename = 'SCOTT';\r\n",
        "\r\n",
        "    rollback;"
      ]
    },
    {
      "cell_type": "markdown",
      "metadata": {
        "id": "SdjfQJ0Mhxhj"
      },
      "source": [
        "※ mysql 은 오라클과는 다르게 기본 자동 commit 이 활성화 되어있다.\r\n",
        "   자동 commit 되어버려서 rollback 을 할 수 없습니다.\r\n",
        "   mySQL 사용자들이 많이 하는 실수중에 하나"
      ]
    },
    {
      "cell_type": "markdown",
      "metadata": {
        "id": "tJ185IUBh6jQ"
      },
      "source": [
        ""
      ]
    },
    {
      "cell_type": "markdown",
      "metadata": {
        "id": "UtJqnCJTh6d0"
      },
      "source": [
        ""
      ]
    },
    {
      "cell_type": "markdown",
      "metadata": {
        "id": "6rtjXer4h6ND"
      },
      "source": [
        "문제468. 자동 commit 이 활성화 되어져 있는지 확인해보세요 ~\r\n",
        "\r\n",
        "    mysql> select @@autocommit;"
      ]
    },
    {
      "cell_type": "markdown",
      "metadata": {
        "id": "cFneV2uJh9OL"
      },
      "source": [
        "설명: 숫자 1이면 autocommit 이 켜있는 것입니다."
      ]
    },
    {
      "cell_type": "markdown",
      "metadata": {
        "id": "f3QZ-S71h_Q0"
      },
      "source": [
        ""
      ]
    },
    {
      "cell_type": "markdown",
      "metadata": {
        "id": "eERVK2oOh_LK"
      },
      "source": [
        ""
      ]
    },
    {
      "cell_type": "markdown",
      "metadata": {
        "id": "aLfEArgKh-_E"
      },
      "source": [
        "문제469. 자동 commit 기능을 끄세요 ~\r\n",
        "\r\n",
        "    mysql> set autocommit = FALSE;\r\n",
        "\r\n",
        "    mysql> select @@autocommit;\r\n"
      ]
    },
    {
      "cell_type": "markdown",
      "metadata": {
        "id": "hcxGwTkpiC5i"
      },
      "source": [
        "설명: 숫자가 0 이면 자동 commit 기능이 비활성화 된 것입니다."
      ]
    },
    {
      "cell_type": "markdown",
      "metadata": {
        "id": "DJV60fX8iL2r"
      },
      "source": [
        ""
      ]
    },
    {
      "cell_type": "markdown",
      "metadata": {
        "id": "gh8Pyu0miMRj"
      },
      "source": [
        ""
      ]
    },
    {
      "cell_type": "markdown",
      "metadata": {
        "id": "a_K-OrnBiMHH"
      },
      "source": [
        "문제470. KING 의 월급을 0 으로 변경하세요\r\n",
        "\r\n",
        "    mysql> update emp\r\n",
        "       set sal = 0\r\n",
        "       where ename = 'KING';\r\n",
        "\r\n",
        "    mysql> rollback;"
      ]
    },
    {
      "cell_type": "markdown",
      "metadata": {
        "id": "uNhwA6DFiQcY"
      },
      "source": [
        "설명: mySQL 을 켰으면 제일 먼저 확인해야하는것이 자동 commit 이 활성화 되었는지\r\n",
        "\t확인하는게 아주 중요합니다 !"
      ]
    },
    {
      "cell_type": "markdown",
      "metadata": {
        "id": "MVSghboziTcU"
      },
      "source": [
        ""
      ]
    },
    {
      "cell_type": "markdown",
      "metadata": {
        "id": "W2vnlUmhiT_M"
      },
      "source": [
        ""
      ]
    },
    {
      "cell_type": "markdown",
      "metadata": {
        "id": "bI4asbg9iTun"
      },
      "source": [
        "문제471. 오라클의 listagg 함수와 같은 기능인 group_concat 을 이용해서 부서번호, 부서번호별로 속한 사원들의 이름을 가로로 출력하시오 !\r\n",
        "\r\n",
        "    mysql> \r\n",
        "    select deptno, group_concat(ename)\r\n",
        "       from emp\r\n",
        "       group by deptno;"
      ]
    },
    {
      "cell_type": "markdown",
      "metadata": {
        "id": "_K2hyNB3ica0"
      },
      "source": [
        ""
      ]
    },
    {
      "cell_type": "markdown",
      "metadata": {
        "id": "Ljo8rOJ9icUx"
      },
      "source": [
        ""
      ]
    },
    {
      "cell_type": "markdown",
      "metadata": {
        "id": "BbDYypDaib5_"
      },
      "source": [
        "문제472. mySQL 과 파이썬을 연동해서 mySQL 의 emp 테이블을 파이썬에서 출력하시오 !\r\n",
        "\r\n",
        "먼저 아나콘다 프롬프트 창을 열고 pymysql 을 설치하세요 !\r\n",
        "\r\n",
        "    conda install pymysql\r\n",
        "\r\n",
        "\r\n",
        "스파이더에서 아래 코드 입력"
      ]
    },
    {
      "cell_type": "code",
      "metadata": {
        "id": "JVYC7Bi2ielN"
      },
      "source": [
        "import pymysql, pandas as pd\r\n",
        "\r\n",
        "conn = pymysql.connect(host=\"localhost\", user=\"root\", password=\"oracle\", db=\"orcl\", charset=\"utf8\")\r\n",
        "\r\n",
        "curs = conn.cursor()\r\n",
        "sql = \"select * from emp\"\r\n",
        "curs.execute(sql)\r\n",
        "rows = curs.fetchall()\r\n",
        "colname = curs.description\r\n",
        "col = []\r\n",
        "for i in colname:\r\n",
        "    col.append(i[0].lower())\r\n",
        "emp = pd.DataFrame(list(rows),columns=col)\r\n",
        "print(emp[['ename', 'sal']] )"
      ],
      "execution_count": null,
      "outputs": []
    },
    {
      "cell_type": "markdown",
      "metadata": {
        "id": "eRwhsSjpii0D"
      },
      "source": [
        ""
      ]
    },
    {
      "cell_type": "markdown",
      "metadata": {
        "id": "Khb4PRWxiiuQ"
      },
      "source": [
        ""
      ]
    },
    {
      "cell_type": "markdown",
      "metadata": {
        "id": "EwI4AZm4iiod"
      },
      "source": [
        "문제473. 직업, 직업별 토탈월급을 출력하시오 !\r\n"
      ]
    },
    {
      "cell_type": "code",
      "metadata": {
        "id": "w15LeqjuilAT"
      },
      "source": [
        "import pymysql,pandas as pd\r\n",
        "\r\n",
        "conn = pymysql.connect(host=\"localhost\", user=\"root\",password=\"oracle\", db=\"orcl\",charset=\"utf8\")\r\n",
        "\r\n",
        "curs = conn.cursor()\r\n",
        "sql = \"select job, sum(sal) from emp group by job\"\r\n",
        "curs.execute(sql)\r\n",
        "rows = curs.fetchall()\r\n",
        "colname = curs.description\r\n",
        "col = []\r\n",
        "for i in colname:\r\n",
        "    col.append(i[0].upper())\r\n",
        "emp = pd.DataFrame(list(rows),columns=col)\r\n",
        "print(emp)"
      ],
      "execution_count": null,
      "outputs": []
    },
    {
      "cell_type": "markdown",
      "metadata": {
        "id": "DjfZfd06ioZW"
      },
      "source": [
        ""
      ]
    },
    {
      "cell_type": "markdown",
      "metadata": {
        "id": "lG-EkPr6ioVl"
      },
      "source": [
        ""
      ]
    },
    {
      "cell_type": "markdown",
      "metadata": {
        "id": "q1RKdakbioQb"
      },
      "source": [
        "문제474. 위의 결과를 막대그래프로 시각화 하시오 !\r\n"
      ]
    },
    {
      "cell_type": "code",
      "metadata": {
        "id": "yPRnfa_RiqF1"
      },
      "source": [
        "import pymysql\r\n",
        "import pandas as pd\r\n",
        "\r\n",
        "conn = pymysql.connect(host=\"localhost\", user=\"root\",password=\"oracle\",\r\n",
        "db=\"orcl\",charset=\"utf8\")\r\n",
        "\r\n",
        "curs = conn.cursor()\r\n",
        "sql = \"\"\" select job, sum(sal) from emp group by job \"\"\"\r\n",
        "\r\n",
        "curs.execute(sql)\r\n",
        "row = curs.fetchall()\r\n",
        "emp = pd.DataFrame(row)\r\n",
        "print(emp)\r\n",
        "\r\n",
        "for i in emp.columns:\r\n",
        "try:\r\n",
        "emp[i]=emp[i].astype(int)\r\n",
        "except:\r\n",
        "pass\r\n",
        "emp.index = list(emp[0])\r\n",
        "emp.plot( kind='bar', color='red')"
      ],
      "execution_count": null,
      "outputs": []
    },
    {
      "cell_type": "markdown",
      "metadata": {
        "id": "UM_LxnxYitTb"
      },
      "source": [
        ""
      ]
    },
    {
      "cell_type": "markdown",
      "metadata": {
        "id": "bwwiAnuDitOX"
      },
      "source": [
        ""
      ]
    },
    {
      "cell_type": "markdown",
      "metadata": {
        "id": "u4hJRSTxitLD"
      },
      "source": [
        "**■ 150. 이미지를 숫자로 변환하는 방법 ( 폐사진 )**\r\n",
        "\r\n",
        "딥러닝 수업을 할 때 이미지를 인공 신경망에 넣어서 학습을 시키는데\r\n",
        "인공 신경망에 사진을 넣을 때 숫자로 변환을 해서 넣어야 합니다."
      ]
    },
    {
      "cell_type": "markdown",
      "metadata": {
        "id": "Rk5x27LaiwWX"
      },
      "source": [
        ""
      ]
    },
    {
      "cell_type": "markdown",
      "metadata": {
        "id": "ZIo3geJ7ixx2"
      },
      "source": [
        "문제475. 오라클과 파이썬을 연동하여 아래의 사원들을 검색하시오 !  \r\n",
        "\t     이름과 월급과 부서번호와 자기가 속한 부서번호의 평균월급을 출력하는데\r\n",
        "\t     자신의 월급이 자기가 속한 부서번호의 평균월급보다 더 큰 사원들만 출력하시오 !\r\n",
        "\r\n",
        "오라클\r\n",
        "\r\n",
        "    select e.ename, e.sal, v.부서평균\r\n",
        "       from emp e, (select deptno, avg(sal) as 부서평균\r\n",
        "                       from emp\r\n",
        "                       group by deptno) v\r\n",
        "       where e.deptno = v.deptno and e.sal > v.부서평균;\r\n"
      ]
    },
    {
      "cell_type": "code",
      "metadata": {
        "id": "s2zWFPddi9HD"
      },
      "source": [
        "import pymysql,pandas as pd\r\n",
        "\r\n",
        "conn = pymysql.connect(host=\"localhost\", user=\"root\",password=\"oracle\", db=\"orcl\",charset=\"utf8\")\r\n",
        "\r\n",
        "curs = conn.cursor()\r\n",
        "sql = '''select e.ename, e.sal, e.deptno, v.부서평균 \r\n",
        "            from emp e, (select deptno, avg(sal) as 부서평균\r\n",
        "                            from emp group by deptno) v \r\n",
        "            where e.deptno = v.deptno and e.sal > v.부서평균'''\r\n",
        "curs.execute(sql)\r\n",
        "rows = curs.fetchall()\r\n",
        "colname = curs.description\r\n",
        "col = []\r\n",
        "for i in colname:\r\n",
        "    col.append(i[0].upper())\r\n",
        "emp = pd.DataFrame(list(rows),columns=col)\r\n",
        "print(emp)"
      ],
      "execution_count": null,
      "outputs": []
    }
  ]
}