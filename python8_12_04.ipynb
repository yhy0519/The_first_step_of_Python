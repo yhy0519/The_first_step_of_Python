{
  "nbformat": 4,
  "nbformat_minor": 0,
  "metadata": {
    "colab": {
      "name": "python8_12_04.ipynb",
      "provenance": [],
      "collapsed_sections": [],
      "mount_file_id": "1_L6VzupvDk2Z0h683JR2ylb215zgDj0h",
      "authorship_tag": "ABX9TyOFdMpBgs8WKr7i8AMDR5P7",
      "include_colab_link": true
    },
    "kernelspec": {
      "name": "python3",
      "display_name": "Python 3"
    }
  },
  "cells": [
    {
      "cell_type": "markdown",
      "metadata": {
        "id": "view-in-github",
        "colab_type": "text"
      },
      "source": [
        "<a href=\"https://colab.research.google.com/github/yhy0519/The_first_step_of_Python/blob/main/python8_12_04.ipynb\" target=\"_parent\"><img src=\"https://colab.research.google.com/assets/colab-badge.svg\" alt=\"Open In Colab\"/></a>"
      ]
    },
    {
      "cell_type": "markdown",
      "metadata": {
        "id": "ox8mkwkrRJgT"
      },
      "source": [
        "**■ 58. 예외처리 이해하기 ④ (try~except Exception as e)**\r\n",
        "\r\n",
        "코드에서 예외가 발생하면 이에 대한 자세한 내용을 파악하는 것이 중요합니다.\r\n",
        "\r\n",
        "http://docs.python.org/3/library/exceptions.html\r\n",
        "\r\n",
        "설명: 위에 사이트에 보면 여러가지 다양한 에러에 대해서 미리 에러처리를 할 수 있도록 정의해놓은 예외들을 확인할 수 있습니다.\r\n",
        "\r\n",
        "예제:"
      ]
    },
    {
      "cell_type": "code",
      "metadata": {
        "colab": {
          "base_uri": "https://localhost:8080/"
        },
        "id": "hx_9fTd1Qtcp",
        "outputId": "495daad4-1146-454b-98fe-54bcca6cabc0"
      },
      "source": [
        "try:\r\n",
        "    x = int( input('분자의 숫자를 입력하시오') )\r\n",
        "    y = int( input('분모의 숫자를 입력하시오') )\r\n",
        "    print( x / y )\r\n",
        "except:\r\n",
        "    print('잘못된 값을 입력하셔서 나누기를 시도하셨습니다.')"
      ],
      "execution_count": 1,
      "outputs": [
        {
          "output_type": "stream",
          "text": [
            "분자의 숫자를 입력하시오10\n",
            "분모의 숫자를 입력하시오0\n",
            "잘못된 값을 입력하셔서 나누기를 시도하셨습니다.\n"
          ],
          "name": "stdout"
        }
      ]
    },
    {
      "cell_type": "code",
      "metadata": {
        "colab": {
          "base_uri": "https://localhost:8080/"
        },
        "id": "0-AASAt3Rapi",
        "outputId": "347c6df1-4908-4e0d-e3ca-90bbe535f669"
      },
      "source": [
        "try:\r\n",
        "    x = int( input('분자의 숫자를 입력하시오') )\r\n",
        "    y = int( input('분모의 숫자를 입력하시오') )\r\n",
        "    print( x / y )\r\n",
        "except:\r\n",
        "    print('잘못된 값을 입력하셔서 나누기를 시도하셨습니다.')"
      ],
      "execution_count": 3,
      "outputs": [
        {
          "output_type": "stream",
          "text": [
            "분자의 숫자를 입력하시오10\n",
            "분모의 숫자를 입력하시오a\n",
            "잘못된 값을 입력하셔서 나누기를 시도하셨습니다.\n"
          ],
          "name": "stdout"
        }
      ]
    },
    {
      "cell_type": "markdown",
      "metadata": {
        "id": "KVMuyJYORdA6"
      },
      "source": [
        "설명: 위의 경우에는 분모값을 입력할 때 숫자 0을 입력했을때와 문자 a를 입력했을때 똑같이 '잘못된 값을 입력하셔서 나누기를 시도하셨습니다'가 출력되게 했는데 좀 더 구체화해서 분모값으로 0 을 입력하면 0으로 나눌 수 없습니다가 나오고 분모값으로 a 를 입력하면 잘못된 값을 입력하셨습니다가 나오게 하고 싶다면?"
      ]
    },
    {
      "cell_type": "code",
      "metadata": {
        "colab": {
          "base_uri": "https://localhost:8080/"
        },
        "id": "SfiuT8P2RvBv",
        "outputId": "01b55564-bc91-4ef7-e500-07c1baa5d3c9"
      },
      "source": [
        "try:\r\n",
        "    x = int( input('분자의 숫자를 입력하시오') )\r\n",
        "    y = int( input('분모의 숫자를 입력하시오') )\r\n",
        "    print( x / y )\r\n",
        "except ZeroDivisionError:\r\n",
        "    print('0으로 나눌 수 없습니다.')\r\n",
        "except:\r\n",
        "    print('잘못된 값을 입력하셨습니다.')"
      ],
      "execution_count": 4,
      "outputs": [
        {
          "output_type": "stream",
          "text": [
            "분자의 숫자를 입력하시오10\n",
            "분모의 숫자를 입력하시오0\n",
            "0으로 나눌 수 없습니다.\n"
          ],
          "name": "stdout"
        }
      ]
    },
    {
      "cell_type": "code",
      "metadata": {
        "colab": {
          "base_uri": "https://localhost:8080/"
        },
        "id": "rd-YBrjER4r6",
        "outputId": "a63819a4-fdbf-4e1e-da38-b54321b26105"
      },
      "source": [
        "try:\r\n",
        "    x = int( input('분자의 숫자를 입력하시오') )\r\n",
        "    y = int( input('분모의 숫자를 입력하시오') )\r\n",
        "    print( x / y )\r\n",
        "except ZeroDivisionError:\r\n",
        "    print('0으로 나눌 수 없습니다.')\r\n",
        "except:\r\n",
        "    print('잘못된 값을 입력하셨습니다.')"
      ],
      "execution_count": 5,
      "outputs": [
        {
          "output_type": "stream",
          "text": [
            "분자의 숫자를 입력하시오10\n",
            "분모의 숫자를 입력하시오a\n",
            "잘못된 값을 입력하셨습니다.\n"
          ],
          "name": "stdout"
        }
      ]
    },
    {
      "cell_type": "markdown",
      "metadata": {
        "id": "mZb9YYrHR9rp"
      },
      "source": [
        "문제191. 숫자를 물어보게하고 숫자를 입력하면 해당 숫자만큼 1번부터 출력되게하는 \r\n",
        "\t     코드를 작성하시오!\r\n",
        "\t\r\n",
        "    숫자를 입력하세요~5\r\n",
        "    1\r\n",
        "    2\r\n",
        "    3\r\n",
        "    4\r\n",
        "    5"
      ]
    },
    {
      "cell_type": "code",
      "metadata": {
        "colab": {
          "base_uri": "https://localhost:8080/"
        },
        "id": "GlKAOhCsSCj0",
        "outputId": "220c850a-679c-4551-a473-fc3eba99a197"
      },
      "source": [
        "num = int( input('숫자를 입력하세요~') )\r\n",
        "\r\n",
        "for i in range(1, num+1):\r\n",
        "    print(i)"
      ],
      "execution_count": 6,
      "outputs": [
        {
          "output_type": "stream",
          "text": [
            "숫자를 입력하세요~5\n",
            "1\n",
            "2\n",
            "3\n",
            "4\n",
            "5\n"
          ],
          "name": "stdout"
        }
      ]
    },
    {
      "cell_type": "markdown",
      "metadata": {
        "id": "BVmF-A4pRuUK"
      },
      "source": [
        "문제192. 위의 코드에 예외처리를 해서 숫자를 물어볼 때 문자를 입력하면 잘못된 값을 입력하셨습니다. 라고 메세지가 출력되게하시오"
      ]
    },
    {
      "cell_type": "code",
      "metadata": {
        "colab": {
          "base_uri": "https://localhost:8080/"
        },
        "id": "I9O58U3TSPgm",
        "outputId": "f6994a57-9114-496b-b872-e1e2d0faf203"
      },
      "source": [
        "try:\r\n",
        "    num = int( input('숫자를 입력하세요~') )\r\n",
        "    for i in range(1, num+1):\r\n",
        "        print(i)\r\n",
        "except:\r\n",
        "    print('잘못된 값을 입력하셨습니다.')"
      ],
      "execution_count": 8,
      "outputs": [
        {
          "output_type": "stream",
          "text": [
            "숫자를 입력하세요~a\n",
            "잘못된 값을 입력하셨습니다.\n"
          ],
          "name": "stdout"
        }
      ]
    },
    {
      "cell_type": "markdown",
      "metadata": {
        "id": "L44xon15Shy5"
      },
      "source": [
        "설명: 위의 코드의 경우에는 숫자를 입력할 때 알파벳 a 를 넣으면 예외처리가 되어서\r\n",
        "\t잘못된 값을 입력하셨습니다. 라는 말만 나오고  \r\n",
        "  에러에 대한 정확한 원인파악은 어렵습니다.\r\n",
        "\r\n",
        "잘못된 값을 입력하셨습니다 말고도 에러에 대한 정확한 원인을 파악하고 싶다면\r\n",
        "아래와 같이 작성하면 됩니다."
      ]
    },
    {
      "cell_type": "code",
      "metadata": {
        "colab": {
          "base_uri": "https://localhost:8080/"
        },
        "id": "6511xcHISoWU",
        "outputId": "4a0bec5a-ca03-426e-e7f4-90463a3e4024"
      },
      "source": [
        "try:\r\n",
        "    num = int( input('숫자를 입력하세요~') )\r\n",
        "    for i in range(1, num+1):\r\n",
        "        print(i)\r\n",
        "except Exception as e:\r\n",
        "    print('잘못된 값을 입력하셨습니다.')\r\n",
        "    print(e)         # 에러가 난 이유를 출력해준다."
      ],
      "execution_count": 9,
      "outputs": [
        {
          "output_type": "stream",
          "text": [
            "숫자를 입력하세요~a\n",
            "잘못된 값을 입력하셨습니다.\n",
            "invalid literal for int() with base 10: 'a'\n"
          ],
          "name": "stdout"
        }
      ]
    },
    {
      "cell_type": "markdown",
      "metadata": {
        "id": "uE0U-9OXSvf2"
      },
      "source": [
        "**■ 59. 예외처리 이해하기 ⑤ (try~except 특정 예외)**\r\n",
        "\r\n",
        "파이썬 입장에서 봤을때는 오류가 아닌데 프로그래머가 이건 오류이다 라고\r\n",
        "일부러 프로그램이 안돌게 오류메세지를 출력하는 경우에 사용합니다.\r\n",
        "\r\n",
        "계산하는 프로그램\r\n",
        "\r\n",
        "    프로그램코드 ………………….\r\n",
        "    프로그램코드 ………………….   -->  오류가 발생했으면  --> 끝\r\n",
        "    프로그램코드 ………………….\r\n",
        "    프로그램코드 ………………….\r\n",
        "\r\n",
        "설명: 금융권 프로그램에서는 금액이 안맞는 프로그램이 있다면 사고로 이어지게 되므로 금액이 안맞으면 프로그램을 종료해라 라고 예외처리를 할 수 있다.\r\n",
        "\r\n",
        "문법:\r\n",
        "\r\n",
        "    실행코드\r\n",
        "    if 어떤조건:\r\n",
        "        raise Exception('예외가 발생했습니다.')    # 여기서 종료\r\n",
        "    else:\r\n",
        "       실행코드\r\n"
      ]
    },
    {
      "cell_type": "code",
      "metadata": {
        "colab": {
          "base_uri": "https://localhost:8080/"
        },
        "id": "Tfsw9rWXTcK5",
        "outputId": "1467bcfc-489a-4480-ed41-ba0fb4d3c263"
      },
      "source": [
        "from google.colab import drive\r\n",
        "drive.mount('/content/drive')"
      ],
      "execution_count": 10,
      "outputs": [
        {
          "output_type": "stream",
          "text": [
            "Drive already mounted at /content/drive; to attempt to forcibly remount, call drive.mount(\"/content/drive\", force_remount=True).\n"
          ],
          "name": "stdout"
        }
      ]
    },
    {
      "cell_type": "markdown",
      "metadata": {
        "id": "u-BlM9RzTPBm"
      },
      "source": [
        "문제193. 판다스를 이용해서 emp3.csv 의 데이터를 로드하는데 이름을 물어보게하고\r\n",
        "\t     이름을 입력하면 해당 사원의 이름과 월급이 출력되게하시오 !\r\n",
        "\r\n",
        "    이름을 입력하세요 ~ scott\r\n",
        "\r\n",
        "    SCOTT 3000\r\n"
      ]
    },
    {
      "cell_type": "code",
      "metadata": {
        "colab": {
          "base_uri": "https://localhost:8080/"
        },
        "id": "A9WW3k8aTQMT",
        "outputId": "eb2096a5-7c17-4e11-8f79-4179bc159550"
      },
      "source": [
        "import pandas as pd\r\n",
        "\r\n",
        "name = input('이름을 입력하세요 ~ ')\r\n",
        "emp = pd.read_csv('/content/drive/MyDrive/data/emp3.csv')\r\n",
        "print( emp[['ename', 'sal']][emp['ename'] == name.upper()] )"
      ],
      "execution_count": 14,
      "outputs": [
        {
          "output_type": "stream",
          "text": [
            "이름을 입력하세요 ~ scott\n",
            "    ename   sal\n",
            "11  SCOTT  3000\n"
          ],
          "name": "stdout"
        }
      ]
    },
    {
      "cell_type": "markdown",
      "metadata": {
        "id": "u_Ojp2eeUZPI"
      },
      "source": [
        "문제194. 위의 결과에서 월급만 출력하시오!"
      ]
    },
    {
      "cell_type": "code",
      "metadata": {
        "colab": {
          "base_uri": "https://localhost:8080/"
        },
        "id": "3O6JowczUaE1",
        "outputId": "6c01df54-cf56-4bc7-ed32-1477c87d1e9d"
      },
      "source": [
        "import pandas as pd\r\n",
        "\r\n",
        "name = input('이름을 입력하세요 ~ ').upper()\r\n",
        "emp = pd.read_csv('/content/drive/MyDrive/data/emp3.csv')\r\n",
        "print( emp['sal'][emp['ename'] == name] )"
      ],
      "execution_count": 16,
      "outputs": [
        {
          "output_type": "stream",
          "text": [
            "이름을 입력하세요 ~ scott\n",
            "11    3000\n",
            "Name: sal, dtype: int64\n"
          ],
          "name": "stdout"
        }
      ]
    },
    {
      "cell_type": "code",
      "metadata": {
        "colab": {
          "base_uri": "https://localhost:8080/"
        },
        "id": "R4WQxH51UnfE",
        "outputId": "12957280-ba7c-4025-c1c2-9ab6293bf62f"
      },
      "source": [
        "result = emp['sal'] [emp['ename'] == name]\r\n",
        "print( type(result) )      # Series : 오라클의 컬럼 같은 존재"
      ],
      "execution_count": 17,
      "outputs": [
        {
          "output_type": "stream",
          "text": [
            "<class 'pandas.core.series.Series'>\n"
          ],
          "name": "stdout"
        }
      ]
    },
    {
      "cell_type": "markdown",
      "metadata": {
        "id": "y9sF0rlPUvl8"
      },
      "source": [
        "3000  <---- 필드값  \r\n",
        "(불필요한 정보들을 제외하고싶음)"
      ]
    },
    {
      "cell_type": "code",
      "metadata": {
        "colab": {
          "base_uri": "https://localhost:8080/"
        },
        "id": "fXX98FM2UwkU",
        "outputId": "90d21e43-4062-4c09-8347-0d8d10badbfa"
      },
      "source": [
        "import pandas as pd\r\n",
        "\r\n",
        "emp = pd.read_csv('/content/drive/MyDrive/data/emp3.csv')\r\n",
        "name = input('이름을 입력하세요~').upper()\r\n",
        "\r\n",
        "result = emp['sal'] [emp['ename'] == name].values[0]   # 한개의 값을 가져오는거라 무조건 0 을 쓴다.\r\n",
        "print( type(result) )\r\n",
        "print( result )"
      ],
      "execution_count": 19,
      "outputs": [
        {
          "output_type": "stream",
          "text": [
            "이름을 입력하세요~scott\n",
            "<class 'numpy.int64'>\n",
            "3000\n"
          ],
          "name": "stdout"
        }
      ]
    },
    {
      "cell_type": "markdown",
      "metadata": {
        "id": "xZ0T1PmDU6H0"
      },
      "source": [
        "설명: emp 데이터 프레임에서 어떤 특정값을 딱 하나만 출력하려면 위와 같이 작성해줘야 합니다."
      ]
    },
    {
      "cell_type": "markdown",
      "metadata": {
        "id": "zFH7jy8NU_Is"
      },
      "source": [
        "문제195. 위의 코드에 사용자 정의 예외처리를 해서 월급이 고소득자는 해당 사원의 월급을 볼 수 없습니다. 라는 메세지가 출력되게하시오 (월급이 3000 이상인 사원들을 고소득자로 보고 작성하시오)\r\n"
      ]
    },
    {
      "cell_type": "code",
      "metadata": {
        "colab": {
          "base_uri": "https://localhost:8080/",
          "height": 238
        },
        "id": "2bIGEjf3VB1K",
        "outputId": "ecd80f8f-3dca-42a1-edbb-0766dd11d021"
      },
      "source": [
        "import pandas as pd\r\n",
        "\r\n",
        "emp = pd.read_csv('/content/drive/MyDrive/data/emp3.csv')\r\n",
        "name = input('이름을 입력하세요~').upper()\r\n",
        "result = emp['sal'] [emp['ename'] == name].values[0]\r\n",
        "\r\n",
        "if result >= 3000:\r\n",
        "    raise Exception('해당 사원의 월급을 볼 수 없습니다.')\r\n",
        "print(emp[['ename','sal']] [emp['ename'] == name])"
      ],
      "execution_count": 23,
      "outputs": [
        {
          "output_type": "stream",
          "text": [
            "이름을 입력하세요~scott\n"
          ],
          "name": "stdout"
        },
        {
          "output_type": "error",
          "ename": "Exception",
          "evalue": "ignored",
          "traceback": [
            "\u001b[0;31m---------------------------------------------------------------------------\u001b[0m",
            "\u001b[0;31mException\u001b[0m                                 Traceback (most recent call last)",
            "\u001b[0;32m<ipython-input-23-c058b81641ed>\u001b[0m in \u001b[0;36m<module>\u001b[0;34m()\u001b[0m\n\u001b[1;32m      6\u001b[0m \u001b[0;34m\u001b[0m\u001b[0m\n\u001b[1;32m      7\u001b[0m \u001b[0;32mif\u001b[0m \u001b[0mresult\u001b[0m \u001b[0;34m>=\u001b[0m \u001b[0;36m3000\u001b[0m\u001b[0;34m:\u001b[0m\u001b[0;34m\u001b[0m\u001b[0;34m\u001b[0m\u001b[0m\n\u001b[0;32m----> 8\u001b[0;31m     \u001b[0;32mraise\u001b[0m \u001b[0mException\u001b[0m\u001b[0;34m(\u001b[0m\u001b[0;34m'해당 사원의 월급을 볼 수 없습니다.'\u001b[0m\u001b[0;34m)\u001b[0m\u001b[0;34m\u001b[0m\u001b[0;34m\u001b[0m\u001b[0m\n\u001b[0m\u001b[1;32m      9\u001b[0m \u001b[0mprint\u001b[0m\u001b[0;34m(\u001b[0m\u001b[0memp\u001b[0m\u001b[0;34m[\u001b[0m\u001b[0;34m[\u001b[0m\u001b[0;34m'ename'\u001b[0m\u001b[0;34m,\u001b[0m\u001b[0;34m'sal'\u001b[0m\u001b[0;34m]\u001b[0m\u001b[0;34m]\u001b[0m \u001b[0;34m[\u001b[0m\u001b[0memp\u001b[0m\u001b[0;34m[\u001b[0m\u001b[0;34m'ename'\u001b[0m\u001b[0;34m]\u001b[0m \u001b[0;34m==\u001b[0m \u001b[0mname\u001b[0m\u001b[0;34m]\u001b[0m\u001b[0;34m)\u001b[0m\u001b[0;34m\u001b[0m\u001b[0;34m\u001b[0m\u001b[0m\n",
            "\u001b[0;31mException\u001b[0m: 해당 사원의 월급을 볼 수 없습니다."
          ]
        }
      ]
    },
    {
      "cell_type": "markdown",
      "metadata": {
        "id": "Y75RKmHtYgb3"
      },
      "source": [
        "문제196. 위의 코드를 수정해서 이름을 물어보게 하고 이름과 직업을 출력하는 코드로 작성하는데  \r\n",
        "직업이 SALESMAN 이면 해당 사원의 정보는 볼 수 없습니다. 라는 메세지가 출력되면서 프로그램이 종료되게 하시오!\r\n"
      ]
    },
    {
      "cell_type": "code",
      "metadata": {
        "colab": {
          "base_uri": "https://localhost:8080/"
        },
        "id": "iNGaXqntYgAn",
        "outputId": "10f9615c-f1ee-468c-b360-a03b0335307b"
      },
      "source": [
        "import pandas as pd\r\n",
        "\r\n",
        "emp = pd.read_csv('/content/drive/MyDrive/data/emp3.csv')\r\n",
        "name = input('이름을 입력하세요~').upper()\r\n",
        "result = emp['job'] [emp['ename'] == name].values[0]\r\n",
        "\r\n",
        "if result == 'SALESMAN':\r\n",
        "    raise Exception('해당 사원의 정보는 볼 수 없습니다.')\r\n",
        "print(emp[['ename', 'job']] [emp['ename'] == name])"
      ],
      "execution_count": 24,
      "outputs": [
        {
          "output_type": "stream",
          "text": [
            "이름을 입력하세요~scott\n",
            "    ename      job\n",
            "11  SCOTT  ANALYST\n"
          ],
          "name": "stdout"
        }
      ]
    },
    {
      "cell_type": "code",
      "metadata": {
        "colab": {
          "base_uri": "https://localhost:8080/",
          "height": 238
        },
        "id": "nyOFQw0JY5Fs",
        "outputId": "7245376f-04ec-42c8-bdc1-30e2a3bba4c4"
      },
      "source": [
        "import pandas as pd\r\n",
        "\r\n",
        "emp = pd.read_csv('/content/drive/MyDrive/data/emp3.csv')\r\n",
        "name = input('이름을 입력하세요~').upper()\r\n",
        "result = emp['job'] [emp['ename'] == name].values[0]\r\n",
        "\r\n",
        "if result == 'SALESMAN':\r\n",
        "    raise Exception('해당 사원의 정보는 볼 수 없습니다.')\r\n",
        "print(emp[['ename', 'job']] [emp['ename'] == name])"
      ],
      "execution_count": 25,
      "outputs": [
        {
          "output_type": "stream",
          "text": [
            "이름을 입력하세요~allen\n"
          ],
          "name": "stdout"
        },
        {
          "output_type": "error",
          "ename": "Exception",
          "evalue": "ignored",
          "traceback": [
            "\u001b[0;31m---------------------------------------------------------------------------\u001b[0m",
            "\u001b[0;31mException\u001b[0m                                 Traceback (most recent call last)",
            "\u001b[0;32m<ipython-input-25-6511a2d2e2b9>\u001b[0m in \u001b[0;36m<module>\u001b[0;34m()\u001b[0m\n\u001b[1;32m      6\u001b[0m \u001b[0;34m\u001b[0m\u001b[0m\n\u001b[1;32m      7\u001b[0m \u001b[0;32mif\u001b[0m \u001b[0mresult\u001b[0m \u001b[0;34m==\u001b[0m \u001b[0;34m'SALESMAN'\u001b[0m\u001b[0;34m:\u001b[0m\u001b[0;34m\u001b[0m\u001b[0;34m\u001b[0m\u001b[0m\n\u001b[0;32m----> 8\u001b[0;31m     \u001b[0;32mraise\u001b[0m \u001b[0mException\u001b[0m\u001b[0;34m(\u001b[0m\u001b[0;34m'해당 사원의 정보는 볼 수 없습니다.'\u001b[0m\u001b[0;34m)\u001b[0m\u001b[0;34m\u001b[0m\u001b[0;34m\u001b[0m\u001b[0m\n\u001b[0m\u001b[1;32m      9\u001b[0m \u001b[0mprint\u001b[0m\u001b[0;34m(\u001b[0m\u001b[0memp\u001b[0m\u001b[0;34m[\u001b[0m\u001b[0;34m[\u001b[0m\u001b[0;34m'ename'\u001b[0m\u001b[0;34m,\u001b[0m \u001b[0;34m'job'\u001b[0m\u001b[0;34m]\u001b[0m\u001b[0;34m]\u001b[0m \u001b[0;34m[\u001b[0m\u001b[0memp\u001b[0m\u001b[0;34m[\u001b[0m\u001b[0;34m'ename'\u001b[0m\u001b[0;34m]\u001b[0m \u001b[0;34m==\u001b[0m \u001b[0mname\u001b[0m\u001b[0;34m]\u001b[0m\u001b[0;34m)\u001b[0m\u001b[0;34m\u001b[0m\u001b[0;34m\u001b[0m\u001b[0m\n",
            "\u001b[0;31mException\u001b[0m: 해당 사원의 정보는 볼 수 없습니다."
          ]
        }
      ]
    },
    {
      "cell_type": "markdown",
      "metadata": {
        "id": "shw4vee9Y8az"
      },
      "source": [
        "**■ 60. 값 입력받기(input)**\r\n",
        "\r\n",
        "파이썬 내장 함수 input 은 사용자가 키보드로 입력한 값을 문자열로 리턴합니다.  \r\n",
        "input() 의 인자는 사용자 입력을 돕기 위한 안내 문구나 힌트 등을 표시하는 문자열이 됩니다.\r\n",
        "\r\n",
        "예:\r\n",
        "\r\n",
        "    name = input('사원이름을 입력하세요~')\r\n",
        "    num = int( input('숫자값을 입력하세요~') )\r\n"
      ]
    },
    {
      "cell_type": "markdown",
      "metadata": {
        "id": "vOZHgM4ZZDJA"
      },
      "source": [
        "문제197. 사원 이름을 물어보게하고 사원이름을 입력하면 해당 사원의 이름과 월급이 출력되게하시오!\r\n",
        "\r\n"
      ]
    },
    {
      "cell_type": "code",
      "metadata": {
        "colab": {
          "base_uri": "https://localhost:8080/"
        },
        "id": "FBSHjR6BZHiS",
        "outputId": "1ec8fb26-1961-41a4-b2b5-1fa963d4886e"
      },
      "source": [
        "import pandas as pd\r\n",
        "\r\n",
        "name = input('이름을 입력하세요 ~ ')\r\n",
        "emp = pd.read_csv('/content/drive/MyDrive/data/emp3.csv')\r\n",
        "print( emp[['ename', 'sal']][emp['ename'] == name.upper()] )"
      ],
      "execution_count": 26,
      "outputs": [
        {
          "output_type": "stream",
          "text": [
            "이름을 입력하세요 ~ allen\n",
            "   ename   sal\n",
            "5  ALLEN  1600\n"
          ],
          "name": "stdout"
        }
      ]
    },
    {
      "cell_type": "code",
      "metadata": {
        "colab": {
          "base_uri": "https://localhost:8080/"
        },
        "id": "-qxm9YwparLI",
        "outputId": "aad88992-8b07-4de9-e9e2-8d686596de00"
      },
      "source": [
        "import pandas as pd\r\n",
        "\r\n",
        "name = input('이름을 입력하세요 ~ ')\r\n",
        "emp = pd.read_csv('/content/drive/MyDrive/data/emp3.csv')\r\n",
        "print( emp[['ename', 'sal']][emp['ename'] == name.upper()] )"
      ],
      "execution_count": 27,
      "outputs": [
        {
          "output_type": "stream",
          "text": [
            "이름을 입력하세요 ~ aaa\n",
            "Empty DataFrame\n",
            "Columns: [ename, sal]\n",
            "Index: []\n"
          ],
          "name": "stdout"
        }
      ]
    },
    {
      "cell_type": "markdown",
      "metadata": {
        "id": "8aaWfkEkaxJc"
      },
      "source": [
        "문제198. 없는 사원 이름을 입력하면 해당 사원은 없습니다. 라는 메세지가 출력되게하시오!"
      ]
    },
    {
      "cell_type": "code",
      "metadata": {
        "id": "_KiZp9JBa3Vo"
      },
      "source": [
        ""
      ],
      "execution_count": null,
      "outputs": []
    },
    {
      "cell_type": "code",
      "metadata": {
        "colab": {
          "base_uri": "https://localhost:8080/"
        },
        "id": "OlEQ4do3ax-v",
        "outputId": "01a7179c-22fc-4729-d350-b08c116036fb"
      },
      "source": [
        "import pandas as pd\r\n",
        "\r\n",
        "try:\r\n",
        "    emp = pd.read_csv('/content/drive/MyDrive/data/emp3.csv')\r\n",
        "    name = input('사원 이름을 입력하세요~').upper()\r\n",
        "    result = emp['ename'] [ emp['ename'] == name.upper() ].values[0]   # 이름값을 받아서 변수에 할당\r\n",
        "    print(emp[['ename', 'sal']] [emp['ename'] == result] )\r\n",
        "except LookupError:\r\n",
        "    print('해당 사원은 없습니다.')"
      ],
      "execution_count": 29,
      "outputs": [
        {
          "output_type": "stream",
          "text": [
            "사원 이름을 입력하세요~aaa\n",
            "해당 사원은 없습니다.\n"
          ],
          "name": "stdout"
        }
      ]
    },
    {
      "cell_type": "markdown",
      "metadata": {
        "id": "IKKzMTr8a8XG"
      },
      "source": [
        "설명: result = emp['ename'] [ emp['ename'] == name.upper() ].values[0]  \r\n",
        "이 코드에서 values[0] 을 사용하면 Series(컬럼) 가 아니라 값으로 출력이 되어서 result 에 담기게 됩니다.  \r\n",
        "없는 사원이름을 입력하면 result 에 값이 입력되지 않게 되므로 LookupError 예외처리가 되어서 해당사원은 없습니다. 라는 메세지가 출력되는 겁니다."
      ]
    },
    {
      "cell_type": "markdown",
      "metadata": {
        "id": "sB0e05ywbIjv"
      },
      "source": [
        "문제199. 직업을 물어보게 하고 직업을 입력하면 해당 사원의 이름과 직업과 월급이 출력되게하는 코드를 작성하는데 없는 직업을 입력하면 해당 직업은 사원 테이블에 없습니다. 라는 메세지가 출력되게하시오 !"
      ]
    },
    {
      "cell_type": "code",
      "metadata": {
        "colab": {
          "base_uri": "https://localhost:8080/"
        },
        "id": "g8igJvRobB6e",
        "outputId": "4d00dcb7-a74c-4cc0-c1fb-65943a107714"
      },
      "source": [
        "import pandas as pd\r\n",
        "\r\n",
        "try:\r\n",
        "    emp = pd.read_csv('/content/drive/MyDrive/data/emp3.csv')\r\n",
        "    job = input('직업을 입력하세요~')\r\n",
        "    result = emp['job'] [ emp['job'] == job.upper() ].values[0]\r\n",
        "    print(emp[['ename', 'job']] [emp['job'] == result] )\r\n",
        "except LookupError:\r\n",
        "    print('해당 직업은 사원 테이블에 없습니다.')"
      ],
      "execution_count": 31,
      "outputs": [
        {
          "output_type": "stream",
          "text": [
            "직업을 입력하세요~salesman\n",
            "    ename       job\n",
            "4  MARTIN  SALESMAN\n",
            "5   ALLEN  SALESMAN\n",
            "6  TURNER  SALESMAN\n",
            "8    WARD  SALESMAN\n"
          ],
          "name": "stdout"
        }
      ]
    },
    {
      "cell_type": "code",
      "metadata": {
        "colab": {
          "base_uri": "https://localhost:8080/"
        },
        "id": "Ad0o21VAbghH",
        "outputId": "ac5af310-626c-4e22-d109-e663f06897d7"
      },
      "source": [
        "import pandas as pd\r\n",
        "\r\n",
        "try:\r\n",
        "    emp = pd.read_csv('/content/drive/MyDrive/data/emp3.csv')\r\n",
        "    job = input('직업을 입력하세요~')\r\n",
        "    result = emp['job'] [ emp['job'] == job.upper() ].values[0]\r\n",
        "    print(emp[['ename', 'job']] [emp['job'] == result] )\r\n",
        "except LookupError:\r\n",
        "    print('해당 직업은 사원 테이블에 없습니다.')"
      ],
      "execution_count": 32,
      "outputs": [
        {
          "output_type": "stream",
          "text": [
            "직업을 입력하세요~aaa\n",
            "해당 직업은 사원 테이블에 없습니다.\n"
          ],
          "name": "stdout"
        }
      ]
    },
    {
      "cell_type": "markdown",
      "metadata": {
        "id": "CCynOl5RblAu"
      },
      "source": [
        "**■ 61. 자료형 확인하기(type)**\r\n",
        "\r\n",
        "파이썬의 자료형은 하나의 클래스 입니다.  \r\n",
        "파이썬은 숫자나 문자, 문자열, 리스트, 튜플, 사전, 함수 등을 각각의 하나의 클래스로 취급합니다.  \r\n",
        "코드를 작성하다가 변수 이름만 보고 이 자료가 어떤 자료형인지 확인해야하는 경우가 있습니다.  \r\n",
        "이때 파이썬 내장함수인 type() 을 활용하면 자료형을 쉽게 확인할 수 있습니다.\r\n",
        "\r\n",
        "예제:"
      ]
    },
    {
      "cell_type": "code",
      "metadata": {
        "colab": {
          "base_uri": "https://localhost:8080/"
        },
        "id": "OY54pJs-bk1Q",
        "outputId": "cb444fab-0991-4ff4-d9a2-92b66edfbcc1"
      },
      "source": [
        "numdata = 57\r\n",
        "print( type(numdata) )\r\n",
        "\r\n",
        "numdata2 = 57.2\r\n",
        "print( type(numdata2) )\r\n",
        "\r\n",
        "strdata = '파이썬'\r\n",
        "print( type(strdata) )  \r\n",
        "\r\n",
        "a = [ 1, 2, 3, 4 ]\r\n",
        "print( type(a) )   "
      ],
      "execution_count": 33,
      "outputs": [
        {
          "output_type": "stream",
          "text": [
            "<class 'int'>\n",
            "<class 'float'>\n",
            "<class 'str'>\n",
            "<class 'list'>\n"
          ],
          "name": "stdout"
        }
      ]
    },
    {
      "cell_type": "markdown",
      "metadata": {
        "id": "2_yyPKIKbttG"
      },
      "source": [
        "문제200. 딕셔너리 자료형을 만들고 위와같이 type 을 확인하시오!"
      ]
    },
    {
      "cell_type": "code",
      "metadata": {
        "colab": {
          "base_uri": "https://localhost:8080/"
        },
        "id": "ngmyUNr6bvXV",
        "outputId": "452cdc7a-86a2-40ff-e0f8-81d334b5ca85"
      },
      "source": [
        "b = { '파랑' : 'blue', '빨강' : 'red', '초록' : 'green' }\r\n",
        "print( type(b) )   "
      ],
      "execution_count": 34,
      "outputs": [
        {
          "output_type": "stream",
          "text": [
            "<class 'dict'>\n"
          ],
          "name": "stdout"
        }
      ]
    },
    {
      "cell_type": "markdown",
      "metadata": {
        "id": "I5zMO8x8byWw"
      },
      "source": [
        "설명:   \r\n",
        "리스트 : 대괄호 []  \r\n",
        "튜플 : 소괄호 ()  \r\n",
        "딕셔너리 : 중괄호 {}\r\n"
      ]
    },
    {
      "cell_type": "markdown",
      "metadata": {
        "id": "ODOkzkGeb4fG"
      },
      "source": [
        "**■ 62. 나눗셈에서 나머지만 구하기(%)**\r\n",
        "\r\n",
        "나누기 연산에서 나머지만 구하는 연산을 %로 구합니다.\r\n",
        "\r\n",
        "예:"
      ]
    },
    {
      "cell_type": "code",
      "metadata": {
        "colab": {
          "base_uri": "https://localhost:8080/"
        },
        "id": "Mj7wUdnnbyHm",
        "outputId": "8873d36c-b093-4c7d-a527-4b5b453cfcd6"
      },
      "source": [
        "print(12%3)\r\n",
        "print(11%5)"
      ],
      "execution_count": 36,
      "outputs": [
        {
          "output_type": "stream",
          "text": [
            "0\n",
            "1\n"
          ],
          "name": "stdout"
        }
      ]
    },
    {
      "cell_type": "markdown",
      "metadata": {
        "id": "MK0KOJDLcBJp"
      },
      "source": [
        "문제201. 아래와 같이 두개의 숫자를 각각 물어보게하고 아래의 메세지가 출력되게하시오!\r\n",
        "\r\n",
        "    첫번째 숫자를 입력하세요~1113\r\n",
        "    두번째 숫자를 입력하세요~23\r\n",
        "    1113 를 23 로 나누면 9 가 나머지로 남습니다."
      ]
    },
    {
      "cell_type": "code",
      "metadata": {
        "colab": {
          "base_uri": "https://localhost:8080/"
        },
        "id": "NFrPoGpncEoG",
        "outputId": "d72051b1-3ceb-48a0-e466-a8f7043b8abd"
      },
      "source": [
        "num1 = int( input('첫번째 숫자를 입력하세요 ~') )\r\n",
        "num2 = int( input('두번째 숫자를 입력하세요 ~') )\r\n",
        "num3 = num1 % num2\r\n",
        "\r\n",
        "print(num1,'을', num2, '로 나누면', num3, '가 나머지로 남습니다.')"
      ],
      "execution_count": 39,
      "outputs": [
        {
          "output_type": "stream",
          "text": [
            "첫번째 숫자를 입력하세요 ~1113\n",
            "두번째 숫자를 입력하세요 ~23\n",
            "1113 을 23 로 나누면 9 가 나머지로 남습니다.\n"
          ],
          "name": "stdout"
        }
      ]
    },
    {
      "cell_type": "markdown",
      "metadata": {
        "id": "omxea_JqcilA"
      },
      "source": [
        "**■ 63. 몫과 나머지 구하기(divmod)**\r\n",
        "\r\n",
        "예제:"
      ]
    },
    {
      "cell_type": "code",
      "metadata": {
        "colab": {
          "base_uri": "https://localhost:8080/"
        },
        "id": "-p5Ud_cAclFe",
        "outputId": "8f8d3a0f-99fb-4775-adab-92d99f134787"
      },
      "source": [
        "result1, result2 = divmod(1113, 23)         # divmod 함수가 출력하는 값이 2개여서 앞에 result1, result2 변수 두개를 기재함.\r\n",
        "\r\n",
        "print(result1, result2)                     # result1 : 몫, result2 : 나머지\r\n",
        "\r\n",
        "result1 = divmod(1113, 23)\r\n",
        "print(result1) "
      ],
      "execution_count": 40,
      "outputs": [
        {
          "output_type": "stream",
          "text": [
            "48 9\n",
            "(48, 9)\n"
          ],
          "name": "stdout"
        }
      ]
    },
    {
      "cell_type": "markdown",
      "metadata": {
        "id": "ODWeNNUIcvnJ"
      },
      "source": [
        "문제202. 아래와 같이 실행되게 코드를 수행하시오!\r\n",
        "\r\n",
        "    첫번째 숫자를 입력하시오 ~1113\r\n",
        "    두번째 숫자를 입력하시오 ~23\r\n",
        "    1113 을 23 으로 나눈 몫은 48 이고 나머지는 9 입니다.\r\n"
      ]
    },
    {
      "cell_type": "code",
      "metadata": {
        "colab": {
          "base_uri": "https://localhost:8080/"
        },
        "id": "R5O2TjDucyCD",
        "outputId": "58896a2f-a8da-408f-a443-98d959962ed3"
      },
      "source": [
        "try:\r\n",
        "    a = int( input('첫번째 숫자를 입력하시오 ~') )\r\n",
        "    b = int( input('두번째 숫자를 입력하시오 ~') )\r\n",
        "    result1, result2 = divmod(a, b) \r\n",
        "    print('%d 을 %d 으로 나눈 몫은 %d 이고 나머지는 %d 입니다.' %(a, b, result1, result2))\r\n",
        "except ZeroDivisionError:\r\n",
        "    print('0 으로는 나눌 수 없습니다.')"
      ],
      "execution_count": 41,
      "outputs": [
        {
          "output_type": "stream",
          "text": [
            "첫번째 숫자를 입력하시오 ~1113\n",
            "두번째 숫자를 입력하시오 ~23\n",
            "1113 을 23 으로 나눈 몫은 48 이고 나머지는 9 입니다.\n"
          ],
          "name": "stdout"
        }
      ]
    },
    {
      "cell_type": "markdown",
      "metadata": {
        "id": "FziGMnT7c-Ie"
      },
      "source": [
        "**■ 64. Pandas 를 이용한 데이터 검색**\r\n",
        "\r\n",
        "SQL, Pandas 를 자유롭게 사용할 수 있어야 합니다.  \r\n",
        "SQL ---> Pandas, Pandas ---> SQL\r\n",
        "\r\n",
        "예제:\r\n",
        "\r\n",
        "    emp[['ename', 'sal']] [emp['ename'] == 'SCOTT']"
      ]
    },
    {
      "cell_type": "markdown",
      "metadata": {
        "id": "6xaVFya8dB4t"
      },
      "source": [
        "문제203. dept3.csv 를 판다스로 로드해서 dept 데이터 프레임 전체를 출력하시오!"
      ]
    },
    {
      "cell_type": "code",
      "metadata": {
        "colab": {
          "base_uri": "https://localhost:8080/"
        },
        "id": "-Qp7bidodBj4",
        "outputId": "6a0122df-f845-4b38-a949-92345ce13dc9"
      },
      "source": [
        "import pandas\r\n",
        "\r\n",
        "dept = pd.read_csv('/content/drive/MyDrive/data/dept3.csv')\r\n",
        "print(dept)"
      ],
      "execution_count": 42,
      "outputs": [
        {
          "output_type": "stream",
          "text": [
            "   deptno       dname       loc\n",
            "0      10  ACCOUNTING  NEW YORK\n",
            "1      20    RESEARCH    DALLAS\n",
            "2      30       SALES   CHICAGO\n",
            "3      40  OPERATIONS    BOSTON\n"
          ],
          "name": "stdout"
        }
      ]
    },
    {
      "cell_type": "markdown",
      "metadata": {
        "id": "chLzvUg8dPKD"
      },
      "source": [
        "문제204. 부서위치 DALLAS 의 부서번호와 부서명을 출력하시오!"
      ]
    },
    {
      "cell_type": "code",
      "metadata": {
        "colab": {
          "base_uri": "https://localhost:8080/"
        },
        "id": "zbjsCk4ydPl2",
        "outputId": "f4b9ee83-05cf-4d18-d8fe-21511aecf378"
      },
      "source": [
        "import pandas\r\n",
        "\r\n",
        "dept = pd.read_csv('/content/drive/MyDrive/data/dept3.csv')\r\n",
        "print(dept[['deptno', 'dname']] [dept['loc'] == 'DALLAS'])"
      ],
      "execution_count": 43,
      "outputs": [
        {
          "output_type": "stream",
          "text": [
            "   deptno     dname\n",
            "1      20  RESEARCH\n"
          ],
          "name": "stdout"
        }
      ]
    },
    {
      "cell_type": "markdown",
      "metadata": {
        "id": "_WKnylEaddja"
      },
      "source": [
        "**■ 65. Pandas 를 이용한 조인**\r\n",
        "\r\n",
        "예제: 이름과 부서위치를 출력하시오!  \r\n",
        "SQL>\r\n",
        "\r\n",
        "    select e.ename, d.loc\r\n",
        "       from emp e, dept d\r\n",
        "       where e.deptno = d.deptno;\r\n",
        "\r\n",
        "Pandas>\r\n"
      ]
    },
    {
      "cell_type": "code",
      "metadata": {
        "colab": {
          "base_uri": "https://localhost:8080/"
        },
        "id": "af2x9dqtdr91",
        "outputId": "abd91143-af2e-4098-ea3b-b2f472ab6c75"
      },
      "source": [
        "import pandas as pd\r\n",
        "\r\n",
        "emp = pd.read_csv('/content/drive/MyDrive/data/emp3.csv')\r\n",
        "dept = pd.read_csv('/content/drive/MyDrive/data/dept3.csv')\r\n",
        "result = pd.merge(emp, dept, on = 'deptno')\r\n",
        "print(result[['ename', 'loc']])"
      ],
      "execution_count": 44,
      "outputs": [
        {
          "output_type": "stream",
          "text": [
            "     ename       loc\n",
            "0     KING  NEW YORK\n",
            "1    CLARK  NEW YORK\n",
            "2   MILLER  NEW YORK\n",
            "3    BLAKE   CHICAGO\n",
            "4   MARTIN   CHICAGO\n",
            "5    ALLEN   CHICAGO\n",
            "6   TURNER   CHICAGO\n",
            "7    JAMES   CHICAGO\n",
            "8     WARD   CHICAGO\n",
            "9    JONES    DALLAS\n",
            "10    FORD    DALLAS\n",
            "11   SMITH    DALLAS\n",
            "12   SCOTT    DALLAS\n",
            "13   ADAMS    DALLAS\n"
          ],
          "name": "stdout"
        }
      ]
    },
    {
      "cell_type": "markdown",
      "metadata": {
        "id": "jJaeDKKOd_Ce"
      },
      "source": [
        "설명: emp 데이터 프레임과 dept 데이터 프레임을 merge 를 써서 조인시키는데  \r\n",
        "on = 'deptno' 를 이용해서 연결고리가 되는 컬럼을 지정해주면 됩니다.\r\n"
      ]
    },
    {
      "cell_type": "markdown",
      "metadata": {
        "id": "GeHpVpSteCG1"
      },
      "source": [
        "문제205. DALLAS 에서 근무하는 사원들의 이름과 부서위치를 출력하시오.  \r\n",
        "SQL>\r\n",
        "\r\n",
        "    select e.ename, d.loc\r\n",
        "       from emp e, dept d\r\n",
        "       where e.deptno = d.deptno and d.loc = 'DALLAS';\r\n",
        "\r\n",
        "Pandas>"
      ]
    },
    {
      "cell_type": "code",
      "metadata": {
        "colab": {
          "base_uri": "https://localhost:8080/"
        },
        "id": "jOqtCSteeEdU",
        "outputId": "90ae586c-070f-4425-a55e-abeb27579986"
      },
      "source": [
        "import pandas as pd\r\n",
        "\r\n",
        "emp = pd.read_csv('/content/drive/MyDrive/data/emp3.csv')\r\n",
        "dept = pd.read_csv('/content/drive/MyDrive/data/dept3.csv')\r\n",
        "result = pd.merge(emp, dept, on = 'deptno')\r\n",
        "print(result[['ename', 'loc']][result['loc'] == 'DALLAS'])"
      ],
      "execution_count": 46,
      "outputs": [
        {
          "output_type": "stream",
          "text": [
            "    ename     loc\n",
            "9   JONES  DALLAS\n",
            "10   FORD  DALLAS\n",
            "11  SMITH  DALLAS\n",
            "12  SCOTT  DALLAS\n",
            "13  ADAMS  DALLAS\n"
          ],
          "name": "stdout"
        }
      ]
    },
    {
      "cell_type": "markdown",
      "metadata": {
        "id": "b7P8aVU1eroZ"
      },
      "source": [
        "문제206. 월급이 3000 이상인 사원들의 이름과 월급과 부서위치를 출력하시오!  \r\n",
        "SQL>\r\n",
        "\r\n",
        "    select e.ename, e.sal, d.loc\r\n",
        "       from emp e, dept d\r\n",
        "       where e.deptno = d.deptno and e.sal >= 3000;\r\n",
        "\r\n",
        "Pandas>"
      ]
    },
    {
      "cell_type": "code",
      "metadata": {
        "colab": {
          "base_uri": "https://localhost:8080/"
        },
        "id": "FiYNqQeae24z",
        "outputId": "dcfef5d1-cd8b-4894-ad36-d9fefe504555"
      },
      "source": [
        "import pandas as pd\r\n",
        "\r\n",
        "emp = pd.read_csv('/content/drive/MyDrive/data/emp3.csv')\r\n",
        "dept = pd.read_csv('/content/drive/MyDrive/data/dept3.csv')\r\n",
        "result = pd.merge(emp, dept, on = 'deptno')\r\n",
        "print(result[['ename', 'sal', 'loc']][result['sal'] >= 3000])"
      ],
      "execution_count": 48,
      "outputs": [
        {
          "output_type": "stream",
          "text": [
            "    ename   sal       loc\n",
            "0    KING  5000  NEW YORK\n",
            "10   FORD  3000    DALLAS\n",
            "12  SCOTT  3000    DALLAS\n"
          ],
          "name": "stdout"
        }
      ]
    },
    {
      "cell_type": "markdown",
      "metadata": {
        "id": "0AOIm1UwfBmi"
      },
      "source": [
        "문제207. 부서번호가 10번, 20번인 사원들의 이름과 부서위치와 부서번호를 출력하시오!  \r\n",
        "SQL>\r\n",
        "\r\n",
        "    select e.ename, d.loc, e.deptno\r\n",
        "       from emp e, dept d\r\n",
        "       where e.deptno = d.deptno and e.deptno in (10, 20);\r\n",
        "\r\n",
        "Pandas>"
      ]
    },
    {
      "cell_type": "code",
      "metadata": {
        "colab": {
          "base_uri": "https://localhost:8080/"
        },
        "id": "XZnAiOgNfLVV",
        "outputId": "ee0b622d-ada4-43b0-a99a-36425c33541f"
      },
      "source": [
        "import pandas as pd\r\n",
        "\r\n",
        "emp = pd.read_csv('/content/drive/MyDrive/data/emp3.csv')\r\n",
        "dept = pd.read_csv('/content/drive/MyDrive/data/dept3.csv')\r\n",
        "result = pd.merge(emp, dept, on = 'deptno')\r\n",
        "print(result[['ename', 'loc', 'deptno']][result['deptno'].isin([10, 20])])"
      ],
      "execution_count": 52,
      "outputs": [
        {
          "output_type": "stream",
          "text": [
            "     ename       loc  deptno\n",
            "0     KING  NEW YORK      10\n",
            "1    CLARK  NEW YORK      10\n",
            "2   MILLER  NEW YORK      10\n",
            "9    JONES    DALLAS      20\n",
            "10    FORD    DALLAS      20\n",
            "11   SMITH    DALLAS      20\n",
            "12   SCOTT    DALLAS      20\n",
            "13   ADAMS    DALLAS      20\n"
          ],
          "name": "stdout"
        }
      ]
    },
    {
      "cell_type": "markdown",
      "metadata": {
        "id": "T8vBIGbFfhMg"
      },
      "source": [
        "문제208. 월급이 1000에서 3000 사이인 사원들의 이름과 월급과 부서위치를 출력하시오!  \r\n",
        "SQL>\r\n",
        "\r\n",
        "    select e.ename, e.sal, d.loc\r\n",
        "       from emp e, dept d\r\n",
        "       where e.deptno = d.deptno and e.sal between 1000 and 3000;\r\n",
        "\r\n",
        "Pandas>"
      ]
    },
    {
      "cell_type": "code",
      "metadata": {
        "colab": {
          "base_uri": "https://localhost:8080/"
        },
        "id": "CsKC4Q6vfpJ4",
        "outputId": "fa31ebe3-5f25-4af1-867a-5843b8566f76"
      },
      "source": [
        "import pandas as pd\r\n",
        "\r\n",
        "emp = pd.read_csv('/content/drive/MyDrive/data/emp3.csv')\r\n",
        "dept = pd.read_csv('/content/drive/MyDrive/data/dept3.csv')\r\n",
        "result = pd.merge(emp, dept, on = 'deptno')\r\n",
        "print(result[['ename', 'sal', 'loc']][result['sal'].between(1000, 3000)])"
      ],
      "execution_count": 53,
      "outputs": [
        {
          "output_type": "stream",
          "text": [
            "     ename   sal       loc\n",
            "1    CLARK  2450  NEW YORK\n",
            "2   MILLER  1300  NEW YORK\n",
            "3    BLAKE  2850   CHICAGO\n",
            "4   MARTIN  1250   CHICAGO\n",
            "5    ALLEN  1600   CHICAGO\n",
            "6   TURNER  1500   CHICAGO\n",
            "8     WARD  1250   CHICAGO\n",
            "9    JONES  2975    DALLAS\n",
            "10    FORD  3000    DALLAS\n",
            "12   SCOTT  3000    DALLAS\n",
            "13   ADAMS  1100    DALLAS\n"
          ],
          "name": "stdout"
        }
      ]
    },
    {
      "cell_type": "markdown",
      "metadata": {
        "id": "R1i4FOQZf28p"
      },
      "source": [
        "문제209. 아래의 SQL 을 Pandas 로 구현하시오\r\n",
        "\r\n",
        "SQL>\r\n",
        "\r\n",
        "    select e.ename, d.loc\r\n",
        "       from emp e, dept d\r\n",
        "       where e.deptno (+) = d.deptno;\r\n",
        "\r\n",
        "Pandas>"
      ]
    },
    {
      "cell_type": "code",
      "metadata": {
        "colab": {
          "base_uri": "https://localhost:8080/"
        },
        "id": "AIzatwAGf7ns",
        "outputId": "4e7d3f27-ff35-4a92-e2ed-f711e49aae65"
      },
      "source": [
        "import pandas as pd\r\n",
        "\r\n",
        "emp = pd.read_csv('/content/drive/MyDrive/data/emp3.csv')\r\n",
        "dept = pd.read_csv('/content/drive/MyDrive/data/dept3.csv')\r\n",
        "result = pd.merge(emp, dept, on = 'deptno', how = 'right')\r\n",
        "print(result[['ename','loc']])"
      ],
      "execution_count": 55,
      "outputs": [
        {
          "output_type": "stream",
          "text": [
            "     ename       loc\n",
            "0     KING  NEW YORK\n",
            "1    CLARK  NEW YORK\n",
            "2   MILLER  NEW YORK\n",
            "3    JONES    DALLAS\n",
            "4     FORD    DALLAS\n",
            "5    SMITH    DALLAS\n",
            "6    SCOTT    DALLAS\n",
            "7    ADAMS    DALLAS\n",
            "8    BLAKE   CHICAGO\n",
            "9   MARTIN   CHICAGO\n",
            "10   ALLEN   CHICAGO\n",
            "11  TURNER   CHICAGO\n",
            "12   JAMES   CHICAGO\n",
            "13    WARD   CHICAGO\n",
            "14     NaN    BOSTON\n"
          ],
          "name": "stdout"
        }
      ]
    },
    {
      "cell_type": "markdown",
      "metadata": {
        "id": "ASRKVAipgI3J"
      },
      "source": [
        "문제210. 아래의 SQL 을 Pandas 로 구현하시오!\r\n",
        "\r\n",
        "SQL>\r\n",
        "\r\n",
        "    select e.ename, d.loc\r\n",
        "       from emp e full outer join dept d\r\n",
        "       on (e.deptno = d.deptno);"
      ]
    },
    {
      "cell_type": "code",
      "metadata": {
        "colab": {
          "base_uri": "https://localhost:8080/"
        },
        "id": "8CkXJW5YgOI8",
        "outputId": "57c2f8bf-86d1-44d3-d6d0-e0f7403cb995"
      },
      "source": [
        "import pandas as pd\r\n",
        "\r\n",
        "emp = pd.read_csv('/content/drive/MyDrive/data/emp3.csv')\r\n",
        "dept = pd.read_csv('/content/drive/MyDrive/data/dept3.csv')\r\n",
        "result = pd.merge(emp, dept, on = 'deptno', how = 'outer')\r\n",
        "print(result[['ename','loc']])"
      ],
      "execution_count": 57,
      "outputs": [
        {
          "output_type": "stream",
          "text": [
            "     ename       loc\n",
            "0     KING  NEW YORK\n",
            "1    CLARK  NEW YORK\n",
            "2   MILLER  NEW YORK\n",
            "3    BLAKE   CHICAGO\n",
            "4   MARTIN   CHICAGO\n",
            "5    ALLEN   CHICAGO\n",
            "6   TURNER   CHICAGO\n",
            "7    JAMES   CHICAGO\n",
            "8     WARD   CHICAGO\n",
            "9    JONES    DALLAS\n",
            "10    FORD    DALLAS\n",
            "11   SMITH    DALLAS\n",
            "12   SCOTT    DALLAS\n",
            "13   ADAMS    DALLAS\n",
            "14     NaN    BOSTON\n"
          ],
          "name": "stdout"
        }
      ]
    },
    {
      "cell_type": "markdown",
      "metadata": {
        "id": "r70J9K5pgcO0"
      },
      "source": [
        "**■ 66. Pandas 를 이용한 서브쿼리** \r\n",
        "\r\n",
        "예제: JONES 보다 더 많은 월급을 받는 사원들의 이름과 월급을 출력하시오  \r\n",
        "SQL>\r\n",
        "\r\n",
        "    select ename, sal\r\n",
        "       from emp\r\n",
        "       where sal > (select sal\r\n",
        "                       from emp\r\n",
        "                       where ename = 'JONES');\r\n",
        "\r\n",
        "Pandas>                       "
      ]
    },
    {
      "cell_type": "code",
      "metadata": {
        "colab": {
          "base_uri": "https://localhost:8080/"
        },
        "id": "DIeJclhugqUp",
        "outputId": "b7cbeba9-bf70-4a46-dcb5-5302ceef6e3d"
      },
      "source": [
        "import pandas as pd\r\n",
        "\r\n",
        "emp = pd.read_csv('/content/drive/MyDrive/data/emp3.csv')\r\n",
        "jsal = emp['sal'][emp['ename'] == 'JONES'].values[0]\r\n",
        "print(emp[['ename', 'sal']][emp['sal'] > jsal])"
      ],
      "execution_count": 62,
      "outputs": [
        {
          "output_type": "stream",
          "text": [
            "    ename   sal\n",
            "0    KING  5000\n",
            "9    FORD  3000\n",
            "11  SCOTT  3000\n"
          ],
          "name": "stdout"
        }
      ]
    },
    {
      "cell_type": "markdown",
      "metadata": {
        "id": "o9aT71P4hJHx"
      },
      "source": [
        "문제211. 아래의 서브쿼리를 Pandas로 구현하시오\r\n",
        "\r\n",
        "SQL>  \r\n",
        "\r\n",
        "    select ename, sal\r\n",
        "       from emp\r\n",
        "       where job = (select job\r\n",
        "                        from emp\r\n",
        "                        where ename = 'SCOTT');\r\n",
        "\r\n",
        "Pandas>                        "
      ]
    },
    {
      "cell_type": "code",
      "metadata": {
        "colab": {
          "base_uri": "https://localhost:8080/"
        },
        "id": "zCEn0N3YhNOK",
        "outputId": "640602de-95e9-4be2-9cc8-31573557038c"
      },
      "source": [
        "import pandas as pd\r\n",
        "\r\n",
        "emp = pd.read_csv('/content/drive/MyDrive/data/emp3.csv')\r\n",
        "sjob = emp['job'][emp['ename'] == 'SCOTT'].values[0]\r\n",
        "print(emp[['ename', 'sal']][emp['job'] == sjob])"
      ],
      "execution_count": 65,
      "outputs": [
        {
          "output_type": "stream",
          "text": [
            "    ename   sal\n",
            "9    FORD  3000\n",
            "11  SCOTT  3000\n"
          ],
          "name": "stdout"
        }
      ]
    },
    {
      "cell_type": "markdown",
      "metadata": {
        "id": "ASfPAgmBhxg_"
      },
      "source": [
        "문제212. 아래의 서브쿼리의 결과를 Pandas로 수행하시오\r\n",
        "\r\n",
        "SQL>\r\n",
        "\r\n",
        "    select ename, sal\r\n",
        "       from emp\r\n",
        "       where job = (select job\r\n",
        "                       from emp\r\n",
        "                       where ename 'SCOTT') and ename != SCOTT;\r\n",
        "              \r\n",
        "Pandas>              "
      ]
    },
    {
      "cell_type": "code",
      "metadata": {
        "colab": {
          "base_uri": "https://localhost:8080/"
        },
        "id": "PQpx0mUFh3Jn",
        "outputId": "76f018b6-8b50-4006-db62-1d2294abcf8e"
      },
      "source": [
        "import pandas as pd\r\n",
        "\r\n",
        "emp = pd.read_csv('/content/drive/MyDrive/data/emp3.csv')\r\n",
        "sjob = emp['job'][emp['ename'] == 'SCOTT'].values[0]\r\n",
        "print(emp[['ename', 'sal']][(emp['job'] == sjob) & (emp['ename'] != 'SCOTT')])"
      ],
      "execution_count": 70,
      "outputs": [
        {
          "output_type": "stream",
          "text": [
            "  ename   sal\n",
            "9  FORD  3000\n"
          ],
          "name": "stdout"
        }
      ]
    },
    {
      "cell_type": "markdown",
      "metadata": {
        "id": "5Ofp-Tw3nNwH"
      },
      "source": [
        "설명: Pandas 에서 and 는 & 이고 or 는 | 입니다.  \r\n",
        "\t& 와 | 를 쓸때는 괄호로 묶어줘야 합니다."
      ]
    },
    {
      "cell_type": "markdown",
      "metadata": {
        "id": "Zsi_ZD04nT3S"
      },
      "source": [
        "**■ 67. Pandas 와 오라클 그룹함수의 비교**\r\n",
        "\r\n",
        "SQL>\r\n",
        "\r\n",
        "    select max(sal)\r\n",
        "       from emp;\r\n",
        "\r\n",
        "Pandas>"
      ]
    },
    {
      "cell_type": "code",
      "metadata": {
        "colab": {
          "base_uri": "https://localhost:8080/"
        },
        "id": "TkajF9soiD0V",
        "outputId": "b0a1c873-8388-44ec-c7d1-1ea949daa0e8"
      },
      "source": [
        "import pandas as pd\r\n",
        "\r\n",
        "emp = pd.read_csv('/content/drive/MyDrive/data/emp3.csv')\r\n",
        "print(emp['sal'].max())"
      ],
      "execution_count": 72,
      "outputs": [
        {
          "output_type": "stream",
          "text": [
            "5000\n"
          ],
          "name": "stdout"
        }
      ]
    },
    {
      "cell_type": "markdown",
      "metadata": {
        "id": "IlOsNeJjnfJq"
      },
      "source": [
        "설명:\r\n",
        "\r\n",
        "    emp['sal'].max()  : 최대월급 \r\n",
        "    emp['sal'].min()  : 최소월급\r\n",
        "    emp['sal'].sum()  : 토탈월급\r\n",
        "    emp['sal'].mean() : 평균월급\r\n",
        "    emp['sal'].var()  : 분산값\r\n",
        "    emp['sal'].std()  : 표준편차값"
      ]
    },
    {
      "cell_type": "markdown",
      "metadata": {
        "id": "MKm19ycvnt_3"
      },
      "source": [
        "문제213. 아래의 SQL 을 Pandas 로 구현하시오!\r\n",
        "\r\n",
        "SQL>\r\n",
        "\r\n",
        "    select max(sal)\r\n",
        "       from emp\r\n",
        "       where deptno = 20;\r\n",
        "\r\n",
        "Pandas>"
      ]
    },
    {
      "cell_type": "code",
      "metadata": {
        "colab": {
          "base_uri": "https://localhost:8080/"
        },
        "id": "n3JEYagEnxtL",
        "outputId": "e24c00ed-7a2e-445a-9917-df20e42edb56"
      },
      "source": [
        "import pandas as pd\r\n",
        "\r\n",
        "emp = pd.read_csv('/content/drive/MyDrive/data/emp3.csv')\r\n",
        "print(emp['sal'][emp['deptno'] == 20].max())"
      ],
      "execution_count": 74,
      "outputs": [
        {
          "output_type": "stream",
          "text": [
            "3000\n"
          ],
          "name": "stdout"
        }
      ]
    },
    {
      "cell_type": "markdown",
      "metadata": {
        "id": "Ykz0ijBzoGYb"
      },
      "source": [
        "문제214. 아래의 SQL 을 Pandas 로 구현하시오!\r\n",
        "\r\n",
        "SQL>\r\n",
        "\r\n",
        "    select min(sal)\r\n",
        "       from emp\r\n",
        "       where job = 'SALESMAN';\r\n",
        "\r\n",
        "Pandas>"
      ]
    },
    {
      "cell_type": "code",
      "metadata": {
        "colab": {
          "base_uri": "https://localhost:8080/"
        },
        "id": "oG08KospoL6C",
        "outputId": "973255c5-f93f-431d-9d1c-9f3b6ad62318"
      },
      "source": [
        "import pandas as pd\r\n",
        "\r\n",
        "emp = pd.read_csv('/content/drive/MyDrive/data/emp3.csv')\r\n",
        "print(emp['sal'][emp['job'] == 'SALESMAN'].min())"
      ],
      "execution_count": 75,
      "outputs": [
        {
          "output_type": "stream",
          "text": [
            "1250\n"
          ],
          "name": "stdout"
        }
      ]
    },
    {
      "cell_type": "markdown",
      "metadata": {
        "id": "R0ft0gujoLht"
      },
      "source": [
        "문제215. emp12.csv 를 판다스 데이터 프레임으로 만들어서 출력하시오!"
      ]
    },
    {
      "cell_type": "code",
      "metadata": {
        "id": "DoyUY54zoU5g"
      },
      "source": [
        "import pandas as pd\r\n",
        "\r\n",
        "emp12 = pd.read_csv('/content/drive/MyDrive/data/emp122.csv')\r\n",
        "print(emp12)"
      ],
      "execution_count": null,
      "outputs": []
    },
    {
      "cell_type": "markdown",
      "metadata": {
        "id": "qZAoW_jjo80C"
      },
      "source": [
        "문제216. 우리반에서 최소 나이를 출력하시오!"
      ]
    },
    {
      "cell_type": "code",
      "metadata": {
        "colab": {
          "base_uri": "https://localhost:8080/"
        },
        "id": "5cXMOpDJo9Oc",
        "outputId": "52f3060f-5cb8-4f5c-9f79-12329fc6416b"
      },
      "source": [
        "import pandas as pd\r\n",
        "\r\n",
        "emp12 = pd.read_csv('/content/drive/MyDrive/data/emp122.csv')\r\n",
        "print(emp12['AGE'].min())"
      ],
      "execution_count": 5,
      "outputs": [
        {
          "output_type": "stream",
          "text": [
            "24\n"
          ],
          "name": "stdout"
        }
      ]
    },
    {
      "cell_type": "markdown",
      "metadata": {
        "id": "9RoQybFApKys"
      },
      "source": [
        "문제217. 아래의 SQL 을 Pandas 로 구현하시오!\r\n",
        "\r\n",
        "SQL>\r\n",
        "\r\n",
        "    select job, max(sal)\r\n",
        "       from emp\r\n",
        "       group by job;\r\n",
        "\r\n",
        "Pandas>"
      ]
    },
    {
      "cell_type": "code",
      "metadata": {
        "colab": {
          "base_uri": "https://localhost:8080/"
        },
        "id": "7BATCMAypS20",
        "outputId": "798bc19f-438c-4f06-cce4-860adb14d2c8"
      },
      "source": [
        "import pandas as pd\r\n",
        "\r\n",
        "emp = pd.read_csv('/content/drive/MyDrive/data/emp3.csv')\r\n",
        "result = emp.groupby('job')['sal'].max()    # job 으로 group 하겠다.\r\n",
        "print(type(result))        # <class 'pandas.core.series.Series'>\r\n",
        "print(result)"
      ],
      "execution_count": 11,
      "outputs": [
        {
          "output_type": "stream",
          "text": [
            "<class 'pandas.core.series.Series'>\n",
            "job\n",
            "ANALYST      3000\n",
            "CLERK        1300\n",
            "MANAGER      2975\n",
            "PRESIDENT    5000\n",
            "SALESMAN     1600\n",
            "Name: sal, dtype: int64\n"
          ],
          "name": "stdout"
        }
      ]
    },
    {
      "cell_type": "code",
      "metadata": {
        "colab": {
          "base_uri": "https://localhost:8080/"
        },
        "id": "vrvbjokqp7Xv",
        "outputId": "1fbbbfc5-c603-4938-95eb-ec26a28cc862"
      },
      "source": [
        "import pandas as pd\r\n",
        "\r\n",
        "emp = pd.read_csv('/content/drive/MyDrive/data/emp3.csv')\r\n",
        "result = emp.groupby('job')['sal'].max().reset_index()\r\n",
        "print(type(result))          # <class 'pandas.core.frame.DataFrame'>\r\n",
        "print(result)"
      ],
      "execution_count": 14,
      "outputs": [
        {
          "output_type": "stream",
          "text": [
            "<class 'pandas.core.frame.DataFrame'>\n",
            "         job   sal\n",
            "0    ANALYST  3000\n",
            "1      CLERK  1300\n",
            "2    MANAGER  2975\n",
            "3  PRESIDENT  5000\n",
            "4   SALESMAN  1600\n"
          ],
          "name": "stdout"
        }
      ]
    },
    {
      "cell_type": "markdown",
      "metadata": {
        "id": "EnCMSqEUqH1M"
      },
      "source": [
        "※ 설명: reset_index() 키워드는 Series(컬럼) 로 출력하는게 아니라 DataFrame(테이블) 으로 출력하는 키워드 입니다."
      ]
    },
    {
      "cell_type": "markdown",
      "metadata": {
        "id": "ASqe08ChqNjn"
      },
      "source": [
        "문제218. 아래의 SQL 을 Pandas 로 구현하시오!\r\n",
        "\r\n",
        "SQL>\r\n",
        "\r\n",
        "    select deptno, sum(sal)\r\n",
        "       from emp\r\n",
        "       group by deptno;\r\n",
        "\r\n",
        "Pandas>"
      ]
    },
    {
      "cell_type": "code",
      "metadata": {
        "colab": {
          "base_uri": "https://localhost:8080/"
        },
        "id": "OD7Ub7eZqLmd",
        "outputId": "ba8eb79a-3ec1-47ea-f456-9900bdde8719"
      },
      "source": [
        "import pandas as pd\r\n",
        "\r\n",
        "emp = pd.read_csv('/content/drive/MyDrive/data/emp3.csv')\r\n",
        "result = emp.groupby('deptno')['sal'].sum().reset_index()\r\n",
        "print(result)"
      ],
      "execution_count": 17,
      "outputs": [
        {
          "output_type": "stream",
          "text": [
            "   deptno    sal\n",
            "0      10   8750\n",
            "1      20  10875\n",
            "2      30   9400\n"
          ],
          "name": "stdout"
        }
      ]
    },
    {
      "cell_type": "markdown",
      "metadata": {
        "id": "GHls6G2Tqo3u"
      },
      "source": [
        "\r\n",
        "문제219. 아래의 SQL 을 Pandas 로 구현하시오!\r\n",
        "\r\n",
        "SQL>\r\n",
        "\r\n",
        "    select deptno, sum(sal)\r\n",
        "       from emp\r\n",
        "       where deptno != 20\r\n",
        "       group by deptno;\r\n",
        "\r\n",
        "Pandas>"
      ]
    },
    {
      "cell_type": "code",
      "metadata": {
        "colab": {
          "base_uri": "https://localhost:8080/"
        },
        "id": "M96T3m7BqsA7",
        "outputId": "d39b8892-0eb0-4a1b-c81f-b8b26656631d"
      },
      "source": [
        "import pandas as pd\r\n",
        "\r\n",
        "emp = pd.read_csv('/content/drive/MyDrive/data/emp3.csv')\r\n",
        "result = emp.groupby('deptno')['sal'].sum().reset_index()\r\n",
        "print(result[['deptno', 'sal']][result['deptno'] != 20])"
      ],
      "execution_count": 20,
      "outputs": [
        {
          "output_type": "stream",
          "text": [
            "   deptno   sal\n",
            "0      10  8750\n",
            "2      30  9400\n"
          ],
          "name": "stdout"
        }
      ]
    },
    {
      "cell_type": "markdown",
      "metadata": {
        "id": "aKw4mnycrGGb"
      },
      "source": [
        "문제220. 190번 문제로 만든 함수를 이용해서 아래와 같이 출력되게하시오 \r\n",
        "\r\n",
        "    동전을 10번 던져서 0 개 앞면이 나올 확률 0.000900\r\n",
        "    동전을 10번 던져서 1 개 앞면이 나올 확률 0.010600\r\n",
        "    동전을 10번 던져서 2 개 앞면이 나올 확률 0.044100\r\n",
        "    동전을 10번 던져서 3 개 앞면이 나올 확률 0.118600\r\n",
        "    동전을 10번 던져서 4 개 앞면이 나올 확률 0.209000\r\n",
        "    동전을 10번 던져서 5 개 앞면이 나올 확률 0.246300\r\n",
        "    동전을 10번 던져서 6 개 앞면이 나올 확률 0.197800\r\n",
        "    동전을 10번 던져서 7 개 앞면이 나올 확률 0.114400\r\n",
        "    동전을 10번 던져서 8 개 앞면이 나올 확률 0.043100\r\n",
        "    동전을 10번 던져서 9 개 앞면이 나올 확률 0.009800\r\n",
        "    동전을 10번 던져서 10 개 앞면이 나올 확률 0.000600\r\n"
      ]
    },
    {
      "cell_type": "code",
      "metadata": {
        "colab": {
          "base_uri": "https://localhost:8080/"
        },
        "id": "tT-LEa-CqyAF",
        "outputId": "0eac2f02-5955-47e9-9f85-6e5561d141e5"
      },
      "source": [
        "def coin_prob(num):\r\n",
        "    import random\r\n",
        "\r\n",
        "    coin = ['앞면', '뒷면']\r\n",
        "    cnt2 = 0\r\n",
        "\r\n",
        "    for k in range(1, 10001):\r\n",
        "        cnt = 0\r\n",
        "        for i in range(1,11):\r\n",
        "            result = random.choice(coin)\r\n",
        "            if result == '앞면':\r\n",
        "                cnt += 1\r\n",
        "        if cnt == num:\r\n",
        "          cnt2 += 1\r\n",
        "      \r\n",
        "    return cnt2/10000\r\n",
        "\r\n",
        "for i in range(0, 11):\r\n",
        "    print('동전을 10번 던져서 %d 개 앞면이 나올 확률 %f' %(i, coin_prob(i)))"
      ],
      "execution_count": 27,
      "outputs": [
        {
          "output_type": "stream",
          "text": [
            "동전을 10번 던져서 0 개 앞면이 나올 확률 0.000900\n",
            "동전을 10번 던져서 1 개 앞면이 나올 확률 0.010600\n",
            "동전을 10번 던져서 2 개 앞면이 나올 확률 0.044100\n",
            "동전을 10번 던져서 3 개 앞면이 나올 확률 0.118600\n",
            "동전을 10번 던져서 4 개 앞면이 나올 확률 0.209000\n",
            "동전을 10번 던져서 5 개 앞면이 나올 확률 0.246300\n",
            "동전을 10번 던져서 6 개 앞면이 나올 확률 0.197800\n",
            "동전을 10번 던져서 7 개 앞면이 나올 확률 0.114400\n",
            "동전을 10번 던져서 8 개 앞면이 나올 확률 0.043100\n",
            "동전을 10번 던져서 9 개 앞면이 나올 확률 0.009800\n",
            "동전을 10번 던져서 10 개 앞면이 나올 확률 0.000600\n"
          ],
          "name": "stdout"
        }
      ]
    }
  ]
}