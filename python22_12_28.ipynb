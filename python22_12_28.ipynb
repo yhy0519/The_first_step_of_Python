{
  "nbformat": 4,
  "nbformat_minor": 0,
  "metadata": {
    "colab": {
      "name": "python22_12_28.ipynb",
      "provenance": [],
      "collapsed_sections": [],
      "authorship_tag": "ABX9TyOaDbQG3RriTTK2o8tX+x+3",
      "include_colab_link": true
    },
    "kernelspec": {
      "name": "python3",
      "display_name": "Python 3"
    }
  },
  "cells": [
    {
      "cell_type": "markdown",
      "metadata": {
        "id": "view-in-github",
        "colab_type": "text"
      },
      "source": [
        "<a href=\"https://colab.research.google.com/github/yhy0519/The_first_step_of_Python/blob/main/python22_12_28.ipynb\" target=\"_parent\"><img src=\"https://colab.research.google.com/assets/colab-badge.svg\" alt=\"Open In Colab\"/></a>"
      ]
    },
    {
      "cell_type": "markdown",
      "metadata": {
        "id": "xv4NRK5bBbtl"
      },
      "source": [
        "**■ 159. 필수 알고리즘8 (비밀지도)**\r\n",
        "\r\n",
        "** 알고리즘 문제 풀 때 해결하는 순서\r\n",
        "\r\n",
        " 1. 문제를 2번 정독하면서 질문을 정확하게 이해하고 출력이 뭐가되는지 정확하게 이해해야 합니다.\r\n",
        "\r\n",
        "        n = 5\r\n",
        "        arr1 = [ 9, 20, 28, 18, 11 ]\r\n",
        "        arr2 = [ 30, 1, 21, 17, 28 ]\r\n",
        "\r\n",
        "        secretmap(arr1,arr2,n)\r\n",
        "        \r\n",
        "        출력 : [\"######\", \"### #\", \"## ##\", \" #### \", \" #####\", \"### # \"]\r\n",
        "\r\n",
        " 2. 풀이를 번호 순서대로 한글로 적는다. (메모)\r\n",
        "\r\n",
        "   2.1 십진수를 이진수로 변환한다.\r\n",
        "\r\n",
        "   2.2 두개의 이진수를 가지고 # 과 공백을 나타낸다.\r\n",
        "\r\n",
        " 3. 한글  ---->  파이썬으로 번역하라 !\r\n",
        "\r\n",
        "\r\n",
        "\r\n"
      ]
    },
    {
      "cell_type": "markdown",
      "metadata": {
        "id": "-2A45qzTB7LA"
      },
      "source": [
        ""
      ]
    },
    {
      "cell_type": "markdown",
      "metadata": {
        "id": "7xk41YbvB9X3"
      },
      "source": [
        ""
      ]
    },
    {
      "cell_type": "markdown",
      "metadata": {
        "id": "HysUdP3KB67c"
      },
      "source": [
        "문제525. 숫자 9를 이진수로 변환하시오 !\r\n",
        "\r\n",
        "    결과: 0b1001"
      ]
    },
    {
      "cell_type": "code",
      "metadata": {
        "colab": {
          "base_uri": "https://localhost:8080/"
        },
        "id": "4XFEG73vB85N",
        "outputId": "808e4a6d-ccca-4184-e7c0-2ac89652c2f4"
      },
      "source": [
        "print( bin(9) )"
      ],
      "execution_count": null,
      "outputs": [
        {
          "output_type": "stream",
          "text": [
            "0b1001\n"
          ],
          "name": "stdout"
        }
      ]
    },
    {
      "cell_type": "markdown",
      "metadata": {
        "id": "ExycIvjUCEaV"
      },
      "source": [
        ""
      ]
    },
    {
      "cell_type": "markdown",
      "metadata": {
        "id": "4Ta_Qm0mCEXG"
      },
      "source": [
        ""
      ]
    },
    {
      "cell_type": "markdown",
      "metadata": {
        "id": "54pZvEB0CET8"
      },
      "source": [
        "문제526. 위의 결과에서 0b 는 안나오고 1001 만 출력되게하시오 !\r\n",
        "\r\n",
        "    결과: 1001"
      ]
    },
    {
      "cell_type": "code",
      "metadata": {
        "colab": {
          "base_uri": "https://localhost:8080/"
        },
        "id": "FDgBl7KJCGb0",
        "outputId": "85838603-3f99-4ca6-fba9-31fac157d23a"
      },
      "source": [
        "print( bin(9)[2:] )"
      ],
      "execution_count": null,
      "outputs": [
        {
          "output_type": "stream",
          "text": [
            "1001\n"
          ],
          "name": "stdout"
        }
      ]
    },
    {
      "cell_type": "markdown",
      "metadata": {
        "id": "837EVA3mCI3d"
      },
      "source": [
        ""
      ]
    },
    {
      "cell_type": "markdown",
      "metadata": {
        "id": "aEw6NfrNCI0j"
      },
      "source": [
        ""
      ]
    },
    {
      "cell_type": "markdown",
      "metadata": {
        "id": "H2EmzSobCIyG"
      },
      "source": [
        "문제527. 숫자 30의 이진수를 아래와 같이 출력하시오 !\r\n",
        "\r\n",
        "    결과: 11110\r\n"
      ]
    },
    {
      "cell_type": "code",
      "metadata": {
        "colab": {
          "base_uri": "https://localhost:8080/"
        },
        "id": "NQ8_kemaCKSt",
        "outputId": "b8b8e98f-f722-448d-acdb-7683851ae8ca"
      },
      "source": [
        "print( bin(30)[2:] )"
      ],
      "execution_count": null,
      "outputs": [
        {
          "output_type": "stream",
          "text": [
            "11110\n"
          ],
          "name": "stdout"
        }
      ]
    },
    {
      "cell_type": "markdown",
      "metadata": {
        "id": "t_15Eh9DCMIg"
      },
      "source": [
        ""
      ]
    },
    {
      "cell_type": "markdown",
      "metadata": {
        "id": "3arjLQojCMFM"
      },
      "source": [
        ""
      ]
    },
    {
      "cell_type": "markdown",
      "metadata": {
        "id": "hcwpBSVxCMB7"
      },
      "source": [
        "문제258. 아래와 같이 출력되는 change 함수를 생성하시오\r\n",
        "\r\n",
        "    print( change(30) )\r\n",
        "\r\n",
        "    결과: 11110"
      ]
    },
    {
      "cell_type": "code",
      "metadata": {
        "colab": {
          "base_uri": "https://localhost:8080/"
        },
        "id": "Ljje1-AYCPJc",
        "outputId": "e8c0c96f-39ea-4ddb-c67c-e3a3ec1f7125"
      },
      "source": [
        "def change(num):\r\n",
        "    return bin(num)[2:]\r\n",
        "\r\n",
        "print( change(30) )"
      ],
      "execution_count": null,
      "outputs": [
        {
          "output_type": "stream",
          "text": [
            "11110\n"
          ],
          "name": "stdout"
        }
      ]
    },
    {
      "cell_type": "markdown",
      "metadata": {
        "id": "ME4gxarbCRVY"
      },
      "source": [
        ""
      ]
    },
    {
      "cell_type": "markdown",
      "metadata": {
        "id": "HJe2BWr_CRQV"
      },
      "source": [
        ""
      ]
    },
    {
      "cell_type": "markdown",
      "metadata": {
        "id": "rq-LeBu4CRNT"
      },
      "source": [
        "문제529. 위에서 만든 change 함수에 숫자 9를 넣고 출력해보시오 !\r\n"
      ]
    },
    {
      "cell_type": "code",
      "metadata": {
        "colab": {
          "base_uri": "https://localhost:8080/"
        },
        "id": "YvHYLkKDCS1s",
        "outputId": "30388216-71b1-4902-9d09-af000308bbf8"
      },
      "source": [
        "def change(num):\r\n",
        "    return bin(num)[2:]\r\n",
        "\r\n",
        "print( change(9) )"
      ],
      "execution_count": null,
      "outputs": [
        {
          "output_type": "stream",
          "text": [
            "1001\n"
          ],
          "name": "stdout"
        }
      ]
    },
    {
      "cell_type": "markdown",
      "metadata": {
        "id": "UrzWQeQGCUjP"
      },
      "source": [
        ""
      ]
    },
    {
      "cell_type": "markdown",
      "metadata": {
        "id": "WSq9shcQCUgb"
      },
      "source": [
        ""
      ]
    },
    {
      "cell_type": "markdown",
      "metadata": {
        "id": "4cWcGNt5CUdO"
      },
      "source": [
        "문제530. change 함수를 실행할때 아래와 같이 입력 매개변수를 하나 더 만들어서\r\n",
        "\t     입력매개변수의 길이만큼 숫자가 0이 채워져서 출력되게하시오 !\r\n",
        "\r\n",
        "    print( change(9, 5) )     --> 5를 쓰면 전체 5자리로 출력되게 하라~\r\n",
        "                                  기존 결과 출력이 4자리라면 나머지 한자리를 0으로 채워라 ~\r\n",
        "    01001"
      ]
    },
    {
      "cell_type": "code",
      "metadata": {
        "colab": {
          "base_uri": "https://localhost:8080/"
        },
        "id": "htKZjm1jCZfb",
        "outputId": "487f08fb-b4d4-44fb-e6cd-cb7a205477e6"
      },
      "source": [
        "def change(num, n):\r\n",
        "    return bin(num)[2:].rjust( n, '0' )  \r\n",
        "\r\n",
        "print( change(9, 5) )"
      ],
      "execution_count": null,
      "outputs": [
        {
          "output_type": "stream",
          "text": [
            "01001\n"
          ],
          "name": "stdout"
        }
      ]
    },
    {
      "cell_type": "markdown",
      "metadata": {
        "id": "Hq-uRXz0CcgL"
      },
      "source": [
        "설명: rjust(5, '0') 은 출력되는 자리수를 전체 5자리로 잡고 나머지 왼쪽에 '0'을 채워넣어라.\r\n"
      ]
    },
    {
      "cell_type": "markdown",
      "metadata": {
        "id": "mDB2dVQkCg1E"
      },
      "source": [
        ""
      ]
    },
    {
      "cell_type": "code",
      "metadata": {
        "colab": {
          "base_uri": "https://localhost:8080/"
        },
        "id": "QWk6bQc3ChDe",
        "outputId": "680d79f2-ac8f-4755-8c07-8084a13862dc"
      },
      "source": [
        "print( change(9, 5), change(30, 5) )"
      ],
      "execution_count": null,
      "outputs": [
        {
          "output_type": "stream",
          "text": [
            "01001 11110\n"
          ],
          "name": "stdout"
        }
      ]
    },
    {
      "cell_type": "markdown",
      "metadata": {
        "id": "NKvKx-ISCkL3"
      },
      "source": [
        ""
      ]
    },
    {
      "cell_type": "markdown",
      "metadata": {
        "id": "tK9BZ7ZUCkI0"
      },
      "source": [
        ""
      ]
    },
    {
      "cell_type": "markdown",
      "metadata": {
        "id": "e6QB4L9ICkGE"
      },
      "source": [
        "문제531. 카카오 문제의 예제를 가지고 아래의 결과를 출력하시오 !\r\n",
        "\r\n",
        "    n = 5\r\n",
        "    arr1 = [ 9, 20, 28, 18, 11 ]\r\n",
        "    arr2 = [ 30, 1, 21, 17, 28 ]\r\n",
        "\r\n",
        "    결과:\r\n",
        "    01001 11110\r\n",
        "    10100 00001\r\n",
        "    11100 10101\r\n",
        "    10010 10001\r\n",
        "    01011 11100"
      ]
    },
    {
      "cell_type": "code",
      "metadata": {
        "colab": {
          "base_uri": "https://localhost:8080/"
        },
        "id": "9Xkdsh_CCofD",
        "outputId": "b9d19eb7-5316-4cc1-c751-4705a50ce634"
      },
      "source": [
        "def change(num, n):\r\n",
        "    return bin(num)[2:].rjust( n, '0' )\r\n",
        "\r\n",
        "n = 5\r\n",
        "arr1 = [ 9, 20, 28, 18, 11 ]\r\n",
        "arr2 = [ 30, 1, 21, 17, 28 ]\r\n",
        "\r\n",
        "for i, k in zip(arr1, arr2):\r\n",
        "    print(change(i, n), change(k, n))"
      ],
      "execution_count": null,
      "outputs": [
        {
          "output_type": "stream",
          "text": [
            "01001 11110\n",
            "10100 00001\n",
            "11100 10101\n",
            "10010 10001\n",
            "01011 11100\n"
          ],
          "name": "stdout"
        }
      ]
    },
    {
      "cell_type": "markdown",
      "metadata": {
        "id": "hf8WKdjbCqTk"
      },
      "source": [
        ""
      ]
    },
    {
      "cell_type": "code",
      "metadata": {
        "colab": {
          "base_uri": "https://localhost:8080/"
        },
        "id": "lcGLkI8MCqkr",
        "outputId": "d8a897cf-9d25-4e9e-8fe5-683321d5da54"
      },
      "source": [
        "for i in range(len(arr1)):\r\n",
        "    print( change(arr1[i], n), change(arr2[i], n) )"
      ],
      "execution_count": null,
      "outputs": [
        {
          "output_type": "stream",
          "text": [
            "01001 11110\n",
            "10100 00001\n",
            "11100 10101\n",
            "10010 10001\n",
            "01011 11100\n"
          ],
          "name": "stdout"
        }
      ]
    },
    {
      "cell_type": "markdown",
      "metadata": {
        "id": "2U5m1Z7NCuW4"
      },
      "source": [
        ""
      ]
    },
    {
      "cell_type": "markdown",
      "metadata": {
        "id": "NbdeL8gSCuUC"
      },
      "source": [
        ""
      ]
    },
    {
      "cell_type": "markdown",
      "metadata": {
        "id": "y7v2eLu-CuQ7"
      },
      "source": [
        "문제532. 위에서 출력된 아래의 결과를 이용해서 두 지도의 숫자가 둘 다 0이면 공벽(\" \")을 출력하고\r\n",
        "\t     아니면 벽('#') 을 출력하시오 !\r\n",
        "\r\n",
        "    01001 11110\r\n",
        "    10100 00001\r\n",
        "    11100 10101\r\n",
        "    10010 10001\r\n",
        "    01011 11100\r\n",
        "\r\n",
        "    결과:\r\n",
        "    [\"#####\",\"# # #\", \"### #\", \"# ##\", \"#####\"]"
      ]
    },
    {
      "cell_type": "code",
      "metadata": {
        "colab": {
          "base_uri": "https://localhost:8080/"
        },
        "id": "ti6W4wO3Cw-T",
        "outputId": "af5fa930-6dfb-4342-ff9a-8046b4af1a90"
      },
      "source": [
        "def change(num, n):\r\n",
        "    return bin(num)[2:].rjust( n, '0' )\r\n",
        "\r\n",
        "n = 5\r\n",
        "arr1 = [ 9, 20, 28, 18, 11 ]\r\n",
        "arr2 = [ 30, 1, 21, 17, 28 ]\r\n",
        "\r\n",
        "a = []\r\n",
        "b = []\r\n",
        "\r\n",
        "for i in range(len(arr1)):\r\n",
        "    a.append(change(arr1[i], n))\r\n",
        "    b.append(change(arr2[i], n))\r\n",
        "\r\n",
        "result = []\r\n",
        "for k in range(len(arr1)):\r\n",
        "    f = ''\r\n",
        "    for j in range(n):\r\n",
        "        if a[k][j] == '0' and b[k][j] == '0':\r\n",
        "            fi = ' '\r\n",
        "            f = f + fi\r\n",
        "        else:\r\n",
        "            fi = '#'\r\n",
        "            f = f + fi\r\n",
        "    result.append(f)\r\n",
        "\r\n",
        "print(result)"
      ],
      "execution_count": null,
      "outputs": [
        {
          "output_type": "stream",
          "text": [
            "['#####', '# # #', '### #', '#  ##', '#####']\n"
          ],
          "name": "stdout"
        }
      ]
    },
    {
      "cell_type": "markdown",
      "metadata": {
        "id": "1zgtwLhTC0DP"
      },
      "source": [
        ""
      ]
    },
    {
      "cell_type": "markdown",
      "metadata": {
        "id": "BeKHatqACz_6"
      },
      "source": [
        ""
      ]
    },
    {
      "cell_type": "markdown",
      "metadata": {
        "id": "LoPHps6nCz9L"
      },
      "source": [
        "문제533. 위의 코드를 함수로 생성해서 아래와 같이 수행되게하시오 !\r\n",
        "\r\n",
        "    n = 6\r\n",
        "    arr1 = [46, 33, 33 ,22, 31, 50]\r\n",
        "    arr2 = [27 ,56, 19, 14, 14, 10]\r\n",
        "\r\n",
        "    secretmap(arr1,arr2,n)\r\n",
        "\r\n",
        "    결과:\r\n",
        "    [\"######\", \"### #\", \"## ##\", \" #### \", \" #####\", \"### # \"]"
      ]
    },
    {
      "cell_type": "code",
      "metadata": {
        "colab": {
          "base_uri": "https://localhost:8080/"
        },
        "id": "OK4wtXI0C4IL",
        "outputId": "8d4ac26f-0d49-4dcf-a8e5-f9e0628beea9"
      },
      "source": [
        "def change(num, n):\r\n",
        "    return bin(num)[2:].rjust( n, '0' )\r\n",
        "\r\n",
        "def secretmap(arr1, arr2, n):\r\n",
        "    a = []\r\n",
        "    b = []\r\n",
        "    \r\n",
        "    for i in range(len(arr1)):\r\n",
        "        a.append(change(arr1[i], n))\r\n",
        "        b.append(change(arr2[i], n))\r\n",
        "    \r\n",
        "    result = []\r\n",
        "    for k in range(len(arr1)):\r\n",
        "        f = ''\r\n",
        "        for j in range(n):\r\n",
        "            if a[k][j] == '0' and b[k][j] == '0':\r\n",
        "                fi = ' '\r\n",
        "                f = f + fi\r\n",
        "            else:\r\n",
        "                fi = '#'\r\n",
        "                f = f + fi\r\n",
        "        result.append(f)\r\n",
        "    \r\n",
        "    print(result)\r\n",
        "\r\n",
        "\r\n",
        "n = 6\r\n",
        "arr1 = [46, 33, 33 ,22, 31, 50]\r\n",
        "arr2 = [27 ,56, 19, 14, 14, 10]\r\n",
        "\r\n",
        "secretmap(arr1, arr2, n)"
      ],
      "execution_count": null,
      "outputs": [
        {
          "output_type": "stream",
          "text": [
            "['######', '###  #', '##  ##', ' #### ', ' #####', '### # ']\n"
          ],
          "name": "stdout"
        }
      ]
    },
    {
      "cell_type": "markdown",
      "metadata": {
        "id": "JsMMtOX9C6_d"
      },
      "source": [
        ""
      ]
    },
    {
      "cell_type": "markdown",
      "metadata": {
        "id": "4elli9MlC68L"
      },
      "source": [
        ""
      ]
    },
    {
      "cell_type": "markdown",
      "metadata": {
        "id": "0oO1PdQtC65k"
      },
      "source": [
        "**■ 160. 통계 마지막 문제 (도박사 이야기)**\r\n",
        "\r\n",
        "※ 원본은 통계학(출판사 성안당) 책 78페이지\r\n",
        "\r\n",
        "\r\n",
        "해외여행 중 어느 뒷골목에서 동전으로 내기를 하는 도박사를 만났다.   \r\n",
        "앞면이 나오면 당신에게 1달러, 뒷면이 나오면 나에게 1달러, 어때요? 이 내기 한번 해볼래요?  \r\n",
        "그런데 동전에 부정이 있는 듯해 실제로 알아봤더니 8회중 7회는 뒷면이 나왔다.   \r\n",
        "이 동전은 앞면과 뒷면이 나올 확률이 다르지 않느냐? 고 했더니 도박사는 아무렇지도 않게 \"그런게 아니고 우연\" 이라고 대답했다.  \r\n",
        "어떻게 반론하면 좋을까?"
      ]
    },
    {
      "cell_type": "markdown",
      "metadata": {
        "id": "LOzjlMfsDFb2"
      },
      "source": [
        ""
      ]
    },
    {
      "cell_type": "markdown",
      "metadata": {
        "id": "jLEaW6SBDFZG"
      },
      "source": [
        ""
      ]
    },
    {
      "cell_type": "markdown",
      "metadata": {
        "id": "zLc6L0_UDFWg"
      },
      "source": [
        "문제534. 동전 하나를 10000 번 던져서 뒷면이 나오는 횟수를 출하시오 !\r\n",
        "\t     ( 힌트: random.randint(0,1) )  앞면 : 1, 뒷면 : 0"
      ]
    },
    {
      "cell_type": "code",
      "metadata": {
        "colab": {
          "base_uri": "https://localhost:8080/"
        },
        "id": "6lfSg1Q9DD9E",
        "outputId": "1fe11561-8688-4290-805a-5c90394a2bbe"
      },
      "source": [
        "import random\r\n",
        "\r\n",
        "cnt = 0\r\n",
        "for i in range(1, 10001):\r\n",
        "    result = random.randint(0,1)\r\n",
        "    if result == 0:\r\n",
        "        cnt += 1\r\n",
        "print(cnt)"
      ],
      "execution_count": null,
      "outputs": [
        {
          "output_type": "stream",
          "text": [
            "4925\n"
          ],
          "name": "stdout"
        }
      ]
    },
    {
      "cell_type": "markdown",
      "metadata": {
        "id": "o8VCyP5vDIlL"
      },
      "source": [
        ""
      ]
    },
    {
      "cell_type": "markdown",
      "metadata": {
        "id": "V3mdgUH2DIiS"
      },
      "source": [
        ""
      ]
    },
    {
      "cell_type": "markdown",
      "metadata": {
        "id": "E1MfctyCDIfj"
      },
      "source": [
        "문제535. 동전을 8번 던졌을 때 뒷면이 나오는 횟수를 출력하시오 !\r\n"
      ]
    },
    {
      "cell_type": "code",
      "metadata": {
        "colab": {
          "base_uri": "https://localhost:8080/"
        },
        "id": "VyiCYrNPDKtv",
        "outputId": "386e44af-3dcb-4a3a-c74c-75a73561878e"
      },
      "source": [
        "import random\r\n",
        "\r\n",
        "cnt = 0\r\n",
        "for i in range(1, 9):\r\n",
        "    result = random.randint(0,1)\r\n",
        "    if result == 0:\r\n",
        "        cnt += 1\r\n",
        "\r\n",
        "print(cnt)"
      ],
      "execution_count": null,
      "outputs": [
        {
          "output_type": "stream",
          "text": [
            "4\n"
          ],
          "name": "stdout"
        }
      ]
    },
    {
      "cell_type": "markdown",
      "metadata": {
        "id": "OeWLJpC_DOCw"
      },
      "source": [
        ""
      ]
    },
    {
      "cell_type": "markdown",
      "metadata": {
        "id": "OfE4Fg9dDN-3"
      },
      "source": [
        ""
      ]
    },
    {
      "cell_type": "markdown",
      "metadata": {
        "id": "VqqWu8oUDN8T"
      },
      "source": [
        "문제536. 동전 하나를 8번 던졌을 때 그 중 뒷면이 5번 나오는 횟수를 출력하시오 !\r\n",
        "\t     (동전 하나를 8번 던지는 실험을 10000번 하세요)"
      ]
    },
    {
      "cell_type": "code",
      "metadata": {
        "colab": {
          "base_uri": "https://localhost:8080/"
        },
        "id": "kjHeo7EYDPAz",
        "outputId": "9445d2da-837f-47b3-8d88-cc7dc0cbc05f"
      },
      "source": [
        "import random\r\n",
        "\r\n",
        "count = 0\r\n",
        "for k in range(1, 10001):\r\n",
        "    cnt = 0\r\n",
        "    for i in range(1, 9):\r\n",
        "        result = random.randint(0,1)\r\n",
        "        if result == 0:\r\n",
        "            cnt += 1\r\n",
        "    if cnt == 5:\r\n",
        "        count += 1\r\n",
        "print(count)"
      ],
      "execution_count": null,
      "outputs": [
        {
          "output_type": "stream",
          "text": [
            "2150\n"
          ],
          "name": "stdout"
        }
      ]
    },
    {
      "cell_type": "markdown",
      "metadata": {
        "id": "TqzLU_-sDZKe"
      },
      "source": [
        ""
      ]
    },
    {
      "cell_type": "markdown",
      "metadata": {
        "id": "V5KRkheQDZG4"
      },
      "source": [
        ""
      ]
    },
    {
      "cell_type": "markdown",
      "metadata": {
        "id": "mdGll_kFDZDf"
      },
      "source": [
        "문제537. 아래의 결과를 출력하시오 !\r\n",
        "\r\n",
        "    [ 0, 1, 2, 3, 4, 5, 6, 7, 8 ]\r\n",
        "    [ 0, 0, 0, 0, 0, 0, 0, 0, 0 ]"
      ]
    },
    {
      "cell_type": "code",
      "metadata": {
        "colab": {
          "base_uri": "https://localhost:8080/"
        },
        "id": "uh7FVTbrDcQE",
        "outputId": "4cfd25a7-9c8a-40e3-881a-5d66be3c4c65"
      },
      "source": [
        "a = [ i for i in range(9) ]\r\n",
        "b = [0] * 9\r\n",
        "print(a)\r\n",
        "print(b)"
      ],
      "execution_count": null,
      "outputs": [
        {
          "output_type": "stream",
          "text": [
            "[0, 1, 2, 3, 4, 5, 6, 7, 8]\n",
            "[0, 0, 0, 0, 0, 0, 0, 0, 0]\n"
          ],
          "name": "stdout"
        }
      ]
    },
    {
      "cell_type": "markdown",
      "metadata": {
        "id": "LP5z_PrtDe21"
      },
      "source": [
        ""
      ]
    },
    {
      "cell_type": "markdown",
      "metadata": {
        "id": "1ZKIJc4cDe0G"
      },
      "source": [
        ""
      ]
    },
    {
      "cell_type": "markdown",
      "metadata": {
        "id": "7Rmkh9ndDexM"
      },
      "source": [
        "문제538. 동전을 8번 던졌을 때 뒷면이 0번 ~ 8번 나오는 횟수가 아래와 같이 \r\n",
        "\t     출력되게하시오 !\r\n",
        "\r\n",
        "    [396, 3096, 10867, 21830, 27160, 21845, 10863, 3118, 366]"
      ]
    },
    {
      "cell_type": "code",
      "metadata": {
        "colab": {
          "base_uri": "https://localhost:8080/"
        },
        "id": "XsvhyKnRDhbs",
        "outputId": "19dcc95b-671e-4110-bf13-21bf6fc27c91"
      },
      "source": [
        "import random\r\n",
        "a = []\r\n",
        "\r\n",
        "for k in range(0,9):\r\n",
        "    count = 0\r\n",
        "    for j in range(1, 100001):\r\n",
        "        cnt = 0\r\n",
        "        for i in range(1, 9):\r\n",
        "            result = random.randint(0, 1)\r\n",
        "            if result == 0:\r\n",
        "                cnt += 1\r\n",
        "        if cnt == k:\r\n",
        "            count += 1\r\n",
        "    a.append(count)\r\n",
        "    \r\n",
        "print(a)"
      ],
      "execution_count": null,
      "outputs": [
        {
          "output_type": "stream",
          "text": [
            "[396, 3096, 10867, 21830, 27160, 21845, 10863, 3118, 366]\n"
          ],
          "name": "stdout"
        }
      ]
    },
    {
      "cell_type": "markdown",
      "metadata": {
        "id": "9GIdT7NHDpoj"
      },
      "source": [
        ""
      ]
    },
    {
      "cell_type": "markdown",
      "metadata": {
        "id": "02ShqQXSDplG"
      },
      "source": [
        ""
      ]
    },
    {
      "cell_type": "markdown",
      "metadata": {
        "id": "JjQZKTxsDpiL"
      },
      "source": [
        "문제539. 위의 횟수를 가지고 아래와 같이 확률이 출력되게하시오 ! ( 횟수/100000 )\r\n",
        "\r\n",
        "    결과:\r\n",
        "    [0.00367, 0.03066, 0.10824, 0.21684, 0.27401, 0.21736, 0.10889, 0.03095, 0.00384]\r\n"
      ]
    },
    {
      "cell_type": "code",
      "metadata": {
        "colab": {
          "base_uri": "https://localhost:8080/"
        },
        "id": "bq8HWuhNDrTw",
        "outputId": "f83a8ef3-d8a4-4317-f94c-25fc97d959bb"
      },
      "source": [
        "import random\r\n",
        "a = []\r\n",
        "\r\n",
        "for k in range(0,9):\r\n",
        "    count = 0\r\n",
        "    for j in range(1, 100001):\r\n",
        "        cnt = 0\r\n",
        "        for i in range(1, 9):\r\n",
        "            result = random.randint(0, 1)\r\n",
        "            if result == 0:\r\n",
        "                cnt += 1\r\n",
        "        if cnt == k:\r\n",
        "            count += 1\r\n",
        "    a.append(count)\r\n",
        "\r\n",
        "b = [ i/100000 for i in a ]\r\n",
        "print(b)"
      ],
      "execution_count": null,
      "outputs": [
        {
          "output_type": "stream",
          "text": [
            "[0.00367, 0.03066, 0.10824, 0.21684, 0.27401, 0.21736, 0.10889, 0.03095, 0.00384]\n"
          ],
          "name": "stdout"
        }
      ]
    },
    {
      "cell_type": "markdown",
      "metadata": {
        "id": "tqmW-DP_DyId"
      },
      "source": [
        ""
      ]
    },
    {
      "cell_type": "markdown",
      "metadata": {
        "id": "11DpZcxCDyDR"
      },
      "source": [
        ""
      ]
    },
    {
      "cell_type": "markdown",
      "metadata": {
        "id": "rhjFckBPDx8J"
      },
      "source": [
        "문제540. 위의 coin_cnt 를 x 축으로 하고 리스트를 y 축으로 해서 막대 그래프를 그리시오 !\r\n"
      ]
    },
    {
      "cell_type": "code",
      "metadata": {
        "colab": {
          "base_uri": "https://localhost:8080/",
          "height": 265
        },
        "id": "jokONQbhDx2T",
        "outputId": "de13ee5a-55ec-470a-8cc7-802de7e69fc2"
      },
      "source": [
        "import random\r\n",
        "a = [ ]\r\n",
        "\r\n",
        "for k in range(0,9):\r\n",
        "    count=0\r\n",
        "    for j in range(1,100001):\r\n",
        "        cnt=0\r\n",
        "        for i in range(1,9):\r\n",
        "            result = random.randint(0,1)  #숫자 0과 1 중 하나를 랜덤으로 출력\r\n",
        "            if result == 0:   #0을 뒷면이라고 가정\r\n",
        "                cnt+=1\r\n",
        "        if cnt==k:\r\n",
        "            count+=1\r\n",
        "    a.append(count)\r\n",
        "\r\n",
        "b = [ i/100000 for  i  in  a]\r\n",
        "coin_cnt = [ 0, 1, 2, 3, 4, 5, 6, 7, 8 ] \r\n",
        "\r\n",
        "import  matplotlib.pyplot  as  plt \r\n",
        "\r\n",
        "plt.bar( coin_cnt, b, tick_label= coin_cnt, align='center', color='red')\r\n",
        "plt.show()"
      ],
      "execution_count": null,
      "outputs": [
        {
          "output_type": "display_data",
          "data": {
            "image/png": "[encoded data removed]",
            "text/plain": [
              "<Figure size 432x288 with 1 Axes>"
            ]
          },
          "metadata": {
            "tags": [],
            "needs_background": "light"
          }
        }
      ]
    },
    {
      "cell_type": "markdown",
      "metadata": {
        "id": "ap5mz4gnD2UL"
      },
      "source": [
        ""
      ]
    },
    {
      "cell_type": "markdown",
      "metadata": {
        "id": "VmzsxIxDD2Qp"
      },
      "source": [
        ""
      ]
    },
    {
      "cell_type": "markdown",
      "metadata": {
        "id": "9bjXXgKfD2Nk"
      },
      "source": [
        "문제541. coin_cnt 를 입력값으로 해서 coin_cnt 의 요소들의 평균값과 표준편차를 출력하시오 !\r\n"
      ]
    },
    {
      "cell_type": "code",
      "metadata": {
        "colab": {
          "base_uri": "https://localhost:8080/"
        },
        "id": "rn2RpveVD3IS",
        "outputId": "6899aa32-a90c-40e4-f28c-f2fc2c0b5562"
      },
      "source": [
        "import numpy as np\r\n",
        "\r\n",
        "coin_cnt = [0, 1, 2, 3, 4, 5, 6, 7, 8 ]\r\n",
        "c_m = np.mean(coin_cnt)\r\n",
        "c_s = np.std(coin_cnt)\r\n",
        "print(c_m)  \r\n",
        "print(c_s) "
      ],
      "execution_count": null,
      "outputs": [
        {
          "output_type": "stream",
          "text": [
            "4.0\n",
            "2.581988897471611\n"
          ],
          "name": "stdout"
        }
      ]
    },
    {
      "cell_type": "markdown",
      "metadata": {
        "id": "cOL5E7mhD8id"
      },
      "source": [
        ""
      ]
    },
    {
      "cell_type": "markdown",
      "metadata": {
        "id": "QdslkU90D8fT"
      },
      "source": [
        ""
      ]
    },
    {
      "cell_type": "markdown",
      "metadata": {
        "id": "sD81QcxrD9ij"
      },
      "source": [
        "문제542. 위에서 구한 평균값과 표준편차를 이용해서 coin_cnt 의 요소값에 대한 확률밀도함수\r\n",
        "\t     값을 출력하시오 ! ( scipy.stats 의 norm 사용)  norm.pdf(입력값, 평균값, 표준편차)\r\n"
      ]
    },
    {
      "cell_type": "code",
      "metadata": {
        "colab": {
          "base_uri": "https://localhost:8080/"
        },
        "id": "F1NerN_BD-DA",
        "outputId": "04400433-ac4b-4ad2-cb70-e4c447634450"
      },
      "source": [
        "import numpy as np\r\n",
        "from scipy.stats import norm\r\n",
        "\r\n",
        "coin_cnt = [0, 1, 2, 3, 4, 5, 6, 7, 8 ]\r\n",
        "c_m = np.mean(coin_cnt)\r\n",
        "c_s = np.std(coin_cnt)\r\n",
        "result = norm.pdf(coin_cnt, c_m, c_s)\r\n",
        "print(result)"
      ],
      "execution_count": null,
      "outputs": [
        {
          "output_type": "stream",
          "text": [
            "[0.04653742 0.0786696  0.11446359 0.14334535 0.15450968 0.14334535\n",
            " 0.11446359 0.0786696  0.04653742]\n"
          ],
          "name": "stdout"
        }
      ]
    },
    {
      "cell_type": "markdown",
      "metadata": {
        "id": "EbsBPwy9EAAK"
      },
      "source": [
        ""
      ]
    },
    {
      "cell_type": "markdown",
      "metadata": {
        "id": "h0MnpacsD_8M"
      },
      "source": [
        ""
      ]
    },
    {
      "cell_type": "markdown",
      "metadata": {
        "id": "3prhz1-SD_48"
      },
      "source": [
        "문제543. coin_cnt 를 x 축으로 두고 위의 확률밀도 함수값을 y 축으로 두어서 확률밀도함수\r\n",
        "\t     그래프를 그리시오!"
      ]
    },
    {
      "cell_type": "code",
      "metadata": {
        "colab": {
          "base_uri": "https://localhost:8080/",
          "height": 265
        },
        "id": "mk-VWCYCEBiL",
        "outputId": "e9a870df-31fd-43e5-e48a-b789f73fff9f"
      },
      "source": [
        "import numpy as np\r\n",
        "from scipy.stats import norm\r\n",
        "import matplotlib.pyplot as plt\r\n",
        "\r\n",
        "coin_cnt = [ 0, 1, 2, 3, 4, 5, 6, 7, 8 ]\r\n",
        "c_m = np.mean(coin_cnt)\r\n",
        "c_s = np.std(coin_cnt)\r\n",
        "result = norm.pdf(coin_cnt, c_m, c_s)\r\n",
        "\r\n",
        "plt.plot( coin_cnt, result, color ='black' )\r\n",
        "plt.show()"
      ],
      "execution_count": null,
      "outputs": [
        {
          "output_type": "display_data",
          "data": {
            "image/png": "[encoded data removed]",
            "text/plain": [
              "<Figure size 432x288 with 1 Axes>"
            ]
          },
          "metadata": {
            "tags": [],
            "needs_background": "light"
          }
        }
      ]
    },
    {
      "cell_type": "markdown",
      "metadata": {
        "id": "LTzWxcqsEDkn"
      },
      "source": [
        ""
      ]
    },
    {
      "cell_type": "markdown",
      "metadata": {
        "id": "9nmPTQ7dEDg1"
      },
      "source": [
        ""
      ]
    },
    {
      "cell_type": "markdown",
      "metadata": {
        "id": "ZWd6-xu0EDdr"
      },
      "source": [
        "문제544. 위의 그래프에서 신뢰구간 68% 에 해당하는 부분만 녹색으로 색칠하시오 !\r\n",
        "\r\n",
        "** 신뢰구간 범위\r\n",
        "\r\n",
        "     1. 68% --> 평균 ± 1 * 표준편차\r\n",
        "     2. 95% --> 평균 ± 1.96 * 표준편차\r\n",
        "     3. 99% --> 평균 ± 2.58 * 표준편차"
      ]
    },
    {
      "cell_type": "code",
      "metadata": {
        "colab": {
          "base_uri": "https://localhost:8080/",
          "height": 266
        },
        "id": "Ld9G5EosEIac",
        "outputId": "61a5f8ec-4695-4410-a3f8-1d190cff3ec3"
      },
      "source": [
        "import numpy as np\r\n",
        "from scipy.stats import norm\r\n",
        "import matplotlib.pyplot as plt\r\n",
        "\r\n",
        "coin_cnt = [0, 1, 2, 3, 4, 5, 6, 7, 8 ]\r\n",
        "c_m = np.mean(coin_cnt)\r\n",
        "c_s = np.std(coin_cnt)\r\n",
        "result = norm.pdf(coin_cnt, c_m, c_s)\r\n",
        "\r\n",
        "plt.plot( coin_cnt, result, color ='black' )\r\n",
        "plt.fill_between(coin_cnt, result, where = (coin_cnt <= c_m + c_s) & (coin_cnt>= c_m - c_s), color = 'green')\r\n",
        "plt.show()"
      ],
      "execution_count": null,
      "outputs": [
        {
          "output_type": "display_data",
          "data": {
            "image/png": "[encoded data removed]",
            "text/plain": [
              "<Figure size 432x288 with 1 Axes>"
            ]
          },
          "metadata": {
            "tags": [],
            "needs_background": "light"
          }
        }
      ]
    },
    {
      "cell_type": "markdown",
      "metadata": {
        "id": "kU-m9YCAEKpn"
      },
      "source": [
        ""
      ]
    },
    {
      "cell_type": "markdown",
      "metadata": {
        "id": "aIPYP_r4EKl3"
      },
      "source": [
        ""
      ]
    },
    {
      "cell_type": "markdown",
      "metadata": {
        "id": "y0PUQeSgEKi8"
      },
      "source": [
        "문제545. 위의 코드들을 이용해서 아래와 같이 출력되게하시오 !\r\n",
        "\r\n",
        "동전을 8번 던졌을 때 동전이 뒷면이 나오는 횟수가 신뢰구간 68% 안에 드는지 아닌지를 출력하는 함수를 생성하시오\r\n",
        "\r\n",
        "    print ( coin_hypo(동전 뒷면의 횟수) )\r\n",
        "\r\n",
        "    print ( coin_hypo(4) )\r\n",
        "    동전을  8번 던졌을 때 뒷면이 나오는 횟수가 4번이 나올 확률은 신뢰구간 68% 안에 있습니다. \r\n",
        "\r\n",
        "    print ( coin_hypo(8) )\r\n",
        "    동전을  8번 던졌을 때 뒷면이 나오는 횟수가 8번이 나올 확률은 신뢰구간 68% 안에 없습니다.\r\n"
      ]
    },
    {
      "cell_type": "code",
      "metadata": {
        "colab": {
          "base_uri": "https://localhost:8080/"
        },
        "id": "wOcjMp3LETpl",
        "outputId": "17794c46-68ae-48a5-bb2d-7bf776fab589"
      },
      "source": [
        "import random\r\n",
        "import numpy as np\r\n",
        "\r\n",
        "def coin_avg_std(num):                    #동전을 몇번 던지냐에 따른 평균과 표준편차 를 생성\r\n",
        "    result=[]\r\n",
        "    for i in range(num):\r\n",
        "        cnt = 0\r\n",
        "        for t in range(8):\r\n",
        "            cnt += (random.randint(0,1))\r\n",
        "        result.append(cnt)\r\n",
        "        c_m= np.mean(result) \r\n",
        "        c_s = np.std(result)\r\n",
        "        \r\n",
        "    return c_m,c_s \r\n",
        "\r\n",
        "def coin_hypo(num):\r\n",
        "    c_m,c_s = coin_avg_std(10000)       # 동전 몇번 던진지를 선택\r\n",
        "    if c_m-c_s<=num<=c_m+c_s:\r\n",
        "        return f'동전을  8번 던졌을 때 뒷면이 나오는 횟수가 {num}번이 나올 확률은  신뢰구간 68%안에 있습니다.'\r\n",
        "    else:\r\n",
        "        return f'동전을  8번 던졌을 때 뒷면이 나오는 횟수가 {num}번이 나올 확률은  신뢰구간 68%안에 없습니다.'\r\n",
        "    \r\n",
        "print(coin_hypo(4))\r\n",
        "print(coin_hypo(8)) "
      ],
      "execution_count": null,
      "outputs": [
        {
          "output_type": "stream",
          "text": [
            "동전을  8번 던졌을 때 뒷면이 나오는 횟수가 4번이 나올 확률은  신뢰구간 68%안에 있습니다.\n",
            "동전을  8번 던졌을 때 뒷면이 나오는 횟수가 8번이 나올 확률은  신뢰구간 68%안에 없습니다.\n"
          ],
          "name": "stdout"
        }
      ]
    }
  ]
}