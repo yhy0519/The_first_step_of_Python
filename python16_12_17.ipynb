{
  "nbformat": 4,
  "nbformat_minor": 0,
  "metadata": {
    "colab": {
      "name": "python16_12_17.ipynb",
      "provenance": [],
      "collapsed_sections": [],
      "mount_file_id": "13Lw6n_Ryn1DmPlt2PvGeUojh7zahkKgq",
      "authorship_tag": "ABX9TyPFq79KuiJ/KzB8tUYu2HOW",
      "include_colab_link": true
    },
    "kernelspec": {
      "name": "python3",
      "display_name": "Python 3"
    }
  },
  "cells": [
    {
      "cell_type": "markdown",
      "metadata": {
        "id": "view-in-github",
        "colab_type": "text"
      },
      "source": [
        "<a href=\"https://colab.research.google.com/github/yhy0519/The_first_step_of_Python/blob/main/python16_12_17.ipynb\" target=\"_parent\"><img src=\"https://colab.research.google.com/assets/colab-badge.svg\" alt=\"Open In Colab\"/></a>"
      ]
    },
    {
      "cell_type": "markdown",
      "metadata": {
        "id": "uXcEehmtufvv"
      },
      "source": [
        "**■ Beautiful Soup 기능으로 웹스크롤링할 때 추가로 알아야 할 사항**"
      ]
    },
    {
      "cell_type": "markdown",
      "metadata": {
        "id": "NK4D4kC-uqQe"
      },
      "source": [
        ""
      ]
    },
    {
      "cell_type": "markdown",
      "metadata": {
        "id": "Ztat_aCZupPi"
      },
      "source": [
        "예제1. 웹스크롤링을 할 사이트에 접속합니다. \r\n",
        "\r\n",
        "https://futurechosun.com/"
      ]
    },
    {
      "cell_type": "markdown",
      "metadata": {
        "id": "2rt4Nrhvuu77"
      },
      "source": [
        ""
      ]
    },
    {
      "cell_type": "markdown",
      "metadata": {
        "id": "ChgGK2mfuu2p"
      },
      "source": [
        ""
      ]
    },
    {
      "cell_type": "markdown",
      "metadata": {
        "id": "iQ8-Ti57uuwW"
      },
      "source": [
        "예제2. 위의 사이트에서 키워드 '봉사' 로 검색을 합니다.\r\n"
      ]
    },
    {
      "cell_type": "markdown",
      "metadata": {
        "id": "HMjYtBzauwV9"
      },
      "source": [
        "https://futurechosun.com/page/1?s=%EB%B4%89%EC%82%AC  \r\n",
        "https://futurechosun.com/page/2?s=%EB%B4%89%EC%82%AC  \r\n",
        "https://futurechosun.com/page/3?s=%EB%B4%89%EC%82%AC"
      ]
    },
    {
      "cell_type": "markdown",
      "metadata": {
        "id": "7Ig0EdTZu01v"
      },
      "source": [
        ""
      ]
    },
    {
      "cell_type": "markdown",
      "metadata": {
        "id": "_YP0MYc7u0wy"
      },
      "source": [
        ""
      ]
    },
    {
      "cell_type": "markdown",
      "metadata": {
        "id": "58q5ugqUu0re"
      },
      "source": [
        "예제3. 위의 첫페이지의 html 코드를 파이썬으로 불러오는 작업"
      ]
    },
    {
      "cell_type": "code",
      "metadata": {
        "id": "0VxEC73jua5a"
      },
      "source": [
        "# 1. 웹스크롤링에 필요한 모듈을 import 합니다.\r\n",
        "\r\n",
        "from  bs4  import  BeautifulSoup\r\n",
        "import  urllib.request "
      ],
      "execution_count": null,
      "outputs": []
    },
    {
      "cell_type": "markdown",
      "metadata": {
        "id": "eenNgE2ivTGX"
      },
      "source": [
        ""
      ]
    },
    {
      "cell_type": "markdown",
      "metadata": {
        "id": "MUOf_c8QvTcO"
      },
      "source": [
        ""
      ]
    },
    {
      "cell_type": "code",
      "metadata": {
        "id": "HKCRLLCPvT8e"
      },
      "source": [
        "# 2. 첫페이지의 url 을 파싱합니다. (파이썬이 알아볼 수 있는 기계어로 변경)\r\n",
        "\r\n",
        "from  bs4  import  BeautifulSoup\r\n",
        "import  urllib.request \r\n",
        "\r\n",
        "list_url = 'https://futurechosun.com/page/1?s=%EB%B4%89%EC%82%AC'\r\n",
        "url = urllib.request.Request(list_url) \r\n",
        "result = urllib.request.urlopen(url).read().decode(\"utf-8\") \r\n",
        "#print(result)"
      ],
      "execution_count": 8,
      "outputs": []
    },
    {
      "cell_type": "markdown",
      "metadata": {
        "id": "zvx1-twCvWWG"
      },
      "source": [
        ""
      ]
    },
    {
      "cell_type": "markdown",
      "metadata": {
        "id": "v0NZNjglvWPm"
      },
      "source": [
        ""
      ]
    },
    {
      "cell_type": "code",
      "metadata": {
        "id": "XFGQdiMMvXNf"
      },
      "source": [
        "# 3. 웹스크롤링 전문 모듈인 BeautifulSoup 모듈을 이용할 수 있도록\r\n",
        "#   내려받은 html 코드를 BeautifulSoup 을 이용할 수 있게 파싱합니다.\r\n",
        "#   이용할 수 있게 한다는것은 BeautifulSoup 의 함수인 find_all 을 이용해서\r\n",
        "#   태그 이름과 클래스 이름을 가지고 검색하기 원하는 지점을 빠르게 찾아가기 위해서\r\n",
        "#   파싱한다는 것입니다.\r\n",
        "\r\n",
        "from  bs4  import  BeautifulSoup\r\n",
        "import  urllib.request \r\n",
        "\r\n",
        "list_url = 'https://futurechosun.com/page/1?s=%EB%B4%89%EC%82%AC'\r\n",
        "url = urllib.request.Request(list_url) \r\n",
        "result = urllib.request.urlopen(url).read().decode(\"utf-8\") \r\n",
        "soup = BeautifulSoup( result, \"html.parser\")\r\n",
        "#print(soup)"
      ],
      "execution_count": 6,
      "outputs": []
    },
    {
      "cell_type": "markdown",
      "metadata": {
        "id": "NoFFEfIbvWGe"
      },
      "source": [
        ""
      ]
    },
    {
      "cell_type": "markdown",
      "metadata": {
        "id": "Vc-wITcZvY-t"
      },
      "source": [
        ""
      ]
    },
    {
      "cell_type": "code",
      "metadata": {
        "id": "Dklrs2PIvZOm"
      },
      "source": [
        "# 4. 더나은 미래 첫페이지에 보이는 기사들 12개의 기사 url 을 알아내기 위해\r\n",
        "#   태그 이름과 클래스 이름이 무엇인지 알아내시오 ~ (href 가 있는 곳을 찾는다)\r\n",
        "# <h1 class=\"elementor-post__title\">\t<a href=\"https://futurechosun.com/archives/52491\">“편견에 주눅 들었던 결혼 이주 여성들… ‘봉사’로 자존감 되찾았다죠”\t</a>\t</h1>"
      ],
      "execution_count": 5,
      "outputs": []
    },
    {
      "cell_type": "markdown",
      "metadata": {
        "id": "EpCPAmuuvdte"
      },
      "source": [
        "답: 태그이름은 div 이고 클래스 이름은 elementor-post__title 입니다.\r\n",
        "\r\n",
        "※ 중요설명 : href 와 가장 가까이 있는 태그 이름과 클래스 이름을 알아내야 합니다\r\n"
      ]
    },
    {
      "cell_type": "markdown",
      "metadata": {
        "id": "JT5M-Oy5vgi9"
      },
      "source": [
        ""
      ]
    },
    {
      "cell_type": "markdown",
      "metadata": {
        "id": "dG6iE7LZvg3-"
      },
      "source": [
        ""
      ]
    },
    {
      "cell_type": "code",
      "metadata": {
        "id": "iqiNYtdRvhKd"
      },
      "source": [
        "# 5. 태그 이름 div 에 클래스 이름 elementor-post__title 에 해당하는 html 코드를\r\n",
        "#   BeautifulSoup 으로 모두 긁어오시오\r\n",
        "\r\n",
        "from  bs4  import  BeautifulSoup\r\n",
        "import  urllib.request \r\n",
        "\r\n",
        "list_url = 'https://futurechosun.com/page/1?s=%EB%B4%89%EC%82%AC'\r\n",
        "url = urllib.request.Request(list_url) \r\n",
        "result = urllib.request.urlopen(url).read().decode(\"utf-8\") \r\n",
        "soup = BeautifulSoup( result, \"html.parser\")\r\n",
        "result1=soup.find_all('h1',class_ ='elementor-post__title')\r\n",
        "print(result1)"
      ],
      "execution_count": null,
      "outputs": []
    },
    {
      "cell_type": "markdown",
      "metadata": {
        "id": "Gn0Y34RSw7kl"
      },
      "source": [
        ""
      ]
    },
    {
      "cell_type": "markdown",
      "metadata": {
        "id": "uKrZMW_0wwCW"
      },
      "source": [
        "결과:\r\n",
        "\r\n",
        "    [<h1 class=\"elementor-post__title\">\r\n",
        "    <a href=\"https://futurechosun.com/archives/52491\">\r\n",
        "\t\t\t\t“편견에 주눅 들었던 결혼 이주 여성들… ‘봉사’로 자존감 되찾았다죠”\t\t\t</a>\r\n",
        "    </h1>, \r\n",
        "    <h1 class=\"elementor-post__title\">\r\n",
        "    <a href=\"https://futurechosun.com/archives/47330\">\r\n",
        "\t\t\t\t[글로벌 이슈] 전 세계 코로나19 확산으로… 해외 봉사 ‘올스톱’ 위기\t\t\t</a>\r\n",
        "    </h1>, ... ]"
      ]
    },
    {
      "cell_type": "markdown",
      "metadata": {
        "id": "jzPORJEYvkAN"
      },
      "source": [
        "설명: 위의 result1 의 결과를 보면 리스트로 되어져있고 리스트 안에 각 요소들이 h1 태그가 위아래로 있고 안쪽에 a 태그가 있는 구조로 BeautifulSoup 으로 파싱된 html 코드들이\t요소로 구성되어있습니다.  \r\n",
        "우리가 원하는 지점은 a 태그인데 a 태그로 접근하려면 먼저 result1 리스트의 요소들을 하나씩 빼내와야 합니다.  \r\n",
        "리스트 안의 요소를 하나씩 빼내올려면 뭘 써야하나요?  \r\n",
        "\t                             for loop 문을 사용해야합니다.\r\n",
        "\r\n"
      ]
    },
    {
      "cell_type": "markdown",
      "metadata": {
        "id": "u-L5wmOExG6G"
      },
      "source": [
        ""
      ]
    },
    {
      "cell_type": "markdown",
      "metadata": {
        "id": "Ge-qMDjpxHTu"
      },
      "source": [
        ""
      ]
    },
    {
      "cell_type": "code",
      "metadata": {
        "id": "tQHnUW7TxHrU"
      },
      "source": [
        "# 6. result1 리스트의 요소들(BeautifulSoop 으로 파싱된 html 코드들)을\r\n",
        "#   for loop 문으로 하나씩 빼냅니다.\r\n",
        "\r\n",
        "from  bs4  import  BeautifulSoup\r\n",
        "import  urllib.request \r\n",
        "\r\n",
        "list_url = 'https://futurechosun.com/page/1?s=%EB%B4%89%EC%82%AC'\r\n",
        "url = urllib.request.Request(list_url) \r\n",
        "result = urllib.request.urlopen(url).read().decode(\"utf-8\") \r\n",
        "soup = BeautifulSoup( result, \"html.parser\")\r\n",
        "result1=soup.find_all('h1',class_ ='elementor-post__title')\r\n",
        "for i in result1:\r\n",
        "    print(i)"
      ],
      "execution_count": null,
      "outputs": []
    },
    {
      "cell_type": "markdown",
      "metadata": {
        "id": "xbfq90N-xY2F"
      },
      "source": [
        ""
      ]
    },
    {
      "cell_type": "markdown",
      "metadata": {
        "id": "FsUkryNdxQsB"
      },
      "source": [
        "결과:\r\n",
        "\r\n",
        "    <h1 class=\"elementor-post__title\">\r\n",
        "    <a href=\"https://futurechosun.com/archives/52491\">\r\n",
        "\t\t\t\t“편견에 주눅 들었던 결혼 이주 여성들… ‘봉사’로 자존감 되찾았다죠”\t\t\t</a>\r\n",
        "    </h1>\r\n",
        "    <h1 class=\"elementor-post__title\">\r\n",
        "    <a href=\"https://futurechosun.com/archives/47330\">\r\n",
        "\t\t\t\t[글로벌 이슈] 전 세계 코로나19 확산으로… 해외 봉사 ‘올스톱’ 위기\t\t\t</a>\r\n",
        "    </h1>\r\n",
        "      :"
      ]
    },
    {
      "cell_type": "markdown",
      "metadata": {
        "id": "9RwAYpKZB178"
      },
      "source": [
        ""
      ]
    },
    {
      "cell_type": "markdown",
      "metadata": {
        "id": "zQqoJ-OdB1w8"
      },
      "source": [
        ""
      ]
    },
    {
      "cell_type": "code",
      "metadata": {
        "id": "yCfXIFPUB1kf"
      },
      "source": [
        "# 7. 빼낸 요소인 위의 html 코드 3줄에서 a 태그에 해당하는 부분만 가져오게 하시오\r\n",
        "\r\n",
        "from  bs4  import  BeautifulSoup\r\n",
        "import  urllib.request \r\n",
        "\r\n",
        "list_url = 'https://futurechosun.com/page/1?s=%EB%B4%89%EC%82%AC'\r\n",
        "url = urllib.request.Request(list_url) \r\n",
        "result = urllib.request.urlopen(url).read().decode(\"utf-8\") \r\n",
        "soup = BeautifulSoup( result, \"html.parser\")\r\n",
        "result1=soup.find_all('h1',class_ ='elementor-post__title')\r\n",
        "for i in result1:\r\n",
        "    print( i.find_all('a') )"
      ],
      "execution_count": null,
      "outputs": []
    },
    {
      "cell_type": "markdown",
      "metadata": {
        "id": "iSGPXfrrB-Y4"
      },
      "source": [
        "결과: a 태그에 해당하는 부분이 요소 하나로 해서 리스트로 감싸져서 출력\r\n",
        "\r\n",
        "    [<a href=\"https://futurechosun.com/archives/52491\">\r\n",
        "\t\t\t\t“편견에 주눅 들었던 결혼 이주 여성들… ‘봉사’로 자존감 되찾았다죠”\t\t\t</a>]\r\n",
        "    [<a href=\"https://futurechosun.com/archives/47330\">\r\n",
        "\t\t\t\t[글로벌 이슈] 전 세계 코로나19 확산으로… 해외 봉사 ‘올스톱’ 위기\t\t\t</a>]\r\n",
        "            :\r\n"
      ]
    },
    {
      "cell_type": "markdown",
      "metadata": {
        "id": "hdMpcaQfB9A7"
      },
      "source": [
        ""
      ]
    },
    {
      "cell_type": "markdown",
      "metadata": {
        "id": "atfnnM_JB85j"
      },
      "source": [
        ""
      ]
    },
    {
      "cell_type": "code",
      "metadata": {
        "id": "X0a670FmB9dL"
      },
      "source": [
        "# 8. 위의 a 태그의 html 코드를 담은 리스트는 요소를 딱 하나만 담고있다.\r\n",
        "#   그래서 리스트안의 그 요소만 딱 뽑아내서 출력을 하시오 !\r\n",
        "\r\n",
        "#힌트: a = [2]\r\n",
        "# print(a[0])\r\n",
        "\r\n",
        "from  bs4  import  BeautifulSoup\r\n",
        "import  urllib.request \r\n",
        "\r\n",
        "list_url = 'https://futurechosun.com/page/1?s=%EB%B4%89%EC%82%AC'\r\n",
        "url = urllib.request.Request(list_url) \r\n",
        "result = urllib.request.urlopen(url).read().decode(\"utf-8\") \r\n",
        "soup = BeautifulSoup( result, \"html.parser\")\r\n",
        "result1 = soup.find_all('h1',class_ ='elementor-post__title')\r\n",
        "for i in result1:\r\n",
        "    print( i.find_all('a')[0] )"
      ],
      "execution_count": null,
      "outputs": []
    },
    {
      "cell_type": "markdown",
      "metadata": {
        "id": "7Nzgk577CfhU"
      },
      "source": [
        "결과:\r\n",
        "\r\n",
        "    <a href=\"https://futurechosun.com/archives/52491\">\r\n",
        "\t\t\t\t“편견에 주눅 들었던 결혼 이주 여성들… ‘봉사’로 자존감 되찾았다죠”\t\t\t</a>\r\n",
        "    <a href=\"https://futurechosun.com/archives/47330\">\r\n",
        "\t\t\t\t[글로벌 이슈] 전 세계 코로나19 확산으로… 해외 봉사 ‘올스톱’ 위기\t\t\t</a>\r\n",
        "              :"
      ]
    },
    {
      "cell_type": "markdown",
      "metadata": {
        "id": "Zxkrv9u7ClYL"
      },
      "source": [
        ""
      ]
    },
    {
      "cell_type": "markdown",
      "metadata": {
        "id": "qXmdHkcxClRV"
      },
      "source": [
        ""
      ]
    },
    {
      "cell_type": "code",
      "metadata": {
        "colab": {
          "base_uri": "https://localhost:8080/"
        },
        "id": "fRr07DBSClxo",
        "outputId": "18e6a3dc-167e-44fd-d03f-cfb88dedec42"
      },
      "source": [
        "# 9. 그러면 뽑아낸 a 태그의 html 문서에서 href 의 값만 얻어내시오 ~\r\n",
        "\r\n",
        "from  bs4  import  BeautifulSoup\r\n",
        "import  urllib.request \r\n",
        "\r\n",
        "list_url = 'https://futurechosun.com/page/1?s=%EB%B4%89%EC%82%AC'\r\n",
        "url = urllib.request.Request(list_url) \r\n",
        "result = urllib.request.urlopen(url).read().decode(\"utf-8\") \r\n",
        "soup = BeautifulSoup( result, \"html.parser\")\r\n",
        "result1=soup.find_all('h1',class_ ='elementor-post__title')\r\n",
        "for i in result1:\r\n",
        "    print(i.find_all('a')[0].get('href'))"
      ],
      "execution_count": 22,
      "outputs": [
        {
          "output_type": "stream",
          "text": [
            "https://futurechosun.com/archives/52491\n",
            "https://futurechosun.com/archives/47330\n",
            "https://futurechosun.com/archives/47004\n",
            "https://futurechosun.com/archives/46834\n",
            "https://futurechosun.com/archives/43905\n",
            "https://futurechosun.com/archives/43785\n",
            "https://futurechosun.com/archives/39923\n",
            "https://futurechosun.com/archives/38545\n",
            "https://futurechosun.com/archives/37895\n",
            "https://futurechosun.com/archives/37393\n",
            "https://futurechosun.com/archives/35472\n",
            "https://futurechosun.com/archives/33380\n",
            "https://futurechosun.com/archives/52491\n",
            "https://futurechosun.com/archives/47330\n",
            "https://futurechosun.com/archives/47004\n",
            "https://futurechosun.com/archives/46834\n",
            "https://futurechosun.com/archives/43905\n",
            "https://futurechosun.com/archives/43785\n",
            "https://futurechosun.com/archives/39923\n",
            "https://futurechosun.com/archives/38545\n",
            "https://futurechosun.com/archives/37895\n",
            "https://futurechosun.com/archives/37393\n",
            "https://futurechosun.com/archives/35472\n",
            "https://futurechosun.com/archives/33380\n"
          ],
          "name": "stdout"
        }
      ]
    },
    {
      "cell_type": "markdown",
      "metadata": {
        "id": "LXX1YUR7ClL6"
      },
      "source": [
        ""
      ]
    },
    {
      "cell_type": "markdown",
      "metadata": {
        "id": "nB-vSTObCpnA"
      },
      "source": [
        ""
      ]
    },
    {
      "cell_type": "code",
      "metadata": {
        "colab": {
          "base_uri": "https://localhost:8080/"
        },
        "id": "0mMjTBaACp6H",
        "outputId": "dea7f02f-0930-400e-81a4-1d19177d3ae3"
      },
      "source": [
        "# 10. 위의 상세기사 url 을 params 라는 리스트에 append 시킨다.\r\n",
        "\r\n",
        "from  bs4  import  BeautifulSoup\r\n",
        "import  urllib.request \r\n",
        "\r\n",
        "list_url = 'https://futurechosun.com/page/1?s=%EB%B4%89%EC%82%AC'\r\n",
        "url = urllib.request.Request(list_url) \r\n",
        "result = urllib.request.urlopen(url).read().decode(\"utf-8\") \r\n",
        "soup = BeautifulSoup( result, \"html.parser\")\r\n",
        "result1=soup.find_all('h1',class_ ='elementor-post__title')\r\n",
        "params = []\r\n",
        "for i in result1:\r\n",
        "    params.append(i.find_all('a')[0].get('href'))\r\n",
        "\r\n",
        "print(params)   # url 중복 12 * 2 = 24개 출력"
      ],
      "execution_count": 30,
      "outputs": [
        {
          "output_type": "stream",
          "text": [
            "['https://futurechosun.com/archives/52491', 'https://futurechosun.com/archives/47330', 'https://futurechosun.com/archives/47004', 'https://futurechosun.com/archives/46834', 'https://futurechosun.com/archives/43905', 'https://futurechosun.com/archives/43785', 'https://futurechosun.com/archives/39923', 'https://futurechosun.com/archives/38545', 'https://futurechosun.com/archives/37895', 'https://futurechosun.com/archives/37393', 'https://futurechosun.com/archives/35472', 'https://futurechosun.com/archives/33380', 'https://futurechosun.com/archives/52491', 'https://futurechosun.com/archives/47330', 'https://futurechosun.com/archives/47004', 'https://futurechosun.com/archives/46834', 'https://futurechosun.com/archives/43905', 'https://futurechosun.com/archives/43785', 'https://futurechosun.com/archives/39923', 'https://futurechosun.com/archives/38545', 'https://futurechosun.com/archives/37895', 'https://futurechosun.com/archives/37393', 'https://futurechosun.com/archives/35472', 'https://futurechosun.com/archives/33380']\n"
          ],
          "name": "stdout"
        }
      ]
    },
    {
      "cell_type": "markdown",
      "metadata": {
        "id": "l1AcGjJJCsq3"
      },
      "source": [
        ""
      ]
    },
    {
      "cell_type": "markdown",
      "metadata": {
        "id": "9aquG6brCsnA"
      },
      "source": [
        ""
      ]
    },
    {
      "cell_type": "code",
      "metadata": {
        "colab": {
          "base_uri": "https://localhost:8080/"
        },
        "id": "S-oQpv3UCs7S",
        "outputId": "c2a9e8d3-fe83-420b-a0ef-6a9351dd8a62"
      },
      "source": [
        "# 11. 첫페이지만 가져오는게 아니라 1 페이지부터 3 페이지까지 12 x 3 = 36 페이지의\r\n",
        "#    기사 url 을 params 리스트에 append 시키시오\r\n",
        "\r\n",
        "from  bs4  import  BeautifulSoup\r\n",
        "import  urllib.request \r\n",
        "import time\r\n",
        "\r\n",
        "params = []\r\n",
        "for i in range(1, 4):\r\n",
        "    time.sleep(5)\r\n",
        "    list_url = 'https://futurechosun.com/page/'+ str(i) +'?s=%EB%B4%89%EC%82%AC'\r\n",
        "    url = urllib.request.Request(list_url) \r\n",
        "    result = urllib.request.urlopen(url).read().decode(\"utf-8\") \r\n",
        "    soup = BeautifulSoup( result, \"html.parser\")\r\n",
        "    result1=soup.find_all('h1',class_ ='elementor-post__title')\r\n",
        "    for i in result1:\r\n",
        "        params.append(i.find_all('a')[0].get('href'))\r\n",
        "\r\n",
        "print(len(params))          # url 중복 12 * 2 * 3 = 72개 출력\r\n",
        "\r\n",
        "\r\n",
        "my_result = set(params)      # set 함수를 이용하면 중복이 제거가 된 요소들만 남는다.\r\n",
        "my_result2 = list(my_result) #  중복이 제거된 요소들을 다시 리스트로 감싸서 리스트화 시킨다. \r\n",
        "\r\n",
        "print(len(my_result2))     # 36"
      ],
      "execution_count": 31,
      "outputs": [
        {
          "output_type": "stream",
          "text": [
            "72\n",
            "36\n"
          ],
          "name": "stdout"
        }
      ]
    },
    {
      "cell_type": "markdown",
      "metadata": {
        "id": "WlPbffi1ESDq"
      },
      "source": [
        ""
      ]
    },
    {
      "cell_type": "markdown",
      "metadata": {
        "id": "S80utPPwER8T"
      },
      "source": [
        ""
      ]
    },
    {
      "cell_type": "code",
      "metadata": {
        "colab": {
          "base_uri": "https://localhost:8080/"
        },
        "id": "nbGNha81ESjQ",
        "outputId": "fa795549-1827-4a7a-b6bf-94f1e62acf59"
      },
      "source": [
        "# 12. 위의 코드들을 가지고 bs_scroll() 이라는 함수로 생성하시오 !\r\n",
        "#      print(len(my_result2)) ---> return my_result2 로 변경하세요\r\n",
        "\r\n",
        "from  bs4  import  BeautifulSoup\r\n",
        "import  urllib.request\r\n",
        "import time\r\n",
        "\r\n",
        "def bs_scroll():    \r\n",
        "    params = []\r\n",
        "    for i in range(1, 4):\r\n",
        "        time.sleep(5)\r\n",
        "        list_url = 'https://futurechosun.com/page/'+ str(i) +'?s=%EB%B4%89%EC%82%AC'\r\n",
        "        url = urllib.request.Request(list_url) \r\n",
        "        result = urllib.request.urlopen(url).read().decode(\"utf-8\") \r\n",
        "        soup = BeautifulSoup( result, \"html.parser\")\r\n",
        "        result1=soup.find_all('h1',class_ ='elementor-post__title')\r\n",
        "\r\n",
        "        for i in result1:\r\n",
        "            params.append(i.find_all('a')[0].get('href'))\r\n",
        "\r\n",
        "    my_result = set(params)  \r\n",
        "    my_result2 = list(my_result) \r\n",
        "\r\n",
        "    return my_result2\r\n",
        "\r\n",
        "print(len(bs_scroll()))"
      ],
      "execution_count": 34,
      "outputs": [
        {
          "output_type": "stream",
          "text": [
            "36\n"
          ],
          "name": "stdout"
        }
      ]
    },
    {
      "cell_type": "markdown",
      "metadata": {
        "id": "8zp1ABJ7FBjo"
      },
      "source": [
        ""
      ]
    },
    {
      "cell_type": "markdown",
      "metadata": {
        "id": "a_XG7Xy_FBY3"
      },
      "source": [
        ""
      ]
    },
    {
      "cell_type": "code",
      "metadata": {
        "id": "33mNx1TbFBx3"
      },
      "source": [
        "# 13. 더나은미래의 상세기사 url 하나를 가지고 본문 기사를 출력하시오 !\r\n",
        "\r\n",
        "# https://futurechosun.com/archives/52491\r\n",
        "# <div class=\"elementor-element elementor-element-24e82692 elementor-widget__width-initial elementor-widget elementor-widget-theme-post-content\" data-id=\"24e82692\" data-element_type=\"widget\" data-widget_type=\"theme-post-content.default\"><div class=\"elementor-widget-container\"><p><strong>[우리사회 利주민] 박시은 ‘다빛나’ 대표</strong></p><p>사람은 타인과 사회로부터 상처를 받으면 주눅 들게 된다. 상처를 성장의 발판으로 삼은 사람들의 이야기가\r\n",
        "\r\n",
        "from  bs4  import  BeautifulSoup\r\n",
        "import  urllib.request\r\n",
        "\r\n",
        "list_url = 'https://futurechosun.com/archives/52491'\r\n",
        "url = urllib.request.Request(list_url) \r\n",
        "result = urllib.request.urlopen(url).read().decode(\"utf-8\") \r\n",
        "soup = BeautifulSoup( result, \"html.parser\")\r\n",
        "result1 = soup.find_all( 'div', class_ = 'elementor-element elementor-element-24e82692 elementor-widget__width-initial elementor-widget elementor-widget-theme-post-content' )\r\n",
        "\r\n",
        "for i in result1:\r\n",
        "    print( i.find_all('p') )"
      ],
      "execution_count": null,
      "outputs": []
    },
    {
      "cell_type": "markdown",
      "metadata": {
        "id": "_1D00RDvGH48"
      },
      "source": [
        ""
      ]
    },
    {
      "cell_type": "markdown",
      "metadata": {
        "id": "rfQcyM--GHzQ"
      },
      "source": [
        ""
      ]
    },
    {
      "cell_type": "code",
      "metadata": {
        "id": "PLNC-ftsGIin"
      },
      "source": [
        "# 14. 위의 코드를 가지고 bd_detail_scroll() 함수로 생성하시오 !\r\n",
        "\r\n",
        "from  bs4  import  BeautifulSoup\r\n",
        "import  urllib.request\r\n",
        "\r\n",
        "def bd_detail_scroll():\r\n",
        "    list_url = 'https://futurechosun.com/archives/52491'\r\n",
        "    url = urllib.request.Request(list_url) \r\n",
        "    result = urllib.request.urlopen(url).read().decode(\"utf-8\") \r\n",
        "    soup = BeautifulSoup( result, \"html.parser\")\r\n",
        "    result1 = soup.find_all( 'div', class_ = 'elementor-element elementor-element-24e82692 elementor-widget__width-initial elementor-widget elementor-widget-theme-post-content' )\r\n",
        "    \r\n",
        "    for i in result1:\r\n",
        "        print( i.find_all('p') )\r\n",
        "\r\n",
        "bd_detail_scroll()"
      ],
      "execution_count": null,
      "outputs": []
    },
    {
      "cell_type": "markdown",
      "metadata": {
        "id": "6HWe4a1RGL5t"
      },
      "source": [
        ""
      ]
    },
    {
      "cell_type": "markdown",
      "metadata": {
        "id": "osIBJ8P9GL05"
      },
      "source": [
        ""
      ]
    },
    {
      "cell_type": "code",
      "metadata": {
        "id": "HCqsbHLsGMP_"
      },
      "source": [
        "# 15. 위에서 만든 bs_detail_scroll() 함수의 코드안에 bs_scroll() 함수를 호출하는 코드를 추가해서\r\n",
        "#    bs_scroll() 함수가 리턴하는 36개의 상세기사 url 에 대한 기사 본문이 전부 출력되게 하시오\r\n",
        "\r\n",
        "from  bs4  import  BeautifulSoup\r\n",
        "import  urllib.request\r\n",
        "\r\n",
        "def bs_detail_scroll():\r\n",
        "    list_url = bs_scroll()\r\n",
        "    for  i  in  list_url:\r\n",
        "        url = urllib.request.Request(i) \r\n",
        "        result = urllib.request.urlopen(url).read().decode(\"utf-8\") \r\n",
        "        soup = BeautifulSoup(result,\"html.parser\")\r\n",
        "        result1 = soup.find_all('div', class_ ='elementor-element elementor-element-24e82692 elementor-widget__width-initial elementor-widget elementor-widget-theme-post-content')\r\n",
        "        for i in result1:\r\n",
        "            print(i.find_all('p'))\r\n",
        "\r\n",
        "bs_detail_scroll()"
      ],
      "execution_count": null,
      "outputs": []
    },
    {
      "cell_type": "markdown",
      "metadata": {
        "id": "dGcIwv-QGhJ3"
      },
      "source": [
        ""
      ]
    },
    {
      "cell_type": "markdown",
      "metadata": {
        "id": "7lOaaKKKGg7T"
      },
      "source": [
        ""
      ]
    },
    {
      "cell_type": "code",
      "metadata": {
        "colab": {
          "base_uri": "https://localhost:8080/"
        },
        "id": "O1R-i9aGGhlp",
        "outputId": "74b8a195-0b87-4fa3-db0d-77f254212aa0"
      },
      "source": [
        "# 16. bs_detail_scroll() 함수의 params2 리스트를 추가해서 params2 리스트에 지금 위에서 출력하고\r\n",
        "#    있는 36개의 기사가 append 되게하시오 !\r\n",
        "\r\n",
        "from  bs4  import  BeautifulSoup\r\n",
        "import  urllib.request\r\n",
        "\r\n",
        "def bs_detail_scroll():\r\n",
        "    list_url = bs_scroll()\r\n",
        "    params2 = []\r\n",
        "    for i in list_url:\r\n",
        "        url = urllib.request.Request(i) \r\n",
        "        result = urllib.request.urlopen(url).read().decode(\"utf-8\") \r\n",
        "        soup = BeautifulSoup( result, \"html.parser\")\r\n",
        "        result1 = soup.find_all( 'div', class_ = 'elementor-element elementor-element-24e82692 elementor-widget__width-initial elementor-widget elementor-widget-theme-post-content' )\r\n",
        "    \r\n",
        "        for i in result1:\r\n",
        "            params2.append( i.find_all('p') )\r\n",
        "\r\n",
        "    return params2\r\n",
        "\r\n",
        "print( len(bs_detail_scroll() ) )   # 35(마지막 기사 본문 내용 없음.)"
      ],
      "execution_count": 47,
      "outputs": [
        {
          "output_type": "stream",
          "text": [
            "35\n"
          ],
          "name": "stdout"
        }
      ]
    },
    {
      "cell_type": "markdown",
      "metadata": {
        "id": "sDaTZ1O7HMLX"
      },
      "source": [
        ""
      ]
    },
    {
      "cell_type": "markdown",
      "metadata": {
        "id": "llKwU3_PHMGC"
      },
      "source": [
        ""
      ]
    },
    {
      "cell_type": "code",
      "metadata": {
        "id": "7SxCgZzLHMkP"
      },
      "source": [
        "# 17. 위에서 수집한 기사가 들어있는 params2 리스트의 내용을 c 드라이브 밑에 data 밑에\r\n",
        "#    bonsa.txt 로 생성되게 하시오 !\r\n",
        "\r\n",
        "from  bs4  import  BeautifulSoup\r\n",
        "import  urllib.request\r\n",
        "import time\r\n",
        "\r\n",
        "def bs_scroll():    \r\n",
        "    params = []\r\n",
        "    for i in range(1, 4):\r\n",
        "        time.sleep(5)\r\n",
        "        list_url = 'https://futurechosun.com/page/'+ str(i) +'?s=%EB%B4%89%EC%82%AC'\r\n",
        "        url = urllib.request.Request(list_url) \r\n",
        "        result = urllib.request.urlopen(url).read().decode(\"utf-8\") \r\n",
        "        soup = BeautifulSoup( result, \"html.parser\")\r\n",
        "        result1=soup.find_all('h1',class_ ='elementor-post__title')\r\n",
        "        for i in result1:\r\n",
        "            params.append(i.find_all('a')[0].get('href'))\r\n",
        "\r\n",
        "    my_result = set(params)  \r\n",
        "    my_result2 = list(my_result) \r\n",
        "\r\n",
        "    return my_result2\r\n",
        "\r\n",
        "# print(len(bs_scroll()))  # 36\r\n",
        "\r\n",
        "\r\n",
        "def bs_detail_scroll():\r\n",
        "    list_url = bs_scroll()\r\n",
        "    f = open('/content/drive/MyDrive/data/bongsa.txt', 'w', encoding=\"UTF-8\")\r\n",
        "    for  i  in  list_url:\r\n",
        "        url = urllib.request.Request(i) \r\n",
        "        result = urllib.request.urlopen(url).read().decode(\"utf-8\") \r\n",
        "        soup=BeautifulSoup(result,\"html.parser\")\r\n",
        "        result=soup.find_all('div', class_ ='elementor-element elementor-element-24e82692 elementor-widget__width-initial elementor-widget elementor-widget-theme-post-content')\r\n",
        "        for i in result:\r\n",
        "            for j in i.find_all('p'):\r\n",
        "                f.write(str(j.get_text()) + \"\\n\")\r\n",
        "\r\n",
        "    f.close()\r\n",
        "\r\n",
        "bs_detail_scroll()"
      ],
      "execution_count": null,
      "outputs": []
    },
    {
      "cell_type": "markdown",
      "metadata": {
        "id": "skvE3cmzJDAm"
      },
      "source": [
        ""
      ]
    },
    {
      "cell_type": "markdown",
      "metadata": {
        "id": "uijSwepKJC5l"
      },
      "source": [
        ""
      ]
    },
    {
      "cell_type": "markdown",
      "metadata": {
        "id": "yOnPCJ8tJDS7"
      },
      "source": [
        "**■ 이데일리 사이트 웹스크롤링 하기**"
      ]
    },
    {
      "cell_type": "markdown",
      "metadata": {
        "id": "ZkiyOlRHJGIm"
      },
      "source": [
        ""
      ]
    },
    {
      "cell_type": "markdown",
      "metadata": {
        "id": "nu5QN2H0JNtT"
      },
      "source": [
        "예제1. 이데일리에서 \"첫눈\" 으로 검색한 기사들을 검색하시오 !\r\n",
        "\r\n",
        "https://www.edaily.co.kr/search/news/?keyword=%ec%b2%ab%eb%88%88&page=1  \r\n",
        "https://www.edaily.co.kr/search/news/?keyword=%ec%b2%ab%eb%88%88&page=2  \r\n",
        "https://www.edaily.co.kr/search/news/?keyword=%ec%b2%ab%eb%88%88&page=3"
      ]
    },
    {
      "cell_type": "markdown",
      "metadata": {
        "id": "lv7DwxS_JPLn"
      },
      "source": [
        ""
      ]
    },
    {
      "cell_type": "markdown",
      "metadata": {
        "id": "qIv5-uI_JPiD"
      },
      "source": [
        ""
      ]
    },
    {
      "cell_type": "code",
      "metadata": {
        "id": "dV1fOc6pJFgc"
      },
      "source": [
        "# 예제2. 위의 url 의 첫페이지의 html 코드를 BeautifulSoup 으로 파싱하시오 ~\r\n",
        "\r\n",
        "from  bs4  import  BeautifulSoup\r\n",
        "import  urllib.request\r\n",
        "\r\n",
        "list_url = 'https://www.edaily.co.kr/search/news/?keyword=%ec%b2%ab%eb%88%88&page=1'\r\n",
        "url = urllib.request.Request(list_url)\r\n",
        "result = urllib.request.urlopen(url).read().decode(\"utf-8\")\r\n",
        "soup = BeautifulSoup( result, \"html.parser\" )\r\n",
        "print(soup)"
      ],
      "execution_count": null,
      "outputs": []
    },
    {
      "cell_type": "markdown",
      "metadata": {
        "id": "kaKDcyNPJiAa"
      },
      "source": [
        ""
      ]
    },
    {
      "cell_type": "markdown",
      "metadata": {
        "id": "aNsEurCTJh59"
      },
      "source": [
        ""
      ]
    },
    {
      "cell_type": "markdown",
      "metadata": {
        "id": "a4YKmre0Jh0b"
      },
      "source": [
        "예제3. 상세기사 url 을 찾기위한 태그 이름과 클래스 이름을 알아내시오 !\r\n",
        "\r\n",
        "    <div class=\"newsbox_04\">\r\n",
        "    <a href=\"/news/read?newsId=01088966628949208&amp;mediaCodeNo=258\" title=\"'아내의 맛' 윤석민 &quot;장모 김예령에 첫눈에 반해&quot;\">\r\n",
        "                                            <span\r\n",
        "                                            class=\"newsbox_visual\">\r\n",
        "                                                <img src=\"https://spnimage.edaily.co.kr/images/photo/files/NP/S/2021/02/PS21021000018kb.jpg\" onerror=\"this.onerror=null;this.src='http://spnimage.edaily.co.kr/images/photo/files/NP/S/2021/02/PS21021000018.jpg';\" alt=\"'아내의 맛' 윤석민 &quot;장모 김예령에 첫눈에 반해&quot;\">\r\n",
        "                                            </span>\r\n",
        "                                         \r\n",
        "답: 태그 이름은 div 이고 클래스 이름은 newsbox_04 입니다."
      ]
    },
    {
      "cell_type": "markdown",
      "metadata": {
        "id": "HVreTWGvKA8P"
      },
      "source": [
        ""
      ]
    },
    {
      "cell_type": "markdown",
      "metadata": {
        "id": "NAYDP5QvKA1c"
      },
      "source": [
        ""
      ]
    },
    {
      "cell_type": "code",
      "metadata": {
        "colab": {
          "base_uri": "https://localhost:8080/"
        },
        "id": "idk-bNVdJ-9h",
        "outputId": "a82b8453-e121-4e04-c552-b43936315c6e"
      },
      "source": [
        "# 예제4. 위의 div 태그와 nesbox_04 클래스를 가지고 href 의 상세기사 url 을 출력하시오 !\r\n",
        "\r\n",
        "from  bs4  import  BeautifulSoup\r\n",
        "import  urllib.request\r\n",
        "\r\n",
        "list_url = 'https://www.edaily.co.kr/search/news/?keyword=%ec%b2%ab%eb%88%88&page=1'\r\n",
        "url = urllib.request.Request(list_url)\r\n",
        "result = urllib.request.urlopen(url).read().decode(\"utf-8\")\r\n",
        "soup = BeautifulSoup( result, \"html.parser\" )\r\n",
        "result1 = soup.find_all( 'div', class_ = 'newsbox_04' )\r\n",
        "\r\n",
        "for i in result1:\r\n",
        "    print( 'http://www.edaily.co.kr' + i.find_all('a')[0].get('href'))"
      ],
      "execution_count": 52,
      "outputs": [
        {
          "output_type": "stream",
          "text": [
            "http://www.edaily.co.kr/news/read?newsId=01088966628949208&mediaCodeNo=258\n",
            "http://www.edaily.co.kr/news/read?newsId=01738406628949536&mediaCodeNo=257\n",
            "http://www.edaily.co.kr/news/read?newsId=01213606628949208&mediaCodeNo=258\n",
            "http://www.edaily.co.kr/news/read?newsId=05172566628948880&mediaCodeNo=257\n",
            "http://www.edaily.co.kr/news/read?newsId=01308726628949208&mediaCodeNo=257\n",
            "http://www.edaily.co.kr/news/read?newsId=01184086628949536&mediaCodeNo=257\n",
            "http://www.edaily.co.kr/news/read?newsId=01138166628948552&mediaCodeNo=258\n",
            "http://www.edaily.co.kr/news/read?newsId=01079126628948880&mediaCodeNo=258\n",
            "http://www.edaily.co.kr/news/read?newsId=01170966628947896&mediaCodeNo=258\n",
            "http://www.edaily.co.kr/news/read?newsId=01131606628947568&mediaCodeNo=258\n",
            "http://www.edaily.co.kr/news/read?newsId=01079126628947568&mediaCodeNo=258\n",
            "http://www.edaily.co.kr/news/read?newsId=01246406628946912&mediaCodeNo=258\n",
            "http://www.edaily.co.kr/news/read?newsId=01285766628947568&mediaCodeNo=257\n",
            "http://www.edaily.co.kr/news/read?newsId=01249686628947240&mediaCodeNo=258\n",
            "http://www.edaily.co.kr/news/read?newsId=01184086628946912&mediaCodeNo=258\n",
            "http://www.edaily.co.kr/news/read?newsId=01269366628947240&mediaCodeNo=258\n",
            "http://www.edaily.co.kr/news/read?newsId=01079126628946256&mediaCodeNo=258\n",
            "http://www.edaily.co.kr/news/read?newsId=01384166628946256&mediaCodeNo=257\n",
            "http://www.edaily.co.kr/news/read?newsId=02177926628923296&mediaCodeNo=257\n",
            "http://www.edaily.co.kr/news/read?newsId=02387846628923296&mediaCodeNo=257\n"
          ],
          "name": "stdout"
        }
      ]
    },
    {
      "cell_type": "markdown",
      "metadata": {
        "id": "zJzBvKRXKnn1"
      },
      "source": [
        ""
      ]
    },
    {
      "cell_type": "markdown",
      "metadata": {
        "id": "-nccoowXKnil"
      },
      "source": [
        ""
      ]
    },
    {
      "cell_type": "code",
      "metadata": {
        "colab": {
          "base_uri": "https://localhost:8080/"
        },
        "id": "LDyNsFoxKn9a",
        "outputId": "0109051b-ef5c-4c97-ca21-abf9756835ba"
      },
      "source": [
        "# 예제5. 위의 상세기사 url 을 params 라는 비어있는 리스트에 담으시오 !\r\n",
        "\r\n",
        "from  bs4  import  BeautifulSoup\r\n",
        "import  urllib.request\r\n",
        "\r\n",
        "list_url = 'https://www.edaily.co.kr/search/news/?keyword=%ec%b2%ab%eb%88%88&page=1'\r\n",
        "url = urllib.request.Request(list_url)\r\n",
        "result = urllib.request.urlopen(url).read().decode(\"utf-8\")\r\n",
        "soup = BeautifulSoup( result, \"html.parser\" )\r\n",
        "result1 = soup.find_all( 'div', class_ = 'newsbox_04' )\r\n",
        "\r\n",
        "params = []\r\n",
        "for i in result1:\r\n",
        "    params.append( 'http://www.edaily.co.kr' + i.find_all('a')[0].get('href'))\r\n",
        "\r\n",
        "print(params)"
      ],
      "execution_count": 53,
      "outputs": [
        {
          "output_type": "stream",
          "text": [
            "['http://www.edaily.co.kr/news/read?newsId=01088966628949208&mediaCodeNo=258', 'http://www.edaily.co.kr/news/read?newsId=01738406628949536&mediaCodeNo=257', 'http://www.edaily.co.kr/news/read?newsId=01213606628949208&mediaCodeNo=258', 'http://www.edaily.co.kr/news/read?newsId=05172566628948880&mediaCodeNo=257', 'http://www.edaily.co.kr/news/read?newsId=01308726628949208&mediaCodeNo=257', 'http://www.edaily.co.kr/news/read?newsId=01184086628949536&mediaCodeNo=257', 'http://www.edaily.co.kr/news/read?newsId=01138166628948552&mediaCodeNo=258', 'http://www.edaily.co.kr/news/read?newsId=01079126628948880&mediaCodeNo=258', 'http://www.edaily.co.kr/news/read?newsId=01170966628947896&mediaCodeNo=258', 'http://www.edaily.co.kr/news/read?newsId=01131606628947568&mediaCodeNo=258', 'http://www.edaily.co.kr/news/read?newsId=01079126628947568&mediaCodeNo=258', 'http://www.edaily.co.kr/news/read?newsId=01246406628946912&mediaCodeNo=258', 'http://www.edaily.co.kr/news/read?newsId=01285766628947568&mediaCodeNo=257', 'http://www.edaily.co.kr/news/read?newsId=01249686628947240&mediaCodeNo=258', 'http://www.edaily.co.kr/news/read?newsId=01184086628946912&mediaCodeNo=258', 'http://www.edaily.co.kr/news/read?newsId=01269366628947240&mediaCodeNo=258', 'http://www.edaily.co.kr/news/read?newsId=01079126628946256&mediaCodeNo=258', 'http://www.edaily.co.kr/news/read?newsId=01384166628946256&mediaCodeNo=257', 'http://www.edaily.co.kr/news/read?newsId=02177926628923296&mediaCodeNo=257', 'http://www.edaily.co.kr/news/read?newsId=02387846628923296&mediaCodeNo=257']\n"
          ],
          "name": "stdout"
        }
      ]
    },
    {
      "cell_type": "markdown",
      "metadata": {
        "id": "9akQPg2RKqri"
      },
      "source": [
        ""
      ]
    },
    {
      "cell_type": "markdown",
      "metadata": {
        "id": "Dd0oGliPKqk6"
      },
      "source": [
        ""
      ]
    },
    {
      "cell_type": "code",
      "metadata": {
        "colab": {
          "base_uri": "https://localhost:8080/"
        },
        "id": "VryK7Jr8KrIV",
        "outputId": "5416bffb-e041-4ca8-8c5f-6674115f696b"
      },
      "source": [
        "# 예제6. 위의 코드들을 가지고 eda_scroll() 이라는 함수를 생성하시오 !\r\n",
        "\r\n",
        "from  bs4  import  BeautifulSoup\r\n",
        "import  urllib.request\r\n",
        "\r\n",
        "def eda_scroll():\r\n",
        "    list_url = 'https://www.edaily.co.kr/search/news/?keyword=%ec%b2%ab%eb%88%88&page=1'\r\n",
        "    url = urllib.request.Request(list_url)\r\n",
        "    result = urllib.request.urlopen(url).read().decode(\"utf-8\")\r\n",
        "    soup = BeautifulSoup( result, \"html.parser\" )\r\n",
        "    result1 = soup.find_all( 'div', class_ = 'newsbox_04' )\r\n",
        "    \r\n",
        "    params = []\r\n",
        "    for i in result1:\r\n",
        "        params.append( 'http://www.edaily.co.kr' + i.find_all('a')[0].get('href'))\r\n",
        "    \r\n",
        "    return params\r\n",
        "\r\n",
        "print(eda_scroll())"
      ],
      "execution_count": 54,
      "outputs": [
        {
          "output_type": "stream",
          "text": [
            "['http://www.edaily.co.kr/news/read?newsId=01088966628949208&mediaCodeNo=258', 'http://www.edaily.co.kr/news/read?newsId=01738406628949536&mediaCodeNo=257', 'http://www.edaily.co.kr/news/read?newsId=01213606628949208&mediaCodeNo=258', 'http://www.edaily.co.kr/news/read?newsId=05172566628948880&mediaCodeNo=257', 'http://www.edaily.co.kr/news/read?newsId=01308726628949208&mediaCodeNo=257', 'http://www.edaily.co.kr/news/read?newsId=01184086628949536&mediaCodeNo=257', 'http://www.edaily.co.kr/news/read?newsId=01138166628948552&mediaCodeNo=258', 'http://www.edaily.co.kr/news/read?newsId=01079126628948880&mediaCodeNo=258', 'http://www.edaily.co.kr/news/read?newsId=01170966628947896&mediaCodeNo=258', 'http://www.edaily.co.kr/news/read?newsId=01131606628947568&mediaCodeNo=258', 'http://www.edaily.co.kr/news/read?newsId=01079126628947568&mediaCodeNo=258', 'http://www.edaily.co.kr/news/read?newsId=01246406628946912&mediaCodeNo=258', 'http://www.edaily.co.kr/news/read?newsId=01285766628947568&mediaCodeNo=257', 'http://www.edaily.co.kr/news/read?newsId=01249686628947240&mediaCodeNo=258', 'http://www.edaily.co.kr/news/read?newsId=01184086628946912&mediaCodeNo=258', 'http://www.edaily.co.kr/news/read?newsId=01269366628947240&mediaCodeNo=258', 'http://www.edaily.co.kr/news/read?newsId=01079126628946256&mediaCodeNo=258', 'http://www.edaily.co.kr/news/read?newsId=01384166628946256&mediaCodeNo=257', 'http://www.edaily.co.kr/news/read?newsId=02177926628923296&mediaCodeNo=257', 'http://www.edaily.co.kr/news/read?newsId=02387846628923296&mediaCodeNo=257']\n"
          ],
          "name": "stdout"
        }
      ]
    },
    {
      "cell_type": "markdown",
      "metadata": {
        "id": "qWayO5MCKuzC"
      },
      "source": [
        ""
      ]
    },
    {
      "cell_type": "markdown",
      "metadata": {
        "id": "L1pZz4_IKurC"
      },
      "source": [
        ""
      ]
    },
    {
      "cell_type": "code",
      "metadata": {
        "colab": {
          "base_uri": "https://localhost:8080/"
        },
        "id": "-uLLUv8CKvH6",
        "outputId": "274bfd23-fbdd-49d7-d56e-8d92752a1c05"
      },
      "source": [
        "# 예제7. 위의 상세기사 url 하나를 가지고 기사 본문을 출력하시오 !\r\n",
        "\r\n",
        "from  bs4  import  BeautifulSoup\r\n",
        "import  urllib.request\r\n",
        "\r\n",
        "list_url ='https://www.edaily.co.kr/news/read?newsId=01088966628949208&mediaCodeNo=258'\r\n",
        "url = urllib.request.Request(list_url) \r\n",
        "result = urllib.request.urlopen(url).read().decode(\"utf-8\") \r\n",
        "soup = BeautifulSoup(result,\"html.parser\")\r\n",
        "result1 = soup.find_all('div', class_ = 'news_body' )\r\n",
        "for i in result1:\r\n",
        "    print(i.get_text())"
      ],
      "execution_count": 56,
      "outputs": [
        {
          "output_type": "stream",
          "text": [
            "\n",
            "‘아내의 맛’(사진=TV조선)[이데일리 스타in 김가영 기자] ‘아내의 맛’ 윤석민이 장모 김예령에게 첫 눈에 반했다고 말해 웃음을 안겼다.지난 9일 방송된 TV조선 ‘아내의 맛’은 설 특집으로 꾸며져 김예령, 윤석민, 김수현 가족이 한복을 입고 스튜디오에 출연했다.이날 MC 윤석민은 김수현, 윤석민에게 “두 분은 처음 보고 이상형이라는 생각이 들었냐”고 물었다.\n",
            "\r\n",
            "                                        (function(d,a,b,l,e,_) {\r\n",
            "                                        if(d[b]&&d[b].q)return;d[b]=function(){(d[b].q=d[b].q||[]).push(arguments)};e=a.createElement(l);\r\n",
            "                                        e.async=1;e.charset='utf-8';e.src='//static.dable.io/dist/plugin.min.js';\r\n",
            "                                        _=a.getElementsByTagName(l)[0];_.parentNode.insertBefore(e,_);\r\n",
            "                                        })(window,document,'dable','script');\r\n",
            "                                        dable('setService', 'edaily.co.kr');\r\n",
            "                                        dable('renderWidget', 'dablewidget_xlzQ0A7Z', {ignore_items: true});\r\n",
            "                                        \n",
            "이 말에 김수현은 “저는 전혀”라고 부인했고 윤석민도 “저도 마찬가지다”고 대답했다.MC들은 “첫 눈에 반했다고 하던데”라고 말하자 윤석민은 “누가 그러냐. 첫눈에 안 반했다. 한달 정도 보고 반했다”라며 “눈이 작지만 혹하는 성격이 아니다. 금사빠가 아니다”고 설명했다.이 말에 MC들은 “옆에 장모님도 있는데 첫눈에 반했다고 해야하는 거 아니냐”고 말했고 윤석민은 “장모님에게 첫눈에 반했다”고 대답해 웃음을 안겼다.이휘재는 윤석민의 입담이 좋다고 칭찬했고 다른 출연진도 “장모님에게 반했다고 하면 기분이 좋다”며 윤석민의 재치에 감탄했다.김수현은 윤석민과 만나게 된 것에 대해 “너무 따라다녔다. 너무 잘해주더라. 집에 데려다주고 늦게 와도 데리러오고 그러더라. 너무 착했다”라며 “주변 잠깐 만나본 남자들은 재고 밀당하고 그랬다. 재수없다고 느낀 찰나에 (윤석민이) 진국처럼 잘해줬다”고 당시를 떠올렸다.\n",
            "\n"
          ],
          "name": "stdout"
        }
      ]
    },
    {
      "cell_type": "markdown",
      "metadata": {
        "id": "sB3uMrG_K4er"
      },
      "source": [
        ""
      ]
    },
    {
      "cell_type": "markdown",
      "metadata": {
        "id": "5c3A8FWOK4Wr"
      },
      "source": [
        ""
      ]
    },
    {
      "cell_type": "code",
      "metadata": {
        "colab": {
          "base_uri": "https://localhost:8080/"
        },
        "id": "3mNZmlGpK427",
        "outputId": "1ba213f3-2124-4f46-977f-8022a6aa270f"
      },
      "source": [
        "# 예제8. 위의 스크립트로 eda_detail_scroll() 함수를 생성하시오 !\r\n",
        "\r\n",
        "from  bs4  import  BeautifulSoup\r\n",
        "import  urllib.request\r\n",
        "\r\n",
        "def eda_detail_scroll():\r\n",
        "    list_url ='https://www.edaily.co.kr/news/read?newsId=01088966628949208&mediaCodeNo=258'\r\n",
        "    url = urllib.request.Request(list_url) \r\n",
        "    result = urllib.request.urlopen(url).read().decode(\"utf-8\") \r\n",
        "    soup = BeautifulSoup(result,\"html.parser\")\r\n",
        "    result1 = soup.find_all('div', class_ = 'news_body' )\r\n",
        "    for i in result1:\r\n",
        "        return i.get_text()\r\n",
        "\r\n",
        "print(eda_detail_scroll())"
      ],
      "execution_count": 58,
      "outputs": [
        {
          "output_type": "stream",
          "text": [
            "\n",
            "‘아내의 맛’(사진=TV조선)[이데일리 스타in 김가영 기자] ‘아내의 맛’ 윤석민이 장모 김예령에게 첫 눈에 반했다고 말해 웃음을 안겼다.지난 9일 방송된 TV조선 ‘아내의 맛’은 설 특집으로 꾸며져 김예령, 윤석민, 김수현 가족이 한복을 입고 스튜디오에 출연했다.이날 MC 윤석민은 김수현, 윤석민에게 “두 분은 처음 보고 이상형이라는 생각이 들었냐”고 물었다.\n",
            "\r\n",
            "                                        (function(d,a,b,l,e,_) {\r\n",
            "                                        if(d[b]&&d[b].q)return;d[b]=function(){(d[b].q=d[b].q||[]).push(arguments)};e=a.createElement(l);\r\n",
            "                                        e.async=1;e.charset='utf-8';e.src='//static.dable.io/dist/plugin.min.js';\r\n",
            "                                        _=a.getElementsByTagName(l)[0];_.parentNode.insertBefore(e,_);\r\n",
            "                                        })(window,document,'dable','script');\r\n",
            "                                        dable('setService', 'edaily.co.kr');\r\n",
            "                                        dable('renderWidget', 'dablewidget_xlzQ0A7Z', {ignore_items: true});\r\n",
            "                                        \n",
            "이 말에 김수현은 “저는 전혀”라고 부인했고 윤석민도 “저도 마찬가지다”고 대답했다.MC들은 “첫 눈에 반했다고 하던데”라고 말하자 윤석민은 “누가 그러냐. 첫눈에 안 반했다. 한달 정도 보고 반했다”라며 “눈이 작지만 혹하는 성격이 아니다. 금사빠가 아니다”고 설명했다.이 말에 MC들은 “옆에 장모님도 있는데 첫눈에 반했다고 해야하는 거 아니냐”고 말했고 윤석민은 “장모님에게 첫눈에 반했다”고 대답해 웃음을 안겼다.이휘재는 윤석민의 입담이 좋다고 칭찬했고 다른 출연진도 “장모님에게 반했다고 하면 기분이 좋다”며 윤석민의 재치에 감탄했다.김수현은 윤석민과 만나게 된 것에 대해 “너무 따라다녔다. 너무 잘해주더라. 집에 데려다주고 늦게 와도 데리러오고 그러더라. 너무 착했다”라며 “주변 잠깐 만나본 남자들은 재고 밀당하고 그랬다. 재수없다고 느낀 찰나에 (윤석민이) 진국처럼 잘해줬다”고 당시를 떠올렸다.\n",
            "\n"
          ],
          "name": "stdout"
        }
      ]
    },
    {
      "cell_type": "markdown",
      "metadata": {
        "id": "gAWkch7PK4Qb"
      },
      "source": [
        ""
      ]
    },
    {
      "cell_type": "markdown",
      "metadata": {
        "id": "uHe8bCKRK7c1"
      },
      "source": [
        ""
      ]
    },
    {
      "cell_type": "code",
      "metadata": {
        "colab": {
          "base_uri": "https://localhost:8080/"
        },
        "id": "SocWgr32K7sy",
        "outputId": "bc10f3b0-6cdd-412c-efa9-3a1344d84498"
      },
      "source": [
        "# 예제9. 처음에 만들었던 함수인 eda_scroll() 함수를 수정하는데 페이지 1개가 아니라\r\n",
        "#        페이지 3개의 상세기사 url이 params 리스트에 담겨지게 수정하시오 !\r\n",
        "\r\n",
        "from  bs4  import  BeautifulSoup\r\n",
        "import  urllib.request\r\n",
        "\r\n",
        "def eda_scroll():\r\n",
        "    params = []\r\n",
        "    for i in range(1, 4):\r\n",
        "        list_url = 'https://www.edaily.co.kr/search/news/?keyword=%ec%b2%ab%eb%88%88&page=' + str(i)\r\n",
        "        url = urllib.request.Request(list_url)\r\n",
        "        result = urllib.request.urlopen(url).read().decode(\"utf-8\")\r\n",
        "        soup = BeautifulSoup( result, \"html.parser\" )\r\n",
        "        result1 = soup.find_all( 'div', class_ = 'newsbox_04' )\r\n",
        "        for i in result1:\r\n",
        "            params.append( 'http://www.edaily.co.kr' + i.find_all('a')[0].get('href'))\r\n",
        "        \r\n",
        "    return params\r\n",
        "\r\n",
        "print( len(eda_scroll()) )  # 60. 1 page 당 20개"
      ],
      "execution_count": 59,
      "outputs": [
        {
          "output_type": "stream",
          "text": [
            "60\n"
          ],
          "name": "stdout"
        }
      ]
    },
    {
      "cell_type": "markdown",
      "metadata": {
        "id": "L-y0CQqfLDHD"
      },
      "source": [
        ""
      ]
    },
    {
      "cell_type": "markdown",
      "metadata": {
        "id": "u4T1FqfXLDCT"
      },
      "source": [
        ""
      ]
    },
    {
      "cell_type": "code",
      "metadata": {
        "id": "F4OUSOEyLV3S"
      },
      "source": [
        "# 예제10. eda_detail_scroll() 함수 안에서 eda_scroll() 함수를 호출하여 상세기사 url 을 60개를 \r\n",
        "#         다 가져와서 60개의 기사를 출력할 수 있도록 eda_detail_scroll() 함수를 수정하세요\r\n",
        "\r\n",
        "from  bs4  import  BeautifulSoup\r\n",
        "import  urllib.request\r\n",
        "\r\n",
        "def eda_scroll():\r\n",
        "    params = []\r\n",
        "    for i in range(1, 4):\r\n",
        "        list_url = 'https://www.edaily.co.kr/search/news/?keyword=%ec%b2%ab%eb%88%88&page=' + str(i)\r\n",
        "        url = urllib.request.Request(list_url)\r\n",
        "        result = urllib.request.urlopen(url).read().decode(\"utf-8\")\r\n",
        "        soup = BeautifulSoup( result, \"html.parser\" )\r\n",
        "        result1 = soup.find_all( 'div', class_ = 'newsbox_04' )\r\n",
        "        for i in result1:\r\n",
        "            params.append( 'http://www.edaily.co.kr' + i.find_all('a')[0].get('href'))\r\n",
        "        \r\n",
        "    return params\r\n",
        "\r\n",
        "\r\n",
        "def eda_detail_scroll():\r\n",
        "    list_url = eda_scroll()\r\n",
        "    for i in list_url:\r\n",
        "        url = urllib.request.Request(i) \r\n",
        "        result = urllib.request.urlopen(url).read().decode(\"utf-8\") \r\n",
        "        soup = BeautifulSoup(result,\"html.parser\")\r\n",
        "        result1 = soup.find_all('div', class_ = 'news_body' )\r\n",
        "        for i in result1:\r\n",
        "            print(i.get_text())    # return i.get_text() 를 하면 1개만 출력\r\n",
        "\r\n",
        "eda_detail_scroll()"
      ],
      "execution_count": null,
      "outputs": []
    },
    {
      "cell_type": "markdown",
      "metadata": {
        "id": "LNrMKW1LLG0D"
      },
      "source": [
        ""
      ]
    },
    {
      "cell_type": "markdown",
      "metadata": {
        "id": "kM8PlkB2LGuj"
      },
      "source": [
        ""
      ]
    },
    {
      "cell_type": "code",
      "metadata": {
        "id": "j64zeCwpLHPG"
      },
      "source": [
        "# 예제11. 위의 출력되고 있는 기사본문이 eda.txt 로 저장되게 하시오 !\r\n",
        "\r\n",
        "from  bs4  import  BeautifulSoup\r\n",
        "import  urllib.request\r\n",
        "\r\n",
        "def eda_scroll():\r\n",
        "    params = []\r\n",
        "    for i in range(1, 4):\r\n",
        "        list_url = 'https://www.edaily.co.kr/search/news/?keyword=%ec%b2%ab%eb%88%88&page=' + str(i)\r\n",
        "        url = urllib.request.Request(list_url)\r\n",
        "        result = urllib.request.urlopen(url).read().decode(\"utf-8\")\r\n",
        "        soup = BeautifulSoup( result, \"html.parser\" )\r\n",
        "        result1 = soup.find_all( 'div', class_ = 'newsbox_04' )\r\n",
        "        for i in result1:\r\n",
        "            params.append( 'http://www.edaily.co.kr' + i.find_all('a')[0].get('href'))\r\n",
        "        \r\n",
        "    return params\r\n",
        "\r\n",
        "\r\n",
        "def eda_detail_scroll():\r\n",
        "    list_url = eda_scroll()\r\n",
        "    f = open(\"/content/drive/MyDrive/data/eda.txt\", \"w\", encoding = 'UTF-8')\r\n",
        "    for i in list_url:\r\n",
        "        url = urllib.request.Request(i) \r\n",
        "        result = urllib.request.urlopen(url).read().decode(\"utf-8\") \r\n",
        "        soup = BeautifulSoup(result,\"html.parser\")\r\n",
        "        result1 = soup.find_all('div', class_ = 'news_body' )\r\n",
        "        for i in result1:\r\n",
        "            f.write(str(i.get_text()) + '\\n')\r\n",
        "    f.close()\r\n",
        "\r\n",
        "eda_detail_scroll()"
      ],
      "execution_count": 61,
      "outputs": []
    },
    {
      "cell_type": "code",
      "metadata": {
        "id": "Zp-GlknlL4jq"
      },
      "source": [
        "f = open(\"/content/drive/MyDrive/data/eda.txt\", encoding='UTF8')\r\n",
        "data = f.read() \r\n",
        "print(data)\r\n",
        "f.close()"
      ],
      "execution_count": null,
      "outputs": []
    },
    {
      "cell_type": "markdown",
      "metadata": {
        "id": "dmqVRDVSLbJr"
      },
      "source": [
        ""
      ]
    },
    {
      "cell_type": "markdown",
      "metadata": {
        "id": "BbGOCv1XLbEK"
      },
      "source": [
        ""
      ]
    },
    {
      "cell_type": "markdown",
      "metadata": {
        "id": "-I1PLehaLcMO"
      },
      "source": [
        "문제422. 네이버 영화 평점 게시판 게시글들을 스크롤링해서 영화이름을 텍스트 파일로 해서 저장하시오 ! 영화는자유롭게 선택 !\r\n",
        "\t\r\n",
        "이터널션샤인  \r\n",
        "https://movie.naver.com/movie/bi/mi/pointWriteFormList.nhn?code=38444&type=after&isActualPointWriteExecute=false&isMileageSubscriptionAlready=false&isMileageSubscriptionReject=false&page=1\r\n"
      ]
    },
    {
      "cell_type": "code",
      "metadata": {
        "id": "vJ71D-0KMnJt"
      },
      "source": [
        "from bs4 import BeautifulSoup\r\n",
        "import urllib.request\r\n",
        "\r\n",
        "f = open(\"/content/drive/MyDrive/data/Eternal_Sunshine.txt\", \"w\", encoding = \"UTF8\")\r\n",
        "\r\n",
        "for i in range(1, 51):\r\n",
        "    list_url = 'https://movie.naver.com/movie/bi/mi/pointWriteFormList.nhn?code=38444&type=after&isActualPointWriteExecute=false&isMileageSubscriptionAlready=false&isMileageSubscriptionReject=false&page=' + str(i)\r\n",
        "    url = urllib.request.Request(list_url)\r\n",
        "    result = urllib.request.urlopen(url).read().decode(\"UTF-8\")   \r\n",
        "    soup = BeautifulSoup( result, \"html.parser\" )\r\n",
        "    for j in range(0, 10):\r\n",
        "        result1 = soup.find_all( 'span', id = '_filtered_ment_' + str(j))    \r\n",
        "        for i in result1:\r\n",
        "            f.write( i.get_text(\" \", strip = True) + '\\n' + '\\n')\r\n",
        "\r\n",
        "f.close()"
      ],
      "execution_count": 65,
      "outputs": []
    },
    {
      "cell_type": "code",
      "metadata": {
        "id": "0awH5wIiM0cS"
      },
      "source": [
        "f = open(\"/content/drive/MyDrive/data/Eternal_Sunshine.txt\", encoding='UTF8')\r\n",
        "data = f.read() \r\n",
        "print(data)\r\n",
        "f.close()"
      ],
      "execution_count": null,
      "outputs": []
    }
  ]
}