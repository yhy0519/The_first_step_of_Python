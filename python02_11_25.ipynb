{
  "nbformat": 4,
  "nbformat_minor": 0,
  "metadata": {
    "colab": {
      "name": "python2_11_25.ipynb",
      "provenance": [],
      "collapsed_sections": [],
      "authorship_tag": "ABX9TyOxHy5BIIJLDbqFvaItXj0M",
      "include_colab_link": true
    },
    "kernelspec": {
      "name": "python3",
      "display_name": "Python 3"
    }
  },
  "cells": [
    {
      "cell_type": "markdown",
      "metadata": {
        "id": "view-in-github",
        "colab_type": "text"
      },
      "source": [
        "<a href=\"https://colab.research.google.com/github/yhy0519/The_first_step_of_Python/blob/main/python02_11_25.ipynb\" target=\"_parent\"><img src=\"https://colab.research.google.com/assets/colab-badge.svg\" alt=\"Open In Colab\"/></a>"
      ]
    },
    {
      "cell_type": "markdown",
      "metadata": {
        "id": "jJlR55BXMtES"
      },
      "source": [
        "문제23. for loop 문을 이용해서 구구단 2단을 출력하시오!\n",
        "\n",
        "2 x 1 = 2  \n",
        "2 x 2 = 4  \n",
        "2 x 3 = 6  \n",
        "   :  \n",
        "   :  \n",
        "2 x 9 = 18  "
      ]
    },
    {
      "cell_type": "code",
      "metadata": {
        "colab": {
          "base_uri": "https://localhost:8080/"
        },
        "id": "YVP8if7J6K6Q",
        "outputId": "53a5ec88-8d38-49a0-d06b-cf709a2b1954"
      },
      "source": [
        "for i in range(1, 10):    # 1 부터 10 미만까지\n",
        "  print( '2 x', i, '=', 2 * i )"
      ],
      "execution_count": null,
      "outputs": [
        {
          "output_type": "stream",
          "text": [
            "2 x 1 = 2\n",
            "2 x 2 = 4\n",
            "2 x 3 = 6\n",
            "2 x 4 = 8\n",
            "2 x 5 = 10\n",
            "2 x 6 = 12\n",
            "2 x 7 = 14\n",
            "2 x 8 = 16\n",
            "2 x 9 = 18\n"
          ],
          "name": "stdout"
        }
      ]
    },
    {
      "cell_type": "markdown",
      "metadata": {
        "id": "ekgohW-qNpKe"
      },
      "source": [
        "설명: for loop 문은 특정 문장을 반복해서 수행하고 싶을때 사용하는 파이썬 문법 위의 문법은 1부터 9까지 9번 반복하겠다.\n"
      ]
    },
    {
      "cell_type": "markdown",
      "metadata": {
        "id": "aeZ8Ed_JIpSz"
      },
      "source": [
        ""
      ]
    },
    {
      "cell_type": "markdown",
      "metadata": {
        "id": "pF6RqDD8IpIA"
      },
      "source": [
        ""
      ]
    },
    {
      "cell_type": "markdown",
      "metadata": {
        "id": "cRdsX35kNvMX"
      },
      "source": [
        "문제24. 구구단 전체를 파이썬으로 출력하시오!"
      ]
    },
    {
      "cell_type": "code",
      "metadata": {
        "id": "02cCx5KeNvhv"
      },
      "source": [
        "for i in range(1, 10):\n",
        "    print('2 x', i, '=', 2 * i)\n",
        "for i in range(1, 10):\n",
        "    print('3 x', i, '=', 3 * i)\n",
        "for i in range(1, 10):\n",
        "    print('4 x', i, '=', 4 * i)\n",
        "for i in range(1, 10):\n",
        "    print('5 x', i, '=', 5 * i)\n",
        "for i in range(1, 10):\n",
        "    print('6 x', i, '=', 6 * i)\n",
        "for i in range(1, 10):\n",
        "    print('7 x', i, '=', 7 * i)\n",
        "for i in range(1, 10):\n",
        "    print('8 x', i, '=', 8 * i)\n",
        "for i in range(1, 10):\n",
        "    print('9 x', i, '=', 9 * i)"
      ],
      "execution_count": null,
      "outputs": []
    },
    {
      "cell_type": "markdown",
      "metadata": {
        "id": "ZLX4gnuvIqcH"
      },
      "source": [
        ""
      ]
    },
    {
      "cell_type": "markdown",
      "metadata": {
        "id": "9PyqkQ6FIqTq"
      },
      "source": [
        ""
      ]
    },
    {
      "cell_type": "markdown",
      "metadata": {
        "id": "yzTtaOYVN4eH"
      },
      "source": [
        "**■ 중첩 for loop 문**\n",
        "\n",
        "loop 문을 중첩시켜서 수행한다. loop 문 자체를 반복시킨다.\n",
        "\n",
        "예제:"
      ]
    },
    {
      "cell_type": "code",
      "metadata": {
        "id": "iMT7mUe4N87P"
      },
      "source": [
        "for j in range(1, 10):\n",
        "    for i in range(1, 10):   \n",
        "        print('2 x', i, '=', 2 * i)"
      ],
      "execution_count": null,
      "outputs": []
    },
    {
      "cell_type": "markdown",
      "metadata": {
        "id": "PGf680GjOUL4"
      },
      "source": [
        "설명: 2단을 출력하는 for loop 문이 9번 실행되면서 2단이 9번 나왔습니다.\n",
        "\n",
        "2단을 9번 나오게하는게 아니라 2단부터 9단까지 출력해야하므로 다음과 같이 작성해야합니다.\n"
      ]
    },
    {
      "cell_type": "code",
      "metadata": {
        "id": "QY9Olr0uOZ9F"
      },
      "source": [
        "for j in range(2, 10):     # j는 2부터 10미만까지 출력이 된다.\n",
        "    for i in range(1, 10):   # i는 1부터 10미만까지 출력이 된다.\n",
        "        print( j, 'x', i, '=', j * i )"
      ],
      "execution_count": null,
      "outputs": []
    },
    {
      "cell_type": "markdown",
      "metadata": {
        "id": "GhLSRT9oOqrX"
      },
      "source": [
        "설명: j = 2 일때 i가 1-9까지 반복 실행  \n",
        "\t       2 x 1 = 2 * 1  \n",
        "\t       2 x 2 = 2 * 2  \n",
        "\t                 :  \n",
        "\t       2 x 9 = 2 * 9\n",
        "\n",
        "j = 3 일때 i가 1-9까지 반복 실행  \n",
        "\t       3 x 1 = 3 * 1  \n",
        "\t       3 x 2 = 3 * 2  \n",
        "\t               :  \n",
        "\t       3 x 9 = 3 * 9  \n",
        "\t\n",
        "j = 4 일때 i가 1-9까지 반복 실행  \n",
        "\t   :  \n",
        "j = 9 일때 i가 1-9까지 반복 실행"
      ]
    },
    {
      "cell_type": "markdown",
      "metadata": {
        "id": "zwVdRsILIvNo"
      },
      "source": [
        ""
      ]
    },
    {
      "cell_type": "markdown",
      "metadata": {
        "id": "vHyGvLTCIvF_"
      },
      "source": [
        ""
      ]
    },
    {
      "cell_type": "markdown",
      "metadata": {
        "id": "29CO62R8O_wA"
      },
      "source": [
        "문제25. 주사위를 10번 던져서 주사위의 눈을 10개 출력하시오"
      ]
    },
    {
      "cell_type": "code",
      "metadata": {
        "colab": {
          "base_uri": "https://localhost:8080/"
        },
        "id": "P6CBim3DPDAu",
        "outputId": "e6797a52-38ee-455a-f5c8-10cb95668de5"
      },
      "source": [
        "import random\n",
        "\n",
        "dice = [ 1, 2, 3, 4, 5, 6 ]\n",
        "\n",
        "for i in range(1, 11):\n",
        "  print( random.choice(dice) )"
      ],
      "execution_count": null,
      "outputs": [
        {
          "output_type": "stream",
          "text": [
            "5\n",
            "2\n",
            "1\n",
            "6\n",
            "5\n",
            "3\n",
            "5\n",
            "2\n",
            "5\n",
            "2\n"
          ],
          "name": "stdout"
        }
      ]
    },
    {
      "cell_type": "markdown",
      "metadata": {
        "id": "wzVBiYKcIv3C"
      },
      "source": [
        ""
      ]
    },
    {
      "cell_type": "markdown",
      "metadata": {
        "id": "I5jMDzKpIvuF"
      },
      "source": [
        ""
      ]
    },
    {
      "cell_type": "markdown",
      "metadata": {
        "id": "xs94lWXPQzQQ"
      },
      "source": [
        "문제26. 주사위를 10번 던졌을때 짝수가 나오는 횟수를 출력하시오 !\n",
        "\t(8%2 는 8을 2로 나눈 나머지값을 출력)"
      ]
    },
    {
      "cell_type": "code",
      "metadata": {
        "colab": {
          "base_uri": "https://localhost:8080/"
        },
        "id": "UeP2HjWdQ0sh",
        "outputId": "6130f843-2b57-483e-d858-4e82f7f3a28f"
      },
      "source": [
        "import random\n",
        "\n",
        "dice = [ 1, 2, 3, 4, 5, 6 ]\n",
        "cnt = 0\n",
        "\n",
        "for i in range(1, 11):\n",
        "  result = random.choice(dice)     # 주사위의 눈이 result 변수에 할당이 된다.\n",
        "  if result % 2 == 0:              # result 변수의 주사위의 눈이 짝수이면\n",
        "    cnt = cnt + 1                  # cnt 를 1씩 증가시킨다.\n",
        "\n",
        "print(cnt)                         # print 의 위치를 for 문과 맞춰줘서 cnt 에 담긴 최종 결과를 출력한다."
      ],
      "execution_count": null,
      "outputs": [
        {
          "output_type": "stream",
          "text": [
            "4\n"
          ],
          "name": "stdout"
        }
      ]
    },
    {
      "cell_type": "markdown",
      "metadata": {
        "id": "3un4dn1EIwkj"
      },
      "source": [
        ""
      ]
    },
    {
      "cell_type": "markdown",
      "metadata": {
        "id": "3qY3WORwIwcf"
      },
      "source": [
        ""
      ]
    },
    {
      "cell_type": "markdown",
      "metadata": {
        "id": "ChSrNW8FRStR"
      },
      "source": [
        "문제27. 위의 주사위를 10번 던져서 짝수가 나오는 횟수를 확인하는 작업을 5번 반복해서 짝수가 나오는 횟수가 5개가 나오게 하시오!"
      ]
    },
    {
      "cell_type": "code",
      "metadata": {
        "colab": {
          "base_uri": "https://localhost:8080/"
        },
        "id": "yES8i7-IRXDV",
        "outputId": "e56bf490-2c6e-48ab-baa3-9037d23242d7"
      },
      "source": [
        "import random\n",
        "\n",
        "dice = [ 1, 2, 3, 4, 5, 6 ]\n",
        "\n",
        "for j in range(1, 6):\n",
        "  cnt = 0\n",
        "  for i in range(1, 11):\n",
        "    result = random.choice(dice)\n",
        "    if result % 2 == 0:\n",
        "      cnt = cnt + 1\n",
        "  print(cnt)  "
      ],
      "execution_count": null,
      "outputs": [
        {
          "output_type": "stream",
          "text": [
            "6\n",
            "5\n",
            "3\n",
            "5\n",
            "5\n"
          ],
          "name": "stdout"
        }
      ]
    },
    {
      "cell_type": "markdown",
      "metadata": {
        "id": "tJOacTGQSYUN"
      },
      "source": [
        "설명: 주사위를 10번을 던져서 짝수가 나오는 횟수를 확인하는 for loop 문을 5번 반복하기 위해서 그 위에 for loop문을 쓰고 5번 반복하였다.  \n",
        "그리고 한번에 4칸 이동시키기 위해서 코드를 선택하고 탭(tab) 키를 눌러서 한번에 이동시켰다. 뒤로 이동시키는 단축키는 shift + tab 입니다."
      ]
    },
    {
      "cell_type": "markdown",
      "metadata": {
        "id": "r5kfTQwhIxOP"
      },
      "source": [
        ""
      ]
    },
    {
      "cell_type": "markdown",
      "metadata": {
        "id": "Ec1eVXZUIxG3"
      },
      "source": [
        ""
      ]
    },
    {
      "cell_type": "markdown",
      "metadata": {
        "id": "PWtejTsjSanC"
      },
      "source": [
        "문제28. 동전을 100번 던져서 앞면이 나올 확률을 출력하시오!"
      ]
    },
    {
      "cell_type": "code",
      "metadata": {
        "colab": {
          "base_uri": "https://localhost:8080/"
        },
        "id": "N2ZPS4xjTQjO",
        "outputId": "b21af6d9-476f-4eb9-d1c4-f7e37b1a8e36"
      },
      "source": [
        "import random\n",
        "\n",
        "coin = [ '앞면', '뒷면' ]\n",
        "cnt = 0\n",
        "\n",
        "for i in range(1, 101):\n",
        "  result = random.choice(coin)\n",
        "  if result == '앞면':\n",
        "    cnt = cnt + 1\n",
        "\n",
        "print(cnt/100)  "
      ],
      "execution_count": null,
      "outputs": [
        {
          "output_type": "stream",
          "text": [
            "0.52\n"
          ],
          "name": "stdout"
        }
      ]
    },
    {
      "cell_type": "markdown",
      "metadata": {
        "id": "nAS6E5pCI81A"
      },
      "source": [
        ""
      ]
    },
    {
      "cell_type": "markdown",
      "metadata": {
        "id": "qvaGobOQI8iv"
      },
      "source": [
        ""
      ]
    },
    {
      "cell_type": "markdown",
      "metadata": {
        "id": "JqA8hjY7Tpmu"
      },
      "source": [
        "문제29. 위의 동전을 100번 던져서 앞면이 나올 확률을 구하는 작업을 50번 반복해서 확률을 50개 출력하시오 !"
      ]
    },
    {
      "cell_type": "code",
      "metadata": {
        "id": "p9-h7mTiTuq4"
      },
      "source": [
        "import random\n",
        "\n",
        "coin = [ '앞면', '뒷면' ]\n",
        "\n",
        "for j in range(1, 51):\n",
        "  cnt = 0\n",
        "  for i in range(1, 101):\n",
        "    result = random.choice(coin)\n",
        "    if result == '앞면':\n",
        "      cnt = cnt + 1\n",
        "  print(cnt/100)"
      ],
      "execution_count": null,
      "outputs": []
    },
    {
      "cell_type": "markdown",
      "metadata": {
        "id": "9O0bMlXBI9mq"
      },
      "source": [
        ""
      ]
    },
    {
      "cell_type": "markdown",
      "metadata": {
        "id": "5QVN0OigI9ef"
      },
      "source": [
        ""
      ]
    },
    {
      "cell_type": "markdown",
      "metadata": {
        "id": "K5othhZaT-cd"
      },
      "source": [
        " ** 리스트 append 함수의 기본 문법\n"
      ]
    },
    {
      "cell_type": "code",
      "metadata": {
        "colab": {
          "base_uri": "https://localhost:8080/"
        },
        "id": "dEqfXPamUHOf",
        "outputId": "695d99c0-9c66-4319-eb0d-33bfd4bd33c0"
      },
      "source": [
        "a = []        # 비어있는 리스트 a를 생성합니다.  \n",
        "a.append(7)   # a 리스트에 숫자 7을 넣는다.  \n",
        "print(a)  \n",
        "a.append(8)   # a 리스트에 숫자 8을 넣는다.  \n",
        "print(a)"
      ],
      "execution_count": null,
      "outputs": [
        {
          "output_type": "stream",
          "text": [
            "[7]\n",
            "[7, 8]\n"
          ],
          "name": "stdout"
        }
      ]
    },
    {
      "cell_type": "markdown",
      "metadata": {
        "id": "qU6H8jTKI-OE"
      },
      "source": [
        ""
      ]
    },
    {
      "cell_type": "markdown",
      "metadata": {
        "id": "mcXtkwzzI-GX"
      },
      "source": [
        ""
      ]
    },
    {
      "cell_type": "markdown",
      "metadata": {
        "id": "q8gMeegPUVvo"
      },
      "source": [
        "문제30. 파이썬 리스트에 append 함수를 이용해서 위의 확률 50개를 리스트에 담으시오 ~  "
      ]
    },
    {
      "cell_type": "code",
      "metadata": {
        "colab": {
          "base_uri": "https://localhost:8080/"
        },
        "id": "ruWDWU4-UUr7",
        "outputId": "d49f5287-a07f-43c8-ea83-9328d83133ee"
      },
      "source": [
        "import random\n",
        "\n",
        "coin = [ '앞면', '뒷면' ]\n",
        "a = []\n",
        "\n",
        "for j in range(1, 51):\n",
        "  cnt = 0\n",
        "  for i in range(1, 101):\n",
        "    result = random.choice(coin)\n",
        "    if result == '앞면':\n",
        "      cnt = cnt + 1\n",
        "  a.append(cnt/100)\n",
        "\n",
        "print(a)"
      ],
      "execution_count": null,
      "outputs": [
        {
          "output_type": "stream",
          "text": [
            "[0.45, 0.64, 0.44, 0.58, 0.53, 0.49, 0.47, 0.54, 0.53, 0.6, 0.49, 0.57, 0.49, 0.5, 0.56, 0.58, 0.51, 0.6, 0.53, 0.46, 0.55, 0.49, 0.5, 0.52, 0.48, 0.43, 0.47, 0.51, 0.45, 0.53, 0.43, 0.6, 0.48, 0.5, 0.54, 0.56, 0.53, 0.49, 0.53, 0.43, 0.53, 0.48, 0.49, 0.44, 0.53, 0.47, 0.52, 0.55, 0.51, 0.52]\n"
          ],
          "name": "stdout"
        }
      ]
    },
    {
      "cell_type": "markdown",
      "metadata": {
        "id": "S1SVEOZVI_iQ"
      },
      "source": [
        ""
      ]
    },
    {
      "cell_type": "markdown",
      "metadata": {
        "id": "GGkvBvIWI-u4"
      },
      "source": [
        ""
      ]
    },
    {
      "cell_type": "markdown",
      "metadata": {
        "id": "n3_iknPVUgif"
      },
      "source": [
        "문제31. 두개의 동전을 300번 던져서 동시에 둘 다 앞면이 나오는 횟수를 출력하시오!"
      ]
    },
    {
      "cell_type": "code",
      "metadata": {
        "colab": {
          "base_uri": "https://localhost:8080/"
        },
        "id": "LLrtPnfNUjwm",
        "outputId": "f6e72a5a-eeb7-45c6-f420-af79ac848d0b"
      },
      "source": [
        "import random\n",
        "\n",
        "coin1 = [ '앞면', '뒷면' ]\n",
        "coin2 = [ '앞면', '뒷면' ]\n",
        "cnt = 0\n",
        "\n",
        "for i in range(1, 301):\n",
        "  result1 = random.choice(coin1)\n",
        "  result2 = random.choice(coin2)\n",
        "  if result1 == '앞면' and result2 == '앞면':\n",
        "    cnt = cnt + 1\n",
        "\n",
        "print(cnt)"
      ],
      "execution_count": null,
      "outputs": [
        {
          "output_type": "stream",
          "text": [
            "71\n"
          ],
          "name": "stdout"
        }
      ]
    },
    {
      "cell_type": "markdown",
      "metadata": {
        "id": "oYHlDdprJBP6"
      },
      "source": [
        ""
      ]
    },
    {
      "cell_type": "markdown",
      "metadata": {
        "id": "SfDc6BZ8JBJY"
      },
      "source": [
        ""
      ]
    },
    {
      "cell_type": "markdown",
      "metadata": {
        "id": "BJFmHb17U-O5"
      },
      "source": [
        "문제32. x 라는 리스트를 만들고 x 라는 리스트에 위의 문제에서 앞면이 나오는 횟수를 x 리스트에 담는데 위의 둘다 앞면이 나오는 횟수를  \n",
        "  출력하는 for loop 문을 1000번 반복해서 x 리스트에 1000개를 입력하시오!"
      ]
    },
    {
      "cell_type": "code",
      "metadata": {
        "id": "KcqpjAdbVCHD"
      },
      "source": [
        "import random\n",
        "\n",
        "coin1 = [ '앞면', '뒷면' ]\n",
        "coin2 = [ '앞면', '뒷면' ]\n",
        "x = []\n",
        "\n",
        "for j in range(1, 1001):\n",
        "  cnt = 0\n",
        "  for i in range(1, 301):\n",
        "    result1 = random.choice(coin1)\n",
        "    result2 = random.choice(coin2)\n",
        "    if result1 == '앞면' and result2 == '앞면':\n",
        "      cnt = cnt + 1\n",
        "  x.append(cnt)\n",
        "\n",
        "print(x)"
      ],
      "execution_count": null,
      "outputs": []
    },
    {
      "cell_type": "markdown",
      "metadata": {
        "id": "dIk9KRYCJCza"
      },
      "source": [
        ""
      ]
    },
    {
      "cell_type": "markdown",
      "metadata": {
        "id": "j_WLpu0mJCsL"
      },
      "source": [
        ""
      ]
    },
    {
      "cell_type": "markdown",
      "metadata": {
        "id": "00GVU0LeVa7c"
      },
      "source": [
        "문제33. 확률변수 x의 값들의 평균과 분산과 표준편차를 출력하시오!"
      ]
    },
    {
      "cell_type": "code",
      "metadata": {
        "colab": {
          "base_uri": "https://localhost:8080/"
        },
        "id": "Z4huitRkVclh",
        "outputId": "b6ceab7f-35b2-41c0-b967-8c0d360e3ebd"
      },
      "source": [
        "import random\n",
        "import numpy as np       # numpy 모듈을 이 코드에서 사용\n",
        "\n",
        "coin1 = [ '앞면', '뒷면' ]\n",
        "coin2 = [ '앞면', '뒷면' ]\n",
        "x = []\n",
        "\n",
        "for j in range(1, 1001):\n",
        "  cnt = 0\n",
        "  for i in range(1, 301):\n",
        "    result1 = random.choice(coin1)\n",
        "    result2 = random.choice(coin2)\n",
        "    if result1 == '앞면' and result2 == '앞면':\n",
        "      cnt = cnt + 1\n",
        "  x.append(cnt)\n",
        "\n",
        "print(np.mean(x))\n",
        "print(np.var(x))\n",
        "print(np.std(x))"
      ],
      "execution_count": null,
      "outputs": [
        {
          "output_type": "stream",
          "text": [
            "75.136\n",
            "55.327504\n",
            "7.43824602981106\n"
          ],
          "name": "stdout"
        }
      ]
    },
    {
      "cell_type": "markdown",
      "metadata": {
        "id": "lOBPSRohJDc2"
      },
      "source": [
        ""
      ]
    },
    {
      "cell_type": "markdown",
      "metadata": {
        "id": "nPLTYW-1JDV2"
      },
      "source": [
        ""
      ]
    },
    {
      "cell_type": "markdown",
      "metadata": {
        "id": "2Dk95fGmVxx6"
      },
      "source": [
        "문제34. 한개의 주사위를 360번 던져서 3의 배수의 눈이 나오는 횟수를 구하는것을 1000 번하고 그 1000개를 X 변수에 넣고 이 X의 평균, 분산, 표준편차를 출력하시오 \n"
      ]
    },
    {
      "cell_type": "code",
      "metadata": {
        "colab": {
          "base_uri": "https://localhost:8080/"
        },
        "id": "uh4mX88nV1ao",
        "outputId": "99a8872b-f624-42a7-ed56-19e082d80639"
      },
      "source": [
        "import random\n",
        "import numpy as np       # numpy 모듈을 이 코드에서 사용\n",
        "\n",
        "dice = [ 1, 2, 3, 4, 5, 6 ]    # 주사위 생성\n",
        "x = []                         # x 라는 비어있는 리스트 생성\n",
        "\n",
        "for j in range(1, 1001):          # 1000번 반복수행하는 for loop 문 작성\n",
        "  cnt = 0                         # cnt 에 0을 할당합니다.\n",
        "  for i in range(1, 361):         # 360번 반복수행하는 for loop 문 작성\n",
        "    result = random.choice(dice)  # 주사위에서 눈을 하나 출력해서 result 에 담는다.\n",
        "    if result % 3 == 0:           # 그 주사위의 눈을 3으로 나눈 나머지값이 0 이면\n",
        "      cnt = cnt + 1               # cnt 를 1씩 증가시키겠다\n",
        "  x.append(cnt)                   # 주사위를 360번 던져서 3의 배수가 나온 횟수가 x 리스트에 입력됩니다. \n",
        "\n",
        "print(np.mean(x))\n",
        "print(np.var(x))\n",
        "print(np.std(x))"
      ],
      "execution_count": null,
      "outputs": [
        {
          "output_type": "stream",
          "text": [
            "120.218\n",
            "76.548476\n",
            "8.749198591871144\n"
          ],
          "name": "stdout"
        }
      ]
    },
    {
      "cell_type": "markdown",
      "metadata": {
        "id": "hx9gzw2-JEUy"
      },
      "source": [
        ""
      ]
    },
    {
      "cell_type": "markdown",
      "metadata": {
        "id": "jX-YBFC7JENo"
      },
      "source": [
        ""
      ]
    },
    {
      "cell_type": "markdown",
      "metadata": {
        "id": "qMbisqr5WaTA"
      },
      "source": [
        "**■ 12. for문 개념 배우기 ② (for-continue-break)**\n",
        "\n",
        "for 반복문 내에서 continue 를 만나면 그 다음 반복 실행으로 넘어가며\n",
        "break 를 만나면 for 반복문을 완전히 벗어나게 됩니다.\n",
        "\n",
        "예제:  \n",
        "for 변수 in 범위:  \n",
        "… 실행코드  \n",
        "continue   # 이 부분은 그냥 지나치고 다음 반복문을 수행해라 ~   \n",
        "… 실행코드  \n",
        "break      # for 반복문을 탈출"
      ]
    },
    {
      "cell_type": "markdown",
      "metadata": {
        "id": "xvgJQwUHJGeT"
      },
      "source": [
        ""
      ]
    },
    {
      "cell_type": "markdown",
      "metadata": {
        "id": "x1yrm6JxJGHf"
      },
      "source": [
        ""
      ]
    },
    {
      "cell_type": "markdown",
      "metadata": {
        "id": "4sIq_vrK2Hre"
      },
      "source": [
        "문제35. 숫자 1번부터 10번까지 출력하시오 !"
      ]
    },
    {
      "cell_type": "code",
      "metadata": {
        "colab": {
          "base_uri": "https://localhost:8080/"
        },
        "id": "jgHR2nEO2OkG",
        "outputId": "5da6cc16-6577-4d2f-9b79-ee42ed5b3e96"
      },
      "source": [
        "for i in range(1, 11):\n",
        "  print(i)"
      ],
      "execution_count": null,
      "outputs": [
        {
          "output_type": "stream",
          "text": [
            "1\n",
            "2\n",
            "3\n",
            "4\n",
            "5\n",
            "6\n",
            "7\n",
            "8\n",
            "9\n",
            "10\n"
          ],
          "name": "stdout"
        }
      ]
    },
    {
      "cell_type": "markdown",
      "metadata": {
        "id": "JJxZhVsLJHIH"
      },
      "source": [
        ""
      ]
    },
    {
      "cell_type": "markdown",
      "metadata": {
        "id": "_wyu8FosJHBo"
      },
      "source": [
        ""
      ]
    },
    {
      "cell_type": "markdown",
      "metadata": {
        "id": "heN4mLWr2S5f"
      },
      "source": [
        "문제36. 위의 결과에서 숫자 5만 출력하지 않고 나머지 숫자만 출력하시오!"
      ]
    },
    {
      "cell_type": "code",
      "metadata": {
        "colab": {
          "base_uri": "https://localhost:8080/"
        },
        "id": "NaFQoOSJ2UxC",
        "outputId": "a8e675bc-ffa4-4e6f-e3d5-b5996867bfa1"
      },
      "source": [
        "for i in range(1, 11):\n",
        "  if i == 5:\n",
        "    continue        # 이 부분을 그냥 지나치고 다음 루프 실행문을 계속 실행해라\n",
        "  print(i)"
      ],
      "execution_count": null,
      "outputs": [
        {
          "output_type": "stream",
          "text": [
            "1\n",
            "2\n",
            "3\n",
            "4\n",
            "6\n",
            "7\n",
            "8\n",
            "9\n",
            "10\n"
          ],
          "name": "stdout"
        }
      ]
    },
    {
      "cell_type": "markdown",
      "metadata": {
        "id": "0yF3GfjUJHzf"
      },
      "source": [
        ""
      ]
    },
    {
      "cell_type": "markdown",
      "metadata": {
        "id": "OLNf65nVJHjm"
      },
      "source": [
        ""
      ]
    },
    {
      "cell_type": "markdown",
      "metadata": {
        "id": "KgaQCofd28mm"
      },
      "source": [
        "문제38. 1부터 10까지의 합을 파이썬으로 구현하시오 !"
      ]
    },
    {
      "cell_type": "code",
      "metadata": {
        "colab": {
          "base_uri": "https://localhost:8080/"
        },
        "id": "_rMXXknA2_YR",
        "outputId": "3de5aad8-708c-48bd-848f-89210487b084"
      },
      "source": [
        "a = 0\n",
        "\n",
        "for i in range(1, 11):\n",
        "  a = a + i\n",
        "\n",
        "print(a)"
      ],
      "execution_count": null,
      "outputs": [
        {
          "output_type": "stream",
          "text": [
            "55\n"
          ],
          "name": "stdout"
        }
      ]
    },
    {
      "cell_type": "code",
      "metadata": {
        "colab": {
          "base_uri": "https://localhost:8080/"
        },
        "id": "usj0G-TI3I9h",
        "outputId": "8b1150bb-207d-450c-abf5-65e0683d8d1d"
      },
      "source": [
        "x = []\n",
        "\n",
        "for i in range(1, 11):\n",
        "  x.append(i)\n",
        "\n",
        "print(sum(x))"
      ],
      "execution_count": null,
      "outputs": [
        {
          "output_type": "stream",
          "text": [
            "55\n"
          ],
          "name": "stdout"
        }
      ]
    },
    {
      "cell_type": "markdown",
      "metadata": {
        "id": "sbLtSTAxJIeb"
      },
      "source": [
        ""
      ]
    },
    {
      "cell_type": "markdown",
      "metadata": {
        "id": "GKmcH_NMJIXp"
      },
      "source": [
        ""
      ]
    },
    {
      "cell_type": "markdown",
      "metadata": {
        "id": "5KlE_UPy5F9e"
      },
      "source": [
        "**■ for 문에서 사용하는 break 문**\n",
        "\n",
        " \" 루프문을 중단시키는 역할을 하는 키워드 \"\n",
        "\n",
        "예제:\n",
        "\n"
      ]
    },
    {
      "cell_type": "code",
      "metadata": {
        "colab": {
          "base_uri": "https://localhost:8080/"
        },
        "id": "cnDY-lH4AdCO",
        "outputId": "fe17e2e0-0902-4001-d8ea-4ed23b59dc91"
      },
      "source": [
        "for i in range(1,11):   # 1 부터 10 까지 루프를 돌리는데  \n",
        "    print(i)            # i 를 출력 하다가  \n",
        "    if i == 3:          # i 가 3 이면  \n",
        "        break           # 루프문을 종료시켜라 ~"
      ],
      "execution_count": null,
      "outputs": [
        {
          "output_type": "stream",
          "text": [
            "1\n",
            "2\n",
            "3\n"
          ],
          "name": "stdout"
        }
      ]
    },
    {
      "cell_type": "markdown",
      "metadata": {
        "id": "zR6neR-tJKGv"
      },
      "source": [
        ""
      ]
    },
    {
      "cell_type": "markdown",
      "metadata": {
        "id": "aUEI7ppMJKAG"
      },
      "source": [
        ""
      ]
    },
    {
      "cell_type": "markdown",
      "metadata": {
        "id": "IDqIakEpAkc5"
      },
      "source": [
        "문제39. 1부터 100까지 출력하는 for loop 문을 작성하는데 다음과 같이 숫자를 물어보게해서 입력된 숫자까지만 출력되게하시오 !"
      ]
    },
    {
      "cell_type": "code",
      "metadata": {
        "colab": {
          "base_uri": "https://localhost:8080/"
        },
        "id": "pCqBNnu2BbP1",
        "outputId": "ab2d1178-6cb1-40ac-ca77-fba74211df26"
      },
      "source": [
        "a = int( input('숫자를 입력하세요~') )\n",
        "\n",
        "for i in range(1,11):\n",
        "  print(i)\n",
        "  if i == a:\n",
        "    break"
      ],
      "execution_count": null,
      "outputs": [
        {
          "output_type": "stream",
          "text": [
            "숫자를 입력하세요~4\n",
            "1\n",
            "2\n",
            "3\n",
            "4\n"
          ],
          "name": "stdout"
        }
      ]
    },
    {
      "cell_type": "markdown",
      "metadata": {
        "id": "HO9x4hwwJKyp"
      },
      "source": [
        ""
      ]
    },
    {
      "cell_type": "markdown",
      "metadata": {
        "id": "sQdBb8L1JKrP"
      },
      "source": [
        ""
      ]
    },
    {
      "cell_type": "markdown",
      "metadata": {
        "id": "Q_0bBFDVOaZW"
      },
      "source": [
        "문제40. 두 숫자를 각각 물어보게 하고 입력받아 두 숫자의 최대공약수를 출력하시오 !  \n",
        "힌트: 16%i == 0 and 24%i == 0  \n",
        "힌트: print(max(16, 24))"
      ]
    },
    {
      "cell_type": "code",
      "metadata": {
        "colab": {
          "base_uri": "https://localhost:8080/"
        },
        "id": "dg221X7fAmG-",
        "outputId": "1d0c9a45-6892-4fae-de91-120c6e2fe3f3"
      },
      "source": [
        "a = int( input('첫번째 숫자를 입력하세요~') )\n",
        "b = int( input('두번째 숫자를 입력하세요~') )\n",
        "x = []\n",
        "\n",
        "for i in range(1, max(a, b)):\n",
        "  if a % i == 0 and b % i == 0:\n",
        "    x.append(i)\n",
        "\n",
        "print('최대 공약수는',max(x),'입니다.')"
      ],
      "execution_count": null,
      "outputs": [
        {
          "output_type": "stream",
          "text": [
            "첫번째 숫자를 입력하세요~16\n",
            "두번째 숫자를 입력하세요~24\n",
            "최대 공약수는 8 입니다.\n"
          ],
          "name": "stdout"
        }
      ]
    },
    {
      "cell_type": "code",
      "metadata": {
        "colab": {
          "base_uri": "https://localhost:8080/"
        },
        "id": "HXwCeY7ITiVo",
        "outputId": "f71a0c29-cc92-4701-9de3-e632501a85be"
      },
      "source": [
        "a = int( input('첫번째 숫자를 입력하세요~') )\n",
        "b = int( input('두번째 숫자를 입력하세요~') )\n",
        "\n",
        "for i in range(max(a,b), 1, -1):\n",
        "  if a % i == 0 and b % i == 0:\n",
        "    break\n",
        "print(a, '와', b, '의 최대공약수는', i, '입니다.')"
      ],
      "execution_count": null,
      "outputs": [
        {
          "output_type": "stream",
          "text": [
            "첫번째 숫자를 입력하세요~16\n",
            "두번째 숫자를 입력하세요~24\n",
            "16 와 24 의 최대공약수는 8 입니다.\n"
          ],
          "name": "stdout"
        }
      ]
    },
    {
      "cell_type": "markdown",
      "metadata": {
        "id": "O-1HHVAqJLt4"
      },
      "source": [
        ""
      ]
    },
    {
      "cell_type": "markdown",
      "metadata": {
        "id": "OzONrZBbJLne"
      },
      "source": [
        ""
      ]
    },
    {
      "cell_type": "markdown",
      "metadata": {
        "id": "Y6GFC8iNT3kw"
      },
      "source": [
        "**■ 13. for문 개념 배우기 ③ (for-else)**\n",
        "\n",
        "for 반복문을 완전히 수행했을 때만 실행하는 부분을 정의하려면  \n",
        "for ~ else 문을 사용해야 합니다.  \n",
        "for ~ else 에서 else 뒤에 실행되는 코드는 for 반복문을 성공적으로 수행해야지만 실행됩니다.\n",
        "\n",
        "예제:"
      ]
    },
    {
      "cell_type": "code",
      "metadata": {
        "colab": {
          "base_uri": "https://localhost:8080/"
        },
        "id": "O9r2iw_rT74g",
        "outputId": "208e78bc-5d8a-4874-8b56-7d76379611e9"
      },
      "source": [
        "for i in range(1,11):\n",
        "    print(i)\n",
        "else:\n",
        "    print('Perfect')   # break 에 의해서 루프문이 중단되면 else 다음에 실행문이 실행되지 않습니다."
      ],
      "execution_count": null,
      "outputs": [
        {
          "output_type": "stream",
          "text": [
            "1\n",
            "2\n",
            "3\n",
            "4\n",
            "5\n",
            "6\n",
            "7\n",
            "8\n",
            "9\n",
            "10\n",
            "Perfect\n"
          ],
          "name": "stdout"
        }
      ]
    },
    {
      "cell_type": "markdown",
      "metadata": {
        "id": "BXsjQtjNJNne"
      },
      "source": [
        ""
      ]
    },
    {
      "cell_type": "markdown",
      "metadata": {
        "id": "PS4KxFWAJNfT"
      },
      "source": [
        ""
      ]
    },
    {
      "cell_type": "markdown",
      "metadata": {
        "id": "7apJGztpT_sY"
      },
      "source": [
        "문제41. 숫자를 물어보게 하고 숫자를 입력하면 해당 숫자만큼 1번부터 숫자가 출력되게 하시오~\n"
      ]
    },
    {
      "cell_type": "code",
      "metadata": {
        "colab": {
          "base_uri": "https://localhost:8080/"
        },
        "id": "a0r0AfPCUA_g",
        "outputId": "750c5240-70b0-4857-e5e5-b449ec86c97e"
      },
      "source": [
        "a = int( input('숫자를 입력하세요 ~') )\n",
        "\n",
        "for i in range(1, a+1):\n",
        "  print(i)"
      ],
      "execution_count": null,
      "outputs": [
        {
          "output_type": "stream",
          "text": [
            "숫자를 입력하세요 ~6\n",
            "1\n",
            "2\n",
            "3\n",
            "4\n",
            "5\n",
            "6\n"
          ],
          "name": "stdout"
        }
      ]
    },
    {
      "cell_type": "markdown",
      "metadata": {
        "id": "NHtEZ_d6JOII"
      },
      "source": [
        ""
      ]
    },
    {
      "cell_type": "markdown",
      "metadata": {
        "id": "9e4gymfWJOBf"
      },
      "source": [
        ""
      ]
    },
    {
      "cell_type": "markdown",
      "metadata": {
        "id": "JqC2xaAhUKsC"
      },
      "source": [
        "문제42. 위의 입력한 숫자까지 다 출력하면 아래에 perfect 이란 단어가 출력되게하시오!\n"
      ]
    },
    {
      "cell_type": "code",
      "metadata": {
        "colab": {
          "base_uri": "https://localhost:8080/"
        },
        "id": "DbutctYtUr-X",
        "outputId": "41fa6357-a6f6-4d08-8c88-00ca21e4a4ca"
      },
      "source": [
        "a = int( input('숫자를 입력하세요 ~') )\n",
        "\n",
        "for i in range(1, a+1):\n",
        "  print(i)\n",
        "else:\n",
        "  print('Perfect')"
      ],
      "execution_count": null,
      "outputs": [
        {
          "output_type": "stream",
          "text": [
            "숫자를 입력하세요 ~5\n",
            "1\n",
            "2\n",
            "3\n",
            "4\n",
            "5\n",
            "Perfect\n"
          ],
          "name": "stdout"
        }
      ]
    },
    {
      "cell_type": "markdown",
      "metadata": {
        "id": "PO6QY5q_JO2H"
      },
      "source": [
        ""
      ]
    },
    {
      "cell_type": "markdown",
      "metadata": {
        "id": "FXsiEDz-JOl3"
      },
      "source": [
        ""
      ]
    },
    {
      "cell_type": "markdown",
      "metadata": {
        "id": "IdXnhbh2U0IJ"
      },
      "source": [
        "문제43. 위의 코드를 수정해서 중단할 숫자를 또 물어보게 해서 아래와 같이 실행되게하시오!\n",
        "\n",
        "숫자를 입력하세요 ~ 10  \n",
        "중단할 숫자를 입력하세요 ~ 5"
      ]
    },
    {
      "cell_type": "code",
      "metadata": {
        "colab": {
          "base_uri": "https://localhost:8080/"
        },
        "id": "7ry_hr5aU2mR",
        "outputId": "3d9e1367-c225-417b-b1bb-04f71dee8e12"
      },
      "source": [
        "a = int( input('숫자를 입력하세요 ~') )\n",
        "b = int( input('중단할 숫자를 입력하세요 ~') )\n",
        "\n",
        "for i in range(1, a+1):\n",
        "  print(i)\n",
        "  if i == b:\n",
        "    break\n",
        "else:\n",
        "  print('Perfect')"
      ],
      "execution_count": null,
      "outputs": [
        {
          "output_type": "stream",
          "text": [
            "숫자를 입력하세요 ~6\n",
            "중단할 숫자를 입력하세요 ~3\n",
            "1\n",
            "2\n",
            "3\n"
          ],
          "name": "stdout"
        }
      ]
    },
    {
      "cell_type": "markdown",
      "metadata": {
        "id": "TgB4WHQdJPst"
      },
      "source": [
        ""
      ]
    },
    {
      "cell_type": "markdown",
      "metadata": {
        "id": "HmC5DJcpJPmK"
      },
      "source": [
        ""
      ]
    },
    {
      "cell_type": "markdown",
      "metadata": {
        "id": "xWhvrZsWVfVJ"
      },
      "source": [
        "**■ 14. while문 개념 배우기(while-continue-break)**\n",
        "\n",
        "for 루프문처럼 while 루프문도 같은 반복문입니다.\n",
        "for 루프문은 특정 범위에서 반복 실행하게 하는 반면에\n",
        "while 루프문은 특정 조건에서 코드를 반복 실행하게 합니다. "
      ]
    },
    {
      "cell_type": "markdown",
      "metadata": {
        "id": "0sWl2oRDeWJJ"
      },
      "source": [
        "for  루프문 "
      ]
    },
    {
      "cell_type": "code",
      "metadata": {
        "colab": {
          "base_uri": "https://localhost:8080/"
        },
        "id": "T9PzQFn4eHml",
        "outputId": "67058cda-2242-4a70-f297-8b2fec4d723e"
      },
      "source": [
        "for i in range(10):  \n",
        "    print(i)"
      ],
      "execution_count": null,
      "outputs": [
        {
          "output_type": "stream",
          "text": [
            "0\n",
            "1\n",
            "2\n",
            "3\n",
            "4\n",
            "5\n",
            "6\n",
            "7\n",
            "8\n",
            "9\n"
          ],
          "name": "stdout"
        }
      ]
    },
    {
      "cell_type": "markdown",
      "metadata": {
        "id": "HwLf3uysJRxz"
      },
      "source": [
        ""
      ]
    },
    {
      "cell_type": "markdown",
      "metadata": {
        "id": "nCf6KHfbeKcO"
      },
      "source": [
        "while  루프문 "
      ]
    },
    {
      "cell_type": "code",
      "metadata": {
        "colab": {
          "base_uri": "https://localhost:8080/"
        },
        "id": "3pc6KBw0eO8Z",
        "outputId": "825565d9-f4ea-49ee-fa5f-8b028c02463a"
      },
      "source": [
        "x = 0  \n",
        "while x < 10:  \n",
        "    print(x)  \n",
        "    x = x + 1"
      ],
      "execution_count": null,
      "outputs": [
        {
          "output_type": "stream",
          "text": [
            "0\n",
            "1\n",
            "2\n",
            "3\n",
            "4\n",
            "5\n",
            "6\n",
            "7\n",
            "8\n",
            "9\n"
          ],
          "name": "stdout"
        }
      ]
    },
    {
      "cell_type": "markdown",
      "metadata": {
        "id": "sLeyh1I9eTAV"
      },
      "source": [
        "0 < 10  참  \n",
        "1 < 10  참  \n",
        "   :  \n",
        "9 < 10  참  \n",
        "10 < 10 거짓"
      ]
    },
    {
      "cell_type": "markdown",
      "metadata": {
        "id": "Ry0aWZ5nJT87"
      },
      "source": [
        ""
      ]
    },
    {
      "cell_type": "markdown",
      "metadata": {
        "id": "XLgohkg5JT2N"
      },
      "source": [
        ""
      ]
    },
    {
      "cell_type": "markdown",
      "metadata": {
        "id": "ndG8kujJea_w"
      },
      "source": [
        "문제44. 아래와 같이 숫자를 물어보게하고 숫자를 입력하면 해당 숫자만큼 ★이 출력되게하시오! (while loop 문으로 하세요)\n",
        "\n",
        "숫자를 입력하세요 ~ 5  \n",
        "★  \n",
        "★★  \n",
        "★★★  \n",
        "★★★★  \n",
        "★★★★★  \n"
      ]
    },
    {
      "cell_type": "code",
      "metadata": {
        "colab": {
          "base_uri": "https://localhost:8080/"
        },
        "id": "GEy081poeSiJ",
        "outputId": "a0bf99c8-f79e-4b2b-a960-4a37238e0a53"
      },
      "source": [
        "a = int( input('숫자를 입력하세요~') )\n",
        "x = 0\n",
        "\n",
        "while x <= a:\n",
        "  x = x + 1\n",
        "  print( '★' * x )"
      ],
      "execution_count": null,
      "outputs": [
        {
          "output_type": "stream",
          "text": [
            "숫자를 입력하세요~5\n",
            "★\n",
            "★★\n",
            "★★★\n",
            "★★★★\n",
            "★★★★★\n",
            "★★★★★★\n"
          ],
          "name": "stdout"
        }
      ]
    },
    {
      "cell_type": "markdown",
      "metadata": {
        "id": "jQcqPxcwJUzR"
      },
      "source": [
        ""
      ]
    },
    {
      "cell_type": "markdown",
      "metadata": {
        "id": "3lkP5bBXJUsP"
      },
      "source": [
        ""
      ]
    },
    {
      "cell_type": "markdown",
      "metadata": {
        "id": "yTL9lzEee8sZ"
      },
      "source": [
        "문제45. 아래와 같이 결과가 출력되게 하시오!\n",
        "\n",
        "숫자를 입력하세요 ~ 5  \n",
        "★★★★★  \n",
        "★★★★  \n",
        "★★★  \n",
        "★★  \n",
        "★"
      ]
    },
    {
      "cell_type": "code",
      "metadata": {
        "colab": {
          "base_uri": "https://localhost:8080/"
        },
        "id": "INpT7bBkfBNS",
        "outputId": "dba7be44-1a71-4903-d38a-8eb6ef3149fa"
      },
      "source": [
        "a = int( input('숫자를 입력하세요~') )\n",
        "\n",
        "while a > 0:\n",
        "  print( '★' * a )\n",
        "  a = a - 1"
      ],
      "execution_count": null,
      "outputs": [
        {
          "output_type": "stream",
          "text": [
            "숫자를 입력하세요~5\n",
            "★★★★★\n",
            "★★★★\n",
            "★★★\n",
            "★★\n",
            "★\n"
          ],
          "name": "stdout"
        }
      ]
    },
    {
      "cell_type": "code",
      "metadata": {
        "colab": {
          "base_uri": "https://localhost:8080/"
        },
        "id": "FIgfr7qlfT5N",
        "outputId": "2c4bf186-62a9-495d-939d-d2bb7e6d48da"
      },
      "source": [
        "a = int( input('숫자를 입력하세요~') )\n",
        "x = 0\n",
        "\n",
        "while x < a:\n",
        "  print( (a - x) * '★' )\n",
        "  x = x + 1"
      ],
      "execution_count": null,
      "outputs": [
        {
          "output_type": "stream",
          "text": [
            "숫자를 입력하세요~5\n",
            "★★★★★\n",
            "★★★★\n",
            "★★★\n",
            "★★\n",
            "★\n"
          ],
          "name": "stdout"
        }
      ]
    },
    {
      "cell_type": "markdown",
      "metadata": {
        "id": "O1WN8S2QJWOp"
      },
      "source": [
        ""
      ]
    },
    {
      "cell_type": "markdown",
      "metadata": {
        "id": "rBWs8j3wJWGv"
      },
      "source": [
        ""
      ]
    },
    {
      "cell_type": "markdown",
      "metadata": {
        "id": "V6LO8agUfdtk"
      },
      "source": [
        "문제46. 주사위 2개의 동시에 던져서 두개의 주사위의 눈의 합을 구하는 실행문을 10000번 반복해서 그 10000개를 비어있는 a 리스트에 넣으시오!  \n",
        "(while 루프문으로 하세요)\n"
      ]
    },
    {
      "cell_type": "code",
      "metadata": {
        "colab": {
          "base_uri": "https://localhost:8080/"
        },
        "id": "UEw2H09YfhWM",
        "outputId": "86ca5075-a070-4a41-8140-1c4d33c8b99c"
      },
      "source": [
        "import random\n",
        "\n",
        "dice1 = [ 1, 2, 3, 4, 5, 6 ]\n",
        "dice2 = [ 1, 2, 3, 4, 5, 6 ]\n",
        "a = []\n",
        "x = 0\n",
        "\n",
        "while x < 10000:\n",
        "  result1 = random.choice(dice1)\n",
        "  result2 = random.choice(dice2)\n",
        "  a.append(result1 + result2)\n",
        "  x = x + 1\n",
        "\n",
        "print(len(a))     # a 리스트안의 요소의 갯수를 확인할 수 있습니다."
      ],
      "execution_count": null,
      "outputs": [
        {
          "output_type": "stream",
          "text": [
            "10000\n"
          ],
          "name": "stdout"
        }
      ]
    },
    {
      "cell_type": "markdown",
      "metadata": {
        "id": "5Qt0jY5OJYgO"
      },
      "source": [
        ""
      ]
    },
    {
      "cell_type": "markdown",
      "metadata": {
        "id": "MtI7AYcsJYYq"
      },
      "source": [
        ""
      ]
    },
    {
      "cell_type": "markdown",
      "metadata": {
        "id": "K0zCN51mfjr8"
      },
      "source": [
        "문제47. 위의 코드를 이용해서 두개의 주사위의 눈이 합이 10이 되는 확률을 구하시오!\n"
      ]
    },
    {
      "cell_type": "code",
      "metadata": {
        "colab": {
          "base_uri": "https://localhost:8080/"
        },
        "id": "d4gNu35kgcTt",
        "outputId": "329b38fc-e5e5-4896-b47e-cf8ff086867b"
      },
      "source": [
        "import random\n",
        "\n",
        "dice1 = [ 1, 2, 3, 4, 5, 6 ]\n",
        "dice2 = [ 1, 2, 3, 4, 5, 6 ]\n",
        "a = []\n",
        "x = 0\n",
        "\n",
        "while x < 10000:\n",
        "  result1 = random.choice(dice1)\n",
        "  result2 = random.choice(dice2)\n",
        "  if result1 + result2 == 10:\n",
        "    a.append(result1 + result2)\n",
        "  x = x + 1\n",
        "\n",
        "print(len(a)/10000)"
      ],
      "execution_count": null,
      "outputs": [
        {
          "output_type": "stream",
          "text": [
            "0.082\n"
          ],
          "name": "stdout"
        }
      ]
    },
    {
      "cell_type": "markdown",
      "metadata": {
        "id": "GRGHk6Y9JZVo"
      },
      "source": [
        ""
      ]
    },
    {
      "cell_type": "markdown",
      "metadata": {
        "id": "0xxHEJemJZOH"
      },
      "source": [
        ""
      ]
    },
    {
      "cell_type": "markdown",
      "metadata": {
        "id": "oD5MJWaKgpoE"
      },
      "source": [
        "**■ 15. None 개념 배우기**\n",
        "\n",
        "None 은 아무것도 없다는 상수 입니다.  \n",
        "아무것도 없다는 것을 나타내기 위해서 주로 활용됩니다.  \n",
        "\n",
        "예:\n"
      ]
    },
    {
      "cell_type": "code",
      "metadata": {
        "id": "PpkmZr7QgvUs"
      },
      "source": [
        "x = 0\n",
        "while x < 10:\n",
        "    print(x)\n",
        "    x = x + 1"
      ],
      "execution_count": null,
      "outputs": []
    },
    {
      "cell_type": "markdown",
      "metadata": {
        "id": "7F0zH4Lhgus_"
      },
      "source": [
        "설명: 위의 while loop 문에서의 x 변수는 숫자만 담기는 변수입니다.  \n",
        "\t그런데 어떨때는 숫자가 들어갈 수 도 있고 어떨때는 문자가 들어갈 수도 있어서\n",
        "\t처음에 변수 선언시 결정을 못하겠다면 아래와 같이 하면 됩니다."
      ]
    },
    {
      "cell_type": "code",
      "metadata": {
        "colab": {
          "base_uri": "https://localhost:8080/"
        },
        "id": "coeN9npRg2xv",
        "outputId": "17025037-4065-445f-c64d-933c0d489716"
      },
      "source": [
        "x = None\n",
        "a = 1\n",
        "if a == 1:\n",
        "   x = [ 1, 2, 3 ]   # x 라는 변수에 리스트를 담았습니다.\n",
        "else:\n",
        "   x = 'I love Python'   # x 라는 변수에 문자열을 담았습니다.\n",
        "  \n",
        "print(x)"
      ],
      "execution_count": null,
      "outputs": [
        {
          "output_type": "stream",
          "text": [
            "[1, 2, 3]\n"
          ],
          "name": "stdout"
        }
      ]
    },
    {
      "cell_type": "markdown",
      "metadata": {
        "id": "NeiRG3K5JbR6"
      },
      "source": [
        ""
      ]
    },
    {
      "cell_type": "markdown",
      "metadata": {
        "id": "EDUU_9yeJbCY"
      },
      "source": [
        ""
      ]
    },
    {
      "cell_type": "markdown",
      "metadata": {
        "id": "d0csXRyJgsjE"
      },
      "source": [
        "**■ 16. 정수형 자료 이해하기**\n",
        "\n",
        "자연수(1, 2, 3, …) 와 음수(-1, -2, -3, …) 와 0으로 이루어진 수의 체계를 정수라고 합니다.\n",
        "\n",
        "예:  \n",
        "a = 123  \n",
        "b = -178  \n",
        "c = 0\n",
        "\n",
        "일반 프로그래밍에서 지원하는 정수형 상수의 범위는\n",
        " -2,147,473,647 ~ 2,147,473,647 인데 (2의 31승)\n",
        "파이썬은 메모리가 허용하는 범위에서  \n",
        "지원 가능한 수를 다 사용할 수 있습니다."
      ]
    },
    {
      "cell_type": "markdown",
      "metadata": {
        "id": "jOnzd8k0Jc1w"
      },
      "source": [
        ""
      ]
    },
    {
      "cell_type": "markdown",
      "metadata": {
        "id": "UgFboJ8MhDEM"
      },
      "source": [
        "문제48. 위의 말이 맞는지 for loop 문으로 테스트 해서 확인하시오!  \n",
        "파이썬에서는 정수형 변수가 담을 수 있는 상수의 범위가 어떻게 되는지 테스트 하시오!\n"
      ]
    },
    {
      "cell_type": "code",
      "metadata": {
        "id": "ltYIBrMvhNsb"
      },
      "source": [
        "for i in range(10000000000000000000000000000000000000000000000000):\n",
        "    a = i\n",
        "print(i)"
      ],
      "execution_count": null,
      "outputs": []
    },
    {
      "cell_type": "markdown",
      "metadata": {
        "id": "Q7L1F6xHJeBf"
      },
      "source": [
        ""
      ]
    },
    {
      "cell_type": "markdown",
      "metadata": {
        "id": "GxtPPskiJdtL"
      },
      "source": [
        ""
      ]
    },
    {
      "cell_type": "markdown",
      "metadata": {
        "id": "T2s3dBWThQfk"
      },
      "source": [
        "문제49. 3의 2승을 파이썬으로 구하세요!"
      ]
    },
    {
      "cell_type": "code",
      "metadata": {
        "colab": {
          "base_uri": "https://localhost:8080/"
        },
        "id": "wae3cxu1hQx_",
        "outputId": "3c15e3fe-882b-42a8-f316-abc9a7d13c7d"
      },
      "source": [
        "print(3**2)"
      ],
      "execution_count": null,
      "outputs": [
        {
          "output_type": "stream",
          "text": [
            "9\n"
          ],
          "name": "stdout"
        }
      ]
    },
    {
      "cell_type": "markdown",
      "metadata": {
        "id": "FMGLlDVTJfSA"
      },
      "source": [
        ""
      ]
    },
    {
      "cell_type": "markdown",
      "metadata": {
        "id": "u1-lcy4JJe_H"
      },
      "source": [
        ""
      ]
    },
    {
      "cell_type": "markdown",
      "metadata": {
        "id": "oO2aOyRdhRME"
      },
      "source": [
        "문제50. 루트 4를 파이썬으로 구하세요!"
      ]
    },
    {
      "cell_type": "code",
      "metadata": {
        "colab": {
          "base_uri": "https://localhost:8080/"
        },
        "id": "2kVgKemfhSy8",
        "outputId": "a1c8f72a-c9b3-4ae4-e7ef-c708d34fd528"
      },
      "source": [
        "import math\n",
        "\n",
        "print(math.sqrt(4))"
      ],
      "execution_count": null,
      "outputs": [
        {
          "output_type": "stream",
          "text": [
            "2.0\n"
          ],
          "name": "stdout"
        }
      ]
    },
    {
      "cell_type": "markdown",
      "metadata": {
        "id": "4Qrx9T8mJf-h"
      },
      "source": [
        ""
      ]
    },
    {
      "cell_type": "markdown",
      "metadata": {
        "id": "39NpnrYMJfvB"
      },
      "source": [
        ""
      ]
    },
    {
      "cell_type": "markdown",
      "metadata": {
        "id": "DvIfwmSuhbK2"
      },
      "source": [
        "문제51. 몬테카를로 알고리즘을 이용해서 원주율의 근사값을 파이썬으로 구하세요!\n"
      ]
    },
    {
      "cell_type": "code",
      "metadata": {
        "colab": {
          "base_uri": "https://localhost:8080/"
        },
        "id": "y_FKFOhohciG",
        "outputId": "a892289f-403e-43b7-db08-b643252e75d3"
      },
      "source": [
        "import random\n",
        "print(random.uniform(0,1))          # 0 ~ 1 사이의 난수를 출력"
      ],
      "execution_count": null,
      "outputs": [
        {
          "output_type": "stream",
          "text": [
            "0.006540929117878735\n"
          ],
          "name": "stdout"
        }
      ]
    },
    {
      "cell_type": "code",
      "metadata": {
        "id": "gZf3JHnBhnZ8"
      },
      "source": [
        "import random\n",
        "\n",
        "x = 0\n",
        "\n",
        "for i in range(1, 10001):              # 10000번 루프를 돌리는데\n",
        "    result1 = random.uniform(0,1)      # 0~1 사이의 난수를 result1 에 담습니다.\n",
        "    result2 = random.uniform(0,1)      # 0~1 사이의 난수를 result2 에 담습니다.\n",
        "    if result1**2 + result2**2 <= 1:   # 부채꼴안의 점이라면\n",
        "        x = x + 1                      # x 를 1 증가시킵니다.\n",
        "\n",
        "print(x/10000*4)                       # 원주율 출력 "
      ],
      "execution_count": null,
      "outputs": []
    },
    {
      "cell_type": "markdown",
      "metadata": {
        "id": "m8oOcD1oJgp_"
      },
      "source": [
        ""
      ]
    },
    {
      "cell_type": "markdown",
      "metadata": {
        "id": "ku2p1M72Jgho"
      },
      "source": [
        ""
      ]
    },
    {
      "cell_type": "markdown",
      "metadata": {
        "id": "a4ojrpc4hxQM"
      },
      "source": [
        "**■ 17. 실수형 자료 이해하기**\n",
        "\n",
        "실수는 소수로 나타낼 수 있는 유리수와 소수로 나타낼 수 없는 무리수로 구성된 집합입니다.  \n",
        "(무리수의 예: 원주율, 오일러 자연상수 e)  \n",
        "파이썬은 실수를 지원하기 위해서 부동 소수형을 제공합니다.\n",
        "\n",
        "** 부동 소수형의 특징\n",
        " 1. 8 바이트만 이용해서 수를 표현합니다. 즉, 한정된 범위의 수만 표현할 수 있습니다.\n",
        " 2. 디지털 방식으로 소수를 표현해야 하므로 정밀도의 한계가 있습니다."
      ]
    },
    {
      "cell_type": "markdown",
      "metadata": {
        "id": "oFPR55eWh1sT"
      },
      "source": [
        "예제. 소수 43.2 에서 소수 43.1을 빼면 얼마인지 파이썬으로 구현하시오!"
      ]
    },
    {
      "cell_type": "code",
      "metadata": {
        "colab": {
          "base_uri": "https://localhost:8080/"
        },
        "id": "QIlPmp3-h4Fi",
        "outputId": "1007169f-6595-4238-a792-e4474a0cfe87"
      },
      "source": [
        "print(43.2 - 43.1)"
      ],
      "execution_count": null,
      "outputs": [
        {
          "output_type": "stream",
          "text": [
            "0.10000000000000142\n"
          ],
          "name": "stdout"
        }
      ]
    },
    {
      "cell_type": "markdown",
      "metadata": {
        "id": "Kt1_Kg_gh7zk"
      },
      "source": [
        "부동 소수형은 위와 같이 정밀도의 한계를 가지고 있습니다.  \n",
        "이것은 비단 파이썬만의 문제가 나이라 부동소수형이 어떻게 구성되고 동작되는가를\n",
        "정의하는 표준인 IEEE 754 를 따르는  \n",
        "모든 컴퓨터 시스템의 문제입니다.  \n",
        "IEEE 754 는 제한된 메모리를 이용해서 (파이썬의 경우는 8바이트) 실수를 표현하기 때문에 제한된 정밀도를 갖습니다."
      ]
    },
    {
      "cell_type": "markdown",
      "metadata": {
        "id": "qo-IuuwnJju_"
      },
      "source": [
        ""
      ]
    },
    {
      "cell_type": "markdown",
      "metadata": {
        "id": "aTP2iq4sJja4"
      },
      "source": [
        ""
      ]
    },
    {
      "cell_type": "markdown",
      "metadata": {
        "id": "oc5pFyVDh_NM"
      },
      "source": [
        "**■ 18. 복소수형 자료 이해하기**\n",
        "\n",
        "복소수 : 실수 + 허수   \n",
        "실수 : 정수, 유리수, 무리수  \n",
        "허수 : i 를 제곱하면 -1 이 되는 수\n",
        "\n",
        "\n",
        "복소수는 실수부와 허수부로 되어있고 허수부는 숫자 뒤에 문자 i 를 이용하는데\n",
        "파이썬에서는 j를 사용합니다.  \n",
        "\n",
        "예:"
      ]
    },
    {
      "cell_type": "code",
      "metadata": {
        "colab": {
          "base_uri": "https://localhost:8080/"
        },
        "id": "tWnNPvzyifgq",
        "outputId": "07861a80-b932-439c-cfd4-07b74698b17d"
      },
      "source": [
        "c1 = 1 + 7j\n",
        "print(c1.real)      # 복소수형 자료에서 실수부만 취한다.\n",
        "print(c1.imag)      # 복소수형 자료에서 허수부만 취한다.\n",
        "\n",
        "c2 = complex(2,3)   # 실수부가 2이고 허수부가 3인 복소수를 만든다.\n",
        "print(c2)"
      ],
      "execution_count": null,
      "outputs": [
        {
          "output_type": "stream",
          "text": [
            "1.0\n",
            "7.0\n",
            "(2+3j)\n"
          ],
          "name": "stdout"
        }
      ]
    },
    {
      "cell_type": "markdown",
      "metadata": {
        "id": "3jcMMweVJlVn"
      },
      "source": [
        ""
      ]
    },
    {
      "cell_type": "markdown",
      "metadata": {
        "id": "V6j-9K4gJlCo"
      },
      "source": [
        ""
      ]
    },
    {
      "cell_type": "markdown",
      "metadata": {
        "id": "t-61jOXdinei"
      },
      "source": [
        "문제52. 아래의 수학식을 파이썬으로 구현해서 답을 출력하시오 !  \n",
        "(1 - 2i)^2 - 2(1-2i) - 12"
      ]
    },
    {
      "cell_type": "code",
      "metadata": {
        "colab": {
          "base_uri": "https://localhost:8080/"
        },
        "id": "Nf2EYeFziqr8",
        "outputId": "10633957-e44e-4472-d27c-5b95fdd01f6d"
      },
      "source": [
        "a = complex(1, -2)\n",
        "result = a ** 2 - 2 * a - 12\n",
        "print(result)"
      ],
      "execution_count": null,
      "outputs": [
        {
          "output_type": "stream",
          "text": [
            "(-17+0j)\n"
          ],
          "name": "stdout"
        }
      ]
    }
  ]
}