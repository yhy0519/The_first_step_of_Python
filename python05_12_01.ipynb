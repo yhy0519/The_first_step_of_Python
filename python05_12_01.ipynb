{
  "nbformat": 4,
  "nbformat_minor": 0,
  "metadata": {
    "colab": {
      "name": "python05_12_01.ipynb",
      "provenance": [],
      "collapsed_sections": [],
      "authorship_tag": "ABX9TyMz08RiXTHzBRGWafRX5cuu",
      "include_colab_link": true
    },
    "kernelspec": {
      "name": "python3",
      "display_name": "Python 3"
    }
  },
  "cells": [
    {
      "cell_type": "markdown",
      "metadata": {
        "id": "view-in-github",
        "colab_type": "text"
      },
      "source": [
        "<a href=\"https://colab.research.google.com/github/yhy0519/The_first_step_of_Python/blob/main/python05_12_01.ipynb\" target=\"_parent\"><img src=\"https://colab.research.google.com/assets/colab-badge.svg\" alt=\"Open In Colab\"/></a>"
      ]
    },
    {
      "cell_type": "markdown",
      "metadata": {
        "id": "KmAzhHPWCA2t"
      },
      "source": [
        "**■ 파이썬 복습**\n",
        "\n",
        " 1. 파이썬의 자료형 5가지\n",
        "\n",
        "        문자형, 숫자형, 리스트형, 튜플형, 사전형(딕서너리형)\n",
        "\n",
        " 2. 파이썬의 연산자\n",
        "\n",
        "        >, <, >=, <=, ==, !=\n",
        "\n",
        " 3. 파이썬에서의 들여쓰기의 용도와 중요성\n",
        "\n",
        "        다른 자바나 c 언어는 괄호로 특정 블럭을 지정하는데 파이썬은 들여쓰기로 특정 블록(실행영역) 을 지정합니다.\n",
        "        for i in range(1, 11):\n",
        "            print('a')    # for 문에 관할하에 있는 실행영역\n",
        "        print('b')        # for loop 문과 상관없는 별도의 독립적인 실행영역\n",
        "\n",
        " 4. if 문 사용법\n",
        "        if 조건:\n",
        "            실행코드\n",
        "        elif 조건:\n",
        "            실행코드\n",
        "        elif 조건:\n",
        "            실행코드\n",
        "        else 조건:\n",
        "            실행코드\n",
        "\n",
        " 5. 반복문\n",
        "        for loop 문, while loop 문\n",
        "\n",
        " 6. 판다스 사용법\n",
        "        데이터 검색, 시각화, 통계와 머신러닝 구현을 쉽게 해주는 파이썬의 모듈\n",
        "\n",
        " 7. 문자열 변수에서 특정 철자를 취하는 방법(인덱싱)\n",
        "        a = 'scott'\n",
        "        print(a[0])     # s\n",
        "\n",
        " 8. 문자열 변수에서 특정 철자들을 취하는 방법(슬라이싱)\n",
        "        a = 'scott'\n",
        "        print(a[0:2])   # sc\n",
        "\n",
        " 9. 문자열 변수의 길이 확인하는 방법\n",
        "        a = 'scott'\n",
        "        print(len(a))    # 5\n",
        "\n",
        " 10. 멤버 체크 하는 방법(in)\n",
        "\n",
        "         a = [ 1, 2, 3, 4, 5 ]\n",
        "         b = 3 in a\n",
        "         print(b)   # True\n",
        "\n",
        " 11. 문자열 포멧 이해하기\n",
        "\n",
        "         print( '표본평균의 평균값은 %.2f 이고 분산값은 %.2f 이고 표준편차는 %.2f 입니다.' \n",
        "         %(round(np.mean(a), 2), round(np.var(a), 2), round(np.std(a), 2)))\n",
        "         \n",
        "         결과:\n",
        "         표본평균의 평균값은 30.08 이고 분산값은 0.90 이고 표준편차는 0.95 입니다."
      ]
    },
    {
      "cell_type": "markdown",
      "metadata": {
        "id": "9x_kbdBqaOqW"
      },
      "source": [
        ""
      ]
    },
    {
      "cell_type": "markdown",
      "metadata": {
        "id": "ZPigJDW1aPCZ"
      },
      "source": [
        ""
      ]
    },
    {
      "cell_type": "markdown",
      "metadata": {
        "id": "urMhgNxWDm0o"
      },
      "source": [
        "**■ 35. 이스케이프 문자 이해하기**\n",
        "\n",
        "이스케이프 문자는 키보드로 입력하기 어려운 기호를 나타내기 위해\n",
        "역슬래쉬 '\\' 로 시작하는 문자입니다.  \n",
        "파이썬에서 자주 사용되는 이스케이프 문자는 다음과 같습니다.\n",
        "\n",
        "    이스케이프 문자\t    설명\n",
        "          \\n             줄바꾸기\n",
        "          \\t            \t탭\n",
        "          \\엔터\t       줄 계속\n",
        "          \\\\         \t\\ 기호자체\n",
        "      \\' 또는 \\\"  \t' 기호 또는 \" 기호 자체\n",
        "\n",
        "예제:\n"
      ]
    },
    {
      "cell_type": "code",
      "metadata": {
        "colab": {
          "base_uri": "https://localhost:8080/"
        },
        "id": "qaW0t4kVBzCD",
        "outputId": "2597db8d-e061-4a02-d0a0-61465e2c8078"
      },
      "source": [
        "print(' 나는 파이썬을 배웁니다. \\n 파이썬은 자바보다 \\\n",
        "훨씬 쉽습니다' )"
      ],
      "execution_count": null,
      "outputs": [
        {
          "output_type": "stream",
          "text": [
            " 나는 파이썬을 배웁니다. \n",
            " 파이썬은 자바보다 훨씬 쉽습니다\n"
          ],
          "name": "stdout"
        }
      ]
    },
    {
      "cell_type": "markdown",
      "metadata": {
        "id": "EVvwhoRZaSAN"
      },
      "source": [
        ""
      ]
    },
    {
      "cell_type": "markdown",
      "metadata": {
        "id": "6M5VQgQVaRq_"
      },
      "source": [
        ""
      ]
    },
    {
      "cell_type": "markdown",
      "metadata": {
        "id": "66S9FDpYLW6s"
      },
      "source": [
        "**■ 36. 리스트 이해하기([ ])**\n",
        "\n",
        "리스트는 파이썬에서 가장 많이 활용되는 시퀀스 자료형 중 하나입니다.  \n",
        "리스트는 [] 로 표시하며 [ ] 안에 요소들을 콤마(,) 로 구분하여 순서있게 나열합니다.\n",
        "\n",
        "예제:"
      ]
    },
    {
      "cell_type": "code",
      "metadata": {
        "colab": {
          "base_uri": "https://localhost:8080/"
        },
        "id": "BRdCk19Yccfy",
        "outputId": "2c33f45e-bc8b-4038-9938-1a1f473cb433"
      },
      "source": [
        "k = [ 'a', 'b', 'c', 'd', 'e' ]\r\n",
        "print(k)\r\n",
        "print( type(k) )\r\n",
        "print( k[1] )  "
      ],
      "execution_count": 1,
      "outputs": [
        {
          "output_type": "stream",
          "text": [
            "['a', 'b', 'c', 'd', 'e']\n",
            "<class 'list'>\n",
            "b\n"
          ],
          "name": "stdout"
        }
      ]
    },
    {
      "cell_type": "markdown",
      "metadata": {
        "id": "YqXML0OiaUkE"
      },
      "source": [
        ""
      ]
    },
    {
      "cell_type": "markdown",
      "metadata": {
        "id": "CtAC4gwNaUcN"
      },
      "source": [
        ""
      ]
    },
    {
      "cell_type": "markdown",
      "metadata": {
        "id": "CMHTbS7OPnmH"
      },
      "source": [
        "문제122. 동전의 앞면과 뒷면을 포함하는 리스트 coin 을 만드시오 !"
      ]
    },
    {
      "cell_type": "code",
      "metadata": {
        "id": "nlP1pCtwLWS7"
      },
      "source": [
        "coin = ['앞면', '뒷면']"
      ],
      "execution_count": null,
      "outputs": []
    },
    {
      "cell_type": "markdown",
      "metadata": {
        "id": "NqjROHV2aVwl"
      },
      "source": [
        ""
      ]
    },
    {
      "cell_type": "markdown",
      "metadata": {
        "id": "4_oReY2saVoQ"
      },
      "source": [
        ""
      ]
    },
    {
      "cell_type": "markdown",
      "metadata": {
        "id": "2aaL-A5SPtGW"
      },
      "source": [
        "문제123. 위에서 만든 coin 의 요소를 10000 개로 늘려서 coin_10000 변수에 담으시오!"
      ]
    },
    {
      "cell_type": "code",
      "metadata": {
        "id": "OnTHJB0KPvNV"
      },
      "source": [
        "coin = ['앞면', '뒷면']\n",
        "coin_10000 = coin * 10000\n",
        "print(coin_10000)"
      ],
      "execution_count": null,
      "outputs": []
    },
    {
      "cell_type": "markdown",
      "metadata": {
        "id": "Ga4d-ww4aYKl"
      },
      "source": [
        ""
      ]
    },
    {
      "cell_type": "markdown",
      "metadata": {
        "id": "WfvA9icHaYB9"
      },
      "source": [
        ""
      ]
    },
    {
      "cell_type": "markdown",
      "metadata": {
        "id": "zEdR1t6YP8Rf"
      },
      "source": [
        "문제124. 위에서 만든 coin_10000 리스트에서 표본을 10개 랜덤 추출하시오 !"
      ]
    },
    {
      "cell_type": "code",
      "metadata": {
        "colab": {
          "base_uri": "https://localhost:8080/"
        },
        "id": "EOXWl8vTQfwo",
        "outputId": "978f9d7a-e577-46a9-8bd0-88526b950f27"
      },
      "source": [
        "import numpy as np\n",
        "\n",
        "coin = ['앞면', '뒷면']\n",
        "coin_10000 = coin * 10000\n",
        "print(np.random.choice(coin_10000, 10))"
      ],
      "execution_count": null,
      "outputs": [
        {
          "output_type": "stream",
          "text": [
            "['뒷면' '앞면' '뒷면' '뒷면' '앞면' '앞면' '앞면' '앞면' '뒷면' '앞면']\n"
          ],
          "name": "stdout"
        }
      ]
    },
    {
      "cell_type": "markdown",
      "metadata": {
        "id": "pEd9qi4-Qow-"
      },
      "source": [
        "설명: np.random.choice 는 numpy 모듈안에 random 코드 안에 choice 함수를 사용하겠다.  \n",
        "\n",
        "    np.random.choice( 모집단 리스트, 샘플 개수 )"
      ]
    },
    {
      "cell_type": "markdown",
      "metadata": {
        "id": "O3fd1YMVaZO1"
      },
      "source": [
        ""
      ]
    },
    {
      "cell_type": "markdown",
      "metadata": {
        "id": "_FV6XlFGaZGY"
      },
      "source": [
        ""
      ]
    },
    {
      "cell_type": "markdown",
      "metadata": {
        "id": "7Tw3dqFNQry0"
      },
      "source": [
        "문제125. 위에서 추출한 샘플 10개에서 앞면이 몇 번 나오는지 출력하시오 !"
      ]
    },
    {
      "cell_type": "code",
      "metadata": {
        "colab": {
          "base_uri": "https://localhost:8080/"
        },
        "id": "jcEoPgIvQu6m",
        "outputId": "08d136c1-3bb9-43cb-9d7d-fb89b9bca7b1"
      },
      "source": [
        "import numpy as np\n",
        "\n",
        "coin = ['앞면', '뒷면']\n",
        "coin_10000 = coin * 10000\n",
        "result = np.random.choice(coin_10000, 10)\n",
        "cnt = 0\n",
        "\n",
        "for i in result:\n",
        "  if i == '앞면':\n",
        "    cnt += 1\n",
        "\n",
        "print(cnt)"
      ],
      "execution_count": null,
      "outputs": [
        {
          "output_type": "stream",
          "text": [
            "6\n"
          ],
          "name": "stdout"
        }
      ]
    },
    {
      "cell_type": "markdown",
      "metadata": {
        "id": "jt7Pxsksaao7"
      },
      "source": [
        ""
      ]
    },
    {
      "cell_type": "markdown",
      "metadata": {
        "id": "INSW7ezRaai-"
      },
      "source": [
        ""
      ]
    },
    {
      "cell_type": "markdown",
      "metadata": {
        "id": "PD2oZyXDRARv"
      },
      "source": [
        "**■ 37. 튜플 이해하기(( ))**\n",
        "\n",
        "튜플은 리스트와 비슷한 성질을 가지고 있는 자료형이지만 \n",
        "요소의 값을 변경할 수 없다는 특징이 있습니다.  \n",
        "리스트는 대괄호로 [ ] 로 요소들을 감쌌는데 튜플은 소괄호 ( ) 로 요소를 감쌉니다.  \n",
        "튜플은 데이터가 변경이 안되므로 튜플로 만든 데이터에 대한 신뢰도가 높아집니다.\n",
        "\n",
        "예제1: 리스트에서 특정 요소를 변경하는 방법\n",
        "\n",
        "    "
      ]
    },
    {
      "cell_type": "code",
      "metadata": {
        "colab": {
          "base_uri": "https://localhost:8080/"
        },
        "id": "LecIPJAdd4Xs",
        "outputId": "a89d7cf8-8818-4d89-f404-eefa24d23525"
      },
      "source": [
        "a = [ 1, 2, 3, 4, 5 ]\r\n",
        "print( type(a) ) \r\n",
        "print( a[0] ) \r\n",
        "a[0] = 7               # a 리스트의 0번째 요소를 7로 변경한다.\r\n",
        "print(a)               # a 리스트의 0번째 요소가 7로 변경이 되었습니다."
      ],
      "execution_count": 3,
      "outputs": [
        {
          "output_type": "stream",
          "text": [
            "<class 'list'>\n",
            "1\n",
            "[7, 2, 3, 4, 5]\n"
          ],
          "name": "stdout"
        }
      ]
    },
    {
      "cell_type": "markdown",
      "metadata": {
        "id": "ooqvpUftaeXq"
      },
      "source": [
        ""
      ]
    },
    {
      "cell_type": "markdown",
      "metadata": {
        "id": "Wevkpid5aeSr"
      },
      "source": [
        ""
      ]
    },
    {
      "cell_type": "markdown",
      "metadata": {
        "id": "uk0joitJWM7b"
      },
      "source": [
        "문제126. a 리스트에 인덱스 번호 3번째 요소를 17로 변경하시오 !  \n",
        "\n",
        "    a = [ 1, 2, 3, 4, 5 ]"
      ]
    },
    {
      "cell_type": "code",
      "metadata": {
        "colab": {
          "base_uri": "https://localhost:8080/"
        },
        "id": "l5Tk29F0zspL",
        "outputId": "615d0086-403d-4ac6-b14b-ca1666095617"
      },
      "source": [
        "a = [ 1, 2, 3, 4, 5 ]\n",
        "a[3] = 17\n",
        "print(a)"
      ],
      "execution_count": null,
      "outputs": [
        {
          "output_type": "stream",
          "text": [
            "[1, 2, 3, 17, 5]\n"
          ],
          "name": "stdout"
        }
      ]
    },
    {
      "cell_type": "markdown",
      "metadata": {
        "id": "grV_5XoBaf-f"
      },
      "source": [
        ""
      ]
    },
    {
      "cell_type": "markdown",
      "metadata": {
        "id": "55OElY7tafo9"
      },
      "source": [
        ""
      ]
    },
    {
      "cell_type": "markdown",
      "metadata": {
        "id": "qrKsnWJPz_kz"
      },
      "source": [
        "예제2: 튜플은 데이터를 변경할 수 없습니다.\n",
        "\n"
      ]
    },
    {
      "cell_type": "code",
      "metadata": {
        "colab": {
          "base_uri": "https://localhost:8080/",
          "height": 220
        },
        "id": "rHC14b88eGPH",
        "outputId": "05f94a4e-c7d7-4c98-801c-977ad7dd146f"
      },
      "source": [
        "b = ( 1, 2, 3, 4, 5 )\r\n",
        "print( b[0] )\r\n",
        "b[0] = 7        # 에러가 나면서 실행되지 않습니다."
      ],
      "execution_count": 4,
      "outputs": [
        {
          "output_type": "stream",
          "text": [
            "1\n"
          ],
          "name": "stdout"
        },
        {
          "output_type": "error",
          "ename": "TypeError",
          "evalue": "ignored",
          "traceback": [
            "\u001b[0;31m---------------------------------------------------------------------------\u001b[0m",
            "\u001b[0;31mTypeError\u001b[0m                                 Traceback (most recent call last)",
            "\u001b[0;32m<ipython-input-4-4b6636e96a14>\u001b[0m in \u001b[0;36m<module>\u001b[0;34m()\u001b[0m\n\u001b[1;32m      1\u001b[0m \u001b[0mb\u001b[0m \u001b[0;34m=\u001b[0m \u001b[0;34m(\u001b[0m \u001b[0;36m1\u001b[0m\u001b[0;34m,\u001b[0m \u001b[0;36m2\u001b[0m\u001b[0;34m,\u001b[0m \u001b[0;36m3\u001b[0m\u001b[0;34m,\u001b[0m \u001b[0;36m4\u001b[0m\u001b[0;34m,\u001b[0m \u001b[0;36m5\u001b[0m \u001b[0;34m)\u001b[0m\u001b[0;34m\u001b[0m\u001b[0;34m\u001b[0m\u001b[0m\n\u001b[1;32m      2\u001b[0m \u001b[0mprint\u001b[0m\u001b[0;34m(\u001b[0m \u001b[0mb\u001b[0m\u001b[0;34m[\u001b[0m\u001b[0;36m0\u001b[0m\u001b[0;34m]\u001b[0m \u001b[0;34m)\u001b[0m\u001b[0;34m\u001b[0m\u001b[0;34m\u001b[0m\u001b[0m\n\u001b[0;32m----> 3\u001b[0;31m \u001b[0mb\u001b[0m\u001b[0;34m[\u001b[0m\u001b[0;36m0\u001b[0m\u001b[0;34m]\u001b[0m \u001b[0;34m=\u001b[0m \u001b[0;36m7\u001b[0m        \u001b[0;31m# 에러가 나면서 실행되지 않습니다.\u001b[0m\u001b[0;34m\u001b[0m\u001b[0;34m\u001b[0m\u001b[0m\n\u001b[0m",
            "\u001b[0;31mTypeError\u001b[0m: 'tuple' object does not support item assignment"
          ]
        }
      ]
    },
    {
      "cell_type": "markdown",
      "metadata": {
        "id": "f3N4kFLseOtB"
      },
      "source": [
        "설명: 회사에서 변경이 되어서는 안되는 데이터는 프로그래밍 할 때 튜플로 만들어서 관리하면 됩니다.\r\n",
        "\r\n",
        "신세계 백화점, 이마트에서 사용하는 포인트 적립 카드에서 포인트 적립시 구매금액의 0.01%로 적립을 해준다고 하면  \r\n",
        "이 0.01 은 절대로 프로그램에서 변경이 되어서는 안되는 데이터 이므로\r\n",
        "튜플로 관리해야합니다."
      ]
    },
    {
      "cell_type": "markdown",
      "metadata": {
        "id": "stqVtIxkagz9"
      },
      "source": [
        ""
      ]
    },
    {
      "cell_type": "markdown",
      "metadata": {
        "id": "79JbseRuaggX"
      },
      "source": [
        ""
      ]
    },
    {
      "cell_type": "markdown",
      "metadata": {
        "id": "1XljCH4D0JZn"
      },
      "source": [
        "문제127. 아래의 숫자 데이터들을 튜플로 생성하시오! 튜플 변수 이름은 point 라고 하세요!\r\n",
        "\r\n",
        "    0.01, 0.02, 0.03, 0.04, 0.05"
      ]
    },
    {
      "cell_type": "code",
      "metadata": {
        "colab": {
          "base_uri": "https://localhost:8080/"
        },
        "id": "lFTj-s3F0R80",
        "outputId": "e5435982-d9b2-4116-ff83-49ceda5a5504"
      },
      "source": [
        "point = (0.01, 0.02, 0.03, 0.04, 0.05)\n",
        "print(type(point))"
      ],
      "execution_count": null,
      "outputs": [
        {
          "output_type": "stream",
          "text": [
            "<class 'tuple'>\n"
          ],
          "name": "stdout"
        }
      ]
    },
    {
      "cell_type": "markdown",
      "metadata": {
        "id": "e4uH5k8_ahh9"
      },
      "source": [
        ""
      ]
    },
    {
      "cell_type": "markdown",
      "metadata": {
        "id": "5GSnChsbahPf"
      },
      "source": [
        ""
      ]
    },
    {
      "cell_type": "markdown",
      "metadata": {
        "id": "R2Mj3OjB0W2z"
      },
      "source": [
        "문제128. 위의 튜플 point 의 요소중 0.03 만 뽑아서 출력하시오 !"
      ]
    },
    {
      "cell_type": "code",
      "metadata": {
        "colab": {
          "base_uri": "https://localhost:8080/"
        },
        "id": "QL2ou6Jq0Ya7",
        "outputId": "116fba42-92d0-4a30-b1e8-6cb000e24ca6"
      },
      "source": [
        "point = (0.01, 0.02, 0.03, 0.04, 0.05)\n",
        "print( point[2] )"
      ],
      "execution_count": null,
      "outputs": [
        {
          "output_type": "stream",
          "text": [
            "0.03\n"
          ],
          "name": "stdout"
        }
      ]
    },
    {
      "cell_type": "markdown",
      "metadata": {
        "id": "fP0f-0z3aiSB"
      },
      "source": [
        ""
      ]
    },
    {
      "cell_type": "markdown",
      "metadata": {
        "id": "6nFBS6UXah9w"
      },
      "source": [
        ""
      ]
    },
    {
      "cell_type": "markdown",
      "metadata": {
        "id": "XUwXF0vz0dbH"
      },
      "source": [
        "문제129. 위의 튜플의 모든 요소를 다 출력하시오 !\n"
      ]
    },
    {
      "cell_type": "code",
      "metadata": {
        "colab": {
          "base_uri": "https://localhost:8080/"
        },
        "id": "UHCzaozO0e7r",
        "outputId": "47a50875-eea6-468b-85e9-3a8b637c3ff0"
      },
      "source": [
        "point = ( 0.01, 0.02, 0.03, 0.04, 0.05 )\n",
        "\n",
        "for i in point:\n",
        "    print(i)"
      ],
      "execution_count": null,
      "outputs": [
        {
          "output_type": "stream",
          "text": [
            "0.01\n",
            "0.02\n",
            "0.03\n",
            "0.04\n",
            "0.05\n"
          ],
          "name": "stdout"
        }
      ]
    },
    {
      "cell_type": "markdown",
      "metadata": {
        "id": "eJGV9ybuajSe"
      },
      "source": [
        ""
      ]
    },
    {
      "cell_type": "markdown",
      "metadata": {
        "id": "iCUFWYq_ajAP"
      },
      "source": [
        ""
      ]
    },
    {
      "cell_type": "markdown",
      "metadata": {
        "id": "gZIJ0Y0N0gzq"
      },
      "source": [
        "**■ 38. 딕셔너리(사전) 이해하기({ })**\n",
        "\n",
        "사전은 키와 값을 하나의 요소로 하는 순서가 없는 집합입니다.  \n",
        "그러므로 사전은 시퀀스 자료형이 아니며 인덱싱으로 값을 접근 할 수도 없습니다.  \n",
        "사전은 '키:값' 쌍이 하나의 요소입니다.\n",
        "\n",
        "예:  \n"
      ]
    },
    {
      "cell_type": "code",
      "metadata": {
        "colab": {
          "base_uri": "https://localhost:8080/"
        },
        "id": "NMTJw0zdeocD",
        "outputId": "41c6d1ce-e9d6-4ff1-9fd1-2885f8a965a0"
      },
      "source": [
        "a = { 'apple' : '사과', 'banana' : '바나나', 'peach' : '복숭아', 'pear' : ' 배' }\r\n",
        "print(a)\r\n",
        "print( type(a) )     \r\n",
        "print( a.keys() )     # 키 값들만 출력\r\n",
        "print( a.values() )   # 값들만 출력\r\n",
        "a['grape'] = '포도'\r\n",
        "print(a)           "
      ],
      "execution_count": 5,
      "outputs": [
        {
          "output_type": "stream",
          "text": [
            "{'apple': '사과', 'banana': '바나나', 'peach': '복숭아', 'pear': ' 배'}\n",
            "<class 'dict'>\n",
            "dict_keys(['apple', 'banana', 'peach', 'pear'])\n",
            "dict_values(['사과', '바나나', '복숭아', ' 배'])\n",
            "{'apple': '사과', 'banana': '바나나', 'peach': '복숭아', 'pear': ' 배', 'grape': '포도'}\n"
          ],
          "name": "stdout"
        }
      ]
    },
    {
      "cell_type": "markdown",
      "metadata": {
        "id": "UeO9zTWQeoUV"
      },
      "source": [
        ""
      ]
    },
    {
      "cell_type": "markdown",
      "metadata": {
        "id": "gqDPlls3enas"
      },
      "source": [
        ""
      ]
    },
    {
      "cell_type": "markdown",
      "metadata": {
        "id": "_b9Sf2usexgj"
      },
      "source": [
        "예제:"
      ]
    },
    {
      "cell_type": "code",
      "metadata": {
        "colab": {
          "base_uri": "https://localhost:8080/"
        },
        "id": "VoFsZN6penAP",
        "outputId": "58f645ec-c82b-4e0d-f91d-ee83f346f66b"
      },
      "source": [
        "b = {}                    # 비어있는 딕셔너리를 생성한다.\r\n",
        "b['apple'] = '사과'     # b[ 키 ] = 값\r\n",
        "b['pear'] = '배'\r\n",
        "b['grape'] = '포도'\r\n",
        "print(b)"
      ],
      "execution_count": 6,
      "outputs": [
        {
          "output_type": "stream",
          "text": [
            "{'apple': '사과', 'pear': '배', 'grape': '포도'}\n"
          ],
          "name": "stdout"
        }
      ]
    },
    {
      "cell_type": "markdown",
      "metadata": {
        "id": "3nss2YEOamOV"
      },
      "source": [
        ""
      ]
    },
    {
      "cell_type": "markdown",
      "metadata": {
        "id": "dbaNDvxqamEn"
      },
      "source": [
        ""
      ]
    },
    {
      "cell_type": "markdown",
      "metadata": {
        "id": "B0cIwTQN0658"
      },
      "source": [
        "문제130. 아래의 두개의 리스트를 각각 만들고 아래와 같이 fruit 라는 딕셔너리를 생성하시오 !  \n",
        "\n",
        "    a = [ '사과', '배', '포도', '복숭아', '바나나' ]  \n",
        "    b = [ 'apple', 'pear', 'grape', 'peach', 'banana' ] "
      ]
    },
    {
      "cell_type": "code",
      "metadata": {
        "colab": {
          "base_uri": "https://localhost:8080/"
        },
        "id": "AAEBTIAh1RhC",
        "outputId": "4584e232-bd1d-4e7e-9d57-e7802858d9e8"
      },
      "source": [
        "a = [ '사과', '배', '포도', '복숭아', '바나나' ]\n",
        "b = [ 'apple', 'pear', 'grape', 'peach', 'banana' ]\n",
        "\n",
        "fruit = {}\n",
        "for i, k in zip(a, b):\n",
        "  fruit[i] = k\n",
        "\n",
        "print(fruit)"
      ],
      "execution_count": null,
      "outputs": [
        {
          "output_type": "stream",
          "text": [
            "{'사과': 'apple', '배': 'pear', '포도': 'grape', '복숭아': 'peach', '바나나': 'banana'}\n"
          ],
          "name": "stdout"
        }
      ]
    },
    {
      "cell_type": "markdown",
      "metadata": {
        "id": "EWfa3HHG1bU0"
      },
      "source": [
        "(딕셔너리에 값 추가할때 이 코드가 많이 쓰이므로 잘 알고 있어야 함.)"
      ]
    },
    {
      "cell_type": "markdown",
      "metadata": {
        "id": "ohKi6BWQanAJ"
      },
      "source": [
        ""
      ]
    },
    {
      "cell_type": "markdown",
      "metadata": {
        "id": "MBe3-OjKam2d"
      },
      "source": [
        ""
      ]
    },
    {
      "cell_type": "markdown",
      "metadata": {
        "id": "QXWM1BHE1cbv"
      },
      "source": [
        "**■ 39. 함수 이해하기(def)**\n",
        "\n",
        "오라클 배울때 함수를 다음과 같이 사용했었습니다.\n",
        "\n",
        "    select max(sal)  \n",
        "       from emp;\n",
        "\n",
        "    select substr('smith', 1, 3)\n",
        "       from dual;\n",
        "\n",
        "오라클 배울때는 오라클 개발자가 만들어준 함수를 사용했지만\n",
        "파이썬 배울때는 우리가 직접 함수를 생성합니다.  \n",
        "파이썬에도 파이썬 개발자가 미리 만들어 놓은 함수들이 있습니다.  \n",
        "파이썬이 무료이고 전세계인들이 사용하는 프로그램이다 보니\n",
        "각국의 뛰어난 개발자들이 파이썬 함수를 직접 만들어서 공유를 해줍니다.  \n",
        "우리는 그냥 import 명령어로 불러와서 그 개발자가 만든 함수를 사용할 수 있습니다.\n",
        "\n",
        "    오라클 함수\t파이썬 함수\n",
        "      upper\t     upper()\n",
        "      lower     \tlower()\n",
        "      initcap   \t만들어 써야함\n",
        "      substr\t    만들어 써야함\n",
        "      replace\t   replace()\n",
        "      length\t    len()\n",
        "      rtrim\t     rstrip()\n",
        "      ltrim\t     lstrip()\n",
        "      rpad      \t만들어 써야함\n",
        "      lpad      \t만들어 써야함\n",
        "      instr     \t만들어 써야함\n",
        "      round\t     round()\n",
        "      trunc\t     trunc()\n",
        "      mod\t         %\n",
        "      power\t      pow\n",
        "      to_char\t    str\n",
        "      to_number\t int, float\n",
        "      to_date\t   datetime.strptime()\n",
        "      nvl\t       만들어 써야함\n",
        "      decode\t    if 문\n",
        "      case\t      if 문\n",
        "\n",
        "예제. 아래의 SQL을 파이썬으로 구현하시오 !\n",
        "\n",
        "    select lower(ename)\n",
        "       from emp;\n",
        "\n",
        "\n",
        "답:"
      ]
    },
    {
      "cell_type": "code",
      "metadata": {
        "colab": {
          "base_uri": "https://localhost:8080/"
        },
        "id": "YVq-a-aI26a8",
        "outputId": "9abe6d53-986e-4b9c-b191-a3a5484f31a2"
      },
      "source": [
        "import pandas as pd\n",
        "from google.colab import drive\n",
        "drive.mount('/content/drive')\n",
        "emp = pd.read_csv('/content/drive/MyDrive/data/emp3.csv')\n",
        "\n",
        "for i in emp['ename']:\n",
        "   print(i.lower())          # i.lower() : 소문자로 출력"
      ],
      "execution_count": null,
      "outputs": [
        {
          "output_type": "stream",
          "text": [
            "Drive already mounted at /content/drive; to attempt to forcibly remount, call drive.mount(\"/content/drive\", force_remount=True).\n",
            "king\n",
            "blake\n",
            "clark\n",
            "jones\n",
            "martin\n",
            "allen\n",
            "turner\n",
            "james\n",
            "ward\n",
            "ford\n",
            "smith\n",
            "scott\n",
            "adams\n",
            "miller\n"
          ],
          "name": "stdout"
        }
      ]
    },
    {
      "cell_type": "markdown",
      "metadata": {
        "id": "TLIgA-Kyaqnp"
      },
      "source": [
        ""
      ]
    },
    {
      "cell_type": "markdown",
      "metadata": {
        "id": "55vx_Y_gaqh9"
      },
      "source": [
        ""
      ]
    },
    {
      "cell_type": "markdown",
      "metadata": {
        "id": "450s4gP03d8o"
      },
      "source": [
        "문제131. 아래의 SQL을 파이썬으로 구현하시오 !\n",
        "\n",
        "    select lower(ename), lower(job)\n",
        "       from emp;\n"
      ]
    },
    {
      "cell_type": "code",
      "metadata": {
        "colab": {
          "base_uri": "https://localhost:8080/"
        },
        "id": "Ern4KYS03krV",
        "outputId": "19b48168-cc8b-43cc-fc64-a8bd4c40ab24"
      },
      "source": [
        "import pandas as pd\n",
        "from google.colab import drive\n",
        "drive.mount('/content/drive')\n",
        "emp = pd.read_csv('/content/drive/MyDrive/data/emp3.csv')\n",
        "\n",
        "for i, k in zip(emp['ename'], emp['job']):\n",
        "   print(i.lower(), k.lower())          # i.lower() : 소문자로 출력"
      ],
      "execution_count": null,
      "outputs": [
        {
          "output_type": "stream",
          "text": [
            "Drive already mounted at /content/drive; to attempt to forcibly remount, call drive.mount(\"/content/drive\", force_remount=True).\n",
            "king president\n",
            "blake manager\n",
            "clark manager\n",
            "jones manager\n",
            "martin salesman\n",
            "allen salesman\n",
            "turner salesman\n",
            "james clerk\n",
            "ward salesman\n",
            "ford analyst\n",
            "smith clerk\n",
            "scott analyst\n",
            "adams clerk\n",
            "miller clerk\n"
          ],
          "name": "stdout"
        }
      ]
    },
    {
      "cell_type": "markdown",
      "metadata": {
        "id": "Gi2OED4Parue"
      },
      "source": [
        ""
      ]
    },
    {
      "cell_type": "markdown",
      "metadata": {
        "id": "xRl0ar5yarnt"
      },
      "source": [
        ""
      ]
    },
    {
      "cell_type": "markdown",
      "metadata": {
        "id": "9ohoWrdt3xaH"
      },
      "source": [
        "** 함수를 생성하는 방법 \n",
        "\n",
        "    def  함수이름(매개변수1):\n",
        "        실행문\n",
        "        return  출력값이 있는 변수명\n",
        "\n",
        "** 콜론(:) 으로 끝을 맺는 경우 4가지\n",
        "\n",
        " 1. if 문 종료시  \n",
        "\n",
        "        예: \n",
        "        if 조건:\n",
        "\n",
        " 2. for 문 종료시\n",
        "        예:\n",
        "        for i in range(1, 11):\n",
        "\n",
        " 3. 함수 생성시\n",
        "        예:\n",
        "        def 함수이름(입력 매개변수):\n",
        "\n",
        " 4. 클래스 생성시\n",
        "        예:\n",
        "        class 클래스이름:\n",
        "\n",
        "예제:  \n",
        "** 두개의 입력값을 받아서 더하는 함수를 생성"
      ]
    },
    {
      "cell_type": "code",
      "metadata": {
        "id": "FtxZaZ9F3xNv"
      },
      "source": [
        "def add_number( n1, n2 ):\n",
        "    result = n1 + n2       # n1 에 입력된 값과 n2 에 입력된 값을 더해서 result 에 입력한다.\n",
        "    return result          # result 에 입력된 값을 출력한다."
      ],
      "execution_count": null,
      "outputs": []
    },
    {
      "cell_type": "markdown",
      "metadata": {
        "id": "OOsw5XpM4OJD"
      },
      "source": [
        "설명: 위와 같이 만들고 컴퓨터를 껐다가 켠다음 다시 아래와 같이 함수를 실행만 하게 되면 실행되지 않는다. 다시 add_number 함수를 생성하고 실행해야 합니다"
      ]
    },
    {
      "cell_type": "markdown",
      "metadata": {
        "id": "TYvl1DiPas4V"
      },
      "source": [
        ""
      ]
    },
    {
      "cell_type": "markdown",
      "metadata": {
        "id": "zK_DsuNPastt"
      },
      "source": [
        ""
      ]
    },
    {
      "cell_type": "markdown",
      "metadata": {
        "id": "PQxfr25X4YN8"
      },
      "source": [
        "** 위에서 만든 함수를 실행하는 방법"
      ]
    },
    {
      "cell_type": "code",
      "metadata": {
        "colab": {
          "base_uri": "https://localhost:8080/"
        },
        "id": "UYWpgkpk4aB9",
        "outputId": "5d4f4a23-6b5d-486d-b786-e7b3ed4cc83a"
      },
      "source": [
        "print( add_number( 1, 2 ) )"
      ],
      "execution_count": null,
      "outputs": [
        {
          "output_type": "stream",
          "text": [
            "3\n"
          ],
          "name": "stdout"
        }
      ]
    },
    {
      "cell_type": "markdown",
      "metadata": {
        "id": "QgnW-vMdauGL"
      },
      "source": [
        ""
      ]
    },
    {
      "cell_type": "markdown",
      "metadata": {
        "id": "dH6K0WJqauAl"
      },
      "source": [
        ""
      ]
    },
    {
      "cell_type": "markdown",
      "metadata": {
        "id": "MjvfiEUh4cfH"
      },
      "source": [
        "문제132. for loop 문을 사용하여 1부터 10까지 출력하시오!"
      ]
    },
    {
      "cell_type": "code",
      "metadata": {
        "colab": {
          "base_uri": "https://localhost:8080/"
        },
        "id": "IbSRK-CQ4d2e",
        "outputId": "a863da83-f52b-4a89-afd5-d8daa1391747"
      },
      "source": [
        "for i in range(1, 11):\n",
        "  print(i)"
      ],
      "execution_count": null,
      "outputs": [
        {
          "output_type": "stream",
          "text": [
            "1\n",
            "2\n",
            "3\n",
            "4\n",
            "5\n",
            "6\n",
            "7\n",
            "8\n",
            "9\n",
            "10\n"
          ],
          "name": "stdout"
        }
      ]
    },
    {
      "cell_type": "markdown",
      "metadata": {
        "id": "7MIxSMlSauu0"
      },
      "source": [
        ""
      ]
    },
    {
      "cell_type": "markdown",
      "metadata": {
        "id": "ychOw5Y4auom"
      },
      "source": [
        ""
      ]
    },
    {
      "cell_type": "markdown",
      "metadata": {
        "id": "96ZRykU94hVW"
      },
      "source": [
        "문제133. 1부터 10까지 다 더한 값을 출력하시오!"
      ]
    },
    {
      "cell_type": "code",
      "metadata": {
        "colab": {
          "base_uri": "https://localhost:8080/"
        },
        "id": "7yf2aXM14ibX",
        "outputId": "8c6d1de7-42ef-4647-fe13-e477e97cc5d8"
      },
      "source": [
        "cnt = 0\n",
        "\n",
        "for i in range(1, 11):\n",
        "  cnt += i\n",
        "\n",
        "print(cnt)"
      ],
      "execution_count": null,
      "outputs": [
        {
          "output_type": "stream",
          "text": [
            "55\n"
          ],
          "name": "stdout"
        }
      ]
    },
    {
      "cell_type": "markdown",
      "metadata": {
        "id": "jzpfkfHXavX_"
      },
      "source": [
        ""
      ]
    },
    {
      "cell_type": "markdown",
      "metadata": {
        "id": "8Wrykff4avTF"
      },
      "source": [
        ""
      ]
    },
    {
      "cell_type": "markdown",
      "metadata": {
        "id": "1hJSfLEO4m7i"
      },
      "source": [
        "문제134. 위의 코드를 이용해서 함수를 생성하는데 이래와 같이 숫자를 입력하고 함수를 실행하면 해당 숫자까지 1부터 다 더한 값이 출력되게 하시오!  \n",
        "\n",
        "    print( all_add(10) )\n",
        "    55"
      ]
    },
    {
      "cell_type": "code",
      "metadata": {
        "colab": {
          "base_uri": "https://localhost:8080/"
        },
        "id": "39-fUAKq4qRP",
        "outputId": "aeda41f1-e312-4792-a226-b6501eb49ea2"
      },
      "source": [
        "def all_add(num):\n",
        "  cnt = 0\n",
        "  for i in range(1, num+1):\n",
        "    cnt += i\n",
        "  return cnt     # 함수 생성시 return 절은 필수입니다.\n",
        "\n",
        "print(all_add(10))"
      ],
      "execution_count": null,
      "outputs": [
        {
          "output_type": "stream",
          "text": [
            "55\n"
          ],
          "name": "stdout"
        }
      ]
    },
    {
      "cell_type": "markdown",
      "metadata": {
        "id": "BXex7t55ayJ7"
      },
      "source": [
        ""
      ]
    },
    {
      "cell_type": "markdown",
      "metadata": {
        "id": "IZYuAf5AayDF"
      },
      "source": [
        ""
      ]
    },
    {
      "cell_type": "markdown",
      "metadata": {
        "id": "AwwG-3vQ47cY"
      },
      "source": [
        "문제135. 다음의 문자열 변수를 생성하고 문자열 변수의 문자를 소문자로 출력하시오 !  \n",
        "\n",
        "    a = 'SCOTT'"
      ]
    },
    {
      "cell_type": "code",
      "metadata": {
        "colab": {
          "base_uri": "https://localhost:8080/"
        },
        "id": "Vebz9xLi48uX",
        "outputId": "fc15a69e-97f4-427d-aaa4-67b27f4ff194"
      },
      "source": [
        "a = 'SCOTT'\n",
        "\n",
        "print( a.lower() )"
      ],
      "execution_count": null,
      "outputs": [
        {
          "output_type": "stream",
          "text": [
            "scott\n"
          ],
          "name": "stdout"
        }
      ]
    },
    {
      "cell_type": "markdown",
      "metadata": {
        "id": "84g8fBASa3FU"
      },
      "source": [
        ""
      ]
    },
    {
      "cell_type": "markdown",
      "metadata": {
        "id": "AufMcj4Ha3Af"
      },
      "source": [
        ""
      ]
    },
    {
      "cell_type": "markdown",
      "metadata": {
        "id": "iXWs0Zm55C1H"
      },
      "source": [
        "문제136. 아래의 문자열을 대문자로 출력하시오!  \n",
        "\n",
        "    a = 'scott'"
      ]
    },
    {
      "cell_type": "code",
      "metadata": {
        "colab": {
          "base_uri": "https://localhost:8080/"
        },
        "id": "GE8-vudl5GZx",
        "outputId": "d103d846-a574-44bf-e401-26f5d00b0e7d"
      },
      "source": [
        "a = 'scott'\n",
        "\n",
        "print( a.upper() )"
      ],
      "execution_count": null,
      "outputs": [
        {
          "output_type": "stream",
          "text": [
            "SCOTT\n"
          ],
          "name": "stdout"
        }
      ]
    },
    {
      "cell_type": "markdown",
      "metadata": {
        "id": "FK5-RBVRbBgn"
      },
      "source": [
        ""
      ]
    },
    {
      "cell_type": "markdown",
      "metadata": {
        "id": "Gb9IgSRZbBXo"
      },
      "source": [
        ""
      ]
    },
    {
      "cell_type": "markdown",
      "metadata": {
        "id": "bMa4sItp5JsC"
      },
      "source": [
        "문제137. 아래의 문자열에서 첫번째 철자만 출력하시오 !  \n",
        "\n",
        "    a = 'scott'"
      ]
    },
    {
      "cell_type": "code",
      "metadata": {
        "colab": {
          "base_uri": "https://localhost:8080/"
        },
        "id": "P6dgxsTc5Nfy",
        "outputId": "2ac5eab8-b70f-401e-a097-e6b9df8eca88"
      },
      "source": [
        "a = 'scott'\n",
        "\n",
        "print( a[0] )"
      ],
      "execution_count": null,
      "outputs": [
        {
          "output_type": "stream",
          "text": [
            "s\n"
          ],
          "name": "stdout"
        }
      ]
    },
    {
      "cell_type": "markdown",
      "metadata": {
        "id": "GPNXUY6KbDY8"
      },
      "source": [
        ""
      ]
    },
    {
      "cell_type": "markdown",
      "metadata": {
        "id": "PzZ9f9VfbDOF"
      },
      "source": [
        ""
      ]
    },
    {
      "cell_type": "markdown",
      "metadata": {
        "id": "K0OWhOvB5PvR"
      },
      "source": [
        "문제138. 위에 출력한 첫번째 철자를 대문자로 출력하시오!"
      ]
    },
    {
      "cell_type": "code",
      "metadata": {
        "colab": {
          "base_uri": "https://localhost:8080/"
        },
        "id": "O4_JwYGe5RWu",
        "outputId": "f4a2d6e5-6e3d-403c-a58a-d7c91b4d5162"
      },
      "source": [
        "a = 'scott'\n",
        "\n",
        "print( a[0].upper() )"
      ],
      "execution_count": null,
      "outputs": [
        {
          "output_type": "stream",
          "text": [
            "S\n"
          ],
          "name": "stdout"
        }
      ]
    },
    {
      "cell_type": "markdown",
      "metadata": {
        "id": "f7UXuvBKbEgC"
      },
      "source": [
        ""
      ]
    },
    {
      "cell_type": "markdown",
      "metadata": {
        "id": "k98YuIk7bEVj"
      },
      "source": [
        ""
      ]
    },
    {
      "cell_type": "markdown",
      "metadata": {
        "id": "WrtCWmT95Uuu"
      },
      "source": [
        "문제139. 아래의 문자열 변수에서 cott 만 출력하시오\n",
        "\t\t(두번째 철자부터 끝까지 출력하시오 )"
      ]
    },
    {
      "cell_type": "code",
      "metadata": {
        "colab": {
          "base_uri": "https://localhost:8080/"
        },
        "id": "lcvc3sQQ5XHH",
        "outputId": "2b163253-05fd-4b0e-cb62-581c8ccd301c"
      },
      "source": [
        "a = 'scott'\n",
        "\n",
        "print( a[1:] )"
      ],
      "execution_count": null,
      "outputs": [
        {
          "output_type": "stream",
          "text": [
            "cott\n"
          ],
          "name": "stdout"
        }
      ]
    },
    {
      "cell_type": "markdown",
      "metadata": {
        "id": "PgtQNpxIbFuS"
      },
      "source": [
        ""
      ]
    },
    {
      "cell_type": "markdown",
      "metadata": {
        "id": "Lx9rBiM7bFlP"
      },
      "source": [
        ""
      ]
    },
    {
      "cell_type": "markdown",
      "metadata": {
        "id": "-Sc1Ojn55bmC"
      },
      "source": [
        "문제140. 아래의 함수를 생성하시오! (첫번재 철자 대문자 나머지 소문자로 출력되게 하는 함수)  \n",
        "\n",
        "    print( initcap('scott') )\n",
        "\n",
        "    결과: Scott"
      ]
    },
    {
      "cell_type": "code",
      "metadata": {
        "colab": {
          "base_uri": "https://localhost:8080/"
        },
        "id": "YpDtBkeG5exo",
        "outputId": "7063a0a9-686a-4989-96a1-d02acb32bf6d"
      },
      "source": [
        "def initcap(val):\n",
        "  return val[0].upper() + val[1:]\n",
        "\n",
        "print( initcap('scott') )"
      ],
      "execution_count": null,
      "outputs": [
        {
          "output_type": "stream",
          "text": [
            "Scott\n"
          ],
          "name": "stdout"
        }
      ]
    },
    {
      "cell_type": "markdown",
      "metadata": {
        "id": "3OX_8-hCbKIX"
      },
      "source": [
        ""
      ]
    },
    {
      "cell_type": "markdown",
      "metadata": {
        "id": "PnpxbIkEbJyS"
      },
      "source": [
        ""
      ]
    },
    {
      "cell_type": "markdown",
      "metadata": {
        "id": "GD0stUAx5rcm"
      },
      "source": [
        "**■ 40. 함수 인자 이해하기**\n",
        "\n",
        "인자란 위에서 사용한 입력 매개변수를 말합니다.\n",
        "\n",
        "예제:\n"
      ]
    },
    {
      "cell_type": "code",
      "metadata": {
        "colab": {
          "base_uri": "https://localhost:8080/"
        },
        "id": "lyQzZfEvfbwi",
        "outputId": "4b96abd1-8fbe-43b5-9e5a-58c17bb8d76d"
      },
      "source": [
        "def add_text( t1, t2 ):\r\n",
        "        return t1 + ' ' + t2\r\n",
        "\r\n",
        "print( add_text('파이썬', '자바') )"
      ],
      "execution_count": 7,
      "outputs": [
        {
          "output_type": "stream",
          "text": [
            "파이썬 자바\n"
          ],
          "name": "stdout"
        }
      ]
    },
    {
      "cell_type": "markdown",
      "metadata": {
        "id": "JPn4Iu82feyz"
      },
      "source": [
        ""
      ]
    },
    {
      "cell_type": "markdown",
      "metadata": {
        "id": "bZg1uvxzffoe"
      },
      "source": [
        ""
      ]
    },
    {
      "cell_type": "markdown",
      "metadata": {
        "id": "NmsNSxxyfgLT"
      },
      "source": [
        "** 매개변수에 아무것도 입력하지 않고 실행하면 기본값이 출력되도록 함수를 생성하는 방법"
      ]
    },
    {
      "cell_type": "code",
      "metadata": {
        "colab": {
          "base_uri": "https://localhost:8080/"
        },
        "id": "oenK31whfgq1",
        "outputId": "ce7f079a-3a02-4917-a4e2-20006b1c17c2"
      },
      "source": [
        "def add_text( t1, t2 = '최고' ):\r\n",
        "    return t1 + ' ' + t2\r\n",
        "\r\n",
        "print( add_text('파이썬', '자바') )\r\n",
        "print( add_text('파이썬') )"
      ],
      "execution_count": 8,
      "outputs": [
        {
          "output_type": "stream",
          "text": [
            "파이썬 자바\n",
            "파이썬 최고\n"
          ],
          "name": "stdout"
        }
      ]
    },
    {
      "cell_type": "markdown",
      "metadata": {
        "id": "OMK0_PZgfepq"
      },
      "source": [
        "설명: t2에 값을 아무것도 안넣었더니 기본값으로 지정한 최고가 출력되었습니다."
      ]
    },
    {
      "cell_type": "markdown",
      "metadata": {
        "id": "ePPyYSh5bMhb"
      },
      "source": [
        ""
      ]
    },
    {
      "cell_type": "markdown",
      "metadata": {
        "id": "rJJ39PENbMbL"
      },
      "source": [
        ""
      ]
    },
    {
      "cell_type": "markdown",
      "metadata": {
        "id": "0dakOY1Y5uXu"
      },
      "source": [
        "**■ 41. 지역변수와 전역변수 이해하기(global)**\n",
        "\n",
        "변수는 자신이 생성된 범위(코드블럭) 안에서만 유효합니다.  \n",
        "함수 안에서 만든 변수는 함수 안에서 살아 있다가 함수 코드의 실행이 종료되면 그 생명을 다한다.  \n",
        "이것을 '지역변수' 라고 합니다.\n",
        "\n",
        "예:  \n",
        "\n",
        "    스타벅스내에서의 머그컵\n",
        "\n",
        "이와는 반대로 함수 외부에서 만든 변수는 프로그램이 살아있는 동안에 함께 살아있다가\n",
        "프로그램이 종료되면 같이 소멸됩니다.  \n",
        "이렇게 프로그램 전체를 유효범위로 가지는 변수를 '전역변수' 라고 합니다.\n",
        "\n",
        "예: \n",
        "\n",
        "    텀블러\n",
        "\n",
        "\n",
        "\n"
      ]
    },
    {
      "cell_type": "markdown",
      "metadata": {
        "id": "z7vkTzFobUGP"
      },
      "source": [
        ""
      ]
    },
    {
      "cell_type": "markdown",
      "metadata": {
        "id": "px0FCZs3bUB5"
      },
      "source": [
        ""
      ]
    },
    {
      "cell_type": "markdown",
      "metadata": {
        "id": "uvkls9uBbT8N"
      },
      "source": [
        "예제:"
      ]
    },
    {
      "cell_type": "code",
      "metadata": {
        "id": "RKoEvE5GHo6X",
        "colab": {
          "base_uri": "https://localhost:8080/"
        },
        "outputId": "0b757f92-4587-4371-ac3d-1bc0ca3d70e1"
      },
      "source": [
        "strdata = '전역변수'         # func1 함수 외부에 있는 변수 (텀블러)\n",
        "\n",
        "def func1():\n",
        "    strdata2 = '지역변수'    # func1 함수 내부에 있는 변수: 스타벅스 머그컵\n",
        "    return strdata2\n",
        "\n",
        "print( func1() )"
      ],
      "execution_count": 9,
      "outputs": [
        {
          "output_type": "stream",
          "text": [
            "지역변수\n"
          ],
          "name": "stdout"
        }
      ]
    },
    {
      "cell_type": "markdown",
      "metadata": {
        "id": "cOpifl37Heru"
      },
      "source": [
        "설명: 대부분 많은 코드들이 지역변수를 사용합니다.  \n",
        "\t그러면 '전역변수' 를 사용하는 경우는 언제 입니까?\n",
        "\n",
        "프로그램 전체에서 공통적으로 사용되고 잘 변하지 않는 데이터는 전역변수로 사용합니다.  "
      ]
    },
    {
      "cell_type": "markdown",
      "metadata": {
        "id": "Db1EwMd1bQxW"
      },
      "source": [
        ""
      ]
    },
    {
      "cell_type": "markdown",
      "metadata": {
        "id": "OKQqYRa9bQqY"
      },
      "source": [
        ""
      ]
    },
    {
      "cell_type": "markdown",
      "metadata": {
        "id": "3_r0Zq2zbQjN"
      },
      "source": [
        "예제:"
      ]
    },
    {
      "cell_type": "code",
      "metadata": {
        "colab": {
          "base_uri": "https://localhost:8080/"
        },
        "id": "YTLw2mFTIBu2",
        "outputId": "79f3a479-5e77-43af-b113-ec57da0a95c7"
      },
      "source": [
        "pi = 3.141592653589793\n",
        "\n",
        "def cycle_func1( num1 ):        # 원의 넓이를 구하는 함수\n",
        "    global pi                   # 전역변수 pi 를 함수내부로 가져올 수 있습니다.\n",
        "\t\t\t\t                       \t# global 이라는 키워드를 앞에 쓰면 됩니다.\n",
        "    return pi * num1 * num1\n",
        "\n",
        "def cycle_func2( num1 ):        # 원의 1/4 인 부채꼴의 넓이를 구하는 함수\n",
        "   global pi\n",
        "   return 1/4 * pi * num1 * num1\n",
        "\n",
        "print( cycle_func1(5) )    \n",
        "print( cycle_func2(5) )    "
      ],
      "execution_count": null,
      "outputs": [
        {
          "output_type": "stream",
          "text": [
            "78.53981633974483\n",
            "19.634954084936208\n"
          ],
          "name": "stdout"
        }
      ]
    },
    {
      "cell_type": "markdown",
      "metadata": {
        "id": "ZI65mAjNbWx6"
      },
      "source": [
        ""
      ]
    },
    {
      "cell_type": "markdown",
      "metadata": {
        "id": "MgiCT5yrbWst"
      },
      "source": [
        ""
      ]
    },
    {
      "cell_type": "markdown",
      "metadata": {
        "id": "kOq_6UQmISAN"
      },
      "source": [
        "**■ 42. 함수 리턴값 이해하기(return)**\n",
        "\n",
        "모든 함수는 이름을 갖고 있습니다.  \n",
        "이 이름을 불러주면 파이썬은 그 이름 아래에 정의되어있는 코드를 실행합니다.  \n",
        "이때 함수를 부르는 코드를 호출자라고 합니다.  \n",
        "함수가 호출자에게 결과를 돌려주는것을 반환(return) 이라고 합니다."
      ]
    },
    {
      "cell_type": "code",
      "metadata": {
        "colab": {
          "base_uri": "https://localhost:8080/"
        },
        "id": "LpCkqzXOIaFp",
        "outputId": "0e55be1d-608f-4250-fde4-0a27776459d4"
      },
      "source": [
        "pi = 3.141592653589793\n",
        "\n",
        "def cycle_func1( num1 ):     # 원의 넓이를 구하는 함수\n",
        "    global pi\n",
        "    return pi * num1 * num1\n",
        "\n",
        "print( cycle_func1(5) )      # 함수를 호출하는 호출자 코드 입니다."
      ],
      "execution_count": null,
      "outputs": [
        {
          "output_type": "stream",
          "text": [
            "78.53981633974483\n"
          ],
          "name": "stdout"
        }
      ]
    },
    {
      "cell_type": "markdown",
      "metadata": {
        "id": "wEnEKwoebhKu"
      },
      "source": [
        ""
      ]
    },
    {
      "cell_type": "markdown",
      "metadata": {
        "id": "xFnrrk8_bhFP"
      },
      "source": [
        ""
      ]
    },
    {
      "cell_type": "markdown",
      "metadata": {
        "id": "mmKG79uMIdpe"
      },
      "source": [
        "** 절대값을 출력하는 함수(무조건 양수로 출력하는 함수)"
      ]
    },
    {
      "cell_type": "code",
      "metadata": {
        "colab": {
          "base_uri": "https://localhost:8080/"
        },
        "id": "qWIF3XBTIbdV",
        "outputId": "dc0e6f11-86e6-47f1-84ea-c0fc063ba335"
      },
      "source": [
        "print( abs(-9) ) \n",
        "print( abs(9) ) "
      ],
      "execution_count": 10,
      "outputs": [
        {
          "output_type": "stream",
          "text": [
            "9\n",
            "9\n"
          ],
          "name": "stdout"
        }
      ]
    },
    {
      "cell_type": "markdown",
      "metadata": {
        "id": "Mw9xk80ObhyZ"
      },
      "source": [
        ""
      ]
    },
    {
      "cell_type": "markdown",
      "metadata": {
        "id": "WiufiVPZbhfW"
      },
      "source": [
        ""
      ]
    },
    {
      "cell_type": "markdown",
      "metadata": {
        "id": "rOuoRliCIkvt"
      },
      "source": [
        "문제141. abs 함수를 사용하지 말고 if 문을 이용해서 절대값을 출력하는 my_abs 라는\n",
        "\t\t함수를 생성하시오!"
      ]
    },
    {
      "cell_type": "code",
      "metadata": {
        "colab": {
          "base_uri": "https://localhost:8080/"
        },
        "id": "YP_nOvDlIljF",
        "outputId": "0d0be17a-1c56-47ba-89ba-fb212f5bbedd"
      },
      "source": [
        "def my_abs(num):\n",
        "  if num < 0:\n",
        "    return -num\n",
        "  else:\n",
        "    return num\n",
        "  \n",
        "print(my_abs(-9))\n",
        "print(my_abs(9))"
      ],
      "execution_count": null,
      "outputs": [
        {
          "output_type": "stream",
          "text": [
            "9\n",
            "9\n"
          ],
          "name": "stdout"
        }
      ]
    },
    {
      "cell_type": "markdown",
      "metadata": {
        "id": "BnXMiUZfbim_"
      },
      "source": [
        ""
      ]
    },
    {
      "cell_type": "markdown",
      "metadata": {
        "id": "5JS2p5cEbiiB"
      },
      "source": [
        ""
      ]
    },
    {
      "cell_type": "markdown",
      "metadata": {
        "id": "MqCcxeg8I2C4"
      },
      "source": [
        "**■ 43. 파이썬 모듈 이해하기**\n",
        "\n",
        "파이썬에서는 각각의 소스 파일을 일컬어 모듈이라고 합니다.  \n",
        "이미 만들어져 있고 안정성이 검증된 함수들을 성격에 맞게 하나의 파일로\n",
        "묶어 놓은것을 모듈이라고 합니다.  \n",
        "외부의 모듈에 있는 함수를 사용하려면 이 모듈을 먼저 우리 코드로 가져와서\n",
        "자유롭게 사용할 수 있도록 해야하는 이런일을 파이썬에서는 모듈을 import 한다 라고 합니다.\n",
        "\n",
        "예제:"
      ]
    },
    {
      "cell_type": "code",
      "metadata": {
        "colab": {
          "base_uri": "https://localhost:8080/"
        },
        "id": "76riIuyDI6xC",
        "outputId": "3f9956af-5ed8-475b-97c3-295bc16ed864"
      },
      "source": [
        "import time                          # time 모둘을 import 합니다.\n",
        "\n",
        "print('5초간 프로그램을 정지합니다.')\n",
        "time.sleep(5)                         # 5초간 멈춰있는것입니다.\n",
        "print('5초가 지났습니다.')"
      ],
      "execution_count": 11,
      "outputs": [
        {
          "output_type": "stream",
          "text": [
            "5초간 프로그램을 정지합니다.\n",
            "5초가 지났습니다.\n"
          ],
          "name": "stdout"
        }
      ]
    },
    {
      "cell_type": "markdown",
      "metadata": {
        "id": "0ngFuYtrbkXn"
      },
      "source": [
        ""
      ]
    },
    {
      "cell_type": "markdown",
      "metadata": {
        "id": "1f30F8wqbkSj"
      },
      "source": [
        ""
      ]
    },
    {
      "cell_type": "markdown",
      "metadata": {
        "id": "mcr-EzfrI-2-"
      },
      "source": [
        "예제: 평균이 30이고 표준편차가 5인 가우시안 정규분포를 따르는 모집단을 백만개 구성하는 코드\n"
      ]
    },
    {
      "cell_type": "code",
      "metadata": {
        "colab": {
          "base_uri": "https://localhost:8080/"
        },
        "id": "O0vFPKd8I_Yv",
        "outputId": "6dfdf7ad-df0d-41cc-c611-b3f074177a02"
      },
      "source": [
        "import numpy as np\n",
        "\n",
        "avg = 30\n",
        "std = 5\n",
        "N = 10000000\n",
        "\n",
        "mogip = np.random.randn(N) * std + avg\n",
        "print(len(mogip))"
      ],
      "execution_count": null,
      "outputs": [
        {
          "output_type": "stream",
          "text": [
            "10000000\n"
          ],
          "name": "stdout"
        }
      ]
    },
    {
      "cell_type": "markdown",
      "metadata": {
        "id": "JGX5RngJblcP"
      },
      "source": [
        ""
      ]
    },
    {
      "cell_type": "markdown",
      "metadata": {
        "id": "JQ3CxKCQblCi"
      },
      "source": [
        ""
      ]
    },
    {
      "cell_type": "markdown",
      "metadata": {
        "id": "V2IFSKpHJSng"
      },
      "source": [
        "문제142. 서울시 초등학생 백만명의 키를 모집단으로 구성하는데 평균키가 148.5이고\n",
        "\t\t표준편차가 30인 모집단을 만드시오 !"
      ]
    },
    {
      "cell_type": "code",
      "metadata": {
        "colab": {
          "base_uri": "https://localhost:8080/"
        },
        "id": "Scty6Up3JUuC",
        "outputId": "7b56f343-6556-4b51-bef2-241e3757033f"
      },
      "source": [
        "import numpy as np\n",
        "\n",
        "avg = 148.5\n",
        "std = 30\n",
        "N = 1000000\n",
        "\n",
        "height = np.random.randn(N) * std + avg\n",
        "print(len(height))"
      ],
      "execution_count": null,
      "outputs": [
        {
          "output_type": "stream",
          "text": [
            "1000000\n"
          ],
          "name": "stdout"
        }
      ]
    },
    {
      "cell_type": "markdown",
      "metadata": {
        "id": "HDoQTsbrbmN-"
      },
      "source": [
        ""
      ]
    },
    {
      "cell_type": "markdown",
      "metadata": {
        "id": "MrsBj1sMbl79"
      },
      "source": [
        ""
      ]
    },
    {
      "cell_type": "markdown",
      "metadata": {
        "id": "IxONB36GJsDW"
      },
      "source": [
        "문제143. 위의 모집단에서 100명을 표본으로 추출하여 100명의 평균키를 비어있는 리스트 a에\n",
        "\t  입력하는 작업을 10000 번 수행하여 a 리스트에 10000개의 표본의 평균키가 입력되게하시오!"
      ]
    },
    {
      "cell_type": "code",
      "metadata": {
        "colab": {
          "base_uri": "https://localhost:8080/"
        },
        "id": "GnbIDwdaJtDX",
        "outputId": "95447993-2c6e-40f5-92ed-b2b850a6564f"
      },
      "source": [
        "import numpy as np\n",
        "\n",
        "avg = 148.5\n",
        "std = 30\n",
        "N = 1000000\n",
        "\n",
        "height = np.random.randn(N) * std + avg\n",
        "a = []\n",
        "\n",
        "for i in range(1, 10001):\n",
        "  result = np.random.choice(height, 100).mean()\n",
        "  a.append(result)\n",
        "\n",
        "print(len(a))"
      ],
      "execution_count": null,
      "outputs": [
        {
          "output_type": "stream",
          "text": [
            "10000\n"
          ],
          "name": "stdout"
        }
      ]
    },
    {
      "cell_type": "markdown",
      "metadata": {
        "id": "PSVs-qKYKTpF"
      },
      "source": [
        "설명: 초등학생 100만명의 키 모집단에서 표본을 100개 추출해서 표본 평균을 10000개 모았음\n"
      ]
    },
    {
      "cell_type": "markdown",
      "metadata": {
        "id": "66B_uvSJbnA2"
      },
      "source": [
        ""
      ]
    },
    {
      "cell_type": "markdown",
      "metadata": {
        "id": "ptblek0fbm6Q"
      },
      "source": [
        ""
      ]
    },
    {
      "cell_type": "markdown",
      "metadata": {
        "id": "VVVvOOmBKVoQ"
      },
      "source": [
        "문제144. 통계학을 전문으로 구현하는 모듈인 scipy 모듈을 import 하여\n",
        "\t위의 표본의 평균키값에 대한 확률밀도값을 출력하시오 !"
      ]
    },
    {
      "cell_type": "code",
      "metadata": {
        "colab": {
          "base_uri": "https://localhost:8080/"
        },
        "id": "05pypliWKWZS",
        "outputId": "aad1a866-b195-4dad-8857-ff5284ef0dbc"
      },
      "source": [
        "import numpy as np\n",
        "from scipy.stats import norm       # scipy의 stats 패키지로 부터 norm 이라는 모듈을 import 해라.  from 패키지 import 모듈이름\n",
        "\n",
        "avg = 148.5\n",
        "std = 30\n",
        "N = 1000000\n",
        "\n",
        "height = np.random.randn(N) * std + avg\n",
        "a = []\n",
        "\n",
        "for i in range(1, 10001):\n",
        "  result = np.random.choice(height, 100).mean()\n",
        "  a.append(result)\n",
        "\n",
        "x = np.arange(140, 160, 0.001)             # 140~160 까지 0.001 간격으로 숫자를 생성\n",
        "print(x)\n",
        "y = norm.pdf( x, np.mean(a), np.std(a) )   #  y = norm.pdf( x,  표본평균의 평균값, 표준편차 )\n",
        "print(y)                                   # 초등학생 키의 표본평균값들에 대한 확률 밀도함수 값이 출력됩니다."
      ],
      "execution_count": 12,
      "outputs": [
        {
          "output_type": "stream",
          "text": [
            "[140.    140.001 140.002 ... 159.997 159.998 159.999]\n",
            "[2.45134868e-03 2.45364869e-03 2.45595058e-03 ... 9.16687958e-05\n",
            " 9.15527613e-05 9.14368637e-05]\n"
          ],
          "name": "stdout"
        }
      ]
    },
    {
      "cell_type": "markdown",
      "metadata": {
        "id": "j5l4eNwPbnxv"
      },
      "source": [
        ""
      ]
    },
    {
      "cell_type": "markdown",
      "metadata": {
        "id": "8-8jQV9pbns-"
      },
      "source": [
        ""
      ]
    },
    {
      "cell_type": "markdown",
      "metadata": {
        "id": "y9HuPQcRRAhn"
      },
      "source": [
        "문제145. 데이터 시각화 전문 모듈인 matplotlib 을 import 하여 위의 표본 평균값 10000개의 데이터를 시각화 하시오!"
      ]
    },
    {
      "cell_type": "code",
      "metadata": {
        "colab": {
          "base_uri": "https://localhost:8080/",
          "height": 269
        },
        "id": "c1YILkJ2RCIL",
        "outputId": "6d3872c7-cf6d-47ac-8da8-c78f75ba3d03"
      },
      "source": [
        "import numpy as np\n",
        "from scipy.stats import norm\n",
        "import matplotlib.pyplot as plt          # matplotlib 모듈안에 pyplot 라는 함수를 import 하는데 별칭을 plt 로 해라\n",
        "\n",
        "avg = 148.5\n",
        "std = 30\n",
        "N = 1000000\n",
        "height = np.random.randn(N) * std + avg\n",
        "a = []\n",
        "\n",
        "for i in range(1, 10001):\n",
        "    result = np.random.choice(height, 100).mean()\n",
        "    a.append(result)  \n",
        "\n",
        "x = np.arange(140, 160, 0.001)\n",
        "y = norm.pdf( x, np.mean(a), np.std(a) )\n",
        "plt.plot( x, y, color = 'blue' )\n",
        "plt.show()"
      ],
      "execution_count": 13,
      "outputs": [
        {
          "output_type": "display_data",
          "data": {
            "image/png": "[encoded data removed]",
            "text/plain": [
              "<Figure size 432x288 with 1 Axes>"
            ]
          },
          "metadata": {
            "tags": [],
            "needs_background": "light"
          }
        }
      ]
    },
    {
      "cell_type": "markdown",
      "metadata": {
        "id": "mREeAIvcbot9"
      },
      "source": [
        ""
      ]
    },
    {
      "cell_type": "markdown",
      "metadata": {
        "id": "jAv0q1nbbopg"
      },
      "source": [
        ""
      ]
    },
    {
      "cell_type": "markdown",
      "metadata": {
        "id": "6xMEe2xVRmqN"
      },
      "source": [
        "문제146. 위의 확률밀도함수 그래프의 아래쪽 영역도 색깔로 채우시오 ~"
      ]
    },
    {
      "cell_type": "code",
      "metadata": {
        "colab": {
          "base_uri": "https://localhost:8080/",
          "height": 265
        },
        "id": "YRKOLzL_RrcV",
        "outputId": "0ca8d70f-4949-4524-ae69-c4d0928403cf"
      },
      "source": [
        "import numpy as np\n",
        "from scipy.stats import norm\n",
        "import matplotlib.pyplot as plt\n",
        "\n",
        "avg = 148.5\n",
        "std = 30\n",
        "N = 1000000\n",
        "height = np.random.randn(N) * std + avg\n",
        "a = []\n",
        "\n",
        "for i in range(1, 10001):\n",
        "    result = np.random.choice(height, 100).mean()\n",
        "    a.append(result)  \n",
        "\n",
        "x = np.arange(140, 160, 0.001)\n",
        "y = norm.pdf( x, np.mean(a), np.std(a) )\n",
        "plt.plot( x, y, color = 'blue' )\n",
        "\n",
        "plt.fill_between( x, y, interpolate = True, color = 'skyblue', alpha = 0.7)\n",
        "                                                                              # 설명: plt 모듈안의 fill_between 함수를 이용해서 확률밀도함수 그래프의 아래 영역을\n",
        "                                                                              # 색깔로 채우는데 interpolate = True 를 이용해서 아래의 영역이 색깔로 채워지게 되고\n",
        "                                                                              # alpha 는 색깔 투명도인데 0.0~1.0 사이로 기술할 수 있습니다.\n",
        "plt.show()"
      ],
      "execution_count": null,
      "outputs": [
        {
          "output_type": "display_data",
          "data": {
            "image/png": "[encoded data removed]",
            "text/plain": [
              "<Figure size 432x288 with 1 Axes>"
            ]
          },
          "metadata": {
            "tags": [],
            "needs_background": "light"
          }
        }
      ]
    },
    {
      "cell_type": "markdown",
      "metadata": {
        "id": "SeEKYhJzbppi"
      },
      "source": [
        ""
      ]
    },
    {
      "cell_type": "markdown",
      "metadata": {
        "id": "PjpDxkiJbplY"
      },
      "source": [
        ""
      ]
    },
    {
      "cell_type": "markdown",
      "metadata": {
        "id": "7Np9YP73SPLe"
      },
      "source": [
        "문제147. 위에서 그린 확률밀도함수 그래프의 색깔을 변경하시오 !\n",
        "\n",
        "구글에서 matplot 색상표라고 검색하면 색상이름을 확인할 수 있습니다."
      ]
    },
    {
      "cell_type": "code",
      "metadata": {
        "colab": {
          "base_uri": "https://localhost:8080/",
          "height": 265
        },
        "id": "rJ7_QBURSRf3",
        "outputId": "4dc03456-f5c6-482d-b956-18d7032cc883"
      },
      "source": [
        "import numpy as np\n",
        "from scipy.stats import norm\n",
        "import matplotlib.pyplot as plt\n",
        "\n",
        "avg = 148.5\n",
        "std = 30\n",
        "N = 1000000\n",
        "height = np.random.randn(N) * std + avg\n",
        "a = []\n",
        "\n",
        "for i in range(1, 10001):\n",
        "    result = np.random.choice(height, 100).mean()\n",
        "    a.append(result)  \n",
        "\n",
        "x = np.arange(140, 160, 0.001)\n",
        "y = norm.pdf( x, np.mean(a), np.std(a) )\n",
        "plt.plot( x, y, color = 'red' )\n",
        "plt.fill_between( x, y, interpolate = True, color = 'lightcoral', alpha = 0.7)\n",
        "\n",
        "plt.show()"
      ],
      "execution_count": null,
      "outputs": [
        {
          "output_type": "display_data",
          "data": {
            "image/png": "[encoded data removed]",
            "text/plain": [
              "<Figure size 432x288 with 1 Axes>"
            ]
          },
          "metadata": {
            "tags": [],
            "needs_background": "light"
          }
        }
      ]
    }
  ]
}