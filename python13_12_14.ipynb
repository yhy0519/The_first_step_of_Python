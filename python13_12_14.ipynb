{
  "nbformat": 4,
  "nbformat_minor": 0,
  "metadata": {
    "colab": {
      "name": "python13_12_14.ipynb",
      "provenance": [],
      "collapsed_sections": [],
      "mount_file_id": "1zjJb61p5kdTYGq6xzQEio580Zy7X4xWt",
      "authorship_tag": "ABX9TyN//12eZgZn6P0q3a3da2DL",
      "include_colab_link": true
    },
    "kernelspec": {
      "name": "python3",
      "display_name": "Python 3"
    }
  },
  "cells": [
    {
      "cell_type": "markdown",
      "metadata": {
        "id": "view-in-github",
        "colab_type": "text"
      },
      "source": [
        "<a href=\"https://colab.research.google.com/github/yhy0519/The_first_step_of_Python/blob/main/python13_12_14.ipynb\" target=\"_parent\"><img src=\"https://colab.research.google.com/assets/colab-badge.svg\" alt=\"Open In Colab\"/></a>"
      ]
    },
    {
      "cell_type": "markdown",
      "metadata": {
        "id": "5rLXgIpZr1_i"
      },
      "source": [
        "**■ 118. 리스트의 모든 요소의 합 구하기(sum)**\r\n",
        "\r\n",
        "파이썬 내장 함수 sum() 을 이용해 list 의 모든 요소의 합을 출력합니다.\r\n",
        "\r\n",
        "예제:"
      ]
    },
    {
      "cell_type": "code",
      "metadata": {
        "colab": {
          "base_uri": "https://localhost:8080/"
        },
        "id": "muPuwpw5ribu",
        "outputId": "27b086dd-4c18-4d4d-aa3e-e44deeadd79c"
      },
      "source": [
        "listdata = [ 2, 2, 1, 3, 8, 4, 3, 9, 2, 20 ]\r\n",
        "result = sum(listdata)\r\n",
        "print(result)   "
      ],
      "execution_count": 1,
      "outputs": [
        {
          "output_type": "stream",
          "text": [
            "54\n"
          ],
          "name": "stdout"
        }
      ]
    },
    {
      "cell_type": "markdown",
      "metadata": {
        "id": "gOcuUmo9r876"
      },
      "source": [
        ""
      ]
    },
    {
      "cell_type": "markdown",
      "metadata": {
        "id": "Zcy1TK2Qr818"
      },
      "source": [
        ""
      ]
    },
    {
      "cell_type": "markdown",
      "metadata": {
        "id": "2X41aYEqr8vQ"
      },
      "source": [
        "문제351. 아래의 리스트의 짝수번째 요소의 합을 출력하시오 !\r\n",
        "\r\n",
        "    listdata = [ 2, 2, 1, 3, 8, 4, 3, 9, 2, 20 ]"
      ]
    },
    {
      "cell_type": "code",
      "metadata": {
        "colab": {
          "base_uri": "https://localhost:8080/"
        },
        "id": "OKpoXmy1r-V4",
        "outputId": "ff6727b6-1461-48dd-8d52-8b9ba76da567"
      },
      "source": [
        "listdata = [ 2, 2, 1, 3, 8, 4, 3, 9, 2, 20 ]\r\n",
        "result = sum(listdata[1::2])\r\n",
        "print(result)"
      ],
      "execution_count": 2,
      "outputs": [
        {
          "output_type": "stream",
          "text": [
            "38\n"
          ],
          "name": "stdout"
        }
      ]
    },
    {
      "cell_type": "markdown",
      "metadata": {
        "id": "XenRLzPHsCUd"
      },
      "source": [
        ""
      ]
    },
    {
      "cell_type": "markdown",
      "metadata": {
        "id": "DCJT909osCQw"
      },
      "source": [
        ""
      ]
    },
    {
      "cell_type": "markdown",
      "metadata": {
        "id": "V2JESCvOsCMP"
      },
      "source": [
        "문제352. (알고리즘 문제) 아래의 리스트에 1부터 10까지의 숫자중에 없는 숫자가 하나있다. 그 없는 숫자는 무엇인가? (loop 문 안쓰고)\r\n",
        "\r\n",
        "a = [ 2, 1, 5, 4, 6, 7, 9, 10, 3 ]"
      ]
    },
    {
      "cell_type": "code",
      "metadata": {
        "colab": {
          "base_uri": "https://localhost:8080/"
        },
        "id": "-Tr_75gNsGlA",
        "outputId": "67feae0e-01da-4e56-e154-3df5a3ffa835"
      },
      "source": [
        "a = [ 2, 1, 5, 4, 6, 7, 9, 10, 3 ]\r\n",
        "\r\n",
        "result = sum( range(1, 11) ) - sum(a)\r\n",
        "print(result)"
      ],
      "execution_count": 4,
      "outputs": [
        {
          "output_type": "stream",
          "text": [
            "8\n"
          ],
          "name": "stdout"
        }
      ]
    },
    {
      "cell_type": "markdown",
      "metadata": {
        "id": "EtE8JXnmsPDC"
      },
      "source": [
        ""
      ]
    },
    {
      "cell_type": "markdown",
      "metadata": {
        "id": "AQ6I74NusO98"
      },
      "source": [
        ""
      ]
    },
    {
      "cell_type": "markdown",
      "metadata": {
        "id": "i49whTZ6sO4g"
      },
      "source": [
        "**■ 119. 리스트 요소가 모두 참인지 확인하기(all, any)**\r\n",
        "\r\n",
        "리스트의 모든 요소가 참인지 또는 모든 요소가 거짓인지 판단해야하는 경우,\r\n",
        "파이썬 내장함수 all() 이나 any() 를 사용하면 됩니다.  \r\n",
        "all() 은 인자로 입력되는 리스트의 모든 요소가 참인 경우에만 True 를 리턴하고\r\n",
        "거짓이 하나라도 포함되어져 있으면 False 를 리턴합니다.  \r\n",
        "이와는 달리 any() 는 인자로 입력되는 리스트의 모든 요소가 거짓인 경우에만 False 를 리턴하고 참이 하나라도 존재하면 True 를 리턴합니다.\r\n",
        "\r\n",
        "예:"
      ]
    },
    {
      "cell_type": "code",
      "metadata": {
        "colab": {
          "base_uri": "https://localhost:8080/"
        },
        "id": "d6OZY6RDsSLY",
        "outputId": "ddc699ef-e6b7-403d-bb3d-de91e2aff8e5"
      },
      "source": [
        "listdata1 = [ True, True, True ]\r\n",
        "listdata2 = [ True, False, True ]\r\n",
        "print( all(listdata1) )    \r\n",
        "print( all(listdata2) )     \r\n",
        "print( any(listdata1) )     \r\n",
        "print( any(listdata2) )  "
      ],
      "execution_count": 6,
      "outputs": [
        {
          "output_type": "stream",
          "text": [
            "True\n",
            "False\n",
            "True\n",
            "True\n"
          ],
          "name": "stdout"
        }
      ]
    },
    {
      "cell_type": "code",
      "metadata": {
        "colab": {
          "base_uri": "https://localhost:8080/"
        },
        "id": "I63Tj87hsahP",
        "outputId": "ec7eb006-8b78-4542-a486-af85796fa96c"
      },
      "source": [
        "listdata1 = [ 1, 1, 1 ]\r\n",
        "listdata2 = [ 1, 0, 1 ]\r\n",
        "print( all(listdata1) )    \r\n",
        "print( all(listdata2) ) \r\n",
        "print( any(listdata1) )\r\n",
        "print( any(listdata2) )"
      ],
      "execution_count": 7,
      "outputs": [
        {
          "output_type": "stream",
          "text": [
            "True\n",
            "False\n",
            "True\n",
            "True\n"
          ],
          "name": "stdout"
        }
      ]
    },
    {
      "cell_type": "markdown",
      "metadata": {
        "id": "PuBZ_C4esjJo"
      },
      "source": [
        "설명: True 는 숫자로 1 이고 False 는 숫자로 0 입니다."
      ]
    },
    {
      "cell_type": "markdown",
      "metadata": {
        "id": "3j_C4arWsjCP"
      },
      "source": [
        ""
      ]
    },
    {
      "cell_type": "markdown",
      "metadata": {
        "id": "8U9OMLdqsi8l"
      },
      "source": [
        ""
      ]
    },
    {
      "cell_type": "markdown",
      "metadata": {
        "id": "vaesmQDGsi2n"
      },
      "source": [
        "문제353. while loop 문을 이용해서 무한 루프문을 수행하시오 !"
      ]
    },
    {
      "cell_type": "code",
      "metadata": {
        "id": "WzCw-nVnsqNY"
      },
      "source": [
        "while True:\r\n",
        "    print('aaaaaaaaaaaaa')"
      ],
      "execution_count": null,
      "outputs": []
    },
    {
      "cell_type": "markdown",
      "metadata": {
        "id": "Y_x0da7isqsT"
      },
      "source": [
        ""
      ]
    },
    {
      "cell_type": "markdown",
      "metadata": {
        "id": "wPpUCpBusqnV"
      },
      "source": [
        ""
      ]
    },
    {
      "cell_type": "markdown",
      "metadata": {
        "id": "wbAzy_ZFsqho"
      },
      "source": [
        "문제354. 이번에는 위의 True 대신에 숫자 1 을 넣고 무한 루프문을 수행하시오 !"
      ]
    },
    {
      "cell_type": "code",
      "metadata": {
        "id": "V1OQTWrWstDA"
      },
      "source": [
        "while 1:\r\n",
        "    print('aaaaaaaaaaaaa')"
      ],
      "execution_count": null,
      "outputs": []
    },
    {
      "cell_type": "markdown",
      "metadata": {
        "id": "UThNHcyvstZ3"
      },
      "source": [
        ""
      ]
    },
    {
      "cell_type": "markdown",
      "metadata": {
        "id": "Bu7-whqzstUw"
      },
      "source": [
        ""
      ]
    },
    {
      "cell_type": "markdown",
      "metadata": {
        "id": "KXbFyKQ_stQL"
      },
      "source": [
        "■ 120. 사전에 요소 추가하기\r\n",
        "\r\n",
        "파이썬 책 큰 목차:\r\n",
        " \r\n",
        "    1. 문자형과 문자열 함수들\r\n",
        "    2. 숫자형과 숫자형 함수들            +     if 과 loop 문\r\n",
        "    3. 리스트형과 리스트형 함수들        +     모듈과 클래스\r\n",
        "    4. 사전형과 사전형 함수들            +     예외처리\r\n",
        "\r\n",
        "                   +\r\n",
        "\r\n",
        "    판다스 사용법, 웹스크롤링  <----  데이터 분석가 필수 기술\r\n",
        "\r\n",
        "사전형은 키:값 으로 되어진 요소로 구성되어 있습니다.  \r\n",
        "사전형은 리스트형 처럼 인덱스번호로 요소를 접근하는게 아니라 키 값으로 요소의 값에 접근합니다.\r\n",
        "\r\n",
        "예제:"
      ]
    },
    {
      "cell_type": "code",
      "metadata": {
        "colab": {
          "base_uri": "https://localhost:8080/"
        },
        "id": "FfGk8xIcs9Dp",
        "outputId": "07d4a40f-a9e7-4061-c0c1-20f3f9080a75"
      },
      "source": [
        "sol = {}                 # 중괄호를 써서 비어있는 딕셔너리를 생성합니다.\r\n",
        "sol['태양'] = 'sun'\r\n",
        "print(sol)             \r\n",
        "sol['수성'] = 'mercury'\r\n",
        "sol['금성'] = 'venus'\r\n",
        "print(sol)      "
      ],
      "execution_count": 9,
      "outputs": [
        {
          "output_type": "stream",
          "text": [
            "{'태양': 'sun'}\n",
            "{'태양': 'sun', '수성': 'mercury', '금성': 'venus'}\n"
          ],
          "name": "stdout"
        }
      ]
    },
    {
      "cell_type": "markdown",
      "metadata": {
        "id": "SbZkephctCUJ"
      },
      "source": [
        ""
      ]
    },
    {
      "cell_type": "markdown",
      "metadata": {
        "id": "doHROCkdtCQ4"
      },
      "source": [
        ""
      ]
    },
    {
      "cell_type": "markdown",
      "metadata": {
        "id": "IKMD7tH-tCMY"
      },
      "source": [
        "문제355. 아래의 2개의 리스트를 가지고 sol 딕셔너리를 생성하시오 !\r\n",
        "\t     (for 루프문과 zip 을 이용)\r\n",
        "\t\r\n",
        "    sol_eng = [ 'sun', 'mercury', 'venus', 'earth', 'mars' ]\r\n",
        "    sol_kor = [ '태양', '수성', '금성', '지구', '화성' ]\r\n",
        "\r\n",
        "결과:\r\n",
        "\r\n",
        "    print(sol)   \r\n",
        "    {'태양': 'sun', '수성': 'mercury', '금성': 'venus', '지구': 'earth', '화성': 'mars'}\r\n"
      ]
    },
    {
      "cell_type": "code",
      "metadata": {
        "colab": {
          "base_uri": "https://localhost:8080/"
        },
        "id": "0xWL91HGtD84",
        "outputId": "b26c6364-9dc8-4dd2-813c-e697f576a278"
      },
      "source": [
        "sol_eng = [ 'sun', 'mercury', 'venus', 'earth', 'mars' ]\r\n",
        "sol_kor = [ '태양', '수성', '금성', '지구', '화성' ]\r\n",
        "\r\n",
        "sol = {}\r\n",
        "\r\n",
        "for i, k in zip(sol_kor, sol_eng):\r\n",
        "    sol[i] = k\r\n",
        "\r\n",
        "print(sol)"
      ],
      "execution_count": 10,
      "outputs": [
        {
          "output_type": "stream",
          "text": [
            "{'태양': 'sun', '수성': 'mercury', '금성': 'venus', '지구': 'earth', '화성': 'mars'}\n"
          ],
          "name": "stdout"
        }
      ]
    },
    {
      "cell_type": "markdown",
      "metadata": {
        "id": "UVbGThmitbF5"
      },
      "source": [
        ""
      ]
    },
    {
      "cell_type": "markdown",
      "metadata": {
        "id": "2oDZgADbta_a"
      },
      "source": [
        ""
      ]
    },
    {
      "cell_type": "markdown",
      "metadata": {
        "id": "3m-V_QV-ta5g"
      },
      "source": [
        "**■ 121. 사전의 특정 요소값 변경하기**\r\n",
        "\r\n",
        "사전 자료형의 특정 요소값을 변경하는 방법은 다음과 같습니다.\r\n",
        "\r\n",
        "예제:\r\n",
        "\r\n",
        "    사전형이름['키값'] = '값'"
      ]
    },
    {
      "cell_type": "code",
      "metadata": {
        "colab": {
          "base_uri": "https://localhost:8080/"
        },
        "id": "nap4TjJ6tcMA",
        "outputId": "6b49b4cf-d620-4619-b19f-de6858ef695a"
      },
      "source": [
        "sol['태양'] = 'aaaaaa'\r\n",
        "print(sol)"
      ],
      "execution_count": 12,
      "outputs": [
        {
          "output_type": "stream",
          "text": [
            "{'태양': 'aaaaaa', '수성': 'mercury', '금성': 'venus', '지구': 'earth', '화성': 'mars'}\n"
          ],
          "name": "stdout"
        }
      ]
    },
    {
      "cell_type": "markdown",
      "metadata": {
        "id": "cX8xZjVntcg_"
      },
      "source": [
        ""
      ]
    },
    {
      "cell_type": "markdown",
      "metadata": {
        "id": "BLp1OVEwtcZs"
      },
      "source": [
        ""
      ]
    },
    {
      "cell_type": "markdown",
      "metadata": {
        "id": "xQFS-zeZtaxx"
      },
      "source": [
        "문제356. 아래의 딕셔너리 값중에 Fire 를 피땀눈물로 변경하시오 !\r\n",
        "\r\n",
        "    dict = { '방탄소년단' :'Fire', '소녀시대' :'Gee' }"
      ]
    },
    {
      "cell_type": "code",
      "metadata": {
        "colab": {
          "base_uri": "https://localhost:8080/"
        },
        "id": "PiGZdK5ytao_",
        "outputId": "0aa6e650-6ee1-43f0-fa1e-dd420c648f73"
      },
      "source": [
        "dict = { '방탄소년단' :'Fire', '소녀시대' :'Gee' }\r\n",
        "dict['방탄소년단'] = '피땀눈물'\r\n",
        "print(dict)"
      ],
      "execution_count": 13,
      "outputs": [
        {
          "output_type": "stream",
          "text": [
            "{'방탄소년단': '피땀눈물', '소녀시대': 'Gee'}\n"
          ],
          "name": "stdout"
        }
      ]
    },
    {
      "cell_type": "markdown",
      "metadata": {
        "id": "_7KdYXRLtxvF"
      },
      "source": [
        ""
      ]
    },
    {
      "cell_type": "markdown",
      "metadata": {
        "id": "eKosvfO3txq8"
      },
      "source": [
        ""
      ]
    },
    {
      "cell_type": "markdown",
      "metadata": {
        "id": "u-tXJ67itxnN"
      },
      "source": [
        "문제357. 아래의 딕셔너리 값중에서 Fire 를 피땀눈물로 변경하시오 !\r\n",
        "\r\n",
        "    dict = { '소녀시대' : ['다시만난세계', 'Gee'], '방탄소년단' : ['DNA', 'Fire'] }"
      ]
    },
    {
      "cell_type": "code",
      "metadata": {
        "colab": {
          "base_uri": "https://localhost:8080/"
        },
        "id": "E2obw0I5t0KE",
        "outputId": "c39084fc-fde7-4bdd-9d39-4b8cc3518485"
      },
      "source": [
        "dict = { '소녀시대' : ['다시만난세계', 'Gee'], '방탄소년단' : ['DNA', 'Fire'] }\r\n",
        "print(dict['방탄소년단'])   \r\n",
        "\r\n",
        "dict['방탄소년단'][1] = '피땀눈물'\r\n",
        "print(dict)"
      ],
      "execution_count": 17,
      "outputs": [
        {
          "output_type": "stream",
          "text": [
            "['DNA', 'Fire']\n",
            "{'소녀시대': ['다시만난세계', 'Gee'], '방탄소년단': ['DNA', '피땀눈물']}\n"
          ],
          "name": "stdout"
        }
      ]
    },
    {
      "cell_type": "markdown",
      "metadata": {
        "id": "DTpPcrjuuMRm"
      },
      "source": [
        ""
      ]
    },
    {
      "cell_type": "markdown",
      "metadata": {
        "id": "-VGt2nIWuMOj"
      },
      "source": [
        ""
      ]
    },
    {
      "cell_type": "markdown",
      "metadata": {
        "id": "egAZEYIvuMJN"
      },
      "source": [
        "**■ 122. 사전의 특정 요소 제거하기(del)**\r\n",
        "\r\n",
        "사전 dict 에서 특정요소 key:value 를 제거하는 방법은 다음과 같습니다.\r\n",
        "\r\n",
        "예제:"
      ]
    },
    {
      "cell_type": "code",
      "metadata": {
        "colab": {
          "base_uri": "https://localhost:8080/"
        },
        "id": "VQUogxj9uQYM",
        "outputId": "df004138-1754-42bb-e595-24ea2c6d310d"
      },
      "source": [
        "sol = {'태양': 'sun', '수성': 'mercury', '금성': 'venus', '지구': 'earth', '화성': 'mars'}\r\n",
        "del sol['태양']\r\n",
        "print(sol) "
      ],
      "execution_count": 18,
      "outputs": [
        {
          "output_type": "stream",
          "text": [
            "{'수성': 'mercury', '금성': 'venus', '지구': 'earth', '화성': 'mars'}\n"
          ],
          "name": "stdout"
        }
      ]
    },
    {
      "cell_type": "markdown",
      "metadata": {
        "id": "srjay-Q2uUPu"
      },
      "source": [
        ""
      ]
    },
    {
      "cell_type": "markdown",
      "metadata": {
        "id": "KhmG1HaXuULn"
      },
      "source": [
        ""
      ]
    },
    {
      "cell_type": "markdown",
      "metadata": {
        "id": "_jBqYMOJuUIF"
      },
      "source": [
        "문제358. 아래의 딕셔너리에서 다시만난세계의 값만 지우시오 !\r\n",
        "\r\n",
        "    dict = { '소녀시대' : ['다시만난세계', 'Gee'], '방탄소년단' : ['DNA', 'Fire'] }"
      ]
    },
    {
      "cell_type": "code",
      "metadata": {
        "colab": {
          "base_uri": "https://localhost:8080/"
        },
        "id": "PusHGRoEuVp5",
        "outputId": "2dd3e80f-63f4-4b96-8efe-6d9e6f987c85"
      },
      "source": [
        "dict = { '소녀시대' : ['다시만난세계', 'Gee'], '방탄소년단' : ['DNA', 'Fire'] }\r\n",
        "del dict['소녀시대'][0]\r\n",
        "print(dict)"
      ],
      "execution_count": 19,
      "outputs": [
        {
          "output_type": "stream",
          "text": [
            "{'소녀시대': ['Gee'], '방탄소년단': ['DNA', 'Fire']}\n"
          ],
          "name": "stdout"
        }
      ]
    },
    {
      "cell_type": "markdown",
      "metadata": {
        "id": "H5lrSDcXuemy"
      },
      "source": [
        ""
      ]
    },
    {
      "cell_type": "markdown",
      "metadata": {
        "id": "4qAmHJPcuedI"
      },
      "source": [
        ""
      ]
    },
    {
      "cell_type": "markdown",
      "metadata": {
        "id": "v6IYrnaMueYU"
      },
      "source": [
        "**■ 123. 사전의 모든 요소 제거하기(clear)**\r\n",
        "\r\n",
        "사전의 모든 요소를 제거하여 빈 사전으로 만드는 방법은 사전 객체의 \r\n",
        "clear() 메소드를 이용하면 됩니다.\r\n",
        "\r\n",
        "예제:"
      ]
    },
    {
      "cell_type": "code",
      "metadata": {
        "colab": {
          "base_uri": "https://localhost:8080/"
        },
        "id": "6roPHQJougHV",
        "outputId": "b24f53b9-188a-4644-bca0-41cf84801c89"
      },
      "source": [
        "dict = { '소녀시대' : ['다시만난세계', 'Gee'], '방탄소년단' : ['DNA', 'Fire'] }\r\n",
        "dict.clear()\r\n",
        "print(dict) "
      ],
      "execution_count": 20,
      "outputs": [
        {
          "output_type": "stream",
          "text": [
            "{}\n"
          ],
          "name": "stdout"
        }
      ]
    },
    {
      "cell_type": "markdown",
      "metadata": {
        "id": "ZU2ZF7amulz4"
      },
      "source": [
        ""
      ]
    },
    {
      "cell_type": "markdown",
      "metadata": {
        "id": "jHVW-604ulwV"
      },
      "source": [
        ""
      ]
    },
    {
      "cell_type": "markdown",
      "metadata": {
        "id": "u2WVFCxDulr5"
      },
      "source": [
        "문제359. 위와 같이 딕셔너리의 요소를 지우는게 아니라 딕셔너리 자체를 메모리에서 지우려면 어떻게 해야하는가 ?"
      ]
    },
    {
      "cell_type": "code",
      "metadata": {
        "colab": {
          "base_uri": "https://localhost:8080/"
        },
        "id": "Xz7VDeTuupdU",
        "outputId": "a6f8b969-edaf-4462-ff94-95872623aa3c"
      },
      "source": [
        "dict = { '소녀시대' : ['다시만난세계', 'Gee'], '방탄소년단' : ['DNA', 'Fire'] }\r\n",
        "del dict\r\n",
        "print(dict) "
      ],
      "execution_count": 21,
      "outputs": [
        {
          "output_type": "stream",
          "text": [
            "<class 'dict'>\n"
          ],
          "name": "stdout"
        }
      ]
    },
    {
      "cell_type": "markdown",
      "metadata": {
        "id": "mSMUsI-Lvax7"
      },
      "source": [
        ""
      ]
    },
    {
      "cell_type": "markdown",
      "metadata": {
        "id": "3fAys9R3vatQ"
      },
      "source": [
        ""
      ]
    },
    {
      "cell_type": "markdown",
      "metadata": {
        "id": "P7YITYmGvalW"
      },
      "source": [
        "**■ 124. 사전에서 키만 추출하기(keys)**\r\n",
        "\r\n",
        "아래의 사전에서 key 만 추출하고 싶으면 사전이름.keys() 라고 하면 됩니다."
      ]
    },
    {
      "cell_type": "code",
      "metadata": {
        "colab": {
          "base_uri": "https://localhost:8080/"
        },
        "id": "UEahd8dAvcD8",
        "outputId": "9d43f0af-834b-4b46-e9fb-400b65939eba"
      },
      "source": [
        "sol = {'태양': 'sun', '수성': 'mercury', '금성': 'venus', '지구': 'earth', '화성': 'mars'}\r\n",
        "print(sol.keys())"
      ],
      "execution_count": 22,
      "outputs": [
        {
          "output_type": "stream",
          "text": [
            "dict_keys(['태양', '수성', '금성', '지구', '화성'])\n"
          ],
          "name": "stdout"
        }
      ]
    },
    {
      "cell_type": "markdown",
      "metadata": {
        "id": "OLibB17GvhAV"
      },
      "source": [
        ""
      ]
    },
    {
      "cell_type": "markdown",
      "metadata": {
        "id": "cPLKgVFWvg8c"
      },
      "source": [
        ""
      ]
    },
    {
      "cell_type": "markdown",
      "metadata": {
        "id": "aB_o6NFTvg3e"
      },
      "source": [
        "문제360. 위의 sol 사전에 있는 키를 추출해서 아래와 같이 결과를 출력하시오 !\r\n",
        "\r\n",
        "    sol = {'태양': 'sun', '수성': 'mercury', '금성': 'venus', '지구': 'earth', '화성': 'mars'}\r\n",
        "\r\n",
        "결과:\r\n",
        "\r\n",
        "    태양, 수성, 금성, 지구, 화성"
      ]
    },
    {
      "cell_type": "code",
      "metadata": {
        "colab": {
          "base_uri": "https://localhost:8080/"
        },
        "id": "rn-4q0Flvj7s",
        "outputId": "17e990f8-06e8-489f-8233-7aad5bbd877f"
      },
      "source": [
        "sol = {'태양': 'sun', '수성': 'mercury', '금성': 'venus', '지구': 'earth', '화성': 'mars'}\r\n",
        "a = sol.keys()\r\n",
        "bond = ','\r\n",
        "b = bond.join(a)\r\n",
        "print(b)"
      ],
      "execution_count": 25,
      "outputs": [
        {
          "output_type": "stream",
          "text": [
            "태양,수성,금성,지구,화성\n"
          ],
          "name": "stdout"
        }
      ]
    },
    {
      "cell_type": "code",
      "metadata": {
        "colab": {
          "base_uri": "https://localhost:8080/"
        },
        "id": "rGYb4UjEv49d",
        "outputId": "9674fce4-0305-44a6-c36a-68c84d4146ba"
      },
      "source": [
        "# 다른 답\r\n",
        "sol = {'태양': 'sun', '수성': 'mercury', '금성': 'venus', '지구': 'earth', '화성': 'mars'}\r\n",
        "for i in sol.keys():\r\n",
        "    print( i, end =',' )  "
      ],
      "execution_count": 26,
      "outputs": [
        {
          "output_type": "stream",
          "text": [
            "태양,수성,금성,지구,화성,"
          ],
          "name": "stdout"
        }
      ]
    },
    {
      "cell_type": "markdown",
      "metadata": {
        "id": "s5W8ibYjv9vL"
      },
      "source": [
        "설명: print 의 end 옵션에 준 구분자로 값들을 가로로 출력하면서 구분자로 구분해줍니다."
      ]
    },
    {
      "cell_type": "markdown",
      "metadata": {
        "id": "KiLhDUUZwDae"
      },
      "source": [
        ""
      ]
    },
    {
      "cell_type": "markdown",
      "metadata": {
        "id": "Znw-FM8HwDWb"
      },
      "source": [
        ""
      ]
    },
    {
      "cell_type": "markdown",
      "metadata": {
        "id": "qDHKwVHswDRn"
      },
      "source": [
        "문제361. 위의 결과에서 맨끝에 있는 콤마(,) 는 출력되지 않게 하시오 !"
      ]
    },
    {
      "cell_type": "code",
      "metadata": {
        "colab": {
          "base_uri": "https://localhost:8080/"
        },
        "id": "Yxy7onjPwUyO",
        "outputId": "6866427d-8e38-4284-8b46-b1ddc7f153f7"
      },
      "source": [
        "sol = {'태양': 'sun', '수성': 'mercury', '금성': 'venus', '지구': 'earth', '화성': 'mars'}\r\n",
        "\r\n",
        "for i,k in enumerate(sol.keys()):\r\n",
        "    if i+1 != len(sol):\r\n",
        "        print ( k , end = ', ')\r\n",
        "    else:\r\n",
        "        print(k)"
      ],
      "execution_count": 27,
      "outputs": [
        {
          "output_type": "stream",
          "text": [
            "태양, 수성, 금성, 지구, 화성\n"
          ],
          "name": "stdout"
        }
      ]
    },
    {
      "cell_type": "markdown",
      "metadata": {
        "id": "vG5kwHxxwcj8"
      },
      "source": [
        ""
      ]
    },
    {
      "cell_type": "markdown",
      "metadata": {
        "id": "OnZQCXrVwcfP"
      },
      "source": [
        ""
      ]
    },
    {
      "cell_type": "markdown",
      "metadata": {
        "id": "6g6fXecNwcbk"
      },
      "source": [
        "**■ 125. 사전에서 값만 추출하기(values)**\r\n",
        "\r\n",
        "아래의 사전형에서 값에 해당하는 부분만 추출하려면 사전형이름.values() 를 사용하면 됩니다.\r\n"
      ]
    },
    {
      "cell_type": "markdown",
      "metadata": {
        "id": "08at6TMCwgsu"
      },
      "source": [
        ""
      ]
    },
    {
      "cell_type": "markdown",
      "metadata": {
        "id": "kU4pXgl3wgpp"
      },
      "source": [
        ""
      ]
    },
    {
      "cell_type": "markdown",
      "metadata": {
        "id": "B-_1sDgJwgi8"
      },
      "source": [
        "문제362. 아래의 sol 딕셔너리에서 값들만 아래와 같이 출력하시오 !\r\n",
        "\r\n",
        "    sol = {'태양': 'sun', '수성': 'mercury', '금성': 'venus', '지구': 'earth', '화성': 'mars'}\r\n",
        "\r\n",
        "결과:\r\n",
        "\r\n",
        "    sun,mercury,venus,earth,mars"
      ]
    },
    {
      "cell_type": "code",
      "metadata": {
        "colab": {
          "base_uri": "https://localhost:8080/"
        },
        "id": "QHh88RAmweRO",
        "outputId": "c64d2ab0-b6db-4d2e-b764-4579a88c074a"
      },
      "source": [
        "sol = {'태양': 'sun', '수성': 'mercury', '금성': 'venus', '지구': 'earth', '화성': 'mars'}\r\n",
        "\r\n",
        "for i,k in enumerate(sol.values()):\r\n",
        "    if i+1 != len(sol):\r\n",
        "        print ( k , end = ', ')\r\n",
        "    else:\r\n",
        "        print(k)"
      ],
      "execution_count": 30,
      "outputs": [
        {
          "output_type": "stream",
          "text": [
            "sun, mercury, venus, earth, mars\n"
          ],
          "name": "stdout"
        }
      ]
    },
    {
      "cell_type": "markdown",
      "metadata": {
        "id": "evs1A7Fsw8oV"
      },
      "source": [
        ""
      ]
    },
    {
      "cell_type": "markdown",
      "metadata": {
        "id": "ARpplqeww8k6"
      },
      "source": [
        ""
      ]
    },
    {
      "cell_type": "markdown",
      "metadata": {
        "id": "fYK1OYcDw8gj"
      },
      "source": [
        "문제363. 아래의 gini 딕셔너리에서 값만 추출하시오 !\r\n",
        "\r\n",
        "    gini = { '비틀즈' : ['yesterday', 'imagine'], '아이유' : ['너랑나', '마쉬멜로우'], '마이클 잭슨' : ['beat it', 'smooth criminal'] }\r\n",
        "\r\n",
        "결과:\r\n",
        "\r\n",
        "    ['yesterday', 'imagine']\r\n",
        "    ['너랑나', '마쉬멜로우']\r\n",
        "    ['beat it', 'smooth criminal']\r\n"
      ]
    },
    {
      "cell_type": "code",
      "metadata": {
        "colab": {
          "base_uri": "https://localhost:8080/"
        },
        "id": "Bopa-cUIw_1r",
        "outputId": "7d8a8748-9af6-41cf-96f7-377142cc2f8b"
      },
      "source": [
        "gini = { '비틀즈' : ['yesterday', 'imagine'], '아이유' : ['너랑나', '마쉬멜로우'], '마이클 잭슨' : ['beat it', 'smooth criminal'] }\r\n",
        "\r\n",
        "for i in gini.values():\r\n",
        "    print(i)"
      ],
      "execution_count": 33,
      "outputs": [
        {
          "output_type": "stream",
          "text": [
            "['yesterday', 'imagine']\n",
            "['너랑나', '마쉬멜로우']\n",
            "['beat it', 'smooth criminal']\n"
          ],
          "name": "stdout"
        }
      ]
    },
    {
      "cell_type": "markdown",
      "metadata": {
        "id": "gDItq1dAxOSX"
      },
      "source": [
        ""
      ]
    },
    {
      "cell_type": "markdown",
      "metadata": {
        "id": "-uNm1etdxOM8"
      },
      "source": [
        ""
      ]
    },
    {
      "cell_type": "markdown",
      "metadata": {
        "id": "vPl1xWKZxOI8"
      },
      "source": [
        "문제364. 위의 결과를 다시 출력하는데 결과 리스트 3개중에 0번째 요소만 출력하시오 !\r\n",
        "\r\n",
        "결과:\r\n",
        "\r\n",
        "    yesterday\r\n",
        "    너랑나\r\n",
        "    beat it"
      ]
    },
    {
      "cell_type": "code",
      "metadata": {
        "colab": {
          "base_uri": "https://localhost:8080/"
        },
        "id": "duC1pVjaxQ8C",
        "outputId": "cd3e2668-e890-4ed1-b938-44685cd63753"
      },
      "source": [
        "gini = { '비틀즈' : ['yesterday', 'imagine'], '아이유' : ['너랑나', '마쉬멜로우'], '마이클 잭슨' : ['beat it', 'smooth criminal'] }\r\n",
        "\r\n",
        "for i in gini.values():\r\n",
        "    print(i[0])"
      ],
      "execution_count": 34,
      "outputs": [
        {
          "output_type": "stream",
          "text": [
            "yesterday\n",
            "너랑나\n",
            "beat it\n"
          ],
          "name": "stdout"
        }
      ]
    },
    {
      "cell_type": "markdown",
      "metadata": {
        "id": "1Xh3XOaDxViT"
      },
      "source": [
        "문제365. 문제350번의 답을 가져와서 gini 딕셔너리에 음악만 출력하는데 아티스트별로 노래가 겹치지 않게 출력하시오 !\r\n",
        "\r\n",
        "    gini = { '비틀즈' : ['yesterday', 'imagine'], '아이유' : ['너랑나', '마쉬멜로우'], '마이클 잭슨' : ['beat it', 'smooth criminal'] }\r\n",
        "\r\n",
        "결과:\r\n",
        "\r\n",
        "    yesterday,너랑나,beat it,imagine,마쉬멜로우,smooth criminal"
      ]
    },
    {
      "cell_type": "code",
      "metadata": {
        "colab": {
          "base_uri": "https://localhost:8080/"
        },
        "id": "d28ybJnTxf6_",
        "outputId": "d6960417-3a9e-4c4c-a8b2-691f0c89c4b7"
      },
      "source": [
        "gini = {'비틀즈': ['yesterday', 'imagine'], '아이유': ['너랑나', '마쉬멜로우'], '마이클 잭슨': ['beat it', 'smooth criminal']}\r\n",
        "\r\n",
        "a=[]\r\n",
        "for j in gini.values():\r\n",
        "    a.append(j[0])\r\n",
        "\r\n",
        "for j in gini.values():\r\n",
        "    a.append(j[1])  \r\n",
        "\r\n",
        "print(a) \r\n",
        "\r\n",
        "bond = ','\r\n",
        "result = bond.join(a)\r\n",
        "print(result)"
      ],
      "execution_count": 46,
      "outputs": [
        {
          "output_type": "stream",
          "text": [
            "['yesterday', '너랑나', 'beat it', 'imagine', '마쉬멜로우', 'smooth criminal']\n",
            "yesterday,너랑나,beat it,imagine,마쉬멜로우,smooth criminal\n"
          ],
          "name": "stdout"
        }
      ]
    },
    {
      "cell_type": "markdown",
      "metadata": {
        "id": "MAPUMZwMxzTh"
      },
      "source": [
        ""
      ]
    },
    {
      "cell_type": "markdown",
      "metadata": {
        "id": "fuBcXBgDxzP9"
      },
      "source": [
        ""
      ]
    },
    {
      "cell_type": "markdown",
      "metadata": {
        "id": "TbEpxILTxzMT"
      },
      "source": [
        "문제366. 아래의 gini 딕셔너리의 값들을 리스트로 만드시오 !\r\n",
        "\r\n",
        "    gini = { '비틀즈' : ['yesterday', 'imagine'], '아이유' : ['너랑나', '마쉬멜로우'], '마이클 잭슨' : ['beat it', 'smooth criminal'] }\r\n",
        "\r\n",
        "결과:\r\n",
        "\r\n",
        "    [['yesterday', 'imagine'], ['너랑나', '마쉬멜로우'], ['beat it', 'smooth criminal']]\r\n"
      ]
    },
    {
      "cell_type": "code",
      "metadata": {
        "colab": {
          "base_uri": "https://localhost:8080/"
        },
        "id": "EGpm0FWuyIcT",
        "outputId": "56d17180-ffe6-48aa-f784-2e78d757e6c8"
      },
      "source": [
        "gini = { '비틀즈' : ['yesterday', 'imagine'], '아이유' : ['너랑나', '마쉬멜로우'], '마이클 잭슨' : ['beat it', 'smooth criminal'] }\r\n",
        "\r\n",
        "a = []\r\n",
        "for i in gini.values():\r\n",
        "    a.append(i)\r\n",
        "\r\n",
        "print(a)"
      ],
      "execution_count": 41,
      "outputs": [
        {
          "output_type": "stream",
          "text": [
            "[['yesterday', 'imagine'], ['너랑나', '마쉬멜로우'], ['beat it', 'smooth criminal']]\n"
          ],
          "name": "stdout"
        }
      ]
    },
    {
      "cell_type": "code",
      "metadata": {
        "colab": {
          "base_uri": "https://localhost:8080/"
        },
        "id": "8MRrwPYYyTCE",
        "outputId": "3dacd0d0-b944-461e-ad93-5dc40ff4820f"
      },
      "source": [
        "# 다른 답\r\n",
        "gini = { '비틀즈' : ['yesterday', 'imagine'], '아이유' : ['너랑나', '마쉬멜로우'], '마이클 잭슨' : ['beat it', 'smooth criminal'] }\r\n",
        "gini2 = list( gini.values() )\r\n",
        "print(gini2)"
      ],
      "execution_count": 42,
      "outputs": [
        {
          "output_type": "stream",
          "text": [
            "[['yesterday', 'imagine'], ['너랑나', '마쉬멜로우'], ['beat it', 'smooth criminal']]\n"
          ],
          "name": "stdout"
        }
      ]
    },
    {
      "cell_type": "markdown",
      "metadata": {
        "id": "-Hi7voTdyZ7I"
      },
      "source": [
        ""
      ]
    },
    {
      "cell_type": "markdown",
      "metadata": {
        "id": "7IHBbrKkyZ3j"
      },
      "source": [
        ""
      ]
    },
    {
      "cell_type": "markdown",
      "metadata": {
        "id": "7MJxNM99yZv0"
      },
      "source": [
        "문제387. 위에서 출력된 gini2 리스트의 요소들을 shuffle 로 섞어보시오 !"
      ]
    },
    {
      "cell_type": "code",
      "metadata": {
        "colab": {
          "base_uri": "https://localhost:8080/"
        },
        "id": "QjCzhziqybF8",
        "outputId": "0260fc60-d92b-4086-a1da-0338cd0a59d0"
      },
      "source": [
        "from random import shuffle \r\n",
        "\r\n",
        "gini = { '비틀즈' : ['yesterday', 'imagine'], '아이유' : ['너랑나', '마쉬멜로우'], '마이클 잭슨' : ['beat it', 'smooth criminal'] }\r\n",
        "gini2 = list( gini.values() )\r\n",
        "shuffle(gini2)\r\n",
        "print(gini2)"
      ],
      "execution_count": 44,
      "outputs": [
        {
          "output_type": "stream",
          "text": [
            "[['너랑나', '마쉬멜로우'], ['yesterday', 'imagine'], ['beat it', 'smooth criminal']]\n"
          ],
          "name": "stdout"
        }
      ]
    },
    {
      "cell_type": "markdown",
      "metadata": {
        "id": "qYdRgTeXyiZb"
      },
      "source": [
        ""
      ]
    },
    {
      "cell_type": "markdown",
      "metadata": {
        "id": "8LOEG5JPyiTj"
      },
      "source": [
        ""
      ]
    },
    {
      "cell_type": "markdown",
      "metadata": {
        "id": "CzqacGDZyiNz"
      },
      "source": [
        "문제368. 문제 250번의 자신의 답과 리스트의 요소를 무작위로 섞는 shuffle 함수를 이용해서 코드를 수행할 때 마다 곡이 무작위로 섞여서 출력되게 하시오!  \r\n",
        "(단 조건은 아티스트별로 노래가 겹치면 안된다. 바로 음악 바로 옆에 다른 아티스트의 노래가 나와야 합니다.)\r\n",
        "\r\n",
        "결과예시:\r\n",
        "\r\n",
        "    yesterday,너랑나,beat it,imagine,마슈멜로우,smooth criminal"
      ]
    },
    {
      "cell_type": "code",
      "metadata": {
        "colab": {
          "base_uri": "https://localhost:8080/"
        },
        "id": "-d6vjedIysZr",
        "outputId": "890723dc-d833-41ee-c423-1675824b9f9c"
      },
      "source": [
        "from random import shuffle \r\n",
        "\r\n",
        "gini = { '비틀즈' : ['yesterday', 'imagine'], '아이유' : ['너랑나', '마쉬멜로우'], '마이클 잭슨' : ['beat it', 'smooth criminal'] }\r\n",
        "gini2 = list( gini.values() )\r\n",
        "shuffle(gini2)\r\n",
        "\r\n",
        "a = []\r\n",
        "b = []\r\n",
        "for i in gini2:\r\n",
        "    a.append(i[0])\r\n",
        "    b.append(i[1])\r\n",
        "\r\n",
        "bond = ','\r\n",
        "result = bond.join(a+b)\r\n",
        "print(result)"
      ],
      "execution_count": 52,
      "outputs": [
        {
          "output_type": "stream",
          "text": [
            "yesterday,너랑나,beat it,imagine,마쉬멜로우,smooth criminal\n"
          ],
          "name": "stdout"
        }
      ]
    },
    {
      "cell_type": "markdown",
      "metadata": {
        "id": "FFZ0kIXezIW9"
      },
      "source": [
        ""
      ]
    },
    {
      "cell_type": "markdown",
      "metadata": {
        "id": "WxYQLKX-zIUy"
      },
      "source": [
        ""
      ]
    },
    {
      "cell_type": "markdown",
      "metadata": {
        "id": "nKMZ9S4lzIQk"
      },
      "source": [
        "**■ 126. 사전 요소를 모두 추출하기(items)**\r\n",
        "\r\n",
        "딕셔너리 자료형에서 데이터를 추출하는 방법은 다음과 같습니다.\r\n",
        "\r\n",
        "    1. key 만 추출 : dict.keys()\r\n",
        "    2. 값 만 추출 : dict.values()\r\n",
        "    3. 둘다 추출 : dict.items()\r\n",
        "\r\n",
        "예제:"
      ]
    },
    {
      "cell_type": "code",
      "metadata": {
        "colab": {
          "base_uri": "https://localhost:8080/"
        },
        "id": "DJ35e4pDzMPd",
        "outputId": "1ebb7ffb-aa9f-439f-d052-7148fdb03012"
      },
      "source": [
        "gini = { '비틀즈' : ['yesterday', 'imagine'], '아이유' : ['너랑나', '마쉬멜로우'], \r\n",
        "  '마이클 잭슨' : ['beat it', 'smooth criminal'] }\r\n",
        "\r\n",
        "print( gini.keys() )\r\n",
        "print( gini.values() )\r\n",
        "print( gini.items() )"
      ],
      "execution_count": 53,
      "outputs": [
        {
          "output_type": "stream",
          "text": [
            "dict_keys(['비틀즈', '아이유', '마이클 잭슨'])\n",
            "dict_values([['yesterday', 'imagine'], ['너랑나', '마쉬멜로우'], ['beat it', 'smooth criminal']])\n",
            "dict_items([('비틀즈', ['yesterday', 'imagine']), ('아이유', ['너랑나', '마쉬멜로우']), ('마이클 잭슨', ['beat it', 'smooth criminal'])])\n"
          ],
          "name": "stdout"
        }
      ]
    },
    {
      "cell_type": "markdown",
      "metadata": {
        "id": "NCyduw_1zSo2"
      },
      "source": [
        ""
      ]
    },
    {
      "cell_type": "markdown",
      "metadata": {
        "id": "Cp5JSgMrzSkx"
      },
      "source": [
        ""
      ]
    },
    {
      "cell_type": "markdown",
      "metadata": {
        "id": "0ta5toEJzSgc"
      },
      "source": [
        "문제369. 위의 gini 딕셔너리의 요소들의 items 를 뽑아서 리스트에 담으시오 !"
      ]
    },
    {
      "cell_type": "code",
      "metadata": {
        "colab": {
          "base_uri": "https://localhost:8080/"
        },
        "id": "403W0VBlzTlv",
        "outputId": "1c735bb4-58b6-49ad-9cb0-5663b5cfb3c3"
      },
      "source": [
        "gini = { '비틀즈' : ['yesterday', 'imagine'], '아이유' : ['너랑나', '마쉬멜로우'], '마이클 잭슨' : ['beat it', 'smooth criminal'] }\r\n",
        "result = list( gini.items() )\r\n",
        "print(result)"
      ],
      "execution_count": 54,
      "outputs": [
        {
          "output_type": "stream",
          "text": [
            "[('비틀즈', ['yesterday', 'imagine']), ('아이유', ['너랑나', '마쉬멜로우']), ('마이클 잭슨', ['beat it', 'smooth criminal'])]\n"
          ],
          "name": "stdout"
        }
      ]
    },
    {
      "cell_type": "markdown",
      "metadata": {
        "id": "oZdl4IhWzZAq"
      },
      "source": [
        ""
      ]
    },
    {
      "cell_type": "markdown",
      "metadata": {
        "id": "Pnvz7XNhzY-L"
      },
      "source": [
        ""
      ]
    },
    {
      "cell_type": "markdown",
      "metadata": {
        "id": "LXd09LlFzY6Y"
      },
      "source": [
        "문제370. 위의 result 에서 음악 첫번째 곡들만 아래와 같이 출력하시오 !\r\n",
        "\r\n",
        "    yesterday\r\n",
        "    너랑나\r\n",
        "    beat it\r\n"
      ]
    },
    {
      "cell_type": "code",
      "metadata": {
        "colab": {
          "base_uri": "https://localhost:8080/"
        },
        "id": "yhtpFi7kzbDw",
        "outputId": "6adeaa53-ab58-4b6a-af9b-e6d26b88a46c"
      },
      "source": [
        "gini = { '비틀즈' : ['yesterday', 'imagine'], '아이유' : ['너랑나', '마쉬멜로우'], '마이클 잭슨' : ['beat it', 'smooth criminal'] }\r\n",
        "\r\n",
        "result = list( gini.items() )\r\n",
        "\r\n",
        "for i in result:\r\n",
        "    print(i[1][0])"
      ],
      "execution_count": 55,
      "outputs": [
        {
          "output_type": "stream",
          "text": [
            "yesterday\n",
            "너랑나\n",
            "beat it\n"
          ],
          "name": "stdout"
        }
      ]
    },
    {
      "cell_type": "markdown",
      "metadata": {
        "id": "xa4tiuNl0JMH"
      },
      "source": [
        ""
      ]
    },
    {
      "cell_type": "markdown",
      "metadata": {
        "id": "hqS9X5Es0JIV"
      },
      "source": [
        ""
      ]
    },
    {
      "cell_type": "markdown",
      "metadata": {
        "id": "5yW1Oov80I2p"
      },
      "source": [
        "**■ 127. 사전 정렬하기(sorted)**\r\n",
        "\r\n",
        "파이썬 내장함수 sorted() 는 사전 자료를 인자로 입력받아 정렬할 수 있습니다.  \r\n",
        "사전의 각 요소는 키:값 으로 되어져 있습니다.  \r\n",
        "sorted() 함수에 사전을 인자로 입력하면 기본적으로 사전의 키를 오름차순으로 정렬한 결과를 리스트로 반환합니다.\r\n",
        "\r\n",
        "예제:"
      ]
    },
    {
      "cell_type": "code",
      "metadata": {
        "colab": {
          "base_uri": "https://localhost:8080/"
        },
        "id": "7RpHWW-M0L_I",
        "outputId": "097391be-2e18-4b35-c9af-d95c755f6b58"
      },
      "source": [
        "dict2 = { '소녀시대' : '소원을 말해봐', '방탄소년단' : 'DNA', '오마이걸' : '살짝 설렜어' }\r\n",
        "\r\n",
        "# 1. 위의 dict2 에서 키만 추출\r\n",
        "print(dict2.keys()) \r\n",
        "\r\n",
        "# 2. 위의 dict2 의 키값을 아래와 같이 정렬해서 출력하시오 !\r\n",
        "#    결과: ['방탄소년단', '소녀시대', '오마이걸']\r\n",
        "result = dict2.keys()\r\n",
        "print( sorted(result) )"
      ],
      "execution_count": 57,
      "outputs": [
        {
          "output_type": "stream",
          "text": [
            "dict_keys(['소녀시대', '방탄소년단', '오마이걸'])\n",
            "['방탄소년단', '소녀시대', '오마이걸']\n"
          ],
          "name": "stdout"
        }
      ]
    },
    {
      "cell_type": "markdown",
      "metadata": {
        "id": "Mj9dMQzI0doP"
      },
      "source": [
        ""
      ]
    },
    {
      "cell_type": "markdown",
      "metadata": {
        "id": "j_YcH2kq0dl6"
      },
      "source": [
        ""
      ]
    },
    {
      "cell_type": "markdown",
      "metadata": {
        "id": "CzPSs20l0dhy"
      },
      "source": [
        "문제371. 위의 결과를 reverse 되게 해서 출력하시오 !\r\n",
        "\r\n",
        "결과:\r\n",
        "\r\n",
        "    ['오마이걸', '소녀시대', '방탄소년단']"
      ]
    },
    {
      "cell_type": "code",
      "metadata": {
        "colab": {
          "base_uri": "https://localhost:8080/"
        },
        "id": "QmOKASMg0gG_",
        "outputId": "3917be1a-b60b-4d29-85b5-813c015845f4"
      },
      "source": [
        "dict2 = { '소녀시대' : '소원을 말해봐', '방탄소년단' : 'DNA', '오마이걸' : '살짝 설렜어' }\r\n",
        "\r\n",
        "result = dict2.keys()\r\n",
        "print( sorted(result, reverse = True) )"
      ],
      "execution_count": 59,
      "outputs": [
        {
          "output_type": "stream",
          "text": [
            "['오마이걸', '소녀시대', '방탄소년단']\n"
          ],
          "name": "stdout"
        }
      ]
    },
    {
      "cell_type": "markdown",
      "metadata": {
        "id": "jiFW2wLX0sFY"
      },
      "source": [
        ""
      ]
    },
    {
      "cell_type": "markdown",
      "metadata": {
        "id": "EvtAB-O80sA1"
      },
      "source": [
        ""
      ]
    },
    {
      "cell_type": "markdown",
      "metadata": {
        "id": "fSZvdECS0r8n"
      },
      "source": [
        "문제372. 우리반 데이터(emp1222.csv) 에서 이름과 통신사를 출력하시오 !\r\n"
      ]
    },
    {
      "cell_type": "code",
      "metadata": {
        "id": "rZSFn89D0rva"
      },
      "source": [
        "import csv\r\n",
        "\r\n",
        "file = open(\"/content/drive/MyDrive/data/emp1222.csv\", encoding='cp949')\r\n",
        "emp12_csv = csv.reader(file)\r\n",
        "\r\n",
        "for emp_list in emp12_csv:\r\n",
        "    print( emp_list[1], emp_list[5] )"
      ],
      "execution_count": null,
      "outputs": []
    },
    {
      "cell_type": "markdown",
      "metadata": {
        "id": "OCEtfxS504Zf"
      },
      "source": [
        ""
      ]
    },
    {
      "cell_type": "markdown",
      "metadata": {
        "id": "U1yS4MLq04XR"
      },
      "source": [
        ""
      ]
    },
    {
      "cell_type": "markdown",
      "metadata": {
        "id": "c25CfDSj04Ry"
      },
      "source": [
        "** defaultdictionary 를 이용해서 딕셔너리 값을 리스트로 구성하는 코드\r\n"
      ]
    },
    {
      "cell_type": "code",
      "metadata": {
        "colab": {
          "base_uri": "https://localhost:8080/"
        },
        "id": "nvNMmi1h06We",
        "outputId": "7a36aa1f-23ae-4447-a941-814dce7bc5e9"
      },
      "source": [
        "from collections import defaultdict\r\n",
        "\r\n",
        "gini = defaultdict(list)\r\n",
        "gini['kt'].append('한치')\r\n",
        "gini['kt'].append('두치')\r\n",
        "gini['sk'].append('세치')\r\n",
        "gini['sk'].append('네치')\r\n",
        "print(gini)"
      ],
      "execution_count": 63,
      "outputs": [
        {
          "output_type": "stream",
          "text": [
            "defaultdict(<class 'list'>, {'kt': ['한치', '두치'], 'sk': ['세치', '네치']})\n"
          ],
          "name": "stdout"
        }
      ]
    },
    {
      "cell_type": "markdown",
      "metadata": {
        "id": "IfkvhJSA0-0C"
      },
      "source": [
        ""
      ]
    },
    {
      "cell_type": "markdown",
      "metadata": {
        "id": "WWYRRnus0-jt"
      },
      "source": [
        ""
      ]
    },
    {
      "cell_type": "markdown",
      "metadata": {
        "id": "xSg45hFJ0-eq"
      },
      "source": [
        "문제373. 우리반 데이터에서 통신사를 key 로 하고 학생이름을 값으로 해서 default dictionary 를 생성하시오!  \r\n",
        "( default dictionary 이름은 telecom 으로 하세요)\r\n",
        "\t"
      ]
    },
    {
      "cell_type": "code",
      "metadata": {
        "id": "kTGtiliu0-Zq"
      },
      "source": [
        "import csv\r\n",
        "from collections import defaultdict\r\n",
        "\r\n",
        "file = open(\"/content/drive/MyDrive/data/emp1222.csv\", encoding='cp949')\r\n",
        "emp12_csv = csv.reader(file)\r\n",
        "telecom = defaultdict(list)\r\n",
        "\r\n",
        "for emp_list in emp12_csv:\r\n",
        "    telecom[emp_list[5]].append(emp_list[1])\r\n",
        "\r\n",
        "print(telecom)"
      ],
      "execution_count": null,
      "outputs": []
    },
    {
      "cell_type": "markdown",
      "metadata": {
        "id": "lxgJiXMb1DAU"
      },
      "source": [
        ""
      ]
    },
    {
      "cell_type": "markdown",
      "metadata": {
        "id": "TKVFg--41x7V"
      },
      "source": [
        ""
      ]
    },
    {
      "cell_type": "markdown",
      "metadata": {
        "id": "GpofPRuX1x0Z"
      },
      "source": [
        "문제374. 위에서 구성한 telecom 딕셔너리에서 통신사가 kt 인 학생들을 출력하는데 이름을 ㄱ, ㄴ, ㄷ, ㄹ … 순으로 정렬해서 출력하시오\r\n"
      ]
    },
    {
      "cell_type": "code",
      "metadata": {
        "id": "MQdrbA-l1A84"
      },
      "source": [
        "import csv\r\n",
        "from collections import defaultdict\r\n",
        "\r\n",
        "file = open(\"/content/drive/MyDrive/data/emp1222.csv\", encoding='cp949')\r\n",
        "emp12_csv = csv.reader(file)\r\n",
        "telecom = defaultdict(list)\r\n",
        "\r\n",
        "for emp_list in emp12_csv:\r\n",
        "    telecom[emp_list[5]].append(emp_list[1])\r\n",
        "\r\n",
        "print( sorted(telecom['kt']) )"
      ],
      "execution_count": null,
      "outputs": []
    },
    {
      "cell_type": "markdown",
      "metadata": {
        "id": "a7dluaVM2CP_"
      },
      "source": [
        ""
      ]
    },
    {
      "cell_type": "markdown",
      "metadata": {
        "id": "QuK0KdV_2CNd"
      },
      "source": [
        ""
      ]
    },
    {
      "cell_type": "markdown",
      "metadata": {
        "id": "M-Xv-SQI2CHy"
      },
      "source": [
        "**■ 128. 문자 코드값 구하기(ord)**\r\n",
        "\r\n",
        "파이썬 내장함수 ord() 는 문자를 컴퓨터가 인식하는 코드값으로 변환합니다.\r\n",
        "\r\n",
        "예제:\r\n",
        "\r\n",
        "    A ------------------------> 65\r\n",
        "    인코딩 : 사람이 알아볼 수 있는 언어를 컴퓨터가 알아볼 수 있는 숫자로 변환"
      ]
    },
    {
      "cell_type": "code",
      "metadata": {
        "colab": {
          "base_uri": "https://localhost:8080/"
        },
        "id": "bxxnezLR2JGL",
        "outputId": "13f994e0-22c8-4a88-e556-0e67da671f3a"
      },
      "source": [
        "print(ord('A'))"
      ],
      "execution_count": 71,
      "outputs": [
        {
          "output_type": "stream",
          "text": [
            "65\n"
          ],
          "name": "stdout"
        }
      ]
    },
    {
      "cell_type": "markdown",
      "metadata": {
        "id": "HvRFEyRu2b9Q"
      },
      "source": [
        ""
      ]
    },
    {
      "cell_type": "markdown",
      "metadata": {
        "id": "HzXFiQ332b4z"
      },
      "source": [
        ""
      ]
    },
    {
      "cell_type": "markdown",
      "metadata": {
        "id": "cR9orOhd2caT"
      },
      "source": [
        "문제375. 알파벳 대문자를 출력하시오 !"
      ]
    },
    {
      "cell_type": "code",
      "metadata": {
        "colab": {
          "base_uri": "https://localhost:8080/"
        },
        "id": "W0blhN_N2czU",
        "outputId": "c1c4d4a8-b41c-4ef0-9b0a-b7883001c036"
      },
      "source": [
        "import string\r\n",
        "\r\n",
        "print( string.ascii_uppercase )"
      ],
      "execution_count": 72,
      "outputs": [
        {
          "output_type": "stream",
          "text": [
            "ABCDEFGHIJKLMNOPQRSTUVWXYZ\n"
          ],
          "name": "stdout"
        }
      ]
    },
    {
      "cell_type": "markdown",
      "metadata": {
        "id": "9AP6Gh062hF_"
      },
      "source": [
        ""
      ]
    },
    {
      "cell_type": "markdown",
      "metadata": {
        "id": "sK2jodsI2hDY"
      },
      "source": [
        ""
      ]
    },
    {
      "cell_type": "markdown",
      "metadata": {
        "id": "EYMrKmaB2g-6"
      },
      "source": [
        "문제376. 위의 코드와 ord() 함수를 이용해서 아래의 결과를 출력하시오 !\r\n",
        "\r\n",
        "결과:\r\n",
        "\r\n",
        "    A --------------> 65\r\n",
        "    B --------------> 66\r\n",
        "            :\r\n",
        "    Z --------------> 90"
      ]
    },
    {
      "cell_type": "code",
      "metadata": {
        "colab": {
          "base_uri": "https://localhost:8080/"
        },
        "id": "bRb2mi0k2lIy",
        "outputId": "97aa17a9-d94f-476e-c4a5-643078448755"
      },
      "source": [
        "import string\r\n",
        "\r\n",
        "for i in string.ascii_uppercase:\r\n",
        "    print(i, '-------------->', ord(i))"
      ],
      "execution_count": 74,
      "outputs": [
        {
          "output_type": "stream",
          "text": [
            "A --------------> 65\n",
            "B --------------> 66\n",
            "C --------------> 67\n",
            "D --------------> 68\n",
            "E --------------> 69\n",
            "F --------------> 70\n",
            "G --------------> 71\n",
            "H --------------> 72\n",
            "I --------------> 73\n",
            "J --------------> 74\n",
            "K --------------> 75\n",
            "L --------------> 76\n",
            "M --------------> 77\n",
            "N --------------> 78\n",
            "O --------------> 79\n",
            "P --------------> 80\n",
            "Q --------------> 81\n",
            "R --------------> 82\n",
            "S --------------> 83\n",
            "T --------------> 84\n",
            "U --------------> 85\n",
            "V --------------> 86\n",
            "W --------------> 87\n",
            "X --------------> 88\n",
            "Y --------------> 89\n",
            "Z --------------> 90\n"
          ],
          "name": "stdout"
        }
      ]
    },
    {
      "cell_type": "markdown",
      "metadata": {
        "id": "llV5fOUQ3Al2"
      },
      "source": [
        ""
      ]
    },
    {
      "cell_type": "markdown",
      "metadata": {
        "id": "BwDRW4Sk3Ah2"
      },
      "source": [
        ""
      ]
    },
    {
      "cell_type": "markdown",
      "metadata": {
        "id": "Dna__lwb3Ab-"
      },
      "source": [
        "**■ 129. 코드값에 대응하는 문자 얻기(chr)**\r\n",
        "\r\n",
        "파이썬 내장함수 chr() 은 ord() 함수의 반대기능을 수행합니다.  \r\n",
        "chr() 의 인자로 정수값을 입력하면 이 정수값이 해당하는 문자를 리턴합니다.\r\n",
        "\r\n",
        "예제:"
      ]
    },
    {
      "cell_type": "code",
      "metadata": {
        "colab": {
          "base_uri": "https://localhost:8080/"
        },
        "id": "mJNlsfX93Cs1",
        "outputId": "fade0836-d095-4974-9ed0-466d12228b6b"
      },
      "source": [
        "print( chr(65) )"
      ],
      "execution_count": 75,
      "outputs": [
        {
          "output_type": "stream",
          "text": [
            "A\n"
          ],
          "name": "stdout"
        }
      ]
    },
    {
      "cell_type": "markdown",
      "metadata": {
        "id": "3Nk1pXaY3F7c"
      },
      "source": [
        ""
      ]
    },
    {
      "cell_type": "markdown",
      "metadata": {
        "id": "BHpRN3AU3F2J"
      },
      "source": [
        ""
      ]
    },
    {
      "cell_type": "markdown",
      "metadata": {
        "id": "MbEC1vVe3Fzn"
      },
      "source": [
        "문제377. 아래와 같이 결과를 출력하시오 !\r\n",
        "\r\n",
        "결과:\r\n",
        "\r\n",
        "    65 --------------> A\r\n",
        "    66 --------------> B\r\n",
        "              :\r\n",
        "    90 --------------> Z\r\n"
      ]
    },
    {
      "cell_type": "code",
      "metadata": {
        "colab": {
          "base_uri": "https://localhost:8080/"
        },
        "id": "RS9XgYpW3LJy",
        "outputId": "1e360de3-1010-42ce-a7b8-314035a22918"
      },
      "source": [
        "for i in range(65,91):\r\n",
        "    print(i, '-------------->', chr(i))"
      ],
      "execution_count": 77,
      "outputs": [
        {
          "output_type": "stream",
          "text": [
            "65 --------------> A\n",
            "66 --------------> B\n",
            "67 --------------> C\n",
            "68 --------------> D\n",
            "69 --------------> E\n",
            "70 --------------> F\n",
            "71 --------------> G\n",
            "72 --------------> H\n",
            "73 --------------> I\n",
            "74 --------------> J\n",
            "75 --------------> K\n",
            "76 --------------> L\n",
            "77 --------------> M\n",
            "78 --------------> N\n",
            "79 --------------> O\n",
            "80 --------------> P\n",
            "81 --------------> Q\n",
            "82 --------------> R\n",
            "83 --------------> S\n",
            "84 --------------> T\n",
            "85 --------------> U\n",
            "86 --------------> V\n",
            "87 --------------> W\n",
            "88 --------------> X\n",
            "89 --------------> Y\n",
            "90 --------------> Z\n"
          ],
          "name": "stdout"
        }
      ]
    },
    {
      "cell_type": "markdown",
      "metadata": {
        "id": "lHdHemQr3Yvu"
      },
      "source": [
        ""
      ]
    },
    {
      "cell_type": "markdown",
      "metadata": {
        "id": "4UdQdkj23YtD"
      },
      "source": [
        ""
      ]
    },
    {
      "cell_type": "markdown",
      "metadata": {
        "id": "CQGd40PW3Yqa"
      },
      "source": [
        "**■ 130. 문자열로 된 식을 실행하기(eval‎)**\r\n",
        "\r\n",
        "코드를 작성하다 보면 파일에서 읽은 수식이나 문자열을 그대로 실행해야하는 경우가 있습니다.  \r\n",
        "예를들어 '2+3' 과 같이 두개의 숫자를 더하는 문자열을 텍스트 파일에서 읽어 이를 실행하여 이 수식의 결과인 5를 구하는 경우입니다.\r\n",
        "\r\n",
        "예제:"
      ]
    },
    {
      "cell_type": "code",
      "metadata": {
        "colab": {
          "base_uri": "https://localhost:8080/"
        },
        "id": "9SGl7F4d3iN4",
        "outputId": "af2dd28d-a216-47df-f9d9-feade52493a5"
      },
      "source": [
        "a = '2 + 3'\r\n",
        "print(a) \r\n",
        "print( eval(a) ) "
      ],
      "execution_count": 78,
      "outputs": [
        {
          "output_type": "stream",
          "text": [
            "2 + 3\n",
            "5\n"
          ],
          "name": "stdout"
        }
      ]
    },
    {
      "cell_type": "markdown",
      "metadata": {
        "id": "sy6m5dru3nzj"
      },
      "source": [
        ""
      ]
    },
    {
      "cell_type": "markdown",
      "metadata": {
        "id": "31-2rIxU3nwi"
      },
      "source": [
        ""
      ]
    },
    {
      "cell_type": "markdown",
      "metadata": {
        "id": "kZAxNl7i3nt3"
      },
      "source": [
        "문제378. 아래의 결과를 출력하시오 !\r\n",
        "\r\n",
        "    34 + 256 - 71 * 34 = ?"
      ]
    },
    {
      "cell_type": "code",
      "metadata": {
        "colab": {
          "base_uri": "https://localhost:8080/"
        },
        "id": "sOAye7Zu3pj7",
        "outputId": "85216cfe-b616-43d0-a1e5-6a6d6bf831f3"
      },
      "source": [
        "a = '34 + 256 - 71 * 34'\r\n",
        "print(a, '=', eval(a))"
      ],
      "execution_count": 80,
      "outputs": [
        {
          "output_type": "stream",
          "text": [
            "34 + 256 - 71 * 34 = -2124\n"
          ],
          "name": "stdout"
        }
      ]
    },
    {
      "cell_type": "markdown",
      "metadata": {
        "id": "PQSqBJxv3nre"
      },
      "source": [
        ""
      ]
    },
    {
      "cell_type": "markdown",
      "metadata": {
        "id": "V7LQpr-I3xMx"
      },
      "source": [
        ""
      ]
    },
    {
      "cell_type": "markdown",
      "metadata": {
        "id": "Rp90eOmR3xH1"
      },
      "source": [
        "문제379. 아래의 리스트의 숫자를 뽑아내서 아래의 문자열을 생성하시오 !\r\n",
        "\r\n",
        "    a = [ 34, 22, 45, 27, 31, 33, 55 ]\r\n",
        "\r\n",
        "결과:\r\n",
        "\r\n",
        "    34 + 22 + 45 + 27 + 31 + 33 + 55"
      ]
    },
    {
      "cell_type": "code",
      "metadata": {
        "colab": {
          "base_uri": "https://localhost:8080/"
        },
        "id": "737DWF2q32QF",
        "outputId": "5faf39bd-c0ed-4baa-c6af-9546e3de4d86"
      },
      "source": [
        "a = [ 34, 22, 45, 27, 31, 33, 55 ]\r\n",
        "b = []\r\n",
        "\r\n",
        "for i in a:\r\n",
        "    b.append(str(i))    # 문자로 변경해서 b 리스트에 추가한다.\r\n",
        "\r\n",
        "bond = ' + '\r\n",
        "result = bond.join(b)\r\n",
        "print(result)"
      ],
      "execution_count": 83,
      "outputs": [
        {
          "output_type": "stream",
          "text": [
            "34 + 22 + 45 + 27 + 31 + 33 + 55\n"
          ],
          "name": "stdout"
        }
      ]
    },
    {
      "cell_type": "markdown",
      "metadata": {
        "id": "-TuL5Yib4alt"
      },
      "source": [
        ""
      ]
    },
    {
      "cell_type": "markdown",
      "metadata": {
        "id": "PyxBeFUa4ai6"
      },
      "source": [
        ""
      ]
    },
    {
      "cell_type": "markdown",
      "metadata": {
        "id": "Qasv6gQk4afw"
      },
      "source": [
        "문제380. 아래의 리스트를 가지고 아래의 결과를 출력하시오 !\r\n",
        "\r\n",
        "    a = [ 34, 22, 45, 27, 31, 33, 55 ]\r\n",
        "\r\n",
        "결과 :\r\n",
        "\r\n",
        "    34 + 22 + 45 + 27 + 31 + 33 + 55 = 247"
      ]
    },
    {
      "cell_type": "code",
      "metadata": {
        "colab": {
          "base_uri": "https://localhost:8080/"
        },
        "id": "Szpu6SCb4geH",
        "outputId": "50cc7856-aa9b-4821-ca5c-716889fba518"
      },
      "source": [
        "a = [ 34, 22, 45, 27, 31, 33, 55 ]\r\n",
        "b = []\r\n",
        "\r\n",
        "for i in a:\r\n",
        "    b.append(str(i))\r\n",
        "\r\n",
        "bond = ' + '\r\n",
        "result = bond.join(b)\r\n",
        "print(result, '=', eval(result))"
      ],
      "execution_count": 86,
      "outputs": [
        {
          "output_type": "stream",
          "text": [
            "34 + 22 + 45 + 27 + 31 + 33 + 55 = 247\n"
          ],
          "name": "stdout"
        }
      ]
    },
    {
      "cell_type": "markdown",
      "metadata": {
        "id": "YyAhIt895m8d"
      },
      "source": [
        ""
      ]
    },
    {
      "cell_type": "markdown",
      "metadata": {
        "id": "y49knmVU5m51"
      },
      "source": [
        ""
      ]
    },
    {
      "cell_type": "markdown",
      "metadata": {
        "id": "6_n7QpO35m2R"
      },
      "source": [
        "문제381. 우리반 데이터(emp1222.csv) 에서 나이를 읽어들여 아래와 같이 결과가 출력되게하시오\r\n",
        "\r\n",
        "결과:\r\n",
        "\r\n",
        "    29+31+...+28 = 859"
      ]
    },
    {
      "cell_type": "code",
      "metadata": {
        "colab": {
          "base_uri": "https://localhost:8080/"
        },
        "id": "nYi1Wob-5pIE",
        "outputId": "8db1a91b-dc9a-43ab-810a-06587a3393a3"
      },
      "source": [
        "import csv\r\n",
        "\r\n",
        "file = open(\"/content/drive/MyDrive/data/emp1222.csv\", encoding='cp949')\r\n",
        "emp12_csv = csv.reader(file)\r\n",
        "\r\n",
        "age = []\r\n",
        "for i in emp12_csv:\r\n",
        "    age.append( i[2] )\r\n",
        "\r\n",
        "bond = '+'\r\n",
        "result = bond.join(age)\r\n",
        "print(result, '=', eval(result))"
      ],
      "execution_count": 88,
      "outputs": [
        {
          "output_type": "stream",
          "text": [
            "29+31+35+29+28+28+25+28+27+27+27+26+33+30+27+27+25+28+29+24+24+29+36+26+26+26+44+28+29+28 = 859\n"
          ],
          "name": "stdout"
        }
      ]
    },
    {
      "cell_type": "markdown",
      "metadata": {
        "id": "y3yaNWUI5yJD"
      },
      "source": [
        ""
      ]
    },
    {
      "cell_type": "markdown",
      "metadata": {
        "id": "FKCOuR-x5yGD"
      },
      "source": [
        ""
      ]
    },
    {
      "cell_type": "markdown",
      "metadata": {
        "id": "FRy1Is1T5yDS"
      },
      "source": [
        "**■ 131. 이름없는 한줄짜리 함수 만들기(lambda)**\r\n",
        "\r\n",
        "파이썬에서 함수를 정의하는 방법은 일반적으로 다음과 같습니다.\r\n",
        "\r\n",
        "    def 함수이름(입력매개변수):\r\n",
        "        실행코드\r\n"
      ]
    },
    {
      "cell_type": "code",
      "metadata": {
        "colab": {
          "base_uri": "https://localhost:8080/"
        },
        "id": "u4liUS2G51ih",
        "outputId": "d79beb4e-9cfc-4702-9220-736eb319d7d6"
      },
      "source": [
        "def odd_func(a):\r\n",
        "    if a % 2 == 0:\r\n",
        "        return a\r\n",
        "\r\n",
        "print( odd_func(2) ) \r\n",
        "print( odd_func(3) )   "
      ],
      "execution_count": 89,
      "outputs": [
        {
          "output_type": "stream",
          "text": [
            "2\n",
            "None\n"
          ],
          "name": "stdout"
        }
      ]
    },
    {
      "cell_type": "code",
      "metadata": {
        "colab": {
          "base_uri": "https://localhost:8080/"
        },
        "id": "5nqWHtlE56HM",
        "outputId": "146093ac-b5e0-45da-b978-6747240049e0"
      },
      "source": [
        "def add_func(a, b):\r\n",
        "    return a+b\r\n",
        "\r\n",
        "print( add_func(2, 3) ) "
      ],
      "execution_count": 90,
      "outputs": [
        {
          "output_type": "stream",
          "text": [
            "5\n"
          ],
          "name": "stdout"
        }
      ]
    },
    {
      "cell_type": "markdown",
      "metadata": {
        "id": "aKi_ARHm58Rc"
      },
      "source": [
        "설명: 함수를 만들때 위와 같이 함수 이름을 주고 생성했습니다.\r\n",
        "함수를 생성하는 이유는 함수를 한번 만들면 다음부터는 함수이름을 가지고 함수만 호출하면 되기 때문에 함수를 생성해서 코드를 작성했습니다."
      ]
    },
    {
      "cell_type": "code",
      "metadata": {
        "colab": {
          "base_uri": "https://localhost:8080/"
        },
        "id": "zKs0bqe46ByM",
        "outputId": "e97169d3-be65-47e3-efc8-39f31c792de9"
      },
      "source": [
        "print( add_func(5, 6) )\r\n",
        "print( add_func(7, 2) )"
      ],
      "execution_count": 91,
      "outputs": [
        {
          "output_type": "stream",
          "text": [
            "11\n",
            "9\n"
          ],
          "name": "stdout"
        }
      ]
    },
    {
      "cell_type": "markdown",
      "metadata": {
        "id": "rCs_g29t6HSi"
      },
      "source": [
        ""
      ]
    },
    {
      "cell_type": "markdown",
      "metadata": {
        "id": "Q2MRBQQB6HPx"
      },
      "source": [
        ""
      ]
    },
    {
      "cell_type": "markdown",
      "metadata": {
        "id": "tmLTMg_06HNR"
      },
      "source": [
        "지금부터 만들 함수는 함수 이름 없이 함수를 생성하는 코드입니다.  \r\n",
        "함수 이름을 안주고 함수를 생성한다는것은 이 함수를 지금 이 코드에서 한번만 실행하고 앞으로 쓸 일이 없는 경우 함수 이름없이 함수를 생성합니다.  \r\n",
        "\r\n",
        "    def add_func(a, b):\r\n",
        "        return a+b\r\n",
        "\r\n",
        "    문법: 변수이름 = lambda 입력매개변수 : 실행문\r\n",
        "\r\n",
        "아래와 같이 한 줄짜리 함수를 생성합니다."
      ]
    },
    {
      "cell_type": "code",
      "metadata": {
        "colab": {
          "base_uri": "https://localhost:8080/"
        },
        "id": "KwVUMm-M6J-9",
        "outputId": "5d5d4dd8-e8a5-4627-9cb0-a08021c5a48d"
      },
      "source": [
        "k = lambda a,b : a+b\r\n",
        "print( k(2,3) ) "
      ],
      "execution_count": 92,
      "outputs": [
        {
          "output_type": "stream",
          "text": [
            "5\n"
          ],
          "name": "stdout"
        }
      ]
    },
    {
      "cell_type": "markdown",
      "metadata": {
        "id": "r0LtqueM6W9r"
      },
      "source": [
        ""
      ]
    },
    {
      "cell_type": "markdown",
      "metadata": {
        "id": "aC2S4oJf6W69"
      },
      "source": [
        ""
      ]
    },
    {
      "cell_type": "markdown",
      "metadata": {
        "id": "S9xRuFQO6W4U"
      },
      "source": [
        "문제382. 아래의 함수를 그냥 이름없는 한줄짜리 함수로 만들어 보시오 !\r\n",
        "\r\n",
        "    def gob_func(a, b):\r\n",
        "        return a*b"
      ]
    },
    {
      "cell_type": "code",
      "metadata": {
        "colab": {
          "base_uri": "https://localhost:8080/"
        },
        "id": "nlrjs9D26Zf1",
        "outputId": "4da10685-cf92-4b17-d541-0ae415937c84"
      },
      "source": [
        "k = lambda a,b : a*b\r\n",
        "print( k(2,3) )"
      ],
      "execution_count": 94,
      "outputs": [
        {
          "output_type": "stream",
          "text": [
            "6\n"
          ],
          "name": "stdout"
        }
      ]
    },
    {
      "cell_type": "markdown",
      "metadata": {
        "id": "O6F4Nm_O6iJq"
      },
      "source": [
        ""
      ]
    },
    {
      "cell_type": "markdown",
      "metadata": {
        "id": "pND13SBF6iGq"
      },
      "source": [
        ""
      ]
    },
    {
      "cell_type": "markdown",
      "metadata": {
        "id": "vh42_UTr6iEB"
      },
      "source": [
        "문제383. 아래의 함수를 그냥 이름없는 한줄짜리 함수로 만들어 보시오 !\r\n",
        "\r\n",
        "    def odd_func(a):\r\n",
        "        if a % 2 == 0:\r\n",
        "            return '짝수 입니다'\r\n",
        "        else:\r\n",
        "            return '홀수 입니다'\r\n",
        "\r\n",
        "    print( odd_func(2) )    # 짝수 입니다\r\n",
        "    print( odd_func(3) )    # 홀수 입니다"
      ]
    },
    {
      "cell_type": "code",
      "metadata": {
        "colab": {
          "base_uri": "https://localhost:8080/"
        },
        "id": "QZTfsnXF6mkN",
        "outputId": "d899c6cd-6813-4bdf-cd45-25676e1feba6"
      },
      "source": [
        "k = lambda a : '짝수 입니다' if a % 2 == 0 else '홀수 입니다'\r\n",
        "\r\n",
        "print( k(2) )\r\n",
        "print( k(3) )"
      ],
      "execution_count": 96,
      "outputs": [
        {
          "output_type": "stream",
          "text": [
            "짝수 입니다\n",
            "홀수 입니다\n"
          ],
          "name": "stdout"
        }
      ]
    },
    {
      "cell_type": "markdown",
      "metadata": {
        "id": "4tjWzOTm6_KH"
      },
      "source": [
        ""
      ]
    },
    {
      "cell_type": "markdown",
      "metadata": {
        "id": "VB0zd1dF6_Fw"
      },
      "source": [
        ""
      ]
    },
    {
      "cell_type": "markdown",
      "metadata": {
        "id": "DGbFdesp6_AF"
      },
      "source": [
        "문제384. 아래의 함수를 lambda 로 구현하시오 !\r\n",
        "\r\n",
        "    def high_income(a):\r\n",
        "        if a >= 3000:\r\n",
        "            return '고소득자 입니다'\r\n",
        "       else:\r\n",
        "           return '일반 소득자 입니다'"
      ]
    },
    {
      "cell_type": "code",
      "metadata": {
        "colab": {
          "base_uri": "https://localhost:8080/"
        },
        "id": "nz4iXtR87CRx",
        "outputId": "ebad1b9b-2e2d-449a-df49-096bfc1fcb53"
      },
      "source": [
        "k = lambda a : '고소득자 입니다' if a >= 3000 else '일반 소득자 입니다'\r\n",
        "\r\n",
        "print( k(4000) )\r\n",
        "print( k(2000) )"
      ],
      "execution_count": 98,
      "outputs": [
        {
          "output_type": "stream",
          "text": [
            "고소득자 입니다\n",
            "일반 소득자 입니다\n"
          ],
          "name": "stdout"
        }
      ]
    },
    {
      "cell_type": "markdown",
      "metadata": {
        "id": "jnkhDp5D7OsZ"
      },
      "source": [
        ""
      ]
    },
    {
      "cell_type": "markdown",
      "metadata": {
        "id": "7h4_BYJV7Opu"
      },
      "source": [
        ""
      ]
    },
    {
      "cell_type": "markdown",
      "metadata": {
        "id": "YQ9PxAZ77Om0"
      },
      "source": [
        "문제385. 아래의 함수를 lambda 로 구현하시오 !\r\n",
        "\r\n",
        "    def child_tall(num):\r\n",
        "       if 140 - 1.96 * 5 <= num <= 140 + 1.96 * 5:\r\n",
        "           return '신뢰구간 95% 안에 있습니다'\r\n",
        "        else:\r\n",
        "           return '신뢰구간 95% 안에 없습니다'\r\n",
        "\r\n",
        "    print( child_tall(147) )    # 신뢰구간 95% 안에 있습니다\r\n",
        "    print( child_tall(157) )    # 신뢰구간 95% 안에 없습니다\r\n",
        "\r\n",
        "    신뢰구간 68% ---> 평균 ± 1 * 표준편차\r\n",
        "    신뢰구간 95% ---> 평균 ± 1.96 * 표준편차\r\n",
        "    신뢰구간 99% ---> 평균 ± 2.58 * 표준편차"
      ]
    },
    {
      "cell_type": "code",
      "metadata": {
        "colab": {
          "base_uri": "https://localhost:8080/"
        },
        "id": "O50opsoy7a_L",
        "outputId": "e3db59fe-cbd7-4668-84d8-01e2a2b10fd0"
      },
      "source": [
        "k = lambda a : '신뢰구간 95% 안에 있습니다' if 140 - 1.96 * 5 <= a <= 140 + 1.96 * 5 else '신뢰구간 95% 안에 없습니다.'\r\n",
        "\r\n",
        "print( k(140) )  \r\n",
        "print( k(130) )  "
      ],
      "execution_count": 99,
      "outputs": [
        {
          "output_type": "stream",
          "text": [
            "신뢰구간 95% 안에 있습니다\n",
            "신뢰구간 95% 안에 없습니다.\n"
          ],
          "name": "stdout"
        }
      ]
    },
    {
      "cell_type": "markdown",
      "metadata": {
        "id": "UZPNitir7ef4"
      },
      "source": [
        ""
      ]
    },
    {
      "cell_type": "markdown",
      "metadata": {
        "id": "yQxN9vK_7ec2"
      },
      "source": [
        ""
      ]
    },
    {
      "cell_type": "markdown",
      "metadata": {
        "id": "cXoQu5sD7eaP"
      },
      "source": [
        "문제386. 초등학생 키 데이터를 120 ~ 160 사이로 해서 0.001 간격으로 생성하시오 !"
      ]
    },
    {
      "cell_type": "code",
      "metadata": {
        "colab": {
          "base_uri": "https://localhost:8080/"
        },
        "id": "Lm1thRCL7g0W",
        "outputId": "dc4487ae-be8c-490d-dbf4-80850b220c02"
      },
      "source": [
        "import numpy as np\r\n",
        "\r\n",
        "x = np.arange(120, 160, 0.001)\r\n",
        "print(x)\r\n",
        "print(len(x))"
      ],
      "execution_count": 100,
      "outputs": [
        {
          "output_type": "stream",
          "text": [
            "[120.    120.001 120.002 ... 159.997 159.998 159.999]\n",
            "40000\n"
          ],
          "name": "stdout"
        }
      ]
    },
    {
      "cell_type": "markdown",
      "metadata": {
        "id": "FO-NtVVg7o5w"
      },
      "source": [
        ""
      ]
    },
    {
      "cell_type": "markdown",
      "metadata": {
        "id": "Ler9Gd_I7o2y"
      },
      "source": [
        ""
      ]
    },
    {
      "cell_type": "markdown",
      "metadata": {
        "id": "yay96dEN7ozj"
      },
      "source": [
        "문제387. 위에서 만든 40000건의 데이터에 대한 확률밀도함수값을 출력하시오 !  \r\n",
        "\t     ( 평균값 140, 표준편차 5 )"
      ]
    },
    {
      "cell_type": "code",
      "metadata": {
        "colab": {
          "base_uri": "https://localhost:8080/"
        },
        "id": "JLU5IkAl7rVS",
        "outputId": "777c45fe-3a03-4e0c-ff16-911a45281fbe"
      },
      "source": [
        "import numpy as np\r\n",
        "from scipy.stats import norm\r\n",
        "\r\n",
        "x = np.arange(120, 160, 0.001)\r\n",
        "y = norm.pdf( x, 140, 5 )   # 확률밀도함수\r\n",
        "print(y)"
      ],
      "execution_count": 101,
      "outputs": [
        {
          "output_type": "stream",
          "text": [
            "[2.67660452e-05 2.67874660e-05 2.68089030e-05 ... 2.68303560e-05\n",
            " 2.68089030e-05 2.67874660e-05]\n"
          ],
          "name": "stdout"
        }
      ]
    },
    {
      "cell_type": "markdown",
      "metadata": {
        "id": "ORadtVtP7t-B"
      },
      "source": [
        ""
      ]
    },
    {
      "cell_type": "markdown",
      "metadata": {
        "id": "6FqYsCID7t7B"
      },
      "source": [
        ""
      ]
    },
    {
      "cell_type": "markdown",
      "metadata": {
        "id": "YOdw3Nyr7t4W"
      },
      "source": [
        "문제388. 위의 데이터중 x 값과 y 값을 가지고 시각화 하시오 !"
      ]
    },
    {
      "cell_type": "code",
      "metadata": {
        "colab": {
          "base_uri": "https://localhost:8080/",
          "height": 265
        },
        "id": "yfizPugK7vVB",
        "outputId": "e3091a3f-794b-4c3f-efee-2d16eeaa06b3"
      },
      "source": [
        "import numpy as np\r\n",
        "from scipy.stats import norm\r\n",
        "import matplotlib.pyplot as plt \r\n",
        "\r\n",
        "x = np.arange(120, 160, 0.001)\r\n",
        "y = norm.pdf( x, 140, 5 )\r\n",
        "\r\n",
        "plt.plot( x, y, color = 'red' )\r\n",
        "plt.show()"
      ],
      "execution_count": 102,
      "outputs": [
        {
          "output_type": "display_data",
          "data": {
            "image/png": "[encoded data removed]",
            "text/plain": [
              "<Figure size 432x288 with 1 Axes>"
            ]
          },
          "metadata": {
            "tags": [],
            "needs_background": "light"
          }
        }
      ]
    },
    {
      "cell_type": "markdown",
      "metadata": {
        "id": "_mtbjCsn71wB"
      },
      "source": [
        ""
      ]
    },
    {
      "cell_type": "markdown",
      "metadata": {
        "id": "J8gO9PBI72ef"
      },
      "source": [
        ""
      ]
    },
    {
      "cell_type": "markdown",
      "metadata": {
        "id": "TNTeZuR1729W"
      },
      "source": [
        "문제389. 위의 그래프에서 신뢰구간 95% 에 해당하는 부분만 색깔로 칠하시오 !\r\n",
        "\r\n",
        "    신뢰구간 68% ---> 평균 ± 1 * 표준편차\r\n",
        "    신뢰구간 95% ---> 평균 ± 1.96 * 표준편차\r\n",
        "    신뢰구간 99% ---> 평균 ± 2.58 * 표준편차"
      ]
    },
    {
      "cell_type": "code",
      "metadata": {
        "colab": {
          "base_uri": "https://localhost:8080/",
          "height": 265
        },
        "id": "W7vfjp9-74vc",
        "outputId": "23e817d6-8ef1-4bdf-a380-e6296e3ce9fb"
      },
      "source": [
        "import numpy as np\r\n",
        "from scipy.stats import norm\r\n",
        "import matplotlib.pyplot as plt \r\n",
        "\r\n",
        "x = np.arange(120, 160, 0.001)\r\n",
        "y = norm.pdf( x, 140, 5 )   # 확률밀도함수\r\n",
        "\r\n",
        "plt.plot( x, y, color = 'red' )\r\n",
        "plt.fill_between( x, y, where = ( x >= 140 - 1.96 * 5 ) & ( x <= 140 + 1.96 * 5 ), color = 'red', alpha = 0.5)\r\n",
        "\r\n",
        "plt.show()"
      ],
      "execution_count": 103,
      "outputs": [
        {
          "output_type": "display_data",
          "data": {
            "image/png": "[encoded data removed]",
            "text/plain": [
              "<Figure size 432x288 with 1 Axes>"
            ]
          },
          "metadata": {
            "tags": [],
            "needs_background": "light"
          }
        }
      ]
    },
    {
      "cell_type": "markdown",
      "metadata": {
        "id": "dUcXiOtB78BP"
      },
      "source": [
        "설명: where 에 색칠하는 구간을 지정합니다."
      ]
    },
    {
      "cell_type": "markdown",
      "metadata": {
        "id": "nJFv4BLX78nz"
      },
      "source": [
        ""
      ]
    },
    {
      "cell_type": "markdown",
      "metadata": {
        "id": "8D_Pj5UJ79N6"
      },
      "source": [
        ""
      ]
    },
    {
      "cell_type": "markdown",
      "metadata": {
        "id": "8uTL_rs679wD"
      },
      "source": [
        "문제390.위의 코드를 이용해서 confidence_interval 함수를 생성하고 아래와 같이 신뢰구간을 넣으면 해당 신뢰구간에 해당하는 그래프가 출력되게하시오 !\r\n",
        "\r\n",
        "    confidence_interval(68)\r\n",
        "    confidence_interval(95)\r\n",
        "    confidence_interval(99)\r\n",
        "    \r\n",
        "    신뢰구간 68% ---> 평균 ± 1 * 표준편차\r\n",
        "    신뢰구간 95% ---> 평균 ± 1.96 * 표준편차\r\n",
        "    신뢰구간 99% ---> 평균 ± 2.58 * 표준편차"
      ]
    },
    {
      "cell_type": "code",
      "metadata": {
        "colab": {
          "base_uri": "https://localhost:8080/",
          "height": 761
        },
        "id": "IQqHTxYr8An7",
        "outputId": "5693bda1-bd2e-4083-9be6-2da6288a14bb"
      },
      "source": [
        "def confidence_interval(num):\r\n",
        "    if num == 68:           # 신뢰구간 68% ---> 평균 ± 1 * 표준편차\r\n",
        "        a = 1\r\n",
        "    elif num == 95:         # 신뢰구간 95% ---> 평균 ± 1.96 * 표준편차\r\n",
        "        a = 1.96\r\n",
        "    elif num == 99:         # 신뢰구간 99% ---> 평균 ± 2.58 * 표준편차\r\n",
        "        a = 2.58\r\n",
        "\r\n",
        "    import numpy as np\r\n",
        "    from scipy.stats import norm\r\n",
        "    import matplotlib.pyplot as plt\r\n",
        "\r\n",
        "    x = np.arange(120, 160, 0.001)\r\n",
        "    y = norm.pdf( x, 140, 5 )\r\n",
        "\r\n",
        "    plt.plot( x, y, color = 'purple' )\r\n",
        "    plt.fill_between( x, y, where = ( x >= 140 - a * 5 ) & ( x <= 140 + a * 5 ), color = 'purple', alpha = 0.5)\r\n",
        "    return plt.show()\r\n",
        "\r\n",
        "confidence_interval(68)\r\n",
        "confidence_interval(95)\r\n",
        "confidence_interval(99)"
      ],
      "execution_count": 105,
      "outputs": [
        {
          "output_type": "display_data",
          "data": {
            "image/png": "[encoded data removed]",
            "text/plain": [
              "<Figure size 432x288 with 1 Axes>"
            ]
          },
          "metadata": {
            "tags": [],
            "needs_background": "light"
          }
        },
        {
          "output_type": "display_data",
          "data": {
            "image/png": "[encoded data removed]",
            "text/plain": [
              "<Figure size 432x288 with 1 Axes>"
            ]
          },
          "metadata": {
            "tags": [],
            "needs_background": "light"
          }
        },
        {
          "output_type": "display_data",
          "data": {
            "image/png": "[encoded data removed]",
            "text/plain": [
              "<Figure size 432x288 with 1 Axes>"
            ]
          },
          "metadata": {
            "tags": [],
            "needs_background": "light"
          }
        }
      ]
    }
  ]
}