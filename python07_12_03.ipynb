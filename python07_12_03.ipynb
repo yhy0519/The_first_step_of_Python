{
  "nbformat": 4,
  "nbformat_minor": 0,
  "metadata": {
    "colab": {
      "name": "python07_12_03.ipynb",
      "provenance": [],
      "collapsed_sections": [],
      "mount_file_id": "1ZvV6fvSNkeToVwzK8tHXW613bVbBqqw2",
      "authorship_tag": "ABX9TyPdtXobn3JBuwK0O77Dj1iH",
      "include_colab_link": true
    },
    "kernelspec": {
      "name": "python3",
      "display_name": "Python 3"
    }
  },
  "cells": [
    {
      "cell_type": "markdown",
      "metadata": {
        "id": "view-in-github",
        "colab_type": "text"
      },
      "source": [
        "<a href=\"https://colab.research.google.com/github/yhy0519/The_first_step_of_Python/blob/main/python07_12_03.ipynb\" target=\"_parent\"><img src=\"https://colab.research.google.com/assets/colab-badge.svg\" alt=\"Open In Colab\"/></a>"
      ]
    },
    {
      "cell_type": "markdown",
      "metadata": {
        "id": "jcodROZOozuv"
      },
      "source": [
        "** 클래스를 사용해서 파이썬 코딩을 해야하는 이유 ?\r\n",
        "\r\n",
        "    객체 지향 언어의 장점인 상속을 활용할 수 있기 때문입니다.\r\n",
        "    객체 지향 언어의 장점이 프로그램 할 때 너무 유용하기 때문에 객체를 만드는 것을 지향(선호)하는 프로그램 언어입니다.\r\n",
        "\r\n",
        "신용카드 발급 및 사용 프로그램을 구축하고 싶다면?\r\n",
        "\r\n",
        "    팀장 --> 카드의 중요 기본 기능을 잠는 설계도(클래스)를 생성. \r\n",
        "\t\t     클래스이름 : Card()\r\n",
        "     ↓\r\n",
        "     팀원1(나) : 영화 할인 카드 클래스 생성\r\n",
        "     팀원2(동료) : 주유 할인 카드 클래스 생성\r\n",
        "     (Card() 를 상속받음)\r\n",
        "     \r\n",
        "     상속 코드: class Movie_Card( Card ):\r\n",
        "\r\n",
        "\r\n",
        "\r\n",
        "** 객체 지향 언어의 장점\r\n",
        "\r\n",
        "    만약에 내가 팀장님이 만든 카드의 중요기능(메소드)을 담은 클래스(Card)를 상속받기만 하면 \r\n",
        "    나는 팀장님이 코딩한 카드의 주요 기능을 코딩하지 않아도 되고 단순히 영화 할인에만 집중해서 코드를 구현하면 된다.\r\n",
        "\r\n",
        "\r\n",
        " ※ 파이썬 클래스에서 사용하는 키워드인 self 가 무엇입니까 ?\r\n",
        "\r\n",
        " "
      ]
    },
    {
      "cell_type": "code",
      "metadata": {
        "colab": {
          "base_uri": "https://localhost:8080/"
        },
        "id": "tCtECEyzPZgY",
        "outputId": "dd45ddb6-794e-4b93-f8a5-2b8ee267c964"
      },
      "source": [
        "class Card():\r\n",
        "    def __init__(self):\r\n",
        "        self.cash = 0\r\n",
        "        print('카드가 만들어졌습니다.', self.cash, '원이 충전되었습니다.')\r\n",
        "        \r\n",
        "    def charge( self, num ):\r\n",
        "        self.cash = num\r\n",
        "        print( num, '원이 충전되었습니다.')\r\n",
        "\r\n",
        "scott_card = Card()\r\n",
        "jack_card = Card()\r\n",
        "\r\n",
        "scott_card.charge(100000)   # scott이 scott 카드를 10만원 충전했습니다.\r\n",
        "jack_card.charge(5000000)   # jack이 jack 카드에 500만원 충전"
      ],
      "execution_count": null,
      "outputs": [
        {
          "output_type": "stream",
          "text": [
            "카드가 만들어졌습니다. 0 원이 충전되었습니다.\n",
            "카드가 만들어졌습니다. 0 원이 충전되었습니다.\n",
            "100000 원이 충전되었습니다.\n",
            "5000000 원이 충전되었습니다.\n"
          ],
          "name": "stdout"
        }
      ]
    },
    {
      "cell_type": "markdown",
      "metadata": {
        "id": "mesDFBtAoy6m"
      },
      "source": [
        "설명: 여기서 5000000은 num 변수에 들어가고 jack_card 객체 이름은 self 매개변수에 들어가서 jack_card 에 5000000 충전했다는것을 나타내는 것입니다.\r\n"
      ]
    },
    {
      "cell_type": "markdown",
      "metadata": {
        "id": "8Wv5-r-VnhA6"
      },
      "source": [
        ""
      ]
    },
    {
      "cell_type": "markdown",
      "metadata": {
        "id": "WHb0U89hng7x"
      },
      "source": [
        ""
      ]
    },
    {
      "cell_type": "markdown",
      "metadata": {
        "id": "_UMbNDzFpr7f"
      },
      "source": [
        "**■ 52. 클래스 생성자 이해하기**\r\n",
        "\r\n",
        "클래스의 인스턴스 객체가 생성될 때 자동적으로 호출되는 메소드가 클래스 생성자 입니다.\r\n",
        "클래스 생성자는 __  init  __(self): 입니다.\r\n",
        "\r\n",
        "카드의 기능?\r\n",
        "\r\n",
        "     0. 카드가 처음 만들어질때 0 원으로 충전되게 하는 기능\r\n",
        "     1. 충전\r\n",
        "     2. 소비\r\n",
        "\r\n",
        "예제:"
      ]
    },
    {
      "cell_type": "code",
      "metadata": {
        "colab": {
          "base_uri": "https://localhost:8080/"
        },
        "id": "sg-op1-np2Q2",
        "outputId": "00f4ef12-6966-4ffe-be7b-dc3b4bf356cc"
      },
      "source": [
        "class Card():\r\n",
        "    def __init__(self):      # 생성자 메소드\r\n",
        "        self.cash = 0\r\n",
        "        print( '카드가 발급되었습니다', self.cash, '원이 충전되어있습니다.')\r\n",
        "\r\n",
        "yhy_card = Card()"
      ],
      "execution_count": null,
      "outputs": [
        {
          "output_type": "stream",
          "text": [
            "카드가 발급되었습니다 0 원이 충전되어있습니다.\n"
          ],
          "name": "stdout"
        }
      ]
    },
    {
      "cell_type": "markdown",
      "metadata": {
        "id": "XYIfsjPGnjXl"
      },
      "source": [
        ""
      ]
    },
    {
      "cell_type": "markdown",
      "metadata": {
        "id": "dNQAt322njTV"
      },
      "source": [
        ""
      ]
    },
    {
      "cell_type": "markdown",
      "metadata": {
        "id": "8HbMAhKmqBn3"
      },
      "source": [
        "문제167. 총 클래스를 생성하는데 총 클래스로 아래와 같이 총(제품)을 생성하면 \"총이 만들어졌습니다. 총알은 0발 장전되었습니다.\" 라는 메세지가 출력되게 총 클래스를 만드시오!\r\n",
        "\r\n",
        "    yhy_gun1 = Gun()\r\n",
        "\r\n",
        "    총이 만들어졌습니다. 총알은 0발 장전되었습니다."
      ]
    },
    {
      "cell_type": "code",
      "metadata": {
        "colab": {
          "base_uri": "https://localhost:8080/"
        },
        "id": "ZQ37ukZRqJby",
        "outputId": "4c93c8a6-b2fe-4323-ac3d-13e7e27883c1"
      },
      "source": [
        "class Gun():\r\n",
        "    def __init__(self):      # 생성자 메소드\r\n",
        "        self.bullet = 0\r\n",
        "        print( '총이 만들어졌습니다. 총알은', self.bullet, '발 장전되었습니다.')\r\n",
        "\r\n",
        "yhy_gun1 = Gun()"
      ],
      "execution_count": null,
      "outputs": [
        {
          "output_type": "stream",
          "text": [
            "총이 만들어졌습니다. 총알은 0 발 장전되었습니다.\n"
          ],
          "name": "stdout"
        }
      ]
    },
    {
      "cell_type": "markdown",
      "metadata": {
        "id": "JLanmPemnkLl"
      },
      "source": [
        ""
      ]
    },
    {
      "cell_type": "markdown",
      "metadata": {
        "id": "eloZUkACnj6M"
      },
      "source": [
        ""
      ]
    },
    {
      "cell_type": "markdown",
      "metadata": {
        "id": "KlndR87-qgMn"
      },
      "source": [
        "문제168. 문자열 포멧을 이용해서 위의 메세지를 더 자연스럽게 출력되게하시오 !"
      ]
    },
    {
      "cell_type": "code",
      "metadata": {
        "colab": {
          "base_uri": "https://localhost:8080/"
        },
        "id": "o9lIy4hiqhT9",
        "outputId": "4275d5c1-3f4b-43e9-f242-2df4e9283b52"
      },
      "source": [
        "class Gun():\r\n",
        "    def __init__(self):      # 생성자 메소드\r\n",
        "        self.bullet = 0\r\n",
        "        print( '총이 만들어졌습니다. 총알은 %d발 장전되었습니다.' % self.bullet )\r\n",
        "\r\n",
        "yhy_gun1 = Gun()"
      ],
      "execution_count": null,
      "outputs": [
        {
          "output_type": "stream",
          "text": [
            "총이 만들어졌습니다. 총알은 0발 장전되었습니다.\n"
          ],
          "name": "stdout"
        }
      ]
    },
    {
      "cell_type": "markdown",
      "metadata": {
        "id": "68QMaukVnlCJ"
      },
      "source": [
        ""
      ]
    },
    {
      "cell_type": "markdown",
      "metadata": {
        "id": "i0-6y0q6nko5"
      },
      "source": [
        ""
      ]
    },
    {
      "cell_type": "markdown",
      "metadata": {
        "id": "pu1MCKdLqpc1"
      },
      "source": [
        "**■ 53. 클래스 소멸자 이해하기**\r\n",
        "\r\n",
        "객체가 사라질 때 자동으로 호출되는 함수를 소멸자(__  del  __) 이라고 합니다.\r\n",
        "\r\n",
        "예: \r\n",
        "\r\n",
        "    총 클래스로 yhy_gun1 이라는 총을 만들고 총을 사용하다가 이제 총을 폐기하고 싶으면 del 명령어로 총을 폐기하면 되는데 \r\n",
        "    이때 자동으로 작동되는 메소드(함수)가 소멸자 함수 입니다.\r\n",
        "\r\n",
        "예제:"
      ]
    },
    {
      "cell_type": "code",
      "metadata": {
        "colab": {
          "base_uri": "https://localhost:8080/"
        },
        "id": "9wjoHfS9qz6d",
        "outputId": "a902e14f-dae8-4f26-cae2-c39ce1aac91b"
      },
      "source": [
        "class Gun():\r\n",
        "    def __init__(self):\r\n",
        "        self.bullet = 0\r\n",
        "        print('총 한정이 생성되었습니다.')\r\n",
        "    def __del__(self):\r\n",
        "        print('총이 폐기되었습니다')\r\n",
        "\r\n",
        "yhy_gun1 = Gun()\r\n",
        "\r\n",
        "del yhy_gun1"
      ],
      "execution_count": null,
      "outputs": [
        {
          "output_type": "stream",
          "text": [
            "총 한정이 생성되었습니다.\n",
            "총이 폐기되었습니다\n"
          ],
          "name": "stdout"
        }
      ]
    },
    {
      "cell_type": "markdown",
      "metadata": {
        "id": "oNWd1uqonl9s"
      },
      "source": [
        ""
      ]
    },
    {
      "cell_type": "markdown",
      "metadata": {
        "id": "PaJKGiy-nl23"
      },
      "source": [
        ""
      ]
    },
    {
      "cell_type": "markdown",
      "metadata": {
        "id": "z2gIrebFrLEV"
      },
      "source": [
        "**■ 54. 클래스 상속 이해하기**\r\n",
        "\r\n",
        "클래스는 상속이라는 특성을 가지고 있는 이름 공간입니다.  \r\n",
        "클래스에서 상속이란 어떤 클래스가 가지고 있는 멤버(변수)나 메소드(함수)를\r\n",
        "상속받는 클래스가 모두 사용할 수 있도록 해주는 것입니다.  \r\n",
        "상속을 해주는 클래스를 부모 클래스 또는 슈퍼 클래스라고 하고\r\n",
        "상속을 받는 클래스를 자식 클래스 또는 서브 클래스라고 합니다.  \r\n",
        "부모 클래스로 부터 상속을 받아 자식 클래스를 정의하는 방법은 다음과 같습니다.\r\n",
        "\r\n",
        "예제:\r\n",
        "\r\n",
        "    class 자식클래스이름(부모클래스이름):\r\n",
        "\r\n",
        "설명: 자식 클래스는 부모 클래스에서 정의된 모든 멤버와 메소드를 그대로 상속 받습니다.\r\n",
        "\r\n",
        "    1. 팀장님이 카드의 주요기능을 담고 있는 Card() 클래스를 생성한다.\r\n",
        "    \r\n",
        "    2. 팀원인 나는 영화할인 카드 클래스를 만들것인데 팀장님이 구현한 카드의 주요기능을 Card() 클래스로 부터 다 상속받고 \r\n",
        "       나는 팀장님이 구현한 코드는 구현하지 않습니다.\r\n",
        "       나는 그냥 영화할인에 집중해서 메소드를 만들면 됩니다.\r\n",
        "\r\n",
        "예제:\r\n",
        "\r\n",
        "    팀장님이 만든 카드 class (카드 설계도)  부모클래스\r\n",
        "     1. 카드가 발급되었을때 0원이 충전되게 하는 기능 : __init__(self)\r\n",
        "     2. 카드를 충전하는 기능 : charge(self, num):\r\n",
        "     3. 카드를 쓰는 기능 : consume(self, num):"
      ]
    },
    {
      "cell_type": "code",
      "metadata": {
        "colab": {
          "base_uri": "https://localhost:8080/"
        },
        "id": "WJhEr8bnreR3",
        "outputId": "0d01486b-cb00-4927-980a-5348726d0f4f"
      },
      "source": [
        "class Card():  # 부모 클래스\r\n",
        "    def __init__(self):\r\n",
        "        self.cash = 0\r\n",
        "        print('카드가 발급되었습니다.')\r\n",
        "\r\n",
        "    def charge(self, num):\r\n",
        "        self.cash += num\r\n",
        "        print(num, '원이 충전되었습니다.')\r\n",
        "\r\n",
        "    def consume(self, num):\r\n",
        "        if self.cash >= num:    # 잔액이 소비하는 돈보다 커야지만 쓸 수 있게\r\n",
        "            self.cash -= num\r\n",
        "            print(num, '원이 사용되었습니다.')\r\n",
        "        else:\r\n",
        "            print('잔액이 부족합니다')\r\n",
        "\r\n",
        "yhy_card1 = Card()\r\n",
        "yhy_card1.charge(10000)\r\n",
        "yhy_card1.consume(8000)"
      ],
      "execution_count": null,
      "outputs": [
        {
          "output_type": "stream",
          "text": [
            "카드가 발급되었습니다.\n",
            "10000 원이 충전되었습니다.\n",
            "8000 원이 사용되었습니다.\n"
          ],
          "name": "stdout"
        }
      ]
    },
    {
      "cell_type": "markdown",
      "metadata": {
        "id": "w56mCMpxnnWD"
      },
      "source": [
        ""
      ]
    },
    {
      "cell_type": "markdown",
      "metadata": {
        "id": "Rmn5SsiWnnSE"
      },
      "source": [
        ""
      ]
    },
    {
      "cell_type": "markdown",
      "metadata": {
        "id": "Iz4W-lfpr5fF"
      },
      "source": [
        "문제169. 충전한 금액보다 더 많은 금액을 소비하면 어떻게 되는지 테스트하시오 !\r\n"
      ]
    },
    {
      "cell_type": "code",
      "metadata": {
        "colab": {
          "base_uri": "https://localhost:8080/"
        },
        "id": "P9t6CufSr6st",
        "outputId": "9bf18c75-561f-4823-afd4-8cb9804a4686"
      },
      "source": [
        "class Card():  # 부모 클래스\r\n",
        "    def __init__(self):\r\n",
        "        self.cash = 0\r\n",
        "        print('카드가 발급되었습니다.')\r\n",
        "\r\n",
        "    def charge(self, num):\r\n",
        "        self.cash += num\r\n",
        "        print(num, '원이 충전되었습니다.')\r\n",
        "\r\n",
        "    def consume(self, num):\r\n",
        "        if self.cash >= num:    # 잔액이 소비하는 돈보다 커야지만 쓸 수 있게\r\n",
        "            self.cash -= num\r\n",
        "            print(num, '원이 사용되었습니다.')\r\n",
        "        else:\r\n",
        "            print('잔액이 부족합니다')\r\n",
        "\r\n",
        "yhy_card1 = Card()\r\n",
        "yhy_card1.charge(10000)\r\n",
        "yhy_card1.consume(80000)"
      ],
      "execution_count": null,
      "outputs": [
        {
          "output_type": "stream",
          "text": [
            "카드가 발급되었습니다.\n",
            "10000 원이 충전되었습니다.\n",
            "잔액이 부족합니다\n"
          ],
          "name": "stdout"
        }
      ]
    },
    {
      "cell_type": "markdown",
      "metadata": {
        "id": "V-IAhojQnoAB"
      },
      "source": [
        ""
      ]
    },
    {
      "cell_type": "markdown",
      "metadata": {
        "id": "cKh9DN5Unn8J"
      },
      "source": [
        ""
      ]
    },
    {
      "cell_type": "markdown",
      "metadata": {
        "id": "uFbK7IF1sG9M"
      },
      "source": [
        "문제170. 팀장님이 만든 Card() 클래스를 상속받아 영화할인 카드를 생성하시오!\r\n",
        "\t     ( 영화할인 카드 클래스: Movie_Card() )"
      ]
    },
    {
      "cell_type": "code",
      "metadata": {
        "colab": {
          "base_uri": "https://localhost:8080/"
        },
        "id": "lf-WSzpxsIqV",
        "outputId": "ba1cfda2-25a8-414a-9acf-0b52dcbcc71d"
      },
      "source": [
        "class Movie_Card( Card ):   # 부모클래스인 Card 클래스를 상속받아 Movie_Card 클래스를 만든다.\r\n",
        "    pass\r\n",
        "\r\n",
        "m_card1 = Movie_Card()\r\n",
        "m_card1. charge(100000)\r\n",
        "m_card1.consume(8000)"
      ],
      "execution_count": null,
      "outputs": [
        {
          "output_type": "stream",
          "text": [
            "카드가 발급되었습니다.\n",
            "100000 원이 충전되었습니다.\n",
            "8000 원이 사용되었습니다.\n"
          ],
          "name": "stdout"
        }
      ]
    },
    {
      "cell_type": "markdown",
      "metadata": {
        "id": "dD3zwcGHno3t"
      },
      "source": [
        ""
      ]
    },
    {
      "cell_type": "markdown",
      "metadata": {
        "id": "27vLIj8znolt"
      },
      "source": [
        ""
      ]
    },
    {
      "cell_type": "markdown",
      "metadata": {
        "id": "q5navT7QsYRd"
      },
      "source": [
        "문제171. 이번에는 제대로 영화관에서 사용하면 할인이 될 수 있도록 영화 클래스를 생성하시오!\r\n"
      ]
    },
    {
      "cell_type": "code",
      "metadata": {
        "colab": {
          "base_uri": "https://localhost:8080/"
        },
        "id": "B7zOVV1ksZYg",
        "outputId": "c5239776-584c-4cdb-9f2a-b9d6d1bfe793"
      },
      "source": [
        "class Movie_Card( Card ):                  # 부모에게 __init__, charge, consume 을 상속받았다.\r\n",
        "    def consume(self, num, place):         # 부모에게 받은 consume 은 내가 만든 consume로 \r\n",
        "        if place == '영화관':              # 덮어쓰기(overriding) 가 됩니다.\r\n",
        "            num = 0.8 * num\r\n",
        "            if self.cash >= num:           # 잔액이 num 보다 크면 카드를 사용하고\r\n",
        "                self.cash -= num\r\n",
        "                print( place, '에서', num, '원이 사용되었습니다.')\r\n",
        "            else:                              # 아니면 잔액이 부족하다고 출력해라\r\n",
        "                print('잔액이 부족합니다')\r\n",
        "        else:                                  # 영화관에서 사용한게 아니라면 아래의 코드가 수행되게 해라\r\n",
        "            if self.cash >= num:\r\n",
        "                self.cash -= num\r\n",
        "                print(place, '에서', num, '원이 사용되었습니다')\r\n",
        "            else:\r\n",
        "                print('잔액이 부족합니다')\r\n",
        "\r\n",
        "m_card1 = Movie_Card()\r\n",
        "m_card1.charge(10000)\r\n",
        "m_card1.consume(8000,'영화관')\r\n",
        "m_card1.consume(2000,'편의점') "
      ],
      "execution_count": null,
      "outputs": [
        {
          "output_type": "stream",
          "text": [
            "카드가 발급되었습니다.\n",
            "10000 원이 충전되었습니다.\n",
            "영화관 에서 6400.0 원이 사용되었습니다.\n",
            "편의점 에서 2000 원이 사용되었습니다\n"
          ],
          "name": "stdout"
        }
      ]
    },
    {
      "cell_type": "markdown",
      "metadata": {
        "id": "CgastS8LnpYh"
      },
      "source": [
        ""
      ]
    },
    {
      "cell_type": "markdown",
      "metadata": {
        "id": "APIKveVCnpUi"
      },
      "source": [
        ""
      ]
    },
    {
      "cell_type": "markdown",
      "metadata": {
        "id": "kA98ynNvcReY"
      },
      "source": [
        "문제172. 위의 영화할인 카드에 할인 장소를 추가해서 주유소에서도 20% 할인 될 수 있도록 코드를 수정하시오!"
      ]
    },
    {
      "cell_type": "code",
      "metadata": {
        "colab": {
          "base_uri": "https://localhost:8080/"
        },
        "id": "u0pmm2LwcTCd",
        "outputId": "82d7bbf3-5d7e-4a43-8957-1403ba863b31"
      },
      "source": [
        "class Movie_Card( Card ):               # 부모에게 __init__, charge, consume 을 상속받았다.\r\n",
        "    def consume(self, num, place):     # 부모에게 받은 consume 은 내가 만든 consume로 \r\n",
        "        if place in ('영화관', '주유소'):              # 덮어쓰기(overriding) 가 됩니다.\r\n",
        "            num = 0.8 * num\r\n",
        "            if self.cash >= num:          # 잔액이 num 보다 크면 카드를 사용하고\r\n",
        "                self.cash -= num\r\n",
        "                print( place, '에서', num, '원이 사용되었습니다.')\r\n",
        "            else:                               # 아니면 잔액이 부족하다고 출력해라\r\n",
        "                print('잔액이 부족합니다')\r\n",
        "        else:                                    # 영화관에서 사용한게 아니라면 아래의 코드가 수행되게 해라\r\n",
        "            if self.cash >= num:\r\n",
        "                self.cash -= num\r\n",
        "                print(place, '에서', num, '원이 사용되었습니다')\r\n",
        "            else:\r\n",
        "                print('잔액이 부족합니다')\r\n",
        "\r\n",
        "m_card1 = Movie_Card()\r\n",
        "m_card1.charge(100000)\r\n",
        "m_card1.consume(12000,'영화관')\r\n",
        "m_card1.consume(30000,'주유소')\r\n",
        "m_card1.consume(2000,'편의점') "
      ],
      "execution_count": null,
      "outputs": [
        {
          "output_type": "stream",
          "text": [
            "카드가 발급되었습니다.\n",
            "100000 원이 충전되었습니다.\n",
            "영화관 에서 9600.0 원이 사용되었습니다.\n",
            "주유소 에서 24000.0 원이 사용되었습니다.\n",
            "편의점 에서 2000 원이 사용되었습니다\n"
          ],
          "name": "stdout"
        }
      ]
    },
    {
      "cell_type": "markdown",
      "metadata": {
        "id": "7cbuzid1nqfi"
      },
      "source": [
        ""
      ]
    },
    {
      "cell_type": "markdown",
      "metadata": {
        "id": "MkfFtBmfnqa5"
      },
      "source": [
        ""
      ]
    },
    {
      "cell_type": "markdown",
      "metadata": {
        "id": "x_IyzQeedE2d"
      },
      "source": [
        "문제173. 영화관과 주유소에서는 20% 할인되게하고 스타벅스에서는 10% 할인되게 코드를 수정하시오\r\n"
      ]
    },
    {
      "cell_type": "code",
      "metadata": {
        "id": "3j92gyzjkIJ1",
        "colab": {
          "base_uri": "https://localhost:8080/"
        },
        "outputId": "a37e7173-1ddf-4d35-cb8a-12652d65878e"
      },
      "source": [
        "class Movie_Card( Card ):               # 부모에게 __init__, charge, consume 을 상속받았다.\r\n",
        "    def consume(self, num, place):     # 부모에게 받은 consume 은 내가 만든 consume로 \r\n",
        "        if place in ('영화관', '주유소'):              # 덮어쓰기(overriding) 가 됩니다.\r\n",
        "            num = 0.8 * num\r\n",
        "            if self.cash >= num:          # 잔액이 num 보다 크면 카드를 사용하고\r\n",
        "                self.cash -= num\r\n",
        "                print( place, '에서', num, '원이 사용되었습니다.')\r\n",
        "            else:                               # 아니면 잔액이 부족하다고 출력해라\r\n",
        "                print('잔액이 부족합니다')\r\n",
        "        elif place == '스타벅스':\r\n",
        "            num = 0.9 * num\r\n",
        "            if self.cash >= num:\r\n",
        "                self.cash -= num\r\n",
        "                print( place, '에서', num, '원이 사용되었습니다.')\r\n",
        "        else:                                    # 영화관에서 사용한게 아니라면 아래의 코드가 수행되게 해라\r\n",
        "            if self.cash >= num:\r\n",
        "                self.cash -= num\r\n",
        "                print(place, '에서', num, '원이 사용되었습니다')\r\n",
        "            else:\r\n",
        "                print('잔액이 부족합니다')\r\n",
        "\r\n",
        "m_card1 = Movie_Card()\r\n",
        "m_card1.charge(100000)\r\n",
        "m_card1.consume(12000,'영화관')\r\n",
        "m_card1.consume(30000,'주유소')\r\n",
        "m_card1.consume(60000,'스타벅스')\r\n",
        "m_card1.consume(2000,'편의점') "
      ],
      "execution_count": null,
      "outputs": [
        {
          "output_type": "stream",
          "text": [
            "카드가 발급되었습니다.\n",
            "100000 원이 충전되었습니다.\n",
            "영화관 에서 9600.0 원이 사용되었습니다.\n",
            "주유소 에서 24000.0 원이 사용되었습니다.\n",
            "스타벅스 에서 54000.0 원이 사용되었습니다.\n",
            "편의점 에서 2000 원이 사용되었습니다\n"
          ],
          "name": "stdout"
        }
      ]
    },
    {
      "cell_type": "markdown",
      "metadata": {
        "id": "cSbj3MQ-nrYO"
      },
      "source": [
        ""
      ]
    },
    {
      "cell_type": "markdown",
      "metadata": {
        "id": "9p-4YcW4nrUJ"
      },
      "source": [
        ""
      ]
    },
    {
      "cell_type": "markdown",
      "metadata": {
        "id": "0UKVt2LNUHum"
      },
      "source": [
        "**■ 50. 클래스 멤버와 인스턴스 멤버 이해하기**\r\n",
        "\r\n",
        "클래스에서 선언된 변수는 클래스 멤버(변수)와 인스턴스 멤버(변수)가 있습니다.  \r\n",
        "클래스 멤버는 클래스 메소드 바깥에서 선언되고\r\n",
        "인스턴스 멤버는 클래스 메소드 안에서 self 와 함께 선언되는 변수입니다.\r\n"
      ]
    },
    {
      "cell_type": "markdown",
      "metadata": {
        "id": "_qNv_pgEUMmg"
      },
      "source": [
        "예제: 사원이 입사하면 입사한 사원에 대한 이메일을 자동으로 생성하고\r\n",
        "\t이름을 출력하는 함수와 월급을 인상하는 함수를 담는 클래스를 생성"
      ]
    },
    {
      "cell_type": "code",
      "metadata": {
        "colab": {
          "base_uri": "https://localhost:8080/"
        },
        "id": "eFgrTZcmUMJY",
        "outputId": "ee67a67a-19c6-45ca-d7c3-26c1af880d7b"
      },
      "source": [
        "class  Employees:            # 옆에 괄호() 를 따로 쓰지 않은 이유는 밑에 __init__ 함수에 입력 매개변수가 여러 개 이어서 입니다.\r\n",
        "    raise_amount = 1.1                 # 클래스 변수\r\n",
        "    def __init__(self, first, last, pay):  # 클래스(설계도)를 사용해서 객체를 만들때 바로 작동되는 함수\r\n",
        "        self.first = first\r\n",
        "        self.last  = last\r\n",
        "        self.pay   = pay\r\n",
        "        self.email = first.lower() + '.' + last.lower() + '@gmail.com'\r\n",
        "        self.raise_amount = 1.1        # 인스턴스 변수\r\n",
        "\r\n",
        "    def  full_name(self):                 #사원의 전체이름을 출력하는 함수\r\n",
        "        print( '{} {}'.format(self.first, self.last))   # 앞에 중괄호 2개에 각각 self.first, self.last에 있는 값이 입력\r\n",
        "\r\n",
        "    def  apply_raise(self):               # 월급을 인상하는 함수\r\n",
        "        self.pay = int( self.pay * self.raise_amount)\r\n",
        "\r\n",
        "\r\n",
        "emp_chulsu = Employees('chulsu', 'kim', 5000000)\r\n",
        "print(emp_chulsu.pay)"
      ],
      "execution_count": null,
      "outputs": [
        {
          "output_type": "stream",
          "text": [
            "5000000\n"
          ],
          "name": "stdout"
        }
      ]
    },
    {
      "cell_type": "markdown",
      "metadata": {
        "id": "uugGqbsznuD1"
      },
      "source": [
        ""
      ]
    },
    {
      "cell_type": "markdown",
      "metadata": {
        "id": "x9fd_QjUnt-1"
      },
      "source": [
        ""
      ]
    },
    {
      "cell_type": "markdown",
      "metadata": {
        "id": "S3LUwTFA-1p1"
      },
      "source": [
        "문제174. 위에서 생성한 객체 emp_chulsu 의 email 변수에 있는 내용을 출력해보시오 !"
      ]
    },
    {
      "cell_type": "code",
      "metadata": {
        "colab": {
          "base_uri": "https://localhost:8080/"
        },
        "id": "Rp9nQXIM-3GF",
        "outputId": "1ad4ddd4-ed64-4b6c-be12-17ca7ee02e23"
      },
      "source": [
        "class  Employees:            # 옆에 괄호() 를 따로 쓰지 않은 이유는 밑에 __init__ 함수에 입력 매개변수가 여러 개 이어서 입니다.\r\n",
        "    raise_amount = 1.1                 # 클래스 변수\r\n",
        "    def __init__(self, first, last, pay):  # 클래스(설계도)를 사용해서 객체를 만들때 바로 작동되는 함수\r\n",
        "        self.first = first\r\n",
        "        self.last  = last\r\n",
        "        self.pay   = pay\r\n",
        "        self.email = first.lower() + '.' + last.lower() + '@gmail.com'\r\n",
        "        self.raise_amount = 1.1        # 인스턴스 변수\r\n",
        "\r\n",
        "    def  full_name(self):                 #사원의 전체이름을 출력하는 함수\r\n",
        "        print( '{} {}'.format(self.first, self.last))   # 앞에 중괄호 2개에 각각 self.first, self.last에 있는 값이 입력\r\n",
        "\r\n",
        "    def  apply_raise(self):               # 월급을 인상하는 함수\r\n",
        "        self.pay = int( self.pay * self.raise_amount)\r\n",
        "\r\n",
        "\r\n",
        "emp_chulsu = Employees('chulsu', 'kim', 5000000)\r\n",
        "print(emp_chulsu.email)"
      ],
      "execution_count": null,
      "outputs": [
        {
          "output_type": "stream",
          "text": [
            "chulsu.kim@gmail.com\n"
          ],
          "name": "stdout"
        }
      ]
    },
    {
      "cell_type": "markdown",
      "metadata": {
        "id": "XihAEnR3nu0K"
      },
      "source": [
        ""
      ]
    },
    {
      "cell_type": "markdown",
      "metadata": {
        "id": "7MnuttPbnuwO"
      },
      "source": [
        ""
      ]
    },
    {
      "cell_type": "markdown",
      "metadata": {
        "id": "eq4fIOnX-8Fm"
      },
      "source": [
        "문제175. 철수의 월급을 회사규정에 따라 인상시키시오 !"
      ]
    },
    {
      "cell_type": "code",
      "metadata": {
        "colab": {
          "base_uri": "https://localhost:8080/"
        },
        "id": "mSLnrZHL-9qL",
        "outputId": "d1bc9673-256a-4e4c-cb32-2c131dc7c1c9"
      },
      "source": [
        "class  Employees:            # 옆에 괄호() 를 따로 쓰지 않은 이유는 밑에 __init__ 함수에 입력 매개변수가 여러 개 이어서 입니다.\r\n",
        "    raise_amount = 1.1                 # 클래스 변수\r\n",
        "    def __init__(self, first, last, pay):  # 클래스(설계도)를 사용해서 객체를 만들때 바로 작동되는 함수\r\n",
        "        self.first = first\r\n",
        "        self.last  = last\r\n",
        "        self.pay   = pay\r\n",
        "        self.email = first.lower() + '.' + last.lower() + '@gmail.com'\r\n",
        "        self.raise_amount = 1.1        # 인스턴스 변수\r\n",
        "\r\n",
        "    def  full_name(self):                 #사원의 전체이름을 출력하는 함수\r\n",
        "        print( '{} {}'.format(self.first, self.last))   # 앞에 중괄호 2개에 각각 self.first, self.last에 있는 값이 입력\r\n",
        "\r\n",
        "    def  apply_raise(self):               # 월급을 인상하는 함수\r\n",
        "        self.pay = int( self.pay * self.raise_amount)\r\n",
        "\r\n",
        "\r\n",
        "emp_chulsu = Employees('chulsu', 'kim', 5000000)\r\n",
        "emp_chulsu.apply_raise()        # emp_chulsu 객체의 apply_raise() 메소드를 실행한다.\r\n",
        "print(emp_chulsu.pay)"
      ],
      "execution_count": null,
      "outputs": [
        {
          "output_type": "stream",
          "text": [
            "5500000\n"
          ],
          "name": "stdout"
        }
      ]
    },
    {
      "cell_type": "markdown",
      "metadata": {
        "id": "yqGIZsMynvdX"
      },
      "source": [
        ""
      ]
    },
    {
      "cell_type": "markdown",
      "metadata": {
        "id": "kvrCdrYSnvZE"
      },
      "source": [
        ""
      ]
    },
    {
      "cell_type": "markdown",
      "metadata": {
        "id": "jwgXT4DF_bpF"
      },
      "source": [
        "문제176. 이번에는 새로운 사원 철수2로 emp_chulsu2 객체를 생성하시오 !"
      ]
    },
    {
      "cell_type": "code",
      "metadata": {
        "id": "3hex_Fwh_cab"
      },
      "source": [
        "emp_chulsu2 = Employees('chulsu', 'kim', 5000000)"
      ],
      "execution_count": null,
      "outputs": []
    },
    {
      "cell_type": "markdown",
      "metadata": {
        "id": "2mugROgSnwf4"
      },
      "source": [
        ""
      ]
    },
    {
      "cell_type": "markdown",
      "metadata": {
        "id": "HfwfsmUYnwEV"
      },
      "source": [
        ""
      ]
    },
    {
      "cell_type": "markdown",
      "metadata": {
        "id": "sRYASlVG_l9q"
      },
      "source": [
        "문제177. 철수2 사원이 월급을 인상시키기 위한 인스턴스 변수를 알아냈습니다.  \r\n",
        "\t     자기는 월급을 10% 인상이 아니라 20% 인상시키고 싶어서 아래와 같이\r\n",
        "\t     emp_chulst2 객체의 멤버인 raise_amount 라는 변수에 1.2 를 할당하고\r\n",
        "\t     월급을 인상시키는 apply_raise() 메소드를 실행을 했다."
      ]
    },
    {
      "cell_type": "code",
      "metadata": {
        "colab": {
          "base_uri": "https://localhost:8080/"
        },
        "id": "FgN1VP12_qu3",
        "outputId": "c7f1c6f4-8726-4f49-c720-f9287094c425"
      },
      "source": [
        "class  Employees:         \r\n",
        "    raise_amount = 1.1             \r\n",
        "    def __init__(self, first, last, pay): \r\n",
        "        self.first = first\r\n",
        "        self.last  = last\r\n",
        "        self.pay   = pay\r\n",
        "        self.email = first.lower() + '.' + last.lower() + '@gmail.com'\r\n",
        "        self.raise_amount = 1.2        # 인스턴스 변수\r\n",
        "\r\n",
        "    def  full_name(self):                \r\n",
        "        print( '{} {}'.format(self.first, self.last))   \r\n",
        "\r\n",
        "    def  apply_raise(self):               # 월급을 인상하는 함수\r\n",
        "        self.pay = int( self.pay * self.raise_amount)\r\n",
        "\r\n",
        "\r\n",
        "emp_chulsu2 = Employees('chulsu', 'kim', 5000000)\r\n",
        "print(emp_chulsu2.pay)\r\n",
        "emp_chulsu2.apply_raise()      \r\n",
        "print(emp_chulsu2.pay)"
      ],
      "execution_count": null,
      "outputs": [
        {
          "output_type": "stream",
          "text": [
            "5000000\n",
            "6000000\n"
          ],
          "name": "stdout"
        }
      ]
    },
    {
      "cell_type": "markdown",
      "metadata": {
        "id": "jVKMYUHknxU_"
      },
      "source": [
        ""
      ]
    },
    {
      "cell_type": "markdown",
      "metadata": {
        "id": "3um5ETVGnxQ1"
      },
      "source": [
        ""
      ]
    },
    {
      "cell_type": "markdown",
      "metadata": {
        "id": "a0dpaflIADAB"
      },
      "source": [
        "문제178. 그래서 위와 같이 악용이 될수 없도록 막는 방법이 무엇입니까 ?"
      ]
    },
    {
      "cell_type": "code",
      "metadata": {
        "colab": {
          "base_uri": "https://localhost:8080/"
        },
        "id": "7nBvm38RAEib",
        "outputId": "68431d39-7798-4d4c-80b1-340992027461"
      },
      "source": [
        "class  Employees:          \r\n",
        "    raise_amount = 1.1\r\n",
        "    def __init__(self, first, last, pay):\r\n",
        "        self.first = first\r\n",
        "        self.last  = last\r\n",
        "        self.pay   = pay\r\n",
        "        self.email = first.lower() + '.' + last.lower() + '@gmail.com'\r\n",
        "        self.raise_amount = 1.1        # 인스턴스 변수\r\n",
        "\r\n",
        "    def  full_name(self):               \r\n",
        "        print( '{} {}'.format(self.first, self.last))   \r\n",
        "\r\n",
        "    def  apply_raise(self):               # 월급을 인상하는 함수\r\n",
        "        self.pay = int( self.pay * Employees.raise_amount)\r\n",
        "\r\n",
        "emp_chulsu2.raise_amount = 1.2                  # 인스턴스 변수는 1.2로 변경이 되었다.\r\n",
        "\t\t\t\t\t\t\t\t                                # 클래스 변수를 변경한것은 아니다.\r\n",
        "emp_chulsu2 = Employees('chulsu', 'kim', 5000000)                  \r\n",
        "print(emp_chulsu2.pay) \r\n",
        "emp_chulsu2.apply_raise()\r\n",
        "print(emp_chulsu2.pay) "
      ],
      "execution_count": null,
      "outputs": [
        {
          "output_type": "stream",
          "text": [
            "5000000\n",
            "5500000\n"
          ],
          "name": "stdout"
        }
      ]
    },
    {
      "cell_type": "markdown",
      "metadata": {
        "id": "fFJVRFUUnyvY"
      },
      "source": [
        ""
      ]
    },
    {
      "cell_type": "markdown",
      "metadata": {
        "id": "CVs6bZkEAL6Z"
      },
      "source": [
        "    def  apply_raise(self):               # 월급을 인상하는 함수\r\n",
        "        self.pay = int( self.pay * Employees.raise_amount)\r\n",
        "                                       ↑\r\n",
        "\t아까는 여기가 self 였는데 지금은 클래스 이름인 Employees 가 있다.\r\n",
        "\t이 자리에 인스턴스 변수가 아니라 클래스 변수를 썼습니다."
      ]
    },
    {
      "cell_type": "markdown",
      "metadata": {
        "id": "BkiKboUfAp67"
      },
      "source": [
        "설명: 위와 같이 민감한 변수(멤버)들은 인스턴스 변수가 아니라 클래스 변수(멤버)를 사용해서 계산되게 코딩해야합니다.\r\n",
        "\r\n",
        "클래스내의 변수는 2개가 있는데\r\n",
        "\r\n",
        " 1. 클래스 변수 : 메소드 바깥의 변수\r\n",
        "\r\n",
        "        객체 생성이후에 안의 값을 변경할 수 없다.\r\n",
        "\t\t\t\r\n",
        " 2. 인스턴스 변수 : 메소드 안의 변수\r\n",
        "\t\t객체 생성이후에 안의 값을 변경할 수 있다.\r\n",
        "\r\n",
        "앞으로는 클래스를 활용해서 코딩을 하는 습관을 들일 필요가 있습니다."
      ]
    },
    {
      "cell_type": "markdown",
      "metadata": {
        "id": "oJzBWqN0n5Im"
      },
      "source": [
        ""
      ]
    },
    {
      "cell_type": "markdown",
      "metadata": {
        "id": "ag1-6xgUn5Ds"
      },
      "source": [
        ""
      ]
    },
    {
      "cell_type": "markdown",
      "metadata": {
        "id": "uUMAHMWNA7qs"
      },
      "source": [
        "**■ 55. 예외처리 이해하기 ① (try~except)**\r\n",
        "\r\n",
        "프로그램을 작성하다 보면 뜻하지 않은 오류가 발생하는 코드가 있을 수 있습니다.  \r\n",
        "프로그램이 실행되는 동안 오류가 발생하면 프로그램이 더 이상 진행될 수 없는 상태가 되는데 이를 예외사황이라고 합니다.  \r\n",
        "프로그램에 예외가 발생하더라도 프로그램을 중단 시키지 않고 예외에 대한 적절한 처리를 하여 프로그램을 게속 진행 시킬 수 있도록 하는 구문이 try~except 입니다.\r\n",
        "\r\n",
        "예제:\r\n",
        "\r\n",
        "    try:\r\n",
        "        문제가 없을 경우 실행할 코드\r\n",
        "    except:\r\n",
        "        문제가 생겼을 때 실행할 코드"
      ]
    },
    {
      "cell_type": "markdown",
      "metadata": {
        "id": "hyfZQQHsn842"
      },
      "source": [
        ""
      ]
    },
    {
      "cell_type": "markdown",
      "metadata": {
        "id": "IeOm1W6Wn8ts"
      },
      "source": [
        ""
      ]
    },
    {
      "cell_type": "markdown",
      "metadata": {
        "id": "9UN4Qew7BE71"
      },
      "source": [
        "예제1. try~except 를 사용해서 예외처리를 하지 않았을 때의 코드"
      ]
    },
    {
      "cell_type": "code",
      "metadata": {
        "colab": {
          "base_uri": "https://localhost:8080/",
          "height": 360
        },
        "id": "Iqwl5EZcBGI_",
        "outputId": "55394d0c-cedf-4c3f-dd86-ac69bc14c85a"
      },
      "source": [
        "def my_divide():\r\n",
        "    x = input('분자의 숫자를 입력하세요 ~')\r\n",
        "    y = input('분모의 숫자를 입력하세요 ~')\r\n",
        "    return int(x) / int(y)\r\n",
        "\r\n",
        "print( my_divide() )"
      ],
      "execution_count": null,
      "outputs": [
        {
          "output_type": "stream",
          "text": [
            "분자의 숫자를 입력하세요 ~10\n",
            "분모의 숫자를 입력하세요 ~0\n"
          ],
          "name": "stdout"
        },
        {
          "output_type": "error",
          "ename": "ZeroDivisionError",
          "evalue": "ignored",
          "traceback": [
            "\u001b[0;31m---------------------------------------------------------------------------\u001b[0m",
            "\u001b[0;31mZeroDivisionError\u001b[0m                         Traceback (most recent call last)",
            "\u001b[0;32m<ipython-input-34-16b217c0ae4a>\u001b[0m in \u001b[0;36m<module>\u001b[0;34m()\u001b[0m\n\u001b[1;32m      4\u001b[0m     \u001b[0;32mreturn\u001b[0m \u001b[0mint\u001b[0m\u001b[0;34m(\u001b[0m\u001b[0mx\u001b[0m\u001b[0;34m)\u001b[0m \u001b[0;34m/\u001b[0m \u001b[0mint\u001b[0m\u001b[0;34m(\u001b[0m\u001b[0my\u001b[0m\u001b[0;34m)\u001b[0m\u001b[0;34m\u001b[0m\u001b[0;34m\u001b[0m\u001b[0m\n\u001b[1;32m      5\u001b[0m \u001b[0;34m\u001b[0m\u001b[0m\n\u001b[0;32m----> 6\u001b[0;31m \u001b[0mprint\u001b[0m\u001b[0;34m(\u001b[0m \u001b[0mmy_divide\u001b[0m\u001b[0;34m(\u001b[0m\u001b[0;34m)\u001b[0m \u001b[0;34m)\u001b[0m\u001b[0;34m\u001b[0m\u001b[0;34m\u001b[0m\u001b[0m\n\u001b[0m",
            "\u001b[0;32m<ipython-input-34-16b217c0ae4a>\u001b[0m in \u001b[0;36mmy_divide\u001b[0;34m()\u001b[0m\n\u001b[1;32m      2\u001b[0m     \u001b[0mx\u001b[0m \u001b[0;34m=\u001b[0m \u001b[0minput\u001b[0m\u001b[0;34m(\u001b[0m\u001b[0;34m'분자의 숫자를 입력하세요 ~'\u001b[0m\u001b[0;34m)\u001b[0m\u001b[0;34m\u001b[0m\u001b[0;34m\u001b[0m\u001b[0m\n\u001b[1;32m      3\u001b[0m     \u001b[0my\u001b[0m \u001b[0;34m=\u001b[0m \u001b[0minput\u001b[0m\u001b[0;34m(\u001b[0m\u001b[0;34m'분모의 숫자를 입력하세요 ~'\u001b[0m\u001b[0;34m)\u001b[0m\u001b[0;34m\u001b[0m\u001b[0;34m\u001b[0m\u001b[0m\n\u001b[0;32m----> 4\u001b[0;31m     \u001b[0;32mreturn\u001b[0m \u001b[0mint\u001b[0m\u001b[0;34m(\u001b[0m\u001b[0mx\u001b[0m\u001b[0;34m)\u001b[0m \u001b[0;34m/\u001b[0m \u001b[0mint\u001b[0m\u001b[0;34m(\u001b[0m\u001b[0my\u001b[0m\u001b[0;34m)\u001b[0m\u001b[0;34m\u001b[0m\u001b[0;34m\u001b[0m\u001b[0m\n\u001b[0m\u001b[1;32m      5\u001b[0m \u001b[0;34m\u001b[0m\u001b[0m\n\u001b[1;32m      6\u001b[0m \u001b[0mprint\u001b[0m\u001b[0;34m(\u001b[0m \u001b[0mmy_divide\u001b[0m\u001b[0;34m(\u001b[0m\u001b[0;34m)\u001b[0m \u001b[0;34m)\u001b[0m\u001b[0;34m\u001b[0m\u001b[0;34m\u001b[0m\u001b[0m\n",
            "\u001b[0;31mZeroDivisionError\u001b[0m: division by zero"
          ]
        }
      ]
    },
    {
      "cell_type": "markdown",
      "metadata": {
        "id": "kZ00q7POn9lR"
      },
      "source": [
        ""
      ]
    },
    {
      "cell_type": "markdown",
      "metadata": {
        "id": "6hKvvqLTn9gM"
      },
      "source": [
        ""
      ]
    },
    {
      "cell_type": "markdown",
      "metadata": {
        "id": "sPbg-EmgBTSV"
      },
      "source": [
        "예제2. try~except 를 사용했을 때의 예제"
      ]
    },
    {
      "cell_type": "code",
      "metadata": {
        "colab": {
          "base_uri": "https://localhost:8080/"
        },
        "id": "gEEWdkIVBWi0",
        "outputId": "8b7de738-6247-44af-9733-468aaf866e91"
      },
      "source": [
        "def my_divide():\r\n",
        "    try:\r\n",
        "        x = input('분자의 숫자를 입력하세요 ~')\r\n",
        "        y = input('분모의 숫자를 입력하세요 ~')\r\n",
        "        return int(x) / int(y)\r\n",
        "    except:\r\n",
        "        return '당황하셨겠지만 잘못된 값을 입력하셔서 나누기를 할 수 없습니다.'\r\n",
        "\r\n",
        "print( my_divide() )"
      ],
      "execution_count": null,
      "outputs": [
        {
          "output_type": "stream",
          "text": [
            "분자의 숫자를 입력하세요 ~10\n",
            "분모의 숫자를 입력하세요 ~0\n",
            "당황하셨겠지만 잘못된 값을 입력하셔서 나누기를 할 수 없습니다.\n"
          ],
          "name": "stdout"
        }
      ]
    },
    {
      "cell_type": "markdown",
      "metadata": {
        "id": "7SqGxYM7BZpt"
      },
      "source": [
        "설명: try 와 except 사이에 코드가 잘 실행이 된다면 except 이후의 문장은 실행하지 않고\ttry 와 except 사이에 코드가 실행이 안된다면 except 이후의 문장을 실행한다."
      ]
    },
    {
      "cell_type": "markdown",
      "metadata": {
        "id": "I1smhAUFn-Wo"
      },
      "source": [
        ""
      ]
    },
    {
      "cell_type": "markdown",
      "metadata": {
        "id": "j4qapArTn-SU"
      },
      "source": [
        ""
      ]
    },
    {
      "cell_type": "markdown",
      "metadata": {
        "id": "a_9an6xSBccT"
      },
      "source": [
        "문제179. 판다스를 이용해서 emp3.csv 에서 이름과 월급을 출력하시오 !"
      ]
    },
    {
      "cell_type": "code",
      "metadata": {
        "colab": {
          "base_uri": "https://localhost:8080/"
        },
        "id": "D3moUwUPB0Yw",
        "outputId": "596baa82-34d7-4e27-9010-48599b2c1cc7"
      },
      "source": [
        "from google.colab import drive\r\n",
        "drive.mount('/content/drive')"
      ],
      "execution_count": null,
      "outputs": [
        {
          "output_type": "stream",
          "text": [
            "Drive already mounted at /content/drive; to attempt to forcibly remount, call drive.mount(\"/content/drive\", force_remount=True).\n"
          ],
          "name": "stdout"
        }
      ]
    },
    {
      "cell_type": "code",
      "metadata": {
        "colab": {
          "base_uri": "https://localhost:8080/"
        },
        "id": "jEFpXTHIB43p",
        "outputId": "e5148684-2ddc-4a24-e336-6d225b15218a"
      },
      "source": [
        "import pandas as pd\r\n",
        "\r\n",
        "emp = pd.read_csv('/content/drive/MyDrive/data/emp3.csv')\r\n",
        "print( emp[ ['ename', 'sal'] ] )"
      ],
      "execution_count": null,
      "outputs": [
        {
          "output_type": "stream",
          "text": [
            "     ename   sal\n",
            "0     KING  5000\n",
            "1    BLAKE  2850\n",
            "2    CLARK  2450\n",
            "3    JONES  2975\n",
            "4   MARTIN  1250\n",
            "5    ALLEN  1600\n",
            "6   TURNER  1500\n",
            "7    JAMES   950\n",
            "8     WARD  1250\n",
            "9     FORD  3000\n",
            "10   SMITH   800\n",
            "11   SCOTT  3000\n",
            "12   ADAMS  1100\n",
            "13  MILLER  1300\n"
          ],
          "name": "stdout"
        }
      ]
    },
    {
      "cell_type": "markdown",
      "metadata": {
        "id": "EcGCpUrIn_Ib"
      },
      "source": [
        ""
      ]
    },
    {
      "cell_type": "markdown",
      "metadata": {
        "id": "eTmZ9EUXn_C4"
      },
      "source": [
        ""
      ]
    },
    {
      "cell_type": "markdown",
      "metadata": {
        "id": "vcsBjh33CZ43"
      },
      "source": [
        "문제180. 이름이 SCOTT 인 사원의 이름과 월급을 출력하시오 !"
      ]
    },
    {
      "cell_type": "code",
      "metadata": {
        "colab": {
          "base_uri": "https://localhost:8080/"
        },
        "id": "ha1UMrKLCZoQ",
        "outputId": "db2cc2c2-15ae-4ee4-b551-b2c264844b8d"
      },
      "source": [
        "import pandas as pd\r\n",
        "\r\n",
        "emp = pd.read_csv('/content/drive/MyDrive/data/emp3.csv')\r\n",
        "print( emp[['ename', 'sal']][emp['ename'] == 'SCOTT'] )"
      ],
      "execution_count": null,
      "outputs": [
        {
          "output_type": "stream",
          "text": [
            "    ename   sal\n",
            "11  SCOTT  3000\n"
          ],
          "name": "stdout"
        }
      ]
    },
    {
      "cell_type": "markdown",
      "metadata": {
        "id": "LAQ0QL25n_4E"
      },
      "source": [
        ""
      ]
    },
    {
      "cell_type": "markdown",
      "metadata": {
        "id": "gV443pU4n_nQ"
      },
      "source": [
        ""
      ]
    },
    {
      "cell_type": "markdown",
      "metadata": {
        "id": "ZBHWwCqVClvn"
      },
      "source": [
        "문제181. input 함수를 이용해서 이름을 물어보게 하고 이름을 입력하면 해당 사원의 이름과 월급이 출력되게 하시오!"
      ]
    },
    {
      "cell_type": "code",
      "metadata": {
        "colab": {
          "base_uri": "https://localhost:8080/"
        },
        "id": "U4S44hVtCoyv",
        "outputId": "52d4a63e-75f3-42ee-e89f-3d71ee37366a"
      },
      "source": [
        "import pandas as pd\r\n",
        "\r\n",
        "name = input('이름을 입력하세요~')\r\n",
        "emp = pd.read_csv('/content/drive/MyDrive/data/emp3.csv')\r\n",
        "print( emp[['ename', 'sal']][emp['ename'] == name] )"
      ],
      "execution_count": null,
      "outputs": [
        {
          "output_type": "stream",
          "text": [
            "이름을 입력하세요~KING\n",
            "  ename   sal\n",
            "0  KING  5000\n"
          ],
          "name": "stdout"
        }
      ]
    },
    {
      "cell_type": "markdown",
      "metadata": {
        "id": "GXeHbZ_SoAg_"
      },
      "source": [
        ""
      ]
    },
    {
      "cell_type": "markdown",
      "metadata": {
        "id": "Nh21a8nNoASn"
      },
      "source": [
        ""
      ]
    },
    {
      "cell_type": "markdown",
      "metadata": {
        "id": "xEZrw0yMC2Lr"
      },
      "source": [
        "문제182. 이번에는 소문자로 이름을 입력해도 출력되게하시오!"
      ]
    },
    {
      "cell_type": "code",
      "metadata": {
        "colab": {
          "base_uri": "https://localhost:8080/"
        },
        "id": "nQNvEqg2C11z",
        "outputId": "411825b9-c414-4c3e-90ac-3017b143576c"
      },
      "source": [
        "import pandas as pd\r\n",
        "\r\n",
        "name = input('이름을 입력하세요~')\r\n",
        "emp = pd.read_csv('/content/drive/MyDrive/data/emp3.csv')\r\n",
        "print( emp[['ename', 'sal']][emp['ename'] == name.upper()] )"
      ],
      "execution_count": null,
      "outputs": [
        {
          "output_type": "stream",
          "text": [
            "이름을 입력하세요~king\n",
            "  ename   sal\n",
            "0  KING  5000\n"
          ],
          "name": "stdout"
        }
      ]
    },
    {
      "cell_type": "markdown",
      "metadata": {
        "id": "Ague4gZ0oBHR"
      },
      "source": [
        ""
      ]
    },
    {
      "cell_type": "markdown",
      "metadata": {
        "id": "mje0QdQsoBB9"
      },
      "source": [
        ""
      ]
    },
    {
      "cell_type": "markdown",
      "metadata": {
        "id": "nYNb4ycXDADf"
      },
      "source": [
        "문제183. 그런데 이번에는 위의 코드를 실행하는데 없는 사원이름을 입력하시오!"
      ]
    },
    {
      "cell_type": "code",
      "metadata": {
        "colab": {
          "base_uri": "https://localhost:8080/"
        },
        "id": "WEmwb28RC90K",
        "outputId": "45d24d3c-afa0-4932-9ce6-bfaa9d010e44"
      },
      "source": [
        "import pandas as pd\r\n",
        "\r\n",
        "name = input('이름을 입력하세요~')\r\n",
        "emp = pd.read_csv('/content/drive/MyDrive/data/emp3.csv')\r\n",
        "print( emp[['ename', 'sal']][emp['ename'] == name.upper()] )"
      ],
      "execution_count": null,
      "outputs": [
        {
          "output_type": "stream",
          "text": [
            "이름을 입력하세요~jack\n",
            "Empty DataFrame\n",
            "Columns: [ename, sal]\n",
            "Index: []\n"
          ],
          "name": "stdout"
        }
      ]
    },
    {
      "cell_type": "markdown",
      "metadata": {
        "id": "3dzZ9btXoCGZ"
      },
      "source": [
        ""
      ]
    },
    {
      "cell_type": "markdown",
      "metadata": {
        "id": "rZybIGr3oCCG"
      },
      "source": [
        ""
      ]
    },
    {
      "cell_type": "markdown",
      "metadata": {
        "id": "gl32h2hNDGIv"
      },
      "source": [
        "문제184. 위의 코드에 예외처리를 해서 없는 사원이름을 입력하면 입력하신 이름의 사원은 존재하지 않습니다. 라는 메세지가 출력되게하시오!"
      ]
    },
    {
      "cell_type": "markdown",
      "metadata": {
        "id": "DKYnStDRDMfd"
      },
      "source": [
        "답: 이것은 에러가 아니라서 예외처리가 되지 않습니다."
      ]
    },
    {
      "cell_type": "markdown",
      "metadata": {
        "id": "0KpqMIYOoC1P"
      },
      "source": [
        ""
      ]
    },
    {
      "cell_type": "markdown",
      "metadata": {
        "id": "h6S01ETZoCgA"
      },
      "source": [
        ""
      ]
    },
    {
      "cell_type": "markdown",
      "metadata": {
        "id": "gE_qkxPoDNKn"
      },
      "source": [
        "문제185. 숫자를 입력하면 해당 숫자의 제곱값이 출력되는 코드를 구현하시오"
      ]
    },
    {
      "cell_type": "code",
      "metadata": {
        "colab": {
          "base_uri": "https://localhost:8080/"
        },
        "id": "F2PUe0xbDPae",
        "outputId": "9bf6f8b0-f1f1-4803-8215-287420e292db"
      },
      "source": [
        "num = int( input('숫자를 입력하세요~') )\r\n",
        "print( num ** 2 )"
      ],
      "execution_count": null,
      "outputs": [
        {
          "output_type": "stream",
          "text": [
            "숫자를 입력하세요~2\n",
            "4\n"
          ],
          "name": "stdout"
        }
      ]
    },
    {
      "cell_type": "markdown",
      "metadata": {
        "id": "fnYi7GmGoDoc"
      },
      "source": [
        ""
      ]
    },
    {
      "cell_type": "markdown",
      "metadata": {
        "id": "x1cIijC4oDWh"
      },
      "source": [
        ""
      ]
    },
    {
      "cell_type": "markdown",
      "metadata": {
        "id": "3HG-9O5FDaN_"
      },
      "source": [
        "문제186. try ~ except 예외처리를 이용해서 아래와 같이 문자를 입력하면 '잘못된 값을 입력하셨습니다' 라는 메세지가 출력되게하시오!"
      ]
    },
    {
      "cell_type": "code",
      "metadata": {
        "colab": {
          "base_uri": "https://localhost:8080/"
        },
        "id": "nR5PC7YeDdfn",
        "outputId": "c8bda5d2-2abb-4a21-d6bb-a9a32114a995"
      },
      "source": [
        "try:\r\n",
        "    num = int( input('숫자를 입력하세요~') )\r\n",
        "    print( num ** 2 )\r\n",
        "except:\r\n",
        "    print('잘못된 값을 입력하셨습니다.')"
      ],
      "execution_count": null,
      "outputs": [
        {
          "output_type": "stream",
          "text": [
            "숫자를 입력하세요~aa\n",
            "잘못된 값을 입력하셨습니다.\n"
          ],
          "name": "stdout"
        }
      ]
    },
    {
      "cell_type": "markdown",
      "metadata": {
        "id": "rKxYKoBeDtkm"
      },
      "source": [
        "설명: try 와 except 사이의 있는 코드에서 에러가 나야지만 except 이후의 문장을 실행합니다."
      ]
    },
    {
      "cell_type": "markdown",
      "metadata": {
        "id": "lslnp8HOoEfV"
      },
      "source": [
        ""
      ]
    },
    {
      "cell_type": "markdown",
      "metadata": {
        "id": "_CBE8cNnoEQH"
      },
      "source": [
        ""
      ]
    },
    {
      "cell_type": "markdown",
      "metadata": {
        "id": "Wexu_dciDu_G"
      },
      "source": [
        "**■ 56. 예외처리 이해하기 ② (try-except-else)**\r\n",
        "\r\n",
        "어떤 로직을 수행할 때 오류 상황이 아닐 경우에만 어떤 작업을 수행하는 코드를 \r\n",
        "작성해야 할 때가 있다.  \r\n",
        "이런 경우에 try-except-else 구문을 활용합니다.\r\n",
        "\r\n",
        "예제:\r\n",
        "\r\n",
        "    try:\r\n",
        "        실행할 코드 블록\t\r\n",
        "    except:\r\n",
        "        예외처리할 코드 블록\r\n",
        "    else:\r\n",
        "        except 절을 만나지 않았을 경우 실행하는 코드 블록\t\r\n",
        "\r\n"
      ]
    },
    {
      "cell_type": "markdown",
      "metadata": {
        "id": "puUKfVAPoHum"
      },
      "source": [
        ""
      ]
    },
    {
      "cell_type": "markdown",
      "metadata": {
        "id": "cp-MQaS1oHk-"
      },
      "source": [
        ""
      ]
    },
    {
      "cell_type": "markdown",
      "metadata": {
        "id": "2TNa2spOEFln"
      },
      "source": [
        "예제1. 186번 문제 코드 응용"
      ]
    },
    {
      "cell_type": "code",
      "metadata": {
        "colab": {
          "base_uri": "https://localhost:8080/"
        },
        "id": "95RfLrEpDulQ",
        "outputId": "6d39bf84-f9d2-47b1-cc19-e854733f0b68"
      },
      "source": [
        "try:\r\n",
        "    num = int( input('숫자를 입력하세요~') )\r\n",
        "    print( num ** 2 )\r\n",
        "except:\r\n",
        "    print('잘못된 값을 입력하셨습니다')\r\n",
        "else:\r\n",
        "    print('결과 출력에 성공했습니다')"
      ],
      "execution_count": null,
      "outputs": [
        {
          "output_type": "stream",
          "text": [
            "숫자를 입력하세요~4\n",
            "16\n",
            "결과 출력에 성공했습니다\n"
          ],
          "name": "stdout"
        }
      ]
    },
    {
      "cell_type": "code",
      "metadata": {
        "colab": {
          "base_uri": "https://localhost:8080/"
        },
        "id": "qGUp9CT3EOdH",
        "outputId": "6bb2bea8-9b2d-482d-d94a-424fdc1117bf"
      },
      "source": [
        "try:\r\n",
        "    num = int( input('숫자를 입력하세요~') )\r\n",
        "    print( num ** 2 )\r\n",
        "except:\r\n",
        "    print('잘못된 값을 입력하셨습니다')\r\n",
        "else:\r\n",
        "    print('결과 출력에 성공했습니다')"
      ],
      "execution_count": null,
      "outputs": [
        {
          "output_type": "stream",
          "text": [
            "숫자를 입력하세요~aa\n",
            "잘못된 값을 입력하셨습니다\n"
          ],
          "name": "stdout"
        }
      ]
    },
    {
      "cell_type": "markdown",
      "metadata": {
        "id": "V__zgyLoERNZ"
      },
      "source": [
        "설명: try ~ except 사이의 코드에 에러가 안났다면 else: 이후의 문장을 실행합니다."
      ]
    },
    {
      "cell_type": "markdown",
      "metadata": {
        "id": "7c08BvBAoI_o"
      },
      "source": [
        ""
      ]
    },
    {
      "cell_type": "markdown",
      "metadata": {
        "id": "SSjI4q5OoI59"
      },
      "source": [
        ""
      ]
    },
    {
      "cell_type": "markdown",
      "metadata": {
        "id": "xH0P65RAESkn"
      },
      "source": [
        "문제187. 아까 했던 나누기 프로그램을 수정해서 나누기가 성공하면 성공적으로 나누기를 하였습니다. 라는 메세지가 출력되게하시오"
      ]
    },
    {
      "cell_type": "code",
      "metadata": {
        "colab": {
          "base_uri": "https://localhost:8080/"
        },
        "id": "y0ctdqJ9EgmX",
        "outputId": "0910d9d8-f6f0-43fd-e751-0a4786aa4b3b"
      },
      "source": [
        "try:\r\n",
        "    x = input('분자의 숫자를 입력하세요 ~')\r\n",
        "    y = input('분모의 숫자를 입력하세요 ~')\r\n",
        "    print( int(x) / int(y) )\r\n",
        "except:\r\n",
        "    print('당황하셨겠지만 잘못된 값을 입력하셔서 나누기를 할 수 없습니다.')\r\n",
        "else:\r\n",
        "    print('성공적으로 나누기를 하였습니다.')"
      ],
      "execution_count": null,
      "outputs": [
        {
          "output_type": "stream",
          "text": [
            "분자의 숫자를 입력하세요 ~10\n",
            "분모의 숫자를 입력하세요 ~2\n",
            "5.0\n",
            "성공적으로 나누기를 하였습니다.\n"
          ],
          "name": "stdout"
        }
      ]
    },
    {
      "cell_type": "markdown",
      "metadata": {
        "id": "A5RKMGnEoJyT"
      },
      "source": [
        ""
      ]
    },
    {
      "cell_type": "markdown",
      "metadata": {
        "id": "Fy2PGj3YoJdl"
      },
      "source": [
        ""
      ]
    },
    {
      "cell_type": "markdown",
      "metadata": {
        "id": "AH6PEFKFEwz3"
      },
      "source": [
        "**■ 57. 예외처리 이해하기 ③ (try-except-finally)**\r\n",
        "\r\n",
        "오류 발생 유무와 상관없이 어떤 코드를 무조건 실행 시키려면\r\n",
        "try ~ except ~ finally 구문을 활용합니다.  \r\n",
        "무조건 실행시키는 코드는 finally 부분에 작성하면 됩니다.\r\n",
        "\r\n",
        "예:\r\n",
        "\r\n",
        "    try:\r\n",
        "        print('안녕하세요~')\r\n",
        "    except:\r\n",
        "        print('예외가 발생했습니다')\r\n",
        "    finally:\r\n",
        "        print('저는 무조건 실행됩니다')"
      ]
    },
    {
      "cell_type": "markdown",
      "metadata": {
        "id": "YvuuVO_koKgV"
      },
      "source": [
        ""
      ]
    },
    {
      "cell_type": "markdown",
      "metadata": {
        "id": "ZbiGR6jzoKa-"
      },
      "source": [
        ""
      ]
    },
    {
      "cell_type": "markdown",
      "metadata": {
        "id": "rTcKVd3LE-g3"
      },
      "source": [
        "문제188. 나누기하는 프로그램을 실행할 때 오류가 나던 오류가 나지 않던 무조건 \r\n",
        "아래의 메세지가 출력되게하시오 !\r\n",
        "\r\n",
        "    분자의 숫자를 입력하세요 ~10\r\n",
        "    분모의 숫자를 입력하세요 ~2\r\n",
        "    5\r\n",
        "    yhy0519가 만든 프로그램입니다.\r\n",
        "-\r\n",
        "\r\n",
        "    분자의 숫자를 입력하세요 ~10\r\n",
        "    분모의 숫자를 입력하세요 ~0\r\n",
        "    나누기를 할 수 없습니다.\r\n",
        "    yhy0519가 만든 프로그램입니다."
      ]
    },
    {
      "cell_type": "code",
      "metadata": {
        "colab": {
          "base_uri": "https://localhost:8080/"
        },
        "id": "4QBN0oWIH7N5",
        "outputId": "0879044a-e499-41f1-be70-c2a51fc9e4e3"
      },
      "source": [
        "try:\r\n",
        "    x = input('분자의 숫자를 입력하세요 ~')\r\n",
        "    y = input('분모의 숫자를 입력하세요 ~')\r\n",
        "    print( int(x) / int(y) )\r\n",
        "except:\r\n",
        "    print('나누기를 할 수 없습니다.')\r\n",
        "finally:\r\n",
        "    print('yhy0519가 만든 프로그램입니다.')"
      ],
      "execution_count": null,
      "outputs": [
        {
          "output_type": "stream",
          "text": [
            "분자의 숫자를 입력하세요 ~10\n",
            "분모의 숫자를 입력하세요 ~2\n",
            "5.0\n",
            "yhy0519가 만든 프로그램입니다.\n"
          ],
          "name": "stdout"
        }
      ]
    },
    {
      "cell_type": "code",
      "metadata": {
        "colab": {
          "base_uri": "https://localhost:8080/"
        },
        "id": "ReBTdZMexelb",
        "outputId": "ba6b40d2-4cc2-4d4b-bf0b-28d8a2fa0872"
      },
      "source": [
        "try:\r\n",
        "    x = input('분자의 숫자를 입력하세요 ~')\r\n",
        "    y = input('분모의 숫자를 입력하세요 ~')\r\n",
        "    print( int(x) / int(y) )\r\n",
        "except:\r\n",
        "    print('나누기를 할 수 없습니다.')\r\n",
        "finally:\r\n",
        "    print('yhy0519가 만든 프로그램입니다.')"
      ],
      "execution_count": null,
      "outputs": [
        {
          "output_type": "stream",
          "text": [
            "분자의 숫자를 입력하세요 ~10\n",
            "분모의 숫자를 입력하세요 ~0\n",
            "나누기를 할 수 없습니다.\n",
            "yhy0519가 만든 프로그램입니다.\n"
          ],
          "name": "stdout"
        }
      ]
    },
    {
      "cell_type": "markdown",
      "metadata": {
        "id": "2DxRs0IKoLym"
      },
      "source": [
        ""
      ]
    },
    {
      "cell_type": "markdown",
      "metadata": {
        "id": "lGBtESdwoLt8"
      },
      "source": [
        ""
      ]
    },
    {
      "cell_type": "markdown",
      "metadata": {
        "id": "pWgl4U5Cxh-N"
      },
      "source": [
        "문제189. 동전을 10번 던져서 앞면이 2번 나올 확률을 출력하세요! (동전을 10번 던지는 작업을 10000번 수행되게 하시오)"
      ]
    },
    {
      "cell_type": "code",
      "metadata": {
        "colab": {
          "base_uri": "https://localhost:8080/"
        },
        "id": "d9d-4GT9xkDa",
        "outputId": "36513316-c138-4133-e3ca-aa8ce7055b6e"
      },
      "source": [
        "import random\r\n",
        "\r\n",
        "coin = ['앞면', '뒷면']\r\n",
        "cnt2 = 0\r\n",
        "\r\n",
        "for k in range(1, 10001):\r\n",
        "    cnt = 0\r\n",
        "    for i in range(1,11):\r\n",
        "        result = random.choice(coin)\r\n",
        "        if result == '앞면':\r\n",
        "            cnt += 1\r\n",
        "    if cnt == 2:\r\n",
        "      cnt2 += 1\r\n",
        "  \r\n",
        "print(cnt2/10000)"
      ],
      "execution_count": null,
      "outputs": [
        {
          "output_type": "stream",
          "text": [
            "0.0453\n"
          ],
          "name": "stdout"
        }
      ]
    },
    {
      "cell_type": "markdown",
      "metadata": {
        "id": "AqHCFolLoM_h"
      },
      "source": [
        ""
      ]
    },
    {
      "cell_type": "code",
      "metadata": {
        "colab": {
          "base_uri": "https://localhost:8080/"
        },
        "id": "K4tPTdBUyJv1",
        "outputId": "969ba8a2-8513-43c9-8ce8-3a6b2b8f0263"
      },
      "source": [
        "# 다른 답\r\n",
        "import random\r\n",
        "\r\n",
        "coin = [ '앞면', '뒷면' ]\r\n",
        "cnt = 0\r\n",
        "\r\n",
        "for k in range(1, 10001):\r\n",
        "    a = []\r\n",
        "    for i in range(1, 11):\r\n",
        "        result = random.choice(coin)\r\n",
        "        a.append(result)\r\n",
        "    if a.count('앞면') == 2:\r\n",
        "        cnt += 1\r\n",
        "\r\n",
        "print(cnt/10000)"
      ],
      "execution_count": null,
      "outputs": [
        {
          "output_type": "stream",
          "text": [
            "0.0445\n"
          ],
          "name": "stdout"
        }
      ]
    },
    {
      "cell_type": "markdown",
      "metadata": {
        "id": "HuIr1qsqoNfJ"
      },
      "source": [
        ""
      ]
    },
    {
      "cell_type": "markdown",
      "metadata": {
        "id": "hOAExC5WoNa8"
      },
      "source": [
        ""
      ]
    },
    {
      "cell_type": "markdown",
      "metadata": {
        "id": "iTFesRXcyU6j"
      },
      "source": [
        "문제190. 위의 코드를 함수로 생성하여 확률이 출력되게하시오!\r\n",
        "\r\n",
        "    coin_prob(2)\r\n",
        "    coin_prob(4)"
      ]
    },
    {
      "cell_type": "code",
      "metadata": {
        "colab": {
          "base_uri": "https://localhost:8080/"
        },
        "id": "vySBCojgyWWl",
        "outputId": "910f2d68-c0c4-437a-bfee-09a6ef4da329"
      },
      "source": [
        "def coin_prob(num):\r\n",
        "    import random\r\n",
        "\r\n",
        "    coin = ['앞면', '뒷면']\r\n",
        "    cnt2 = 0\r\n",
        "\r\n",
        "    for k in range(1, 10001):\r\n",
        "        cnt = 0\r\n",
        "        for i in range(1,11):\r\n",
        "            result = random.choice(coin)\r\n",
        "            if result == '앞면':\r\n",
        "                cnt += 1\r\n",
        "        if cnt == num:\r\n",
        "          cnt2 += 1\r\n",
        "      \r\n",
        "    print(cnt2/10000)\r\n",
        "\r\n",
        "coin_prob(2)\r\n",
        "coin_prob(4)"
      ],
      "execution_count": null,
      "outputs": [
        {
          "output_type": "stream",
          "text": [
            "0.0454\n",
            "0.1989\n"
          ],
          "name": "stdout"
        }
      ]
    }
  ]
}