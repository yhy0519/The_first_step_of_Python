{
  "nbformat": 4,
  "nbformat_minor": 0,
  "metadata": {
    "colab": {
      "name": "K-beauty.ipynb",
      "provenance": [],
      "collapsed_sections": [],
      "authorship_tag": "ABX9TyPHGgczdoBIWO6l5knSnDvw",
      "include_colab_link": true
    },
    "kernelspec": {
      "name": "python3",
      "display_name": "Python 3"
    }
  },
  "cells": [
    {
      "cell_type": "markdown",
      "metadata": {
        "id": "view-in-github",
        "colab_type": "text"
      },
      "source": [
        "<a href=\"https://colab.research.google.com/github/yhy0519/The_first_step_of_Python/blob/main/K_beauty.ipynb\" target=\"_parent\"><img src=\"https://colab.research.google.com/assets/colab-badge.svg\" alt=\"Open In Colab\"/></a>"
      ]
    },
    {
      "cell_type": "markdown",
      "metadata": {
        "id": "KSlK7Vg6_vst"
      },
      "source": [
        "# **1.국가(대륙)별/상품군별 온라인쇼핑 해외직접판매액**\r\n",
        "1.1 K-Beauty 는 성장하고 있을까?  해외 직접판매를 한다면 어느 국가로 판매전략을 세우면 좋을까?\r\n",
        "\r\n",
        "    ** K-Beauty 란 ?  https://en.wikipedia.org/wiki/K-Beauty\r\n",
        "    ** e : 추정치, p : 잠정치, - : 자료없음, ... : 미상자료, x : 비밀보호, ▽ : 시계열 불연 ( 단위 : 백만원 )\r\n",
        "\r\n",
        "\r\n",
        "** 온라인 쇼핑 판매액\r\n",
        "\r\n",
        "    지난해 연간 온라인 쇼핑 판매액이 18% 증가했습니다.\r\n",
        "    이 분석을 한 뒤에 구매액도 분석해보면 좋을 것 같습니다.\r\n",
        "    어떤 국가로 어떤 판매전략을 세우면 좋을 지 분석해보겠습니다.\r\n",
        "\r\n",
        " "
      ]
    },
    {
      "cell_type": "markdown",
      "metadata": {
        "id": "sjNhkK5W_wHn"
      },
      "source": [
        "# **2. 필요 라이브러리 가져오기**"
      ]
    },
    {
      "cell_type": "code",
      "metadata": {
        "id": "ZveME2Ye_L0S"
      },
      "source": [
        "# 라이브러리 로드\r\n",
        "import pandas as pd\r\n",
        "import seaborn as sns\r\n",
        "import matplotlib.pyplot as plt"
      ],
      "execution_count": 2,
      "outputs": []
    },
    {
      "cell_type": "code",
      "metadata": {
        "id": "5maGjXPu_poD"
      },
      "source": [
        "# 시각화를 위한 폰트 설정\r\n",
        "import os\r\n",
        "\r\n",
        "# os.name  -->  'posix'\r\n",
        "\r\n",
        "if os.name == 'posix':            # mac os\r\n",
        "  sns.set(font=\"AppleGothic\")\r\n",
        "elif os.name == 'nt':             # window\r\n",
        "    sns.set(font=\"Malgun Gothic\")"
      ],
      "execution_count": 6,
      "outputs": []
    },
    {
      "cell_type": "markdown",
      "metadata": {
        "id": "1mMsejJ_WkEx"
      },
      "source": [
        "mac os라면 'posix'라는 문구가 뜨고 Windows는 nt라는 문구가 뜹니다.\r\n",
        "OS 별로 다른 서체를 설정해줍니다."
      ]
    },
    {
      "cell_type": "markdown",
      "metadata": {
        "id": "3PHHb2HBBLCJ"
      },
      "source": [
        "# **3. 데이터 로드하기**"
      ]
    },
    {
      "cell_type": "code",
      "metadata": {
        "id": "xFPqlvtIBlI1"
      },
      "source": [
        "pd.read_csv(\"\")"
      ],
      "execution_count": null,
      "outputs": []
    }
  ]
}