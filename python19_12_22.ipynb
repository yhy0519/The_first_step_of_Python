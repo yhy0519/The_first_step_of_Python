{
  "nbformat": 4,
  "nbformat_minor": 0,
  "metadata": {
    "colab": {
      "name": "python19_12_22.ipynb",
      "provenance": [],
      "collapsed_sections": [],
      "mount_file_id": "11CCoJxmOi59IxUaw9ludYlXLmJel7WWH",
      "authorship_tag": "ABX9TyNnBVFjnKJOwoWvV69cA81Q",
      "include_colab_link": true
    },
    "kernelspec": {
      "name": "python3",
      "display_name": "Python 3"
    }
  },
  "cells": [
    {
      "cell_type": "markdown",
      "metadata": {
        "id": "view-in-github",
        "colab_type": "text"
      },
      "source": [
        "<a href=\"https://colab.research.google.com/github/yhy0519/The_first_step_of_Python/blob/main/python19_12_22.ipynb\" target=\"_parent\"><img src=\"https://colab.research.google.com/assets/colab-badge.svg\" alt=\"Open In Colab\"/></a>"
      ]
    },
    {
      "cell_type": "markdown",
      "metadata": {
        "id": "TVoWdbjMjiFv"
      },
      "source": [
        "**■ 150. 이미지를 숫자로 변환하는 방법 ( 폐사진 )**\r\n",
        "\r\n",
        "딥러닝 수업을 할 때 이미지를 인공 신경망에 넣어서 학습을 시키는데\r\n",
        "인공 신경망에 사진을 넣을 때 숫자로 변환을 해서 넣어야 합니다.\r\n",
        "\r\n",
        "    사진 ------------------> 인공 신경망 ------------------> 폐결절\r\n",
        "\t\t\t\t\t\t\t                        \t\t 정상폐\r\n",
        "\t\t\t\t\t\t\t\t                             폐암 \r\n",
        "\t\t\t\t\t\t\t\t                              :\r\n",
        "\t\t\t\t\t\t                            \t\t 7~10가지 분류 판정\r\n",
        "\r\n",
        "\r\n",
        "공항 검색대에 입국할 때 위반되는 물건을 반입하려고 하면 못하게 막기위해\r\n",
        "사람이 모니터링을 하는데 … 딥러닝 기술으로 컴퓨터가 알아내도록 하려는 기술을 구현\r\n"
      ]
    },
    {
      "cell_type": "markdown",
      "metadata": {
        "id": "q3A_ofMalLIz"
      },
      "source": [
        ""
      ]
    },
    {
      "cell_type": "markdown",
      "metadata": {
        "id": "Tk6WfF7PkgSk"
      },
      "source": [
        "예제1. images 폴더에 있는 사진들의 이름을 불러오는 함수를 생성합니다."
      ]
    },
    {
      "cell_type": "code",
      "metadata": {
        "colab": {
          "base_uri": "https://localhost:8080/"
        },
        "id": "cbdtciyjjdHB",
        "outputId": "9b4f7174-7276-439b-bf17-33aee424b216"
      },
      "source": [
        "import os\r\n",
        "\r\n",
        "test_image = \"/content/drive/MyDrive/images\"\r\n",
        "\r\n",
        "def image_load(path):\r\n",
        "    file_list = os.listdir(path)  # 해당 디렉토리의 파일명을 추출한다.\r\n",
        "    return file_list\r\n",
        "\r\n",
        "print( image_load(test_image) )"
      ],
      "execution_count": 3,
      "outputs": [
        {
          "output_type": "stream",
          "text": [
            "['1.png', '2.png', '3.png', '4.png', '5.png', '6.png', '7.png', '8.png', '9.png', '10.png', '11.png', '12.png', '13.png', '14.png', '15.png', '16.png', '17.png', '18.png', '19.png', '20.png']\n"
          ],
          "name": "stdout"
        }
      ]
    },
    {
      "cell_type": "markdown",
      "metadata": {
        "id": "0myOJpBDlKdM"
      },
      "source": [
        ""
      ]
    },
    {
      "cell_type": "markdown",
      "metadata": {
        "id": "jv4vIAMclKXS"
      },
      "source": [
        ""
      ]
    },
    {
      "cell_type": "markdown",
      "metadata": {
        "id": "gWPNWV71lKSJ"
      },
      "source": [
        "예제2. 위의 결과에서 숫자만 나오게 함수의 코드를 수정하시오 !"
      ]
    },
    {
      "cell_type": "code",
      "metadata": {
        "colab": {
          "base_uri": "https://localhost:8080/"
        },
        "id": "Y-UKa-zNlMN2",
        "outputId": "76ec7b47-83e7-4434-99db-1dbc2cfd70e0"
      },
      "source": [
        "import os\r\n",
        "import re  # 데이터 정제전문 모듈\r\n",
        "\r\n",
        "test_image = \"/content/drive/MyDrive/images\"\r\n",
        "\r\n",
        "def image_load(path):\r\n",
        "    file_list = os.listdir(path)  # 해당 디렉토리의 파일명을 추출한다.\r\n",
        "    file_name = []\r\n",
        "    for i in file_list:\r\n",
        "        a = re.sub('[^0-9]', '', i)   # i 의 값중에서 숫자가 아닌것들은 ''(싱글 두개)인 null 로 변경\r\n",
        "        file_name.append(a)\r\n",
        "    return file_name\r\n",
        "\r\n",
        "print( image_load(test_image) )"
      ],
      "execution_count": 4,
      "outputs": [
        {
          "output_type": "stream",
          "text": [
            "['1', '2', '3', '4', '5', '6', '7', '8', '9', '10', '11', '12', '13', '14', '15', '16', '17', '18', '19', '20']\n"
          ],
          "name": "stdout"
        }
      ]
    },
    {
      "cell_type": "markdown",
      "metadata": {
        "id": "Z_w4oZf-lYuA"
      },
      "source": [
        ""
      ]
    },
    {
      "cell_type": "markdown",
      "metadata": {
        "id": "cB9qqR1YlY19"
      },
      "source": [
        ""
      ]
    },
    {
      "cell_type": "markdown",
      "metadata": {
        "id": "e1zlEUxZlZj9"
      },
      "source": [
        "문제475. 위에서 출력되고 리스트 안의 요소들은 문자입니다. 그런데 문자가 아니라 리스트의 요소들이 숫자가 되게 하세요 ~"
      ]
    },
    {
      "cell_type": "code",
      "metadata": {
        "colab": {
          "base_uri": "https://localhost:8080/"
        },
        "id": "jkyegyz5lZIN",
        "outputId": "1b205e8b-1957-4717-f2bf-1eeef2cfe264"
      },
      "source": [
        "import os\r\n",
        "import re  # 데이터 정제전문 모듈\r\n",
        "\r\n",
        "test_image = \"/content/drive/MyDrive/images\"\r\n",
        "\r\n",
        "def image_load(path):\r\n",
        "    file_list = os.listdir(path)  # 해당 디렉토리의 파일명을 추출한다.\r\n",
        "    file_name = []\r\n",
        "    for i in file_list:\r\n",
        "        a = re.sub('[^0-9]', '', i)   # i 의 값중에서 숫자가 아닌것들은 ''(싱글 두개)인 null 로 변경\r\n",
        "        file_name.append( int(a) )\r\n",
        "    return file_name\r\n",
        "\r\n",
        "print( image_load(test_image) )"
      ],
      "execution_count": 5,
      "outputs": [
        {
          "output_type": "stream",
          "text": [
            "[1, 2, 3, 4, 5, 6, 7, 8, 9, 10, 11, 12, 13, 14, 15, 16, 17, 18, 19, 20]\n"
          ],
          "name": "stdout"
        }
      ]
    },
    {
      "cell_type": "markdown",
      "metadata": {
        "id": "GoxfenVTljPG"
      },
      "source": [
        ""
      ]
    },
    {
      "cell_type": "markdown",
      "metadata": {
        "id": "QVpqbii2ljKv"
      },
      "source": [
        ""
      ]
    },
    {
      "cell_type": "markdown",
      "metadata": {
        "id": "2fVxWSQzljE-"
      },
      "source": [
        "문제476. 위의 리스트의 요소가 ascending 하게 정렬되게 하시오"
      ]
    },
    {
      "cell_type": "code",
      "metadata": {
        "colab": {
          "base_uri": "https://localhost:8080/"
        },
        "id": "LLP7S2n7loZ-",
        "outputId": "d57520d1-09fe-4a45-92df-fd9ebe8f9784"
      },
      "source": [
        "import os\r\n",
        "import re  # 데이터 정제전문 모듈\r\n",
        "\r\n",
        "test_image = \"/content/drive/MyDrive/images\"\r\n",
        "\r\n",
        "def image_load(path):\r\n",
        "    file_list = os.listdir(path) \r\n",
        "    file_name = []\r\n",
        "    for i in file_list:\r\n",
        "        a = re.sub('[^0-9]', '', i)\r\n",
        "        file_name.append( int(a) )\r\n",
        "        file_name.sort()\r\n",
        "    return file_name\r\n",
        "\r\n",
        "print( image_load(test_image) )"
      ],
      "execution_count": 7,
      "outputs": [
        {
          "output_type": "stream",
          "text": [
            "[1, 2, 3, 4, 5, 6, 7, 8, 9, 10, 11, 12, 13, 14, 15, 16, 17, 18, 19, 20]\n"
          ],
          "name": "stdout"
        }
      ]
    },
    {
      "cell_type": "markdown",
      "metadata": {
        "id": "ltM7VB_alwIZ"
      },
      "source": [
        ""
      ]
    },
    {
      "cell_type": "markdown",
      "metadata": {
        "id": "jWAj6kpolwDM"
      },
      "source": [
        ""
      ]
    },
    {
      "cell_type": "markdown",
      "metadata": {
        "id": "-pet5tY2lv7T"
      },
      "source": [
        "문제477. 위의 함수의 코드를 추가해서 아래와 같이 출력되게 하시오 !\r\n",
        "\r\n",
        "    [ '1.png', '2.png', '3.png', ………………., '20.png' ]"
      ]
    },
    {
      "cell_type": "code",
      "metadata": {
        "colab": {
          "base_uri": "https://localhost:8080/"
        },
        "id": "smXLNkoclyuO",
        "outputId": "a48d75fb-0232-41bc-e439-cd122d7d2c81"
      },
      "source": [
        "import os\r\n",
        "import re  # 데이터 정제전문 모듈\r\n",
        "\r\n",
        "test_image = \"/content/drive/MyDrive/images\"\r\n",
        "\r\n",
        "def image_load(path):\r\n",
        "    file_list = os.listdir(path)    \r\n",
        "    file_name = []\r\n",
        "    for i in file_list:\r\n",
        "        a = re.sub('[^0-9]', '', i)   \r\n",
        "        file_name.append( int(a) )\r\n",
        "        file_name.sort()\r\n",
        "\r\n",
        "    file_res = []\r\n",
        "    for k in file_name:\r\n",
        "        file_res.append(str(k) + '.png')\r\n",
        "        \r\n",
        "    return file_res\r\n",
        "\r\n",
        "print( image_load(test_image) )"
      ],
      "execution_count": 8,
      "outputs": [
        {
          "output_type": "stream",
          "text": [
            "['1.png', '2.png', '3.png', '4.png', '5.png', '6.png', '7.png', '8.png', '9.png', '10.png', '11.png', '12.png', '13.png', '14.png', '15.png', '16.png', '17.png', '18.png', '19.png', '20.png']\n"
          ],
          "name": "stdout"
        }
      ]
    },
    {
      "cell_type": "markdown",
      "metadata": {
        "id": "rloPqwMPl9Tl"
      },
      "source": [
        ""
      ]
    },
    {
      "cell_type": "markdown",
      "metadata": {
        "id": "DQjCN8iQl9Pc"
      },
      "source": [
        ""
      ]
    },
    {
      "cell_type": "markdown",
      "metadata": {
        "id": "kZWL5MFDl9MB"
      },
      "source": [
        "문제478. 위의 함수의 코드를 수정해서 아래와 같이 이름 앞에 절대경로가 붙게하시오 !\r\n",
        "\r\n",
        "    ['/content/drive/MyDrive/images/1.png', '/content/drive/MyDrive/images/2.png', ... '/content/drive/MyDrive/images/20.png']"
      ]
    },
    {
      "cell_type": "code",
      "metadata": {
        "colab": {
          "base_uri": "https://localhost:8080/"
        },
        "id": "lDLmaIojmBO5",
        "outputId": "d7574d9e-f857-4cc8-f021-4873d08173ae"
      },
      "source": [
        "import os\r\n",
        "import re  # 데이터 정제전문 모듈\r\n",
        "\r\n",
        "test_image = \"/content/drive/MyDrive/images\"\r\n",
        "\r\n",
        "def image_load(path):\r\n",
        "    file_list = os.listdir(path)   \r\n",
        "    file_name = []\r\n",
        "    for i in file_list:\r\n",
        "        a = re.sub('[^0-9]', '', i)   \r\n",
        "        file_name.append( int(a) )\r\n",
        "        file_name.sort()\r\n",
        "        \r\n",
        "    file_res = []\r\n",
        "    for k in file_name:\r\n",
        "        file_res.append('/content/drive/MyDrive/images/' + str(k) + '.png')\r\n",
        "        \r\n",
        "    return file_res\r\n",
        "\r\n",
        "print( image_load(test_image) )"
      ],
      "execution_count": 9,
      "outputs": [
        {
          "output_type": "stream",
          "text": [
            "['/content/drive/MyDrive/images/1.png', '/content/drive/MyDrive/images/2.png', '/content/drive/MyDrive/images/3.png', '/content/drive/MyDrive/images/4.png', '/content/drive/MyDrive/images/5.png', '/content/drive/MyDrive/images/6.png', '/content/drive/MyDrive/images/7.png', '/content/drive/MyDrive/images/8.png', '/content/drive/MyDrive/images/9.png', '/content/drive/MyDrive/images/10.png', '/content/drive/MyDrive/images/11.png', '/content/drive/MyDrive/images/12.png', '/content/drive/MyDrive/images/13.png', '/content/drive/MyDrive/images/14.png', '/content/drive/MyDrive/images/15.png', '/content/drive/MyDrive/images/16.png', '/content/drive/MyDrive/images/17.png', '/content/drive/MyDrive/images/18.png', '/content/drive/MyDrive/images/19.png', '/content/drive/MyDrive/images/20.png']\n"
          ],
          "name": "stdout"
        }
      ]
    },
    {
      "cell_type": "markdown",
      "metadata": {
        "id": "2BWNK1Y2mOeJ"
      },
      "source": [
        ""
      ]
    },
    {
      "cell_type": "markdown",
      "metadata": {
        "id": "1f63S3iJmOZV"
      },
      "source": [
        ""
      ]
    },
    {
      "cell_type": "markdown",
      "metadata": {
        "id": "siCUTszRmOVT"
      },
      "source": [
        "예제3. 폐사진 이미지를 숮자로 변환하기 위하여 필요한 파이썬 모듈을 install 하시오\r\n",
        "\r\n",
        "아나콘다 프롬프트 창을 열고 아래의 명령어 실행\r\n",
        "\r\n",
        "    conda install opencv\r\n",
        "\r\n",
        "    또는\r\n",
        "\r\n",
        "    pip install opencv-python\r\n",
        "\r\n",
        "설명: opencv 모듈은 이미지를 파이썬에서 숫자료 변환하고 다양한 이미지 처리를 할 수 있게\t해주는 기술을 제공해주는 함수\r\n",
        "\r\n",
        "예: 구글지도, 카카오지도, 네이버지도에 보면 street view 가 있는데 거기에 사람얼굴이나\t자동차 번호판을 모자이크 처리 해줘야 합니다."
      ]
    },
    {
      "cell_type": "markdown",
      "metadata": {
        "id": "gWVUN7J4mdua"
      },
      "source": [
        ""
      ]
    },
    {
      "cell_type": "markdown",
      "metadata": {
        "id": "WiOJxI3vmdqg"
      },
      "source": [
        ""
      ]
    },
    {
      "cell_type": "markdown",
      "metadata": {
        "id": "lua4eg4xmdk_"
      },
      "source": [
        "예제4. 위에서 설치한 opencv 모듈을 이용해서 폐사진을 숫자로 변환한다.\r\n"
      ]
    },
    {
      "cell_type": "code",
      "metadata": {
        "id": "QPxsOGwemW9B"
      },
      "source": [
        "import os\r\n",
        "import re\r\n",
        "import cv2  # opencv 모듈을 import 하겠다.\r\n",
        "\r\n",
        "test_image = \"/content/drive/MyDrive/images\"\r\n",
        "\r\n",
        "def image_load(path):\r\n",
        "    file_list = os.listdir(path) \r\n",
        "    file_name = []\r\n",
        "    for i in file_list:\r\n",
        "        a = re.sub('[^0-9]', '', i)\r\n",
        "        file_name.append( int(a) )\r\n",
        "        file_name.sort()\r\n",
        "        \r\n",
        "    file_res = []\r\n",
        "    for k in file_name:\r\n",
        "        file_res.append('/content/drive/MyDrive/images/' + str(k) + '.png')\r\n",
        "    \r\n",
        "    image = []\r\n",
        "    for h in file_res:\r\n",
        "        img = cv2.imread(h)   # 이미지를 숫자로 변환하는 코드\r\n",
        "        image.append(img)\r\n",
        "    \r\n",
        "    return image\r\n",
        "\r\n",
        "print( image_load(test_image) )"
      ],
      "execution_count": null,
      "outputs": []
    },
    {
      "cell_type": "markdown",
      "metadata": {
        "id": "nk8Y2Un-m2sl"
      },
      "source": [
        "결과:\r\n",
        "\r\n",
        "    [array([[[ 16,  16,  16],\r\n",
        "             [ 16,  16,  16],\r\n",
        "             [ 16,  16,  16],\r\n",
        "               ...,\r\n",
        "             [182, 182, 182],\r\n",
        "             [187, 187, 187],\r\n",
        "             [191, 191, 191]],\r\n",
        "\r\n",
        "           [[ 16,  16,  16],\r\n",
        "            [ 16,  16,  16],\r\n",
        "            [ 16,  16,  16],\r\n",
        "            ...,\r\n",
        "            [173, 173, 173],\r\n",
        "            [179, 179, 179],\r\n",
        "            [186, 186, 186]],\r\n",
        "\r\n",
        "                :\r\n",
        "\r\n",
        "           [[224, 224, 224],\r\n",
        "            [224, 224, 224],\r\n",
        "            [217, 217, 217],\r\n",
        "            ...,\r\n",
        "            [  1,   1,   1],\r\n",
        "            [  1,   1,   1],\r\n",
        "            [  1,   1,   1]]], dtype=uint8)]"
      ]
    },
    {
      "cell_type": "markdown",
      "metadata": {
        "id": "bBZukdtemvwx"
      },
      "source": [
        ""
      ]
    },
    {
      "cell_type": "markdown",
      "metadata": {
        "id": "18t_Y15ZmvuT"
      },
      "source": [
        ""
      ]
    },
    {
      "cell_type": "markdown",
      "metadata": {
        "id": "ux7HVNoVmvq2"
      },
      "source": [
        "예제5. 위의 숫자로 변환한 리스트를 인공 신경망에 넣기 위해서는 numpy 모듈의 array 형태로 제공을 해줘야 합니다.\r\n",
        "\r\n",
        " 위의 리스트를 numpy array 로 변환합니다."
      ]
    },
    {
      "cell_type": "code",
      "metadata": {
        "id": "gXLHnKM9nPyn"
      },
      "source": [
        "import os\r\n",
        "import re\r\n",
        "import cv2  #\r\n",
        "import numpy as np  # 행렬 연산을 쉽고 빠르게 할 수 있게 해주는 모듈\r\n",
        "\r\n",
        "test_image = \"/content/drive/MyDrive/images\"\r\n",
        "\r\n",
        "def image_load(path):\r\n",
        "    file_list = os.listdir(path)    \r\n",
        "    file_name = []\r\n",
        "    for i in file_list:\r\n",
        "        a = re.sub('[^0-9]', '', i) \r\n",
        "        file_name.append( int(a) )\r\n",
        "        file_name.sort()\r\n",
        "        \r\n",
        "    file_res = []\r\n",
        "    for k in file_name:\r\n",
        "        file_res.append('/content/drive/MyDrive/images/' + str(k) + '.png')\r\n",
        "    \r\n",
        "    image = []\r\n",
        "    for h in file_res:\r\n",
        "        img = cv2.imread(h)\r\n",
        "        image.append(img)\r\n",
        "    \r\n",
        "    return np.array(image, dtype = object)   # dtype = object 를 입력하면 메시지 안뜸\r\n",
        "\r\n",
        "print( image_load(test_image) )"
      ],
      "execution_count": null,
      "outputs": []
    },
    {
      "cell_type": "markdown",
      "metadata": {
        "id": "ZOKkkAanmyU5"
      },
      "source": [
        ""
      ]
    },
    {
      "cell_type": "markdown",
      "metadata": {
        "id": "v0UGx82-ncar"
      },
      "source": [
        ""
      ]
    },
    {
      "cell_type": "markdown",
      "metadata": {
        "id": "yCT1L1UvncV2"
      },
      "source": [
        "**■ 151. 이미지를 숫자로 변환하는 방법 (개와 고양이)**\r\n",
        "\r\n",
        "개와 고양이 사진을 분류하는 인공신경망을 만들려면 개와 고양이 사진을 각각 2000장씩 내려 받아서 숫자로 변환하는 작업을 해줘야 합니다."
      ]
    },
    {
      "cell_type": "markdown",
      "metadata": {
        "id": "3L-0pwBinjXE"
      },
      "source": [
        ""
      ]
    },
    {
      "cell_type": "markdown",
      "metadata": {
        "id": "Em6HAk8ynjPv"
      },
      "source": [
        "예제1. 머신러닝 데이터 분석의 세계대회인 kaggle 에서 개와 고양이 사진을 내려받습니다. 구글에서 kaggle 로 검색하세요 ~~\r\n",
        "\r\n",
        "    kaggle 검색에서 cat and dog\r\n"
      ]
    },
    {
      "cell_type": "markdown",
      "metadata": {
        "id": "2VamKD2hnseQ"
      },
      "source": [
        ""
      ]
    },
    {
      "cell_type": "markdown",
      "metadata": {
        "id": "8KE8_wh9nsae"
      },
      "source": [
        ""
      ]
    },
    {
      "cell_type": "markdown",
      "metadata": {
        "id": "cM7xeQk2njLA"
      },
      "source": [
        "예제2. 개사진 30장만 images2 라는 폴더를 생성하여 넣으세요.\r\n"
      ]
    },
    {
      "cell_type": "markdown",
      "metadata": {
        "id": "xU7zlTwdnt4t"
      },
      "source": [
        ""
      ]
    },
    {
      "cell_type": "markdown",
      "metadata": {
        "id": "NuoBnj-Entze"
      },
      "source": [
        ""
      ]
    },
    {
      "cell_type": "markdown",
      "metadata": {
        "id": "ss2_20ysntuX"
      },
      "source": [
        "예제3. images2 라는 폴더에 있는 이미지 이름을 가져오는 함수를 image_load2 라는 함수로 생성하시오 !\r\n"
      ]
    },
    {
      "cell_type": "code",
      "metadata": {
        "colab": {
          "base_uri": "https://localhost:8080/"
        },
        "id": "lxUvnoJbnhjU",
        "outputId": "f59c6b35-a9a0-4fb3-f788-e35a67ce7538"
      },
      "source": [
        "import os\r\n",
        "\r\n",
        "test_image = \"/content/drive/MyDrive/images2\"\r\n",
        "\r\n",
        "def image_load2(path):\r\n",
        "    file_list = os.listdir(path)\r\n",
        "    return file_list\r\n",
        "\r\n",
        "print( image_load2(test_image) )\r\n"
      ],
      "execution_count": 14,
      "outputs": [
        {
          "output_type": "stream",
          "text": [
            "['dog.1.jpg', 'dog.17.jpg', 'dog.9.jpg', 'dog.15.jpg', 'dog.13.jpg', 'dog.14.jpg', 'dog.12.jpg', 'dog.8.jpg', 'dog.7.jpg', 'dog.11.jpg', 'dog.10.jpg', 'dog.6.jpg', 'dog.5.jpg', 'dog.4.jpg', 'dog.3.jpg', 'dog.2.jpg', 'dog.16.jpg', 'dog.28.jpg', 'dog.30.jpg', 'dog.29.jpg', 'dog.25.jpg', 'dog.26.jpg', 'dog.24.jpg', 'dog.27.jpg', 'dog.23.jpg', 'dog.22.jpg', 'dog.21.jpg', 'dog.20.jpg', 'dog.19.jpg', 'dog.18.jpg']\n"
          ],
          "name": "stdout"
        }
      ]
    },
    {
      "cell_type": "markdown",
      "metadata": {
        "id": "Enr6J_QFnhMs"
      },
      "source": [
        ""
      ]
    },
    {
      "cell_type": "markdown",
      "metadata": {
        "id": "VeO72ogppv4w"
      },
      "source": [
        ""
      ]
    },
    {
      "cell_type": "markdown",
      "metadata": {
        "id": "dtydXpvcpv0O"
      },
      "source": [
        "예제4. 위의 개사진 이름에서 숫자만 출력하시오 !"
      ]
    },
    {
      "cell_type": "code",
      "metadata": {
        "colab": {
          "base_uri": "https://localhost:8080/"
        },
        "id": "BjGaca0jpw3v",
        "outputId": "a3729560-6272-40da-fccb-48f08005ff14"
      },
      "source": [
        "import os\r\n",
        "import re\r\n",
        "\r\n",
        "test_image = \"/content/drive/MyDrive/images2\"\r\n",
        "\r\n",
        "def image_load2(path):\r\n",
        "    file_list = os.listdir(path)\r\n",
        "    file_name = []\r\n",
        "    for i in file_list:\r\n",
        "        a = re.sub('[^0-9]', '', i)\r\n",
        "        file_name.append(a)\r\n",
        "    return file_name\r\n",
        "\r\n",
        "print( image_load2(test_image) )"
      ],
      "execution_count": 15,
      "outputs": [
        {
          "output_type": "stream",
          "text": [
            "['1', '17', '9', '15', '13', '14', '12', '8', '7', '11', '10', '6', '5', '4', '3', '2', '16', '28', '30', '29', '25', '26', '24', '27', '23', '22', '21', '20', '19', '18']\n"
          ],
          "name": "stdout"
        }
      ]
    },
    {
      "cell_type": "markdown",
      "metadata": {
        "id": "cMBBaJ7pp2BC"
      },
      "source": [
        ""
      ]
    },
    {
      "cell_type": "markdown",
      "metadata": {
        "id": "nr6Y9Ksgp193"
      },
      "source": [
        ""
      ]
    },
    {
      "cell_type": "markdown",
      "metadata": {
        "id": "kwB_vuv0p16D"
      },
      "source": [
        "예제5. file_name 리스트 안의 숫자를 정렬해서 출력되게하시오 !"
      ]
    },
    {
      "cell_type": "code",
      "metadata": {
        "colab": {
          "base_uri": "https://localhost:8080/"
        },
        "id": "G5JCcjd9p3G-",
        "outputId": "eaa8b0d6-fbf7-48a1-d26c-e28cc1fe9c6c"
      },
      "source": [
        "import os\r\n",
        "import re\r\n",
        "\r\n",
        "test_image = \"/content/drive/MyDrive/images2\"\r\n",
        "\r\n",
        "def image_load2(path):\r\n",
        "    file_list = os.listdir(path)\r\n",
        "    file_name = []\r\n",
        "    for i in file_list:\r\n",
        "        a = re.sub('[^0-9]', '', i)\r\n",
        "        file_name.append(int(a))\r\n",
        "        file_name.sort()\r\n",
        "    return file_name\r\n",
        "\r\n",
        "print( image_load2(test_image) )"
      ],
      "execution_count": 16,
      "outputs": [
        {
          "output_type": "stream",
          "text": [
            "[1, 2, 3, 4, 5, 6, 7, 8, 9, 10, 11, 12, 13, 14, 15, 16, 17, 18, 19, 20, 21, 22, 23, 24, 25, 26, 27, 28, 29, 30]\n"
          ],
          "name": "stdout"
        }
      ]
    },
    {
      "cell_type": "markdown",
      "metadata": {
        "id": "BhstQNOep6a-"
      },
      "source": [
        ""
      ]
    },
    {
      "cell_type": "markdown",
      "metadata": {
        "id": "NqHE4zdup6Uu"
      },
      "source": [
        ""
      ]
    },
    {
      "cell_type": "markdown",
      "metadata": {
        "id": "LU9XJcnkp6Pq"
      },
      "source": [
        "예제6. 아래와 같이 절대경로와 확장자가 붙어서 출력되게하시오 !\r\n",
        "\r\n",
        "    ['/content/drive/MyDrive/images2/dog.1.jpg', '/content/drive/MyDrive/images2/dog.2.jpg', ... , '/content/drive/MyDrive/images2/dog.30.jpg']"
      ]
    },
    {
      "cell_type": "code",
      "metadata": {
        "colab": {
          "base_uri": "https://localhost:8080/"
        },
        "id": "W166QeVBp8pl",
        "outputId": "0d8289e1-4878-4030-cb31-27830eb90b20"
      },
      "source": [
        "import os\r\n",
        "import re\r\n",
        "\r\n",
        "test_image = \"/content/drive/MyDrive/images2\"\r\n",
        "\r\n",
        "def image_load2(path):\r\n",
        "    file_list = os.listdir(path)\r\n",
        "    file_name = []\r\n",
        "    for i in file_list:\r\n",
        "        a = re.sub('[^0-9]', '', i)\r\n",
        "        file_name.append(int(a))\r\n",
        "        file_name.sort()\r\n",
        "    \r\n",
        "    file_res = []\r\n",
        "    for k in file_name:\r\n",
        "        file_res.append('/content/drive/MyDrive/images2/dog.' + str(k) + '.jpg')\r\n",
        "        \r\n",
        "    return file_res\r\n",
        "\r\n",
        "print( image_load2(test_image) )"
      ],
      "execution_count": 17,
      "outputs": [
        {
          "output_type": "stream",
          "text": [
            "['/content/drive/MyDrive/images2/dog.1.jpg', '/content/drive/MyDrive/images2/dog.2.jpg', '/content/drive/MyDrive/images2/dog.3.jpg', '/content/drive/MyDrive/images2/dog.4.jpg', '/content/drive/MyDrive/images2/dog.5.jpg', '/content/drive/MyDrive/images2/dog.6.jpg', '/content/drive/MyDrive/images2/dog.7.jpg', '/content/drive/MyDrive/images2/dog.8.jpg', '/content/drive/MyDrive/images2/dog.9.jpg', '/content/drive/MyDrive/images2/dog.10.jpg', '/content/drive/MyDrive/images2/dog.11.jpg', '/content/drive/MyDrive/images2/dog.12.jpg', '/content/drive/MyDrive/images2/dog.13.jpg', '/content/drive/MyDrive/images2/dog.14.jpg', '/content/drive/MyDrive/images2/dog.15.jpg', '/content/drive/MyDrive/images2/dog.16.jpg', '/content/drive/MyDrive/images2/dog.17.jpg', '/content/drive/MyDrive/images2/dog.18.jpg', '/content/drive/MyDrive/images2/dog.19.jpg', '/content/drive/MyDrive/images2/dog.20.jpg', '/content/drive/MyDrive/images2/dog.21.jpg', '/content/drive/MyDrive/images2/dog.22.jpg', '/content/drive/MyDrive/images2/dog.23.jpg', '/content/drive/MyDrive/images2/dog.24.jpg', '/content/drive/MyDrive/images2/dog.25.jpg', '/content/drive/MyDrive/images2/dog.26.jpg', '/content/drive/MyDrive/images2/dog.27.jpg', '/content/drive/MyDrive/images2/dog.28.jpg', '/content/drive/MyDrive/images2/dog.29.jpg', '/content/drive/MyDrive/images2/dog.30.jpg']\n"
          ],
          "name": "stdout"
        }
      ]
    },
    {
      "cell_type": "markdown",
      "metadata": {
        "id": "58LKLoC0qMiG"
      },
      "source": [
        ""
      ]
    },
    {
      "cell_type": "markdown",
      "metadata": {
        "id": "2qA7amxgqMeZ"
      },
      "source": [
        ""
      ]
    },
    {
      "cell_type": "markdown",
      "metadata": {
        "id": "w0pvqjNuqMaV"
      },
      "source": [
        "예제7. 위의 개사진 이미지들을 opencv와 numpy 를 이용해서 숫자로 변환하고 numpy array 로 반환되게 하시오 !"
      ]
    },
    {
      "cell_type": "code",
      "metadata": {
        "id": "Ps7_aF_6qPP-"
      },
      "source": [
        "import os\r\n",
        "import re\r\n",
        "import cv2\r\n",
        "import numpy as np\r\n",
        "\r\n",
        "test_image = \"/content/drive/MyDrive/images2\"\r\n",
        "\r\n",
        "def image_load2(path):\r\n",
        "    file_list = os.listdir(path)\r\n",
        "    file_name = []\r\n",
        "    for i in file_list:\r\n",
        "        a = re.sub('[^0-9]', '', i)\r\n",
        "        file_name.append(int(a))\r\n",
        "        file_name.sort()\r\n",
        "    \r\n",
        "    file_res = []\r\n",
        "    for k in file_name:\r\n",
        "        file_res.append('/content/drive/MyDrive/images2/dog.' + str(k) + '.jpg')\r\n",
        "    \r\n",
        "    image = []\r\n",
        "    for h in file_res:\r\n",
        "        img = cv2.imread(h)\r\n",
        "        image.append(img)\r\n",
        "        \r\n",
        "    return np.array(image, dtype = object) \r\n",
        "\r\n",
        "print( image_load2(test_image) )"
      ],
      "execution_count": null,
      "outputs": []
    },
    {
      "cell_type": "markdown",
      "metadata": {
        "id": "1E07ERXXqbSC"
      },
      "source": [
        "결과:\r\n",
        "\r\n",
        "\r\n",
        "    [array([[[211, 224, 238],\r\n",
        "        [137, 153, 169],\r\n",
        "        [ 98, 116, 139],\r\n",
        "        ...,\r\n",
        "        [ 82, 102, 133],\r\n",
        "        [ 77,  97, 128],\r\n",
        "        [ 76,  96, 127]],\r\n",
        "\r\n",
        "       [[219, 234, 250],\r\n",
        "        [137, 154, 173],\r\n",
        "        [ 86, 108, 133],\r\n",
        "        ...,\r\n",
        "        [ 64,  84, 115],\r\n",
        "        [ 59,  80, 111],\r\n",
        "        [ 59,  79, 110]],\r\n",
        "\r\n",
        "            :\r\n",
        "\r\n",
        "       [[147, 112,  48],\r\n",
        "        [151, 116,  52],\r\n",
        "        [155, 120,  56],\r\n",
        "        ...,\r\n",
        "        [ 43,  86, 101],\r\n",
        "        [ 55,  79,  97],\r\n",
        "        [ 56,  71,  90]]], dtype=uint8)]"
      ]
    },
    {
      "cell_type": "markdown",
      "metadata": {
        "id": "5hOVwtLCqYBE"
      },
      "source": [
        ""
      ]
    },
    {
      "cell_type": "markdown",
      "metadata": {
        "id": "PP9Y2424qX9W"
      },
      "source": [
        ""
      ]
    },
    {
      "cell_type": "markdown",
      "metadata": {
        "id": "4nPJZ1C-qX6r"
      },
      "source": [
        "문제480. 지난번에 여러분들이 직접 스크롤링한 사진 20장을 images3 에 넣고  숫자로 변환하는 함수를 image_load3 로 생성하시오 !\r\n"
      ]
    },
    {
      "cell_type": "code",
      "metadata": {
        "id": "Bblva2Ujqr73"
      },
      "source": [
        "import os\r\n",
        "import re\r\n",
        "import cv2\r\n",
        "import numpy as np\r\n",
        "\r\n",
        "test_image = \"/content/drive/MyDrive/images3\"\r\n",
        "\r\n",
        "def image_load3(path):\r\n",
        "    file_list = os.listdir(path)\r\n",
        "    file_name = []\r\n",
        "    for i in file_list:\r\n",
        "        a = re.sub('[^0-9]', '', i)\r\n",
        "        file_name.append(int(a))\r\n",
        "        file_name.sort()\r\n",
        "    \r\n",
        "    file_res = []\r\n",
        "    for k in file_name:\r\n",
        "        file_res.append('/content/drive/MyDrive/images3/' + str(k) + '.jpg')\r\n",
        "    \r\n",
        "    image = []\r\n",
        "    for h in file_res:\r\n",
        "        img = cv2.imread(h)\r\n",
        "        image.append(img)\r\n",
        "        \r\n",
        "    return np.array(image, dtype = object) \r\n",
        "\r\n",
        "print( image_load3(test_image) )"
      ],
      "execution_count": null,
      "outputs": []
    },
    {
      "cell_type": "markdown",
      "metadata": {
        "id": "NCIX_2ELqrV-"
      },
      "source": [
        ""
      ]
    },
    {
      "cell_type": "markdown",
      "metadata": {
        "id": "h1Ykh0X5rAR6"
      },
      "source": [
        ""
      ]
    },
    {
      "cell_type": "markdown",
      "metadata": {
        "id": "_Yu8LtzxrAM3"
      },
      "source": [
        "**■ 152. 필수 알고리즘1 (합성곱 연산)**\r\n",
        "\r\n",
        "알고리즘 문제를 풀어야하는 이유?\r\n",
        "\r\n",
        " 1. 지금까지 배운 파이썬 문법을 완성하는 단계 - 알고리즘 문제 해결\r\n",
        "\r\n",
        " 2. 구글, 네이버, 카카오와 같이 대기업으로 지원하고자 한다면\r\n",
        "    알고리즘 문제를 많이 풀어봐야 합니다.\r\n",
        "\r\n",
        "\r\n",
        "** 합성곱 연산 알고리즘 ?\r\n",
        "\r\n",
        "      딥러닝의 필수 알고리즘 (퍼셉트론, 합성곱 연산 알고리즘)\r\n",
        "      이미지의 형상을 무시하지 않고 이미지를 그대로 인공 신경망이 학습할 수 있게 해준 수학 행렬 연산입니다.  \r\n",
        "      합성곱에서 원본 이미지는 학습해야할 데이터(사진) 이고 필터(filter) 는 원본이지미에서 특징을 잡아내는데 사용되는 행렬입니다.  \r\n",
        "      특징을 잡아서 feature map 을 생성하여 원본이미지의 형태를 이해하는 것을 합성곱 연산이라고 합니다."
      ]
    },
    {
      "cell_type": "markdown",
      "metadata": {
        "id": "GhDH7HmErOHj"
      },
      "source": [
        ""
      ]
    },
    {
      "cell_type": "markdown",
      "metadata": {
        "id": "oUgeqWvIrbIG"
      },
      "source": [
        ""
      ]
    },
    {
      "cell_type": "markdown",
      "metadata": {
        "id": "epxJFyEIrTfy"
      },
      "source": [
        "문제481. 아래의 두 행렬을 만들고 덧셈 연산을 하시오 !  \r\n",
        "![image.png](data:image/png;base64,iVBORw0KGgoAAAANSUhEUgAAAMsAAABNCAYAAAAIEpD2AAAN/ElEQVR4Ae1dZ2gVTRd+//rPH4oKEcsfBSFRBEUUa1REgwVRY429ErtGxRKJxhITu2KLDQPRxJLYuxgFY4liw95719jlvDzn/Wbde7252XvvzN588Sxcdu/u7JzZc84z5cyZM/+QHMIB4YAjDvzjKJUkEg4IB0jAIkogHHDIAQGLQ0ZJMuGAgEV0QDjgkAMCFoeMkmTCAQGL6IBwwCEHBCwOGSXJhAMCFtEB4YBDDghYHDJKkgkHBCyiA8IBhxz4Ayxfvnyh8+fP044dOxxmEVyy79+/0927dyknJ4eWL19O8+fPpzVr1tC5c+fo69evwWXq561fv37R27dvKT8/n+nMnTuX0tLSaPv27fTo0SM/b7rzSJUP379p0yZS5YMcnj9/bqwQSt6QwYIFC2jz5s105coVY/RUxoquaT1T9HScLbBAeW/evEmrVq2iDh06UOvWrXXk7zMP0AIghw4dSt27d6eEhAQaPnw40+zduzcDxueLIdx8+fIlgzIuLo4mTJhAY8aMoR49elDjxo0pMTGRPn78GELuob+qyofvj4+P5/LFxsZSw4YNGdQmKhAo7PHjx6lv3740cOBAGjlyJHXp0oWGDBlCN27cCP2jfOTgpp75IB/SLQbLz58/6datW6xMU6ZMoTp16lCDBg1Cytjfy1DMtWvXUuXKlRmc79+/J/yWLVtGFStWpJSUFH+vB/Xs2rVr1KZNG+ratSs9efKEfvz4QWfPnmWARkVFcUURVMaaXrp+/TqXr1OnTnT58mUu35kzZ6h58+ZUv359evDggSZKv7O5f/8+DR48mGJiYhgckEt6ejpVr16dZs2a9Tuhpiu39UxTsa1sGCxQnNu3b9Pu3bvp6tWrNGzYMKNgQS15+vRpWrhwIYNElebUqVNUtmxZGjVqlLql7YyuzPr16+nYsWNWnvfu3aOePXty6wIAhfPwVb7Hjx+zLGrVqkUFBQVaiwfFPXr0KEVGRlJqaqqVNyqVJk2aUHR0tPbW1m09sz5K04XVDVP5KQGZbFkULfsZwjtw4ABVqFCB5syZY3+k/frbt2+EmhxjJHR1VqxYoZ2GjgxR86OLVK9ePR7f6chT5VFYWEgbN27kViQ7O1vdpocPH9KAAQPIdGsbLj2zPjSIixIDlhcvXvDYAX10tDqmDghp5syZhLEBxisYv4B2STvQtz9x4gTX8pMmTSKML3QeHz584EqiZs2alJeXZ2WtlNhEa2YRISJFx+1K2V6GQK9LBFg+f/7MVrFWrVqxAHUrhp0p6HoBIBjMduzYkTBG2LJlixELnJ1uINewjN25c4fGjx9PnTt3NjLYVmDxBoVSYu/7gZTfSVpFR8DihFv/S6MsMv379+dBJaxCbhyfPn3iMRqsfmjNLl265AZZRzSePXtGycnJ1K9fP48xlqOXHSZSYKlRowZbxNRrSokFLIojv89hbVnQ1cC8AkyVM2bMILeAoj7/zZs3bHmrWrUqZWZmqtthPb97947WrVvHJly7MUJ3oWD5Wr16NXl/uwJL7dq1tY+T7N+g6EjLYudKEdfoasBcPXHiRO5uKGsUxg979uwp4q3gb7969Yp27tzpMeEGxVyyZMkfg9zgqYT2Jlo7TNL26dOHtm7dypmh5YUxQvdEIYwcoBUREeFhJoZM0D2Fmd1kd7hUgAXWEExQ1a1b1+jM8evXr3leB6ZbNQGGlubQoUPUvn370LTOx9tQNigAJiNhpoX1Dfdg+WnWrJlVBh+vunIL5cG8DyZKYZ1TigqlmjdvHs/q6y4Ipglg5MBYEd4UGDtmZWURWpWlS5fqJueRn1t65kE0xD9WNww1Lwa6s2fPZqDAhIuZ9dzcXO3NMeztsHjBJNqiRQt27YB7R1JSEk8ammiaMamH+RsoBgb4GBOMGzeOPQjgXhLuA/yHla5SpUpcPvADPwzywSMTZcREMPLFuA0eFKCPihIVimrpdfPFTT3TXXYLLKhtUaNBYaFM+E2bNo0yMjK017oACwbUio732UStholQzIzD92nq1KlcEUAZjxw5YtXiupkbSH5oaTHv4c0L/EcFBvcgEwcAg+4peDJ58mT2qIDF0NThpp7p/gYLLLozlvyEA6WNAwKW0iZR+R5jHBCwGGOtZFzaOCBgKW0Sle8xxgEBizHWSsaljQMCltImUfkeYxwQsBhjrWRc2jggYCltEpXvccwBuFxhkhQ+eFjbhHk3uD9h7g1+g96HBRa8iAkjBHDAS4sXLy7yJe9MQvmv6B4+fFi7/5O9XKCDgBUmAkKA4d5+Z3baTq8VL0QGTjkWWjq4FO3fv5994UaMGMHLNhB/oiiPCQssyi0ca9Th+gBnPqylgGeqiWAJ+Ex4vmJ1JGap27Zta8SlQ7HTZEAI+Fgh0EOoLikiA/1RfZT8fZ3V8nb43sE/Ef937drFLke+/BMZLEAYEiFQBVxeoMQXLlxgBWjUqBF7vfoiFso9uFns27ePFi1axOs2qlSpErKy+SuPClhhIiCEDrD8DTIIR1AOfzrh6xn0Hmt5unXr9sdjBsvTp09p9OjR7ECp1pRgcRBaFSgx/Kl0H+gSoesFRCNQhWmwoIvpHbBCuYmHutBJB1hEBvqDcgSqs/C63rZtGzv44ux9MFigsHBfb9mypfUc/WcMdMqVK8cOldYDAxdugMVXsXUFhNABFpFBYEE50Ps5ePCg5bGOcXZRv5UrVxY7HlYLERHZCI6r6Pl4HwwWCBuDGkQSsR8mQxN50zHdstjp4TrYgBC+hDR27FgOKYSm2y4wJ0JS5RIZBBaUA8oMQ4gvL23ve068ttHLgJc9goOo3pWSjTpbYMGaBu94XaUVLGg1gw0I4UtIiB+AtewwUtgF5URIShAAi8hAccPdM1aN7t27lwMaYhlHUYcFFqwW7NWrl0e60goWZXXSFRBCRzcMeYgMPNTP7x9fLby9VbdfF9fCK6tYceuoGCywUiAKYdOmTT0KCLCUL1+eV9B5PND8B3Tc6oaZCAihAywig8CUylcLb2/V7deBtPD+SsFgwco4rP2G6VhFlIcpExaBatWq8bpsf5mE+swtsJgKCKEDLCID/UE5nOqlaqUQf9tfwEUGC1CKLQcADATnhgkN1plBgwaxlczkMlOMHxBz11RAcMUwLGU2FRBCB1j+BhmEIyiHkr+/s30K4eLFi0UmZbBAYSFwzNq3a9eOpk+fzsEcEHlFheQpMocgHwCQcD3ZsGEDYYBcpkwZ7gYC3Zh/0X3AwmEqIATmcDAXFco6+b9BBuEIyuFEj1SXDvvT+AvUwWBBhrAIIDQQHMnQ34NimQzmgC7RyZMnLXqgiYAJKDC8CXQf4QoIEch3iAzMBOUIRAb+0lpg8ZdIngkHhANEAhbRAuGAQw4IWBwySpIJBwQsogPCAYccELA4ZJQkEw4IWEQHhAMOOSBgccgoSSYcELCIDggHHHJAwOKQUZJMOMBggasFlvnm5+dbIWHS0tJ4cY1yrDTBKjhrwkUEfmmYuYfLiO4drnyVW9HdsWOHr8dhv+dm+RQtN2Sg9MxEhB03hMZgUZFP4uLi2NUFm9nACxm7QiUmJnIAC92FgZCOHz/OqzOxgQ52D0aEFOwvCSdOEwdWR968eZP3IEHIGyy2KkmH2+VzWwZKz7Ctenx8PG+aFBsbyxvgonI2FUVIl4wZLCrqBsIgwZFMeehCmaKioljBdBFU+WD9++DBgykmJobBATfp9PR03t9x1qxZKpm2M74J+yWiBp0yZQovRzCxw1iwBYZHrtvlc1sGSs9MRNgJlu+BvMdg8RX5BG758DpG6+LPEzMQYiotFBdRACMjIyk1NVXdJoQrwiK06Oho7a0ZaN6+fZu384aHNQITlCSwuF0+gBNLI9yUgS89s7vHFxQUWLpQEi8YLPaCwfMVNQDCWaKJRBwx3UdhYSFvCVe9enXKzs62ssemnNgQ1VRrpggpAZUksKiy4exG+cItA/W9uiLsqPxMnj3AAiHBNR99SrQocJv3t3Is2IJh/QDWRdesWZPy8vKsbJSShBrHy8qwiAtF528GC+LCoSIMlwwgmmAj7BQhVuO3PcCCrhcAgsE29kJH3xI7GOseeCmweINCKbH3fd1cUHQELCs4+qK9+6N4Y1oGsIwFG2FHtz44zc8DLOolLMzavXs3W4saNmzIOwurZzrOCiwIHwSLmDrcEpSiI2BZwSGcwiED3RF2lA6ZPPsECwgi5H5KSgpVrVqVMjMztZYBli+MibzzVkpcu3Ztunv3rlaa9swUnb8ZLJABwvOGQwYmIuzY5WvqmsHia8sEfBCWGHsPwnUUBEaE3NxcioiIILuZGKZTdP8QShZzAKYOAct/y8hzcnJcl4GpCDumdMWeL4MFplQoKCYjYd6DWREz6bBMIfCbiUlC0IQRoVWrVtyKIIBFVlYWoVUpLtiZ/QOCuYbVDROhdevW5e8NJg+T77hVPrdlUFKjuziVJYMFwkHoViguBvjJyckc3aV79+7GtoHAuAX7mWDiE/vBwAoHBQZgdc/rKGagBYXBAkHXAJQKFSpQQkICt3Imu32KfnFnt8vntgxKanSX4uSinjNYYO1CjFf4Zk2dOpUVCOEvTUZ3QQEgLOyYBZqI7LJq1SoyGaMMrSbMpUlJSVwpoGJAMOiMjAwjradistNzOMrnpgz+HyLs+JMVg8VfAnkmHBAO/McBAYtognDAIQcELA4ZJcmEAwIW0QHhgEMOCFgcMkqSCQcELKIDwgGHHBCwOGSUJBMOCFhEB4QDDjkgYHHIKEkmHBCwiA4IBxxy4F+V8ejvejrDuAAAAABJRU5ErkJggg==)"
      ]
    },
    {
      "cell_type": "code",
      "metadata": {
        "colab": {
          "base_uri": "https://localhost:8080/"
        },
        "id": "hEKnoPjErd55",
        "outputId": "a4e6c92e-291a-48a6-aed3-dc5a64ff30ed"
      },
      "source": [
        "import numpy as np\r\n",
        "\r\n",
        "a = [[1,2,3], [0,1,2], [3,0,1]]\r\n",
        "b = [[2,0,1], [0,1,2], [1,0,2]]\r\n",
        "\r\n",
        "a2 = np.array(a)\r\n",
        "b2 = np.array(b)\r\n",
        "print(a2 + b2)"
      ],
      "execution_count": 19,
      "outputs": [
        {
          "output_type": "stream",
          "text": [
            "[[3 2 4]\n",
            " [0 2 4]\n",
            " [4 0 3]]\n"
          ],
          "name": "stdout"
        }
      ]
    },
    {
      "cell_type": "markdown",
      "metadata": {
        "id": "J0xXKeYfrdgi"
      },
      "source": [
        ""
      ]
    },
    {
      "cell_type": "markdown",
      "metadata": {
        "id": "131FJsaErhFW"
      },
      "source": [
        ""
      ]
    },
    {
      "cell_type": "markdown",
      "metadata": {
        "id": "voF732GsrhAy"
      },
      "source": [
        "문제482. 아래의 두행렬을 만들고 두행렬의 원소들의 곱을 구하시오 !  \r\n",
        "![image.png](data:image/png;base64,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)\r\n",
        "\r\n"
      ]
    },
    {
      "cell_type": "code",
      "metadata": {
        "colab": {
          "base_uri": "https://localhost:8080/"
        },
        "id": "hU7-2LSrrpiy",
        "outputId": "28118120-a232-475f-cc14-0f695559d084"
      },
      "source": [
        "import numpy as np\r\n",
        "\r\n",
        "a = [[1,2,3], [0,1,2], [3,0,1]]\r\n",
        "b = [[2,0,1], [0,1,2], [1,0,2]]\r\n",
        "\r\n",
        "a2 = np.array(a)\r\n",
        "b2 = np.array(b)\r\n",
        "print(a2 * b2)"
      ],
      "execution_count": 20,
      "outputs": [
        {
          "output_type": "stream",
          "text": [
            "[[2 0 3]\n",
            " [0 1 4]\n",
            " [3 0 2]]\n"
          ],
          "name": "stdout"
        }
      ]
    },
    {
      "cell_type": "markdown",
      "metadata": {
        "id": "_nS0gpnfrwlS"
      },
      "source": [
        ""
      ]
    },
    {
      "cell_type": "markdown",
      "metadata": {
        "id": "BXdbLSNkrwg_"
      },
      "source": [
        ""
      ]
    },
    {
      "cell_type": "markdown",
      "metadata": {
        "id": "uLLpHre1rwbZ"
      },
      "source": [
        "문제483. 위에서 원소들의 곱으로 출력된 결과인 3x3 행렬의 요소들을 모두 다 더하시오 !\r\n",
        "\r\n",
        "    결과 : 15"
      ]
    },
    {
      "cell_type": "code",
      "metadata": {
        "colab": {
          "base_uri": "https://localhost:8080/"
        },
        "id": "paXd39ieryoS",
        "outputId": "c434145c-9d3e-4b2a-d3e7-a6076c1237bf"
      },
      "source": [
        "import numpy as np\r\n",
        "\r\n",
        "a = [[1,2,3], [0,1,2], [3,0,1]]\r\n",
        "b = [[2,0,1], [0,1,2], [1,0,2]]\r\n",
        "\r\n",
        "a2 = np.array(a)\r\n",
        "b2 = np.array(b)\r\n",
        "result = a2 * b2\r\n",
        "\r\n",
        "print(np.sum(result))   # 행렬안의 원소들의 합을 출력합니다."
      ],
      "execution_count": 21,
      "outputs": [
        {
          "output_type": "stream",
          "text": [
            "15\n"
          ],
          "name": "stdout"
        }
      ]
    },
    {
      "cell_type": "markdown",
      "metadata": {
        "id": "67cv5V-Vry85"
      },
      "source": [
        "설명: numpy 란?  \r\n",
        "python 언어에서 기본적으로 지원하지 않는 배열(array) 혹은 행렬(matrix) 의 계산을 쉽게해주는 라이브러리 입니다.  \r\n",
        "머신러닝에서 많이 사용하는 선형대수학에 관련된 수식들을 python 에서 쉽게 프로그래밍 할 수 있게 해줍니다.\r\n",
        "\t\t\t"
      ]
    },
    {
      "cell_type": "markdown",
      "metadata": {
        "id": "rSHHBmxNry4m"
      },
      "source": [
        ""
      ]
    },
    {
      "cell_type": "markdown",
      "metadata": {
        "id": "e2mAORStryQl"
      },
      "source": [
        ""
      ]
    },
    {
      "cell_type": "markdown",
      "metadata": {
        "id": "N91u4Xt0r8N5"
      },
      "source": [
        "문제484. 아래의 4x4 행렬을 만드시오 !  \r\n",
        "![image.png](data:image/png;base64,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)"
      ]
    },
    {
      "cell_type": "code",
      "metadata": {
        "colab": {
          "base_uri": "https://localhost:8080/"
        },
        "id": "lUg-R3UpsGA7",
        "outputId": "ef983cba-89a4-4e12-ed45-75466b1f900c"
      },
      "source": [
        "import numpy as np\r\n",
        "\r\n",
        "a = [[1,2,3,0], [0,1,2,3], [3,0,1,2], [2,3,0,1]]\r\n",
        "a2 = np.array(a)\r\n",
        "print(a2)"
      ],
      "execution_count": 22,
      "outputs": [
        {
          "output_type": "stream",
          "text": [
            "[[1 2 3 0]\n",
            " [0 1 2 3]\n",
            " [3 0 1 2]\n",
            " [2 3 0 1]]\n"
          ],
          "name": "stdout"
        }
      ]
    },
    {
      "cell_type": "markdown",
      "metadata": {
        "id": "8_XOCYNysIdt"
      },
      "source": [
        ""
      ]
    },
    {
      "cell_type": "markdown",
      "metadata": {
        "id": "VkY9MPOasIZ-"
      },
      "source": [
        ""
      ]
    },
    {
      "cell_type": "markdown",
      "metadata": {
        "id": "QxInYTYfsIWs"
      },
      "source": [
        "문제485. 아래의 4x4 행렬에서 빨간색으로 지정한 영역의 숫자들만 출력하시오 !\r\n",
        "\r\n",
        "![image.png](data:image/png;base64,iVBORw0KGgoAAAANSUhEUgAAAIoAAABwCAYAAADBjugbAAATzUlEQVR4Ae2dh1cV1/bH/QPeb72X8jQvBiu22DEajQUQMTEKggqKWCMYK6hglgoqUkUUREQUu6iIdEQUe2IiltiN2DUaTVFTNJpk5WV9f+t7knMzF7mGyLkPLp5Z6665dxhmz+z9OX3vPbWgN62BCmigVgXO0adoDUCDoiGokAY0KBVSkz5Jg6IZqJAGNCgVUpM+SYOiGaiQBjQoFVKTPkmDohmokAY0KBVSkz5Jg6IZqJAGNCgVUpM+SYOiGaiQBjQoFVKTPkmDohmokAY0KBVSkz7pmUC5evUqQkNDzT7Lli3DV199pTVaRRr4/vvvkZeXZ2aTqKgo7Ny5U8kdPRMoe/bsQa1atdCoUSNERESIz6pVq3Dnxg08uHzpLz+PvvhCyc3ri/ypAYKyfft2YQsW4r59++LFF1/EBx988OdJlfhWKVBcXFzMRP98/x5uF+8wfUqzs7BlfjSy4mJNx/j3e8eOmv3fs/747+NHAsqvz53Fx0VFWJmcjHlhYQibOxepS5fixL594u+Pvrj1rCKe+D/KvH+hFBcOfYLcTRsRExUlSnF0ZCQKtqTj5onjymXKmyAMBQUFCA8PF5/09HTcuvXks/G8xMTE6g/KlYI85CcswuQhg+Ho4IApvj5WAYVgXszNxsrZofB0dsKIfn0RNMwXI9364a22beDv6YlTW9KVgUmDUeYna1djlLsbvHu7YvrIEQgc6oP+jo7o3r49FkwJEM+qqjBISL799lusWbMGXl5emD59OgIDA+Hp6SkgvX//vjxN7G0ClEt5OciLX4QFgQHw8/RAi4YNMXGwt9VAObZxg5DTqVVLFCyOx9WCPGFIwtK0fn1kzI9RDgprSLtX6iDUbwz4vNe2FWB9+Dw0qlsXvbt0Vg7Kb7/9hkOHDqFnz54CjHv37uHzzz9HSEgImjVrhsLCQtsD5XJ+LnanLMPe5SkoTEyA0xsdrArKhZwsbI6Owpq5c0wwluZkIXz8ODR49T9YNnOGclAOb1iH2MDJOLJhnZB5a8d25MUvRNumTUVtprJ5JQE//PADOFho1aoVDh48KKD49ddfUVxcjCZNmiA4ONj2QDH2UXYtW2p1UIzy5PdzmRmYMXoUmtWvj62x85WDIuUQkPNZmchPiMdU36EY3vdd5CyMU16j3L59G1OnTkXHjh1x5coVExQnTpyAg4MD3NzcTMf4xSaaHqlE7qsCFBpvV0qy6DMMebs3Tmeo76Pw2a5tyxdN7Gh3d7h2fhNd27VFQnAQrhcWKAeFzczYsWPRvXt3PHz40ATFqVOnBDzOzs6mYxoUM1X8/qPsKIsGJBghY94TxrNG6ZYy2S/ZvmQxgoYPg7+nB/p07YpBLi6mEZ7KzqwEpSwQGpRyoCjvkDSarMU+y9qKhKBp8HbthdTZIVYp3WVlsgYjnIuDg9CmiT0G9HQG78MaoHTt2hXGEY4GpTwqyjlmNBo70avmzEZ/J0czSAiRSqMZZUpAuT+0bo0Yordt2gQfrkpVKpNzJZMmTUKHDh1QWlpq0gRB6datmxgymw7qPopRFb9/l0a7vn0bchctxODeroiaNEHUJCzpHJVwRKQalJL1axEzeZKYo5GwcCTEeZV2zZoJaFTK5HA4JiYGzZs3R1FRkXh4DpkPHDiAdu3aick3o3ZsrjO7c2kSOrRoLhQoO3kqS7gEhaXZz6O/mPg6n50pOpOl2ZlInB6Mid5eykHhSOq1OnUwP2AyLuZyHiUfm6Ii0a19O7Bzy7kVlaD88ssvAhAOjwMCAkTz8/XXXyMsLAxvvPEGSkpKjJzYxqiHQOxPXS5mKDlT+tI//4nGr70mhquclFLZfhMUNjnsH9Bw7o6OmDLUR3w42dezY0floPz38WMc3VUMTw8P9HXpKWZ/A3x8MHrQIIz390fJrmI8uHoFj+/cNjNeZX/cuXMHkZGReOeddzBx4kQEBQVhxIgRWLp0KX7++Wezy1f7GoVK5DrIiQP7sTJlGebHxIhqkQ+4eNEi5Gdswa3Tp5QpkfK++uwcinNyTOsfch2E+7jYWOzIzlImT1rjxx9/xNGjR7FhwwYhl83CunXrcO7cOXmK8j2bGs6nZGRkCJlxcXGiluHUftmt2oNS9ob176rRgAalavRuc1I1KDZnsqq5YQ1K1ejd5qRqUGzOZFVzwxqUqtG7zUnVoNicyarmhjUoVaN3m5OqQbE5k1XNDVd7UKRX/L3S8/h07x4kL16MuXPmICEuDnvycnH3/Ge/e6jfVhOuIeXJEBEpNyttA64ePSpk8W8qw0Mo81vhhX8I+enpiI+Lw+zZs4U3fuHWDNw5c/oPL3w1zyhRe/ToEY4fPy4crClv3rx5YIjMmTNn5CmmfbUHhWsvnxcVYsfSJOER7/PO22Ldhf4hbj26Y3N0pFLvL7koyJXi45vSEB80Df26d0OvN98UPrtyZVflAh1l0gufztt0aZg2zBcBPkPQr3t39HBoLyICVC580voPHjxAdnY2Ro4cKTzwuRhIt4PevXvj/fffBwPyjJtNgEInnukjRqBTy5YoXLJYrKxujIxAhxYtMKiXCy4qXFmVoJxM34RF06YKr/ienTqitb29VUGhF37d2rURNGyYcFqit9vasLlo8OqrGODSU2lhIAD0R5kyZQocHR3FehLXfa5duyb8aOmFz1gf42YToNADv4eDA1ibyBLNkAqWwNZN7LFneYqyJXgJypmtW5AeE4WDa1YJ73trg0LfE/qjcC+fkX66bZs1Fb6zqmsUGp6hoTk5OSYevvnmG9H8tGnTxjbdDLIXLhAl64NRI01KpGvBbD8/2Nu9hvXzwpSDIo0lwzSsDYqUZ9wXJS1By8aNMdAKNYqJDgD0TWFtwlVkuhlER0ebOVzzXJuoUTJiY4RvyMKpU0ygMLR03rj3BUAps9TF2cgaRRqsqkBhtCKbPofmzbEidJZ4bpX9IgnKl19+iaSkJAEIg8FGjx5t5hopz7MZUNhWEwiTAWswKHTDZC3q1qMHgocPg/SwswYozBbBkc6sWbPg6+sLd3d34SJpdLi2qRrl1X//G9GTJtZ4UDjC25mchFFu/YQbprHPYg1QZI3x008/4dixY2LEw0hBY9/FZkDJXBCLV15+CVN8hz4BStN69bA5KrJG9FE4JD+4ehUmDfYW7pBGSFiTWhMUwsCQUo52Xn75ZRGPLCGyGVC2L0lEy8aN4OnsbIqrOZG+CeO9BqF982YoWbdGmRKrso/CIflsfz+8198d+1KXi0Lx2R/hpacVZ1Bgn2P37t0i1lgCwSHyjh07ULt2bZETRR63GVCOpm0Qk23NGzQQUXN0tmYHl5NR4wYNFPCoKm1lQWEcMI0nshjExphqNFXyaATKpEN3amgIPJycRP+ENQhrmKKkROGFzwB9lTIZKcg0F+yTXLhwAYTk5s2bYnjMcA1CZNyqfWeWzs53S89jR2YmvAYMgJuzk5i1HOHpgYljx+LTvXuVeqhLUFiS14WHYdaY0ejWri3+9X//gIezkwjXYB9CpdEokwFeTG9BIBkOwgD1QJ8h8OzpjM6tW4vJPpUyGdfDbAacifX39xfpLgiOn58flixZYnvDY0k11yUOHz6M+Ph4EWKwYsUKq3ioE0yGRtw6dQp56ZuRlJAgShnXQWKio7F+ZSpKiovx6La60AnKvHj4MBbFxZlkUZ78LE9KwrVPP1Uqk/0R1iDbtm0TOqWshQsXippEe+FL6vT+b2ug2jc9f/uJ9D9YRQMaFKuoteZdVINS82xqlSfSoFhFrTXvotUeFJP3V8kh5G3ejNiYGMyZMwfzo6NRmJGBmydPKPZwe2zyYvvi1EnkbNyIiPBwRIaHY9PqVbhYckipPCIlRlqGpMuUW5SZieLsbNO9CK86RV58EmPp4bZ+/XoxkmRsNdOJcl6l7FbtQeEcA72/OFvJXCXBI4aLXLPujj2Ej0rc1EAxCaZqjsE4j8JMS/Si46Qe5ffp+paY31CZPYEGkTKZS5fpSplj1rGDg/Dkk4ugqqfw6eHG9RwuBI4bN04UvvHjx4OpupgEsGxqeZsAhWs9dq+8ghBTDtZ8rJsXhoZ16+Ltt7ooB4UzogUJ8ejWrp2Y9DqbmYGjaesFoPZ2dkiLCFc+4caZWSZcFrl0PZhLt4GYeLMWKNLDjam5mG/28ePHuHz5MiZMmIDXX38dTDlv3GwCFGYjmh/wp/cXDclsSNbIwcrSfSE3W6xUc8mAcmgsruoysQ0TBHONSVUNJmsUgrI7JRl7li8T7p4il663l2nJQHWNQsOX9XCTMDRu3BhMdW7c5N9sIhc+AaFvBku7tXKwEpTjmzfCf4Dn7ymx1q4xGYtT93S95FS7alCMNQddIK0NihEC+V2m62KNsnfvXnlY7G0GFJmDlX0FmYOVWZFkei5VhiMobGZ8+/TBm61biZRY0ohGH1ZV8mgF2Ucxyvlfg8JFQSb6GzJkiPByY5ou42ZToGxLTBA1yRiP/qJj6eXay7TSqspwRlCYEFgaj/uaDArBWLBgAfr16ycS/hkh4XebAUUajM0Pwzc4IqHDMx2PVY5CjKAwPITXlrJrKihcBGQaMMb4bN269Yn8bTYJijTaJ2vXiGV/dmg/WrVSWZ+BoBzbmIbR7m6Q+V2lTILCN25wyKyqBqMRqrLpYe643Nxc0eRYgsRmQOGoJzZgsqhJpNEOr18Lb1dXtFecg5VGky9IaFLPTox0KJM1GYO0Wtk3Fu/TqQmgMEzj448/Fn0SeuIzEyT7Kjdu3MCuXbvIh2mziaaH3mx2deogNjBARAVaMwcrQbmxfRvSIsPB4TFThrL5YXPHHPWswbYtTrBqjcLRVYfXW1gtl660PsNGGS1ID3zpg/Ldd98hLS3tidfBVXtQOL19pHgnPPq7o6+LC8YOHIBA36EiB+s4fz+UFO/EgyuXlTn1iOn0K5dx+chhzA2ZBVdHRzErO2GwN4YOHIjFsbFg4PojhdPpEs4DK1eAM82j3Nzw0r9+z6U7873R2BChNpcuQWGTw1SlDRo0EM3O3Llzwc+0adPw7rvv2h4o8qGOHDkiOlwMpuabMteuXWsVDzdZ2lgFMwcrJ54okyMCvohRljx5noo94RS5dPfvQ2pyMqKjooRMrr3EL4wTnna3Tp1UCidB2bdvn5DD5zN+YmNjbc9nVoUh9DUqr4Fq3/RU/hH1FVRoQIOiQovPwTU0KM+BkVU8ogZFhRafg2toUJ4DI6t4RA2KCi0+B9fQoDwHRlbxiBoUFVp8Dq5hE6AwTpY+nnTdYwA1p5o5U0q/TjoJW2OTHuqcAaa8iIgIrF69GmfPnrWGOHFNLtKdP38ejKtmLDCflYt2ZV/bpvoGpFzmRinrVC1l2QQodPrlO+98fHxEot6ZM2di0KBBIhK/bGYg+WCV2UsP9VGjRiE4OFh4qNPpmJH/9FRnYjzVGwsDkwNTzpgxY0R2AfqHDB482CyHiUq5cpmCvije3t7Caam8ZMSUaROgcE2iXr16omTTE4tppPLy8mBvb4/hw4er1J24FqP8uarq5ORkysEqV1rLy8Gq4gb4XKy16BXPrA18Ria16dKli3hGa9ScTPTHOB6u7fTp0wcODg7lZq22GVBYgpnL4/r16yabnDx5Urx21cXFxXRM1ReWHhrJWFs9LQerCrmnT5+Gq6urqE3k9Qgsa5inGVCe+yx7PlNxcTEuXbqExMTEp8qxiRqlPCXwjZ7MDGSNGsUor7wcrNYo3R999JGoIVmryI0r1cxZYq1aTMqREDwNSHlOtQ3XkA9j3NNQ7Fh27txZ+Hga/6byO6tmvgOYfQXWXJZysKqQyfCI+vXri1Se8nrSOOXF2chzVOylnBoFCkv4hx9+KDpfHBlYwz9EKp+gpKamYsaMGRg6dKjId8b23BoyCUpZIKQByx6X96dqL+XUGFDkyIAjoJCQELM+iyqllXcddizZ1DHXWdOmTYUzcnnnVeYYQbGzs0NycrLpMtKAGhSTSiDmRGrVqiWqeMNh01cO5S5evAgOjTkiMXZsTSdZ8Qshzc/PLzcHqwqx+/fvR926dc3yu0pQWrRoIeaQVMgp7xpSTo2oUdgMsGM3efJk06QXmwAGWJeNaitPGX/nGBXH9JnGFJoEtaioCHXq1HkiB+vfubalc5k1mp1zNnFygu3OnTvCd7VTp064cuWKpX+t9PEaA8rDhw+RlZUllMj+CTcajs2BEZxKa+yPC8gcrP379xe1GGU9LQerCrm8PifzWrVqJSL12Bfj/BGHzHR4lvCokFX2GnJ0VV7MsTxXwlStRz2lpaWg0ahEdizpCMxXmw0bNkxMiqmeVr97967oK9BIY8eOFbLY3DEHK+cbrDE8Zj+IYHh5eYlPaGioyEvPt3Kpfj5pfAJSWFgoJtx69eqFF154QRRGeudzlti4VTtQGjZsaPII55oHmxWWNjY7Rk9x+V2eY3yoyn5nf4S1CvskUm5cXJzFHKyVlSf/n+tLJSUlQiY98FNSUqwGCWVKUBj8JfXJd/VIUAgH89DybyygnL2t8hqFs6/yZuXeGhBIo+j9X2vACIq0CacHykYR/vWVyj+jVvmH9VGtAXMNaFDM9aF/WdCABsWCYvRhcw1oUMz1oX9Z0IAGxYJi9GFzDWhQzPWhf1nQgAbFgmL0YXMNaFDM9aF/WdCABsWCYvRhcw1oUMz1oX9Z0IAGxYJi9GFzDWhQzPWhf1nQgAbFgmL0YXMNaFDM9aF/WdCABsWCYvRhcw1oUMz1oX9Z0IAGxYJi9GFzDWhQzPWhf1nQwP8DExvPlQQ1PWYAAAAASUVORK5CYII=)\r\n",
        "\r\n",
        "\r\n",
        "설명: 행 1-3, 열 1-3"
      ]
    },
    {
      "cell_type": "code",
      "metadata": {
        "colab": {
          "base_uri": "https://localhost:8080/"
        },
        "id": "NIXRNW7zsRcy",
        "outputId": "b6bef50f-3c19-4eb7-ad4c-2676888c03ef"
      },
      "source": [
        "import numpy as np\r\n",
        "\r\n",
        "a = [[1,2,3,0], [0,1,2,3], [3,0,1,2], [2,3,0,1]]\r\n",
        "a2 = np.array(a)\r\n",
        "print(a2[0:3, 0:3])  # 행을 0 이상에서 3 미만까지, 열을 0 이상에서 3 미만까지"
      ],
      "execution_count": 23,
      "outputs": [
        {
          "output_type": "stream",
          "text": [
            "[[1 2 3]\n",
            " [0 1 2]\n",
            " [3 0 1]]\n"
          ],
          "name": "stdout"
        }
      ]
    },
    {
      "cell_type": "markdown",
      "metadata": {
        "id": "nq0Ce3a7sa2K"
      },
      "source": [
        ""
      ]
    },
    {
      "cell_type": "markdown",
      "metadata": {
        "id": "qX2e4mYdsavj"
      },
      "source": [
        ""
      ]
    },
    {
      "cell_type": "markdown",
      "metadata": {
        "id": "ZY-c1qDMsapR"
      },
      "source": [
        "문제486. 아래의 4x4 행렬에서 빨간색으로 지정한 영역의 숫자들만 출력하시오 !\r\n",
        "\r\n",
        "![image.png](data:image/png;base64,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)"
      ]
    },
    {
      "cell_type": "code",
      "metadata": {
        "colab": {
          "base_uri": "https://localhost:8080/"
        },
        "id": "5830lU0Wsivc",
        "outputId": "4bb1f0bf-81a4-400e-ec51-161c186b2176"
      },
      "source": [
        "import numpy as np\r\n",
        "\r\n",
        "a = [[1,2,3,0], [0,1,2,3], [3,0,1,2], [2,3,0,1]]\r\n",
        "a2 = np.array(a)\r\n",
        "print(a2[0:3, 1:4])   # a2[ 행, 열 ]"
      ],
      "execution_count": 24,
      "outputs": [
        {
          "output_type": "stream",
          "text": [
            "[[2 3 0]\n",
            " [1 2 3]\n",
            " [0 1 2]]\n"
          ],
          "name": "stdout"
        }
      ]
    },
    {
      "cell_type": "markdown",
      "metadata": {
        "id": "3_kPu8jDslUC"
      },
      "source": [
        ""
      ]
    },
    {
      "cell_type": "markdown",
      "metadata": {
        "id": "j5OeSQ16slHY"
      },
      "source": [
        ""
      ]
    },
    {
      "cell_type": "markdown",
      "metadata": {
        "id": "Uo7RYSxYs8zG"
      },
      "source": [
        "문제487. 아래의 4x4 행렬에서 빨간색으로 지정한 영역의 숫자들만 출력하시오 !\r\n",
        "\r\n",
        "![image.png](data:image/png;base64,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)"
      ]
    },
    {
      "cell_type": "code",
      "metadata": {
        "colab": {
          "base_uri": "https://localhost:8080/"
        },
        "id": "7dSbMR2psk7m",
        "outputId": "93853b3f-65e4-45fa-83ab-29af83013e9a"
      },
      "source": [
        "import numpy as np\r\n",
        "\r\n",
        "a = [[1,2,3,0], [0,1,2,3], [3,0,1,2], [2,3,0,1]]\r\n",
        "a2 = np.array(a)\r\n",
        "print(a2[1:4, 0:3])"
      ],
      "execution_count": 26,
      "outputs": [
        {
          "output_type": "stream",
          "text": [
            "[[0 1 2]\n",
            " [3 0 1]\n",
            " [2 3 0]]\n"
          ],
          "name": "stdout"
        }
      ]
    },
    {
      "cell_type": "markdown",
      "metadata": {
        "id": "Us-MLHXssu8i"
      },
      "source": [
        ""
      ]
    },
    {
      "cell_type": "markdown",
      "metadata": {
        "id": "cKswpB56su4q"
      },
      "source": [
        ""
      ]
    },
    {
      "cell_type": "markdown",
      "metadata": {
        "id": "99leo4M-slBK"
      },
      "source": [
        "문제488. 아래의 4x4 행렬에서 빨간색으로 지정한 영역의 숫자들만 출력하시오 !\r\n",
        "\r\n",
        "\r\n",
        "![image.png](data:image/png;base64,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)"
      ]
    },
    {
      "cell_type": "code",
      "metadata": {
        "colab": {
          "base_uri": "https://localhost:8080/"
        },
        "id": "WeOG8LuGtEe5",
        "outputId": "a6323390-41a6-4813-e05e-1235ee873d21"
      },
      "source": [
        "import numpy as np\r\n",
        "\r\n",
        "a = [[1,2,3,0], [0,1,2,3], [3,0,1,2], [2,3,0,1]]\r\n",
        "a2 = np.array(a)\r\n",
        "print(a2[1:4, 1:4])\r\n"
      ],
      "execution_count": 27,
      "outputs": [
        {
          "output_type": "stream",
          "text": [
            "[[1 2 3]\n",
            " [0 1 2]\n",
            " [3 0 1]]\n"
          ],
          "name": "stdout"
        }
      ]
    },
    {
      "cell_type": "markdown",
      "metadata": {
        "id": "LCC1Mtu6su0c"
      },
      "source": [
        ""
      ]
    },
    {
      "cell_type": "markdown",
      "metadata": {
        "id": "YAKrnEa2tGl_"
      },
      "source": [
        ""
      ]
    },
    {
      "cell_type": "markdown",
      "metadata": {
        "id": "-EQ89hqVtGhy"
      },
      "source": [
        "문제489. 아래의 4x4 행렬에서 위에서 빨간색으로 지정됬던 4개의 영역의 숫자들을 for loop 문을 이용해서 모두 출력하시오 !\r\n",
        "\r\n",
        "![image.png](data:image/png;base64,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)\r\n",
        "\r\n",
        "3x3 행렬 4개를 추출하시오 ~"
      ]
    },
    {
      "cell_type": "code",
      "metadata": {
        "colab": {
          "base_uri": "https://localhost:8080/"
        },
        "id": "BGXdoZn7tQda",
        "outputId": "280baee0-fd5c-48c9-b311-f1a5a4cf0ff5"
      },
      "source": [
        "import numpy as np\r\n",
        "\r\n",
        "a = [[1,2,3,0], [0,1,2,3], [3,0,1,2], [2,3,0,1]]\r\n",
        "a2 = np.array(a)\r\n",
        "\r\n",
        "for i, k in zip(range(0,2), range(3,5)):\r\n",
        "    for j, h in zip(range(0,2), range(3,5)):\r\n",
        "        print(a2[i:k, j:h])"
      ],
      "execution_count": 28,
      "outputs": [
        {
          "output_type": "stream",
          "text": [
            "[[1 2 3]\n",
            " [0 1 2]\n",
            " [3 0 1]]\n",
            "[[2 3 0]\n",
            " [1 2 3]\n",
            " [0 1 2]]\n",
            "[[0 1 2]\n",
            " [3 0 1]\n",
            " [2 3 0]]\n",
            "[[1 2 3]\n",
            " [0 1 2]\n",
            " [3 0 1]]\n"
          ],
          "name": "stdout"
        }
      ]
    },
    {
      "cell_type": "markdown",
      "metadata": {
        "id": "CxNpBhIwtXG1"
      },
      "source": [
        ""
      ]
    },
    {
      "cell_type": "markdown",
      "metadata": {
        "id": "2tVVFh8ztXD2"
      },
      "source": [
        ""
      ]
    },
    {
      "cell_type": "markdown",
      "metadata": {
        "id": "NE2Es1wdtXAy"
      },
      "source": [
        "문제490. 위에서 선택한 4개의 행렬(3x3) 과 아래의 filter 행렬(3x3) 과의 원소의 곱을 출력하시오 !\r\n",
        "\r\n",
        "![image.png](data:image/png;base64,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)"
      ]
    },
    {
      "cell_type": "code",
      "metadata": {
        "colab": {
          "base_uri": "https://localhost:8080/"
        },
        "id": "XmNCmWbZtYZu",
        "outputId": "f165763b-aefe-4d0e-923e-df9b646063c5"
      },
      "source": [
        "import numpy as np\r\n",
        "\r\n",
        "a = [[1,2,3,0], [0,1,2,3], [3,0,1,2], [2,3,0,1]]\r\n",
        "a2 = np.array(a)\r\n",
        "f = [[2,3,4], [1,2,3], [2,0,1]]\r\n",
        "filter = np.array(f)\r\n",
        "\r\n",
        "for i, k in zip(range(0,2), range(3,5)):\r\n",
        "    for j, h in zip(range(0,2), range(3,5)):\r\n",
        "        print(a2[i:k, j:h] * filter)"
      ],
      "execution_count": 29,
      "outputs": [
        {
          "output_type": "stream",
          "text": [
            "[[ 2  6 12]\n",
            " [ 0  2  6]\n",
            " [ 6  0  1]]\n",
            "[[4 9 0]\n",
            " [1 4 9]\n",
            " [0 0 2]]\n",
            "[[0 3 8]\n",
            " [3 0 3]\n",
            " [4 0 0]]\n",
            "[[ 2  6 12]\n",
            " [ 0  2  6]\n",
            " [ 6  0  1]]\n"
          ],
          "name": "stdout"
        }
      ]
    },
    {
      "cell_type": "markdown",
      "metadata": {
        "id": "GC6jhyCjt6OV"
      },
      "source": [
        ""
      ]
    },
    {
      "cell_type": "markdown",
      "metadata": {
        "id": "kFELyUGSt6LD"
      },
      "source": [
        ""
      ]
    },
    {
      "cell_type": "markdown",
      "metadata": {
        "id": "kSEz-Y2dt6H2"
      },
      "source": [
        "문제491. 위에서 출력된 3x3 행렬 4개에 대한 원소들의 합이 각각 출력되게 하시오 !\r\n"
      ]
    },
    {
      "cell_type": "code",
      "metadata": {
        "colab": {
          "base_uri": "https://localhost:8080/"
        },
        "id": "EeB_Npoat8hZ",
        "outputId": "6e39c14c-b62a-4e60-8cbd-419238eb2f90"
      },
      "source": [
        "import numpy as np\r\n",
        "\r\n",
        "a = [[1,2,3,0], [0,1,2,3], [3,0,1,2], [2,3,0,1]]\r\n",
        "a2 = np.array(a)\r\n",
        "f = [[2,3,4], [1,2,3], [2,0,1]]\r\n",
        "filter = np.array(f)\r\n",
        "\r\n",
        "for i, k in zip(range(0,2), range(3,5)):\r\n",
        "    for j, h in zip(range(0,2), range(3,5)):\r\n",
        "        print(np.sum(a2[i:k, j:h] * filter))"
      ],
      "execution_count": 30,
      "outputs": [
        {
          "output_type": "stream",
          "text": [
            "35\n",
            "29\n",
            "21\n",
            "35\n"
          ],
          "name": "stdout"
        }
      ]
    },
    {
      "cell_type": "markdown",
      "metadata": {
        "id": "otYzP5xDt_sT"
      },
      "source": [
        ""
      ]
    },
    {
      "cell_type": "markdown",
      "metadata": {
        "id": "L6b3w4mvt_oz"
      },
      "source": [
        ""
      ]
    },
    {
      "cell_type": "markdown",
      "metadata": {
        "id": "XIB30spPt_lb"
      },
      "source": [
        "문제492. 위에서 출력된 4개의 숫자로 아래의 행렬(2x2)을 만드시오 !\r\n",
        "\r\n",
        "![image.png](data:image/png;base64,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)"
      ]
    },
    {
      "cell_type": "code",
      "metadata": {
        "colab": {
          "base_uri": "https://localhost:8080/"
        },
        "id": "efXzAXF-uFY8",
        "outputId": "aa20731d-7dd8-4961-dfe5-98967070844e"
      },
      "source": [
        "import numpy as np\r\n",
        "\r\n",
        "a = [[1,2,3,0], [0,1,2,3], [3,0,1,2], [2,3,0,1]]\r\n",
        "a2 = np.array(a)\r\n",
        "f = [[2,3,4], [1,2,3], [2,0,1]]\r\n",
        "filter = np.array(f)\r\n",
        "\r\n",
        "result = []\r\n",
        "for i, k in zip(range(0,2), range(3,5)):\r\n",
        "    for j, h in zip(range(0,2), range(3,5)):\r\n",
        "        result.append(np.sum(a2[i:k, j:h] * filter))\r\n",
        "\r\n",
        "result2 = np.array(result).reshape(2,2)   # numpy array의 2x2 행렬로 변경\r\n",
        "print(result2)"
      ],
      "execution_count": 31,
      "outputs": [
        {
          "output_type": "stream",
          "text": [
            "[[35 29]\n",
            " [21 35]]\n"
          ],
          "name": "stdout"
        }
      ]
    },
    {
      "cell_type": "markdown",
      "metadata": {
        "id": "DxWuUvg8uKF_"
      },
      "source": [
        "설명: a2 라는 원본이미지(개사진)에 filter(랜덤으로 생성한 이미지)를 가지고 원본 이미지를 스트라이드(양옆위아래로 스캔) 하면서 특정을 잡아내어 특징 이미지를 추출(result2)\t하는 것을 합성곱이라고 합니다."
      ]
    },
    {
      "cell_type": "markdown",
      "metadata": {
        "id": "Lb1wTYBquJ6I"
      },
      "source": [
        ""
      ]
    },
    {
      "cell_type": "markdown",
      "metadata": {
        "id": "gvFjWkqiuJ2o"
      },
      "source": [
        ""
      ]
    },
    {
      "cell_type": "markdown",
      "metadata": {
        "id": "qqyy_aDFuNba"
      },
      "source": [
        "문제493. 아래의 원본 이미지 행렬(5x5) 행렬에서 필터행렬(4x4)로 \r\n",
        "\t     스트라이딩 해서 합성곱해서 특징(2x2)을 추출하시오 !\r\n",
        "\r\n",
        "이미지 행렬\r\n",
        "\r\n",
        "    2 3 1 4 7\r\n",
        "    3 1 6 4 3\r\n",
        "    2 1 5 3 1\r\n",
        "    6 2 4 1 2\r\n",
        "    7 3 1 2 3\r\n",
        "\r\n",
        "필터행렬\r\n",
        "\r\n",
        "    3 1 4 1\r\n",
        "    2 3 3 4\r\n",
        "    5 1 2 1\r\n",
        "    6 1 3 4"
      ]
    },
    {
      "cell_type": "code",
      "metadata": {
        "colab": {
          "base_uri": "https://localhost:8080/"
        },
        "id": "q01Qe2BuuZuY",
        "outputId": "2b35140d-807c-4b92-997d-8ce36b6efd1e"
      },
      "source": [
        "import numpy as np\r\n",
        "\r\n",
        "a = [[2,3,1,4,7], [3,1,6,4,3], [2,1,5,3,1], [6,2,4,1,2], [7,3,1,2,3]]\r\n",
        "a2 = np.array(a)\r\n",
        "f = [[3,1,4,1], [2,3,3,4], [5,1,2,1], [6,1,3,4]]\r\n",
        "filter = np.array(f)\r\n",
        "\r\n",
        "result = []\r\n",
        "for i, k in zip(range(0,4), range(4,6)):\r\n",
        "    for j, h in zip(range(0,4), range(4,6)):\r\n",
        "        result.append(np.sum(a2[i:k, j:h] * filter))\r\n",
        "\r\n",
        "result2 = np.array(result).reshape(2,2)\r\n",
        "print(result2)"
      ],
      "execution_count": 32,
      "outputs": [
        {
          "output_type": "stream",
          "text": [
            "[[138 121]\n",
            " [169 113]]\n"
          ],
          "name": "stdout"
        }
      ]
    },
    {
      "cell_type": "code",
      "metadata": {
        "colab": {
          "base_uri": "https://localhost:8080/"
        },
        "id": "ANbP2vC0ubo8",
        "outputId": "9083fc35-f79b-4dfc-adbc-bf872fc82cb2"
      },
      "source": [
        "import numpy as np\r\n",
        "\r\n",
        "a = [[2,3,1,4,7], [3,1,6,4,3], [2,1,5,3,1], [6,2,4,1,2], [7,3,1,2,3]]\r\n",
        "a2 = np.array(a)\r\n",
        "f = [[3,1,4,1], [2,3,3,4], [5,1,2,1], [6,1,3,4]]\r\n",
        "filter = np.array(f)\r\n",
        "\r\n",
        "result = []\r\n",
        "for i in range(0,2):\r\n",
        "    for j in range(0,2):\r\n",
        "        result.append(np.sum(a2[i:i+4,j:j+4]*filter))\r\n",
        "result2=np.array(result).reshape(2,2)\r\n",
        "print(result2)"
      ],
      "execution_count": 33,
      "outputs": [
        {
          "output_type": "stream",
          "text": [
            "[[138 121]\n",
            " [169 113]]\n"
          ],
          "name": "stdout"
        }
      ]
    },
    {
      "cell_type": "markdown",
      "metadata": {
        "id": "Ouc6vt2pud-V"
      },
      "source": [
        ""
      ]
    },
    {
      "cell_type": "markdown",
      "metadata": {
        "id": "yvGghpKfud6S"
      },
      "source": [
        ""
      ]
    },
    {
      "cell_type": "markdown",
      "metadata": {
        "id": "HZ6xmvyiud3C"
      },
      "source": [
        "**■ 153. 필수 알고리즘2 (이진 탐색)**\r\n",
        "\r\n",
        "https://www.ebssw.kr/edc/cultursens/cultursensMvpView.do?alctcrSn=7&cntntsSn=115&stepSn=7&lctreSn=115&pageIndex=1\r\n",
        "\r\n"
      ]
    },
    {
      "cell_type": "markdown",
      "metadata": {
        "id": "8j-mw7syuiw8"
      },
      "source": [
        ""
      ]
    },
    {
      "cell_type": "markdown",
      "metadata": {
        "id": "pFSrCZFTujIo"
      },
      "source": [
        "문제494. 아래의 리스트에서 숫자 3이 있는지 순차 탐색으로 구현하시오 !\r\n",
        "\t     있으면 숫자 3이 있습니다. 라는 메세지가 출력되게하시오 !\r\n",
        "\r\n",
        "    a = [15, 11, 1, 3, 8]\r\n",
        "\r\n",
        "설명: 순차탐색이란? 주어진 데이터를 처음부터 차례대로 비교하면서 찾는 방법\r\n"
      ]
    },
    {
      "cell_type": "code",
      "metadata": {
        "colab": {
          "base_uri": "https://localhost:8080/"
        },
        "id": "w0vXQ3_hunvi",
        "outputId": "faf2aa94-6f45-4f1c-9ca6-1b0a52fea74e"
      },
      "source": [
        "a = [15, 11, 1, 3, 8]\r\n",
        "\r\n",
        "for i in a:\r\n",
        "    if i == 3:\r\n",
        "        print('숫자 3이 있습니다')\r\n",
        "        break\r\n",
        "else:\r\n",
        "    print('숫자 3이 없습니다')"
      ],
      "execution_count": 34,
      "outputs": [
        {
          "output_type": "stream",
          "text": [
            "숫자 3이 있습니다\n"
          ],
          "name": "stdout"
        }
      ]
    },
    {
      "cell_type": "markdown",
      "metadata": {
        "id": "Saeuh8xCutLU"
      },
      "source": [
        ""
      ]
    },
    {
      "cell_type": "markdown",
      "metadata": {
        "id": "QZ-DpkjFutIg"
      },
      "source": [
        ""
      ]
    },
    {
      "cell_type": "markdown",
      "metadata": {
        "id": "Cgt6faoPutFK"
      },
      "source": [
        "문제450. 위의 코드를 수정해서 숫자를 물어보게 하고 숫자를 입력하면 해당 숫자가 존재하는지 존재하지 않는지가 출력되게 하시오 !\r\n",
        "\r\n",
        "    검색할 숫자를 입력하세요 ~ 3\r\n",
        "\r\n",
        "    숫자 3은 있습니다.\r\n",
        "    숫자 2은 없습니다."
      ]
    },
    {
      "cell_type": "code",
      "metadata": {
        "colab": {
          "base_uri": "https://localhost:8080/"
        },
        "id": "-t0QkcUguv8x",
        "outputId": "cabc4855-c423-479d-a6de-9489cd9f6f9b"
      },
      "source": [
        "num = int(input('검색할 숫자를 입력하세요 ~'))\r\n",
        "\r\n",
        "a = [15, 11, 1, 3, 8]\r\n",
        "\r\n",
        "for i in a:\r\n",
        "    if i == num:\r\n",
        "        print('숫자', num, '은 있습니다')\r\n",
        "        break\r\n",
        "else:\r\n",
        "    print('숫자', num, '은 없습니다')"
      ],
      "execution_count": 36,
      "outputs": [
        {
          "output_type": "stream",
          "text": [
            "검색할 숫자를 입력하세요 ~2\n",
            "숫자 2 은 없습니다\n"
          ],
          "name": "stdout"
        }
      ]
    },
    {
      "cell_type": "markdown",
      "metadata": {
        "id": "DcCdOcoPu3aC"
      },
      "source": [
        ""
      ]
    },
    {
      "cell_type": "markdown",
      "metadata": {
        "id": "pRlqkg5cu3Wy"
      },
      "source": [
        ""
      ]
    },
    {
      "cell_type": "markdown",
      "metadata": {
        "id": "Lwul7QQXu3Tt"
      },
      "source": [
        "** 이진탐색? 정렬된 데이터를 좌우 둘로 나눠서 원하는 값의 탐색범위를 좁혀가며 찾는 방법"
      ]
    },
    {
      "cell_type": "markdown",
      "metadata": {
        "id": "yT9pVxwPu6ye"
      },
      "source": [
        ""
      ]
    },
    {
      "cell_type": "markdown",
      "metadata": {
        "id": "zlv_kgJgu7Gm"
      },
      "source": [
        ""
      ]
    },
    {
      "cell_type": "markdown",
      "metadata": {
        "id": "EvEr2UvMu7Cx"
      },
      "source": [
        "문제496. 아래의 a 리스트에서 중앙값을 찾으시오 !\r\n",
        "\r\n",
        "    a = [1, 7, 11, 12, 14, 23, 33, 47, 51, 64, 67, 77, 139, 672, 871]"
      ]
    },
    {
      "cell_type": "code",
      "metadata": {
        "colab": {
          "base_uri": "https://localhost:8080/"
        },
        "id": "bUylpUF2u-jY",
        "outputId": "19cc3252-fd30-4f57-b617-7604967bf444"
      },
      "source": [
        "a = [1, 7, 11, 12, 14, 23, 33, 47, 51, 64, 67, 77, 139, 672, 871]\r\n",
        "\r\n",
        "import numpy as np\r\n",
        "\r\n",
        "a_n = np.array(a)\r\n",
        "print( np.median(a_n) )"
      ],
      "execution_count": 37,
      "outputs": [
        {
          "output_type": "stream",
          "text": [
            "47.0\n"
          ],
          "name": "stdout"
        }
      ]
    },
    {
      "cell_type": "markdown",
      "metadata": {
        "id": "b2tMZomkvBQk"
      },
      "source": [
        ""
      ]
    },
    {
      "cell_type": "markdown",
      "metadata": {
        "id": "Nj8W0P3zvBNX"
      },
      "source": [
        ""
      ]
    },
    {
      "cell_type": "markdown",
      "metadata": {
        "id": "IN7VuHeivBKu"
      },
      "source": [
        "문제497.  a 리스트에서 첫번째 숫자 부터 중앙값에 해당하는 숫자까지만 검색하시오 ~\r\n",
        "\r\n",
        "힌트: a.index(요소명)\r\n"
      ]
    },
    {
      "cell_type": "code",
      "metadata": {
        "colab": {
          "base_uri": "https://localhost:8080/"
        },
        "id": "7CbWPWk5vFWB",
        "outputId": "d753549b-3928-4d31-d318-956e8a0039f1"
      },
      "source": [
        "a = [1, 7, 11, 12, 14, 23, 33, 47, 51, 64, 67, 77, 139, 672, 871]\r\n",
        "\r\n",
        "import numpy as np\r\n",
        "\r\n",
        "a_n = np.array(a)\r\n",
        "a_m = np.median(a_n)\r\n",
        "print( a[ : a.index(a_m) + 1] )"
      ],
      "execution_count": 38,
      "outputs": [
        {
          "output_type": "stream",
          "text": [
            "[1, 7, 11, 12, 14, 23, 33, 47]\n"
          ],
          "name": "stdout"
        }
      ]
    },
    {
      "cell_type": "markdown",
      "metadata": {
        "id": "pbJ7YmdrvI1q"
      },
      "source": [
        ""
      ]
    },
    {
      "cell_type": "markdown",
      "metadata": {
        "id": "QutCkEYgvIyJ"
      },
      "source": [
        ""
      ]
    },
    {
      "cell_type": "markdown",
      "metadata": {
        "id": "Kmq8PyihvIvS"
      },
      "source": [
        "문제498. 위의 a 리스트에서 문제497번에서 선택된 숫자들을 중앙값까지 포함해서 다 지우고 \r\n",
        "\t     아래의 결과만 출력되게하시오 !\r\n",
        "\r\n",
        "    결과: [51, 64, 67, 77, 139, 672, 871]"
      ]
    },
    {
      "cell_type": "code",
      "metadata": {
        "colab": {
          "base_uri": "https://localhost:8080/"
        },
        "id": "xQsL1e5-vKGB",
        "outputId": "ea4cd01a-accc-42f6-d0c3-2cddb66aa647"
      },
      "source": [
        "a = [1, 7, 11, 12, 14, 23, 33, 47, 51, 64, 67, 77, 139, 672, 871]\r\n",
        "\r\n",
        "import numpy as np\r\n",
        "\r\n",
        "a_n = np.array(a)\r\n",
        "a_m = np.median(a_n)\r\n",
        "del( a[ : a.index(a_m) + 1] )\r\n",
        "print(a)"
      ],
      "execution_count": 39,
      "outputs": [
        {
          "output_type": "stream",
          "text": [
            "[51, 64, 67, 77, 139, 672, 871]\n"
          ],
          "name": "stdout"
        }
      ]
    },
    {
      "cell_type": "markdown",
      "metadata": {
        "id": "PlDlp1_cvOHv"
      },
      "source": [
        ""
      ]
    },
    {
      "cell_type": "markdown",
      "metadata": {
        "id": "jJCHAUTrvO4M"
      },
      "source": [
        ""
      ]
    },
    {
      "cell_type": "markdown",
      "metadata": {
        "id": "3GSwMc4dvOD5"
      },
      "source": [
        "문제499. 위의 결과로 출력된 아래의 리스트에서 중앙값을 출력하시오 !"
      ]
    },
    {
      "cell_type": "code",
      "metadata": {
        "colab": {
          "base_uri": "https://localhost:8080/"
        },
        "id": "D-WtfY4UvPRm",
        "outputId": "5652c04d-3779-4d50-ebe9-da1a4db02a39"
      },
      "source": [
        "a = [1, 7, 11, 12, 14, 23, 33, 47, 51, 64, 67, 77, 139, 672, 871]\r\n",
        "\r\n",
        "import numpy as np\r\n",
        "\r\n",
        "a_n = np.array(a)\r\n",
        "a_m = np.median(a_n)\r\n",
        "del( a[ : a.index(a_m) + 1] )\r\n",
        "a_m2 = np.median(a)\r\n",
        "print(a_m2)  "
      ],
      "execution_count": 40,
      "outputs": [
        {
          "output_type": "stream",
          "text": [
            "77.0\n"
          ],
          "name": "stdout"
        }
      ]
    },
    {
      "cell_type": "markdown",
      "metadata": {
        "id": "kXxSD8o4vTr6"
      },
      "source": [
        ""
      ]
    },
    {
      "cell_type": "markdown",
      "metadata": {
        "id": "vrncKppAvToh"
      },
      "source": [
        ""
      ]
    },
    {
      "cell_type": "markdown",
      "metadata": {
        "id": "uppZ2hHyvTHj"
      },
      "source": [
        "문제500. 지금 위에서 출력한 중앙값 77이 내가 검색하고자 하는 67보다 크다면 \r\n",
        "\t     아래의 결과 리스트만 출력되게 하시오\r\n",
        "\r\n",
        "    결과: [51,64, 67]\r\n"
      ]
    },
    {
      "cell_type": "code",
      "metadata": {
        "colab": {
          "base_uri": "https://localhost:8080/"
        },
        "id": "HxstHdZ9vU-L",
        "outputId": "3d99d2db-d83b-464b-a84e-15e8692cb548"
      },
      "source": [
        "a = [1, 7, 11, 12, 14, 23, 33, 47, 51, 64, 67, 77, 139, 672, 871]\r\n",
        "\r\n",
        "import numpy as np\r\n",
        "\r\n",
        "a_n = np.array(a)\r\n",
        "a_m = np.median(a_n)\r\n",
        "del( a[ : a.index(a_m) + 1] )\r\n",
        "a_m2 = np.median(a)\r\n",
        "if a_m2 > 67:\r\n",
        "    del( a[a.index(a_m2) : ])\r\n",
        "else:\r\n",
        "    del( a[ : a.index(a_m2)])\r\n",
        "print(a)"
      ],
      "execution_count": 41,
      "outputs": [
        {
          "output_type": "stream",
          "text": [
            "[51, 64, 67]\n"
          ],
          "name": "stdout"
        }
      ]
    },
    {
      "cell_type": "markdown",
      "metadata": {
        "id": "wMysiOjMvh66"
      },
      "source": [
        ""
      ]
    },
    {
      "cell_type": "markdown",
      "metadata": {
        "id": "N3bYeKWjvh3_"
      },
      "source": [
        ""
      ]
    },
    {
      "cell_type": "markdown",
      "metadata": {
        "id": "bFD7VDQMvh0u"
      },
      "source": [
        "문제501. EBS 에 나온 영상대로 이진탐색을 구현하시오\r\n",
        "\r\n",
        "    a = [1, 7, 11, 12, 14, 23, 33, 47, 51, 64, 67, 77, 139, 672, 871]\r\n",
        "\r\n",
        "    a 리스트에서 검색할 숫자를 입력하세요 ~ 67\r\n",
        "    67 은 이진탐색 3번만에 검색되었습니다.\r\n",
        "\r\n",
        "    a 리스트에서 검색할 숫자를 입력하세요 ~ 68\r\n",
        "    68 은 a 리스트에 없습니다."
      ]
    },
    {
      "cell_type": "code",
      "metadata": {
        "colab": {
          "base_uri": "https://localhost:8080/"
        },
        "id": "rIab_mQ2voia",
        "outputId": "81a2a9ce-0a05-44c0-9f65-09b25d384401"
      },
      "source": [
        "import numpy as np\r\n",
        "\r\n",
        "num = int(input(\"a 리스트에서 검색할 숫자를 입력하세요: \"))\r\n",
        "\r\n",
        "a = [ 1, 7, 11, 12, 14, 23, 33, 47, 51, 64, 67, 77, 139, 672, 871 ]\r\n",
        "\r\n",
        "cnt = 0\r\n",
        "\r\n",
        "while True:                   # 리스트의 갯수가 홀수일때만 가능한 코드\r\n",
        "    a_n = np.array(a)\r\n",
        "    a_m = np.median(a_n)\r\n",
        "\r\n",
        "    if num not in a_n:      # 찾는 값이 list에 없으면 중단\r\n",
        "        print( num, '은 a 리스트에 없습니다.')\r\n",
        "        break\r\n",
        "    elif num == a_m:       # 찾는값이 중앙값과 같으면 \r\n",
        "        print( num, '은 이진탐색',cnt, '번만에 검색되었습니다.')   # 검색완료\r\n",
        "        break\r\n",
        "    elif num > a_m:        # 찾는값이 중앙값보다 크면\r\n",
        "        del(a[ :a.index(a_m)+1])    # list를 처음부터 중앙값까지 삭제하고 while 문 다시 반복\r\n",
        "        cnt += 1 \r\n",
        "    elif num < a_m:        # 찾는값이 중앙값보다 작으면\r\n",
        "        del(a[ a.index(a_m) :])     # list를 중앙값부터 끝까지 삭제하고 while 문 다시 반복\r\n",
        "        cnt += 1"
      ],
      "execution_count": 42,
      "outputs": [
        {
          "output_type": "stream",
          "text": [
            "a 리스트에서 검색할 숫자를 입력하세요: 67\n",
            "67 은 이진탐색 3 번만에 검색되었습니다.\n"
          ],
          "name": "stdout"
        }
      ]
    },
    {
      "cell_type": "code",
      "metadata": {
        "colab": {
          "base_uri": "https://localhost:8080/"
        },
        "id": "TbJ5Uot2vuYL",
        "outputId": "52df1083-f5ae-495e-eb3c-7b626bc6c39b"
      },
      "source": [
        "# 과정을 보여주는 코드\r\n",
        "\r\n",
        "num = int(input('숫자를 입력하시오'))\r\n",
        "import numpy as np\r\n",
        "a = [ 1, 7, 11, 12, 14, 23, 33, 47, 51, 64, 67, 77, 139, 672, 871 ]\r\n",
        "for i in range(0,5):\r\n",
        "    a_n = np.array(a)                       \r\n",
        "    a_m = np.median(a_n)      \r\n",
        "    if num in a:\r\n",
        "        if num == a_m:\r\n",
        "            print(num, '은 이진탐색', i , '번만에 검색되었습니다.')\r\n",
        "            break\r\n",
        "        elif num < a_m:\r\n",
        "            del( a[ a.index(a_m)  : ] )\r\n",
        "            print(a)\r\n",
        "        else:\r\n",
        "            del( a[ :a.index(a_m)+1 ] )\r\n",
        "            print(a)\r\n",
        "    else:\r\n",
        "         print(num,'은 리스트 a 에 없습니다.')\r\n",
        "         break"
      ],
      "execution_count": 45,
      "outputs": [
        {
          "output_type": "stream",
          "text": [
            "숫자를 입력하시오67\n",
            "[51, 64, 67, 77, 139, 672, 871]\n",
            "[51, 64, 67]\n",
            "[67]\n",
            "67 은 이진탐색 3 번만에 검색되었습니다.\n"
          ],
          "name": "stdout"
        }
      ]
    }
  ]
}