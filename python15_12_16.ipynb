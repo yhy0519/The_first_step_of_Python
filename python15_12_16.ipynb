{
  "nbformat": 4,
  "nbformat_minor": 0,
  "metadata": {
    "colab": {
      "name": "python15_12_16.ipynb",
      "provenance": [],
      "collapsed_sections": [],
      "mount_file_id": "1laNlIaqXnYGi7Gbq9Msilt0z3wsrduqE",
      "authorship_tag": "ABX9TyPMbn7XMNRYRkl0bXE5e+iP",
      "include_colab_link": true
    },
    "kernelspec": {
      "name": "python3",
      "display_name": "Python 3"
    }
  },
  "cells": [
    {
      "cell_type": "markdown",
      "metadata": {
        "id": "view-in-github",
        "colab_type": "text"
      },
      "source": [
        "<a href=\"https://colab.research.google.com/github/yhy0519/The_first_step_of_Python/blob/main/python15_12_16.ipynb\" target=\"_parent\"><img src=\"https://colab.research.google.com/assets/colab-badge.svg\" alt=\"Open In Colab\"/></a>"
      ]
    },
    {
      "cell_type": "markdown",
      "metadata": {
        "id": "DG0XNvP3Yv3l"
      },
      "source": [
        "** 빅데이터 수집을 위해 반드시 알아야할 필수 기술 ?  \r\n",
        "\r\n",
        "    웹스크롤링\r\n",
        "\r\n",
        "** 웹스크롤링을 위해서 사용한 파이썬 모듈 ?  \r\n",
        "\r\n",
        "    beautiful soup 모듈\r\n",
        "\r\n",
        "** 웹스크롤링을 편하게 잘 하기 위한 비법 ?\r\n",
        "\r\n",
        "    크롬의 개발자 모드(F12) 로 들어가서 화살표를 이용해서 웹상에서 스크롤링하기 원하는 지점의 html 클래스 이름을 빠르게 찾을 수 있습니다."
      ]
    },
    {
      "cell_type": "markdown",
      "metadata": {
        "id": "LaDwjgvnY1S0"
      },
      "source": [
        ""
      ]
    },
    {
      "cell_type": "markdown",
      "metadata": {
        "id": "QBpkIhIFY1Lq"
      },
      "source": [
        ""
      ]
    },
    {
      "cell_type": "markdown",
      "metadata": {
        "id": "wH2rToK4Y1zT"
      },
      "source": [
        "**■ 142. 웹스크롤링 실전 1단계 (ebs 레이디 버그 게시판)**\r\n",
        "\r\n",
        "http://home.ebs.co.kr/ladybug/board/6/10059819/oneBoardList?hmpMnuId=106 - 시청자게시판\r\n",
        "\r\n",
        "우리회사의 신제품이 출시 되었을때 그 제품에 대한 사람들의 반을을 데이터 분석을 하고자 할 때\r\n",
        "웹스크롤링 + 데이터 시각화를 이용하면 됩니다."
      ]
    },
    {
      "cell_type": "markdown",
      "metadata": {
        "id": "9ZwglQVtY8Wv"
      },
      "source": [
        ""
      ]
    },
    {
      "cell_type": "markdown",
      "metadata": {
        "id": "Kg1WQklzagmk"
      },
      "source": [
        ""
      ]
    },
    {
      "cell_type": "markdown",
      "metadata": {
        "id": "hVJ2aLnYY8Rb"
      },
      "source": [
        "예제1. ebs 레이디버그 시청자 게시판의 url 을 가지고 직접 html 문서를 내려 받을 수 있도록 코드를 구현\r\n"
      ]
    },
    {
      "cell_type": "code",
      "metadata": {
        "id": "SGWoBZgjZC_W",
        "colab": {
          "base_uri": "https://localhost:8080/"
        },
        "outputId": "02a7d760-85de-4886-d612-7c7ecd8c3518"
      },
      "source": [
        "from bs4 import BeautifulSoup\r\n",
        "import urllib.request       # 웹상의 url 을 파이썬이 인식할 수 있도록 해주는 모듈\r\n",
        "\r\n",
        "list_url = \"http://home.ebs.co.kr/ladybug/board/6/10059819/oneBoardList?hmpMnuId=106\"\r\n",
        "url = urllib.request.Request(list_url)        # 사람이 알아볼 수 있는 위의 url 을 파이썬이 알아볼 수 있도록 변환 첫번째 작업\r\n",
        "print(url)\r\n",
        "\r\n",
        "result = urllib.request.urlopen(url).read().decode(\"utf-8\")   # 위의 url 의 html 문서들을 result 변수에 담는 두번째 작업\r\n",
        "#print(result)               # 위의 url 의 html 전체 문서가 다 출력되고 있음."
      ],
      "execution_count": 9,
      "outputs": [
        {
          "output_type": "stream",
          "text": [
            "<urllib.request.Request object at 0x7fc53c3d2320>\n"
          ],
          "name": "stdout"
        }
      ]
    },
    {
      "cell_type": "markdown",
      "metadata": {
        "id": "e1ddcYFlY8J0"
      },
      "source": [
        ""
      ]
    },
    {
      "cell_type": "markdown",
      "metadata": {
        "id": "injX29etZP0z"
      },
      "source": [
        ""
      ]
    },
    {
      "cell_type": "markdown",
      "metadata": {
        "id": "Pa7-5hZlZPv8"
      },
      "source": [
        "예제2. 위에서 긁어온 html 코드를 Beautiful soup 의 함수를 이용해서 웹스크롤링을\r\n",
        "\t  할 수 있도록 Beautiful soup 를 쓸 수 있게 파싱하시오\r\n"
      ]
    },
    {
      "cell_type": "code",
      "metadata": {
        "id": "t-X2siCHYYq5"
      },
      "source": [
        "from bs4 import BeautifulSoup\r\n",
        "import urllib.request\r\n",
        "\r\n",
        "list_url = \"http://home.ebs.co.kr/ladybug/board/6/10059819/oneBoardList?hmpMnuId=106\"\r\n",
        "url = urllib.request.Request(list_url)\r\n",
        "result = urllib.request.urlopen(url).read().decode(\"utf-8\")\r\n",
        "soup = BeautifulSoup( result, \"html.parser\" )\r\n",
        "print(soup)"
      ],
      "execution_count": null,
      "outputs": []
    },
    {
      "cell_type": "markdown",
      "metadata": {
        "id": "G-WacqFtZ9JM"
      },
      "source": [
        ""
      ]
    },
    {
      "cell_type": "markdown",
      "metadata": {
        "id": "c5FaemfZZ9GA"
      },
      "source": [
        ""
      ]
    },
    {
      "cell_type": "markdown",
      "metadata": {
        "id": "aWXOhxibZ9Cd"
      },
      "source": [
        "예제3. 지금 페이지의 시청자 게시판의 글 내용에 해당하는 부분의 태그와 클래스 이름을 알아내시오\r\n"
      ]
    },
    {
      "cell_type": "markdown",
      "metadata": {
        "id": "jZ58AFfrZ9zk"
      },
      "source": [
        "    <p class=\"con\"> 레이디버그 찐 팬이에요 꿈에도 나왔어요 </p>\r\n",
        "    <p class=\"con\"> 최고의 히어로 만화에요. </p>\r\n",
        "    <p class=\"con\"> 재미있 다 </p>\r\n",
        "\r\n",
        "시청자 게시판 글 내용 class 이름: con"
      ]
    },
    {
      "cell_type": "markdown",
      "metadata": {
        "id": "A0hYHM64afpm"
      },
      "source": [
        ""
      ]
    },
    {
      "cell_type": "markdown",
      "metadata": {
        "id": "ad41cLmEaflk"
      },
      "source": [
        ""
      ]
    },
    {
      "cell_type": "markdown",
      "metadata": {
        "id": "TZtP7BU6afhk"
      },
      "source": [
        "예제4. p 태그중에 class 가 con 에 해당하는 부분을 스크롤링 하시오 !\r\n"
      ]
    },
    {
      "cell_type": "code",
      "metadata": {
        "id": "1EiAxWkGaEly"
      },
      "source": [
        "from bs4 import BeautifulSoup\r\n",
        "import urllib.request\r\n",
        "\r\n",
        "list_url = \"http://home.ebs.co.kr/ladybug/board/6/10059819/oneBoardList?hmpMnuId=106\"\r\n",
        "url = urllib.request.Request(list_url)\r\n",
        "result = urllib.request.urlopen(url).read().decode(\"utf-8\")\r\n",
        "soup = BeautifulSoup( result, \"html.parser\" )\r\n",
        "result2 = soup.find_all( 'p', class_='con')\r\n",
        "print(result2)"
      ],
      "execution_count": null,
      "outputs": []
    },
    {
      "cell_type": "markdown",
      "metadata": {
        "id": "1ktXTuT-ao1Q"
      },
      "source": [
        "설명: find 함수는 맨 처음 하나만 가져오는데 find_all 은 p 태그에 class 이름 con 에 해당하는 부분을 모두 가져온다.  "
      ]
    },
    {
      "cell_type": "markdown",
      "metadata": {
        "id": "po7T5uaiau6Y"
      },
      "source": [
        "결과:  list 로 결과값 출력\r\n",
        "\r\n",
        "    [[<p class=\"con\"> 레이디버그 찐 팬이에요 꿈에도 나왔어요 </p>, \r\n",
        "    <p class=\"con\"> 최고의 히어로 만화에요. </p>,\r\n",
        "    <p class=\"con\"> 재미있 다, … ]"
      ]
    },
    {
      "cell_type": "markdown",
      "metadata": {
        "id": "dl6MJCC7ayDl"
      },
      "source": [
        ""
      ]
    },
    {
      "cell_type": "markdown",
      "metadata": {
        "id": "x1ao0gpUax-m"
      },
      "source": [
        ""
      ]
    },
    {
      "cell_type": "markdown",
      "metadata": {
        "id": "kBwjA78sax4D"
      },
      "source": [
        "예제5. 위의 결과에서 html 문서 말고 한글 텍스트만 가져오시오 ! (위의 result2 는 리스트 입니다.)"
      ]
    },
    {
      "cell_type": "code",
      "metadata": {
        "id": "EVhNsRdra0GQ"
      },
      "source": [
        "from bs4 import BeautifulSoup\r\n",
        "import urllib.request\r\n",
        "\r\n",
        "list_url = \"http://home.ebs.co.kr/ladybug/board/6/10059819/oneBoardList?hmpMnuId=106\"\r\n",
        "url = urllib.request.Request(list_url)\r\n",
        "result = urllib.request.urlopen(url).read().decode(\"utf-8\")\r\n",
        "soup = BeautifulSoup( result, \"html.parser\" )\r\n",
        "result2 = soup.find_all( 'p', class_='con')\r\n",
        "for i in result2:\r\n",
        "    print( i.get_text() )"
      ],
      "execution_count": null,
      "outputs": []
    },
    {
      "cell_type": "markdown",
      "metadata": {
        "id": "EjHgMxgDbJOs"
      },
      "source": [
        ""
      ]
    },
    {
      "cell_type": "markdown",
      "metadata": {
        "id": "fzexTM9JbJH8"
      },
      "source": [
        ""
      ]
    },
    {
      "cell_type": "markdown",
      "metadata": {
        "id": "dQKCOYr1bJu7"
      },
      "source": [
        "예제6. 위에서 출력되고 있는 텍스트들이 좀 더 깔끔하게 나오게 하시오 ! (양옆에 공백 포함)\r\n"
      ]
    },
    {
      "cell_type": "code",
      "metadata": {
        "colab": {
          "base_uri": "https://localhost:8080/"
        },
        "id": "FSBHlu6lbK7V",
        "outputId": "3e12d795-c53e-4899-f9a1-9f2ab44cd3b1"
      },
      "source": [
        "from bs4 import BeautifulSoup\r\n",
        "import urllib.request\r\n",
        "\r\n",
        "list_url = \"http://home.ebs.co.kr/ladybug/board/6/10059819/oneBoardList?hmpMnuId=106\"\r\n",
        "url = urllib.request.Request(list_url)\r\n",
        "result = urllib.request.urlopen(url).read().decode(\"utf-8\")\r\n",
        "soup = BeautifulSoup( result, \"html.parser\" )\r\n",
        "result2 = soup.find_all( 'p', class_='con')\r\n",
        "for i in result2:\r\n",
        "    print( i.get_text(\" \", strip = True) )"
      ],
      "execution_count": 13,
      "outputs": [
        {
          "output_type": "stream",
          "text": [
            "레이디버그 찐 팬이에요 \r\n",
            "꿈에도 나왔어요\n",
            "최고의 히어로 만화에요.\n",
            "재미있 다\n",
            "어제 흐름상 종영 같지 않았는데 갑자기 끝이네요??\n",
            "〈미라큘러스: 레이디버그와 블랙캣〉종영 안내!\r\n",
            "\r\n",
            "\r\n",
            "\r\n",
            "〈미라큘러스: 레이디버그와 블랙캣〉-시즌3가 \r\n",
            "\r\n",
            "방송 종료되었습니다, 그동안 시청해주셔서 감사드립니다!\r\n",
            "\r\n",
            "2021년 새로운 시즌으로 여러분을 찾아뵙도록 노력하겠습니다!\r\n",
            "\r\n",
            "고맙습니다~\n",
            "아이들 때문에 보게 되었는데 어른인 제가 더 좋아하는 프로그램이 되었네요 아이들이랑 볼 때 너무 신나요 함께 볼 수 있는 보기 드문 애니매이션이라 더 좋네요 시즌 4도 너무 너무 기대되고 기다리고 있습니다\n",
            "2021년이 빨리되서 레이디버그 시즌4를 보면 좋겠네요~\n",
            "레이디버그... 제가 어렸을때도 너~~무 좋아 하던 방송 이에요!!!!!!!\n",
            "이렇게 재미있는프로는 이 세상에 하나뿐이예요 아 그리고 뉴욕편은 언제 올려주시나요?\n",
            "너모 재밌어요!!! 저 시즌 1부터 다 본방으로 챙겨본 미라큘러 입니다ㅋㅋㅋ 진짜  재밌구요 팬카페랑 이런데도 다 가입해있어요... 방도 레이디버그 사진으로 덕-질☆\n",
            "완전 재밌다\n",
            "근뎅.....오즈 긑나서....레이디버그가 하는거잖아여....ㅠ\n",
            "우왕!\n",
            "넘재밌어요.매일하면 좋겠어요\n",
            "재밌어요 완전 꿀잼이요 사랑합니다\n",
            "ㅎㅎ\n",
            "진짜여???\n",
            "보니하니,레이디버그,형사 가제트,오즈,삐삐에 있었어요!\n",
            "오늘부터 미라큘러스 시즌3 다시 방영한다네요!^^\r\n",
            "목,금 저녁 7시\n",
            "전 세매큐,픽시,가제트형사,오:마법을 찾아서,히어로써클,로빈후드에 있어여!ㅎㅎ즈\n"
          ],
          "name": "stdout"
        }
      ]
    },
    {
      "cell_type": "markdown",
      "metadata": {
        "id": "OZ0lJTaGbR-7"
      },
      "source": [
        ""
      ]
    },
    {
      "cell_type": "markdown",
      "metadata": {
        "id": "vx8pWylybR4M"
      },
      "source": [
        ""
      ]
    },
    {
      "cell_type": "markdown",
      "metadata": {
        "id": "-eiAQpdWbRn0"
      },
      "source": [
        "예제7. 위에서 출력되고 있는 텍스트들이 params1 라는 비어있는 리스트에 담기게 하시오 !"
      ]
    },
    {
      "cell_type": "code",
      "metadata": {
        "colab": {
          "base_uri": "https://localhost:8080/"
        },
        "id": "puQ3Hg8_bVHr",
        "outputId": "85e7907f-b625-4f40-9fe8-30c4b6723215"
      },
      "source": [
        "from bs4 import BeautifulSoup\r\n",
        "import urllib.request\r\n",
        "\r\n",
        "list_url = \"http://home.ebs.co.kr/ladybug/board/6/10059819/oneBoardList?hmpMnuId=106\"\r\n",
        "url = urllib.request.Request(list_url)\r\n",
        "result = urllib.request.urlopen(url).read().decode(\"utf-8\")\r\n",
        "soup = BeautifulSoup( result, \"html.parser\" )\r\n",
        "result2 = soup.find_all( 'p', class_='con')\r\n",
        "params1 = []\r\n",
        "for i in result2:\r\n",
        "    params1.append( i.get_text(\" \", strip = True) )\r\n",
        "print(params1)"
      ],
      "execution_count": 17,
      "outputs": [
        {
          "output_type": "stream",
          "text": [
            "['레이디버그 찐 팬이에요 \\r\\n꿈에도 나왔어요', '최고의 히어로 만화에요.', '재미있 다', '어제 흐름상 종영 같지 않았는데 갑자기 끝이네요??', '〈미라큘러스: 레이디버그와 블랙캣〉종영 안내!\\r\\n\\r\\n\\r\\n\\r\\n〈미라큘러스: 레이디버그와 블랙캣〉-시즌3가 \\r\\n\\r\\n방송 종료되었습니다, 그동안 시청해주셔서 감사드립니다!\\r\\n\\r\\n2021년 새로운 시즌으로 여러분을 찾아뵙도록 노력하겠습니다!\\r\\n\\r\\n고맙습니다~', '아이들 때문에 보게 되었는데 어른인 제가 더 좋아하는 프로그램이 되었네요 아이들이랑 볼 때 너무 신나요 함께 볼 수 있는 보기 드문 애니매이션이라 더 좋네요 시즌 4도 너무 너무 기대되고 기다리고 있습니다', '2021년이 빨리되서 레이디버그 시즌4를 보면 좋겠네요~', '레이디버그... 제가 어렸을때도 너~~무 좋아 하던 방송 이에요!!!!!!!', '이렇게 재미있는프로는 이 세상에 하나뿐이예요 아 그리고 뉴욕편은 언제 올려주시나요?', '너모 재밌어요!!! 저 시즌 1부터 다 본방으로 챙겨본 미라큘러 입니다ㅋㅋㅋ 진짜  재밌구요 팬카페랑 이런데도 다 가입해있어요... 방도 레이디버그 사진으로 덕-질☆', '완전 재밌다', '근뎅.....오즈 긑나서....레이디버그가 하는거잖아여....ㅠ', '우왕!', '넘재밌어요.매일하면 좋겠어요', '재밌어요 완전 꿀잼이요 사랑합니다', 'ㅎㅎ', '진짜여???', '보니하니,레이디버그,형사 가제트,오즈,삐삐에 있었어요!', '오늘부터 미라큘러스 시즌3 다시 방영한다네요!^^\\r\\n목,금 저녁 7시', '전 세매큐,픽시,가제트형사,오:마법을 찾아서,히어로써클,로빈후드에 있어여!ㅎㅎ즈']\n"
          ],
          "name": "stdout"
        }
      ]
    },
    {
      "cell_type": "markdown",
      "metadata": {
        "id": "oxucX0dBbX77"
      },
      "source": [
        ""
      ]
    },
    {
      "cell_type": "markdown",
      "metadata": {
        "id": "1A0I_L-vbX37"
      },
      "source": [
        ""
      ]
    },
    {
      "cell_type": "markdown",
      "metadata": {
        "id": "OXFHxkmTbXqz"
      },
      "source": [
        "예제8. 게시글을 올린 날짜를 스크롤링하기 위해서 게시글 날짜가 있는 html 문서의\r\n",
        "\t  태그 이름과 클래스 이름을 확인하시오 !"
      ]
    },
    {
      "cell_type": "markdown",
      "metadata": {
        "id": "AjMw3NAmbYyz"
      },
      "source": [
        "    <span class=\"date\">2021.01.21 11:19</span>\r\n",
        "    <span class=\"date\">2020.12.18 22:33</span>\r\n",
        "    <span class=\"date\">2020.12.11 19:52</span>\r\n",
        "\r\n",
        "태그 이름은 span 이고 클래스 이름은 date 입니다."
      ]
    },
    {
      "cell_type": "markdown",
      "metadata": {
        "id": "CaBtmmLkbxqk"
      },
      "source": [
        ""
      ]
    },
    {
      "cell_type": "markdown",
      "metadata": {
        "id": "gFcxVvpwbx_V"
      },
      "source": [
        ""
      ]
    },
    {
      "cell_type": "markdown",
      "metadata": {
        "id": "cTqS8dBbbyQT"
      },
      "source": [
        "예제9. 기존 코드에 위의 날짜를 스크롤링하는 코드를 추가하고 위의 날짜를 모두 스크롤링해서 params2 라는 리스트에 담으시오 ~"
      ]
    },
    {
      "cell_type": "code",
      "metadata": {
        "colab": {
          "base_uri": "https://localhost:8080/"
        },
        "id": "3iduOK6hb2Ve",
        "outputId": "1c8bac41-65c5-4b46-d251-42f184dfc27f"
      },
      "source": [
        "# 1. 웹에서 html 문서를 가져와 beautifulsoup 으로 파싱\r\n",
        "\r\n",
        "from bs4 import BeautifulSoup\r\n",
        "import urllib.request\r\n",
        "\r\n",
        "list_url = \"http://home.ebs.co.kr/ladybug/board/6/10059819/oneBoardList?hmpMnuId=106\"\r\n",
        "url = urllib.request.Request(list_url)\r\n",
        "result = urllib.request.urlopen(url).read().decode(\"utf-8\")\r\n",
        "soup = BeautifulSoup( result, \"html.parser\" )\r\n",
        "\r\n",
        "\r\n",
        "# 2. 시청자 게시판의 날짜와 본문 내용을 가져옵니다.\r\n",
        "\r\n",
        "result1 = soup.find_all( 'span', class_='date')\r\n",
        "result2 = soup.find_all( 'p', class_='con')\r\n",
        "\r\n",
        "\r\n",
        "# 3. 시청자 게시판의 날짜와 본문을 params 와 params2 리스트에 담습니다.\r\n",
        "\r\n",
        "params1 = []\r\n",
        "params2 = []\r\n",
        "for i in result1:\r\n",
        "    params1.append( i.get_text(\" \", strip = True) )\r\n",
        "for i in result2:\r\n",
        "    params2.append( i.get_text(\" \", strip = True) )\r\n",
        "print(params1)\r\n",
        "print(params2)"
      ],
      "execution_count": 16,
      "outputs": [
        {
          "output_type": "stream",
          "text": [
            "['2021.01.21 11:19', '2020.12.18 22:33', '2020.12.11 19:52', '2020.12.11 19:06', '2020.12.11 01:35', '2020.12.10 12:43', '2020.10.17 15:30', '2020.10.16 12:25', '2020.10.15 21:04', '2020.09.29 14:46', '2020.09.29 11:30', '2020.09.21 08:17', '2020.09.21 08:16', '2020.09.20 09:07', '2020.09.19 22:52', '2020.09.16 12:34', '2020.09.14 10:26', '2020.09.11 09:45', '2020.09.11 09:42', '2020.09.06 08:58']\n",
            "['레이디버그 찐 팬이에요 \\r\\n꿈에도 나왔어요', '최고의 히어로 만화에요.', '재미있 다', '어제 흐름상 종영 같지 않았는데 갑자기 끝이네요??', '〈미라큘러스: 레이디버그와 블랙캣〉종영 안내!\\r\\n\\r\\n\\r\\n\\r\\n〈미라큘러스: 레이디버그와 블랙캣〉-시즌3가 \\r\\n\\r\\n방송 종료되었습니다, 그동안 시청해주셔서 감사드립니다!\\r\\n\\r\\n2021년 새로운 시즌으로 여러분을 찾아뵙도록 노력하겠습니다!\\r\\n\\r\\n고맙습니다~', '아이들 때문에 보게 되었는데 어른인 제가 더 좋아하는 프로그램이 되었네요 아이들이랑 볼 때 너무 신나요 함께 볼 수 있는 보기 드문 애니매이션이라 더 좋네요 시즌 4도 너무 너무 기대되고 기다리고 있습니다', '2021년이 빨리되서 레이디버그 시즌4를 보면 좋겠네요~', '레이디버그... 제가 어렸을때도 너~~무 좋아 하던 방송 이에요!!!!!!!', '이렇게 재미있는프로는 이 세상에 하나뿐이예요 아 그리고 뉴욕편은 언제 올려주시나요?', '너모 재밌어요!!! 저 시즌 1부터 다 본방으로 챙겨본 미라큘러 입니다ㅋㅋㅋ 진짜  재밌구요 팬카페랑 이런데도 다 가입해있어요... 방도 레이디버그 사진으로 덕-질☆', '완전 재밌다', '근뎅.....오즈 긑나서....레이디버그가 하는거잖아여....ㅠ', '우왕!', '넘재밌어요.매일하면 좋겠어요', '재밌어요 완전 꿀잼이요 사랑합니다', 'ㅎㅎ', '진짜여???', '보니하니,레이디버그,형사 가제트,오즈,삐삐에 있었어요!', '오늘부터 미라큘러스 시즌3 다시 방영한다네요!^^\\r\\n목,금 저녁 7시', '전 세매큐,픽시,가제트형사,오:마법을 찾아서,히어로써클,로빈후드에 있어여!ㅎㅎ즈']\n"
          ],
          "name": "stdout"
        }
      ]
    },
    {
      "cell_type": "markdown",
      "metadata": {
        "id": "LnjzzaF0cKgK"
      },
      "source": [
        ""
      ]
    },
    {
      "cell_type": "markdown",
      "metadata": {
        "id": "HkOsbNK9cKc0"
      },
      "source": [
        ""
      ]
    },
    {
      "cell_type": "markdown",
      "metadata": {
        "id": "APmRoAJIcKZs"
      },
      "source": [
        "예제10. 위의 날짜와 본문 내용이 아래와 같이 출력되게 하시오 ! (zip 과 + 를 이용하시오)\r\n",
        "\r\n",
        "    2021.01.21 11:19   레이디버그 찐 팬이에요 \\r\\n꿈에도 나왔어요\r\n",
        "    2020.12.18 22:33   최고의 히어로 만화에요.\r\n",
        "    2020.12.11 19:52   재미있 다\r\n",
        "          :                 "
      ]
    },
    {
      "cell_type": "code",
      "metadata": {
        "colab": {
          "base_uri": "https://localhost:8080/"
        },
        "id": "ROyWlUIcccfM",
        "outputId": "c0a05aca-f5fb-4b87-a403-6085889471e1"
      },
      "source": [
        "# 1. 웹에서 html 문서를 가져와 beautifulsoup 으로 파싱\r\n",
        "\r\n",
        "from bs4 import BeautifulSoup\r\n",
        "import urllib.request\r\n",
        "\r\n",
        "list_url = \"http://home.ebs.co.kr/ladybug/board/6/10059819/oneBoardList?hmpMnuId=106\"\r\n",
        "url = urllib.request.Request(list_url)\r\n",
        "result = urllib.request.urlopen(url).read().decode(\"utf-8\")\r\n",
        "soup = BeautifulSoup( result, \"html.parser\" )\r\n",
        "\r\n",
        "\r\n",
        "# 2. 시청자 게시판의 날짜와 본문 내용을 가져옵니다.\r\n",
        "\r\n",
        "result1 = soup.find_all( 'span', class_='date')\r\n",
        "result2 = soup.find_all( 'p', class_='con')\r\n",
        "\r\n",
        "\r\n",
        "# 3. 시청자 게시판의 날짜와 본문을 params 와 params2 리스트에 담습니다.\r\n",
        "\r\n",
        "params1 = []\r\n",
        "params2 = []\r\n",
        "for i in result1:\r\n",
        "    params1.append( i.get_text(\" \", strip = True) )\r\n",
        "for i in result2:\r\n",
        "    params2.append( i.get_text(\" \", strip = True) )\r\n",
        "\r\n",
        "\r\n",
        "# 4. 날짜와 본문을 같이 출력합니다.\r\n",
        "\r\n",
        "for k, h in zip(params1, params2):\r\n",
        "    print( k + '   ' + h )"
      ],
      "execution_count": 18,
      "outputs": [
        {
          "output_type": "stream",
          "text": [
            "2021.01.21 11:19   레이디버그 찐 팬이에요 \r\n",
            "꿈에도 나왔어요\n",
            "2020.12.18 22:33   최고의 히어로 만화에요.\n",
            "2020.12.11 19:52   재미있 다\n",
            "2020.12.11 19:06   어제 흐름상 종영 같지 않았는데 갑자기 끝이네요??\n",
            "2020.12.11 01:35   〈미라큘러스: 레이디버그와 블랙캣〉종영 안내!\r\n",
            "\r\n",
            "\r\n",
            "\r\n",
            "〈미라큘러스: 레이디버그와 블랙캣〉-시즌3가 \r\n",
            "\r\n",
            "방송 종료되었습니다, 그동안 시청해주셔서 감사드립니다!\r\n",
            "\r\n",
            "2021년 새로운 시즌으로 여러분을 찾아뵙도록 노력하겠습니다!\r\n",
            "\r\n",
            "고맙습니다~\n",
            "2020.12.10 12:43   아이들 때문에 보게 되었는데 어른인 제가 더 좋아하는 프로그램이 되었네요 아이들이랑 볼 때 너무 신나요 함께 볼 수 있는 보기 드문 애니매이션이라 더 좋네요 시즌 4도 너무 너무 기대되고 기다리고 있습니다\n",
            "2020.10.17 15:30   2021년이 빨리되서 레이디버그 시즌4를 보면 좋겠네요~\n",
            "2020.10.16 12:25   레이디버그... 제가 어렸을때도 너~~무 좋아 하던 방송 이에요!!!!!!!\n",
            "2020.10.15 21:04   이렇게 재미있는프로는 이 세상에 하나뿐이예요 아 그리고 뉴욕편은 언제 올려주시나요?\n",
            "2020.09.29 14:46   너모 재밌어요!!! 저 시즌 1부터 다 본방으로 챙겨본 미라큘러 입니다ㅋㅋㅋ 진짜  재밌구요 팬카페랑 이런데도 다 가입해있어요... 방도 레이디버그 사진으로 덕-질☆\n",
            "2020.09.29 11:30   완전 재밌다\n",
            "2020.09.21 08:17   근뎅.....오즈 긑나서....레이디버그가 하는거잖아여....ㅠ\n",
            "2020.09.21 08:16   우왕!\n",
            "2020.09.20 09:07   넘재밌어요.매일하면 좋겠어요\n",
            "2020.09.19 22:52   재밌어요 완전 꿀잼이요 사랑합니다\n",
            "2020.09.16 12:34   ㅎㅎ\n",
            "2020.09.14 10:26   진짜여???\n",
            "2020.09.11 09:45   보니하니,레이디버그,형사 가제트,오즈,삐삐에 있었어요!\n",
            "2020.09.11 09:42   오늘부터 미라큘러스 시즌3 다시 방영한다네요!^^\r\n",
            "목,금 저녁 7시\n",
            "2020.09.06 08:58   전 세매큐,픽시,가제트형사,오:마법을 찾아서,히어로써클,로빈후드에 있어여!ㅎㅎ즈\n"
          ],
          "name": "stdout"
        }
      ]
    },
    {
      "cell_type": "markdown",
      "metadata": {
        "id": "mLX8q3_wchBY"
      },
      "source": [
        ""
      ]
    },
    {
      "cell_type": "markdown",
      "metadata": {
        "id": "TbLJcwq9cg8X"
      },
      "source": [
        ""
      ]
    },
    {
      "cell_type": "markdown",
      "metadata": {
        "id": "INq2EBJZcg2k"
      },
      "source": [
        "예제11. 아래의 결과를 출력하는데 페이지 번호가 1번 부터 22번 까지 변경되어서 출력되게하시오 !\r\n",
        "\r\n",
        "    http://home.ebs.co.kr/ladybug/board/6/10059819/oneBoardList?c.page=1&hmpMnuId=106&searchKeywordValue=0&bbsId=10059819&searchKeyword=&searchCondition=&searchConditionValue=0&\r\n",
        "\r\n",
        "    http://home.ebs.co.kr/ladybug/board/6/10059819/oneBoardList?c.page=2&hmpMnuId=106&searchKeywordValue=0&bbsId=10059819&searchKeyword=&searchCondition=&searchConditionValue=0&\r\n",
        "\r\n",
        "    http://home.ebs.co.kr/ladybug/board/6/10059819/oneBoardList?c.page=3&hmpMnuId=106&searchKeywordValue=0&bbsId=10059819&searchKeyword=&searchCondition=&searchConditionValue=0&\r\n",
        "\r\n",
        "      :\r\n",
        "\r\n",
        "    http://home.ebs.co.kr/ladybug/board/6/10059819/oneBoardList?c.page=22&hmpMnuId=106&searchKeywordValue=0&bbsId=10059819&searchKeyword=&searchCondition=&searchConditionValue=0&\r\n"
      ]
    },
    {
      "cell_type": "code",
      "metadata": {
        "colab": {
          "base_uri": "https://localhost:8080/"
        },
        "id": "dqmTEAp2cqSC",
        "outputId": "5d1b27b4-e801-4500-8d4a-28155327e01b"
      },
      "source": [
        "# 위의 url 을 가만히 살펴보면 페이지 번호만 다르고 나머지는 다 같다는 것을 확인할 수 있습니다.\r\n",
        "\r\n",
        "for i in range(1, 23):\r\n",
        "    print('http://home.ebs.co.kr/ladybug/board/6/10059819/oneBoardList?c.page='+ str(i) +'&hmpMnuId=106&searchKeywordValue=0&bbsId=10059819&searchKeyword=&searchCondition=&searchConditionValue=0&')"
      ],
      "execution_count": 20,
      "outputs": [
        {
          "output_type": "stream",
          "text": [
            "http://home.ebs.co.kr/ladybug/board/6/10059819/oneBoardList?c.page=1&hmpMnuId=106&searchKeywordValue=0&bbsId=10059819&searchKeyword=&searchCondition=&searchConditionValue=0&\n",
            "http://home.ebs.co.kr/ladybug/board/6/10059819/oneBoardList?c.page=2&hmpMnuId=106&searchKeywordValue=0&bbsId=10059819&searchKeyword=&searchCondition=&searchConditionValue=0&\n",
            "http://home.ebs.co.kr/ladybug/board/6/10059819/oneBoardList?c.page=3&hmpMnuId=106&searchKeywordValue=0&bbsId=10059819&searchKeyword=&searchCondition=&searchConditionValue=0&\n",
            "http://home.ebs.co.kr/ladybug/board/6/10059819/oneBoardList?c.page=4&hmpMnuId=106&searchKeywordValue=0&bbsId=10059819&searchKeyword=&searchCondition=&searchConditionValue=0&\n",
            "http://home.ebs.co.kr/ladybug/board/6/10059819/oneBoardList?c.page=5&hmpMnuId=106&searchKeywordValue=0&bbsId=10059819&searchKeyword=&searchCondition=&searchConditionValue=0&\n",
            "http://home.ebs.co.kr/ladybug/board/6/10059819/oneBoardList?c.page=6&hmpMnuId=106&searchKeywordValue=0&bbsId=10059819&searchKeyword=&searchCondition=&searchConditionValue=0&\n",
            "http://home.ebs.co.kr/ladybug/board/6/10059819/oneBoardList?c.page=7&hmpMnuId=106&searchKeywordValue=0&bbsId=10059819&searchKeyword=&searchCondition=&searchConditionValue=0&\n",
            "http://home.ebs.co.kr/ladybug/board/6/10059819/oneBoardList?c.page=8&hmpMnuId=106&searchKeywordValue=0&bbsId=10059819&searchKeyword=&searchCondition=&searchConditionValue=0&\n",
            "http://home.ebs.co.kr/ladybug/board/6/10059819/oneBoardList?c.page=9&hmpMnuId=106&searchKeywordValue=0&bbsId=10059819&searchKeyword=&searchCondition=&searchConditionValue=0&\n",
            "http://home.ebs.co.kr/ladybug/board/6/10059819/oneBoardList?c.page=10&hmpMnuId=106&searchKeywordValue=0&bbsId=10059819&searchKeyword=&searchCondition=&searchConditionValue=0&\n",
            "http://home.ebs.co.kr/ladybug/board/6/10059819/oneBoardList?c.page=11&hmpMnuId=106&searchKeywordValue=0&bbsId=10059819&searchKeyword=&searchCondition=&searchConditionValue=0&\n",
            "http://home.ebs.co.kr/ladybug/board/6/10059819/oneBoardList?c.page=12&hmpMnuId=106&searchKeywordValue=0&bbsId=10059819&searchKeyword=&searchCondition=&searchConditionValue=0&\n",
            "http://home.ebs.co.kr/ladybug/board/6/10059819/oneBoardList?c.page=13&hmpMnuId=106&searchKeywordValue=0&bbsId=10059819&searchKeyword=&searchCondition=&searchConditionValue=0&\n",
            "http://home.ebs.co.kr/ladybug/board/6/10059819/oneBoardList?c.page=14&hmpMnuId=106&searchKeywordValue=0&bbsId=10059819&searchKeyword=&searchCondition=&searchConditionValue=0&\n",
            "http://home.ebs.co.kr/ladybug/board/6/10059819/oneBoardList?c.page=15&hmpMnuId=106&searchKeywordValue=0&bbsId=10059819&searchKeyword=&searchCondition=&searchConditionValue=0&\n",
            "http://home.ebs.co.kr/ladybug/board/6/10059819/oneBoardList?c.page=16&hmpMnuId=106&searchKeywordValue=0&bbsId=10059819&searchKeyword=&searchCondition=&searchConditionValue=0&\n",
            "http://home.ebs.co.kr/ladybug/board/6/10059819/oneBoardList?c.page=17&hmpMnuId=106&searchKeywordValue=0&bbsId=10059819&searchKeyword=&searchCondition=&searchConditionValue=0&\n",
            "http://home.ebs.co.kr/ladybug/board/6/10059819/oneBoardList?c.page=18&hmpMnuId=106&searchKeywordValue=0&bbsId=10059819&searchKeyword=&searchCondition=&searchConditionValue=0&\n",
            "http://home.ebs.co.kr/ladybug/board/6/10059819/oneBoardList?c.page=19&hmpMnuId=106&searchKeywordValue=0&bbsId=10059819&searchKeyword=&searchCondition=&searchConditionValue=0&\n",
            "http://home.ebs.co.kr/ladybug/board/6/10059819/oneBoardList?c.page=20&hmpMnuId=106&searchKeywordValue=0&bbsId=10059819&searchKeyword=&searchCondition=&searchConditionValue=0&\n",
            "http://home.ebs.co.kr/ladybug/board/6/10059819/oneBoardList?c.page=21&hmpMnuId=106&searchKeywordValue=0&bbsId=10059819&searchKeyword=&searchCondition=&searchConditionValue=0&\n",
            "http://home.ebs.co.kr/ladybug/board/6/10059819/oneBoardList?c.page=22&hmpMnuId=106&searchKeywordValue=0&bbsId=10059819&searchKeyword=&searchCondition=&searchConditionValue=0&\n"
          ],
          "name": "stdout"
        }
      ]
    },
    {
      "cell_type": "markdown",
      "metadata": {
        "id": "CVLbZRiUcpbc"
      },
      "source": [
        ""
      ]
    },
    {
      "cell_type": "markdown",
      "metadata": {
        "id": "7tycXf1Xc1om"
      },
      "source": [
        ""
      ]
    },
    {
      "cell_type": "markdown",
      "metadata": {
        "id": "VdDZgiPvc1ir"
      },
      "source": [
        "예제12. 예제11번 코드를 예제10번 코드에 적용해서 레이디 버그 전체 게시판의 글들이 날짜와 함께 출력되게하시오\r\n",
        "\r\n",
        "    1. 예제10번 코드를 가져옵니다.\r\n",
        "\r\n",
        "    2. 예제10번 코드에서 url 의 페이지 번호가 1번부터 22번까지 변경되면서 날짜와 게시글을 가져올 수 있도록 코드를 수정하시오 !"
      ]
    },
    {
      "cell_type": "code",
      "metadata": {
        "id": "XhAYXmrxc7jB"
      },
      "source": [
        "# 1. 웹에서 html 문서를 가져와 beautifulsoup 으로 파싱\r\n",
        "\r\n",
        "from bs4 import BeautifulSoup\r\n",
        "import urllib.request\r\n",
        "\r\n",
        "for i in range(1, 23):\r\n",
        "    list_url = 'http://home.ebs.co.kr/ladybug/board/6/10059819/oneBoardList?c.page='+ str(i) +'&hmpMnuId=106&searchKeywordValue=0&bbsId=10059819&searchKeyword=&searchCondition=&searchConditionValue=0&'\r\n",
        "\r\n",
        "    url = urllib.request.Request(list_url)\r\n",
        "    result = urllib.request.urlopen(url).read().decode(\"utf-8\")\r\n",
        "    soup = BeautifulSoup( result, \"html.parser\" )\r\n",
        "    \r\n",
        "\r\n",
        "    # 2. 시청자 게시판의 날짜와 본문 내용을 가져옵니다.\r\n",
        "    \r\n",
        "    result1 = soup.find_all( 'span', class_='date')\r\n",
        "    result2 = soup.find_all( 'p', class_='con')\r\n",
        "    \r\n",
        "\r\n",
        "    # 3. 시청자 게시판의 날짜와 본문을 params 와 params2 리스트에 담습니다.\r\n",
        "    \r\n",
        "    params1 = []\r\n",
        "    params2 = []\r\n",
        "    for i in result1:\r\n",
        "        params1.append( i.get_text(\" \", strip = True) )\r\n",
        "    for i in result2:\r\n",
        "        params2.append( i.get_text(\" \", strip = True) )\r\n",
        "    \r\n",
        "    \r\n",
        "    # 4. 날짜와 본문을 같이 출력합니다.\r\n",
        "    \r\n",
        "    for k, h in zip(params1, params2):\r\n",
        "        print( k + '   ' + h )"
      ],
      "execution_count": null,
      "outputs": []
    },
    {
      "cell_type": "markdown",
      "metadata": {
        "id": "-lK3WT3tdJNT"
      },
      "source": [
        "설명: 위의 params1 과 params2 리스트가 for 문 안쪽에 있기 때문에 페이지 번호가 바뀔때 마다 params 리스트 안의 내용이 새로운 날짜와 내용으로 변경되게 됩니다."
      ]
    },
    {
      "cell_type": "markdown",
      "metadata": {
        "id": "II-JLqTHdMVh"
      },
      "source": [
        ""
      ]
    },
    {
      "cell_type": "markdown",
      "metadata": {
        "id": "rUZQIxPmdMQz"
      },
      "source": [
        ""
      ]
    },
    {
      "cell_type": "markdown",
      "metadata": {
        "id": "Dl2teTDGdMBj"
      },
      "source": [
        "예제13. params1 과 params2 에 레이디 버그 시청자 게시판의 모든 게시날짜와 본문내용이 들어가게 코드를 수정하시오 !"
      ]
    },
    {
      "cell_type": "code",
      "metadata": {
        "id": "rrcG7uhDdOKA"
      },
      "source": [
        "# 0. 웹스크롤링에 필요한 모듈을 import 합니다.\r\n",
        "\r\n",
        "from bs4 import BeautifulSoup\r\n",
        "import urllib.request\r\n",
        "\r\n",
        "# 1. 레이디 버그 게시판 게시날짜와 게시글 전체를 다 담을 리스트 2개 생성\r\n",
        "params1 = []   # 게시 날짜\r\n",
        "params2 = []   # 게시글 본문\r\n",
        "\r\n",
        "for i in range(1, 23):\r\n",
        "\r\n",
        "    # 2. 웹에서 html 문서를 가져와 beautifulsoup 으로 파싱\r\n",
        "    list_url = 'http://home.ebs.co.kr/ladybug/board/6/10059819/oneBoardList?c.page='+ str(i) +'&hmpMnuId=106&searchKeywordValue=0&bbsId=10059819&searchKeyword=&searchCondition=&searchConditionValue=0&'\r\n",
        "    url = urllib.request.Request(list_url)    # 사람이 알아볼 수 있는 위의 url 을 파이썬이 \r\n",
        "\t\t\t\t\t\t\t    # 알아볼 수 있도록 변환 첫번째 작업\r\n",
        "    result = urllib.request.urlopen(url).read().decode(\"utf-8\")   # 두번째 작업\r\n",
        "                                                    # 위의 url 의 html 문서들을 result 변수에 담았다.\r\n",
        "    soup = BeautifulSoup( result, \"html.parser\" )\r\n",
        "    \r\n",
        "    \r\n",
        "    # 3. 시청자 게시판의 날짜와 본문 내용을 가져옵니다.\r\n",
        "    \r\n",
        "    result1 = soup.find_all( 'span', class_='date')\r\n",
        "    result2 = soup.find_all( 'p', class_='con')\r\n",
        "    \r\n",
        "\r\n",
        "    # 4. 시청자 게시판의 날짜와 본문을 params 와 params2 리스트에 담습니다.\r\n",
        "    # 아까는 이자리에 params1 = [] , params2 = [] 가 있어어 페이지 번호가 변경될 때 마다\r\n",
        "    # params 리스트가 초기화가 되었었는데 지금은 이자리에 없고 맨 위에 for 문 시작하기 전에\r\n",
        "    # 있었으므로 계속 페이지번호 1~22 번까지 모든 게시날짜와 게시본문이 params1 과 \r\n",
        "    # params2에 append 됩니다.\r\n",
        "\r\n",
        "    for i in result1:\r\n",
        "        params1.append( i.get_text(\" \", strip = True) )\r\n",
        "    for i in result2:\r\n",
        "        params2.append( i.get_text(\" \", strip = True) )\r\n",
        "    \r\n",
        "\r\n",
        "# 5. 날짜와 본문을 같이 출력합니다.\r\n",
        "    \r\n",
        "for k, h in zip(params1, params2):\r\n",
        "    print( k + '   ' + h )"
      ],
      "execution_count": null,
      "outputs": []
    },
    {
      "cell_type": "markdown",
      "metadata": {
        "id": "WQcWo3gOdmlD"
      },
      "source": [
        "설명: 예제12번은 레이디 버그 게시판 전체글을 확면에 출력하는 코드이고 예제13번은 레이디 버그 게시판 전체글을 prams1 과 params2 리스트에 모두 담고 화면에 출력하는 코드"
      ]
    },
    {
      "cell_type": "markdown",
      "metadata": {
        "id": "EQ9gfYfhdoqk"
      },
      "source": [
        ""
      ]
    },
    {
      "cell_type": "markdown",
      "metadata": {
        "id": "KS0jSsPBdpSD"
      },
      "source": [
        ""
      ]
    },
    {
      "cell_type": "markdown",
      "metadata": {
        "id": "toii5paNdpAL"
      },
      "source": [
        "문제415. 레이디 버그 게시판의 전체 게시글을 총 몇건인가 ?"
      ]
    },
    {
      "cell_type": "code",
      "metadata": {
        "colab": {
          "base_uri": "https://localhost:8080/"
        },
        "id": "zXp_23jPdwjj",
        "outputId": "e89c6541-5e2a-4c2e-a529-785b02c629b3"
      },
      "source": [
        "# 1. 웹에서 html 문서를 가져와 beautifulsoup 으로 파싱\r\n",
        "\r\n",
        "from bs4 import BeautifulSoup\r\n",
        "import urllib.request\r\n",
        "cnt = 0\r\n",
        "\r\n",
        "for i in range(1, 23):\r\n",
        "    \r\n",
        "    # 2. 웹에서 html 문서를 가져와 beautifulsoup 으로 파싱\r\n",
        "    list_url = 'http://home.ebs.co.kr/ladybug/board/6/10059819/oneBoardList?c.page='+ str(i) +'&hmpMnuId=106&searchKeywordValue=0&bbsId=10059819&searchKeyword=&searchCondition=&searchConditionValue=0&'\r\n",
        "    url = urllib.request.Request(list_url)\r\n",
        "    result = urllib.request.urlopen(url).read().decode(\"utf-8\")\r\n",
        "    soup = BeautifulSoup( result, \"html.parser\" )\r\n",
        "    \r\n",
        "    # 3. 시청자 게시판의 날짜를 가져옵니다.\r\n",
        "    result1 = soup.find_all( 'span', class_='date')\r\n",
        "\r\n",
        "    # 4. 날짜의 건수를 cnt 변수로 할당하여 집계\r\n",
        "    for i in result1:\r\n",
        "        cnt += 1\r\n",
        "\r\n",
        "print(cnt)"
      ],
      "execution_count": 22,
      "outputs": [
        {
          "output_type": "stream",
          "text": [
            "431\n"
          ],
          "name": "stdout"
        }
      ]
    },
    {
      "cell_type": "markdown",
      "metadata": {
        "id": "oa4dH829dtTM"
      },
      "source": [
        ""
      ]
    },
    {
      "cell_type": "markdown",
      "metadata": {
        "id": "e3t2a8VHeAFc"
      },
      "source": [
        ""
      ]
    },
    {
      "cell_type": "markdown",
      "metadata": {
        "id": "rBU0hRsueAAm"
      },
      "source": [
        "문제416. 게시글 431개 전체를 mytext3.txt 라는 이름으로 저장하시오"
      ]
    },
    {
      "cell_type": "markdown",
      "metadata": {
        "id": "uAB45ZVneFn0"
      },
      "source": [
        ""
      ]
    },
    {
      "cell_type": "markdown",
      "metadata": {
        "id": "EWXBE-xbeDOl"
      },
      "source": [
        "** 텍스트파일을 저장하는 파이썬 코드"
      ]
    },
    {
      "cell_type": "code",
      "metadata": {
        "id": "enNNNgi7eDj0"
      },
      "source": [
        "text = 'abcdefghijklmn'\r\n",
        "\r\n",
        "f = open(\"c:\\\\data\\\\mytext3.txt\", \"w\", encoding = \"UTF8\")\r\n",
        "f.write( text )\r\n",
        "f.close()"
      ],
      "execution_count": null,
      "outputs": []
    },
    {
      "cell_type": "markdown",
      "metadata": {
        "id": "hJOvZyw7eHJl"
      },
      "source": [
        ""
      ]
    },
    {
      "cell_type": "markdown",
      "metadata": {
        "id": "KhM3qh89eHCH"
      },
      "source": [
        ""
      ]
    },
    {
      "cell_type": "markdown",
      "metadata": {
        "id": "0R3tnyDfeIdb"
      },
      "source": [
        "답:"
      ]
    },
    {
      "cell_type": "code",
      "metadata": {
        "id": "xT2we_xreNWL"
      },
      "source": [
        "# 0. 웹스크롤링에 필요한 모듈을 import 합니다.\r\n",
        "\r\n",
        "from bs4 import BeautifulSoup\r\n",
        "import urllib.request\r\n",
        "\r\n",
        "# 1. 레이디 버그 게시판 게시날짜와 게시글 전체를 다 담을 리스트 2개 생성\r\n",
        "params1 = []   # 게시 날짜\r\n",
        "params2 = []   # 게시글 본문\r\n",
        "\r\n",
        "f = open(\"/content/drive/MyDrive/data/mytext3.txt\", \"w\", encoding = \"UTF8\")\r\n",
        "\r\n",
        "for i in range(1, 23):\r\n",
        "\r\n",
        "    # 2. 웹에서 html 문서를 가져와 beautifulsoup 으로 파싱\r\n",
        "    list_url = 'http://home.ebs.co.kr/ladybug/board/6/10059819/oneBoardList?c.page='+ str(i) +'&hmpMnuId=106&searchKeywordValue=0&bbsId=10059819&searchKeyword=&searchCondition=&searchConditionValue=0&'\r\n",
        "    url = urllib.request.Request(list_url)    # 사람이 알아볼 수 있는 위의 url 을 파이썬이 \r\n",
        "\t\t\t\t\t\t\t    # 알아볼 수 있도록 변환 첫번째 작업\r\n",
        "    result = urllib.request.urlopen(url).read().decode(\"utf-8\")   # 두번째 작업\r\n",
        "                                                    # 위의 url 의 html 문서들을 result 변수에 담았다.\r\n",
        "    soup = BeautifulSoup( result, \"html.parser\" )\r\n",
        "    \r\n",
        "    # 3. 시청자 게시판의 날짜와 본문 내용을 가져옵니다.\r\n",
        "    \r\n",
        "    result1 = soup.find_all( 'span', class_='date')\r\n",
        "    result2 = soup.find_all( 'p', class_='con')\r\n",
        "    \r\n",
        "    # 4. 시청자 게시판의 날짜와 본문을 params 와 params2 리스트에 담습니다.\r\n",
        "    # 아까는 이자리에 params1 = [] , params2 = [] 가 있어어 페이지 번호가 변경될 때 마다\r\n",
        "    # params 리스트가 초기화가 되었었는데 지금은 이자리에 없고 맨 위에 for 문 시작하기 전에\r\n",
        "    # 있었으므로 계속 페이지번호 1~22 번까지 모든 게시날짜와 게시본문이 params1 과 \r\n",
        "    # params2에 append 됩니다.\r\n",
        "\r\n",
        "    for i in result1:\r\n",
        "        params1.append( i.get_text(\" \", strip = True) )\r\n",
        "    for i in result2:\r\n",
        "        params2.append( i.get_text(\" \", strip = True) )\r\n",
        "    \r\n",
        "\r\n",
        "# 5. 날짜와 본문을 같이 출력합니다.\r\n",
        "    \r\n",
        "for k, h in zip(params1, params2):\r\n",
        "    f.write( k + '   ' + h + '\\n' )\r\n",
        "\r\n",
        "f.close()"
      ],
      "execution_count": 25,
      "outputs": []
    },
    {
      "cell_type": "markdown",
      "metadata": {
        "id": "6SorF0HzeG7M"
      },
      "source": [
        ""
      ]
    },
    {
      "cell_type": "code",
      "metadata": {
        "id": "cDQIReVeesF0"
      },
      "source": [
        "# mytext3.txt 데이터 확인\r\n",
        "f = open(\"/content/drive/MyDrive/data/mytext3.txt\", encoding = \"UTF8\")\r\n",
        "data = f.read() \r\n",
        "print(data)\r\n",
        "f.close()"
      ],
      "execution_count": null,
      "outputs": []
    },
    {
      "cell_type": "markdown",
      "metadata": {
        "id": "Rb1YRx0ZeyR6"
      },
      "source": [
        ""
      ]
    },
    {
      "cell_type": "markdown",
      "metadata": {
        "id": "jKFVB6QkeyLn"
      },
      "source": [
        ""
      ]
    },
    {
      "cell_type": "markdown",
      "metadata": {
        "id": "g425_BQnex73"
      },
      "source": [
        "**■ 143. 웹스크롤링 실전 2단계 (중앙일보사)**\r\n",
        "\r\n",
        "중앙일보사 홈페이지에서 인공지능으로 검색을 했을때 나오는 기사들을 전부 웹스크롤링 한다.\r\n"
      ]
    },
    {
      "cell_type": "markdown",
      "metadata": {
        "id": "bJ8aM3mhou9b"
      },
      "source": [
        ""
      ]
    },
    {
      "cell_type": "markdown",
      "metadata": {
        "id": "3aba2geUovRG"
      },
      "source": [
        ""
      ]
    },
    {
      "cell_type": "markdown",
      "metadata": {
        "id": "EtFZrZ9povh0"
      },
      "source": [
        "예제1. 중앙일보사 홈페이지에서 인공지능으로 검색했을 때 나오는 url 을 가져오시오 !\r\n"
      ]
    },
    {
      "cell_type": "markdown",
      "metadata": {
        "id": "CYsIk8oCo3PU"
      },
      "source": [
        "https://news.joins.com/Search/JoongangNews?page=1&Keyword=%EC%9D%B8%EA%B3%B5%EC%A7%80%EB%8A%A5&SortType=New&SearchCategoryType=JoongangNews\r\n",
        "\r\n",
        "\r\n"
      ]
    },
    {
      "cell_type": "markdown",
      "metadata": {
        "id": "gkiQvwZIo55C"
      },
      "source": [
        ""
      ]
    },
    {
      "cell_type": "markdown",
      "metadata": {
        "id": "LMU6L4K7o6Fj"
      },
      "source": [
        ""
      ]
    },
    {
      "cell_type": "markdown",
      "metadata": {
        "id": "5bt4I-T_o6XL"
      },
      "source": [
        "예제2. 위의 사이트에서 보이는 상세기사를 클릭하고 그 기사의 url 을 복사하시오 !"
      ]
    },
    {
      "cell_type": "markdown",
      "metadata": {
        "id": "HcnQUfFQpAEp"
      },
      "source": [
        "https://news.joins.com/article/23990482  \r\n",
        "https://news.joins.com/article/23990187  \r\n",
        "https://news.joins.com/article/23990176"
      ]
    },
    {
      "cell_type": "markdown",
      "metadata": {
        "id": "oE3FoBDFpAzk"
      },
      "source": [
        ""
      ]
    },
    {
      "cell_type": "markdown",
      "metadata": {
        "id": "Hr1ylrrIpEEi"
      },
      "source": [
        ""
      ]
    },
    {
      "cell_type": "markdown",
      "metadata": {
        "id": "4mRLxx95pD2C"
      },
      "source": [
        "예제3. 인공지능으로 검색했을때 나오는 상세기사들의 url 을 스크롤링 하시오 !"
      ]
    },
    {
      "cell_type": "markdown",
      "metadata": {
        "id": "LJ5HG1hrpFrK"
      },
      "source": [
        "상세기사 url html\r\n",
        "\r\n",
        "    <h2 class=\"headline mg\">\r\n",
        "    <a href=\"https://news.joins.com/article/23947044\" target=\"_blank\">'AI 발전에 써라' 동원 김재철 명예회장, KAIST에 500억 기부</a>\r\n",
        "    </h2>\r\n"
      ]
    },
    {
      "cell_type": "code",
      "metadata": {
        "colab": {
          "base_uri": "https://localhost:8080/"
        },
        "id": "lyDlFRhdpL-m",
        "outputId": "e3f1c179-32f4-478a-e0ab-461598824fc7"
      },
      "source": [
        "# 답:\r\n",
        "# 1. 웹스크롤링에 필요한 모듈을 import 합니다.\r\n",
        "\r\n",
        "from bs4 import BeautifulSoup\r\n",
        "import urllib.request\r\n",
        "\r\n",
        "# 2. 중앙일보에서 인공지능으로 검색했을 때 나오는 첫페이지의 html 코드를\r\n",
        "#   beautifulsoup 에서 이용할 수 있도록 파싱\r\n",
        "list_url = 'https://news.joins.com/Search/JoongangNews?page=1&Keyword=%EC%9D%B8%EA%B3%B5%EC%A7%80%EB%8A%A5&SortType=New&SearchCategoryType=JoongangNews'\r\n",
        "url = urllib.request.Request(list_url)\r\n",
        "result = urllib.request.urlopen(url).read().decode(\"utf-8\")\r\n",
        "soup = BeautifulSoup( result, \"html.parser\" )\r\n",
        "# print(soup)\r\n",
        "\r\n",
        "# 3. 상세기사 url 을 가져올 수 있도록 태그와 클래스를 찾습니다.\r\n",
        "#  찾아보니 태그는 h2 이고 클래스 이름은 headline mg 입니다.\r\n",
        "\r\n",
        "result1 = soup.find_all( 'h2', class_='headline mg')    # list 에 상세기사 html 리스트로 저장\r\n",
        "# print(result1)   \r\n",
        "\r\n",
        "# 4. 위의 result1 은 리스트 이므로 for loop 문을 이용해서 리스트에 있는 요소를 하나씩\r\n",
        "#   빼내면서 href 의 값을 얻어냅니다.\r\n",
        "\r\n",
        "for i in result1:  # result1 리스트의 요소를 하나씩 빼내는 코드\r\n",
        "    for k in i:     # h2 태그안의 a 태그의 html 코드를 가져오기 위한 코드. h2 태그 a 태그로 구분\r\n",
        "        print(k.get( 'href' ))"
      ],
      "execution_count": 27,
      "outputs": [
        {
          "output_type": "stream",
          "text": [
            "https://news.joins.com/article/23990482\n",
            "https://news.joins.com/article/23990187\n",
            "https://news.joins.com/article/23990176\n",
            "https://news.joins.com/article/23990171\n",
            "https://news.joins.com/article/23989917\n",
            "https://news.joins.com/article/23989029\n",
            "https://news.joins.com/article/23988735\n",
            "https://news.joins.com/article/23988692\n",
            "https://news.joins.com/article/23988655\n",
            "https://news.joins.com/article/23988654\n"
          ],
          "name": "stdout"
        }
      ]
    },
    {
      "cell_type": "markdown",
      "metadata": {
        "id": "n3o8EMmXpVvr"
      },
      "source": [
        ""
      ]
    },
    {
      "cell_type": "markdown",
      "metadata": {
        "id": "a5CxZoyqpVrk"
      },
      "source": [
        ""
      ]
    },
    {
      "cell_type": "markdown",
      "metadata": {
        "id": "oLbpOhbYpVnp"
      },
      "source": [
        "예제4. 위의상세 기사 url 을 params 라는 비어있는 리스트에 다 append 시키시오 !"
      ]
    },
    {
      "cell_type": "code",
      "metadata": {
        "colab": {
          "base_uri": "https://localhost:8080/"
        },
        "id": "Mab3XONZpWxa",
        "outputId": "176445c5-beca-4b92-d108-6de268510a62"
      },
      "source": [
        "# 1. 웹스크롤링에 필요한 모듈을 import 합니다.\r\n",
        "\r\n",
        "from bs4 import BeautifulSoup\r\n",
        "import urllib.request\r\n",
        "\r\n",
        "# 2. 중앙일보에서 인공지능으로 검색했을 때 나오는 첫페이지의 html 코드를\r\n",
        "#   beautifulsoup 에서 이용할 수 있도록 파싱\r\n",
        "list_url = 'https://news.joins.com/Search/JoongangNews?page=1&Keyword=%EC%9D%B8%EA%B3%B5%EC%A7%80%EB%8A%A5&SortType=New&SearchCategoryType=JoongangNews'\r\n",
        "url = urllib.request.Request(list_url)\r\n",
        "result = urllib.request.urlopen(url).read().decode(\"utf-8\")\r\n",
        "soup = BeautifulSoup( result, \"html.parser\" )\r\n",
        "# print(soup)\r\n",
        "\r\n",
        "\r\n",
        "# 3. 상세기사 url 을 가져올 수 있도록 태그와 클래스를 찾습니다.\r\n",
        "#  찾아보니 태그는 h2 이고 클래스 이름은 headline mg 입니다.\r\n",
        "\r\n",
        "result1 = soup.find_all( 'h2', class_='headline mg')    # list 에 상세기사 html 리스트로 저장\r\n",
        "# print(result1)   \r\n",
        "\r\n",
        "\r\n",
        "# 4. 위의 result1 은 리스트 이므로 for loop 문을 이용해서 리스트에 있는 요소를 하나씩\r\n",
        "#   빼내면서 href 의 값을 얻어냅니다.\r\n",
        "\r\n",
        "params = []\r\n",
        "\r\n",
        "for i in result1:  # result1 리스트의 요소를 하나씩 빼내는 코드\r\n",
        "    for k in i:     # h2 태그안의 a 태그의 html 코드를 가져오기 위한 코드. h2 태그 a 태그로 구분\r\n",
        "        params.append(k.get( 'href' ))\r\n",
        "\r\n",
        "print(params)"
      ],
      "execution_count": 29,
      "outputs": [
        {
          "output_type": "stream",
          "text": [
            "['https://news.joins.com/article/23990482', 'https://news.joins.com/article/23990187', 'https://news.joins.com/article/23990176', 'https://news.joins.com/article/23990171', 'https://news.joins.com/article/23989917', 'https://news.joins.com/article/23989029', 'https://news.joins.com/article/23988735', 'https://news.joins.com/article/23988692', 'https://news.joins.com/article/23988655', 'https://news.joins.com/article/23988654']\n"
          ],
          "name": "stdout"
        }
      ]
    },
    {
      "cell_type": "markdown",
      "metadata": {
        "id": "jjVcFz3ppdvL"
      },
      "source": [
        ""
      ]
    },
    {
      "cell_type": "markdown",
      "metadata": {
        "id": "DJez_kUHpdsZ"
      },
      "source": [
        ""
      ]
    },
    {
      "cell_type": "markdown",
      "metadata": {
        "id": "GOt-zamgpdpm"
      },
      "source": [
        "예제5. 상세기사 url 중에 하나를 복사해오고 그 상세기사 url 의 웹페이지로 접속해서 본문 기사의 태그 이름과 클래스 이름이 무엇인지 확인하시오 !\r\n"
      ]
    },
    {
      "cell_type": "markdown",
      "metadata": {
        "id": "GuaI0f2QpfRa"
      },
      "source": [
        "    <div id=\"article_body\" itemprop=\"articleBody\" class=\"article_body mg fs4\">\r\n",
        "\r\n",
        "답: 태그 이름은 div 태그 이고 클래스 이름은 \"article_body mg fs4\" 입니다."
      ]
    },
    {
      "cell_type": "markdown",
      "metadata": {
        "id": "34ZYiOExphZW"
      },
      "source": [
        ""
      ]
    },
    {
      "cell_type": "markdown",
      "metadata": {
        "id": "NpBnqOqKphqS"
      },
      "source": [
        ""
      ]
    },
    {
      "cell_type": "markdown",
      "metadata": {
        "id": "s45bR0MQph6Z"
      },
      "source": [
        "예제6. 위의 상세기사의 본문 텍스트를 스크롤링해서 출력하시오 !"
      ]
    },
    {
      "cell_type": "code",
      "metadata": {
        "colab": {
          "base_uri": "https://localhost:8080/"
        },
        "id": "1LCLlMcYpjrI",
        "outputId": "30d78c83-7b2a-4507-89e2-0affffdb9f63"
      },
      "source": [
        "# 1. 웹스크롤링에 필요한 모듈을 import 합니다.\r\n",
        "\r\n",
        "from bs4 import BeautifulSoup\r\n",
        "import urllib.request\r\n",
        "\r\n",
        "# 2. 상세기사 url 로 검색했을때 나오는 페이지의 html 코드를\r\n",
        "#   beautifulsoup 에서 이용할 수 있도록 파싱\r\n",
        "\r\n",
        "list_url = 'https://news.joins.com/article/23990482'\r\n",
        "url = urllib.request.Request(list_url)\r\n",
        "result = urllib.request.urlopen(url).read().decode(\"utf-8\")\r\n",
        "soup = BeautifulSoup( result, \"html.parser\" )\r\n",
        "\r\n",
        "# 3. 상세기사의 본문 을 가져올 수 있도록 태그와 클래스를 찾습니다.\r\n",
        "#  찾아보니 태그는 div 이고 클래스 이름은 article_body mg fs4 입니다.\r\n",
        "\r\n",
        "result1 = soup.find_all( 'div', class_='article_body mg fs4')\r\n",
        "\r\n",
        "# 4. 위의 result1 은 리스트 이므로 for loop 문을 이용해서 리스트에 있는 요소를 \r\n",
        "#   하나씩 빼내면서 본문의 텍스트를 얻어냅니다.\r\n",
        "\r\n",
        "params2 = []\r\n",
        "\r\n",
        "for i in result1:  # result1 리스트의 요소를 하나씩 빼내는 코드\r\n",
        "    params2.append( i.get_text(\" \", strip = True) )\r\n",
        "\r\n",
        "print(params2)"
      ],
      "execution_count": 31,
      "outputs": [
        {
          "output_type": "stream",
          "text": [
            "['안상일 하이퍼커넥트 대표 미국 나스닥 상장사 매치그룹(시가총액 47조원)이 한국 스타트업 하이퍼커넥트를 2조원에 인수한다. 한국 스타트업 중에선 2019년 독일 딜리버리히어로(DH)가 4조7500억원에 인수한 우아한 형제들(배달의 민족)에 이어 두 번째로 큰 규모다. 안상일·정강식·용현택 공동창업 배민 M&A 이어 벤처 최대 규모 230개국 19개 언어, 5.4억건 다운 매년 매출 60%이상 초고속 성장 하이퍼커넥트는 “미국 매치그룹이 하이퍼커넥트 지분 100%를 17억2500만달러(1조9330억원)에 인수하기로 합의했다”고 10일 밝혔다. 동영상 채팅앱 ‘아자르’ ‘하쿠나라이브’ 운영사인 하이퍼커넥트는 2014년 설립된 스타트업이다. 전세계 새로운 사람과 만난다는 ‘소셜디스커버리’ 개념을 앞세워 글로벌 시장을 개척해왔다. 현재 230개국 19개 언어로 서비스 중이며 아자르의 누적 다운로드 건수는 5억4000만회에 달한다. 영상 메신저 앱 ‘아자르’는. 그래픽=신재민 기자 shin.jaemin@joongang.co.kr 비상장 스타트업으로는 드물게 적자 없이 매년 60% 이상의 매출이 늘고 있는 회사다. 2019년 매출은 1689억원, 영업이익은 202억원이다. 지난해는 상반기까지 1235억원을 벌었다. 동종업계에선 비디오 커뮤니케이션과 인공지능(AI) 분야에서 세계수준의 기술을 갖췄다고 평가한다. 벤처투자업계 한 관계자는 “국내 스타트업도 글로벌 무대에서도 충분히 통할 수 있다는 걸 보여준 성공 사례”라고 말했다. 하이퍼커넥트의 핵심 경쟁력은 영상 채팅 서비스 ‘아자르(Azar)’다. 원하는 상대의 지역과 성별을 택한 후 화면을 가로로 넘기면(스와이프) 무작위로 전 세계 가입자와 영상 대화를 할 수 있다. 이용자 99%가 해외 사용자로 지난해 12월 애플 앱스토어 전 세계 60개국 매출 탑 10(SNS부분 매출 기준)에 들었다. 하이퍼커넥트 매출. 그래픽=신재민 기자 shin.jaemin@joongang.co.kr 아자르는 매치그룹 주력사업인 소셜 데이팅 앱 ‘틴더’ 등과 궁합이 잘 맞는다는 평가다. 매치그룹은 40여 개 글로벌 소셜앱을 보유했지만 ‘틱톡’ 같은 영상 킬러앱이 없었다. 샤르 듀베이 매치그룹 최고경영자(CEO)는 “하이퍼커넥트의 라이브 영상·오디오 기술은 강력한 연결 수단”이라며 “하이퍼커넥트의 혁신 기술을 매치그룹 서비스에 적용하고 기술 투자도 적극 지원할 것”이라고 말했다. 지난해 초 하이퍼커넥트는 김상헌 전 네이버 대표를 고문으로 영입하고 투자 유치를 준비했다. 김 고문은 라인(LINE)을 일본에 상장시킨 주역이다. 하이퍼커넥트도 3000억~4000억원대 투자를 유치해 기업공개(IPO)하는 큰 그림을 그렸다. 이후 매치그룹이 적극적 투자 의사를 보였다. 하이퍼커넥트 관계자는 “수년 전부터 매치그룹이 관심을 보여왔고, 이번 투자제안도 가장 적극적으로 해왔다”며 “인수 이후에도 독립 경영 체제를 유지하는 방식을 제안해 논의가 급물살을 탔다”고 설명했다. 하이퍼커넥트는 안상일 대표(40)와 정강식 최고기술책임자(CTO), 용현택 최고연구책임자(CRO)가 공동창업한 회사다. 지분율은 공개되지 않았지만 2014년~2015년 초기 투자 이후 대규모 투자를 유치한 적이 없어 상당수 지분을 공동창업자가 보유한 것으로 추정된다. 안 대표와 정 CTO는 서울대 대학 창업동아리 친구 사이기도 하다. 이번 인수로 초기 투자사인 알토스벤처스와 소프트뱅크벤처스도 잭팟을 터뜨렸다. 알토스벤처스는 2014년 22억원을 투자했고, 이듬해 소프트뱅크벤처스와 함께 100억원을 추가 투자했다. 두 투자사가 보유한 하이퍼커넥트 주식은 370만주 가량(우선주 포함)으로 수천억원대 이익을 낼 것으로 예상한다. 정원엽·김정민 기자\\xa0jung.wonyeob@joongang.co.kr']\n"
          ],
          "name": "stdout"
        }
      ]
    },
    {
      "cell_type": "markdown",
      "metadata": {
        "id": "XJO1RW6tpumr"
      },
      "source": [
        ""
      ]
    },
    {
      "cell_type": "markdown",
      "metadata": {
        "id": "0tEMe99HpujG"
      },
      "source": [
        ""
      ]
    },
    {
      "cell_type": "markdown",
      "metadata": {
        "id": "zAcRqx11pufa"
      },
      "source": [
        "예제7. 상세기사 url 을 가져와서 params 리스트에 넣고 출력하는 예제4번 코드를 함수로 생성하시오 !\r\n"
      ]
    },
    {
      "cell_type": "code",
      "metadata": {
        "colab": {
          "base_uri": "https://localhost:8080/"
        },
        "id": "MVxsqWyWpvvC",
        "outputId": "97047552-f9b3-4fd4-f577-4bf103bbd6c0"
      },
      "source": [
        "from bs4 import BeautifulSoup\r\n",
        "import urllib.request\r\n",
        "\r\n",
        "def j_scroll():\r\n",
        "    list_url = 'https://news.joins.com/Search/JoongangNews?page=1&Keyword=%EC%9D%B8%EA%B3%B5%EC%A7%80%EB%8A%A5&SortType=New&SearchCategoryType=JoongangNews'\r\n",
        "    url = urllib.request.Request(list_url)\r\n",
        "    result = urllib.request.urlopen(url).read().decode(\"utf-8\")\r\n",
        "    soup = BeautifulSoup( result, \"html.parser\" )\r\n",
        "\r\n",
        "    result1 = soup.find_all( 'h2', class_='headline mg')\r\n",
        "    \r\n",
        "    params = []\r\n",
        "    \r\n",
        "    for i in result1:  \r\n",
        "        for k in i:\r\n",
        "            params.append(k.get( 'href' ))\r\n",
        "\r\n",
        "    return params\r\n",
        "\r\n",
        "print( j_scroll() )"
      ],
      "execution_count": 32,
      "outputs": [
        {
          "output_type": "stream",
          "text": [
            "['https://news.joins.com/article/23990482', 'https://news.joins.com/article/23990187', 'https://news.joins.com/article/23990176', 'https://news.joins.com/article/23990171', 'https://news.joins.com/article/23989917', 'https://news.joins.com/article/23989029', 'https://news.joins.com/article/23988735', 'https://news.joins.com/article/23988692', 'https://news.joins.com/article/23988655', 'https://news.joins.com/article/23988654']\n"
          ],
          "name": "stdout"
        }
      ]
    },
    {
      "cell_type": "markdown",
      "metadata": {
        "id": "oKmwiPwcpviy"
      },
      "source": [
        ""
      ]
    },
    {
      "cell_type": "markdown",
      "metadata": {
        "id": "mCGJ_bkZp0_6"
      },
      "source": [
        ""
      ]
    },
    {
      "cell_type": "markdown",
      "metadata": {
        "id": "EfQPTeQ5p08K"
      },
      "source": [
        "예제8. 상세 기사 url 로 본문 기사를 스크롤링해서 리스트에 담았던 예제6번을 \r\n",
        "\t   j_detail_scroll() 함수로 생성하시오 !"
      ]
    },
    {
      "cell_type": "code",
      "metadata": {
        "colab": {
          "base_uri": "https://localhost:8080/"
        },
        "id": "SZoeT9tHp2uS",
        "outputId": "e50e0e6a-6563-4fe8-ca48-21e56a69450c"
      },
      "source": [
        "from  bs4  import  BeautifulSoup\r\n",
        "import  urllib.request   \r\n",
        "\r\n",
        "def j_detail_scroll():\r\n",
        "    list_url = 'https://news.joins.com/article/23990482'\r\n",
        "    url = urllib.request.Request(list_url) \r\n",
        "    result = urllib.request.urlopen(url).read().decode(\"utf-8\") \r\n",
        "    soup = BeautifulSoup( result, \"html.parser\")\r\n",
        "            \r\n",
        "    result1 = soup.find_all( 'div', class_ = 'article_body mg fs4')\r\n",
        "    \r\n",
        "    params2 =[ ]\r\n",
        "    \r\n",
        "    for  i  in  result1:\r\n",
        "        params2.append( i.get_text(\" \", strip=True) )  \r\n",
        "    \r\n",
        "    return params2\r\n",
        "\r\n",
        "print( j_detail_scroll() )"
      ],
      "execution_count": 34,
      "outputs": [
        {
          "output_type": "stream",
          "text": [
            "['안상일 하이퍼커넥트 대표 미국 나스닥 상장사 매치그룹(시가총액 47조원)이 한국 스타트업 하이퍼커넥트를 2조원에 인수한다. 한국 스타트업 중에선 2019년 독일 딜리버리히어로(DH)가 4조7500억원에 인수한 우아한 형제들(배달의 민족)에 이어 두 번째로 큰 규모다. 안상일·정강식·용현택 공동창업 배민 M&A 이어 벤처 최대 규모 230개국 19개 언어, 5.4억건 다운 매년 매출 60%이상 초고속 성장 하이퍼커넥트는 “미국 매치그룹이 하이퍼커넥트 지분 100%를 17억2500만달러(1조9330억원)에 인수하기로 합의했다”고 10일 밝혔다. 동영상 채팅앱 ‘아자르’ ‘하쿠나라이브’ 운영사인 하이퍼커넥트는 2014년 설립된 스타트업이다. 전세계 새로운 사람과 만난다는 ‘소셜디스커버리’ 개념을 앞세워 글로벌 시장을 개척해왔다. 현재 230개국 19개 언어로 서비스 중이며 아자르의 누적 다운로드 건수는 5억4000만회에 달한다. 영상 메신저 앱 ‘아자르’는. 그래픽=신재민 기자 shin.jaemin@joongang.co.kr 비상장 스타트업으로는 드물게 적자 없이 매년 60% 이상의 매출이 늘고 있는 회사다. 2019년 매출은 1689억원, 영업이익은 202억원이다. 지난해는 상반기까지 1235억원을 벌었다. 동종업계에선 비디오 커뮤니케이션과 인공지능(AI) 분야에서 세계수준의 기술을 갖췄다고 평가한다. 벤처투자업계 한 관계자는 “국내 스타트업도 글로벌 무대에서도 충분히 통할 수 있다는 걸 보여준 성공 사례”라고 말했다. 하이퍼커넥트의 핵심 경쟁력은 영상 채팅 서비스 ‘아자르(Azar)’다. 원하는 상대의 지역과 성별을 택한 후 화면을 가로로 넘기면(스와이프) 무작위로 전 세계 가입자와 영상 대화를 할 수 있다. 이용자 99%가 해외 사용자로 지난해 12월 애플 앱스토어 전 세계 60개국 매출 탑 10(SNS부분 매출 기준)에 들었다. 하이퍼커넥트 매출. 그래픽=신재민 기자 shin.jaemin@joongang.co.kr 아자르는 매치그룹 주력사업인 소셜 데이팅 앱 ‘틴더’ 등과 궁합이 잘 맞는다는 평가다. 매치그룹은 40여 개 글로벌 소셜앱을 보유했지만 ‘틱톡’ 같은 영상 킬러앱이 없었다. 샤르 듀베이 매치그룹 최고경영자(CEO)는 “하이퍼커넥트의 라이브 영상·오디오 기술은 강력한 연결 수단”이라며 “하이퍼커넥트의 혁신 기술을 매치그룹 서비스에 적용하고 기술 투자도 적극 지원할 것”이라고 말했다. 지난해 초 하이퍼커넥트는 김상헌 전 네이버 대표를 고문으로 영입하고 투자 유치를 준비했다. 김 고문은 라인(LINE)을 일본에 상장시킨 주역이다. 하이퍼커넥트도 3000억~4000억원대 투자를 유치해 기업공개(IPO)하는 큰 그림을 그렸다. 이후 매치그룹이 적극적 투자 의사를 보였다. 하이퍼커넥트 관계자는 “수년 전부터 매치그룹이 관심을 보여왔고, 이번 투자제안도 가장 적극적으로 해왔다”며 “인수 이후에도 독립 경영 체제를 유지하는 방식을 제안해 논의가 급물살을 탔다”고 설명했다. 하이퍼커넥트는 안상일 대표(40)와 정강식 최고기술책임자(CTO), 용현택 최고연구책임자(CRO)가 공동창업한 회사다. 지분율은 공개되지 않았지만 2014년~2015년 초기 투자 이후 대규모 투자를 유치한 적이 없어 상당수 지분을 공동창업자가 보유한 것으로 추정된다. 안 대표와 정 CTO는 서울대 대학 창업동아리 친구 사이기도 하다. 이번 인수로 초기 투자사인 알토스벤처스와 소프트뱅크벤처스도 잭팟을 터뜨렸다. 알토스벤처스는 2014년 22억원을 투자했고, 이듬해 소프트뱅크벤처스와 함께 100억원을 추가 투자했다. 두 투자사가 보유한 하이퍼커넥트 주식은 370만주 가량(우선주 포함)으로 수천억원대 이익을 낼 것으로 예상한다. 정원엽·김정민 기자\\xa0jung.wonyeob@joongang.co.kr']\n"
          ],
          "name": "stdout"
        }
      ]
    },
    {
      "cell_type": "markdown",
      "metadata": {
        "id": "9Z81EQz6p5O9"
      },
      "source": [
        ""
      ]
    },
    {
      "cell_type": "markdown",
      "metadata": {
        "id": "h3eeZbWZp5Ia"
      },
      "source": [
        ""
      ]
    },
    {
      "cell_type": "markdown",
      "metadata": {
        "id": "okBSxz0wp4rW"
      },
      "source": [
        "예제9. 지금 만든 j_detail_scroll() 함수는 상세기사 딱 한개의 본문을 출력하는 함수인데\r\n",
        "\t  이 j_detail_scroll() 함수에 j_scroll() 함수를 실행했을때 나오는 상세 url 여러개를\r\n",
        "\t  제공할 수 있도록 코드를 수정하시오!\r\n"
      ]
    },
    {
      "cell_type": "code",
      "metadata": {
        "id": "GfoX2n20qBei"
      },
      "source": [
        "from  bs4  import  BeautifulSoup\r\n",
        "import  urllib.request\r\n",
        "\r\n",
        "def j_scroll():    # 상세기사 url 가져오는 함수\r\n",
        "    list_url = 'https://news.joins.com/Search/JoongangNews?page=1&Keyword=%EC%9D%B8%EA%B3%B5%EC%A7%80%EB%8A%A5&SortType=New&SearchCategoryType=JoongangNews'\r\n",
        "    url = urllib.request.Request(list_url)\r\n",
        "    result = urllib.request.urlopen(url).read().decode(\"utf-8\")\r\n",
        "    soup = BeautifulSoup( result, \"html.parser\" )\r\n",
        "\r\n",
        "    result1 = soup.find_all( 'h2', class_='headline mg')\r\n",
        "    \r\n",
        "    params = []\r\n",
        "    \r\n",
        "    for i in result1:  \r\n",
        "        for k in i:\r\n",
        "            params.append(k.get( 'href' ))\r\n",
        "\r\n",
        "    return params\r\n",
        "\r\n",
        "\r\n",
        "def j_detail_scroll():    # 상세기사 url 하나 중에 본문내용 가져오는 함수\r\n",
        "    list_url = j_scroll()        # j_scroll 에 params 리스트가 할당\r\n",
        "    params2 =[ ]\r\n",
        "    for i in list_url:            # for loop 문으로 위의 리스트의 값을 하나씩 가져온다\r\n",
        "        url = urllib.request.Request(i) \r\n",
        "        result = urllib.request.urlopen(url).read().decode(\"utf-8\") \r\n",
        "        soup = BeautifulSoup( result, \"html.parser\")\r\n",
        "                \r\n",
        "        result1 = soup.find_all( 'div', class_ = 'article_body mg fs4') \r\n",
        "        \r\n",
        "        for  i  in  result1:\r\n",
        "            params2.append( i.get_text(\" \", strip=True) )  \r\n",
        "        \r\n",
        "        return params2"
      ],
      "execution_count": 35,
      "outputs": []
    },
    {
      "cell_type": "markdown",
      "metadata": {
        "id": "XHj622deqGpW"
      },
      "source": [
        ""
      ]
    },
    {
      "cell_type": "markdown",
      "metadata": {
        "id": "7YICUVvSqGlF"
      },
      "source": [
        ""
      ]
    },
    {
      "cell_type": "markdown",
      "metadata": {
        "id": "-_HSiSjiqGhf"
      },
      "source": [
        "**■ 중앙일보의 기사를 스크롤링하는 내용 총정리**\r\n",
        "\r\n",
        "    1. 검색 키워드(예: 인공지능) 를 가지고 검색을 한 후 그 url 을 얻어낸다.\r\n",
        "    2. 상세기사 url 을 리스트에 담는 j_scroll() 함수를 생성한다.\r\n",
        "    3. 상세기사 url 로 기사본문을 스크롤링하는 j_detail_scroll() 함수를 생성한다.\r\n",
        "    4. j_detail_scroll() 함수 안에서 j_scroll() 함수를 호출해서 상세기사 url 여러개를 받아오도록 코딩하고 받아온 상세기사 url 로 본문 기사들을 params2 에 담도록 코드를 수정한다.\r\n"
      ]
    },
    {
      "cell_type": "markdown",
      "metadata": {
        "id": "aMjvEMboqNWC"
      },
      "source": [
        ""
      ]
    },
    {
      "cell_type": "markdown",
      "metadata": {
        "id": "8g1HM0vMqOwy"
      },
      "source": [
        ""
      ]
    },
    {
      "cell_type": "markdown",
      "metadata": {
        "id": "YN6do3XMqOi9"
      },
      "source": [
        "문제417. 동아일보에서 검색 키워드(예: 인공지능) 를 가지고 검색을 한 후 그 url 을 얻어낸다.\r\n"
      ]
    },
    {
      "cell_type": "markdown",
      "metadata": {
        "id": "uSI1u1TQqSHS"
      },
      "source": [
        "https://www.donga.com/news/search?p=1&query=%EC%9D%B8%EA%B3%B5%EC%A7%80%EB%8A%A5&check_news=1&more=1&sorting=1&search_date=1&v1=&v2=&range=1\r\n",
        "\r\n",
        "https://www.donga.com/news/search?p=16&query=%EC%9D%B8%EA%B3%B5%EC%A7%80%EB%8A%A5&check_news=1&more=1&sorting=1&search_date=1&v1=&v2=&range=1\r\n",
        "\r\n",
        "https://www.donga.com/news/search?p=31&query=%EC%9D%B8%EA%B3%B5%EC%A7%80%EB%8A%A5&check_news=1&more=1&sorting=1&search_date=1&v1=&v2=&range=1\r\n"
      ]
    },
    {
      "cell_type": "markdown",
      "metadata": {
        "id": "8wHW5kLmqTby"
      },
      "source": [
        ""
      ]
    },
    {
      "cell_type": "markdown",
      "metadata": {
        "id": "ipKhlIBJqTTK"
      },
      "source": [
        ""
      ]
    },
    {
      "cell_type": "markdown",
      "metadata": {
        "id": "I1EhkRr1qS-1"
      },
      "source": [
        "문제418. 상세기사 url 을 리스트에 담는 j_scroll() 함수를 생성한다.\r\n",
        "\r\n",
        "    <p class=\"txt\"><a href=\"https://www.donga.com/news/article/all/20201216/104475349/1\" target=\"_blank\">동원그룹 명예회장이 국내 <span class=\"highlight\">인공지능</span>(AI) 분야 인재 육성과 기술 발전을 위해 써달라며 카이스트(KAIST)에 사재 500억 원을 기부했다.동원그룹은 김재철 명예회장이 16일 카이스트 대전 본원 ...</a></p>\r\n"
      ]
    },
    {
      "cell_type": "code",
      "metadata": {
        "colab": {
          "base_uri": "https://localhost:8080/"
        },
        "id": "JuUD7r-vqR7i",
        "outputId": "b3e7c260-7a83-4d01-d4c2-f5110f51eae2"
      },
      "source": [
        "from  bs4  import  BeautifulSoup\r\n",
        "import  urllib.request\r\n",
        "\r\n",
        "def d_scroll():    # 상세기사 url 가져오는 함수\r\n",
        "    list_url = 'https://www.donga.com/news/search?p=1&query=%EC%9D%B8%EA%B3%B5%EC%A7%80%EB%8A%A5&check_news=1&more=1&sorting=1&search_date=1&v1=&v2=&range=1'\r\n",
        "    url = urllib.request.Request(list_url)\r\n",
        "    result = urllib.request.urlopen(url).read().decode(\"utf-8\")\r\n",
        "    soup = BeautifulSoup( result, \"html.parser\" )\r\n",
        "\r\n",
        "    result1 = soup.find_all( 'p', class_='txt')\r\n",
        "    \r\n",
        "    params = []\r\n",
        "    \r\n",
        "    for i in result1:  \r\n",
        "        for k in i:\r\n",
        "            params.append(k.get( 'href' ))\r\n",
        "            \r\n",
        "    return params\r\n",
        "\r\n",
        "print( d_scroll() )"
      ],
      "execution_count": 36,
      "outputs": [
        {
          "output_type": "stream",
          "text": [
            "['https://www.donga.com/news/article/all/20210211/105380070/1', 'https://www.donga.com/news/article/all/20210211/105380055/1', 'https://www.donga.com/news/article/all/20210211/105380042/1', 'https://www.donga.com/news/article/all/20210210/105378590/1', 'https://www.donga.com/news/article/all/20210210/105376919/1', 'https://www.donga.com/news/article/all/20210210/105375958/1', 'https://www.donga.com/news/article/all/20210210/105374789/1', 'https://www.donga.com/news/article/all/20210210/105372049/2', 'https://www.donga.com/news/article/all/20210210/105371940/1', 'https://www.donga.com/news/article/all/20210210/105370266/2', 'https://www.donga.com/news/article/all/20210210/105366959/2', 'https://www.donga.com/news/article/all/20210209/105364082/1', 'https://www.donga.com/news/article/all/20210210/105364582/1', 'https://www.donga.com/news/article/all/20210210/105364567/1', 'https://www.donga.com/news/article/all/20210209/105363914/1']\n"
          ],
          "name": "stdout"
        }
      ]
    },
    {
      "cell_type": "markdown",
      "metadata": {
        "id": "AmTMfTtJqaqF"
      },
      "source": [
        ""
      ]
    },
    {
      "cell_type": "markdown",
      "metadata": {
        "id": "SxJooGv2qake"
      },
      "source": [
        ""
      ]
    },
    {
      "cell_type": "markdown",
      "metadata": {
        "id": "NT34xB-eqaeC"
      },
      "source": [
        "문제419. 상세기사 url 로 기사본문을 스크롤링하는 j_detail_scroll() 함수를 생성한다.\r\n",
        "\r\n",
        "    <div class=\"article_txt\" style=\"font-size: 18px;\">\r\n",
        "            <strong class=\"sub_title\">김 명예회장 “카이스트 국내 AI 개발 속도 촉진 역할 기대”<br>\r\n",
        "    카이스트, ‘김재철 AI대학원’ 서울 이전 추진<br>"
      ]
    },
    {
      "cell_type": "code",
      "metadata": {
        "colab": {
          "base_uri": "https://localhost:8080/"
        },
        "id": "GJKozbB-qPpK",
        "outputId": "380fdccd-b589-4c0c-fa30-24379f245599"
      },
      "source": [
        "# 답:\r\n",
        "from  bs4  import  BeautifulSoup\r\n",
        "import  urllib.request\r\n",
        "\r\n",
        "def d_detail_scroll():    # 상세기사 url 하나 중에 본문내용 가져오는 함수\r\n",
        "    list_url = d_scroll()\r\n",
        "    params2 =[ ]\r\n",
        "    for i in list_url:\r\n",
        "        url = urllib.request.Request(i) \r\n",
        "        result = urllib.request.urlopen(url).read().decode(\"utf-8\") \r\n",
        "        soup = BeautifulSoup( result, \"html.parser\")\r\n",
        "                \r\n",
        "        result1 = soup.find_all( 'div', class_ = 'article_txt') \r\n",
        "        \r\n",
        "        for  i  in  result1:\r\n",
        "            params2.append( i.get_text(\" \", strip=True) )  \r\n",
        "        \r\n",
        "    return params2\r\n",
        "\r\n",
        "\r\n",
        "print( d_detail_scroll() )"
      ],
      "execution_count": 37,
      "outputs": [
        {
          "output_type": "stream",
          "text": [
            "[\"‘중동 카톡’ 개발한 하이퍼커넥트… 美상장사서 지분 100% 인수하기로 ‘배달의민족’ 이어 두번째 규모 안상일 대표, 대학때부터 창업 꿈… 10번 실패 딛고 글로벌 시장 개척 230개국서 1억명 이상 사용 크게보기 안상일 대표 ‘중동의 카카오톡’으로 불리는 동영상 채팅 애플리케이션(앱)을 개발한 토종 스타트업이 약 2조 원의 기업 가치를 인정받아 미국 나스닥 상장사에 팔린다. 국내 스타트업 중에선 2019년 독일 딜리버리히어로가 4조7500억 원에 인수한 우아한형제들(배달의민족)에 이어 두 번째로 큰 규모다. 10일 하이퍼커넥트는 나스닥 상장사 매치그룹(시가총액 47조 원)에 지분 100%를 17억2500만 달러(약 1조9330억 원)에 매각하기로 했다고 밝혔다. 매치그룹은 ‘틴더’ 등 글로벌 데이팅·소셜 앱 40여 개를 서비스하는 회사다. 인수 후에도 하이퍼커넥트의 독립경영 체제를 유지한다. 인수 절차는 공정거래위원회 심사를 거쳐 2분기(4∼6월) 내에 마무리될 예정이다. 하이퍼커넥트는 2014년 설립한 비디오·인공지능(AI) 기반 영상 기술 스타트업이다. 동영상 채팅 앱 ‘아자르’(스페인어로 우연이라는 뜻)와 스트리밍 서비스 ‘하쿠나라이브’로 유명하다. 특히 낯선 사람과 일대일 영상 대화를 할 수 있는 아자르는 230개 국가에서 19개 언어로 1억 명 이상이 사용할 정도로 폭발적인 인기를 끌고 있다. 해외 이용자가 99%를 차지한다. 통신 속도가 느리고 단말기 사양이 낮은 환경에서도 안정적으로 구동돼 중동에서 인기를 끌면서 ‘중동의 카카오톡’으로 불리기도 했다. 하이퍼커넥트는 2019년 1689억 원의 매출을, 지난해에는 상반기에만 1235억 원의 매출을 거뒀다. window.googletag = window.googletag || {cmd: []};\\r\\n          googletag.cmd.push(function() {\\r\\n            googletag.defineSlot('/1249652/Donga_OSV_Desktop_1x1', [1, 1], 'div-gpt-ad-1595277065244-0').addService(googletag.pubads());\\r\\n            googletag.pubads().enableSingleRequest();\\r\\n            googletag.pubads().collapseEmptyDivs();\\r\\n            googletag.enableServices();\\r\\n          }); googletag.cmd.push(function() { googletag.display('div-gpt-ad-1595277065244-0'); }); 이번 매각으로 동갑내기인 안상일 대표(40)와 정강식 최고기술책임자(CTO), 용현택 최고연구책임자(CRO) 등 공동창업자들은 각각 수천억 원의 수익을 얻게 될 것으로 보인다. 일부 임직원은 최대 340배의 스톡옵션(주식매수선택권)을 행사할 수 있게 됐다. 알토스벤처스와 소프트뱅크벤처스 등이 각각 22억 원, 100억 원을 투자했지만 지분 중 상당수는 공동창업자들이 보유한 것으로 알려져 있다. 주요기사 감사와 사랑, 존경의 가치 깨닫게 해 준 ‘환생’ 취재 100일 “조현옥 주재한 靑수석 인사간담회서 임원 단수후보 정해 통보” 서울대 재료공학부를 졸업한 안 대표는 서울대 창업동아리 회장 출신이다. 장병규 크래프톤 이사회 의장을 롤모델로 창업의 꿈을 키워왔다. 2007년 검색엔진 업체 레비서치를 창업했다가 1년 만에 접고 8억 원의 빚을 지기도 했다. 10번이나 창업해 모두 실패했지만 포기하지 않았다. 서울대 컴퓨터공학과 출신이자 창업동아리 동기인 정 CTO, 포스텍 컴퓨터공학과를 나온 병역특례업체 동기인 용 CRO와 하이퍼커넥트를 창업했다. 세계 최초로 구글의 웹실시간통신(RTC) 기술을 모바일에서도 사용 가능하도록 개발해 이를 기반으로 ‘아자르’를 만들어 글로벌 시장을 개척했다. 운도 따랐다. 뉴질랜드에 먼저 출시해 글로벌 시장 반응을 살피려 했는데 담당자의 실수로 전 세계에 출시한 것이 폭발적인 반응으로 이어진 것이다. 하이퍼커넥트는 지난해 초 라인(LINE)을 일본에 상장시키는 데 큰 역할을 했던 김상헌 전 네이버 대표를 고문으로 영입했다. 3000억 원가량을 투자받아 기업공개(IPO)를 계획한 것이다. 이때 매치그룹이 적극적으로 다가왔다. 매치그룹은 하이퍼커넥트의 동영상·오디오 기술에 관심을 가져온 것으로 알려졌다. 매치그룹의 주력 사업인 데이팅 앱 틴더는 영상통화 기능은 있지만 대부분의 서비스가 사진 중심이다. 하이퍼커넥트 관계자는 “수년 전부터 매치그룹이 관심을 보여 왔고, 지난해 상반기부터는 굉장히 적극적으로 다가왔다”며 “독립경영 체제를 유지하는 방식을 제안해 논의가 급진전됐다”고 했다. 김성모 기자 mo@donga.com 창닫기 기사를 추천 하셨습니다 K앱 또 ‘잭팟’… 영상채팅 ‘아자르’ 1조9000억에 매각 베스트 추천 뉴스 [김순덕의 도발]“대법원장 잘못 뽑으면…”이 가짜뉴스인가 최영미, 황희 저격…“이 정권서 출세하려면 부패 필수” 김명수 파문의 ‘예고편’, 4년 前 인사청문회[광화문에서/최우열] 법원 ‘靑과 낙하산 공모’ 인정… “이런 대대적 불법 사표 요구 처음” 이언주 “접대부 술판 우상호, 송영길, 김민석 물러나라” ‘최악 치닫는’ 韓日 관계에…美 “한국에 대한 기대 포기할수도” 압박 Copyright by dongA.com All rights reserved. $( document ).ready( function() {\\n            window.bestPopupObj = Popup( $( '#bestnews_layer' ), {\\n                    vertical: 'center',  /* top, bottom, center */\\n                    horizontal: 'center',  /* left, right, center */\\n                    //effect: 'slide',  /* clip slide blind */\\n                    //direction: 'left',   /* up, down, left, right */\\n                    duration: 300,\\n                    //scroll: true\\n                } ) ;\\n          }); #아자르 #영상채팅 #하이퍼커넥트 #안상일\", \"바퀴와 다리 달린 무인 ‘타이거’ 과학탐사-오지배송 등 활용 기대 AI기반 미래 모빌리티 개발 가속 현대자동차그룹이 개발한 모빌리티 로봇 타이거. 평지에서는 바퀴로 주행하다가(왼쪽 사진), 장애물이나 험지를 만나면 로봇 다리를 이용해 이동할 수 있다. 현대자동차그룹 제공 현대자동차그룹이 변신하는 지능형 지상 이동 로봇 ‘타이거(TIGER·Transforming Intelligent Ground Excursion Robot)’를 처음 공개했다. 모빌리티와 로보틱스 기술을 합친 신개념 미래 모빌리티 개발에 속도를 낸다는 계획이다. 10일 현대차그룹이 공식 유튜브 채널을 통해 공개한 타이거는 현대차그룹 산하 미래 모빌리티 담당 조직 ‘뉴 호라이즌스 스튜디오’가 내놓은 두 번째 작품이다. 첫 번째 작품이었던 걸어다니는 모빌리티 ‘엘리베이트’와 비슷한 구조를 갖췄지만 기능과 성능 면에서 한층 업그레이드됐다는 평가를 받는다. 타이거는 길이 약 80cm, 폭 약 40cm, 무게 약 12kg에 4개의 다리와 바퀴가 달린 소형 무인 모빌리티다. 바퀴와 다리를 이용해 험난한 지형도 자유롭게 이동할 수 있다. 전진과 후진뿐만 아니라 좌우로도 쉽게 방향을 전환할 수 있는 구조를 갖췄다. 기본적으로 바퀴를 이용해 다니지만 장애물이 있거나 바퀴로 갈 수 없는 곳은 로봇 다리로 보행할 수 있다. 평탄한 지형에서는 4륜구동 차량으로 변신해 속도를 내서 주행한다. 현대차그룹은 타이거를 △과학 탐사 및 연구 △긴급 보급품 수송 △오지로의 상품 배송 등 다목적 임무 수행 등에 활용할 것으로 기대하고 있다. 특히 차체 내부에 별도의 화물 적재 공간을 갖춰 물품을 보호할 수 있으며, 로봇 다리로 상시 수평을 유지할 수 있게 해 물품을 손상 없이 안전하게 운송할 수 있다. window.googletag = window.googletag || {cmd: []};\\r\\n          googletag.cmd.push(function() {\\r\\n            googletag.defineSlot('/1249652/Donga_OSV_Desktop_1x1', [1, 1], 'div-gpt-ad-1595277065244-0').addService(googletag.pubads());\\r\\n            googletag.pubads().enableSingleRequest();\\r\\n            googletag.pubads().collapseEmptyDivs();\\r\\n            googletag.enableServices();\\r\\n          }); googletag.cmd.push(function() { googletag.display('div-gpt-ad-1595277065244-0'); }); 뉴 호라이즌스 스튜디오는 타이거를 단독 개발이 아닌 오픈 이노베이션 방식으로 개발했다. 인공지능(AI) 기반의 엔지니어링 설계 기업 ‘오토데스크’, 콘셉트 디자인 전문 기업 ‘선드버그-페라’와 협업했다. 주요기사 감사와 사랑, 존경의 가치 깨닫게 해 준 ‘환생’ 취재 100일 “조현옥 주재한 靑수석 인사간담회서 임원 단수후보 정해 통보” 존 서 현대차그룹 뉴 호라이즌스 스튜디오 상무는 “타이거에 적용된 모빌리티 신기술은 현대차그룹이 나아갈 미래 방향성과 동력을 제공한다”며 “뉴 호라이즌스 스튜디오에서는 차량의 설계와 제조 방식 그리고 미래 모빌리티의 개념을 재정립할 수 있는 혁신을 끊임없이 공개하겠다”고 밝혔다. 변종국 기자 bjk@donga.com 기자페이지 바로가기 > 창닫기 기사를 추천 하셨습니다 평지선 주행, 험지선 보행… 현대차 ‘지능형 이동로봇’ 첫 공개 베스트 추천 뉴스 [김순덕의 도발]“대법원장 잘못 뽑으면…”이 가짜뉴스인가 최영미, 황희 저격…“이 정권서 출세하려면 부패 필수” 김명수 파문의 ‘예고편’, 4년 前 인사청문회[광화문에서/최우열] 법원 ‘靑과 낙하산 공모’ 인정… “이런 대대적 불법 사표 요구 처음” 이언주 “접대부 술판 우상호, 송영길, 김민석 물러나라” ‘최악 치닫는’ 韓日 관계에…美 “한국에 대한 기대 포기할수도” 압박 Copyright by dongA.com All rights reserved. $( document ).ready( function() {\\n            window.bestPopupObj = Popup( $( '#bestnews_layer' ), {\\n                    vertical: 'center',  /* top, bottom, center */\\n                    horizontal: 'center',  /* left, right, center */\\n                    //effect: 'slide',  /* clip slide blind */\\n                    //direction: 'left',   /* up, down, left, right */\\n                    duration: 300,\\n                    //scroll: true\\n                } ) ;\\n          }); #현대자동차 #모빌리티 로봇 #타이거\", \"‘버즈 프로’ 판매도 2배 수준으로 삼성전자의 최신 전략 스마트폰 갤럭시 S21의 출시 초기 판매량이 전작보다 30%가량 늘어난 것으로 나타났다. 10일 삼성전자에 따르면 지난달 29일부터 이달 8일까지 갤럭시 S21 시리즈의 국내 판매 실적을 집계한 결과 전작인 갤럭시 S20 시리즈의 출시 직후 같은 기간(11일) 판매보다 약 30% 증가했다. 갤럭시 S21은 한 달 이상 빠른 ‘조기 등판’에도 판매 호조를 이어가고 있다. 매년 2, 3월 갤럭시S 시리즈를 공개해 온 삼성전자는 올해 한 달가량 앞당긴 지난달 29일 조기 출시했다. 기존 갤럭시S 시리즈를 사용 중인 고객들의 약정 기간이 끝나는 3, 4월에는 수요가 더 늘어날 것이라는 전망이 나온다. window.googletag = window.googletag || {cmd: []};\\r\\n          googletag.cmd.push(function() {\\r\\n            googletag.defineSlot('/1249652/Donga_OSV_Desktop_1x1', [1, 1], 'div-gpt-ad-1595277065244-0').addService(googletag.pubads());\\r\\n            googletag.pubads().enableSingleRequest();\\r\\n            googletag.pubads().collapseEmptyDivs();\\r\\n            googletag.enableServices();\\r\\n          }); googletag.cmd.push(function() { googletag.display('div-gpt-ad-1595277065244-0'); }); 삼성전자 측에서는 차별화된 디자인과 인공지능(AI) 기술이 대폭 강화된 카메라가 탑재된 점 등이 초기 판매 호조를 이끈 것으로 분석했다. 또 갤럭시 S21 시리즈의 기본형인 갤럭시 S21이 5세대(5G) 플래그십 스마트폰 가운데 처음으로 100만 원 이하로 출시된 것도 한몫한 것으로 보고 있다. 기본형인 갤럭시 S21의 판매량이 전체 시리즈 판매량의 40%가량을 차지한다. 주요기사 감사와 사랑, 존경의 가치 깨닫게 해 준 ‘환생’ 취재 100일 “조현옥 주재한 靑수석 인사간담회서 임원 단수후보 정해 통보” 갤럭시S 시리즈와 함께 공개한 무선이어폰 ‘갤럭시 버즈 프로’의 판매도 전작 대비 2배 수준으로 늘어난 것으로 집계됐다. 홍석호 기자 will@donga.com 창닫기 기사를 추천 하셨습니다 갤럭시 S21 판매 호조… 전작보다 30% 늘어나 베스트 추천 뉴스 [김순덕의 도발]“대법원장 잘못 뽑으면…”이 가짜뉴스인가 최영미, 황희 저격…“이 정권서 출세하려면 부패 필수” 김명수 파문의 ‘예고편’, 4년 前 인사청문회[광화문에서/최우열] 법원 ‘靑과 낙하산 공모’ 인정… “이런 대대적 불법 사표 요구 처음” 이언주 “접대부 술판 우상호, 송영길, 김민석 물러나라” ‘최악 치닫는’ 韓日 관계에…美 “한국에 대한 기대 포기할수도” 압박 Copyright by dongA.com All rights reserved. $( document ).ready( function() {\\n            window.bestPopupObj = Popup( $( '#bestnews_layer' ), {\\n                    vertical: 'center',  /* top, bottom, center */\\n                    horizontal: 'center',  /* left, right, center */\\n                    //effect: 'slide',  /* clip slide blind */\\n                    //direction: 'left',   /* up, down, left, right */\\n                    duration: 300,\\n                    //scroll: true\\n                } ) ;\\n          }); #갤럭시 s21 #버즈 프로\", \"오늘날 기업들은 막대한 양의 데이터를 다루며, 그 규모 또한 그 어느 때보다 빠르게 확장되고 있다. 동시에 시장경쟁 지형도 급격히 바뀌면서, 이윤 추구를 목적으로 하는 조직에게는 신속한 판단과 의사결정이 더욱 중요하게 됐다. 활용 가능한 정보를 바탕으로 얼마나 신속, 정확하게 의사결정을 내리느냐에 사업의 성공 여부가 좌우되기 때문이다. 머신러닝(ML)은 이제 경쟁우위를 확보하려는 기업에게 반드시 필요한 기술이다. 막대한 양의 데이터를 빠른 속도로 처리할 수 있기 때문에, 기업/브랜드가 고객에게 좀더 적합한 상품을 추천하거나, 제조 기업이 공정 과정을 개선한다거나, 또는 시장 변화를 예측해 선제 대응할 수 있도록 지원할 수 있다. 머신러닝 기술을 서비스 형태로 이용할 수 있는 '서비스형 머신러닝(MLaaS, Machine Learning as a Service)'은, 사업적 맥락에서 고객에게 일관된 서비스를 지속 제공하는 머신러닝 모델을 설계, 구현하는 기업들로 정의될 수 있다. 특히, 고객 수요와 행동이 급변하는 영역에서 큰 역할을 수행할 수 있는데, 지난 해부터 이어지고 있는 코로나19 대유행이 대표적인 사례다. window.googletag = window.googletag || {cmd: []};\\r\\n          googletag.cmd.push(function() {\\r\\n            googletag.defineSlot('/1249652/Donga_OSV_Desktop_1x1', [1, 1], 'div-gpt-ad-1595277065244-0').addService(googletag.pubads());\\r\\n            googletag.pubads().enableSingleRequest();\\r\\n            googletag.pubads().collapseEmptyDivs();\\r\\n            googletag.enableServices();\\r\\n          }); googletag.cmd.push(function() { googletag.display('div-gpt-ad-1595277065244-0'); }); <제공=애피어> 코로나19의 영향으로 쇼핑, 업무, 사회 활동 방식이 크게 바뀌었으며, 그에 대응하기 위해 기업들은 빠르게 서비스 방식을 바꿔야 했다. 이는 곧, 데이터를 수집, 처리하는 데 이용하는 기술 또한 새로운 데이터 입력에 맞춰 유연하게 조정할 수 있어야 함을 의미한다. 그래야만 기업이 최선의 의사결정을 신속하게 내릴 수 있다. 주요기사 감사와 사랑, 존경의 가치 깨닫게 해 준 ‘환생’ 취재 100일 “조현옥 주재한 靑수석 인사간담회서 임원 단수후보 정해 통보” 그런데, 머신러닝 모델을 MLaaS로 전환하는 데 해결해야 할 난관이 하나 있다. 머신러닝 모델을 구축하고, 머신러닝 관련 인재들에게 이를 전달, 교육하는 방식과 관련된 문제다. 현재 대다수의 머신러닝 모델 연구/개발 작업은 특징과 레이블이 사전 부여된 일련의 훈련용 데이터(training data)를 활용하는 개별 모델을 구축해, 테스트용 데이터(test data)라는 다른 데이터 세트의 레이블을 가장 잘 예측하도록 만드는 데에 초점을 맞춘다. 그러나 늘 변화하는 고객 수요에 부응하려는 기업들의 실제 사례를 보면, 훈련용 데이터와 테스트용 데이터의 경계가 점점 모호해지고 있다. 테스트 또는 예측을 위해 현재 다루고 있는 데이터를 훈련용 데이터로 활용함으로써 향후 좀더 나은 모델을 기대할 수 있는 것이다. 결과적으로, 모델 훈련에 사용되는 데이터는 여러 이유로 불완전할 수밖에 없다. 현실의 데이터 소스가 불완전하거나 개방형 고객 설문조사처럼 비구조형 데이터가 될 수 있고, 편향된 수집 절차에서 발생했을 수도 있다. 예를 들어, 추천 모델 훈련에 사용될 데이터는 일반적으로, 현재 구동 중인 다른 온라인 추천 시스템의 피드백으로 얻은 결과에 토대를 두고 있어, 이 데이터는 해당 추천 서비스 모델에 의해 편향될 수 있다. 또한, 대개는 가장 중요하게 여기는 결과가 가장 평가하기 어렵다. 전자상거래 디지털 마케팅 분야를 예로 들면, 보편적인 고객의 제품 구매 단계는 '품목을 클릭하고, 확인하고, 장바구니에 담고, 구매하는 것'이다. 그러나 실제로는 이 단계가 그리 단순하지 않다. 고객들은 같은 품목을 다양한 기기에서 여러 번 확인하거나, 장바구니에 품목을 넣었다가 다시 뺄 수도 있고, 구매 자체를 갑자기 포기하곤 한다. 일반적으로 구매와 같이 퍼널(funnel), 즉 깔때기의 아래쪽에서 일어나는 활동은 깔때기 위쪽의 활동보다 유도하기가 훨씬 어렵다. 만약 MLaaS 모델이 클릭과 확인 수 같은 단순 지표에만 의존한다면, 마케팅 메시지 발송 시기 등의 추천 활동 또한 비즈니스 최종 목적과 일치하지 않게 된다. <제공=애피어> 끝으로, 머신러닝 서비스를 제공하는 B2B 인공지능 기업이라면 보통 수천 명, 또는 그 이상의 고객에게 여러 도메인에서 서비스를 제공해야 한다. 즉 최소한 수천 개의 모델이 온라인에서 지속적으로 구동되고 있다는 소리다. 끊임없이 변화하는 사업 방향에 이런 모델이 제대로 부응하려면, 매일 재훈련되거나 갱신되는 현실의 시나리오를 따라잡을 수 있어야 한다. 이를 달성하려면 자동 훈련 파이프라인을 설계해야 하는 것은 물론이고, 모델이 잘못된 로컬 최적 지점으로 수렴될 가능성을 0에 가깝게 낮춰야 한다. MLaaS 모델의 전반적인 안정성과 일관성을 보장하는 것이 무엇보다 중요하다. 분명 이는 어려운 일이고 많은 비용 투자와 연구, 실험 등이 요구되지만, 이를 통해 기업이 얻을 보상은 실로 막대하다. 변화하는 비즈니스 환경에 맞춰 선제 대응하며 시장 경쟁에서 앞서갈 원동력을 얻을 수 있기 때문이다. MLaaS 모델의 작동 원리, 효과, 도입 전후 문제점 등 모든 사항을 현실적으로 따져보고 각 기업에 적합한 형태로 활용할 수 있다면, 급변하는 세계 시장에서 결정적 경쟁력을 확보하게 될 것이다. 애피어 머신러닝 최고과학자 슈드 린(Shou-de Lin) 국립대만대학교 컴퓨터과학/정보공학 교수로 재직 중 2020년 애피어에 합류했다. 로스 알라모스 내셔널 랩에서 박사 학위 취득 후 연구원으로 근무한 바 있으며, 현재 애피어의 최고 머신러닝 과학자로서 인공지능 연구팀을 이끌며 첨단 머신러닝 기술의 연구 및 응용에 주력하고 있다. 정리 / 동아닷컴 IT전문 이문규 기자 (munch@donga.com) 창닫기 기사를 추천 하셨습니다 [기고] 서비스형 머신러닝(MLaaS) 시대의 기회와 도전과제 베스트 추천 뉴스 [김순덕의 도발]“대법원장 잘못 뽑으면…”이 가짜뉴스인가 최영미, 황희 저격…“이 정권서 출세하려면 부패 필수” 김명수 파문의 ‘예고편’, 4년 前 인사청문회[광화문에서/최우열] 법원 ‘靑과 낙하산 공모’ 인정… “이런 대대적 불법 사표 요구 처음” 이언주 “접대부 술판 우상호, 송영길, 김민석 물러나라” ‘최악 치닫는’ 韓日 관계에…美 “한국에 대한 기대 포기할수도” 압박 Copyright by dongA.com All rights reserved. $( document ).ready( function() {\\n            window.bestPopupObj = Popup( $( '#bestnews_layer' ), {\\n                    vertical: 'center',  /* top, bottom, center */\\n                    horizontal: 'center',  /* left, right, center */\\n                    //effect: 'slide',  /* clip slide blind */\\n                    //direction: 'left',   /* up, down, left, right */\\n                    duration: 300,\\n                    //scroll: true\\n                } ) ;\\n          });\", \"(하이퍼커넥트 제공) 2020.11.19 /뉴스1 ‘중동의 카카오톡’으로 불리는 동영상 채팅 애플리케이션(앱)을 개발한 토종 스타트업이 약 2조 원의 기업 가치를 인정받아 미국 나스닥 상장사에 팔린다. 국내 스타트업 중에선 2019년 독일 딜리버리히어로가 4조7500억 원에 인수한 우아한형제들(배달의민족)에 이어 두 번째로 큰 규모다. 10일 하이퍼커넥트는 미국 나스닥 상장사 매치그룹(시가총액 47조 원)에 지분 100%를 17억2500만 달러(약 1조9330억 원)에 매각하기로 했다고 밝혔다. 매치그룹은 ‘틴더’ 등 글로벌 데이팅·소셜 앱 40여 개를 서비스하는 회사다. 인수 후에도 하이퍼커넥트의 독립 경영체제를 유지한다. 인수 절차는 공정거래위원회 심사를 거쳐 2분기(4~6월) 내 마무리될 예정이다. 하이퍼커넥트는 서울대와 포스텍 출신들이 2014년 설립한 비디오·인공지능(AI) 기반 영상 기술 스타트업이다. 동영상 채팅 앱 ‘아자르’(스페인어로 우연이라는 뜻)와 스트리밍서비스 ‘하쿠나라이브’로 유명하다. 특히 낯선 사람과 1대1 영상 대화를 할 수 있는 아자르는 230개 국가에서 19개 언어로 1억 명 이상이 사용할 정도로 폭발적인 인기를 끌고 있다. 해외 이용자가 99%를 차지한다. 통신 속도가 느리고 단말기 사양이 낮은 환경에서도 안정적으로 구동돼 중동에서 인기를 끌면서 ‘중동의 카카오톡’이라고 불리기도 했다. 하이퍼커넥트는 2019년 1689억 원의 매출을, 지난해에는 상반기에만 1235억 원의 매출을 거뒀다. window.googletag = window.googletag || {cmd: []};\\r\\n          googletag.cmd.push(function() {\\r\\n            googletag.defineSlot('/1249652/Donga_OSV_Desktop_1x1', [1, 1], 'div-gpt-ad-1595277065244-0').addService(googletag.pubads());\\r\\n            googletag.pubads().enableSingleRequest();\\r\\n            googletag.pubads().collapseEmptyDivs();\\r\\n            googletag.enableServices();\\r\\n          }); googletag.cmd.push(function() { googletag.display('div-gpt-ad-1595277065244-0'); }); 이번 매각으로 동갑내기인 안상일 대표(40)와 정강식 최고기술책임자(CTO), 용현택 최고연구책임(CRO) 등 공동창업자들은 각각 수천억 원의 수익을 얻게 될 것으로 보인다. 일부 임직원은 최대 340배의 스톡옵션(주식매수선택권)을 행사할 수 있게 됐다. 알토스벤처스와 소프트뱅크벤처스 등이 각각 22억 원, 100억 원을 투자했지만 지분 중 상당수는 공동창업자들이 보유한 것으로 알려져 있다. 주요기사 감사와 사랑, 존경의 가치 깨닫게 해 준 ‘환생’ 취재 100일 “조현옥 주재한 靑수석 인사간담회서 임원 단수후보 정해 통보” 서울대 재료공학부 출신의 안 대표는 대학 입학 때부터 창업의 꿈을 키워왔다. 2007년 검색엔진 업체 레비서치를 창업했다가 1년 만에 접고 8억 원의 빚을 지기도 했다. 10번이나 창업에 실패했지만 포기하지 않았다. 대학 동기인 정 CTO, 병역특례업체 동기인 용 CRO와 하이퍼커넥트를 창업했다. 세계 최초로 구글의 웹실시간통신(RTC) 기술을 모바일에서도 사용 가능하도록 개발해 이를 기반으로 ‘아자르’를 만들어 글로벌 시장을 개척했다. 타깃 국가를 정하고, 현지 조사를 진행한 뒤 제품 출시와 마케팅을 하는 기존 해외 진출 방식에서 벗어나 앱을 해외에 오픈하고 반응이 있는 국가에 맞춰 서비스를 보완하는 방식을 적용했다. 하이퍼커넥트는 지난해 초 라인(LINE)을 일본에 상장시킨데 큰 역할을 했던 김상헌 전 네이버 대표를 고문으로 영입했다. 3000억 원 가량을 투자 받아 기업공개(IPO)를 계획한 것이다. 이때 매치그룹이 적극적으로 다가왔다. 매치그룹은 하이퍼커넥트의 동영상·오디오 기술에 관심을 가져온 것으로 알려졌다. 매치그룹의 주력 사업인 데이팅 앱 틴더는 영상통화 기능은 있지만 대부분의 서비스가 사진 중심이다. 하이퍼커넥트 관계자는 “수년 전부터 매치그룹이 관심을 보여 왔고, 지난해 상반기부터는 굉장히 적극적으로 다가왔다”며 “독립 경영 체제를 유지하는 방식을 제안해 논의가 급진전됐다”고 했다. 김성모 기자 mo@donga.com 창닫기 기사를 추천 하셨습니다 ‘중동의 카톡’ 만든 토종 스타트업, 美 매치그룹에 2조원에 팔려 베스트 추천 뉴스 [김순덕의 도발]“대법원장 잘못 뽑으면…”이 가짜뉴스인가 최영미, 황희 저격…“이 정권서 출세하려면 부패 필수” 김명수 파문의 ‘예고편’, 4년 前 인사청문회[광화문에서/최우열] 법원 ‘靑과 낙하산 공모’ 인정… “이런 대대적 불법 사표 요구 처음” 이언주 “접대부 술판 우상호, 송영길, 김민석 물러나라” ‘최악 치닫는’ 韓日 관계에…美 “한국에 대한 기대 포기할수도” 압박 Copyright by dongA.com All rights reserved. $( document ).ready( function() {\\n            window.bestPopupObj = Popup( $( '#bestnews_layer' ), {\\n                    vertical: 'center',  /* top, bottom, center */\\n                    horizontal: 'center',  /* left, right, center */\\n                    //effect: 'slide',  /* clip slide blind */\\n                    //direction: 'left',   /* up, down, left, right */\\n                    duration: 300,\\n                    //scroll: true\\n                } ) ;\\n          });\", \"현대자동차그룹이 공개한 걸어 다니는 무인 모빌리티 ‘타이거’. (현대차그룹 제공) © 뉴스1 현대자동차그룹이 변신하는 지능형 지상 이동 로봇 ‘타이거(Transforming Intelligent Ground Excursion Robot, TIGER)’를 처음 공개했다. 모빌리티와 로보틱스 기술을 합친 신개념 미래 모빌리티 개발에 속도를 낸다는 계획이다. 10일 현대차그룹이 공식 유튜브 채널을 통해 공개한 타이거는 현대차그룹 산하 미래 모빌리티 담당 조직 ‘뉴 호라이즌스 스튜디오’가 내놓은 2번째 작품이다. 첫 번째 작품이었던 걸어다니는 모빌리티 ‘엘리베이트’와 비슷한 구조를 갖췄지만, 기능과 성능 면에서 한 층 업그레이드 됐다는 평가를 받는다. 타이거는 길이 약 80cm, 폭 약 40cm, 무게 약 12kg에 4개의 다리와 바퀴가 달린 소형 무인 모빌리티다. 바퀴와 다리를 이용해 험난한 지형도 자유롭게 이동할 수 있다. 전진과 후진뿐 아니라 좌우로도 쉽게 방향을 전환할 수 있는 구조를 갖췄다. 기본적으로 바퀴를 이용해 다니지만, 장애물이 있거나 바퀴로 갈 수 없는 곳은 로봇 다리로 보행 할 수 있다. 평탄한 지형에서는 4륜구동 차량으로 변신해 속도를 내서 주행한다. 현대자동차그룹이 공개한 걸어 다니는 무인 모빌리티 ‘타이거’. (현대차그룹 제공)  © 뉴스1 현대차그룹은 타이거를 △과학 탐사 및 연구 △긴급 보급품 수송 △오지로의 상품 배송 등 다목적 임무 수행 등에 활용할 것으로 기대하고 있다. 특히 차체 내부에 별도의 화물 적재 공간을 갖춰서 물품을 보호할 수 있으며, 로봇 다리로 상시 수평을 유지할 수 있게 해 물품을 손상 없이 안전하게 운송할 수 있다. window.googletag = window.googletag || {cmd: []};\\r\\n          googletag.cmd.push(function() {\\r\\n            googletag.defineSlot('/1249652/Donga_OSV_Desktop_1x1', [1, 1], 'div-gpt-ad-1595277065244-0').addService(googletag.pubads());\\r\\n            googletag.pubads().enableSingleRequest();\\r\\n            googletag.pubads().collapseEmptyDivs();\\r\\n            googletag.enableServices();\\r\\n          }); googletag.cmd.push(function() { googletag.display('div-gpt-ad-1595277065244-0'); }); 뉴 호라이즌스 스튜디오는 타이거를 단독 개발이 아닌 오픈 이노베이션 방식으로 개발했다. 인공지능(AI) 기반의 엔지니어링 설계 기업 ‘오토데스크(Autodesk)’, 콘셉트 디자인 전문 기업 ‘선드버그-페라(Sundberg-Ferar)’와 협업했다. 주요기사 감사와 사랑, 존경의 가치 깨닫게 해 준 ‘환생’ 취재 100일 “조현옥 주재한 靑수석 인사간담회서 임원 단수후보 정해 통보” 존 서 현대차그룹 뉴 호라이즌스 스튜디오 상무는 “타이거와에 적용된 모빌리티 신기술은 현대차그룹이 나아갈 미래 방향성과 동력을 제공한다”며 “뉴 호라이즌스 스튜디오에서는 차량의 설계와 제조 방식 그리고 미래 모빌리티의 개념을 재정립할 수 있는 혁신을 끊임없이 공개하겠다”고 밝혔다. 변종국기자 bjk@donga.com 기자페이지 바로가기 > 창닫기 기사를 추천 하셨습니다 4개 바퀴·다리로 험지도 자유롭게…현대차, 무인 모빌리티 ‘타이거’ 공개 베스트 추천 뉴스 [김순덕의 도발]“대법원장 잘못 뽑으면…”이 가짜뉴스인가 최영미, 황희 저격…“이 정권서 출세하려면 부패 필수” 김명수 파문의 ‘예고편’, 4년 前 인사청문회[광화문에서/최우열] 법원 ‘靑과 낙하산 공모’ 인정… “이런 대대적 불법 사표 요구 처음” 이언주 “접대부 술판 우상호, 송영길, 김민석 물러나라” ‘최악 치닫는’ 韓日 관계에…美 “한국에 대한 기대 포기할수도” 압박 Copyright by dongA.com All rights reserved. $( document ).ready( function() {\\n            window.bestPopupObj = Popup( $( '#bestnews_layer' ), {\\n                    vertical: 'center',  /* top, bottom, center */\\n                    horizontal: 'center',  /* left, right, center */\\n                    //effect: 'slide',  /* clip slide blind */\\n                    //direction: 'left',   /* up, down, left, right */\\n                    duration: 300,\\n                    //scroll: true\\n                } ) ;\\n          });\", \"인천 재능대는 학생진로상담 멘토 초빙 및 멘토링 자문, 멘토링 지도 특강 및 프로그램 개발 등을 위해 한국멘토교육협회와 상호 협력 및 교류를 위한 업무협약(MOU)을 체결했다고 10일 밝혔다. 2015년 출범한 한국멘토교육협회는 고용노동부 산하 비영리 단체로 사회에 영향력을 가진 존경받는 멘토 1004명을 선정해 차세대 지도자 육성 사업을 펼치고 있다. 청소년들을 대상으로 재능나눔 강연, 멘토지도자 워크숍 및 멘토지도자 교육 과정을 진행하고 있다. 재능대는 인공지능 및 바이오학과를 특화하고 있으며 재학생 잠재력을 끌어올리는 전담조직인 학생상담인권센터를 운영하고 있다. 이 센터는 심리검사, 진로상담 서비스를 실시하고 있다. 권대봉 재능대 총장은 “멘토의 진로 지도를 통해 학생들의 창의력을 무한대로 신장시킬 수 있기 때문에 한국멘토교육협회와 진로상담 멘토링 혁신을 추진하기로 했다”고 말했다. window.googletag = window.googletag || {cmd: []};\\r\\n          googletag.cmd.push(function() {\\r\\n            googletag.defineSlot('/1249652/Donga_OSV_Desktop_1x1', [1, 1], 'div-gpt-ad-1595277065244-0').addService(googletag.pubads());\\r\\n            googletag.pubads().enableSingleRequest();\\r\\n            googletag.pubads().collapseEmptyDivs();\\r\\n            googletag.enableServices();\\r\\n          }); googletag.cmd.push(function() { googletag.display('div-gpt-ad-1595277065244-0'); }); 박희제기자 min07@donga.com 주요기사 감사와 사랑, 존경의 가치 깨닫게 해 준 ‘환생’ 취재 100일 “조현옥 주재한 靑수석 인사간담회서 임원 단수후보 정해 통보” 창닫기 기사를 추천 하셨습니다 인천 재능대, 한국멘토교육협회와 MOU 체결…‘진로상담 멘토링 혁신 추진’ 베스트 추천 뉴스 [김순덕의 도발]“대법원장 잘못 뽑으면…”이 가짜뉴스인가 최영미, 황희 저격…“이 정권서 출세하려면 부패 필수” 김명수 파문의 ‘예고편’, 4년 前 인사청문회[광화문에서/최우열] 법원 ‘靑과 낙하산 공모’ 인정… “이런 대대적 불법 사표 요구 처음” 이언주 “접대부 술판 우상호, 송영길, 김민석 물러나라” ‘최악 치닫는’ 韓日 관계에…美 “한국에 대한 기대 포기할수도” 압박 Copyright by dongA.com All rights reserved. $( document ).ready( function() {\\n            window.bestPopupObj = Popup( $( '#bestnews_layer' ), {\\n                    vertical: 'center',  /* top, bottom, center */\\n                    horizontal: 'center',  /* left, right, center */\\n                    //effect: 'slide',  /* clip slide blind */\\n                    //direction: 'left',   /* up, down, left, right */\\n                    duration: 300,\\n                    //scroll: true\\n                } ) ;\\n          });\", \"인공지능(AI) 전문기업 솔트룩스는 인공지능 및 빅데이터 산업의 생태계 조성을 위해 ‘솔트룩스벤처스(대표 고병학)’를 설립했다고 10일 밝혔다. 솔트룩스에 따르면 작년 7월 코스닥 상장 전후로 AI 생태계 조성을 위해 파트너십 강화 및 인공지능 기술 융합을 통한 신사업 추진을 목표로 11개 기업에 직접 투자를 진행해왔다. 그 중 하이퍼센스가 2020년 11월 미국의 게임개발사 에픽게임즈에 인수되었고, 2개 회사는 상장을 준비 중이다. 투자 관계사의 사업 분야는 ‘AI데이터, 자율주행, AR(증강 현실)/VR(가상 현실), RPA(로봇 프로세스 자동화), 음성인식, 바이오 유전체, 법률’ 등이며 솔트룩스 AI 기술과 융합을 통해 해당 분야의 신사업을 추진 중이다. 솔트룩스는 솔트룩스벤처스에 대한 지분율이 74.07%이며 자사에 투자한 주주사가 전략적 투자자로 합류했다고 전했다. 주요 투자 대상은 ▲인공지능 ▲빅데이터 ▲모빌리티 ▲바이오 ▲소재 등이며 4차산업 생태계 조성, M&A 등 신 성장 동력 확보를 통해 솔트룩스 및 투자자들의 가치를 증진할 계획이며, 또한 자사의 데이터와 인공지능 플랫폼을 결합해서 투자한 회사들의 성장을 적극적으로 지원할 계획이라고 설명했다. window.googletag = window.googletag || {cmd: []};\\r\\n          googletag.cmd.push(function() {\\r\\n            googletag.defineSlot('/1249652/Donga_OSV_Desktop_1x1', [1, 1], 'div-gpt-ad-1595277065244-0').addService(googletag.pubads());\\r\\n            googletag.pubads().enableSingleRequest();\\r\\n            googletag.pubads().collapseEmptyDivs();\\r\\n            googletag.enableServices();\\r\\n          }); googletag.cmd.push(function() { googletag.display('div-gpt-ad-1595277065244-0'); }); 솔트룩스벤처스 고병학 대표는 “인공지능 분야의 선두기업인 솔트룩스에 합류하게 되어 매우 기쁘게 생각한다”라며 “솔트룩스벤처스는 주요 주주사 및 관계사 네트워크와 적극적으로 협력하고 투자 펀드 및 본 계정 투자를 통해 2026년까지 총 관리자산 3000억 원 이상 달성을 목표로 한다. 투명한 경영관리와 안정적인 투자 시스템을 구축해 주주사와 동반 성장할 뿐만 아니라 신기술금융사로 발전해 나가겠다”고 포부를 밝혔다. 주요기사 감사와 사랑, 존경의 가치 깨닫게 해 준 ‘환생’ 취재 100일 “조현옥 주재한 靑수석 인사간담회서 임원 단수후보 정해 통보” 박해식 동아닷컴 기자 pistols@donga.com 창닫기 기사를 추천 하셨습니다 솔트룩스 “AI 산업 생태계 조성 위해 ‘솔트룩스벤처스’ 설립” 베스트 추천 뉴스 [김순덕의 도발]“대법원장 잘못 뽑으면…”이 가짜뉴스인가 최영미, 황희 저격…“이 정권서 출세하려면 부패 필수” 김명수 파문의 ‘예고편’, 4년 前 인사청문회[광화문에서/최우열] 법원 ‘靑과 낙하산 공모’ 인정… “이런 대대적 불법 사표 요구 처음” 이언주 “접대부 술판 우상호, 송영길, 김민석 물러나라” ‘최악 치닫는’ 韓日 관계에…美 “한국에 대한 기대 포기할수도” 압박 Copyright by dongA.com All rights reserved. $( document ).ready( function() {\\n            window.bestPopupObj = Popup( $( '#bestnews_layer' ), {\\n                    vertical: 'center',  /* top, bottom, center */\\n                    horizontal: 'center',  /* left, right, center */\\n                    //effect: 'slide',  /* clip slide blind */\\n                    //direction: 'left',   /* up, down, left, right */\\n                    duration: 300,\\n                    //scroll: true\\n                } ) ;\\n          });\", \"지난해 12월 초 중국 국가신문출판 광전총국은 컴투스 '서머너즈 워'의 모바일 게임 판호를 발급해 게임 시장을 깜짝 놀라게 했다. 사드 사건으로 급격히 냉각됐던 한중 관계로 인해 막혀 있던 한국 게임의 중국 진출 길이 다시 열린 것이다. 서머너즈워 이후로 한국 게임이 추가로 판호를 획득했다는 소식이 들려오지는 않고 있지만, 4년여 동안 아예 막혀 있었던 길이 다시 열릴 수도 있다는 기대감을 준 것만으로도 한국 게임업계가 들썩이고 있다. 4년여만에 판호를 획득해 화제가 된 서머너즈워 (출처=게임동아) 시장 조사 업체 뉴주(Newzoo)의 발표에 따르면 2020년 전 세계 게임 시장은 코로나19 여파로 인해 게임 인구가 증가하면서 1,749억 달러로 동기 대비 20% 이상 성장한 것으로 분석되고 있다. 중국 게임 시장은 2020년에 2,786억8,700만 위안으로 2019년 대비 478억1,000만 위안, 20.71% 증가했다. 이 경우 중국의 세계 게임 시장 점유율은 24.6%로 미국을 약간 앞서며 세계 게임 시장 1위로 올라설 것으로 예상되고 있으며, 2024년에는 4000억 위안으로 증가해 미국 시장과 격차를 더욱 벌릴 수도 있다는 예상까지 나오고 있다. window.googletag = window.googletag || {cmd: []};\\r\\n          googletag.cmd.push(function() {\\r\\n            googletag.defineSlot('/1249652/Donga_OSV_Desktop_1x1', [1, 1], 'div-gpt-ad-1595277065244-0').addService(googletag.pubads());\\r\\n            googletag.pubads().enableSingleRequest();\\r\\n            googletag.pubads().collapseEmptyDivs();\\r\\n            googletag.enableServices();\\r\\n          }); googletag.cmd.push(function() { googletag.display('div-gpt-ad-1595277065244-0'); }); 전세계에서 가장 경쟁이 치열한 시장이자, 글로벌 시장까지 점령하고 있는 중국산 대작 게임들이 즐비한 그곳에서 한국 게임이 다시 과거 온라인 게임 시장의 영광을 다시 재현한다는 것은 쉬운 일이 아니다. 하지만, 오랜만에 찾아온 기회를 잡을 수만 있다면 던전앤파이터를 보유한 넥슨이나, 크로스파이어를 보유한 스마일게이트처럼 회사의 미래가 바뀔 수도 있다. 주요기사 감사와 사랑, 존경의 가치 깨닫게 해 준 ‘환생’ 취재 100일 “조현옥 주재한 靑수석 인사간담회서 임원 단수후보 정해 통보” 이렇게 중국 게임 시장에 대한 기대가 커지고 있다보니, 중국 시장 진출을 위한 파트너로 누구를 선택해야 할지에 대한 고민도 많아지고 있다. 텐센트, 넷이즈 등 한국에도 잘 알려진 전통적인 대형 게임 퍼블리셔들도 있지만, 바이트댄스처럼 새롭게 급부상 중인 신예들도 있기 때문이다. 틱톡으로 유명한 바이트댄스 (출처=게임동아) 새롭게 부상하는 회사 중 하나인 바이트댄스는 모바일과 인공지능의 결합으로 화제가 된 대표적인 중국 IT 기업으로, 숏폼 영상 플랫폼 더우인과 인공지능을 활용한 맞춤형 뉴스 클리핑 서비스 진르터우탸오로 폭발적인 성장을 보여주고 있다. 중국 서비스명이라 생소하게 들리겠지만, 더우인의 해외 서비스명이 전세계를 강타한 바로 그 ‘틱톡’이다. 바이트댄스와 손잡고 성과를 낸 라그나로크 X 넥스트 제너레이션 (출처=게임동아) IT 서비스가 주력인 만큼 게임 서비스와는 관련성이 부족하다고 느껴질 수도 있으나, 계열사를 통해 이미 게임 사업도 적극적으로 추진 중이다. 바이트댄스 산하 중급 배급 플랫폼인 누버스는 더드림(上海骏梦)과 그라비티가 공동 개발한 모바일 게임 '라그나로크 X: 넥스트 제너레이션'의 퍼블리싱을 맡아 지난해 10월 중순 출시했으며, 홍콩, 마카오, 대만 iOS 인기 순위에서 여러 차례 1위에 오르고, 오랜 기간 동안 3위를 유지해 많은 관심을 모았다. 지난해 말 틱톡에서 폭발적인 관심을 받은 뮤즈대시도 바이트댄스의 대표적인 성공 사례다. 뮤즈대시는 2018년에 출시될 때만 해도 별다른 주목을 받지 못하는 게임이었지만, 틱톡에서 'Phut Hon'이라는 노래의 멜로디가 갑자기 큰 인기를 끌면서 같은 멜로디를 사용하는 '뮤즈대쉬'가 다시 화제가 돼, iOS 게임 유료 차트, 탭탭(TapTap) 인기차트와 핫 차트 1위에 올랐다. 틱톡의 파급력을 실감할 수 있게 만든 결과다. 틱톡 열풍 덕분에 새로운 기회를 얻은 뮤즈대시 (출처=게임동아) 2020 중국 인터넷 시청 발전 연구 보고서에 따르면 숏폼 영상 이용자 규모는 8억1,800만명으로, 중국 네티즌 10명 중 9명이 이를 사용 중이기 때문에, 새로운 광고 플랫폼으로 급부상 중이다. 모바일 게임과 숏폼 영상을 동시에 사용하는 이용자가 82.5%에 달한다는 조사 결과도 있다. 바이트댄스는 중국의 숏폼 영상 분야에서 압도적으로 1위를 차지하고 있는 덕분에, 포트나이트, 명일방주, 꿈의 집 등 세계적인 인기 게임들의 광고가 집중되고 있다. 또한, 원신으로 전세계에서 주목받고 있는 미호요 역시 주목받는 신예라고 할 수 있다. 미호요는 바이트댄스의 틱톡처럼 특별한 플랫폼을 보유하고 있는 것은 아니지만, 한국에서 여러 게임을 성공시키면서 노하우를 쌓아, 한국 게임 시장과 중국 게임 시장에 대한 이해도가 대단히 높다는 점이 강점이다. 중국 유명 기업 알리바바 역시 작년에 클라우드 게임 사업을 시작한 것으로 알려졌다. 텐센트, 넷이즈 등 인기 게임을 다수 보유한 대형 퍼블리셔들도 여전히 게임 시장을 주도하고 있기는 하다. 3N 등 국내 시장을 주도하고 있는 대형 게임사들 다수가 오래전부터 이들과 계약하고, 판호가 나오기를 지금까지 기다리고 있다. 한국 게임 판호 발급이 본격적으로 재개되면 예전에 그랬던 것처럼 압도적인 자금력을 동원해 한국 상위 게임을 싹쓸이할 수도 있다. 검은사막 모바일 등 다수의 한국 게임이 중국 판호 발급을 기대하고 있다 (출처=게임동아) 실제로 텐센트는 리니지2레볼루션, 검은사막 모바일 등 한국에서 이미 성과를 거둔 모바일MMORPG를 다수 계약한 상태이며, 크래프톤, 넷마블, 카카오게임즈를 비롯해, 지난해 로한M으로 돌풍을 일으킨 엔엑스쓰리게임즈의 지분까지 확보하는 등 공격적인 투자를 이어가고 있다. 물론, 서머너즈워 이후 약 3개월간 여전히 한국 게임 추가 판호 획득 소식이 들려오지 않고 있는 만큼, 중국 진출길이 완벽히 다시 열렸다고 낙관할 상황은 아니다. 다만, 아예 불가능했던 상황에서 어느 정도 가능성을 기대해볼 수 있게 됐다는 것은 분명한 사실이며, 무려 4년간이나 막혀 있었다보니 시장 분위기가 예전과 완전히 달라져, 한국 게임사, 그리고 중국 퍼블리셔 모두 동등한 입장에서 새출발을 하게 됐다고 볼 수 있다. 한국 판호 발급이 본격적으로 재개되면 어떤 이들이 기회를 잡아 새로운 도약을 이끌어낼 수 있을지 관심이 집중된다. 동아닷컴 게임전문 조광민 기자 jgm21@donga.com 창닫기 기사를 추천 하셨습니다 판호 기대감 커지는 중국 시장, 바이트댄스 등 신규 파트너 관심 베스트 추천 뉴스 [김순덕의 도발]“대법원장 잘못 뽑으면…”이 가짜뉴스인가 최영미, 황희 저격…“이 정권서 출세하려면 부패 필수” 김명수 파문의 ‘예고편’, 4년 前 인사청문회[광화문에서/최우열] 법원 ‘靑과 낙하산 공모’ 인정… “이런 대대적 불법 사표 요구 처음” 이언주 “접대부 술판 우상호, 송영길, 김민석 물러나라” ‘최악 치닫는’ 韓日 관계에…美 “한국에 대한 기대 포기할수도” 압박 Copyright by dongA.com All rights reserved. $( document ).ready( function() {\\n            window.bestPopupObj = Popup( $( '#bestnews_layer' ), {\\n                    vertical: 'center',  /* top, bottom, center */\\n                    horizontal: 'center',  /* left, right, center */\\n                    //effect: 'slide',  /* clip slide blind */\\n                    //direction: 'left',   /* up, down, left, right */\\n                    duration: 300,\\n                    //scroll: true\\n                } ) ;\\n          });\", \"하이퍼커넥트의 영상 메신저 앱 ‘아자르’. 하이퍼커넥트 제공 국내 스타트업 하이퍼커넥트가 미국 나스닥 상장사 매치 그룹(Match Group)에 약 2조 원에 인수됐다. 하이퍼커넥트는 10일 매치 그룹이 자사 지분 100%를 17억 2500만 달러(약 1조 9330억 원)에 인수하기로 합의했다고 밝혔다. 이번 인수는 2019년 배달의 민족 운영사 우아한형제들이 독일계 글로벌 기업 딜리버리히어로에 40억 달러(약 4조 7500억 원)에 매각된 데 이어 두 번째 규모다. window.googletag = window.googletag || {cmd: []};\\r\\n          googletag.cmd.push(function() {\\r\\n            googletag.defineSlot('/1249652/Donga_OSV_Desktop_1x1', [1, 1], 'div-gpt-ad-1595277065244-0').addService(googletag.pubads());\\r\\n            googletag.pubads().enableSingleRequest();\\r\\n            googletag.pubads().collapseEmptyDivs();\\r\\n            googletag.enableServices();\\r\\n          }); googletag.cmd.push(function() { googletag.display('div-gpt-ad-1595277065244-0'); }); 매치 그룹은 세계 최대 데이팅 앱 ‘틴더’를 포함해 40여 개 소셜네트워크 앱을 운영 중인 기업이다. 시가총액은 약 47조 원에 달한다. 주요기사 감사와 사랑, 존경의 가치 깨닫게 해 준 ‘환생’ 취재 100일 “조현옥 주재한 靑수석 인사간담회서 임원 단수후보 정해 통보” 하이퍼커넥트는 비디오 및 인공지능(AI) 기반 영상 기술 기업이다. 서울대와 포스텍 출신들이 모여 2014년 설립했다. 이 회사가 만든 영상 메신저 앱 ‘아자르’는 무작위로 선택된 모르는 사람과 1대 1로 영상 채팅을 하는 앱이다. 230개국에서 19개 언어로 서비스되고 있으며 글로벌 이용자 비중이 99%에 이른다. 누적 다운로드도 5억 4000만 건을 넘어섰다. 특히 중동, 유럽, 인도 등의 지역에서 인기가 많다. 이번 인수는 아시아 시장 진입을 노리고 있던 매치그룹과 북미 시장을 공략하던 하이퍼커넥트 양사의 요구가 맞아떨어진 것으로 분석됐다. 하이퍼커넥트는 글로벌 소셜네트워크 디스커버리 시장의 경쟁이 격화되는 환경에서 이번 인수를 계기로 북미, 일본 등 빅마켓 공략과 함께 더 큰 규모의 글로벌 성장을 기대하고 있다고 밝혔다. 또한 최근 북미에 출시한 영상 기반 소셜디스커버리 데이팅 앱 ‘슬라이드’의 성공적인 안착도 앞당겨지리라 전망했다. 매치 그룹 샤르 듀베이 최고경영자(CEO)는 “온라인에서 점점 더 많은 시간을 보내면서 사람들은 더 풍부하고 깊이 있는 경험을 원한다”며 “하이퍼커넥트의 라이브 영상 및 오디오 기술은 글로벌 이용자들이 새로운 사람, 새로운 문화와 연결될 수 있는 강력한 수단을 제공한다”고 평가했다. 그는 “하이퍼커넥트의 기술을 매치 그룹 서비스들에 적용하는 등 다양한 시너지 효과를 창출하고 하이퍼커넥트의 혁신 기술에 대한 투자도 적극적으로 지원해 나갈 것”이라고 설명했다. 하이퍼커넥트 안상일 대표는 “매치 그룹은 신뢰받는 브랜드를 통해 전 세계 이용자를 ‘연결’하는 것을 목표로 하고 있으며, 이는 하이퍼커넥트의 철학과도 궤를 같이한다”며 “작은 스타트업도 혁신 기술만 있다면 글로벌에서 사업 기회를 만들 수 있다는 것을 하이퍼커넥트가 증명해내고, 기술의 가치를 소중히 여기는 매치 그룹을 파트너로 맞이하게 돼 기쁘다”고 전했다. 하이퍼커넥트는 인수 이후에도 독립적인 경영 체제를 이어간다고 밝혔다. 김혜린 동아닷컴 기자 sinnala8@donga.com 창닫기 기사를 추천 하셨습니다 韓 스타트업 2조 잭팟…세계최대 美데이팅앱에 팔려 베스트 추천 뉴스 [김순덕의 도발]“대법원장 잘못 뽑으면…”이 가짜뉴스인가 최영미, 황희 저격…“이 정권서 출세하려면 부패 필수” 김명수 파문의 ‘예고편’, 4년 前 인사청문회[광화문에서/최우열] 법원 ‘靑과 낙하산 공모’ 인정… “이런 대대적 불법 사표 요구 처음” 이언주 “접대부 술판 우상호, 송영길, 김민석 물러나라” ‘최악 치닫는’ 韓日 관계에…美 “한국에 대한 기대 포기할수도” 압박 Copyright by dongA.com All rights reserved. $( document ).ready( function() {\\n            window.bestPopupObj = Popup( $( '#bestnews_layer' ), {\\n                    vertical: 'center',  /* top, bottom, center */\\n                    horizontal: 'center',  /* left, right, center */\\n                    //effect: 'slide',  /* clip slide blind */\\n                    //direction: 'left',   /* up, down, left, right */\\n                    duration: 300,\\n                    //scroll: true\\n                } ) ;\\n          });\", \"현대자동차그룹이 걸어다니는 무인 모빌리티 ‘타이거’를 처음 공개했다. 타이거는 과학 탐사나 응급 구조용품 운송, 오지 상품 배송 등 험한 지형에서 안전한 이동을 수행하게 된다. 현대차그룹은 10일 변신하는 지능형 지상 이동 로봇(타이거)’을 유튜브 채널을 통해 선보이고, 이동의 한계를 뛰어넘는 신개념 미래 모빌리티 개발 성과를 공유했다. 현대차그룹 산하의 미래 모빌리티 담당 조직 ‘뉴 호라이즌스 스튜디오’에서 개발한 타이거는 2019년 CES에서 처음 공개했던 걸어다니는 모빌리티 ‘엘리베이트’와 유사한 모듈형 플랫폼 구조를 갖췄다. 이번에 공개된 타이거의 첫 번째 콘셉트 모델은 ‘X-1’으로 명명됐으며, 여기서 ‘X’는 ‘실험용’을 의미한다. window.googletag = window.googletag || {cmd: []};\\r\\n          googletag.cmd.push(function() {\\r\\n            googletag.defineSlot('/1249652/Donga_OSV_Desktop_1x1', [1, 1], 'div-gpt-ad-1595277065244-0').addService(googletag.pubads());\\r\\n            googletag.pubads().enableSingleRequest();\\r\\n            googletag.pubads().collapseEmptyDivs();\\r\\n            googletag.enableServices();\\r\\n          }); googletag.cmd.push(function() { googletag.display('div-gpt-ad-1595277065244-0'); }); 타이거는 길이 약 80cm, 폭 약 40cm, 무게 약 12kg에 4개 다리와 바퀴가 달린 소형 무인 모빌리티로 성능이 뛰어난 오프로드 차량도 갈 수 없는 험난한 지형까지 지능형 로봇 기술과 바퀴를 결합해 자유로이 이동할 수 있다. 타이거 차체는 ▲다양한 센서를 활용한 과학 탐사 및 연구 ▲응급 구조시 긴급 보급품 수송 ▲오지로의 상품 배송 등 일반 차량으로는 어려운 다목적 임무 수행에 적합하게 설계됐다. 전진과 후진뿐만 아니라 좌우로도 쉽게 방향을 전환할 수 있는 ‘대칭적인 디자인’ 구조를 갖췄다. 장애물이 있거나 바퀴를 이용해 지나기 힘든 지형을 통과해야 할 때는 로봇 다리의 보행 능력을 이용하고, 평탄한 지형에서는 4륜구동 차량으로 변신해 속도를 내서 주행할 수 있다. 주요기사 감사와 사랑, 존경의 가치 깨닫게 해 준 ‘환생’ 취재 100일 “조현옥 주재한 靑수석 인사간담회서 임원 단수후보 정해 통보” 또한 차체 내부에는 별도의 화물 적재실을 갖춰 물품 보호기능을 강화했다. 로봇 다리로 상시 수평 유지가 가능해 험로와 극지 등 노면 상태가 불규칙한 공간에서도 물품을 안전하게 운송할 수 있다. 뉴 호라이즌스 스튜디오는 타이거를 오픈 이노베이션 방식으로 개발하기 위해 인공지능 기반 엔지니어링 설계 분야의 선두 기업 ‘오토데스크’, 콘셉트 디자인 전문 기업 ‘선드버그-페라’와도 긴밀히 협업했다. 오토데스크와는 AI 기반의 ‘제너레이티브 디자인’ 기술로 타이거 다리, 휠, 섀시, 타이어까지 가볍고 견고한 3D 프린팅 제조가 가능하도록 설계 부문에서 협업에 나섰고, 선드버그-페라는 외부 스타일링, 차체, 섀시, 다리 부품 설계 및 소프트웨어 개발 부문에 참여했다. 존 서 현대차그룹 뉴 호라이즌스 스튜디오 상무는 “타이거와 같은 미래 모빌리티와 그 토대가 되는 신기술은 우리의 상상력이 새로운 방향으로 나아갈 수 있는 동력을 제공한다”며 “뉴 호라이즌스 스튜디오에서는 차량의 설계와 제조 방식 그리고 미래 모빌리티의 개념을 재정립할 수 있는 방안을 끊임없이 찾아 나가고 있다”고 말했다. 동아닷컴 정진수 기자 brjeans@donga.com 창닫기 기사를 추천 하셨습니다 현대차그룹, ‘타이거’ 최초 공개… 인간 대신 험지서 구조용품 운송 베스트 추천 뉴스 [김순덕의 도발]“대법원장 잘못 뽑으면…”이 가짜뉴스인가 최영미, 황희 저격…“이 정권서 출세하려면 부패 필수” 김명수 파문의 ‘예고편’, 4년 前 인사청문회[광화문에서/최우열] 법원 ‘靑과 낙하산 공모’ 인정… “이런 대대적 불법 사표 요구 처음” 이언주 “접대부 술판 우상호, 송영길, 김민석 물러나라” ‘최악 치닫는’ 韓日 관계에…美 “한국에 대한 기대 포기할수도” 압박 Copyright by dongA.com All rights reserved. $( document ).ready( function() {\\n            window.bestPopupObj = Popup( $( '#bestnews_layer' ), {\\n                    vertical: 'center',  /* top, bottom, center */\\n                    horizontal: 'center',  /* left, right, center */\\n                    //effect: 'slide',  /* clip slide blind */\\n                    //direction: 'left',   /* up, down, left, right */\\n                    duration: 300,\\n                    //scroll: true\\n                } ) ;\\n          });\", \"인공지능 자산관리서비스 확산 크게보기 회사원 이모 씨(29)는 지난해 7월 난생처음 해외 주식과 원자재, 채권 등에 투자했다. 은행이나 증권사가 아니라 인공지능(AI)을 활용해 자산관리를 해주는 핀테크 서비스를 통해서다. 기존 금융사는 고액 자산가를 대상으로 맞춤형 자산관리를 해주지만 이 서비스는 소액을 투자해도 AI가 고객의 투자 성향 등을 파악해 투자 포트폴리오를 제시한다. 이 씨는 “스마트폰 애플리케이션(앱)만 내려받으면 투자를 시작할 수 있다. 100만 원으로 국내외 다양한 상품에 투자해 10%가 넘는 수익을 내고 있다”고 했다. AI를 기반으로 자산관리를 해주는 핀테크 서비스가 2030세대의 주식 투자 열풍에 힘입어 빠른 속도로 성장하고 있다. 국내 3대 AI 자산관리 서비스엔 1년 새 1조 원이 넘는 돈이 몰렸다. AI 자산관리는 AI 알고리즘이 고객 맞춤형 포트폴리오를 제공해 투자 자문을 해주거나 일임을 통해 투자를 대신해주는 서비스다. 9일 금융투자업계 등에 따르면 ‘에임’ ‘파운트’ ‘핀트’ 등 주요 AI 자산관리 서비스의 운용 자산은 지난해 말 현재 1조2735억 원에 이른다. 1년 전에 비해 396%(1조171억 원) 급증했다. 이 중 2018년 6월 자산관리 앱을 내놓고 투자 자문 및 일임을 해주는 파운트는 운용 자산이 8500억 원으로, 1년 새 480% 늘었다. 3개 서비스의 누적 이용자도 107만 명을 넘었다. 사용자가 63만 명으로 가장 많은 에임은 작년에만 30만 명 이상의 신규 고객이 유입됐다. window.googletag = window.googletag || {cmd: []};\\r\\n          googletag.cmd.push(function() {\\r\\n            googletag.defineSlot('/1249652/Donga_OSV_Desktop_1x1', [1, 1], 'div-gpt-ad-1595277065244-0').addService(googletag.pubads());\\r\\n            googletag.pubads().enableSingleRequest();\\r\\n            googletag.pubads().collapseEmptyDivs();\\r\\n            googletag.enableServices();\\r\\n          }); googletag.cmd.push(function() { googletag.display('div-gpt-ad-1595277065244-0'); }); AI 자산관리의 주요 고객은 동학개미운동을 계기로 주식 투자에 뛰어든 2030세대다. 핀트는 전체 사용자(33만 명)의 84.5%가 20, 30대다. 파운트와 에임도 20, 30대 비중이 각각 72.3%, 58.5%다. 주요기사 감사와 사랑, 존경의 가치 깨닫게 해 준 ‘환생’ 취재 100일 “조현옥 주재한 靑수석 인사간담회서 임원 단수후보 정해 통보” 소액으로 간편하게 AI의 자산관리를 받을 수 있다는 매력에 젊은층이 몰리는 것으로 분석된다. 파운트의 최소 투자금액은 10만 원, 핀트는 20만 원이다. 에임도 처음 300만 원을 넣은 뒤 20만 원으로 투자를 계속할 수 있다. 투자 절차도 간편하다. 앱을 내려받아 가입하면 설문을 통해 소득과 투자 성향 등을 파악한 뒤 5분 내에 계좌 개설, 계약 등이 완료된다. 이후 AI 알고리즘이 고객 성향과 시장 상황을 고려해 투자 포트폴리오를 완성한다. 핀트를 운영하는 디셈버앤컴퍼니자산운용 정인영 대표는 “AI가 24시간 세계 금융시장을 모니터링해 글로벌 자산배분을 제시하고 투자 위험을 낮춰준다. 이게 AI 자산운용의 강점”이라고 말했다. 금융투자업계 관계자는 “예·적금은 금리가 낮아 불만족스럽고 직접투자는 두려운 사람들이 AI 자산관리를 찾는다”고 말했다. 하지만 운용 이력이 짧아 수익률이 검증되지 않았다는 지적도 나온다. 한 증권사 관계자는 “기존 금융사들에 비해 신뢰도가 낮고 수익률도 기대에 못 미쳐 이탈하는 고객도 적지 않다”고 했다. 파운트, 핀트의 최근 1년간 평균 수익률은 12%대다. 개인들이 순매수한 코스피 상위 10개 종목의 연평균 수익률(50.11%)보다 낮다. 높은 수익률보다는 소액으로 분산투자를 원하는 투자자가 AI 자산관리를 찾는 게 좋다는 지적이 나온다. 김우창 KAIST 산업및시스템공학과 교수는 “AI가 잘하는 건 데이터 이해이지 미래 예측이 아니다. AI의 도움을 받아 투자를 좀더 손쉽게 한다는 생각으로 서비스를 이용해야 한다”고 했다. 신지환 기자 jhshin93@donga.com 창닫기 기사를 추천 하셨습니다 “난 AI가 알아서 투자해줘” 작년에만 1조원 몰렸다 베스트 추천 뉴스 [김순덕의 도발]“대법원장 잘못 뽑으면…”이 가짜뉴스인가 최영미, 황희 저격…“이 정권서 출세하려면 부패 필수” 김명수 파문의 ‘예고편’, 4년 前 인사청문회[광화문에서/최우열] 법원 ‘靑과 낙하산 공모’ 인정… “이런 대대적 불법 사표 요구 처음” 이언주 “접대부 술판 우상호, 송영길, 김민석 물러나라” ‘최악 치닫는’ 韓日 관계에…美 “한국에 대한 기대 포기할수도” 압박 Copyright by dongA.com All rights reserved. $( document ).ready( function() {\\n            window.bestPopupObj = Popup( $( '#bestnews_layer' ), {\\n                    vertical: 'center',  /* top, bottom, center */\\n                    horizontal: 'center',  /* left, right, center */\\n                    //effect: 'slide',  /* clip slide blind */\\n                    //direction: 'left',   /* up, down, left, right */\\n                    duration: 300,\\n                    //scroll: true\\n                } ) ;\\n          }); #ai #투자 #1조원\", \"22일부터 사전예약제로 이용 가능 서울 구로구가 ‘인공지능(AI)과 가상현실(VR) 기술을 활용한 면접체험관’(사진)을 운영한다. 구로구는 “신종 코로나바이러스 감염증(코로나19) 사태 이후 인공지능을 활용한 비대면 면접을 실시하는 기업들이 늘고 있다”며 “새로운 면접 방식에 대한 청년들의 적응력을 높여주기 위해 면접 체험 프로그램을 진행한다”고 9일 밝혔다. 일자리 토털플랫폼 ‘청년이룸’(구로구 오리로 1130, 천왕역 지하 1층)에 있는 체험관은 면접실 3개, 상담실 2개로 꾸며진다. window.googletag = window.googletag || {cmd: []};\\r\\n          googletag.cmd.push(function() {\\r\\n            googletag.defineSlot('/1249652/Donga_OSV_Desktop_1x1', [1, 1], 'div-gpt-ad-1595277065244-0').addService(googletag.pubads());\\r\\n            googletag.pubads().enableSingleRequest();\\r\\n            googletag.pubads().collapseEmptyDivs();\\r\\n            googletag.enableServices();\\r\\n          }); googletag.cmd.push(function() { googletag.display('div-gpt-ad-1595277065244-0'); }); AI면접 체험 프로그램은 기본면접, 성향분석, 상황대처능력 측정, AI게임, 심층면접 등 5단계로 구성된다. AI 면접관의 질문에 답변하는 참가자의 답변 속도, 시선 처리, 말투, 목소리의 떨림 등 언어적·비언어적 요소를 분석하고 직무역량과 직무적합도를 평가해준다. 주요기사 감사와 사랑, 존경의 가치 깨닫게 해 준 ‘환생’ 취재 100일 “조현옥 주재한 靑수석 인사간담회서 임원 단수후보 정해 통보” VR면접 체험 프로그램은 가상현실 기술을 활용한 모의면접이다. 참가자가 VR 장비를 착용한 뒤 지원하고자 하는 직무 분야와 기업을 선택하면 가상의 면접관이 등장해 기출문제 등을 기반으로 면접을 진행한다. 면접이 끝나면 면접 과정에 대한 녹화영상이나 녹음파일도 제공한다. 이번 체험 프로그램은 22일부터 정식 운영되며, 매주 화·수요일은 VR면접, 목·금요일은 AI면접을 체험할 수 있다. 구로구 청년이면 누구나 이용 가능하며, 청년이룸 홈페이지 또는 전화로 일정을 확인한 후 예약하면 된다. 강승현 기자 byhuman@donga.com 기자페이지 바로가기 > 창닫기 기사를 추천 하셨습니다 구로구, 청년 구직자 위한 ‘AI-VR 면접체험관’ 운영 베스트 추천 뉴스 [김순덕의 도발]“대법원장 잘못 뽑으면…”이 가짜뉴스인가 최영미, 황희 저격…“이 정권서 출세하려면 부패 필수” 김명수 파문의 ‘예고편’, 4년 前 인사청문회[광화문에서/최우열] 법원 ‘靑과 낙하산 공모’ 인정… “이런 대대적 불법 사표 요구 처음” 이언주 “접대부 술판 우상호, 송영길, 김민석 물러나라” ‘최악 치닫는’ 韓日 관계에…美 “한국에 대한 기대 포기할수도” 압박 Copyright by dongA.com All rights reserved. $( document ).ready( function() {\\n            window.bestPopupObj = Popup( $( '#bestnews_layer' ), {\\n                    vertical: 'center',  /* top, bottom, center */\\n                    horizontal: 'center',  /* left, right, center */\\n                    //effect: 'slide',  /* clip slide blind */\\n                    //direction: 'left',   /* up, down, left, right */\\n                    duration: 300,\\n                    //scroll: true\\n                } ) ;\\n          }); #구로구 #청년 #구직자 #면접체험관\", \"1900년 만든 ‘위컴 석좌 교수직’ ‘텐센트위컴’으로 변경하기로 英-中, 홍콩 보안법-쿼드 충돌 상황 “10억원에 이름 팔았다” 비난 봇물 600년 이상의 전통을 자랑하는 영국 명문 옥스퍼드대의 ‘뉴칼리지(New College)’가 물리학과 석좌 교수직 명칭에 중국 최대 정보기술(IT) 기업 ‘텐센트’ 이름을 넣어 논란이 일고 있다. 영국 데일리메일은 8일 “옥스퍼드대가 중국 정보기관 연계 의혹을 받고 있는 텐센트에 70만 파운드(약 10억7000만 원)의 후원을 받는 대가로 물리학 석좌 교수직 이름을 바꾸기로 했다”고 전했다. 뉴칼리지는 1379년 이 칼리지를 설립한 위컴의 윌리엄(William of Wykeham) 주교 이름을 따 1900년 ‘위컴 물리학 석좌 교수직’을 만들었다. 익명의 옥스퍼드대 관계자들에 따르면 이 명칭은 이제 ‘텐센트위컴(Tencent-Wykeham)’으로 변경된다. 텐센트는 중국 정부와 긴밀한 관계를 유지하고 있는 것으로 알려져 있다. 지난해 12월 미국 중앙정보국(CIA)은 텐센트가 중국 정보기관인 국가안전부(MSS)로부터 금전 지원을 받고 정부에 해외 첩보 자료를 제공해 왔다는 조사 결과를 발표했다. 미 국방부도 지난달 텐센트가 중국 보안 당국의 인공지능(AI) 개발에 협조하고 있다고 밝혔다. window.googletag = window.googletag || {cmd: []};\\r\\n          googletag.cmd.push(function() {\\r\\n            googletag.defineSlot('/1249652/Donga_OSV_Desktop_1x1', [1, 1], 'div-gpt-ad-1595277065244-0').addService(googletag.pubads());\\r\\n            googletag.pubads().enableSingleRequest();\\r\\n            googletag.pubads().collapseEmptyDivs();\\r\\n            googletag.enableServices();\\r\\n          }); googletag.cmd.push(function() { googletag.display('div-gpt-ad-1595277065244-0'); }); 영국과 중국은 최근 홍콩 국가보안법 시행, 쿼드 가입 등 여러 사안에서 계속 충돌하고 있다. 이런 상황에서 옥스퍼드대가 중국 기업인 텐센트의 지원을 받는다는 소식이 알려지자 학계와 정치인들은 거세게 비난하고 있다. 주요기사 감사와 사랑, 존경의 가치 깨닫게 해 준 ‘환생’ 취재 100일 “조현옥 주재한 靑수석 인사간담회서 임원 단수후보 정해 통보” 옥스퍼드대 총장과 마지막 홍콩 총독을 지낸 크리스 패튼 경은 “중국은 신장위구르의 집단 학살을 저질렀을 가능성이 높고 홍콩의 자유도 빼앗고 있다”며 “전 세계 자유민주주의 국가들에 위협을 가하고 있는 중국과 관계를 맺기 전 대학은 광범위한 조사를 시행해야 한다”고 경고했다. 영국 비밀정보국(MI6) 전 국장인 리처드 디어러브 경은 “옥스퍼드대가 수백만 파운드를 들여야 할 명예로운 자리 이름을 고작 10억 원에 바꾸기로 한 사실이 놀랍다”며 “이러한 후원금은 경계해야 한다”고 지적했다. 이언 덩컨 스미스 전 영국 토리당(보수당) 대표는 “대학들이 중국 돈 앞에 무릎 꿇는 데에는 한계가 없는 것 같다”고 우려했다. 영국 더타임스는 8일 12곳이 넘는 영국 대학에서 약 200명의 학자들이 중국 정부의 대규모 무기 제조를 도운 혐의로 조사를 받고 있다고 보도했다. 이들은 2008년 수출통제명령을 위반하고 항공기와 미사일 제조법, 사이버무기 등에 대한 연구 자료를 중국에 넘긴 혐의를 받고 있다고 더타임스는 전했다. 신아형 기자 abro@donga.com 기자페이지 바로가기 > 창닫기 기사를 추천 하셨습니다 옥스퍼드大, 석좌직 명칭에 中텐센트 넣어… 英 반발 확산 베스트 추천 뉴스 [김순덕의 도발]“대법원장 잘못 뽑으면…”이 가짜뉴스인가 최영미, 황희 저격…“이 정권서 출세하려면 부패 필수” 김명수 파문의 ‘예고편’, 4년 前 인사청문회[광화문에서/최우열] 법원 ‘靑과 낙하산 공모’ 인정… “이런 대대적 불법 사표 요구 처음” 이언주 “접대부 술판 우상호, 송영길, 김민석 물러나라” ‘최악 치닫는’ 韓日 관계에…美 “한국에 대한 기대 포기할수도” 압박 Copyright by dongA.com All rights reserved. $( document ).ready( function() {\\n            window.bestPopupObj = Popup( $( '#bestnews_layer' ), {\\n                    vertical: 'center',  /* top, bottom, center */\\n                    horizontal: 'center',  /* left, right, center */\\n                    //effect: 'slide',  /* clip slide blind */\\n                    //direction: 'left',   /* up, down, left, right */\\n                    duration: 300,\\n                    //scroll: true\\n                } ) ;\\n          }); #옥스퍼드 #석좌직 #반발\", \"비즈니스 리더를 위한 경영저널 DBR(동아비즈니스리뷰) 2021년 2월 1호(314호)의 주요 기사를 소개합니다. LG의 AI 전략 ○ Case Study 2021년은 LG그룹이 지난 2년간 추진한 인공지능(AI) 전략이 꽃피기 시작한 원년이다. 지난해 6월 LG사이언스파크 AI추진단은 컴퓨터 비전 분야에서 최고 권위를 가진 국제학회인 CVPR가 개최한 연속학습 기술 경연 대회에 캐나다 토론토대와 공동 연구팀으로 처음 참가해 종합 1위를 기록했다. 출제된 3가지 문제에서 모두 아마존, 도쿄대 등 총 79개 팀을 제치고 1위를 차지한 것이다. 또 같은 해 7월에는 한국어 AI 기계독해(MRC) 평가에서 1위를 차지했다. LG는 디지털 전환 전담 조직을 통해 현장과 긴밀히 소통하며, AI 원천 기술로 계열사가 처한 실제 문제를 해결했다. AI가 업무 현장에서 해결사로 쓰이도록 하기 위해 LG는 어떤 노력을 기울였을까. LG의 AI 전략을 소개한다. window.googletag = window.googletag || {cmd: []};\\r\\n          googletag.cmd.push(function() {\\r\\n            googletag.defineSlot('/1249652/Donga_OSV_Desktop_1x1', [1, 1], 'div-gpt-ad-1595277065244-0').addService(googletag.pubads());\\r\\n            googletag.pubads().enableSingleRequest();\\r\\n            googletag.pubads().collapseEmptyDivs();\\r\\n            googletag.enableServices();\\r\\n          }); googletag.cmd.push(function() { googletag.display('div-gpt-ad-1595277065244-0'); }); 쉼 없는 성장 ‘아기상어’의 힘 ○ 포스트 코로나 시대의 콘텐츠 비즈니스 주요기사 감사와 사랑, 존경의 가치 깨닫게 해 준 ‘환생’ 취재 100일 “조현옥 주재한 靑수석 인사간담회서 임원 단수후보 정해 통보” 스마트스터디의 키즈 콘텐츠 ‘핑크퐁 아기상어’는 2020년 2월 ‘올해의 토이 어워즈(Toy of the Year)’에서 라이선스와 봉제 장난감 부문에서 2관왕을 수상하며 지식재산권(IP)의 가치를 인정받았다. 팬데믹이 휩쓴 작년에도 아기상어의 성장은 계속됐다. ‘아기상어 댄스’ 영상이 2020년 11월 ‘유튜브에서 가장 많이 본 비디오’에 등극한 것이다. 스마트스터디는 아이들이 좋아하는 짧은 콘텐츠 형식과 캐릭터를 지속적으로 개발했다. 이를 기반으로 자동차, 게임, 스포츠까지 광범위한 영역에서 제휴 사업을 벌였다. 팬데믹을 뚫고 활약한 아기상어의 IP 비즈니스를 심층 분석했다. 창닫기 기사를 추천 하셨습니다 [DBR]LG의 AI 전략 外 베스트 추천 뉴스 [김순덕의 도발]“대법원장 잘못 뽑으면…”이 가짜뉴스인가 최영미, 황희 저격…“이 정권서 출세하려면 부패 필수” 김명수 파문의 ‘예고편’, 4년 前 인사청문회[광화문에서/최우열] 법원 ‘靑과 낙하산 공모’ 인정… “이런 대대적 불법 사표 요구 처음” 이언주 “접대부 술판 우상호, 송영길, 김민석 물러나라” ‘최악 치닫는’ 韓日 관계에…美 “한국에 대한 기대 포기할수도” 압박 Copyright by dongA.com All rights reserved. $( document ).ready( function() {\\n            window.bestPopupObj = Popup( $( '#bestnews_layer' ), {\\n                    vertical: 'center',  /* top, bottom, center */\\n                    horizontal: 'center',  /* left, right, center */\\n                    //effect: 'slide',  /* clip slide blind */\\n                    //direction: 'left',   /* up, down, left, right */\\n                    duration: 300,\\n                    //scroll: true\\n                } ) ;\\n          }); #lg #ai #아기상어\"]\n"
          ],
          "name": "stdout"
        }
      ]
    },
    {
      "cell_type": "markdown",
      "metadata": {
        "id": "cYwJ7eCHqqam"
      },
      "source": [
        ""
      ]
    },
    {
      "cell_type": "markdown",
      "metadata": {
        "id": "OIWmRqVVqqQN"
      },
      "source": [
        ""
      ]
    },
    {
      "cell_type": "markdown",
      "metadata": {
        "id": "7i9BvWBdqqCa"
      },
      "source": [
        "문제420. 한겨례 신문사에서 인공지능으로 검색했을때 나오는 기사 본문을 스크롤링하는 함수 두개를 생성하시오 !\r\n",
        "\r\n",
        "    1. h_scroll()  : 상세기사 url 을 가져오는 함수 \r\n",
        "    2. h_detail_scroll()  : 상세기사 url 로 기사본문을 가져오는 함수 "
      ]
    },
    {
      "cell_type": "markdown",
      "metadata": {
        "id": "0iGTUGKRrNjm"
      },
      "source": [
        ""
      ]
    },
    {
      "cell_type": "markdown",
      "metadata": {
        "id": "_ELgOzMdrNEu"
      },
      "source": [
        " 1. h_scroll() : 상세기사 url 을 가져오는 함수\r\n",
        "\r\n",
        " \r\n",
        "    <li class=\"first-child\">\r\n",
        "\t\t\t\t\t\t<dl>\r\n",
        "\t\t\t\t\t\t\t<dd class=\"photo\">\r\n",
        "\t\t\t\t\t\t\t\r\n",
        "\t\t\t\t\t\t\t</dd>\r\n",
        "\t\t\t\t\t\t\t<dt><a href=\"//www.hani.co.kr/arti/society/ngo/974369.html\">12월 16일 알림</a></dt>\r\n",
        "\r\n"
      ]
    },
    {
      "cell_type": "code",
      "metadata": {
        "id": "_44iKREWqc62"
      },
      "source": [
        " #1. h_scroll() : 상세기사 url 을 가져오는 함수\r\n",
        "\r\n",
        "from  bs4  import  BeautifulSoup\r\n",
        "import  urllib.request\r\n",
        "\r\n",
        "def h_scroll():    # 상세기사 url 가져오는 함수\r\n",
        "    list_url = 'http://search.hani.co.kr/Search?command=query&keyword=%EC%9D%B8%EA%B3%B5%EC%A7%80%EB%8A%A5&media=news&submedia=&sort=d&period=all&datefrom=1988.01.01&dateto=2020.12.16&pageseq=0'    \r\n",
        "    url = urllib.request.Request(list_url)\r\n",
        "    result = urllib.request.urlopen(url).read().decode(\"utf-8\")\r\n",
        "    soup = BeautifulSoup( result, \"html.parser\" )\r\n",
        "\r\n",
        "    result1 = soup.find_all( 'dt' )\r\n",
        "    \r\n",
        "    params = []\r\n",
        "    \r\n",
        "    for i in result1:  \r\n",
        "        for k in i:\r\n",
        "            params.append( 'http:' + k.get( 'href' ))\r\n",
        "            \r\n",
        "    return params\r\n",
        "\r\n",
        "print( h_scroll() )"
      ],
      "execution_count": null,
      "outputs": []
    },
    {
      "cell_type": "markdown",
      "metadata": {
        "id": "YJ7YZrO2rFKy"
      },
      "source": [
        ""
      ]
    },
    {
      "cell_type": "markdown",
      "metadata": {
        "id": "NcI_D1gPrI_y"
      },
      "source": [
        " 2. h_detail_scroll() : 상세기사 url 로 기사본문을 가져오는 함수\r\n",
        "\r\n",
        " \r\n",
        "    <div class=\"text\">◇ 육군은 15일 국립대전현충에서 ‘6·25 전사자 발굴 유해 합동 안장식'을 엄수했다. \r\n",
        "\r\n"
      ]
    },
    {
      "cell_type": "code",
      "metadata": {
        "id": "F7bQPWc5rFa2"
      },
      "source": [
        "def h_detail_scroll():    # 상세기사 url 하나 중에 본문내용 가져오는 함수\r\n",
        "    list_url = h_scroll()\r\n",
        "    params2 =[ ]\r\n",
        "    for i in list_url:\r\n",
        "        url = urllib.request.Request(i) \r\n",
        "        result = urllib.request.urlopen(url).read().decode(\"utf-8\") \r\n",
        "        soup = BeautifulSoup( result, \"html.parser\")\r\n",
        "                \r\n",
        "        result1 = soup.find_all( 'div', class_ = 'text') \r\n",
        "        \r\n",
        "        for  i  in  result1:\r\n",
        "            params2.append( i.get_text(\" \", strip=True) )  \r\n",
        "        \r\n",
        "    return params2\r\n",
        "\r\n",
        "\r\n",
        "print( h_detail_scroll() )"
      ],
      "execution_count": null,
      "outputs": []
    },
    {
      "cell_type": "markdown",
      "metadata": {
        "id": "y2Z6xUuKrYK6"
      },
      "source": [
        ""
      ]
    },
    {
      "cell_type": "markdown",
      "metadata": {
        "id": "n-7-ySMurYGi"
      },
      "source": [
        ""
      ]
    },
    {
      "cell_type": "markdown",
      "metadata": {
        "id": "AqUQYA7LrX_k"
      },
      "source": [
        "문제421. 원하는 신문사에서 여러분들이 스크롤링하고 싶은 키워드를 넣고 검색했을때 나오는 본문기사들을 수집하는 함수 2개를 생성하시오 ~ (밑에 페이지번호 1, 2, 3 만 스크롤링하세요)\r\n"
      ]
    },
    {
      "cell_type": "markdown",
      "metadata": {
        "id": "Hs-EN5gmrfh4"
      },
      "source": [
        "국민일보\r\n",
        "\r\n",
        " 1. _scroll() : 상세기사 url 을 가져오는 함수\r\n",
        "\r\n",
        "\r\n",
        "    <dt class=\"tit\"><a href=\"http://news.kmib.co.kr/article/view.asp?arcid=0015330665\">스카이문스테크놀로지 SK텔레콤주식회사와 14억원 계약체결</a></dt>\r\n"
      ]
    },
    {
      "cell_type": "code",
      "metadata": {
        "id": "EX46bGT7rdNI"
      },
      "source": [
        "from  bs4  import  BeautifulSoup\r\n",
        "import  urllib.request\r\n",
        "\r\n",
        "def k_scroll():    # 상세기사 url 가져오는 함수\r\n",
        "    list_url = 'http://www.kmib.co.kr/search/searchResult.asp?searchWord=%uC778%uACF5%uC9C0%uB2A5&pageNo=1&period='    \r\n",
        "    url = urllib.request.Request(list_url)\r\n",
        "    result = urllib.request.urlopen(url).read().decode(\"cp949\")\r\n",
        "    soup = BeautifulSoup( result, \"html.parser\" )\r\n",
        "\r\n",
        "    result1 = soup.find_all( 'dt', class_ =\"tit\" )\r\n",
        "\r\n",
        "    params = []\r\n",
        "    \r\n",
        "    for i in result1:  \r\n",
        "        for k in i:\r\n",
        "            params.append(k.get( 'href' ))\r\n",
        "            \r\n",
        "    return params\r\n",
        "\r\n",
        "print( k_scroll() )"
      ],
      "execution_count": null,
      "outputs": []
    },
    {
      "cell_type": "markdown",
      "metadata": {
        "id": "qoasnbHfrnp2"
      },
      "source": [
        ""
      ]
    },
    {
      "cell_type": "markdown",
      "metadata": {
        "id": "nEGo3URlrnci"
      },
      "source": [
        " 2. _detail_scroll() : 상세기사 url 로 기사본문을 가져오는 함수\r\n",
        "\r\n",
        "\r\n",
        "    <div class=\"tx\" id=\"articleBody\" itemprop=\"articleBody\">\r\n",
        "\t\t\t\r\n",
        "\t\t\t\t<!-- 기사 내용 -->\r\n",
        "\r\n",
        "\t\t\t\t\t<div align=\"center\"><figure style=\"display:table;\"><img width=\"100%\" alt=\"\" src=\"http://image.kmib.co.kr/online_image/2020/1216/611412110015330665_1.jpg\" style=\"display:block;\"></figure></div><br>스카이문스테크놀로지는 SK텔레콤주식회사와 14억원 규모의 계약을 체결했다고 16일에 공시\r\n",
        "\r\n"
      ]
    },
    {
      "cell_type": "code",
      "metadata": {
        "id": "sU2N6jnqrqXa"
      },
      "source": [
        "def k_detail_scroll():    # 상세기사 url 하나 중에 본문내용 가져오는 함수\r\n",
        "    list_url = k_scroll()\r\n",
        "    params2 =[ ]\r\n",
        "    for i in list_url:\r\n",
        "        url = urllib.request.Request(i) \r\n",
        "        result = urllib.request.urlopen(url).read().decode(\"cp949\") \r\n",
        "        soup = BeautifulSoup( result, \"html.parser\")\r\n",
        "                \r\n",
        "        result1 = soup.find_all( 'div', class_ = \"tx\") \r\n",
        "        \r\n",
        "        for  i  in  result1:\r\n",
        "            params2.append( i.get_text(\" \", strip=True) )  \r\n",
        "        \r\n",
        "    return params2"
      ],
      "execution_count": null,
      "outputs": []
    },
    {
      "cell_type": "markdown",
      "metadata": {
        "id": "Ei3vY7ilsAbK"
      },
      "source": [
        ""
      ]
    },
    {
      "cell_type": "code",
      "metadata": {
        "id": "FopUmcv2sA6y"
      },
      "source": [
        "# 답:\r\n",
        "from  bs4  import  BeautifulSoup\r\n",
        "import  urllib.request\r\n",
        "\r\n",
        "def k_scroll(num):    # 상세기사 url 가져오는 함수\r\n",
        "    list_url = 'http://www.kmib.co.kr/search/searchResult.asp?searchWord=%uC778%uACF5%uC9C0%uB2A5&pageNo='+str(num)+'&period='\r\n",
        "    url = urllib.request.Request(list_url)\r\n",
        "    result = urllib.request.urlopen(url).read().decode(\"cp949\")\r\n",
        "    soup = BeautifulSoup( result, \"html.parser\" )\r\n",
        "\r\n",
        "    result1 = soup.find_all( 'dt', class_ =\"tit\" )\r\n",
        "\r\n",
        "    params = []\r\n",
        "    \r\n",
        "    for i in result1:  \r\n",
        "        for k in i:\r\n",
        "            params.append(k.get( 'href' ))\r\n",
        "            \r\n",
        "    return params\r\n",
        "\r\n",
        "def k_detail_scroll(num):    # 상세기사 url 하나 중에 본문내용 가져오는 함수\r\n",
        "    list_url = k_scroll(num)\r\n",
        "    params2 =[ ]\r\n",
        "    for i in list_url:\r\n",
        "        url = urllib.request.Request(i) \r\n",
        "        result = urllib.request.urlopen(url).read().decode(\"cp949\") \r\n",
        "        soup = BeautifulSoup( result, \"html.parser\")\r\n",
        "                \r\n",
        "        result1 = soup.find_all( 'div', class_ = \"tx\") \r\n",
        "        \r\n",
        "        for  i  in  result1:\r\n",
        "            params2.append( i.get_text(\" \", strip=True) )  \r\n",
        "        \r\n",
        "    return params2\r\n",
        "\r\n",
        "\r\n",
        "for i in range(1,4):\r\n",
        "    print( k_detail_scroll(i) )    "
      ],
      "execution_count": null,
      "outputs": []
    }
  ]
}