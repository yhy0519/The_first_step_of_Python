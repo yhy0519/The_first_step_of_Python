{
  "nbformat": 4,
  "nbformat_minor": 0,
  "metadata": {
    "colab": {
      "name": "python9_12_07.ipynb",
      "provenance": [],
      "collapsed_sections": [],
      "mount_file_id": "1vk0Rh20Slp7q3pbvZxkLoKejsgj2SlhB",
      "authorship_tag": "ABX9TyNXgGSTx2fAOU1FezDtIxJv",
      "include_colab_link": true
    },
    "kernelspec": {
      "name": "python3",
      "display_name": "Python 3"
    }
  },
  "cells": [
    {
      "cell_type": "markdown",
      "metadata": {
        "id": "view-in-github",
        "colab_type": "text"
      },
      "source": [
        "<a href=\"https://colab.research.google.com/github/yhy0519/The_first_step_of_Python/blob/main/python9_12_07.ipynb\" target=\"_parent\"><img src=\"https://colab.research.google.com/assets/colab-badge.svg\" alt=\"Open In Colab\"/></a>"
      ]
    },
    {
      "cell_type": "markdown",
      "metadata": {
        "id": "aBTqWks2xMFh"
      },
      "source": [
        "** 판다스로 조인하기 복습\r\n",
        "\r\n",
        "판다스로 조인(join) 하기 위해서는 merge 를 사용하면 됩니다.\r\n",
        "\r\n",
        "문법:\r\n",
        "\r\n",
        "    pandas.merge( emp, dept, how = 'inner', on = 'deptno' )\r\n",
        "\r\n",
        "옵션 :\r\n",
        "\r\n",
        "    how = 'inner' : emp 와 dept 데이터 프레임에 공통적으로 존재하는 교집합일 경우에만 추출\r\n",
        "    how = 'outer' : 열의 데이터가 양쪽 데이터 프레임에 공통적으로 존재하는 교집합이 아니어도 추출\r\n",
        "    how = 'left' : 왼쪽 데이터 프레임의 키열에 속하는 데이터 값을 기준으로 병합\r\n",
        "    how = 'right' 오른쪽 데이터 프레임의 키열에 속하는 데이터 값을 기준으로 병합\r\n",
        "\r\n",
        "\r\n"
      ]
    },
    {
      "cell_type": "markdown",
      "metadata": {
        "id": "tySJYizFxmOE"
      },
      "source": [
        "SQL>\r\n",
        "\r\n",
        "    select e.ename, d.loc\r\n",
        "       from emp e, dept d\r\n",
        "       where e.deptno = d.deptno (+);\r\n",
        "\r\n",
        "Pandas>"
      ]
    },
    {
      "cell_type": "code",
      "metadata": {
        "colab": {
          "base_uri": "https://localhost:8080/"
        },
        "id": "5iA5NDtkxVpG",
        "outputId": "15641149-7916-4b90-8c40-96eda9979d2f"
      },
      "source": [
        "import pandas as pd\r\n",
        "emp = pd.read_csv('/content/drive/MyDrive/data/emp3.csv')\r\n",
        "dept = pd.read_csv('/content/drive/MyDrive/data/dept3.csv')\r\n",
        "result = pd.merge( emp, dept, on = 'deptno', how = 'left' )\r\n",
        "print( result[['ename', 'loc']] )"
      ],
      "execution_count": 6,
      "outputs": [
        {
          "output_type": "stream",
          "text": [
            "     ename       loc\n",
            "0     KING  NEW YORK\n",
            "1    BLAKE   CHICAGO\n",
            "2    CLARK  NEW YORK\n",
            "3    JONES    DALLAS\n",
            "4   MARTIN   CHICAGO\n",
            "5    ALLEN   CHICAGO\n",
            "6   TURNER   CHICAGO\n",
            "7    JAMES   CHICAGO\n",
            "8     WARD   CHICAGO\n",
            "9     FORD    DALLAS\n",
            "10   SMITH    DALLAS\n",
            "11   SCOTT    DALLAS\n",
            "12   ADAMS    DALLAS\n",
            "13  MILLER  NEW YORK\n"
          ],
          "name": "stdout"
        }
      ]
    },
    {
      "cell_type": "markdown",
      "metadata": {
        "id": "oGDCN97U0IF2"
      },
      "source": [
        ""
      ]
    },
    {
      "cell_type": "markdown",
      "metadata": {
        "id": "-2o75pKSwIZb"
      },
      "source": [
        "문제221. 부서번호, 부서번호별 평균월급을 출력하시오!\r\n",
        "\r\n",
        "SQL>\r\n",
        "\r\n",
        "    select deptno, avg(sal)\r\n",
        "       from emp\r\n",
        "       group by deptno;\r\n",
        "\r\n",
        "Pandas>"
      ]
    },
    {
      "cell_type": "code",
      "metadata": {
        "colab": {
          "base_uri": "https://localhost:8080/"
        },
        "id": "RRpBEP60wF0z",
        "outputId": "56cc2cf2-bd8c-478f-e572-4d4bf2955e4a"
      },
      "source": [
        "import pandas as pd\r\n",
        "\r\n",
        "emp = pd.read_csv('/content/drive/MyDrive/data/emp3.csv')\r\n",
        "result = emp.groupby('deptno')['sal'].mean().reset_index()\r\n",
        "print(result)"
      ],
      "execution_count": 4,
      "outputs": [
        {
          "output_type": "stream",
          "text": [
            "   deptno          sal\n",
            "0      10  2916.666667\n",
            "1      20  2175.000000\n",
            "2      30  1566.666667\n"
          ],
          "name": "stdout"
        }
      ]
    },
    {
      "cell_type": "code",
      "metadata": {
        "id": "voJcMu8eu4r5"
      },
      "source": [
        ""
      ],
      "execution_count": null,
      "outputs": []
    },
    {
      "cell_type": "markdown",
      "metadata": {
        "id": "K3kpssjOv7lC"
      },
      "source": [
        "\r\n"
      ]
    }
  ]
}