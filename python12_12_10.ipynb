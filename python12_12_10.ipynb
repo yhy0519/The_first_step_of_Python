{
  "nbformat": 4,
  "nbformat_minor": 0,
  "metadata": {
    "colab": {
      "name": "python12_12_10.ipynb",
      "provenance": [],
      "collapsed_sections": [],
      "mount_file_id": "1qYOPfXdXAHpLlXHn94IcM1l8RhCsIQEP",
      "authorship_tag": "ABX9TyNzkt0K6vUWpxN6jqXSfCRR",
      "include_colab_link": true
    },
    "kernelspec": {
      "name": "python3",
      "display_name": "Python 3"
    }
  },
  "cells": [
    {
      "cell_type": "markdown",
      "metadata": {
        "id": "view-in-github",
        "colab_type": "text"
      },
      "source": [
        "<a href=\"https://colab.research.google.com/github/yhy0519/The_first_step_of_Python/blob/main/python12_12_10.ipynb\" target=\"_parent\"><img src=\"https://colab.research.google.com/assets/colab-badge.svg\" alt=\"Open In Colab\"/></a>"
      ]
    },
    {
      "cell_type": "markdown",
      "metadata": {
        "id": "GNzjzlkTQLQC"
      },
      "source": [
        "**■ 107. 리스트의 특정 위치에 요소 삽입하기(insert)**\r\n",
        "\r\n",
        "리스트 객체의 insert() 메소드는 리스트의 특정 위치에 새로운 요소를 입력합니다.\r\n",
        "\r\n",
        "예제:"
      ]
    },
    {
      "cell_type": "code",
      "metadata": {
        "colab": {
          "base_uri": "https://localhost:8080/"
        },
        "id": "5lJQzS4XPlFf",
        "outputId": "0c6c8247-b6d4-4a21-ea90-4a6673a98698"
      },
      "source": [
        "list_a = [ 'a', 'b', 'c', 'd', 'e' ]\r\n",
        "list_a.append('f') \r\n",
        "print(list_a)    \r\n",
        "\r\n",
        "list_a.insert( 3, 'k' )\r\n",
        "print(list_a)   "
      ],
      "execution_count": null,
      "outputs": [
        {
          "output_type": "stream",
          "text": [
            "['a', 'b', 'c', 'd', 'e', 'f']\n",
            "['a', 'b', 'c', 'k', 'd', 'e', 'f']\n"
          ],
          "name": "stdout"
        }
      ]
    },
    {
      "cell_type": "markdown",
      "metadata": {
        "id": "6d-bhK-bRHla"
      },
      "source": [
        "설명: list_a.insert(3, 'k') 는 list_a 리스트의 인덱스번호 3번으로 k 를 구성해라"
      ]
    },
    {
      "cell_type": "markdown",
      "metadata": {
        "id": "dp04QSNYRIsJ"
      },
      "source": [
        ""
      ]
    },
    {
      "cell_type": "markdown",
      "metadata": {
        "id": "ra-C2-WwRIlD"
      },
      "source": [
        ""
      ]
    },
    {
      "cell_type": "markdown",
      "metadata": {
        "id": "X0yx6glHRJSo"
      },
      "source": [
        "문제319. 아래의 a 리스트의 요소 화성 다음에 소행성을 요소로 입력하시오 !\r\n",
        "\r\n",
        "    a = [ '태양', '수성', '금성', '지구', '화성', '목성', '토성', '천왕성', '해왕성' ]"
      ]
    },
    {
      "cell_type": "code",
      "metadata": {
        "colab": {
          "base_uri": "https://localhost:8080/"
        },
        "id": "dIA9OS_gRIMV",
        "outputId": "e430f814-44cc-4241-e20f-15cc57caba76"
      },
      "source": [
        "a = [ '태양', '수성', '금성', '지구', '화성', '목성', '토성', '천왕성', '해왕성' ]\r\n",
        "\r\n",
        "a.insert( a.index('화성') + 1, '소행성' )\r\n",
        "print(a)"
      ],
      "execution_count": null,
      "outputs": [
        {
          "output_type": "stream",
          "text": [
            "['태양', '수성', '금성', '지구', '화성', '소행성', '목성', '토성', '천왕성', '해왕성']\n"
          ],
          "name": "stdout"
        }
      ]
    },
    {
      "cell_type": "markdown",
      "metadata": {
        "id": "VsToaX5BRRGB"
      },
      "source": [
        ""
      ]
    },
    {
      "cell_type": "markdown",
      "metadata": {
        "id": "uriGCkexRRAS"
      },
      "source": [
        ""
      ]
    },
    {
      "cell_type": "markdown",
      "metadata": {
        "id": "NPdyGglTRQ5s"
      },
      "source": [
        "**■ 108. 리스트의 특정 위치의 요소 제거하기(del)**\r\n",
        "\r\n",
        "** 파이썬의 자료형(자료구조) 5가지와 해당 메소드의 if 문과 loop 문\r\n",
        "\r\n",
        "    1. 문자형   count, index, …\r\n",
        "    2. 숫자형   int(), round()                   + if 문과 loop 문\r\n",
        "    3. 리스트형  count, append, insert, del      + 함수생성, 클래스, 예외처리\r\n",
        "    4. 튜플형\r\n",
        "    5. 딕서녀리형\r\n"
      ]
    },
    {
      "cell_type": "markdown",
      "metadata": {
        "id": "Nh7gsP9fRbCx"
      },
      "source": [
        ""
      ]
    },
    {
      "cell_type": "markdown",
      "metadata": {
        "id": "YJSalhJnmOqG"
      },
      "source": [
        ""
      ]
    },
    {
      "cell_type": "markdown",
      "metadata": {
        "id": "1TO5mrSWRbUx"
      },
      "source": [
        "※ del 메소드와 remove 메소드의 차이?\r\n",
        "\r\n",
        "remove 와 del 둘 다 리스트안의 요소를 삭제하는 것인데  \r\n",
        "remove 는 요소명으로 삭제하는 것이고 del 은 리스트 인덱스 번호로 삭제하는 것입니다."
      ]
    },
    {
      "cell_type": "code",
      "metadata": {
        "colab": {
          "base_uri": "https://localhost:8080/"
        },
        "id": "SErhRhEoRehZ",
        "outputId": "3905e880-ced5-419c-fb36-baa2dd525020"
      },
      "source": [
        "a = [ '태양', '수성', '금성', '지구', '화성', '목성', '토성', '천왕성', '해왕성' ]\r\n",
        "\r\n",
        "del(a[4])            # a 리스트 인덱스 번호 3번의 해당하는 요소를 삭제한다.\r\n",
        "print(a)"
      ],
      "execution_count": null,
      "outputs": [
        {
          "output_type": "stream",
          "text": [
            "['태양', '수성', '금성', '지구', '목성', '토성', '천왕성', '해왕성']\n"
          ],
          "name": "stdout"
        }
      ]
    },
    {
      "cell_type": "markdown",
      "metadata": {
        "id": "xgtk1J0GR224"
      },
      "source": [
        ""
      ]
    },
    {
      "cell_type": "markdown",
      "metadata": {
        "id": "-7b8s0biR2xd"
      },
      "source": [
        ""
      ]
    },
    {
      "cell_type": "markdown",
      "metadata": {
        "id": "NrCAVTvIR2rp"
      },
      "source": [
        "문제320. 아래의 a 리스트에서 목성을 지우시오 !\r\n",
        "\r\n",
        "    a = [ '태양', '수성', '금성', '지구', '화성', '목성', '토성', '천왕성', '해왕성' ]"
      ]
    },
    {
      "cell_type": "code",
      "metadata": {
        "colab": {
          "base_uri": "https://localhost:8080/"
        },
        "id": "nVZww5czR6wN",
        "outputId": "3cdc3e8a-f092-4815-e445-ec4152f5650c"
      },
      "source": [
        "a = [ '태양', '수성', '금성', '지구', '화성', '목성', '토성', '천왕성', '해왕성' ]\r\n",
        "\r\n",
        "del(a[a.index('목성')])\r\n",
        "print(a)"
      ],
      "execution_count": null,
      "outputs": [
        {
          "output_type": "stream",
          "text": [
            "['태양', '수성', '금성', '지구', '화성', '토성', '천왕성', '해왕성']\n"
          ],
          "name": "stdout"
        }
      ]
    },
    {
      "cell_type": "markdown",
      "metadata": {
        "id": "Ka1XOO7MSGHA"
      },
      "source": [
        ""
      ]
    },
    {
      "cell_type": "markdown",
      "metadata": {
        "id": "DW5O6n25SGBD"
      },
      "source": [
        ""
      ]
    },
    {
      "cell_type": "markdown",
      "metadata": {
        "id": "wu4gtrJgSF7m"
      },
      "source": [
        "**■ 109. 리스트에서 특정 요소 제거하기(remove)**\r\n",
        "\r\n",
        "리스트에서 특정 요소의 값을 알고 있을 때 그 요소를 제거하는 방법은\r\n",
        "리스트 객체의 remove() 메소드를 이용하면 됩니다.\r\n",
        "\r\n",
        "예제: 아래의 a 리스트에서 목성을 지우시오 !\r\n",
        "\r\n",
        "    a = [ '태양', '수성', '금성', '지구', '화성', '목성', '토성', '천왕성', '해왕성' ]"
      ]
    },
    {
      "cell_type": "code",
      "metadata": {
        "colab": {
          "base_uri": "https://localhost:8080/"
        },
        "id": "XkFspMU0SNBB",
        "outputId": "88b27f13-adae-4a97-b855-e7f240d24588"
      },
      "source": [
        "a = [ '태양', '수성', '금성', '지구', '화성', '목성', '토성', '천왕성', '해왕성' ]\r\n",
        "\r\n",
        "a.remove('목성')\r\n",
        "print(a)"
      ],
      "execution_count": null,
      "outputs": [
        {
          "output_type": "stream",
          "text": [
            "['태양', '수성', '금성', '지구', '화성', '토성', '천왕성', '해왕성']\n"
          ],
          "name": "stdout"
        }
      ]
    },
    {
      "cell_type": "markdown",
      "metadata": {
        "id": "4BYPBX3lSMm5"
      },
      "source": [
        ""
      ]
    },
    {
      "cell_type": "markdown",
      "metadata": {
        "id": "dtI0I-uDSP0E"
      },
      "source": [
        ""
      ]
    },
    {
      "cell_type": "markdown",
      "metadata": {
        "id": "UgDKbPbYSPvI"
      },
      "source": [
        "문제321. 아래의 빨간공 2개와 파란공 3개가 들어있는 주머니에서 공을 하나 랜덤으로 빼면 그 공이 주머니에서 지워지게 하시오 !"
      ]
    },
    {
      "cell_type": "code",
      "metadata": {
        "colab": {
          "base_uri": "https://localhost:8080/"
        },
        "id": "0uL2I-QVSSzZ",
        "outputId": "f32cc012-600f-4c7b-9423-30d2bbce32e9"
      },
      "source": [
        "box = [ 'red', 'blue', 'red', 'blue', 'blue' ]\r\n",
        "\r\n",
        "import random\r\n",
        "\r\n",
        "result = random.choice(box)\r\n",
        "print(result)\r\n",
        "box.remove(result)\r\n",
        "print(box)"
      ],
      "execution_count": null,
      "outputs": [
        {
          "output_type": "stream",
          "text": [
            "blue\n",
            "['red', 'red', 'blue', 'blue']\n"
          ],
          "name": "stdout"
        }
      ]
    },
    {
      "cell_type": "code",
      "metadata": {
        "id": "cLcXyGZ6Snl6"
      },
      "source": [
        "import random\r\n",
        "\r\n",
        "result = random.choice(box)\r\n",
        "if result == 'red':\r\n",
        "    box.remove('red')\r\n",
        "else:\r\n",
        "    box.remove('blue')"
      ],
      "execution_count": null,
      "outputs": []
    },
    {
      "cell_type": "markdown",
      "metadata": {
        "id": "UWHKydL1Slr1"
      },
      "source": [
        ""
      ]
    },
    {
      "cell_type": "markdown",
      "metadata": {
        "id": "MMNZLMl4SlmJ"
      },
      "source": [
        ""
      ]
    },
    {
      "cell_type": "markdown",
      "metadata": {
        "id": "eeb94IiJSqKB"
      },
      "source": [
        "문제322. 아래의 주머니에서 임의로 하나의 공을 뽑았을 때 그 공이 파란색일 확률은 \r\n",
        "\t     어떻게 되는가 ?  \r\n",
        "       (복원 추출)  공을 뽑는 작업을 10000번 수행하시오 !\r\n",
        "\r\n",
        "    box = [ 'red', 'blue', 'red', 'blue', 'blue' ]\r\n"
      ]
    },
    {
      "cell_type": "code",
      "metadata": {
        "colab": {
          "base_uri": "https://localhost:8080/"
        },
        "id": "Wu1oSEgeS3WR",
        "outputId": "4e14f39c-c4b2-4bca-8c7c-edbfea96c9e0"
      },
      "source": [
        "box = [ 'red', 'blue', 'red', 'blue', 'blue' ]\r\n",
        "\r\n",
        "import random\r\n",
        "\r\n",
        "cnt = 0\r\n",
        "\r\n",
        "for i in range(1, 10001):\r\n",
        "    result = random.choice(box)\r\n",
        "    if result == 'blue':\r\n",
        "        cnt += 1\r\n",
        "\r\n",
        "print(cnt/10000)"
      ],
      "execution_count": null,
      "outputs": [
        {
          "output_type": "stream",
          "text": [
            "0.6047\n"
          ],
          "name": "stdout"
        }
      ]
    },
    {
      "cell_type": "markdown",
      "metadata": {
        "id": "ovM_5YOeS6WZ"
      },
      "source": [
        ""
      ]
    },
    {
      "cell_type": "markdown",
      "metadata": {
        "id": "DkhPvVgxS6Q5"
      },
      "source": [
        ""
      ]
    },
    {
      "cell_type": "markdown",
      "metadata": {
        "id": "yZk40wkSTOph"
      },
      "source": [
        "문제323. 파란공 70 개와 빨간공 30개가 들어있는 주머니를 만드시오"
      ]
    },
    {
      "cell_type": "code",
      "metadata": {
        "id": "hHraK7F6S3TY"
      },
      "source": [
        "a = ['blue']\r\n",
        "b = ['red']\r\n",
        "box = a * 70 + b * 30\r\n",
        "print(box)"
      ],
      "execution_count": null,
      "outputs": []
    },
    {
      "cell_type": "markdown",
      "metadata": {
        "id": "ye1mWHwPTe8w"
      },
      "source": [
        ""
      ]
    },
    {
      "cell_type": "markdown",
      "metadata": {
        "id": "J2zJZh_-Te4Y"
      },
      "source": [
        ""
      ]
    },
    {
      "cell_type": "markdown",
      "metadata": {
        "id": "CLqKj0IxTezY"
      },
      "source": [
        "문제324. 위의 box 에 들어있는 요소가 몇개인지 확인하시오!"
      ]
    },
    {
      "cell_type": "code",
      "metadata": {
        "colab": {
          "base_uri": "https://localhost:8080/"
        },
        "id": "Zz918i-_SsQ4",
        "outputId": "892af532-9c5f-4a45-fdd8-1fe69d8b7867"
      },
      "source": [
        "a = ['blue']\r\n",
        "b = ['red']\r\n",
        "box = a * 70 + b * 30\r\n",
        "print(len(box))"
      ],
      "execution_count": null,
      "outputs": [
        {
          "output_type": "stream",
          "text": [
            "100\n"
          ],
          "name": "stdout"
        }
      ]
    },
    {
      "cell_type": "markdown",
      "metadata": {
        "id": "O9Vnb8rdTkIE"
      },
      "source": [
        ""
      ]
    },
    {
      "cell_type": "markdown",
      "metadata": {
        "id": "QJRu9Q3aTkCZ"
      },
      "source": [
        ""
      ]
    },
    {
      "cell_type": "markdown",
      "metadata": {
        "id": "RgkkvGdrTkeB"
      },
      "source": [
        "문제325. 위의 box 에 있는 요소들을 무작위로 섞으시오 !"
      ]
    },
    {
      "cell_type": "code",
      "metadata": {
        "id": "thXkaKlTThMy"
      },
      "source": [
        "from random import shuffle    # from 패키기 import shuffle\r\n",
        "\r\n",
        "a = ['blue']\r\n",
        "b = ['red']\r\n",
        "box = a * 70 + b * 30\r\n",
        "\r\n",
        "shuffle(box)   # box 안의 요소들을 무작위로 섞는다.\r\n",
        "print(box)"
      ],
      "execution_count": null,
      "outputs": []
    },
    {
      "cell_type": "markdown",
      "metadata": {
        "id": "yvWjE2CJTszi"
      },
      "source": [
        ""
      ]
    },
    {
      "cell_type": "markdown",
      "metadata": {
        "id": "A1p85xT1Tsve"
      },
      "source": [
        ""
      ]
    },
    {
      "cell_type": "markdown",
      "metadata": {
        "id": "X2MoVU1MTsr5"
      },
      "source": [
        "문제326. 위의 box 에서 공 3개를 추출했을때 그 공 3개가 다 파란색일 확률은 어떻게 되는가?  \r\n",
        "\t     (공을 뽑는 작업을 10000번 수행하세요. 복원 추출)"
      ]
    },
    {
      "cell_type": "code",
      "metadata": {
        "colab": {
          "base_uri": "https://localhost:8080/"
        },
        "id": "yL-ITjHoTvVx",
        "outputId": "9442a9f1-6d9b-4294-c6f0-1e6e6943b58e"
      },
      "source": [
        "from random import shuffle\r\n",
        "import random\r\n",
        "\r\n",
        "a = ['blue'] * 70\r\n",
        "b = ['red'] * 30\r\n",
        "box = a + b\r\n",
        "shuffle(box)\r\n",
        "\r\n",
        "cnt = 0\r\n",
        "\r\n",
        "for i in range(1, 10001):\r\n",
        "    result1 = random.choice(box)\r\n",
        "    result2 = random.choice(box)\r\n",
        "    result3 = random.choice(box)\r\n",
        "    if result1 == result2 == result3 == 'blue':\r\n",
        "        cnt += 1\r\n",
        "\r\n",
        "print(cnt/10000)"
      ],
      "execution_count": null,
      "outputs": [
        {
          "output_type": "stream",
          "text": [
            "0.3491\n"
          ],
          "name": "stdout"
        }
      ]
    },
    {
      "cell_type": "markdown",
      "metadata": {
        "id": "mUgRkVw5T59g"
      },
      "source": [
        ""
      ]
    },
    {
      "cell_type": "markdown",
      "metadata": {
        "id": "ZsQ02uLHT555"
      },
      "source": [
        ""
      ]
    },
    {
      "cell_type": "markdown",
      "metadata": {
        "id": "XXgDoEQTT51h"
      },
      "source": [
        "문제327. 이번에는 위의 box에서 공을 3개를 뽑았을 때 그중 2개가 blue일 확률을 출력하시오 !  \r\n",
        "\t     (비복원 추출, 공을 뽑는 작업을 10000번 수행하세요~)"
      ]
    },
    {
      "cell_type": "code",
      "metadata": {
        "id": "QqDAL2OqT7yQ"
      },
      "source": [
        "from random import shuffle\r\n",
        "import random\r\n",
        "\r\n",
        "a = ['blue'] * 70\r\n",
        "b = ['red'] * 30\r\n",
        "box = a + b\r\n",
        "shuffle(box)\r\n",
        "cnt = 0\r\n",
        "\r\n",
        "for i in range(1, 10001):\r\n",
        "    result = random.sample(box, 3)\r\n",
        "    if result.count('blue') == 2:\r\n",
        "        cnt += 1\r\n",
        "\r\n",
        "print(cnt/10000) "
      ],
      "execution_count": null,
      "outputs": []
    },
    {
      "cell_type": "markdown",
      "metadata": {
        "id": "DuIHsBNpT-kM"
      },
      "source": [
        "설명: random 패키지의 sample 함수는 비복원 추출입니다.  \r\n",
        "random.sample(population, k, *, counts=None)  \r\n",
        "Return a k length list of unique elements chosen from the population sequence or set.  \r\n",
        "Used for random sampling without replacement."
      ]
    },
    {
      "cell_type": "markdown",
      "metadata": {
        "id": "kTX4lfnWT-cx"
      },
      "source": [
        ""
      ]
    },
    {
      "cell_type": "markdown",
      "metadata": {
        "id": "_R9tZ9JIT-UY"
      },
      "source": [
        ""
      ]
    },
    {
      "cell_type": "markdown",
      "metadata": {
        "id": "j-hc0ArqUDB4"
      },
      "source": [
        "문제328. 위의 문제를 복원추출로 수행하시오 "
      ]
    },
    {
      "cell_type": "code",
      "metadata": {
        "colab": {
          "base_uri": "https://localhost:8080/"
        },
        "id": "7r_Es1XHT-IY",
        "outputId": "9773356f-6d84-49a0-c743-ca7cd17e530f"
      },
      "source": [
        "import random\r\n",
        "from random import shuffle\r\n",
        "\r\n",
        "a = ['blue'] * 70\r\n",
        "b = ['red'] * 30\r\n",
        "box = a + b\r\n",
        "shuffle(box)\r\n",
        "a = []\r\n",
        "\r\n",
        "for i in range(1, 10001):\r\n",
        "    cnt = 0\r\n",
        "    for i in range(3):\r\n",
        "        res = random.choice(box)\r\n",
        "        if res == 'blue':\r\n",
        "            cnt += 1\r\n",
        "    if cnt == 2:\r\n",
        "        a.append(cnt)\r\n",
        "\r\n",
        "print(len(a)/10000)"
      ],
      "execution_count": null,
      "outputs": [
        {
          "output_type": "stream",
          "text": [
            "0.4411\n"
          ],
          "name": "stdout"
        }
      ]
    },
    {
      "cell_type": "markdown",
      "metadata": {
        "id": "qLJlh-_1Vj1h"
      },
      "source": [
        ""
      ]
    },
    {
      "cell_type": "markdown",
      "metadata": {
        "id": "maqRhe4rVjt8"
      },
      "source": [
        ""
      ]
    },
    {
      "cell_type": "markdown",
      "metadata": {
        "id": "nJlhzpZwVje1"
      },
      "source": [
        "문제329.  6개의 제품이 들어있는 상자가 있는데 그 중에 2개가 불량품이라고 했을 때\r\n",
        "\t     제품 검사를 위해 3개를 추출했을때 1개가 불량품일 확률을 출력하시오! (복원추출)\r\n",
        "\r\n",
        "    box = [ '정상', '불량품', '정상', '정상', '불량품', '정상' ]"
      ]
    },
    {
      "cell_type": "code",
      "metadata": {
        "colab": {
          "base_uri": "https://localhost:8080/"
        },
        "id": "F-q7WI_LVmj0",
        "outputId": "a0d29ed2-c252-4991-fc55-eba0a07ba2f6"
      },
      "source": [
        "import numpy as np\r\n",
        "\r\n",
        "box = [ '정상', '불량품', '정상', '정상', '불량품', '정상' ]\r\n",
        "cnt = 0\r\n",
        "\r\n",
        "for i in range(10001):\r\n",
        "    result = list(np.random.choice(box, 3, replace = True))\r\n",
        "    if result.count('불량품') == 1:\r\n",
        "        cnt += 1\r\n",
        "\r\n",
        "print(cnt/10000)"
      ],
      "execution_count": null,
      "outputs": [
        {
          "output_type": "stream",
          "text": [
            "0.4442\n"
          ],
          "name": "stdout"
        }
      ]
    },
    {
      "cell_type": "markdown",
      "metadata": {
        "id": "ONMUiG-JV6fl"
      },
      "source": [
        "(replace = True 디폴트값 : 복원 / replace = False : 비복원)"
      ]
    },
    {
      "cell_type": "markdown",
      "metadata": {
        "id": "lpeULPWUqcmV"
      },
      "source": [
        ""
      ]
    },
    {
      "cell_type": "markdown",
      "metadata": {
        "id": "Q94uqJKoqcgO"
      },
      "source": [
        ""
      ]
    },
    {
      "cell_type": "markdown",
      "metadata": {
        "id": "Im0NcaxSqc71"
      },
      "source": [
        "**■ 110. 리스트에서 특정 구간에 있는 모든 요소 제거하기**\r\n",
        "\r\n",
        "리스트 객체에서 특정 구간에 있는 요소들을 제거하려면 del 과 슬라이싱을 이용하면 됩니다.\r\n",
        "\r\n",
        "예제:"
      ]
    },
    {
      "cell_type": "code",
      "metadata": {
        "colab": {
          "base_uri": "https://localhost:8080/"
        },
        "id": "dSY_9wE6qg14",
        "outputId": "2a2cb299-9df4-4d38-ecff-97e19c30d2cb"
      },
      "source": [
        "a = [ '태양', '수성', '금성', '지구', '화성', '목성', '토성', '천왕성', '해왕성' ]\r\n",
        "del(a[2:6])    # 인덱스 번호 2 부터 6 미만까지 지움\r\n",
        "print(a)     \r\n",
        " \r\n",
        "a = [ '태양', '수성', '금성', '지구', '화성', '목성', '토성', '천왕성', '해왕성' ]\r\n",
        "del(a[:])\r\n",
        "print(a)     "
      ],
      "execution_count": null,
      "outputs": [
        {
          "output_type": "stream",
          "text": [
            "['태양', '수성', '토성', '천왕성', '해왕성']\n",
            "[]\n"
          ],
          "name": "stdout"
        }
      ]
    },
    {
      "cell_type": "markdown",
      "metadata": {
        "id": "hM7jEVXhqgjH"
      },
      "source": [
        ""
      ]
    },
    {
      "cell_type": "markdown",
      "metadata": {
        "id": "ZOV_CckRq51V"
      },
      "source": [
        ""
      ]
    },
    {
      "cell_type": "markdown",
      "metadata": {
        "id": "4MyHuuMEq5je"
      },
      "source": [
        "문제331. 초등학생 10만명의 체중 데이터를 가지고 히스토그램 그래프를 그리시오  \r\n",
        "\t     ( 초등학생 10만명의 평균 체중은 45kg 이고 표준편차는 5 입니다.)\r\n",
        "\r\n",
        "30~60kg 까지 간격 2kg 으로 x 축의 간격(계급) 을 정하세요 ~"
      ]
    },
    {
      "cell_type": "code",
      "metadata": {
        "colab": {
          "base_uri": "https://localhost:8080/",
          "height": 365
        },
        "id": "71GH1QDrq9DW",
        "outputId": "4fc07800-daf6-42bb-9843-d7885ef2f977"
      },
      "source": [
        "import numpy as np\r\n",
        "import matplotlib.pyplot as plt\r\n",
        "\r\n",
        "weight = np.random.randn(100000) * 5 + 45\r\n",
        "bins = list( range(30, 61, 2) )\r\n",
        "\r\n",
        "plt.grid()\r\n",
        "plt.xticks(bins)\r\n",
        "plt.title('Histogram')\r\n",
        "plt.xlabel('kg')\r\n",
        "plt.ylabel('frequency')\r\n",
        "plt.hist( weight, bins, rwidth = 0.9, alpha = 0.7, color = 'purple' )"
      ],
      "execution_count": null,
      "outputs": [
        {
          "output_type": "execute_result",
          "data": {
            "text/plain": [
              "(array([  355.,   901.,  2209.,  4392.,  7694., 11674., 14653., 15892.,\n",
              "        14752., 11434.,  7953.,  4431.,  2169.,   913.,   326.]),\n",
              " array([30, 32, 34, 36, 38, 40, 42, 44, 46, 48, 50, 52, 54, 56, 58, 60]),\n",
              " <a list of 15 Patch objects>)"
            ]
          },
          "metadata": {
            "tags": []
          },
          "execution_count": 3
        },
        {
          "output_type": "display_data",
          "data": {
            "image/png": "[encoded data removed]",
            "text/plain": [
              "<Figure size 432x288 with 1 Axes>"
            ]
          },
          "metadata": {
            "tags": [],
            "needs_background": "light"
          }
        }
      ]
    },
    {
      "cell_type": "markdown",
      "metadata": {
        "id": "YzEVh43juyZK"
      },
      "source": [
        ""
      ]
    },
    {
      "cell_type": "markdown",
      "metadata": {
        "id": "qPF6RFR-uyTq"
      },
      "source": [
        ""
      ]
    },
    {
      "cell_type": "markdown",
      "metadata": {
        "id": "J_Gwsg0suyOS"
      },
      "source": [
        "**■ 111. 리스트에 있는 요소 개수 구하기(len)**\r\n",
        "\r\n",
        "파이썬 내장함수인 len() 은 시퀀스 자료형의 크기를 구하는 함수입니다.  \r\n",
        "len() 을 리스트에 적용하면 리스트의 모든 요소의 개수를 리턴합니다.\r\n",
        "\r\n",
        "예"
      ]
    },
    {
      "cell_type": "code",
      "metadata": {
        "colab": {
          "base_uri": "https://localhost:8080/"
        },
        "id": "sdTYERsSu5BS",
        "outputId": "f8afb2d4-e242-4e49-f51e-fe2c844cf406"
      },
      "source": [
        "a = [ '태양', '수성', '금성', '지구', '화성', '목성', '토성', '천왕성', '해왕성' ]\r\n",
        "print(len(a))"
      ],
      "execution_count": null,
      "outputs": [
        {
          "output_type": "stream",
          "text": [
            "9\n"
          ],
          "name": "stdout"
        }
      ]
    },
    {
      "cell_type": "markdown",
      "metadata": {
        "id": "LauJ0b2Su7Jc"
      },
      "source": [
        ""
      ]
    },
    {
      "cell_type": "markdown",
      "metadata": {
        "id": "q8zUzGY1u7ED"
      },
      "source": [
        ""
      ]
    },
    {
      "cell_type": "markdown",
      "metadata": {
        "id": "OBg6W9Pru6-x"
      },
      "source": [
        "문제332. 점심시간에 만들었던 초등학생 10만명의 체중 데이터를 모수로 보고 10만명의 체중 데이터에서 100명을 샘플링하여 평균을 구하시오!"
      ]
    },
    {
      "cell_type": "code",
      "metadata": {
        "colab": {
          "base_uri": "https://localhost:8080/"
        },
        "id": "nsRQP2Q7vKga",
        "outputId": "a0ccc6c2-0a10-4ca5-f5ed-164742b891a3"
      },
      "source": [
        "import numpy as np\r\n",
        "\r\n",
        "population = np.random.randn(100000) * 5 + 45\r\n",
        "result = np.random.choice(population, 100, replace = True).mean()\r\n",
        "print(result)"
      ],
      "execution_count": null,
      "outputs": [
        {
          "output_type": "stream",
          "text": [
            "44.68688104980612\n"
          ],
          "name": "stdout"
        }
      ]
    },
    {
      "cell_type": "markdown",
      "metadata": {
        "id": "LXbSHWYywBsZ"
      },
      "source": [
        ""
      ]
    },
    {
      "cell_type": "markdown",
      "metadata": {
        "id": "twjvYDrqwBoH"
      },
      "source": [
        ""
      ]
    },
    {
      "cell_type": "markdown",
      "metadata": {
        "id": "DmcowYJCwBiK"
      },
      "source": [
        "문제333. 위의 모집단에서 표본 100명 추출하여 표본평균을 구하는 작업을 1000번 수행해서 1000개의 표본평균을 a 라는 비어있는 리스트에 넣으시오 !"
      ]
    },
    {
      "cell_type": "code",
      "metadata": {
        "id": "De9pZSvIwDjd"
      },
      "source": [
        "import numpy as np\r\n",
        "\r\n",
        "population = np.random.randn(100000) * 5 + 45\r\n",
        "\r\n",
        "a = []\r\n",
        "\r\n",
        "for i in range(1, 1001):\r\n",
        "    result = np.random.choice(population, 100, replace = True).mean()\r\n",
        "    a.append(result)"
      ],
      "execution_count": null,
      "outputs": []
    },
    {
      "cell_type": "markdown",
      "metadata": {
        "id": "-MhVP2mbwcYe"
      },
      "source": [
        ""
      ]
    },
    {
      "cell_type": "markdown",
      "metadata": {
        "id": "sLNP0F0nwc2o"
      },
      "source": [
        ""
      ]
    },
    {
      "cell_type": "markdown",
      "metadata": {
        "id": "5n0-QkyjwcM5"
      },
      "source": [
        "문제334. 위의 a 리스트의 요소의 갯수를 출력하시오!"
      ]
    },
    {
      "cell_type": "code",
      "metadata": {
        "colab": {
          "base_uri": "https://localhost:8080/"
        },
        "id": "-PLYi1F5weqh",
        "outputId": "83f6c785-9248-4a40-a7df-18557a4ed0f3"
      },
      "source": [
        "import numpy as np\r\n",
        "\r\n",
        "population = np.random.randn(100000) * 5 + 45\r\n",
        "\r\n",
        "a = []\r\n",
        "\r\n",
        "for i in range(1, 1001):\r\n",
        "    result = np.random.choice(population, 100, replace = True).mean()\r\n",
        "    a.append(result)\r\n",
        "\r\n",
        "print(len(a))"
      ],
      "execution_count": null,
      "outputs": [
        {
          "output_type": "stream",
          "text": [
            "1000\n"
          ],
          "name": "stdout"
        }
      ]
    },
    {
      "cell_type": "markdown",
      "metadata": {
        "id": "gfJgsAN8wip_"
      },
      "source": [
        ""
      ]
    },
    {
      "cell_type": "markdown",
      "metadata": {
        "id": "-wMRQk9fwikC"
      },
      "source": [
        ""
      ]
    },
    {
      "cell_type": "markdown",
      "metadata": {
        "id": "1FPuQs2ewidx"
      },
      "source": [
        "문제335. 위의 표본평균 1000개를 가지고 히스토그램 그래프를 그리시오"
      ]
    },
    {
      "cell_type": "code",
      "metadata": {
        "colab": {
          "base_uri": "https://localhost:8080/",
          "height": 317
        },
        "id": "-7hz75FMwjhB",
        "outputId": "5c2b4447-8377-421c-883e-3758375bf4aa"
      },
      "source": [
        "import numpy as np\r\n",
        "import matplotlib.pyplot as plt\r\n",
        "\r\n",
        "population = np.random.randn(100000) * 5 + 45\r\n",
        "bins = list( range(40, 51, 1) )\r\n",
        "a = []\r\n",
        "\r\n",
        "for i in range(1, 1001):\r\n",
        "    result = np.random.choice(population, 100, replace = True).mean()\r\n",
        "    a.append(result)\r\n",
        "\r\n",
        "plt.grid()\r\n",
        "plt.xticks(bins)      # x축 눈금 조절\r\n",
        "plt.hist( a, bins, rwidth = 0.9, alpha = 0.7, color = 'purple' )"
      ],
      "execution_count": null,
      "outputs": [
        {
          "output_type": "execute_result",
          "data": {
            "text/plain": [
              "(array([  0.,   0.,   0.,  35., 461., 487.,  17.,   0.,   0.,   0.]),\n",
              " array([40, 41, 42, 43, 44, 45, 46, 47, 48, 49, 50]),\n",
              " <a list of 10 Patch objects>)"
            ]
          },
          "metadata": {
            "tags": []
          },
          "execution_count": 13
        },
        {
          "output_type": "display_data",
          "data": {
            "image/png": "[encoded data removed]",
            "text/plain": [
              "<Figure size 432x288 with 1 Axes>"
            ]
          },
          "metadata": {
            "tags": [],
            "needs_background": "light"
          }
        }
      ]
    },
    {
      "cell_type": "markdown",
      "metadata": {
        "id": "sCke_WV2xjM_"
      },
      "source": [
        ""
      ]
    },
    {
      "cell_type": "markdown",
      "metadata": {
        "id": "KeLyxaKhxjFR"
      },
      "source": [
        ""
      ]
    },
    {
      "cell_type": "markdown",
      "metadata": {
        "id": "KqDa9oekxi_z"
      },
      "source": [
        "**■ 112. 리스트에서 특정 요소 개수 구하기(count)**\r\n",
        "\r\n",
        "리스트.count('요쇼') 는 객체 리스트에서 '요소' 의 갯수를 구하는 메소드 입니다."
      ]
    },
    {
      "cell_type": "code",
      "metadata": {
        "colab": {
          "base_uri": "https://localhost:8080/"
        },
        "id": "uBYl22PaxoH-",
        "outputId": "fd2b7521-b33a-4121-8f4f-3999d53f9fac"
      },
      "source": [
        "box = [ 'yellow', 'yellow', 'red', 'red', 'red' ]\r\n",
        "print( box.count('red') )"
      ],
      "execution_count": null,
      "outputs": [
        {
          "output_type": "stream",
          "text": [
            "3\n"
          ],
          "name": "stdout"
        }
      ]
    },
    {
      "cell_type": "markdown",
      "metadata": {
        "id": "Vaol7cJUxs31"
      },
      "source": [
        ""
      ]
    },
    {
      "cell_type": "markdown",
      "metadata": {
        "id": "vof_9wq0xsxs"
      },
      "source": [
        ""
      ]
    },
    {
      "cell_type": "markdown",
      "metadata": {
        "id": "ftHUo0I9xsp1"
      },
      "source": [
        "문제336. 우리반 데이터의 나이를 비어있는 리스트 a 에 입력하고 나서 우리반 나이 데이터중에서 27살이 몇명있는지 출력하시오 !"
      ]
    },
    {
      "cell_type": "code",
      "metadata": {
        "colab": {
          "base_uri": "https://localhost:8080/"
        },
        "id": "XavUM8d7xuqb",
        "outputId": "071a9488-69ea-41f8-f6be-cd95fc57c39c"
      },
      "source": [
        "import csv\r\n",
        "\r\n",
        "file = open(\"/content/drive/MyDrive/data/emp1222.csv\", encoding='cp949')\r\n",
        "emp_csv = csv.reader(file)\r\n",
        "a = []\r\n",
        "\r\n",
        "for i in emp_csv:\r\n",
        "    a.append( i[2] )\r\n",
        "\r\n",
        "print(a.count('27'))"
      ],
      "execution_count": null,
      "outputs": [
        {
          "output_type": "stream",
          "text": [
            "5\n"
          ],
          "name": "stdout"
        }
      ]
    },
    {
      "cell_type": "markdown",
      "metadata": {
        "id": "A5l9irs2yBo8"
      },
      "source": [
        ""
      ]
    },
    {
      "cell_type": "markdown",
      "metadata": {
        "id": "w_UkGk3XyBj1"
      },
      "source": [
        ""
      ]
    },
    {
      "cell_type": "markdown",
      "metadata": {
        "id": "CBDsVIemyBdS"
      },
      "source": [
        "**■ 113. 리스트 제거하기(del)**\r\n",
        "\r\n",
        "리스트 자체를 메모리에서 제거하려면 다음과 같이 del 명령어를 수행합니다.\r\n",
        "\r\n",
        "예제:"
      ]
    },
    {
      "cell_type": "code",
      "metadata": {
        "colab": {
          "base_uri": "https://localhost:8080/",
          "height": 203
        },
        "id": "h94XnqgDyDTk",
        "outputId": "39bb8aec-5f7c-43c6-8370-5c9604e98ef4"
      },
      "source": [
        "a = [ 1, 2, 3, 3, 3, 4 ]\r\n",
        "del a\r\n",
        "print(a)"
      ],
      "execution_count": null,
      "outputs": [
        {
          "output_type": "error",
          "ename": "NameError",
          "evalue": "ignored",
          "traceback": [
            "\u001b[0;31m---------------------------------------------------------------------------\u001b[0m",
            "\u001b[0;31mNameError\u001b[0m                                 Traceback (most recent call last)",
            "\u001b[0;32m<ipython-input-20-bc10827d9834>\u001b[0m in \u001b[0;36m<module>\u001b[0;34m()\u001b[0m\n\u001b[1;32m      1\u001b[0m \u001b[0ma\u001b[0m \u001b[0;34m=\u001b[0m \u001b[0;34m[\u001b[0m \u001b[0;36m1\u001b[0m\u001b[0;34m,\u001b[0m \u001b[0;36m2\u001b[0m\u001b[0;34m,\u001b[0m \u001b[0;36m3\u001b[0m\u001b[0;34m,\u001b[0m \u001b[0;36m3\u001b[0m\u001b[0;34m,\u001b[0m \u001b[0;36m3\u001b[0m\u001b[0;34m,\u001b[0m \u001b[0;36m4\u001b[0m \u001b[0;34m]\u001b[0m\u001b[0;34m\u001b[0m\u001b[0;34m\u001b[0m\u001b[0m\n\u001b[1;32m      2\u001b[0m \u001b[0;32mdel\u001b[0m \u001b[0ma\u001b[0m\u001b[0;34m\u001b[0m\u001b[0;34m\u001b[0m\u001b[0m\n\u001b[0;32m----> 3\u001b[0;31m \u001b[0mprint\u001b[0m\u001b[0;34m(\u001b[0m\u001b[0ma\u001b[0m\u001b[0;34m)\u001b[0m\u001b[0;34m\u001b[0m\u001b[0;34m\u001b[0m\u001b[0m\n\u001b[0m",
            "\u001b[0;31mNameError\u001b[0m: name 'a' is not defined"
          ]
        }
      ]
    },
    {
      "cell_type": "markdown",
      "metadata": {
        "id": "hPW1jdcyyIyF"
      },
      "source": [
        "NameError: name 'a' is not defined\r\n",
        "메모리에서 완전히 지워짐\r\n",
        "\r\n",
        "설명: 스파이더 오른쪽 아래에 있는 지우개 기능은 현재까지 스파이더를 사용하면서 정의된 모든 변수를 다 지우는 기능입니다."
      ]
    },
    {
      "cell_type": "markdown",
      "metadata": {
        "id": "Xy-temjIyMjt"
      },
      "source": [
        ""
      ]
    },
    {
      "cell_type": "markdown",
      "metadata": {
        "id": "_WXm53rjyMey"
      },
      "source": [
        ""
      ]
    },
    {
      "cell_type": "markdown",
      "metadata": {
        "id": "E-8kE6azyMY8"
      },
      "source": [
        "문제337. 파이썬에서 정의된 모든 변수들을 확인하시오 !"
      ]
    },
    {
      "cell_type": "code",
      "metadata": {
        "colab": {
          "base_uri": "https://localhost:8080/"
        },
        "id": "1EQMfrYiyNj0",
        "outputId": "d270c388-3626-4a50-978a-1a10fe6103b9"
      },
      "source": [
        "a = [ 1, 2, 3, 4, 5 ]\r\n",
        "b = 'scott'\r\n",
        "c = 30\r\n",
        "\r\n",
        "print( dir() )"
      ],
      "execution_count": 23,
      "outputs": [
        {
          "output_type": "stream",
          "text": [
            "['In', 'Out', '_', '__', '___', '__builtin__', '__builtins__', '__doc__', '__loader__', '__name__', '__package__', '__spec__', '_dh', '_i', '_i1', '_i10', '_i11', '_i12', '_i13', '_i14', '_i15', '_i16', '_i17', '_i18', '_i19', '_i2', '_i20', '_i21', '_i22', '_i23', '_i3', '_i4', '_i5', '_i6', '_i7', '_i8', '_i9', '_ih', '_ii', '_iii', '_oh', '_sh', 'a', 'artist', 'b', 'bond', 'c', 'defaultdict', 'exit', 'get_ipython', 'gini', 'i', 'j', 'k', 'music', 'quit', 'result']\n"
          ],
          "name": "stdout"
        }
      ]
    },
    {
      "cell_type": "markdown",
      "metadata": {
        "id": "XSKDS9SnyRXe"
      },
      "source": [
        ""
      ]
    },
    {
      "cell_type": "markdown",
      "metadata": {
        "id": "JQ2Aha-kyRRP"
      },
      "source": [
        ""
      ]
    },
    {
      "cell_type": "markdown",
      "metadata": {
        "id": "sgX268kmyRK1"
      },
      "source": [
        "**■ 114. 리스트 요소 정렬하기 ① (sort)**\r\n",
        "\r\n",
        "list.sort() 는 리스트 객체 list 의 모든 요소를 정렬합니다.\r\n",
        "\r\n",
        "예:"
      ]
    },
    {
      "cell_type": "code",
      "metadata": {
        "colab": {
          "base_uri": "https://localhost:8080/"
        },
        "id": "F4sj65DnyVVV",
        "outputId": "bd7d226a-ea7a-413e-a4ad-6c51a640a888"
      },
      "source": [
        "a = [ 2, 4, 1, 3, 5 ]\r\n",
        "a.sort()\r\n",
        "print(a)"
      ],
      "execution_count": null,
      "outputs": [
        {
          "output_type": "stream",
          "text": [
            "[1, 2, 3, 4, 5]\n"
          ],
          "name": "stdout"
        }
      ]
    },
    {
      "cell_type": "markdown",
      "metadata": {
        "id": "e4stYSNgyWls"
      },
      "source": [
        ""
      ]
    },
    {
      "cell_type": "markdown",
      "metadata": {
        "id": "vEw3Dc93yWgs"
      },
      "source": [
        ""
      ]
    },
    {
      "cell_type": "markdown",
      "metadata": {
        "id": "h5Qzp2pkyWat"
      },
      "source": [
        "만약에 역순으로 정렬하고 싶다면?"
      ]
    },
    {
      "cell_type": "code",
      "metadata": {
        "colab": {
          "base_uri": "https://localhost:8080/"
        },
        "id": "hWagWMSCyY5c",
        "outputId": "04912de3-c5e4-4ea8-e053-fa55c583f53f"
      },
      "source": [
        "a = [ 2, 4, 1, 3, 5 ]\r\n",
        "a.sort( reverse = True )\r\n",
        "print(a)"
      ],
      "execution_count": null,
      "outputs": [
        {
          "output_type": "stream",
          "text": [
            "[5, 4, 3, 2, 1]\n"
          ],
          "name": "stdout"
        }
      ]
    },
    {
      "cell_type": "markdown",
      "metadata": {
        "id": "Y-8Wyi-RyfZ0"
      },
      "source": [
        ""
      ]
    },
    {
      "cell_type": "markdown",
      "metadata": {
        "id": "33ehHRTNyfU1"
      },
      "source": [
        ""
      ]
    },
    {
      "cell_type": "markdown",
      "metadata": {
        "id": "jcFnhHoFyfPh"
      },
      "source": [
        "문제338. emp2.csv 에서 월급을 비어있는 리스트인 a 에 담고 월급을 역순으로 정렬해서 리스트의 요소로 구성하시오 !"
      ]
    },
    {
      "cell_type": "code",
      "metadata": {
        "colab": {
          "base_uri": "https://localhost:8080/"
        },
        "id": "90mylwsOyiL9",
        "outputId": "0ef48138-1020-42b2-8a67-484b3bbddf4d"
      },
      "source": [
        "import csv\r\n",
        "\r\n",
        "file = open(\"/content/drive/MyDrive/data/emp2.csv\")\r\n",
        "emp_csv = csv.reader(file)\r\n",
        "a = []\r\n",
        "\r\n",
        "for i in emp_csv:\r\n",
        "    a.append( int(i[5]) )\r\n",
        "\r\n",
        "a.sort( reverse = True )\r\n",
        "print(a)"
      ],
      "execution_count": null,
      "outputs": [
        {
          "output_type": "stream",
          "text": [
            "[5000, 3000, 3000, 2975, 2850, 2450, 1600, 1500, 1300, 1250, 1250, 1100, 950, 800]\n"
          ],
          "name": "stdout"
        }
      ]
    },
    {
      "cell_type": "markdown",
      "metadata": {
        "id": "QObemQtyytc1"
      },
      "source": [
        ""
      ]
    },
    {
      "cell_type": "markdown",
      "metadata": {
        "id": "C5FFrVSEytYT"
      },
      "source": [
        ""
      ]
    },
    {
      "cell_type": "markdown",
      "metadata": {
        "id": "XfPHGVmyytSF"
      },
      "source": [
        "**■ 115. 리스트 요소 정렬하기 ② (sorted)**\r\n",
        "\r\n",
        "파이썬 내장함수 sorted() 를 이용하여 리스트를 정렬 할 수 도 있습니다.  \r\n",
        "리스트 객체의 sort() 메소드와 다른점은 리스트 객체의 sort() 는 원본 리스트를 정렬한 형태로 변경하지만 sorted() 는 원본 리스트는 그대로 두고 정렬한 결과 리스트만 리턴합니다.\r\n",
        "\r\n",
        "예제:"
      ]
    },
    {
      "cell_type": "code",
      "metadata": {
        "colab": {
          "base_uri": "https://localhost:8080/"
        },
        "id": "YraaCgmXy0bs",
        "outputId": "d20e090c-91d1-442e-f259-dd5ac8bf886a"
      },
      "source": [
        "a = [ 2, 1, 3, 5, 4 ]\r\n",
        "a.sort()\r\n",
        "print(a)\r\n",
        "\r\n",
        "a = [ 2, 1, 3, 5, 4 ]\r\n",
        "b = sorted(a)\r\n",
        "print(b)\r\n",
        "print(a) "
      ],
      "execution_count": null,
      "outputs": [
        {
          "output_type": "stream",
          "text": [
            "[1, 2, 3, 4, 5]\n",
            "[1, 2, 3, 4, 5]\n",
            "[2, 1, 3, 5, 4]\n"
          ],
          "name": "stdout"
        }
      ]
    },
    {
      "cell_type": "markdown",
      "metadata": {
        "id": "7sqtnlD8yxek"
      },
      "source": [
        ""
      ]
    },
    {
      "cell_type": "markdown",
      "metadata": {
        "id": "gnDGYhOpzLlL"
      },
      "source": [
        ""
      ]
    },
    {
      "cell_type": "markdown",
      "metadata": {
        "id": "ef31ECgWzL6t"
      },
      "source": [
        "**■ 116. 리스트 요소 무작위로 섞기(shuffle)**\r\n",
        "\r\n",
        "파이썬 기본 모듈인 random 은 난수를 발생하는 모듈입니다.  \r\n",
        "이 모듈이 제공하는 shuffle 은 리스트의 요소를 무작위로 섞는 활용됩니다.\r\n",
        "\r\n",
        "예제:"
      ]
    },
    {
      "cell_type": "code",
      "metadata": {
        "colab": {
          "base_uri": "https://localhost:8080/"
        },
        "id": "vG0KuLZjzPby",
        "outputId": "0522d14f-07de-489f-d70d-8d26ab3a87fc"
      },
      "source": [
        "from random import shuffle\r\n",
        "\r\n",
        "a = [1, 2, 3, 4, 5, 6, 7, 8, 9, 10]\r\n",
        "shuffle(a)\r\n",
        "print(a) "
      ],
      "execution_count": null,
      "outputs": [
        {
          "output_type": "stream",
          "text": [
            "[8, 7, 9, 10, 6, 2, 3, 4, 5, 1]\n"
          ],
          "name": "stdout"
        }
      ]
    },
    {
      "cell_type": "markdown",
      "metadata": {
        "id": "dRzibUw9zc7Z"
      },
      "source": [
        ""
      ]
    },
    {
      "cell_type": "markdown",
      "metadata": {
        "id": "GQmtdLcbzc2e"
      },
      "source": [
        ""
      ]
    },
    {
      "cell_type": "markdown",
      "metadata": {
        "id": "K1NAowK-zcvc"
      },
      "source": [
        "문제339. 아래의 artist 라는 리스트에 가수 이름들을 추가하고 music 리스트에 음악 리스트를 추가하시오 !"
      ]
    },
    {
      "cell_type": "code",
      "metadata": {
        "id": "jaHNHbCAzeWQ"
      },
      "source": [
        "artist = ['비틀즈', '아이유', '마이클 잭슨']\r\n",
        "music = ['yesterday', '너랑나', 'beat it']"
      ],
      "execution_count": null,
      "outputs": []
    },
    {
      "cell_type": "markdown",
      "metadata": {
        "id": "oFScySoizhcq"
      },
      "source": [
        ""
      ]
    },
    {
      "cell_type": "markdown",
      "metadata": {
        "id": "29CbfJZFzhXn"
      },
      "source": [
        ""
      ]
    },
    {
      "cell_type": "markdown",
      "metadata": {
        "id": "Fz6ylHmtzhRv"
      },
      "source": [
        "문제340. 위에 artist 를 키 로 하고  music 을 값으로 해서 딕셔너리를 구성하시오 !\r\n",
        "\r\n",
        "    artist = ['비틀즈', '아이유', '마이클 잭슨']\r\n",
        "    music = ['yesterday', '너랑나', 'beat it']\r\n",
        "\r\n",
        "\r\n",
        "    gini = {'비틀즈': 'yesterday', '아이유': '너랑나', '마이클 잭슨': 'beat it'}"
      ]
    },
    {
      "cell_type": "code",
      "metadata": {
        "colab": {
          "base_uri": "https://localhost:8080/"
        },
        "id": "X4DmAgOnzimU",
        "outputId": "517ad046-b1f9-4366-dc4c-e63a4b2f677f"
      },
      "source": [
        "gini = {}    # 비어있는 딕셔너리를 gini 라는 이름으로 생성한다.\r\n",
        "gini['비틀즈'] = 'yesterday'\r\n",
        "gini['아이유'] = '너랑나'\r\n",
        "gini['마이클 잭슨'] = 'beat it'\r\n",
        "print(gini)"
      ],
      "execution_count": null,
      "outputs": [
        {
          "output_type": "stream",
          "text": [
            "{'비틀즈': 'yesterday', '아이유': '너랑나', '마이클 잭슨': 'beat it'}\n"
          ],
          "name": "stdout"
        }
      ]
    },
    {
      "cell_type": "markdown",
      "metadata": {
        "id": "9Rn65-Ob1Y1C"
      },
      "source": [
        ""
      ]
    },
    {
      "cell_type": "markdown",
      "metadata": {
        "id": "2UF0a2ve1YuA"
      },
      "source": [
        ""
      ]
    },
    {
      "cell_type": "markdown",
      "metadata": {
        "id": "huW11icc1Ynt"
      },
      "source": [
        "문제341. 위와 같이 일일이 손으로 노가다 하지 말고 아래의 2개의 리스트를 이용해서 for 문과 zip  이용해서 한번에 gini 딕셔너리를 구성하시오\r\n",
        "\r\n",
        "    artist = ['비틀즈', '아이유', '마이클 잭슨']\r\n",
        "    music = ['yesterday', '너랑나', 'beat it']"
      ]
    },
    {
      "cell_type": "code",
      "metadata": {
        "colab": {
          "base_uri": "https://localhost:8080/"
        },
        "id": "bamEdOXu1a7D",
        "outputId": "4796c013-1c75-4289-d374-9b8a526143cf"
      },
      "source": [
        "artist = ['비틀즈', '아이유', '마이클 잭슨']\r\n",
        "music = ['yesterday', '너랑나', 'beat it']\r\n",
        "gini = {}\r\n",
        "\r\n",
        "for i, j in zip(artist, music):\r\n",
        "    gini[i] = j\r\n",
        "\r\n",
        "print(gini)"
      ],
      "execution_count": null,
      "outputs": [
        {
          "output_type": "stream",
          "text": [
            "{'비틀즈': 'yesterday', '아이유': '너랑나', '마이클 잭슨': 'beat it'}\n"
          ],
          "name": "stdout"
        }
      ]
    },
    {
      "cell_type": "markdown",
      "metadata": {
        "id": "RNgc8U9l2zxz"
      },
      "source": [
        ""
      ]
    },
    {
      "cell_type": "markdown",
      "metadata": {
        "id": "3cvpxubW2zru"
      },
      "source": [
        ""
      ]
    },
    {
      "cell_type": "markdown",
      "metadata": {
        "id": "FajAjoq42zkR"
      },
      "source": [
        "**■ 117. 리스트의 모든 요소를 인덱스와 쌍으로 추출하기(enumerate)**\r\n",
        "\r\n",
        "파이썬 내장함수 enumerate() 는 시퀀스 자료형을 인자로 받아 각 요소를 인덱스와 함께 쌍으로 추출할 수 있는 반복가능 자료인  \r\n",
        "enumerate 객체를 리턴합니다. enumerate 객체는 주로 for 문과 함께 자주 사용되고 list() 를 이용해서 리스트 객체를 변환할 수 있습니다.\r\n",
        "\r\n",
        "예제:"
      ]
    },
    {
      "cell_type": "code",
      "metadata": {
        "colab": {
          "base_uri": "https://localhost:8080/"
        },
        "id": "4APYu9ez3__A",
        "outputId": "05e0dd01-aec0-42fe-8335-bada5ab04e48"
      },
      "source": [
        "emp12 = ['홍길동', '성춘향', '김팥쥐', '김한국']\r\n",
        "result = list( enumerate(emp12) )\r\n",
        "print(result)"
      ],
      "execution_count": null,
      "outputs": [
        {
          "output_type": "stream",
          "text": [
            "[(0, '홍길동'), (1, '성춘향'), (2, '김팥쥐'), (3, '김한국')]\n"
          ],
          "name": "stdout"
        }
      ]
    },
    {
      "cell_type": "markdown",
      "metadata": {
        "id": "AZK14Acr45h2"
      },
      "source": [
        ""
      ]
    },
    {
      "cell_type": "markdown",
      "metadata": {
        "id": "YptEBLbH45cW"
      },
      "source": [
        ""
      ]
    },
    {
      "cell_type": "markdown",
      "metadata": {
        "id": "UJqNTCEG45Xg"
      },
      "source": [
        "예제2:"
      ]
    },
    {
      "cell_type": "code",
      "metadata": {
        "colab": {
          "base_uri": "https://localhost:8080/"
        },
        "id": "hiN1jDgn464j",
        "outputId": "78d200d9-0bb5-48e1-8163-fba7aec7d57b"
      },
      "source": [
        "emp12 = ['홍길동', '성춘향', '김팥쥐', '김한국']\r\n",
        "\r\n",
        "for i, j in enumerate(emp12):\r\n",
        "    print( i, j )"
      ],
      "execution_count": null,
      "outputs": [
        {
          "output_type": "stream",
          "text": [
            "0 홍길동\n",
            "1 성춘향\n",
            "2 김팥쥐\n",
            "3 김한국\n"
          ],
          "name": "stdout"
        }
      ]
    },
    {
      "cell_type": "markdown",
      "metadata": {
        "id": "4esCEwrDABKf"
      },
      "source": [
        ""
      ]
    },
    {
      "cell_type": "markdown",
      "metadata": {
        "id": "RPmSIGa0ABD7"
      },
      "source": [
        ""
      ]
    },
    {
      "cell_type": "markdown",
      "metadata": {
        "id": "Kne1sHqLAA6_"
      },
      "source": [
        "문제342. 아래의 music 리스트에서 요소를 하나씩 빼내는데 앞에 인덱스 번호도 같이 출력되게하시오 !\r\n",
        "\r\n",
        "    music = ['yesterday', 'imagine', '너랑나', '마쉬멜로우', 'beat it', 'smooth criminal']\r\n",
        "\r\n"
      ]
    },
    {
      "cell_type": "code",
      "metadata": {
        "colab": {
          "base_uri": "https://localhost:8080/"
        },
        "id": "EVwiTwIXAC6h",
        "outputId": "b9b570da-e505-47d4-83c5-3b7308fa2d2b"
      },
      "source": [
        "music = ['yesterday', 'imagine', '너랑나', '마쉬멜로우', 'beat it', 'smooth criminal']\r\n",
        "\r\n",
        "for i, k in enumerate(music):\r\n",
        "    print( i, k )"
      ],
      "execution_count": null,
      "outputs": [
        {
          "output_type": "stream",
          "text": [
            "0 yesterday\n",
            "1 imagine\n",
            "2 너랑나\n",
            "3 마쉬멜로우\n",
            "4 beat it\n",
            "5 smooth criminal\n"
          ],
          "name": "stdout"
        }
      ]
    },
    {
      "cell_type": "markdown",
      "metadata": {
        "id": "0MRCwo67CDYW"
      },
      "source": [
        ""
      ]
    },
    {
      "cell_type": "markdown",
      "metadata": {
        "id": "f3ZiBIV0CDRU"
      },
      "source": [
        ""
      ]
    },
    {
      "cell_type": "markdown",
      "metadata": {
        "id": "jdeFpbdSCDKh"
      },
      "source": [
        "문제343. artist 리스트를 가지고 아래와 같이 결과를 출력하시오 !\r\n",
        "\r\n",
        "    artist = ['비틀즈', '비틀즈', '아이유', '아이유', '마이클 잭슨', '마이클 잭슨']\r\n",
        "\r\n",
        "결과:\r\n",
        "\r\n",
        "    비틀즈 0\r\n",
        "    비틀즈 1\r\n",
        "    아이유 2\r\n",
        "    아이유 3\r\n",
        "    마이클 잭슨 4\r\n",
        "    마이클 잭슨 5"
      ]
    },
    {
      "cell_type": "code",
      "metadata": {
        "colab": {
          "base_uri": "https://localhost:8080/"
        },
        "id": "EjFznwe6c0oB",
        "outputId": "d4bd68ea-3efd-4381-bd79-b010626c2de8"
      },
      "source": [
        "artist = ['비틀즈', '비틀즈', '아이유', '아이유', '마이클 잭슨', '마이클 잭슨']\r\n",
        "\r\n",
        "for i, k in enumerate(artist):\r\n",
        "    print( k, i )"
      ],
      "execution_count": 1,
      "outputs": [
        {
          "output_type": "stream",
          "text": [
            "비틀즈 0\n",
            "비틀즈 1\n",
            "아이유 2\n",
            "아이유 3\n",
            "마이클 잭슨 4\n",
            "마이클 잭슨 5\n"
          ],
          "name": "stdout"
        }
      ]
    },
    {
      "cell_type": "markdown",
      "metadata": {
        "id": "yqQEMxsSdFjl"
      },
      "source": [
        ""
      ]
    },
    {
      "cell_type": "markdown",
      "metadata": {
        "id": "r--xvjwydFdy"
      },
      "source": [
        ""
      ]
    },
    {
      "cell_type": "markdown",
      "metadata": {
        "id": "CEMAVPjZdFVt"
      },
      "source": [
        "문제344. 아래의 두개의 리스트를 가지고 아래와 같이 결과를 출력하시오 !\r\n",
        "\r\n",
        "    artist = ['비틀즈', '비틀즈', '아이유', '아이유', '마이클 잭슨', '마이클 잭슨']\r\n",
        "    music = ['yesterday', 'imagine', '너랑나', '마쉬멜로우', 'beat it', 'smooth criminal']\r\n",
        "\r\n",
        "결과:\r\n",
        "\r\n",
        "    비틀즈 yesterday\r\n",
        "    비틀즈 imagine\r\n",
        "    아이유 너랑나\r\n",
        "    아이유 마쉬멜로우\r\n",
        "    마이클 잭슨 beat it\r\n",
        "    마이클 잭슨 smooth criminal"
      ]
    },
    {
      "cell_type": "code",
      "metadata": {
        "colab": {
          "base_uri": "https://localhost:8080/"
        },
        "id": "V1MGcSfMdPCJ",
        "outputId": "6b761ae5-dee1-4a8e-8d28-93d6bcd66cf3"
      },
      "source": [
        "artist = ['비틀즈', '비틀즈', '아이유', '아이유', '마이클 잭슨', '마이클 잭슨']\r\n",
        "music = ['yesterday', 'imagine', '너랑나', '마쉬멜로우', 'beat it', 'smooth criminal']\r\n",
        "for i, k in enumerate(artist):\r\n",
        "    print( k, music[i] )"
      ],
      "execution_count": 2,
      "outputs": [
        {
          "output_type": "stream",
          "text": [
            "비틀즈 yesterday\n",
            "비틀즈 imagine\n",
            "아이유 너랑나\n",
            "아이유 마쉬멜로우\n",
            "마이클 잭슨 beat it\n",
            "마이클 잭슨 smooth criminal\n"
          ],
          "name": "stdout"
        }
      ]
    },
    {
      "cell_type": "markdown",
      "metadata": {
        "id": "74ITjuMbdXpb"
      },
      "source": [
        ""
      ]
    },
    {
      "cell_type": "markdown",
      "metadata": {
        "id": "hv01HuHAdXkV"
      },
      "source": [
        ""
      ]
    },
    {
      "cell_type": "markdown",
      "metadata": {
        "id": "xJOPeONSdXeW"
      },
      "source": [
        "최종\r\n",
        "\r\n",
        "    { '비틀즈' : ['yesterday', 'imagine'], '아이유' : ['너랑나', '마쉬멜로우'], '마이클 잭슨' : ['beat it', 'smooth criminal'] }\r\n",
        "\r\n",
        "설명: 위와 같이 딕셔너리를 구성하려면 그냥 딕셔너리인 중괄호 하나로 { } 비어있는 딕셔너리를\t만들면되고 defaultdict 를 이용해야합니다.  \r\n",
        "defaultdict 은 collections 패키지에 있어서 아래와 같이 import 해야합니다.\r\n"
      ]
    },
    {
      "cell_type": "code",
      "metadata": {
        "colab": {
          "base_uri": "https://localhost:8080/"
        },
        "id": "6T9LliSld2JV",
        "outputId": "4d389573-bdca-4708-a023-e390dd7b202d"
      },
      "source": [
        "from collections import defaultdict\r\n",
        "\r\n",
        "gini = defaultdict(list)\r\n",
        "gini['비틀즈'].append('yesterday')\r\n",
        "print(gini)\r\n",
        "\r\n",
        "gini['비틀즈'].append('imagine')\r\n",
        "print(gini)       "
      ],
      "execution_count": 3,
      "outputs": [
        {
          "output_type": "stream",
          "text": [
            "defaultdict(<class 'list'>, {'비틀즈': ['yesterday']})\n",
            "defaultdict(<class 'list'>, {'비틀즈': ['yesterday', 'imagine']})\n"
          ],
          "name": "stdout"
        }
      ]
    },
    {
      "cell_type": "markdown",
      "metadata": {
        "id": "c3e0LZbeiJUd"
      },
      "source": [
        ""
      ]
    },
    {
      "cell_type": "markdown",
      "metadata": {
        "id": "DcB7KuCiiJPt"
      },
      "source": [
        ""
      ]
    },
    {
      "cell_type": "markdown",
      "metadata": {
        "id": "53DnKQRHiJH-"
      },
      "source": [
        "문제345. 그럼 위에서 만든 default 딕셔너리에 아이유를 키로 하고 너랑나, 마쉬멜로우를 값으로 해서 추가하시오 !"
      ]
    },
    {
      "cell_type": "code",
      "metadata": {
        "colab": {
          "base_uri": "https://localhost:8080/"
        },
        "id": "NmY82xM3iK9W",
        "outputId": "239bfbd4-edac-477f-a2a2-4bf5517a6948"
      },
      "source": [
        "from collections import defaultdict\r\n",
        "\r\n",
        "gini = defaultdict(list)\r\n",
        "gini['비틀즈'].append('yesterday')\r\n",
        "gini['비틀즈'].append('imagine')\r\n",
        "gini['아이유'].append('너랑나')\r\n",
        "gini['아이유'].append('마쉬멜로우')\r\n",
        "\r\n",
        "print(gini)"
      ],
      "execution_count": 5,
      "outputs": [
        {
          "output_type": "stream",
          "text": [
            "defaultdict(<class 'list'>, {'비틀즈': ['yesterday', 'imagine'], '아이유': ['너랑나', '마쉬멜로우']})\n"
          ],
          "name": "stdout"
        }
      ]
    },
    {
      "cell_type": "markdown",
      "metadata": {
        "id": "xXYj9zB1iWWh"
      },
      "source": [
        ""
      ]
    },
    {
      "cell_type": "markdown",
      "metadata": {
        "id": "LnJf3syqiWR5"
      },
      "source": [
        ""
      ]
    },
    {
      "cell_type": "markdown",
      "metadata": {
        "id": "uGGFjJtpiWNj"
      },
      "source": [
        "문제346. 위와 같이 일일이 손으로 노가다 하지말고 enumerate 를 이용해서 gini 딕셔너리를 구성하시오 !"
      ]
    },
    {
      "cell_type": "code",
      "metadata": {
        "colab": {
          "base_uri": "https://localhost:8080/"
        },
        "id": "945U50ywiSHN",
        "outputId": "480627e5-0e93-4c98-829b-a4f8ec24a593"
      },
      "source": [
        "from collections import defaultdict\r\n",
        "\r\n",
        "artist = ['비틀즈', '비틀즈', '아이유', '아이유', '마이클 잭슨', '마이클 잭슨']\r\n",
        "music = ['yesterday', 'imagine', '너랑나', '마쉬멜로우', 'beat it', 'smooth criminal']\r\n",
        "gini = defaultdict(list)\r\n",
        "\r\n",
        "for i, k in enumerate(artist):\r\n",
        "    gini[k].append(music[i])\r\n",
        "\r\n",
        "print(gini)"
      ],
      "execution_count": 14,
      "outputs": [
        {
          "output_type": "stream",
          "text": [
            "defaultdict(<class 'list'>, {'비틀즈': ['yesterday', 'imagine'], '아이유': ['너랑나', '마쉬멜로우'], '마이클 잭슨': ['beat it', 'smooth criminal']})\n"
          ],
          "name": "stdout"
        }
      ]
    },
    {
      "cell_type": "markdown",
      "metadata": {
        "id": "yE2tbwiSihxI"
      },
      "source": [
        ""
      ]
    },
    {
      "cell_type": "markdown",
      "metadata": {
        "id": "J5fae2XTihtN"
      },
      "source": [
        ""
      ]
    },
    {
      "cell_type": "markdown",
      "metadata": {
        "id": "vWb72nDQiho7"
      },
      "source": [
        "문제347. 위의 gini 딕셔너리에서 음악만 추출하시오 (딕셔너리의 값만 추출)\r\n",
        "\r\n",
        "    딕셔너리에서 키값을 추출할 때는 : 딕셔너리이름.keys()\r\n",
        "    딕셔너리에서 값만 추출할 때는  : 딕셔너리이름.values()"
      ]
    },
    {
      "cell_type": "code",
      "metadata": {
        "colab": {
          "base_uri": "https://localhost:8080/"
        },
        "id": "YXxJ0d_dikC-",
        "outputId": "7c2889c3-49d2-44fc-f767-14aab8c884fe"
      },
      "source": [
        "for i in gini.values():\r\n",
        "    print(i)"
      ],
      "execution_count": 7,
      "outputs": [
        {
          "output_type": "stream",
          "text": [
            "['yesterday', 'imagine']\n",
            "['너랑나', '마쉬멜로우']\n",
            "['beat it', 'smooth criminal']\n"
          ],
          "name": "stdout"
        }
      ]
    },
    {
      "cell_type": "code",
      "metadata": {
        "colab": {
          "base_uri": "https://localhost:8080/"
        },
        "id": "zpeGve0Bissi",
        "outputId": "15aaf17b-58b4-425d-8ff6-44edb57aecf7"
      },
      "source": [
        "for i in gini.values():\r\n",
        "    for k in i:\r\n",
        "        print(k)"
      ],
      "execution_count": 8,
      "outputs": [
        {
          "output_type": "stream",
          "text": [
            "yesterday\n",
            "imagine\n",
            "너랑나\n",
            "마쉬멜로우\n",
            "beat it\n",
            "smooth criminal\n"
          ],
          "name": "stdout"
        }
      ]
    },
    {
      "cell_type": "markdown",
      "metadata": {
        "id": "ZkVr4kN7i9vs"
      },
      "source": [
        ""
      ]
    },
    {
      "cell_type": "markdown",
      "metadata": {
        "id": "LpklI2emi9rC"
      },
      "source": [
        ""
      ]
    },
    {
      "cell_type": "markdown",
      "metadata": {
        "id": "zIMbD3Bpi9k6"
      },
      "source": [
        "문제348. 위의 코드 음악들을 비어있는 리스트인 a 에 담으시오 !"
      ]
    },
    {
      "cell_type": "code",
      "metadata": {
        "colab": {
          "base_uri": "https://localhost:8080/"
        },
        "id": "Qr1uBo0Ti-3D",
        "outputId": "ec8226a5-ec35-4482-c05a-48e2054e83b2"
      },
      "source": [
        "a = []\r\n",
        "\r\n",
        "for i in gini.values():\r\n",
        "    for k in i:\r\n",
        "        a.append(k)\r\n",
        "\r\n",
        "print(a)"
      ],
      "execution_count": 10,
      "outputs": [
        {
          "output_type": "stream",
          "text": [
            "['yesterday', 'imagine', '너랑나', '마쉬멜로우', 'beat it', 'smooth criminal']\n"
          ],
          "name": "stdout"
        }
      ]
    },
    {
      "cell_type": "markdown",
      "metadata": {
        "id": "_TpKodajjcZr"
      },
      "source": [
        ""
      ]
    },
    {
      "cell_type": "markdown",
      "metadata": {
        "id": "fJN06525jcVw"
      },
      "source": [
        ""
      ]
    },
    {
      "cell_type": "markdown",
      "metadata": {
        "id": "0UlQCa__jcRk"
      },
      "source": [
        "문제349. 문제346번 코드를 수정해서 gini.values() 의 요소들을 프린트 해보시오 !"
      ]
    },
    {
      "cell_type": "code",
      "metadata": {
        "colab": {
          "base_uri": "https://localhost:8080/"
        },
        "id": "cn5nKfaljBO7",
        "outputId": "dcc17616-c7b4-452f-f7c8-4d22bd334e7d"
      },
      "source": [
        "from  collections  import  defaultdict \r\n",
        "\r\n",
        "artist = ['비틀즈', '비틀즈', '아이유', '아이유' ,'마이클 잭슨', '마이클 잭슨']\r\n",
        "music =['yesterday', 'imagine', '너랑나', '마슈멜로우', 'beat it', 'smooth criminal']\r\n",
        "gini=defaultdict(list)\r\n",
        "\r\n",
        "for i, k in enumerate(artist):\r\n",
        "    gini[k].append(music[i]) \r\n",
        "\r\n",
        "for j in gini.values():\r\n",
        "    print(j) "
      ],
      "execution_count": 13,
      "outputs": [
        {
          "output_type": "stream",
          "text": [
            "['yesterday', 'imagine']\n",
            "['너랑나', '마슈멜로우']\n",
            "['beat it', 'smooth criminal']\n"
          ],
          "name": "stdout"
        }
      ]
    },
    {
      "cell_type": "markdown",
      "metadata": {
        "id": "HWecwEhnkJ16"
      },
      "source": [
        ""
      ]
    },
    {
      "cell_type": "markdown",
      "metadata": {
        "id": "oOBOGCeXkJxX"
      },
      "source": [
        ""
      ]
    },
    {
      "cell_type": "markdown",
      "metadata": {
        "id": "xknwsItNkJuS"
      },
      "source": [
        "문제350. 아래와 같이 결과를 출력하시오 ! ( 문자열로 출력)\r\n",
        "\r\n",
        "    yesterday, 너랑나, beat it, imagine, 마쉬멜로우, smooth criminal"
      ]
    },
    {
      "cell_type": "code",
      "metadata": {
        "colab": {
          "base_uri": "https://localhost:8080/"
        },
        "id": "Ck_xszWAkMUi",
        "outputId": "b9b7fd8f-f43b-4ad2-8af7-3261906e9ad7"
      },
      "source": [
        "from  collections  import  defaultdict \r\n",
        "\r\n",
        "artist = ['비틀즈', '비틀즈', '아이유', '아이유' ,'마이클 잭슨', '마이클 잭슨']\r\n",
        "music =['yesterday', 'imagine', '너랑나', '마쉬멜로우', 'beat it', 'smooth criminal']\r\n",
        "gini=defaultdict(list)\r\n",
        "\r\n",
        "for i, k in enumerate(artist):\r\n",
        "    gini[k].append(music[i]) \r\n",
        "\r\n",
        "a = []\r\n",
        "b = []\r\n",
        "\r\n",
        "for j in gini.values():\r\n",
        "    a.append(j[0])\r\n",
        "    b.append(j[1])\r\n",
        "\r\n",
        "print(a)\r\n",
        "print(b)\r\n",
        "\r\n",
        "bond = ','\r\n",
        "result = bond.join(a+b)\r\n",
        "print(result)"
      ],
      "execution_count": 22,
      "outputs": [
        {
          "output_type": "stream",
          "text": [
            "['yesterday', '너랑나', 'beat it']\n",
            "['imagine', '마쉬멜로우', 'smooth criminal']\n",
            "yesterday,너랑나,beat it,imagine,마쉬멜로우,smooth criminal\n"
          ],
          "name": "stdout"
        }
      ]
    }
  ]
}