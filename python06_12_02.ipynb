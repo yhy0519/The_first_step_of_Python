{
  "nbformat": 4,
  "nbformat_minor": 0,
  "metadata": {
    "colab": {
      "name": "python06_12_02.ipynb",
      "provenance": [],
      "collapsed_sections": [],
      "mount_file_id": "1Eepl3bzwum22K7BkBj8t55aV7dyj7rcN",
      "authorship_tag": "ABX9TyNykhXmINXbdyGoYRE4gquw",
      "include_colab_link": true
    },
    "kernelspec": {
      "name": "python3",
      "display_name": "Python 3"
    }
  },
  "cells": [
    {
      "cell_type": "markdown",
      "metadata": {
        "id": "view-in-github",
        "colab_type": "text"
      },
      "source": [
        "<a href=\"https://colab.research.google.com/github/yhy0519/The_first_step_of_Python/blob/main/python06_12_02.ipynb\" target=\"_parent\"><img src=\"https://colab.research.google.com/assets/colab-badge.svg\" alt=\"Open In Colab\"/></a>"
      ]
    },
    {
      "cell_type": "code",
      "metadata": {
        "id": "SOODPqocWStE"
      },
      "source": [
        "from google.colab import drive\r\n",
        "drive.mount('/content/drive')"
      ],
      "execution_count": null,
      "outputs": []
    },
    {
      "cell_type": "code",
      "metadata": {
        "id": "055C6C4rn5qV"
      },
      "source": [
        "import sys\r\n",
        "sys.path.append('/content/drive/MyDrive')\r\n",
        "print(sys.path)"
      ],
      "execution_count": null,
      "outputs": []
    },
    {
      "cell_type": "markdown",
      "metadata": {
        "id": "bTqPEFDVv6tN"
      },
      "source": [
        ""
      ]
    },
    {
      "cell_type": "markdown",
      "metadata": {
        "id": "ICwTBueGv6FZ"
      },
      "source": [
        ""
      ]
    },
    {
      "cell_type": "markdown",
      "metadata": {
        "id": "sTsYCqMxYCic"
      },
      "source": [
        "**■ 내가 직접 모듈 생성하기**\n",
        "\n",
        "지금 현재 작성한 코드가 어느 디렉토리에 어느 이름으로 저장되어있는지 확인하는 방법?\n"
      ]
    },
    {
      "cell_type": "code",
      "metadata": {
        "id": "Wh_1gUNaXvDN"
      },
      "source": [
        "def add_number(n1, n2):\n",
        "    result = n1 + n2\n",
        "    return result"
      ],
      "execution_count": null,
      "outputs": []
    },
    {
      "cell_type": "markdown",
      "metadata": {
        "id": "88M4j--9YG6a"
      },
      "source": [
        "위의 함수 스크립트를 지정된 장소에 my_cal.py 라는 이름으로 저장을 함\n",
        "(File -> Save as)\n",
        "\n",
        "메뉴에 새로운창을 열기 (New file)  \n",
        "새로운 창에서 아래와 같이 import를 합니다."
      ]
    },
    {
      "cell_type": "code",
      "metadata": {
        "id": "g-uouMFOYRvo",
        "colab": {
          "base_uri": "https://localhost:8080/"
        },
        "outputId": "890dd32e-cf28-4def-b9a2-44d0758d0ed0"
      },
      "source": [
        "import my_cal                      # my_cal 모듈을 import 합니다.\n",
        "\n",
        "print( my_cal.add_number(1, 2) )   # my_cal 모듈안에 add_number 함수를 실행해라"
      ],
      "execution_count": null,
      "outputs": [
        {
          "output_type": "stream",
          "text": [
            "3\n"
          ],
          "name": "stdout"
        }
      ]
    },
    {
      "cell_type": "markdown",
      "metadata": {
        "id": "BB2sqT5zYNSO"
      },
      "source": [
        "설명: 이번 창에는 def 로 add_number 함수를 만드는 코드는 없습니다.  \n",
        "\tmy_cal.py 모듈안에 있는데 그 모듈을 이 창에서 사용할 수 있도록 import 를 했습니다.\n"
      ]
    },
    {
      "cell_type": "markdown",
      "metadata": {
        "id": "ly5f2wdOv-Ge"
      },
      "source": [
        ""
      ]
    },
    {
      "cell_type": "markdown",
      "metadata": {
        "id": "bj2Qn7N9v-AE"
      },
      "source": [
        ""
      ]
    },
    {
      "cell_type": "markdown",
      "metadata": {
        "id": "ywUNpyKNvqRl"
      },
      "source": [
        "문제148. my_cal.py 모듈 스크립트 안에 곱하기를 하는 아래의 함수를 추가하시오 !"
      ]
    },
    {
      "cell_type": "code",
      "metadata": {
        "id": "6RWs568Svs_8"
      },
      "source": [
        "def gob_number(n1, n2):\r\n",
        "    result = n1 * n2\r\n",
        "    return result"
      ],
      "execution_count": null,
      "outputs": []
    },
    {
      "cell_type": "markdown",
      "metadata": {
        "id": "NOccv5Cav_Zv"
      },
      "source": [
        ""
      ]
    },
    {
      "cell_type": "markdown",
      "metadata": {
        "id": "mD2Jexx4v-9b"
      },
      "source": [
        ""
      ]
    },
    {
      "cell_type": "markdown",
      "metadata": {
        "id": "Y7vegvLRvvHY"
      },
      "source": [
        "문제149. 다른 새로운 창에서 my_cal 모듈을 import 하고 gob_number 함수를 실행하시오 ~\r\n"
      ]
    },
    {
      "cell_type": "code",
      "metadata": {
        "colab": {
          "base_uri": "https://localhost:8080/"
        },
        "id": "VfOH32yYvwvs",
        "outputId": "b1f414ba-e25f-414c-8191-840a22e245b7"
      },
      "source": [
        "import my_cal\r\n",
        "\r\n",
        "print( my_cal.add_number(1, 2) ) \r\n",
        "print( my_cal.gob_number(2, 3) )"
      ],
      "execution_count": null,
      "outputs": [
        {
          "output_type": "stream",
          "text": [
            "3\n",
            "6\n"
          ],
          "name": "stdout"
        }
      ]
    },
    {
      "cell_type": "markdown",
      "metadata": {
        "id": "xV7pdvqIwvMV"
      },
      "source": [
        "설명: 그동안 통계문제를 풀려고 import random 을 했는데 random 은 여러개의 함수를 모아놓은 소스코드였고 아마도 어딘가에 random.py 라는 이름으로 저장되어 있는것을 우리가 import 한 것입니다."
      ]
    },
    {
      "cell_type": "markdown",
      "metadata": {
        "id": "cTuHkX-XwAsZ"
      },
      "source": [
        ""
      ]
    },
    {
      "cell_type": "markdown",
      "metadata": {
        "id": "YemaExjjwAKi"
      },
      "source": [
        ""
      ]
    },
    {
      "cell_type": "markdown",
      "metadata": {
        "id": "nEnZviCDxLZt"
      },
      "source": [
        "문제150. 이번에는 나누기를 하는 함수를 my_cal.py 에 저장하고 다른 새로운창에서 아래와 같이 import 하고 실행될 수 있도록 하시오!"
      ]
    },
    {
      "cell_type": "code",
      "metadata": {
        "id": "YzBRuh6kxM5F"
      },
      "source": [
        "def devide(n1, n2):\r\n",
        "    result = n1 / n2\r\n",
        "    return result"
      ],
      "execution_count": null,
      "outputs": []
    },
    {
      "cell_type": "code",
      "metadata": {
        "colab": {
          "base_uri": "https://localhost:8080/"
        },
        "id": "7U3YqB6FxQvU",
        "outputId": "4a6a34ad-5802-469d-be8e-a5eb9d2425eb"
      },
      "source": [
        "import my_cal\r\n",
        "\r\n",
        "print( my_cal.add_number(1, 2) ) \r\n",
        "print( my_cal.gob_number(2, 3) )\r\n",
        "print( my_cal.devide( 10, 2 ) )"
      ],
      "execution_count": null,
      "outputs": [
        {
          "output_type": "stream",
          "text": [
            "3\n",
            "6\n",
            "5.0\n"
          ],
          "name": "stdout"
        }
      ]
    },
    {
      "cell_type": "markdown",
      "metadata": {
        "id": "htLUM0v0wKoO"
      },
      "source": [
        ""
      ]
    },
    {
      "cell_type": "markdown",
      "metadata": {
        "id": "YZaPXqFVwKge"
      },
      "source": [
        ""
      ]
    },
    {
      "cell_type": "markdown",
      "metadata": {
        "id": "56RgMiWOxwOt"
      },
      "source": [
        "**■ 44. 파이썬 패키지 이해하기**\r\n",
        "\r\n",
        "우리가 음악파일을 저장할 때도 장르별로 폴더를 만들어서 별도로 저장을 하듯이 파이썬 모듈도 음악처럼 갯수가 많아지면  \r\n",
        "폴더(모듈 꾸러미) 별로 별도로 관리를 해야 관리자가 편해지는데\r\n",
        "이 폴더가 바로 '패키지' 이다.\r\n",
        "\r\n",
        "    패키지(폴더)   vs   모듈(폴더 안의 my_cal.py 같은 파이썬 스크립트)"
      ]
    },
    {
      "cell_type": "markdown",
      "metadata": {
        "id": "A8NisCurwNEK"
      },
      "source": [
        ""
      ]
    },
    {
      "cell_type": "markdown",
      "metadata": {
        "id": "5T3C2E54wN_C"
      },
      "source": [
        ""
      ]
    },
    {
      "cell_type": "markdown",
      "metadata": {
        "id": "dJIFbTH2x1pE"
      },
      "source": [
        "**■ 파이썬 패키지를 만드는 단계**\r\n",
        "\r\n",
        "    1. 원하는 디렉토리에 my_loc 라는 폴더를 생성한다.\r\n",
        "\r\n",
        "    2. my_loc 폴더 안에 my_cal.py 를 옮겨 놓는다.\r\n",
        "      (my_cal.py 를 my_loc 폴더에 복사하고 기존에 있는 my_cal.py는 지우시오)\r\n",
        "\r\n",
        "    3. 이 평범한 폴더가 패키지로 인정을 받으려면 반드시 갖고 있어야하는 파일이 있습니다.\r\n",
        "       그 파일이 __init__.py 라는 파일입니다.\r\n",
        "        1) __init__.py    ( 새 텍스트문서 만들기 하고 이름을 __init__.py 로 설정)\r\n",
        "\t\t2) my_cal.py\r\n",
        "\r\n",
        "     4. 새로운 창에서 아래와 같이 스크립트를 수행합니다.\r\n",
        "\r\n",
        "    from my_loc import my_cal   # from 패키지 import 모듈\r\n",
        "\r\n",
        "    print( my_cal.add_number(1, 2) )\r\n",
        "\r\n",
        "    위와 비슷한 스크립트를 보았는데\r\n",
        "\r\n",
        "    from scipy.stats import norm   # scipy 패키지안에 stats 라는 패키지에 norm 이라는 모듈을 import 해라\r\n",
        "\r\n",
        "    print( norm.pdf(x, 평균, 표준편차) )   # norm 모듈에 pdf (확률밀도함수)를 실행해라"
      ]
    },
    {
      "cell_type": "markdown",
      "metadata": {
        "id": "kKbFs1niwQNy"
      },
      "source": [
        ""
      ]
    },
    {
      "cell_type": "markdown",
      "metadata": {
        "id": "N5MjNcAvwP_1"
      },
      "source": [
        ""
      ]
    },
    {
      "cell_type": "markdown",
      "metadata": {
        "id": "H9s2nBIXycJ6"
      },
      "source": [
        "**■ 45. 파이썬 모듈 임포트 이해하기 ① (import)**\r\n",
        "\r\n",
        "이미 만들어져 있는 어떤 함수를 우리가 작성하는 코드에서 자유롭게 활용할 수 있으려면해당 함수가 포함된 모듈을 import 해야합니다.  \r\n",
        "import 하는 방법은 다음과 같습니다.\r\n",
        "\r\n",
        "    import 모듈이름\r\n",
        "    from 패키지 import 모듈이름\r\n",
        "    import 패키지이름.모듈이름\r\n",
        "\r\n",
        "예제: 아래와 같이 우리가 만든 모듈이 아니라 다른 사람이 만든 모듈을 import 해서 썼는데 이 모듈은 어디에 있는것일까?\r\n",
        "\r\n",
        "    import pandas\r\n",
        "    import numpy\r\n",
        "\r\n",
        "위와 같이 패키지 이름을 안주고 모듈만 import 했는데 잘 실행이 되었습니다.\r\n",
        "위와 같은 모듈을 어떤 모듈입니까?\r\n",
        "\r\n",
        "    1. 파이썬 내장 모듈\r\n",
        "    2. sys.path 에 정의되어 있는 모듈\r\n",
        "\r\n",
        "\r\n",
        "** import 를 만나면 파이썬 모듈을 찾는 순서\r\n",
        "\r\n",
        "    1. 파이썬 내장 모듈에 있는지 확인\r\n",
        "    2. sys.path 에 정의되어 있는 디렉토리를 뒤져봅니다.\r\n",
        "\r\n",
        "\r\n"
      ]
    },
    {
      "cell_type": "markdown",
      "metadata": {
        "id": "qTeoNwcbwgxt"
      },
      "source": [
        ""
      ]
    },
    {
      "cell_type": "markdown",
      "metadata": {
        "id": "WiDVNDXjwgaZ"
      },
      "source": [
        ""
      ]
    },
    {
      "cell_type": "markdown",
      "metadata": {
        "id": "7DkgHm6PweDF"
      },
      "source": [
        "** 파이썬 내장 모듈이 무엇이 있는지 확인하는 방법\r\n"
      ]
    },
    {
      "cell_type": "code",
      "metadata": {
        "colab": {
          "base_uri": "https://localhost:8080/"
        },
        "id": "vSbiscGIzCZI",
        "outputId": "525b2d27-668c-411f-a860-423e2b1268cd"
      },
      "source": [
        "import sys\r\n",
        "print( sys.builtin_module_names )"
      ],
      "execution_count": null,
      "outputs": [
        {
          "output_type": "stream",
          "text": [
            "('_ast', '_bisect', '_blake2', '_codecs', '_collections', '_datetime', '_elementtree', '_functools', '_heapq', '_imp', '_io', '_locale', '_md5', '_operator', '_pickle', '_posixsubprocess', '_random', '_sha1', '_sha256', '_sha3', '_sha512', '_signal', '_socket', '_sre', '_stat', '_string', '_struct', '_symtable', '_thread', '_tracemalloc', '_warnings', '_weakref', 'array', 'atexit', 'binascii', 'builtins', 'cmath', 'errno', 'faulthandler', 'fcntl', 'gc', 'grp', 'itertools', 'marshal', 'math', 'posix', 'pwd', 'pyexpat', 'select', 'spwd', 'sys', 'syslog', 'time', 'unicodedata', 'xxsubtype', 'zipimport', 'zlib')\n"
          ],
          "name": "stdout"
        }
      ]
    },
    {
      "cell_type": "markdown",
      "metadata": {
        "id": "0BZFKgAiwh1N"
      },
      "source": [
        ""
      ]
    },
    {
      "cell_type": "markdown",
      "metadata": {
        "id": "xhYvzu79whR7"
      },
      "source": [
        ""
      ]
    },
    {
      "cell_type": "markdown",
      "metadata": {
        "id": "vDktai44zGJU"
      },
      "source": [
        "** sys.path 에 정의된 디렉토리가 무엇인지 확인하는 방법"
      ]
    },
    {
      "cell_type": "code",
      "metadata": {
        "id": "DNasi-BozG7d"
      },
      "source": [
        "import sys\r\n",
        "\r\n",
        "for i in sys.path:\r\n",
        "    print(i)"
      ],
      "execution_count": null,
      "outputs": []
    },
    {
      "cell_type": "markdown",
      "metadata": {
        "id": "8pXY33cSzKLD"
      },
      "source": [
        "** site-packages 란 무엇인가?  \r\n",
        "\r\n",
        "    site-packages 란 파이썬의 기본 라이브러리 패키지 외에 추가적인 패키지를 설치하는 디렉토리 입니다.\r\n",
        "    site-packages 디렉토리에 여러가지 소프트웨어가 사용할 공통 모듈을 넣어두면 물리적인 장소에 구애받지 않고 모듈에 접근하여 반입할 수 있습니다.\r\n",
        "\r\n",
        "아래의 명령어가 수행되려면 아래의 명령어를 수행하는 스크립트가\r\n",
        "위에서 선택한 디렉토리 밑에 있어야 합니다.\r\n",
        "왜냐하면 my_loc 폴더가 선택한 디렉토리 밑에 있기 때문입니다.\r\n",
        "\r\n",
        "    from my_loc import my_cal\r\n",
        "\r\n",
        "그런데 선택한 디렉토리가 아니더라도 다른 디렉토리에서라도\r\n",
        "from my_loc import my_cal 명령어를 자유롭게 실행하려면 my_loc 폴더가\r\n",
        "컴퓨터 내의 site-packages 밑에 있으면 됩니다."
      ]
    },
    {
      "cell_type": "markdown",
      "metadata": {
        "id": "Onzuv9DVwpix"
      },
      "source": [
        ""
      ]
    },
    {
      "cell_type": "markdown",
      "metadata": {
        "id": "F6AmKmL1wpaB"
      },
      "source": [
        ""
      ]
    },
    {
      "cell_type": "markdown",
      "metadata": {
        "id": "x0mkIKix96O2"
      },
      "source": [
        "문제151. my_loc 폴더를 site-packages 폴더 밑에 두세요 !"
      ]
    },
    {
      "cell_type": "markdown",
      "metadata": {
        "id": "6eCnVU3Fwstt"
      },
      "source": [
        ""
      ]
    },
    {
      "cell_type": "markdown",
      "metadata": {
        "id": "ibhTzjttwsnJ"
      },
      "source": [
        ""
      ]
    },
    {
      "cell_type": "markdown",
      "metadata": {
        "id": "-i0IZJ6r-YQs"
      },
      "source": [
        "**■ 46. numpy 모듈 이해하기**\r\n",
        "\r\n",
        "** numpy 모듈이란 ?\r\n",
        "\r\n",
        "    python 언어에서 기본적으로 지원하지 않는 배열(array) 또는 행렬(matrix) 의 계산을 쉽게 해주는 라이브러리 입니다.\r\n",
        "    딥러닝에서 많이 사용하는 선형대 수학에 관련된 수식들을 python 에서 쉽게 프로그래밍 할 수 있게 해줍니다.\r\n",
        "\r\n",
        "예제. 아래의 행렬을 만드시오 !\r\n",
        "\r\n",
        "    1 2\r\n",
        "    4 7\r\n",
        "\r\n"
      ]
    },
    {
      "cell_type": "markdown",
      "metadata": {
        "id": "isJhOUyIwuf9"
      },
      "source": [
        ""
      ]
    },
    {
      "cell_type": "markdown",
      "metadata": {
        "id": "H6GQ1-YhwxbA"
      },
      "source": [
        ""
      ]
    },
    {
      "cell_type": "markdown",
      "metadata": {
        "id": "L56uKAMvwuU1"
      },
      "source": [
        " 1. 리스트로만 했을때"
      ]
    },
    {
      "cell_type": "code",
      "metadata": {
        "colab": {
          "base_uri": "https://localhost:8080/"
        },
        "id": "mSTNGM3I-k0n",
        "outputId": "0581fd62-19ec-42a4-e60b-40d5c061c4e0"
      },
      "source": [
        "a = [ [ 1, 2 ], [ 4, 7 ] ]\r\n",
        "print(a)"
      ],
      "execution_count": null,
      "outputs": [
        {
          "output_type": "stream",
          "text": [
            "[[1, 2], [4, 7]]\n"
          ],
          "name": "stdout"
        }
      ]
    },
    {
      "cell_type": "markdown",
      "metadata": {
        "id": "8EqGViBswwv8"
      },
      "source": [
        ""
      ]
    },
    {
      "cell_type": "markdown",
      "metadata": {
        "id": "Gx96Gy59wyf4"
      },
      "source": [
        ""
      ]
    },
    {
      "cell_type": "markdown",
      "metadata": {
        "id": "AoS4TCq5-nNo"
      },
      "source": [
        " 2. numpy array 로 했을때"
      ]
    },
    {
      "cell_type": "code",
      "metadata": {
        "colab": {
          "base_uri": "https://localhost:8080/"
        },
        "id": "Eie8K2En-n24",
        "outputId": "c96d3343-2787-4303-c59e-d9267a99fc9a"
      },
      "source": [
        "import numpy as np\r\n",
        "\r\n",
        "a = [ [ 1, 2 ], [ 4, 7 ] ]\r\n",
        "a2 = np.array(a)         # a 리스트를 numpy 배열로 구성함\r\n",
        "print(a2)"
      ],
      "execution_count": null,
      "outputs": [
        {
          "output_type": "stream",
          "text": [
            "[[1 2]\n",
            " [4 7]]\n"
          ],
          "name": "stdout"
        }
      ]
    },
    {
      "cell_type": "markdown",
      "metadata": {
        "id": "_0RRCiQFwzfm"
      },
      "source": [
        ""
      ]
    },
    {
      "cell_type": "markdown",
      "metadata": {
        "id": "HWGC6uh8wzJM"
      },
      "source": [
        ""
      ]
    },
    {
      "cell_type": "markdown",
      "metadata": {
        "id": "3RWVjdco-wQ0"
      },
      "source": [
        "문제152. 아래의 행렬의 합을 출력하시오 !\r\n",
        "\r\n",
        "    1 2  +  3 1\r\n",
        "    4 5     6 2"
      ]
    },
    {
      "cell_type": "code",
      "metadata": {
        "colab": {
          "base_uri": "https://localhost:8080/"
        },
        "id": "LLiQ6Hpr-63B",
        "outputId": "693140f4-c4fb-4a12-ea80-4500f2ef9bcf"
      },
      "source": [
        "import numpy as np\r\n",
        "a = [ [ 1, 2 ], [ 4, 5 ] ]\r\n",
        "b = [ [ 3, 1 ], [ 6, 2 ] ]\r\n",
        "a2 = np.array(a)\r\n",
        "b2 = np.array(b)\r\n",
        "print(a2 + b2)"
      ],
      "execution_count": null,
      "outputs": [
        {
          "output_type": "stream",
          "text": [
            "[[ 4  3]\n",
            " [10  7]]\n"
          ],
          "name": "stdout"
        }
      ]
    },
    {
      "cell_type": "markdown",
      "metadata": {
        "id": "ixJxZ6JLw06A"
      },
      "source": [
        ""
      ]
    },
    {
      "cell_type": "markdown",
      "metadata": {
        "id": "JrLJzBrXw0xc"
      },
      "source": [
        ""
      ]
    },
    {
      "cell_type": "markdown",
      "metadata": {
        "id": "NIpySUB6_S4Z"
      },
      "source": [
        "문제153. 아래의 행렬의 합을 출력하시오 !\r\n",
        "\r\n",
        "    6 3 4  +  4  5 7\r\n",
        "    5 1 7     9 20 4"
      ]
    },
    {
      "cell_type": "code",
      "metadata": {
        "colab": {
          "base_uri": "https://localhost:8080/"
        },
        "id": "wvuJ25WX_dEu",
        "outputId": "272bd31e-7418-4934-ff51-a2ded4333671"
      },
      "source": [
        "import numpy as np\r\n",
        "a = [ [ 6, 3, 4 ], [ 5, 1, 7 ] ]\r\n",
        "b = [ [ 4, 5, 7 ], [ 9, 20, 4] ]\r\n",
        "a2 = np.array(a)\r\n",
        "b2 = np.array(b)\r\n",
        "print(a2 + b2)"
      ],
      "execution_count": null,
      "outputs": [
        {
          "output_type": "stream",
          "text": [
            "[[10  8 11]\n",
            " [14 21 11]]\n"
          ],
          "name": "stdout"
        }
      ]
    },
    {
      "cell_type": "markdown",
      "metadata": {
        "id": "TeZ7vCCkw2is"
      },
      "source": [
        ""
      ]
    },
    {
      "cell_type": "markdown",
      "metadata": {
        "id": "Vzx9EYvCw2E0"
      },
      "source": [
        ""
      ]
    },
    {
      "cell_type": "markdown",
      "metadata": {
        "id": "pETa_7Dy_sOI"
      },
      "source": [
        "문제154. 아래의 행렬의 곱을 먼저 손으로 구하고 파이썬으로 구하시오 !\r\n",
        "\r\n",
        "    1  2   ⊙   2  1\r\n",
        "    4  3        3  4\r\n",
        "\r\n",
        "    1*2 + 2*3 = 8      1*1 + 2*4 = 9 \r\n",
        "    4*2 + 3*3 = 17     4*1 + 3*4 = 16 \r\n"
      ]
    },
    {
      "cell_type": "code",
      "metadata": {
        "colab": {
          "base_uri": "https://localhost:8080/"
        },
        "id": "KBgLQKoP_9Xi",
        "outputId": "b5c832ea-15a6-41cc-c4d0-c3c749d1f08f"
      },
      "source": [
        "import numpy as np\r\n",
        "a = [ [ 1, 2 ], [ 4, 3 ] ]\r\n",
        "b = [ [ 2, 1 ], [ 3, 4 ] ]\r\n",
        "a2 = np.array(a)\r\n",
        "b2 = np.array(b)\r\n",
        "print(np.dot(a, b))"
      ],
      "execution_count": null,
      "outputs": [
        {
          "output_type": "stream",
          "text": [
            "[[ 8  9]\n",
            " [17 16]]\n"
          ],
          "name": "stdout"
        }
      ]
    },
    {
      "cell_type": "markdown",
      "metadata": {
        "id": "ERdT5bdSw6ss"
      },
      "source": [
        ""
      ]
    },
    {
      "cell_type": "markdown",
      "metadata": {
        "id": "y1N-RD6Xw6lM"
      },
      "source": [
        ""
      ]
    },
    {
      "cell_type": "markdown",
      "metadata": {
        "id": "Yng74_V5AHVX"
      },
      "source": [
        "문제155. 아래의 행렬의 곱을 출력하시오!\r\n",
        "\r\n",
        "    3  4  1   ⊙   2  1 \r\n",
        "    2  4  3        4  3  \r\n",
        "                   6  7"
      ]
    },
    {
      "cell_type": "code",
      "metadata": {
        "colab": {
          "base_uri": "https://localhost:8080/"
        },
        "id": "BKX28SL1AUfQ",
        "outputId": "cb66519a-6daa-4ee8-9543-0194b545eb8d"
      },
      "source": [
        "import numpy as np\r\n",
        "a = [ [ 3, 4, 1], [ 2, 4, 3 ] ]\r\n",
        "b = [ [ 2, 1 ], [ 4, 3 ], [ 6, 7 ] ]\r\n",
        "a2 = np.array(a)\r\n",
        "b2 = np.array(b)\r\n",
        "print(np.dot(a, b))"
      ],
      "execution_count": null,
      "outputs": [
        {
          "output_type": "stream",
          "text": [
            "[[28 22]\n",
            " [38 35]]\n"
          ],
          "name": "stdout"
        }
      ]
    },
    {
      "cell_type": "markdown",
      "metadata": {
        "id": "kqB-rksDw8W5"
      },
      "source": [
        ""
      ]
    },
    {
      "cell_type": "markdown",
      "metadata": {
        "id": "iUZENaigw78B"
      },
      "source": [
        ""
      ]
    },
    {
      "cell_type": "markdown",
      "metadata": {
        "id": "p1fQTSscAfG_"
      },
      "source": [
        "**■ 47. numpy 모듈 사용하기2**\r\n",
        "\r\n",
        "    numpy 모듈로 최대값, 최소값, 평균값, 중앙값, 최빈값, 분산값, 표준편차값, 공분산값, 상관계수의 통계값들을 쉽게 출력할 수 있습니다."
      ]
    },
    {
      "cell_type": "markdown",
      "metadata": {
        "id": "0nM0b2RFw_bq"
      },
      "source": [
        ""
      ]
    },
    {
      "cell_type": "markdown",
      "metadata": {
        "id": "R54nEn4SAkPI"
      },
      "source": [
        "예제1. 아래의 리스트에서 최대값을 출력하시오 !\r\n",
        "\r\n",
        "    a = [ 28, 23, 21, 29, 30, 40, 23, 21 ]"
      ]
    },
    {
      "cell_type": "code",
      "metadata": {
        "colab": {
          "base_uri": "https://localhost:8080/"
        },
        "id": "WiMmryB8Ak7Y",
        "outputId": "c34b50f4-49df-4ef9-b42c-0a12e8ad2d26"
      },
      "source": [
        "a = [ 28, 23, 21, 29, 30, 40, 23, 21 ]\r\n",
        "\r\n",
        "import numpy as np\r\n",
        "a2 = np.array(a)\r\n",
        "print( np.max(a2) )"
      ],
      "execution_count": null,
      "outputs": [
        {
          "output_type": "stream",
          "text": [
            "40\n"
          ],
          "name": "stdout"
        }
      ]
    },
    {
      "cell_type": "markdown",
      "metadata": {
        "id": "JhJrhhzmxA5L"
      },
      "source": [
        ""
      ]
    },
    {
      "cell_type": "markdown",
      "metadata": {
        "id": "C_YhyxVExAcB"
      },
      "source": [
        ""
      ]
    },
    {
      "cell_type": "markdown",
      "metadata": {
        "id": "yNlNgSZOAr_h"
      },
      "source": [
        "예제2. 아래의 리스트에서 최대값, 최소값, 평균값, 중앙값, 최빈값을 출력하시오!\r\n",
        "\r\n",
        "    a = [ 28, 23, 21, 29, 30, 40, 23, 21 ]"
      ]
    },
    {
      "cell_type": "code",
      "metadata": {
        "colab": {
          "base_uri": "https://localhost:8080/"
        },
        "id": "7dcg36zrAtlJ",
        "outputId": "2a1e59f7-ab43-4401-b473-d60ac97c1cfb"
      },
      "source": [
        "import numpy as np\r\n",
        "from scipy.stats import mode\r\n",
        "\r\n",
        "a = [ 28, 23, 21, 29, 30, 40, 23, 21 ]\r\n",
        "\r\n",
        "a2 = np.array(a)\r\n",
        "print( np.max(a2) )\r\n",
        "print( np.min(a2) )\r\n",
        "print( np.mean(a2) )\r\n",
        "print( np.median(a2) )\r\n",
        "print( mode(a) )"
      ],
      "execution_count": null,
      "outputs": [
        {
          "output_type": "stream",
          "text": [
            "40\n",
            "21\n",
            "26.875\n",
            "25.5\n",
            "ModeResult(mode=array([21]), count=array([2]))\n"
          ],
          "name": "stdout"
        }
      ]
    },
    {
      "cell_type": "markdown",
      "metadata": {
        "id": "mVrXh1iCxCey"
      },
      "source": [
        ""
      ]
    },
    {
      "cell_type": "markdown",
      "metadata": {
        "id": "G8-MYXTqxCMt"
      },
      "source": [
        ""
      ]
    },
    {
      "cell_type": "markdown",
      "metadata": {
        "id": "9grgwPz8B8r6"
      },
      "source": [
        "**■ 48. 파일 열고 닫기(open, close)**\r\n",
        "\r\n",
        "파일은 텍스트 파일과 바이너리 파일 두가지 종류가 있습니다.  \r\n",
        "텍스트 파일은 사람이 읽을 수 있는 글자로 저장된 파일이고  \r\n",
        "바이너리 파일은 컴퓨터가 읽고 이해할 수 있는 이진 데이터를 기록한 파일입니다.  \r\n",
        "예를들어 원도우에서 제공하는 메모장 프로그램을 이용하여 내용을 적고 저장하면 텍스트 파일로 저장됩니다.  \r\n",
        "이미지 뷰어로 볼 수 있는 jpg 이미지 파일은 이진 데이터를 jpg 형식의 파일로 저장한 바이너리 파일입니다.  \r\n",
        "파이썬에서 파일을 다루기 위해서 가장 먼저 해야할 일은 파일을 오픈 하는것입니다.  \r\n",
        "파일을 오픈하기 위해서는 open() 함수를 이용합니다.\r\n",
        "\r\n",
        "문법: open(파일이름, 모드)\r\n",
        "\r\n",
        "    모드\t   \t설명\r\n",
        "     r\t    텍스트 모드로 읽기\r\n",
        "     w    \t텍스트 모드로 쓰기\r\n",
        "     rb\t   바이너리 모드로 읽기\r\n",
        "     wb\t   바이너리 모드로 읽기\r\n"
      ]
    },
    {
      "cell_type": "markdown",
      "metadata": {
        "id": "RUI7NqroxJWL"
      },
      "source": [
        ""
      ]
    },
    {
      "cell_type": "markdown",
      "metadata": {
        "id": "w23PWHJTCOo1"
      },
      "source": [
        "예제1. 이미지 파일을 파이썬에서 여는 방법"
      ]
    },
    {
      "cell_type": "code",
      "metadata": {
        "colab": {
          "base_uri": "https://localhost:8080/",
          "height": 286
        },
        "id": "Uygx5csqCYED",
        "outputId": "c2d50eb0-c3e6-4359-9764-8e6842cb546a"
      },
      "source": [
        "import PIL.Image as pilimg               # 이미지를 파이썬에서 시각화 하기위한 모듈\r\n",
        "import numpy as np\r\n",
        "import matplotlib.pyplot as plt          # 데이터 시각화 전문 모듈\r\n",
        "\r\n",
        "im = pilimg.open('/content/drive/MyDrive/data/lena.png')   # lena.png 파일을 읽어서 im 에 입력\r\n",
        "pix = np.array(im)                                         # numpy 배열로 변환합니다.\r\n",
        "plt.imshow(pix)                                            # 화면에 띄웁니다. "
      ],
      "execution_count": null,
      "outputs": [
        {
          "output_type": "execute_result",
          "data": {
            "text/plain": [
              "<matplotlib.image.AxesImage at 0x7f0a804fbb70>"
            ]
          },
          "metadata": {
            "tags": []
          },
          "execution_count": 23
        },
        {
          "output_type": "display_data",
          "data": {
            "image/png": "[encoded data removed]",
            "text/plain": [
              "<Figure size 432x288 with 1 Axes>"
            ]
          },
          "metadata": {
            "tags": [],
            "needs_background": "light"
          }
        }
      ]
    },
    {
      "cell_type": "markdown",
      "metadata": {
        "id": "YO9tQhkSxLVJ"
      },
      "source": [
        ""
      ]
    },
    {
      "cell_type": "markdown",
      "metadata": {
        "id": "730ULNxtxLLO"
      },
      "source": [
        ""
      ]
    },
    {
      "cell_type": "markdown",
      "metadata": {
        "id": "-gBxa8sBCXn7"
      },
      "source": [
        "문제156. 폐사진을 파이썬에서 시각화 하시오!\r\n"
      ]
    },
    {
      "cell_type": "code",
      "metadata": {
        "colab": {
          "base_uri": "https://localhost:8080/",
          "height": 286
        },
        "id": "J-7-Tj6RClhF",
        "outputId": "038dd781-6fd4-4b9e-9d49-3106231d07e5"
      },
      "source": [
        "import PIL.Image as ILIMG\r\n",
        "import numpy as np\r\n",
        "import matplotlib.pyplot as plt\r\n",
        "\r\n",
        "im = pilimg.open('/content/drive/MyDrive/data/1.png')\r\n",
        "pix = np.array(im)\r\n",
        "plt.imshow(pix)"
      ],
      "execution_count": null,
      "outputs": [
        {
          "output_type": "execute_result",
          "data": {
            "text/plain": [
              "<matplotlib.image.AxesImage at 0x7f0a7fb3afd0>"
            ]
          },
          "metadata": {
            "tags": []
          },
          "execution_count": 26
        },
        {
          "output_type": "display_data",
          "data": {
            "image/png": "[encoded data removed]",
            "text/plain": [
              "<Figure size 432x288 with 1 Axes>"
            ]
          },
          "metadata": {
            "tags": [],
            "needs_background": "light"
          }
        }
      ]
    },
    {
      "cell_type": "markdown",
      "metadata": {
        "id": "LJVpubOAxO2W"
      },
      "source": [
        ""
      ]
    },
    {
      "cell_type": "markdown",
      "metadata": {
        "id": "w1WvNvdzxOpT"
      },
      "source": [
        ""
      ]
    },
    {
      "cell_type": "markdown",
      "metadata": {
        "id": "EOacBcpqCk7B"
      },
      "source": [
        "**■ 49. 클래스 이해하기(class)**\r\n",
        "\r\n",
        "객체 지향 프로그램에서 중요한 단어가 바로 클래스 입니다.  \r\n",
        "클래스는 프로그래머가 지정한 이름을 만든 하나의 독립된 공간이며, 이름공간(name space) 이라 부릅니다.  \r\n",
        "클래스를 구성하는 주요요소는 클래스에서 변수 역할을 하는 클래스 멤버와 함수 역할을 하는 클래스 메소드 입니다.\r\n",
        "\r\n",
        "클래스는 설계도이고 객체는 설계도를 바탕으로 만든 제품\r\n",
        "\r\n",
        "예: \r\n",
        "\r\n",
        "    총 설계도      vs      총(제품)\r\n",
        "     (클래스)                (객체)\r\n",
        "\r\n"
      ]
    },
    {
      "cell_type": "markdown",
      "metadata": {
        "id": "gj_wUxedxSGF"
      },
      "source": [
        ""
      ]
    },
    {
      "cell_type": "markdown",
      "metadata": {
        "id": "yem4XxTuFNY6"
      },
      "source": [
        "예제1. 총 클래스(설계도) 를 생성하시오\r\n",
        "\r\n",
        "    총의 기능: 총알을 장전하는 기능, 총 쏘는 기능"
      ]
    },
    {
      "cell_type": "code",
      "metadata": {
        "id": "0pPBVxo7FO83"
      },
      "source": [
        "class Gun():                       # 클래스 이름은 첫번째 절자는 대문자 나머지는 소문자로 구성한다.\r\n",
        "    def charge( self, num ):       #  총알을 충전하는 함수\r\n",
        "        self.bullet = num\r\n",
        "\r\n",
        "    def shoot( self, num ):        # 총을 쏘는 함수\r\n",
        "        for i in range(num):\r\n",
        "            if self.bullet > 0:\r\n",
        "                print('탕!')\r\n",
        "                self.bullet -= 1\r\n",
        "            elif self.bullet == 0:\r\n",
        "                print('총알이 없습니다')\r\n",
        "                break"
      ],
      "execution_count": null,
      "outputs": []
    },
    {
      "cell_type": "markdown",
      "metadata": {
        "id": "1IeZsItbFUG5"
      },
      "source": [
        "설명: 파이썬 클래스를 만들 때 self 키워드는 필수입니다. 안쓰면 에러가 납니다.\r\n",
        "\tself 의 뜻은 자기자신입니다.  \r\n",
        "\t이 총 설계도로 총을 만들고 그 총을 사용할 때 charge 와 shoot 기능을 사용할 것인데\r\n",
        "\t이 때 이 총이 내꺼라는 의미가 바로 self 입니다."
      ]
    },
    {
      "cell_type": "markdown",
      "metadata": {
        "id": "CymQdePrxTga"
      },
      "source": [
        ""
      ]
    },
    {
      "cell_type": "markdown",
      "metadata": {
        "id": "881vJaohxTL0"
      },
      "source": [
        ""
      ]
    },
    {
      "cell_type": "markdown",
      "metadata": {
        "id": "fZdE2N0PFf55"
      },
      "source": [
        "총 생산하는 명령어\r\n",
        "\r\n",
        "    gun1 = Gun()\r\n",
        "    gun2 = Gun()\r\n",
        "    gun3 = Gun()\r\n",
        "\r\n",
        "gun1 총을 사서 다음과 같이 충전했습니다.\r\n",
        "\r\n",
        "    gun1.charge(100)\r\n",
        "\r\n",
        "실제로 총 설계도에는 charge(self, num) 이라고 해서 입력 매개변수가 2개인데\r\n",
        "총을 사용할 때 충전할때는 gun1.charge(100) 이렇게 매변수 하나에 값을 입력했습니다.  \r\n",
        "그러면 self 입력매개변수에는 자동으로 gun1 이 들어갑니다."
      ]
    },
    {
      "cell_type": "markdown",
      "metadata": {
        "id": "iKi9XSndxVSa"
      },
      "source": [
        ""
      ]
    },
    {
      "cell_type": "markdown",
      "metadata": {
        "id": "ZcReuodsxVJw"
      },
      "source": [
        ""
      ]
    },
    {
      "cell_type": "markdown",
      "metadata": {
        "id": "6RZAnXLxFpeK"
      },
      "source": [
        "예제2. 위에서 만든 총설계도를 가지고 총을 한정 만드시오 !\r\n"
      ]
    },
    {
      "cell_type": "code",
      "metadata": {
        "id": "8AwQ3UmiFq9f"
      },
      "source": [
        "gun1 = Gun()"
      ],
      "execution_count": null,
      "outputs": []
    },
    {
      "cell_type": "markdown",
      "metadata": {
        "id": "jd3QBdW7xWh0"
      },
      "source": [
        ""
      ]
    },
    {
      "cell_type": "markdown",
      "metadata": {
        "id": "i2h6kyksxWb4"
      },
      "source": [
        ""
      ]
    },
    {
      "cell_type": "markdown",
      "metadata": {
        "id": "czhTIc0xFtXj"
      },
      "source": [
        "예제3. gun1 이라는 제품에 총알 10발 충전합니다."
      ]
    },
    {
      "cell_type": "code",
      "metadata": {
        "id": "TduK58NQFvxo"
      },
      "source": [
        "gun1.charge(10)"
      ],
      "execution_count": null,
      "outputs": []
    },
    {
      "cell_type": "markdown",
      "metadata": {
        "id": "a_Za1JfcxXkJ"
      },
      "source": [
        ""
      ]
    },
    {
      "cell_type": "markdown",
      "metadata": {
        "id": "SZBVGB9wxXDn"
      },
      "source": [
        ""
      ]
    },
    {
      "cell_type": "markdown",
      "metadata": {
        "id": "dz1p2i5nFxeZ"
      },
      "source": [
        "예제4. 총을 쏴보시오 ~ \r\n"
      ]
    },
    {
      "cell_type": "code",
      "metadata": {
        "colab": {
          "base_uri": "https://localhost:8080/"
        },
        "id": "NUZ-KNMNFx7q",
        "outputId": "7ff6a1ce-7f0a-456c-92b8-07630fa4bde7"
      },
      "source": [
        "gun1.shoot(3)"
      ],
      "execution_count": null,
      "outputs": [
        {
          "output_type": "stream",
          "text": [
            "탕!\n",
            "탕!\n",
            "탕!\n"
          ],
          "name": "stdout"
        }
      ]
    },
    {
      "cell_type": "markdown",
      "metadata": {
        "id": "2uqOJsPjxZCW"
      },
      "source": [
        ""
      ]
    },
    {
      "cell_type": "markdown",
      "metadata": {
        "id": "PjteMBx1xYj3"
      },
      "source": [
        ""
      ]
    },
    {
      "cell_type": "markdown",
      "metadata": {
        "id": "tt_yEM5AwlFU"
      },
      "source": [
        "문제157. 총설계도를 수정해서 총알을 아래와 같이 충전하면 몇발이 충전되었습니다. 라는 메세지가 출력되게하시오!\r\n",
        "\r\n",
        "    10 발이 충전되었습니다."
      ]
    },
    {
      "cell_type": "code",
      "metadata": {
        "id": "4n3ZhtUJwqJ_"
      },
      "source": [
        "class Gun(): \r\n",
        "    def charge( self, num ):\r\n",
        "        self.bullet = num\r\n",
        "        print( num,'발이 충전되었습니다.')\r\n",
        "\r\n",
        "    def shoot( self, num ):\r\n",
        "        for i in range(num):\r\n",
        "            if self.bullet > 0:\r\n",
        "                print('탕!')\r\n",
        "                self.bullet -= 1\r\n",
        "            elif self.bullet == 0:\r\n",
        "                print('총알이 없습니다')\r\n",
        "                break"
      ],
      "execution_count": null,
      "outputs": []
    },
    {
      "cell_type": "code",
      "metadata": {
        "colab": {
          "base_uri": "https://localhost:8080/"
        },
        "id": "YAt-1C7-w1TS",
        "outputId": "8b9990fc-6332-498e-d217-00009b1d19f1"
      },
      "source": [
        "gun1 = Gun()\r\n",
        "gun1.charge(10)"
      ],
      "execution_count": null,
      "outputs": [
        {
          "output_type": "stream",
          "text": [
            "10 발이 충전되었습니다.\n"
          ],
          "name": "stdout"
        }
      ]
    },
    {
      "cell_type": "markdown",
      "metadata": {
        "id": "DlrGRd5rxaap"
      },
      "source": [
        ""
      ]
    },
    {
      "cell_type": "markdown",
      "metadata": {
        "id": "5KNjjtfpxaK3"
      },
      "source": [
        ""
      ]
    },
    {
      "cell_type": "markdown",
      "metadata": {
        "id": "RNxLKrz-w8bj"
      },
      "source": [
        "문제158. 이번에는 총을 쏘면 총알이 탕! 탕! 하면서 아래쪽에 몇 발 남았습니다. 라는 메세지가 출력되게하시오!"
      ]
    },
    {
      "cell_type": "code",
      "metadata": {
        "id": "fhW-85H5w_uj"
      },
      "source": [
        "class Gun(): \r\n",
        "    def charge( self, num ):\r\n",
        "        self.bullet = num\r\n",
        "        print( num,'발이 충전되었습니다.')\r\n",
        "\r\n",
        "    def shoot( self, num ):\r\n",
        "        for i in range(num):\r\n",
        "            if self.bullet > 0:\r\n",
        "                print('탕!')\r\n",
        "                self.bullet -= 1\r\n",
        "            elif self.bullet == 0:\r\n",
        "                print('총알이 없습니다')\r\n",
        "                break\r\n",
        "        print('총알이', self.bullet, '발 남았습니다.')"
      ],
      "execution_count": null,
      "outputs": []
    },
    {
      "cell_type": "code",
      "metadata": {
        "colab": {
          "base_uri": "https://localhost:8080/"
        },
        "id": "xDsHP8c_xLk0",
        "outputId": "196378ab-7a09-4fcc-f068-223cc3684a83"
      },
      "source": [
        "gun1 = Gun()\r\n",
        "gun1.charge(10)\r\n",
        "gun1.shoot(3)"
      ],
      "execution_count": null,
      "outputs": [
        {
          "output_type": "stream",
          "text": [
            "10 발이 충전되었습니다.\n",
            "탕!\n",
            "탕!\n",
            "탕!\n",
            "총알이 7 발 남았습니다.\n"
          ],
          "name": "stdout"
        }
      ]
    },
    {
      "cell_type": "markdown",
      "metadata": {
        "id": "93EXu-lBxbxc"
      },
      "source": [
        ""
      ]
    },
    {
      "cell_type": "markdown",
      "metadata": {
        "id": "wxNEvw3NxbpT"
      },
      "source": [
        ""
      ]
    },
    {
      "cell_type": "markdown",
      "metadata": {
        "id": "aH6YDrGzxTv7"
      },
      "source": [
        "문제159. 총을 처음 생산했을때 총알이 반드시 0발 장전되도록 총설계도를 수정하시오!"
      ]
    },
    {
      "cell_type": "code",
      "metadata": {
        "id": "pO5GsXGaxbxj"
      },
      "source": [
        "class Gun(): \r\n",
        "    def __init__(self):         # 설계도를 가지고 제품을 처음 만들때 자동으로 작동되는 함수\r\n",
        "        self.bullet = 0         # 만들때만 작동하고 그 다음엔 작동안함.\r\n",
        "        print( '총이 만들어졌습니다.', self.bullet, '발 장전되었습니다.' )\r\n",
        "\r\n",
        "    def charge( self, num ):\r\n",
        "        self.bullet = num\r\n",
        "        print( num,'발이 충전되었습니다.')\r\n",
        "\r\n",
        "    def shoot( self, num ):\r\n",
        "        for i in range(num):\r\n",
        "            if self.bullet > 0:\r\n",
        "                print('탕!')\r\n",
        "                self.bullet -= 1\r\n",
        "            elif self.bullet == 0:\r\n",
        "                print('총알이 없습니다')\r\n",
        "                break\r\n",
        "        print('총알이', self.bullet, '발 남았습니다.')"
      ],
      "execution_count": null,
      "outputs": []
    },
    {
      "cell_type": "code",
      "metadata": {
        "colab": {
          "base_uri": "https://localhost:8080/"
        },
        "id": "tJmznRY3xn2D",
        "outputId": "255d5bc2-f2f9-477d-f590-fe6d8e0437ce"
      },
      "source": [
        "gun1 = Gun()"
      ],
      "execution_count": null,
      "outputs": [
        {
          "output_type": "stream",
          "text": [
            "총이 만들어졌습니다. 0 발 장전되었습니다.\n"
          ],
          "name": "stdout"
        }
      ]
    },
    {
      "cell_type": "markdown",
      "metadata": {
        "id": "AEG8oHugxciT"
      },
      "source": [
        ""
      ]
    },
    {
      "cell_type": "markdown",
      "metadata": {
        "id": "QuYgiRYRxcdf"
      },
      "source": [
        ""
      ]
    },
    {
      "cell_type": "markdown",
      "metadata": {
        "id": "ryY__ZIWxTqm"
      },
      "source": [
        "문제160. 총클래스를 이용해서 카드 클래스를 만들고 아래와 같이 카드를 충전하고 사용하시오!\r\n",
        "\r\n",
        "    card1 = Card()\r\n",
        "    카드가 만들어졌습니다. 0 원이 충전되었습니다.\r\n",
        "    \r\n",
        "    card1.charge(10000)\r\n",
        "    10000 원 충전되었습니다.\r\n",
        "    \r\n",
        "    card1.consume(1000)\r\n",
        "    1000 원이 사용되었습니다.\r\n",
        "    잔액이 9000 원 남았습니다"
      ]
    },
    {
      "cell_type": "code",
      "metadata": {
        "id": "DwsLIV2Kxyk0"
      },
      "source": [
        "class Card(): \r\n",
        "    def __init__(self):\r\n",
        "        self.cash = 0 \r\n",
        "        print('카드가 만들어졌습니다.', self.cash, '원이 충전되었습니다.')\r\n",
        "\r\n",
        "    def charge( self, num ):\r\n",
        "        self.cash = num\r\n",
        "        print( num,'원 충전되었습니다.')\r\n",
        "\r\n",
        "    def consume( self, num ):\r\n",
        "        if self.cash > 0:\r\n",
        "            self.cash -= num\r\n",
        "            print( num, '원이 사용되었습니다.' )\r\n",
        "            print('잔액이', self.cash, '원 남았습니다')"
      ],
      "execution_count": null,
      "outputs": []
    },
    {
      "cell_type": "code",
      "metadata": {
        "colab": {
          "base_uri": "https://localhost:8080/"
        },
        "id": "EpOwSTAbyfXn",
        "outputId": "afc01e17-52dd-45c4-9ce5-9fd71096cece"
      },
      "source": [
        "card1 = Card()\r\n",
        "card1.charge(10000)\r\n",
        "card1.consume(1000)"
      ],
      "execution_count": null,
      "outputs": [
        {
          "output_type": "stream",
          "text": [
            "카드가 만들어졌습니다. 0 원이 충전되었습니다.\n",
            "10000 원 충전되었습니다.\n",
            "1000 원이 사용되었습니다.\n",
            "잔액이 9000 원 남았습니다\n"
          ],
          "name": "stdout"
        }
      ]
    },
    {
      "cell_type": "markdown",
      "metadata": {
        "id": "yUI8QU4OxdqX"
      },
      "source": [
        ""
      ]
    },
    {
      "cell_type": "markdown",
      "metadata": {
        "id": "BPFvjjxlxdjY"
      },
      "source": [
        ""
      ]
    },
    {
      "cell_type": "markdown",
      "metadata": {
        "id": "jAiJr4IKy_GP"
      },
      "source": [
        "**■ 51. 클래스 메소드 이해하기**\r\n",
        "\r\n",
        "card 클래스의 charge 와 consume 는 메소드(기능) 입니다."
      ]
    },
    {
      "cell_type": "markdown",
      "metadata": {
        "id": "yntZd9-4zA2O"
      },
      "source": [
        "예:"
      ]
    },
    {
      "cell_type": "code",
      "metadata": {
        "colab": {
          "base_uri": "https://localhost:8080/"
        },
        "id": "XT4iet9YzB-s",
        "outputId": "4fc82b5b-c7e5-4a09-dc14-a3e0ec2245c7"
      },
      "source": [
        "a = [ 1, 2, 3, 4 ]\r\n",
        "print( type(a) )"
      ],
      "execution_count": null,
      "outputs": [
        {
          "output_type": "stream",
          "text": [
            "<class 'list'>\n"
          ],
          "name": "stdout"
        }
      ]
    },
    {
      "cell_type": "markdown",
      "metadata": {
        "id": "F7lVKU8YzFOO"
      },
      "source": [
        "설명: 리스트가 클래스였다고 출력이 됩니다.  \r\n",
        "리스트가 class 라는 말은 리스트 클래스 안에도 분명히 메소드(기능) 가 존재할 것 입니다.\r\n",
        "\r\n",
        "    card1.charge(1000)\r\n",
        "     ↑      ↑\r\n",
        "    객체   메소드(기능)\r\n",
        "    \r\n",
        "    a = [ 1, 2, 3, 4 ]\r\n",
        "    a.append(5)\r\n",
        "    ↑   ↑\r\n",
        "    객체 메소드(기능)\r\n",
        "\r\n"
      ]
    },
    {
      "cell_type": "markdown",
      "metadata": {
        "id": "PbHaHDaJxguB"
      },
      "source": [
        ""
      ]
    },
    {
      "cell_type": "markdown",
      "metadata": {
        "id": "72Gptu4qxgY9"
      },
      "source": [
        ""
      ]
    },
    {
      "cell_type": "markdown",
      "metadata": {
        "id": "HrUysK7PzVbO"
      },
      "source": [
        "** 리스트 객체의 유용한 메소드\r\n",
        "\r\n",
        "    \t  메소드\t\t   설명\r\n",
        "       1. append()\t리스트 맨 끝에 새로운 요소를 추가할 때 사용\r\n",
        "       2. count()\t 리스트에서 특정 요소의 갯수를 카운트할 때 사용\r\n",
        "       3. insert()\t리스트의 특정 위치에 요소를 입력할 때 사용\r\n",
        "       4. remove()\t리스트의 트정 요소를 제거할 때 사용\r\n",
        "       5. sort()\t  리스트의 요소를 순차적으로 정렬할 때 사용\r\n",
        "       6. reverse()   리스트의 요소를 역순으로 정렬할 때 사용\r\n",
        "       7. index()     리스트의 특정 요소의 위치를 출력할 때 사용"
      ]
    },
    {
      "cell_type": "markdown",
      "metadata": {
        "id": "ICaMJgaixiJb"
      },
      "source": [
        ""
      ]
    },
    {
      "cell_type": "code",
      "metadata": {
        "colab": {
          "base_uri": "https://localhost:8080/"
        },
        "id": "UdJT2wsZzl1s",
        "outputId": "70b0ca20-61d3-4b12-9aac-928e65109314"
      },
      "source": [
        "a = [ 1, 2, 3, 1, 2, 2, 2, 3, 4 ]   # a 라는 리스트 객체(제품)가 생성됨\r\n",
        "print( a.count(2) )                 # a 리스트에 숫자 2가 몇개가 있는지 조회"
      ],
      "execution_count": null,
      "outputs": [
        {
          "output_type": "stream",
          "text": [
            "4\n"
          ],
          "name": "stdout"
        }
      ]
    },
    {
      "cell_type": "markdown",
      "metadata": {
        "id": "XsQC48cAxi9b"
      },
      "source": [
        ""
      ]
    },
    {
      "cell_type": "markdown",
      "metadata": {
        "id": "wjroogwqxih0"
      },
      "source": [
        ""
      ]
    },
    {
      "cell_type": "markdown",
      "metadata": {
        "id": "__Ke-TDmz8LY"
      },
      "source": [
        "문제161. 초등학생 키에 대한 모집단을 생성하세요! (천만개로 구성) 키의 평균값은 140, 표준편차 5로 해서 생성하시오!"
      ]
    },
    {
      "cell_type": "code",
      "metadata": {
        "id": "IvHU2U5m0BD-"
      },
      "source": [
        "import numpy as np\r\n",
        "\r\n",
        "height = np.random.randn(10000000) * 5 + 140"
      ],
      "execution_count": null,
      "outputs": []
    },
    {
      "cell_type": "markdown",
      "metadata": {
        "id": "6XZhZNIZyG4C"
      },
      "source": [
        ""
      ]
    },
    {
      "cell_type": "markdown",
      "metadata": {
        "id": "7pfjXfvJyGuX"
      },
      "source": [
        ""
      ]
    },
    {
      "cell_type": "markdown",
      "metadata": {
        "id": "nKqg59XX0gjH"
      },
      "source": [
        "문제162. 위의 모집단에서 표본을 100개를 추출해서 표본의 평균값을 출력하시오!"
      ]
    },
    {
      "cell_type": "code",
      "metadata": {
        "colab": {
          "base_uri": "https://localhost:8080/"
        },
        "id": "GIq9rzsV0lSF",
        "outputId": "7abda9e3-83ba-4918-c441-63772948bcfe"
      },
      "source": [
        "import numpy as np\r\n",
        "\r\n",
        "height = np.random.randn(10000000) * 5 + 140\r\n",
        "print(np.random.choice(height, 100).mean())"
      ],
      "execution_count": null,
      "outputs": [
        {
          "output_type": "stream",
          "text": [
            "139.3855819772978\n"
          ],
          "name": "stdout"
        }
      ]
    },
    {
      "cell_type": "markdown",
      "metadata": {
        "id": "wf1eGP2xxjzp"
      },
      "source": [
        ""
      ]
    },
    {
      "cell_type": "markdown",
      "metadata": {
        "id": "2QHI6t_Nxjue"
      },
      "source": [
        ""
      ]
    },
    {
      "cell_type": "markdown",
      "metadata": {
        "id": "sxp3gm4Z02K3"
      },
      "source": [
        "문제163. 위에서 표본 100개를 뽑아서 평균값을 구해서 a 라는 비어있는 리스트에 담는 작업을 10000 번 수행하시오!"
      ]
    },
    {
      "cell_type": "code",
      "metadata": {
        "colab": {
          "base_uri": "https://localhost:8080/"
        },
        "id": "xS5hTScQ05xt",
        "outputId": "d0efc286-12ba-4f95-f5e5-47cc70ae9c94"
      },
      "source": [
        "import numpy as np\r\n",
        "\r\n",
        "height = np.random.randn(10000000) * 5 + 140\r\n",
        "a = []\r\n",
        "\r\n",
        "for i in range(1, 10001):\r\n",
        "  a.append(np.random.choice(height, 100).mean())\r\n",
        "\r\n",
        "print(len(a))"
      ],
      "execution_count": null,
      "outputs": [
        {
          "output_type": "stream",
          "text": [
            "10000\n"
          ],
          "name": "stdout"
        }
      ]
    },
    {
      "cell_type": "markdown",
      "metadata": {
        "id": "o00zDP8nxky0"
      },
      "source": [
        ""
      ]
    },
    {
      "cell_type": "markdown",
      "metadata": {
        "id": "Vx_9-kC4xlrl"
      },
      "source": [
        ""
      ]
    },
    {
      "cell_type": "markdown",
      "metadata": {
        "id": "jhiIb9DU1IG-"
      },
      "source": [
        "문제164. 위에서 구한 표본 평균값들 10000개의 평균값과 표준편차를 s_avg 와 s_std 변수에 각각 담으시오 !"
      ]
    },
    {
      "cell_type": "code",
      "metadata": {
        "colab": {
          "base_uri": "https://localhost:8080/"
        },
        "id": "QK818OMO1Lj9",
        "outputId": "46b99b81-1834-45c4-8224-2e96280cfa53"
      },
      "source": [
        "import numpy as np\r\n",
        "\r\n",
        "height = np.random.randn(10000000) * 5 + 140\r\n",
        "a = []\r\n",
        "\r\n",
        "for i in range(1, 10001):\r\n",
        "  a.append(np.random.choice(height, 100).mean())\r\n",
        "\r\n",
        "s_avg = np.mean(a)    # a 리스트의 평균값을 s_avg 변수에 할당\r\n",
        "s_std = np.std(a)     # a 리스트의 표준편차값을 s_std 변수에 할당\r\n",
        "print(s_avg)\r\n",
        "print(s_std) "
      ],
      "execution_count": null,
      "outputs": [
        {
          "output_type": "stream",
          "text": [
            "140.00248141605698\n",
            "0.5008974318788333\n"
          ],
          "name": "stdout"
        }
      ]
    },
    {
      "cell_type": "markdown",
      "metadata": {
        "id": "R02iOC1MxnDS"
      },
      "source": [
        ""
      ]
    },
    {
      "cell_type": "markdown",
      "metadata": {
        "id": "t66lc4tzxm4k"
      },
      "source": [
        ""
      ]
    },
    {
      "cell_type": "markdown",
      "metadata": {
        "id": "s-Mwt86q1tM8"
      },
      "source": [
        "문제165. 초등학생 키 데이터를 138 부터 142까지 0.001 간격으로 생성해서 x 라는 변수에 넣으시오!\r\n"
      ]
    },
    {
      "cell_type": "code",
      "metadata": {
        "colab": {
          "base_uri": "https://localhost:8080/"
        },
        "id": "kvjnWpAI1vRv",
        "outputId": "f51141ca-0b2d-4306-9351-abdb0f97f7dd"
      },
      "source": [
        "x = np.arange(138, 142, 0.001)\r\n",
        "print(x)"
      ],
      "execution_count": null,
      "outputs": [
        {
          "output_type": "stream",
          "text": [
            "[138.    138.001 138.002 ... 141.997 141.998 141.999]\n"
          ],
          "name": "stdout"
        }
      ]
    },
    {
      "cell_type": "markdown",
      "metadata": {
        "id": "tJWwJI6pxoXJ"
      },
      "source": [
        ""
      ]
    },
    {
      "cell_type": "markdown",
      "metadata": {
        "id": "q4wukBKrxoIF"
      },
      "source": [
        ""
      ]
    },
    {
      "cell_type": "markdown",
      "metadata": {
        "id": "RAjo_Gxy2RZP"
      },
      "source": [
        "문제166. 위에서 만든 x 에 있는 키값들을 x 축으로 두고 확률 밀도함수 그래프를 생성하는데 y 축의 확률밀도함수값을 구할때 문제 164번에서 구한 평균값, 표준편차를 이용하시오~\r\n"
      ]
    },
    {
      "cell_type": "code",
      "metadata": {
        "colab": {
          "base_uri": "https://localhost:8080/",
          "height": 265
        },
        "id": "i7-M4mqT2TD5",
        "outputId": "d9a116f2-9fd8-41ae-c670-85d631eadf23"
      },
      "source": [
        "import numpy as np\r\n",
        "from scipy.stats import norm\r\n",
        "import matplotlib.pyplot as plt\r\n",
        "\r\n",
        "height = np.random.randn(10000000) * 5 + 140\r\n",
        "a = []\r\n",
        "\r\n",
        "for i in range(1, 10001):\r\n",
        "  a.append(np.random.choice(height, 100).mean())\r\n",
        "\r\n",
        "s_avg = np.mean(a)\r\n",
        "s_std = np.std(a)\r\n",
        "\r\n",
        "x = np.arange(138, 142, 0.001)\r\n",
        "y = norm.pdf( x, s_avg, s_std )\r\n",
        "\r\n",
        "plt.plot( x, y, color = 'blue' )\r\n",
        "plt.show()"
      ],
      "execution_count": null,
      "outputs": [
        {
          "output_type": "display_data",
          "data": {
            "image/png": "[encoded data removed]",
            "text/plain": [
              "<Figure size 432x288 with 1 Axes>"
            ]
          },
          "metadata": {
            "tags": [],
            "needs_background": "light"
          }
        }
      ]
    },
    {
      "cell_type": "markdown",
      "metadata": {
        "id": "CCBmb-6sxrN-"
      },
      "source": [
        ""
      ]
    },
    {
      "cell_type": "markdown",
      "metadata": {
        "id": "NtBIJ8__xq9R"
      },
      "source": [
        ""
      ]
    },
    {
      "cell_type": "markdown",
      "metadata": {
        "id": "DbLre8995h88"
      },
      "source": [
        "확률 밀도 함수의 확률 문제  \r\n",
        "어느 도시의 초등학생의 수는전체 10만명 입니다. 학생들의 평균키는 140 이고 표준편차는 5 입니다.   \r\n",
        "이 도시의 10만명의 초등학생 중 무작위로 한명을 추출했을때 이 어린이의 키가 145 ~ 150 \r\n",
        "(145 이상 ~ 150 미만) 사이에 있을  \r\n",
        "확률은 어떻게 될까요 ?\r\n",
        "\r\n",
        "답 :  0.135905121983278 에 근사"
      ]
    },
    {
      "cell_type": "code",
      "metadata": {
        "colab": {
          "base_uri": "https://localhost:8080/"
        },
        "id": "00T1RdeS5mkl",
        "outputId": "3bf7cbc3-5fec-4ec9-f04b-ecbd3cb845eb"
      },
      "source": [
        "import numpy as np\r\n",
        "\r\n",
        "height = np.random.randn(100000) * 5 + 140\r\n",
        "cnt = 0\r\n",
        "\r\n",
        "for i in range(1, 10001):\r\n",
        "  result = np.random.choice(height)\r\n",
        "  if 145 <= result < 150:\r\n",
        "    cnt += 1\r\n",
        "\r\n",
        "print(cnt/100000)"
      ],
      "execution_count": null,
      "outputs": [
        {
          "output_type": "stream",
          "text": [
            "0.01312\n"
          ],
          "name": "stdout"
        }
      ]
    }
  ]
}